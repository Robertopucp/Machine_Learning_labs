{
 "cells": [
  {
   "cell_type": "markdown",
   "metadata": {},
   "source": [
    "# Double check "
   ]
  },
  {
   "cell_type": "markdown",
   "metadata": {},
   "source": [
    "# R script is perfect!"
   ]
  },
  {
   "cell_type": "markdown",
   "metadata": {},
   "source": [
    "# R Basic Tutorial"
   ]
  },
  {
   "cell_type": "markdown",
   "metadata": {},
   "source": [
    "## Assignment\n",
    "Use `<-`, not `=`, for assignment.\n",
    "The symbol `=` is preferable for arguments in functions. Additionally, it can not be used in some syntax context. More information [here](https://stackoverflow.com/questions/1741820/what-are-the-differences-between-and-assignment-operators-in-r)."
   ]
  },
  {
   "cell_type": "code",
   "execution_count": 9,
   "metadata": {},
   "outputs": [],
   "source": [
    "a = 5\n",
    "b <- 5"
   ]
  },
  {
   "cell_type": "code",
   "execution_count": 10,
   "metadata": {},
   "outputs": [
    {
     "data": {
      "text/html": [
       "5"
      ],
      "text/latex": [
       "5"
      ],
      "text/markdown": [
       "5"
      ],
      "text/plain": [
       "[1] 5"
      ]
     },
     "metadata": {},
     "output_type": "display_data"
    }
   ],
   "source": [
    "a"
   ]
  },
  {
   "cell_type": "code",
   "execution_count": 11,
   "metadata": {},
   "outputs": [
    {
     "data": {
      "text/html": [
       "5"
      ],
      "text/latex": [
       "5"
      ],
      "text/markdown": [
       "5"
      ],
      "text/plain": [
       "[1] 5"
      ]
     },
     "metadata": {},
     "output_type": "display_data"
    }
   ],
   "source": [
    "b"
   ]
  },
  {
   "cell_type": "code",
   "execution_count": 12,
   "metadata": {},
   "outputs": [
    {
     "ename": "ERROR",
     "evalue": "Error in parse(text = x, srcfile = src): <text>:1:7: unexpected '='\n1: if (z =\n          ^\n",
     "output_type": "error",
     "traceback": [
      "Error in parse(text = x, srcfile = src): <text>:1:7: unexpected '='\n1: if (z =\n          ^\nTraceback:\n"
     ]
    }
   ],
   "source": [
    "if (z = 3 > 9) {\n",
    "    print('xsd')\n",
    "}"
   ]
  },
  {
   "cell_type": "code",
   "execution_count": 14,
   "metadata": {},
   "outputs": [
    {
     "name": "stdout",
     "output_type": "stream",
     "text": [
      "[1] \"xsd\"\n"
     ]
    }
   ],
   "source": [
    "if ((z <- 12) >= 9){\n",
    "    print('xsd')\n",
    "}"
   ]
  },
  {
   "cell_type": "markdown",
   "metadata": {},
   "source": [
    "## Objects"
   ]
  },
  {
   "cell_type": "markdown",
   "metadata": {},
   "source": [
    "### Clases\n",
    "\n",
    "R is a functional programming language. It means that the programs are constructed by applying and composing functions. However, It can use Object Oriented Programming to construct tools for data analysis. Class is the blueprint that helps to create an object and contains its member variable along with the attributes. We have two main classes: S3 and S4. [info](https://www.datacamp.com/community/tutorials/r-objects-and-classes)\n",
    "\n",
    "### Objects\n",
    "Objects are the instance of a class. It means that it has some methods that can act upon its attributes. In R, everything is an object. We will cover four main objects: vector, matrix, list and dataframes. All of them comes from a class."
   ]
  },
  {
   "cell_type": "markdown",
   "metadata": {},
   "source": [
    "#### Data Types\n",
    "There are four data types: `character`, `numeric`, `integer` and `boolean`."
   ]
  },
  {
   "cell_type": "code",
   "execution_count": 19,
   "metadata": {},
   "outputs": [
    {
     "name": "stdout",
     "output_type": "stream",
     "text": [
      "[1] \"character\"\n"
     ]
    }
   ],
   "source": [
    "a <- 'Hola'\n",
    "print(class( a ))"
   ]
  },
  {
   "cell_type": "code",
   "execution_count": 20,
   "metadata": {},
   "outputs": [
    {
     "name": "stdout",
     "output_type": "stream",
     "text": [
      "[1] \"numeric\"\n"
     ]
    },
    {
     "data": {
      "text/html": [
       "20.5"
      ],
      "text/latex": [
       "20.5"
      ],
      "text/markdown": [
       "20.5"
      ],
      "text/plain": [
       "[1] 20.5"
      ]
     },
     "metadata": {},
     "output_type": "display_data"
    }
   ],
   "source": [
    "b <- 20.5\n",
    "print(class( b ))\n",
    "b"
   ]
  },
  {
   "cell_type": "code",
   "execution_count": 24,
   "metadata": {},
   "outputs": [
    {
     "data": {
      "text/html": [
       "20"
      ],
      "text/latex": [
       "20"
      ],
      "text/markdown": [
       "20"
      ],
      "text/plain": [
       "[1] 20"
      ]
     },
     "metadata": {},
     "output_type": "display_data"
    },
    {
     "name": "stdout",
     "output_type": "stream",
     "text": [
      "[1] \"integer\"\n"
     ]
    }
   ],
   "source": [
    "c <- as.integer(20.5)\n",
    "c\n",
    "print(class( c ))\n"
   ]
  },
  {
   "cell_type": "code",
   "execution_count": 26,
   "metadata": {},
   "outputs": [
    {
     "name": "stdout",
     "output_type": "stream",
     "text": [
      "[1] \"logical\"\n"
     ]
    },
    {
     "data": {
      "text/html": [
       "TRUE"
      ],
      "text/latex": [
       "TRUE"
      ],
      "text/markdown": [
       "TRUE"
      ],
      "text/plain": [
       "[1] TRUE"
      ]
     },
     "metadata": {},
     "output_type": "display_data"
    }
   ],
   "source": [
    "log_true <- TRUE\n",
    "print(class( log_true ))\n",
    "log_true"
   ]
  },
  {
   "cell_type": "code",
   "execution_count": 30,
   "metadata": {},
   "outputs": [
    {
     "data": {
      "text/html": [
       "20.5"
      ],
      "text/latex": [
       "20.5"
      ],
      "text/markdown": [
       "20.5"
      ],
      "text/plain": [
       "[1] 20.5"
      ]
     },
     "metadata": {},
     "output_type": "display_data"
    }
   ],
   "source": [
    "b"
   ]
  },
  {
   "cell_type": "code",
   "execution_count": 32,
   "metadata": {},
   "outputs": [
    {
     "data": {
      "text/html": [
       "'double'"
      ],
      "text/latex": [
       "'double'"
      ],
      "text/markdown": [
       "'double'"
      ],
      "text/plain": [
       "[1] \"double\""
      ]
     },
     "metadata": {},
     "output_type": "display_data"
    },
    {
     "data": {
      "text/html": [
       "'numeric'"
      ],
      "text/latex": [
       "'numeric'"
      ],
      "text/markdown": [
       "'numeric'"
      ],
      "text/plain": [
       "[1] \"numeric\""
      ]
     },
     "metadata": {},
     "output_type": "display_data"
    }
   ],
   "source": [
    "# typeof helps us to understand how this object is store in memory.\n",
    "typeof(b)\n",
    "# Class helps us to understand the type of a object\n",
    "class(b)"
   ]
  },
  {
   "cell_type": "code",
   "execution_count": 35,
   "metadata": {},
   "outputs": [
    {
     "data": {
      "text/html": [
       "<ol>\n",
       "\t<li>'good'</li>\n",
       "\t<li>'bad'</li>\n",
       "\t<li>'ugly'</li>\n",
       "\t<li>'good'</li>\n",
       "\t<li>'bad'</li>\n",
       "\t<li>1</li>\n",
       "</ol>\n"
      ],
      "text/latex": [
       "\\begin{enumerate}\n",
       "\\item 'good'\n",
       "\\item 'bad'\n",
       "\\item 'ugly'\n",
       "\\item 'good'\n",
       "\\item 'bad'\n",
       "\\item 1\n",
       "\\end{enumerate}\n"
      ],
      "text/markdown": [
       "1. 'good'\n",
       "2. 'bad'\n",
       "3. 'ugly'\n",
       "4. 'good'\n",
       "5. 'bad'\n",
       "6. 1\n",
       "\n",
       "\n"
      ],
      "text/plain": [
       "[[1]]\n",
       "[1] \"good\"\n",
       "\n",
       "[[2]]\n",
       "[1] \"bad\"\n",
       "\n",
       "[[3]]\n",
       "[1] \"ugly\"\n",
       "\n",
       "[[4]]\n",
       "[1] \"good\"\n",
       "\n",
       "[[5]]\n",
       "[1] \"bad\"\n",
       "\n",
       "[[6]]\n",
       "[1] 1\n"
      ]
     },
     "metadata": {},
     "output_type": "display_data"
    }
   ],
   "source": [
    "list_1 <- list( \"good\", \"bad\", \"ugly\",\"good\", \"bad\", 1)\n",
    "list_1"
   ]
  },
  {
   "cell_type": "code",
   "execution_count": 39,
   "metadata": {},
   "outputs": [],
   "source": [
    "fac_2 <- factor( c( \"good\", \"bad\", \"ugly\",\"good\", \"bad\", \"ugly\", 5 ) )"
   ]
  },
  {
   "cell_type": "code",
   "execution_count": 40,
   "metadata": {},
   "outputs": [
    {
     "name": "stdout",
     "output_type": "stream",
     "text": [
      "[1] good bad  ugly good bad  ugly\n",
      "Levels: bad good ugly\n"
     ]
    },
    {
     "data": {
      "text/html": [
       "'factor'"
      ],
      "text/latex": [
       "'factor'"
      ],
      "text/markdown": [
       "'factor'"
      ],
      "text/plain": [
       "[1] \"factor\""
      ]
     },
     "metadata": {},
     "output_type": "display_data"
    }
   ],
   "source": [
    "fac <- factor( c( \"good\", \"bad\", \"ugly\",\"good\", \"bad\", \"ugly\" ) )\n",
    "print( fac )\n",
    "# Type of class\n",
    "class( fac )"
   ]
  },
  {
   "cell_type": "code",
   "execution_count": 41,
   "metadata": {},
   "outputs": [
    {
     "data": {
      "text/html": [
       "<style>\n",
       ".list-inline {list-style: none; margin:0; padding: 0}\n",
       ".list-inline>li {display: inline-block}\n",
       ".list-inline>li:not(:last-child)::after {content: \"\\00b7\"; padding: 0 .5ex}\n",
       "</style>\n",
       "<ol class=list-inline><li>'bad'</li><li>'good'</li><li>'ugly'</li></ol>\n"
      ],
      "text/latex": [
       "\\begin{enumerate*}\n",
       "\\item 'bad'\n",
       "\\item 'good'\n",
       "\\item 'ugly'\n",
       "\\end{enumerate*}\n"
      ],
      "text/markdown": [
       "1. 'bad'\n",
       "2. 'good'\n",
       "3. 'ugly'\n",
       "\n",
       "\n"
      ],
      "text/plain": [
       "[1] \"bad\"  \"good\" \"ugly\""
      ]
     },
     "metadata": {},
     "output_type": "display_data"
    },
    {
     "data": {
      "text/html": [
       "3"
      ],
      "text/latex": [
       "3"
      ],
      "text/markdown": [
       "3"
      ],
      "text/plain": [
       "[1] 3"
      ]
     },
     "metadata": {},
     "output_type": "display_data"
    }
   ],
   "source": [
    "# Levels\n",
    "levels( fac )\n",
    "# Number of Levels\n",
    "nlevels( fac )"
   ]
  },
  {
   "cell_type": "code",
   "execution_count": 42,
   "metadata": {},
   "outputs": [
    {
     "data": {
      "text/html": [
       "<style>\n",
       ".list-inline {list-style: none; margin:0; padding: 0}\n",
       ".list-inline>li {display: inline-block}\n",
       ".list-inline>li:not(:last-child)::after {content: \"\\00b7\"; padding: 0 .5ex}\n",
       "</style>\n",
       "<ol class=list-inline><li>'a'</li><li>'b'</li><li>'c'</li><li>'fac'</li><li>'fac_2'</li><li>'list_1'</li><li>'log_true'</li><li>'z'</li></ol>\n"
      ],
      "text/latex": [
       "\\begin{enumerate*}\n",
       "\\item 'a'\n",
       "\\item 'b'\n",
       "\\item 'c'\n",
       "\\item 'fac'\n",
       "\\item 'fac\\_2'\n",
       "\\item 'list\\_1'\n",
       "\\item 'log\\_true'\n",
       "\\item 'z'\n",
       "\\end{enumerate*}\n"
      ],
      "text/markdown": [
       "1. 'a'\n",
       "2. 'b'\n",
       "3. 'c'\n",
       "4. 'fac'\n",
       "5. 'fac_2'\n",
       "6. 'list_1'\n",
       "7. 'log_true'\n",
       "8. 'z'\n",
       "\n",
       "\n"
      ],
      "text/plain": [
       "[1] \"a\"        \"b\"        \"c\"        \"fac\"      \"fac_2\"    \"list_1\"   \"log_true\"\n",
       "[8] \"z\"       "
      ]
     },
     "metadata": {},
     "output_type": "display_data"
    }
   ],
   "source": [
    "# Check the variables that you defined\n",
    "ls()"
   ]
  },
  {
   "cell_type": "markdown",
   "metadata": {},
   "source": [
    "Basic data structures in R include the vector, list, matrix, data frame, and factors. Some of these structures require that all members be of the same data type (e.g. vectors, matrices) while others permit multiple data types (e.g. lists, data frames)."
   ]
  },
  {
   "cell_type": "markdown",
   "metadata": {},
   "source": [
    "#### Vectors\n",
    "This data structure requires that all members be of the same data type."
   ]
  },
  {
   "cell_type": "code",
   "execution_count": 49,
   "metadata": {},
   "outputs": [
    {
     "name": "stdout",
     "output_type": "stream",
     "text": [
      "[1] \"character\"\n",
      "[1] TRUE\n",
      "[1] 5\n"
     ]
    }
   ],
   "source": [
    "vec_str <-  c( \"good\", \"bad\", \"ugly\",\"good\", \"bad\")\n",
    "print( class( vec_str ) )\n",
    "print( is.vector( vec_str ) )\n",
    "print( length( vec_str ) )"
   ]
  },
  {
   "cell_type": "code",
   "execution_count": 50,
   "metadata": {},
   "outputs": [
    {
     "data": {
      "text/html": [
       "<style>\n",
       ".list-inline {list-style: none; margin:0; padding: 0}\n",
       ".list-inline>li {display: inline-block}\n",
       ".list-inline>li:not(:last-child)::after {content: \"\\00b7\"; padding: 0 .5ex}\n",
       "</style>\n",
       "<ol class=list-inline><li>2</li><li>3</li><li>4</li><li>5</li><li>6</li><li>4</li></ol>\n"
      ],
      "text/latex": [
       "\\begin{enumerate*}\n",
       "\\item 2\n",
       "\\item 3\n",
       "\\item 4\n",
       "\\item 5\n",
       "\\item 6\n",
       "\\item 4\n",
       "\\end{enumerate*}\n"
      ],
      "text/markdown": [
       "1. 2\n",
       "2. 3\n",
       "3. 4\n",
       "4. 5\n",
       "5. 6\n",
       "6. 4\n",
       "\n",
       "\n"
      ],
      "text/plain": [
       "[1] 2 3 4 5 6 4"
      ]
     },
     "metadata": {},
     "output_type": "display_data"
    }
   ],
   "source": [
    "vec <- c( 2 , 3 , 4 , 5 , 6 , 4 )\n",
    "vec "
   ]
  },
  {
   "cell_type": "code",
   "execution_count": 51,
   "metadata": {},
   "outputs": [
    {
     "name": "stdout",
     "output_type": "stream",
     "text": [
      "[1] \"numeric\"\n",
      "[1] TRUE\n",
      "[1] 6\n"
     ]
    }
   ],
   "source": [
    "print( class( vec ) )\n",
    "print( is.vector( vec ) )\n",
    "print( length( vec ) )"
   ]
  },
  {
   "cell_type": "code",
   "execution_count": 54,
   "metadata": {},
   "outputs": [
    {
     "data": {
      "text/html": [
       "<style>\n",
       ".list-inline {list-style: none; margin:0; padding: 0}\n",
       ".list-inline>li {display: inline-block}\n",
       ".list-inline>li:not(:last-child)::after {content: \"\\00b7\"; padding: 0 .5ex}\n",
       "</style>\n",
       "<ol class=list-inline><li>1</li><li>3</li><li>5</li><li>7</li><li>9</li><li>11</li><li>13</li><li>15</li><li>17</li><li>19</li></ol>\n"
      ],
      "text/latex": [
       "\\begin{enumerate*}\n",
       "\\item 1\n",
       "\\item 3\n",
       "\\item 5\n",
       "\\item 7\n",
       "\\item 9\n",
       "\\item 11\n",
       "\\item 13\n",
       "\\item 15\n",
       "\\item 17\n",
       "\\item 19\n",
       "\\end{enumerate*}\n"
      ],
      "text/markdown": [
       "1. 1\n",
       "2. 3\n",
       "3. 5\n",
       "4. 7\n",
       "5. 9\n",
       "6. 11\n",
       "7. 13\n",
       "8. 15\n",
       "9. 17\n",
       "10. 19\n",
       "\n",
       "\n"
      ],
      "text/plain": [
       " [1]  1  3  5  7  9 11 13 15 17 19"
      ]
     },
     "metadata": {},
     "output_type": "display_data"
    }
   ],
   "source": [
    "sec_1_20 <- seq(1,20, by=2)\n",
    "sec_1_20"
   ]
  },
  {
   "cell_type": "code",
   "execution_count": 56,
   "metadata": {},
   "outputs": [
    {
     "data": {
      "text/html": [
       "<style>\n",
       ".list-inline {list-style: none; margin:0; padding: 0}\n",
       ".list-inline>li {display: inline-block}\n",
       ".list-inline>li:not(:last-child)::after {content: \"\\00b7\"; padding: 0 .5ex}\n",
       "</style>\n",
       "<ol class=list-inline><li>1</li><li>3</li><li>5</li><li>7</li><li>9</li></ol>\n"
      ],
      "text/latex": [
       "\\begin{enumerate*}\n",
       "\\item 1\n",
       "\\item 3\n",
       "\\item 5\n",
       "\\item 7\n",
       "\\item 9\n",
       "\\end{enumerate*}\n"
      ],
      "text/markdown": [
       "1. 1\n",
       "2. 3\n",
       "3. 5\n",
       "4. 7\n",
       "5. 9\n",
       "\n",
       "\n"
      ],
      "text/plain": [
       "[1] 1 3 5 7 9"
      ]
     },
     "metadata": {},
     "output_type": "display_data"
    }
   ],
   "source": [
    "sec_1_9 <- seq(1,10, by = 2)\n",
    "sec_1_9"
   ]
  },
  {
   "cell_type": "code",
   "execution_count": 65,
   "metadata": {},
   "outputs": [
    {
     "data": {
      "text/html": [
       "<style>\n",
       ".list-inline {list-style: none; margin:0; padding: 0}\n",
       ".list-inline>li {display: inline-block}\n",
       ".list-inline>li:not(:last-child)::after {content: \"\\00b7\"; padding: 0 .5ex}\n",
       "</style>\n",
       "<ol class=list-inline><li>2</li><li>3</li><li>4</li><li>5</li><li>6</li><li>4</li></ol>\n"
      ],
      "text/latex": [
       "\\begin{enumerate*}\n",
       "\\item 2\n",
       "\\item 3\n",
       "\\item 4\n",
       "\\item 5\n",
       "\\item 6\n",
       "\\item 4\n",
       "\\end{enumerate*}\n"
      ],
      "text/markdown": [
       "1. 2\n",
       "2. 3\n",
       "3. 4\n",
       "4. 5\n",
       "5. 6\n",
       "6. 4\n",
       "\n",
       "\n"
      ],
      "text/plain": [
       "[1] 2 3 4 5 6 4"
      ]
     },
     "metadata": {},
     "output_type": "display_data"
    }
   ],
   "source": [
    "vec <- c( 2 , 3 , 4 , 5 , 6 , 4 )\n",
    "vec "
   ]
  },
  {
   "cell_type": "markdown",
   "metadata": {},
   "source": [
    "#### Indexing"
   ]
  },
  {
   "cell_type": "code",
   "execution_count": 63,
   "metadata": {},
   "outputs": [],
   "source": [
    "#index_vec <- vec[c(1, 2, 3)]"
   ]
  },
  {
   "cell_type": "code",
   "execution_count": 66,
   "metadata": {},
   "outputs": [
    {
     "data": {
      "text/html": [
       "<style>\n",
       ".list-inline {list-style: none; margin:0; padding: 0}\n",
       ".list-inline>li {display: inline-block}\n",
       ".list-inline>li:not(:last-child)::after {content: \"\\00b7\"; padding: 0 .5ex}\n",
       "</style>\n",
       "<ol class=list-inline><li>4</li><li>2</li><li>4</li><li>3</li></ol>\n"
      ],
      "text/latex": [
       "\\begin{enumerate*}\n",
       "\\item 4\n",
       "\\item 2\n",
       "\\item 4\n",
       "\\item 3\n",
       "\\end{enumerate*}\n"
      ],
      "text/markdown": [
       "1. 4\n",
       "2. 2\n",
       "3. 4\n",
       "4. 3\n",
       "\n",
       "\n"
      ],
      "text/plain": [
       "[1] 4 2 4 3"
      ]
     },
     "metadata": {},
     "output_type": "display_data"
    }
   ],
   "source": [
    "index_vec  <- vec[ c( 3, 1, 6, 2 ) ]\n",
    "index_vec"
   ]
  },
  {
   "cell_type": "code",
   "execution_count": 67,
   "metadata": {},
   "outputs": [
    {
     "name": "stdout",
     "output_type": "stream",
     "text": [
      "[1] 4 2 4 3\n",
      "[1] 4 2 3\n"
     ]
    }
   ],
   "source": [
    "print( index_vec )\n",
    "print( index_vec[ -3 ] )"
   ]
  },
  {
   "cell_type": "code",
   "execution_count": 68,
   "metadata": {},
   "outputs": [
    {
     "name": "stdout",
     "output_type": "stream",
     "text": [
      "[1] 2\n"
     ]
    }
   ],
   "source": [
    "print( index_vec[ index_vec < 3 ] )"
   ]
  },
  {
   "cell_type": "code",
   "execution_count": 71,
   "metadata": {},
   "outputs": [
    {
     "name": "stdout",
     "output_type": "stream",
     "text": [
      "[1] 2 4 3\n"
     ]
    }
   ],
   "source": [
    "print( index_vec[ 2:4 ] )"
   ]
  },
  {
   "cell_type": "markdown",
   "metadata": {},
   "source": [
    "#### Matrix\n",
    "This data structure requires that all members be of the same data type."
   ]
  },
  {
   "cell_type": "code",
   "execution_count": 74,
   "metadata": {},
   "outputs": [
    {
     "name": "stdout",
     "output_type": "stream",
     "text": [
      "     colA colB colC\n",
      "rowA    3    6    6\n",
      "rowB    5    7    3\n",
      "rowC    2    1    7\n"
     ]
    }
   ],
   "source": [
    "A = matrix( c(3, 5, 2, 6, 7, 1, 6, 3, 7 ) , nrow = 3, ncol = 3 , byrow = FALSE, \n",
    "            dimnames = list( c( \"rowA\" , \"rowB\" , \"rowC\" ), c( \"colA\" , \"colB\" , \"colC\" ) ) )\n",
    "print( A )"
   ]
  },
  {
   "cell_type": "code",
   "execution_count": 77,
   "metadata": {},
   "outputs": [
    {
     "data": {
      "text/html": [
       "<table class=\"dataframe\">\n",
       "<caption>A matrix: 3 × 3 of type dbl</caption>\n",
       "<thead>\n",
       "\t<tr><th></th><th scope=col>rowA</th><th scope=col>rowB</th><th scope=col>rowC</th></tr>\n",
       "</thead>\n",
       "<tbody>\n",
       "\t<tr><th scope=row>rowA</th><td>1</td><td>0</td><td>0</td></tr>\n",
       "\t<tr><th scope=row>rowB</th><td>0</td><td>1</td><td>0</td></tr>\n",
       "\t<tr><th scope=row>rowC</th><td>0</td><td>0</td><td>1</td></tr>\n",
       "</tbody>\n",
       "</table>\n"
      ],
      "text/latex": [
       "A matrix: 3 × 3 of type dbl\n",
       "\\begin{tabular}{r|lll}\n",
       "  & rowA & rowB & rowC\\\\\n",
       "\\hline\n",
       "\trowA & 1 & 0 & 0\\\\\n",
       "\trowB & 0 & 1 & 0\\\\\n",
       "\trowC & 0 & 0 & 1\\\\\n",
       "\\end{tabular}\n"
      ],
      "text/markdown": [
       "\n",
       "A matrix: 3 × 3 of type dbl\n",
       "\n",
       "| <!--/--> | rowA | rowB | rowC |\n",
       "|---|---|---|---|\n",
       "| rowA | 1 | 0 | 0 |\n",
       "| rowB | 0 | 1 | 0 |\n",
       "| rowC | 0 | 0 | 1 |\n",
       "\n"
      ],
      "text/plain": [
       "     rowA rowB rowC\n",
       "rowA 1    0    0   \n",
       "rowB 0    1    0   \n",
       "rowC 0    0    1   "
      ]
     },
     "metadata": {},
     "output_type": "display_data"
    }
   ],
   "source": [
    "# Solve for getting inverse matrix\n",
    "# %*% Matrix Multiplication\n",
    "# round output of the matrix\n",
    "B = round( A %*% solve( A ) , 2 )\n",
    "B"
   ]
  },
  {
   "cell_type": "code",
   "execution_count": 78,
   "metadata": {},
   "outputs": [
    {
     "name": "stdout",
     "output_type": "stream",
     "text": [
      "     rowA rowB rowC\n",
      "rowA    1    0    0\n",
      "rowB    0    1    0\n",
      "rowC    0    0    1\n",
      "rowA rowB rowC \n",
      "   1    1    1 \n",
      "     rowA rowB rowC\n",
      "colA    3    5    2\n",
      "colB    6    7    1\n",
      "colC    6    3    7\n"
     ]
    }
   ],
   "source": [
    "print( B )\n",
    "print( diag( B ) )\n",
    "print( t( A ) )"
   ]
  },
  {
   "cell_type": "markdown",
   "metadata": {},
   "source": [
    "#### Lists\n",
    "This data structure does not require that all members be of the same data type."
   ]
  },
  {
   "cell_type": "code",
   "execution_count": 86,
   "metadata": {},
   "outputs": [
    {
     "data": {
      "text/html": [
       "<style>\n",
       ".list-inline {list-style: none; margin:0; padding: 0}\n",
       ".list-inline>li {display: inline-block}\n",
       ".list-inline>li:not(:last-child)::after {content: \"\\00b7\"; padding: 0 .5ex}\n",
       "</style>\n",
       "<ol class=list-inline><li>'Real Madrid'</li><li>'AC Milan'</li><li>'Liverpool FC'</li></ol>\n"
      ],
      "text/latex": [
       "\\begin{enumerate*}\n",
       "\\item 'Real Madrid'\n",
       "\\item 'AC Milan'\n",
       "\\item 'Liverpool FC'\n",
       "\\end{enumerate*}\n"
      ],
      "text/markdown": [
       "1. 'Real Madrid'\n",
       "2. 'AC Milan'\n",
       "3. 'Liverpool FC'\n",
       "\n",
       "\n"
      ],
      "text/plain": [
       "[1] \"Real Madrid\"  \"AC Milan\"     \"Liverpool FC\""
      ]
     },
     "metadata": {},
     "output_type": "display_data"
    }
   ],
   "source": [
    "mylist <- list( num_UEFA = c( 13 , 7 , 6 ) , clubs = c( \"Real Madrid\" , \"AC Milan\" , \"Liverpool FC\" ) , \n",
    "               last_year = c( 2018 , 2007 , 2019 ) )\n",
    "\n"
   ]
  },
  {
   "cell_type": "code",
   "execution_count": 91,
   "metadata": {},
   "outputs": [
    {
     "data": {
      "text/html": [
       "<style>\n",
       ".list-inline {list-style: none; margin:0; padding: 0}\n",
       ".list-inline>li {display: inline-block}\n",
       ".list-inline>li:not(:last-child)::after {content: \"\\00b7\"; padding: 0 .5ex}\n",
       "</style>\n",
       "<ol class=list-inline><li>2018</li><li>2007</li><li>2019</li></ol>\n"
      ],
      "text/latex": [
       "\\begin{enumerate*}\n",
       "\\item 2018\n",
       "\\item 2007\n",
       "\\item 2019\n",
       "\\end{enumerate*}\n"
      ],
      "text/markdown": [
       "1. 2018\n",
       "2. 2007\n",
       "3. 2019\n",
       "\n",
       "\n"
      ],
      "text/plain": [
       "[1] 2018 2007 2019"
      ]
     },
     "metadata": {},
     "output_type": "display_data"
    }
   ],
   "source": [
    "# Indexing vectors\n",
    "mylist[[3]]"
   ]
  },
  {
   "cell_type": "code",
   "execution_count": 92,
   "metadata": {},
   "outputs": [
    {
     "data": {
      "text/html": [
       "<style>\n",
       ".list-inline {list-style: none; margin:0; padding: 0}\n",
       ".list-inline>li {display: inline-block}\n",
       ".list-inline>li:not(:last-child)::after {content: \"\\00b7\"; padding: 0 .5ex}\n",
       "</style>\n",
       "<ol class=list-inline><li>2007</li><li>2019</li></ol>\n"
      ],
      "text/latex": [
       "\\begin{enumerate*}\n",
       "\\item 2007\n",
       "\\item 2019\n",
       "\\end{enumerate*}\n"
      ],
      "text/markdown": [
       "1. 2007\n",
       "2. 2019\n",
       "\n",
       "\n"
      ],
      "text/plain": [
       "[1] 2007 2019"
      ]
     },
     "metadata": {},
     "output_type": "display_data"
    }
   ],
   "source": [
    "# Indexing group of vectors\n",
    "mylist[[3]][2:3]"
   ]
  },
  {
   "cell_type": "code",
   "execution_count": 94,
   "metadata": {},
   "outputs": [
    {
     "data": {
      "text/html": [
       "<strong>$last_year</strong> = <style>\n",
       ".list-inline {list-style: none; margin:0; padding: 0}\n",
       ".list-inline>li {display: inline-block}\n",
       ".list-inline>li:not(:last-child)::after {content: \"\\00b7\"; padding: 0 .5ex}\n",
       "</style>\n",
       "<ol class=list-inline><li>2018</li><li>2007</li><li>2019</li></ol>\n"
      ],
      "text/latex": [
       "\\textbf{\\$last\\_year} = \\begin{enumerate*}\n",
       "\\item 2018\n",
       "\\item 2007\n",
       "\\item 2019\n",
       "\\end{enumerate*}\n"
      ],
      "text/markdown": [
       "**$last_year** = 1. 2018\n",
       "2. 2007\n",
       "3. 2019\n",
       "\n",
       "\n"
      ],
      "text/plain": [
       "$last_year\n",
       "[1] 2018 2007 2019\n"
      ]
     },
     "metadata": {},
     "output_type": "display_data"
    }
   ],
   "source": [
    "# Indexing group of vectors\n",
    "mylist[3][1]"
   ]
  },
  {
   "cell_type": "markdown",
   "metadata": {},
   "source": [
    "#### DataFrame\n",
    "This data structure does not require that all members be of the same data type."
   ]
  },
  {
   "cell_type": "code",
   "execution_count": 95,
   "metadata": {},
   "outputs": [
    {
     "data": {
      "text/html": [
       "<table class=\"dataframe\">\n",
       "<caption>A data.frame: 8 × 4</caption>\n",
       "<thead>\n",
       "\t<tr><th scope=col>Student_Name</th><th scope=col>Age</th><th scope=col>Gender</th><th scope=col>GPA</th></tr>\n",
       "\t<tr><th scope=col>&lt;chr&gt;</th><th scope=col>&lt;dbl&gt;</th><th scope=col>&lt;chr&gt;</th><th scope=col>&lt;dbl&gt;</th></tr>\n",
       "</thead>\n",
       "<tbody>\n",
       "\t<tr><td>Amy   </td><td>27</td><td>F</td><td>3.26</td></tr>\n",
       "\t<tr><td>Bob   </td><td>55</td><td>M</td><td>3.75</td></tr>\n",
       "\t<tr><td>Chuck </td><td>34</td><td>M</td><td>2.98</td></tr>\n",
       "\t<tr><td>Daisy </td><td>42</td><td>F</td><td>3.40</td></tr>\n",
       "\t<tr><td>Ellie </td><td>20</td><td>F</td><td>2.75</td></tr>\n",
       "\t<tr><td>Frank </td><td>27</td><td>M</td><td>3.32</td></tr>\n",
       "\t<tr><td>George</td><td>34</td><td>M</td><td>3.68</td></tr>\n",
       "\t<tr><td>Helen </td><td>42</td><td>F</td><td>3.97</td></tr>\n",
       "</tbody>\n",
       "</table>\n"
      ],
      "text/latex": [
       "A data.frame: 8 × 4\n",
       "\\begin{tabular}{llll}\n",
       " Student\\_Name & Age & Gender & GPA\\\\\n",
       " <chr> & <dbl> & <chr> & <dbl>\\\\\n",
       "\\hline\n",
       "\t Amy    & 27 & F & 3.26\\\\\n",
       "\t Bob    & 55 & M & 3.75\\\\\n",
       "\t Chuck  & 34 & M & 2.98\\\\\n",
       "\t Daisy  & 42 & F & 3.40\\\\\n",
       "\t Ellie  & 20 & F & 2.75\\\\\n",
       "\t Frank  & 27 & M & 3.32\\\\\n",
       "\t George & 34 & M & 3.68\\\\\n",
       "\t Helen  & 42 & F & 3.97\\\\\n",
       "\\end{tabular}\n"
      ],
      "text/markdown": [
       "\n",
       "A data.frame: 8 × 4\n",
       "\n",
       "| Student_Name &lt;chr&gt; | Age &lt;dbl&gt; | Gender &lt;chr&gt; | GPA &lt;dbl&gt; |\n",
       "|---|---|---|---|\n",
       "| Amy    | 27 | F | 3.26 |\n",
       "| Bob    | 55 | M | 3.75 |\n",
       "| Chuck  | 34 | M | 2.98 |\n",
       "| Daisy  | 42 | F | 3.40 |\n",
       "| Ellie  | 20 | F | 2.75 |\n",
       "| Frank  | 27 | M | 3.32 |\n",
       "| George | 34 | M | 3.68 |\n",
       "| Helen  | 42 | F | 3.97 |\n",
       "\n"
      ],
      "text/plain": [
       "  Student_Name Age Gender GPA \n",
       "1 Amy          27  F      3.26\n",
       "2 Bob          55  M      3.75\n",
       "3 Chuck        34  M      2.98\n",
       "4 Daisy        42  F      3.40\n",
       "5 Ellie        20  F      2.75\n",
       "6 Frank        27  M      3.32\n",
       "7 George       34  M      3.68\n",
       "8 Helen        42  F      3.97"
      ]
     },
     "metadata": {},
     "output_type": "display_data"
    }
   ],
   "source": [
    "Student_Name <- c(\"Amy\", \"Bob\", \"Chuck\", \"Daisy\", \"Ellie\", \"Frank\", \n",
    "                  \"George\", \"Helen\")\n",
    "\n",
    "Age <- c(27, 55, 34, 42, 20, 27, 34, 42)\n",
    "\n",
    "Gender <- c(\"F\", \"M\", \"M\", \"F\", \"F\", \"M\", \"M\", \"F\")\n",
    "\n",
    "GPA <- c(3.26, 3.75, 2.98, 3.40, 2.75, 3.32, 3.68, 3.97)\n",
    "\n",
    "nsc <- data.frame(Student_Name, Age, Gender, GPA)   # Naming the data frame\n",
    "nsc # Generates the data frame"
   ]
  },
  {
   "cell_type": "code",
   "execution_count": 96,
   "metadata": {},
   "outputs": [
    {
     "data": {
      "text/html": [
       "<style>\n",
       ".list-inline {list-style: none; margin:0; padding: 0}\n",
       ".list-inline>li {display: inline-block}\n",
       ".list-inline>li:not(:last-child)::after {content: \"\\00b7\"; padding: 0 .5ex}\n",
       "</style>\n",
       "<ol class=list-inline><li>'Student_Name'</li><li>'Age'</li><li>'Gender'</li><li>'GPA'</li></ol>\n"
      ],
      "text/latex": [
       "\\begin{enumerate*}\n",
       "\\item 'Student\\_Name'\n",
       "\\item 'Age'\n",
       "\\item 'Gender'\n",
       "\\item 'GPA'\n",
       "\\end{enumerate*}\n"
      ],
      "text/markdown": [
       "1. 'Student_Name'\n",
       "2. 'Age'\n",
       "3. 'Gender'\n",
       "4. 'GPA'\n",
       "\n",
       "\n"
      ],
      "text/plain": [
       "[1] \"Student_Name\" \"Age\"          \"Gender\"       \"GPA\"         "
      ]
     },
     "metadata": {},
     "output_type": "display_data"
    }
   ],
   "source": [
    "# Lists variables\n",
    "names(nsc)   "
   ]
  },
  {
   "cell_type": "code",
   "execution_count": 104,
   "metadata": {},
   "outputs": [],
   "source": [
    "select_col <- c(1,3)\n",
    "select_row <- c(1,5)"
   ]
  },
  {
   "cell_type": "code",
   "execution_count": 106,
   "metadata": {},
   "outputs": [
    {
     "data": {
      "text/html": [
       "<table class=\"dataframe\">\n",
       "<caption>A data.frame: 2 × 2</caption>\n",
       "<thead>\n",
       "\t<tr><th></th><th scope=col>Student_Name</th><th scope=col>Gender</th></tr>\n",
       "\t<tr><th></th><th scope=col>&lt;chr&gt;</th><th scope=col>&lt;chr&gt;</th></tr>\n",
       "</thead>\n",
       "<tbody>\n",
       "\t<tr><th scope=row>1</th><td>Amy  </td><td>F</td></tr>\n",
       "\t<tr><th scope=row>5</th><td>Ellie</td><td>F</td></tr>\n",
       "</tbody>\n",
       "</table>\n"
      ],
      "text/latex": [
       "A data.frame: 2 × 2\n",
       "\\begin{tabular}{r|ll}\n",
       "  & Student\\_Name & Gender\\\\\n",
       "  & <chr> & <chr>\\\\\n",
       "\\hline\n",
       "\t1 & Amy   & F\\\\\n",
       "\t5 & Ellie & F\\\\\n",
       "\\end{tabular}\n"
      ],
      "text/markdown": [
       "\n",
       "A data.frame: 2 × 2\n",
       "\n",
       "| <!--/--> | Student_Name &lt;chr&gt; | Gender &lt;chr&gt; |\n",
       "|---|---|---|\n",
       "| 1 | Amy   | F |\n",
       "| 5 | Ellie | F |\n",
       "\n"
      ],
      "text/plain": [
       "  Student_Name Gender\n",
       "1 Amy          F     \n",
       "5 Ellie        F     "
      ]
     },
     "metadata": {},
     "output_type": "display_data"
    }
   ],
   "source": [
    "nsc[select_row, select_col]"
   ]
  },
  {
   "cell_type": "code",
   "execution_count": 107,
   "metadata": {},
   "outputs": [
    {
     "data": {
      "text/html": [
       "<table class=\"dataframe\">\n",
       "<caption>A data.frame: 3 × 3</caption>\n",
       "<thead>\n",
       "\t<tr><th></th><th scope=col>Age</th><th scope=col>Gender</th><th scope=col>GPA</th></tr>\n",
       "\t<tr><th></th><th scope=col>&lt;dbl&gt;</th><th scope=col>&lt;chr&gt;</th><th scope=col>&lt;dbl&gt;</th></tr>\n",
       "</thead>\n",
       "<tbody>\n",
       "\t<tr><th scope=row>3</th><td>34</td><td>M</td><td>2.98</td></tr>\n",
       "\t<tr><th scope=row>4</th><td>42</td><td>F</td><td>3.40</td></tr>\n",
       "\t<tr><th scope=row>5</th><td>20</td><td>F</td><td>2.75</td></tr>\n",
       "</tbody>\n",
       "</table>\n"
      ],
      "text/latex": [
       "A data.frame: 3 × 3\n",
       "\\begin{tabular}{r|lll}\n",
       "  & Age & Gender & GPA\\\\\n",
       "  & <dbl> & <chr> & <dbl>\\\\\n",
       "\\hline\n",
       "\t3 & 34 & M & 2.98\\\\\n",
       "\t4 & 42 & F & 3.40\\\\\n",
       "\t5 & 20 & F & 2.75\\\\\n",
       "\\end{tabular}\n"
      ],
      "text/markdown": [
       "\n",
       "A data.frame: 3 × 3\n",
       "\n",
       "| <!--/--> | Age &lt;dbl&gt; | Gender &lt;chr&gt; | GPA &lt;dbl&gt; |\n",
       "|---|---|---|---|\n",
       "| 3 | 34 | M | 2.98 |\n",
       "| 4 | 42 | F | 3.40 |\n",
       "| 5 | 20 | F | 2.75 |\n",
       "\n"
      ],
      "text/plain": [
       "  Age Gender GPA \n",
       "3 34  M      2.98\n",
       "4 42  F      3.40\n",
       "5 20  F      2.75"
      ]
     },
     "metadata": {},
     "output_type": "display_data"
    }
   ],
   "source": [
    "# indexing dataframes\n",
    "nsc[3:5 , 2:4]   "
   ]
  },
  {
   "cell_type": "code",
   "execution_count": 108,
   "metadata": {},
   "outputs": [
    {
     "data": {
      "text/html": [
       "<table class=\"dataframe\">\n",
       "<caption>A data.frame: 4 × 2</caption>\n",
       "<thead>\n",
       "\t<tr><th></th><th scope=col>Gender</th><th scope=col>Age</th></tr>\n",
       "\t<tr><th></th><th scope=col>&lt;chr&gt;</th><th scope=col>&lt;dbl&gt;</th></tr>\n",
       "</thead>\n",
       "<tbody>\n",
       "\t<tr><th scope=row>1</th><td>F</td><td>27</td></tr>\n",
       "\t<tr><th scope=row>2</th><td>M</td><td>55</td></tr>\n",
       "\t<tr><th scope=row>4</th><td>F</td><td>42</td></tr>\n",
       "\t<tr><th scope=row>6</th><td>M</td><td>27</td></tr>\n",
       "</tbody>\n",
       "</table>\n"
      ],
      "text/latex": [
       "A data.frame: 4 × 2\n",
       "\\begin{tabular}{r|ll}\n",
       "  & Gender & Age\\\\\n",
       "  & <chr> & <dbl>\\\\\n",
       "\\hline\n",
       "\t1 & F & 27\\\\\n",
       "\t2 & M & 55\\\\\n",
       "\t4 & F & 42\\\\\n",
       "\t6 & M & 27\\\\\n",
       "\\end{tabular}\n"
      ],
      "text/markdown": [
       "\n",
       "A data.frame: 4 × 2\n",
       "\n",
       "| <!--/--> | Gender &lt;chr&gt; | Age &lt;dbl&gt; |\n",
       "|---|---|---|\n",
       "| 1 | F | 27 |\n",
       "| 2 | M | 55 |\n",
       "| 4 | F | 42 |\n",
       "| 6 | M | 27 |\n",
       "\n"
      ],
      "text/plain": [
       "  Gender Age\n",
       "1 F      27 \n",
       "2 M      55 \n",
       "4 F      42 \n",
       "6 M      27 "
      ]
     },
     "metadata": {},
     "output_type": "display_data"
    }
   ],
   "source": [
    "# indexing dataframes\n",
    "nsc[ c( 1 , 2 , 4, 6 ) , c( 3 , 2 ) ]"
   ]
  },
  {
   "cell_type": "code",
   "execution_count": 110,
   "metadata": {},
   "outputs": [
    {
     "data": {
      "text/html": [
       "<style>\n",
       ".list-inline {list-style: none; margin:0; padding: 0}\n",
       ".list-inline>li {display: inline-block}\n",
       ".list-inline>li:not(:last-child)::after {content: \"\\00b7\"; padding: 0 .5ex}\n",
       "</style>\n",
       "<ol class=list-inline><li>'Amy'</li><li>'Bob'</li><li>'Chuck'</li><li>'Daisy'</li><li>'Ellie'</li><li>'Frank'</li><li>'George'</li><li>'Helen'</li></ol>\n"
      ],
      "text/latex": [
       "\\begin{enumerate*}\n",
       "\\item 'Amy'\n",
       "\\item 'Bob'\n",
       "\\item 'Chuck'\n",
       "\\item 'Daisy'\n",
       "\\item 'Ellie'\n",
       "\\item 'Frank'\n",
       "\\item 'George'\n",
       "\\item 'Helen'\n",
       "\\end{enumerate*}\n"
      ],
      "text/markdown": [
       "1. 'Amy'\n",
       "2. 'Bob'\n",
       "3. 'Chuck'\n",
       "4. 'Daisy'\n",
       "5. 'Ellie'\n",
       "6. 'Frank'\n",
       "7. 'George'\n",
       "8. 'Helen'\n",
       "\n",
       "\n"
      ],
      "text/plain": [
       "[1] \"Amy\"    \"Bob\"    \"Chuck\"  \"Daisy\"  \"Ellie\"  \"Frank\"  \"George\" \"Helen\" "
      ]
     },
     "metadata": {},
     "output_type": "display_data"
    }
   ],
   "source": [
    "nsc$Student_Name"
   ]
  },
  {
   "cell_type": "markdown",
   "metadata": {},
   "source": [
    "## Packages"
   ]
  },
  {
   "cell_type": "code",
   "execution_count": 137,
   "metadata": {},
   "outputs": [],
   "source": [
    "#install.packages( \"glmnet\" )"
   ]
  },
  {
   "cell_type": "code",
   "execution_count": 138,
   "metadata": {},
   "outputs": [],
   "source": [
    "library(glmnet)"
   ]
  },
  {
   "cell_type": "markdown",
   "metadata": {},
   "source": [
    "## Working with DataFrames"
   ]
  },
  {
   "cell_type": "code",
   "execution_count": 142,
   "metadata": {},
   "outputs": [
    {
     "data": {
      "text/html": [
       "<style>\n",
       ".list-inline {list-style: none; margin:0; padding: 0}\n",
       ".list-inline>li {display: inline-block}\n",
       ".list-inline>li:not(:last-child)::after {content: \"\\00b7\"; padding: 0 .5ex}\n",
       "</style>\n",
       "<ol class=list-inline><li>13913</li><li>23</li></ol>\n"
      ],
      "text/latex": [
       "\\begin{enumerate*}\n",
       "\\item 13913\n",
       "\\item 23\n",
       "\\end{enumerate*}\n"
      ],
      "text/markdown": [
       "1. 13913\n",
       "2. 23\n",
       "\n",
       "\n"
      ],
      "text/plain": [
       "[1] 13913    23"
      ]
     },
     "metadata": {},
     "output_type": "display_data"
    }
   ],
   "source": [
    "# #Downloading data from Dropbox link\n",
    "# download.file(\"https://www.dropbox.com/s/azntv5h351nq3c1/penn_jae.dat?dl=1\", \"penn_jae.dat\" )\n",
    "\n",
    "# Reading data and converting to dataframe\n",
    "Penn <- as.data.frame(read.table(\"penn_jae.dat\", header=T ))\n",
    "dim(Penn)"
   ]
  },
  {
   "cell_type": "code",
   "execution_count": 144,
   "metadata": {},
   "outputs": [],
   "source": [
    "#Number of rows\n",
    "n <- dim(Penn)[1]\n",
    "\n",
    "# Number of columns\n",
    "p_1 <- dim(Penn)[2]"
   ]
  },
  {
   "cell_type": "code",
   "execution_count": 145,
   "metadata": {},
   "outputs": [
    {
     "name": "stderr",
     "output_type": "stream",
     "text": [
      "The following objects are masked from Penn (pos = 6):\n",
      "\n",
      "    abdt, agegt54, agelt35, black, dep, durable, female, hispanic,\n",
      "    husd, inuidur1, inuidur2, lusd, muld, nondurable, othrace, q1, q2,\n",
      "    q3, q4, q5, q6, recall, tg\n",
      "\n",
      "\n",
      "The following objects are masked from Penn (pos = 9):\n",
      "\n",
      "    abdt, agegt54, agelt35, black, dep, durable, female, hispanic,\n",
      "    husd, inuidur1, inuidur2, lusd, muld, nondurable, othrace, q1, q2,\n",
      "    q3, q4, q5, q6, recall, tg\n",
      "\n",
      "\n",
      "The following objects are masked from Penn (pos = 10):\n",
      "\n",
      "    abdt, agegt54, agelt35, black, dep, durable, female, hispanic,\n",
      "    husd, inuidur1, inuidur2, lusd, muld, nondurable, othrace, q1, q2,\n",
      "    q3, q4, q5, q6, recall, tg\n",
      "\n",
      "\n"
     ]
    }
   ],
   "source": [
    "# Filtering data to tg==4 | tg==0\n",
    "Penn<- subset(Penn, tg==4 | tg==0)\n",
    "\n",
    "# we are making the columns of the data frame as vectors available with its own name\n",
    "attach(Penn)"
   ]
  },
  {
   "cell_type": "code",
   "execution_count": 148,
   "metadata": {},
   "outputs": [
    {
     "data": {
      "text/html": [
       "<style>\n",
       ".list-inline {list-style: none; margin:0; padding: 0}\n",
       ".list-inline>li {display: inline-block}\n",
       ".list-inline>li:not(:last-child)::after {content: \"\\00b7\"; padding: 0 .5ex}\n",
       "</style>\n",
       "<ol class=list-inline><li>FALSE</li><li>FALSE</li><li>FALSE</li><li>TRUE</li><li>FALSE</li><li>FALSE</li><li>FALSE</li><li>FALSE</li><li>FALSE</li><li>FALSE</li><li>FALSE</li><li>TRUE</li><li>FALSE</li><li>FALSE</li><li>TRUE</li><li>FALSE</li><li>FALSE</li><li>FALSE</li><li>FALSE</li><li>FALSE</li><li>FALSE</li><li>TRUE</li><li>FALSE</li><li>FALSE</li><li>TRUE</li><li>TRUE</li><li>TRUE</li><li>FALSE</li><li>FALSE</li><li>TRUE</li><li>FALSE</li><li>FALSE</li><li>TRUE</li><li>FALSE</li><li>TRUE</li><li>FALSE</li><li>FALSE</li><li>FALSE</li><li>FALSE</li><li>TRUE</li><li>FALSE</li><li>FALSE</li><li>FALSE</li><li>TRUE</li><li>FALSE</li><li>FALSE</li><li>FALSE</li><li>TRUE</li><li>TRUE</li><li>TRUE</li><li>FALSE</li><li>FALSE</li><li>FALSE</li><li>FALSE</li><li>FALSE</li><li>TRUE</li><li>FALSE</li><li>FALSE</li><li>TRUE</li><li>FALSE</li><li>FALSE</li><li>TRUE</li><li>FALSE</li><li>TRUE</li><li>FALSE</li><li>FALSE</li><li>TRUE</li><li>FALSE</li><li>TRUE</li><li>FALSE</li><li>FALSE</li><li>FALSE</li><li>FALSE</li><li>FALSE</li><li>FALSE</li><li>FALSE</li><li>FALSE</li><li>FALSE</li><li>FALSE</li><li>TRUE</li><li>TRUE</li><li>TRUE</li><li>TRUE</li><li>FALSE</li><li>FALSE</li><li>FALSE</li><li>FALSE</li><li>TRUE</li><li>TRUE</li><li>FALSE</li><li>TRUE</li><li>FALSE</li><li>FALSE</li><li>FALSE</li><li>TRUE</li><li>TRUE</li><li>FALSE</li><li>FALSE</li><li>FALSE</li><li>FALSE</li><li>TRUE</li><li>FALSE</li><li>FALSE</li><li>TRUE</li><li>FALSE</li><li>FALSE</li><li>FALSE</li><li>TRUE</li><li>TRUE</li><li>FALSE</li><li>FALSE</li><li>FALSE</li><li>FALSE</li><li>FALSE</li><li>TRUE</li><li>FALSE</li><li>FALSE</li><li>FALSE</li><li>TRUE</li><li>FALSE</li><li>FALSE</li><li>FALSE</li><li>FALSE</li><li>FALSE</li><li>FALSE</li><li>TRUE</li><li>TRUE</li><li>TRUE</li><li>FALSE</li><li>FALSE</li><li>FALSE</li><li>FALSE</li><li>FALSE</li><li>TRUE</li><li>TRUE</li><li>FALSE</li><li>FALSE</li><li>FALSE</li><li>FALSE</li><li>FALSE</li><li>TRUE</li><li>FALSE</li><li>TRUE</li><li>TRUE</li><li>TRUE</li><li>FALSE</li><li>TRUE</li><li>FALSE</li><li>FALSE</li><li>FALSE</li><li>FALSE</li><li>FALSE</li><li>FALSE</li><li>FALSE</li><li>FALSE</li><li>FALSE</li><li>FALSE</li><li>TRUE</li><li>FALSE</li><li>FALSE</li><li>FALSE</li><li>TRUE</li><li>TRUE</li><li>FALSE</li><li>FALSE</li><li>FALSE</li><li>FALSE</li><li>TRUE</li><li>TRUE</li><li>TRUE</li><li>FALSE</li><li>TRUE</li><li>FALSE</li><li>FALSE</li><li>FALSE</li><li>TRUE</li><li>FALSE</li><li>FALSE</li><li>FALSE</li><li>FALSE</li><li>FALSE</li><li>FALSE</li><li>FALSE</li><li>FALSE</li><li>FALSE</li><li>FALSE</li><li>FALSE</li><li>FALSE</li><li>FALSE</li><li>FALSE</li><li>FALSE</li><li>TRUE</li><li>FALSE</li><li>FALSE</li><li>FALSE</li><li>FALSE</li><li>FALSE</li><li>TRUE</li><li>TRUE</li><li>FALSE</li><li>...</li><li>TRUE</li><li>TRUE</li><li>TRUE</li><li>TRUE</li><li>FALSE</li><li>FALSE</li><li>FALSE</li><li>FALSE</li><li>FALSE</li><li>FALSE</li><li>FALSE</li><li>FALSE</li><li>TRUE</li><li>TRUE</li><li>TRUE</li><li>FALSE</li><li>TRUE</li><li>FALSE</li><li>TRUE</li><li>FALSE</li><li>FALSE</li><li>TRUE</li><li>FALSE</li><li>TRUE</li><li>FALSE</li><li>TRUE</li><li>TRUE</li><li>FALSE</li><li>FALSE</li><li>FALSE</li><li>FALSE</li><li>TRUE</li><li>FALSE</li><li>TRUE</li><li>FALSE</li><li>FALSE</li><li>TRUE</li><li>FALSE</li><li>FALSE</li><li>FALSE</li><li>TRUE</li><li>FALSE</li><li>TRUE</li><li>TRUE</li><li>FALSE</li><li>TRUE</li><li>FALSE</li><li>FALSE</li><li>FALSE</li><li>FALSE</li><li>FALSE</li><li>FALSE</li><li>TRUE</li><li>FALSE</li><li>FALSE</li><li>TRUE</li><li>FALSE</li><li>FALSE</li><li>TRUE</li><li>FALSE</li><li>FALSE</li><li>FALSE</li><li>TRUE</li><li>TRUE</li><li>TRUE</li><li>TRUE</li><li>FALSE</li><li>TRUE</li><li>FALSE</li><li>FALSE</li><li>FALSE</li><li>FALSE</li><li>FALSE</li><li>TRUE</li><li>FALSE</li><li>FALSE</li><li>TRUE</li><li>TRUE</li><li>FALSE</li><li>TRUE</li><li>TRUE</li><li>FALSE</li><li>FALSE</li><li>TRUE</li><li>FALSE</li><li>FALSE</li><li>TRUE</li><li>FALSE</li><li>FALSE</li><li>FALSE</li><li>FALSE</li><li>TRUE</li><li>FALSE</li><li>FALSE</li><li>TRUE</li><li>FALSE</li><li>TRUE</li><li>FALSE</li><li>FALSE</li><li>FALSE</li><li>FALSE</li><li>FALSE</li><li>FALSE</li><li>FALSE</li><li>FALSE</li><li>FALSE</li><li>FALSE</li><li>FALSE</li><li>TRUE</li><li>TRUE</li><li>FALSE</li><li>FALSE</li><li>FALSE</li><li>FALSE</li><li>FALSE</li><li>FALSE</li><li>FALSE</li><li>FALSE</li><li>TRUE</li><li>TRUE</li><li>FALSE</li><li>FALSE</li><li>FALSE</li><li>FALSE</li><li>FALSE</li><li>TRUE</li><li>FALSE</li><li>TRUE</li><li>TRUE</li><li>FALSE</li><li>FALSE</li><li>FALSE</li><li>FALSE</li><li>FALSE</li><li>FALSE</li><li>FALSE</li><li>FALSE</li><li>TRUE</li><li>FALSE</li><li>FALSE</li><li>TRUE</li><li>TRUE</li><li>FALSE</li><li>TRUE</li><li>TRUE</li><li>FALSE</li><li>FALSE</li><li>TRUE</li><li>TRUE</li><li>FALSE</li><li>FALSE</li><li>FALSE</li><li>FALSE</li><li>FALSE</li><li>FALSE</li><li>FALSE</li><li>FALSE</li><li>TRUE</li><li>FALSE</li><li>FALSE</li><li>TRUE</li><li>FALSE</li><li>FALSE</li><li>FALSE</li><li>FALSE</li><li>FALSE</li><li>FALSE</li><li>FALSE</li><li>FALSE</li><li>TRUE</li><li>FALSE</li><li>TRUE</li><li>TRUE</li><li>FALSE</li><li>FALSE</li><li>TRUE</li><li>FALSE</li><li>FALSE</li><li>TRUE</li><li>TRUE</li><li>FALSE</li><li>FALSE</li><li>FALSE</li><li>TRUE</li><li>TRUE</li><li>FALSE</li><li>FALSE</li><li>FALSE</li><li>FALSE</li><li>FALSE</li><li>TRUE</li><li>FALSE</li><li>FALSE</li><li>TRUE</li><li>FALSE</li><li>TRUE</li><li>TRUE</li><li>FALSE</li><li>TRUE</li><li>FALSE</li></ol>\n"
      ],
      "text/latex": [
       "\\begin{enumerate*}\n",
       "\\item FALSE\n",
       "\\item FALSE\n",
       "\\item FALSE\n",
       "\\item TRUE\n",
       "\\item FALSE\n",
       "\\item FALSE\n",
       "\\item FALSE\n",
       "\\item FALSE\n",
       "\\item FALSE\n",
       "\\item FALSE\n",
       "\\item FALSE\n",
       "\\item TRUE\n",
       "\\item FALSE\n",
       "\\item FALSE\n",
       "\\item TRUE\n",
       "\\item FALSE\n",
       "\\item FALSE\n",
       "\\item FALSE\n",
       "\\item FALSE\n",
       "\\item FALSE\n",
       "\\item FALSE\n",
       "\\item TRUE\n",
       "\\item FALSE\n",
       "\\item FALSE\n",
       "\\item TRUE\n",
       "\\item TRUE\n",
       "\\item TRUE\n",
       "\\item FALSE\n",
       "\\item FALSE\n",
       "\\item TRUE\n",
       "\\item FALSE\n",
       "\\item FALSE\n",
       "\\item TRUE\n",
       "\\item FALSE\n",
       "\\item TRUE\n",
       "\\item FALSE\n",
       "\\item FALSE\n",
       "\\item FALSE\n",
       "\\item FALSE\n",
       "\\item TRUE\n",
       "\\item FALSE\n",
       "\\item FALSE\n",
       "\\item FALSE\n",
       "\\item TRUE\n",
       "\\item FALSE\n",
       "\\item FALSE\n",
       "\\item FALSE\n",
       "\\item TRUE\n",
       "\\item TRUE\n",
       "\\item TRUE\n",
       "\\item FALSE\n",
       "\\item FALSE\n",
       "\\item FALSE\n",
       "\\item FALSE\n",
       "\\item FALSE\n",
       "\\item TRUE\n",
       "\\item FALSE\n",
       "\\item FALSE\n",
       "\\item TRUE\n",
       "\\item FALSE\n",
       "\\item FALSE\n",
       "\\item TRUE\n",
       "\\item FALSE\n",
       "\\item TRUE\n",
       "\\item FALSE\n",
       "\\item FALSE\n",
       "\\item TRUE\n",
       "\\item FALSE\n",
       "\\item TRUE\n",
       "\\item FALSE\n",
       "\\item FALSE\n",
       "\\item FALSE\n",
       "\\item FALSE\n",
       "\\item FALSE\n",
       "\\item FALSE\n",
       "\\item FALSE\n",
       "\\item FALSE\n",
       "\\item FALSE\n",
       "\\item FALSE\n",
       "\\item TRUE\n",
       "\\item TRUE\n",
       "\\item TRUE\n",
       "\\item TRUE\n",
       "\\item FALSE\n",
       "\\item FALSE\n",
       "\\item FALSE\n",
       "\\item FALSE\n",
       "\\item TRUE\n",
       "\\item TRUE\n",
       "\\item FALSE\n",
       "\\item TRUE\n",
       "\\item FALSE\n",
       "\\item FALSE\n",
       "\\item FALSE\n",
       "\\item TRUE\n",
       "\\item TRUE\n",
       "\\item FALSE\n",
       "\\item FALSE\n",
       "\\item FALSE\n",
       "\\item FALSE\n",
       "\\item TRUE\n",
       "\\item FALSE\n",
       "\\item FALSE\n",
       "\\item TRUE\n",
       "\\item FALSE\n",
       "\\item FALSE\n",
       "\\item FALSE\n",
       "\\item TRUE\n",
       "\\item TRUE\n",
       "\\item FALSE\n",
       "\\item FALSE\n",
       "\\item FALSE\n",
       "\\item FALSE\n",
       "\\item FALSE\n",
       "\\item TRUE\n",
       "\\item FALSE\n",
       "\\item FALSE\n",
       "\\item FALSE\n",
       "\\item TRUE\n",
       "\\item FALSE\n",
       "\\item FALSE\n",
       "\\item FALSE\n",
       "\\item FALSE\n",
       "\\item FALSE\n",
       "\\item FALSE\n",
       "\\item TRUE\n",
       "\\item TRUE\n",
       "\\item TRUE\n",
       "\\item FALSE\n",
       "\\item FALSE\n",
       "\\item FALSE\n",
       "\\item FALSE\n",
       "\\item FALSE\n",
       "\\item TRUE\n",
       "\\item TRUE\n",
       "\\item FALSE\n",
       "\\item FALSE\n",
       "\\item FALSE\n",
       "\\item FALSE\n",
       "\\item FALSE\n",
       "\\item TRUE\n",
       "\\item FALSE\n",
       "\\item TRUE\n",
       "\\item TRUE\n",
       "\\item TRUE\n",
       "\\item FALSE\n",
       "\\item TRUE\n",
       "\\item FALSE\n",
       "\\item FALSE\n",
       "\\item FALSE\n",
       "\\item FALSE\n",
       "\\item FALSE\n",
       "\\item FALSE\n",
       "\\item FALSE\n",
       "\\item FALSE\n",
       "\\item FALSE\n",
       "\\item FALSE\n",
       "\\item TRUE\n",
       "\\item FALSE\n",
       "\\item FALSE\n",
       "\\item FALSE\n",
       "\\item TRUE\n",
       "\\item TRUE\n",
       "\\item FALSE\n",
       "\\item FALSE\n",
       "\\item FALSE\n",
       "\\item FALSE\n",
       "\\item TRUE\n",
       "\\item TRUE\n",
       "\\item TRUE\n",
       "\\item FALSE\n",
       "\\item TRUE\n",
       "\\item FALSE\n",
       "\\item FALSE\n",
       "\\item FALSE\n",
       "\\item TRUE\n",
       "\\item FALSE\n",
       "\\item FALSE\n",
       "\\item FALSE\n",
       "\\item FALSE\n",
       "\\item FALSE\n",
       "\\item FALSE\n",
       "\\item FALSE\n",
       "\\item FALSE\n",
       "\\item FALSE\n",
       "\\item FALSE\n",
       "\\item FALSE\n",
       "\\item FALSE\n",
       "\\item FALSE\n",
       "\\item FALSE\n",
       "\\item FALSE\n",
       "\\item TRUE\n",
       "\\item FALSE\n",
       "\\item FALSE\n",
       "\\item FALSE\n",
       "\\item FALSE\n",
       "\\item FALSE\n",
       "\\item TRUE\n",
       "\\item TRUE\n",
       "\\item FALSE\n",
       "\\item ...\n",
       "\\item TRUE\n",
       "\\item TRUE\n",
       "\\item TRUE\n",
       "\\item TRUE\n",
       "\\item FALSE\n",
       "\\item FALSE\n",
       "\\item FALSE\n",
       "\\item FALSE\n",
       "\\item FALSE\n",
       "\\item FALSE\n",
       "\\item FALSE\n",
       "\\item FALSE\n",
       "\\item TRUE\n",
       "\\item TRUE\n",
       "\\item TRUE\n",
       "\\item FALSE\n",
       "\\item TRUE\n",
       "\\item FALSE\n",
       "\\item TRUE\n",
       "\\item FALSE\n",
       "\\item FALSE\n",
       "\\item TRUE\n",
       "\\item FALSE\n",
       "\\item TRUE\n",
       "\\item FALSE\n",
       "\\item TRUE\n",
       "\\item TRUE\n",
       "\\item FALSE\n",
       "\\item FALSE\n",
       "\\item FALSE\n",
       "\\item FALSE\n",
       "\\item TRUE\n",
       "\\item FALSE\n",
       "\\item TRUE\n",
       "\\item FALSE\n",
       "\\item FALSE\n",
       "\\item TRUE\n",
       "\\item FALSE\n",
       "\\item FALSE\n",
       "\\item FALSE\n",
       "\\item TRUE\n",
       "\\item FALSE\n",
       "\\item TRUE\n",
       "\\item TRUE\n",
       "\\item FALSE\n",
       "\\item TRUE\n",
       "\\item FALSE\n",
       "\\item FALSE\n",
       "\\item FALSE\n",
       "\\item FALSE\n",
       "\\item FALSE\n",
       "\\item FALSE\n",
       "\\item TRUE\n",
       "\\item FALSE\n",
       "\\item FALSE\n",
       "\\item TRUE\n",
       "\\item FALSE\n",
       "\\item FALSE\n",
       "\\item TRUE\n",
       "\\item FALSE\n",
       "\\item FALSE\n",
       "\\item FALSE\n",
       "\\item TRUE\n",
       "\\item TRUE\n",
       "\\item TRUE\n",
       "\\item TRUE\n",
       "\\item FALSE\n",
       "\\item TRUE\n",
       "\\item FALSE\n",
       "\\item FALSE\n",
       "\\item FALSE\n",
       "\\item FALSE\n",
       "\\item FALSE\n",
       "\\item TRUE\n",
       "\\item FALSE\n",
       "\\item FALSE\n",
       "\\item TRUE\n",
       "\\item TRUE\n",
       "\\item FALSE\n",
       "\\item TRUE\n",
       "\\item TRUE\n",
       "\\item FALSE\n",
       "\\item FALSE\n",
       "\\item TRUE\n",
       "\\item FALSE\n",
       "\\item FALSE\n",
       "\\item TRUE\n",
       "\\item FALSE\n",
       "\\item FALSE\n",
       "\\item FALSE\n",
       "\\item FALSE\n",
       "\\item TRUE\n",
       "\\item FALSE\n",
       "\\item FALSE\n",
       "\\item TRUE\n",
       "\\item FALSE\n",
       "\\item TRUE\n",
       "\\item FALSE\n",
       "\\item FALSE\n",
       "\\item FALSE\n",
       "\\item FALSE\n",
       "\\item FALSE\n",
       "\\item FALSE\n",
       "\\item FALSE\n",
       "\\item FALSE\n",
       "\\item FALSE\n",
       "\\item FALSE\n",
       "\\item FALSE\n",
       "\\item TRUE\n",
       "\\item TRUE\n",
       "\\item FALSE\n",
       "\\item FALSE\n",
       "\\item FALSE\n",
       "\\item FALSE\n",
       "\\item FALSE\n",
       "\\item FALSE\n",
       "\\item FALSE\n",
       "\\item FALSE\n",
       "\\item TRUE\n",
       "\\item TRUE\n",
       "\\item FALSE\n",
       "\\item FALSE\n",
       "\\item FALSE\n",
       "\\item FALSE\n",
       "\\item FALSE\n",
       "\\item TRUE\n",
       "\\item FALSE\n",
       "\\item TRUE\n",
       "\\item TRUE\n",
       "\\item FALSE\n",
       "\\item FALSE\n",
       "\\item FALSE\n",
       "\\item FALSE\n",
       "\\item FALSE\n",
       "\\item FALSE\n",
       "\\item FALSE\n",
       "\\item FALSE\n",
       "\\item TRUE\n",
       "\\item FALSE\n",
       "\\item FALSE\n",
       "\\item TRUE\n",
       "\\item TRUE\n",
       "\\item FALSE\n",
       "\\item TRUE\n",
       "\\item TRUE\n",
       "\\item FALSE\n",
       "\\item FALSE\n",
       "\\item TRUE\n",
       "\\item TRUE\n",
       "\\item FALSE\n",
       "\\item FALSE\n",
       "\\item FALSE\n",
       "\\item FALSE\n",
       "\\item FALSE\n",
       "\\item FALSE\n",
       "\\item FALSE\n",
       "\\item FALSE\n",
       "\\item TRUE\n",
       "\\item FALSE\n",
       "\\item FALSE\n",
       "\\item TRUE\n",
       "\\item FALSE\n",
       "\\item FALSE\n",
       "\\item FALSE\n",
       "\\item FALSE\n",
       "\\item FALSE\n",
       "\\item FALSE\n",
       "\\item FALSE\n",
       "\\item FALSE\n",
       "\\item TRUE\n",
       "\\item FALSE\n",
       "\\item TRUE\n",
       "\\item TRUE\n",
       "\\item FALSE\n",
       "\\item FALSE\n",
       "\\item TRUE\n",
       "\\item FALSE\n",
       "\\item FALSE\n",
       "\\item TRUE\n",
       "\\item TRUE\n",
       "\\item FALSE\n",
       "\\item FALSE\n",
       "\\item FALSE\n",
       "\\item TRUE\n",
       "\\item TRUE\n",
       "\\item FALSE\n",
       "\\item FALSE\n",
       "\\item FALSE\n",
       "\\item FALSE\n",
       "\\item FALSE\n",
       "\\item TRUE\n",
       "\\item FALSE\n",
       "\\item FALSE\n",
       "\\item TRUE\n",
       "\\item FALSE\n",
       "\\item TRUE\n",
       "\\item TRUE\n",
       "\\item FALSE\n",
       "\\item TRUE\n",
       "\\item FALSE\n",
       "\\end{enumerate*}\n"
      ],
      "text/markdown": [
       "1. FALSE\n",
       "2. FALSE\n",
       "3. FALSE\n",
       "4. TRUE\n",
       "5. FALSE\n",
       "6. FALSE\n",
       "7. FALSE\n",
       "8. FALSE\n",
       "9. FALSE\n",
       "10. FALSE\n",
       "11. FALSE\n",
       "12. TRUE\n",
       "13. FALSE\n",
       "14. FALSE\n",
       "15. TRUE\n",
       "16. FALSE\n",
       "17. FALSE\n",
       "18. FALSE\n",
       "19. FALSE\n",
       "20. FALSE\n",
       "21. FALSE\n",
       "22. TRUE\n",
       "23. FALSE\n",
       "24. FALSE\n",
       "25. TRUE\n",
       "26. TRUE\n",
       "27. TRUE\n",
       "28. FALSE\n",
       "29. FALSE\n",
       "30. TRUE\n",
       "31. FALSE\n",
       "32. FALSE\n",
       "33. TRUE\n",
       "34. FALSE\n",
       "35. TRUE\n",
       "36. FALSE\n",
       "37. FALSE\n",
       "38. FALSE\n",
       "39. FALSE\n",
       "40. TRUE\n",
       "41. FALSE\n",
       "42. FALSE\n",
       "43. FALSE\n",
       "44. TRUE\n",
       "45. FALSE\n",
       "46. FALSE\n",
       "47. FALSE\n",
       "48. TRUE\n",
       "49. TRUE\n",
       "50. TRUE\n",
       "51. FALSE\n",
       "52. FALSE\n",
       "53. FALSE\n",
       "54. FALSE\n",
       "55. FALSE\n",
       "56. TRUE\n",
       "57. FALSE\n",
       "58. FALSE\n",
       "59. TRUE\n",
       "60. FALSE\n",
       "61. FALSE\n",
       "62. TRUE\n",
       "63. FALSE\n",
       "64. TRUE\n",
       "65. FALSE\n",
       "66. FALSE\n",
       "67. TRUE\n",
       "68. FALSE\n",
       "69. TRUE\n",
       "70. FALSE\n",
       "71. FALSE\n",
       "72. FALSE\n",
       "73. FALSE\n",
       "74. FALSE\n",
       "75. FALSE\n",
       "76. FALSE\n",
       "77. FALSE\n",
       "78. FALSE\n",
       "79. FALSE\n",
       "80. TRUE\n",
       "81. TRUE\n",
       "82. TRUE\n",
       "83. TRUE\n",
       "84. FALSE\n",
       "85. FALSE\n",
       "86. FALSE\n",
       "87. FALSE\n",
       "88. TRUE\n",
       "89. TRUE\n",
       "90. FALSE\n",
       "91. TRUE\n",
       "92. FALSE\n",
       "93. FALSE\n",
       "94. FALSE\n",
       "95. TRUE\n",
       "96. TRUE\n",
       "97. FALSE\n",
       "98. FALSE\n",
       "99. FALSE\n",
       "100. FALSE\n",
       "101. TRUE\n",
       "102. FALSE\n",
       "103. FALSE\n",
       "104. TRUE\n",
       "105. FALSE\n",
       "106. FALSE\n",
       "107. FALSE\n",
       "108. TRUE\n",
       "109. TRUE\n",
       "110. FALSE\n",
       "111. FALSE\n",
       "112. FALSE\n",
       "113. FALSE\n",
       "114. FALSE\n",
       "115. TRUE\n",
       "116. FALSE\n",
       "117. FALSE\n",
       "118. FALSE\n",
       "119. TRUE\n",
       "120. FALSE\n",
       "121. FALSE\n",
       "122. FALSE\n",
       "123. FALSE\n",
       "124. FALSE\n",
       "125. FALSE\n",
       "126. TRUE\n",
       "127. TRUE\n",
       "128. TRUE\n",
       "129. FALSE\n",
       "130. FALSE\n",
       "131. FALSE\n",
       "132. FALSE\n",
       "133. FALSE\n",
       "134. TRUE\n",
       "135. TRUE\n",
       "136. FALSE\n",
       "137. FALSE\n",
       "138. FALSE\n",
       "139. FALSE\n",
       "140. FALSE\n",
       "141. TRUE\n",
       "142. FALSE\n",
       "143. TRUE\n",
       "144. TRUE\n",
       "145. TRUE\n",
       "146. FALSE\n",
       "147. TRUE\n",
       "148. FALSE\n",
       "149. FALSE\n",
       "150. FALSE\n",
       "151. FALSE\n",
       "152. FALSE\n",
       "153. FALSE\n",
       "154. FALSE\n",
       "155. FALSE\n",
       "156. FALSE\n",
       "157. FALSE\n",
       "158. TRUE\n",
       "159. FALSE\n",
       "160. FALSE\n",
       "161. FALSE\n",
       "162. TRUE\n",
       "163. TRUE\n",
       "164. FALSE\n",
       "165. FALSE\n",
       "166. FALSE\n",
       "167. FALSE\n",
       "168. TRUE\n",
       "169. TRUE\n",
       "170. TRUE\n",
       "171. FALSE\n",
       "172. TRUE\n",
       "173. FALSE\n",
       "174. FALSE\n",
       "175. FALSE\n",
       "176. TRUE\n",
       "177. FALSE\n",
       "178. FALSE\n",
       "179. FALSE\n",
       "180. FALSE\n",
       "181. FALSE\n",
       "182. FALSE\n",
       "183. FALSE\n",
       "184. FALSE\n",
       "185. FALSE\n",
       "186. FALSE\n",
       "187. FALSE\n",
       "188. FALSE\n",
       "189. FALSE\n",
       "190. FALSE\n",
       "191. FALSE\n",
       "192. TRUE\n",
       "193. FALSE\n",
       "194. FALSE\n",
       "195. FALSE\n",
       "196. FALSE\n",
       "197. FALSE\n",
       "198. TRUE\n",
       "199. TRUE\n",
       "200. FALSE\n",
       "201. ...\n",
       "202. TRUE\n",
       "203. TRUE\n",
       "204. TRUE\n",
       "205. TRUE\n",
       "206. FALSE\n",
       "207. FALSE\n",
       "208. FALSE\n",
       "209. FALSE\n",
       "210. FALSE\n",
       "211. FALSE\n",
       "212. FALSE\n",
       "213. FALSE\n",
       "214. TRUE\n",
       "215. TRUE\n",
       "216. TRUE\n",
       "217. FALSE\n",
       "218. TRUE\n",
       "219. FALSE\n",
       "220. TRUE\n",
       "221. FALSE\n",
       "222. FALSE\n",
       "223. TRUE\n",
       "224. FALSE\n",
       "225. TRUE\n",
       "226. FALSE\n",
       "227. TRUE\n",
       "228. TRUE\n",
       "229. FALSE\n",
       "230. FALSE\n",
       "231. FALSE\n",
       "232. FALSE\n",
       "233. TRUE\n",
       "234. FALSE\n",
       "235. TRUE\n",
       "236. FALSE\n",
       "237. FALSE\n",
       "238. TRUE\n",
       "239. FALSE\n",
       "240. FALSE\n",
       "241. FALSE\n",
       "242. TRUE\n",
       "243. FALSE\n",
       "244. TRUE\n",
       "245. TRUE\n",
       "246. FALSE\n",
       "247. TRUE\n",
       "248. FALSE\n",
       "249. FALSE\n",
       "250. FALSE\n",
       "251. FALSE\n",
       "252. FALSE\n",
       "253. FALSE\n",
       "254. TRUE\n",
       "255. FALSE\n",
       "256. FALSE\n",
       "257. TRUE\n",
       "258. FALSE\n",
       "259. FALSE\n",
       "260. TRUE\n",
       "261. FALSE\n",
       "262. FALSE\n",
       "263. FALSE\n",
       "264. TRUE\n",
       "265. TRUE\n",
       "266. TRUE\n",
       "267. TRUE\n",
       "268. FALSE\n",
       "269. TRUE\n",
       "270. FALSE\n",
       "271. FALSE\n",
       "272. FALSE\n",
       "273. FALSE\n",
       "274. FALSE\n",
       "275. TRUE\n",
       "276. FALSE\n",
       "277. FALSE\n",
       "278. TRUE\n",
       "279. TRUE\n",
       "280. FALSE\n",
       "281. TRUE\n",
       "282. TRUE\n",
       "283. FALSE\n",
       "284. FALSE\n",
       "285. TRUE\n",
       "286. FALSE\n",
       "287. FALSE\n",
       "288. TRUE\n",
       "289. FALSE\n",
       "290. FALSE\n",
       "291. FALSE\n",
       "292. FALSE\n",
       "293. TRUE\n",
       "294. FALSE\n",
       "295. FALSE\n",
       "296. TRUE\n",
       "297. FALSE\n",
       "298. TRUE\n",
       "299. FALSE\n",
       "300. FALSE\n",
       "301. FALSE\n",
       "302. FALSE\n",
       "303. FALSE\n",
       "304. FALSE\n",
       "305. FALSE\n",
       "306. FALSE\n",
       "307. FALSE\n",
       "308. FALSE\n",
       "309. FALSE\n",
       "310. TRUE\n",
       "311. TRUE\n",
       "312. FALSE\n",
       "313. FALSE\n",
       "314. FALSE\n",
       "315. FALSE\n",
       "316. FALSE\n",
       "317. FALSE\n",
       "318. FALSE\n",
       "319. FALSE\n",
       "320. TRUE\n",
       "321. TRUE\n",
       "322. FALSE\n",
       "323. FALSE\n",
       "324. FALSE\n",
       "325. FALSE\n",
       "326. FALSE\n",
       "327. TRUE\n",
       "328. FALSE\n",
       "329. TRUE\n",
       "330. TRUE\n",
       "331. FALSE\n",
       "332. FALSE\n",
       "333. FALSE\n",
       "334. FALSE\n",
       "335. FALSE\n",
       "336. FALSE\n",
       "337. FALSE\n",
       "338. FALSE\n",
       "339. TRUE\n",
       "340. FALSE\n",
       "341. FALSE\n",
       "342. TRUE\n",
       "343. TRUE\n",
       "344. FALSE\n",
       "345. TRUE\n",
       "346. TRUE\n",
       "347. FALSE\n",
       "348. FALSE\n",
       "349. TRUE\n",
       "350. TRUE\n",
       "351. FALSE\n",
       "352. FALSE\n",
       "353. FALSE\n",
       "354. FALSE\n",
       "355. FALSE\n",
       "356. FALSE\n",
       "357. FALSE\n",
       "358. FALSE\n",
       "359. TRUE\n",
       "360. FALSE\n",
       "361. FALSE\n",
       "362. TRUE\n",
       "363. FALSE\n",
       "364. FALSE\n",
       "365. FALSE\n",
       "366. FALSE\n",
       "367. FALSE\n",
       "368. FALSE\n",
       "369. FALSE\n",
       "370. FALSE\n",
       "371. TRUE\n",
       "372. FALSE\n",
       "373. TRUE\n",
       "374. TRUE\n",
       "375. FALSE\n",
       "376. FALSE\n",
       "377. TRUE\n",
       "378. FALSE\n",
       "379. FALSE\n",
       "380. TRUE\n",
       "381. TRUE\n",
       "382. FALSE\n",
       "383. FALSE\n",
       "384. FALSE\n",
       "385. TRUE\n",
       "386. TRUE\n",
       "387. FALSE\n",
       "388. FALSE\n",
       "389. FALSE\n",
       "390. FALSE\n",
       "391. FALSE\n",
       "392. TRUE\n",
       "393. FALSE\n",
       "394. FALSE\n",
       "395. TRUE\n",
       "396. FALSE\n",
       "397. TRUE\n",
       "398. TRUE\n",
       "399. FALSE\n",
       "400. TRUE\n",
       "401. FALSE\n",
       "\n",
       "\n"
      ],
      "text/plain": [
       "   [1] FALSE FALSE FALSE  TRUE FALSE FALSE FALSE FALSE FALSE FALSE FALSE  TRUE\n",
       "  [13] FALSE FALSE  TRUE FALSE FALSE FALSE FALSE FALSE FALSE  TRUE FALSE FALSE\n",
       "  [25]  TRUE  TRUE  TRUE FALSE FALSE  TRUE FALSE FALSE  TRUE FALSE  TRUE FALSE\n",
       "  [37] FALSE FALSE FALSE  TRUE FALSE FALSE FALSE  TRUE FALSE FALSE FALSE  TRUE\n",
       "  [49]  TRUE  TRUE FALSE FALSE FALSE FALSE FALSE  TRUE FALSE FALSE  TRUE FALSE\n",
       "  [61] FALSE  TRUE FALSE  TRUE FALSE FALSE  TRUE FALSE  TRUE FALSE FALSE FALSE\n",
       "  [73] FALSE FALSE FALSE FALSE FALSE FALSE FALSE  TRUE  TRUE  TRUE  TRUE FALSE\n",
       "  [85] FALSE FALSE FALSE  TRUE  TRUE FALSE  TRUE FALSE FALSE FALSE  TRUE  TRUE\n",
       "  [97] FALSE FALSE FALSE FALSE  TRUE FALSE FALSE  TRUE FALSE FALSE FALSE  TRUE\n",
       " [109]  TRUE FALSE FALSE FALSE FALSE FALSE  TRUE FALSE FALSE FALSE  TRUE FALSE\n",
       " [121] FALSE FALSE FALSE FALSE FALSE  TRUE  TRUE  TRUE FALSE FALSE FALSE FALSE\n",
       " [133] FALSE  TRUE  TRUE FALSE FALSE FALSE FALSE FALSE  TRUE FALSE  TRUE  TRUE\n",
       " [145]  TRUE FALSE  TRUE FALSE FALSE FALSE FALSE FALSE FALSE FALSE FALSE FALSE\n",
       " [157] FALSE  TRUE FALSE FALSE FALSE  TRUE  TRUE FALSE FALSE FALSE FALSE  TRUE\n",
       " [169]  TRUE  TRUE FALSE  TRUE FALSE FALSE FALSE  TRUE FALSE FALSE FALSE FALSE\n",
       " [181] FALSE FALSE FALSE FALSE FALSE FALSE FALSE FALSE FALSE FALSE FALSE  TRUE\n",
       " [193] FALSE FALSE FALSE FALSE FALSE  TRUE  TRUE FALSE FALSE  TRUE  TRUE FALSE\n",
       " [205] FALSE FALSE  TRUE FALSE FALSE FALSE FALSE FALSE FALSE FALSE FALSE FALSE\n",
       " [217]  TRUE FALSE FALSE  TRUE FALSE FALSE FALSE FALSE FALSE FALSE  TRUE FALSE\n",
       " [229] FALSE  TRUE FALSE FALSE FALSE  TRUE  TRUE FALSE  TRUE FALSE FALSE FALSE\n",
       " [241] FALSE  TRUE FALSE FALSE  TRUE FALSE FALSE FALSE  TRUE  TRUE FALSE FALSE\n",
       " [253] FALSE FALSE FALSE FALSE FALSE FALSE FALSE FALSE FALSE FALSE  TRUE FALSE\n",
       " [265] FALSE  TRUE FALSE FALSE FALSE  TRUE FALSE  TRUE FALSE  TRUE  TRUE FALSE\n",
       " [277]  TRUE FALSE  TRUE FALSE FALSE FALSE FALSE  TRUE  TRUE FALSE  TRUE FALSE\n",
       " [289] FALSE FALSE FALSE  TRUE FALSE FALSE FALSE FALSE FALSE  TRUE  TRUE FALSE\n",
       " [301] FALSE FALSE  TRUE FALSE FALSE  TRUE  TRUE FALSE FALSE FALSE FALSE FALSE\n",
       " [313]  TRUE FALSE  TRUE  TRUE FALSE FALSE FALSE  TRUE FALSE  TRUE FALSE FALSE\n",
       " [325]  TRUE FALSE  TRUE FALSE FALSE FALSE FALSE FALSE FALSE FALSE FALSE  TRUE\n",
       " [337]  TRUE  TRUE FALSE  TRUE FALSE FALSE FALSE FALSE FALSE FALSE FALSE FALSE\n",
       " [349]  TRUE FALSE  TRUE FALSE FALSE FALSE  TRUE  TRUE FALSE FALSE FALSE FALSE\n",
       " [361]  TRUE FALSE  TRUE  TRUE  TRUE  TRUE  TRUE FALSE FALSE FALSE  TRUE FALSE\n",
       " [373] FALSE FALSE FALSE FALSE  TRUE FALSE FALSE  TRUE FALSE FALSE FALSE  TRUE\n",
       " [385]  TRUE  TRUE  TRUE  TRUE  TRUE FALSE FALSE FALSE FALSE FALSE FALSE FALSE\n",
       " [397] FALSE  TRUE  TRUE FALSE FALSE FALSE  TRUE  TRUE FALSE FALSE FALSE  TRUE\n",
       " [409] FALSE  TRUE  TRUE FALSE FALSE  TRUE FALSE  TRUE  TRUE FALSE FALSE FALSE\n",
       " [421] FALSE FALSE FALSE  TRUE FALSE FALSE FALSE  TRUE FALSE  TRUE FALSE FALSE\n",
       " [433] FALSE FALSE FALSE FALSE FALSE FALSE  TRUE FALSE  TRUE FALSE  TRUE FALSE\n",
       " [445]  TRUE FALSE FALSE  TRUE  TRUE FALSE  TRUE FALSE FALSE  TRUE FALSE FALSE\n",
       " [457]  TRUE FALSE FALSE FALSE  TRUE FALSE FALSE FALSE FALSE FALSE FALSE FALSE\n",
       " [469]  TRUE FALSE FALSE  TRUE FALSE FALSE FALSE  TRUE FALSE FALSE FALSE FALSE\n",
       " [481]  TRUE  TRUE FALSE FALSE FALSE  TRUE FALSE FALSE FALSE  TRUE  TRUE  TRUE\n",
       " [493] FALSE  TRUE  TRUE  TRUE FALSE FALSE FALSE  TRUE FALSE FALSE  TRUE FALSE\n",
       " [505] FALSE  TRUE  TRUE  TRUE  TRUE FALSE FALSE FALSE  TRUE FALSE  TRUE FALSE\n",
       " [517]  TRUE  TRUE FALSE FALSE  TRUE  TRUE FALSE FALSE FALSE FALSE FALSE FALSE\n",
       " [529]  TRUE FALSE FALSE  TRUE FALSE FALSE FALSE  TRUE  TRUE  TRUE  TRUE FALSE\n",
       " [541] FALSE  TRUE FALSE FALSE FALSE  TRUE  TRUE  TRUE FALSE  TRUE  TRUE FALSE\n",
       " [553]  TRUE FALSE  TRUE FALSE  TRUE FALSE FALSE  TRUE FALSE FALSE  TRUE FALSE\n",
       " [565] FALSE FALSE FALSE FALSE  TRUE FALSE  TRUE FALSE FALSE FALSE FALSE FALSE\n",
       " [577]  TRUE  TRUE  TRUE  TRUE  TRUE  TRUE FALSE  TRUE FALSE FALSE FALSE  TRUE\n",
       " [589] FALSE FALSE FALSE FALSE  TRUE  TRUE FALSE  TRUE  TRUE FALSE FALSE FALSE\n",
       " [601] FALSE  TRUE FALSE  TRUE  TRUE FALSE FALSE  TRUE  TRUE  TRUE FALSE FALSE\n",
       " [613]  TRUE FALSE  TRUE  TRUE  TRUE FALSE FALSE  TRUE  TRUE FALSE FALSE  TRUE\n",
       " [625] FALSE  TRUE FALSE  TRUE  TRUE  TRUE  TRUE FALSE FALSE FALSE  TRUE  TRUE\n",
       " [637]  TRUE  TRUE FALSE  TRUE FALSE FALSE FALSE FALSE FALSE FALSE  TRUE  TRUE\n",
       " [649]  TRUE FALSE FALSE FALSE FALSE FALSE  TRUE FALSE FALSE  TRUE  TRUE FALSE\n",
       " [661]  TRUE FALSE FALSE  TRUE  TRUE FALSE FALSE  TRUE  TRUE FALSE FALSE FALSE\n",
       " [673] FALSE FALSE FALSE  TRUE  TRUE FALSE FALSE  TRUE FALSE FALSE  TRUE  TRUE\n",
       " [685] FALSE FALSE FALSE FALSE FALSE FALSE  TRUE FALSE FALSE FALSE  TRUE FALSE\n",
       " [697] FALSE  TRUE  TRUE FALSE FALSE FALSE FALSE FALSE FALSE FALSE FALSE FALSE\n",
       " [709] FALSE  TRUE  TRUE  TRUE FALSE FALSE  TRUE FALSE  TRUE FALSE FALSE FALSE\n",
       " [721] FALSE  TRUE FALSE FALSE  TRUE FALSE FALSE FALSE FALSE FALSE  TRUE FALSE\n",
       " [733] FALSE FALSE FALSE FALSE  TRUE FALSE FALSE FALSE FALSE FALSE FALSE FALSE\n",
       " [745] FALSE FALSE FALSE FALSE FALSE  TRUE FALSE FALSE  TRUE FALSE  TRUE FALSE\n",
       " [757] FALSE FALSE FALSE FALSE FALSE  TRUE FALSE  TRUE FALSE FALSE FALSE FALSE\n",
       " [769] FALSE FALSE FALSE  TRUE FALSE  TRUE FALSE FALSE FALSE FALSE FALSE FALSE\n",
       " [781] FALSE  TRUE FALSE FALSE FALSE  TRUE FALSE FALSE FALSE FALSE FALSE FALSE\n",
       " [793]  TRUE FALSE FALSE FALSE  TRUE FALSE FALSE FALSE FALSE FALSE FALSE FALSE\n",
       " [805]  TRUE  TRUE  TRUE  TRUE FALSE FALSE  TRUE FALSE  TRUE FALSE FALSE FALSE\n",
       " [817]  TRUE FALSE  TRUE  TRUE FALSE FALSE  TRUE  TRUE  TRUE  TRUE FALSE FALSE\n",
       " [829] FALSE  TRUE  TRUE  TRUE FALSE FALSE FALSE FALSE  TRUE FALSE FALSE FALSE\n",
       " [841] FALSE  TRUE FALSE FALSE FALSE  TRUE FALSE FALSE FALSE  TRUE FALSE FALSE\n",
       " [853]  TRUE FALSE FALSE  TRUE  TRUE FALSE FALSE FALSE  TRUE  TRUE FALSE FALSE\n",
       " [865]  TRUE FALSE  TRUE FALSE FALSE FALSE FALSE  TRUE  TRUE FALSE FALSE FALSE\n",
       " [877]  TRUE FALSE  TRUE  TRUE FALSE  TRUE FALSE  TRUE FALSE FALSE FALSE  TRUE\n",
       " [889]  TRUE  TRUE FALSE FALSE FALSE FALSE  TRUE  TRUE FALSE FALSE  TRUE FALSE\n",
       " [901] FALSE  TRUE FALSE  TRUE  TRUE FALSE  TRUE FALSE FALSE FALSE FALSE  TRUE\n",
       " [913]  TRUE  TRUE FALSE  TRUE FALSE FALSE FALSE FALSE FALSE  TRUE FALSE FALSE\n",
       " [925] FALSE  TRUE FALSE FALSE  TRUE FALSE  TRUE FALSE FALSE  TRUE  TRUE FALSE\n",
       " [937] FALSE  TRUE  TRUE FALSE FALSE FALSE  TRUE FALSE FALSE  TRUE FALSE FALSE\n",
       " [949] FALSE FALSE FALSE FALSE FALSE  TRUE  TRUE FALSE FALSE FALSE FALSE  TRUE\n",
       " [961]  TRUE  TRUE FALSE FALSE FALSE FALSE  TRUE FALSE FALSE FALSE FALSE FALSE\n",
       " [973] FALSE FALSE  TRUE FALSE FALSE FALSE FALSE FALSE  TRUE FALSE FALSE FALSE\n",
       " [985] FALSE  TRUE FALSE  TRUE FALSE  TRUE FALSE FALSE FALSE FALSE  TRUE FALSE\n",
       " [997]  TRUE  TRUE FALSE FALSE  TRUE  TRUE  TRUE FALSE  TRUE  TRUE FALSE FALSE\n",
       "[1009] FALSE FALSE  TRUE FALSE  TRUE FALSE FALSE FALSE  TRUE FALSE FALSE FALSE\n",
       "[1021] FALSE  TRUE  TRUE FALSE FALSE  TRUE  TRUE  TRUE FALSE FALSE FALSE FALSE\n",
       "[1033]  TRUE FALSE  TRUE FALSE  TRUE  TRUE FALSE  TRUE FALSE  TRUE  TRUE FALSE\n",
       "[1045] FALSE FALSE FALSE FALSE  TRUE FALSE  TRUE  TRUE FALSE FALSE  TRUE  TRUE\n",
       "[1057] FALSE FALSE FALSE  TRUE FALSE  TRUE FALSE  TRUE FALSE  TRUE  TRUE FALSE\n",
       "[1069]  TRUE FALSE FALSE  TRUE FALSE FALSE FALSE FALSE FALSE FALSE FALSE  TRUE\n",
       "[1081] FALSE FALSE FALSE  TRUE  TRUE  TRUE FALSE FALSE FALSE FALSE  TRUE FALSE\n",
       "[1093] FALSE FALSE FALSE FALSE FALSE FALSE  TRUE  TRUE FALSE  TRUE FALSE  TRUE\n",
       "[1105]  TRUE FALSE FALSE  TRUE FALSE FALSE  TRUE  TRUE  TRUE FALSE FALSE FALSE\n",
       "[1117] FALSE FALSE FALSE FALSE FALSE  TRUE FALSE FALSE FALSE  TRUE  TRUE  TRUE\n",
       "[1129] FALSE FALSE FALSE  TRUE  TRUE  TRUE  TRUE  TRUE FALSE FALSE FALSE  TRUE\n",
       "[1141]  TRUE FALSE FALSE FALSE FALSE  TRUE FALSE FALSE FALSE FALSE  TRUE FALSE\n",
       "[1153] FALSE FALSE FALSE  TRUE FALSE FALSE FALSE FALSE FALSE  TRUE FALSE  TRUE\n",
       "[1165] FALSE FALSE  TRUE  TRUE  TRUE  TRUE FALSE FALSE FALSE FALSE FALSE FALSE\n",
       "[1177]  TRUE  TRUE  TRUE  TRUE FALSE  TRUE FALSE FALSE FALSE FALSE FALSE FALSE\n",
       "[1189]  TRUE FALSE FALSE FALSE  TRUE  TRUE  TRUE  TRUE  TRUE FALSE FALSE FALSE\n",
       "[1201] FALSE FALSE FALSE FALSE FALSE  TRUE FALSE FALSE  TRUE  TRUE FALSE  TRUE\n",
       "[1213]  TRUE  TRUE  TRUE FALSE  TRUE FALSE  TRUE FALSE  TRUE FALSE  TRUE FALSE\n",
       "[1225] FALSE FALSE FALSE FALSE FALSE FALSE  TRUE FALSE FALSE  TRUE FALSE FALSE\n",
       "[1237] FALSE  TRUE  TRUE FALSE FALSE FALSE  TRUE FALSE FALSE FALSE FALSE  TRUE\n",
       "[1249]  TRUE  TRUE FALSE  TRUE FALSE FALSE FALSE FALSE FALSE  TRUE FALSE FALSE\n",
       "[1261]  TRUE FALSE FALSE FALSE FALSE FALSE FALSE FALSE  TRUE  TRUE FALSE  TRUE\n",
       "[1273]  TRUE  TRUE FALSE FALSE FALSE FALSE FALSE  TRUE FALSE FALSE  TRUE  TRUE\n",
       "[1285]  TRUE  TRUE FALSE  TRUE  TRUE  TRUE FALSE FALSE  TRUE FALSE FALSE  TRUE\n",
       "[1297] FALSE FALSE FALSE FALSE FALSE FALSE FALSE  TRUE  TRUE FALSE FALSE FALSE\n",
       "[1309]  TRUE  TRUE  TRUE FALSE FALSE  TRUE  TRUE FALSE FALSE FALSE FALSE FALSE\n",
       "[1321] FALSE  TRUE FALSE FALSE FALSE  TRUE  TRUE FALSE FALSE FALSE FALSE FALSE\n",
       "[1333]  TRUE  TRUE FALSE FALSE  TRUE FALSE  TRUE FALSE  TRUE FALSE FALSE  TRUE\n",
       "[1345]  TRUE FALSE  TRUE FALSE FALSE FALSE FALSE  TRUE  TRUE FALSE FALSE FALSE\n",
       "[1357] FALSE  TRUE FALSE  TRUE FALSE FALSE FALSE FALSE FALSE  TRUE  TRUE FALSE\n",
       "[1369] FALSE FALSE FALSE  TRUE  TRUE  TRUE FALSE  TRUE FALSE FALSE FALSE  TRUE\n",
       "[1381] FALSE FALSE FALSE FALSE FALSE FALSE  TRUE FALSE FALSE FALSE  TRUE FALSE\n",
       "[1393]  TRUE  TRUE FALSE FALSE  TRUE FALSE FALSE FALSE FALSE FALSE  TRUE  TRUE\n",
       "[1405]  TRUE FALSE  TRUE FALSE FALSE FALSE FALSE FALSE  TRUE FALSE  TRUE FALSE\n",
       "[1417] FALSE FALSE FALSE  TRUE FALSE FALSE FALSE FALSE  TRUE FALSE FALSE  TRUE\n",
       "[1429]  TRUE  TRUE FALSE FALSE FALSE FALSE FALSE  TRUE  TRUE  TRUE  TRUE FALSE\n",
       "[1441]  TRUE FALSE FALSE  TRUE  TRUE  TRUE FALSE FALSE  TRUE  TRUE FALSE FALSE\n",
       "[1453]  TRUE  TRUE FALSE  TRUE FALSE FALSE  TRUE  TRUE FALSE FALSE FALSE  TRUE\n",
       "[1465] FALSE  TRUE FALSE FALSE  TRUE  TRUE  TRUE FALSE  TRUE  TRUE  TRUE  TRUE\n",
       "[1477]  TRUE FALSE FALSE FALSE FALSE  TRUE  TRUE FALSE  TRUE FALSE FALSE FALSE\n",
       "[1489] FALSE  TRUE FALSE FALSE FALSE FALSE FALSE  TRUE  TRUE  TRUE FALSE  TRUE\n",
       "[1501] FALSE  TRUE  TRUE  TRUE FALSE  TRUE FALSE FALSE  TRUE  TRUE FALSE  TRUE\n",
       "[1513] FALSE FALSE FALSE  TRUE  TRUE FALSE FALSE FALSE FALSE  TRUE FALSE FALSE\n",
       "[1525]  TRUE FALSE  TRUE FALSE FALSE FALSE FALSE FALSE FALSE  TRUE FALSE  TRUE\n",
       "[1537]  TRUE FALSE  TRUE FALSE FALSE  TRUE  TRUE FALSE FALSE FALSE FALSE FALSE\n",
       "[1549]  TRUE FALSE FALSE FALSE FALSE  TRUE FALSE  TRUE FALSE FALSE FALSE FALSE\n",
       "[1561] FALSE FALSE FALSE  TRUE FALSE  TRUE  TRUE  TRUE  TRUE FALSE FALSE  TRUE\n",
       "[1573] FALSE FALSE FALSE  TRUE FALSE FALSE FALSE  TRUE  TRUE FALSE  TRUE  TRUE\n",
       "[1585] FALSE FALSE  TRUE FALSE FALSE FALSE FALSE  TRUE FALSE FALSE  TRUE  TRUE\n",
       "[1597] FALSE  TRUE  TRUE FALSE FALSE FALSE  TRUE  TRUE  TRUE  TRUE FALSE FALSE\n",
       "[1609]  TRUE FALSE FALSE  TRUE FALSE FALSE  TRUE FALSE FALSE FALSE FALSE FALSE\n",
       "[1621] FALSE FALSE FALSE FALSE FALSE  TRUE FALSE FALSE FALSE FALSE FALSE  TRUE\n",
       "[1633]  TRUE FALSE  TRUE FALSE FALSE FALSE FALSE  TRUE FALSE  TRUE FALSE FALSE\n",
       "[1645] FALSE FALSE FALSE FALSE FALSE FALSE FALSE FALSE FALSE  TRUE  TRUE FALSE\n",
       "[1657] FALSE FALSE FALSE FALSE FALSE  TRUE FALSE  TRUE FALSE  TRUE  TRUE  TRUE\n",
       "[1669] FALSE  TRUE  TRUE  TRUE FALSE FALSE FALSE FALSE FALSE FALSE FALSE FALSE\n",
       "[1681] FALSE FALSE FALSE  TRUE  TRUE  TRUE FALSE FALSE FALSE FALSE  TRUE FALSE\n",
       "[1693]  TRUE  TRUE FALSE  TRUE  TRUE FALSE FALSE  TRUE FALSE  TRUE FALSE FALSE\n",
       "[1705]  TRUE FALSE  TRUE FALSE  TRUE FALSE FALSE  TRUE FALSE FALSE FALSE  TRUE\n",
       "[1717] FALSE FALSE  TRUE FALSE FALSE  TRUE FALSE FALSE FALSE FALSE  TRUE  TRUE\n",
       "[1729] FALSE FALSE  TRUE FALSE FALSE  TRUE FALSE FALSE FALSE  TRUE FALSE  TRUE\n",
       "[1741] FALSE  TRUE FALSE FALSE FALSE FALSE FALSE FALSE FALSE FALSE FALSE FALSE\n",
       "[1753]  TRUE FALSE FALSE FALSE FALSE  TRUE FALSE  TRUE FALSE  TRUE  TRUE  TRUE\n",
       "[1765] FALSE FALSE FALSE FALSE FALSE  TRUE FALSE  TRUE FALSE FALSE FALSE FALSE\n",
       "[1777] FALSE FALSE FALSE  TRUE FALSE FALSE FALSE FALSE FALSE FALSE  TRUE  TRUE\n",
       "[1789] FALSE FALSE  TRUE FALSE FALSE FALSE FALSE FALSE FALSE  TRUE FALSE FALSE\n",
       "[1801]  TRUE FALSE FALSE  TRUE  TRUE FALSE FALSE FALSE FALSE FALSE FALSE FALSE\n",
       "[1813]  TRUE FALSE FALSE  TRUE FALSE FALSE  TRUE  TRUE  TRUE  TRUE FALSE  TRUE\n",
       "[1825] FALSE FALSE FALSE  TRUE  TRUE FALSE FALSE FALSE FALSE FALSE  TRUE FALSE\n",
       "[1837]  TRUE FALSE FALSE FALSE FALSE  TRUE FALSE FALSE  TRUE FALSE FALSE FALSE\n",
       "[1849] FALSE FALSE FALSE FALSE  TRUE  TRUE FALSE FALSE  TRUE FALSE  TRUE  TRUE\n",
       "[1861]  TRUE FALSE FALSE FALSE  TRUE FALSE FALSE FALSE FALSE FALSE FALSE FALSE\n",
       "[1873] FALSE  TRUE FALSE FALSE FALSE FALSE FALSE FALSE  TRUE  TRUE  TRUE FALSE\n",
       "[1885]  TRUE FALSE  TRUE FALSE FALSE FALSE  TRUE FALSE FALSE  TRUE FALSE FALSE\n",
       "[1897] FALSE FALSE  TRUE FALSE FALSE FALSE FALSE  TRUE  TRUE FALSE FALSE  TRUE\n",
       "[1909]  TRUE FALSE FALSE FALSE FALSE  TRUE  TRUE FALSE FALSE  TRUE FALSE FALSE\n",
       "[1921]  TRUE FALSE FALSE FALSE  TRUE FALSE FALSE  TRUE FALSE FALSE FALSE  TRUE\n",
       "[1933]  TRUE  TRUE FALSE FALSE FALSE FALSE FALSE  TRUE  TRUE  TRUE FALSE  TRUE\n",
       "[1945]  TRUE  TRUE FALSE FALSE FALSE FALSE  TRUE FALSE FALSE  TRUE FALSE FALSE\n",
       "[1957] FALSE FALSE  TRUE FALSE  TRUE FALSE  TRUE  TRUE  TRUE  TRUE FALSE  TRUE\n",
       "[1969] FALSE  TRUE FALSE  TRUE FALSE  TRUE  TRUE FALSE  TRUE FALSE  TRUE FALSE\n",
       "[1981] FALSE FALSE FALSE FALSE  TRUE FALSE FALSE  TRUE FALSE FALSE  TRUE FALSE\n",
       "[1993] FALSE FALSE FALSE FALSE FALSE FALSE  TRUE FALSE FALSE FALSE FALSE FALSE\n",
       "[2005]  TRUE FALSE FALSE FALSE FALSE  TRUE FALSE FALSE FALSE  TRUE  TRUE FALSE\n",
       "[2017] FALSE  TRUE FALSE  TRUE FALSE FALSE  TRUE FALSE FALSE FALSE FALSE  TRUE\n",
       "[2029] FALSE  TRUE FALSE FALSE FALSE FALSE FALSE FALSE  TRUE  TRUE FALSE  TRUE\n",
       "[2041] FALSE  TRUE FALSE  TRUE  TRUE FALSE FALSE FALSE FALSE FALSE FALSE FALSE\n",
       "[2053] FALSE FALSE  TRUE  TRUE FALSE  TRUE FALSE FALSE FALSE FALSE  TRUE FALSE\n",
       "[2065] FALSE FALSE  TRUE FALSE FALSE  TRUE FALSE FALSE  TRUE FALSE FALSE FALSE\n",
       "[2077] FALSE FALSE FALSE FALSE FALSE FALSE FALSE  TRUE  TRUE FALSE  TRUE FALSE\n",
       "[2089]  TRUE FALSE FALSE FALSE FALSE FALSE FALSE  TRUE FALSE FALSE  TRUE  TRUE\n",
       "[2101]  TRUE FALSE  TRUE FALSE FALSE FALSE  TRUE  TRUE  TRUE FALSE FALSE FALSE\n",
       "[2113] FALSE FALSE  TRUE  TRUE  TRUE FALSE FALSE FALSE  TRUE  TRUE  TRUE  TRUE\n",
       "[2125] FALSE FALSE FALSE FALSE FALSE  TRUE FALSE FALSE FALSE FALSE  TRUE FALSE\n",
       "[2137] FALSE FALSE  TRUE FALSE FALSE FALSE  TRUE FALSE FALSE FALSE  TRUE FALSE\n",
       "[2149] FALSE FALSE  TRUE  TRUE FALSE FALSE  TRUE FALSE FALSE  TRUE  TRUE  TRUE\n",
       "[2161]  TRUE FALSE FALSE FALSE FALSE FALSE FALSE  TRUE FALSE FALSE FALSE FALSE\n",
       "[2173] FALSE  TRUE  TRUE  TRUE FALSE  TRUE  TRUE FALSE FALSE FALSE FALSE  TRUE\n",
       "[2185] FALSE  TRUE FALSE  TRUE FALSE FALSE  TRUE FALSE FALSE FALSE FALSE  TRUE\n",
       "[2197] FALSE FALSE FALSE FALSE  TRUE FALSE FALSE  TRUE FALSE  TRUE  TRUE  TRUE\n",
       "[2209]  TRUE  TRUE  TRUE FALSE FALSE FALSE FALSE  TRUE FALSE FALSE FALSE FALSE\n",
       "[2221] FALSE FALSE  TRUE FALSE FALSE FALSE FALSE  TRUE  TRUE FALSE  TRUE FALSE\n",
       "[2233] FALSE FALSE FALSE  TRUE  TRUE FALSE FALSE FALSE FALSE FALSE  TRUE  TRUE\n",
       "[2245] FALSE FALSE FALSE FALSE FALSE FALSE FALSE  TRUE FALSE FALSE FALSE  TRUE\n",
       "[2257]  TRUE FALSE FALSE FALSE FALSE FALSE FALSE FALSE  TRUE  TRUE  TRUE FALSE\n",
       "[2269]  TRUE FALSE  TRUE FALSE FALSE  TRUE  TRUE FALSE  TRUE  TRUE  TRUE  TRUE\n",
       "[2281] FALSE FALSE FALSE FALSE FALSE FALSE FALSE FALSE FALSE FALSE  TRUE FALSE\n",
       "[2293]  TRUE FALSE  TRUE FALSE FALSE FALSE FALSE FALSE FALSE  TRUE FALSE  TRUE\n",
       "[2305] FALSE  TRUE FALSE FALSE FALSE FALSE  TRUE FALSE FALSE FALSE FALSE  TRUE\n",
       "[2317] FALSE  TRUE FALSE FALSE FALSE FALSE FALSE FALSE  TRUE FALSE  TRUE  TRUE\n",
       "[2329] FALSE  TRUE  TRUE  TRUE FALSE FALSE  TRUE FALSE  TRUE FALSE FALSE FALSE\n",
       "[2341] FALSE FALSE FALSE FALSE  TRUE FALSE FALSE  TRUE  TRUE FALSE  TRUE FALSE\n",
       "[2353]  TRUE  TRUE  TRUE FALSE FALSE FALSE FALSE  TRUE FALSE  TRUE FALSE FALSE\n",
       "[2365] FALSE  TRUE  TRUE FALSE  TRUE FALSE FALSE FALSE  TRUE FALSE FALSE FALSE\n",
       "[2377] FALSE FALSE FALSE FALSE  TRUE FALSE  TRUE  TRUE  TRUE FALSE  TRUE FALSE\n",
       "[2389] FALSE FALSE FALSE FALSE  TRUE  TRUE FALSE FALSE FALSE FALSE FALSE  TRUE\n",
       "[2401]  TRUE FALSE FALSE FALSE  TRUE  TRUE FALSE  TRUE FALSE FALSE  TRUE  TRUE\n",
       "[2413]  TRUE FALSE FALSE  TRUE FALSE FALSE  TRUE FALSE FALSE FALSE  TRUE FALSE\n",
       "[2425]  TRUE FALSE  TRUE  TRUE FALSE FALSE FALSE FALSE FALSE FALSE  TRUE  TRUE\n",
       "[2437]  TRUE FALSE  TRUE FALSE FALSE FALSE  TRUE FALSE  TRUE FALSE FALSE  TRUE\n",
       "[2449] FALSE FALSE  TRUE FALSE FALSE  TRUE FALSE  TRUE FALSE  TRUE  TRUE  TRUE\n",
       "[2461] FALSE FALSE  TRUE FALSE FALSE FALSE FALSE FALSE FALSE  TRUE  TRUE FALSE\n",
       "[2473] FALSE FALSE FALSE FALSE FALSE FALSE FALSE FALSE  TRUE  TRUE FALSE FALSE\n",
       "[2485] FALSE FALSE  TRUE FALSE FALSE FALSE FALSE FALSE  TRUE  TRUE  TRUE FALSE\n",
       "[2497] FALSE FALSE FALSE FALSE FALSE FALSE  TRUE FALSE FALSE FALSE FALSE FALSE\n",
       "[2509] FALSE FALSE  TRUE  TRUE  TRUE  TRUE FALSE  TRUE FALSE  TRUE  TRUE  TRUE\n",
       "[2521] FALSE FALSE FALSE FALSE FALSE FALSE FALSE  TRUE  TRUE  TRUE  TRUE  TRUE\n",
       "[2533] FALSE FALSE FALSE FALSE  TRUE FALSE FALSE FALSE FALSE  TRUE  TRUE FALSE\n",
       "[2545] FALSE  TRUE FALSE FALSE  TRUE  TRUE  TRUE FALSE FALSE  TRUE FALSE  TRUE\n",
       "[2557]  TRUE FALSE FALSE  TRUE FALSE  TRUE  TRUE FALSE FALSE  TRUE  TRUE FALSE\n",
       "[2569]  TRUE  TRUE FALSE FALSE FALSE FALSE FALSE  TRUE  TRUE  TRUE  TRUE  TRUE\n",
       "[2581] FALSE FALSE  TRUE FALSE FALSE FALSE FALSE FALSE  TRUE  TRUE FALSE  TRUE\n",
       "[2593] FALSE  TRUE FALSE FALSE  TRUE  TRUE FALSE FALSE FALSE  TRUE FALSE FALSE\n",
       "[2605] FALSE FALSE FALSE FALSE FALSE FALSE FALSE FALSE FALSE FALSE FALSE FALSE\n",
       "[2617] FALSE  TRUE FALSE FALSE  TRUE FALSE FALSE FALSE FALSE  TRUE FALSE FALSE\n",
       "[2629] FALSE  TRUE FALSE  TRUE FALSE  TRUE FALSE FALSE FALSE  TRUE FALSE FALSE\n",
       "[2641]  TRUE  TRUE FALSE  TRUE FALSE FALSE  TRUE  TRUE FALSE FALSE FALSE FALSE\n",
       "[2653] FALSE  TRUE FALSE FALSE  TRUE FALSE FALSE FALSE FALSE FALSE FALSE FALSE\n",
       "[2665] FALSE FALSE FALSE FALSE  TRUE FALSE  TRUE FALSE FALSE FALSE FALSE FALSE\n",
       "[2677]  TRUE  TRUE FALSE FALSE  TRUE FALSE FALSE FALSE FALSE FALSE FALSE  TRUE\n",
       "[2689] FALSE FALSE FALSE  TRUE  TRUE FALSE FALSE FALSE FALSE  TRUE FALSE  TRUE\n",
       "[2701] FALSE FALSE FALSE  TRUE FALSE FALSE FALSE  TRUE FALSE FALSE  TRUE FALSE\n",
       "[2713] FALSE FALSE  TRUE FALSE FALSE FALSE FALSE FALSE FALSE FALSE  TRUE FALSE\n",
       "[2725]  TRUE FALSE FALSE FALSE  TRUE FALSE  TRUE  TRUE  TRUE FALSE FALSE FALSE\n",
       "[2737]  TRUE  TRUE  TRUE FALSE  TRUE FALSE FALSE FALSE FALSE FALSE  TRUE  TRUE\n",
       "[2749]  TRUE FALSE  TRUE FALSE FALSE  TRUE FALSE  TRUE FALSE FALSE  TRUE  TRUE\n",
       "[2761] FALSE  TRUE  TRUE FALSE  TRUE  TRUE FALSE  TRUE  TRUE  TRUE FALSE FALSE\n",
       "[2773]  TRUE FALSE FALSE  TRUE FALSE FALSE FALSE FALSE FALSE FALSE FALSE FALSE\n",
       "[2785] FALSE FALSE FALSE  TRUE FALSE FALSE  TRUE FALSE FALSE FALSE FALSE  TRUE\n",
       "[2797]  TRUE FALSE FALSE FALSE FALSE FALSE FALSE  TRUE FALSE  TRUE FALSE FALSE\n",
       "[2809] FALSE FALSE FALSE  TRUE FALSE  TRUE FALSE FALSE FALSE  TRUE FALSE FALSE\n",
       "[2821]  TRUE FALSE FALSE  TRUE FALSE  TRUE  TRUE FALSE  TRUE FALSE FALSE FALSE\n",
       "[2833] FALSE FALSE  TRUE  TRUE FALSE  TRUE FALSE FALSE FALSE  TRUE  TRUE FALSE\n",
       "[2845]  TRUE  TRUE FALSE FALSE FALSE FALSE  TRUE  TRUE FALSE  TRUE  TRUE  TRUE\n",
       "[2857]  TRUE FALSE FALSE  TRUE  TRUE FALSE  TRUE FALSE  TRUE FALSE FALSE FALSE\n",
       "[2869]  TRUE FALSE  TRUE FALSE FALSE FALSE FALSE FALSE  TRUE  TRUE FALSE  TRUE\n",
       "[2881]  TRUE FALSE  TRUE FALSE  TRUE  TRUE FALSE FALSE FALSE  TRUE  TRUE FALSE\n",
       "[2893]  TRUE FALSE  TRUE  TRUE FALSE FALSE FALSE  TRUE  TRUE FALSE  TRUE FALSE\n",
       "[2905] FALSE FALSE  TRUE FALSE FALSE FALSE FALSE FALSE FALSE FALSE FALSE FALSE\n",
       "[2917] FALSE FALSE  TRUE FALSE FALSE FALSE  TRUE  TRUE FALSE FALSE FALSE  TRUE\n",
       "[2929]  TRUE  TRUE FALSE  TRUE  TRUE FALSE FALSE FALSE FALSE FALSE FALSE FALSE\n",
       "[2941]  TRUE  TRUE  TRUE FALSE FALSE  TRUE FALSE FALSE FALSE FALSE FALSE FALSE\n",
       "[2953]  TRUE FALSE  TRUE  TRUE FALSE  TRUE FALSE FALSE  TRUE  TRUE FALSE  TRUE\n",
       "[2965] FALSE FALSE FALSE  TRUE FALSE FALSE FALSE FALSE  TRUE FALSE FALSE FALSE\n",
       "[2977]  TRUE  TRUE  TRUE FALSE FALSE FALSE FALSE  TRUE FALSE FALSE FALSE FALSE\n",
       "[2989]  TRUE FALSE  TRUE FALSE FALSE  TRUE FALSE FALSE FALSE FALSE FALSE  TRUE\n",
       "[3001]  TRUE FALSE FALSE  TRUE  TRUE  TRUE FALSE  TRUE FALSE FALSE  TRUE FALSE\n",
       "[3013] FALSE FALSE FALSE  TRUE  TRUE FALSE  TRUE FALSE  TRUE  TRUE FALSE  TRUE\n",
       "[3025] FALSE FALSE FALSE  TRUE FALSE FALSE FALSE FALSE FALSE FALSE FALSE  TRUE\n",
       "[3037] FALSE FALSE FALSE FALSE FALSE FALSE FALSE  TRUE FALSE  TRUE FALSE FALSE\n",
       "[3049] FALSE FALSE  TRUE  TRUE FALSE FALSE FALSE FALSE FALSE FALSE FALSE FALSE\n",
       "[3061]  TRUE FALSE FALSE  TRUE FALSE FALSE FALSE FALSE FALSE  TRUE FALSE FALSE\n",
       "[3073]  TRUE FALSE FALSE FALSE FALSE FALSE FALSE FALSE FALSE FALSE FALSE  TRUE\n",
       "[3085] FALSE  TRUE FALSE FALSE  TRUE FALSE FALSE FALSE FALSE FALSE  TRUE FALSE\n",
       "[3097] FALSE  TRUE  TRUE  TRUE FALSE  TRUE FALSE FALSE FALSE FALSE  TRUE FALSE\n",
       "[3109] FALSE  TRUE FALSE  TRUE FALSE FALSE FALSE FALSE FALSE  TRUE FALSE FALSE\n",
       "[3121] FALSE  TRUE FALSE  TRUE FALSE FALSE  TRUE FALSE  TRUE FALSE  TRUE  TRUE\n",
       "[3133] FALSE FALSE FALSE FALSE  TRUE  TRUE FALSE FALSE FALSE  TRUE FALSE  TRUE\n",
       "[3145]  TRUE  TRUE FALSE  TRUE FALSE FALSE FALSE FALSE  TRUE FALSE FALSE FALSE\n",
       "[3157] FALSE  TRUE  TRUE  TRUE FALSE FALSE FALSE FALSE FALSE  TRUE FALSE FALSE\n",
       "[3169] FALSE FALSE  TRUE FALSE FALSE  TRUE FALSE  TRUE  TRUE FALSE FALSE FALSE\n",
       "[3181] FALSE FALSE FALSE FALSE FALSE  TRUE FALSE FALSE FALSE FALSE  TRUE FALSE\n",
       "[3193]  TRUE FALSE FALSE FALSE FALSE FALSE FALSE FALSE FALSE FALSE FALSE FALSE\n",
       "[3205]  TRUE  TRUE  TRUE  TRUE  TRUE  TRUE FALSE FALSE  TRUE FALSE FALSE FALSE\n",
       "[3217] FALSE FALSE FALSE FALSE  TRUE FALSE FALSE FALSE FALSE FALSE  TRUE FALSE\n",
       "[3229]  TRUE  TRUE FALSE FALSE FALSE FALSE FALSE FALSE FALSE  TRUE  TRUE FALSE\n",
       "[3241] FALSE FALSE FALSE FALSE  TRUE  TRUE  TRUE FALSE FALSE  TRUE FALSE FALSE\n",
       "[3253] FALSE  TRUE  TRUE FALSE  TRUE  TRUE FALSE  TRUE FALSE  TRUE  TRUE FALSE\n",
       "[3265] FALSE  TRUE FALSE FALSE  TRUE FALSE FALSE FALSE  TRUE  TRUE FALSE FALSE\n",
       "[3277]  TRUE  TRUE FALSE FALSE  TRUE  TRUE FALSE  TRUE FALSE  TRUE  TRUE  TRUE\n",
       "[3289]  TRUE  TRUE FALSE FALSE  TRUE FALSE FALSE  TRUE  TRUE FALSE FALSE  TRUE\n",
       "[3301] FALSE FALSE  TRUE FALSE FALSE FALSE FALSE FALSE FALSE FALSE  TRUE  TRUE\n",
       "[3313] FALSE  TRUE FALSE FALSE FALSE FALSE FALSE  TRUE FALSE FALSE FALSE FALSE\n",
       "[3325]  TRUE FALSE  TRUE FALSE  TRUE FALSE  TRUE  TRUE FALSE  TRUE  TRUE  TRUE\n",
       "[3337] FALSE FALSE FALSE  TRUE  TRUE FALSE FALSE  TRUE FALSE FALSE FALSE  TRUE\n",
       "[3349] FALSE FALSE FALSE  TRUE FALSE  TRUE  TRUE  TRUE  TRUE FALSE FALSE FALSE\n",
       "[3361] FALSE FALSE FALSE  TRUE  TRUE FALSE  TRUE FALSE FALSE FALSE  TRUE FALSE\n",
       "[3373] FALSE FALSE FALSE FALSE  TRUE FALSE  TRUE  TRUE FALSE FALSE FALSE FALSE\n",
       "[3385] FALSE FALSE  TRUE  TRUE FALSE  TRUE FALSE FALSE FALSE  TRUE FALSE FALSE\n",
       "[3397] FALSE FALSE FALSE  TRUE FALSE FALSE FALSE FALSE FALSE FALSE  TRUE  TRUE\n",
       "[3409] FALSE FALSE FALSE FALSE FALSE  TRUE FALSE FALSE FALSE  TRUE  TRUE FALSE\n",
       "[3421] FALSE FALSE FALSE FALSE FALSE FALSE FALSE FALSE  TRUE FALSE  TRUE FALSE\n",
       "[3433] FALSE  TRUE FALSE  TRUE FALSE  TRUE FALSE FALSE FALSE  TRUE  TRUE FALSE\n",
       "[3445] FALSE  TRUE FALSE  TRUE FALSE FALSE FALSE FALSE FALSE FALSE  TRUE  TRUE\n",
       "[3457] FALSE FALSE FALSE  TRUE FALSE  TRUE FALSE FALSE FALSE FALSE  TRUE  TRUE\n",
       "[3469] FALSE FALSE FALSE FALSE FALSE  TRUE  TRUE FALSE  TRUE FALSE FALSE FALSE\n",
       "[3481] FALSE  TRUE  TRUE  TRUE FALSE FALSE FALSE  TRUE FALSE  TRUE FALSE FALSE\n",
       "[3493] FALSE FALSE  TRUE  TRUE FALSE FALSE FALSE FALSE  TRUE  TRUE  TRUE FALSE\n",
       "[3505]  TRUE  TRUE FALSE FALSE FALSE FALSE FALSE FALSE FALSE  TRUE  TRUE FALSE\n",
       "[3517] FALSE  TRUE FALSE FALSE FALSE  TRUE FALSE FALSE FALSE FALSE  TRUE  TRUE\n",
       "[3529] FALSE  TRUE FALSE  TRUE  TRUE FALSE  TRUE FALSE FALSE  TRUE FALSE FALSE\n",
       "[3541] FALSE  TRUE  TRUE  TRUE FALSE FALSE  TRUE FALSE FALSE  TRUE  TRUE FALSE\n",
       "[3553]  TRUE FALSE FALSE FALSE FALSE FALSE  TRUE FALSE FALSE FALSE FALSE FALSE\n",
       "[3565]  TRUE FALSE  TRUE FALSE  TRUE FALSE FALSE FALSE FALSE FALSE FALSE FALSE\n",
       "[3577] FALSE FALSE  TRUE FALSE FALSE FALSE FALSE  TRUE FALSE FALSE FALSE FALSE\n",
       "[3589] FALSE  TRUE FALSE  TRUE FALSE FALSE FALSE FALSE  TRUE FALSE  TRUE  TRUE\n",
       "[3601] FALSE FALSE FALSE FALSE FALSE FALSE  TRUE FALSE FALSE FALSE FALSE FALSE\n",
       "[3613] FALSE FALSE  TRUE FALSE FALSE  TRUE  TRUE  TRUE FALSE  TRUE  TRUE  TRUE\n",
       "[3625]  TRUE FALSE FALSE FALSE  TRUE FALSE FALSE  TRUE  TRUE FALSE FALSE  TRUE\n",
       "[3637] FALSE FALSE  TRUE  TRUE FALSE FALSE FALSE FALSE  TRUE FALSE  TRUE  TRUE\n",
       "[3649] FALSE FALSE  TRUE  TRUE FALSE FALSE  TRUE FALSE FALSE FALSE  TRUE FALSE\n",
       "[3661]  TRUE FALSE  TRUE  TRUE FALSE  TRUE FALSE FALSE FALSE  TRUE  TRUE FALSE\n",
       "[3673]  TRUE FALSE FALSE  TRUE FALSE FALSE FALSE FALSE  TRUE  TRUE  TRUE FALSE\n",
       "[3685] FALSE  TRUE FALSE FALSE  TRUE  TRUE FALSE FALSE  TRUE  TRUE  TRUE  TRUE\n",
       "[3697]  TRUE FALSE FALSE FALSE FALSE FALSE  TRUE FALSE FALSE FALSE  TRUE  TRUE\n",
       "[3709] FALSE FALSE FALSE FALSE  TRUE  TRUE FALSE FALSE FALSE  TRUE FALSE  TRUE\n",
       "[3721]  TRUE FALSE FALSE FALSE FALSE FALSE FALSE FALSE  TRUE FALSE  TRUE FALSE\n",
       "[3733] FALSE FALSE FALSE FALSE FALSE  TRUE FALSE FALSE FALSE FALSE  TRUE  TRUE\n",
       "[3745] FALSE  TRUE  TRUE FALSE FALSE  TRUE FALSE  TRUE FALSE  TRUE FALSE FALSE\n",
       "[3757] FALSE FALSE FALSE FALSE  TRUE FALSE FALSE FALSE FALSE FALSE FALSE FALSE\n",
       "[3769] FALSE  TRUE  TRUE  TRUE FALSE FALSE FALSE FALSE  TRUE FALSE  TRUE  TRUE\n",
       "[3781]  TRUE FALSE FALSE  TRUE  TRUE FALSE FALSE FALSE FALSE FALSE FALSE FALSE\n",
       "[3793] FALSE FALSE FALSE FALSE FALSE FALSE FALSE FALSE  TRUE FALSE FALSE  TRUE\n",
       "[3805] FALSE FALSE FALSE FALSE  TRUE FALSE  TRUE FALSE FALSE  TRUE  TRUE FALSE\n",
       "[3817] FALSE  TRUE  TRUE FALSE FALSE FALSE  TRUE FALSE FALSE FALSE FALSE FALSE\n",
       "[3829]  TRUE FALSE  TRUE  TRUE  TRUE  TRUE FALSE FALSE FALSE FALSE  TRUE FALSE\n",
       "[3841] FALSE FALSE  TRUE FALSE  TRUE  TRUE  TRUE FALSE FALSE FALSE FALSE  TRUE\n",
       "[3853]  TRUE  TRUE  TRUE  TRUE  TRUE FALSE FALSE FALSE  TRUE  TRUE FALSE FALSE\n",
       "[3865] FALSE FALSE FALSE FALSE FALSE FALSE  TRUE FALSE FALSE  TRUE  TRUE  TRUE\n",
       "[3877] FALSE  TRUE FALSE FALSE FALSE FALSE FALSE FALSE FALSE FALSE FALSE  TRUE\n",
       "[3889] FALSE FALSE  TRUE  TRUE FALSE  TRUE  TRUE FALSE  TRUE FALSE  TRUE FALSE\n",
       "[3901] FALSE  TRUE FALSE FALSE FALSE FALSE  TRUE FALSE FALSE FALSE  TRUE FALSE\n",
       "[3913]  TRUE FALSE FALSE FALSE FALSE FALSE  TRUE FALSE FALSE  TRUE  TRUE  TRUE\n",
       "[3925] FALSE  TRUE FALSE  TRUE  TRUE FALSE FALSE  TRUE  TRUE FALSE  TRUE  TRUE\n",
       "[3937]  TRUE FALSE  TRUE FALSE FALSE FALSE  TRUE  TRUE FALSE  TRUE FALSE FALSE\n",
       "[3949] FALSE FALSE  TRUE FALSE FALSE  TRUE  TRUE FALSE FALSE FALSE FALSE FALSE\n",
       "[3961] FALSE FALSE  TRUE FALSE FALSE  TRUE FALSE FALSE FALSE  TRUE FALSE FALSE\n",
       "[3973] FALSE FALSE FALSE  TRUE FALSE FALSE FALSE  TRUE FALSE FALSE  TRUE  TRUE\n",
       "[3985] FALSE FALSE  TRUE FALSE FALSE FALSE FALSE FALSE FALSE FALSE  TRUE  TRUE\n",
       "[3997]  TRUE FALSE FALSE FALSE FALSE  TRUE FALSE FALSE  TRUE  TRUE FALSE  TRUE\n",
       "[4009] FALSE FALSE FALSE FALSE FALSE  TRUE FALSE  TRUE  TRUE FALSE FALSE FALSE\n",
       "[4021] FALSE  TRUE FALSE FALSE FALSE  TRUE FALSE FALSE FALSE FALSE FALSE  TRUE\n",
       "[4033] FALSE FALSE  TRUE FALSE FALSE FALSE FALSE  TRUE FALSE FALSE  TRUE FALSE\n",
       "[4045]  TRUE FALSE  TRUE  TRUE FALSE FALSE FALSE FALSE  TRUE FALSE FALSE FALSE\n",
       "[4057] FALSE FALSE  TRUE  TRUE FALSE FALSE FALSE FALSE  TRUE  TRUE  TRUE FALSE\n",
       "[4069] FALSE  TRUE FALSE FALSE  TRUE FALSE FALSE  TRUE FALSE  TRUE FALSE  TRUE\n",
       "[4081] FALSE  TRUE  TRUE FALSE  TRUE  TRUE FALSE  TRUE FALSE  TRUE FALSE FALSE\n",
       "[4093]  TRUE FALSE  TRUE FALSE FALSE  TRUE  TRUE  TRUE FALSE  TRUE FALSE FALSE\n",
       "[4105]  TRUE FALSE FALSE FALSE FALSE FALSE FALSE FALSE FALSE FALSE FALSE FALSE\n",
       "[4117] FALSE FALSE  TRUE  TRUE  TRUE FALSE FALSE FALSE  TRUE  TRUE FALSE FALSE\n",
       "[4129] FALSE FALSE FALSE FALSE FALSE  TRUE FALSE FALSE  TRUE FALSE FALSE  TRUE\n",
       "[4141] FALSE FALSE  TRUE  TRUE FALSE  TRUE  TRUE FALSE FALSE FALSE  TRUE FALSE\n",
       "[4153]  TRUE  TRUE FALSE  TRUE  TRUE FALSE  TRUE FALSE  TRUE FALSE FALSE  TRUE\n",
       "[4165]  TRUE FALSE FALSE FALSE  TRUE FALSE FALSE FALSE FALSE  TRUE  TRUE FALSE\n",
       "[4177]  TRUE FALSE FALSE FALSE FALSE FALSE FALSE FALSE FALSE  TRUE  TRUE  TRUE\n",
       "[4189] FALSE FALSE FALSE FALSE  TRUE  TRUE  TRUE FALSE FALSE FALSE FALSE FALSE\n",
       "[4201] FALSE  TRUE  TRUE  TRUE FALSE FALSE FALSE FALSE  TRUE FALSE FALSE FALSE\n",
       "[4213] FALSE FALSE FALSE FALSE FALSE FALSE FALSE  TRUE  TRUE  TRUE FALSE FALSE\n",
       "[4225] FALSE FALSE FALSE FALSE  TRUE FALSE FALSE  TRUE FALSE  TRUE  TRUE  TRUE\n",
       "[4237] FALSE FALSE  TRUE FALSE FALSE  TRUE FALSE FALSE FALSE FALSE  TRUE FALSE\n",
       "[4249] FALSE FALSE  TRUE  TRUE FALSE  TRUE  TRUE  TRUE  TRUE  TRUE  TRUE  TRUE\n",
       "[4261]  TRUE FALSE  TRUE FALSE FALSE FALSE FALSE FALSE FALSE FALSE FALSE FALSE\n",
       "[4273] FALSE FALSE  TRUE FALSE  TRUE FALSE FALSE FALSE FALSE  TRUE FALSE FALSE\n",
       "[4285] FALSE FALSE FALSE FALSE  TRUE FALSE FALSE FALSE FALSE FALSE FALSE  TRUE\n",
       "[4297] FALSE FALSE FALSE FALSE  TRUE FALSE FALSE FALSE  TRUE FALSE  TRUE  TRUE\n",
       "[4309] FALSE FALSE  TRUE FALSE  TRUE FALSE FALSE FALSE  TRUE FALSE  TRUE  TRUE\n",
       "[4321] FALSE FALSE FALSE  TRUE FALSE FALSE FALSE FALSE FALSE FALSE  TRUE FALSE\n",
       "[4333] FALSE FALSE  TRUE  TRUE  TRUE FALSE  TRUE FALSE FALSE  TRUE FALSE FALSE\n",
       "[4345] FALSE FALSE FALSE FALSE FALSE  TRUE  TRUE FALSE FALSE FALSE FALSE FALSE\n",
       "[4357]  TRUE FALSE  TRUE  TRUE FALSE FALSE FALSE FALSE FALSE FALSE  TRUE FALSE\n",
       "[4369] FALSE  TRUE  TRUE FALSE FALSE  TRUE  TRUE FALSE  TRUE FALSE FALSE FALSE\n",
       "[4381]  TRUE FALSE  TRUE FALSE FALSE FALSE FALSE  TRUE FALSE  TRUE  TRUE  TRUE\n",
       "[4393]  TRUE  TRUE  TRUE  TRUE FALSE FALSE FALSE  TRUE  TRUE FALSE FALSE FALSE\n",
       "[4405] FALSE FALSE FALSE  TRUE FALSE FALSE FALSE FALSE FALSE  TRUE  TRUE FALSE\n",
       "[4417]  TRUE FALSE FALSE FALSE  TRUE  TRUE FALSE FALSE FALSE FALSE FALSE  TRUE\n",
       "[4429] FALSE  TRUE FALSE  TRUE FALSE FALSE FALSE FALSE  TRUE FALSE FALSE FALSE\n",
       "[4441] FALSE  TRUE FALSE FALSE  TRUE FALSE FALSE FALSE FALSE FALSE FALSE FALSE\n",
       "[4453] FALSE FALSE FALSE  TRUE FALSE FALSE FALSE FALSE FALSE  TRUE FALSE  TRUE\n",
       "[4465] FALSE FALSE FALSE FALSE FALSE FALSE FALSE FALSE FALSE FALSE FALSE  TRUE\n",
       "[4477]  TRUE FALSE FALSE FALSE FALSE  TRUE FALSE  TRUE  TRUE FALSE  TRUE  TRUE\n",
       "[4489] FALSE FALSE FALSE FALSE FALSE FALSE FALSE FALSE  TRUE  TRUE FALSE FALSE\n",
       "[4501] FALSE FALSE FALSE  TRUE FALSE FALSE FALSE  TRUE  TRUE  TRUE  TRUE FALSE\n",
       "[4513] FALSE  TRUE FALSE FALSE FALSE  TRUE FALSE  TRUE FALSE  TRUE  TRUE  TRUE\n",
       "[4525] FALSE  TRUE  TRUE FALSE FALSE FALSE FALSE FALSE  TRUE FALSE  TRUE  TRUE\n",
       "[4537] FALSE FALSE FALSE FALSE  TRUE FALSE FALSE FALSE  TRUE  TRUE FALSE  TRUE\n",
       "[4549] FALSE FALSE FALSE FALSE  TRUE FALSE FALSE FALSE FALSE  TRUE FALSE FALSE\n",
       "[4561] FALSE FALSE  TRUE  TRUE FALSE FALSE  TRUE FALSE FALSE FALSE FALSE  TRUE\n",
       "[4573] FALSE FALSE FALSE  TRUE  TRUE  TRUE  TRUE FALSE FALSE FALSE FALSE FALSE\n",
       "[4585] FALSE FALSE FALSE FALSE FALSE  TRUE  TRUE FALSE  TRUE FALSE FALSE  TRUE\n",
       "[4597] FALSE FALSE FALSE FALSE FALSE  TRUE  TRUE  TRUE FALSE FALSE FALSE  TRUE\n",
       "[4609] FALSE  TRUE  TRUE  TRUE FALSE FALSE FALSE FALSE FALSE  TRUE FALSE FALSE\n",
       "[4621] FALSE FALSE FALSE FALSE FALSE FALSE FALSE FALSE FALSE FALSE FALSE FALSE\n",
       "[4633] FALSE FALSE FALSE  TRUE  TRUE FALSE  TRUE  TRUE  TRUE FALSE FALSE FALSE\n",
       "[4645]  TRUE FALSE FALSE  TRUE FALSE  TRUE FALSE FALSE FALSE FALSE FALSE FALSE\n",
       "[4657]  TRUE FALSE FALSE FALSE FALSE  TRUE FALSE  TRUE FALSE FALSE FALSE FALSE\n",
       "[4669]  TRUE FALSE  TRUE FALSE FALSE  TRUE  TRUE FALSE FALSE FALSE FALSE FALSE\n",
       "[4681] FALSE FALSE  TRUE FALSE  TRUE  TRUE  TRUE  TRUE FALSE FALSE  TRUE FALSE\n",
       "[4693]  TRUE  TRUE FALSE FALSE FALSE FALSE  TRUE  TRUE FALSE FALSE FALSE FALSE\n",
       "[4705] FALSE  TRUE  TRUE  TRUE FALSE FALSE  TRUE FALSE FALSE FALSE FALSE  TRUE\n",
       "[4717]  TRUE FALSE FALSE  TRUE FALSE FALSE FALSE FALSE FALSE FALSE FALSE FALSE\n",
       "[4729]  TRUE  TRUE  TRUE FALSE FALSE FALSE FALSE FALSE  TRUE FALSE FALSE  TRUE\n",
       "[4741]  TRUE FALSE FALSE  TRUE FALSE  TRUE  TRUE FALSE FALSE FALSE FALSE  TRUE\n",
       "[4753]  TRUE FALSE FALSE FALSE  TRUE FALSE FALSE FALSE  TRUE  TRUE  TRUE  TRUE\n",
       "[4765] FALSE FALSE FALSE FALSE FALSE FALSE FALSE FALSE FALSE  TRUE FALSE  TRUE\n",
       "[4777]  TRUE FALSE FALSE FALSE FALSE FALSE FALSE FALSE FALSE  TRUE FALSE  TRUE\n",
       "[4789]  TRUE  TRUE FALSE  TRUE FALSE FALSE FALSE FALSE FALSE FALSE FALSE FALSE\n",
       "[4801] FALSE FALSE FALSE  TRUE  TRUE FALSE  TRUE  TRUE FALSE FALSE FALSE FALSE\n",
       "[4813] FALSE FALSE  TRUE  TRUE  TRUE FALSE FALSE  TRUE FALSE FALSE FALSE  TRUE\n",
       "[4825] FALSE FALSE  TRUE FALSE FALSE FALSE FALSE FALSE  TRUE FALSE FALSE FALSE\n",
       "[4837] FALSE FALSE FALSE  TRUE FALSE  TRUE  TRUE FALSE  TRUE  TRUE FALSE FALSE\n",
       "[4849] FALSE FALSE  TRUE  TRUE  TRUE FALSE  TRUE FALSE  TRUE FALSE  TRUE FALSE\n",
       "[4861]  TRUE FALSE FALSE  TRUE  TRUE FALSE FALSE  TRUE FALSE  TRUE FALSE  TRUE\n",
       "[4873]  TRUE FALSE FALSE  TRUE  TRUE FALSE FALSE FALSE FALSE FALSE FALSE  TRUE\n",
       "[4885] FALSE  TRUE FALSE  TRUE FALSE FALSE  TRUE FALSE FALSE FALSE  TRUE FALSE\n",
       "[4897]  TRUE  TRUE FALSE  TRUE  TRUE  TRUE  TRUE FALSE FALSE FALSE FALSE FALSE\n",
       "[4909] FALSE FALSE FALSE  TRUE  TRUE  TRUE FALSE  TRUE FALSE  TRUE FALSE FALSE\n",
       "[4921]  TRUE FALSE  TRUE FALSE  TRUE  TRUE FALSE FALSE FALSE FALSE  TRUE FALSE\n",
       "[4933]  TRUE FALSE FALSE  TRUE FALSE FALSE FALSE  TRUE FALSE  TRUE  TRUE FALSE\n",
       "[4945]  TRUE FALSE FALSE FALSE FALSE FALSE FALSE  TRUE FALSE FALSE  TRUE FALSE\n",
       "[4957] FALSE  TRUE FALSE FALSE FALSE  TRUE  TRUE  TRUE  TRUE FALSE  TRUE FALSE\n",
       "[4969] FALSE FALSE FALSE FALSE  TRUE FALSE FALSE  TRUE  TRUE FALSE  TRUE  TRUE\n",
       "[4981] FALSE FALSE  TRUE FALSE FALSE  TRUE FALSE FALSE FALSE FALSE  TRUE FALSE\n",
       "[4993] FALSE  TRUE FALSE  TRUE FALSE FALSE FALSE FALSE FALSE FALSE FALSE FALSE\n",
       "[5005] FALSE FALSE FALSE  TRUE  TRUE FALSE FALSE FALSE FALSE FALSE FALSE FALSE\n",
       "[5017] FALSE  TRUE  TRUE FALSE FALSE FALSE FALSE FALSE  TRUE FALSE  TRUE  TRUE\n",
       "[5029] FALSE FALSE FALSE FALSE FALSE FALSE FALSE FALSE  TRUE FALSE FALSE  TRUE\n",
       "[5041]  TRUE FALSE  TRUE  TRUE FALSE FALSE  TRUE  TRUE FALSE FALSE FALSE FALSE\n",
       "[5053] FALSE FALSE FALSE FALSE  TRUE FALSE FALSE  TRUE FALSE FALSE FALSE FALSE\n",
       "[5065] FALSE FALSE FALSE FALSE  TRUE FALSE  TRUE  TRUE FALSE FALSE  TRUE FALSE\n",
       "[5077] FALSE  TRUE  TRUE FALSE FALSE FALSE  TRUE  TRUE FALSE FALSE FALSE FALSE\n",
       "[5089] FALSE  TRUE FALSE FALSE  TRUE FALSE  TRUE  TRUE FALSE  TRUE FALSE"
      ]
     },
     "metadata": {},
     "output_type": "display_data"
    }
   ],
   "source": [
    "T4 <- (tg==4)\n",
    "T4"
   ]
  },
  {
   "cell_type": "code",
   "execution_count": 147,
   "metadata": {},
   "outputs": [
    {
     "data": {
      "text/plain": [
       "   Mode   FALSE    TRUE \n",
       "logical    3354    1745 "
      ]
     },
     "metadata": {},
     "output_type": "display_data"
    }
   ],
   "source": [
    "summary(T4)"
   ]
  },
  {
   "cell_type": "markdown",
   "metadata": {},
   "source": [
    "## Regressions"
   ]
  },
  {
   "cell_type": "markdown",
   "metadata": {},
   "source": [
    "### Formula\n",
    "For more information [link1](https://thomasleeper.com/Rcourse/Tutorials/formulae.html), [link2](https://www.datacamp.com/community/tutorials/r-formula-tutorial)."
   ]
  },
  {
   "cell_type": "code",
   "execution_count": 117,
   "metadata": {
    "scrolled": true
   },
   "outputs": [
    {
     "name": "stderr",
     "output_type": "stream",
     "text": [
      "Loading required package: zoo\n",
      "\n",
      "\n",
      "Attaching package: 'zoo'\n",
      "\n",
      "\n",
      "The following objects are masked from 'package:base':\n",
      "\n",
      "    as.Date, as.Date.numeric\n",
      "\n",
      "\n"
     ]
    }
   ],
   "source": [
    "# install.packages( \"lmtest\" )\n",
    "# install.packages( \"sandwich\" )\n",
    "library(lmtest)\n",
    "library(sandwich)\n",
    "# Suggestion for update your R version"
   ]
  },
  {
   "cell_type": "code",
   "execution_count": 118,
   "metadata": {},
   "outputs": [
    {
     "data": {
      "text/html": [
       "'formula'"
      ],
      "text/latex": [
       "'formula'"
      ],
      "text/markdown": [
       "'formula'"
      ],
      "text/plain": [
       "[1] \"formula\""
      ]
     },
     "metadata": {},
     "output_type": "display_data"
    }
   ],
   "source": [
    "# Generation of formulas for regressions\n",
    "# The class formula\n",
    "formula1 <- (T4~ female )\n",
    "class(formula1)\n",
    "formula2 <- (T4~(female+black+othrace+factor(dep)+q2+q3+q4+q5+q6+agelt35+agegt54+durable+lusd+husd)^2)\n"
   ]
  },
  {
   "cell_type": "code",
   "execution_count": 119,
   "metadata": {},
   "outputs": [
    {
     "data": {
      "text/html": [
       "<style>\n",
       ".list-inline {list-style: none; margin:0; padding: 0}\n",
       ".list-inline>li {display: inline-block}\n",
       ".list-inline>li:not(:last-child)::after {content: \"\\00b7\"; padding: 0 .5ex}\n",
       "</style>\n",
       "<ol class=list-inline><li>'T4'</li><li>'female'</li><li>'black'</li></ol>\n"
      ],
      "text/latex": [
       "\\begin{enumerate*}\n",
       "\\item 'T4'\n",
       "\\item 'female'\n",
       "\\item 'black'\n",
       "\\end{enumerate*}\n"
      ],
      "text/markdown": [
       "1. 'T4'\n",
       "2. 'female'\n",
       "3. 'black'\n",
       "\n",
       "\n"
      ],
      "text/plain": [
       "[1] \"T4\"     \"female\" \"black\" "
      ]
     },
     "metadata": {},
     "output_type": "display_data"
    },
    {
     "name": "stdout",
     "output_type": "stream",
     "text": [
      "T4 ~ female - black\n",
      "attr(,\"variables\")\n",
      "list(T4, female, black)\n",
      "attr(,\"factors\")\n",
      "       female\n",
      "T4          0\n",
      "female      1\n",
      "black       0\n",
      "attr(,\"term.labels\")\n",
      "[1] \"female\"\n",
      "attr(,\"order\")\n",
      "[1] 1\n",
      "attr(,\"intercept\")\n",
      "[1] 1\n",
      "attr(,\"response\")\n",
      "[1] 1\n",
      "attr(,\".Environment\")\n",
      "<environment: R_GlobalEnv>\n"
     ]
    }
   ],
   "source": [
    "# We can use multiple independent variables b simply separating them with the plus symbol(+)\n",
    "formula2 <- (T4 ~ female + black )\n",
    "# See the variables in the formula\n",
    "all.vars( formula2 )\n",
    "\n",
    "formula3 <- (T4 ~ female - black )\n",
    "print( terms( formula3 ) )"
   ]
  },
  {
   "cell_type": "code",
   "execution_count": 120,
   "metadata": {},
   "outputs": [
    {
     "name": "stdout",
     "output_type": "stream",
     "text": [
      "T4 ~ female * black\n",
      "attr(,\"variables\")\n",
      "list(T4, female, black)\n",
      "attr(,\"factors\")\n",
      "       female black female:black\n",
      "T4          0     0            0\n",
      "female      1     0            1\n",
      "black       0     1            1\n",
      "attr(,\"term.labels\")\n",
      "[1] \"female\"       \"black\"        \"female:black\"\n",
      "attr(,\"order\")\n",
      "[1] 1 1 2\n",
      "attr(,\"intercept\")\n",
      "[1] 1\n",
      "attr(,\"response\")\n",
      "[1] 1\n",
      "attr(,\".Environment\")\n",
      "<environment: R_GlobalEnv>\n",
      "T4 ~ female:black\n",
      "attr(,\"variables\")\n",
      "list(T4, female, black)\n",
      "attr(,\"factors\")\n",
      "       female:black\n",
      "T4                0\n",
      "female            2\n",
      "black             2\n",
      "attr(,\"term.labels\")\n",
      "[1] \"female:black\"\n",
      "attr(,\"order\")\n",
      "[1] 2\n",
      "attr(,\"intercept\")\n",
      "[1] 1\n",
      "attr(,\"response\")\n",
      "[1] 1\n",
      "attr(,\".Environment\")\n",
      "<environment: R_GlobalEnv>\n"
     ]
    }
   ],
   "source": [
    "# Interactions terms\n",
    "# We include the two terms and their interaction\n",
    "formula5  <- (T4 ~ female * black)\n",
    "print( terms( formula5 ) )\n",
    "\n",
    "# We include only the interaction\n",
    "formula6  <- (T4 ~ female:black)\n",
    "print( terms( formula6 ) )"
   ]
  },
  {
   "cell_type": "code",
   "execution_count": 121,
   "metadata": {},
   "outputs": [
    {
     "name": "stdout",
     "output_type": "stream",
     "text": [
      "T4 ~ female * black\n",
      "attr(,\"variables\")\n",
      "list(T4, female, black)\n",
      "attr(,\"factors\")\n",
      "       female black female:black\n",
      "T4          0     0            0\n",
      "female      1     0            1\n",
      "black       0     1            1\n",
      "attr(,\"term.labels\")\n",
      "[1] \"female\"       \"black\"        \"female:black\"\n",
      "attr(,\"order\")\n",
      "[1] 1 1 2\n",
      "attr(,\"intercept\")\n",
      "[1] 1\n",
      "attr(,\"response\")\n",
      "[1] 1\n",
      "attr(,\".Environment\")\n",
      "<environment: R_GlobalEnv>\n",
      "T4 ~ -1 + female * black\n",
      "attr(,\"variables\")\n",
      "list(T4, female, black)\n",
      "attr(,\"factors\")\n",
      "       female black female:black\n",
      "T4          0     0            0\n",
      "female      1     0            1\n",
      "black       0     1            1\n",
      "attr(,\"term.labels\")\n",
      "[1] \"female\"       \"black\"        \"female:black\"\n",
      "attr(,\"order\")\n",
      "[1] 1 1 2\n",
      "attr(,\"intercept\")\n",
      "[1] 0\n",
      "attr(,\"response\")\n",
      "[1] 1\n",
      "attr(,\".Environment\")\n",
      "<environment: R_GlobalEnv>\n",
      "T4 ~ female:black\n",
      "attr(,\"variables\")\n",
      "list(T4, female, black)\n",
      "attr(,\"factors\")\n",
      "       female:black\n",
      "T4                0\n",
      "female            2\n",
      "black             2\n",
      "attr(,\"term.labels\")\n",
      "[1] \"female:black\"\n",
      "attr(,\"order\")\n",
      "[1] 2\n",
      "attr(,\"intercept\")\n",
      "[1] 1\n",
      "attr(,\"response\")\n",
      "[1] 1\n",
      "attr(,\".Environment\")\n",
      "<environment: R_GlobalEnv>\n",
      "T4 ~ 0 + female:black\n",
      "attr(,\"variables\")\n",
      "list(T4, female, black)\n",
      "attr(,\"factors\")\n",
      "       female:black\n",
      "T4                0\n",
      "female            2\n",
      "black             2\n",
      "attr(,\"term.labels\")\n",
      "[1] \"female:black\"\n",
      "attr(,\"order\")\n",
      "[1] 2\n",
      "attr(,\"intercept\")\n",
      "[1] 0\n",
      "attr(,\"response\")\n",
      "[1] 1\n",
      "attr(,\".Environment\")\n",
      "<environment: R_GlobalEnv>\n"
     ]
    }
   ],
   "source": [
    "# Drop the intercept\n",
    "# Method 1\n",
    "formula5  <- (T4 ~  female * black)\n",
    "print( terms( formula5 ) )\n",
    "\n",
    "formula6  <- (T4 ~  -1 + female * black)\n",
    "print( terms( formula6 ) )\n",
    "\n",
    "# Method 2\n",
    "formula7  <- (T4 ~ female:black)\n",
    "print( terms( formula7 ) )\n",
    "\n",
    "formula8  <- (T4 ~ 0 + female:black)\n",
    "print( terms( formula8 ) )"
   ]
  },
  {
   "cell_type": "code",
   "execution_count": 122,
   "metadata": {},
   "outputs": [
    {
     "data": {
      "text/html": [
       "<style>\n",
       ".list-inline {list-style: none; margin:0; padding: 0}\n",
       ".list-inline>li {display: inline-block}\n",
       ".list-inline>li:not(:last-child)::after {content: \"\\00b7\"; padding: 0 .5ex}\n",
       "</style>\n",
       "<ol class=list-inline><li>0</li><li>1</li><li>0</li><li>1</li><li>1</li><li>0</li><li>0</li><li>2</li><li>2</li><li>0</li><li>2</li><li>0</li><li>0</li><li>2</li><li>0</li><li>0</li><li>0</li></ol>\n"
      ],
      "text/latex": [
       "\\begin{enumerate*}\n",
       "\\item 0\n",
       "\\item 1\n",
       "\\item 0\n",
       "\\item 1\n",
       "\\item 1\n",
       "\\item 0\n",
       "\\item 0\n",
       "\\item 2\n",
       "\\item 2\n",
       "\\item 0\n",
       "\\item 2\n",
       "\\item 0\n",
       "\\item 0\n",
       "\\item 2\n",
       "\\item 0\n",
       "\\item 0\n",
       "\\item 0\n",
       "\\end{enumerate*}\n"
      ],
      "text/markdown": [
       "1. 0\n",
       "2. 1\n",
       "3. 0\n",
       "4. 1\n",
       "5. 1\n",
       "6. 0\n",
       "7. 0\n",
       "8. 2\n",
       "9. 2\n",
       "10. 0\n",
       "11. 2\n",
       "12. 0\n",
       "13. 0\n",
       "14. 2\n",
       "15. 0\n",
       "16. 0\n",
       "17. 0\n",
       "\n",
       "\n"
      ],
      "text/plain": [
       " [1] 0 1 0 1 1 0 0 2 2 0 2 0 0 2 0 0 0"
      ]
     },
     "metadata": {},
     "output_type": "display_data"
    },
    {
     "data": {
      "text/html": [
       "'integer'"
      ],
      "text/latex": [
       "'integer'"
      ],
      "text/markdown": [
       "'integer'"
      ],
      "text/plain": [
       "[1] \"integer\""
      ]
     },
     "metadata": {},
     "output_type": "display_data"
    },
    {
     "name": "stdout",
     "output_type": "stream",
     "text": [
      "T4 ~ female * black + factor(dep)\n",
      "attr(,\"variables\")\n",
      "list(T4, female, black, factor(dep))\n",
      "attr(,\"factors\")\n",
      "            female black factor(dep) female:black\n",
      "T4               0     0           0            0\n",
      "female           1     0           0            1\n",
      "black            0     1           0            1\n",
      "factor(dep)      0     0           1            0\n",
      "attr(,\"term.labels\")\n",
      "[1] \"female\"       \"black\"        \"factor(dep)\"  \"female:black\"\n",
      "attr(,\"order\")\n",
      "[1] 1 1 1 2\n",
      "attr(,\"intercept\")\n",
      "[1] 1\n",
      "attr(,\"response\")\n",
      "[1] 1\n",
      "attr(,\".Environment\")\n",
      "<environment: R_GlobalEnv>\n",
      "T4 ~ female * black + dep\n",
      "attr(,\"variables\")\n",
      "list(T4, female, black, dep)\n",
      "attr(,\"factors\")\n",
      "       female black dep female:black\n",
      "T4          0     0   0            0\n",
      "female      1     0   0            1\n",
      "black       0     1   0            1\n",
      "dep         0     0   1            0\n",
      "attr(,\"term.labels\")\n",
      "[1] \"female\"       \"black\"        \"dep\"          \"female:black\"\n",
      "attr(,\"order\")\n",
      "[1] 1 1 1 2\n",
      "attr(,\"intercept\")\n",
      "[1] 1\n",
      "attr(,\"response\")\n",
      "[1] 1\n",
      "attr(,\".Environment\")\n",
      "<environment: R_GlobalEnv>\n"
     ]
    }
   ],
   "source": [
    "# Factor in regression Analysis\n",
    "# dep is a factor variable but as defaul it is a vector\n",
    "dep[ 4:20 ]\n",
    "class(dep)\n",
    "# factor(dep) == as.factor( dep )\n",
    "\n",
    "# we need to specify that dep is a factor variable in a regression formula to not be treated as a numeric vector\n",
    "# by default, the factor's first level treated as a baseline\n",
    "formula6  <- (T4 ~  female * black + factor( dep ) )\n",
    "print( terms( formula6 ) )\n",
    "\n",
    "formula7  <- (T4 ~  female * black + dep )\n",
    "print( terms( formula7 ) )"
   ]
  },
  {
   "cell_type": "code",
   "execution_count": 123,
   "metadata": {},
   "outputs": [
    {
     "name": "stdout",
     "output_type": "stream",
     "text": [
      "T4 ~ female + black + lusd + lusd^2\n",
      "attr(,\"variables\")\n",
      "list(T4, female, black, lusd)\n",
      "attr(,\"factors\")\n",
      "       female black lusd\n",
      "T4          0     0    0\n",
      "female      1     0    0\n",
      "black       0     1    0\n",
      "lusd        0     0    1\n",
      "attr(,\"term.labels\")\n",
      "[1] \"female\" \"black\"  \"lusd\"  \n",
      "attr(,\"order\")\n",
      "[1] 1 1 1\n",
      "attr(,\"intercept\")\n",
      "[1] 1\n",
      "attr(,\"response\")\n",
      "[1] 1\n",
      "attr(,\".Environment\")\n",
      "<environment: R_GlobalEnv>\n"
     ]
    },
    {
     "data": {
      "text/html": [
       "'formula'"
      ],
      "text/latex": [
       "'formula'"
      ],
      "text/markdown": [
       "'formula'"
      ],
      "text/plain": [
       "[1] \"formula\""
      ]
     },
     "metadata": {},
     "output_type": "display_data"
    },
    {
     "name": "stdout",
     "output_type": "stream",
     "text": [
      "T4 ~ female + black + lusd + factor(dep)\n",
      "attr(,\"variables\")\n",
      "list(T4, female, black, lusd, factor(dep))\n",
      "attr(,\"factors\")\n",
      "            female black lusd factor(dep)\n",
      "T4               0     0    0           0\n",
      "female           1     0    0           0\n",
      "black            0     1    0           0\n",
      "lusd             0     0    1           0\n",
      "factor(dep)      0     0    0           1\n",
      "attr(,\"term.labels\")\n",
      "[1] \"female\"      \"black\"       \"lusd\"        \"factor(dep)\"\n",
      "attr(,\"order\")\n",
      "[1] 1 1 1 1\n",
      "attr(,\"intercept\")\n",
      "[1] 1\n",
      "attr(,\"response\")\n",
      "[1] 1\n",
      "attr(,\".Environment\")\n",
      "<environment: R_GlobalEnv>\n"
     ]
    }
   ],
   "source": [
    "# We can update formulas \n",
    "formula_modelA  <- (T4 ~  female + black + lusd + lusd ^ 2 )\n",
    "print( terms( formula_modelA ) )\n",
    "class( formula_modelA )\n",
    "\n",
    "# formula for model B\n",
    "formula_modelB  <- update( formula_modelA, ~ . + factor(dep))\n",
    "print( terms( formula_modelB ) )"
   ]
  },
  {
   "cell_type": "markdown",
   "metadata": {},
   "source": [
    "## Regressions Objects\n",
    "We will understand the output from a regression"
   ]
  },
  {
   "cell_type": "code",
   "execution_count": 124,
   "metadata": {},
   "outputs": [],
   "source": [
    "key_columns  <-  c('female', 'black', 'lusd' , 'dep', 'T4')"
   ]
  },
  {
   "cell_type": "code",
   "execution_count": 125,
   "metadata": {},
   "outputs": [],
   "source": [
    "data2  <-  data.frame( Penn[(names( Penn ) %in% key_columns ) ] )"
   ]
  },
  {
   "cell_type": "code",
   "execution_count": 126,
   "metadata": {},
   "outputs": [
    {
     "data": {
      "text/html": [
       "'list'"
      ],
      "text/latex": [
       "'list'"
      ],
      "text/markdown": [
       "'list'"
      ],
      "text/plain": [
       "[1] \"list\""
      ]
     },
     "metadata": {},
     "output_type": "display_data"
    },
    {
     "data": {
      "text/html": [
       "TRUE"
      ],
      "text/latex": [
       "TRUE"
      ],
      "text/markdown": [
       "TRUE"
      ],
      "text/plain": [
       "[1] TRUE"
      ]
     },
     "metadata": {},
     "output_type": "display_data"
    },
    {
     "data": {
      "text/html": [
       "<style>\n",
       ".list-inline {list-style: none; margin:0; padding: 0}\n",
       ".list-inline>li {display: inline-block}\n",
       ".list-inline>li:not(:last-child)::after {content: \"\\00b7\"; padding: 0 .5ex}\n",
       "</style>\n",
       "<ol class=list-inline><li>'coefficients'</li><li>'residuals'</li><li>'effects'</li><li>'rank'</li><li>'fitted.values'</li><li>'assign'</li><li>'qr'</li><li>'df.residual'</li><li>'contrasts'</li><li>'xlevels'</li><li>'call'</li><li>'terms'</li><li>'model'</li></ol>\n"
      ],
      "text/latex": [
       "\\begin{enumerate*}\n",
       "\\item 'coefficients'\n",
       "\\item 'residuals'\n",
       "\\item 'effects'\n",
       "\\item 'rank'\n",
       "\\item 'fitted.values'\n",
       "\\item 'assign'\n",
       "\\item 'qr'\n",
       "\\item 'df.residual'\n",
       "\\item 'contrasts'\n",
       "\\item 'xlevels'\n",
       "\\item 'call'\n",
       "\\item 'terms'\n",
       "\\item 'model'\n",
       "\\end{enumerate*}\n"
      ],
      "text/markdown": [
       "1. 'coefficients'\n",
       "2. 'residuals'\n",
       "3. 'effects'\n",
       "4. 'rank'\n",
       "5. 'fitted.values'\n",
       "6. 'assign'\n",
       "7. 'qr'\n",
       "8. 'df.residual'\n",
       "9. 'contrasts'\n",
       "10. 'xlevels'\n",
       "11. 'call'\n",
       "12. 'terms'\n",
       "13. 'model'\n",
       "\n",
       "\n"
      ],
      "text/plain": [
       " [1] \"coefficients\"  \"residuals\"     \"effects\"       \"rank\"         \n",
       " [5] \"fitted.values\" \"assign\"        \"qr\"            \"df.residual\"  \n",
       " [9] \"contrasts\"     \"xlevels\"       \"call\"          \"terms\"        \n",
       "[13] \"model\"        "
      ]
     },
     "metadata": {},
     "output_type": "display_data"
    }
   ],
   "source": [
    "# Regression\n",
    "reg1 <- lm(formula_modelB , data2 )\n",
    "\n",
    "# The output is a list of elements\n",
    "typeof(reg1)\n",
    "is.list( reg1 )\n",
    "# All the elements in the list are detailed in the table bellow.\n",
    "names( reg1 )"
   ]
  },
  {
   "cell_type": "markdown",
   "metadata": {},
   "source": [
    "| Elements \t| Definition \t|\n",
    "|---\t|---\t|\n",
    "| coefficients \t| Vector of coefficients. \t|\n",
    "| residuals \t| Vector of residuals. \t|\n",
    "| effects \t| Vector of the uncorrelated single-degree-of-freedom <br>values obtained by projecting the data onto the successive <br>orthogonal subspaces generated by the QR decomposition <br>during the fitting process. \t|\n",
    "| rank \t| Number of independent columns. \t|\n",
    "| fitted.values \t| Vector of fitted values. \t|\n",
    "| qr \t| The QR decomposition. \t|\n",
    "| df.residual \t| The degrees of freedom of the residuals. \t|\n",
    "| contrasts \t| A contrast is a linear combination of variables <br>that allows comparison of different treatments. \t|\n",
    "| xlevels \t| Levels of the factor variables. \t|\n",
    "| call \t| The formula. \t|\n",
    "| terms \t| Variables of the regression. \t|\n",
    "| model \t| DataFrame of the variables in the model. \t|"
   ]
  },
  {
   "cell_type": "markdown",
   "metadata": {},
   "source": [
    "#### Predictions\n",
    "We can get the vector of predictions using the formula `predict`."
   ]
  },
  {
   "cell_type": "code",
   "execution_count": 127,
   "metadata": {},
   "outputs": [
    {
     "data": {
      "text/html": [
       "<table class=\"dataframe\">\n",
       "<caption>A data.frame: 5099 × 4</caption>\n",
       "<thead>\n",
       "\t<tr><th></th><th scope=col>female</th><th scope=col>black</th><th scope=col>dep</th><th scope=col>lusd</th></tr>\n",
       "\t<tr><th></th><th scope=col>&lt;int&gt;</th><th scope=col>&lt;int&gt;</th><th scope=col>&lt;int&gt;</th><th scope=col>&lt;int&gt;</th></tr>\n",
       "</thead>\n",
       "<tbody>\n",
       "\t<tr><th scope=row>1</th><td>0</td><td>0</td><td>2</td><td>0</td></tr>\n",
       "\t<tr><th scope=row>4</th><td>0</td><td>0</td><td>0</td><td>1</td></tr>\n",
       "\t<tr><th scope=row>5</th><td>0</td><td>0</td><td>0</td><td>1</td></tr>\n",
       "\t<tr><th scope=row>12</th><td>0</td><td>0</td><td>0</td><td>0</td></tr>\n",
       "\t<tr><th scope=row>13</th><td>0</td><td>0</td><td>1</td><td>1</td></tr>\n",
       "\t<tr><th scope=row>14</th><td>1</td><td>0</td><td>0</td><td>1</td></tr>\n",
       "\t<tr><th scope=row>15</th><td>1</td><td>0</td><td>1</td><td>1</td></tr>\n",
       "\t<tr><th scope=row>17</th><td>1</td><td>0</td><td>1</td><td>1</td></tr>\n",
       "\t<tr><th scope=row>23</th><td>1</td><td>0</td><td>0</td><td>1</td></tr>\n",
       "\t<tr><th scope=row>25</th><td>1</td><td>0</td><td>0</td><td>1</td></tr>\n",
       "\t<tr><th scope=row>26</th><td>1</td><td>0</td><td>2</td><td>0</td></tr>\n",
       "\t<tr><th scope=row>27</th><td>1</td><td>0</td><td>2</td><td>0</td></tr>\n",
       "\t<tr><th scope=row>32</th><td>1</td><td>0</td><td>0</td><td>0</td></tr>\n",
       "\t<tr><th scope=row>33</th><td>1</td><td>0</td><td>2</td><td>0</td></tr>\n",
       "\t<tr><th scope=row>39</th><td>1</td><td>0</td><td>0</td><td>1</td></tr>\n",
       "\t<tr><th scope=row>43</th><td>0</td><td>0</td><td>0</td><td>1</td></tr>\n",
       "\t<tr><th scope=row>49</th><td>0</td><td>0</td><td>2</td><td>1</td></tr>\n",
       "\t<tr><th scope=row>50</th><td>0</td><td>0</td><td>0</td><td>1</td></tr>\n",
       "\t<tr><th scope=row>58</th><td>0</td><td>0</td><td>0</td><td>1</td></tr>\n",
       "\t<tr><th scope=row>59</th><td>0</td><td>1</td><td>0</td><td>0</td></tr>\n",
       "\t<tr><th scope=row>60</th><td>0</td><td>0</td><td>1</td><td>0</td></tr>\n",
       "\t<tr><th scope=row>61</th><td>1</td><td>0</td><td>2</td><td>0</td></tr>\n",
       "\t<tr><th scope=row>63</th><td>0</td><td>0</td><td>0</td><td>0</td></tr>\n",
       "\t<tr><th scope=row>65</th><td>0</td><td>0</td><td>2</td><td>1</td></tr>\n",
       "\t<tr><th scope=row>72</th><td>0</td><td>0</td><td>0</td><td>1</td></tr>\n",
       "\t<tr><th scope=row>73</th><td>0</td><td>0</td><td>0</td><td>0</td></tr>\n",
       "\t<tr><th scope=row>75</th><td>0</td><td>0</td><td>2</td><td>0</td></tr>\n",
       "\t<tr><th scope=row>77</th><td>0</td><td>0</td><td>0</td><td>0</td></tr>\n",
       "\t<tr><th scope=row>81</th><td>0</td><td>0</td><td>0</td><td>1</td></tr>\n",
       "\t<tr><th scope=row>82</th><td>0</td><td>0</td><td>2</td><td>1</td></tr>\n",
       "\t<tr><th scope=row>...</th><td>...</td><td>...</td><td>...</td><td>...</td></tr>\n",
       "\t<tr><th scope=row>13829</th><td>0</td><td>0</td><td>0</td><td>0</td></tr>\n",
       "\t<tr><th scope=row>13831</th><td>0</td><td>0</td><td>0</td><td>0</td></tr>\n",
       "\t<tr><th scope=row>13842</th><td>0</td><td>0</td><td>1</td><td>0</td></tr>\n",
       "\t<tr><th scope=row>13845</th><td>1</td><td>0</td><td>1</td><td>1</td></tr>\n",
       "\t<tr><th scope=row>13846</th><td>0</td><td>0</td><td>1</td><td>1</td></tr>\n",
       "\t<tr><th scope=row>13847</th><td>0</td><td>0</td><td>2</td><td>0</td></tr>\n",
       "\t<tr><th scope=row>13854</th><td>0</td><td>0</td><td>0</td><td>0</td></tr>\n",
       "\t<tr><th scope=row>13864</th><td>0</td><td>0</td><td>0</td><td>0</td></tr>\n",
       "\t<tr><th scope=row>13872</th><td>0</td><td>0</td><td>0</td><td>1</td></tr>\n",
       "\t<tr><th scope=row>13873</th><td>0</td><td>0</td><td>2</td><td>1</td></tr>\n",
       "\t<tr><th scope=row>13875</th><td>0</td><td>0</td><td>2</td><td>0</td></tr>\n",
       "\t<tr><th scope=row>13876</th><td>0</td><td>0</td><td>0</td><td>0</td></tr>\n",
       "\t<tr><th scope=row>13877</th><td>1</td><td>0</td><td>0</td><td>0</td></tr>\n",
       "\t<tr><th scope=row>13880</th><td>0</td><td>0</td><td>2</td><td>0</td></tr>\n",
       "\t<tr><th scope=row>13883</th><td>1</td><td>0</td><td>1</td><td>0</td></tr>\n",
       "\t<tr><th scope=row>13888</th><td>0</td><td>0</td><td>0</td><td>1</td></tr>\n",
       "\t<tr><th scope=row>13891</th><td>0</td><td>0</td><td>0</td><td>0</td></tr>\n",
       "\t<tr><th scope=row>13892</th><td>1</td><td>0</td><td>0</td><td>0</td></tr>\n",
       "\t<tr><th scope=row>13893</th><td>1</td><td>0</td><td>0</td><td>1</td></tr>\n",
       "\t<tr><th scope=row>13894</th><td>1</td><td>0</td><td>0</td><td>1</td></tr>\n",
       "\t<tr><th scope=row>13895</th><td>0</td><td>0</td><td>0</td><td>0</td></tr>\n",
       "\t<tr><th scope=row>13896</th><td>1</td><td>0</td><td>0</td><td>1</td></tr>\n",
       "\t<tr><th scope=row>13899</th><td>0</td><td>1</td><td>0</td><td>0</td></tr>\n",
       "\t<tr><th scope=row>13900</th><td>1</td><td>1</td><td>0</td><td>1</td></tr>\n",
       "\t<tr><th scope=row>13901</th><td>1</td><td>0</td><td>2</td><td>0</td></tr>\n",
       "\t<tr><th scope=row>13905</th><td>0</td><td>0</td><td>0</td><td>0</td></tr>\n",
       "\t<tr><th scope=row>13906</th><td>0</td><td>0</td><td>2</td><td>0</td></tr>\n",
       "\t<tr><th scope=row>13907</th><td>0</td><td>0</td><td>2</td><td>1</td></tr>\n",
       "\t<tr><th scope=row>13911</th><td>0</td><td>0</td><td>0</td><td>0</td></tr>\n",
       "\t<tr><th scope=row>13912</th><td>0</td><td>0</td><td>0</td><td>1</td></tr>\n",
       "</tbody>\n",
       "</table>\n"
      ],
      "text/latex": [
       "A data.frame: 5099 × 4\n",
       "\\begin{tabular}{r|llll}\n",
       "  & female & black & dep & lusd\\\\\n",
       "  & <int> & <int> & <int> & <int>\\\\\n",
       "\\hline\n",
       "\t1 & 0 & 0 & 2 & 0\\\\\n",
       "\t4 & 0 & 0 & 0 & 1\\\\\n",
       "\t5 & 0 & 0 & 0 & 1\\\\\n",
       "\t12 & 0 & 0 & 0 & 0\\\\\n",
       "\t13 & 0 & 0 & 1 & 1\\\\\n",
       "\t14 & 1 & 0 & 0 & 1\\\\\n",
       "\t15 & 1 & 0 & 1 & 1\\\\\n",
       "\t17 & 1 & 0 & 1 & 1\\\\\n",
       "\t23 & 1 & 0 & 0 & 1\\\\\n",
       "\t25 & 1 & 0 & 0 & 1\\\\\n",
       "\t26 & 1 & 0 & 2 & 0\\\\\n",
       "\t27 & 1 & 0 & 2 & 0\\\\\n",
       "\t32 & 1 & 0 & 0 & 0\\\\\n",
       "\t33 & 1 & 0 & 2 & 0\\\\\n",
       "\t39 & 1 & 0 & 0 & 1\\\\\n",
       "\t43 & 0 & 0 & 0 & 1\\\\\n",
       "\t49 & 0 & 0 & 2 & 1\\\\\n",
       "\t50 & 0 & 0 & 0 & 1\\\\\n",
       "\t58 & 0 & 0 & 0 & 1\\\\\n",
       "\t59 & 0 & 1 & 0 & 0\\\\\n",
       "\t60 & 0 & 0 & 1 & 0\\\\\n",
       "\t61 & 1 & 0 & 2 & 0\\\\\n",
       "\t63 & 0 & 0 & 0 & 0\\\\\n",
       "\t65 & 0 & 0 & 2 & 1\\\\\n",
       "\t72 & 0 & 0 & 0 & 1\\\\\n",
       "\t73 & 0 & 0 & 0 & 0\\\\\n",
       "\t75 & 0 & 0 & 2 & 0\\\\\n",
       "\t77 & 0 & 0 & 0 & 0\\\\\n",
       "\t81 & 0 & 0 & 0 & 1\\\\\n",
       "\t82 & 0 & 0 & 2 & 1\\\\\n",
       "\t... & ... & ... & ... & ...\\\\\n",
       "\t13829 & 0 & 0 & 0 & 0\\\\\n",
       "\t13831 & 0 & 0 & 0 & 0\\\\\n",
       "\t13842 & 0 & 0 & 1 & 0\\\\\n",
       "\t13845 & 1 & 0 & 1 & 1\\\\\n",
       "\t13846 & 0 & 0 & 1 & 1\\\\\n",
       "\t13847 & 0 & 0 & 2 & 0\\\\\n",
       "\t13854 & 0 & 0 & 0 & 0\\\\\n",
       "\t13864 & 0 & 0 & 0 & 0\\\\\n",
       "\t13872 & 0 & 0 & 0 & 1\\\\\n",
       "\t13873 & 0 & 0 & 2 & 1\\\\\n",
       "\t13875 & 0 & 0 & 2 & 0\\\\\n",
       "\t13876 & 0 & 0 & 0 & 0\\\\\n",
       "\t13877 & 1 & 0 & 0 & 0\\\\\n",
       "\t13880 & 0 & 0 & 2 & 0\\\\\n",
       "\t13883 & 1 & 0 & 1 & 0\\\\\n",
       "\t13888 & 0 & 0 & 0 & 1\\\\\n",
       "\t13891 & 0 & 0 & 0 & 0\\\\\n",
       "\t13892 & 1 & 0 & 0 & 0\\\\\n",
       "\t13893 & 1 & 0 & 0 & 1\\\\\n",
       "\t13894 & 1 & 0 & 0 & 1\\\\\n",
       "\t13895 & 0 & 0 & 0 & 0\\\\\n",
       "\t13896 & 1 & 0 & 0 & 1\\\\\n",
       "\t13899 & 0 & 1 & 0 & 0\\\\\n",
       "\t13900 & 1 & 1 & 0 & 1\\\\\n",
       "\t13901 & 1 & 0 & 2 & 0\\\\\n",
       "\t13905 & 0 & 0 & 0 & 0\\\\\n",
       "\t13906 & 0 & 0 & 2 & 0\\\\\n",
       "\t13907 & 0 & 0 & 2 & 1\\\\\n",
       "\t13911 & 0 & 0 & 0 & 0\\\\\n",
       "\t13912 & 0 & 0 & 0 & 1\\\\\n",
       "\\end{tabular}\n"
      ],
      "text/markdown": [
       "\n",
       "A data.frame: 5099 × 4\n",
       "\n",
       "| <!--/--> | female &lt;int&gt; | black &lt;int&gt; | dep &lt;int&gt; | lusd &lt;int&gt; |\n",
       "|---|---|---|---|---|\n",
       "| 1 | 0 | 0 | 2 | 0 |\n",
       "| 4 | 0 | 0 | 0 | 1 |\n",
       "| 5 | 0 | 0 | 0 | 1 |\n",
       "| 12 | 0 | 0 | 0 | 0 |\n",
       "| 13 | 0 | 0 | 1 | 1 |\n",
       "| 14 | 1 | 0 | 0 | 1 |\n",
       "| 15 | 1 | 0 | 1 | 1 |\n",
       "| 17 | 1 | 0 | 1 | 1 |\n",
       "| 23 | 1 | 0 | 0 | 1 |\n",
       "| 25 | 1 | 0 | 0 | 1 |\n",
       "| 26 | 1 | 0 | 2 | 0 |\n",
       "| 27 | 1 | 0 | 2 | 0 |\n",
       "| 32 | 1 | 0 | 0 | 0 |\n",
       "| 33 | 1 | 0 | 2 | 0 |\n",
       "| 39 | 1 | 0 | 0 | 1 |\n",
       "| 43 | 0 | 0 | 0 | 1 |\n",
       "| 49 | 0 | 0 | 2 | 1 |\n",
       "| 50 | 0 | 0 | 0 | 1 |\n",
       "| 58 | 0 | 0 | 0 | 1 |\n",
       "| 59 | 0 | 1 | 0 | 0 |\n",
       "| 60 | 0 | 0 | 1 | 0 |\n",
       "| 61 | 1 | 0 | 2 | 0 |\n",
       "| 63 | 0 | 0 | 0 | 0 |\n",
       "| 65 | 0 | 0 | 2 | 1 |\n",
       "| 72 | 0 | 0 | 0 | 1 |\n",
       "| 73 | 0 | 0 | 0 | 0 |\n",
       "| 75 | 0 | 0 | 2 | 0 |\n",
       "| 77 | 0 | 0 | 0 | 0 |\n",
       "| 81 | 0 | 0 | 0 | 1 |\n",
       "| 82 | 0 | 0 | 2 | 1 |\n",
       "| ... | ... | ... | ... | ... |\n",
       "| 13829 | 0 | 0 | 0 | 0 |\n",
       "| 13831 | 0 | 0 | 0 | 0 |\n",
       "| 13842 | 0 | 0 | 1 | 0 |\n",
       "| 13845 | 1 | 0 | 1 | 1 |\n",
       "| 13846 | 0 | 0 | 1 | 1 |\n",
       "| 13847 | 0 | 0 | 2 | 0 |\n",
       "| 13854 | 0 | 0 | 0 | 0 |\n",
       "| 13864 | 0 | 0 | 0 | 0 |\n",
       "| 13872 | 0 | 0 | 0 | 1 |\n",
       "| 13873 | 0 | 0 | 2 | 1 |\n",
       "| 13875 | 0 | 0 | 2 | 0 |\n",
       "| 13876 | 0 | 0 | 0 | 0 |\n",
       "| 13877 | 1 | 0 | 0 | 0 |\n",
       "| 13880 | 0 | 0 | 2 | 0 |\n",
       "| 13883 | 1 | 0 | 1 | 0 |\n",
       "| 13888 | 0 | 0 | 0 | 1 |\n",
       "| 13891 | 0 | 0 | 0 | 0 |\n",
       "| 13892 | 1 | 0 | 0 | 0 |\n",
       "| 13893 | 1 | 0 | 0 | 1 |\n",
       "| 13894 | 1 | 0 | 0 | 1 |\n",
       "| 13895 | 0 | 0 | 0 | 0 |\n",
       "| 13896 | 1 | 0 | 0 | 1 |\n",
       "| 13899 | 0 | 1 | 0 | 0 |\n",
       "| 13900 | 1 | 1 | 0 | 1 |\n",
       "| 13901 | 1 | 0 | 2 | 0 |\n",
       "| 13905 | 0 | 0 | 0 | 0 |\n",
       "| 13906 | 0 | 0 | 2 | 0 |\n",
       "| 13907 | 0 | 0 | 2 | 1 |\n",
       "| 13911 | 0 | 0 | 0 | 0 |\n",
       "| 13912 | 0 | 0 | 0 | 1 |\n",
       "\n"
      ],
      "text/plain": [
       "      female black dep lusd\n",
       "1     0      0     2   0   \n",
       "4     0      0     0   1   \n",
       "5     0      0     0   1   \n",
       "12    0      0     0   0   \n",
       "13    0      0     1   1   \n",
       "14    1      0     0   1   \n",
       "15    1      0     1   1   \n",
       "17    1      0     1   1   \n",
       "23    1      0     0   1   \n",
       "25    1      0     0   1   \n",
       "26    1      0     2   0   \n",
       "27    1      0     2   0   \n",
       "32    1      0     0   0   \n",
       "33    1      0     2   0   \n",
       "39    1      0     0   1   \n",
       "43    0      0     0   1   \n",
       "49    0      0     2   1   \n",
       "50    0      0     0   1   \n",
       "58    0      0     0   1   \n",
       "59    0      1     0   0   \n",
       "60    0      0     1   0   \n",
       "61    1      0     2   0   \n",
       "63    0      0     0   0   \n",
       "65    0      0     2   1   \n",
       "72    0      0     0   1   \n",
       "73    0      0     0   0   \n",
       "75    0      0     2   0   \n",
       "77    0      0     0   0   \n",
       "81    0      0     0   1   \n",
       "82    0      0     2   1   \n",
       "...   ...    ...   ... ... \n",
       "13829 0      0     0   0   \n",
       "13831 0      0     0   0   \n",
       "13842 0      0     1   0   \n",
       "13845 1      0     1   1   \n",
       "13846 0      0     1   1   \n",
       "13847 0      0     2   0   \n",
       "13854 0      0     0   0   \n",
       "13864 0      0     0   0   \n",
       "13872 0      0     0   1   \n",
       "13873 0      0     2   1   \n",
       "13875 0      0     2   0   \n",
       "13876 0      0     0   0   \n",
       "13877 1      0     0   0   \n",
       "13880 0      0     2   0   \n",
       "13883 1      0     1   0   \n",
       "13888 0      0     0   1   \n",
       "13891 0      0     0   0   \n",
       "13892 1      0     0   0   \n",
       "13893 1      0     0   1   \n",
       "13894 1      0     0   1   \n",
       "13895 0      0     0   0   \n",
       "13896 1      0     0   1   \n",
       "13899 0      1     0   0   \n",
       "13900 1      1     0   1   \n",
       "13901 1      0     2   0   \n",
       "13905 0      0     0   0   \n",
       "13906 0      0     2   0   \n",
       "13907 0      0     2   1   \n",
       "13911 0      0     0   0   \n",
       "13912 0      0     0   1   "
      ]
     },
     "metadata": {},
     "output_type": "display_data"
    }
   ],
   "source": [
    "data2"
   ]
  },
  {
   "cell_type": "code",
   "execution_count": 128,
   "metadata": {},
   "outputs": [],
   "source": [
    "new_obs  <- data.frame(matrix( c(0, 0, 1 , 1), ncol= 4, dimnames = list( c() , c( \"female\" , \"black\" , \"dep\", \"lusd\"  ) ) ))"
   ]
  },
  {
   "cell_type": "code",
   "execution_count": 129,
   "metadata": {},
   "outputs": [],
   "source": [
    "y_hat  <- predict(reg1,  new_obs )"
   ]
  },
  {
   "cell_type": "code",
   "execution_count": 130,
   "metadata": {},
   "outputs": [
    {
     "name": "stdout",
     "output_type": "stream",
     "text": [
      "         1 \n",
      "0.05555556 \n"
     ]
    }
   ],
   "source": [
    "df <- data.frame(meanValuesHeatingPower = c(1,4,3,7), \n",
    "                 meanValuesOutsideTemperature = c(4,3,4,7))\n",
    "\n",
    "linearModel<-lm(meanValuesHeatingPower ~ meanValuesOutsideTemperature, data = df)\n",
    "\n",
    "pred<-predict(linearModel, data.frame(meanValuesOutsideTemperature = c(1)))\n",
    "print(pred)"
   ]
  },
  {
   "cell_type": "code",
   "execution_count": 131,
   "metadata": {},
   "outputs": [
    {
     "data": {
      "text/plain": [
       "\n",
       "Call:\n",
       "lm(formula = formula_modelB, data = data2)\n",
       "\n",
       "Coefficients:\n",
       " (Intercept)        female         black          lusd  factor(dep)1  \n",
       "    0.334987     -0.003385      0.007083      0.027561     -0.002586  \n",
       "factor(dep)2  \n",
       "    0.005105  \n"
      ]
     },
     "metadata": {},
     "output_type": "display_data"
    }
   ],
   "source": [
    "reg1"
   ]
  },
  {
   "cell_type": "code",
   "execution_count": 132,
   "metadata": {},
   "outputs": [
    {
     "data": {
      "text/plain": [
       "\n",
       "Call:\n",
       "lm(formula = formula_modelB, data = data2)\n",
       "\n",
       "Residuals:\n",
       "    Min      1Q  Median      3Q     Max \n",
       "-0.3747 -0.3401 -0.3324  0.6434  0.6710 \n",
       "\n",
       "Coefficients:\n",
       "              Estimate Std. Error t value Pr(>|t|)    \n",
       "(Intercept)   0.334987   0.010803  31.008   <2e-16 ***\n",
       "female       -0.003385   0.013595  -0.249   0.8034    \n",
       "black         0.007083   0.020388   0.347   0.7283    \n",
       "lusd          0.027561   0.015188   1.815   0.0696 .  \n",
       "factor(dep)1 -0.002586   0.021332  -0.121   0.9035    \n",
       "factor(dep)2  0.005105   0.018257   0.280   0.7798    \n",
       "---\n",
       "Signif. codes:  0 '***' 0.001 '**' 0.01 '*' 0.05 '.' 0.1 ' ' 1\n",
       "\n",
       "Residual standard error: 0.4746 on 5093 degrees of freedom\n",
       "Multiple R-squared:  0.0006796,\tAdjusted R-squared:  -0.0003015 \n",
       "F-statistic: 0.6927 on 5 and 5093 DF,  p-value: 0.6289\n"
      ]
     },
     "metadata": {},
     "output_type": "display_data"
    },
    {
     "data": {
      "text/html": [
       "<style>\n",
       ".list-inline {list-style: none; margin:0; padding: 0}\n",
       ".list-inline>li {display: inline-block}\n",
       ".list-inline>li:not(:last-child)::after {content: \"\\00b7\"; padding: 0 .5ex}\n",
       "</style>\n",
       "<ol class=list-inline><li>'call'</li><li>'terms'</li><li>'residuals'</li><li>'coefficients'</li><li>'aliased'</li><li>'sigma'</li><li>'df'</li><li>'r.squared'</li><li>'adj.r.squared'</li><li>'fstatistic'</li><li>'cov.unscaled'</li></ol>\n"
      ],
      "text/latex": [
       "\\begin{enumerate*}\n",
       "\\item 'call'\n",
       "\\item 'terms'\n",
       "\\item 'residuals'\n",
       "\\item 'coefficients'\n",
       "\\item 'aliased'\n",
       "\\item 'sigma'\n",
       "\\item 'df'\n",
       "\\item 'r.squared'\n",
       "\\item 'adj.r.squared'\n",
       "\\item 'fstatistic'\n",
       "\\item 'cov.unscaled'\n",
       "\\end{enumerate*}\n"
      ],
      "text/markdown": [
       "1. 'call'\n",
       "2. 'terms'\n",
       "3. 'residuals'\n",
       "4. 'coefficients'\n",
       "5. 'aliased'\n",
       "6. 'sigma'\n",
       "7. 'df'\n",
       "8. 'r.squared'\n",
       "9. 'adj.r.squared'\n",
       "10. 'fstatistic'\n",
       "11. 'cov.unscaled'\n",
       "\n",
       "\n"
      ],
      "text/plain": [
       " [1] \"call\"          \"terms\"         \"residuals\"     \"coefficients\" \n",
       " [5] \"aliased\"       \"sigma\"         \"df\"            \"r.squared\"    \n",
       " [9] \"adj.r.squared\" \"fstatistic\"    \"cov.unscaled\" "
      ]
     },
     "metadata": {},
     "output_type": "display_data"
    },
    {
     "data": {
      "text/html": [
       "TRUE"
      ],
      "text/latex": [
       "TRUE"
      ],
      "text/markdown": [
       "TRUE"
      ],
      "text/plain": [
       "[1] TRUE"
      ]
     },
     "metadata": {},
     "output_type": "display_data"
    },
    {
     "data": {
      "text/html": [
       "FALSE"
      ],
      "text/latex": [
       "FALSE"
      ],
      "text/markdown": [
       "FALSE"
      ],
      "text/plain": [
       "[1] FALSE"
      ]
     },
     "metadata": {},
     "output_type": "display_data"
    },
    {
     "data": {
      "text/html": [
       "TRUE"
      ],
      "text/latex": [
       "TRUE"
      ],
      "text/markdown": [
       "TRUE"
      ],
      "text/plain": [
       "[1] TRUE"
      ]
     },
     "metadata": {},
     "output_type": "display_data"
    }
   ],
   "source": [
    "# We can summary the regression output to get a estimation table using summary\n",
    "summary( reg1 )\n",
    "# This object is a list and we can go to each element to get key variables of information\n",
    "names( summary( reg1 ) )\n",
    "\n",
    "# Summary of regression is a list\n",
    "is.list(summary( reg1 ))\n",
    "is.data.frame(summary( reg1 ))\n",
    "is.matrix(summary( reg1 )$coefficients)\n"
   ]
  },
  {
   "cell_type": "markdown",
   "metadata": {},
   "source": [
    "## If condition\n",
    "The body of the if condition is excuted if the `test_expression` is `TRUE`. The ouput of the test expression should be a `boolean`variable. \n",
    "\n",
    "<img src=\"if-statement.jpg\" alt=\"image info\" />\n"
   ]
  },
  {
   "cell_type": "markdown",
   "metadata": {},
   "source": [
    "The structure of the code is the following: <br><br>\n",
    "\n",
    "<font size=\"4\">\n",
    "if <font color='green'>(test expresion)</font>{<br>\n",
    "&nbsp;&nbsp;&nbsp;&nbsp;Code to excute<br>\n",
    "}</font>\n",
    "\n",
    "The function **if** tests the veracity of a logic expression. The result of test statement should be a **<font color='red'>boolean</font>**. In other words, the output of the test statemen must be **<font color='red'>TRUE</font>** or **<font color='red'>FALSE</font>**. To sum, any function that its output is **boolean** can be used as a test expression in the **if** function. "
   ]
  },
  {
   "cell_type": "code",
   "execution_count": 151,
   "metadata": {},
   "outputs": [],
   "source": [
    "x <- -4\n",
    "\n",
    "if(x > 0){\n",
    "print(\"Non-negative number\")\n",
    "}"
   ]
  },
  {
   "cell_type": "markdown",
   "metadata": {},
   "source": [
    "### Tests more than 1 expression\n",
    "\n",
    "We will use **else if**. This function allows us to add more test expressions.  <br><br>\n",
    "\n",
    "<font size=\"3\">\n",
    "if <font color='green'>(Test expression 1)</font>{ <br>\n",
    "&nbsp;&nbsp;&nbsp;&nbsp;Code1<br><br>\n",
    "} else if <font color='green'>(Test expression 2)</font>{<br>\n",
    "&nbsp;&nbsp;&nbsp;&nbsp;Code2<br><br>\n",
    "} else if <font color='green'>(Test expression 3)</font>{<br>\n",
    "&nbsp;&nbsp;&nbsp;&nbsp;Code3<br><br>\n",
    "} else if <font color='green'>(Test expression 4)</font>{<br>\n",
    "&nbsp;&nbsp;&nbsp;&nbsp;Code4<br><br>\n",
    "} else if <font color='green'>(Test expression 5)</font>{<br>\n",
    "&nbsp;&nbsp;&nbsp;&nbsp;Code5<br><br>\n",
    "}else{<br>&nbsp;&nbsp;&nbsp;&nbsp;Code6<br><br>\n",
    "}</font>\n",
    "\n",
    "R will read the conditions of the test in order. If **Test expression 1** is `TRUE`, the rest of the test expressions will not be evaluated. R execute **Code2** and will not test the next conditions. <br>\n",
    "\n",
    "In case no Test expression is `TRUE`, the **Code6** will be excuted."
   ]
  },
  {
   "cell_type": "code",
   "execution_count": 155,
   "metadata": {},
   "outputs": [
    {
     "name": "stdout",
     "output_type": "stream",
     "text": [
      "[1] \"Positive number\"\n"
     ]
    }
   ],
   "source": [
    "x <- 5\n",
    "\n",
    "if (x < 0) {\n",
    "print(\"Negative number\")\n",
    "} else if (x > 0) {\n",
    "print(\"Positive number\")\n",
    "} else {\n",
    "print(\"Zero\")}"
   ]
  },
  {
   "cell_type": "markdown",
   "metadata": {},
   "source": [
    "## Loops\n",
    "A for loop is used for iterating over a sequence. It has the following structure:\n",
    "\n",
    "<img src=\"for_loop.jpg\" alt=\"image info\" />\n",
    "\n"
   ]
  },
  {
   "cell_type": "code",
   "execution_count": 171,
   "metadata": {},
   "outputs": [
    {
     "data": {
      "text/html": [
       "<pre class=language-r><code>.Primitive(\"length\")</code></pre>"
      ],
      "text/latex": [
       "\\begin{minted}{r}\n",
       ".Primitive(\"length\")\n",
       "\\end{minted}"
      ],
      "text/markdown": [
       "```r\n",
       ".Primitive(\"length\")\n",
       "```"
      ],
      "text/plain": [
       "function (x)  .Primitive(\"length\")"
      ]
     },
     "metadata": {},
     "output_type": "display_data"
    }
   ],
   "source": [
    "age = c( 20 , 27 , 31 , 25 , 28 )\n",
    "years = c( 2023 , 2021 , 2022 , 2026 , 2027, 2028 )\n",
    "length"
   ]
  },
  {
   "cell_type": "code",
   "execution_count": 172,
   "metadata": {},
   "outputs": [
    {
     "data": {
      "text/html": [
       "<style>\n",
       ".list-inline {list-style: none; margin:0; padding: 0}\n",
       ".list-inline>li {display: inline-block}\n",
       ".list-inline>li:not(:last-child)::after {content: \"\\00b7\"; padding: 0 .5ex}\n",
       "</style>\n",
       "<ol class=list-inline><li>0</li><li>0</li><li>0</li><li>0</li><li>0</li></ol>\n"
      ],
      "text/latex": [
       "\\begin{enumerate*}\n",
       "\\item 0\n",
       "\\item 0\n",
       "\\item 0\n",
       "\\item 0\n",
       "\\item 0\n",
       "\\end{enumerate*}\n"
      ],
      "text/markdown": [
       "1. 0\n",
       "2. 0\n",
       "3. 0\n",
       "4. 0\n",
       "5. 0\n",
       "\n",
       "\n"
      ],
      "text/plain": [
       "[1] 0 0 0 0 0"
      ]
     },
     "metadata": {},
     "output_type": "display_data"
    }
   ],
   "source": [
    "age_finish <- numeric( length = length( age ) )\n",
    "age_finish"
   ]
  },
  {
   "cell_type": "code",
   "execution_count": 173,
   "metadata": {},
   "outputs": [
    {
     "name": "stdout",
     "output_type": "stream",
     "text": [
      "[1] 2\n",
      "[1] 3\n",
      "[1] 4\n",
      "[1] 5\n",
      "[1] 6\n"
     ]
    }
   ],
   "source": [
    "for ( i in c( 1:length( age ) ) ) {\n",
    "  print(i + 1)\n",
    "}"
   ]
  },
  {
   "cell_type": "code",
   "execution_count": 174,
   "metadata": {},
   "outputs": [
    {
     "name": "stdout",
     "output_type": "stream",
     "text": [
      "[1] 22 27 32 30 34\n"
     ]
    }
   ],
   "source": [
    "for ( i in c( 1:length( age ) ) ) {\n",
    "  age_finish[ i ] = age[ i ] + years[ i ] - 2021\n",
    "}\n",
    "print( age_finish )"
   ]
  },
  {
   "cell_type": "markdown",
   "metadata": {},
   "source": [
    "## Functions in R\n",
    "\n",
    "- `Arguments` − Elements that the function will use to make operations. Arguments are optional and can have default values.\n",
    "\n",
    "- `Function Body` − This defines what your function does.\n",
    "- `return` − Specifies the variable that will be the output of the function.\n",
    "\n",
    "Return Value − The return value of a function is the last expression in the function body to be evaluated.\n",
    "<br><br>\n",
    "<font size=\"4\">\n",
    "function <font color='green'>(arg_1, arg_2, ...) </font>{<br><br>\n",
    "&nbsp;&nbsp;&nbsp;&nbsp;Function body <br>\n",
    "    <br> &nbsp;&nbsp;&nbsp;&nbsp;return <br>\n",
    "}</font>\n"
   ]
  },
  {
   "cell_type": "code",
   "execution_count": 191,
   "metadata": {},
   "outputs": [],
   "source": [
    "demean<- function(x){ \n",
    "    new_var = x - mean(x)\n",
    "    new_var_2 = new_var^4\n",
    "    return( new_var_2 )\n",
    "}"
   ]
  },
  {
   "cell_type": "code",
   "execution_count": 192,
   "metadata": {},
   "outputs": [],
   "source": [
    "vector_2 = c(2 , 3, 4)"
   ]
  },
  {
   "cell_type": "code",
   "execution_count": 193,
   "metadata": {},
   "outputs": [
    {
     "data": {
      "text/html": [
       "<style>\n",
       ".list-inline {list-style: none; margin:0; padding: 0}\n",
       ".list-inline>li {display: inline-block}\n",
       ".list-inline>li:not(:last-child)::after {content: \"\\00b7\"; padding: 0 .5ex}\n",
       "</style>\n",
       "<ol class=list-inline><li>1</li><li>0</li><li>1</li></ol>\n"
      ],
      "text/latex": [
       "\\begin{enumerate*}\n",
       "\\item 1\n",
       "\\item 0\n",
       "\\item 1\n",
       "\\end{enumerate*}\n"
      ],
      "text/markdown": [
       "1. 1\n",
       "2. 0\n",
       "3. 1\n",
       "\n",
       "\n"
      ],
      "text/plain": [
       "[1] 1 0 1"
      ]
     },
     "metadata": {},
     "output_type": "display_data"
    }
   ],
   "source": [
    "demean( vector_2 )"
   ]
  },
  {
   "cell_type": "markdown",
   "metadata": {},
   "source": [
    "### Plot"
   ]
  },
  {
   "cell_type": "code",
   "execution_count": 186,
   "metadata": {},
   "outputs": [],
   "source": [
    "# See avilable data\n",
    "data()"
   ]
  },
  {
   "cell_type": "code",
   "execution_count": 190,
   "metadata": {},
   "outputs": [
    {
     "data": {
      "image/png": "[encoded data removed]",
      "text/plain": [
       "plot without title"
      ]
     },
     "metadata": {
      "image/png": {
       "height": 420,
       "width": 420
      }
     },
     "output_type": "display_data"
    }
   ],
   "source": [
    "Speed <- cars$speed\n",
    "Distance <- cars$dist\n",
    "plot(Speed, Distance, panel.first = grid(8, 8),\n",
    "     pch = 0, cex = 1.2, col = \"blue\" )\n",
    "abline(h=100, lty = 3, col = 4)\n",
    "abline(v=15, lty = 3, col = 2)\n",
    "abline(v=20, lty = 3, col = 2)"
   ]
  },
  {
   "cell_type": "code",
   "execution_count": null,
   "metadata": {},
   "outputs": [],
   "source": []
  }
 ],
 "metadata": {
  "hide_input": false,
  "kernelspec": {
   "display_name": "R",
   "language": "R",
   "name": "ir"
  },
  "language_info": {
   "codemirror_mode": "r",
   "file_extension": ".r",
   "mimetype": "text/x-r-source",
   "name": "R",
   "pygments_lexer": "r",
   "version": "4.0.4"
  }
 },
 "nbformat": 4,
 "nbformat_minor": 4
}
