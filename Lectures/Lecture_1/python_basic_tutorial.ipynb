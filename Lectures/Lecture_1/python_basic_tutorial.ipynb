{
 "cells": [
  {
   "cell_type": "markdown",
   "metadata": {},
   "source": [
    "# Modificación 1, script is correct!"
   ]
  },
  {
   "cell_type": "markdown",
   "metadata": {},
   "source": [
    "# Python Basic Tutorial "
   ]
  },
  {
   "cell_type": "markdown",
   "metadata": {},
   "source": [
    "# Libraries\n",
    "\n",
    "A library is a collection of modules or a single module. Modules are python programs that can be imported in another Python program. Libraries are the tools we will use to make our program."
   ]
  },
  {
   "cell_type": "code",
   "execution_count": 1,
   "metadata": {},
   "outputs": [],
   "source": [
    "import pandas as pd\n",
    "import numpy as np"
   ]
  },
  {
   "cell_type": "markdown",
   "metadata": {},
   "source": [
    "# Variables\n",
    "Containers for store data values. This variable has a label or name. This variable is an object in memory."
   ]
  },
  {
   "cell_type": "markdown",
   "metadata": {},
   "source": [
    "### Python Types\n",
    "\n",
    "There are three key python types: int, float, string and boolean."
   ]
  },
  {
   "cell_type": "code",
   "execution_count": 2,
   "metadata": {},
   "outputs": [
    {
     "data": {
      "text/plain": [
       "int"
      ]
     },
     "execution_count": 2,
     "metadata": {},
     "output_type": "execute_result"
    }
   ],
   "source": [
    "a = 30\n",
    "type(a)"
   ]
  },
  {
   "cell_type": "code",
   "execution_count": 6,
   "metadata": {},
   "outputs": [
    {
     "data": {
      "text/plain": [
       "float"
      ]
     },
     "execution_count": 6,
     "metadata": {},
     "output_type": "execute_result"
    }
   ],
   "source": [
    "a = 30.3\n",
    "type(a)"
   ]
  },
  {
   "cell_type": "code",
   "execution_count": 7,
   "metadata": {},
   "outputs": [
    {
     "data": {
      "text/plain": [
       "str"
      ]
     },
     "execution_count": 7,
     "metadata": {},
     "output_type": "execute_result"
    }
   ],
   "source": [
    "a = \"30\"\n",
    "type(a)"
   ]
  },
  {
   "cell_type": "code",
   "execution_count": 8,
   "metadata": {},
   "outputs": [
    {
     "data": {
      "text/plain": [
       "bool"
      ]
     },
     "execution_count": 8,
     "metadata": {},
     "output_type": "execute_result"
    }
   ],
   "source": [
    "a = True\n",
    "type(a)"
   ]
  },
  {
   "cell_type": "markdown",
   "metadata": {},
   "source": [
    "# List - THE KILLER\n",
    "It is a ordered and mutable Python container."
   ]
  },
  {
   "cell_type": "code",
   "execution_count": 12,
   "metadata": {},
   "outputs": [
    {
     "data": {
      "text/plain": [
       "list"
      ]
     },
     "execution_count": 12,
     "metadata": {},
     "output_type": "execute_result"
    }
   ],
   "source": [
    "a = [ 18, 20 , 30, \"alex\" ]\n",
    "type(a)"
   ]
  },
  {
   "cell_type": "markdown",
   "metadata": {},
   "source": [
    "### Indexing\n",
    "Selecting elements starting from 0. I know it sounds crazy."
   ]
  },
  {
   "cell_type": "code",
   "execution_count": 19,
   "metadata": {},
   "outputs": [
    {
     "data": {
      "text/plain": [
       "[20, 30]"
      ]
     },
     "execution_count": 19,
     "metadata": {},
     "output_type": "execute_result"
    }
   ],
   "source": [
    "a[1:3]"
   ]
  },
  {
   "cell_type": "code",
   "execution_count": 20,
   "metadata": {},
   "outputs": [
    {
     "name": "stdout",
     "output_type": "stream",
     "text": [
      "30\n",
      "[18, 20]\n"
     ]
    }
   ],
   "source": [
    "print(a[2])\n",
    "print(a[0:2])"
   ]
  },
  {
   "cell_type": "markdown",
   "metadata": {},
   "source": [
    "# Dictionaries - THE WITCH\n",
    "It is a unordered and mutable Python container."
   ]
  },
  {
   "cell_type": "code",
   "execution_count": 21,
   "metadata": {},
   "outputs": [],
   "source": [
    "# dictionary containing the population of the 5 largest german cities\n",
    "population = {'Berlin': 3748148, 'Hamburg': 1822445, 'Munich': 1471508, 'Cologne': 1085664, 'Frankfurt': 753056 }"
   ]
  },
  {
   "cell_type": "markdown",
   "metadata": {},
   "source": [
    "### Indexing\n",
    "Selecting elements"
   ]
  },
  {
   "cell_type": "code",
   "execution_count": 22,
   "metadata": {},
   "outputs": [
    {
     "data": {
      "text/plain": [
       "dict_keys(['Berlin', 'Hamburg', 'Munich', 'Cologne', 'Frankfurt'])"
      ]
     },
     "execution_count": 22,
     "metadata": {},
     "output_type": "execute_result"
    }
   ],
   "source": [
    "population.keys()"
   ]
  },
  {
   "cell_type": "code",
   "execution_count": 24,
   "metadata": {},
   "outputs": [
    {
     "data": {
      "text/plain": [
       "3748148"
      ]
     },
     "execution_count": 24,
     "metadata": {},
     "output_type": "execute_result"
    }
   ],
   "source": [
    "population['Berlin']"
   ]
  },
  {
   "cell_type": "code",
   "execution_count": 26,
   "metadata": {},
   "outputs": [
    {
     "data": {
      "text/plain": [
       "1822445"
      ]
     },
     "execution_count": 26,
     "metadata": {},
     "output_type": "execute_result"
    }
   ],
   "source": [
    "population['Hamburg']"
   ]
  },
  {
   "cell_type": "code",
   "execution_count": 34,
   "metadata": {},
   "outputs": [],
   "source": [
    "population_18_19 = {'Berlin': [3748148, 38000, \"alex\"], 'Hamburg': [1822445, 1922445], \n",
    "                    'Munich': 1471508, 'Cologne': 1085664, 'Frankfurt': 753056 , 'lima': 1100000}"
   ]
  },
  {
   "cell_type": "code",
   "execution_count": 35,
   "metadata": {},
   "outputs": [
    {
     "data": {
      "text/plain": [
       "1100000"
      ]
     },
     "execution_count": 35,
     "metadata": {},
     "output_type": "execute_result"
    }
   ],
   "source": [
    "population_18_19['lima']"
   ]
  },
  {
   "cell_type": "code",
   "execution_count": 41,
   "metadata": {},
   "outputs": [
    {
     "data": {
      "text/plain": [
       "[{'Berlin': [3748148, 38000, 'alex'],\n",
       "  'Hamburg': [1822445, 1922445],\n",
       "  'Munich': 1471508,\n",
       "  'Cologne': 1085664,\n",
       "  'Frankfurt': 753056},\n",
       " {'Lima': [3748148, 38000, 'alex'], 'Huancayo': [1822445, 1922445]}]"
      ]
     },
     "execution_count": 41,
     "metadata": {},
     "output_type": "execute_result"
    }
   ],
   "source": [
    "Ciudades_alemanas = {'Berlin': [3748148, 38000, \"alex\"], 'Hamburg': [1822445, 1922445], \n",
    "                    'Munich': 1471508, 'Cologne': 1085664, 'Frankfurt': 753056}\n",
    "\n",
    "Ciudades_lima = {'Lima': [3748148, 38000, \"alex\"], 'Huancayo': [1822445, 1922445]}\n",
    "\n",
    "population = [Ciudades_alemanas,  Ciudades_lima]\n"
   ]
  },
  {
   "cell_type": "code",
   "execution_count": 48,
   "metadata": {},
   "outputs": [
    {
     "data": {
      "text/plain": [
       "5570593"
      ]
     },
     "execution_count": 48,
     "metadata": {},
     "output_type": "execute_result"
    }
   ],
   "source": [
    "pop_germnay = Ciudades_alemanas[\"Berlin\"][0] + Ciudades_alemanas[\"Hamburg\"][0] \n",
    "pop_germnay"
   ]
  },
  {
   "cell_type": "code",
   "execution_count": 50,
   "metadata": {},
   "outputs": [
    {
     "data": {
      "text/plain": [
       "list"
      ]
     },
     "execution_count": 50,
     "metadata": {},
     "output_type": "execute_result"
    }
   ],
   "source": [
    "type(population)"
   ]
  },
  {
   "cell_type": "markdown",
   "metadata": {},
   "source": [
    "# Numpy\n",
    "\n",
    "They are arrays that are 50 times faster than lists. We can used them to make matrix operations."
   ]
  },
  {
   "cell_type": "code",
   "execution_count": 51,
   "metadata": {},
   "outputs": [
    {
     "name": "stdout",
     "output_type": "stream",
     "text": [
      "[3 4 5]\n"
     ]
    },
    {
     "data": {
      "text/plain": [
       "numpy.ndarray"
      ]
     },
     "execution_count": 51,
     "metadata": {},
     "output_type": "execute_result"
    }
   ],
   "source": [
    "a = np.array( [3, 4, 5])\n",
    "print(a)\n",
    "type(a)"
   ]
  },
  {
   "cell_type": "markdown",
   "metadata": {},
   "source": [
    "### [Key Methods](https://cs231n.github.io/python-numpy-tutorial/)\n",
    "\n",
    "| Method | Description |\n",
    "| -------- | ------------ |\n",
    "|dtype  | type of elements in the array|\n",
    "|ndim   |  dimension of array|\n",
    "|shape  |  tuple with the dimmension of the array|\n",
    "|size |  total number of elements in the array|"
   ]
  },
  {
   "cell_type": "code",
   "execution_count": 52,
   "metadata": {},
   "outputs": [
    {
     "name": "stdout",
     "output_type": "stream",
     "text": [
      "5\n",
      "(5,)\n",
      "1\n",
      "int32\n"
     ]
    }
   ],
   "source": [
    "# 1-D array THIS IS NOT A VECTOR \n",
    "a = np.array([1,2,3,4,5])\n",
    "print(a.size)\n",
    "print(a.shape)\n",
    "print(a.ndim)\n",
    "print(a.dtype)"
   ]
  },
  {
   "cell_type": "code",
   "execution_count": 34,
   "metadata": {},
   "outputs": [
    {
     "name": "stdout",
     "output_type": "stream",
     "text": [
      "5\n",
      "(5,)\n",
      "1\n",
      "int32\n",
      "d array 4\n",
      "(2, 2)\n",
      "2\n",
      "int32\n"
     ]
    }
   ],
   "source": [
    "# 2-D array THIS IS A VECTOR\n",
    "d = np.array([[1,2],[3,4]])\n",
    "print( \"d array\", d.size)\n",
    "print(d.shape)\n",
    "print(d.ndim)\n",
    "print(d.dtype)"
   ]
  },
  {
   "cell_type": "markdown",
   "metadata": {},
   "source": [
    "### ***[Array Creation Routines](https://numpy.org/doc/stable/reference/routines.array-creation.html)***\n"
   ]
  },
  {
   "cell_type": "markdown",
   "metadata": {},
   "source": [
    "|Function|Return|\n",
    "| --- | --- |\n",
    "|arange( )|array of sequence|\n",
    "|eye( )|diagonal array|\n",
    "|ones( )|array of ones|\n",
    "|zeros( )|array of zeros|"
   ]
  },
  {
   "cell_type": "code",
   "execution_count": 56,
   "metadata": {},
   "outputs": [
    {
     "data": {
      "text/plain": [
       "array([1, 3, 5, 7, 9])"
      ]
     },
     "execution_count": 56,
     "metadata": {},
     "output_type": "execute_result"
    }
   ],
   "source": [
    "peru = np.arange(1, 10, 2)\n",
    "peru"
   ]
  },
  {
   "cell_type": "code",
   "execution_count": 57,
   "metadata": {},
   "outputs": [
    {
     "data": {
      "text/plain": [
       "array([ 1,  6, 11])"
      ]
     },
     "execution_count": 57,
     "metadata": {},
     "output_type": "execute_result"
    }
   ],
   "source": [
    "peru = np.arange(start = 1,stop = 13,step = 5)\n",
    "peru"
   ]
  },
  {
   "cell_type": "code",
   "execution_count": 62,
   "metadata": {},
   "outputs": [
    {
     "data": {
      "text/plain": [
       "array([[1., 1., 1., 1., 1., 1., 1., 1., 1., 1.],\n",
       "       [1., 1., 1., 1., 1., 1., 1., 1., 1., 1.],\n",
       "       [1., 1., 1., 1., 1., 1., 1., 1., 1., 1.],\n",
       "       [1., 1., 1., 1., 1., 1., 1., 1., 1., 1.],\n",
       "       [1., 1., 1., 1., 1., 1., 1., 1., 1., 1.],\n",
       "       [1., 1., 1., 1., 1., 1., 1., 1., 1., 1.],\n",
       "       [1., 1., 1., 1., 1., 1., 1., 1., 1., 1.],\n",
       "       [1., 1., 1., 1., 1., 1., 1., 1., 1., 1.],\n",
       "       [1., 1., 1., 1., 1., 1., 1., 1., 1., 1.],\n",
       "       [1., 1., 1., 1., 1., 1., 1., 1., 1., 1.]])"
      ]
     },
     "execution_count": 62,
     "metadata": {},
     "output_type": "execute_result"
    }
   ],
   "source": [
    "a4 = np.ones((10,10))\n",
    "a4"
   ]
  },
  {
   "cell_type": "code",
   "execution_count": 64,
   "metadata": {},
   "outputs": [
    {
     "data": {
      "text/plain": [
       "array([[0., 0., 0., 0., 0., 0., 0., 0., 0., 0., 0., 0., 0., 0., 0., 0.,\n",
       "        0., 0., 0., 0.],\n",
       "       [0., 0., 0., 0., 0., 0., 0., 0., 0., 0., 0., 0., 0., 0., 0., 0.,\n",
       "        0., 0., 0., 0.],\n",
       "       [0., 0., 0., 0., 0., 0., 0., 0., 0., 0., 0., 0., 0., 0., 0., 0.,\n",
       "        0., 0., 0., 0.]])"
      ]
     },
     "execution_count": 64,
     "metadata": {},
     "output_type": "execute_result"
    }
   ],
   "source": [
    "a6 = np.zeros((3,20))\n",
    "a6"
   ]
  },
  {
   "cell_type": "code",
   "execution_count": 66,
   "metadata": {},
   "outputs": [
    {
     "data": {
      "text/plain": [
       "array([[1, 2, 3],\n",
       "       [4, 5, 6]])"
      ]
     },
     "execution_count": 66,
     "metadata": {},
     "output_type": "execute_result"
    }
   ],
   "source": [
    "lead = np.array([[1,2,3],[4,5,6]])\n",
    "lead"
   ]
  },
  {
   "cell_type": "markdown",
   "metadata": {},
   "source": [
    "\n",
    "### [Array Slicing](https://www.w3schools.com/python/numpy/numpy_array_slicing.asp)"
   ]
  },
  {
   "cell_type": "code",
   "execution_count": 67,
   "metadata": {},
   "outputs": [
    {
     "data": {
      "text/plain": [
       "array([ 1,  8,  9, 10, 15, 12,  3, 16, 20])"
      ]
     },
     "execution_count": 67,
     "metadata": {},
     "output_type": "execute_result"
    }
   ],
   "source": [
    "# 1-D\n",
    "z = np.array([1,8,9,10,15,12,3,16,20])\n",
    "z"
   ]
  },
  {
   "cell_type": "code",
   "execution_count": 69,
   "metadata": {},
   "outputs": [
    {
     "name": "stdout",
     "output_type": "stream",
     "text": [
      "[ 8  9 10 15 12]\n"
     ]
    }
   ],
   "source": [
    "print(z[1:6])"
   ]
  },
  {
   "cell_type": "code",
   "execution_count": 70,
   "metadata": {},
   "outputs": [
    {
     "name": "stdout",
     "output_type": "stream",
     "text": [
      "12\n"
     ]
    }
   ],
   "source": [
    "print(z[5])"
   ]
  },
  {
   "cell_type": "markdown",
   "metadata": {},
   "source": [
    "### ***[Array Manipulation](https://numpy.org/doc/stable/reference/routines.array-manipulation.html)***"
   ]
  },
  {
   "cell_type": "code",
   "execution_count": 71,
   "metadata": {},
   "outputs": [
    {
     "data": {
      "text/plain": [
       "array([[ 2,  3,  5,  7],\n",
       "       [11, 13, 17, 19]])"
      ]
     },
     "execution_count": 71,
     "metadata": {},
     "output_type": "execute_result"
    }
   ],
   "source": [
    "# 2-D\n",
    "\n",
    "A_2D = np.array([[2,3,5,7],[11,13,17,19]])\n",
    "A_2D"
   ]
  },
  {
   "cell_type": "code",
   "execution_count": 74,
   "metadata": {},
   "outputs": [
    {
     "data": {
      "text/plain": [
       "array([[2, 3, 5]])"
      ]
     },
     "execution_count": 74,
     "metadata": {},
     "output_type": "execute_result"
    }
   ],
   "source": [
    "A_2D[:1,:3] "
   ]
  },
  {
   "cell_type": "code",
   "execution_count": 75,
   "metadata": {},
   "outputs": [
    {
     "name": "stdout",
     "output_type": "stream",
     "text": [
      "[[ 2  3  5  7]\n",
      " [11 13 17 19]]\n",
      "[[2 3 5]]\n"
     ]
    }
   ],
   "source": [
    "print( A_2D )\n",
    "print( A_2D[:1,:3] )"
   ]
  },
  {
   "cell_type": "code",
   "execution_count": 76,
   "metadata": {},
   "outputs": [
    {
     "name": "stdout",
     "output_type": "stream",
     "text": [
      "[ 0  1  2  3  4  5  6  7  8  9 10 11 12 13 14 15 16 17 18 19 20 21 22 23\n",
      " 24]\n"
     ]
    }
   ],
   "source": [
    "# RESHAPE\n",
    "w = np.arange(0,25,1)\n",
    "print( w )"
   ]
  },
  {
   "cell_type": "code",
   "execution_count": 77,
   "metadata": {},
   "outputs": [
    {
     "name": "stdout",
     "output_type": "stream",
     "text": [
      "[[ 0  1  2  3  4]\n",
      " [ 5  6  7  8  9]\n",
      " [10 11 12 13 14]\n",
      " [15 16 17 18 19]\n",
      " [20 21 22 23 24]]\n"
     ]
    }
   ],
   "source": [
    "print( w.reshape(5,5) )"
   ]
  },
  {
   "cell_type": "code",
   "execution_count": 79,
   "metadata": {},
   "outputs": [
    {
     "name": "stdout",
     "output_type": "stream",
     "text": [
      "example 1 [[1 2]\n",
      " [3 4]]\n",
      "example 2 [[5 6]]\n"
     ]
    }
   ],
   "source": [
    "# concatenate()\n",
    "ej_1 = np.array ([[1,2],[3,4]])\n",
    "ej_2 = np.array([[5,6]])\n",
    "print(\"example 1\" , ej_1)\n",
    "print( \"example 2\" , ej_2)"
   ]
  },
  {
   "cell_type": "code",
   "execution_count": 80,
   "metadata": {},
   "outputs": [
    {
     "data": {
      "text/plain": [
       "array([[1, 2],\n",
       "       [3, 4],\n",
       "       [5, 6]])"
      ]
     },
     "execution_count": 80,
     "metadata": {},
     "output_type": "execute_result"
    }
   ],
   "source": [
    "con = np.concatenate((ej_1, ej_2), axis = 0)\n",
    "con"
   ]
  },
  {
   "cell_type": "code",
   "execution_count": 81,
   "metadata": {
    "scrolled": true
   },
   "outputs": [
    {
     "name": "stdout",
     "output_type": "stream",
     "text": [
      "example concatenate [[1 2]\n",
      " [3 4]\n",
      " [5 6]]\n"
     ]
    }
   ],
   "source": [
    "print( \"example concatenate\" , con )"
   ]
  },
  {
   "cell_type": "code",
   "execution_count": 92,
   "metadata": {},
   "outputs": [
    {
     "name": "stdout",
     "output_type": "stream",
     "text": [
      "mat1 \n",
      " [[ 1  3  5]\n",
      " [ 7  9 11]]\n",
      "mat2 \n",
      " [[0. 0. 0.]\n",
      " [0. 0. 0.]\n",
      " [0. 0. 0.]\n",
      " [0. 0. 0.]]\n"
     ]
    }
   ],
   "source": [
    "# add rows\n",
    "mat_1 = np.arange(1,13,2).reshape((2,3))\n",
    "print(\"mat1 \\n\" , mat_1)\n",
    "\n",
    "mat_2 = np.zeros((4,3))\n",
    "print(\"mat2 \\n\", mat_2)\n"
   ]
  },
  {
   "cell_type": "code",
   "execution_count": 93,
   "metadata": {},
   "outputs": [
    {
     "name": "stdout",
     "output_type": "stream",
     "text": [
      "mat3 \n",
      " [[ 1.  3.  5.]\n",
      " [ 7.  9. 11.]\n",
      " [ 0.  0.  0.]\n",
      " [ 0.  0.  0.]\n",
      " [ 0.  0.  0.]\n",
      " [ 0.  0.  0.]]\n"
     ]
    }
   ],
   "source": [
    "mat_3 = np.vstack((mat_1,mat_2))\n",
    "print(\"mat3 \\n\", mat_3)"
   ]
  },
  {
   "cell_type": "code",
   "execution_count": 94,
   "metadata": {},
   "outputs": [
    {
     "name": "stdout",
     "output_type": "stream",
     "text": [
      "mat5 \n",
      " [[ 1  7]\n",
      " [ 3  9]\n",
      " [ 5 11]]\n",
      "mat6 \n",
      " [[0. 0. 0. 0.]\n",
      " [0. 0. 0. 0.]\n",
      " [0. 0. 0. 0.]]\n",
      "mat7 \n",
      " [[ 1.  7.  0.  0.  0.  0.]\n",
      " [ 3.  9.  0.  0.  0.  0.]\n",
      " [ 5. 11.  0.  0.  0.  0.]]\n"
     ]
    }
   ],
   "source": [
    "# Transpose\n",
    "mat_5 = mat_1.T\n",
    "print(\"mat5 \\n\" ,mat_5)\n",
    "\n",
    "mat_6 = mat_2.T\n",
    "print(\"mat6 \\n\" , mat_6)\n",
    "\n",
    "# Add columns\n",
    "mat_7 = np.hstack((mat_5,mat_6))\n",
    "print(\"mat7 \\n\" , mat_7)"
   ]
  },
  {
   "cell_type": "code",
   "execution_count": 95,
   "metadata": {},
   "outputs": [
    {
     "name": "stdout",
     "output_type": "stream",
     "text": [
      "max \n",
      " 11\n",
      "min \n",
      " 1\n",
      "sum \n",
      " 36\n"
     ]
    }
   ],
   "source": [
    "print(\"max \\n\", mat_5.max())\n",
    "print(\"min \\n\", mat_5.min())\n",
    "print(\"sum \\n\", mat_5.sum())"
   ]
  },
  {
   "cell_type": "markdown",
   "metadata": {},
   "source": [
    "# [Pandas](https://pandas.pydata.org/docs/user_guide/index.html)\n",
    "It helps us to store data in a 2-dimensional labeled data structure with columns of potentially different types."
   ]
  },
  {
   "cell_type": "code",
   "execution_count": 100,
   "metadata": {},
   "outputs": [
    {
     "data": {
      "text/plain": [
       "{'Students': ['Alejandro', 'Pedro', 'Ramiro', 'Axel', 'Juan'],\n",
       " 'Math': [15, 16, 10, 12, 13],\n",
       " 'English': [13, 9, 16, 14, 17],\n",
       " 'Art': [12, 16, 15, 19, 10]}"
      ]
     },
     "execution_count": 100,
     "metadata": {},
     "output_type": "execute_result"
    }
   ],
   "source": [
    "# crear dataframe\n",
    "students = [\"Alejandro\",\"Pedro\",\"Ramiro\",\"Axel\",\"Juan\"]\n",
    "math = [15,16,10,12,13]\n",
    "english = [13,9,16,14,17]\n",
    "art = [12,16,15,19,10]\n",
    "\n",
    "# Make a dictionary\n",
    "grades = {\"Students\": students, \"Math\":math, \"English\":english, \"Art\":art}\n",
    "grades"
   ]
  },
  {
   "cell_type": "code",
   "execution_count": 101,
   "metadata": {},
   "outputs": [
    {
     "data": {
      "text/html": [
       "<div>\n",
       "<style scoped>\n",
       "    .dataframe tbody tr th:only-of-type {\n",
       "        vertical-align: middle;\n",
       "    }\n",
       "\n",
       "    .dataframe tbody tr th {\n",
       "        vertical-align: top;\n",
       "    }\n",
       "\n",
       "    .dataframe thead th {\n",
       "        text-align: right;\n",
       "    }\n",
       "</style>\n",
       "<table border=\"1\" class=\"dataframe\">\n",
       "  <thead>\n",
       "    <tr style=\"text-align: right;\">\n",
       "      <th></th>\n",
       "      <th>Students</th>\n",
       "      <th>Math</th>\n",
       "      <th>English</th>\n",
       "      <th>Art</th>\n",
       "    </tr>\n",
       "  </thead>\n",
       "  <tbody>\n",
       "    <tr>\n",
       "      <th>0</th>\n",
       "      <td>Alejandro</td>\n",
       "      <td>15</td>\n",
       "      <td>13</td>\n",
       "      <td>12</td>\n",
       "    </tr>\n",
       "    <tr>\n",
       "      <th>1</th>\n",
       "      <td>Pedro</td>\n",
       "      <td>16</td>\n",
       "      <td>9</td>\n",
       "      <td>16</td>\n",
       "    </tr>\n",
       "    <tr>\n",
       "      <th>2</th>\n",
       "      <td>Ramiro</td>\n",
       "      <td>10</td>\n",
       "      <td>16</td>\n",
       "      <td>15</td>\n",
       "    </tr>\n",
       "    <tr>\n",
       "      <th>3</th>\n",
       "      <td>Axel</td>\n",
       "      <td>12</td>\n",
       "      <td>14</td>\n",
       "      <td>19</td>\n",
       "    </tr>\n",
       "    <tr>\n",
       "      <th>4</th>\n",
       "      <td>Juan</td>\n",
       "      <td>13</td>\n",
       "      <td>17</td>\n",
       "      <td>10</td>\n",
       "    </tr>\n",
       "  </tbody>\n",
       "</table>\n",
       "</div>"
      ],
      "text/plain": [
       "    Students  Math  English  Art\n",
       "0  Alejandro    15       13   12\n",
       "1      Pedro    16        9   16\n",
       "2     Ramiro    10       16   15\n",
       "3       Axel    12       14   19\n",
       "4       Juan    13       17   10"
      ]
     },
     "execution_count": 101,
     "metadata": {},
     "output_type": "execute_result"
    }
   ],
   "source": [
    "df1 = pd.DataFrame( grades )\n",
    "df1"
   ]
  },
  {
   "cell_type": "code",
   "execution_count": 102,
   "metadata": {},
   "outputs": [
    {
     "data": {
      "text/html": [
       "<div>\n",
       "<style scoped>\n",
       "    .dataframe tbody tr th:only-of-type {\n",
       "        vertical-align: middle;\n",
       "    }\n",
       "\n",
       "    .dataframe tbody tr th {\n",
       "        vertical-align: top;\n",
       "    }\n",
       "\n",
       "    .dataframe thead th {\n",
       "        text-align: right;\n",
       "    }\n",
       "</style>\n",
       "<table border=\"1\" class=\"dataframe\">\n",
       "  <thead>\n",
       "    <tr style=\"text-align: right;\">\n",
       "      <th></th>\n",
       "      <th>s</th>\n",
       "      <th>m</th>\n",
       "      <th>e</th>\n",
       "      <th>a</th>\n",
       "    </tr>\n",
       "  </thead>\n",
       "  <tbody>\n",
       "    <tr>\n",
       "      <th>0</th>\n",
       "      <td>Alejandro</td>\n",
       "      <td>15</td>\n",
       "      <td>13</td>\n",
       "      <td>12</td>\n",
       "    </tr>\n",
       "    <tr>\n",
       "      <th>1</th>\n",
       "      <td>Pedro</td>\n",
       "      <td>16</td>\n",
       "      <td>9</td>\n",
       "      <td>16</td>\n",
       "    </tr>\n",
       "    <tr>\n",
       "      <th>2</th>\n",
       "      <td>Ramiro</td>\n",
       "      <td>10</td>\n",
       "      <td>16</td>\n",
       "      <td>15</td>\n",
       "    </tr>\n",
       "    <tr>\n",
       "      <th>3</th>\n",
       "      <td>Axel</td>\n",
       "      <td>12</td>\n",
       "      <td>14</td>\n",
       "      <td>19</td>\n",
       "    </tr>\n",
       "    <tr>\n",
       "      <th>4</th>\n",
       "      <td>Juan</td>\n",
       "      <td>13</td>\n",
       "      <td>17</td>\n",
       "      <td>10</td>\n",
       "    </tr>\n",
       "  </tbody>\n",
       "</table>\n",
       "</div>"
      ],
      "text/plain": [
       "           s   m   e   a\n",
       "0  Alejandro  15  13  12\n",
       "1      Pedro  16   9  16\n",
       "2     Ramiro  10  16  15\n",
       "3       Axel  12  14  19\n",
       "4       Juan  13  17  10"
      ]
     },
     "execution_count": 102,
     "metadata": {},
     "output_type": "execute_result"
    }
   ],
   "source": [
    "# Change columns names\n",
    "df1.rename( columns = { \"Students\":'s', \"Math\":'m', \"English\":'e', \"Art\":'a'})"
   ]
  },
  {
   "cell_type": "code",
   "execution_count": 103,
   "metadata": {},
   "outputs": [],
   "source": [
    "# Add column and index row name\n",
    "data = {'state': ['Lima', 'Piura', 'Tumbes', 'Cuzco', 'Ica', 'Puno'],\n",
    "        'year': [2000, 2001, 2002, 2001, 2002, 2003],\n",
    "        'pop': [1.5, 1.7, 3.6, 2.4, 2.9, 3.2]}"
   ]
  },
  {
   "cell_type": "code",
   "execution_count": 106,
   "metadata": {},
   "outputs": [
    {
     "name": "stdout",
     "output_type": "stream",
     "text": [
      "       year   state  pop debt\n",
      "one    2000    Lima  1.5  NaN\n",
      "two    2001   Piura  1.7  NaN\n",
      "three  2002  Tumbes  3.6  NaN\n",
      "four   2001   Cuzco  2.4  NaN\n",
      "five   2002     Ica  2.9  NaN\n",
      "six    2003    Puno  3.2  NaN \n",
      "\n"
     ]
    }
   ],
   "source": [
    "frame2 = pd.DataFrame(data, \n",
    "                      columns=[\"year\", 'state', 'pop', 'debt'] ,\n",
    "                      index=['one', 'two', 'three', 'four','five', 'six'] )\n",
    "frame2\n",
    "print( frame2 , \"\\n\")"
   ]
  },
  {
   "cell_type": "code",
   "execution_count": 108,
   "metadata": {},
   "outputs": [
    {
     "data": {
      "text/html": [
       "<div>\n",
       "<style scoped>\n",
       "    .dataframe tbody tr th:only-of-type {\n",
       "        vertical-align: middle;\n",
       "    }\n",
       "\n",
       "    .dataframe tbody tr th {\n",
       "        vertical-align: top;\n",
       "    }\n",
       "\n",
       "    .dataframe thead th {\n",
       "        text-align: right;\n",
       "    }\n",
       "</style>\n",
       "<table border=\"1\" class=\"dataframe\">\n",
       "  <thead>\n",
       "    <tr style=\"text-align: right;\">\n",
       "      <th></th>\n",
       "      <th>year</th>\n",
       "      <th>state</th>\n",
       "      <th>pop</th>\n",
       "      <th>debt</th>\n",
       "    </tr>\n",
       "  </thead>\n",
       "  <tbody>\n",
       "    <tr>\n",
       "      <th>one</th>\n",
       "      <td>2000</td>\n",
       "      <td>Lima</td>\n",
       "      <td>1.5</td>\n",
       "      <td>1</td>\n",
       "    </tr>\n",
       "    <tr>\n",
       "      <th>two</th>\n",
       "      <td>2001</td>\n",
       "      <td>Piura</td>\n",
       "      <td>1.7</td>\n",
       "      <td>3</td>\n",
       "    </tr>\n",
       "    <tr>\n",
       "      <th>three</th>\n",
       "      <td>2002</td>\n",
       "      <td>Tumbes</td>\n",
       "      <td>3.6</td>\n",
       "      <td>5</td>\n",
       "    </tr>\n",
       "    <tr>\n",
       "      <th>four</th>\n",
       "      <td>2001</td>\n",
       "      <td>Cuzco</td>\n",
       "      <td>2.4</td>\n",
       "      <td>7</td>\n",
       "    </tr>\n",
       "    <tr>\n",
       "      <th>five</th>\n",
       "      <td>2002</td>\n",
       "      <td>Ica</td>\n",
       "      <td>2.9</td>\n",
       "      <td>9</td>\n",
       "    </tr>\n",
       "    <tr>\n",
       "      <th>six</th>\n",
       "      <td>2003</td>\n",
       "      <td>Puno</td>\n",
       "      <td>3.2</td>\n",
       "      <td>11</td>\n",
       "    </tr>\n",
       "  </tbody>\n",
       "</table>\n",
       "</div>"
      ],
      "text/plain": [
       "       year   state  pop  debt\n",
       "one    2000    Lima  1.5     1\n",
       "two    2001   Piura  1.7     3\n",
       "three  2002  Tumbes  3.6     5\n",
       "four   2001   Cuzco  2.4     7\n",
       "five   2002     Ica  2.9     9\n",
       "six    2003    Puno  3.2    11"
      ]
     },
     "execution_count": 108,
     "metadata": {},
     "output_type": "execute_result"
    }
   ],
   "source": [
    "# Ads column\n",
    "frame2[\"debt\"] = np.arange(1,12,2)\n",
    "frame2"
   ]
  },
  {
   "cell_type": "markdown",
   "metadata": {},
   "source": [
    "### [Slicing](https://www.opentechguides.com/how-to/article/pandas/193/index-slice-subset.html)\n",
    "\n",
    "|Function|Return|\n",
    "| --- | --- |\n",
    "|iloc( )|Only numbers and booleans|\n",
    "|loc( )|Name of columns and number of rows|\n",
    "\n",
    "Everything starts form zero. Sorry :("
   ]
  },
  {
   "cell_type": "code",
   "execution_count": 109,
   "metadata": {},
   "outputs": [
    {
     "data": {
      "text/html": [
       "<div>\n",
       "<style scoped>\n",
       "    .dataframe tbody tr th:only-of-type {\n",
       "        vertical-align: middle;\n",
       "    }\n",
       "\n",
       "    .dataframe tbody tr th {\n",
       "        vertical-align: top;\n",
       "    }\n",
       "\n",
       "    .dataframe thead th {\n",
       "        text-align: right;\n",
       "    }\n",
       "</style>\n",
       "<table border=\"1\" class=\"dataframe\">\n",
       "  <thead>\n",
       "    <tr style=\"text-align: right;\">\n",
       "      <th></th>\n",
       "      <th>state</th>\n",
       "      <th>pop</th>\n",
       "    </tr>\n",
       "  </thead>\n",
       "  <tbody>\n",
       "    <tr>\n",
       "      <th>one</th>\n",
       "      <td>Lima</td>\n",
       "      <td>1.5</td>\n",
       "    </tr>\n",
       "    <tr>\n",
       "      <th>four</th>\n",
       "      <td>Cuzco</td>\n",
       "      <td>2.4</td>\n",
       "    </tr>\n",
       "    <tr>\n",
       "      <th>five</th>\n",
       "      <td>Ica</td>\n",
       "      <td>2.9</td>\n",
       "    </tr>\n",
       "  </tbody>\n",
       "</table>\n",
       "</div>"
      ],
      "text/plain": [
       "      state  pop\n",
       "one    Lima  1.5\n",
       "four  Cuzco  2.4\n",
       "five    Ica  2.9"
      ]
     },
     "execution_count": 109,
     "metadata": {},
     "output_type": "execute_result"
    }
   ],
   "source": [
    "# Boolean complete list\n",
    "frame2.iloc[[True, False, False, True, True, False], 1:3]"
   ]
  },
  {
   "cell_type": "code",
   "execution_count": 110,
   "metadata": {},
   "outputs": [
    {
     "data": {
      "text/html": [
       "<div>\n",
       "<style scoped>\n",
       "    .dataframe tbody tr th:only-of-type {\n",
       "        vertical-align: middle;\n",
       "    }\n",
       "\n",
       "    .dataframe tbody tr th {\n",
       "        vertical-align: top;\n",
       "    }\n",
       "\n",
       "    .dataframe thead th {\n",
       "        text-align: right;\n",
       "    }\n",
       "</style>\n",
       "<table border=\"1\" class=\"dataframe\">\n",
       "  <thead>\n",
       "    <tr style=\"text-align: right;\">\n",
       "      <th></th>\n",
       "      <th>state</th>\n",
       "      <th>pop</th>\n",
       "    </tr>\n",
       "  </thead>\n",
       "  <tbody>\n",
       "    <tr>\n",
       "      <th>one</th>\n",
       "      <td>Lima</td>\n",
       "      <td>1.5</td>\n",
       "    </tr>\n",
       "    <tr>\n",
       "      <th>two</th>\n",
       "      <td>Piura</td>\n",
       "      <td>1.7</td>\n",
       "    </tr>\n",
       "    <tr>\n",
       "      <th>three</th>\n",
       "      <td>Tumbes</td>\n",
       "      <td>3.6</td>\n",
       "    </tr>\n",
       "    <tr>\n",
       "      <th>four</th>\n",
       "      <td>Cuzco</td>\n",
       "      <td>2.4</td>\n",
       "    </tr>\n",
       "  </tbody>\n",
       "</table>\n",
       "</div>"
      ],
      "text/plain": [
       "        state  pop\n",
       "one      Lima  1.5\n",
       "two     Piura  1.7\n",
       "three  Tumbes  3.6\n",
       "four    Cuzco  2.4"
      ]
     },
     "execution_count": 110,
     "metadata": {},
     "output_type": "execute_result"
    }
   ],
   "source": [
    "# index number \n",
    "frame2.iloc[0:4, 1:3]"
   ]
  },
  {
   "cell_type": "code",
   "execution_count": 94,
   "metadata": {},
   "outputs": [
    {
     "ename": "SyntaxError",
     "evalue": "invalid syntax (<ipython-input-94-4c600bd594ed>, line 1)",
     "output_type": "error",
     "traceback": [
      "\u001b[1;36m  File \u001b[1;32m\"<ipython-input-94-4c600bd594ed>\"\u001b[1;36m, line \u001b[1;32m1\u001b[0m\n\u001b[1;33m    frame2.loc[[0:4], ['state', 'pop']]\u001b[0m\n\u001b[1;37m                 ^\u001b[0m\n\u001b[1;31mSyntaxError\u001b[0m\u001b[1;31m:\u001b[0m invalid syntax\n"
     ]
    }
   ],
   "source": [
    "frame2.loc[[0:4], ['state', 'pop']]\n",
    "# problems\n",
    "# row index in names"
   ]
  },
  {
   "cell_type": "code",
   "execution_count": 96,
   "metadata": {
    "scrolled": true
   },
   "outputs": [
    {
     "data": {
      "text/html": [
       "<div>\n",
       "<style scoped>\n",
       "    .dataframe tbody tr th:only-of-type {\n",
       "        vertical-align: middle;\n",
       "    }\n",
       "\n",
       "    .dataframe tbody tr th {\n",
       "        vertical-align: top;\n",
       "    }\n",
       "\n",
       "    .dataframe thead th {\n",
       "        text-align: right;\n",
       "    }\n",
       "</style>\n",
       "<table border=\"1\" class=\"dataframe\">\n",
       "  <thead>\n",
       "    <tr style=\"text-align: right;\">\n",
       "      <th></th>\n",
       "      <th>state</th>\n",
       "      <th>pop</th>\n",
       "    </tr>\n",
       "  </thead>\n",
       "  <tbody>\n",
       "    <tr>\n",
       "      <th>one</th>\n",
       "      <td>Lima</td>\n",
       "      <td>1.5</td>\n",
       "    </tr>\n",
       "    <tr>\n",
       "      <th>four</th>\n",
       "      <td>Cuzco</td>\n",
       "      <td>2.4</td>\n",
       "    </tr>\n",
       "  </tbody>\n",
       "</table>\n",
       "</div>"
      ],
      "text/plain": [
       "      state  pop\n",
       "one    Lima  1.5\n",
       "four  Cuzco  2.4"
      ]
     },
     "execution_count": 96,
     "metadata": {},
     "output_type": "execute_result"
    }
   ],
   "source": [
    "frame2.loc[['one', 'four'], ['state', 'pop']]"
   ]
  },
  {
   "cell_type": "code",
   "execution_count": 99,
   "metadata": {},
   "outputs": [
    {
     "data": {
      "text/html": [
       "<div>\n",
       "<style scoped>\n",
       "    .dataframe tbody tr th:only-of-type {\n",
       "        vertical-align: middle;\n",
       "    }\n",
       "\n",
       "    .dataframe tbody tr th {\n",
       "        vertical-align: top;\n",
       "    }\n",
       "\n",
       "    .dataframe thead th {\n",
       "        text-align: right;\n",
       "    }\n",
       "</style>\n",
       "<table border=\"1\" class=\"dataframe\">\n",
       "  <thead>\n",
       "    <tr style=\"text-align: right;\">\n",
       "      <th></th>\n",
       "      <th>year</th>\n",
       "      <th>state</th>\n",
       "      <th>pop</th>\n",
       "      <th>debt</th>\n",
       "    </tr>\n",
       "  </thead>\n",
       "  <tbody>\n",
       "    <tr>\n",
       "      <th>one</th>\n",
       "      <td>2000</td>\n",
       "      <td>Lima</td>\n",
       "      <td>1.5</td>\n",
       "      <td>1</td>\n",
       "    </tr>\n",
       "    <tr>\n",
       "      <th>two</th>\n",
       "      <td>2001</td>\n",
       "      <td>Piura</td>\n",
       "      <td>1.7</td>\n",
       "      <td>3</td>\n",
       "    </tr>\n",
       "    <tr>\n",
       "      <th>four</th>\n",
       "      <td>2001</td>\n",
       "      <td>Cuzco</td>\n",
       "      <td>2.4</td>\n",
       "      <td>7</td>\n",
       "    </tr>\n",
       "    <tr>\n",
       "      <th>five</th>\n",
       "      <td>2002</td>\n",
       "      <td>Ica</td>\n",
       "      <td>2.9</td>\n",
       "      <td>9</td>\n",
       "    </tr>\n",
       "    <tr>\n",
       "      <th>three</th>\n",
       "      <td>2002</td>\n",
       "      <td>Tumbes</td>\n",
       "      <td>3.6</td>\n",
       "      <td>5</td>\n",
       "    </tr>\n",
       "    <tr>\n",
       "      <th>six</th>\n",
       "      <td>2003</td>\n",
       "      <td>Puno</td>\n",
       "      <td>3.2</td>\n",
       "      <td>11</td>\n",
       "    </tr>\n",
       "  </tbody>\n",
       "</table>\n",
       "</div>"
      ],
      "text/plain": [
       "       year   state  pop  debt\n",
       "one    2000    Lima  1.5     1\n",
       "two    2001   Piura  1.7     3\n",
       "four   2001   Cuzco  2.4     7\n",
       "five   2002     Ica  2.9     9\n",
       "three  2002  Tumbes  3.6     5\n",
       "six    2003    Puno  3.2    11"
      ]
     },
     "execution_count": 99,
     "metadata": {},
     "output_type": "execute_result"
    }
   ],
   "source": [
    "frame2.sort_values([\"year\",\"pop\"])"
   ]
  },
  {
   "cell_type": "markdown",
   "metadata": {},
   "source": [
    "# If condition\n",
    "\n",
    "Function **if** test conditions. \n",
    "- Equals: a == b\n",
    "- Not Equals: a != b\n",
    "- Less than: a < b\n",
    "- Less than or equal to: a <= b\n",
    "- Greater than: a > b\n",
    "- Greater than or equal to: a >= b\n",
    "\n",
    "<img src=\"https://www.dropbox.com/s/8xwqk2ze1116qvp/if-statement.jpg?dl=1\" alt=\"image info\" />"
   ]
  },
  {
   "cell_type": "code",
   "execution_count": 111,
   "metadata": {},
   "outputs": [
    {
     "name": "stdout",
     "output_type": "stream",
     "text": [
      "result A == B \tFalse \n",
      "\n",
      "result A != B \t  True \n",
      "\n",
      "result A > B \t False \n",
      "\n"
     ]
    }
   ],
   "source": [
    "A = 20\n",
    "B = 30\n",
    "\n",
    "result = A == B\n",
    "print( f'result A == B \\t{result} \\n')\n",
    "\n",
    "result = A != B\n",
    "print(f'result A != B \\t  {result} \\n' )\n",
    "\n",
    "result = A > B\n",
    "print(f'result A > B \\t {result} \\n')"
   ]
  },
  {
   "cell_type": "code",
   "execution_count": 117,
   "metadata": {},
   "outputs": [
    {
     "data": {
      "text/plain": [
       "True"
      ]
     },
     "execution_count": 117,
     "metadata": {},
     "output_type": "execute_result"
    }
   ],
   "source": [
    "A = 30\n",
    "B = 20\n",
    "result = A > B\n",
    "result"
   ]
  },
  {
   "cell_type": "markdown",
   "metadata": {},
   "source": [
    "The structure of the code is the following: <br><br>\n",
    "\n",
    "<font size=\"4\">\n",
    "if <font color='green'>test expresion</font>:<br>\n",
    "&nbsp;&nbsp;&nbsp;&nbsp;Code to excute<br>\n",
    "</font>\n",
    "\n",
    "The function **if** tests the veracity of a logic expression. The result of test statement should be a **<font color='red'>boolean</font>**. In other words, the output of the test statemen must be **<font color='red'>True</font>** or **<font color='red'>False</font>**. To sum, any function that its output is **boolean** can be used as a test expression in the **if** function. "
   ]
  },
  {
   "cell_type": "markdown",
   "metadata": {},
   "source": [
    "### Tests more than 1 expression\n",
    "\n",
    "We will use **elif**. This function allows us to add more test expressions.  <br><br>\n",
    "\n",
    "\n",
    "\n",
    "<font size=\"4\">\n",
    "if <font color='green'>test expresion1</font>: <br>\n",
    "&nbsp;&nbsp;&nbsp;&nbsp;Code1<br><br>\n",
    "elif <font color='green'>test expresion2</font>:<br>\n",
    "&nbsp;&nbsp;&nbsp;&nbsp;Code2<br><br>\n",
    "elif <font color='green'>test expresion3</font>:<br>\n",
    "&nbsp;&nbsp;&nbsp;&nbsp;Code3<br><br>\n",
    "elif <font color='green'>test expresion4</font>:<br>\n",
    "&nbsp;&nbsp;&nbsp;&nbsp;Code4<br><br>\n",
    "elif <font color='green'>test expresion5</font>:<br>\n",
    "&nbsp;&nbsp;&nbsp;&nbsp;Code5<br><br>\n",
    "else :<br>\n",
    "&nbsp;&nbsp;&nbsp;&nbsp;Code6<br><br>\n",
    "</font>\n",
    "\n",
    "Python will read the conditions of the test in order. \n",
    "If **Test expression 1** is `True`, the rest of the test expressions will not be evaluated. \n",
    "R execute **Code2** and will not test the next conditions. <br>\n",
    "\n",
    "In case no Test expression is `True`, the **Code6** will be excuted."
   ]
  },
  {
   "cell_type": "code",
   "execution_count": 118,
   "metadata": {},
   "outputs": [
    {
     "name": "stdout",
     "output_type": "stream",
     "text": [
      "Test expresion 4 is True\n"
     ]
    }
   ],
   "source": [
    "A = 20\n",
    "B = 30\n",
    "\n",
    "if A == B:\n",
    "    print( 'Test expresion 1 is True' )\n",
    "    \n",
    "elif A > B:\n",
    "    print( 'Test expresion 2 is True' )\n",
    "\n",
    "elif A >= B:\n",
    "    print( 'Test expresion 3 is True' )\n",
    "    \n",
    "elif A < B:\n",
    "    print( 'Test expresion 4 is True' )\n",
    "    \n",
    "elif A <= B:\n",
    "    print( 'Test expresion 5 is True' )\n",
    "    \n",
    "else:\n",
    "    print( 'Test expresion 6 is True' )"
   ]
  },
  {
   "cell_type": "markdown",
   "metadata": {},
   "source": [
    "# For Loops\n",
    "\n",
    "A for loop is used for iterating over a sequence. It has the following structure:\n",
    "\n",
    "<img src=\"https://www.dropbox.com/s/a51fbr4m0vpvobe/for_loop.jpg?dl=1\" alt=\"image info\" />\n",
    "\n"
   ]
  },
  {
   "cell_type": "code",
   "execution_count": 119,
   "metadata": {},
   "outputs": [
    {
     "data": {
      "text/plain": [
       "array([15, 20, 25, 30, 35, 40, 48])"
      ]
     },
     "execution_count": 119,
     "metadata": {},
     "output_type": "execute_result"
    }
   ],
   "source": [
    "sequence = np.array( [15, 20, 25, 30 , 35 , 40 , 48 ] )\n",
    "sequence"
   ]
  },
  {
   "cell_type": "code",
   "execution_count": 126,
   "metadata": {},
   "outputs": [
    {
     "name": "stdout",
     "output_type": "stream",
     "text": [
      "16\n",
      "22\n",
      "28\n",
      "34\n",
      "40\n",
      "46\n",
      "55\n"
     ]
    }
   ],
   "source": [
    "i = 0\n",
    "for element in sequence:\n",
    "    i = i + 1 \n",
    "    print( element  + i)"
   ]
  },
  {
   "cell_type": "markdown",
   "metadata": {},
   "source": [
    "# Nested For Loop"
   ]
  },
  {
   "cell_type": "code",
   "execution_count": 127,
   "metadata": {},
   "outputs": [
    {
     "data": {
      "text/plain": [
       "[[11, 12, 11], [15, 16, 16], [17, 17, 18]]"
      ]
     },
     "execution_count": 127,
     "metadata": {},
     "output_type": "execute_result"
    }
   ],
   "source": [
    "age_class = [ [11, 12, 11] , [15, 16, 16] , [17, 17, 18]]\n",
    "age_class"
   ]
  },
  {
   "cell_type": "code",
   "execution_count": 128,
   "metadata": {
    "scrolled": true
   },
   "outputs": [
    {
     "name": "stdout",
     "output_type": "stream",
     "text": [
      "[11, 12, 11]\n",
      "11\n",
      "12\n",
      "11\n",
      "[15, 16, 16]\n",
      "15\n",
      "16\n",
      "16\n",
      "[17, 17, 18]\n",
      "17\n",
      "17\n",
      "18\n"
     ]
    }
   ],
   "source": [
    "for classs in age_class:\n",
    "    print( classs )\n",
    "    \n",
    "    for age in classs:\n",
    "        print( age )"
   ]
  },
  {
   "cell_type": "code",
   "execution_count": 132,
   "metadata": {},
   "outputs": [
    {
     "name": "stdout",
     "output_type": "stream",
     "text": [
      "Miguel is 20\n",
      "Anthony is 18\n",
      "Paul is 15\n",
      "Rodrigo is 20\n",
      "Jason is 22\n"
     ]
    }
   ],
   "source": [
    "# secuencia\n",
    "students = [ 'Miguel' , 'Anthony', 'Paul', 'Rodrigo', 'Jason' ]\n",
    "\n",
    "# age\n",
    "gr_age = [ 20, 18, 15, 20, 22]\n",
    "\n",
    "# Loops\n",
    "for student, age in zip( students , gr_age ):\n",
    "    print(f'{ student } is { age }')"
   ]
  },
  {
   "cell_type": "code",
   "execution_count": 133,
   "metadata": {},
   "outputs": [
    {
     "name": "stdout",
     "output_type": "stream",
     "text": [
      "Miguel is 20\n",
      "Anthony is 18\n",
      "Paul is 15\n",
      "Rodrigo is 20\n"
     ]
    }
   ],
   "source": [
    "## Diferent dimmensions\n",
    "# secuencia\n",
    "students = [ 'Miguel' , 'Anthony', 'Paul', 'Rodrigo', 'Jason' ]\n",
    "\n",
    "# Edades\n",
    "gr_age = [ 20, 18, 15, 20 ]\n",
    "\n",
    "for student, age in zip( students , gr_age ):\n",
    "    print(f'{ student } is { age }')"
   ]
  },
  {
   "cell_type": "markdown",
   "metadata": {},
   "source": [
    "# Functions\n",
    "\n",
    "- `Arguments` − Elements that the function will use to make operations. Arguments are optional and can have default values.\n",
    "\n",
    "- `Function Body` − This defines what your function does.\n",
    "- `return` − Specifies the variable that will be the output of the function.\n",
    "\n",
    "Return Value − The return value of a function is the last expression in the function body to be evaluated.\n",
    "<br><br>\n",
    "<font size=\"4\">\n",
    "<font color='green'>def</font> function_name <font color='green'>(arg_1, arg_2, ...) </font>:<br><br>\n",
    "&nbsp;&nbsp;&nbsp;&nbsp;Function body <br>\n",
    "    <br> &nbsp;&nbsp;&nbsp;&nbsp;<font color='green'>return</font> result<br>\n",
    "</font>"
   ]
  },
  {
   "cell_type": "code",
   "execution_count": null,
   "metadata": {},
   "outputs": [],
   "source": [
    "def function_name(x):\n",
    "    \n",
    "    # code\n",
    "    \n",
    "    return result\n"
   ]
  },
  {
   "cell_type": "code",
   "execution_count": 140,
   "metadata": {},
   "outputs": [],
   "source": [
    "def suma(x, y):\n",
    "    mate = (x + y)*15\n",
    "    return mate"
   ]
  },
  {
   "cell_type": "code",
   "execution_count": 141,
   "metadata": {},
   "outputs": [
    {
     "data": {
      "text/plain": [
       "225"
      ]
     },
     "execution_count": 141,
     "metadata": {},
     "output_type": "execute_result"
    }
   ],
   "source": [
    "suma(5, 10)"
   ]
  },
  {
   "cell_type": "code",
   "execution_count": null,
   "metadata": {},
   "outputs": [],
   "source": [
    "def da_positivos():\n",
    "    # link de la data de positivos covid\n",
    "    url = \"https://cloud.minsa.gob.pe/s/Y8w3wHsEdYQSZRp/download\"\n",
    "    # guardando la data positivos covid\n",
    "    csv_url = requests.get( url ).content\n",
    "    \n",
    "    # transformando de csv a dataframe\n",
    "    data = pd.read_csv( io.StringIO( csv_url.decode( 'utf-8' ) ) , delimiter = \";\")\n",
    "    \n",
    "    # Toma el año, mes y día\n",
    "    data['year'] = data['FECHA_RESULTADO'].astype(str).str[:4]\n",
    "    data['mes'] = data['FECHA_RESULTADO'].astype(str).str[4:6]\n",
    "    data['day'] = data['FECHA_RESULTADO'].astype(str).str[6:8]\n",
    "    \n",
    "    # Eliminar data vacia en la variable FECHA_RESULTADO\n",
    "    data = data[ data[ 'year' ] != 'nan']\n",
    "    \n",
    "    # Agrupa por departamento y año\n",
    "    data1 = data.groupby(['DEPARTAMENTO', 'year'])[['UUID']].count().rename(columns = {'UUID':'Casos por year'} )\n",
    "    \n",
    "    return data1"
   ]
  }
 ],
 "metadata": {
  "hide_input": false,
  "kernelspec": {
   "display_name": "Python 3",
   "language": "python",
   "name": "python3"
  },
  "language_info": {
   "codemirror_mode": {
    "name": "ipython",
    "version": 3
   },
   "file_extension": ".py",
   "mimetype": "text/x-python",
   "name": "python",
   "nbconvert_exporter": "python",
   "pygments_lexer": "ipython3",
   "version": "3.7.1"
  }
 },
 "nbformat": 4,
 "nbformat_minor": 4
}
