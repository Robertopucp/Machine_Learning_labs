{
 "cells": [
  {
   "cell_type": "markdown",
   "id": "13afabc2",
   "metadata": {},
   "source": [
    "## GRUPO 8 \n",
    "\n",
    "#### *Integrantes:* \n",
    "\n",
    "1. Gianfranco Soria (20163509)\n",
    "2. Erick Morales (20163041)\n",
    "3. Andrea Clavo (20176040)\n",
    "4. Sandra Martínez (20173026)"
   ]
  },
  {
   "cell_type": "markdown",
   "id": "f44d68c9",
   "metadata": {},
   "source": [
    "_____\n",
    "## Question 1\n",
    "_____\n",
    "Briefly explain the idea of sample splitting to evaluate the performance\n",
    "of prediction rules to a fellow student and show how to use it on the wage data."
   ]
  },
  {
   "cell_type": "markdown",
   "id": "b014f5f5",
   "metadata": {},
   "source": [
    "The idea of separating the sample is to have two representative subsamples.\n",
    "The TR subsample and the TS subsample. The TR subsample is separated\n",
    "for model selection and the TS subsample for model validation. That\n",
    "is, the model is generated using the first subsample as the training\n",
    "sample and tested on the second subsample. Now, to know the proportion\n",
    "of each subsample, 80\\% of the total sample is usually used for the\n",
    "training subsample (TR) and the remaining 20\\% for the test subsample\n",
    "(TS) (varies depending on the use of splitting) to avoid underfitting\n",
    "problems - which is when the number of observations in the training\n",
    "subsample is insufficient and, therefore, the model has little predictive\n",
    "value - or overfitting - which is when the model has learned from\n",
    "the randomness of a certain data set, so that the model will no longer\n",
    "be exportable to another data set. An example of the use of splitting:\n",
    "Suppose that two models can be used to predict wages using worker\n",
    "characteristics: a basic model and a flexible model. How do we know\n",
    "which model captures the data better? The training subsample will\n",
    "be used to estimate the parameters of the Basic Model and the Flexible\n",
    "Model and the test subsample will be used for evaluation. Therefore,\n",
    "you will predict the wage of each observation in the test sample based\n",
    "on the parameters estimated in the training sample. And finally, we\n",
    "will calculate the mean square error of $MSE_{test}$ prediction based\n",
    "on the test sample (TS) for both prediction models. \n",
    "\n",
    "Note: If you use Python, a uniform variable can be generated for splitting\n",
    "so that all data have the same weight."
   ]
  },
  {
   "cell_type": "markdown",
   "id": "18f31989",
   "metadata": {},
   "source": [
    "_____\n",
    "## Question 2\n",
    "_____\n",
    "Replicate the PM1_Notebook1_Prediction_newdata (R and Python) JN but follow the next instructions:\n",
    "- Focus on people who did not go to college (use the next variables shs, hsg)\n",
    "- Basic model: 'lwage ~ sex + exp1 + shs + hsg+ scl + clg + mw + so + we + occ2+ ind2'\n",
    "- Flexible model: 'lwage ~ (exp1+exp2+exp3+exp4+shs+hsg+scl+clg+occ2+ind2+mw+so+we)**2'"
   ]
  },
  {
   "cell_type": "markdown",
   "id": "8780cfa0",
   "metadata": {},
   "source": [
    "## Introduction"
   ]
  },
  {
   "cell_type": "markdown",
   "id": "dcd5f543",
   "metadata": {},
   "source": [
    "In labor economics an important question is what determines the wage of workers. This is a causal question,\n",
    "but we could begin to investigate from a predictive perspective.\n",
    "\n",
    "In the following wage example, $Y$ is the hourly wage of a worker and $X$ is a vector of worker's characteristics, e.g., education, experience, gender. Two main questions here are:\n",
    "\n",
    "\n",
    "* How to use job-relevant characteristics, such as education and experience, to best predict wages?\n",
    "\n",
    "* What is the difference in predicted wages between men and women with the same job-relevant characteristics?\n",
    "\n",
    "In this lab, we focus on the prediction question first."
   ]
  },
  {
   "cell_type": "markdown",
   "id": "4b65231c",
   "metadata": {},
   "source": [
    "## Data"
   ]
  },
  {
   "cell_type": "markdown",
   "id": "e32f9c15",
   "metadata": {},
   "source": [
    "The data set we consider is from the March Supplement of the U.S. Current Population Survey, year 2015.  We select white non-hispanic individuals, aged 25 to 64 years, and working more than 35 hours per week during at least 50 weeks of the year. We exclude self-employed workers; individuals living in group quarters; individuals in the military, agricultural or private household sectors;  individuals with inconsistent reports on earnings and employment status; individuals with allocated or missing information in any of the variables used in the analysis; and individuals with hourly wage below $3$. \n",
    "\n",
    "The variable of interest $Y$ is the hourly wage rate constructed as the ratio of the annual earnings to the total number of hours worked, which is constructed in turn as the product of number of weeks worked and the usual number of hours worked per week. In our analysis, we also focus on single (never married) workers. The final sample is of size $n=5150$."
   ]
  },
  {
   "cell_type": "markdown",
   "id": "e836e635",
   "metadata": {},
   "source": [
    "## Data analysis"
   ]
  },
  {
   "cell_type": "markdown",
   "id": "00f574a9",
   "metadata": {},
   "source": [
    "We start by loading the data set."
   ]
  },
  {
   "cell_type": "code",
   "execution_count": 1,
   "id": "a15adc67",
   "metadata": {},
   "outputs": [],
   "source": [
    "import pandas as pd\n",
    "import numpy as np\n",
    "import pyreadr"
   ]
  },
  {
   "cell_type": "code",
   "execution_count": 2,
   "id": "6c1a5520",
   "metadata": {},
   "outputs": [
    {
     "data": {
      "text/plain": [
       "(5150, 20)"
      ]
     },
     "execution_count": 2,
     "metadata": {},
     "output_type": "execute_result"
    }
   ],
   "source": [
    "rdata_read = pyreadr.read_r(\"../data/wage2015_subsample_inference.Rdata\")\n",
    "data = rdata_read[ 'data' ]\n",
    "data.shape"
   ]
  },
  {
   "cell_type": "code",
   "execution_count": 3,
   "id": "61c619b4",
   "metadata": {},
   "outputs": [
    {
     "data": {
      "text/plain": [
       "Index(['wage', 'lwage', 'sex', 'shs', 'hsg', 'scl', 'clg', 'ad', 'mw', 'so',\n",
       "       'we', 'ne', 'exp1', 'exp2', 'exp3', 'exp4', 'occ', 'occ2', 'ind',\n",
       "       'ind2'],\n",
       "      dtype='object')"
      ]
     },
     "execution_count": 3,
     "metadata": {},
     "output_type": "execute_result"
    }
   ],
   "source": [
    "data.columns"
   ]
  },
  {
   "cell_type": "code",
   "execution_count": 4,
   "id": "07d8a638",
   "metadata": {},
   "outputs": [
    {
     "name": "stdout",
     "output_type": "stream",
     "text": [
      "<class 'pandas.core.frame.DataFrame'>\n",
      "Index: 5150 entries, 10 to 32643\n",
      "Data columns (total 20 columns):\n",
      " #   Column  Non-Null Count  Dtype   \n",
      "---  ------  --------------  -----   \n",
      " 0   wage    5150 non-null   float64 \n",
      " 1   lwage   5150 non-null   float64 \n",
      " 2   sex     5150 non-null   float64 \n",
      " 3   shs     5150 non-null   float64 \n",
      " 4   hsg     5150 non-null   float64 \n",
      " 5   scl     5150 non-null   float64 \n",
      " 6   clg     5150 non-null   float64 \n",
      " 7   ad      5150 non-null   float64 \n",
      " 8   mw      5150 non-null   float64 \n",
      " 9   so      5150 non-null   float64 \n",
      " 10  we      5150 non-null   float64 \n",
      " 11  ne      5150 non-null   float64 \n",
      " 12  exp1    5150 non-null   float64 \n",
      " 13  exp2    5150 non-null   float64 \n",
      " 14  exp3    5150 non-null   float64 \n",
      " 15  exp4    5150 non-null   float64 \n",
      " 16  occ     5150 non-null   category\n",
      " 17  occ2    5150 non-null   category\n",
      " 18  ind     5150 non-null   category\n",
      " 19  ind2    5150 non-null   category\n",
      "dtypes: category(4), float64(16)\n",
      "memory usage: 736.3+ KB\n"
     ]
    }
   ],
   "source": [
    "data.info()"
   ]
  },
  {
   "cell_type": "code",
   "execution_count": 6,
   "id": "1825d831",
   "metadata": {},
   "outputs": [
    {
     "data": {
      "text/html": [
       "<div>\n",
       "<style scoped>\n",
       "    .dataframe tbody tr th:only-of-type {\n",
       "        vertical-align: middle;\n",
       "    }\n",
       "\n",
       "    .dataframe tbody tr th {\n",
       "        vertical-align: top;\n",
       "    }\n",
       "\n",
       "    .dataframe thead th {\n",
       "        text-align: right;\n",
       "    }\n",
       "</style>\n",
       "<table border=\"1\" class=\"dataframe\">\n",
       "  <thead>\n",
       "    <tr style=\"text-align: right;\">\n",
       "      <th></th>\n",
       "      <th>wage</th>\n",
       "      <th>lwage</th>\n",
       "      <th>sex</th>\n",
       "      <th>shs</th>\n",
       "      <th>hsg</th>\n",
       "      <th>scl</th>\n",
       "      <th>clg</th>\n",
       "      <th>ad</th>\n",
       "      <th>mw</th>\n",
       "      <th>so</th>\n",
       "      <th>we</th>\n",
       "      <th>ne</th>\n",
       "      <th>exp1</th>\n",
       "      <th>exp2</th>\n",
       "      <th>exp3</th>\n",
       "      <th>exp4</th>\n",
       "    </tr>\n",
       "  </thead>\n",
       "  <tbody>\n",
       "    <tr>\n",
       "      <th>count</th>\n",
       "      <td>5150.000000</td>\n",
       "      <td>5150.000000</td>\n",
       "      <td>5150.000000</td>\n",
       "      <td>5150.000000</td>\n",
       "      <td>5150.000000</td>\n",
       "      <td>5150.000000</td>\n",
       "      <td>5150.000000</td>\n",
       "      <td>5150.000000</td>\n",
       "      <td>5150.000000</td>\n",
       "      <td>5150.000000</td>\n",
       "      <td>5150.000000</td>\n",
       "      <td>5150.000000</td>\n",
       "      <td>5150.000000</td>\n",
       "      <td>5150.000000</td>\n",
       "      <td>5150.000000</td>\n",
       "      <td>5150.000000</td>\n",
       "    </tr>\n",
       "    <tr>\n",
       "      <th>mean</th>\n",
       "      <td>23.410410</td>\n",
       "      <td>2.970787</td>\n",
       "      <td>0.444466</td>\n",
       "      <td>0.023301</td>\n",
       "      <td>0.243883</td>\n",
       "      <td>0.278058</td>\n",
       "      <td>0.317670</td>\n",
       "      <td>0.137087</td>\n",
       "      <td>0.259612</td>\n",
       "      <td>0.296505</td>\n",
       "      <td>0.216117</td>\n",
       "      <td>0.227767</td>\n",
       "      <td>13.760583</td>\n",
       "      <td>3.018925</td>\n",
       "      <td>8.235867</td>\n",
       "      <td>25.118038</td>\n",
       "    </tr>\n",
       "    <tr>\n",
       "      <th>std</th>\n",
       "      <td>21.003016</td>\n",
       "      <td>0.570385</td>\n",
       "      <td>0.496955</td>\n",
       "      <td>0.150872</td>\n",
       "      <td>0.429465</td>\n",
       "      <td>0.448086</td>\n",
       "      <td>0.465616</td>\n",
       "      <td>0.343973</td>\n",
       "      <td>0.438464</td>\n",
       "      <td>0.456761</td>\n",
       "      <td>0.411635</td>\n",
       "      <td>0.419432</td>\n",
       "      <td>10.609465</td>\n",
       "      <td>4.000904</td>\n",
       "      <td>14.488962</td>\n",
       "      <td>53.530225</td>\n",
       "    </tr>\n",
       "    <tr>\n",
       "      <th>min</th>\n",
       "      <td>3.021978</td>\n",
       "      <td>1.105912</td>\n",
       "      <td>0.000000</td>\n",
       "      <td>0.000000</td>\n",
       "      <td>0.000000</td>\n",
       "      <td>0.000000</td>\n",
       "      <td>0.000000</td>\n",
       "      <td>0.000000</td>\n",
       "      <td>0.000000</td>\n",
       "      <td>0.000000</td>\n",
       "      <td>0.000000</td>\n",
       "      <td>0.000000</td>\n",
       "      <td>0.000000</td>\n",
       "      <td>0.000000</td>\n",
       "      <td>0.000000</td>\n",
       "      <td>0.000000</td>\n",
       "    </tr>\n",
       "    <tr>\n",
       "      <th>25%</th>\n",
       "      <td>13.461538</td>\n",
       "      <td>2.599837</td>\n",
       "      <td>0.000000</td>\n",
       "      <td>0.000000</td>\n",
       "      <td>0.000000</td>\n",
       "      <td>0.000000</td>\n",
       "      <td>0.000000</td>\n",
       "      <td>0.000000</td>\n",
       "      <td>0.000000</td>\n",
       "      <td>0.000000</td>\n",
       "      <td>0.000000</td>\n",
       "      <td>0.000000</td>\n",
       "      <td>5.000000</td>\n",
       "      <td>0.250000</td>\n",
       "      <td>0.125000</td>\n",
       "      <td>0.062500</td>\n",
       "    </tr>\n",
       "    <tr>\n",
       "      <th>50%</th>\n",
       "      <td>19.230769</td>\n",
       "      <td>2.956512</td>\n",
       "      <td>0.000000</td>\n",
       "      <td>0.000000</td>\n",
       "      <td>0.000000</td>\n",
       "      <td>0.000000</td>\n",
       "      <td>0.000000</td>\n",
       "      <td>0.000000</td>\n",
       "      <td>0.000000</td>\n",
       "      <td>0.000000</td>\n",
       "      <td>0.000000</td>\n",
       "      <td>0.000000</td>\n",
       "      <td>10.000000</td>\n",
       "      <td>1.000000</td>\n",
       "      <td>1.000000</td>\n",
       "      <td>1.000000</td>\n",
       "    </tr>\n",
       "    <tr>\n",
       "      <th>75%</th>\n",
       "      <td>27.777778</td>\n",
       "      <td>3.324236</td>\n",
       "      <td>1.000000</td>\n",
       "      <td>0.000000</td>\n",
       "      <td>0.000000</td>\n",
       "      <td>1.000000</td>\n",
       "      <td>1.000000</td>\n",
       "      <td>0.000000</td>\n",
       "      <td>1.000000</td>\n",
       "      <td>1.000000</td>\n",
       "      <td>0.000000</td>\n",
       "      <td>0.000000</td>\n",
       "      <td>21.000000</td>\n",
       "      <td>4.410000</td>\n",
       "      <td>9.261000</td>\n",
       "      <td>19.448100</td>\n",
       "    </tr>\n",
       "    <tr>\n",
       "      <th>max</th>\n",
       "      <td>528.845673</td>\n",
       "      <td>6.270697</td>\n",
       "      <td>1.000000</td>\n",
       "      <td>1.000000</td>\n",
       "      <td>1.000000</td>\n",
       "      <td>1.000000</td>\n",
       "      <td>1.000000</td>\n",
       "      <td>1.000000</td>\n",
       "      <td>1.000000</td>\n",
       "      <td>1.000000</td>\n",
       "      <td>1.000000</td>\n",
       "      <td>1.000000</td>\n",
       "      <td>47.000000</td>\n",
       "      <td>22.090000</td>\n",
       "      <td>103.823000</td>\n",
       "      <td>487.968100</td>\n",
       "    </tr>\n",
       "  </tbody>\n",
       "</table>\n",
       "</div>"
      ],
      "text/plain": [
       "              wage        lwage          sex          shs          hsg  \\\n",
       "count  5150.000000  5150.000000  5150.000000  5150.000000  5150.000000   \n",
       "mean     23.410410     2.970787     0.444466     0.023301     0.243883   \n",
       "std      21.003016     0.570385     0.496955     0.150872     0.429465   \n",
       "min       3.021978     1.105912     0.000000     0.000000     0.000000   \n",
       "25%      13.461538     2.599837     0.000000     0.000000     0.000000   \n",
       "50%      19.230769     2.956512     0.000000     0.000000     0.000000   \n",
       "75%      27.777778     3.324236     1.000000     0.000000     0.000000   \n",
       "max     528.845673     6.270697     1.000000     1.000000     1.000000   \n",
       "\n",
       "               scl          clg           ad           mw           so  \\\n",
       "count  5150.000000  5150.000000  5150.000000  5150.000000  5150.000000   \n",
       "mean      0.278058     0.317670     0.137087     0.259612     0.296505   \n",
       "std       0.448086     0.465616     0.343973     0.438464     0.456761   \n",
       "min       0.000000     0.000000     0.000000     0.000000     0.000000   \n",
       "25%       0.000000     0.000000     0.000000     0.000000     0.000000   \n",
       "50%       0.000000     0.000000     0.000000     0.000000     0.000000   \n",
       "75%       1.000000     1.000000     0.000000     1.000000     1.000000   \n",
       "max       1.000000     1.000000     1.000000     1.000000     1.000000   \n",
       "\n",
       "                we           ne         exp1         exp2         exp3  \\\n",
       "count  5150.000000  5150.000000  5150.000000  5150.000000  5150.000000   \n",
       "mean      0.216117     0.227767    13.760583     3.018925     8.235867   \n",
       "std       0.411635     0.419432    10.609465     4.000904    14.488962   \n",
       "min       0.000000     0.000000     0.000000     0.000000     0.000000   \n",
       "25%       0.000000     0.000000     5.000000     0.250000     0.125000   \n",
       "50%       0.000000     0.000000    10.000000     1.000000     1.000000   \n",
       "75%       0.000000     0.000000    21.000000     4.410000     9.261000   \n",
       "max       1.000000     1.000000    47.000000    22.090000   103.823000   \n",
       "\n",
       "              exp4  \n",
       "count  5150.000000  \n",
       "mean     25.118038  \n",
       "std      53.530225  \n",
       "min       0.000000  \n",
       "25%       0.062500  \n",
       "50%       1.000000  \n",
       "75%      19.448100  \n",
       "max     487.968100  "
      ]
     },
     "execution_count": 6,
     "metadata": {},
     "output_type": "execute_result"
    }
   ],
   "source": [
    "data.describe()"
   ]
  },
  {
   "cell_type": "markdown",
   "id": "87a8debe",
   "metadata": {},
   "source": [
    "We focus on Focus on people who did not go to college (using variables shs, hsg)"
   ]
  },
  {
   "cell_type": "code",
   "execution_count": 7,
   "id": "8b560844",
   "metadata": {
    "scrolled": true
   },
   "outputs": [
    {
     "name": "stdout",
     "output_type": "stream",
     "text": [
      "(1376, 20)\n"
     ]
    },
    {
     "data": {
      "text/html": [
       "<div>\n",
       "<style scoped>\n",
       "    .dataframe tbody tr th:only-of-type {\n",
       "        vertical-align: middle;\n",
       "    }\n",
       "\n",
       "    .dataframe tbody tr th {\n",
       "        vertical-align: top;\n",
       "    }\n",
       "\n",
       "    .dataframe thead th {\n",
       "        text-align: right;\n",
       "    }\n",
       "</style>\n",
       "<table border=\"1\" class=\"dataframe\">\n",
       "  <thead>\n",
       "    <tr style=\"text-align: right;\">\n",
       "      <th></th>\n",
       "      <th>wage</th>\n",
       "      <th>lwage</th>\n",
       "      <th>sex</th>\n",
       "      <th>shs</th>\n",
       "      <th>hsg</th>\n",
       "      <th>scl</th>\n",
       "      <th>clg</th>\n",
       "      <th>ad</th>\n",
       "      <th>mw</th>\n",
       "      <th>so</th>\n",
       "      <th>we</th>\n",
       "      <th>ne</th>\n",
       "      <th>exp1</th>\n",
       "      <th>exp2</th>\n",
       "      <th>exp3</th>\n",
       "      <th>exp4</th>\n",
       "      <th>occ</th>\n",
       "      <th>occ2</th>\n",
       "      <th>ind</th>\n",
       "      <th>ind2</th>\n",
       "    </tr>\n",
       "    <tr>\n",
       "      <th>rownames</th>\n",
       "      <th></th>\n",
       "      <th></th>\n",
       "      <th></th>\n",
       "      <th></th>\n",
       "      <th></th>\n",
       "      <th></th>\n",
       "      <th></th>\n",
       "      <th></th>\n",
       "      <th></th>\n",
       "      <th></th>\n",
       "      <th></th>\n",
       "      <th></th>\n",
       "      <th></th>\n",
       "      <th></th>\n",
       "      <th></th>\n",
       "      <th></th>\n",
       "      <th></th>\n",
       "      <th></th>\n",
       "      <th></th>\n",
       "      <th></th>\n",
       "    </tr>\n",
       "  </thead>\n",
       "  <tbody>\n",
       "    <tr>\n",
       "      <th>15</th>\n",
       "      <td>11.057692</td>\n",
       "      <td>2.403126</td>\n",
       "      <td>0.0</td>\n",
       "      <td>0.0</td>\n",
       "      <td>1.0</td>\n",
       "      <td>0.0</td>\n",
       "      <td>0.0</td>\n",
       "      <td>0.0</td>\n",
       "      <td>0.0</td>\n",
       "      <td>0.0</td>\n",
       "      <td>0.0</td>\n",
       "      <td>1.0</td>\n",
       "      <td>18.0</td>\n",
       "      <td>3.24</td>\n",
       "      <td>5.832</td>\n",
       "      <td>10.4976</td>\n",
       "      <td>6260</td>\n",
       "      <td>19</td>\n",
       "      <td>770</td>\n",
       "      <td>4</td>\n",
       "    </tr>\n",
       "    <tr>\n",
       "      <th>43</th>\n",
       "      <td>19.230769</td>\n",
       "      <td>2.956512</td>\n",
       "      <td>1.0</td>\n",
       "      <td>0.0</td>\n",
       "      <td>1.0</td>\n",
       "      <td>0.0</td>\n",
       "      <td>0.0</td>\n",
       "      <td>0.0</td>\n",
       "      <td>0.0</td>\n",
       "      <td>0.0</td>\n",
       "      <td>0.0</td>\n",
       "      <td>1.0</td>\n",
       "      <td>42.0</td>\n",
       "      <td>17.64</td>\n",
       "      <td>74.088</td>\n",
       "      <td>311.1696</td>\n",
       "      <td>5120</td>\n",
       "      <td>17</td>\n",
       "      <td>7280</td>\n",
       "      <td>14</td>\n",
       "    </tr>\n",
       "    <tr>\n",
       "      <th>44</th>\n",
       "      <td>19.230769</td>\n",
       "      <td>2.956512</td>\n",
       "      <td>0.0</td>\n",
       "      <td>0.0</td>\n",
       "      <td>1.0</td>\n",
       "      <td>0.0</td>\n",
       "      <td>0.0</td>\n",
       "      <td>0.0</td>\n",
       "      <td>0.0</td>\n",
       "      <td>0.0</td>\n",
       "      <td>0.0</td>\n",
       "      <td>1.0</td>\n",
       "      <td>37.0</td>\n",
       "      <td>13.69</td>\n",
       "      <td>50.653</td>\n",
       "      <td>187.4161</td>\n",
       "      <td>5240</td>\n",
       "      <td>17</td>\n",
       "      <td>5680</td>\n",
       "      <td>9</td>\n",
       "    </tr>\n",
       "    <tr>\n",
       "      <th>47</th>\n",
       "      <td>12.000000</td>\n",
       "      <td>2.484907</td>\n",
       "      <td>1.0</td>\n",
       "      <td>0.0</td>\n",
       "      <td>1.0</td>\n",
       "      <td>0.0</td>\n",
       "      <td>0.0</td>\n",
       "      <td>0.0</td>\n",
       "      <td>0.0</td>\n",
       "      <td>0.0</td>\n",
       "      <td>0.0</td>\n",
       "      <td>1.0</td>\n",
       "      <td>31.0</td>\n",
       "      <td>9.61</td>\n",
       "      <td>29.791</td>\n",
       "      <td>92.3521</td>\n",
       "      <td>4040</td>\n",
       "      <td>13</td>\n",
       "      <td>8590</td>\n",
       "      <td>19</td>\n",
       "    </tr>\n",
       "    <tr>\n",
       "      <th>73</th>\n",
       "      <td>17.307692</td>\n",
       "      <td>2.851151</td>\n",
       "      <td>1.0</td>\n",
       "      <td>0.0</td>\n",
       "      <td>1.0</td>\n",
       "      <td>0.0</td>\n",
       "      <td>0.0</td>\n",
       "      <td>0.0</td>\n",
       "      <td>0.0</td>\n",
       "      <td>0.0</td>\n",
       "      <td>0.0</td>\n",
       "      <td>1.0</td>\n",
       "      <td>7.0</td>\n",
       "      <td>0.49</td>\n",
       "      <td>0.343</td>\n",
       "      <td>0.2401</td>\n",
       "      <td>4020</td>\n",
       "      <td>13</td>\n",
       "      <td>8270</td>\n",
       "      <td>18</td>\n",
       "    </tr>\n",
       "    <tr>\n",
       "      <th>...</th>\n",
       "      <td>...</td>\n",
       "      <td>...</td>\n",
       "      <td>...</td>\n",
       "      <td>...</td>\n",
       "      <td>...</td>\n",
       "      <td>...</td>\n",
       "      <td>...</td>\n",
       "      <td>...</td>\n",
       "      <td>...</td>\n",
       "      <td>...</td>\n",
       "      <td>...</td>\n",
       "      <td>...</td>\n",
       "      <td>...</td>\n",
       "      <td>...</td>\n",
       "      <td>...</td>\n",
       "      <td>...</td>\n",
       "      <td>...</td>\n",
       "      <td>...</td>\n",
       "      <td>...</td>\n",
       "      <td>...</td>\n",
       "    </tr>\n",
       "    <tr>\n",
       "      <th>32580</th>\n",
       "      <td>12.980769</td>\n",
       "      <td>2.563469</td>\n",
       "      <td>0.0</td>\n",
       "      <td>0.0</td>\n",
       "      <td>1.0</td>\n",
       "      <td>0.0</td>\n",
       "      <td>0.0</td>\n",
       "      <td>0.0</td>\n",
       "      <td>0.0</td>\n",
       "      <td>0.0</td>\n",
       "      <td>1.0</td>\n",
       "      <td>0.0</td>\n",
       "      <td>15.0</td>\n",
       "      <td>2.25</td>\n",
       "      <td>3.375</td>\n",
       "      <td>5.0625</td>\n",
       "      <td>2010</td>\n",
       "      <td>6</td>\n",
       "      <td>9370</td>\n",
       "      <td>22</td>\n",
       "    </tr>\n",
       "    <tr>\n",
       "      <th>32590</th>\n",
       "      <td>13.461538</td>\n",
       "      <td>2.599837</td>\n",
       "      <td>1.0</td>\n",
       "      <td>0.0</td>\n",
       "      <td>1.0</td>\n",
       "      <td>0.0</td>\n",
       "      <td>0.0</td>\n",
       "      <td>0.0</td>\n",
       "      <td>0.0</td>\n",
       "      <td>0.0</td>\n",
       "      <td>1.0</td>\n",
       "      <td>0.0</td>\n",
       "      <td>8.0</td>\n",
       "      <td>0.64</td>\n",
       "      <td>0.512</td>\n",
       "      <td>0.4096</td>\n",
       "      <td>4720</td>\n",
       "      <td>16</td>\n",
       "      <td>8590</td>\n",
       "      <td>19</td>\n",
       "    </tr>\n",
       "    <tr>\n",
       "      <th>32599</th>\n",
       "      <td>22.596154</td>\n",
       "      <td>3.117780</td>\n",
       "      <td>0.0</td>\n",
       "      <td>0.0</td>\n",
       "      <td>1.0</td>\n",
       "      <td>0.0</td>\n",
       "      <td>0.0</td>\n",
       "      <td>0.0</td>\n",
       "      <td>0.0</td>\n",
       "      <td>0.0</td>\n",
       "      <td>1.0</td>\n",
       "      <td>0.0</td>\n",
       "      <td>15.0</td>\n",
       "      <td>2.25</td>\n",
       "      <td>3.375</td>\n",
       "      <td>5.0625</td>\n",
       "      <td>9620</td>\n",
       "      <td>22</td>\n",
       "      <td>5390</td>\n",
       "      <td>9</td>\n",
       "    </tr>\n",
       "    <tr>\n",
       "      <th>32603</th>\n",
       "      <td>16.826923</td>\n",
       "      <td>2.822980</td>\n",
       "      <td>0.0</td>\n",
       "      <td>0.0</td>\n",
       "      <td>1.0</td>\n",
       "      <td>0.0</td>\n",
       "      <td>0.0</td>\n",
       "      <td>0.0</td>\n",
       "      <td>0.0</td>\n",
       "      <td>0.0</td>\n",
       "      <td>1.0</td>\n",
       "      <td>0.0</td>\n",
       "      <td>11.0</td>\n",
       "      <td>1.21</td>\n",
       "      <td>1.331</td>\n",
       "      <td>1.4641</td>\n",
       "      <td>7150</td>\n",
       "      <td>20</td>\n",
       "      <td>8770</td>\n",
       "      <td>21</td>\n",
       "    </tr>\n",
       "    <tr>\n",
       "      <th>32631</th>\n",
       "      <td>32.967033</td>\n",
       "      <td>3.495508</td>\n",
       "      <td>0.0</td>\n",
       "      <td>0.0</td>\n",
       "      <td>1.0</td>\n",
       "      <td>0.0</td>\n",
       "      <td>0.0</td>\n",
       "      <td>0.0</td>\n",
       "      <td>0.0</td>\n",
       "      <td>0.0</td>\n",
       "      <td>1.0</td>\n",
       "      <td>0.0</td>\n",
       "      <td>10.0</td>\n",
       "      <td>1.00</td>\n",
       "      <td>1.000</td>\n",
       "      <td>1.0000</td>\n",
       "      <td>2920</td>\n",
       "      <td>9</td>\n",
       "      <td>6570</td>\n",
       "      <td>11</td>\n",
       "    </tr>\n",
       "  </tbody>\n",
       "</table>\n",
       "<p>1376 rows × 20 columns</p>\n",
       "</div>"
      ],
      "text/plain": [
       "               wage     lwage  sex  shs  hsg  scl  clg   ad   mw   so   we  \\\n",
       "rownames                                                                     \n",
       "15        11.057692  2.403126  0.0  0.0  1.0  0.0  0.0  0.0  0.0  0.0  0.0   \n",
       "43        19.230769  2.956512  1.0  0.0  1.0  0.0  0.0  0.0  0.0  0.0  0.0   \n",
       "44        19.230769  2.956512  0.0  0.0  1.0  0.0  0.0  0.0  0.0  0.0  0.0   \n",
       "47        12.000000  2.484907  1.0  0.0  1.0  0.0  0.0  0.0  0.0  0.0  0.0   \n",
       "73        17.307692  2.851151  1.0  0.0  1.0  0.0  0.0  0.0  0.0  0.0  0.0   \n",
       "...             ...       ...  ...  ...  ...  ...  ...  ...  ...  ...  ...   \n",
       "32580     12.980769  2.563469  0.0  0.0  1.0  0.0  0.0  0.0  0.0  0.0  1.0   \n",
       "32590     13.461538  2.599837  1.0  0.0  1.0  0.0  0.0  0.0  0.0  0.0  1.0   \n",
       "32599     22.596154  3.117780  0.0  0.0  1.0  0.0  0.0  0.0  0.0  0.0  1.0   \n",
       "32603     16.826923  2.822980  0.0  0.0  1.0  0.0  0.0  0.0  0.0  0.0  1.0   \n",
       "32631     32.967033  3.495508  0.0  0.0  1.0  0.0  0.0  0.0  0.0  0.0  1.0   \n",
       "\n",
       "           ne  exp1   exp2    exp3      exp4   occ occ2   ind ind2  \n",
       "rownames                                                            \n",
       "15        1.0  18.0   3.24   5.832   10.4976  6260   19   770    4  \n",
       "43        1.0  42.0  17.64  74.088  311.1696  5120   17  7280   14  \n",
       "44        1.0  37.0  13.69  50.653  187.4161  5240   17  5680    9  \n",
       "47        1.0  31.0   9.61  29.791   92.3521  4040   13  8590   19  \n",
       "73        1.0   7.0   0.49   0.343    0.2401  4020   13  8270   18  \n",
       "...       ...   ...    ...     ...       ...   ...  ...   ...  ...  \n",
       "32580     0.0  15.0   2.25   3.375    5.0625  2010    6  9370   22  \n",
       "32590     0.0   8.0   0.64   0.512    0.4096  4720   16  8590   19  \n",
       "32599     0.0  15.0   2.25   3.375    5.0625  9620   22  5390    9  \n",
       "32603     0.0  11.0   1.21   1.331    1.4641  7150   20  8770   21  \n",
       "32631     0.0  10.0   1.00   1.000    1.0000  2920    9  6570   11  \n",
       "\n",
       "[1376 rows x 20 columns]"
      ]
     },
     "execution_count": 7,
     "metadata": {},
     "output_type": "execute_result"
    }
   ],
   "source": [
    "data = data[(data['shs'] == 1) | (data['hsg'] == 1)]\n",
    "print(data.shape) \n",
    "data"
   ]
  },
  {
   "cell_type": "code",
   "execution_count": 8,
   "id": "10612fb0",
   "metadata": {
    "scrolled": true
   },
   "outputs": [
    {
     "data": {
      "text/plain": [
       "(0.0    1256\n",
       " 1.0     120\n",
       " Name: shs, dtype: int64,\n",
       " 1.0    1256\n",
       " 0.0     120\n",
       " Name: hsg, dtype: int64)"
      ]
     },
     "execution_count": 8,
     "metadata": {},
     "output_type": "execute_result"
    }
   ],
   "source": [
    "(data['shs'].value_counts()), (data['hsg'].value_counts())"
   ]
  },
  {
   "cell_type": "markdown",
   "id": "c95cc5e0",
   "metadata": {},
   "source": [
    "We are constructing the output variable  **Y**  and the matrix  **Z**  which includes the characteristics of workers that are given in the data."
   ]
  },
  {
   "cell_type": "code",
   "execution_count": 9,
   "id": "c7421ca2",
   "metadata": {},
   "outputs": [
    {
     "name": "stdout",
     "output_type": "stream",
     "text": [
      "Number of observation: 1376 \n",
      "\n",
      "Number of raw regressors: 18\n"
     ]
    }
   ],
   "source": [
    "Y = np.log2(data['wage']) \n",
    "n = len(Y)\n",
    "z = data.loc[:, ~ data.columns.isin(['wage', 'lwage','Unnamed: 0'])]\n",
    "p = z.shape[1]\n",
    "\n",
    "print(\"Number of observation:\", n, '\\n')\n",
    "print( \"Number of raw regressors:\", p)"
   ]
  },
  {
   "cell_type": "markdown",
   "id": "6ee7a4cf",
   "metadata": {},
   "source": [
    "## Prediction Question"
   ]
  },
  {
   "cell_type": "markdown",
   "id": "541f6f2b",
   "metadata": {},
   "source": [
    "Now, we will construct a prediction rule for hourly wage $Y$, which depends linearly on job-relevant characteristics $X$:\n",
    "\n",
    "\\begin{equation}\\label{decompose}\n",
    "Y = \\beta'X+ \\epsilon.\n",
    "\\end{equation}"
   ]
  },
  {
   "cell_type": "markdown",
   "id": "2a939fa6",
   "metadata": {},
   "source": [
    "Our goals are\n",
    "\n",
    "* Predict wages  using various characteristics of workers.\n",
    "\n",
    "* Assess the predictive performance using the (adjusted) sample MSE, the (adjusted) sample $R^2$ and the out-of-sample MSE and $R^2$.\n",
    "\n",
    "\n",
    "We employ two different specifications for prediction:\n",
    "\n",
    "\n",
    "1. Basic Model:   $X$ consists of a set of raw regressors (e.g. gender, experience, education indicators,  occupation and industry indicators, regional indicators).\n",
    "\n",
    "\n",
    "2. Flexible Model:  $X$ consists of all raw regressors from the basic model plus occupation and industry indicators, transformations (e.g., ${exp}^2$ and ${exp}^3$) and additional two-way interactions of polynomial in experience with other regressors. An example of a regressor created through a two-way interaction is *experience* times the indicator of having a *college degree*.\n",
    "\n",
    "Using the **Flexible Model**, enables us to approximate the real relationship by a\n",
    " more complex regression model and therefore to reduce the bias. The **Flexible Model** increases the range of potential shapes of the estimated regression function. In general, flexible models often deliver good prediction accuracy but give models which are harder to interpret."
   ]
  },
  {
   "cell_type": "markdown",
   "id": "9dc3ed5d",
   "metadata": {},
   "source": [
    "#### Basic regression"
   ]
  },
  {
   "cell_type": "markdown",
   "id": "df160d8f",
   "metadata": {},
   "source": [
    "Now, let us fit both models to our data by running ordinary least squares (ols):"
   ]
  },
  {
   "cell_type": "code",
   "execution_count": 10,
   "id": "5c934c5b",
   "metadata": {},
   "outputs": [],
   "source": [
    "# Import packages for OLS regression\n",
    "\n",
    "import statsmodels.api as sm\n",
    "import statsmodels.formula.api as smf"
   ]
  },
  {
   "cell_type": "code",
   "execution_count": 11,
   "id": "704cedaf",
   "metadata": {
    "scrolled": false
   },
   "outputs": [
    {
     "name": "stdout",
     "output_type": "stream",
     "text": [
      "                            OLS Regression Results                            \n",
      "==============================================================================\n",
      "Dep. Variable:                  lwage   R-squared:                       0.180\n",
      "Model:                            OLS   Adj. R-squared:                  0.151\n",
      "Method:                 Least Squares   F-statistic:                     6.212\n",
      "Date:                Fri, 17 Sep 2021   Prob (F-statistic):           9.07e-33\n",
      "Time:                        15:47:33   Log-Likelihood:                -872.87\n",
      "No. Observations:                1376   AIC:                             1842.\n",
      "Df Residuals:                    1328   BIC:                             2093.\n",
      "Df Model:                          47                                         \n",
      "Covariance Type:            nonrobust                                         \n",
      "==============================================================================\n",
      "                 coef    std err          t      P>|t|      [0.025      0.975]\n",
      "------------------------------------------------------------------------------\n",
      "Intercept      2.0216      0.062     32.368      0.000       1.899       2.144\n",
      "occ2[T.10]    -0.0576      0.121     -0.477      0.633      -0.295       0.179\n",
      "occ2[T.11]    -0.4177      0.111     -3.762      0.000      -0.636      -0.200\n",
      "occ2[T.12]    -0.4664      0.126     -3.709      0.000      -0.713      -0.220\n",
      "occ2[T.13]    -0.4220      0.077     -5.483      0.000      -0.573      -0.271\n",
      "occ2[T.14]    -0.5528      0.076     -7.250      0.000      -0.702      -0.403\n",
      "occ2[T.15]    -0.4748      0.096     -4.949      0.000      -0.663      -0.287\n",
      "occ2[T.16]    -0.2382      0.071     -3.376      0.001      -0.377      -0.100\n",
      "occ2[T.17]    -0.3529      0.062     -5.681      0.000      -0.475      -0.231\n",
      "occ2[T.18]    -0.3976      0.338     -1.175      0.240      -1.062       0.266\n",
      "occ2[T.19]    -0.1182      0.085     -1.396      0.163      -0.284       0.048\n",
      "occ2[T.2]     -0.1961      0.136     -1.443      0.149      -0.463       0.070\n",
      "occ2[T.20]    -0.1054      0.076     -1.394      0.163      -0.254       0.043\n",
      "occ2[T.21]    -0.1737      0.068     -2.540      0.011      -0.308      -0.040\n",
      "occ2[T.22]    -0.3480      0.069     -5.033      0.000      -0.484      -0.212\n",
      "occ2[T.3]     -0.0086      0.161     -0.053      0.957      -0.324       0.307\n",
      "occ2[T.4]      0.0005      0.141      0.004      0.997      -0.277       0.278\n",
      "occ2[T.5]      0.2615      0.279      0.937      0.349      -0.286       0.809\n",
      "occ2[T.6]     -0.3510      0.177     -1.981      0.048      -0.699      -0.003\n",
      "occ2[T.7]     -0.1900      0.240     -0.791      0.429      -0.661       0.281\n",
      "occ2[T.8]     -0.6617      0.154     -4.292      0.000      -0.964      -0.359\n",
      "occ2[T.9]     -0.3013      0.136     -2.209      0.027      -0.569      -0.034\n",
      "ind2[T.11]     0.1940      0.124      1.565      0.118      -0.049       0.437\n",
      "ind2[T.12]     0.0321      0.110      0.291      0.771      -0.184       0.248\n",
      "ind2[T.13]    -0.0154      0.129     -0.119      0.905      -0.269       0.238\n",
      "ind2[T.14]    -0.0589      0.106     -0.558      0.577      -0.266       0.148\n",
      "ind2[T.15]    -0.1642      0.303     -0.541      0.588      -0.759       0.431\n",
      "ind2[T.16]    -0.1718      0.087     -1.966      0.050      -0.343      -0.000\n",
      "ind2[T.17]     0.0379      0.115      0.329      0.743      -0.188       0.264\n",
      "ind2[T.18]    -0.1493      0.089     -1.680      0.093      -0.324       0.025\n",
      "ind2[T.19]    -0.2550      0.150     -1.701      0.089      -0.549       0.039\n",
      "ind2[T.2]     -0.2399      0.140     -1.712      0.087      -0.515       0.035\n",
      "ind2[T.20]    -0.2778      0.092     -3.013      0.003      -0.459      -0.097\n",
      "ind2[T.21]    -0.2682      0.092     -2.914      0.004      -0.449      -0.088\n",
      "ind2[T.22]     0.0389      0.101      0.386      0.700      -0.159       0.236\n",
      "ind2[T.3]     -0.0656      0.130     -0.506      0.613      -0.320       0.189\n",
      "ind2[T.4]     -0.1895      0.095     -2.000      0.046      -0.375      -0.004\n",
      "ind2[T.5]     -0.1814      0.089     -2.042      0.041      -0.356      -0.007\n",
      "ind2[T.6]     -0.2051      0.081     -2.545      0.011      -0.363      -0.047\n",
      "ind2[T.7]     -0.0020      0.116     -0.017      0.987      -0.229       0.225\n",
      "ind2[T.8]     -0.1477      0.127     -1.166      0.244      -0.396       0.101\n",
      "ind2[T.9]     -0.1470      0.075     -1.966      0.049      -0.294      -0.000\n",
      "sex           -0.0733      0.031     -2.331      0.020      -0.135      -0.012\n",
      "exp1           0.0076      0.001      6.052      0.000       0.005       0.010\n",
      "shs            0.9702      0.042     22.928      0.000       0.887       1.053\n",
      "hsg            1.0513      0.035     30.416      0.000       0.984       1.119\n",
      "scl         1.967e-17   2.07e-17      0.952      0.341   -2.09e-17    6.02e-17\n",
      "clg         7.452e-18   7.68e-18      0.970      0.332   -7.62e-18    2.25e-17\n",
      "mw            -0.0432      0.036     -1.193      0.233      -0.114       0.028\n",
      "so            -0.1092      0.036     -3.042      0.002      -0.180      -0.039\n",
      "we             0.0130      0.040      0.328      0.743      -0.065       0.091\n",
      "==============================================================================\n",
      "Omnibus:                      279.300   Durbin-Watson:                   1.927\n",
      "Prob(Omnibus):                  0.000   Jarque-Bera (JB):             1904.090\n",
      "Skew:                           0.761   Prob(JB):                         0.00\n",
      "Kurtosis:                       8.558   Cond. No.                     2.43e+16\n",
      "==============================================================================\n",
      "\n",
      "Notes:\n",
      "[1] Standard Errors assume that the covariance matrix of the errors is correctly specified.\n",
      "[2] The smallest eigenvalue is 9.43e-28. This might indicate that there are\n",
      "strong multicollinearity problems or that the design matrix is singular.\n",
      "Number of regressors in the basic model: 51 \n",
      "\n"
     ]
    }
   ],
   "source": [
    "basic = 'lwage ~ sex + exp1 + shs + hsg + scl + clg + mw + so + we + occ2+ ind2'\n",
    "basic_results = smf.ols(basic , data=data).fit()\n",
    "print(basic_results.summary()) # estimated coefficients\n",
    "print( \"Number of regressors in the basic model:\",len(basic_results.params), '\\n')  # number of regressors in the Basic Model"
   ]
  },
  {
   "cell_type": "markdown",
   "id": "d7c9e6e4",
   "metadata": {},
   "source": [
    "The basic model consists of $51$ regressors."
   ]
  },
  {
   "cell_type": "markdown",
   "id": "3b604116",
   "metadata": {},
   "source": [
    "#### Flexible regression"
   ]
  },
  {
   "cell_type": "code",
   "execution_count": 12,
   "id": "22bb4693",
   "metadata": {
    "scrolled": true
   },
   "outputs": [
    {
     "name": "stdout",
     "output_type": "stream",
     "text": [
      "                            OLS Regression Results                            \n",
      "==============================================================================\n",
      "Dep. Variable:                  lwage   R-squared:                       0.507\n",
      "Model:                            OLS   Adj. R-squared:                  0.232\n",
      "Method:                 Least Squares   F-statistic:                     1.840\n",
      "Date:                Fri, 17 Sep 2021   Prob (F-statistic):           2.24e-15\n",
      "Time:                        15:47:34   Log-Likelihood:                -522.96\n",
      "No. Observations:                1376   AIC:                             2034.\n",
      "Df Residuals:                     882   BIC:                             4616.\n",
      "Df Model:                         493                                         \n",
      "Covariance Type:            nonrobust                                         \n",
      "=========================================================================================\n",
      "                            coef    std err          t      P>|t|      [0.025      0.975]\n",
      "-----------------------------------------------------------------------------------------\n",
      "Intercept                 3.6386      1.568      2.320      0.021       0.561       6.716\n",
      "occ2[T.10]               -1.5768      1.007     -1.565      0.118      -3.554       0.401\n",
      "occ2[T.11]                0.9907      1.159      0.854      0.393      -1.285       3.266\n",
      "occ2[T.12]                1.3192      1.437      0.918      0.359      -1.500       4.139\n",
      "occ2[T.13]               -1.2429      0.756     -1.645      0.100      -2.726       0.240\n",
      "occ2[T.14]                0.1250      1.218      0.103      0.918      -2.265       2.515\n",
      "occ2[T.15]                1.0030      1.523      0.658      0.510      -1.986       3.992\n",
      "occ2[T.16]               -0.1012      0.899     -0.113      0.910      -1.866       1.663\n",
      "occ2[T.17]               -1.1227      0.779     -1.442      0.150      -2.651       0.406\n",
      "occ2[T.18]               -0.0066      0.008     -0.821      0.412      -0.022       0.009\n",
      "occ2[T.19]               -3.7025      1.414     -2.619      0.009      -6.478      -0.927\n",
      "occ2[T.2]                -1.7392      3.173     -0.548      0.584      -7.967       4.489\n",
      "occ2[T.20]               -0.1297      1.006     -0.129      0.897      -2.104       1.845\n",
      "occ2[T.21]               -0.3347      0.850     -0.394      0.694      -2.003       1.333\n",
      "occ2[T.22]               -0.5976      0.898     -0.666      0.506      -2.360       1.165\n",
      "occ2[T.3]                 0.1764      0.910      0.194      0.846      -1.610       1.962\n",
      "occ2[T.4]                -1.5954      1.887     -0.846      0.398      -5.299       2.108\n",
      "occ2[T.5]                -0.0220      0.025     -0.884      0.377      -0.071       0.027\n",
      "occ2[T.6]                -0.4782      0.925     -0.517      0.605      -2.295       1.338\n",
      "occ2[T.7]                -0.0153      0.049     -0.312      0.755      -0.112       0.081\n",
      "occ2[T.8]                -4.6903      5.418     -0.866      0.387     -15.324       5.944\n",
      "occ2[T.9]                -9.7930      5.779     -1.694      0.091     -21.136       1.550\n",
      "ind2[T.11]               -0.2230      5.960     -0.037      0.970     -11.920      11.474\n",
      "ind2[T.12]               -1.1265      1.453     -0.775      0.438      -3.978       1.725\n",
      "ind2[T.13]               -2.6769      2.639     -1.014      0.311      -7.856       2.503\n",
      "ind2[T.14]                0.2761      0.791      0.349      0.727      -1.276       1.828\n",
      "ind2[T.15]                0.2733      0.314      0.871      0.384      -0.342       0.889\n",
      "ind2[T.16]               -1.6277      1.263     -1.289      0.198      -4.106       0.850\n",
      "ind2[T.17]               -2.6934      2.070     -1.301      0.194      -6.756       1.369\n",
      "ind2[T.18]               -1.4726      1.078     -1.367      0.172      -3.587       0.642\n",
      "ind2[T.19]                4.1249      1.726      2.390      0.017       0.738       7.512\n",
      "ind2[T.2]                 4.7011      4.897      0.960      0.337      -4.911      14.313\n",
      "ind2[T.20]               -0.6255      1.032     -0.606      0.545      -2.652       1.401\n",
      "ind2[T.21]               -2.5026      1.347     -1.859      0.063      -5.145       0.140\n",
      "ind2[T.22]                1.0964      0.846      1.295      0.196      -0.565       2.758\n",
      "ind2[T.3]                -2.8726      1.979     -1.451      0.147      -6.758       1.012\n",
      "ind2[T.4]                 2.5655      1.532      1.675      0.094      -0.441       5.572\n",
      "ind2[T.5]                -1.2650      1.012     -1.250      0.212      -3.252       0.722\n",
      "ind2[T.6]                -0.6390      0.970     -0.659      0.510      -2.543       1.265\n",
      "ind2[T.7]                -2.6843      1.716     -1.564      0.118      -6.052       0.684\n",
      "ind2[T.8]                 2.4375      4.062      0.600      0.549      -5.535      10.410\n",
      "ind2[T.9]                -0.3779      0.781     -0.484      0.629      -1.911       1.155\n",
      "occ2[T.10]:ind2[T.11]  1.667e-11   9.19e-12      1.813      0.070   -1.38e-12    3.47e-11\n",
      "occ2[T.11]:ind2[T.11]  4.928e-12   1.28e-11      0.386      0.700   -2.02e-11       3e-11\n",
      "occ2[T.12]:ind2[T.11]  1.813e-12   1.29e-11      0.141      0.888   -2.34e-11     2.7e-11\n",
      "occ2[T.13]:ind2[T.11] -2.608e-12    1.6e-11     -0.163      0.871    -3.4e-11    2.88e-11\n",
      "occ2[T.14]:ind2[T.11]     0.2822      1.412      0.200      0.842      -2.490       3.054\n",
      "occ2[T.15]:ind2[T.11] -1.042e-11   8.27e-12     -1.259      0.208   -2.67e-11    5.82e-12\n",
      "occ2[T.16]:ind2[T.11]    -0.1774      1.067     -0.166      0.868      -2.271       1.916\n",
      "occ2[T.17]:ind2[T.11]     1.0320      1.063      0.971      0.332      -1.054       3.118\n",
      "occ2[T.18]:ind2[T.11] -2.731e-13   2.93e-12     -0.093      0.926   -6.02e-12    5.48e-12\n",
      "occ2[T.19]:ind2[T.11]    -1.9835      0.853     -2.326      0.020      -3.657      -0.310\n",
      "occ2[T.2]:ind2[T.11]  -3.885e-12   5.64e-12     -0.689      0.491   -1.49e-11    7.18e-12\n",
      "occ2[T.20]:ind2[T.11]     0.7422      0.958      0.774      0.439      -1.139       2.623\n",
      "occ2[T.21]:ind2[T.11]  2.125e-11   1.36e-11      1.558      0.120   -5.53e-12     4.8e-11\n",
      "occ2[T.22]:ind2[T.11]  1.482e-11   9.45e-12      1.568      0.117   -3.73e-12    3.34e-11\n",
      "occ2[T.3]:ind2[T.11]     -2.5848      0.794     -3.254      0.001      -4.144      -1.026\n",
      "occ2[T.4]:ind2[T.11]   6.446e-12   5.81e-12      1.109      0.268   -4.97e-12    1.79e-11\n",
      "occ2[T.5]:ind2[T.11]  -4.134e-12   1.49e-11     -0.278      0.781   -3.33e-11    2.51e-11\n",
      "occ2[T.6]:ind2[T.11]   1.283e-11   1.13e-11      1.137      0.256   -9.32e-12     3.5e-11\n",
      "occ2[T.7]:ind2[T.11]   3.645e-12   5.92e-12      0.616      0.538   -7.97e-12    1.53e-11\n",
      "occ2[T.8]:ind2[T.11]     -1.1285      1.608     -0.702      0.483      -4.284       2.027\n",
      "occ2[T.9]:ind2[T.11]     -3.0135      1.974     -1.526      0.127      -6.889       0.862\n",
      "occ2[T.10]:ind2[T.12] -7.809e-13   7.44e-12     -0.105      0.916   -1.54e-11    1.38e-11\n",
      "occ2[T.11]:ind2[T.12]  8.422e-12   9.38e-12      0.898      0.370   -9.99e-12    2.68e-11\n",
      "occ2[T.12]:ind2[T.12]  4.558e-12   6.03e-12      0.756      0.450   -7.28e-12    1.64e-11\n",
      "occ2[T.13]:ind2[T.12] -2.802e-12   2.15e-12     -1.301      0.194   -7.03e-12    1.43e-12\n",
      "occ2[T.14]:ind2[T.12]    -2.7022      1.496     -1.807      0.071      -5.637       0.233\n",
      "occ2[T.15]:ind2[T.12] -6.504e-12   4.01e-12     -1.624      0.105   -1.44e-11    1.36e-12\n",
      "occ2[T.16]:ind2[T.12]     0.4986      0.749      0.665      0.506      -0.972       1.969\n",
      "occ2[T.17]:ind2[T.12]    -0.6634      0.418     -1.587      0.113      -1.484       0.157\n",
      "occ2[T.18]:ind2[T.12]  5.971e-12   4.29e-12      1.393      0.164   -2.44e-12    1.44e-11\n",
      "occ2[T.19]:ind2[T.12] -4.149e-13   4.51e-12     -0.092      0.927   -9.27e-12    8.44e-12\n",
      "occ2[T.2]:ind2[T.12]      1.5522      1.242      1.250      0.212      -0.886       3.990\n",
      "occ2[T.20]:ind2[T.12] -6.619e-12   6.36e-12     -1.041      0.298   -1.91e-11    5.86e-12\n",
      "occ2[T.21]:ind2[T.12] -6.387e-12   5.49e-12     -1.164      0.245   -1.72e-11    4.38e-12\n",
      "occ2[T.22]:ind2[T.12]  1.763e-12   3.99e-12      0.442      0.659   -6.07e-12     9.6e-12\n",
      "occ2[T.3]:ind2[T.12]     -0.8378      0.583     -1.438      0.151      -1.981       0.306\n",
      "occ2[T.4]:ind2[T.12]  -3.899e-12   3.32e-12     -1.174      0.241   -1.04e-11    2.62e-12\n",
      "occ2[T.5]:ind2[T.12]   -9.16e-12   7.43e-12     -1.233      0.218   -2.37e-11    5.42e-12\n",
      "occ2[T.6]:ind2[T.12]   3.486e-12   3.85e-12      0.905      0.366   -4.07e-12     1.1e-11\n",
      "occ2[T.7]:ind2[T.12]     -0.0007      0.003     -0.267      0.789      -0.006       0.005\n",
      "occ2[T.8]:ind2[T.12]   2.702e-12   1.42e-12      1.905      0.057   -8.16e-14    5.49e-12\n",
      "occ2[T.9]:ind2[T.12]  -5.133e-12   4.72e-12     -1.089      0.277   -1.44e-11    4.12e-12\n",
      "occ2[T.10]:ind2[T.13] -4.816e-12   4.78e-12     -1.007      0.314   -1.42e-11    4.57e-12\n",
      "occ2[T.11]:ind2[T.13]  2.968e-12   1.83e-12      1.623      0.105   -6.22e-13    6.56e-12\n",
      "occ2[T.12]:ind2[T.13]  3.597e-12   2.61e-12      1.380      0.168   -1.52e-12    8.71e-12\n",
      "occ2[T.13]:ind2[T.13]  1.533e-12   1.73e-12      0.886      0.376   -1.86e-12    4.93e-12\n",
      "occ2[T.14]:ind2[T.13]     0.3417      0.976      0.350      0.726      -1.575       2.258\n",
      "occ2[T.15]:ind2[T.13]     1.7695      1.311      1.350      0.178      -0.804       4.343\n",
      "occ2[T.16]:ind2[T.13]    -0.1167      0.702     -0.166      0.868      -1.494       1.260\n",
      "occ2[T.17]:ind2[T.13]    -0.3962      0.858     -0.462      0.644      -2.081       1.288\n",
      "occ2[T.18]:ind2[T.13]  5.805e-12   3.21e-12      1.806      0.071   -5.04e-13    1.21e-11\n",
      "occ2[T.19]:ind2[T.13]  3.655e-12   2.72e-12      1.341      0.180   -1.69e-12       9e-12\n",
      "occ2[T.2]:ind2[T.13]   3.169e-12   1.28e-12      2.481      0.013    6.62e-13    5.68e-12\n",
      "occ2[T.20]:ind2[T.13]    -0.7813      0.809     -0.966      0.334      -2.369       0.806\n",
      "occ2[T.21]:ind2[T.13]  2.473e-12   4.02e-12      0.615      0.539   -5.42e-12    1.04e-11\n",
      "occ2[T.22]:ind2[T.13]    -0.2782      0.687     -0.405      0.686      -1.627       1.070\n",
      "occ2[T.3]:ind2[T.13]   2.004e-13   4.22e-12      0.048      0.962   -8.08e-12    8.48e-12\n",
      "occ2[T.4]:ind2[T.13]  -1.868e-12   1.57e-12     -1.188      0.235   -4.95e-12    1.22e-12\n",
      "occ2[T.5]:ind2[T.13]   1.322e-12   3.16e-12      0.418      0.676   -4.88e-12    7.53e-12\n",
      "occ2[T.6]:ind2[T.13]   3.926e-12   1.75e-12      2.239      0.025    4.85e-13    7.37e-12\n",
      "occ2[T.7]:ind2[T.13]  -9.627e-13    2.1e-12     -0.458      0.647   -5.09e-12    3.16e-12\n",
      "occ2[T.8]:ind2[T.13]   1.873e-12   1.28e-12      1.459      0.145   -6.47e-13    4.39e-12\n",
      "occ2[T.9]:ind2[T.13]  -2.344e-12   1.56e-12     -1.501      0.134   -5.41e-12     7.2e-13\n",
      "occ2[T.10]:ind2[T.14]    -0.3019      0.588     -0.514      0.608      -1.455       0.852\n",
      "occ2[T.11]:ind2[T.14]     0.5410      0.539      1.004      0.316      -0.516       1.598\n",
      "occ2[T.12]:ind2[T.14] -1.956e-12   1.43e-12     -1.368      0.172   -4.76e-12     8.5e-13\n",
      "occ2[T.13]:ind2[T.14]  6.934e-13   7.72e-13      0.898      0.370   -8.22e-13    2.21e-12\n",
      "occ2[T.14]:ind2[T.14]    -0.8895      0.783     -1.136      0.256      -2.427       0.648\n",
      "occ2[T.15]:ind2[T.14]  2.295e-12   1.06e-12      2.160      0.031     2.1e-13    4.38e-12\n",
      "occ2[T.16]:ind2[T.14]     0.5691      0.599      0.951      0.342      -0.606       1.744\n",
      "occ2[T.17]:ind2[T.14]    -0.3685      0.395     -0.933      0.351      -1.143       0.406\n",
      "occ2[T.18]:ind2[T.14] -1.933e-13   3.87e-13     -0.499      0.618   -9.53e-13    5.67e-13\n",
      "occ2[T.19]:ind2[T.14]    -0.6607      0.602     -1.097      0.273      -1.843       0.522\n",
      "occ2[T.2]:ind2[T.14]   8.419e-13   4.11e-13      2.049      0.041    3.53e-14    1.65e-12\n",
      "occ2[T.20]:ind2[T.14]  9.558e-13   9.03e-13      1.058      0.290   -8.17e-13    2.73e-12\n",
      "occ2[T.21]:ind2[T.14]    -0.1139      0.355     -0.321      0.749      -0.811       0.584\n",
      "occ2[T.22]:ind2[T.14] -9.549e-14      5e-13     -0.191      0.849   -1.08e-12    8.87e-13\n",
      "occ2[T.3]:ind2[T.14]     -0.1981      0.484     -0.409      0.682      -1.148       0.751\n",
      "occ2[T.4]:ind2[T.14]     -0.9248      1.140     -0.811      0.418      -3.163       1.313\n",
      "occ2[T.5]:ind2[T.14]     -0.2097      0.208     -1.007      0.314      -0.618       0.199\n",
      "occ2[T.6]:ind2[T.14]  -4.201e-13   3.26e-13     -1.291      0.197   -1.06e-12    2.19e-13\n",
      "occ2[T.7]:ind2[T.14]     -0.0444      0.380     -0.117      0.907      -0.790       0.701\n",
      "occ2[T.8]:ind2[T.14]  -5.377e-13   5.03e-13     -1.069      0.285   -1.52e-12     4.5e-13\n",
      "occ2[T.9]:ind2[T.14]     -3.4181      1.496     -2.285      0.023      -6.354      -0.483\n",
      "occ2[T.10]:ind2[T.15]  1.238e-12   8.07e-13      1.534      0.125   -3.46e-13    2.82e-12\n",
      "occ2[T.11]:ind2[T.15]  5.722e-14   3.84e-13      0.149      0.882   -6.97e-13    8.11e-13\n",
      "occ2[T.12]:ind2[T.15]  7.714e-13   7.74e-13      0.997      0.319   -7.48e-13    2.29e-12\n",
      "occ2[T.13]:ind2[T.15]  2.547e-13   3.36e-13      0.758      0.448   -4.04e-13    9.14e-13\n",
      "occ2[T.14]:ind2[T.15] -8.827e-13    1.1e-12     -0.799      0.424   -3.05e-12    1.29e-12\n",
      "occ2[T.15]:ind2[T.15]  5.042e-13   4.08e-13      1.235      0.217   -2.97e-13    1.31e-12\n",
      "occ2[T.16]:ind2[T.15] -1.431e-12   8.34e-13     -1.716      0.086   -3.07e-12    2.06e-13\n",
      "occ2[T.17]:ind2[T.15]  -8.61e-13   4.13e-13     -2.087      0.037   -1.67e-12   -5.13e-14\n",
      "occ2[T.18]:ind2[T.15]  1.021e-12   1.01e-12      1.009      0.313   -9.66e-13    3.01e-12\n",
      "occ2[T.19]:ind2[T.15] -3.536e-13   5.43e-13     -0.652      0.515   -1.42e-12    7.11e-13\n",
      "occ2[T.2]:ind2[T.15]      0.2733      0.314      0.871      0.384      -0.342       0.889\n",
      "occ2[T.20]:ind2[T.15]  9.254e-13   4.28e-13      2.161      0.031    8.49e-14    1.77e-12\n",
      "occ2[T.21]:ind2[T.15]  7.693e-13   6.75e-13      1.139      0.255   -5.56e-13    2.09e-12\n",
      "occ2[T.22]:ind2[T.15]  4.272e-13   2.42e-13      1.768      0.077    -4.7e-14    9.01e-13\n",
      "occ2[T.3]:ind2[T.15]   2.726e-14   3.68e-13      0.074      0.941   -6.95e-13    7.49e-13\n",
      "occ2[T.4]:ind2[T.15]   1.011e-12   1.02e-12      0.988      0.324   -9.98e-13    3.02e-12\n",
      "occ2[T.5]:ind2[T.15]   1.512e-13   1.67e-13      0.905      0.366   -1.77e-13    4.79e-13\n",
      "occ2[T.6]:ind2[T.15]   5.946e-13    3.4e-13      1.749      0.081   -7.25e-14    1.26e-12\n",
      "occ2[T.7]:ind2[T.15]  -3.294e-13   5.05e-13     -0.652      0.514   -1.32e-12    6.62e-13\n",
      "occ2[T.8]:ind2[T.15]  -9.877e-13   5.07e-13     -1.947      0.052   -1.98e-12    7.71e-15\n",
      "occ2[T.9]:ind2[T.15]  -3.363e-13   2.96e-13     -1.136      0.256   -9.17e-13    2.45e-13\n",
      "occ2[T.10]:ind2[T.16]  -2.09e-13   2.74e-13     -0.763      0.446   -7.46e-13    3.29e-13\n",
      "occ2[T.11]:ind2[T.16]     0.6354      0.638      0.996      0.319      -0.616       1.887\n",
      "occ2[T.12]:ind2[T.16]     0.7238      0.637      1.136      0.256      -0.527       1.975\n",
      "occ2[T.13]:ind2[T.16]  1.776e-13   2.89e-13      0.615      0.539   -3.89e-13    7.44e-13\n",
      "occ2[T.14]:ind2[T.16]    -0.3362      0.583     -0.577      0.564      -1.480       0.807\n",
      "occ2[T.15]:ind2[T.16]  2.232e-13   2.29e-13      0.973      0.331   -2.27e-13    6.73e-13\n",
      "occ2[T.16]:ind2[T.16]     0.6385      0.622      1.026      0.305      -0.583       1.860\n",
      "occ2[T.17]:ind2[T.16]     0.0582      0.414      0.141      0.888      -0.754       0.870\n",
      "occ2[T.18]:ind2[T.16] -4.164e-13   3.05e-13     -1.367      0.172   -1.01e-12    1.82e-13\n",
      "occ2[T.19]:ind2[T.16]    -0.2624      0.550     -0.477      0.633      -1.341       0.817\n",
      "occ2[T.2]:ind2[T.16]      1.0372      1.431      0.725      0.469      -1.772       3.847\n",
      "occ2[T.20]:ind2[T.16]    -0.3915      0.526     -0.744      0.457      -1.424       0.641\n",
      "occ2[T.21]:ind2[T.16]     0.1143      0.381      0.300      0.764      -0.633       0.862\n",
      "occ2[T.22]:ind2[T.16]    -0.1742      0.371     -0.469      0.639      -0.903       0.555\n",
      "occ2[T.3]:ind2[T.16]   2.516e-13   3.68e-13      0.684      0.494    -4.7e-13    9.73e-13\n",
      "occ2[T.4]:ind2[T.16]  -1.496e-13   2.12e-13     -0.707      0.480   -5.65e-13    2.66e-13\n",
      "occ2[T.5]:ind2[T.16]  -1.875e-13   2.98e-13     -0.630      0.529   -7.72e-13    3.97e-13\n",
      "occ2[T.6]:ind2[T.16]   9.895e-13   6.05e-13      1.634      0.103   -1.99e-13    2.18e-12\n",
      "occ2[T.7]:ind2[T.16]     -0.0021      0.390     -0.005      0.996      -0.768       0.763\n",
      "occ2[T.8]:ind2[T.16]   1.493e-12   7.37e-13      2.024      0.043    4.54e-14    2.94e-12\n",
      "occ2[T.9]:ind2[T.16]  -3.193e-13   2.29e-13     -1.397      0.163   -7.68e-13    1.29e-13\n",
      "occ2[T.10]:ind2[T.17]  4.968e-13   7.98e-13      0.623      0.534   -1.07e-12    2.06e-12\n",
      "occ2[T.11]:ind2[T.17] -1.386e-13   2.22e-13     -0.625      0.532   -5.74e-13    2.97e-13\n",
      "occ2[T.12]:ind2[T.17]  1.296e-14   4.14e-13      0.031      0.975      -8e-13    8.26e-13\n",
      "occ2[T.13]:ind2[T.17]    -0.3948      0.739     -0.534      0.593      -1.845       1.055\n",
      "occ2[T.14]:ind2[T.17]     0.2802      0.952      0.294      0.769      -1.588       2.148\n",
      "occ2[T.15]:ind2[T.17] -1.119e-12   9.45e-13     -1.184      0.237   -2.97e-12    7.36e-13\n",
      "occ2[T.16]:ind2[T.17]     1.2514      1.070      1.170      0.242      -0.848       3.351\n",
      "occ2[T.17]:ind2[T.17]     0.3815      0.821      0.465      0.642      -1.229       1.992\n",
      "occ2[T.18]:ind2[T.17]  4.879e-13   4.53e-13      1.077      0.282   -4.01e-13    1.38e-12\n",
      "occ2[T.19]:ind2[T.17]    -1.3594      0.932     -1.458      0.145      -3.189       0.471\n",
      "occ2[T.2]:ind2[T.17]   1.029e-13   3.06e-13      0.337      0.737   -4.97e-13    7.03e-13\n",
      "occ2[T.20]:ind2[T.17]     0.1550      1.112      0.139      0.889      -2.027       2.337\n",
      "occ2[T.21]:ind2[T.17]  8.116e-13   6.39e-13      1.271      0.204   -4.42e-13    2.06e-12\n",
      "occ2[T.22]:ind2[T.17]     0.1883      1.067      0.177      0.860      -1.905       2.282\n",
      "occ2[T.3]:ind2[T.17]      0.5878      1.008      0.583      0.560      -1.391       2.567\n",
      "occ2[T.4]:ind2[T.17]   7.244e-14   2.53e-13      0.287      0.774   -4.23e-13    5.68e-13\n",
      "occ2[T.5]:ind2[T.17]  -1.182e-12   4.99e-13     -2.368      0.018   -2.16e-12   -2.02e-13\n",
      "occ2[T.6]:ind2[T.17]   2.625e-13   4.98e-13      0.527      0.599   -7.16e-13    1.24e-12\n",
      "occ2[T.7]:ind2[T.17]  -6.997e-14   3.18e-13     -0.220      0.826   -6.94e-13    5.54e-13\n",
      "occ2[T.8]:ind2[T.17]     -1.2845      1.754     -0.732      0.464      -4.727       2.158\n",
      "occ2[T.9]:ind2[T.17]     -1.9098      1.272     -1.501      0.134      -4.406       0.587\n",
      "occ2[T.10]:ind2[T.18]    -0.0142      0.441     -0.032      0.974      -0.879       0.851\n",
      "occ2[T.11]:ind2[T.18]     0.7656      0.462      1.656      0.098      -0.142       1.673\n",
      "occ2[T.12]:ind2[T.18]     1.0483      0.656      1.598      0.110      -0.240       2.336\n",
      "occ2[T.13]:ind2[T.18]     0.3973      0.477      0.833      0.405      -0.538       1.333\n",
      "occ2[T.14]:ind2[T.18]     0.8773      0.766      1.145      0.252      -0.626       2.381\n",
      "occ2[T.15]:ind2[T.18]     1.1796      1.123      1.051      0.294      -1.024       3.383\n",
      "occ2[T.16]:ind2[T.18]  -3.57e-13   3.29e-13     -1.086      0.278      -1e-12    2.88e-13\n",
      "occ2[T.17]:ind2[T.18]     0.3758      0.469      0.802      0.423      -0.544       1.295\n",
      "occ2[T.18]:ind2[T.18] -6.525e-14   5.28e-13     -0.124      0.902    -1.1e-12     9.7e-13\n",
      "occ2[T.19]:ind2[T.18]     0.0035      0.763      0.005      0.996      -1.494       1.500\n",
      "occ2[T.2]:ind2[T.18]  -7.459e-14   1.74e-13     -0.430      0.667   -4.15e-13    2.66e-13\n",
      "occ2[T.20]:ind2[T.18] -5.103e-13   4.19e-13     -1.219      0.223   -1.33e-12    3.12e-13\n",
      "occ2[T.21]:ind2[T.18]     0.3579      0.504      0.710      0.478      -0.631       1.347\n",
      "occ2[T.22]:ind2[T.18]     0.1243      0.562      0.221      0.825      -0.978       1.227\n",
      "occ2[T.3]:ind2[T.18]      1.6382      0.628      2.610      0.009       0.406       2.870\n",
      "occ2[T.4]:ind2[T.18]   -3.71e-13   7.35e-13     -0.505      0.614   -1.81e-12    1.07e-12\n",
      "occ2[T.5]:ind2[T.18]   3.717e-13   4.53e-13      0.821      0.412   -5.17e-13    1.26e-12\n",
      "occ2[T.6]:ind2[T.18]      0.5381      0.438      1.229      0.219      -0.321       1.397\n",
      "occ2[T.7]:ind2[T.18]  -8.415e-14   1.85e-13     -0.456      0.649   -4.47e-13    2.78e-13\n",
      "occ2[T.8]:ind2[T.18]     -1.4184      1.224     -1.158      0.247      -3.821       0.985\n",
      "occ2[T.9]:ind2[T.18]   3.475e-13   2.94e-13      1.181      0.238    -2.3e-13    9.25e-13\n",
      "occ2[T.10]:ind2[T.19] -4.217e-13   1.83e-13     -2.304      0.021   -7.81e-13   -6.25e-14\n",
      "occ2[T.11]:ind2[T.19]  5.662e-13   3.76e-13      1.505      0.133   -1.72e-13     1.3e-12\n",
      "occ2[T.12]:ind2[T.19]  3.877e-14   1.71e-13      0.227      0.820   -2.96e-13    3.74e-13\n",
      "occ2[T.13]:ind2[T.19]    -1.2067      0.850     -1.420      0.156      -2.874       0.461\n",
      "occ2[T.14]:ind2[T.19]    -1.7460      1.015     -1.719      0.086      -3.739       0.247\n",
      "occ2[T.15]:ind2[T.19]    -3.0304      1.807     -1.677      0.094      -6.577       0.517\n",
      "occ2[T.16]:ind2[T.19]    -0.4522      1.090     -0.415      0.678      -2.591       1.686\n",
      "occ2[T.17]:ind2[T.19]    -0.7085      1.045     -0.678      0.498      -2.759       1.342\n",
      "occ2[T.18]:ind2[T.19]  1.042e-12   6.48e-13      1.609      0.108   -2.29e-13    2.31e-12\n",
      "occ2[T.19]:ind2[T.19] -3.841e-13   2.35e-13     -1.636      0.102   -8.45e-13    7.68e-14\n",
      "occ2[T.2]:ind2[T.19]    -4.5e-13   2.08e-13     -2.161      0.031   -8.59e-13   -4.14e-14\n",
      "occ2[T.20]:ind2[T.19]   1.42e-13   1.41e-13      1.010      0.313   -1.34e-13    4.18e-13\n",
      "occ2[T.21]:ind2[T.19] -6.782e-13   2.36e-13     -2.872      0.004   -1.14e-12   -2.15e-13\n",
      "occ2[T.22]:ind2[T.19]  4.718e-13   3.35e-13      1.407      0.160   -1.86e-13    1.13e-12\n",
      "occ2[T.3]:ind2[T.19]  -1.985e-13    2.2e-13     -0.901      0.368   -6.31e-13    2.34e-13\n",
      "occ2[T.4]:ind2[T.19]   2.559e-13   1.61e-13      1.589      0.113   -6.03e-14    5.72e-13\n",
      "occ2[T.5]:ind2[T.19]  -4.379e-13   3.37e-13     -1.298      0.194    -1.1e-12    2.24e-13\n",
      "occ2[T.6]:ind2[T.19]    4.77e-13   2.34e-13      2.036      0.042    1.73e-14    9.37e-13\n",
      "occ2[T.7]:ind2[T.19]   1.599e-13   1.51e-13      1.062      0.288   -1.36e-13    4.55e-13\n",
      "occ2[T.8]:ind2[T.19]   3.607e-13   3.65e-13      0.989      0.323   -3.55e-13    1.08e-12\n",
      "occ2[T.9]:ind2[T.19]      4.4011      2.505      1.757      0.079      -0.516       9.318\n",
      "occ2[T.10]:ind2[T.2]   9.146e-15    1.8e-13      0.051      0.959   -3.43e-13    3.62e-13\n",
      "occ2[T.11]:ind2[T.2]   3.655e-13   2.18e-13      1.680      0.093   -6.14e-14    7.92e-13\n",
      "occ2[T.12]:ind2[T.2]   3.362e-13   2.26e-13      1.487      0.137   -1.08e-13     7.8e-13\n",
      "occ2[T.13]:ind2[T.2]   1.535e-13   2.52e-13      0.609      0.543   -3.42e-13    6.49e-13\n",
      "occ2[T.14]:ind2[T.2]   2.134e-13   1.63e-13      1.309      0.191   -1.07e-13    5.33e-13\n",
      "occ2[T.15]:ind2[T.2]   5.445e-13   5.78e-13      0.941      0.347   -5.91e-13    1.68e-12\n",
      "occ2[T.16]:ind2[T.2]  -7.431e-14    2.3e-13     -0.322      0.747   -5.27e-13    3.78e-13\n",
      "occ2[T.17]:ind2[T.2]      0.1540      1.038      0.148      0.882      -1.884       2.192\n",
      "occ2[T.18]:ind2[T.2]  -2.695e-14   1.75e-13     -0.154      0.878   -3.71e-13    3.17e-13\n",
      "occ2[T.19]:ind2[T.2]      2.0560      1.245      1.652      0.099      -0.387       4.499\n",
      "occ2[T.2]:ind2[T.2]    4.782e-13   3.13e-13      1.527      0.127   -1.36e-13    1.09e-12\n",
      "occ2[T.20]:ind2[T.2]      0.4189      1.270      0.330      0.742      -2.074       2.912\n",
      "occ2[T.21]:ind2[T.2]   5.492e-13   2.84e-13      1.931      0.054   -9.11e-15    1.11e-12\n",
      "occ2[T.22]:ind2[T.2]      2.1523      1.657      1.299      0.194      -1.099       5.404\n",
      "occ2[T.3]:ind2[T.2]    9.653e-14   2.34e-13      0.412      0.681   -3.64e-13    5.57e-13\n",
      "occ2[T.4]:ind2[T.2]   -7.126e-14   3.21e-13     -0.222      0.825   -7.02e-13    5.59e-13\n",
      "occ2[T.5]:ind2[T.2]      -0.0801      0.083     -0.965      0.335      -0.243       0.083\n",
      "occ2[T.6]:ind2[T.2]   -3.034e-13   1.32e-13     -2.298      0.022   -5.62e-13   -4.43e-14\n",
      "occ2[T.7]:ind2[T.2]   -3.229e-13    5.5e-13     -0.587      0.557    -1.4e-12    7.57e-13\n",
      "occ2[T.8]:ind2[T.2]    8.727e-13   5.27e-13      1.656      0.098   -1.62e-13    1.91e-12\n",
      "occ2[T.9]:ind2[T.2]    2.232e-13   1.91e-13      1.169      0.243   -1.52e-13    5.98e-13\n",
      "occ2[T.10]:ind2[T.20] -1.033e-13   1.69e-13     -0.610      0.542   -4.36e-13    2.29e-13\n",
      "occ2[T.11]:ind2[T.20]   1.72e-13   3.81e-13      0.451      0.652   -5.76e-13     9.2e-13\n",
      "occ2[T.12]:ind2[T.20]     0.4879      0.645      0.757      0.450      -0.778       1.754\n",
      "occ2[T.13]:ind2[T.20]    -0.0387      0.342     -0.113      0.910      -0.710       0.633\n",
      "occ2[T.14]:ind2[T.20]    -0.0511      0.589     -0.087      0.931      -1.208       1.106\n",
      "occ2[T.15]:ind2[T.20]  7.144e-13   6.25e-13      1.142      0.254   -5.13e-13    1.94e-12\n",
      "occ2[T.16]:ind2[T.20]     0.5364      0.619      0.866      0.387      -0.679       1.752\n",
      "occ2[T.17]:ind2[T.20]    -0.0571      0.351     -0.163      0.871      -0.747       0.633\n",
      "occ2[T.18]:ind2[T.20] -9.006e-14   3.06e-13     -0.294      0.769   -6.92e-13    5.11e-13\n",
      "occ2[T.19]:ind2[T.20] -8.178e-13   4.38e-13     -1.866      0.062   -1.68e-12    4.22e-14\n",
      "occ2[T.2]:ind2[T.20]   1.054e-13   1.24e-13      0.848      0.397   -1.39e-13    3.49e-13\n",
      "occ2[T.20]:ind2[T.20]  3.915e-13   3.01e-13      1.299      0.194      -2e-13    9.83e-13\n",
      "occ2[T.21]:ind2[T.20]    -0.1854      0.368     -0.504      0.614      -0.908       0.537\n",
      "occ2[T.22]:ind2[T.20]     0.0398      0.401      0.099      0.921      -0.747       0.827\n",
      "occ2[T.3]:ind2[T.20]   1.959e-14   2.13e-13      0.092      0.927   -3.99e-13    4.38e-13\n",
      "occ2[T.4]:ind2[T.20]  -7.643e-13   4.96e-13     -1.542      0.124   -1.74e-12    2.09e-13\n",
      "occ2[T.5]:ind2[T.20]   4.302e-13   4.23e-13      1.018      0.309   -3.99e-13    1.26e-12\n",
      "occ2[T.6]:ind2[T.20]   1.186e-13   2.75e-13      0.432      0.666   -4.21e-13    6.58e-13\n",
      "occ2[T.7]:ind2[T.20]   3.349e-13   1.82e-13      1.840      0.066   -2.23e-14    6.92e-13\n",
      "occ2[T.8]:ind2[T.20]     -0.8589      1.356     -0.634      0.526      -3.519       1.802\n",
      "occ2[T.9]:ind2[T.20]  -2.715e-13   2.96e-13     -0.916      0.360   -8.53e-13     3.1e-13\n",
      "occ2[T.10]:ind2[T.21]    -0.7038      0.524     -1.343      0.180      -1.732       0.325\n",
      "occ2[T.11]:ind2[T.21]  2.906e-14   2.95e-13      0.099      0.922    -5.5e-13    6.08e-13\n",
      "occ2[T.12]:ind2[T.21]  2.572e-14   1.85e-13      0.139      0.889   -3.37e-13    3.89e-13\n",
      "occ2[T.13]:ind2[T.21]  3.437e-13   3.26e-13      1.056      0.291   -2.95e-13    9.83e-13\n",
      "occ2[T.14]:ind2[T.21]     9.0501      3.499      2.586      0.010       2.182      15.918\n",
      "occ2[T.15]:ind2[T.21]     1.1672      1.138      1.026      0.305      -1.065       3.400\n",
      "occ2[T.16]:ind2[T.21]     0.3936      0.671      0.587      0.558      -0.923       1.711\n",
      "occ2[T.17]:ind2[T.21]     0.0811      0.498      0.163      0.870      -0.895       1.058\n",
      "occ2[T.18]:ind2[T.21]   2.97e-13   1.94e-13      1.528      0.127   -8.45e-14    6.79e-13\n",
      "occ2[T.19]:ind2[T.21]    -0.0942      0.545     -0.173      0.863      -1.165       0.976\n",
      "occ2[T.2]:ind2[T.21]   3.534e-13   2.64e-13      1.339      0.181   -1.65e-13    8.71e-13\n",
      "occ2[T.20]:ind2[T.21]    -0.0321      0.525     -0.061      0.951      -1.062       0.998\n",
      "occ2[T.21]:ind2[T.21]     0.4081      0.354      1.153      0.249      -0.287       1.103\n",
      "occ2[T.22]:ind2[T.21]    -0.0793      0.456     -0.174      0.862      -0.974       0.815\n",
      "occ2[T.3]:ind2[T.21]  -2.194e-13    2.6e-13     -0.843      0.399    -7.3e-13    2.91e-13\n",
      "occ2[T.4]:ind2[T.21]      0.4892      1.028      0.476      0.634      -1.528       2.506\n",
      "occ2[T.5]:ind2[T.21]   1.826e-13    1.5e-13      1.220      0.223   -1.11e-13    4.76e-13\n",
      "occ2[T.6]:ind2[T.21]      0.0282      0.062      0.453      0.651      -0.094       0.150\n",
      "occ2[T.7]:ind2[T.21]  -9.894e-14   1.13e-13     -0.875      0.382   -3.21e-13    1.23e-13\n",
      "occ2[T.8]:ind2[T.21]   2.035e-14   1.55e-13      0.131      0.896   -2.84e-13    3.25e-13\n",
      "occ2[T.9]:ind2[T.21]   -2.91e-13   2.97e-13     -0.981      0.327   -8.73e-13    2.91e-13\n",
      "occ2[T.10]:ind2[T.22]  4.704e-13   2.16e-13      2.178      0.030    4.64e-14    8.94e-13\n",
      "occ2[T.11]:ind2[T.22]    -0.9513      0.808     -1.177      0.239      -2.537       0.635\n",
      "occ2[T.12]:ind2[T.22]     0.1157      0.716      0.162      0.872      -1.290       1.521\n",
      "occ2[T.13]:ind2[T.22] -9.501e-13   7.58e-13     -1.253      0.211   -2.44e-12    5.38e-13\n",
      "occ2[T.14]:ind2[T.22]    -0.9372      0.806     -1.162      0.245      -2.520       0.645\n",
      "occ2[T.15]:ind2[T.22]   -12.0407      4.911     -2.452      0.014     -21.680      -2.402\n",
      "occ2[T.16]:ind2[T.22]  1.223e-13   1.77e-13      0.689      0.491   -2.26e-13     4.7e-13\n",
      "occ2[T.17]:ind2[T.22]    -1.0666      0.599     -1.781      0.075      -2.242       0.109\n",
      "occ2[T.18]:ind2[T.22] -5.661e-13   4.15e-13     -1.364      0.173   -1.38e-12    2.49e-13\n",
      "occ2[T.19]:ind2[T.22]    -1.3107      0.654     -2.004      0.045      -2.595      -0.027\n",
      "occ2[T.2]:ind2[T.22]   1.743e-13   1.62e-13      1.079      0.281   -1.43e-13    4.91e-13\n",
      "occ2[T.20]:ind2[T.22] -2.418e-13   1.77e-13     -1.363      0.173    -5.9e-13    1.06e-13\n",
      "occ2[T.21]:ind2[T.22]    -0.7058      0.620     -1.138      0.255      -1.923       0.511\n",
      "occ2[T.22]:ind2[T.22]    -1.0632      0.691     -1.539      0.124      -2.419       0.293\n",
      "occ2[T.3]:ind2[T.22]   2.167e-13   1.13e-13      1.912      0.056   -5.74e-15    4.39e-13\n",
      "occ2[T.4]:ind2[T.22]     -1.2772      0.958     -1.333      0.183      -3.157       0.603\n",
      "occ2[T.5]:ind2[T.22]  -1.359e-13   1.39e-13     -0.977      0.329   -4.09e-13    1.37e-13\n",
      "occ2[T.6]:ind2[T.22]     -1.0445      0.842     -1.240      0.215      -2.697       0.608\n",
      "occ2[T.7]:ind2[T.22]   7.986e-15   1.43e-13      0.056      0.955   -2.72e-13    2.88e-13\n",
      "occ2[T.8]:ind2[T.22]   1.465e-13   1.21e-13      1.214      0.225   -9.03e-14    3.83e-13\n",
      "occ2[T.9]:ind2[T.22]   6.509e-14   1.33e-13      0.488      0.625   -1.96e-13    3.27e-13\n",
      "occ2[T.10]:ind2[T.3]  -1.644e-13   8.57e-14     -1.918      0.055   -3.33e-13    3.86e-15\n",
      "occ2[T.11]:ind2[T.3]    2.79e-13   3.26e-13      0.855      0.393   -3.62e-13     9.2e-13\n",
      "occ2[T.12]:ind2[T.3]   5.286e-13   4.29e-13      1.231      0.219   -3.14e-13    1.37e-12\n",
      "occ2[T.13]:ind2[T.3]   -3.06e-13   1.73e-13     -1.770      0.077   -6.45e-13    3.32e-14\n",
      "occ2[T.14]:ind2[T.3]  -2.745e-14   1.73e-13     -0.159      0.874   -3.66e-13    3.11e-13\n",
      "occ2[T.15]:ind2[T.3]    6.82e-14   1.29e-13      0.530      0.596   -1.84e-13    3.21e-13\n",
      "occ2[T.16]:ind2[T.3]  -6.295e-14   2.31e-13     -0.272      0.785   -5.16e-13    3.91e-13\n",
      "occ2[T.17]:ind2[T.3]     -0.9075      0.946     -0.960      0.337      -2.763       0.948\n",
      "occ2[T.18]:ind2[T.3]   3.092e-13    1.4e-13      2.208      0.027    3.44e-14    5.84e-13\n",
      "occ2[T.19]:ind2[T.3]   6.528e-13   3.58e-13      1.824      0.068   -4.95e-14    1.36e-12\n",
      "occ2[T.2]:ind2[T.3]    -1.17e-13   1.74e-13     -0.672      0.502   -4.59e-13    2.25e-13\n",
      "occ2[T.20]:ind2[T.3]     -0.6060      0.777     -0.780      0.436      -2.132       0.920\n",
      "occ2[T.21]:ind2[T.3]     -0.0369      0.690     -0.054      0.957      -1.391       1.318\n",
      "occ2[T.22]:ind2[T.3]     -0.0882      0.790     -0.112      0.911      -1.638       1.461\n",
      "occ2[T.3]:ind2[T.3]   -3.404e-13   2.59e-13     -1.316      0.188   -8.48e-13    1.67e-13\n",
      "occ2[T.4]:ind2[T.3]      -0.8607      1.000     -0.860      0.390      -2.824       1.103\n",
      "occ2[T.5]:ind2[T.3]   -1.509e-13   8.51e-14     -1.772      0.077   -3.18e-13    1.62e-14\n",
      "occ2[T.6]:ind2[T.3]   -3.277e-13   1.76e-13     -1.864      0.063   -6.73e-13    1.73e-14\n",
      "occ2[T.7]:ind2[T.3]   -3.174e-14   1.06e-13     -0.299      0.765    -2.4e-13    1.76e-13\n",
      "occ2[T.8]:ind2[T.3]    2.967e-14   1.25e-13      0.237      0.813   -2.16e-13    2.75e-13\n",
      "occ2[T.9]:ind2[T.3]    3.449e-14   2.32e-13      0.149      0.882   -4.21e-13     4.9e-13\n",
      "occ2[T.10]:ind2[T.4]   -1.22e-13   1.48e-13     -0.825      0.410   -4.12e-13    1.68e-13\n",
      "occ2[T.11]:ind2[T.4]   1.839e-13   1.44e-13      1.275      0.203   -9.92e-14    4.67e-13\n",
      "occ2[T.12]:ind2[T.4]   1.903e-13   1.09e-13      1.752      0.080   -2.29e-14    4.03e-13\n",
      "occ2[T.13]:ind2[T.4]  -3.001e-13   1.22e-13     -2.464      0.014   -5.39e-13   -6.11e-14\n",
      "occ2[T.14]:ind2[T.4]   1.983e-13   2.65e-13      0.748      0.455   -3.22e-13    7.19e-13\n",
      "occ2[T.15]:ind2[T.4]  -3.255e-13   2.49e-13     -1.306      0.192   -8.15e-13    1.64e-13\n",
      "occ2[T.16]:ind2[T.4]  -1.964e-13   1.04e-13     -1.898      0.058      -4e-13    6.74e-15\n",
      "occ2[T.17]:ind2[T.4]     -0.1286      0.408     -0.315      0.753      -0.929       0.672\n",
      "occ2[T.18]:ind2[T.4]  -3.118e-13   3.36e-13     -0.928      0.353   -9.71e-13    3.47e-13\n",
      "occ2[T.19]:ind2[T.4]     -0.1899      0.263     -0.721      0.471      -0.707       0.327\n",
      "occ2[T.2]:ind2[T.4]       2.8962      2.475      1.170      0.242      -1.961       7.753\n",
      "occ2[T.20]:ind2[T.4]     -0.4229      0.518     -0.817      0.414      -1.439       0.593\n",
      "occ2[T.21]:ind2[T.4]      0.2202      0.354      0.621      0.535      -0.476       0.916\n",
      "occ2[T.22]:ind2[T.4]      0.5020      0.459      1.094      0.274      -0.398       1.402\n",
      "occ2[T.3]:ind2[T.4]    1.781e-14   1.41e-13      0.126      0.899   -2.59e-13    2.94e-13\n",
      "occ2[T.4]:ind2[T.4]       0.1654      0.429      0.386      0.700      -0.676       1.007\n",
      "occ2[T.5]:ind2[T.4]   -2.033e-13   1.48e-13     -1.372      0.171   -4.94e-13    8.76e-14\n",
      "occ2[T.6]:ind2[T.4]    1.065e-14   8.53e-14      0.125      0.901   -1.57e-13    1.78e-13\n",
      "occ2[T.7]:ind2[T.4]    2.117e-13    2.7e-13      0.784      0.433   -3.18e-13    7.41e-13\n",
      "occ2[T.8]:ind2[T.4]    1.687e-13   2.69e-13      0.627      0.531   -3.59e-13    6.96e-13\n",
      "occ2[T.9]:ind2[T.4]    4.208e-15   8.89e-14      0.047      0.962    -1.7e-13    1.79e-13\n",
      "occ2[T.10]:ind2[T.5]  -6.068e-14   4.92e-14     -1.233      0.218   -1.57e-13    3.59e-14\n",
      "occ2[T.11]:ind2[T.5]   -3.07e-13   2.02e-13     -1.517      0.130   -7.04e-13    9.01e-14\n",
      "occ2[T.12]:ind2[T.5]   4.407e-13   2.81e-13      1.568      0.117   -1.11e-13    9.92e-13\n",
      "occ2[T.13]:ind2[T.5]  -2.495e-14   9.05e-14     -0.276      0.783   -2.03e-13    1.53e-13\n",
      "occ2[T.14]:ind2[T.5]      0.3253      0.738      0.441      0.659      -1.123       1.773\n",
      "occ2[T.15]:ind2[T.5]   9.071e-14   1.52e-13      0.596      0.551   -2.08e-13    3.89e-13\n",
      "occ2[T.16]:ind2[T.5]  -9.167e-14   1.97e-13     -0.465      0.642   -4.79e-13    2.95e-13\n",
      "occ2[T.17]:ind2[T.5]     -0.2258      0.405     -0.557      0.577      -1.021       0.569\n",
      "occ2[T.18]:ind2[T.5]     -0.0066      0.008     -0.821      0.412      -0.022       0.009\n",
      "occ2[T.19]:ind2[T.5]     -0.2706      0.554     -0.488      0.626      -1.359       0.818\n",
      "occ2[T.2]:ind2[T.5]   -3.563e-13   1.66e-13     -2.149      0.032   -6.82e-13    -3.1e-14\n",
      "occ2[T.20]:ind2[T.5]     -0.3769      0.644     -0.586      0.558      -1.640       0.886\n",
      "occ2[T.21]:ind2[T.5]      0.0403      0.290      0.139      0.890      -0.530       0.610\n",
      "occ2[T.22]:ind2[T.5]     -0.1015      0.377     -0.269      0.788      -0.842       0.639\n",
      "occ2[T.3]:ind2[T.5]   -5.086e-15   6.95e-14     -0.073      0.942   -1.41e-13    1.31e-13\n",
      "occ2[T.4]:ind2[T.5]    2.468e-13   1.91e-13      1.291      0.197   -1.28e-13    6.22e-13\n",
      "occ2[T.5]:ind2[T.5]       0.2679      0.267      1.005      0.315      -0.255       0.791\n",
      "occ2[T.6]:ind2[T.5]    6.512e-15    2.2e-13      0.030      0.976   -4.25e-13    4.38e-13\n",
      "occ2[T.7]:ind2[T.5]   -5.045e-13   3.53e-13     -1.431      0.153    -1.2e-12    1.88e-13\n",
      "occ2[T.8]:ind2[T.5]   -1.471e-15   1.26e-13     -0.012      0.991   -2.49e-13    2.46e-13\n",
      "occ2[T.9]:ind2[T.5]   -1.013e-14   6.42e-14     -0.158      0.875   -1.36e-13    1.16e-13\n",
      "occ2[T.10]:ind2[T.6]  -7.125e-14   1.76e-13     -0.405      0.686   -4.17e-13    2.74e-13\n",
      "occ2[T.11]:ind2[T.6]  -2.249e-13   1.38e-13     -1.634      0.103   -4.95e-13    4.52e-14\n",
      "occ2[T.12]:ind2[T.6]   3.062e-13   2.06e-13      1.488      0.137   -9.78e-14     7.1e-13\n",
      "occ2[T.13]:ind2[T.6]   1.817e-13    7.3e-14      2.490      0.013    3.85e-14    3.25e-13\n",
      "occ2[T.14]:ind2[T.6]     -0.0959      0.643     -0.149      0.882      -1.358       1.167\n",
      "occ2[T.15]:ind2[T.6]   4.648e-13   2.69e-13      1.730      0.084   -6.26e-14    9.92e-13\n",
      "occ2[T.16]:ind2[T.6]      1.0081      0.598      1.687      0.092      -0.165       2.181\n",
      "occ2[T.17]:ind2[T.6]     -0.3398      0.353     -0.964      0.335      -1.032       0.352\n",
      "occ2[T.18]:ind2[T.6]  -7.252e-14   7.63e-14     -0.950      0.342   -2.22e-13    7.73e-14\n",
      "occ2[T.19]:ind2[T.6]      0.2942      0.392      0.751      0.453      -0.475       1.063\n",
      "occ2[T.2]:ind2[T.6]       1.8202      0.932      1.953      0.051      -0.009       3.649\n",
      "occ2[T.20]:ind2[T.6]     -0.7118      0.505     -1.410      0.159      -1.702       0.279\n",
      "occ2[T.21]:ind2[T.6]     -0.0273      0.267     -0.102      0.919      -0.551       0.496\n",
      "occ2[T.22]:ind2[T.6]      0.1117      0.349      0.320      0.749      -0.572       0.796\n",
      "occ2[T.3]:ind2[T.6]    1.223e-13   1.44e-13      0.852      0.394   -1.59e-13    4.04e-13\n",
      "occ2[T.4]:ind2[T.6]       0.8127      0.764      1.064      0.287      -0.686       2.312\n",
      "occ2[T.5]:ind2[T.6]    3.467e-13   1.72e-13      2.013      0.044    8.73e-15    6.85e-13\n",
      "occ2[T.6]:ind2[T.6]     2.45e-13   1.67e-13      1.467      0.143   -8.28e-14    5.73e-13\n",
      "occ2[T.7]:ind2[T.6]    2.251e-13   1.31e-13      1.723      0.085   -3.14e-14    4.82e-13\n",
      "occ2[T.8]:ind2[T.6]   -5.339e-14   1.19e-13     -0.449      0.654   -2.87e-13     1.8e-13\n",
      "occ2[T.9]:ind2[T.6]      -2.7110      1.272     -2.132      0.033      -5.207      -0.215\n",
      "occ2[T.10]:ind2[T.7]  -2.682e-13   2.58e-13     -1.038      0.299   -7.75e-13    2.39e-13\n",
      "occ2[T.11]:ind2[T.7]  -4.281e-13   3.11e-13     -1.378      0.169   -1.04e-12    1.82e-13\n",
      "occ2[T.12]:ind2[T.7]  -1.785e-13   8.29e-14     -2.153      0.032   -3.41e-13   -1.58e-14\n",
      "occ2[T.13]:ind2[T.7]  -4.109e-14   1.06e-13     -0.387      0.699    -2.5e-13    1.68e-13\n",
      "occ2[T.14]:ind2[T.7]  -2.937e-14    8.8e-14     -0.334      0.739   -2.02e-13    1.43e-13\n",
      "occ2[T.15]:ind2[T.7]   1.515e-13   1.37e-13      1.107      0.269   -1.17e-13     4.2e-13\n",
      "occ2[T.16]:ind2[T.7]      0.1761      0.682      0.258      0.796      -1.162       1.514\n",
      "occ2[T.17]:ind2[T.7]     -0.6247      0.534     -1.169      0.243      -1.673       0.424\n",
      "occ2[T.18]:ind2[T.7]   5.102e-14   6.22e-14      0.820      0.412   -7.11e-14    1.73e-13\n",
      "occ2[T.19]:ind2[T.7]   5.516e-13   3.06e-13      1.804      0.072   -4.85e-14    1.15e-12\n",
      "occ2[T.2]:ind2[T.7]       2.2747      1.718      1.324      0.186      -1.098       5.647\n",
      "occ2[T.20]:ind2[T.7]   2.092e-13   1.92e-13      1.090      0.276   -1.68e-13    5.86e-13\n",
      "occ2[T.21]:ind2[T.7]   1.323e-13   1.11e-13      1.198      0.231   -8.46e-14    3.49e-13\n",
      "occ2[T.22]:ind2[T.7]     -0.2443      0.524     -0.466      0.641      -1.274       0.785\n",
      "occ2[T.3]:ind2[T.7]     6.77e-15   1.29e-13      0.052      0.958   -2.47e-13     2.6e-13\n",
      "occ2[T.4]:ind2[T.7]    2.747e-14   8.81e-14      0.312      0.755   -1.45e-13       2e-13\n",
      "occ2[T.5]:ind2[T.7]   -3.289e-13   2.02e-13     -1.625      0.105   -7.26e-13    6.84e-14\n",
      "occ2[T.6]:ind2[T.7]   -1.654e-13   1.05e-13     -1.573      0.116   -3.72e-13     4.1e-14\n",
      "occ2[T.7]:ind2[T.7]    1.121e-13   5.75e-14      1.947      0.052   -8.78e-16    2.25e-13\n",
      "occ2[T.8]:ind2[T.7]   -1.481e-13   1.11e-13     -1.337      0.181   -3.66e-13    6.93e-14\n",
      "occ2[T.9]:ind2[T.7]    4.049e-14   6.16e-14      0.658      0.511   -8.03e-14    1.61e-13\n",
      "occ2[T.10]:ind2[T.8]   -2.68e-13   1.94e-13     -1.384      0.167   -6.48e-13    1.12e-13\n",
      "occ2[T.11]:ind2[T.8]   1.233e-13   8.77e-14      1.407      0.160   -4.87e-14    2.95e-13\n",
      "occ2[T.12]:ind2[T.8]   1.697e-14   4.07e-14      0.417      0.676   -6.28e-14    9.68e-14\n",
      "occ2[T.13]:ind2[T.8]  -1.234e-13   1.43e-13     -0.862      0.389   -4.04e-13    1.57e-13\n",
      "occ2[T.14]:ind2[T.8]     -2.6763      1.224     -2.187      0.029      -5.078      -0.275\n",
      "occ2[T.15]:ind2[T.8]   2.254e-13   1.78e-13      1.269      0.205   -1.23e-13    5.74e-13\n",
      "occ2[T.16]:ind2[T.8]     -2.3375      1.265     -1.848      0.065      -4.821       0.146\n",
      "occ2[T.17]:ind2[T.8]     -3.1445      0.786     -4.003      0.000      -4.686      -1.603\n",
      "occ2[T.18]:ind2[T.8]   1.935e-13   1.55e-13      1.250      0.212    -1.1e-13    4.98e-13\n",
      "occ2[T.19]:ind2[T.8]   1.921e-13    1.7e-13      1.132      0.258   -1.41e-13    5.25e-13\n",
      "occ2[T.2]:ind2[T.8]    1.332e-13   7.76e-14      1.716      0.086   -1.91e-14    2.85e-13\n",
      "occ2[T.20]:ind2[T.8]   1.712e-13   1.59e-13      1.077      0.282   -1.41e-13    4.83e-13\n",
      "occ2[T.21]:ind2[T.8]     -0.1564      1.455     -0.107      0.914      -3.012       2.699\n",
      "occ2[T.22]:ind2[T.8]     -2.8266      0.796     -3.550      0.000      -4.389      -1.264\n",
      "occ2[T.3]:ind2[T.8]    2.361e-13   2.11e-13      1.121      0.263   -1.77e-13    6.49e-13\n",
      "occ2[T.4]:ind2[T.8]    5.847e-15   1.93e-14      0.303      0.762   -3.21e-14    4.38e-14\n",
      "occ2[T.5]:ind2[T.8]   -2.423e-14   7.12e-14     -0.340      0.734   -1.64e-13    1.15e-13\n",
      "occ2[T.6]:ind2[T.8]    1.195e-13   1.11e-13      1.076      0.282   -9.85e-14    3.38e-13\n",
      "occ2[T.7]:ind2[T.8]    1.359e-13   1.32e-13      1.033      0.302   -1.22e-13    3.94e-13\n",
      "occ2[T.8]:ind2[T.8]    1.844e-14    5.1e-14      0.362      0.718   -8.17e-14    1.19e-13\n",
      "occ2[T.9]:ind2[T.8]    2.269e-13   2.17e-13      1.048      0.295   -1.98e-13    6.52e-13\n",
      "occ2[T.10]:ind2[T.9]     -0.5569      0.620     -0.898      0.369      -1.774       0.660\n",
      "occ2[T.11]:ind2[T.9]  -2.957e-13   2.34e-13     -1.264      0.207   -7.55e-13    1.63e-13\n",
      "occ2[T.12]:ind2[T.9]     -1.0565      0.978     -1.080      0.280      -2.976       0.863\n",
      "occ2[T.13]:ind2[T.9]   2.056e-13   1.74e-13      1.179      0.239   -1.37e-13    5.48e-13\n",
      "occ2[T.14]:ind2[T.9]     -0.7151      0.629     -1.137      0.256      -1.950       0.520\n",
      "occ2[T.15]:ind2[T.9]      0.7156      1.198      0.597      0.550      -1.635       3.066\n",
      "occ2[T.16]:ind2[T.9]     -0.2102      0.541     -0.389      0.697      -1.271       0.851\n",
      "occ2[T.17]:ind2[T.9]     -0.5291      0.338     -1.564      0.118      -1.193       0.135\n",
      "occ2[T.18]:ind2[T.9]  -1.034e-13    9.6e-14     -1.077      0.282   -2.92e-13     8.5e-14\n",
      "occ2[T.19]:ind2[T.9]      0.0754      0.400      0.189      0.850      -0.709       0.860\n",
      "occ2[T.2]:ind2[T.9]      -0.2856      0.711     -0.402      0.688      -1.681       1.110\n",
      "occ2[T.20]:ind2[T.9]     -0.8235      0.490     -1.679      0.093      -1.786       0.139\n",
      "occ2[T.21]:ind2[T.9]     -0.2496      0.325     -0.768      0.443      -0.888       0.388\n",
      "occ2[T.22]:ind2[T.9]     -0.4108      0.328     -1.253      0.211      -1.054       0.233\n",
      "occ2[T.3]:ind2[T.9]   -8.568e-14   9.28e-14     -0.924      0.356   -2.68e-13    9.64e-14\n",
      "occ2[T.4]:ind2[T.9]   -1.689e-13   1.62e-13     -1.040      0.299   -4.88e-13     1.5e-13\n",
      "occ2[T.5]:ind2[T.9]    1.548e-14   4.39e-14      0.352      0.725   -7.08e-14    1.02e-13\n",
      "occ2[T.6]:ind2[T.9]    -2.37e-13   2.34e-13     -1.013      0.311   -6.96e-13    2.22e-13\n",
      "occ2[T.7]:ind2[T.9]       0.0319      0.131      0.243      0.808      -0.226       0.290\n",
      "occ2[T.8]:ind2[T.9]    7.513e-15   1.99e-14      0.378      0.706   -3.15e-14    4.65e-14\n",
      "occ2[T.9]:ind2[T.9]      -3.1416      1.172     -2.681      0.007      -5.442      -0.842\n",
      "exp1                     -0.8027      0.581     -1.383      0.167      -1.942       0.337\n",
      "exp1:occ2[T.10]           1.0724      0.587      1.826      0.068      -0.080       2.225\n",
      "exp1:occ2[T.11]          -0.3612      0.499     -0.724      0.470      -1.341       0.619\n",
      "exp1:occ2[T.12]          -0.6379      0.634     -1.007      0.314      -1.882       0.606\n",
      "exp1:occ2[T.13]           0.5631      0.344      1.636      0.102      -0.112       1.239\n",
      "exp1:occ2[T.14]           0.0316      0.421      0.075      0.940      -0.795       0.859\n",
      "exp1:occ2[T.15]          -0.8854      0.612     -1.446      0.149      -2.087       0.317\n",
      "exp1:occ2[T.16]           0.0783      0.339      0.231      0.818      -0.588       0.745\n",
      "exp1:occ2[T.17]           0.3722      0.314      1.185      0.236      -0.244       0.989\n",
      "exp1:occ2[T.18]          -0.0514      0.062     -0.827      0.409      -0.174       0.071\n",
      "exp1:occ2[T.19]           1.6800      0.647      2.598      0.010       0.411       2.949\n",
      "exp1:occ2[T.2]           -1.1278      1.591     -0.709      0.479      -4.251       1.995\n",
      "exp1:occ2[T.20]           0.1288      0.376      0.343      0.732      -0.609       0.867\n",
      "exp1:occ2[T.21]           0.1341      0.358      0.375      0.708      -0.568       0.836\n",
      "exp1:occ2[T.22]           0.2748      0.356      0.772      0.441      -0.424       0.974\n",
      "exp1:occ2[T.3]            0.0276      0.191      0.145      0.885      -0.347       0.402\n",
      "exp1:occ2[T.4]            0.3359      0.322      1.042      0.298      -0.297       0.969\n",
      "exp1:occ2[T.5]           -0.0525      0.124     -0.423      0.673      -0.296       0.191\n",
      "exp1:occ2[T.6]            0.1286      0.250      0.514      0.607      -0.362       0.619\n",
      "exp1:occ2[T.7]           -0.0312      0.027     -1.171      0.242      -0.083       0.021\n",
      "exp1:occ2[T.8]            3.4405      3.058      1.125      0.261      -2.561       9.442\n",
      "exp1:occ2[T.9]            6.3117      3.985      1.584      0.114      -1.510      14.133\n",
      "exp1:ind2[T.11]          -0.0629      2.681     -0.023      0.981      -5.325       5.200\n",
      "exp1:ind2[T.12]           0.8800      0.549      1.604      0.109      -0.197       1.957\n",
      "exp1:ind2[T.13]           1.2775      0.969      1.319      0.188      -0.624       3.179\n",
      "exp1:ind2[T.14]          -0.1345      0.424     -0.317      0.751      -0.967       0.698\n",
      "exp1:ind2[T.15]           0.0045      0.094      0.048      0.961      -0.180       0.189\n",
      "exp1:ind2[T.16]           0.6286      0.454      1.383      0.167      -0.263       1.520\n",
      "exp1:ind2[T.17]           1.2409      0.687      1.806      0.071      -0.107       2.589\n",
      "exp1:ind2[T.18]           0.4254      0.405      1.050      0.294      -0.370       1.221\n",
      "exp1:ind2[T.19]           1.2008      0.715      1.679      0.094      -0.203       2.605\n",
      "exp1:ind2[T.2]           -2.3434      2.091     -1.121      0.263      -6.447       1.760\n",
      "exp1:ind2[T.20]           0.1325      0.417      0.317      0.751      -0.687       0.952\n",
      "exp1:ind2[T.21]           1.3048      0.578      2.256      0.024       0.169       2.440\n",
      "exp1:ind2[T.22]          -0.3087      0.447     -0.690      0.490      -1.186       0.569\n",
      "exp1:ind2[T.3]            1.8455      1.186      1.556      0.120      -0.482       4.173\n",
      "exp1:ind2[T.4]           -1.1302      0.685     -1.649      0.100      -2.475       0.215\n",
      "exp1:ind2[T.5]            0.4409      0.385      1.147      0.252      -0.314       1.196\n",
      "exp1:ind2[T.6]            0.2596      0.364      0.714      0.476      -0.454       0.973\n",
      "exp1:ind2[T.7]            1.2650      0.713      1.774      0.076      -0.135       2.664\n",
      "exp1:ind2[T.8]           -0.6159      1.446     -0.426      0.670      -3.455       2.223\n",
      "exp1:ind2[T.9]            0.2119      0.296      0.716      0.474      -0.369       0.793\n",
      "exp2                     12.1828      9.043      1.347      0.178      -5.566      29.931\n",
      "exp2:occ2[T.10]          -9.9701      5.179     -1.925      0.055     -20.134       0.194\n",
      "exp2:occ2[T.11]           1.9115      4.138      0.462      0.644      -6.210      10.033\n",
      "exp2:occ2[T.12]           4.9671      5.442      0.913      0.362      -5.713      15.647\n",
      "exp2:occ2[T.13]          -5.0992      3.080     -1.656      0.098     -11.144       0.946\n",
      "exp2:occ2[T.14]          -0.7517      3.510     -0.214      0.830      -7.641       6.137\n",
      "exp2:occ2[T.15]           9.5102      6.191      1.536      0.125      -2.641      21.662\n",
      "exp2:occ2[T.16]          -0.9934      2.979     -0.333      0.739      -6.841       4.854\n",
      "exp2:occ2[T.17]          -3.2697      2.743     -1.192      0.234      -8.654       2.115\n",
      "exp2:occ2[T.18]          -0.0037      0.004     -0.860      0.390      -0.012       0.005\n",
      "exp2:occ2[T.19]         -15.9784      6.138     -2.603      0.009     -28.025      -3.932\n",
      "exp2:occ2[T.2]           12.7051     16.609      0.765      0.445     -19.893      45.303\n",
      "exp2:occ2[T.20]          -1.3950      3.222     -0.433      0.665      -7.719       4.929\n",
      "exp2:occ2[T.21]          -1.0480      3.114     -0.337      0.737      -7.160       5.064\n",
      "exp2:occ2[T.22]          -2.7781      3.043     -0.913      0.361      -8.750       3.193\n",
      "exp2:occ2[T.3]           -0.1058      0.165     -0.639      0.523      -0.431       0.219\n",
      "exp2:occ2[T.4]            0.0799      0.163      0.489      0.625      -0.241       0.401\n",
      "exp2:occ2[T.5]            0.0886      0.078      1.130      0.259      -0.065       0.243\n",
      "exp2:occ2[T.6]           -0.0072      0.175     -0.041      0.967      -0.351       0.337\n",
      "exp2:occ2[T.7]            0.0143      0.066      0.219      0.827      -0.114       0.143\n",
      "exp2:occ2[T.8]          -36.1229     27.124     -1.332      0.183     -89.358      17.112\n",
      "exp2:occ2[T.9]          -58.8717     40.148     -1.466      0.143    -137.669      19.925\n",
      "exp2:ind2[T.11]           3.9136     23.618      0.166      0.868     -42.440      50.267\n",
      "exp2:ind2[T.12]          -7.4915      4.645     -1.613      0.107     -16.609       1.626\n",
      "exp2:ind2[T.13]         -11.5397      8.792     -1.313      0.190     -28.795       5.715\n",
      "exp2:ind2[T.14]           1.5866      3.587      0.442      0.658      -5.454       8.627\n",
      "exp2:ind2[T.15]          -0.1025      0.127     -0.809      0.419      -0.351       0.146\n",
      "exp2:ind2[T.16]          -5.1913      3.711     -1.399      0.162     -12.474       2.092\n",
      "exp2:ind2[T.17]         -10.6224      5.498     -1.932      0.054     -21.413       0.168\n",
      "exp2:ind2[T.18]          -3.2322      3.397     -0.951      0.342      -9.900       3.435\n",
      "exp2:ind2[T.19]          -4.5524      2.263     -2.012      0.045      -8.993      -0.112\n",
      "exp2:ind2[T.2]           22.0129     17.284      1.274      0.203     -11.909      55.934\n",
      "exp2:ind2[T.20]          -0.7548      3.580     -0.211      0.833      -7.781       6.272\n",
      "exp2:ind2[T.21]         -14.2135      5.564     -2.555      0.011     -25.133      -3.294\n",
      "exp2:ind2[T.22]           2.7534      3.806      0.723      0.470      -4.717      10.224\n",
      "exp2:ind2[T.3]          -17.0563     11.148     -1.530      0.126     -38.937       4.824\n",
      "exp2:ind2[T.4]           10.8807      6.369      1.708      0.088      -1.619      23.381\n",
      "exp2:ind2[T.5]           -3.6946      3.094     -1.194      0.233      -9.768       2.379\n",
      "exp2:ind2[T.6]           -2.4847      2.948     -0.843      0.399      -8.270       3.300\n",
      "exp2:ind2[T.7]          -10.5046      6.307     -1.666      0.096     -22.883       1.874\n",
      "exp2:ind2[T.8]            5.5398     10.805      0.513      0.608     -15.666      26.746\n",
      "exp2:ind2[T.9]           -1.3234      2.386     -0.555      0.579      -6.006       3.359\n",
      "exp3                     -0.1401      0.116     -1.209      0.227      -0.368       0.087\n",
      "exp3:occ2[T.10]           3.6360      1.839      1.977      0.048       0.027       7.246\n",
      "exp3:occ2[T.11]          -0.2998      1.346     -0.223      0.824      -2.942       2.342\n",
      "exp3:occ2[T.12]          -1.5597      1.840     -0.848      0.397      -5.170       2.051\n",
      "exp3:occ2[T.13]           1.7465      1.088      1.606      0.109      -0.388       3.881\n",
      "exp3:occ2[T.14]           0.3784      1.176      0.322      0.748      -1.929       2.686\n",
      "exp3:occ2[T.15]          -4.0281      2.488     -1.619      0.106      -8.912       0.856\n",
      "exp3:occ2[T.16]           0.5030      1.036      0.486      0.627      -1.530       2.535\n",
      "exp3:occ2[T.17]           1.1971      0.951      1.259      0.208      -0.669       3.063\n",
      "exp3:occ2[T.18]          -0.0012      0.001     -1.125      0.261      -0.003       0.001\n",
      "exp3:occ2[T.19]           5.9780      2.278      2.624      0.009       1.506      10.450\n",
      "exp3:occ2[T.2]           -5.1559      6.798     -0.758      0.448     -18.497       8.186\n",
      "exp3:occ2[T.20]           0.6431      1.091      0.589      0.556      -1.499       2.785\n",
      "exp3:occ2[T.21]           0.3854      1.074      0.359      0.720      -1.722       2.492\n",
      "exp3:occ2[T.22]           1.0691      1.037      1.031      0.303      -0.967       3.105\n",
      "exp3:occ2[T.3]           -0.1759      0.445     -0.396      0.692      -1.048       0.697\n",
      "exp3:occ2[T.4]           -0.6800      0.646     -1.053      0.293      -1.947       0.587\n",
      "exp3:occ2[T.5]            0.3014      0.287      1.048      0.295      -0.263       0.866\n",
      "exp3:occ2[T.6]           -0.4501      0.744     -0.605      0.545      -1.910       1.010\n",
      "exp3:occ2[T.7]            0.0277      0.117      0.237      0.813      -0.202       0.257\n",
      "exp3:occ2[T.8]           15.2811     10.095      1.514      0.130      -4.532      35.094\n",
      "exp3:occ2[T.9]           21.8909     15.888      1.378      0.169      -9.292      53.074\n",
      "exp3:ind2[T.11]          -2.5542      8.284     -0.308      0.758     -18.813      13.705\n",
      "exp3:ind2[T.12]           2.3760      1.516      1.568      0.117      -0.599       5.351\n",
      "exp3:ind2[T.13]           3.9115      3.193      1.225      0.221      -2.355      10.178\n",
      "exp3:ind2[T.14]          -0.5785      1.191     -0.486      0.627      -2.915       1.758\n",
      "exp3:ind2[T.15]          -0.0701      0.107     -0.652      0.515      -0.281       0.141\n",
      "exp3:ind2[T.16]           1.6940      1.220      1.388      0.165      -0.701       4.089\n",
      "exp3:ind2[T.17]           3.5701      1.772      2.015      0.044       0.092       7.048\n",
      "exp3:ind2[T.18]           0.9592      1.129      0.849      0.396      -1.257       3.175\n",
      "exp3:ind2[T.19]          -2.7195      1.965     -1.384      0.167      -6.577       1.138\n",
      "exp3:ind2[T.2]           -7.7050      5.567     -1.384      0.167     -18.631       3.221\n",
      "exp3:ind2[T.20]           0.2098      1.211      0.173      0.862      -2.166       2.586\n",
      "exp3:ind2[T.21]           5.9399      2.172      2.734      0.006       1.676      10.204\n",
      "exp3:ind2[T.22]          -0.9135      1.279     -0.714      0.475      -3.423       1.596\n",
      "exp3:ind2[T.3]            6.1967      4.015      1.543      0.123      -1.683      14.076\n",
      "exp3:ind2[T.4]           -4.0854      2.325     -1.757      0.079      -8.649       0.478\n",
      "exp3:ind2[T.5]            1.2026      0.982      1.224      0.221      -0.726       3.131\n",
      "exp3:ind2[T.6]            0.8996      0.947      0.950      0.342      -0.958       2.757\n",
      "exp3:ind2[T.7]            3.3849      2.209      1.532      0.126      -0.951       7.721\n",
      "exp3:ind2[T.8]           -1.9395      3.273     -0.593      0.554      -8.362       4.483\n",
      "exp3:ind2[T.9]            0.2865      0.756      0.379      0.705      -1.198       1.771\n",
      "exp4                      0.0643      0.058      1.106      0.269      -0.050       0.178\n",
      "exp4:occ2[T.10]          -0.4475      0.226     -1.981      0.048      -0.891      -0.004\n",
      "exp4:occ2[T.11]           0.0041      0.149      0.028      0.978      -0.288       0.296\n",
      "exp4:occ2[T.12]           0.1703      0.211      0.807      0.420      -0.244       0.584\n",
      "exp4:occ2[T.13]          -0.2017      0.131     -1.537      0.125      -0.459       0.056\n",
      "exp4:occ2[T.14]          -0.0587      0.137     -0.430      0.667      -0.327       0.209\n",
      "exp4:occ2[T.15]           0.5895      0.344      1.714      0.087      -0.086       1.265\n",
      "exp4:occ2[T.16]          -0.0811      0.123     -0.659      0.510      -0.322       0.160\n",
      "exp4:occ2[T.17]          -0.1527      0.113     -1.352      0.177      -0.374       0.069\n",
      "exp4:occ2[T.18]           0.0059      0.011      0.532      0.595      -0.016       0.028\n",
      "exp4:occ2[T.19]          -0.7514      0.286     -2.629      0.009      -1.312      -0.191\n",
      "exp4:occ2[T.2]            0.6763      0.944      0.717      0.474      -1.176       2.528\n",
      "exp4:occ2[T.20]          -0.0957      0.126     -0.757      0.449      -0.344       0.152\n",
      "exp4:occ2[T.21]          -0.0525      0.127     -0.414      0.679      -0.301       0.196\n",
      "exp4:occ2[T.22]          -0.1374      0.122     -1.130      0.259      -0.376       0.101\n",
      "exp4:occ2[T.3]            0.0466      0.082      0.567      0.571      -0.115       0.208\n",
      "exp4:occ2[T.4]            0.1275      0.116      1.094      0.274      -0.101       0.356\n",
      "exp4:occ2[T.5]           -0.0773      0.063     -1.234      0.217      -0.200       0.046\n",
      "exp4:occ2[T.6]            0.1448      0.157      0.923      0.357      -0.163       0.453\n",
      "exp4:occ2[T.7]           -0.0133      0.034     -0.387      0.699      -0.081       0.054\n",
      "exp4:occ2[T.8]           -2.2222      1.331     -1.669      0.095      -4.835       0.391\n",
      "exp4:occ2[T.9]           -2.7833      2.123     -1.311      0.190      -6.949       1.383\n",
      "exp4:ind2[T.11]           0.4255      1.016      0.419      0.675      -1.569       2.420\n",
      "exp4:ind2[T.12]          -0.2439      0.167     -1.457      0.145      -0.572       0.085\n",
      "exp4:ind2[T.13]          -0.4475      0.398     -1.124      0.261      -1.229       0.334\n",
      "exp4:ind2[T.14]           0.0663      0.133      0.497      0.620      -0.196       0.328\n",
      "exp4:ind2[T.15]           0.1326      0.136      0.974      0.330      -0.135       0.400\n",
      "exp4:ind2[T.16]          -0.1929      0.139     -1.390      0.165      -0.465       0.080\n",
      "exp4:ind2[T.17]          -0.4071      0.198     -2.054      0.040      -0.796      -0.018\n",
      "exp4:ind2[T.18]          -0.1023      0.130     -0.789      0.430      -0.357       0.152\n",
      "exp4:ind2[T.19]           0.9085      0.611      1.488      0.137      -0.290       2.107\n",
      "exp4:ind2[T.2]            0.8870      0.614      1.446      0.149      -0.317       2.091\n",
      "exp4:ind2[T.20]          -0.0253      0.140     -0.181      0.856      -0.300       0.249\n",
      "exp4:ind2[T.21]          -0.8428      0.297     -2.835      0.005      -1.426      -0.259\n",
      "exp4:ind2[T.22]           0.1007      0.147      0.685      0.494      -0.188       0.389\n",
      "exp4:ind2[T.3]           -0.7742      0.490     -1.579      0.115      -1.736       0.188\n",
      "exp4:ind2[T.4]            0.5110      0.288      1.775      0.076      -0.054       1.076\n",
      "exp4:ind2[T.5]           -0.1348      0.107     -1.260      0.208      -0.345       0.075\n",
      "exp4:ind2[T.6]           -0.1111      0.104     -1.064      0.287      -0.316       0.094\n",
      "exp4:ind2[T.7]           -0.3692      0.265     -1.391      0.165      -0.890       0.152\n",
      "exp4:ind2[T.8]            0.2306      0.347      0.665      0.506      -0.450       0.912\n",
      "exp4:ind2[T.9]           -0.0177      0.082     -0.216      0.829      -0.178       0.143\n",
      "shs                       2.0486      1.245      1.646      0.100      -0.395       4.492\n",
      "shs:occ2[T.10]                 0          0        nan        nan           0           0\n",
      "shs:occ2[T.11]            0.7544      0.791      0.954      0.340      -0.797       2.306\n",
      "shs:occ2[T.12]            0.9888      0.962      1.028      0.304      -0.899       2.877\n",
      "shs:occ2[T.13]           -0.4379      0.466     -0.940      0.347      -1.352       0.476\n",
      "shs:occ2[T.14]            0.1567      0.666      0.235      0.814      -1.150       1.463\n",
      "shs:occ2[T.15]            0.5591      0.723      0.774      0.439      -0.859       1.978\n",
      "shs:occ2[T.16]            0.3144      0.503      0.625      0.532      -0.673       1.302\n",
      "shs:occ2[T.17]           -0.7583      0.463     -1.639      0.102      -1.666       0.150\n",
      "shs:occ2[T.18]                 0          0        nan        nan           0           0\n",
      "shs:occ2[T.19]           -1.9340      0.789     -2.452      0.014      -3.482      -0.386\n",
      "shs:occ2[T.2]                  0          0        nan        nan           0           0\n",
      "shs:occ2[T.20]           -0.1879      0.557     -0.337      0.736      -1.281       0.905\n",
      "shs:occ2[T.21]           -0.1360      0.494     -0.275      0.783      -1.106       0.834\n",
      "shs:occ2[T.22]           -0.3261      0.505     -0.646      0.518      -1.317       0.664\n",
      "shs:occ2[T.3]                  0          0        nan        nan           0           0\n",
      "shs:occ2[T.4]            -0.9772      1.811     -0.540      0.590      -4.532       2.578\n",
      "shs:occ2[T.5]                  0          0        nan        nan           0           0\n",
      "shs:occ2[T.6]                  0          0        nan        nan           0           0\n",
      "shs:occ2[T.7]                  0          0        nan        nan           0           0\n",
      "shs:occ2[T.8]                  0          0        nan        nan           0           0\n",
      "shs:occ2[T.9]                  0          0        nan        nan           0           0\n",
      "shs:ind2[T.11]           -0.4222      2.578     -0.164      0.870      -5.481       4.637\n",
      "shs:ind2[T.12]           -0.0166      0.827     -0.020      0.984      -1.639       1.606\n",
      "shs:ind2[T.13]           -1.5312      1.413     -1.084      0.279      -4.304       1.242\n",
      "shs:ind2[T.14]                 0          0        nan        nan           0           0\n",
      "shs:ind2[T.15]                 0          0        nan        nan           0           0\n",
      "shs:ind2[T.16]           -1.1052      0.691     -1.599      0.110      -2.462       0.251\n",
      "shs:ind2[T.17]           -0.5148      1.702     -0.302      0.762      -3.855       2.825\n",
      "shs:ind2[T.18]           -0.9979      0.717     -1.392      0.164      -2.405       0.409\n",
      "shs:ind2[T.19]            3.5550      1.365      2.605      0.009       0.876       6.234\n",
      "shs:ind2[T.2]             1.8351      2.440      0.752      0.452      -2.953       6.623\n",
      "shs:ind2[T.20]           -0.6483      0.623     -1.041      0.298      -1.871       0.574\n",
      "shs:ind2[T.21]           -1.2357      0.741     -1.667      0.096      -2.690       0.219\n",
      "shs:ind2[T.22]                 0          0        nan        nan           0           0\n",
      "shs:ind2[T.3]                  0          0        nan        nan           0           0\n",
      "shs:ind2[T.4]             1.2563      0.836      1.503      0.133      -0.384       2.896\n",
      "shs:ind2[T.5]            -0.9158      0.589     -1.555      0.120      -2.072       0.240\n",
      "shs:ind2[T.6]            -0.5121      0.561     -0.912      0.362      -1.614       0.590\n",
      "shs:ind2[T.7]            -1.4746      0.936     -1.576      0.115      -3.311       0.362\n",
      "shs:ind2[T.8]            -0.1564      1.455     -0.107      0.914      -3.012       2.699\n",
      "shs:ind2[T.9]            -0.2401      0.452     -0.531      0.595      -1.127       0.647\n",
      "hsg                       1.5900      0.790      2.012      0.045       0.039       3.141\n",
      "hsg:occ2[T.10]           -1.5768      1.007     -1.565      0.118      -3.554       0.401\n",
      "hsg:occ2[T.11]            0.2362      0.645      0.366      0.714      -1.029       1.502\n",
      "hsg:occ2[T.12]            0.3304      0.709      0.466      0.641      -1.061       1.722\n",
      "hsg:occ2[T.13]           -0.8050      0.388     -2.074      0.038      -1.567      -0.043\n",
      "hsg:occ2[T.14]           -0.0317      0.601     -0.053      0.958      -1.211       1.148\n",
      "hsg:occ2[T.15]            0.4439      1.052      0.422      0.673      -1.621       2.509\n",
      "hsg:occ2[T.16]           -0.4156      0.464     -0.895      0.371      -1.326       0.495\n",
      "hsg:occ2[T.17]           -0.3645      0.411     -0.887      0.375      -1.171       0.442\n",
      "hsg:occ2[T.18]           -0.0066      0.008     -0.821      0.412      -0.022       0.009\n",
      "hsg:occ2[T.19]           -1.7684      0.731     -2.421      0.016      -3.202      -0.335\n",
      "hsg:occ2[T.2]            -1.7392      3.173     -0.548      0.584      -7.967       4.489\n",
      "hsg:occ2[T.20]            0.0581      0.520      0.112      0.911      -0.963       1.079\n",
      "hsg:occ2[T.21]           -0.1987      0.441     -0.451      0.652      -1.063       0.666\n",
      "hsg:occ2[T.22]           -0.2715      0.466     -0.583      0.560      -1.185       0.643\n",
      "hsg:occ2[T.3]             0.1764      0.910      0.194      0.846      -1.610       1.962\n",
      "hsg:occ2[T.4]            -0.6182      0.360     -1.718      0.086      -1.325       0.088\n",
      "hsg:occ2[T.5]            -0.0220      0.025     -0.884      0.377      -0.071       0.027\n",
      "hsg:occ2[T.6]            -0.4782      0.925     -0.517      0.605      -2.295       1.338\n",
      "hsg:occ2[T.7]            -0.0153      0.049     -0.312      0.755      -0.112       0.081\n",
      "hsg:occ2[T.8]            -4.6903      5.418     -0.866      0.387     -15.324       5.944\n",
      "hsg:occ2[T.9]            -9.7930      5.779     -1.694      0.091     -21.136       1.550\n",
      "hsg:ind2[T.11]            0.1992      3.447      0.058      0.954      -6.567       6.965\n",
      "hsg:ind2[T.12]           -1.1099      0.789     -1.407      0.160      -2.658       0.439\n",
      "hsg:ind2[T.13]           -1.1457      1.272     -0.901      0.368      -3.642       1.351\n",
      "hsg:ind2[T.14]            0.2761      0.791      0.349      0.727      -1.276       1.828\n",
      "hsg:ind2[T.15]            0.2733      0.314      0.871      0.384      -0.342       0.889\n",
      "hsg:ind2[T.16]           -0.5224      0.626     -0.835      0.404      -1.750       0.706\n",
      "hsg:ind2[T.17]           -2.1785      1.206     -1.807      0.071      -4.545       0.188\n",
      "hsg:ind2[T.18]           -0.4748      0.581     -0.817      0.414      -1.615       0.665\n",
      "hsg:ind2[T.19]            0.5699      0.604      0.943      0.346      -0.616       1.756\n",
      "hsg:ind2[T.2]             2.8660      2.494      1.149      0.251      -2.029       7.761\n",
      "hsg:ind2[T.20]            0.0228      0.534      0.043      0.966      -1.025       1.071\n",
      "hsg:ind2[T.21]           -1.2669      0.669     -1.893      0.059      -2.580       0.047\n",
      "hsg:ind2[T.22]            1.0964      0.846      1.295      0.196      -0.565       2.758\n",
      "hsg:ind2[T.3]            -2.8726      1.979     -1.451      0.147      -6.758       1.012\n",
      "hsg:ind2[T.4]             1.3093      0.784      1.670      0.095      -0.229       2.848\n",
      "hsg:ind2[T.5]            -0.3492      0.499     -0.699      0.484      -1.329       0.631\n",
      "hsg:ind2[T.6]            -0.1270      0.472     -0.269      0.788      -1.053       0.799\n",
      "hsg:ind2[T.7]            -1.2098      0.851     -1.421      0.156      -2.881       0.461\n",
      "hsg:ind2[T.8]             2.5939      2.681      0.968      0.333      -2.667       7.855\n",
      "hsg:ind2[T.9]            -0.1378      0.392     -0.351      0.726      -0.908       0.632\n",
      "scl                            0          0        nan        nan           0           0\n",
      "scl:occ2[T.10]                 0          0        nan        nan           0           0\n",
      "scl:occ2[T.11]                 0          0        nan        nan           0           0\n",
      "scl:occ2[T.12]                 0          0        nan        nan           0           0\n",
      "scl:occ2[T.13]                 0          0        nan        nan           0           0\n",
      "scl:occ2[T.14]                 0          0        nan        nan           0           0\n",
      "scl:occ2[T.15]                 0          0        nan        nan           0           0\n",
      "scl:occ2[T.16]                 0          0        nan        nan           0           0\n",
      "scl:occ2[T.17]                 0          0        nan        nan           0           0\n",
      "scl:occ2[T.18]                 0          0        nan        nan           0           0\n",
      "scl:occ2[T.19]                 0          0        nan        nan           0           0\n",
      "scl:occ2[T.2]                  0          0        nan        nan           0           0\n",
      "scl:occ2[T.20]                 0          0        nan        nan           0           0\n",
      "scl:occ2[T.21]                 0          0        nan        nan           0           0\n",
      "scl:occ2[T.22]                 0          0        nan        nan           0           0\n",
      "scl:occ2[T.3]                  0          0        nan        nan           0           0\n",
      "scl:occ2[T.4]                  0          0        nan        nan           0           0\n",
      "scl:occ2[T.5]                  0          0        nan        nan           0           0\n",
      "scl:occ2[T.6]                  0          0        nan        nan           0           0\n",
      "scl:occ2[T.7]                  0          0        nan        nan           0           0\n",
      "scl:occ2[T.8]                  0          0        nan        nan           0           0\n",
      "scl:occ2[T.9]                  0          0        nan        nan           0           0\n",
      "scl:ind2[T.11]                 0          0        nan        nan           0           0\n",
      "scl:ind2[T.12]                 0          0        nan        nan           0           0\n",
      "scl:ind2[T.13]                 0          0        nan        nan           0           0\n",
      "scl:ind2[T.14]                 0          0        nan        nan           0           0\n",
      "scl:ind2[T.15]                 0          0        nan        nan           0           0\n",
      "scl:ind2[T.16]                 0          0        nan        nan           0           0\n",
      "scl:ind2[T.17]                 0          0        nan        nan           0           0\n",
      "scl:ind2[T.18]                 0          0        nan        nan           0           0\n",
      "scl:ind2[T.19]                 0          0        nan        nan           0           0\n",
      "scl:ind2[T.2]                  0          0        nan        nan           0           0\n",
      "scl:ind2[T.20]                 0          0        nan        nan           0           0\n",
      "scl:ind2[T.21]                 0          0        nan        nan           0           0\n",
      "scl:ind2[T.22]                 0          0        nan        nan           0           0\n",
      "scl:ind2[T.3]                  0          0        nan        nan           0           0\n",
      "scl:ind2[T.4]                  0          0        nan        nan           0           0\n",
      "scl:ind2[T.5]                  0          0        nan        nan           0           0\n",
      "scl:ind2[T.6]                  0          0        nan        nan           0           0\n",
      "scl:ind2[T.7]                  0          0        nan        nan           0           0\n",
      "scl:ind2[T.8]                  0          0        nan        nan           0           0\n",
      "scl:ind2[T.9]                  0          0        nan        nan           0           0\n",
      "clg                            0          0        nan        nan           0           0\n",
      "clg:occ2[T.10]                 0          0        nan        nan           0           0\n",
      "clg:occ2[T.11]                 0          0        nan        nan           0           0\n",
      "clg:occ2[T.12]                 0          0        nan        nan           0           0\n",
      "clg:occ2[T.13]                 0          0        nan        nan           0           0\n",
      "clg:occ2[T.14]                 0          0        nan        nan           0           0\n",
      "clg:occ2[T.15]                 0          0        nan        nan           0           0\n",
      "clg:occ2[T.16]                 0          0        nan        nan           0           0\n",
      "clg:occ2[T.17]                 0          0        nan        nan           0           0\n",
      "clg:occ2[T.18]                 0          0        nan        nan           0           0\n",
      "clg:occ2[T.19]                 0          0        nan        nan           0           0\n",
      "clg:occ2[T.2]                  0          0        nan        nan           0           0\n",
      "clg:occ2[T.20]                 0          0        nan        nan           0           0\n",
      "clg:occ2[T.21]                 0          0        nan        nan           0           0\n",
      "clg:occ2[T.22]                 0          0        nan        nan           0           0\n",
      "clg:occ2[T.3]                  0          0        nan        nan           0           0\n",
      "clg:occ2[T.4]                  0          0        nan        nan           0           0\n",
      "clg:occ2[T.5]                  0          0        nan        nan           0           0\n",
      "clg:occ2[T.6]                  0          0        nan        nan           0           0\n",
      "clg:occ2[T.7]                  0          0        nan        nan           0           0\n",
      "clg:occ2[T.8]                  0          0        nan        nan           0           0\n",
      "clg:occ2[T.9]                  0          0        nan        nan           0           0\n",
      "clg:ind2[T.11]                 0          0        nan        nan           0           0\n",
      "clg:ind2[T.12]                 0          0        nan        nan           0           0\n",
      "clg:ind2[T.13]                 0          0        nan        nan           0           0\n",
      "clg:ind2[T.14]                 0          0        nan        nan           0           0\n",
      "clg:ind2[T.15]                 0          0        nan        nan           0           0\n",
      "clg:ind2[T.16]                 0          0        nan        nan           0           0\n",
      "clg:ind2[T.17]                 0          0        nan        nan           0           0\n",
      "clg:ind2[T.18]                 0          0        nan        nan           0           0\n",
      "clg:ind2[T.19]                 0          0        nan        nan           0           0\n",
      "clg:ind2[T.2]                  0          0        nan        nan           0           0\n",
      "clg:ind2[T.20]                 0          0        nan        nan           0           0\n",
      "clg:ind2[T.21]                 0          0        nan        nan           0           0\n",
      "clg:ind2[T.22]                 0          0        nan        nan           0           0\n",
      "clg:ind2[T.3]                  0          0        nan        nan           0           0\n",
      "clg:ind2[T.4]                  0          0        nan        nan           0           0\n",
      "clg:ind2[T.5]                  0          0        nan        nan           0           0\n",
      "clg:ind2[T.6]                  0          0        nan        nan           0           0\n",
      "clg:ind2[T.7]                  0          0        nan        nan           0           0\n",
      "clg:ind2[T.8]                  0          0        nan        nan           0           0\n",
      "clg:ind2[T.9]                  0          0        nan        nan           0           0\n",
      "mw                        0.6943      0.464      1.496      0.135      -0.217       1.605\n",
      "occ2[T.10]:mw            -0.2153      0.440     -0.489      0.625      -1.079       0.648\n",
      "occ2[T.11]:mw             0.0200      0.364      0.055      0.956      -0.693       0.733\n",
      "occ2[T.12]:mw             0.7613      0.758      1.004      0.316      -0.727       2.249\n",
      "occ2[T.13]:mw            -0.2851      0.259     -1.101      0.271      -0.793       0.223\n",
      "occ2[T.14]:mw            -0.1451      0.280     -0.519      0.604      -0.694       0.404\n",
      "occ2[T.15]:mw             0.0893      0.345      0.259      0.796      -0.588       0.767\n",
      "occ2[T.16]:mw             0.1233      0.278      0.443      0.658      -0.422       0.669\n",
      "occ2[T.17]:mw             0.0055      0.233      0.024      0.981      -0.452       0.463\n",
      "occ2[T.18]:mw            -0.0066      0.008     -0.821      0.412      -0.022       0.009\n",
      "occ2[T.19]:mw            -0.1067      0.347     -0.308      0.759      -0.788       0.574\n",
      "occ2[T.2]:mw              4.3666      8.475      0.515      0.607     -12.267      21.000\n",
      "occ2[T.20]:mw             0.1446      0.302      0.479      0.632      -0.448       0.737\n",
      "occ2[T.21]:mw            -0.2458      0.242     -1.015      0.310      -0.721       0.230\n",
      "occ2[T.22]:mw            -0.0323      0.266     -0.122      0.903      -0.554       0.489\n",
      "occ2[T.3]:mw              1.3332      0.729      1.829      0.068      -0.097       2.764\n",
      "occ2[T.4]:mw             -1.7127      1.442     -1.188      0.235      -4.543       1.117\n",
      "occ2[T.5]:mw                   0          0        nan        nan           0           0\n",
      "occ2[T.6]:mw             -0.0230      0.833     -0.028      0.978      -1.658       1.612\n",
      "occ2[T.7]:mw              0.0312      0.129      0.242      0.809      -0.222       0.284\n",
      "occ2[T.8]:mw              0.6486      2.606      0.249      0.804      -4.467       5.764\n",
      "occ2[T.9]:mw              0.4998      1.147      0.436      0.663      -1.752       2.751\n",
      "ind2[T.11]:mw            -1.4030      0.835     -1.680      0.093      -3.042       0.236\n",
      "ind2[T.12]:mw            -0.1863      0.468     -0.398      0.691      -1.104       0.732\n",
      "ind2[T.13]:mw             0.0657      1.206      0.054      0.957      -2.301       2.433\n",
      "ind2[T.14]:mw            -0.3082      0.400     -0.771      0.441      -1.093       0.477\n",
      "ind2[T.15]:mw             0.5525      0.633      0.873      0.383      -0.690       1.795\n",
      "ind2[T.16]:mw            -0.0210      0.298     -0.070      0.944      -0.607       0.565\n",
      "ind2[T.17]:mw             0.0038      0.484      0.008      0.994      -0.947       0.954\n",
      "ind2[T.18]:mw            -0.1268      0.303     -0.419      0.675      -0.721       0.467\n",
      "ind2[T.19]:mw            -8.4969      4.187     -2.029      0.043     -16.714      -0.279\n",
      "ind2[T.2]:mw             -0.6371      1.146     -0.556      0.579      -2.887       1.613\n",
      "ind2[T.20]:mw             0.0482      0.305      0.158      0.874      -0.551       0.647\n",
      "ind2[T.21]:mw            -0.3548      0.338     -1.049      0.294      -1.019       0.309\n",
      "ind2[T.22]:mw            -0.3899      0.402     -0.969      0.333      -1.179       0.399\n",
      "ind2[T.3]:mw             -0.1443      0.615     -0.235      0.815      -1.351       1.063\n",
      "ind2[T.4]:mw              0.0989      0.347      0.285      0.775      -0.582       0.780\n",
      "ind2[T.5]:mw              0.0318      0.285      0.111      0.911      -0.528       0.592\n",
      "ind2[T.6]:mw              0.1933      0.258      0.751      0.453      -0.312       0.699\n",
      "ind2[T.7]:mw             -0.6826      0.522     -1.307      0.192      -1.708       0.343\n",
      "ind2[T.8]:mw             -0.0839      0.619     -0.135      0.892      -1.299       1.131\n",
      "ind2[T.9]:mw             -0.1931      0.247     -0.781      0.435      -0.679       0.292\n",
      "so                        0.6969      0.418      1.667      0.096      -0.124       1.518\n",
      "occ2[T.10]:so            -0.4836      0.438     -1.104      0.270      -1.343       0.376\n",
      "occ2[T.11]:so            -0.2279      0.382     -0.596      0.551      -0.979       0.523\n",
      "occ2[T.12]:so            -0.3147      0.523     -0.601      0.548      -1.342       0.712\n",
      "occ2[T.13]:so             0.2924      0.249      1.173      0.241      -0.197       0.781\n",
      "occ2[T.14]:so             0.1600      0.296      0.540      0.589      -0.421       0.741\n",
      "occ2[T.15]:so             0.1672      0.364      0.459      0.646      -0.547       0.881\n",
      "occ2[T.16]:so            -0.2402      0.237     -1.014      0.311      -0.705       0.225\n",
      "occ2[T.17]:so             0.0500      0.207      0.241      0.810      -0.357       0.457\n",
      "occ2[T.18]:so                  0          0        nan        nan           0           0\n",
      "occ2[T.19]:so            -0.3175      0.308     -1.032      0.302      -0.921       0.286\n",
      "occ2[T.2]:so              5.3060      8.950      0.593      0.553     -12.260      22.872\n",
      "occ2[T.20]:so             0.0206      0.267      0.077      0.939      -0.504       0.545\n",
      "occ2[T.21]:so             0.1236      0.224      0.552      0.581      -0.316       0.564\n",
      "occ2[T.22]:so            -0.2503      0.227     -1.103      0.270      -0.696       0.195\n",
      "occ2[T.3]:so              0.0508      0.079      0.645      0.519      -0.104       0.205\n",
      "occ2[T.4]:so             -0.2764      0.670     -0.413      0.680      -1.591       1.038\n",
      "occ2[T.5]:so              0.0581      0.058      0.998      0.319      -0.056       0.173\n",
      "occ2[T.6]:so             -0.5405      0.745     -0.726      0.468      -2.002       0.921\n",
      "occ2[T.7]:so                   0          0        nan        nan           0           0\n",
      "occ2[T.8]:so             -0.9793      0.790     -1.240      0.215      -2.530       0.571\n",
      "occ2[T.9]:so              1.4691      1.287      1.141      0.254      -1.057       3.995\n",
      "ind2[T.11]:so            -1.4919      1.289     -1.157      0.247      -4.022       1.038\n",
      "ind2[T.12]:so            -1.1133      0.495     -2.249      0.025      -2.085      -0.142\n",
      "ind2[T.13]:so            -0.5558      0.939     -0.592      0.554      -2.398       1.287\n",
      "ind2[T.14]:so            -0.5931      0.337     -1.762      0.078      -1.254       0.068\n",
      "ind2[T.15]:so            -0.3141      0.357     -0.881      0.379      -1.014       0.386\n",
      "ind2[T.16]:so            -0.4823      0.298     -1.621      0.105      -1.066       0.102\n",
      "ind2[T.17]:so            -1.0288      0.466     -2.207      0.028      -1.944      -0.114\n",
      "ind2[T.18]:so            -0.4318      0.317     -1.362      0.174      -1.054       0.190\n",
      "ind2[T.19]:so            -6.5854      2.933     -2.245      0.025     -12.342      -0.829\n",
      "ind2[T.2]:so             -2.1038      1.079     -1.949      0.052      -4.222       0.015\n",
      "ind2[T.20]:so            -0.9754      0.301     -3.244      0.001      -1.565      -0.385\n",
      "ind2[T.21]:so            -0.9438      0.354     -2.667      0.008      -1.638      -0.249\n",
      "ind2[T.22]:so            -0.6104      0.355     -1.719      0.086      -1.307       0.087\n",
      "ind2[T.3]:so             -0.7044      0.654     -1.077      0.282      -1.988       0.579\n",
      "ind2[T.4]:so             -0.4240      0.329     -1.290      0.197      -1.069       0.221\n",
      "ind2[T.5]:so             -0.3438      0.292     -1.179      0.239      -0.916       0.229\n",
      "ind2[T.6]:so             -0.7024      0.259     -2.712      0.007      -1.211      -0.194\n",
      "ind2[T.7]:so             -1.0564      0.397     -2.659      0.008      -1.836      -0.277\n",
      "ind2[T.8]:so             -0.3217      0.617     -0.522      0.602      -1.533       0.889\n",
      "ind2[T.9]:so             -0.3899      0.235     -1.662      0.097      -0.850       0.071\n",
      "we                        0.2648      0.511      0.518      0.604      -0.738       1.267\n",
      "occ2[T.10]:we            -0.2027      0.439     -0.462      0.644      -1.064       0.659\n",
      "occ2[T.11]:we            -0.4319      0.413     -1.045      0.296      -1.243       0.379\n",
      "occ2[T.12]:we            -0.3410      0.436     -0.783      0.434      -1.196       0.514\n",
      "occ2[T.13]:we            -0.0942      0.249     -0.378      0.706      -0.584       0.395\n",
      "occ2[T.14]:we            -0.1819      0.299     -0.609      0.543      -0.768       0.404\n",
      "occ2[T.15]:we            -0.6880      0.379     -1.813      0.070      -1.433       0.057\n",
      "occ2[T.16]:we            -0.4289      0.250     -1.715      0.087      -0.920       0.062\n",
      "occ2[T.17]:we            -0.2322      0.230     -1.011      0.312      -0.683       0.219\n",
      "occ2[T.18]:we                  0          0        nan        nan           0           0\n",
      "occ2[T.19]:we            -0.7268      0.386     -1.885      0.060      -1.484       0.030\n",
      "occ2[T.2]:we              4.0354      8.369      0.482      0.630     -12.391      20.461\n",
      "occ2[T.20]:we            -0.2963      0.301     -0.985      0.325      -0.886       0.294\n",
      "occ2[T.21]:we            -0.4519      0.276     -1.640      0.101      -0.993       0.089\n",
      "occ2[T.22]:we            -0.1830      0.258     -0.709      0.479      -0.690       0.324\n",
      "occ2[T.3]:we              0.1287      0.504      0.255      0.799      -0.861       1.119\n",
      "occ2[T.4]:we             -1.3344      1.010     -1.321      0.187      -3.317       0.649\n",
      "occ2[T.5]:we             -0.0801      0.083     -0.965      0.335      -0.243       0.083\n",
      "occ2[T.6]:we             -0.6383      0.785     -0.813      0.416      -2.179       0.902\n",
      "occ2[T.7]:we             -0.0465      0.170     -0.273      0.785      -0.381       0.288\n",
      "occ2[T.8]:we                   0          0        nan        nan           0           0\n",
      "occ2[T.9]:we             -1.3404      1.239     -1.082      0.279      -3.771       1.091\n",
      "ind2[T.11]:we             0.2700      0.963      0.280      0.779      -1.619       2.159\n",
      "ind2[T.12]:we            -0.5644      0.479     -1.179      0.239      -1.504       0.375\n",
      "ind2[T.13]:we             0.2130      0.801      0.266      0.790      -1.359       1.785\n",
      "ind2[T.14]:we            -0.2990      0.430     -0.695      0.487      -1.143       0.545\n",
      "ind2[T.15]:we             0.0349      0.037      0.935      0.350      -0.038       0.108\n",
      "ind2[T.16]:we            -0.2034      0.317     -0.643      0.521      -0.825       0.418\n",
      "ind2[T.17]:we            -0.2450      0.475     -0.516      0.606      -1.177       0.687\n",
      "ind2[T.18]:we             0.0041      0.341      0.012      0.990      -0.666       0.674\n",
      "ind2[T.19]:we            -9.3934      4.464     -2.104      0.036     -18.155      -0.632\n",
      "ind2[T.2]:we             -1.3371      1.653     -0.809      0.419      -4.581       1.907\n",
      "ind2[T.20]:we            -0.2674      0.330     -0.809      0.419      -0.916       0.381\n",
      "ind2[T.21]:we             0.0343      0.367      0.094      0.925      -0.685       0.754\n",
      "ind2[T.22]:we             0.0964      0.348      0.277      0.782      -0.587       0.780\n",
      "ind2[T.3]:we                   0          0        nan        nan           0           0\n",
      "ind2[T.4]:we              0.5507      0.421      1.309      0.191      -0.275       1.377\n",
      "ind2[T.5]:we              0.2368      0.339      0.698      0.485      -0.429       0.902\n",
      "ind2[T.6]:we              0.2838      0.300      0.947      0.344      -0.304       0.872\n",
      "ind2[T.7]:we             -0.5732      0.450     -1.274      0.203      -1.456       0.310\n",
      "ind2[T.8]:we             -0.5314      0.543     -0.978      0.328      -1.597       0.535\n",
      "ind2[T.9]:we              0.3075      0.255      1.207      0.228      -0.193       0.808\n",
      "exp1:exp2                -1.4007      1.159     -1.209      0.227      -3.675       0.874\n",
      "exp1:exp3                 0.6425      0.581      1.106      0.269      -0.498       1.783\n",
      "exp1:exp4                -0.1766      0.166     -1.062      0.288      -0.503       0.150\n",
      "exp1:shs                 -0.5374      0.375     -1.434      0.152      -1.273       0.198\n",
      "exp1:hsg                 -0.2653      0.266     -0.997      0.319      -0.787       0.257\n",
      "exp1:scl                       0          0        nan        nan           0           0\n",
      "exp1:clg                       0          0        nan        nan           0           0\n",
      "exp1:mw                  -0.1997      0.155     -1.287      0.199      -0.504       0.105\n",
      "exp1:so                  -0.0992      0.145     -0.686      0.493      -0.383       0.185\n",
      "exp1:we                   0.0466      0.175      0.266      0.791      -0.298       0.391\n",
      "exp2:exp3                -0.0177      0.017     -1.062      0.288      -0.050       0.015\n",
      "exp2:exp4                 0.2651      0.252      1.053      0.293      -0.229       0.759\n",
      "exp2:shs                  7.6376      5.058      1.510      0.131      -2.289      17.564\n",
      "exp2:hsg                  4.5452      4.195      1.083      0.279      -3.688      12.779\n",
      "exp2:scl                       0          0        nan        nan           0           0\n",
      "exp2:clg                       0          0        nan        nan           0           0\n",
      "exp2:mw                   1.5590      1.311      1.189      0.235      -1.014       4.132\n",
      "exp2:so                   0.6812      1.207      0.564      0.573      -1.688       3.050\n",
      "exp2:we                  -1.0115      1.470     -0.688      0.492      -3.896       1.873\n",
      "exp3:exp4                -0.0161      0.015     -1.049      0.295      -0.046       0.014\n",
      "exp3:shs                 -0.6612      0.352     -1.878      0.061      -1.352       0.030\n",
      "exp3:hsg                  0.5212      0.303      1.717      0.086      -0.074       1.117\n",
      "exp3:scl                       0          0        nan        nan           0           0\n",
      "exp3:clg                       0          0        nan        nan           0           0\n",
      "exp3:mw                  -0.5231      0.436     -1.200      0.231      -1.379       0.333\n",
      "exp3:so                  -0.1921      0.397     -0.484      0.629      -0.972       0.587\n",
      "exp3:we                   0.5106      0.488      1.047      0.295      -0.446       1.467\n",
      "exp4:shs                  0.1039      0.054      1.922      0.055      -0.002       0.210\n",
      "exp4:hsg                 -0.0397      0.033     -1.190      0.234      -0.105       0.026\n",
      "exp4:scl                       0          0        nan        nan           0           0\n",
      "exp4:clg                       0          0        nan        nan           0           0\n",
      "exp4:mw                   0.0616      0.049      1.246      0.213      -0.035       0.159\n",
      "exp4:so                   0.0190      0.045      0.426      0.670      -0.068       0.106\n",
      "exp4:we                  -0.0739      0.055     -1.337      0.182      -0.183       0.035\n",
      "shs:hsg                        0          0        nan        nan           0           0\n",
      "shs:scl                        0          0        nan        nan           0           0\n",
      "shs:clg                        0          0        nan        nan           0           0\n",
      "shs:mw                    0.4173      0.264      1.583      0.114      -0.100       0.935\n",
      "shs:so                    0.4234      0.240      1.767      0.078      -0.047       0.894\n",
      "shs:we                    0.2154      0.292      0.738      0.461      -0.358       0.788\n",
      "hsg:scl                        0          0        nan        nan           0           0\n",
      "hsg:clg                        0          0        nan        nan           0           0\n",
      "hsg:mw                    0.2769      0.235      1.176      0.240      -0.185       0.739\n",
      "hsg:so                    0.2735      0.214      1.277      0.202      -0.147       0.694\n",
      "hsg:we                    0.0494      0.251      0.196      0.844      -0.444       0.543\n",
      "scl:clg                        0          0        nan        nan           0           0\n",
      "scl:mw                         0          0        nan        nan           0           0\n",
      "scl:so                         0          0        nan        nan           0           0\n",
      "scl:we                         0          0        nan        nan           0           0\n",
      "clg:mw                         0          0        nan        nan           0           0\n",
      "clg:so                         0          0        nan        nan           0           0\n",
      "clg:we                         0          0        nan        nan           0           0\n",
      "mw:so                          0          0        nan        nan           0           0\n",
      "mw:we                          0          0        nan        nan           0           0\n",
      "so:we                          0          0        nan        nan           0           0\n",
      "==============================================================================\n",
      "Omnibus:                      210.715   Durbin-Watson:                   2.021\n",
      "Prob(Omnibus):                  0.000   Jarque-Bera (JB):             1307.655\n",
      "Skew:                           0.546   Prob(JB):                    1.11e-284\n",
      "Kurtosis:                       7.649   Cond. No.                     3.36e+16\n",
      "==============================================================================\n",
      "\n",
      "Notes:\n",
      "[1] Standard Errors assume that the covariance matrix of the errors is correctly specified.\n",
      "[2] The smallest eigenvalue is 3.91e-23. This might indicate that there are\n",
      "strong multicollinearity problems or that the design matrix is singular.\n",
      "Number of regressors in the basic model: 979 \n",
      "\n"
     ]
    }
   ],
   "source": [
    "flex = 'lwage ~ (exp1+exp2+exp3+exp4+shs+hsg+scl+clg+occ2+ind2+mw+so+we)**2'\n",
    "flex_results_0 = smf.ols(flex , data=data)\n",
    "flex_results = smf.ols(flex , data=data).fit()\n",
    "print(flex_results.summary()) # estimated coefficients\n",
    "print( \"Number of regressors in the basic model:\", len(flex_results.params), '\\n') # number of regressors in the Flexible Model"
   ]
  },
  {
   "cell_type": "markdown",
   "id": "349994b3",
   "metadata": {},
   "source": [
    "The flexible model consists of $979$ regressors."
   ]
  },
  {
   "cell_type": "markdown",
   "id": "fbbc2ca5",
   "metadata": {},
   "source": [
    "#### Lasso "
   ]
  },
  {
   "cell_type": "code",
   "execution_count": 13,
   "id": "1eaf1215",
   "metadata": {},
   "outputs": [],
   "source": [
    "# Import relevant packages for lasso \n",
    "\n",
    "from sklearn.linear_model import LassoCV\n",
    "from sklearn import linear_model\n",
    "from sklearn.preprocessing import PolynomialFeatures\n",
    "from sklearn.metrics import mean_squared_error"
   ]
  },
  {
   "cell_type": "code",
   "execution_count": 14,
   "id": "131229ad",
   "metadata": {},
   "outputs": [
    {
     "data": {
      "text/plain": [
       "(1376, 979)"
      ]
     },
     "execution_count": 14,
     "metadata": {},
     "output_type": "execute_result"
    }
   ],
   "source": [
    "# Get exogenous variables from flexible model\n",
    "\n",
    "X = flex_results_0.exog\n",
    "(X.shape)"
   ]
  },
  {
   "cell_type": "code",
   "execution_count": 15,
   "id": "1072f032",
   "metadata": {},
   "outputs": [
    {
     "data": {
      "text/plain": [
       "(1376,)"
      ]
     },
     "execution_count": 15,
     "metadata": {},
     "output_type": "execute_result"
    }
   ],
   "source": [
    "# Set endogenous variable\n",
    "lwage = data[\"lwage\"]\n",
    "(lwage.shape)"
   ]
  },
  {
   "cell_type": "markdown",
   "id": "e30d0459",
   "metadata": {},
   "source": [
    "###### Which value of alpha should we work with?\n",
    "\n",
    "Lines below, we created a loop to find out which alpha's values have convergence problems and which ones have not. After that, we proceed to select three random values to compare the  (adjusted) $R^2_{sample}$ and the (adjusted) $MSE_{sample}$  of the other two models."
   ]
  },
  {
   "cell_type": "code",
   "execution_count": 16,
   "id": "86f00957",
   "metadata": {},
   "outputs": [],
   "source": [
    "# We want to iterate different values of alphas from 0 to 1 \n",
    "\n",
    "def seq(start, stop, step=1):\n",
    "    n = int(round((stop - start)/float(step)))\n",
    "    if n > 1:\n",
    "        return([start + step*i for i in range(n+1)])\n",
    "    elif n == 1:\n",
    "        return([start])\n",
    "    else:\n",
    "        return([])"
   ]
  },
  {
   "cell_type": "code",
   "execution_count": 17,
   "id": "b440a5ff",
   "metadata": {},
   "outputs": [
    {
     "data": {
      "text/plain": [
       "101"
      ]
     },
     "execution_count": 17,
     "metadata": {},
     "output_type": "execute_result"
    }
   ],
   "source": [
    "tope = seq(0,1,0.01)\n",
    "len(tope)"
   ]
  },
  {
   "cell_type": "code",
   "execution_count": 18,
   "id": "ed218657",
   "metadata": {
    "scrolled": true
   },
   "outputs": [
    {
     "name": "stderr",
     "output_type": "stream",
     "text": [
      "<ipython-input-18-f56fa5302d60>:6: UserWarning: With alpha=0, this algorithm does not converge well. You are advised to use the LinearRegression estimator\n",
      "  reg.fit(X, lwage)\n",
      "D:\\C2021-2\\Anaconda\\lib\\site-packages\\sklearn\\linear_model\\_coordinate_descent.py:530: UserWarning: Coordinate descent with no regularization may lead to unexpected results and is discouraged.\n",
      "  model = cd_fast.enet_coordinate_descent(\n",
      "D:\\C2021-2\\Anaconda\\lib\\site-packages\\sklearn\\linear_model\\_coordinate_descent.py:530: ConvergenceWarning: Objective did not converge. You might want to increase the number of iterations. Duality gap: 92.98603443699963, tolerance: 0.03495032842074759\n",
      "  model = cd_fast.enet_coordinate_descent(\n",
      "<ipython-input-18-f56fa5302d60>:7: UserWarning: With alpha=0, this algorithm does not converge well. You are advised to use the LinearRegression estimator\n",
      "  lwage_lasso_fitted = reg.fit(X, lwage).predict( X )\n",
      "D:\\C2021-2\\Anaconda\\lib\\site-packages\\sklearn\\linear_model\\_coordinate_descent.py:530: UserWarning: Coordinate descent with no regularization may lead to unexpected results and is discouraged.\n",
      "  model = cd_fast.enet_coordinate_descent(\n",
      "D:\\C2021-2\\Anaconda\\lib\\site-packages\\sklearn\\linear_model\\_coordinate_descent.py:530: ConvergenceWarning: Objective did not converge. You might want to increase the number of iterations. Duality gap: 92.98603443699963, tolerance: 0.03495032842074759\n",
      "  model = cd_fast.enet_coordinate_descent(\n"
     ]
    },
    {
     "name": "stdout",
     "output_type": "stream",
     "text": [
      "For alpha = 0.0 , Lasso Regression: R^2 score 0.46789607629666685\n",
      "For alpha = 0.0 , R-squared for LASSO:  0.46789607629666685 \n",
      "\n",
      "For alpha = 0.0 , adjusted R-squared for LASSO:  -0.8475830684143513 \n",
      "\n"
     ]
    },
    {
     "name": "stderr",
     "output_type": "stream",
     "text": [
      "D:\\C2021-2\\Anaconda\\lib\\site-packages\\sklearn\\linear_model\\_coordinate_descent.py:530: ConvergenceWarning: Objective did not converge. You might want to increase the number of iterations. Duality gap: 111.76996795620295, tolerance: 0.03495032842074759\n",
      "  model = cd_fast.enet_coordinate_descent(\n",
      "D:\\C2021-2\\Anaconda\\lib\\site-packages\\sklearn\\linear_model\\_coordinate_descent.py:530: ConvergenceWarning: Objective did not converge. You might want to increase the number of iterations. Duality gap: 111.76996795620295, tolerance: 0.03495032842074759\n",
      "  model = cd_fast.enet_coordinate_descent(\n"
     ]
    },
    {
     "name": "stdout",
     "output_type": "stream",
     "text": [
      "For alpha = 0.01 , Lasso Regression: R^2 score 0.2076568000931922\n",
      "For alpha = 0.01 , R-squared for LASSO:  0.2076568000931922 \n",
      "\n",
      "For alpha = 0.01 , adjusted R-squared for LASSO:  -1.7511916663430824 \n",
      "\n"
     ]
    },
    {
     "name": "stderr",
     "output_type": "stream",
     "text": [
      "D:\\C2021-2\\Anaconda\\lib\\site-packages\\sklearn\\linear_model\\_coordinate_descent.py:530: ConvergenceWarning: Objective did not converge. You might want to increase the number of iterations. Duality gap: 50.25794512664564, tolerance: 0.03495032842074759\n",
      "  model = cd_fast.enet_coordinate_descent(\n",
      "D:\\C2021-2\\Anaconda\\lib\\site-packages\\sklearn\\linear_model\\_coordinate_descent.py:530: ConvergenceWarning: Objective did not converge. You might want to increase the number of iterations. Duality gap: 50.25794512664564, tolerance: 0.03495032842074759\n",
      "  model = cd_fast.enet_coordinate_descent(\n"
     ]
    },
    {
     "name": "stdout",
     "output_type": "stream",
     "text": [
      "For alpha = 0.02 , Lasso Regression: R^2 score 0.19604287862005554\n",
      "For alpha = 0.02 , R-squared for LASSO:  0.19604287862005554 \n",
      "\n",
      "For alpha = 0.02 , adjusted R-squared for LASSO:  -1.7915177825692519 \n",
      "\n"
     ]
    },
    {
     "name": "stderr",
     "output_type": "stream",
     "text": [
      "D:\\C2021-2\\Anaconda\\lib\\site-packages\\sklearn\\linear_model\\_coordinate_descent.py:530: ConvergenceWarning: Objective did not converge. You might want to increase the number of iterations. Duality gap: 0.6995441343651123, tolerance: 0.03495032842074759\n",
      "  model = cd_fast.enet_coordinate_descent(\n",
      "D:\\C2021-2\\Anaconda\\lib\\site-packages\\sklearn\\linear_model\\_coordinate_descent.py:530: ConvergenceWarning: Objective did not converge. You might want to increase the number of iterations. Duality gap: 0.6995441343651123, tolerance: 0.03495032842074759\n",
      "  model = cd_fast.enet_coordinate_descent(\n"
     ]
    },
    {
     "name": "stdout",
     "output_type": "stream",
     "text": [
      "For alpha = 0.03 , Lasso Regression: R^2 score 0.18667179764733421\n",
      "For alpha = 0.03 , R-squared for LASSO:  0.18667179764733421 \n",
      "\n",
      "For alpha = 0.03 , adjusted R-squared for LASSO:  -1.8240562581689783 \n",
      "\n"
     ]
    },
    {
     "name": "stderr",
     "output_type": "stream",
     "text": [
      "D:\\C2021-2\\Anaconda\\lib\\site-packages\\sklearn\\linear_model\\_coordinate_descent.py:530: ConvergenceWarning: Objective did not converge. You might want to increase the number of iterations. Duality gap: 73.53340890998551, tolerance: 0.03495032842074759\n",
      "  model = cd_fast.enet_coordinate_descent(\n",
      "D:\\C2021-2\\Anaconda\\lib\\site-packages\\sklearn\\linear_model\\_coordinate_descent.py:530: ConvergenceWarning: Objective did not converge. You might want to increase the number of iterations. Duality gap: 73.53340890998551, tolerance: 0.03495032842074759\n",
      "  model = cd_fast.enet_coordinate_descent(\n"
     ]
    },
    {
     "name": "stdout",
     "output_type": "stream",
     "text": [
      "For alpha = 0.04 , Lasso Regression: R^2 score 0.1801125505028911\n",
      "For alpha = 0.04 , R-squared for LASSO:  0.1801125505028911 \n",
      "\n",
      "For alpha = 0.04 , adjusted R-squared for LASSO:  -1.8468314218649615 \n",
      "\n"
     ]
    },
    {
     "name": "stderr",
     "output_type": "stream",
     "text": [
      "D:\\C2021-2\\Anaconda\\lib\\site-packages\\sklearn\\linear_model\\_coordinate_descent.py:530: ConvergenceWarning: Objective did not converge. You might want to increase the number of iterations. Duality gap: 90.76176097554061, tolerance: 0.03495032842074759\n",
      "  model = cd_fast.enet_coordinate_descent(\n",
      "D:\\C2021-2\\Anaconda\\lib\\site-packages\\sklearn\\linear_model\\_coordinate_descent.py:530: ConvergenceWarning: Objective did not converge. You might want to increase the number of iterations. Duality gap: 90.76176097554061, tolerance: 0.03495032842074759\n",
      "  model = cd_fast.enet_coordinate_descent(\n"
     ]
    },
    {
     "name": "stdout",
     "output_type": "stream",
     "text": [
      "For alpha = 0.05 , Lasso Regression: R^2 score 0.1724485594774804\n",
      "For alpha = 0.05 , R-squared for LASSO:  0.1724485594774804 \n",
      "\n",
      "For alpha = 0.05 , adjusted R-squared for LASSO:  -1.8734425018143046 \n",
      "\n"
     ]
    },
    {
     "name": "stderr",
     "output_type": "stream",
     "text": [
      "D:\\C2021-2\\Anaconda\\lib\\site-packages\\sklearn\\linear_model\\_coordinate_descent.py:530: ConvergenceWarning: Objective did not converge. You might want to increase the number of iterations. Duality gap: 99.81768503445576, tolerance: 0.03495032842074759\n",
      "  model = cd_fast.enet_coordinate_descent(\n",
      "D:\\C2021-2\\Anaconda\\lib\\site-packages\\sklearn\\linear_model\\_coordinate_descent.py:530: ConvergenceWarning: Objective did not converge. You might want to increase the number of iterations. Duality gap: 99.81768503445576, tolerance: 0.03495032842074759\n",
      "  model = cd_fast.enet_coordinate_descent(\n"
     ]
    },
    {
     "name": "stdout",
     "output_type": "stream",
     "text": [
      "For alpha = 0.06 , Lasso Regression: R^2 score 0.16292663385136996\n",
      "For alpha = 0.06 , R-squared for LASSO:  0.16292663385136996 \n",
      "\n",
      "For alpha = 0.06 , adjusted R-squared for LASSO:  -1.9065047435716318 \n",
      "\n"
     ]
    },
    {
     "name": "stderr",
     "output_type": "stream",
     "text": [
      "D:\\C2021-2\\Anaconda\\lib\\site-packages\\sklearn\\linear_model\\_coordinate_descent.py:530: ConvergenceWarning: Objective did not converge. You might want to increase the number of iterations. Duality gap: 83.96623974626289, tolerance: 0.03495032842074759\n",
      "  model = cd_fast.enet_coordinate_descent(\n",
      "D:\\C2021-2\\Anaconda\\lib\\site-packages\\sklearn\\linear_model\\_coordinate_descent.py:530: ConvergenceWarning: Objective did not converge. You might want to increase the number of iterations. Duality gap: 83.96623974626289, tolerance: 0.03495032842074759\n",
      "  model = cd_fast.enet_coordinate_descent(\n"
     ]
    },
    {
     "name": "stdout",
     "output_type": "stream",
     "text": [
      "For alpha = 0.07 , Lasso Regression: R^2 score 0.15562760432901723\n",
      "For alpha = 0.07 , R-squared for LASSO:  0.15562760432901723 \n",
      "\n",
      "For alpha = 0.07 , adjusted R-squared for LASSO:  -1.931848596079801 \n",
      "\n"
     ]
    },
    {
     "name": "stderr",
     "output_type": "stream",
     "text": [
      "D:\\C2021-2\\Anaconda\\lib\\site-packages\\sklearn\\linear_model\\_coordinate_descent.py:530: ConvergenceWarning: Objective did not converge. You might want to increase the number of iterations. Duality gap: 72.14766494173936, tolerance: 0.03495032842074759\n",
      "  model = cd_fast.enet_coordinate_descent(\n",
      "D:\\C2021-2\\Anaconda\\lib\\site-packages\\sklearn\\linear_model\\_coordinate_descent.py:530: ConvergenceWarning: Objective did not converge. You might want to increase the number of iterations. Duality gap: 72.14766494173936, tolerance: 0.03495032842074759\n",
      "  model = cd_fast.enet_coordinate_descent(\n"
     ]
    },
    {
     "name": "stdout",
     "output_type": "stream",
     "text": [
      "For alpha = 0.08 , Lasso Regression: R^2 score 0.14915181284409618\n",
      "For alpha = 0.08 , R-squared for LASSO:  0.14915181284409618 \n",
      "\n",
      "For alpha = 0.08 , adjusted R-squared for LASSO:  -1.9543339831802218 \n",
      "\n"
     ]
    },
    {
     "name": "stderr",
     "output_type": "stream",
     "text": [
      "D:\\C2021-2\\Anaconda\\lib\\site-packages\\sklearn\\linear_model\\_coordinate_descent.py:530: ConvergenceWarning: Objective did not converge. You might want to increase the number of iterations. Duality gap: 68.5941525815974, tolerance: 0.03495032842074759\n",
      "  model = cd_fast.enet_coordinate_descent(\n",
      "D:\\C2021-2\\Anaconda\\lib\\site-packages\\sklearn\\linear_model\\_coordinate_descent.py:530: ConvergenceWarning: Objective did not converge. You might want to increase the number of iterations. Duality gap: 68.5941525815974, tolerance: 0.03495032842074759\n",
      "  model = cd_fast.enet_coordinate_descent(\n"
     ]
    },
    {
     "name": "stdout",
     "output_type": "stream",
     "text": [
      "For alpha = 0.09 , Lasso Regression: R^2 score 0.1419793499429448\n",
      "For alpha = 0.09 , R-squared for LASSO:  0.1419793499429448 \n",
      "\n",
      "For alpha = 0.09 , adjusted R-squared for LASSO:  -1.9792383682536636 \n",
      "\n"
     ]
    },
    {
     "name": "stderr",
     "output_type": "stream",
     "text": [
      "D:\\C2021-2\\Anaconda\\lib\\site-packages\\sklearn\\linear_model\\_coordinate_descent.py:530: ConvergenceWarning: Objective did not converge. You might want to increase the number of iterations. Duality gap: 66.32572320320592, tolerance: 0.03495032842074759\n",
      "  model = cd_fast.enet_coordinate_descent(\n",
      "D:\\C2021-2\\Anaconda\\lib\\site-packages\\sklearn\\linear_model\\_coordinate_descent.py:530: ConvergenceWarning: Objective did not converge. You might want to increase the number of iterations. Duality gap: 66.32572320320592, tolerance: 0.03495032842074759\n",
      "  model = cd_fast.enet_coordinate_descent(\n"
     ]
    },
    {
     "name": "stdout",
     "output_type": "stream",
     "text": [
      "For alpha = 0.1 , Lasso Regression: R^2 score 0.13504437453298423\n",
      "For alpha = 0.1 , R-squared for LASSO:  0.13504437453298423 \n",
      "\n",
      "For alpha = 0.1 , adjusted R-squared for LASSO:  -2.003318143982694 \n",
      "\n"
     ]
    },
    {
     "name": "stderr",
     "output_type": "stream",
     "text": [
      "D:\\C2021-2\\Anaconda\\lib\\site-packages\\sklearn\\linear_model\\_coordinate_descent.py:530: ConvergenceWarning: Objective did not converge. You might want to increase the number of iterations. Duality gap: 65.068414037091, tolerance: 0.03495032842074759\n",
      "  model = cd_fast.enet_coordinate_descent(\n",
      "D:\\C2021-2\\Anaconda\\lib\\site-packages\\sklearn\\linear_model\\_coordinate_descent.py:530: ConvergenceWarning: Objective did not converge. You might want to increase the number of iterations. Duality gap: 65.068414037091, tolerance: 0.03495032842074759\n",
      "  model = cd_fast.enet_coordinate_descent(\n"
     ]
    },
    {
     "name": "stdout",
     "output_type": "stream",
     "text": [
      "For alpha = 0.11 , Lasso Regression: R^2 score 0.1285797483844473\n",
      "For alpha = 0.11 , R-squared for LASSO:  0.1285797483844473 \n",
      "\n",
      "For alpha = 0.11 , adjusted R-squared for LASSO:  -2.0257647625540023 \n",
      "\n"
     ]
    },
    {
     "name": "stderr",
     "output_type": "stream",
     "text": [
      "D:\\C2021-2\\Anaconda\\lib\\site-packages\\sklearn\\linear_model\\_coordinate_descent.py:530: ConvergenceWarning: Objective did not converge. You might want to increase the number of iterations. Duality gap: 35.16826476383321, tolerance: 0.03495032842074759\n",
      "  model = cd_fast.enet_coordinate_descent(\n",
      "D:\\C2021-2\\Anaconda\\lib\\site-packages\\sklearn\\linear_model\\_coordinate_descent.py:530: ConvergenceWarning: Objective did not converge. You might want to increase the number of iterations. Duality gap: 35.16826476383321, tolerance: 0.03495032842074759\n",
      "  model = cd_fast.enet_coordinate_descent(\n"
     ]
    },
    {
     "name": "stdout",
     "output_type": "stream",
     "text": [
      "For alpha = 0.12 , Lasso Regression: R^2 score 0.1229670782156288\n",
      "For alpha = 0.12 , R-squared for LASSO:  0.1229670782156288 \n",
      "\n",
      "For alpha = 0.12 , adjusted R-squared for LASSO:  -2.0452532006401776 \n",
      "\n"
     ]
    },
    {
     "name": "stderr",
     "output_type": "stream",
     "text": [
      "D:\\C2021-2\\Anaconda\\lib\\site-packages\\sklearn\\linear_model\\_coordinate_descent.py:530: ConvergenceWarning: Objective did not converge. You might want to increase the number of iterations. Duality gap: 40.72882851252814, tolerance: 0.03495032842074759\n",
      "  model = cd_fast.enet_coordinate_descent(\n",
      "D:\\C2021-2\\Anaconda\\lib\\site-packages\\sklearn\\linear_model\\_coordinate_descent.py:530: ConvergenceWarning: Objective did not converge. You might want to increase the number of iterations. Duality gap: 40.72882851252814, tolerance: 0.03495032842074759\n",
      "  model = cd_fast.enet_coordinate_descent(\n"
     ]
    },
    {
     "name": "stdout",
     "output_type": "stream",
     "text": [
      "For alpha = 0.13 , Lasso Regression: R^2 score 0.11747040634697903\n",
      "For alpha = 0.13 , R-squared for LASSO:  0.11747040634697903 \n",
      "\n",
      "For alpha = 0.13 , adjusted R-squared for LASSO:  -2.0643388668507674 \n",
      "\n"
     ]
    },
    {
     "name": "stderr",
     "output_type": "stream",
     "text": [
      "D:\\C2021-2\\Anaconda\\lib\\site-packages\\sklearn\\linear_model\\_coordinate_descent.py:530: ConvergenceWarning: Objective did not converge. You might want to increase the number of iterations. Duality gap: 47.64506401503803, tolerance: 0.03495032842074759\n",
      "  model = cd_fast.enet_coordinate_descent(\n",
      "D:\\C2021-2\\Anaconda\\lib\\site-packages\\sklearn\\linear_model\\_coordinate_descent.py:530: ConvergenceWarning: Objective did not converge. You might want to increase the number of iterations. Duality gap: 47.64506401503803, tolerance: 0.03495032842074759\n",
      "  model = cd_fast.enet_coordinate_descent(\n"
     ]
    },
    {
     "name": "stdout",
     "output_type": "stream",
     "text": [
      "For alpha = 0.14 , Lasso Regression: R^2 score 0.11152161431529017\n",
      "For alpha = 0.14 , R-squared for LASSO:  0.11152161431529017 \n",
      "\n",
      "For alpha = 0.14 , adjusted R-squared for LASSO:  -2.0849943947385756 \n",
      "\n"
     ]
    },
    {
     "name": "stderr",
     "output_type": "stream",
     "text": [
      "D:\\C2021-2\\Anaconda\\lib\\site-packages\\sklearn\\linear_model\\_coordinate_descent.py:530: ConvergenceWarning: Objective did not converge. You might want to increase the number of iterations. Duality gap: 45.867877820042764, tolerance: 0.03495032842074759\n",
      "  model = cd_fast.enet_coordinate_descent(\n",
      "D:\\C2021-2\\Anaconda\\lib\\site-packages\\sklearn\\linear_model\\_coordinate_descent.py:530: ConvergenceWarning: Objective did not converge. You might want to increase the number of iterations. Duality gap: 45.867877820042764, tolerance: 0.03495032842074759\n",
      "  model = cd_fast.enet_coordinate_descent(\n"
     ]
    },
    {
     "name": "stdout",
     "output_type": "stream",
     "text": [
      "For alpha = 0.15 , Lasso Regression: R^2 score 0.10691827531230746\n",
      "For alpha = 0.15 , R-squared for LASSO:  0.10691827531230746 \n",
      "\n",
      "For alpha = 0.15 , adjusted R-squared for LASSO:  -2.1009782107211548 \n",
      "\n"
     ]
    },
    {
     "name": "stderr",
     "output_type": "stream",
     "text": [
      "D:\\C2021-2\\Anaconda\\lib\\site-packages\\sklearn\\linear_model\\_coordinate_descent.py:530: ConvergenceWarning: Objective did not converge. You might want to increase the number of iterations. Duality gap: 45.530298887400335, tolerance: 0.03495032842074759\n",
      "  model = cd_fast.enet_coordinate_descent(\n",
      "D:\\C2021-2\\Anaconda\\lib\\site-packages\\sklearn\\linear_model\\_coordinate_descent.py:530: ConvergenceWarning: Objective did not converge. You might want to increase the number of iterations. Duality gap: 45.530298887400335, tolerance: 0.03495032842074759\n",
      "  model = cd_fast.enet_coordinate_descent(\n"
     ]
    },
    {
     "name": "stdout",
     "output_type": "stream",
     "text": [
      "For alpha = 0.16 , Lasso Regression: R^2 score 0.10278872766547886\n",
      "For alpha = 0.16 , R-squared for LASSO:  0.10278872766547886 \n",
      "\n",
      "For alpha = 0.16 , adjusted R-squared for LASSO:  -2.1153169178281988 \n",
      "\n"
     ]
    },
    {
     "name": "stderr",
     "output_type": "stream",
     "text": [
      "D:\\C2021-2\\Anaconda\\lib\\site-packages\\sklearn\\linear_model\\_coordinate_descent.py:530: ConvergenceWarning: Objective did not converge. You might want to increase the number of iterations. Duality gap: 43.476788238709844, tolerance: 0.03495032842074759\n",
      "  model = cd_fast.enet_coordinate_descent(\n",
      "D:\\C2021-2\\Anaconda\\lib\\site-packages\\sklearn\\linear_model\\_coordinate_descent.py:530: ConvergenceWarning: Objective did not converge. You might want to increase the number of iterations. Duality gap: 43.476788238709844, tolerance: 0.03495032842074759\n",
      "  model = cd_fast.enet_coordinate_descent(\n"
     ]
    },
    {
     "name": "stdout",
     "output_type": "stream",
     "text": [
      "For alpha = 0.17 , Lasso Regression: R^2 score 0.09934915157031177\n",
      "For alpha = 0.17 , R-squared for LASSO:  0.09934915157031177 \n",
      "\n",
      "For alpha = 0.17 , adjusted R-squared for LASSO:  -2.127259890380862 \n",
      "\n"
     ]
    },
    {
     "name": "stderr",
     "output_type": "stream",
     "text": [
      "D:\\C2021-2\\Anaconda\\lib\\site-packages\\sklearn\\linear_model\\_coordinate_descent.py:530: ConvergenceWarning: Objective did not converge. You might want to increase the number of iterations. Duality gap: 41.51393699913703, tolerance: 0.03495032842074759\n",
      "  model = cd_fast.enet_coordinate_descent(\n",
      "D:\\C2021-2\\Anaconda\\lib\\site-packages\\sklearn\\linear_model\\_coordinate_descent.py:530: ConvergenceWarning: Objective did not converge. You might want to increase the number of iterations. Duality gap: 41.51393699913703, tolerance: 0.03495032842074759\n",
      "  model = cd_fast.enet_coordinate_descent(\n"
     ]
    },
    {
     "name": "stdout",
     "output_type": "stream",
     "text": [
      "For alpha = 0.18 , Lasso Regression: R^2 score 0.09584561897898758\n",
      "For alpha = 0.18 , R-squared for LASSO:  0.09584561897898758 \n",
      "\n",
      "For alpha = 0.18 , adjusted R-squared for LASSO:  -2.1394249341007376 \n",
      "\n"
     ]
    },
    {
     "name": "stderr",
     "output_type": "stream",
     "text": [
      "D:\\C2021-2\\Anaconda\\lib\\site-packages\\sklearn\\linear_model\\_coordinate_descent.py:530: ConvergenceWarning: Objective did not converge. You might want to increase the number of iterations. Duality gap: 27.803839458987795, tolerance: 0.03495032842074759\n",
      "  model = cd_fast.enet_coordinate_descent(\n",
      "D:\\C2021-2\\Anaconda\\lib\\site-packages\\sklearn\\linear_model\\_coordinate_descent.py:530: ConvergenceWarning: Objective did not converge. You might want to increase the number of iterations. Duality gap: 27.803839458987795, tolerance: 0.03495032842074759\n",
      "  model = cd_fast.enet_coordinate_descent(\n"
     ]
    },
    {
     "name": "stdout",
     "output_type": "stream",
     "text": [
      "For alpha = 0.19 , Lasso Regression: R^2 score 0.09288966725761594\n",
      "For alpha = 0.19 , R-squared for LASSO:  0.09288966725761594 \n",
      "\n",
      "For alpha = 0.19 , adjusted R-squared for LASSO:  -2.1496886553555 \n",
      "\n"
     ]
    },
    {
     "name": "stderr",
     "output_type": "stream",
     "text": [
      "D:\\C2021-2\\Anaconda\\lib\\site-packages\\sklearn\\linear_model\\_coordinate_descent.py:530: ConvergenceWarning: Objective did not converge. You might want to increase the number of iterations. Duality gap: 20.622239597430905, tolerance: 0.03495032842074759\n",
      "  model = cd_fast.enet_coordinate_descent(\n",
      "D:\\C2021-2\\Anaconda\\lib\\site-packages\\sklearn\\linear_model\\_coordinate_descent.py:530: ConvergenceWarning: Objective did not converge. You might want to increase the number of iterations. Duality gap: 20.622239597430905, tolerance: 0.03495032842074759\n",
      "  model = cd_fast.enet_coordinate_descent(\n"
     ]
    },
    {
     "name": "stdout",
     "output_type": "stream",
     "text": [
      "For alpha = 0.2 , Lasso Regression: R^2 score 0.08983057313693599\n",
      "For alpha = 0.2 , R-squared for LASSO:  0.08983057313693599 \n",
      "\n",
      "For alpha = 0.2 , adjusted R-squared for LASSO:  -2.1603105099411946 \n",
      "\n"
     ]
    },
    {
     "name": "stderr",
     "output_type": "stream",
     "text": [
      "D:\\C2021-2\\Anaconda\\lib\\site-packages\\sklearn\\linear_model\\_coordinate_descent.py:530: ConvergenceWarning: Objective did not converge. You might want to increase the number of iterations. Duality gap: 16.730477548584616, tolerance: 0.03495032842074759\n",
      "  model = cd_fast.enet_coordinate_descent(\n",
      "D:\\C2021-2\\Anaconda\\lib\\site-packages\\sklearn\\linear_model\\_coordinate_descent.py:530: ConvergenceWarning: Objective did not converge. You might want to increase the number of iterations. Duality gap: 16.730477548584616, tolerance: 0.03495032842074759\n",
      "  model = cd_fast.enet_coordinate_descent(\n"
     ]
    },
    {
     "name": "stdout",
     "output_type": "stream",
     "text": [
      "For alpha = 0.21 , Lasso Regression: R^2 score 0.08673565365265945\n",
      "For alpha = 0.21 , R-squared for LASSO:  0.08673565365265945 \n",
      "\n",
      "For alpha = 0.21 , adjusted R-squared for LASSO:  -2.1710567581504883 \n",
      "\n"
     ]
    },
    {
     "name": "stderr",
     "output_type": "stream",
     "text": [
      "D:\\C2021-2\\Anaconda\\lib\\site-packages\\sklearn\\linear_model\\_coordinate_descent.py:530: ConvergenceWarning: Objective did not converge. You might want to increase the number of iterations. Duality gap: 13.470290242932094, tolerance: 0.03495032842074759\n",
      "  model = cd_fast.enet_coordinate_descent(\n",
      "D:\\C2021-2\\Anaconda\\lib\\site-packages\\sklearn\\linear_model\\_coordinate_descent.py:530: ConvergenceWarning: Objective did not converge. You might want to increase the number of iterations. Duality gap: 13.470290242932094, tolerance: 0.03495032842074759\n",
      "  model = cd_fast.enet_coordinate_descent(\n"
     ]
    },
    {
     "name": "stdout",
     "output_type": "stream",
     "text": [
      "For alpha = 0.22 , Lasso Regression: R^2 score 0.08381795363112077\n",
      "For alpha = 0.22 , R-squared for LASSO:  0.08381795363112077 \n",
      "\n",
      "For alpha = 0.22 , adjusted R-squared for LASSO:  -2.1811876610030527 \n",
      "\n"
     ]
    },
    {
     "name": "stderr",
     "output_type": "stream",
     "text": [
      "D:\\C2021-2\\Anaconda\\lib\\site-packages\\sklearn\\linear_model\\_coordinate_descent.py:530: ConvergenceWarning: Objective did not converge. You might want to increase the number of iterations. Duality gap: 10.601705870869523, tolerance: 0.03495032842074759\n",
      "  model = cd_fast.enet_coordinate_descent(\n",
      "D:\\C2021-2\\Anaconda\\lib\\site-packages\\sklearn\\linear_model\\_coordinate_descent.py:530: ConvergenceWarning: Objective did not converge. You might want to increase the number of iterations. Duality gap: 10.601705870869523, tolerance: 0.03495032842074759\n",
      "  model = cd_fast.enet_coordinate_descent(\n"
     ]
    },
    {
     "name": "stdout",
     "output_type": "stream",
     "text": [
      "For alpha = 0.23 , Lasso Regression: R^2 score 0.0807673408162426\n",
      "For alpha = 0.23 , R-squared for LASSO:  0.0807673408162426 \n",
      "\n",
      "For alpha = 0.23 , adjusted R-squared for LASSO:  -2.191780066610269 \n",
      "\n"
     ]
    },
    {
     "name": "stderr",
     "output_type": "stream",
     "text": [
      "D:\\C2021-2\\Anaconda\\lib\\site-packages\\sklearn\\linear_model\\_coordinate_descent.py:530: ConvergenceWarning: Objective did not converge. You might want to increase the number of iterations. Duality gap: 8.372755845256961, tolerance: 0.03495032842074759\n",
      "  model = cd_fast.enet_coordinate_descent(\n",
      "D:\\C2021-2\\Anaconda\\lib\\site-packages\\sklearn\\linear_model\\_coordinate_descent.py:530: ConvergenceWarning: Objective did not converge. You might want to increase the number of iterations. Duality gap: 8.372755845256961, tolerance: 0.03495032842074759\n",
      "  model = cd_fast.enet_coordinate_descent(\n"
     ]
    },
    {
     "name": "stdout",
     "output_type": "stream",
     "text": [
      "For alpha = 0.24 , Lasso Regression: R^2 score 0.07784837072432771\n",
      "For alpha = 0.24 , R-squared for LASSO:  0.07784837072432771 \n",
      "\n",
      "For alpha = 0.24 , adjusted R-squared for LASSO:  -2.2019153794294177 \n",
      "\n"
     ]
    },
    {
     "name": "stderr",
     "output_type": "stream",
     "text": [
      "D:\\C2021-2\\Anaconda\\lib\\site-packages\\sklearn\\linear_model\\_coordinate_descent.py:530: ConvergenceWarning: Objective did not converge. You might want to increase the number of iterations. Duality gap: 6.393606751949392, tolerance: 0.03495032842074759\n",
      "  model = cd_fast.enet_coordinate_descent(\n",
      "D:\\C2021-2\\Anaconda\\lib\\site-packages\\sklearn\\linear_model\\_coordinate_descent.py:530: ConvergenceWarning: Objective did not converge. You might want to increase the number of iterations. Duality gap: 6.393606751949392, tolerance: 0.03495032842074759\n",
      "  model = cd_fast.enet_coordinate_descent(\n"
     ]
    },
    {
     "name": "stdout",
     "output_type": "stream",
     "text": [
      "For alpha = 0.25 , Lasso Regression: R^2 score 0.0750225097230629\n",
      "For alpha = 0.25 , R-squared for LASSO:  0.0750225097230629 \n",
      "\n",
      "For alpha = 0.25 , adjusted R-squared for LASSO:  -2.2117273967949207 \n",
      "\n"
     ]
    },
    {
     "name": "stderr",
     "output_type": "stream",
     "text": [
      "D:\\C2021-2\\Anaconda\\lib\\site-packages\\sklearn\\linear_model\\_coordinate_descent.py:530: ConvergenceWarning: Objective did not converge. You might want to increase the number of iterations. Duality gap: 4.933314943005087, tolerance: 0.03495032842074759\n",
      "  model = cd_fast.enet_coordinate_descent(\n",
      "D:\\C2021-2\\Anaconda\\lib\\site-packages\\sklearn\\linear_model\\_coordinate_descent.py:530: ConvergenceWarning: Objective did not converge. You might want to increase the number of iterations. Duality gap: 4.933314943005087, tolerance: 0.03495032842074759\n",
      "  model = cd_fast.enet_coordinate_descent(\n"
     ]
    },
    {
     "name": "stdout",
     "output_type": "stream",
     "text": [
      "For alpha = 0.26 , Lasso Regression: R^2 score 0.07231415151795217\n",
      "For alpha = 0.26 , R-squared for LASSO:  0.07231415151795217 \n",
      "\n",
      "For alpha = 0.26 , adjusted R-squared for LASSO:  -2.2211314183404443 \n",
      "\n"
     ]
    },
    {
     "name": "stderr",
     "output_type": "stream",
     "text": [
      "D:\\C2021-2\\Anaconda\\lib\\site-packages\\sklearn\\linear_model\\_coordinate_descent.py:530: ConvergenceWarning: Objective did not converge. You might want to increase the number of iterations. Duality gap: 3.663231132574822, tolerance: 0.03495032842074759\n",
      "  model = cd_fast.enet_coordinate_descent(\n",
      "D:\\C2021-2\\Anaconda\\lib\\site-packages\\sklearn\\linear_model\\_coordinate_descent.py:530: ConvergenceWarning: Objective did not converge. You might want to increase the number of iterations. Duality gap: 3.663231132574822, tolerance: 0.03495032842074759\n",
      "  model = cd_fast.enet_coordinate_descent(\n"
     ]
    },
    {
     "name": "stdout",
     "output_type": "stream",
     "text": [
      "For alpha = 0.27 , Lasso Regression: R^2 score 0.06950023928441174\n",
      "For alpha = 0.27 , R-squared for LASSO:  0.06950023928441174 \n",
      "\n",
      "For alpha = 0.27 , adjusted R-squared for LASSO:  -2.2309019469291256 \n",
      "\n"
     ]
    },
    {
     "name": "stderr",
     "output_type": "stream",
     "text": [
      "D:\\C2021-2\\Anaconda\\lib\\site-packages\\sklearn\\linear_model\\_coordinate_descent.py:530: ConvergenceWarning: Objective did not converge. You might want to increase the number of iterations. Duality gap: 2.4200225936244237, tolerance: 0.03495032842074759\n",
      "  model = cd_fast.enet_coordinate_descent(\n",
      "D:\\C2021-2\\Anaconda\\lib\\site-packages\\sklearn\\linear_model\\_coordinate_descent.py:530: ConvergenceWarning: Objective did not converge. You might want to increase the number of iterations. Duality gap: 2.4200225936244237, tolerance: 0.03495032842074759\n",
      "  model = cd_fast.enet_coordinate_descent(\n"
     ]
    },
    {
     "name": "stdout",
     "output_type": "stream",
     "text": [
      "For alpha = 0.28 , Lasso Regression: R^2 score 0.067247168362226\n",
      "For alpha = 0.28 , R-squared for LASSO:  0.067247168362226 \n",
      "\n",
      "For alpha = 0.28 , adjusted R-squared for LASSO:  -2.238725109853382 \n",
      "\n"
     ]
    },
    {
     "name": "stderr",
     "output_type": "stream",
     "text": [
      "D:\\C2021-2\\Anaconda\\lib\\site-packages\\sklearn\\linear_model\\_coordinate_descent.py:530: ConvergenceWarning: Objective did not converge. You might want to increase the number of iterations. Duality gap: 1.3338271665840011, tolerance: 0.03495032842074759\n",
      "  model = cd_fast.enet_coordinate_descent(\n",
      "D:\\C2021-2\\Anaconda\\lib\\site-packages\\sklearn\\linear_model\\_coordinate_descent.py:530: ConvergenceWarning: Objective did not converge. You might want to increase the number of iterations. Duality gap: 1.3338271665840011, tolerance: 0.03495032842074759\n",
      "  model = cd_fast.enet_coordinate_descent(\n"
     ]
    },
    {
     "name": "stdout",
     "output_type": "stream",
     "text": [
      "For alpha = 0.29 , Lasso Regression: R^2 score 0.06587603840888623\n",
      "For alpha = 0.29 , R-squared for LASSO:  0.06587603840888623 \n",
      "\n",
      "For alpha = 0.29 , adjusted R-squared for LASSO:  -2.243485977746923 \n",
      "\n"
     ]
    },
    {
     "name": "stderr",
     "output_type": "stream",
     "text": [
      "D:\\C2021-2\\Anaconda\\lib\\site-packages\\sklearn\\linear_model\\_coordinate_descent.py:530: ConvergenceWarning: Objective did not converge. You might want to increase the number of iterations. Duality gap: 0.4588110444419726, tolerance: 0.03495032842074759\n",
      "  model = cd_fast.enet_coordinate_descent(\n",
      "D:\\C2021-2\\Anaconda\\lib\\site-packages\\sklearn\\linear_model\\_coordinate_descent.py:530: ConvergenceWarning: Objective did not converge. You might want to increase the number of iterations. Duality gap: 0.4588110444419726, tolerance: 0.03495032842074759\n",
      "  model = cd_fast.enet_coordinate_descent(\n"
     ]
    },
    {
     "name": "stdout",
     "output_type": "stream",
     "text": [
      "For alpha = 0.3 , Lasso Regression: R^2 score 0.06460044615053606\n",
      "For alpha = 0.3 , R-squared for LASSO:  0.06460044615053606 \n",
      "\n",
      "For alpha = 0.3 , adjusted R-squared for LASSO:  -2.2479151175328607 \n",
      "\n",
      "For alpha = 0.31 , Lasso Regression: R^2 score 0.06336113140808963\n",
      "For alpha = 0.31 , R-squared for LASSO:  0.06336113140808963 \n",
      "\n",
      "For alpha = 0.31 , adjusted R-squared for LASSO:  -2.2522182937219113 \n",
      "\n",
      "For alpha = 0.32 , Lasso Regression: R^2 score 0.06233332053566987\n",
      "For alpha = 0.32 , R-squared for LASSO:  0.06233332053566987 \n",
      "\n",
      "For alpha = 0.32 , adjusted R-squared for LASSO:  -2.2557870814733687 \n",
      "\n",
      "For alpha = 0.33 , Lasso Regression: R^2 score 0.06133018321529671\n",
      "For alpha = 0.33 , R-squared for LASSO:  0.06133018321529671 \n",
      "\n",
      "For alpha = 0.33 , adjusted R-squared for LASSO:  -2.2592701971691085 \n",
      "\n"
     ]
    },
    {
     "name": "stderr",
     "output_type": "stream",
     "text": [
      "D:\\C2021-2\\Anaconda\\lib\\site-packages\\sklearn\\linear_model\\_coordinate_descent.py:530: ConvergenceWarning: Objective did not converge. You might want to increase the number of iterations. Duality gap: 1.0888187020584041, tolerance: 0.03495032842074759\n",
      "  model = cd_fast.enet_coordinate_descent(\n",
      "D:\\C2021-2\\Anaconda\\lib\\site-packages\\sklearn\\linear_model\\_coordinate_descent.py:530: ConvergenceWarning: Objective did not converge. You might want to increase the number of iterations. Duality gap: 1.0888187020584041, tolerance: 0.03495032842074759\n",
      "  model = cd_fast.enet_coordinate_descent(\n"
     ]
    },
    {
     "name": "stdout",
     "output_type": "stream",
     "text": [
      "For alpha = 0.34 , Lasso Regression: R^2 score 0.06033122044161132\n",
      "For alpha = 0.34 , R-squared for LASSO:  0.06033122044161132 \n",
      "\n",
      "For alpha = 0.34 , adjusted R-squared for LASSO:  -2.262738817911072 \n",
      "\n"
     ]
    },
    {
     "name": "stderr",
     "output_type": "stream",
     "text": [
      "D:\\C2021-2\\Anaconda\\lib\\site-packages\\sklearn\\linear_model\\_coordinate_descent.py:530: ConvergenceWarning: Objective did not converge. You might want to increase the number of iterations. Duality gap: 0.7616387976609076, tolerance: 0.03495032842074759\n",
      "  model = cd_fast.enet_coordinate_descent(\n",
      "D:\\C2021-2\\Anaconda\\lib\\site-packages\\sklearn\\linear_model\\_coordinate_descent.py:530: ConvergenceWarning: Objective did not converge. You might want to increase the number of iterations. Duality gap: 0.7616387976609076, tolerance: 0.03495032842074759\n",
      "  model = cd_fast.enet_coordinate_descent(\n"
     ]
    },
    {
     "name": "stdout",
     "output_type": "stream",
     "text": [
      "For alpha = 0.35000000000000003 , Lasso Regression: R^2 score 0.059358850434744426\n",
      "For alpha = 0.35000000000000003 , R-squared for LASSO:  0.059358850434744426 \n",
      "\n",
      "For alpha = 0.35000000000000003 , adjusted R-squared for LASSO:  -2.266115102657137 \n",
      "\n"
     ]
    },
    {
     "name": "stderr",
     "output_type": "stream",
     "text": [
      "D:\\C2021-2\\Anaconda\\lib\\site-packages\\sklearn\\linear_model\\_coordinate_descent.py:530: ConvergenceWarning: Objective did not converge. You might want to increase the number of iterations. Duality gap: 0.5013759860136702, tolerance: 0.03495032842074759\n",
      "  model = cd_fast.enet_coordinate_descent(\n",
      "D:\\C2021-2\\Anaconda\\lib\\site-packages\\sklearn\\linear_model\\_coordinate_descent.py:530: ConvergenceWarning: Objective did not converge. You might want to increase the number of iterations. Duality gap: 0.5013759860136702, tolerance: 0.03495032842074759\n",
      "  model = cd_fast.enet_coordinate_descent(\n"
     ]
    },
    {
     "name": "stdout",
     "output_type": "stream",
     "text": [
      "For alpha = 0.36 , Lasso Regression: R^2 score 0.05837050961419388\n",
      "For alpha = 0.36 , R-squared for LASSO:  0.05837050961419388 \n",
      "\n",
      "For alpha = 0.36 , adjusted R-squared for LASSO:  -2.2695468416173825 \n",
      "\n"
     ]
    },
    {
     "name": "stderr",
     "output_type": "stream",
     "text": [
      "D:\\C2021-2\\Anaconda\\lib\\site-packages\\sklearn\\linear_model\\_coordinate_descent.py:530: ConvergenceWarning: Objective did not converge. You might want to increase the number of iterations. Duality gap: 0.2794995429224514, tolerance: 0.03495032842074759\n",
      "  model = cd_fast.enet_coordinate_descent(\n",
      "D:\\C2021-2\\Anaconda\\lib\\site-packages\\sklearn\\linear_model\\_coordinate_descent.py:530: ConvergenceWarning: Objective did not converge. You might want to increase the number of iterations. Duality gap: 0.2794995429224514, tolerance: 0.03495032842074759\n",
      "  model = cd_fast.enet_coordinate_descent(\n"
     ]
    },
    {
     "name": "stdout",
     "output_type": "stream",
     "text": [
      "For alpha = 0.37 , Lasso Regression: R^2 score 0.057355601233210485\n",
      "For alpha = 0.37 , R-squared for LASSO:  0.057355601233210485 \n",
      "\n",
      "For alpha = 0.37 , adjusted R-squared for LASSO:  -2.2730708290513526 \n",
      "\n"
     ]
    },
    {
     "name": "stderr",
     "output_type": "stream",
     "text": [
      "D:\\C2021-2\\Anaconda\\lib\\site-packages\\sklearn\\linear_model\\_coordinate_descent.py:530: ConvergenceWarning: Objective did not converge. You might want to increase the number of iterations. Duality gap: 0.10544142608631546, tolerance: 0.03495032842074759\n",
      "  model = cd_fast.enet_coordinate_descent(\n",
      "D:\\C2021-2\\Anaconda\\lib\\site-packages\\sklearn\\linear_model\\_coordinate_descent.py:530: ConvergenceWarning: Objective did not converge. You might want to increase the number of iterations. Duality gap: 0.10544142608631546, tolerance: 0.03495032842074759\n",
      "  model = cd_fast.enet_coordinate_descent(\n"
     ]
    },
    {
     "name": "stdout",
     "output_type": "stream",
     "text": [
      "For alpha = 0.38 , Lasso Regression: R^2 score 0.05632615744776637\n",
      "For alpha = 0.38 , R-squared for LASSO:  0.05632615744776637 \n",
      "\n",
      "For alpha = 0.38 , adjusted R-squared for LASSO:  -2.2766452866397 \n",
      "\n"
     ]
    },
    {
     "name": "stderr",
     "output_type": "stream",
     "text": [
      "D:\\C2021-2\\Anaconda\\lib\\site-packages\\sklearn\\linear_model\\_coordinate_descent.py:530: ConvergenceWarning: Objective did not converge. You might want to increase the number of iterations. Duality gap: 0.056275340871991375, tolerance: 0.03495032842074759\n",
      "  model = cd_fast.enet_coordinate_descent(\n",
      "D:\\C2021-2\\Anaconda\\lib\\site-packages\\sklearn\\linear_model\\_coordinate_descent.py:530: ConvergenceWarning: Objective did not converge. You might want to increase the number of iterations. Duality gap: 0.056275340871991375, tolerance: 0.03495032842074759\n",
      "  model = cd_fast.enet_coordinate_descent(\n"
     ]
    },
    {
     "name": "stdout",
     "output_type": "stream",
     "text": [
      "For alpha = 0.39 , Lasso Regression: R^2 score 0.05536083900218425\n",
      "For alpha = 0.39 , R-squared for LASSO:  0.05536083900218425 \n",
      "\n",
      "For alpha = 0.39 , adjusted R-squared for LASSO:  -2.2799970867979713 \n",
      "\n",
      "For alpha = 0.4 , Lasso Regression: R^2 score 0.054428042189907044\n",
      "For alpha = 0.4 , R-squared for LASSO:  0.054428042189907044 \n",
      "\n",
      "For alpha = 0.4 , adjusted R-squared for LASSO:  -2.2832359646183784 \n",
      "\n",
      "For alpha = 0.41000000000000003 , Lasso Regression: R^2 score 0.05347723850456021\n",
      "For alpha = 0.41000000000000003 , R-squared for LASSO:  0.05347723850456021 \n",
      "\n",
      "For alpha = 0.41000000000000003 , adjusted R-squared for LASSO:  -2.2865373663036106 \n",
      "\n",
      "For alpha = 0.42 , Lasso Regression: R^2 score 0.05260256406810848\n",
      "For alpha = 0.42 , R-squared for LASSO:  0.05260256406810848 \n",
      "\n",
      "For alpha = 0.42 , adjusted R-squared for LASSO:  -2.289574430319068 \n",
      "\n",
      "For alpha = 0.43 , Lasso Regression: R^2 score 0.051849203950802836\n",
      "For alpha = 0.43 , R-squared for LASSO:  0.051849203950802836 \n",
      "\n",
      "For alpha = 0.43 , adjusted R-squared for LASSO:  -2.292190264059712 \n",
      "\n",
      "For alpha = 0.44 , Lasso Regression: R^2 score 0.05107773216411193\n",
      "For alpha = 0.44 , R-squared for LASSO:  0.05107773216411193 \n",
      "\n",
      "For alpha = 0.44 , adjusted R-squared for LASSO:  -2.294868985541278 \n",
      "\n",
      "For alpha = 0.45 , Lasso Regression: R^2 score 0.05044156892056162\n",
      "For alpha = 0.45 , R-squared for LASSO:  0.05044156892056162 \n",
      "\n",
      "For alpha = 0.45 , adjusted R-squared for LASSO:  -2.2970778856924943 \n",
      "\n",
      "For alpha = 0.46 , Lasso Regression: R^2 score 0.050031066351047815\n",
      "For alpha = 0.46 , R-squared for LASSO:  0.050031066351047815 \n",
      "\n",
      "For alpha = 0.46 , adjusted R-squared for LASSO:  -2.2985032418366393 \n",
      "\n",
      "For alpha = 0.47000000000000003 , Lasso Regression: R^2 score 0.04958320952327355\n",
      "For alpha = 0.47000000000000003 , R-squared for LASSO:  0.04958320952327355 \n",
      "\n",
      "For alpha = 0.47000000000000003 , adjusted R-squared for LASSO:  -2.3000583002664117 \n",
      "\n",
      "For alpha = 0.48 , Lasso Regression: R^2 score 0.04912278730464892\n",
      "For alpha = 0.48 , R-squared for LASSO:  0.04912278730464892 \n",
      "\n",
      "For alpha = 0.48 , adjusted R-squared for LASSO:  -2.3016569885255245 \n",
      "\n",
      "For alpha = 0.49 , Lasso Regression: R^2 score 0.048652742771407076\n",
      "For alpha = 0.49 , R-squared for LASSO:  0.048652742771407076 \n",
      "\n",
      "For alpha = 0.49 , adjusted R-squared for LASSO:  -2.303289087599281 \n",
      "\n",
      "For alpha = 0.5 , Lasso Regression: R^2 score 0.04822036735322577\n",
      "For alpha = 0.5 , R-squared for LASSO:  0.04822036735322577 \n",
      "\n",
      "For alpha = 0.5 , adjusted R-squared for LASSO:  -2.304790391134633 \n",
      "\n",
      "For alpha = 0.51 , Lasso Regression: R^2 score 0.04780796897404316\n",
      "For alpha = 0.51 , R-squared for LASSO:  0.04780796897404316 \n",
      "\n",
      "For alpha = 0.51 , adjusted R-squared for LASSO:  -2.3062223299512388 \n",
      "\n",
      "For alpha = 0.52 , Lasso Regression: R^2 score 0.047387264156672826\n",
      "For alpha = 0.52 , R-squared for LASSO:  0.047387264156672826 \n",
      "\n",
      "For alpha = 0.52 , adjusted R-squared for LASSO:  -2.307683110567108 \n",
      "\n",
      "For alpha = 0.53 , Lasso Regression: R^2 score 0.04695788369494591\n",
      "For alpha = 0.53 , R-squared for LASSO:  0.04695788369494591 \n",
      "\n",
      "For alpha = 0.53 , adjusted R-squared for LASSO:  -2.3091740149481046 \n",
      "\n",
      "For alpha = 0.54 , Lasso Regression: R^2 score 0.046520871956257204\n",
      "For alpha = 0.54 , R-squared for LASSO:  0.046520871956257204 \n",
      "\n",
      "For alpha = 0.54 , adjusted R-squared for LASSO:  -2.310691416818551 \n",
      "\n",
      "For alpha = 0.55 , Lasso Regression: R^2 score 0.04607529178058589\n",
      "For alpha = 0.55 , R-squared for LASSO:  0.04607529178058589 \n",
      "\n",
      "For alpha = 0.55 , adjusted R-squared for LASSO:  -2.312238570206299 \n",
      "\n",
      "For alpha = 0.56 , Lasso Regression: R^2 score 0.04565128606832092\n",
      "For alpha = 0.56 , R-squared for LASSO:  0.04565128606832092 \n",
      "\n",
      "For alpha = 0.56 , adjusted R-squared for LASSO:  -2.3137108122627748 \n",
      "\n",
      "For alpha = 0.5700000000000001 , Lasso Regression: R^2 score 0.045229789710493185\n",
      "For alpha = 0.5700000000000001 , R-squared for LASSO:  0.045229789710493185 \n",
      "\n",
      "For alpha = 0.5700000000000001 , adjusted R-squared for LASSO:  -2.3151743412830097 \n",
      "\n",
      "For alpha = 0.58 , Lasso Regression: R^2 score 0.04480558431497217\n",
      "For alpha = 0.58 , R-squared for LASSO:  0.04480558431497217 \n",
      "\n",
      "For alpha = 0.58 , adjusted R-squared for LASSO:  -2.3166472766841246 \n",
      "\n",
      "For alpha = 0.59 , Lasso Regression: R^2 score 0.04438663045513125\n",
      "For alpha = 0.59 , R-squared for LASSO:  0.04438663045513125 \n",
      "\n",
      "For alpha = 0.59 , adjusted R-squared for LASSO:  -2.31810197758635 \n",
      "\n",
      "For alpha = 0.6 , Lasso Regression: R^2 score 0.04392910396703886\n",
      "For alpha = 0.6 , R-squared for LASSO:  0.04392910396703886 \n",
      "\n",
      "For alpha = 0.6 , adjusted R-squared for LASSO:  -2.3196906112255595 \n",
      "\n",
      "For alpha = 0.61 , Lasso Regression: R^2 score 0.043427774998207935\n",
      "For alpha = 0.61 , R-squared for LASSO:  0.043427774998207935 \n",
      "\n",
      "For alpha = 0.61 , adjusted R-squared for LASSO:  -2.321431336811778 \n",
      "\n",
      "For alpha = 0.62 , Lasso Regression: R^2 score 0.042918039940372577\n",
      "For alpha = 0.62 , R-squared for LASSO:  0.042918039940372577 \n",
      "\n",
      "For alpha = 0.62 , adjusted R-squared for LASSO:  -2.32320125020704 \n",
      "\n",
      "For alpha = 0.63 , Lasso Regression: R^2 score 0.04240000844549885\n",
      "For alpha = 0.63 , R-squared for LASSO:  0.04240000844549885 \n",
      "\n",
      "For alpha = 0.63 , adjusted R-squared for LASSO:  -2.3249999706753512 \n",
      "\n",
      "For alpha = 0.64 , Lasso Regression: R^2 score 0.041894188578845526\n",
      "For alpha = 0.64 , R-squared for LASSO:  0.041894188578845526 \n",
      "\n",
      "For alpha = 0.64 , adjusted R-squared for LASSO:  -2.3267562896567866 \n",
      "\n"
     ]
    },
    {
     "name": "stderr",
     "output_type": "stream",
     "text": [
      "D:\\C2021-2\\Anaconda\\lib\\site-packages\\sklearn\\linear_model\\_coordinate_descent.py:530: ConvergenceWarning: Objective did not converge. You might want to increase the number of iterations. Duality gap: 0.036095456604869014, tolerance: 0.03495032842074759\n",
      "  model = cd_fast.enet_coordinate_descent(\n",
      "D:\\C2021-2\\Anaconda\\lib\\site-packages\\sklearn\\linear_model\\_coordinate_descent.py:530: ConvergenceWarning: Objective did not converge. You might want to increase the number of iterations. Duality gap: 0.036095456604869014, tolerance: 0.03495032842074759\n",
      "  model = cd_fast.enet_coordinate_descent(\n"
     ]
    },
    {
     "name": "stdout",
     "output_type": "stream",
     "text": [
      "For alpha = 0.65 , Lasso Regression: R^2 score 0.041380389171228216\n",
      "For alpha = 0.65 , R-squared for LASSO:  0.041380389171228216 \n",
      "\n",
      "For alpha = 0.65 , adjusted R-squared for LASSO:  -2.32854031537768 \n",
      "\n"
     ]
    },
    {
     "name": "stderr",
     "output_type": "stream",
     "text": [
      "D:\\C2021-2\\Anaconda\\lib\\site-packages\\sklearn\\linear_model\\_coordinate_descent.py:530: ConvergenceWarning: Objective did not converge. You might want to increase the number of iterations. Duality gap: 0.04077196549690143, tolerance: 0.03495032842074759\n",
      "  model = cd_fast.enet_coordinate_descent(\n",
      "D:\\C2021-2\\Anaconda\\lib\\site-packages\\sklearn\\linear_model\\_coordinate_descent.py:530: ConvergenceWarning: Objective did not converge. You might want to increase the number of iterations. Duality gap: 0.04077196549690143, tolerance: 0.03495032842074759\n",
      "  model = cd_fast.enet_coordinate_descent(\n"
     ]
    },
    {
     "name": "stdout",
     "output_type": "stream",
     "text": [
      "For alpha = 0.66 , Lasso Regression: R^2 score 0.04085997132002139\n",
      "For alpha = 0.66 , R-squared for LASSO:  0.04085997132002139 \n",
      "\n",
      "For alpha = 0.66 , adjusted R-squared for LASSO:  -2.330347321805481 \n",
      "\n"
     ]
    },
    {
     "name": "stderr",
     "output_type": "stream",
     "text": [
      "D:\\C2021-2\\Anaconda\\lib\\site-packages\\sklearn\\linear_model\\_coordinate_descent.py:530: ConvergenceWarning: Objective did not converge. You might want to increase the number of iterations. Duality gap: 0.044882978962789366, tolerance: 0.03495032842074759\n",
      "  model = cd_fast.enet_coordinate_descent(\n",
      "D:\\C2021-2\\Anaconda\\lib\\site-packages\\sklearn\\linear_model\\_coordinate_descent.py:530: ConvergenceWarning: Objective did not converge. You might want to increase the number of iterations. Duality gap: 0.044882978962789366, tolerance: 0.03495032842074759\n",
      "  model = cd_fast.enet_coordinate_descent(\n"
     ]
    },
    {
     "name": "stdout",
     "output_type": "stream",
     "text": [
      "For alpha = 0.67 , Lasso Regression: R^2 score 0.040330372185230834\n",
      "For alpha = 0.67 , R-squared for LASSO:  0.040330372185230834 \n",
      "\n",
      "For alpha = 0.67 , adjusted R-squared for LASSO:  -2.3321862076901705 \n",
      "\n"
     ]
    },
    {
     "name": "stderr",
     "output_type": "stream",
     "text": [
      "D:\\C2021-2\\Anaconda\\lib\\site-packages\\sklearn\\linear_model\\_coordinate_descent.py:530: ConvergenceWarning: Objective did not converge. You might want to increase the number of iterations. Duality gap: 0.04907262717995309, tolerance: 0.03495032842074759\n",
      "  model = cd_fast.enet_coordinate_descent(\n",
      "D:\\C2021-2\\Anaconda\\lib\\site-packages\\sklearn\\linear_model\\_coordinate_descent.py:530: ConvergenceWarning: Objective did not converge. You might want to increase the number of iterations. Duality gap: 0.04907262717995309, tolerance: 0.03495032842074759\n",
      "  model = cd_fast.enet_coordinate_descent(\n"
     ]
    },
    {
     "name": "stdout",
     "output_type": "stream",
     "text": [
      "For alpha = 0.68 , Lasso Regression: R^2 score 0.03979367225845987\n",
      "For alpha = 0.68 , R-squared for LASSO:  0.03979367225845987 \n",
      "\n",
      "For alpha = 0.68 , adjusted R-squared for LASSO:  -2.33404974910257 \n",
      "\n"
     ]
    },
    {
     "name": "stderr",
     "output_type": "stream",
     "text": [
      "D:\\C2021-2\\Anaconda\\lib\\site-packages\\sklearn\\linear_model\\_coordinate_descent.py:530: ConvergenceWarning: Objective did not converge. You might want to increase the number of iterations. Duality gap: 0.052708747554788715, tolerance: 0.03495032842074759\n",
      "  model = cd_fast.enet_coordinate_descent(\n",
      "D:\\C2021-2\\Anaconda\\lib\\site-packages\\sklearn\\linear_model\\_coordinate_descent.py:530: ConvergenceWarning: Objective did not converge. You might want to increase the number of iterations. Duality gap: 0.052708747554788715, tolerance: 0.03495032842074759\n",
      "  model = cd_fast.enet_coordinate_descent(\n"
     ]
    },
    {
     "name": "stdout",
     "output_type": "stream",
     "text": [
      "For alpha = 0.6900000000000001 , Lasso Regression: R^2 score 0.039247965858201894\n",
      "For alpha = 0.6900000000000001 , R-squared for LASSO:  0.039247965858201894 \n",
      "\n",
      "For alpha = 0.6900000000000001 , adjusted R-squared for LASSO:  -2.335944562992355 \n",
      "\n",
      "For alpha = 0.7000000000000001 , Lasso Regression: R^2 score 0.03874463654542415\n",
      "For alpha = 0.7000000000000001 , R-squared for LASSO:  0.03874463654542415 \n",
      "\n",
      "For alpha = 0.7000000000000001 , adjusted R-squared for LASSO:  -2.3376922342172777 \n",
      "\n",
      "For alpha = 0.71 , Lasso Regression: R^2 score 0.038335433212461356\n",
      "For alpha = 0.71 , R-squared for LASSO:  0.038335433212461356 \n",
      "\n",
      "For alpha = 0.71 , adjusted R-squared for LASSO:  -2.3391130791233983 \n",
      "\n",
      "For alpha = 0.72 , Lasso Regression: R^2 score 0.037920449270698486\n",
      "For alpha = 0.72 , R-squared for LASSO:  0.037920449270698486 \n",
      "\n",
      "For alpha = 0.72 , adjusted R-squared for LASSO:  -2.3405539955878525 \n",
      "\n",
      "For alpha = 0.73 , Lasso Regression: R^2 score 0.037499705259567806\n",
      "For alpha = 0.73 , R-squared for LASSO:  0.037499705259567806 \n",
      "\n",
      "For alpha = 0.73 , adjusted R-squared for LASSO:  -2.3420149122931675 \n",
      "\n",
      "For alpha = 0.74 , Lasso Regression: R^2 score 0.03707309068375664\n",
      "For alpha = 0.74 , R-squared for LASSO:  0.03707309068375664 \n",
      "\n",
      "For alpha = 0.74 , adjusted R-squared for LASSO:  -2.3434962129036228 \n",
      "\n",
      "For alpha = 0.75 , Lasso Regression: R^2 score 0.03664086923774201\n",
      "For alpha = 0.75 , R-squared for LASSO:  0.03664086923774201 \n",
      "\n",
      "For alpha = 0.75 , adjusted R-squared for LASSO:  -2.344996981813396 \n",
      "\n",
      "For alpha = 0.76 , Lasso Regression: R^2 score 0.036281983653840166\n",
      "For alpha = 0.76 , R-squared for LASSO:  0.036281983653840166 \n",
      "\n",
      "For alpha = 0.76 , adjusted R-squared for LASSO:  -2.346243112313055 \n",
      "\n",
      "For alpha = 0.77 , Lasso Regression: R^2 score 0.03601973255922708\n",
      "For alpha = 0.77 , R-squared for LASSO:  0.03601973255922708 \n",
      "\n",
      "For alpha = 0.77 , adjusted R-squared for LASSO:  -2.3471537063915724 \n",
      "\n",
      "For alpha = 0.78 , Lasso Regression: R^2 score 0.03575400396780426\n",
      "For alpha = 0.78 , R-squared for LASSO:  0.03575400396780426 \n",
      "\n",
      "For alpha = 0.78 , adjusted R-squared for LASSO:  -2.348076375111791 \n",
      "\n",
      "For alpha = 0.79 , Lasso Regression: R^2 score 0.0354850326163374\n",
      "For alpha = 0.79 , R-squared for LASSO:  0.0354850326163374 \n",
      "\n",
      "For alpha = 0.79 , adjusted R-squared for LASSO:  -2.3490103034154948 \n",
      "\n",
      "For alpha = 0.8 , Lasso Regression: R^2 score 0.03521262106138945\n",
      "For alpha = 0.8 , R-squared for LASSO:  0.03521262106138945 \n",
      "\n",
      "For alpha = 0.8 , adjusted R-squared for LASSO:  -2.3499561768701756 \n",
      "\n",
      "For alpha = 0.81 , Lasso Regression: R^2 score 0.03493637756270418\n",
      "For alpha = 0.81 , R-squared for LASSO:  0.03493637756270418 \n",
      "\n",
      "For alpha = 0.81 , adjusted R-squared for LASSO:  -2.350915355685055 \n",
      "\n",
      "For alpha = 0.8200000000000001 , Lasso Regression: R^2 score 0.03465696150183517\n",
      "For alpha = 0.8200000000000001 , R-squared for LASSO:  0.03465696150183517 \n",
      "\n",
      "For alpha = 0.8200000000000001 , adjusted R-squared for LASSO:  -2.3518855503408505 \n",
      "\n",
      "For alpha = 0.8300000000000001 , Lasso Regression: R^2 score 0.03437426097480245\n",
      "For alpha = 0.8300000000000001 , R-squared for LASSO:  0.03437426097480245 \n",
      "\n",
      "For alpha = 0.8300000000000001 , adjusted R-squared for LASSO:  -2.352867149393047 \n",
      "\n",
      "For alpha = 0.84 , Lasso Regression: R^2 score 0.03408798172366345\n",
      "For alpha = 0.84 , R-squared for LASSO:  0.03408798172366345 \n",
      "\n",
      "For alpha = 0.84 , adjusted R-squared for LASSO:  -2.353861174570613 \n",
      "\n",
      "For alpha = 0.85 , Lasso Regression: R^2 score 0.033798199634407444\n",
      "For alpha = 0.85 , R-squared for LASSO:  0.033798199634407444 \n",
      "\n",
      "For alpha = 0.85 , adjusted R-squared for LASSO:  -2.35486736238053 \n",
      "\n",
      "For alpha = 0.86 , Lasso Regression: R^2 score 0.03350539882071968\n",
      "For alpha = 0.86 , R-squared for LASSO:  0.03350539882071968 \n",
      "\n",
      "For alpha = 0.86 , adjusted R-squared for LASSO:  -2.3558840318725007 \n",
      "\n",
      "For alpha = 0.87 , Lasso Regression: R^2 score 0.03320876316896926\n",
      "For alpha = 0.87 , R-squared for LASSO:  0.03320876316896926 \n",
      "\n",
      "For alpha = 0.87 , adjusted R-squared for LASSO:  -2.3569140167744123 \n",
      "\n",
      "For alpha = 0.88 , Lasso Regression: R^2 score 0.03298790723633249\n",
      "For alpha = 0.88 , R-squared for LASSO:  0.03298790723633249 \n",
      "\n",
      "For alpha = 0.88 , adjusted R-squared for LASSO:  -2.357680877651623 \n",
      "\n",
      "For alpha = 0.89 , Lasso Regression: R^2 score 0.032787621014072954\n",
      "For alpha = 0.89 , R-squared for LASSO:  0.032787621014072954 \n",
      "\n",
      "For alpha = 0.89 , adjusted R-squared for LASSO:  -2.3583763159233575 \n",
      "\n",
      "For alpha = 0.9 , Lasso Regression: R^2 score 0.03258460874742641\n",
      "For alpha = 0.9 , R-squared for LASSO:  0.03258460874742641 \n",
      "\n",
      "For alpha = 0.9 , adjusted R-squared for LASSO:  -2.3590812196269915 \n",
      "\n",
      "For alpha = 0.91 , Lasso Regression: R^2 score 0.03237964033854768\n",
      "For alpha = 0.91 , R-squared for LASSO:  0.03237964033854768 \n",
      "\n",
      "For alpha = 0.91 , adjusted R-squared for LASSO:  -2.3597929154911537 \n",
      "\n",
      "For alpha = 0.92 , Lasso Regression: R^2 score 0.032172820483170494\n",
      "For alpha = 0.92 , R-squared for LASSO:  0.032172820483170494 \n",
      "\n",
      "For alpha = 0.92 , adjusted R-squared for LASSO:  -2.3605110399889915 \n",
      "\n",
      "For alpha = 0.93 , Lasso Regression: R^2 score 0.03196288276318682\n",
      "For alpha = 0.93 , R-squared for LASSO:  0.03196288276318682 \n",
      "\n",
      "For alpha = 0.93 , adjusted R-squared for LASSO:  -2.3612399904056014 \n",
      "\n",
      "For alpha = 0.9400000000000001 , Lasso Regression: R^2 score 0.03175126713909859\n",
      "For alpha = 0.9400000000000001 , R-squared for LASSO:  0.03175126713909859 \n",
      "\n",
      "For alpha = 0.9400000000000001 , adjusted R-squared for LASSO:  -2.36197476687813 \n",
      "\n",
      "For alpha = 0.9500000000000001 , Lasso Regression: R^2 score 0.031538026414294484\n",
      "For alpha = 0.9500000000000001 , R-squared for LASSO:  0.031538026414294484 \n",
      "\n",
      "For alpha = 0.9500000000000001 , adjusted R-squared for LASSO:  -2.3627151860614775 \n",
      "\n",
      "For alpha = 0.96 , Lasso Regression: R^2 score 0.03132184998105614\n",
      "For alpha = 0.96 , R-squared for LASSO:  0.03132184998105614 \n",
      "\n",
      "For alpha = 0.96 , adjusted R-squared for LASSO:  -2.3634657986768883 \n",
      "\n",
      "For alpha = 0.97 , Lasso Regression: R^2 score 0.031103433322790086\n",
      "For alpha = 0.97 , R-squared for LASSO:  0.031103433322790086 \n",
      "\n",
      "For alpha = 0.97 , adjusted R-squared for LASSO:  -2.364224189851423 \n",
      "\n",
      "For alpha = 0.98 , Lasso Regression: R^2 score 0.030882911711061722\n",
      "For alpha = 0.98 , R-squared for LASSO:  0.030882911711061722 \n",
      "\n",
      "For alpha = 0.98 , adjusted R-squared for LASSO:  -2.3649898898921466 \n",
      "\n",
      "For alpha = 0.99 , Lasso Regression: R^2 score 0.03065977990915647\n",
      "For alpha = 0.99 , R-squared for LASSO:  0.03065977990915647 \n",
      "\n",
      "For alpha = 0.99 , adjusted R-squared for LASSO:  -2.3657646530932066 \n",
      "\n",
      "For alpha = 1.0 , Lasso Regression: R^2 score 0.03043485757997766\n",
      "For alpha = 1.0 , R-squared for LASSO:  0.03043485757997766 \n",
      "\n",
      "For alpha = 1.0 , adjusted R-squared for LASSO:  -2.3665456334028554 \n",
      "\n"
     ]
    }
   ],
   "source": [
    "# Creating the loop:\n",
    "\n",
    "for i in tope:\n",
    "\n",
    "    reg = linear_model.Lasso(alpha = i)\n",
    "    reg.fit(X, lwage)\n",
    "    lwage_lasso_fitted = reg.fit(X, lwage).predict( X )\n",
    "    b = reg.score(X, lwage)\n",
    "    \n",
    "    alpha = i\n",
    "\n",
    "    R2_L = reg.score(flex_results_0.exog, lwage)\n",
    "    R2_adjL =1 - (1-R2_L)*(len(lwage)-1)/(len(lwage)-X.shape[1]-1)\n",
    "\n",
    "    print('For alpha =', alpha, ', Lasso Regression: R^2 score', b) \n",
    "    print('For alpha =', alpha, \", R-squared for LASSO: \", R2_L, \"\\n\")\n",
    "    print('For alpha =', alpha, ', adjusted R-squared for LASSO: ', R2_adjL, \"\\n\")"
   ]
  },
  {
   "cell_type": "markdown",
   "id": "9e29e6bb",
   "metadata": {},
   "source": [
    "After a simple glance, we can conclude that, at least for alpha's values between $[0,1]$ with $0.001$ jumps, the Lasso model does not fit to neither to the data nor the equation we are studying. In all of these alpha extensions, we have an (adjusted) $R^2_{sample}$ less than cero, which means we have chosen the wrong model or parameters.\n",
    "However, for comparison issues, once we can get to know which values of alpha does not have convergence problems, we select three values from that group."
   ]
  },
  {
   "cell_type": "markdown",
   "id": "4c412bb5",
   "metadata": {},
   "source": [
    "###### alpha = 0.31"
   ]
  },
  {
   "cell_type": "code",
   "execution_count": 19,
   "id": "7239f70a",
   "metadata": {},
   "outputs": [],
   "source": [
    "alpha = 0.31"
   ]
  },
  {
   "cell_type": "code",
   "execution_count": 20,
   "id": "bb1ac446",
   "metadata": {},
   "outputs": [
    {
     "name": "stdout",
     "output_type": "stream",
     "text": [
      "Lasso Regression: R^2 score 0.06336113140808963\n"
     ]
    }
   ],
   "source": [
    "# Set penalty value = 0.31\n",
    "\n",
    "reg = linear_model.Lasso(alpha = alpha)\n",
    "\n",
    "# LASSO regression for flexible model\n",
    "reg.fit(X, lwage)\n",
    "lwage_lasso_fitted = reg.fit(X, lwage).predict( X )\n",
    "   \n",
    "# Coefficients \n",
    "\n",
    "reg.coef_\n",
    "print('Lasso Regression: R^2 score', reg.score(X, lwage))"
   ]
  },
  {
   "cell_type": "code",
   "execution_count": 21,
   "id": "e2e4e335",
   "metadata": {
    "scrolled": true
   },
   "outputs": [
    {
     "data": {
      "text/plain": [
       "array([2.71670039, 3.00692513, 2.93912987, ..., 2.68775798, 2.66407835,\n",
       "       2.65762638])"
      ]
     },
     "execution_count": 21,
     "metadata": {},
     "output_type": "execute_result"
    }
   ],
   "source": [
    "# Check predicted values\n",
    "lwage_lasso_fitted"
   ]
  },
  {
   "cell_type": "markdown",
   "id": "ea9b7427",
   "metadata": {},
   "source": [
    "Now, we can evaluate the performance of both models based on the (adjusted) $R^2_{sample}$ and the (adjusted) $MSE_{sample}$:"
   ]
  },
  {
   "cell_type": "markdown",
   "id": "afc4281b",
   "metadata": {},
   "source": [
    "##### Basic Model"
   ]
  },
  {
   "cell_type": "code",
   "execution_count": 22,
   "id": "91b455b4",
   "metadata": {},
   "outputs": [],
   "source": [
    "basic = 'lwage ~ sex + exp1 + shs + hsg+ scl + clg + mw + so + we + occ2+ ind2'\n",
    "basic_results = smf.ols(basic , data=data).fit()"
   ]
  },
  {
   "cell_type": "markdown",
   "id": "268b9416",
   "metadata": {},
   "source": [
    "##### Flexible model "
   ]
  },
  {
   "cell_type": "code",
   "execution_count": 23,
   "id": "5880e994",
   "metadata": {},
   "outputs": [],
   "source": [
    "flex = 'lwage ~ (exp1+exp2+exp3+exp4+shs+hsg+scl+clg+occ2+ind2+mw+so+we)**2'\n",
    "flex_results = smf.ols(flex , data=data).fit()"
   ]
  },
  {
   "cell_type": "code",
   "execution_count": 24,
   "id": "72547c45",
   "metadata": {},
   "outputs": [
    {
     "name": "stdout",
     "output_type": "stream",
     "text": [
      "R-squared for the basic model:  0.18023814876721034 \n",
      "\n",
      "adjusted R-squared for the basic model:  0.15122549288773657 \n",
      "\n",
      "R-squared for the basic model:  0.5070440013634975 \n",
      "\n",
      "adjusted R-squared for the basic model:  0.23150283659275406 \n",
      "\n",
      "R-squared for LASSO:  0.06336113140808963 \n",
      "\n",
      "adjusted R-squared for LASSO:  -2.2522182937219113 \n",
      "\n"
     ]
    }
   ],
   "source": [
    "# Assess the predictive performance\n",
    "\n",
    "R2_1 = basic_results.rsquared\n",
    "print(\"R-squared for the basic model: \", R2_1, \"\\n\")\n",
    "R2_adj1 = basic_results.rsquared_adj\n",
    "print(\"adjusted R-squared for the basic model: \", R2_adj1, \"\\n\")\n",
    "\n",
    "\n",
    "R2_2 = flex_results.rsquared\n",
    "print(\"R-squared for the basic model: \", R2_2, \"\\n\")\n",
    "R2_adj2 = flex_results.rsquared_adj\n",
    "print(\"adjusted R-squared for the basic model: \", R2_adj2, \"\\n\")\n",
    "\n",
    "\n",
    "R2_L = reg.score(flex_results_0.exog, lwage)\n",
    "print(\"R-squared for LASSO: \", R2_L, \"\\n\")\n",
    "R2_adjL = 1 - (1-R2_L)*(len(lwage)-1)/(len(lwage)-X.shape[1]-1)\n",
    "print(\"adjusted R-squared for LASSO: \", R2_adjL, \"\\n\")"
   ]
  },
  {
   "cell_type": "code",
   "execution_count": 25,
   "id": "b6fd1867",
   "metadata": {},
   "outputs": [
    {
     "name": "stdout",
     "output_type": "stream",
     "text": [
      "MSE for the basic model:  0.20821908377460777 \n",
      "\n",
      "adjusted MSE for the basic model:  0.21623355416895118 \n",
      "\n",
      "MSE for the flexible model:  0.12521056721891977 \n",
      "\n",
      "adjusted MSE for the flexible model:  0.43397919519706196 \n",
      "\n",
      "MSE for the LASSO model:  0.23790578538462734 \n",
      "\n",
      "adjusted MSE for LASSO model:  0.8245802536253078 \n",
      "\n"
     ]
    }
   ],
   "source": [
    "# Calculating the MSE\n",
    "\n",
    "MSE1 =  np.mean(basic_results.resid**2)\n",
    "print(\"MSE for the basic model: \", MSE1, \"\\n\")\n",
    "p1 = len(basic_results.params) # number of regressors\n",
    "n = len(lwage)\n",
    "MSE_adj1  = (n/(n-p1))*MSE1\n",
    "print(\"adjusted MSE for the basic model: \", MSE_adj1, \"\\n\")\n",
    "\n",
    "\n",
    "MSE2 =  np.mean(flex_results.resid**2)\n",
    "print(\"MSE for the flexible model: \", MSE2, \"\\n\")\n",
    "p2 = len(flex_results.params) # number of regressors\n",
    "n = len(lwage)\n",
    "MSE_adj2  = (n/(n-p2))*MSE2\n",
    "print(\"adjusted MSE for the flexible model: \", MSE_adj2, \"\\n\")\n",
    "\n",
    "\n",
    "MSEL = mean_squared_error(lwage, lwage_lasso_fitted)\n",
    "print(\"MSE for the LASSO model: \", MSEL, \"\\n\")\n",
    "pL = reg.coef_.shape[0] # number of regressors\n",
    "n = len(lwage)\n",
    "MSE_adjL  = (n/(n-pL))*MSEL\n",
    "print(\"adjusted MSE for LASSO model: \", MSE_adjL, \"\\n\")"
   ]
  },
  {
   "cell_type": "code",
   "execution_count": 26,
   "id": "98bad160",
   "metadata": {},
   "outputs": [
    {
     "data": {
      "text/plain": [
       "array([[ 5.10000000e+01,  1.80238149e-01,  2.08219084e-01,\n",
       "         1.51225493e-01,  2.16233554e-01],\n",
       "       [ 9.79000000e+02,  5.07044001e-01,  1.25210567e-01,\n",
       "         2.31502837e-01,  4.33979195e-01],\n",
       "       [ 9.79000000e+02,  6.33611314e-02,  2.37905785e-01,\n",
       "        -2.25221829e+00,  8.24580254e-01]])"
      ]
     },
     "execution_count": 26,
     "metadata": {},
     "output_type": "execute_result"
    }
   ],
   "source": [
    "# Package for latex table \n",
    "\n",
    "import array_to_latex as a2l\n",
    "\n",
    "table = np.zeros((3, 5))\n",
    "table[0,0:5] = [p1, R2_1, MSE1, R2_adj1, MSE_adj1]\n",
    "table[1,0:5] = [p2, R2_2, MSE2, R2_adj2, MSE_adj2]\n",
    "table[2,0:5] = [pL, R2_L, MSEL, R2_adjL, MSE_adjL]\n",
    "table"
   ]
  },
  {
   "cell_type": "code",
   "execution_count": 27,
   "id": "1fca296d",
   "metadata": {},
   "outputs": [
    {
     "data": {
      "text/html": [
       "<div>\n",
       "<style scoped>\n",
       "    .dataframe tbody tr th:only-of-type {\n",
       "        vertical-align: middle;\n",
       "    }\n",
       "\n",
       "    .dataframe tbody tr th {\n",
       "        vertical-align: top;\n",
       "    }\n",
       "\n",
       "    .dataframe thead th {\n",
       "        text-align: right;\n",
       "    }\n",
       "</style>\n",
       "<table border=\"1\" class=\"dataframe\">\n",
       "  <thead>\n",
       "    <tr style=\"text-align: right;\">\n",
       "      <th></th>\n",
       "      <th>p</th>\n",
       "      <th>$R^2_{sample}$</th>\n",
       "      <th>$MSE_{sample}$</th>\n",
       "      <th>$R^2_{adjusted}$</th>\n",
       "      <th>$MSE_{adjusted}$</th>\n",
       "    </tr>\n",
       "  </thead>\n",
       "  <tbody>\n",
       "    <tr>\n",
       "      <th>basic reg</th>\n",
       "      <td>51.0</td>\n",
       "      <td>0.180238</td>\n",
       "      <td>0.208219</td>\n",
       "      <td>0.151225</td>\n",
       "      <td>0.216234</td>\n",
       "    </tr>\n",
       "    <tr>\n",
       "      <th>flexible reg</th>\n",
       "      <td>979.0</td>\n",
       "      <td>0.507044</td>\n",
       "      <td>0.125211</td>\n",
       "      <td>0.231503</td>\n",
       "      <td>0.433979</td>\n",
       "    </tr>\n",
       "    <tr>\n",
       "      <th>lasso flex</th>\n",
       "      <td>979.0</td>\n",
       "      <td>0.063361</td>\n",
       "      <td>0.237906</td>\n",
       "      <td>-2.252218</td>\n",
       "      <td>0.824580</td>\n",
       "    </tr>\n",
       "  </tbody>\n",
       "</table>\n",
       "</div>"
      ],
      "text/plain": [
       "                  p  $R^2_{sample}$  $MSE_{sample}$  $R^2_{adjusted}$  \\\n",
       "basic reg      51.0        0.180238        0.208219          0.151225   \n",
       "flexible reg  979.0        0.507044        0.125211          0.231503   \n",
       "lasso flex    979.0        0.063361        0.237906         -2.252218   \n",
       "\n",
       "              $MSE_{adjusted}$  \n",
       "basic reg             0.216234  \n",
       "flexible reg          0.433979  \n",
       "lasso flex            0.824580  "
      ]
     },
     "execution_count": 27,
     "metadata": {},
     "output_type": "execute_result"
    }
   ],
   "source": [
    "table = pd.DataFrame(table, columns = [\"p\",\"$R^2_{sample}$\",\"$MSE_{sample}$\",\"$R^2_{adjusted}$\", \"$MSE_{adjusted}$\"], \\\n",
    "                      index = [\"basic reg\",\"flexible reg\", \"lasso flex\"])\n",
    "table"
   ]
  },
  {
   "cell_type": "markdown",
   "id": "5a9ca9f0",
   "metadata": {},
   "source": [
    "Following this **table**, the flexible regression make a good prediction unlike the basic regression and the lasso reg."
   ]
  },
  {
   "cell_type": "markdown",
   "id": "254ab8b6",
   "metadata": {},
   "source": [
    "###### alpha = 0.51"
   ]
  },
  {
   "cell_type": "code",
   "execution_count": 28,
   "id": "1f8256a0",
   "metadata": {},
   "outputs": [],
   "source": [
    "alpha1 = 0.51"
   ]
  },
  {
   "cell_type": "code",
   "execution_count": 29,
   "id": "6a1a04d6",
   "metadata": {},
   "outputs": [
    {
     "name": "stdout",
     "output_type": "stream",
     "text": [
      "Lasso Regression: R^2 score 0.04780796897404316\n"
     ]
    }
   ],
   "source": [
    "# Set penalty value = 0.51\n",
    "\n",
    "reg1 = linear_model.Lasso(alpha = alpha1)\n",
    "\n",
    "# LASSO regression for flexible model\n",
    "reg1.fit(X, lwage)\n",
    "lwage_lasso_fitted = reg1.fit(X, lwage).predict( X )\n",
    "   \n",
    "# Coefficients \n",
    "\n",
    "reg1.coef_\n",
    "print('Lasso Regression: R^2 score', reg1.score(X, lwage))"
   ]
  },
  {
   "cell_type": "markdown",
   "id": "1e54946b",
   "metadata": {},
   "source": [
    "Now, we can evaluate the performance of both models based on the (adjusted) $R^2_{sample}$ and the (adjusted) $MSE_{sample}$:"
   ]
  },
  {
   "cell_type": "code",
   "execution_count": 30,
   "id": "036489c9",
   "metadata": {},
   "outputs": [
    {
     "name": "stdout",
     "output_type": "stream",
     "text": [
      "R-squared for the basic model:  0.18023814876721034 \n",
      "\n",
      "adjusted R-squared for the basic model:  0.15122549288773657 \n",
      "\n",
      "R-squared for the basic model:  0.5070440013634975 \n",
      "\n",
      "adjusted R-squared for the basic model:  0.23150283659275406 \n",
      "\n",
      "R-squared for LASSO:  0.04780796897404316 \n",
      "\n",
      "adjusted R-squared for LASSO:  -2.3062223299512388 \n",
      "\n"
     ]
    }
   ],
   "source": [
    "# Assess the predictive performance\n",
    "\n",
    "R2_1_1 = basic_results.rsquared\n",
    "print(\"R-squared for the basic model: \", R2_1_1, \"\\n\")\n",
    "R2_adj1_1 = basic_results.rsquared_adj\n",
    "print(\"adjusted R-squared for the basic model: \", R2_adj1_1, \"\\n\")\n",
    "\n",
    "\n",
    "R2_2_1 = flex_results.rsquared\n",
    "print(\"R-squared for the basic model: \", R2_2_1, \"\\n\")\n",
    "R2_adj2_1 = flex_results.rsquared_adj\n",
    "print(\"adjusted R-squared for the basic model: \", R2_adj2_1, \"\\n\")\n",
    "\n",
    "\n",
    "R2_L_1 = reg1.score(flex_results_0.exog, lwage)\n",
    "print(\"R-squared for LASSO: \", R2_L_1, \"\\n\")\n",
    "R2_adjL_1 = 1 - (1-R2_L_1)*(len(lwage)-1)/(len(lwage)-X.shape[1]-1)\n",
    "print(\"adjusted R-squared for LASSO: \", R2_adjL_1, \"\\n\")"
   ]
  },
  {
   "cell_type": "code",
   "execution_count": 31,
   "id": "4137080b",
   "metadata": {},
   "outputs": [
    {
     "name": "stdout",
     "output_type": "stream",
     "text": [
      "MSE for the basic model:  0.20821908377460777 \n",
      "\n",
      "adjusted MSE for the basic model:  0.21623355416895118 \n",
      "\n",
      "MSE for the flexible model:  0.12521056721891977 \n",
      "\n",
      "adjusted MSE for the flexible model:  0.43397919519706196 \n",
      "\n",
      "MSE for the LASSO model:  0.24185628055215028 \n",
      "\n",
      "adjusted MSE for LASSO model:  0.8382726499742035 \n",
      "\n"
     ]
    }
   ],
   "source": [
    "# Calculating the MSE\n",
    "\n",
    "MSE1_1 =  np.mean(basic_results.resid**2)\n",
    "print(\"MSE for the basic model: \", MSE1_1, \"\\n\")\n",
    "p1_1 = len(basic_results.params) # number of regressors\n",
    "n_1 = len(lwage)\n",
    "MSE_adj1_1  = (n/(n-p1))*MSE1_1\n",
    "print(\"adjusted MSE for the basic model: \", MSE_adj1_1, \"\\n\")\n",
    "\n",
    "\n",
    "MSE2_1 =  np.mean(flex_results.resid**2)\n",
    "print(\"MSE for the flexible model: \", MSE2_1, \"\\n\")\n",
    "p2_1 = len(flex_results.params) # number of regressors\n",
    "n_1 = len(lwage)\n",
    "MSE_adj2_1  = (n/(n-p2))*MSE2_1\n",
    "print(\"adjusted MSE for the flexible model: \", MSE_adj2_1, \"\\n\")\n",
    "\n",
    "\n",
    "MSEL_1 = mean_squared_error(lwage, lwage_lasso_fitted)\n",
    "print(\"MSE for the LASSO model: \", MSEL_1, \"\\n\")\n",
    "pL_1 = reg1.coef_.shape[0] # number of regressors\n",
    "n_1 = len(lwage)\n",
    "MSE_adjL_1  = (n/(n-pL))*MSEL_1\n",
    "print(\"adjusted MSE for LASSO model: \", MSE_adjL_1, \"\\n\")"
   ]
  },
  {
   "cell_type": "code",
   "execution_count": 32,
   "id": "9b2a6a3b",
   "metadata": {},
   "outputs": [
    {
     "data": {
      "text/plain": [
       "array([[ 5.10000000e+01,  1.80238149e-01,  2.08219084e-01,\n",
       "         1.51225493e-01,  2.16233554e-01],\n",
       "       [ 9.79000000e+02,  5.07044001e-01,  1.25210567e-01,\n",
       "         2.31502837e-01,  4.33979195e-01],\n",
       "       [ 9.79000000e+02,  4.78079690e-02,  2.41856281e-01,\n",
       "        -2.30622233e+00,  8.38272650e-01]])"
      ]
     },
     "execution_count": 32,
     "metadata": {},
     "output_type": "execute_result"
    }
   ],
   "source": [
    "# Package for latex table \n",
    "\n",
    "import array_to_latex as a2l\n",
    "\n",
    "table1 = np.zeros((3, 5))\n",
    "table1[0,0:5] = [p1_1, R2_1_1, MSE1_1, R2_adj1_1, MSE_adj1_1]\n",
    "table1[1,0:5] = [p2_1, R2_2_1, MSE2_1, R2_adj2_1, MSE_adj2_1]\n",
    "table1[2,0:5] = [pL_1, R2_L_1, MSEL_1, R2_adjL_1, MSE_adjL_1]\n",
    "table1"
   ]
  },
  {
   "cell_type": "code",
   "execution_count": 33,
   "id": "6d1a6db1",
   "metadata": {},
   "outputs": [
    {
     "data": {
      "text/html": [
       "<div>\n",
       "<style scoped>\n",
       "    .dataframe tbody tr th:only-of-type {\n",
       "        vertical-align: middle;\n",
       "    }\n",
       "\n",
       "    .dataframe tbody tr th {\n",
       "        vertical-align: top;\n",
       "    }\n",
       "\n",
       "    .dataframe thead th {\n",
       "        text-align: right;\n",
       "    }\n",
       "</style>\n",
       "<table border=\"1\" class=\"dataframe\">\n",
       "  <thead>\n",
       "    <tr style=\"text-align: right;\">\n",
       "      <th></th>\n",
       "      <th>p</th>\n",
       "      <th>$R^2_{sample}$</th>\n",
       "      <th>$MSE_{sample}$</th>\n",
       "      <th>$R^2_{adjusted}$</th>\n",
       "      <th>$MSE_{adjusted}$</th>\n",
       "    </tr>\n",
       "  </thead>\n",
       "  <tbody>\n",
       "    <tr>\n",
       "      <th>basic reg</th>\n",
       "      <td>51.0</td>\n",
       "      <td>0.180238</td>\n",
       "      <td>0.208219</td>\n",
       "      <td>0.151225</td>\n",
       "      <td>0.216234</td>\n",
       "    </tr>\n",
       "    <tr>\n",
       "      <th>flexible reg</th>\n",
       "      <td>979.0</td>\n",
       "      <td>0.507044</td>\n",
       "      <td>0.125211</td>\n",
       "      <td>0.231503</td>\n",
       "      <td>0.433979</td>\n",
       "    </tr>\n",
       "    <tr>\n",
       "      <th>lasso flex</th>\n",
       "      <td>979.0</td>\n",
       "      <td>0.047808</td>\n",
       "      <td>0.241856</td>\n",
       "      <td>-2.306222</td>\n",
       "      <td>0.838273</td>\n",
       "    </tr>\n",
       "  </tbody>\n",
       "</table>\n",
       "</div>"
      ],
      "text/plain": [
       "                  p  $R^2_{sample}$  $MSE_{sample}$  $R^2_{adjusted}$  \\\n",
       "basic reg      51.0        0.180238        0.208219          0.151225   \n",
       "flexible reg  979.0        0.507044        0.125211          0.231503   \n",
       "lasso flex    979.0        0.047808        0.241856         -2.306222   \n",
       "\n",
       "              $MSE_{adjusted}$  \n",
       "basic reg             0.216234  \n",
       "flexible reg          0.433979  \n",
       "lasso flex            0.838273  "
      ]
     },
     "execution_count": 33,
     "metadata": {},
     "output_type": "execute_result"
    }
   ],
   "source": [
    "table1 = pd.DataFrame(table1, columns = [\"p\",\"$R^2_{sample}$\",\"$MSE_{sample}$\",\"$R^2_{adjusted}$\", \"$MSE_{adjusted}$\"], \\\n",
    "                      index = [\"basic reg\",\"flexible reg\", \"lasso flex\"])\n",
    "table1"
   ]
  },
  {
   "cell_type": "markdown",
   "id": "281d9cd0",
   "metadata": {},
   "source": [
    "###### alpha = 0.87"
   ]
  },
  {
   "cell_type": "code",
   "execution_count": 34,
   "id": "d3de5abf",
   "metadata": {},
   "outputs": [],
   "source": [
    "alpha2 = 0.87"
   ]
  },
  {
   "cell_type": "code",
   "execution_count": 35,
   "id": "a4c1998c",
   "metadata": {},
   "outputs": [
    {
     "name": "stdout",
     "output_type": "stream",
     "text": [
      "Lasso Regression: R^2 score 0.03320876316896926\n"
     ]
    }
   ],
   "source": [
    "# Set penalty value = 0.87\n",
    "\n",
    "reg2 = linear_model.Lasso(alpha = alpha2)\n",
    "\n",
    "# LASSO regression for flexible model\n",
    "reg2.fit(X, lwage)\n",
    "lwage_lasso_fitted = reg2.fit(X, lwage).predict( X )\n",
    "   \n",
    "# Coefficients \n",
    "\n",
    "reg2.coef_\n",
    "print('Lasso Regression: R^2 score', reg2.score(X, lwage))"
   ]
  },
  {
   "cell_type": "markdown",
   "id": "88dbe768",
   "metadata": {},
   "source": [
    "Now, we can evaluate the performance of both models based on the (adjusted) $R^2_{sample}$ and the (adjusted) $MSE_{sample}$:"
   ]
  },
  {
   "cell_type": "code",
   "execution_count": 36,
   "id": "c6058c63",
   "metadata": {},
   "outputs": [
    {
     "name": "stdout",
     "output_type": "stream",
     "text": [
      "R-squared for the basic model:  0.18023814876721034 \n",
      "\n",
      "adjusted R-squared for the basic model:  0.15122549288773657 \n",
      "\n",
      "R-squared for the basic model:  0.5070440013634975 \n",
      "\n",
      "adjusted R-squared for the basic model:  0.23150283659275406 \n",
      "\n",
      "R-squared for LASSO:  0.03320876316896926 \n",
      "\n",
      "adjusted R-squared for LASSO:  -2.3569140167744123 \n",
      "\n"
     ]
    }
   ],
   "source": [
    "# Assess the predictive performance\n",
    "\n",
    "R2_1_2 = basic_results.rsquared\n",
    "print(\"R-squared for the basic model: \", R2_1_2, \"\\n\")\n",
    "R2_adj1_2 = basic_results.rsquared_adj\n",
    "print(\"adjusted R-squared for the basic model: \", R2_adj1_1, \"\\n\")\n",
    "\n",
    "\n",
    "R2_2_2 = flex_results.rsquared\n",
    "print(\"R-squared for the basic model: \", R2_2_2, \"\\n\")\n",
    "R2_adj2_2 = flex_results.rsquared_adj\n",
    "print(\"adjusted R-squared for the basic model: \", R2_adj2_2, \"\\n\")\n",
    "\n",
    "\n",
    "R2_L_2 = reg2.score(flex_results_0.exog, lwage)\n",
    "print(\"R-squared for LASSO: \", R2_L_2, \"\\n\")\n",
    "R2_adjL_2 = 1 - (1-R2_L_2)*(len(lwage)-1)/(len(lwage)-X.shape[1]-1)\n",
    "print(\"adjusted R-squared for LASSO: \", R2_adjL_2, \"\\n\")"
   ]
  },
  {
   "cell_type": "code",
   "execution_count": 37,
   "id": "80eb5fd7",
   "metadata": {},
   "outputs": [
    {
     "name": "stdout",
     "output_type": "stream",
     "text": [
      "MSE for the basic model:  0.20821908377460777 \n",
      "\n",
      "adjusted MSE for the basic model:  0.21623355416895118 \n",
      "\n",
      "MSE for the flexible model:  0.12521056721891977 \n",
      "\n",
      "adjusted MSE for the flexible model:  0.43397919519706196 \n",
      "\n",
      "MSE for the LASSO model:  0.24556447123216057 \n",
      "\n",
      "adjusted MSE for LASSO model:  0.8511252201900579 \n",
      "\n"
     ]
    }
   ],
   "source": [
    "# Calculating the MSE\n",
    "\n",
    "MSE1_2 =  np.mean(basic_results.resid**2)\n",
    "print(\"MSE for the basic model: \", MSE1_2, \"\\n\")\n",
    "p1_2 = len(basic_results.params) # number of regressors\n",
    "n_2 = len(lwage)\n",
    "MSE_adj1_2  = (n/(n-p1))*MSE1_2\n",
    "print(\"adjusted MSE for the basic model: \", MSE_adj1_2, \"\\n\")\n",
    "\n",
    "\n",
    "MSE2_2 =  np.mean(flex_results.resid**2)\n",
    "print(\"MSE for the flexible model: \", MSE2_2, \"\\n\")\n",
    "p2_2 = len(flex_results.params) # number of regressors\n",
    "n_2 = len(lwage)\n",
    "MSE_adj2_2  = (n/(n-p2))*MSE2_2\n",
    "print(\"adjusted MSE for the flexible model: \", MSE_adj2_2, \"\\n\")\n",
    "\n",
    "\n",
    "MSEL_2 = mean_squared_error(lwage, lwage_lasso_fitted)\n",
    "print(\"MSE for the LASSO model: \", MSEL_2, \"\\n\")\n",
    "pL_2 = reg2.coef_.shape[0] # number of regressors\n",
    "n_2 = len(lwage)\n",
    "MSE_adjL_2 = (n/(n-pL))*MSEL_2\n",
    "print(\"adjusted MSE for LASSO model: \", MSE_adjL_2, \"\\n\")"
   ]
  },
  {
   "cell_type": "code",
   "execution_count": 38,
   "id": "c7bc71e7",
   "metadata": {},
   "outputs": [
    {
     "data": {
      "text/plain": [
       "array([[ 5.10000000e+01,  1.80238149e-01,  2.08219084e-01,\n",
       "         1.51225493e-01,  2.16233554e-01],\n",
       "       [ 9.79000000e+02,  5.07044001e-01,  1.25210567e-01,\n",
       "         2.31502837e-01,  4.33979195e-01],\n",
       "       [ 9.79000000e+02,  3.32087632e-02,  2.45564471e-01,\n",
       "        -2.35691402e+00,  8.51125220e-01]])"
      ]
     },
     "execution_count": 38,
     "metadata": {},
     "output_type": "execute_result"
    }
   ],
   "source": [
    "# Package for latex table \n",
    "\n",
    "import array_to_latex as a2l\n",
    "\n",
    "table2 = np.zeros((3, 5))\n",
    "table2[0,0:5] = [p1_2, R2_1_2, MSE1_2, R2_adj1_2, MSE_adj1_2]\n",
    "table2[1,0:5] = [p2_2, R2_2_2, MSE2_2, R2_adj2_2, MSE_adj2_2]\n",
    "table2[2,0:5] = [pL_2, R2_L_2, MSEL_2, R2_adjL_2, MSE_adjL_2]\n",
    "table2"
   ]
  },
  {
   "cell_type": "code",
   "execution_count": 39,
   "id": "1fc6cf65",
   "metadata": {},
   "outputs": [
    {
     "data": {
      "text/html": [
       "<div>\n",
       "<style scoped>\n",
       "    .dataframe tbody tr th:only-of-type {\n",
       "        vertical-align: middle;\n",
       "    }\n",
       "\n",
       "    .dataframe tbody tr th {\n",
       "        vertical-align: top;\n",
       "    }\n",
       "\n",
       "    .dataframe thead th {\n",
       "        text-align: right;\n",
       "    }\n",
       "</style>\n",
       "<table border=\"1\" class=\"dataframe\">\n",
       "  <thead>\n",
       "    <tr style=\"text-align: right;\">\n",
       "      <th></th>\n",
       "      <th>p</th>\n",
       "      <th>$R^2_{sample}$</th>\n",
       "      <th>$MSE_{sample}$</th>\n",
       "      <th>$R^2_{adjusted}$</th>\n",
       "      <th>$MSE_{adjusted}$</th>\n",
       "    </tr>\n",
       "  </thead>\n",
       "  <tbody>\n",
       "    <tr>\n",
       "      <th>basic reg</th>\n",
       "      <td>51.0</td>\n",
       "      <td>0.180238</td>\n",
       "      <td>0.208219</td>\n",
       "      <td>0.151225</td>\n",
       "      <td>0.216234</td>\n",
       "    </tr>\n",
       "    <tr>\n",
       "      <th>flexible reg</th>\n",
       "      <td>979.0</td>\n",
       "      <td>0.507044</td>\n",
       "      <td>0.125211</td>\n",
       "      <td>0.231503</td>\n",
       "      <td>0.433979</td>\n",
       "    </tr>\n",
       "    <tr>\n",
       "      <th>lasso flex</th>\n",
       "      <td>979.0</td>\n",
       "      <td>0.033209</td>\n",
       "      <td>0.245564</td>\n",
       "      <td>-2.356914</td>\n",
       "      <td>0.851125</td>\n",
       "    </tr>\n",
       "  </tbody>\n",
       "</table>\n",
       "</div>"
      ],
      "text/plain": [
       "                  p  $R^2_{sample}$  $MSE_{sample}$  $R^2_{adjusted}$  \\\n",
       "basic reg      51.0        0.180238        0.208219          0.151225   \n",
       "flexible reg  979.0        0.507044        0.125211          0.231503   \n",
       "lasso flex    979.0        0.033209        0.245564         -2.356914   \n",
       "\n",
       "              $MSE_{adjusted}$  \n",
       "basic reg             0.216234  \n",
       "flexible reg          0.433979  \n",
       "lasso flex            0.851125  "
      ]
     },
     "execution_count": 39,
     "metadata": {},
     "output_type": "execute_result"
    }
   ],
   "source": [
    "table2 = pd.DataFrame(table2, columns = [\"p\",\"$R^2_{sample}$\",\"$MSE_{sample}$\",\"$R^2_{adjusted}$\", \"$MSE_{adjusted}$\"], \\\n",
    "                      index = [\"basic reg\",\"flexible reg\", \"lasso flex\"])\n",
    "table2"
   ]
  },
  {
   "cell_type": "markdown",
   "id": "bfcb660f",
   "metadata": {},
   "source": [
    "Now we proceed to the comparison between models and to its analysis:"
   ]
  },
  {
   "cell_type": "code",
   "execution_count": 40,
   "id": "b9417e77",
   "metadata": {},
   "outputs": [
    {
     "data": {
      "text/html": [
       "<div>\n",
       "<style scoped>\n",
       "    .dataframe tbody tr th:only-of-type {\n",
       "        vertical-align: middle;\n",
       "    }\n",
       "\n",
       "    .dataframe tbody tr th {\n",
       "        vertical-align: top;\n",
       "    }\n",
       "\n",
       "    .dataframe thead th {\n",
       "        text-align: right;\n",
       "    }\n",
       "</style>\n",
       "<table border=\"1\" class=\"dataframe\">\n",
       "  <thead>\n",
       "    <tr style=\"text-align: right;\">\n",
       "      <th></th>\n",
       "      <th>p</th>\n",
       "      <th>$R^2_{sample}$</th>\n",
       "      <th>$MSE_{sample}$</th>\n",
       "      <th>$R^2_{adjusted}$</th>\n",
       "      <th>$MSE_{adjusted}$</th>\n",
       "    </tr>\n",
       "  </thead>\n",
       "  <tbody>\n",
       "    <tr>\n",
       "      <th>basic reg</th>\n",
       "      <td>51.0</td>\n",
       "      <td>0.180238</td>\n",
       "      <td>0.208219</td>\n",
       "      <td>0.151225</td>\n",
       "      <td>0.216234</td>\n",
       "    </tr>\n",
       "    <tr>\n",
       "      <th>flexible reg</th>\n",
       "      <td>979.0</td>\n",
       "      <td>0.507044</td>\n",
       "      <td>0.125211</td>\n",
       "      <td>0.231503</td>\n",
       "      <td>0.433979</td>\n",
       "    </tr>\n",
       "    <tr>\n",
       "      <th>lasso flex</th>\n",
       "      <td>979.0</td>\n",
       "      <td>0.063361</td>\n",
       "      <td>0.237906</td>\n",
       "      <td>-2.252218</td>\n",
       "      <td>0.824580</td>\n",
       "    </tr>\n",
       "  </tbody>\n",
       "</table>\n",
       "</div>"
      ],
      "text/plain": [
       "                  p  $R^2_{sample}$  $MSE_{sample}$  $R^2_{adjusted}$  \\\n",
       "basic reg      51.0        0.180238        0.208219          0.151225   \n",
       "flexible reg  979.0        0.507044        0.125211          0.231503   \n",
       "lasso flex    979.0        0.063361        0.237906         -2.252218   \n",
       "\n",
       "              $MSE_{adjusted}$  \n",
       "basic reg             0.216234  \n",
       "flexible reg          0.433979  \n",
       "lasso flex            0.824580  "
      ]
     },
     "execution_count": 40,
     "metadata": {},
     "output_type": "execute_result"
    }
   ],
   "source": [
    "table"
   ]
  },
  {
   "cell_type": "code",
   "execution_count": 41,
   "id": "4f7593f7",
   "metadata": {},
   "outputs": [
    {
     "data": {
      "text/html": [
       "<div>\n",
       "<style scoped>\n",
       "    .dataframe tbody tr th:only-of-type {\n",
       "        vertical-align: middle;\n",
       "    }\n",
       "\n",
       "    .dataframe tbody tr th {\n",
       "        vertical-align: top;\n",
       "    }\n",
       "\n",
       "    .dataframe thead th {\n",
       "        text-align: right;\n",
       "    }\n",
       "</style>\n",
       "<table border=\"1\" class=\"dataframe\">\n",
       "  <thead>\n",
       "    <tr style=\"text-align: right;\">\n",
       "      <th></th>\n",
       "      <th>p</th>\n",
       "      <th>$R^2_{sample}$</th>\n",
       "      <th>$MSE_{sample}$</th>\n",
       "      <th>$R^2_{adjusted}$</th>\n",
       "      <th>$MSE_{adjusted}$</th>\n",
       "    </tr>\n",
       "  </thead>\n",
       "  <tbody>\n",
       "    <tr>\n",
       "      <th>basic reg</th>\n",
       "      <td>51.0</td>\n",
       "      <td>0.180238</td>\n",
       "      <td>0.208219</td>\n",
       "      <td>0.151225</td>\n",
       "      <td>0.216234</td>\n",
       "    </tr>\n",
       "    <tr>\n",
       "      <th>flexible reg</th>\n",
       "      <td>979.0</td>\n",
       "      <td>0.507044</td>\n",
       "      <td>0.125211</td>\n",
       "      <td>0.231503</td>\n",
       "      <td>0.433979</td>\n",
       "    </tr>\n",
       "    <tr>\n",
       "      <th>lasso flex</th>\n",
       "      <td>979.0</td>\n",
       "      <td>0.047808</td>\n",
       "      <td>0.241856</td>\n",
       "      <td>-2.306222</td>\n",
       "      <td>0.838273</td>\n",
       "    </tr>\n",
       "  </tbody>\n",
       "</table>\n",
       "</div>"
      ],
      "text/plain": [
       "                  p  $R^2_{sample}$  $MSE_{sample}$  $R^2_{adjusted}$  \\\n",
       "basic reg      51.0        0.180238        0.208219          0.151225   \n",
       "flexible reg  979.0        0.507044        0.125211          0.231503   \n",
       "lasso flex    979.0        0.047808        0.241856         -2.306222   \n",
       "\n",
       "              $MSE_{adjusted}$  \n",
       "basic reg             0.216234  \n",
       "flexible reg          0.433979  \n",
       "lasso flex            0.838273  "
      ]
     },
     "execution_count": 41,
     "metadata": {},
     "output_type": "execute_result"
    }
   ],
   "source": [
    "table1"
   ]
  },
  {
   "cell_type": "code",
   "execution_count": 42,
   "id": "66675809",
   "metadata": {
    "scrolled": true
   },
   "outputs": [
    {
     "data": {
      "text/html": [
       "<div>\n",
       "<style scoped>\n",
       "    .dataframe tbody tr th:only-of-type {\n",
       "        vertical-align: middle;\n",
       "    }\n",
       "\n",
       "    .dataframe tbody tr th {\n",
       "        vertical-align: top;\n",
       "    }\n",
       "\n",
       "    .dataframe thead th {\n",
       "        text-align: right;\n",
       "    }\n",
       "</style>\n",
       "<table border=\"1\" class=\"dataframe\">\n",
       "  <thead>\n",
       "    <tr style=\"text-align: right;\">\n",
       "      <th></th>\n",
       "      <th>p</th>\n",
       "      <th>$R^2_{sample}$</th>\n",
       "      <th>$MSE_{sample}$</th>\n",
       "      <th>$R^2_{adjusted}$</th>\n",
       "      <th>$MSE_{adjusted}$</th>\n",
       "    </tr>\n",
       "  </thead>\n",
       "  <tbody>\n",
       "    <tr>\n",
       "      <th>basic reg</th>\n",
       "      <td>51.0</td>\n",
       "      <td>0.180238</td>\n",
       "      <td>0.208219</td>\n",
       "      <td>0.151225</td>\n",
       "      <td>0.216234</td>\n",
       "    </tr>\n",
       "    <tr>\n",
       "      <th>flexible reg</th>\n",
       "      <td>979.0</td>\n",
       "      <td>0.507044</td>\n",
       "      <td>0.125211</td>\n",
       "      <td>0.231503</td>\n",
       "      <td>0.433979</td>\n",
       "    </tr>\n",
       "    <tr>\n",
       "      <th>lasso flex</th>\n",
       "      <td>979.0</td>\n",
       "      <td>0.033209</td>\n",
       "      <td>0.245564</td>\n",
       "      <td>-2.356914</td>\n",
       "      <td>0.851125</td>\n",
       "    </tr>\n",
       "  </tbody>\n",
       "</table>\n",
       "</div>"
      ],
      "text/plain": [
       "                  p  $R^2_{sample}$  $MSE_{sample}$  $R^2_{adjusted}$  \\\n",
       "basic reg      51.0        0.180238        0.208219          0.151225   \n",
       "flexible reg  979.0        0.507044        0.125211          0.231503   \n",
       "lasso flex    979.0        0.033209        0.245564         -2.356914   \n",
       "\n",
       "              $MSE_{adjusted}$  \n",
       "basic reg             0.216234  \n",
       "flexible reg          0.433979  \n",
       "lasso flex            0.851125  "
      ]
     },
     "execution_count": 42,
     "metadata": {},
     "output_type": "execute_result"
    }
   ],
   "source": [
    "table2"
   ]
  },
  {
   "cell_type": "markdown",
   "id": "6aa1e6c9",
   "metadata": {},
   "source": [
    "- Considering all the measures from **table**, the flexible regression perform a better prediction than the other ones. "
   ]
  },
  {
   "cell_type": "markdown",
   "id": "d01fc002",
   "metadata": {},
   "source": [
    "- Considering all the measures from **table1**, the flexible regression perform a better prediction than the other ones."
   ]
  },
  {
   "cell_type": "markdown",
   "id": "7a49b311",
   "metadata": {},
   "source": [
    "- Considering all the measures from **table2**, the flexible regression perform a better prediction than the other ones."
   ]
  },
  {
   "cell_type": "markdown",
   "id": "1d787a67",
   "metadata": {},
   "source": [
    "## Data Splitting\n",
    "Measure the prediction quality of the two models via data splitting:\n",
    "\n",
    "- Randomly split the data into one training sample and one testing sample. Here we just use a simple method (stratified splitting is a more sophisticated version of splitting that we can consider).\n",
    "- Use the training sample for estimating the parameters of the Basic Model and the Flexible Model.\n",
    "- Use the testing sample for evaluation. Predict the  𝚠𝚊𝚐𝚎  of every observation in the testing sample based on the estimated parameters in the training sample.\n",
    "- Calculate the Mean Squared Prediction Error  𝑀𝑆𝐸𝑡𝑒𝑠𝑡  based on the testing sample for both prediction models."
   ]
  },
  {
   "cell_type": "code",
   "execution_count": 43,
   "id": "1ae0490e",
   "metadata": {},
   "outputs": [
    {
     "name": "stderr",
     "output_type": "stream",
     "text": [
      "<ipython-input-43-8f8b82375de4>:8: SettingWithCopyWarning: \n",
      "A value is trying to be set on a copy of a slice from a DataFrame.\n",
      "Try using .loc[row_indexer,col_indexer] = value instead\n",
      "\n",
      "See the caveats in the documentation: https://pandas.pydata.org/pandas-docs/stable/user_guide/indexing.html#returning-a-view-versus-a-copy\n",
      "  data[\"random\"] = random\n"
     ]
    },
    {
     "data": {
      "text/plain": [
       "array([ 684,  559, 1216, ..., 1294,  573, 1367])"
      ]
     },
     "execution_count": 43,
     "metadata": {},
     "output_type": "execute_result"
    }
   ],
   "source": [
    "import random\n",
    "import math\n",
    "\n",
    "# Set Seed\n",
    "# to make the results replicable (generating random numbers)\n",
    "np.random.seed(0)\n",
    "random = np.random.randint(0,n, size=math.floor(n))\n",
    "data[\"random\"] = random\n",
    "random    # the array does not change "
   ]
  },
  {
   "cell_type": "code",
   "execution_count": 44,
   "id": "c81ffbf1",
   "metadata": {},
   "outputs": [
    {
     "data": {
      "text/html": [
       "<div>\n",
       "<style scoped>\n",
       "    .dataframe tbody tr th:only-of-type {\n",
       "        vertical-align: middle;\n",
       "    }\n",
       "\n",
       "    .dataframe tbody tr th {\n",
       "        vertical-align: top;\n",
       "    }\n",
       "\n",
       "    .dataframe thead th {\n",
       "        text-align: right;\n",
       "    }\n",
       "</style>\n",
       "<table border=\"1\" class=\"dataframe\">\n",
       "  <thead>\n",
       "    <tr style=\"text-align: right;\">\n",
       "      <th></th>\n",
       "      <th>wage</th>\n",
       "      <th>lwage</th>\n",
       "      <th>sex</th>\n",
       "      <th>shs</th>\n",
       "      <th>hsg</th>\n",
       "      <th>scl</th>\n",
       "      <th>clg</th>\n",
       "      <th>ad</th>\n",
       "      <th>mw</th>\n",
       "      <th>so</th>\n",
       "      <th>...</th>\n",
       "      <th>ne</th>\n",
       "      <th>exp1</th>\n",
       "      <th>exp2</th>\n",
       "      <th>exp3</th>\n",
       "      <th>exp4</th>\n",
       "      <th>occ</th>\n",
       "      <th>occ2</th>\n",
       "      <th>ind</th>\n",
       "      <th>ind2</th>\n",
       "      <th>random</th>\n",
       "    </tr>\n",
       "    <tr>\n",
       "      <th>rownames</th>\n",
       "      <th></th>\n",
       "      <th></th>\n",
       "      <th></th>\n",
       "      <th></th>\n",
       "      <th></th>\n",
       "      <th></th>\n",
       "      <th></th>\n",
       "      <th></th>\n",
       "      <th></th>\n",
       "      <th></th>\n",
       "      <th></th>\n",
       "      <th></th>\n",
       "      <th></th>\n",
       "      <th></th>\n",
       "      <th></th>\n",
       "      <th></th>\n",
       "      <th></th>\n",
       "      <th></th>\n",
       "      <th></th>\n",
       "      <th></th>\n",
       "      <th></th>\n",
       "    </tr>\n",
       "  </thead>\n",
       "  <tbody>\n",
       "    <tr>\n",
       "      <th>9262</th>\n",
       "      <td>9.134615</td>\n",
       "      <td>2.212071</td>\n",
       "      <td>0.0</td>\n",
       "      <td>0.0</td>\n",
       "      <td>1.0</td>\n",
       "      <td>0.0</td>\n",
       "      <td>0.0</td>\n",
       "      <td>0.0</td>\n",
       "      <td>1.0</td>\n",
       "      <td>0.0</td>\n",
       "      <td>...</td>\n",
       "      <td>0.0</td>\n",
       "      <td>5.0</td>\n",
       "      <td>0.25</td>\n",
       "      <td>0.125</td>\n",
       "      <td>0.0625</td>\n",
       "      <td>9360</td>\n",
       "      <td>22</td>\n",
       "      <td>5090</td>\n",
       "      <td>9</td>\n",
       "      <td>0</td>\n",
       "    </tr>\n",
       "    <tr>\n",
       "      <th>14134</th>\n",
       "      <td>24.038462</td>\n",
       "      <td>3.179655</td>\n",
       "      <td>0.0</td>\n",
       "      <td>0.0</td>\n",
       "      <td>1.0</td>\n",
       "      <td>0.0</td>\n",
       "      <td>0.0</td>\n",
       "      <td>0.0</td>\n",
       "      <td>1.0</td>\n",
       "      <td>0.0</td>\n",
       "      <td>...</td>\n",
       "      <td>0.0</td>\n",
       "      <td>11.0</td>\n",
       "      <td>1.21</td>\n",
       "      <td>1.331</td>\n",
       "      <td>1.4641</td>\n",
       "      <td>4250</td>\n",
       "      <td>14</td>\n",
       "      <td>7770</td>\n",
       "      <td>16</td>\n",
       "      <td>0</td>\n",
       "    </tr>\n",
       "    <tr>\n",
       "      <th>8689</th>\n",
       "      <td>12.980769</td>\n",
       "      <td>2.563469</td>\n",
       "      <td>1.0</td>\n",
       "      <td>0.0</td>\n",
       "      <td>1.0</td>\n",
       "      <td>0.0</td>\n",
       "      <td>0.0</td>\n",
       "      <td>0.0</td>\n",
       "      <td>1.0</td>\n",
       "      <td>0.0</td>\n",
       "      <td>...</td>\n",
       "      <td>0.0</td>\n",
       "      <td>17.0</td>\n",
       "      <td>2.89</td>\n",
       "      <td>4.913</td>\n",
       "      <td>8.3521</td>\n",
       "      <td>5620</td>\n",
       "      <td>17</td>\n",
       "      <td>5380</td>\n",
       "      <td>9</td>\n",
       "      <td>3</td>\n",
       "    </tr>\n",
       "    <tr>\n",
       "      <th>11486</th>\n",
       "      <td>12.980769</td>\n",
       "      <td>2.563469</td>\n",
       "      <td>0.0</td>\n",
       "      <td>0.0</td>\n",
       "      <td>1.0</td>\n",
       "      <td>0.0</td>\n",
       "      <td>0.0</td>\n",
       "      <td>0.0</td>\n",
       "      <td>1.0</td>\n",
       "      <td>0.0</td>\n",
       "      <td>...</td>\n",
       "      <td>0.0</td>\n",
       "      <td>7.0</td>\n",
       "      <td>0.49</td>\n",
       "      <td>0.343</td>\n",
       "      <td>0.2401</td>\n",
       "      <td>4760</td>\n",
       "      <td>16</td>\n",
       "      <td>5790</td>\n",
       "      <td>9</td>\n",
       "      <td>3</td>\n",
       "    </tr>\n",
       "    <tr>\n",
       "      <th>20866</th>\n",
       "      <td>34.615385</td>\n",
       "      <td>3.544298</td>\n",
       "      <td>0.0</td>\n",
       "      <td>0.0</td>\n",
       "      <td>1.0</td>\n",
       "      <td>0.0</td>\n",
       "      <td>0.0</td>\n",
       "      <td>0.0</td>\n",
       "      <td>0.0</td>\n",
       "      <td>1.0</td>\n",
       "      <td>...</td>\n",
       "      <td>0.0</td>\n",
       "      <td>5.0</td>\n",
       "      <td>0.25</td>\n",
       "      <td>0.125</td>\n",
       "      <td>0.0625</td>\n",
       "      <td>220</td>\n",
       "      <td>1</td>\n",
       "      <td>770</td>\n",
       "      <td>4</td>\n",
       "      <td>3</td>\n",
       "    </tr>\n",
       "  </tbody>\n",
       "</table>\n",
       "<p>5 rows × 21 columns</p>\n",
       "</div>"
      ],
      "text/plain": [
       "               wage     lwage  sex  shs  hsg  scl  clg   ad   mw   so  ...  \\\n",
       "rownames                                                               ...   \n",
       "9262       9.134615  2.212071  0.0  0.0  1.0  0.0  0.0  0.0  1.0  0.0  ...   \n",
       "14134     24.038462  3.179655  0.0  0.0  1.0  0.0  0.0  0.0  1.0  0.0  ...   \n",
       "8689      12.980769  2.563469  1.0  0.0  1.0  0.0  0.0  0.0  1.0  0.0  ...   \n",
       "11486     12.980769  2.563469  0.0  0.0  1.0  0.0  0.0  0.0  1.0  0.0  ...   \n",
       "20866     34.615385  3.544298  0.0  0.0  1.0  0.0  0.0  0.0  0.0  1.0  ...   \n",
       "\n",
       "           ne  exp1  exp2   exp3    exp4   occ occ2   ind ind2 random  \n",
       "rownames                                                               \n",
       "9262      0.0   5.0  0.25  0.125  0.0625  9360   22  5090    9      0  \n",
       "14134     0.0  11.0  1.21  1.331  1.4641  4250   14  7770   16      0  \n",
       "8689      0.0  17.0  2.89  4.913  8.3521  5620   17  5380    9      3  \n",
       "11486     0.0   7.0  0.49  0.343  0.2401  4760   16  5790    9      3  \n",
       "20866     0.0   5.0  0.25  0.125  0.0625   220    1   770    4      3  \n",
       "\n",
       "[5 rows x 21 columns]"
      ]
     },
     "execution_count": 44,
     "metadata": {},
     "output_type": "execute_result"
    }
   ],
   "source": [
    "data_2 = data.sort_values(by=['random'])\n",
    "data_2.head()"
   ]
  },
  {
   "cell_type": "code",
   "execution_count": 45,
   "id": "6884eae3",
   "metadata": {},
   "outputs": [
    {
     "name": "stdout",
     "output_type": "stream",
     "text": [
      "(275, 21)\n",
      "(1101, 21)\n"
     ]
    }
   ],
   "source": [
    "# Create training and testing sample \n",
    "train = data_2[ : math.floor(n*1/5)]    # training sample\n",
    "test =  data_2[ math.floor(n*1/5) : ]   # testing sample\n",
    "print(train.shape)\n",
    "print(test.shape)"
   ]
  },
  {
   "cell_type": "code",
   "execution_count": 46,
   "id": "c75ddc9d",
   "metadata": {},
   "outputs": [],
   "source": [
    "# Basic Model\n",
    "basic = 'lwage ~ sex + exp1 + shs + hsg+ scl + clg + mw + so + we + occ2+ ind2'\n",
    "basic_results = smf.ols(basic , data=data).fit()\n",
    "\n",
    "\n",
    "# Flexible model \n",
    "flex = 'lwage ~ (exp1+exp2+exp3+exp4+shs+hsg+scl+clg+occ2+ind2+mw+so+we)**2'\n",
    "flex_results = smf.ols(flex , data=data).fit()"
   ]
  },
  {
   "cell_type": "markdown",
   "id": "561881be",
   "metadata": {},
   "source": [
    "- basic model"
   ]
  },
  {
   "cell_type": "code",
   "execution_count": 47,
   "id": "6ef59441",
   "metadata": {},
   "outputs": [
    {
     "name": "stdout",
     "output_type": "stream",
     "text": [
      "                            OLS Regression Results                            \n",
      "==============================================================================\n",
      "Dep. Variable:                  lwage   R-squared:                       0.301\n",
      "Model:                            OLS   Adj. R-squared:                  0.167\n",
      "Method:                 Least Squares   F-statistic:                     2.250\n",
      "Date:                Fri, 17 Sep 2021   Prob (F-statistic):           6.08e-05\n",
      "Time:                        15:49:29   Log-Likelihood:                -153.57\n",
      "No. Observations:                 275   AIC:                             397.1\n",
      "Df Residuals:                     230   BIC:                             559.9\n",
      "Df Model:                          44                                         \n",
      "Covariance Type:            nonrobust                                         \n",
      "==============================================================================\n",
      "                 coef    std err          t      P>|t|      [0.025      0.975]\n",
      "------------------------------------------------------------------------------\n",
      "Intercept      2.0293      0.140     14.464      0.000       1.753       2.306\n",
      "occ2[T.10]    -0.0489      0.312     -0.157      0.876      -0.663       0.565\n",
      "occ2[T.11]    -0.0588      0.290     -0.202      0.840      -0.631       0.513\n",
      "occ2[T.12]    -0.7177      0.263     -2.730      0.007      -1.236      -0.200\n",
      "occ2[T.13]    -0.4844      0.165     -2.941      0.004      -0.809      -0.160\n",
      "occ2[T.14]    -0.4909      0.164     -2.989      0.003      -0.815      -0.167\n",
      "occ2[T.15]    -0.4330      0.225     -1.926      0.055      -0.876       0.010\n",
      "occ2[T.16]    -0.3364      0.168     -2.007      0.046      -0.667      -0.006\n",
      "occ2[T.17]    -0.3660      0.139     -2.626      0.009      -0.641      -0.091\n",
      "occ2[T.18]  -1.42e-16   7.61e-16     -0.187      0.852   -1.64e-15    1.36e-15\n",
      "occ2[T.19]    -0.1627      0.157     -1.036      0.301      -0.472       0.147\n",
      "occ2[T.2]     -0.6051      0.275     -2.200      0.029      -1.147      -0.063\n",
      "occ2[T.20]    -0.1523      0.171     -0.892      0.373      -0.489       0.184\n",
      "occ2[T.21]    -0.2146      0.153     -1.404      0.162      -0.516       0.087\n",
      "occ2[T.22]    -0.4562      0.157     -2.905      0.004      -0.766      -0.147\n",
      "occ2[T.3]      0.4037      0.502      0.805      0.422      -0.585       1.392\n",
      "occ2[T.4]     -0.3239      0.359     -0.902      0.368      -1.032       0.384\n",
      "occ2[T.5]      0.2697      0.526      0.512      0.609      -0.768       1.307\n",
      "occ2[T.6]      0.4329      0.503      0.861      0.390      -0.557       1.423\n",
      "occ2[T.7]  -3.218e-16   4.18e-16     -0.770      0.442   -1.15e-15    5.02e-16\n",
      "occ2[T.8]     -0.5503      0.297     -1.853      0.065      -1.135       0.035\n",
      "occ2[T.9]     -0.2934      0.270     -1.088      0.278      -0.825       0.238\n",
      "ind2[T.11]     0.6182      0.284      2.177      0.031       0.059       1.178\n",
      "ind2[T.12]     0.3129      0.250      1.251      0.212      -0.180       0.806\n",
      "ind2[T.13]    -0.1768      0.312     -0.566      0.572      -0.792       0.439\n",
      "ind2[T.14]    -0.2744      0.285     -0.964      0.336      -0.835       0.286\n",
      "ind2[T.15]    -0.0479      0.546     -0.088      0.930      -1.124       1.029\n",
      "ind2[T.16]    -0.1093      0.194     -0.563      0.574      -0.491       0.273\n",
      "ind2[T.17]    -0.1872      0.265     -0.706      0.481      -0.709       0.335\n",
      "ind2[T.18]    -0.2043      0.203     -1.007      0.315      -0.604       0.195\n",
      "ind2[T.19]  3.009e-16   3.06e-16      0.984      0.326   -3.02e-16    9.04e-16\n",
      "ind2[T.2]     -0.2398      0.267     -0.897      0.370      -0.766       0.287\n",
      "ind2[T.20]    -0.2703      0.195     -1.387      0.167      -0.654       0.114\n",
      "ind2[T.21]    -0.1558      0.185     -0.844      0.400      -0.520       0.208\n",
      "ind2[T.22]     0.0591      0.227      0.260      0.795      -0.389       0.507\n",
      "ind2[T.3]      0.4642      0.373      1.244      0.215      -0.271       1.199\n",
      "ind2[T.4]     -0.1510      0.191     -0.790      0.430      -0.528       0.226\n",
      "ind2[T.5]     -0.2186      0.203     -1.078      0.282      -0.618       0.181\n",
      "ind2[T.6]     -0.1997      0.176     -1.136      0.257      -0.546       0.147\n",
      "ind2[T.7]      0.1087      0.251      0.433      0.666      -0.386       0.604\n",
      "ind2[T.8]     -0.1569      0.270     -0.581      0.562      -0.689       0.375\n",
      "ind2[T.9]     -0.0455      0.162     -0.280      0.780      -0.366       0.275\n",
      "sex           -0.1568      0.076     -2.055      0.041      -0.307      -0.006\n",
      "exp1           0.0078      0.003      2.537      0.012       0.002       0.014\n",
      "shs            0.9980      0.101      9.929      0.000       0.800       1.196\n",
      "hsg            1.0313      0.076     13.624      0.000       0.882       1.180\n",
      "scl                 0          0        nan        nan           0           0\n",
      "clg                 0          0        nan        nan           0           0\n",
      "mw            -0.0777      0.086     -0.901      0.368      -0.248       0.092\n",
      "so            -0.0909      0.083     -1.098      0.273      -0.254       0.072\n",
      "we             0.1325      0.090      1.477      0.141      -0.044       0.309\n",
      "==============================================================================\n",
      "Omnibus:                      146.266   Durbin-Watson:                   1.973\n",
      "Prob(Omnibus):                  0.000   Jarque-Bera (JB):             2034.372\n",
      "Skew:                           1.786   Prob(JB):                         0.00\n",
      "Kurtosis:                      15.837   Cond. No.                     5.11e+16\n",
      "==============================================================================\n",
      "\n",
      "Notes:\n",
      "[1] Standard Errors assume that the covariance matrix of the errors is correctly specified.\n",
      "[2] The smallest eigenvalue is 4.06e-29. This might indicate that there are\n",
      "strong multicollinearity problems or that the design matrix is singular.\n"
     ]
    }
   ],
   "source": [
    "# estimating the parameters in the training sample\n",
    "basic_results = smf.ols(basic , data=train).fit()\n",
    "print(basic_results.summary())"
   ]
  },
  {
   "cell_type": "code",
   "execution_count": 48,
   "id": "b7d3c6c8",
   "metadata": {},
   "outputs": [],
   "source": [
    "lwage_test = test[\"lwage\"].values\n",
    "#test = test.drop(columns=['wage', 'lwage', 'random'])\n",
    "#test"
   ]
  },
  {
   "cell_type": "code",
   "execution_count": 49,
   "id": "bae9ae5c",
   "metadata": {},
   "outputs": [
    {
     "name": "stdout",
     "output_type": "stream",
     "text": [
      "rownames\n",
      "6461     2.771974\n",
      "19084    2.718507\n",
      "9432     2.733841\n",
      "14106    2.651899\n",
      "23945    2.726331\n",
      "           ...   \n",
      "5201     2.336775\n",
      "9639     2.793093\n",
      "15695    2.575746\n",
      "3853     2.911139\n",
      "20067    2.230210\n",
      "Length: 1101, dtype: float64\n"
     ]
    }
   ],
   "source": [
    "# calculating the out-of-sample MSE\n",
    "test = sm.add_constant(test)   #add constant \n",
    "\n",
    "lwage_pred =  basic_results.predict(test) # predict out of sample\n",
    "print(lwage_pred)"
   ]
  },
  {
   "cell_type": "code",
   "execution_count": 50,
   "id": "25867779",
   "metadata": {},
   "outputs": [
    {
     "name": "stdout",
     "output_type": "stream",
     "text": [
      "Test MSE for the basic model:  0.24940994035591493  \n",
      "Test R2 for the basic model:  0.01620258082380932\n"
     ]
    }
   ],
   "source": [
    "MSE_test1 = np.sum((lwage_test-lwage_pred)**2)/len(lwage_test)\n",
    "R2_test1  = 1 - MSE_test1/np.var(lwage_test)\n",
    "\n",
    "print(\"Test MSE for the basic model: \", MSE_test1, \" \")\n",
    "print(\"Test R2 for the basic model: \", R2_test1)"
   ]
  },
  {
   "cell_type": "markdown",
   "id": "40d73f7a",
   "metadata": {},
   "source": [
    "In the basic model, the $MSE_{test}$ (0.24940994035591493) isn't quite closed to the $MSE_{sample}$ (0.180238)"
   ]
  },
  {
   "cell_type": "markdown",
   "id": "c5fed072",
   "metadata": {},
   "source": [
    "- Flexible model"
   ]
  },
  {
   "cell_type": "code",
   "execution_count": 51,
   "id": "4611163b",
   "metadata": {},
   "outputs": [
    {
     "name": "stdout",
     "output_type": "stream",
     "text": [
      "Test MSE for the flexible model:  126510.26715651712  \n",
      "Test R2 for the flexible model:  -499018.7028645425\n"
     ]
    }
   ],
   "source": [
    "# estimating the parameters in the training sample\n",
    "flex_results = smf.ols(flex , data=train).fit()\n",
    "\n",
    "# calculating the out-of-sample MSE\n",
    "lwage_flex_pred =  flex_results.predict(test) # predict out of sample\n",
    "lwage_test = test[\"lwage\"].values\n",
    "\n",
    "MSE_test2 = np.sum((lwage_test-lwage_flex_pred)**2)/len(lwage_test)\n",
    "R2_test2  = 1 - MSE_test2/np.var(lwage_test)\n",
    "\n",
    "print(\"Test MSE for the flexible model: \", MSE_test2, \" \")\n",
    "print(\"Test R2 for the flexible model: \", R2_test2)"
   ]
  },
  {
   "cell_type": "markdown",
   "id": "573e7c0c",
   "metadata": {},
   "source": [
    "In the flexible model, the discrepancy between the $MSE_{test}$ (126510.26) and the $MSE_{sample}$ (0.125) is very large."
   ]
  },
  {
   "cell_type": "markdown",
   "id": "e380ae39",
   "metadata": {},
   "source": [
    "It is worth to notice that the $MSE_{test}$ vary across different data splits. Hence, it is a good idea average the out-of-sample MSE over different data splits to get valid results.\n",
    "\n",
    "Nevertheless, we observe that, based on the out-of-sample $MSE$, the basic model using ols regression apparently performs much better than the flexible model.\n",
    "\n",
    "\n",
    "Next, let us use lasso regression in the flexible model instead of ols regression. Lasso (*least absolute shrinkage and selection operator*) is a penalized regression method that can be used to reduce the complexity of a regression model when the number of regressors $p$ is relatively large in relation to $n$. \n",
    "\n",
    "Note that the out-of-sample $MSE$ on the test sample can be computed for any other black-box prediction method as well. Thus, let us finally compare the performance of lasso regression in the flexible model to ols regression."
   ]
  },
  {
   "cell_type": "markdown",
   "id": "d02e54e4",
   "metadata": {},
   "source": [
    "- flexible model using lasso"
   ]
  },
  {
   "cell_type": "code",
   "execution_count": 53,
   "id": "9090742d",
   "metadata": {},
   "outputs": [
    {
     "name": "stdout",
     "output_type": "stream",
     "text": [
      "(275, 979)\n",
      "(275,)\n"
     ]
    }
   ],
   "source": [
    "# get exogenous variables from training data used in flex model\n",
    "flex_results_0 = smf.ols(flex , data=train)\n",
    "X_train = flex_results_0.exog\n",
    "print(X_train.shape)\n",
    "\n",
    "# Get endogenous variable \n",
    "lwage_train = train[\"lwage\"]\n",
    "print(lwage_train.shape)"
   ]
  },
  {
   "cell_type": "code",
   "execution_count": 54,
   "id": "6543236f",
   "metadata": {},
   "outputs": [
    {
     "name": "stdout",
     "output_type": "stream",
     "text": [
      "(1101, 979)\n",
      "(1101,)\n"
     ]
    }
   ],
   "source": [
    "# get exogenous variables from testing data used in flex model\n",
    "flex_results_1 = smf.ols(flex , data=test)\n",
    "X_test = flex_results_1.exog\n",
    "print(X_test.shape)\n",
    "\n",
    "# Get endogenous variable \n",
    "lwage_test = test[\"lwage\"]\n",
    "print(lwage_test.shape)"
   ]
  },
  {
   "cell_type": "code",
   "execution_count": 55,
   "id": "f183cd5b",
   "metadata": {},
   "outputs": [
    {
     "ename": "SyntaxError",
     "evalue": "invalid syntax (<ipython-input-55-381ed24ba79e>, line 1)",
     "output_type": "error",
     "traceback": [
      "\u001b[1;36m  File \u001b[1;32m\"<ipython-input-55-381ed24ba79e>\"\u001b[1;36m, line \u001b[1;32m1\u001b[0m\n\u001b[1;33m    Calculating the out-of-sample MSE\u001b[0m\n\u001b[1;37m                ^\u001b[0m\n\u001b[1;31mSyntaxError\u001b[0m\u001b[1;31m:\u001b[0m invalid syntax\n"
     ]
    }
   ],
   "source": [
    "Calculating the out-of-sample MSE"
   ]
  },
  {
   "cell_type": "code",
   "execution_count": 56,
   "id": "c5b56526",
   "metadata": {},
   "outputs": [
    {
     "name": "stdout",
     "output_type": "stream",
     "text": [
      "Test MSE for the flexible model:  0.25816421854508254  \n",
      "Test R2 for the flexible model:  -0.01832866631478991\n"
     ]
    },
    {
     "name": "stderr",
     "output_type": "stream",
     "text": [
      "D:\\C2021-2\\Anaconda\\lib\\site-packages\\sklearn\\linear_model\\_coordinate_descent.py:530: ConvergenceWarning: Objective did not converge. You might want to increase the number of iterations. Duality gap: 17.709440815796942, tolerance: 0.007036411079503609\n",
      "  model = cd_fast.enet_coordinate_descent(\n"
     ]
    }
   ],
   "source": [
    "#alpha=0.31\n",
    "\n",
    "reg = linear_model.Lasso(alpha=0.31)\n",
    "lwage_lasso_fitted = reg.fit(X_train, lwage_train).predict( X_test )\n",
    "\n",
    "MSE_lasso_1 = np.sum((lwage_test-lwage_lasso_fitted)**2)/len(lwage_test)\n",
    "R2_lasso_1 = 1 - MSE_lasso_1/np.var(lwage_test)\n",
    "\n",
    "print(\"Test MSE for the flexible model: \", MSE_lasso_1, \" \")\n",
    "print(\"Test R2 for the flexible model: \", R2_lasso_1)"
   ]
  },
  {
   "cell_type": "code",
   "execution_count": 57,
   "id": "07868c72",
   "metadata": {},
   "outputs": [
    {
     "data": {
      "text/html": [
       "<div>\n",
       "<style scoped>\n",
       "    .dataframe tbody tr th:only-of-type {\n",
       "        vertical-align: middle;\n",
       "    }\n",
       "\n",
       "    .dataframe tbody tr th {\n",
       "        vertical-align: top;\n",
       "    }\n",
       "\n",
       "    .dataframe thead th {\n",
       "        text-align: right;\n",
       "    }\n",
       "</style>\n",
       "<table border=\"1\" class=\"dataframe\">\n",
       "  <thead>\n",
       "    <tr style=\"text-align: right;\">\n",
       "      <th></th>\n",
       "      <th>$MSE_{test}$</th>\n",
       "      <th>$R^2_{test}$</th>\n",
       "    </tr>\n",
       "  </thead>\n",
       "  <tbody>\n",
       "    <tr>\n",
       "      <th>basic reg</th>\n",
       "      <td>0.249410</td>\n",
       "      <td>0.016203</td>\n",
       "    </tr>\n",
       "    <tr>\n",
       "      <th>flexible reg</th>\n",
       "      <td>126510.267157</td>\n",
       "      <td>-499018.702865</td>\n",
       "    </tr>\n",
       "    <tr>\n",
       "      <th>lasso regression</th>\n",
       "      <td>0.258164</td>\n",
       "      <td>-0.018329</td>\n",
       "    </tr>\n",
       "  </tbody>\n",
       "</table>\n",
       "</div>"
      ],
      "text/plain": [
       "                   $MSE_{test}$   $R^2_{test}$\n",
       "basic reg              0.249410       0.016203\n",
       "flexible reg      126510.267157 -499018.702865\n",
       "lasso regression       0.258164      -0.018329"
      ]
     },
     "execution_count": 57,
     "metadata": {},
     "output_type": "execute_result"
    }
   ],
   "source": [
    "# Package for latex table \n",
    "import array_to_latex as a2l\n",
    "\n",
    "table11 = np.zeros((3, 2))\n",
    "table11[0,0] = MSE_test1\n",
    "table11[1,0] = MSE_test2\n",
    "table11[2,0] = MSE_lasso_1\n",
    "table11[0,1] = R2_test1\n",
    "table11[1,1] = R2_test2\n",
    "table11[2,1] = R2_lasso_1\n",
    "\n",
    "table11 = pd.DataFrame(table11, columns = [\"$MSE_{test}$\", \"$R^2_{test}$\"], \\\n",
    "                      index = [\"basic reg\",\"flexible reg\",\"lasso regression\"])\n",
    "table11"
   ]
  },
  {
   "cell_type": "code",
   "execution_count": 58,
   "id": "36bf5567",
   "metadata": {},
   "outputs": [
    {
     "name": "stdout",
     "output_type": "stream",
     "text": [
      "Test MSE for the flexible model:  0.24966393799330208  \n",
      "Test R2 for the flexible model:  0.015200687235359611\n"
     ]
    },
    {
     "name": "stderr",
     "output_type": "stream",
     "text": [
      "D:\\C2021-2\\Anaconda\\lib\\site-packages\\sklearn\\linear_model\\_coordinate_descent.py:530: ConvergenceWarning: Objective did not converge. You might want to increase the number of iterations. Duality gap: 2.199263640974671, tolerance: 0.007036411079503609\n",
      "  model = cd_fast.enet_coordinate_descent(\n"
     ]
    }
   ],
   "source": [
    "#alpha=0.51\n",
    "\n",
    "reg = linear_model.Lasso(alpha=0.51)\n",
    "lwage_lasso_fitted = reg.fit(X_train, lwage_train).predict( X_test )\n",
    "\n",
    "MSE_lasso_2 = np.sum((lwage_test-lwage_lasso_fitted)**2)/len(lwage_test)\n",
    "R2_lasso_2 = 1 - MSE_lasso_2/np.var(lwage_test)\n",
    "\n",
    "print(\"Test MSE for the flexible model: \", MSE_lasso_2, \" \")\n",
    "print(\"Test R2 for the flexible model: \", R2_lasso_2)"
   ]
  },
  {
   "cell_type": "code",
   "execution_count": 59,
   "id": "4430de4e",
   "metadata": {},
   "outputs": [
    {
     "data": {
      "text/html": [
       "<div>\n",
       "<style scoped>\n",
       "    .dataframe tbody tr th:only-of-type {\n",
       "        vertical-align: middle;\n",
       "    }\n",
       "\n",
       "    .dataframe tbody tr th {\n",
       "        vertical-align: top;\n",
       "    }\n",
       "\n",
       "    .dataframe thead th {\n",
       "        text-align: right;\n",
       "    }\n",
       "</style>\n",
       "<table border=\"1\" class=\"dataframe\">\n",
       "  <thead>\n",
       "    <tr style=\"text-align: right;\">\n",
       "      <th></th>\n",
       "      <th>$MSE_{test}$</th>\n",
       "      <th>$R^2_{test}$</th>\n",
       "    </tr>\n",
       "  </thead>\n",
       "  <tbody>\n",
       "    <tr>\n",
       "      <th>basic reg</th>\n",
       "      <td>0.249410</td>\n",
       "      <td>0.016203</td>\n",
       "    </tr>\n",
       "    <tr>\n",
       "      <th>flexible reg</th>\n",
       "      <td>126510.267157</td>\n",
       "      <td>-499018.702865</td>\n",
       "    </tr>\n",
       "    <tr>\n",
       "      <th>lasso regression</th>\n",
       "      <td>0.249664</td>\n",
       "      <td>0.015201</td>\n",
       "    </tr>\n",
       "  </tbody>\n",
       "</table>\n",
       "</div>"
      ],
      "text/plain": [
       "                   $MSE_{test}$   $R^2_{test}$\n",
       "basic reg              0.249410       0.016203\n",
       "flexible reg      126510.267157 -499018.702865\n",
       "lasso regression       0.249664       0.015201"
      ]
     },
     "execution_count": 59,
     "metadata": {},
     "output_type": "execute_result"
    }
   ],
   "source": [
    "# Package for latex table \n",
    "import array_to_latex as a2l\n",
    "\n",
    "table12 = np.zeros((3, 2))\n",
    "table12[0,0] = MSE_test1\n",
    "table12[1,0] = MSE_test2\n",
    "table12[2,0] = MSE_lasso_2\n",
    "table12[0,1] = R2_test1\n",
    "table12[1,1] = R2_test2\n",
    "table12[2,1] = R2_lasso_2\n",
    "\n",
    "table12 = pd.DataFrame(table12, columns = [\"$MSE_{test}$\", \"$R^2_{test}$\"], \\\n",
    "                      index = [\"basic reg\",\"flexible reg\",\"lasso regression\"])\n",
    "table12"
   ]
  },
  {
   "cell_type": "code",
   "execution_count": 60,
   "id": "7612ef0a",
   "metadata": {},
   "outputs": [
    {
     "name": "stdout",
     "output_type": "stream",
     "text": [
      "Test MSE for the flexible model:  0.24672277910294635  \n",
      "Test R2 for the flexible model:  0.026802087410468745\n"
     ]
    }
   ],
   "source": [
    "#alpha=0.87\n",
    "\n",
    "reg = linear_model.Lasso(alpha=0.87)\n",
    "lwage_lasso_fitted = reg.fit(X_train, lwage_train).predict( X_test )\n",
    "\n",
    "MSE_lasso_3 = np.sum((lwage_test-lwage_lasso_fitted)**2)/len(lwage_test)\n",
    "R2_lasso_3 = 1 - MSE_lasso_3/np.var(lwage_test)\n",
    "\n",
    "print(\"Test MSE for the flexible model: \", MSE_lasso_3, \" \")\n",
    "print(\"Test R2 for the flexible model: \", R2_lasso_3)"
   ]
  },
  {
   "cell_type": "code",
   "execution_count": 61,
   "id": "e9248a72",
   "metadata": {},
   "outputs": [
    {
     "data": {
      "text/html": [
       "<div>\n",
       "<style scoped>\n",
       "    .dataframe tbody tr th:only-of-type {\n",
       "        vertical-align: middle;\n",
       "    }\n",
       "\n",
       "    .dataframe tbody tr th {\n",
       "        vertical-align: top;\n",
       "    }\n",
       "\n",
       "    .dataframe thead th {\n",
       "        text-align: right;\n",
       "    }\n",
       "</style>\n",
       "<table border=\"1\" class=\"dataframe\">\n",
       "  <thead>\n",
       "    <tr style=\"text-align: right;\">\n",
       "      <th></th>\n",
       "      <th>$MSE_{test}$</th>\n",
       "      <th>$R^2_{test}$</th>\n",
       "    </tr>\n",
       "  </thead>\n",
       "  <tbody>\n",
       "    <tr>\n",
       "      <th>basic reg</th>\n",
       "      <td>0.249410</td>\n",
       "      <td>0.016203</td>\n",
       "    </tr>\n",
       "    <tr>\n",
       "      <th>flexible reg</th>\n",
       "      <td>126510.267157</td>\n",
       "      <td>-499018.702865</td>\n",
       "    </tr>\n",
       "    <tr>\n",
       "      <th>lasso regression</th>\n",
       "      <td>0.246723</td>\n",
       "      <td>0.026802</td>\n",
       "    </tr>\n",
       "  </tbody>\n",
       "</table>\n",
       "</div>"
      ],
      "text/plain": [
       "                   $MSE_{test}$   $R^2_{test}$\n",
       "basic reg              0.249410       0.016203\n",
       "flexible reg      126510.267157 -499018.702865\n",
       "lasso regression       0.246723       0.026802"
      ]
     },
     "execution_count": 61,
     "metadata": {},
     "output_type": "execute_result"
    }
   ],
   "source": [
    "# Package for latex table \n",
    "import array_to_latex as a2l\n",
    "\n",
    "table13 = np.zeros((3, 2))\n",
    "table13[0,0] = MSE_test1\n",
    "table13[1,0] = MSE_test2\n",
    "table13[2,0] = MSE_lasso_3\n",
    "table13[0,1] = R2_test1\n",
    "table13[1,1] = R2_test2\n",
    "table13[2,1] = R2_lasso_3\n",
    "\n",
    "table13 = pd.DataFrame(table13, columns = [\"$MSE_{test}$\", \"$R^2_{test}$\"], \\\n",
    "                      index = [\"basic reg\",\"flexible reg\",\"lasso regression\"])\n",
    "table13"
   ]
  },
  {
   "cell_type": "markdown",
   "id": "4b415b5f",
   "metadata": {},
   "source": [
    "Considering the 50% (training) and (50%) test partition, it can be seen that the best model (slightly) is the flexible one. "
   ]
  },
  {
   "cell_type": "markdown",
   "id": "4d876f61",
   "metadata": {},
   "source": [
    "### CASE 2: 80% - 20%"
   ]
  },
  {
   "cell_type": "code",
   "execution_count": 62,
   "id": "78980130",
   "metadata": {},
   "outputs": [
    {
     "name": "stdout",
     "output_type": "stream",
     "text": [
      "(1100, 21)\n",
      "(276, 21)\n"
     ]
    }
   ],
   "source": [
    "# Create training and testing sample \n",
    "train = data_2[ : math.floor(n*4/5)]    # training sample\n",
    "test =  data_2[ math.floor(n*4/5) : ]   # testing sample\n",
    "print(train.shape)\n",
    "print(test.shape)"
   ]
  },
  {
   "cell_type": "code",
   "execution_count": 63,
   "id": "ca4ca1a0",
   "metadata": {},
   "outputs": [],
   "source": [
    "# Basic Model\n",
    "basic = 'lwage ~ sex + exp1 + shs + hsg+ scl + clg + mw + so + we + occ2+ ind2'\n",
    "basic_results = smf.ols(basic , data=data).fit()\n",
    "\n",
    "\n",
    "# Flexible model \n",
    "flex = 'lwage ~ (exp1+exp2+exp3+exp4+shs+hsg+scl+clg+occ2+ind2+mw+so+we)**2'\n",
    "flex_results = smf.ols(flex , data=data).fit()"
   ]
  },
  {
   "cell_type": "markdown",
   "id": "5dfb809a",
   "metadata": {},
   "source": [
    "- basic model"
   ]
  },
  {
   "cell_type": "code",
   "execution_count": 65,
   "id": "71ced422",
   "metadata": {},
   "outputs": [
    {
     "name": "stdout",
     "output_type": "stream",
     "text": [
      "                            OLS Regression Results                            \n",
      "==============================================================================\n",
      "Dep. Variable:                  lwage   R-squared:                       0.190\n",
      "Model:                            OLS   Adj. R-squared:                  0.154\n",
      "Method:                 Least Squares   F-statistic:                     5.265\n",
      "Date:                Fri, 17 Sep 2021   Prob (F-statistic):           2.13e-25\n",
      "Time:                        15:49:57   Log-Likelihood:                -711.67\n",
      "No. Observations:                1100   AIC:                             1519.\n",
      "Df Residuals:                    1052   BIC:                             1759.\n",
      "Df Model:                          47                                         \n",
      "Covariance Type:            nonrobust                                         \n",
      "==============================================================================\n",
      "                 coef    std err          t      P>|t|      [0.025      0.975]\n",
      "------------------------------------------------------------------------------\n",
      "Intercept      2.0547      0.071     28.859      0.000       1.915       2.194\n",
      "occ2[T.10]    -0.0413      0.137     -0.302      0.763      -0.310       0.227\n",
      "occ2[T.11]    -0.4882      0.127     -3.854      0.000      -0.737      -0.240\n",
      "occ2[T.12]    -0.4935      0.149     -3.302      0.001      -0.787      -0.200\n",
      "occ2[T.13]    -0.4890      0.090     -5.424      0.000      -0.666      -0.312\n",
      "occ2[T.14]    -0.6015      0.088     -6.857      0.000      -0.774      -0.429\n",
      "occ2[T.15]    -0.4594      0.112     -4.112      0.000      -0.679      -0.240\n",
      "occ2[T.16]    -0.3054      0.081     -3.765      0.000      -0.465      -0.146\n",
      "occ2[T.17]    -0.4155      0.071     -5.831      0.000      -0.555      -0.276\n",
      "occ2[T.18]    -0.4911      0.348     -1.413      0.158      -1.173       0.191\n",
      "occ2[T.19]    -0.1635      0.094     -1.734      0.083      -0.348       0.021\n",
      "occ2[T.2]     -0.3711      0.176     -2.105      0.036      -0.717      -0.025\n",
      "occ2[T.20]    -0.1332      0.087     -1.534      0.125      -0.303       0.037\n",
      "occ2[T.21]    -0.2550      0.079     -3.248      0.001      -0.409      -0.101\n",
      "occ2[T.22]    -0.4083      0.080     -5.115      0.000      -0.565      -0.252\n",
      "occ2[T.3]      0.0948      0.195      0.485      0.628      -0.289       0.478\n",
      "occ2[T.4]     -0.0715      0.165     -0.434      0.664      -0.395       0.252\n",
      "occ2[T.5]      0.1890      0.287      0.659      0.510      -0.374       0.752\n",
      "occ2[T.6]     -0.3575      0.227     -1.577      0.115      -0.802       0.087\n",
      "occ2[T.7]     -0.5013      0.283     -1.774      0.076      -1.056       0.053\n",
      "occ2[T.8]     -0.7408      0.173     -4.278      0.000      -1.080      -0.401\n",
      "occ2[T.9]     -0.4071      0.145     -2.817      0.005      -0.691      -0.124\n",
      "ind2[T.11]     0.2228      0.136      1.638      0.102      -0.044       0.490\n",
      "ind2[T.12]     0.0356      0.130      0.273      0.785      -0.220       0.291\n",
      "ind2[T.13]     0.0366      0.149      0.246      0.806      -0.256       0.329\n",
      "ind2[T.14]    -0.0100      0.118     -0.084      0.933      -0.242       0.222\n",
      "ind2[T.15]    -0.0408      0.328     -0.125      0.901      -0.684       0.602\n",
      "ind2[T.16]    -0.1998      0.100     -1.995      0.046      -0.396      -0.003\n",
      "ind2[T.17]     0.0380      0.129      0.295      0.768      -0.215       0.290\n",
      "ind2[T.18]    -0.1052      0.100     -1.054      0.292      -0.301       0.091\n",
      "ind2[T.19]    -0.3268      0.167     -1.958      0.050      -0.654       0.001\n",
      "ind2[T.2]     -0.2305      0.151     -1.529      0.126      -0.526       0.065\n",
      "ind2[T.20]    -0.2568      0.105     -2.437      0.015      -0.464      -0.050\n",
      "ind2[T.21]    -0.2755      0.104     -2.654      0.008      -0.479      -0.072\n",
      "ind2[T.22]     0.0981      0.117      0.839      0.402      -0.131       0.328\n",
      "ind2[T.3]     -0.0763      0.142     -0.539      0.590      -0.354       0.201\n",
      "ind2[T.4]     -0.1773      0.106     -1.673      0.095      -0.385       0.031\n",
      "ind2[T.5]     -0.1456      0.102     -1.426      0.154      -0.346       0.055\n",
      "ind2[T.6]     -0.1799      0.091     -1.974      0.049      -0.359      -0.001\n",
      "ind2[T.7]      0.0100      0.123      0.081      0.935      -0.232       0.252\n",
      "ind2[T.8]     -0.1194      0.142     -0.843      0.399      -0.397       0.158\n",
      "ind2[T.9]     -0.0929      0.085     -1.094      0.274      -0.259       0.074\n",
      "sex           -0.0708      0.036     -1.973      0.049      -0.141      -0.000\n",
      "exp1           0.0076      0.001      5.322      0.000       0.005       0.010\n",
      "shs            1.0138      0.048     20.931      0.000       0.919       1.109\n",
      "hsg            1.0410      0.039     26.838      0.000       0.965       1.117\n",
      "scl        -4.552e-18   1.96e-18     -2.326      0.020   -8.39e-18   -7.12e-19\n",
      "clg         1.526e-33   4.02e-34      3.796      0.000    7.37e-34    2.32e-33\n",
      "mw            -0.0105      0.041     -0.258      0.797      -0.091       0.070\n",
      "so            -0.1055      0.040     -2.606      0.009      -0.185      -0.026\n",
      "we             0.0563      0.045      1.259      0.208      -0.031       0.144\n",
      "==============================================================================\n",
      "Omnibus:                      247.972   Durbin-Watson:                   2.084\n",
      "Prob(Omnibus):                  0.000   Jarque-Bera (JB):             1600.069\n",
      "Skew:                           0.872   Prob(JB):                         0.00\n",
      "Kurtosis:                       8.645   Cond. No.                     1.17e+16\n",
      "==============================================================================\n",
      "\n",
      "Notes:\n",
      "[1] Standard Errors assume that the covariance matrix of the errors is correctly specified.\n",
      "[2] The smallest eigenvalue is 3.28e-27. This might indicate that there are\n",
      "strong multicollinearity problems or that the design matrix is singular.\n"
     ]
    }
   ],
   "source": [
    "# estimating the parameters in the training sample\n",
    "basic_results = smf.ols(basic , data=train).fit()\n",
    "print(basic_results.summary())"
   ]
  },
  {
   "cell_type": "code",
   "execution_count": 66,
   "id": "d4b1c0df",
   "metadata": {},
   "outputs": [],
   "source": [
    "lwage_test = test[\"lwage\"].values\n",
    "#test = test.drop(columns=['wage', 'lwage', 'random'])\n",
    "#test"
   ]
  },
  {
   "cell_type": "code",
   "execution_count": 67,
   "id": "4cf9d819",
   "metadata": {},
   "outputs": [
    {
     "name": "stdout",
     "output_type": "stream",
     "text": [
      "rownames\n",
      "30171    2.849302\n",
      "20062    2.635376\n",
      "26099    2.518647\n",
      "29638    2.849302\n",
      "24679    2.917170\n",
      "           ...   \n",
      "5201     2.528900\n",
      "9639     2.805803\n",
      "15695    2.242189\n",
      "3853     2.914903\n",
      "20067    2.408205\n",
      "Length: 276, dtype: float64\n"
     ]
    }
   ],
   "source": [
    "# calculating the out-of-sample MSE\n",
    "test = sm.add_constant(test)   #add constant \n",
    "\n",
    "lwage_pred =  basic_results.predict(test) # predict out of sample\n",
    "print(lwage_pred)"
   ]
  },
  {
   "cell_type": "code",
   "execution_count": 68,
   "id": "b31a32f8",
   "metadata": {},
   "outputs": [
    {
     "name": "stdout",
     "output_type": "stream",
     "text": [
      "Test MSE for the basic model:  0.1998710251148981  \n",
      "Test R2 for the basic model:  0.04156410192334259\n"
     ]
    }
   ],
   "source": [
    "MSE_test1 = np.sum((lwage_test-lwage_pred)**2)/len(lwage_test)\n",
    "R2_test1  = 1 - MSE_test1/np.var(lwage_test)\n",
    "\n",
    "print(\"Test MSE for the basic model: \", MSE_test1, \" \")\n",
    "print(\"Test R2 for the basic model: \", R2_test1)"
   ]
  },
  {
   "cell_type": "markdown",
   "id": "7430cb11",
   "metadata": {},
   "source": [
    "In the basic model, the $MSE_{test}$ (0.24940994035591493) isn't quite closed to the $MSE_{sample}$ (0.19987)"
   ]
  },
  {
   "cell_type": "markdown",
   "id": "2e841844",
   "metadata": {},
   "source": [
    "- Flexible model"
   ]
  },
  {
   "cell_type": "code",
   "execution_count": 70,
   "id": "37ea7a92",
   "metadata": {},
   "outputs": [
    {
     "name": "stdout",
     "output_type": "stream",
     "text": [
      "Test MSE for the flexible model:  21.54882931955914  \n",
      "Test R2 for the flexible model:  -102.33249438991751\n"
     ]
    }
   ],
   "source": [
    "# estimating the parameters in the training sample\n",
    "flex_results = smf.ols(flex , data=train).fit()\n",
    "\n",
    "# calculating the out-of-sample MSE\n",
    "lwage_flex_pred =  flex_results.predict(test) # predict out of sample\n",
    "lwage_test = test[\"lwage\"].values\n",
    "\n",
    "MSE_test2 = np.sum((lwage_test-lwage_flex_pred)**2)/len(lwage_test)\n",
    "R2_test2  = 1 - MSE_test2/np.var(lwage_test)\n",
    "\n",
    "print(\"Test MSE for the flexible model: \", MSE_test2, \" \")\n",
    "print(\"Test R2 for the flexible model: \", R2_test2)"
   ]
  },
  {
   "cell_type": "markdown",
   "id": "ffb3e363",
   "metadata": {},
   "source": [
    "In the flexible model, the discrepancy between the $MSE_{test}$ (126510.26) and the $MSE_{sample}$ (21.548829) is very large."
   ]
  },
  {
   "cell_type": "markdown",
   "id": "fca51ed6",
   "metadata": {},
   "source": [
    "It is worth to notice that the $MSE_{test}$ vary across different data splits. Hence, it is a good idea average the out-of-sample MSE over different data splits to get valid results.\n",
    "\n",
    "Nevertheless, we observe that, based on the out-of-sample $MSE$, the basic model using ols regression apparently performs much better than the flexible model.\n",
    "\n",
    "\n",
    "Next, let us use lasso regression in the flexible model instead of ols regression. Lasso (*least absolute shrinkage and selection operator*) is a penalized regression method that can be used to reduce the complexity of a regression model when the number of regressors $p$ is relatively large in relation to $n$. \n",
    "\n",
    "Note that the out-of-sample $MSE$ on the test sample can be computed for any other black-box prediction method as well. Thus, let us finally compare the performance of lasso regression in the flexible model to ols regression."
   ]
  },
  {
   "cell_type": "markdown",
   "id": "18e3c281",
   "metadata": {},
   "source": [
    "- flexible model using lasso"
   ]
  },
  {
   "cell_type": "code",
   "execution_count": 71,
   "id": "39d0d5c5",
   "metadata": {},
   "outputs": [
    {
     "name": "stdout",
     "output_type": "stream",
     "text": [
      "(1100, 979)\n",
      "(1100,)\n"
     ]
    }
   ],
   "source": [
    "# get exogenous variables from training data used in flex model\n",
    "flex_results_0 = smf.ols(flex , data=train)\n",
    "X_train = flex_results_0.exog\n",
    "print(X_train.shape)\n",
    "\n",
    "# Get endogenous variable \n",
    "lwage_train = train[\"lwage\"]\n",
    "print(lwage_train.shape)"
   ]
  },
  {
   "cell_type": "code",
   "execution_count": 72,
   "id": "6fd7be29",
   "metadata": {},
   "outputs": [
    {
     "name": "stdout",
     "output_type": "stream",
     "text": [
      "(276, 979)\n",
      "(276,)\n"
     ]
    }
   ],
   "source": [
    "# get exogenous variables from testing data used in flex model\n",
    "flex_results_1 = smf.ols(flex , data=test)\n",
    "X_test = flex_results_1.exog\n",
    "print(X_test.shape)\n",
    "\n",
    "# Get endogenous variable \n",
    "lwage_test = test[\"lwage\"]\n",
    "print(lwage_test.shape)"
   ]
  },
  {
   "cell_type": "markdown",
   "id": "fb8feae1",
   "metadata": {},
   "source": [
    "Calculating the out-of-sample MSE"
   ]
  },
  {
   "cell_type": "code",
   "execution_count": 75,
   "id": "f1744b25",
   "metadata": {},
   "outputs": [
    {
     "name": "stdout",
     "output_type": "stream",
     "text": [
      "Test MSE for the flexible model:  0.20226455264309567  \n",
      "Test R2 for the flexible model:  0.030086486772569976\n"
     ]
    },
    {
     "name": "stderr",
     "output_type": "stream",
     "text": [
      "D:\\C2021-2\\Anaconda\\lib\\site-packages\\sklearn\\linear_model\\_coordinate_descent.py:530: ConvergenceWarning: Objective did not converge. You might want to increase the number of iterations. Duality gap: 0.9366415487647828, tolerance: 0.02901477238439591\n",
      "  model = cd_fast.enet_coordinate_descent(\n"
     ]
    }
   ],
   "source": [
    "#alpha=0.31\n",
    "\n",
    "reg = linear_model.Lasso(alpha=0.31)\n",
    "lwage_lasso_fitted = reg.fit(X_train, lwage_train).predict( X_test )\n",
    "\n",
    "MSE_lasso_1 = np.sum((lwage_test-lwage_lasso_fitted)**2)/len(lwage_test)\n",
    "R2_lasso_1 = 1 - MSE_lasso_1/np.var(lwage_test)\n",
    "\n",
    "print(\"Test MSE for the flexible model: \", MSE_lasso_1, \" \")\n",
    "print(\"Test R2 for the flexible model: \", R2_lasso_1)"
   ]
  },
  {
   "cell_type": "code",
   "execution_count": 76,
   "id": "50219ae6",
   "metadata": {},
   "outputs": [
    {
     "data": {
      "text/html": [
       "<div>\n",
       "<style scoped>\n",
       "    .dataframe tbody tr th:only-of-type {\n",
       "        vertical-align: middle;\n",
       "    }\n",
       "\n",
       "    .dataframe tbody tr th {\n",
       "        vertical-align: top;\n",
       "    }\n",
       "\n",
       "    .dataframe thead th {\n",
       "        text-align: right;\n",
       "    }\n",
       "</style>\n",
       "<table border=\"1\" class=\"dataframe\">\n",
       "  <thead>\n",
       "    <tr style=\"text-align: right;\">\n",
       "      <th></th>\n",
       "      <th>$MSE_{test}$</th>\n",
       "      <th>$R^2_{test}$</th>\n",
       "    </tr>\n",
       "  </thead>\n",
       "  <tbody>\n",
       "    <tr>\n",
       "      <th>basic reg</th>\n",
       "      <td>0.199871</td>\n",
       "      <td>0.041564</td>\n",
       "    </tr>\n",
       "    <tr>\n",
       "      <th>flexible reg</th>\n",
       "      <td>21.548829</td>\n",
       "      <td>-102.332494</td>\n",
       "    </tr>\n",
       "    <tr>\n",
       "      <th>lasso regression</th>\n",
       "      <td>0.202265</td>\n",
       "      <td>0.030086</td>\n",
       "    </tr>\n",
       "  </tbody>\n",
       "</table>\n",
       "</div>"
      ],
      "text/plain": [
       "                  $MSE_{test}$  $R^2_{test}$\n",
       "basic reg             0.199871      0.041564\n",
       "flexible reg         21.548829   -102.332494\n",
       "lasso regression      0.202265      0.030086"
      ]
     },
     "execution_count": 76,
     "metadata": {},
     "output_type": "execute_result"
    }
   ],
   "source": [
    "# Package for latex table \n",
    "import array_to_latex as a2l\n",
    "\n",
    "table11 = np.zeros((3, 2))\n",
    "table11[0,0] = MSE_test1\n",
    "table11[1,0] = MSE_test2\n",
    "table11[2,0] = MSE_lasso_1\n",
    "table11[0,1] = R2_test1\n",
    "table11[1,1] = R2_test2\n",
    "table11[2,1] = R2_lasso_1\n",
    "\n",
    "table11 = pd.DataFrame(table11, columns = [\"$MSE_{test}$\", \"$R^2_{test}$\"], \\\n",
    "                      index = [\"basic reg\",\"flexible reg\",\"lasso regression\"])\n",
    "table11"
   ]
  },
  {
   "cell_type": "code",
   "execution_count": 77,
   "id": "a42c9f3e",
   "metadata": {},
   "outputs": [
    {
     "name": "stdout",
     "output_type": "stream",
     "text": [
      "Test MSE for the flexible model:  0.2034417261560974  \n",
      "Test R2 for the flexible model:  0.024441619776579437\n"
     ]
    }
   ],
   "source": [
    "#alpha=0.51\n",
    "\n",
    "reg = linear_model.Lasso(alpha=0.51)\n",
    "lwage_lasso_fitted = reg.fit(X_train, lwage_train).predict( X_test )\n",
    "\n",
    "MSE_lasso_2 = np.sum((lwage_test-lwage_lasso_fitted)**2)/len(lwage_test)\n",
    "R2_lasso_2 = 1 - MSE_lasso_2/np.var(lwage_test)\n",
    "\n",
    "print(\"Test MSE for the flexible model: \", MSE_lasso_2, \" \")\n",
    "print(\"Test R2 for the flexible model: \", R2_lasso_2)"
   ]
  },
  {
   "cell_type": "code",
   "execution_count": 78,
   "id": "bfb40588",
   "metadata": {},
   "outputs": [
    {
     "data": {
      "text/html": [
       "<div>\n",
       "<style scoped>\n",
       "    .dataframe tbody tr th:only-of-type {\n",
       "        vertical-align: middle;\n",
       "    }\n",
       "\n",
       "    .dataframe tbody tr th {\n",
       "        vertical-align: top;\n",
       "    }\n",
       "\n",
       "    .dataframe thead th {\n",
       "        text-align: right;\n",
       "    }\n",
       "</style>\n",
       "<table border=\"1\" class=\"dataframe\">\n",
       "  <thead>\n",
       "    <tr style=\"text-align: right;\">\n",
       "      <th></th>\n",
       "      <th>$MSE_{test}$</th>\n",
       "      <th>$R^2_{test}$</th>\n",
       "    </tr>\n",
       "  </thead>\n",
       "  <tbody>\n",
       "    <tr>\n",
       "      <th>basic reg</th>\n",
       "      <td>0.199871</td>\n",
       "      <td>0.041564</td>\n",
       "    </tr>\n",
       "    <tr>\n",
       "      <th>flexible reg</th>\n",
       "      <td>21.548829</td>\n",
       "      <td>-102.332494</td>\n",
       "    </tr>\n",
       "    <tr>\n",
       "      <th>lasso regression</th>\n",
       "      <td>0.203442</td>\n",
       "      <td>0.024442</td>\n",
       "    </tr>\n",
       "  </tbody>\n",
       "</table>\n",
       "</div>"
      ],
      "text/plain": [
       "                  $MSE_{test}$  $R^2_{test}$\n",
       "basic reg             0.199871      0.041564\n",
       "flexible reg         21.548829   -102.332494\n",
       "lasso regression      0.203442      0.024442"
      ]
     },
     "execution_count": 78,
     "metadata": {},
     "output_type": "execute_result"
    }
   ],
   "source": [
    "# Package for latex table \n",
    "import array_to_latex as a2l\n",
    "\n",
    "table12 = np.zeros((3, 2))\n",
    "table12[0,0] = MSE_test1\n",
    "table12[1,0] = MSE_test2\n",
    "table12[2,0] = MSE_lasso_2\n",
    "table12[0,1] = R2_test1\n",
    "table12[1,1] = R2_test2\n",
    "table12[2,1] = R2_lasso_2\n",
    "\n",
    "table12 = pd.DataFrame(table12, columns = [\"$MSE_{test}$\", \"$R^2_{test}$\"], \\\n",
    "                      index = [\"basic reg\",\"flexible reg\",\"lasso regression\"])\n",
    "table12"
   ]
  },
  {
   "cell_type": "code",
   "execution_count": 79,
   "id": "01dff30f",
   "metadata": {},
   "outputs": [
    {
     "name": "stdout",
     "output_type": "stream",
     "text": [
      "Test MSE for the flexible model:  0.20790372485024064  \n",
      "Test R2 for the flexible model:  0.003045123094883695\n"
     ]
    }
   ],
   "source": [
    "#alpha=0.87\n",
    "\n",
    "reg = linear_model.Lasso(alpha=0.87)\n",
    "lwage_lasso_fitted = reg.fit(X_train, lwage_train).predict( X_test )\n",
    "\n",
    "MSE_lasso_3 = np.sum((lwage_test-lwage_lasso_fitted)**2)/len(lwage_test)\n",
    "R2_lasso_3 = 1 - MSE_lasso_3/np.var(lwage_test)\n",
    "\n",
    "print(\"Test MSE for the flexible model: \", MSE_lasso_3, \" \")\n",
    "print(\"Test R2 for the flexible model: \", R2_lasso_3)"
   ]
  },
  {
   "cell_type": "code",
   "execution_count": 80,
   "id": "2366d925",
   "metadata": {},
   "outputs": [
    {
     "data": {
      "text/html": [
       "<div>\n",
       "<style scoped>\n",
       "    .dataframe tbody tr th:only-of-type {\n",
       "        vertical-align: middle;\n",
       "    }\n",
       "\n",
       "    .dataframe tbody tr th {\n",
       "        vertical-align: top;\n",
       "    }\n",
       "\n",
       "    .dataframe thead th {\n",
       "        text-align: right;\n",
       "    }\n",
       "</style>\n",
       "<table border=\"1\" class=\"dataframe\">\n",
       "  <thead>\n",
       "    <tr style=\"text-align: right;\">\n",
       "      <th></th>\n",
       "      <th>$MSE_{test}$</th>\n",
       "      <th>$R^2_{test}$</th>\n",
       "    </tr>\n",
       "  </thead>\n",
       "  <tbody>\n",
       "    <tr>\n",
       "      <th>basic reg</th>\n",
       "      <td>0.199871</td>\n",
       "      <td>0.041564</td>\n",
       "    </tr>\n",
       "    <tr>\n",
       "      <th>flexible reg</th>\n",
       "      <td>21.548829</td>\n",
       "      <td>-102.332494</td>\n",
       "    </tr>\n",
       "    <tr>\n",
       "      <th>lasso regression</th>\n",
       "      <td>0.207904</td>\n",
       "      <td>0.003045</td>\n",
       "    </tr>\n",
       "  </tbody>\n",
       "</table>\n",
       "</div>"
      ],
      "text/plain": [
       "                  $MSE_{test}$  $R^2_{test}$\n",
       "basic reg             0.199871      0.041564\n",
       "flexible reg         21.548829   -102.332494\n",
       "lasso regression      0.207904      0.003045"
      ]
     },
     "execution_count": 80,
     "metadata": {},
     "output_type": "execute_result"
    }
   ],
   "source": [
    "# Package for latex table \n",
    "import array_to_latex as a2l\n",
    "\n",
    "table13 = np.zeros((3, 2))\n",
    "table13[0,0] = MSE_test1\n",
    "table13[1,0] = MSE_test2\n",
    "table13[2,0] = MSE_lasso_3\n",
    "table13[0,1] = R2_test1\n",
    "table13[1,1] = R2_test2\n",
    "table13[2,1] = R2_lasso_3\n",
    "\n",
    "table13 = pd.DataFrame(table13, columns = [\"$MSE_{test}$\", \"$R^2_{test}$\"], \\\n",
    "                      index = [\"basic reg\",\"flexible reg\",\"lasso regression\"])\n",
    "table13"
   ]
  },
  {
   "cell_type": "markdown",
   "id": "6f0f9b36",
   "metadata": {},
   "source": [
    "Considering the 80% (training) and (20%) test partition, it can be seen that the best model for salary data is  the basic model."
   ]
  },
  {
   "cell_type": "markdown",
   "id": "ab0ca250",
   "metadata": {},
   "source": [
    "## Question 3\n",
    "\n",
    "In addition, do two cases of Partialling-Out using lasso. Remember that we want to find the beta associated with sex.\n",
    "Y = log(wage), D = sex\n",
    "- Case 1: Partialling-Out using lasso 1 : Matrix W = 'exp1 + shs + hsg+ scl + clg + mw + so + we + occ2+ ind2'\n",
    "- Case 2: Partialling-Out using lasso 2 : Matrix W = (exp1+exp2+exp3+exp4+shs+hsg+scl+clg+occ2+ind2+mw+so+we)**2'"
   ]
  },
  {
   "cell_type": "markdown",
   "id": "d73a550e",
   "metadata": {},
   "source": [
    "We are going to run a regression of $Y$ on $(D,W)$ to control for the effect of covariates summarized in $W$:\n",
    "\n",
    "\\begin{align}\n",
    "\\log(Y) &=\\beta_1 D  + \\beta_2' W + \\epsilon.\n",
    "\\end{align}\n",
    " \n",
    "Here, we assume that the dimension of $W$ is relatively high, so we need to use variable selection or penalization for regularization purposes. We are considering the partialling-out model using Lasso. Hence, $W$ controls for experience, education, region, and occupation and industry indicators plus transformations and two-way interactions."
   ]
  },
  {
   "cell_type": "code",
   "execution_count": 1194,
   "id": "af4e3f15",
   "metadata": {},
   "outputs": [],
   "source": [
    "from sklearn import linear_model\n",
    "import math"
   ]
  },
  {
   "cell_type": "markdown",
   "id": "df2ed231",
   "metadata": {},
   "source": [
    "- Case 1: \n",
    "       \n",
    "$$ W = exp1 + shs + hsg+ scl + clg + mw + so + we + occ2+ ind2 $$"
   ]
  },
  {
   "cell_type": "code",
   "execution_count": 1242,
   "id": "40a2a0d9",
   "metadata": {},
   "outputs": [],
   "source": [
    "flex_y = 'lwage ~ (exp1 + shs + hsg+ scl + clg + mw + so + we + occ2+ ind2)'\n",
    "flex_d = 'sex ~ (exp1 + shs + hsg+ scl + clg + mw + so + we + occ2+ ind2)'"
   ]
  },
  {
   "cell_type": "code",
   "execution_count": 1243,
   "id": "3229935a",
   "metadata": {},
   "outputs": [],
   "source": [
    "# flex_y\n",
    "\n",
    "lasso_model = linear_model.Lasso( alpha = 0.1 )\n",
    "\n",
    "flex_y_covariables = smf.ols(formula = flex_y, data = data)\n",
    "Y_lasso_fitted = lasso_model.fit( flex_y_covariables.exog, data[[ 'lwage' ]] ).predict( flex_y_covariables.exog )\n",
    "t_Y = data[[ 'lwage' ]] - Y_lasso_fitted.reshape( Y_lasso_fitted.size, 1)"
   ]
  },
  {
   "cell_type": "code",
   "execution_count": 1244,
   "id": "ac03fd66",
   "metadata": {},
   "outputs": [],
   "source": [
    "# extraflex_d\n",
    "\n",
    "flex_d_covariables = smf.ols( flex_d, data=data)\n",
    "D_lasso_fitted = lasso_model.fit( flex_d_covariables.exog, data[[ 'sex' ]] ).predict( flex_d_covariables.exog )\n",
    "t_D = data[[ 'sex' ]] - D_lasso_fitted.reshape( D_lasso_fitted.size, 1)\n",
    "\n",
    "data_res = pd.DataFrame( np.hstack(( t_Y , t_D )) , columns = [ 't_Y', 't_D' ] )"
   ]
  },
  {
   "cell_type": "code",
   "execution_count": 1245,
   "id": "4d0c6ca4",
   "metadata": {},
   "outputs": [
    {
     "name": "stdout",
     "output_type": "stream",
     "text": [
      "Coefficient for D via partialling-out using lasso -0.1230703162670709\n"
     ]
    }
   ],
   "source": [
    "# regression of Y on D after partialling-out the effect of W\n",
    "\n",
    "partial_lasso_fit = smf.ols( formula = 't_Y ~ t_D' , data = data_res ).fit()\n",
    "partial_lasso_est = partial_lasso_fit.summary2().tables[1]['Coef.']['t_D']\n",
    "\n",
    "print( f\"Coefficient for D via partialling-out using lasso {partial_lasso_est}\" )\n",
    "\n",
    "# standard error\n",
    "HCV_coefs = partial_lasso_fit.cov_HC0\n",
    "partial_lasso_se = np.power( HCV_coefs.diagonal() , 0.5)[1]"
   ]
  },
  {
   "cell_type": "markdown",
   "id": "9632af7e",
   "metadata": {},
   "source": [
    "The estimated regression coefficient $\\beta_1\\approx-0.1231$ measures how our lasso prediction of wage changes if we set the gender variable $D$ from 0 to 1, holding the controls $W$ fixed.\n",
    "We can call this the *predictive effect* (PE), as it measures the impact of a variable on the prediction we make. Overall, we see that wage gap is about $12.31$\\% after controlling for worker characteristics. "
   ]
  },
  {
   "cell_type": "markdown",
   "id": "15efb1be",
   "metadata": {},
   "source": [
    "### Summarize the results"
   ]
  },
  {
   "cell_type": "code",
   "execution_count": 1246,
   "id": "80b27f58",
   "metadata": {},
   "outputs": [
    {
     "data": {
      "text/html": [
       "<div>\n",
       "<style scoped>\n",
       "    .dataframe tbody tr th:only-of-type {\n",
       "        vertical-align: middle;\n",
       "    }\n",
       "\n",
       "    .dataframe tbody tr th {\n",
       "        vertical-align: top;\n",
       "    }\n",
       "\n",
       "    .dataframe thead th {\n",
       "        text-align: right;\n",
       "    }\n",
       "</style>\n",
       "<table border=\"1\" class=\"dataframe\">\n",
       "  <thead>\n",
       "    <tr style=\"text-align: right;\">\n",
       "      <th></th>\n",
       "      <th>Estimate</th>\n",
       "      <th>Std. Error</th>\n",
       "    </tr>\n",
       "  </thead>\n",
       "  <tbody>\n",
       "    <tr>\n",
       "      <th>partial reg via lasso</th>\n",
       "      <td>-0.12307</td>\n",
       "      <td>0.028018</td>\n",
       "    </tr>\n",
       "  </tbody>\n",
       "</table>\n",
       "</div>"
      ],
      "text/plain": [
       "                       Estimate  Std. Error\n",
       "partial reg via lasso  -0.12307    0.028018"
      ]
     },
     "execution_count": 1246,
     "metadata": {},
     "output_type": "execute_result"
    }
   ],
   "source": [
    "table3 = np.zeros( (1, 2) )\n",
    "\n",
    "table3[0,0] = partial_lasso_est  \n",
    "table3[0,1] = partial_lasso_se    \n",
    "\n",
    "table3_pandas = pd.DataFrame( table3, columns = [ \"Estimate\",\"Std. Error\" ])\n",
    "table3_pandas.index = [ \"partial reg via lasso\" ]\n",
    "table3_html = table3_pandas.to_html()\n",
    "table3_pandas"
   ]
  },
  {
   "cell_type": "markdown",
   "id": "5d58953f",
   "metadata": {},
   "source": [
    "### \"Extra\" flexible model"
   ]
  },
  {
   "cell_type": "code",
   "execution_count": 1247,
   "id": "e221435d",
   "metadata": {},
   "outputs": [
    {
     "name": "stdout",
     "output_type": "stream",
     "text": [
      "Number of Extra-Flex Controls 979 \n",
      "Coefficient for OLS with extra flex controls -0.08832946702423343\n"
     ]
    },
    {
     "data": {
      "text/plain": [
       "0.07144339566478773"
      ]
     },
     "execution_count": 1247,
     "metadata": {},
     "output_type": "execute_result"
    }
   ],
   "source": [
    "extraflex = 'lwage ~ sex + (exp1+exp2+exp3+exp4+shs+hsg+scl+clg+occ2+ind2+mw+so+we)**2'\n",
    "\n",
    "control_fit = smf.ols( formula = extraflex, data=data).fit()\n",
    "\n",
    "#summary( control_fit )\n",
    "control_est = control_fit.summary2().tables[1]['Coef.']['sex']\n",
    "\n",
    "print( f\"Number of Extra-Flex Controls {control_fit.summary2().tables[1].shape[0]-1} \\nCoefficient for OLS with extra flex controls {control_est}\" )\n",
    "\n",
    "# standard error\n",
    "HCV_coefs = control_fit.cov_HC0\n",
    "\n",
    "n= len(data[ 'wage' ])\n",
    "\n",
    "p = len(control_fit.summary2().tables[1]['Coef.'])\n",
    "\n",
    "control_se = control_fit.summary2().tables[1]['Std.Err.']['sex']*math.sqrt(n/(n-p))\n",
    "control_se"
   ]
  },
  {
   "cell_type": "code",
   "execution_count": 1248,
   "id": "0d259bf9",
   "metadata": {
    "scrolled": true
   },
   "outputs": [
    {
     "name": "stderr",
     "output_type": "stream",
     "text": [
      "C:\\Users\\sandr\\anaconda3\\envs\\renvi\\lib\\site-packages\\sklearn\\linear_model\\_coordinate_descent.py:532: ConvergenceWarning: Objective did not converge. You might want to increase the number of iterations. Duality gap: 66.32572320320287, tolerance: 0.0349503284207476\n",
      "  positive)\n"
     ]
    },
    {
     "name": "stdout",
     "output_type": "stream",
     "text": [
      "Coefficient for D via partialling-out using lasso -0.07998365514820807\n"
     ]
    },
    {
     "name": "stderr",
     "output_type": "stream",
     "text": [
      "C:\\Users\\sandr\\anaconda3\\envs\\renvi\\lib\\site-packages\\sklearn\\linear_model\\_coordinate_descent.py:532: ConvergenceWarning: Objective did not converge. You might want to increase the number of iterations. Duality gap: 15.958446229092544, tolerance: 0.030037718023255815\n",
      "  positive)\n"
     ]
    }
   ],
   "source": [
    "# models\n",
    "# model for Y\n",
    "extraflex_y = 'lwage ~  (exp1+exp2+exp3+exp4+shs+hsg+scl+clg+occ2+ind2+mw+so+we)**2'\n",
    "\n",
    "# model for \n",
    "extraflex_d = 'sex ~ (exp1+exp2+exp3+exp4+shs+hsg+scl+clg+occ2+ind2+mw+so+we)**2'\n",
    "\n",
    "# extraflex_y\n",
    "lasso_model = linear_model.Lasso( alpha = 0.1  )\n",
    "\n",
    "extraflex_y_covariables = smf.ols(formula = extraflex_y, data = data)\n",
    "\n",
    "Y_lasso_fitted = lasso_model.fit( extraflex_y_covariables.exog, data[[ 'lwage' ]] ).predict( extraflex_y_covariables.exog )\n",
    "\n",
    "t_Y = data[[ 'lwage' ]] - Y_lasso_fitted.reshape( Y_lasso_fitted.size, 1)\n",
    "\n",
    "# extraflex_d\n",
    "extraflex_d_covariables = smf.ols( extraflex_d, data=data)\n",
    "\n",
    "D_lasso_fitted = lasso_model.fit( extraflex_d_covariables.exog, data[[ 'sex' ]] ).predict( extraflex_d_covariables.exog )\n",
    "\n",
    "t_D = data[[ 'sex' ]] - D_lasso_fitted.reshape( D_lasso_fitted.size, 1)\n",
    "\n",
    "data_res = pd.DataFrame( np.hstack(( t_Y , t_D )) , columns = [ 't_Y', 't_D' ] )\n",
    "\n",
    "# regression of Y on D after partialling-out the effect of W\n",
    "partial_lasso_fit = smf.ols( formula = 't_Y ~ t_D' , data = data_res ).fit()\n",
    "partial_lasso_est = partial_lasso_fit.summary2().tables[1]['Coef.']['t_D']\n",
    "\n",
    "print( f\"Coefficient for D via partialling-out using lasso {partial_lasso_est}\" )\n",
    "\n",
    "# standard error\n",
    "HCV_coefs = partial_lasso_fit.cov_HC0\n",
    "partial_lasso_se = np.power( HCV_coefs.diagonal() , 0.5)[1]"
   ]
  },
  {
   "cell_type": "markdown",
   "id": "5e1154dd",
   "metadata": {},
   "source": [
    "### Summarize the results"
   ]
  },
  {
   "cell_type": "code",
   "execution_count": 1249,
   "id": "a10ed87b",
   "metadata": {
    "scrolled": true
   },
   "outputs": [
    {
     "data": {
      "text/html": [
       "<div>\n",
       "<style scoped>\n",
       "    .dataframe tbody tr th:only-of-type {\n",
       "        vertical-align: middle;\n",
       "    }\n",
       "\n",
       "    .dataframe tbody tr th {\n",
       "        vertical-align: top;\n",
       "    }\n",
       "\n",
       "    .dataframe thead th {\n",
       "        text-align: right;\n",
       "    }\n",
       "</style>\n",
       "<table border=\"1\" class=\"dataframe\">\n",
       "  <thead>\n",
       "    <tr style=\"text-align: right;\">\n",
       "      <th></th>\n",
       "      <th>Estimate</th>\n",
       "      <th>Std. Error</th>\n",
       "    </tr>\n",
       "  </thead>\n",
       "  <tbody>\n",
       "    <tr>\n",
       "      <th>full reg</th>\n",
       "      <td>-0.088329</td>\n",
       "      <td>0.071443</td>\n",
       "    </tr>\n",
       "    <tr>\n",
       "      <th>partial reg via lasso</th>\n",
       "      <td>-0.079984</td>\n",
       "      <td>0.030204</td>\n",
       "    </tr>\n",
       "  </tbody>\n",
       "</table>\n",
       "</div>"
      ],
      "text/plain": [
       "                       Estimate  Std. Error\n",
       "full reg              -0.088329    0.071443\n",
       "partial reg via lasso -0.079984    0.030204"
      ]
     },
     "execution_count": 1249,
     "metadata": {},
     "output_type": "execute_result"
    }
   ],
   "source": [
    "table4 = np.zeros( ( 2, 2 ) )\n",
    "\n",
    "table4[0,0] = control_est\n",
    "table4[0,1] = control_se    \n",
    "table4[1,0] =  partial_lasso_est\n",
    "table4[1,1] = partial_lasso_se \n",
    "\n",
    "table4_pandas = pd.DataFrame( table4, columns = [ \"Estimate\",\"Std. Error\" ])\n",
    "table4_pandas.index = [ \"full reg\",\"partial reg via lasso\" ]\n",
    "table4_pandas.round(8)"
   ]
  },
  {
   "cell_type": "markdown",
   "id": "24a8e05d",
   "metadata": {},
   "source": [
    "- Case 2: \n",
    "       \n",
    "$$ W = (exp1+exp2+exp3+exp4+shs+hsg+scl+clg+occ2+ind2+mw+so+we)**2 $$\n"
   ]
  },
  {
   "cell_type": "code",
   "execution_count": 1250,
   "id": "e08f1505",
   "metadata": {},
   "outputs": [],
   "source": [
    "flex_y_1 = 'lwage ~ (exp1+exp2+exp3+exp4+shs+hsg+scl+clg+occ2+ind2+mw+so+we)**2'\n",
    "flex_d_1 = 'sex ~ (exp1+exp2+exp3+exp4+shs+hsg+scl+clg+occ2+ind2+mw+so+we)**2'"
   ]
  },
  {
   "cell_type": "code",
   "execution_count": 1251,
   "id": "e87db329",
   "metadata": {},
   "outputs": [],
   "source": [
    "# flex_y\n",
    "\n",
    "lasso_model_1 = linear_model.Lasso( alpha = 0.5 )\n",
    "\n",
    "flex_y_covariables_1 = smf.ols(formula = flex_y_1, data = data)\n",
    "Y_lasso_fitted_1 = lasso_model_1.fit( flex_y_covariables_1.exog, data[[ 'lwage' ]] ).predict( flex_y_covariables_1.exog )\n",
    "t_Y_1 = data[[ 'lwage' ]] - Y_lasso_fitted_1.reshape( Y_lasso_fitted_1.size, 1)"
   ]
  },
  {
   "cell_type": "code",
   "execution_count": 1252,
   "id": "72ab3e61",
   "metadata": {},
   "outputs": [],
   "source": [
    "# extraflex_d\n",
    "\n",
    "flex_d_covariables_1 = smf.ols( flex_d_1, data=data)\n",
    "D_lasso_fitted_1 = lasso_model_1.fit( flex_d_covariables_1.exog, data[[ 'sex' ]] ).predict( flex_d_covariables_1.exog )\n",
    "t_D_1 = data[[ 'sex' ]] - D_lasso_fitted_1.reshape( D_lasso_fitted_1.size, 1)\n",
    "\n",
    "data_res_1 = pd.DataFrame( np.hstack(( t_Y_1 , t_D_1 )) , columns = [ 't_Y', 't_D' ] )"
   ]
  },
  {
   "cell_type": "code",
   "execution_count": 1253,
   "id": "ab146f67",
   "metadata": {},
   "outputs": [
    {
     "name": "stdout",
     "output_type": "stream",
     "text": [
      "Coefficient for D via partialling-out using lasso -0.07998365514820807\n"
     ]
    }
   ],
   "source": [
    "# regression of Y on D after partialling-out the effect of W\n",
    "\n",
    "partial_lasso_fit_1 = smf.ols( formula = 't_Y ~ t_D' , data = data_res_1 ).fit()\n",
    "partial_lasso_est_1 = partial_lasso_fit_1.summary2().tables[1]['Coef.']['t_D']\n",
    "\n",
    "print( f\"Coefficient for D via partialling-out using lasso {partial_lasso_est}\" )\n",
    "\n",
    "# standard error\n",
    "HCV_coefs_1 = partial_lasso_fit_1.cov_HC0\n",
    "partial_lasso_se_1 = np.power( HCV_coefs_1.diagonal() , 0.5)[1]"
   ]
  },
  {
   "cell_type": "markdown",
   "id": "1f7860c3",
   "metadata": {},
   "source": [
    "The estimated regression coefficient $\\beta_1\\approx-0.0799$ measures how our lasso prediction of wage changes if we set the gender variable $D$ from 0 to 1, holding the controls $W$ fixed.\n",
    "We can call this the *predictive effect* (PE), as it measures the impact of a variable on the prediction we make. Overall, we see that wage gap is about $8$\\% after controlling for worker characteristics."
   ]
  },
  {
   "cell_type": "markdown",
   "id": "5606ef03",
   "metadata": {},
   "source": [
    "### Summarize the results"
   ]
  },
  {
   "cell_type": "code",
   "execution_count": 1254,
   "id": "2b7ce267",
   "metadata": {},
   "outputs": [
    {
     "data": {
      "text/html": [
       "<div>\n",
       "<style scoped>\n",
       "    .dataframe tbody tr th:only-of-type {\n",
       "        vertical-align: middle;\n",
       "    }\n",
       "\n",
       "    .dataframe tbody tr th {\n",
       "        vertical-align: top;\n",
       "    }\n",
       "\n",
       "    .dataframe thead th {\n",
       "        text-align: right;\n",
       "    }\n",
       "</style>\n",
       "<table border=\"1\" class=\"dataframe\">\n",
       "  <thead>\n",
       "    <tr style=\"text-align: right;\">\n",
       "      <th></th>\n",
       "      <th>Estimate</th>\n",
       "      <th>Std. Error</th>\n",
       "    </tr>\n",
       "  </thead>\n",
       "  <tbody>\n",
       "    <tr>\n",
       "      <th>partial reg via lasso</th>\n",
       "      <td>-0.114063</td>\n",
       "      <td>0.028114</td>\n",
       "    </tr>\n",
       "  </tbody>\n",
       "</table>\n",
       "</div>"
      ],
      "text/plain": [
       "                       Estimate  Std. Error\n",
       "partial reg via lasso -0.114063    0.028114"
      ]
     },
     "execution_count": 1254,
     "metadata": {},
     "output_type": "execute_result"
    }
   ],
   "source": [
    "table5 = np.zeros( (1, 2) )\n",
    "\n",
    "table5[0,0] = partial_lasso_est_1  \n",
    "table5[0,1] = partial_lasso_se_1    \n",
    "\n",
    "table5_pandas = pd.DataFrame( table5, columns = [ \"Estimate\",\"Std. Error\" ])\n",
    "table5_pandas.index = [ \"partial reg via lasso\" ]\n",
    "table5_html = table3_pandas.to_html()\n",
    "table5_pandas"
   ]
  },
  {
   "cell_type": "markdown",
   "id": "1a87276a",
   "metadata": {},
   "source": [
    "### \"Extra\" flexible model"
   ]
  },
  {
   "cell_type": "code",
   "execution_count": 1255,
   "id": "69a15354",
   "metadata": {},
   "outputs": [
    {
     "name": "stdout",
     "output_type": "stream",
     "text": [
      "Number of Extra-Flex Controls 979 \n",
      "Coefficient for OLS with extra flex controls -0.08832946702423343\n"
     ]
    },
    {
     "data": {
      "text/plain": [
       "0.07144339566478773"
      ]
     },
     "execution_count": 1255,
     "metadata": {},
     "output_type": "execute_result"
    }
   ],
   "source": [
    "extraflex_1 = 'lwage ~ sex + (exp1+exp2+exp3+exp4+shs+hsg+scl+clg+occ2+ind2+mw+so+we)**2'\n",
    "\n",
    "control_fit_1 = smf.ols( formula = extraflex_1, data=data).fit()\n",
    "\n",
    "#summary( control_fit )\n",
    "control_est_1 = control_fit_1.summary2().tables[1]['Coef.']['sex']\n",
    "\n",
    "print( f\"Number of Extra-Flex Controls {control_fit_1.summary2().tables[1].shape[0]-1} \\nCoefficient for OLS with extra flex controls {control_est_1}\" )\n",
    "\n",
    "# standard error\n",
    "HCV_coefs_1 = control_fit_1.cov_HC0\n",
    "\n",
    "n_1 = len(data[ 'wage' ])\n",
    "\n",
    "p_1 = len(control_fit_1.summary2().tables[1]['Coef.'])\n",
    "\n",
    "control_se_1 = control_fit_1.summary2().tables[1]['Std.Err.']['sex']*math.sqrt(n/(n-p))\n",
    "control_se_1"
   ]
  },
  {
   "cell_type": "code",
   "execution_count": 1256,
   "id": "550a796f",
   "metadata": {},
   "outputs": [
    {
     "name": "stdout",
     "output_type": "stream",
     "text": [
      "Coefficient for D via partialling-out using lasso -0.07998365514820807\n"
     ]
    }
   ],
   "source": [
    "# models\n",
    "# model for Y\n",
    "extraflex_y_1 = 'lwage ~  (exp1+exp2+exp3+exp4+shs+hsg+scl+clg+occ2+ind2+mw+so+we)**2'\n",
    "\n",
    "# model for \n",
    "extraflex_d_1 = 'sex ~ (exp1+exp2+exp3+exp4+shs+hsg+scl+clg+occ2+ind2+mw+so+we)**2'\n",
    "\n",
    "# extraflex_y\n",
    "lasso_model_1 = linear_model.Lasso( alpha = 0.5  )\n",
    "\n",
    "extraflex_y_covariables_1 = smf.ols(formula = extraflex_y_1, data = data)\n",
    "\n",
    "Y_lasso_fitted_1 = lasso_model_1.fit( extraflex_y_covariables_1.exog, data[[ 'lwage' ]] ).predict( extraflex_y_covariables_1.exog )\n",
    "\n",
    "t_Y_1 = data[[ 'lwage' ]] - Y_lasso_fitted_1.reshape( Y_lasso_fitted_1.size, 1)\n",
    "\n",
    "# extraflex_d\n",
    "extraflex_d_covariables_1 = smf.ols( extraflex_d_1, data=data)\n",
    "\n",
    "D_lasso_fitted_1 = lasso_model_1.fit( extraflex_d_covariables_1.exog, data[[ 'sex' ]] ).predict( extraflex_d_covariables_1.exog )\n",
    "\n",
    "t_D_1 = data[[ 'sex' ]] - D_lasso_fitted_1.reshape( D_lasso_fitted_1.size, 1)\n",
    "\n",
    "data_res_1 = pd.DataFrame( np.hstack(( t_Y , t_D )) , columns = [ 't_Y', 't_D' ] )\n",
    "\n",
    "# regression of Y on D after partialling-out the effect of W\n",
    "partial_lasso_fit_1 = smf.ols( formula = 't_Y ~ t_D' , data = data_res ).fit()\n",
    "partial_lasso_est_1 = partial_lasso_fit_1.summary2().tables[1]['Coef.']['t_D']\n",
    "\n",
    "print( f\"Coefficient for D via partialling-out using lasso {partial_lasso_est_1}\" )\n",
    "\n",
    "# standard error\n",
    "HCV_coefs_1 = partial_lasso_fit_1.cov_HC0\n",
    "partial_lasso_se_1 = np.power( HCV_coefs_1.diagonal() , 0.5)[1]"
   ]
  },
  {
   "cell_type": "markdown",
   "id": "b2532ddd",
   "metadata": {},
   "source": [
    "### Summarize the results"
   ]
  },
  {
   "cell_type": "code",
   "execution_count": 1257,
   "id": "8abedcf1",
   "metadata": {},
   "outputs": [
    {
     "data": {
      "text/html": [
       "<div>\n",
       "<style scoped>\n",
       "    .dataframe tbody tr th:only-of-type {\n",
       "        vertical-align: middle;\n",
       "    }\n",
       "\n",
       "    .dataframe tbody tr th {\n",
       "        vertical-align: top;\n",
       "    }\n",
       "\n",
       "    .dataframe thead th {\n",
       "        text-align: right;\n",
       "    }\n",
       "</style>\n",
       "<table border=\"1\" class=\"dataframe\">\n",
       "  <thead>\n",
       "    <tr style=\"text-align: right;\">\n",
       "      <th></th>\n",
       "      <th>Estimate</th>\n",
       "      <th>Std. Error</th>\n",
       "    </tr>\n",
       "  </thead>\n",
       "  <tbody>\n",
       "    <tr>\n",
       "      <th>full reg</th>\n",
       "      <td>-0.088329</td>\n",
       "      <td>0.071443</td>\n",
       "    </tr>\n",
       "    <tr>\n",
       "      <th>partial reg via lasso</th>\n",
       "      <td>-0.079984</td>\n",
       "      <td>0.030204</td>\n",
       "    </tr>\n",
       "  </tbody>\n",
       "</table>\n",
       "</div>"
      ],
      "text/plain": [
       "                       Estimate  Std. Error\n",
       "full reg              -0.088329    0.071443\n",
       "partial reg via lasso -0.079984    0.030204"
      ]
     },
     "execution_count": 1257,
     "metadata": {},
     "output_type": "execute_result"
    }
   ],
   "source": [
    "table6 = np.zeros( ( 2, 2 ) )\n",
    "\n",
    "table6[0,0] = control_est_1\n",
    "table6[0,1] = control_se_1    \n",
    "table6[1,0] =  partial_lasso_est_1\n",
    "table6[1,1] = partial_lasso_se_1 \n",
    "\n",
    "table6_pandas = pd.DataFrame( table6, columns = [ \"Estimate\",\"Std. Error\" ])\n",
    "table6_pandas.index = [ \"full reg\",\"partial reg via lasso\" ]\n",
    "table6_pandas.round(8)"
   ]
  },
  {
   "cell_type": "code",
   "execution_count": null,
   "id": "d4a91e0b",
   "metadata": {},
   "outputs": [],
   "source": []
  }
 ],
 "metadata": {
  "kernelspec": {
   "display_name": "Python 3",
   "language": "python",
   "name": "python3"
  },
  "language_info": {
   "codemirror_mode": {
    "name": "ipython",
    "version": 3
   },
   "file_extension": ".py",
   "mimetype": "text/x-python",
   "name": "python",
   "nbconvert_exporter": "python",
   "pygments_lexer": "ipython3",
   "version": "3.7.1"
  }
 },
 "nbformat": 4,
 "nbformat_minor": 5
}
