{
 "cells": [
  {
   "cell_type": "markdown",
   "metadata": {},
   "source": [
    "* Python code replication of: \" https://www.kaggle.com/janniskueck/pm1-notebook1-prediction-newdata \"\n",
    "* Created by: Alexander Quispe"
   ]
  },
  {
   "cell_type": "markdown",
   "metadata": {},
   "source": [
    "This notebook contains an example for teaching."
   ]
  },
  {
   "cell_type": "markdown",
   "metadata": {},
   "source": [
    "# Introduction"
   ]
  },
  {
   "cell_type": "markdown",
   "metadata": {},
   "source": [
    "In labor economics an important question is what determines the wage of workers. This is a causal question, but we could begin to investigate from a predictive perspective.\n",
    "\n",
    "In the following wage example,  Y  is the hourly wage of a worker and  X  is a vector of worker's characteristics, e.g., education, experience, gender. Two main questions here are:\n",
    "\n",
    "* How to use job-relevant characteristics, such as education and experience, to best predict wages?\n",
    "\n",
    "* What is the difference in predicted wages between men and women with the same job-relevant characteristics?\n",
    "\n",
    "In this lab, we focus on the prediction question first."
   ]
  },
  {
   "cell_type": "markdown",
   "metadata": {},
   "source": [
    "# Data"
   ]
  },
  {
   "cell_type": "markdown",
   "metadata": {},
   "source": [
    "The data set we consider is from the March Supplement of the U.S. Current Population Survey, year 2015. We select white non-hispanic individuals, aged 25 to 64 years, and working more than 35 hours per week during at least 50 weeks of the year. We exclude self-employed workers; individuals living in group quarters; individuals in the military, agricultural or private household sectors; individuals with inconsistent reports on earnings and employment status; individuals with allocated or missing information in any of the variables used in the analysis; and individuals with hourly wage below  3 .\n",
    "\n",
    "The variable of interest  Y  is the hourly wage rate constructed as the ratio of the annual earnings to the total number of hours worked, which is constructed in turn as the product of number of weeks worked and the usual number of hours worked per week. In our analysis, we also focus on single (never married) workers. The final sample is of size  **n=5150** ."
   ]
  },
  {
   "cell_type": "markdown",
   "metadata": {},
   "source": [
    "# Data analysis\n"
   ]
  },
  {
   "cell_type": "markdown",
   "metadata": {},
   "source": [
    "We start by loading the data set."
   ]
  },
  {
   "cell_type": "code",
   "execution_count": 1,
   "metadata": {},
   "outputs": [],
   "source": [
    "# Import relevant packages\n",
    "import pandas as pd\n",
    "import numpy as np\n",
    "import pyreadr"
   ]
  },
  {
   "cell_type": "code",
   "execution_count": 2,
   "metadata": {},
   "outputs": [
    {
     "data": {
      "text/plain": [
       "(5150, 20)"
      ]
     },
     "execution_count": 2,
     "metadata": {},
     "output_type": "execute_result"
    }
   ],
   "source": [
    "rdata_read = pyreadr.read_r(\"../data/wage2015_subsample_inference.Rdata\")\n",
    "data = rdata_read[ 'data' ]\n",
    "type(data)\n",
    "data.shape"
   ]
  },
  {
   "cell_type": "markdown",
   "metadata": {},
   "source": [
    "Let's have a look at the structure of the data."
   ]
  },
  {
   "cell_type": "code",
   "execution_count": 3,
   "metadata": {},
   "outputs": [
    {
     "name": "stdout",
     "output_type": "stream",
     "text": [
      "<class 'pandas.core.frame.DataFrame'>\n",
      "Index: 5150 entries, 10 to 32643\n",
      "Data columns (total 20 columns):\n",
      " #   Column  Non-Null Count  Dtype   \n",
      "---  ------  --------------  -----   \n",
      " 0   wage    5150 non-null   float64 \n",
      " 1   lwage   5150 non-null   float64 \n",
      " 2   sex     5150 non-null   float64 \n",
      " 3   shs     5150 non-null   float64 \n",
      " 4   hsg     5150 non-null   float64 \n",
      " 5   scl     5150 non-null   float64 \n",
      " 6   clg     5150 non-null   float64 \n",
      " 7   ad      5150 non-null   float64 \n",
      " 8   mw      5150 non-null   float64 \n",
      " 9   so      5150 non-null   float64 \n",
      " 10  we      5150 non-null   float64 \n",
      " 11  ne      5150 non-null   float64 \n",
      " 12  exp1    5150 non-null   float64 \n",
      " 13  exp2    5150 non-null   float64 \n",
      " 14  exp3    5150 non-null   float64 \n",
      " 15  exp4    5150 non-null   float64 \n",
      " 16  occ     5150 non-null   category\n",
      " 17  occ2    5150 non-null   category\n",
      " 18  ind     5150 non-null   category\n",
      " 19  ind2    5150 non-null   category\n",
      "dtypes: category(4), float64(16)\n",
      "memory usage: 740.3+ KB\n"
     ]
    }
   ],
   "source": [
    "data.info()"
   ]
  },
  {
   "cell_type": "code",
   "execution_count": 4,
   "metadata": {},
   "outputs": [
    {
     "data": {
      "text/html": [
       "<div>\n",
       "<style scoped>\n",
       "    .dataframe tbody tr th:only-of-type {\n",
       "        vertical-align: middle;\n",
       "    }\n",
       "\n",
       "    .dataframe tbody tr th {\n",
       "        vertical-align: top;\n",
       "    }\n",
       "\n",
       "    .dataframe thead th {\n",
       "        text-align: right;\n",
       "    }\n",
       "</style>\n",
       "<table border=\"1\" class=\"dataframe\">\n",
       "  <thead>\n",
       "    <tr style=\"text-align: right;\">\n",
       "      <th></th>\n",
       "      <th>wage</th>\n",
       "      <th>lwage</th>\n",
       "      <th>sex</th>\n",
       "      <th>shs</th>\n",
       "      <th>hsg</th>\n",
       "      <th>scl</th>\n",
       "      <th>clg</th>\n",
       "      <th>ad</th>\n",
       "      <th>mw</th>\n",
       "      <th>so</th>\n",
       "      <th>we</th>\n",
       "      <th>ne</th>\n",
       "      <th>exp1</th>\n",
       "      <th>exp2</th>\n",
       "      <th>exp3</th>\n",
       "      <th>exp4</th>\n",
       "    </tr>\n",
       "  </thead>\n",
       "  <tbody>\n",
       "    <tr>\n",
       "      <th>count</th>\n",
       "      <td>5150.000000</td>\n",
       "      <td>5150.000000</td>\n",
       "      <td>5150.000000</td>\n",
       "      <td>5150.000000</td>\n",
       "      <td>5150.000000</td>\n",
       "      <td>5150.000000</td>\n",
       "      <td>5150.000000</td>\n",
       "      <td>5150.000000</td>\n",
       "      <td>5150.000000</td>\n",
       "      <td>5150.000000</td>\n",
       "      <td>5150.000000</td>\n",
       "      <td>5150.000000</td>\n",
       "      <td>5150.000000</td>\n",
       "      <td>5150.000000</td>\n",
       "      <td>5150.000000</td>\n",
       "      <td>5150.000000</td>\n",
       "    </tr>\n",
       "    <tr>\n",
       "      <th>mean</th>\n",
       "      <td>23.410410</td>\n",
       "      <td>2.970787</td>\n",
       "      <td>0.444466</td>\n",
       "      <td>0.023301</td>\n",
       "      <td>0.243883</td>\n",
       "      <td>0.278058</td>\n",
       "      <td>0.317670</td>\n",
       "      <td>0.137087</td>\n",
       "      <td>0.259612</td>\n",
       "      <td>0.296505</td>\n",
       "      <td>0.216117</td>\n",
       "      <td>0.227767</td>\n",
       "      <td>13.760583</td>\n",
       "      <td>3.018925</td>\n",
       "      <td>8.235867</td>\n",
       "      <td>25.118038</td>\n",
       "    </tr>\n",
       "    <tr>\n",
       "      <th>std</th>\n",
       "      <td>21.003016</td>\n",
       "      <td>0.570385</td>\n",
       "      <td>0.496955</td>\n",
       "      <td>0.150872</td>\n",
       "      <td>0.429465</td>\n",
       "      <td>0.448086</td>\n",
       "      <td>0.465616</td>\n",
       "      <td>0.343973</td>\n",
       "      <td>0.438464</td>\n",
       "      <td>0.456761</td>\n",
       "      <td>0.411635</td>\n",
       "      <td>0.419432</td>\n",
       "      <td>10.609465</td>\n",
       "      <td>4.000904</td>\n",
       "      <td>14.488962</td>\n",
       "      <td>53.530225</td>\n",
       "    </tr>\n",
       "    <tr>\n",
       "      <th>min</th>\n",
       "      <td>3.021978</td>\n",
       "      <td>1.105912</td>\n",
       "      <td>0.000000</td>\n",
       "      <td>0.000000</td>\n",
       "      <td>0.000000</td>\n",
       "      <td>0.000000</td>\n",
       "      <td>0.000000</td>\n",
       "      <td>0.000000</td>\n",
       "      <td>0.000000</td>\n",
       "      <td>0.000000</td>\n",
       "      <td>0.000000</td>\n",
       "      <td>0.000000</td>\n",
       "      <td>0.000000</td>\n",
       "      <td>0.000000</td>\n",
       "      <td>0.000000</td>\n",
       "      <td>0.000000</td>\n",
       "    </tr>\n",
       "    <tr>\n",
       "      <th>25%</th>\n",
       "      <td>13.461538</td>\n",
       "      <td>2.599837</td>\n",
       "      <td>0.000000</td>\n",
       "      <td>0.000000</td>\n",
       "      <td>0.000000</td>\n",
       "      <td>0.000000</td>\n",
       "      <td>0.000000</td>\n",
       "      <td>0.000000</td>\n",
       "      <td>0.000000</td>\n",
       "      <td>0.000000</td>\n",
       "      <td>0.000000</td>\n",
       "      <td>0.000000</td>\n",
       "      <td>5.000000</td>\n",
       "      <td>0.250000</td>\n",
       "      <td>0.125000</td>\n",
       "      <td>0.062500</td>\n",
       "    </tr>\n",
       "    <tr>\n",
       "      <th>50%</th>\n",
       "      <td>19.230769</td>\n",
       "      <td>2.956512</td>\n",
       "      <td>0.000000</td>\n",
       "      <td>0.000000</td>\n",
       "      <td>0.000000</td>\n",
       "      <td>0.000000</td>\n",
       "      <td>0.000000</td>\n",
       "      <td>0.000000</td>\n",
       "      <td>0.000000</td>\n",
       "      <td>0.000000</td>\n",
       "      <td>0.000000</td>\n",
       "      <td>0.000000</td>\n",
       "      <td>10.000000</td>\n",
       "      <td>1.000000</td>\n",
       "      <td>1.000000</td>\n",
       "      <td>1.000000</td>\n",
       "    </tr>\n",
       "    <tr>\n",
       "      <th>75%</th>\n",
       "      <td>27.777778</td>\n",
       "      <td>3.324236</td>\n",
       "      <td>1.000000</td>\n",
       "      <td>0.000000</td>\n",
       "      <td>0.000000</td>\n",
       "      <td>1.000000</td>\n",
       "      <td>1.000000</td>\n",
       "      <td>0.000000</td>\n",
       "      <td>1.000000</td>\n",
       "      <td>1.000000</td>\n",
       "      <td>0.000000</td>\n",
       "      <td>0.000000</td>\n",
       "      <td>21.000000</td>\n",
       "      <td>4.410000</td>\n",
       "      <td>9.261000</td>\n",
       "      <td>19.448100</td>\n",
       "    </tr>\n",
       "    <tr>\n",
       "      <th>max</th>\n",
       "      <td>528.845673</td>\n",
       "      <td>6.270697</td>\n",
       "      <td>1.000000</td>\n",
       "      <td>1.000000</td>\n",
       "      <td>1.000000</td>\n",
       "      <td>1.000000</td>\n",
       "      <td>1.000000</td>\n",
       "      <td>1.000000</td>\n",
       "      <td>1.000000</td>\n",
       "      <td>1.000000</td>\n",
       "      <td>1.000000</td>\n",
       "      <td>1.000000</td>\n",
       "      <td>47.000000</td>\n",
       "      <td>22.090000</td>\n",
       "      <td>103.823000</td>\n",
       "      <td>487.968100</td>\n",
       "    </tr>\n",
       "  </tbody>\n",
       "</table>\n",
       "</div>"
      ],
      "text/plain": [
       "              wage        lwage          sex          shs          hsg  \\\n",
       "count  5150.000000  5150.000000  5150.000000  5150.000000  5150.000000   \n",
       "mean     23.410410     2.970787     0.444466     0.023301     0.243883   \n",
       "std      21.003016     0.570385     0.496955     0.150872     0.429465   \n",
       "min       3.021978     1.105912     0.000000     0.000000     0.000000   \n",
       "25%      13.461538     2.599837     0.000000     0.000000     0.000000   \n",
       "50%      19.230769     2.956512     0.000000     0.000000     0.000000   \n",
       "75%      27.777778     3.324236     1.000000     0.000000     0.000000   \n",
       "max     528.845673     6.270697     1.000000     1.000000     1.000000   \n",
       "\n",
       "               scl          clg           ad           mw           so  \\\n",
       "count  5150.000000  5150.000000  5150.000000  5150.000000  5150.000000   \n",
       "mean      0.278058     0.317670     0.137087     0.259612     0.296505   \n",
       "std       0.448086     0.465616     0.343973     0.438464     0.456761   \n",
       "min       0.000000     0.000000     0.000000     0.000000     0.000000   \n",
       "25%       0.000000     0.000000     0.000000     0.000000     0.000000   \n",
       "50%       0.000000     0.000000     0.000000     0.000000     0.000000   \n",
       "75%       1.000000     1.000000     0.000000     1.000000     1.000000   \n",
       "max       1.000000     1.000000     1.000000     1.000000     1.000000   \n",
       "\n",
       "                we           ne         exp1         exp2         exp3  \\\n",
       "count  5150.000000  5150.000000  5150.000000  5150.000000  5150.000000   \n",
       "mean      0.216117     0.227767    13.760583     3.018925     8.235867   \n",
       "std       0.411635     0.419432    10.609465     4.000904    14.488962   \n",
       "min       0.000000     0.000000     0.000000     0.000000     0.000000   \n",
       "25%       0.000000     0.000000     5.000000     0.250000     0.125000   \n",
       "50%       0.000000     0.000000    10.000000     1.000000     1.000000   \n",
       "75%       0.000000     0.000000    21.000000     4.410000     9.261000   \n",
       "max       1.000000     1.000000    47.000000    22.090000   103.823000   \n",
       "\n",
       "              exp4  \n",
       "count  5150.000000  \n",
       "mean     25.118038  \n",
       "std      53.530225  \n",
       "min       0.000000  \n",
       "25%       0.062500  \n",
       "50%       1.000000  \n",
       "75%      19.448100  \n",
       "max     487.968100  "
      ]
     },
     "execution_count": 4,
     "metadata": {},
     "output_type": "execute_result"
    }
   ],
   "source": [
    "data.describe()"
   ]
  },
  {
   "cell_type": "markdown",
   "metadata": {},
   "source": [
    "### Cleaning data\n",
    "\n",
    "Focus on people who did not go to college. The variable `shs (Some High School)` and `hsg (High School Graduate)` help us to identify people that did not go to college."
   ]
  },
  {
   "cell_type": "code",
   "execution_count": 5,
   "metadata": {},
   "outputs": [],
   "source": [
    "df1 = data[ ( data.shs == 1 ) | ( data.hsg == 1 ) ].copy()"
   ]
  },
  {
   "cell_type": "markdown",
   "metadata": {},
   "source": [
    "We are constructing the output variable  **Y**  and the matrix  **Z**  which includes the characteristics of workers that are given in the data."
   ]
  },
  {
   "cell_type": "code",
   "execution_count": 6,
   "metadata": {},
   "outputs": [
    {
     "name": "stdout",
     "output_type": "stream",
     "text": [
      "Number of observation: 1376 \n",
      "\n",
      "Number of raw regressors: 18\n"
     ]
    }
   ],
   "source": [
    "Y = np.log2(df1['wage']) \n",
    "n = len(Y)\n",
    "z = df1.loc[:, ~df1.columns.isin(['wage', 'lwage','Unnamed: 0'])]\n",
    "p = z.shape[1]\n",
    "\n",
    "print(\"Number of observation:\", n, '\\n')\n",
    "print( \"Number of raw regressors:\", p)"
   ]
  },
  {
   "cell_type": "markdown",
   "metadata": {},
   "source": [
    "For the outcome variable *wage* and a subset of the raw regressors, we calculate the empirical mean to get familiar with the data."
   ]
  },
  {
   "cell_type": "code",
   "execution_count": 7,
   "metadata": {},
   "outputs": [
    {
     "data": {
      "text/plain": [
       "lwage     2.718562\n",
       "sex       0.321948\n",
       "shs       0.087209\n",
       "hsg       0.912791\n",
       "scl       0.000000\n",
       "clg       0.000000\n",
       "ad        0.000000\n",
       "mw        0.286337\n",
       "so        0.291424\n",
       "we        0.198401\n",
       "ne        0.223837\n",
       "exp1     17.190044\n",
       "dtype: float64"
      ]
     },
     "execution_count": 7,
     "metadata": {},
     "output_type": "execute_result"
    }
   ],
   "source": [
    "Z_subset = df1.loc[:, df1.columns.isin([\"lwage\",\"sex\",\"shs\",\"hsg\",\"scl\",\"clg\",\"ad\",\"mw\",\"so\",\"we\",\"ne\",\"exp1\"])]\n",
    "table = Z_subset.mean(axis=0)\n",
    "table"
   ]
  },
  {
   "cell_type": "code",
   "execution_count": 8,
   "metadata": {},
   "outputs": [],
   "source": [
    "table = pd.DataFrame(data=table, columns={\"Sample mean\":\"0\"} )\n",
    "table.index\n",
    "index1 = list(table.index)\n",
    "index2 = [\"Log Wage\",\"Sex\",\"Some High School\",\"High School Graduate\",\\\n",
    "          \"Some College\",\"College Graduate\", \"Advanced Degree\",\"Midwest\",\\\n",
    "          \"South\",\"West\",\"Northeast\",\"Experience\"]"
   ]
  },
  {
   "cell_type": "code",
   "execution_count": 9,
   "metadata": {},
   "outputs": [
    {
     "data": {
      "text/html": [
       "<div>\n",
       "<style scoped>\n",
       "    .dataframe tbody tr th:only-of-type {\n",
       "        vertical-align: middle;\n",
       "    }\n",
       "\n",
       "    .dataframe tbody tr th {\n",
       "        vertical-align: top;\n",
       "    }\n",
       "\n",
       "    .dataframe thead th {\n",
       "        text-align: right;\n",
       "    }\n",
       "</style>\n",
       "<table border=\"1\" class=\"dataframe\">\n",
       "  <thead>\n",
       "    <tr style=\"text-align: right;\">\n",
       "      <th></th>\n",
       "      <th>Sample mean</th>\n",
       "    </tr>\n",
       "  </thead>\n",
       "  <tbody>\n",
       "    <tr>\n",
       "      <th>Log Wage</th>\n",
       "      <td>2.718562</td>\n",
       "    </tr>\n",
       "    <tr>\n",
       "      <th>Sex</th>\n",
       "      <td>0.321948</td>\n",
       "    </tr>\n",
       "    <tr>\n",
       "      <th>Some High School</th>\n",
       "      <td>0.087209</td>\n",
       "    </tr>\n",
       "    <tr>\n",
       "      <th>High School Graduate</th>\n",
       "      <td>0.912791</td>\n",
       "    </tr>\n",
       "    <tr>\n",
       "      <th>Some College</th>\n",
       "      <td>0.000000</td>\n",
       "    </tr>\n",
       "    <tr>\n",
       "      <th>College Graduate</th>\n",
       "      <td>0.000000</td>\n",
       "    </tr>\n",
       "    <tr>\n",
       "      <th>Advanced Degree</th>\n",
       "      <td>0.000000</td>\n",
       "    </tr>\n",
       "    <tr>\n",
       "      <th>Midwest</th>\n",
       "      <td>0.286337</td>\n",
       "    </tr>\n",
       "    <tr>\n",
       "      <th>South</th>\n",
       "      <td>0.291424</td>\n",
       "    </tr>\n",
       "    <tr>\n",
       "      <th>West</th>\n",
       "      <td>0.198401</td>\n",
       "    </tr>\n",
       "    <tr>\n",
       "      <th>Northeast</th>\n",
       "      <td>0.223837</td>\n",
       "    </tr>\n",
       "    <tr>\n",
       "      <th>Experience</th>\n",
       "      <td>17.190044</td>\n",
       "    </tr>\n",
       "  </tbody>\n",
       "</table>\n",
       "</div>"
      ],
      "text/plain": [
       "                      Sample mean\n",
       "Log Wage                 2.718562\n",
       "Sex                      0.321948\n",
       "Some High School         0.087209\n",
       "High School Graduate     0.912791\n",
       "Some College             0.000000\n",
       "College Graduate         0.000000\n",
       "Advanced Degree          0.000000\n",
       "Midwest                  0.286337\n",
       "South                    0.291424\n",
       "West                     0.198401\n",
       "Northeast                0.223837\n",
       "Experience              17.190044"
      ]
     },
     "execution_count": 9,
     "metadata": {},
     "output_type": "execute_result"
    }
   ],
   "source": [
    "table = table.rename(index=dict(zip(index1,index2)))\n",
    "table"
   ]
  },
  {
   "cell_type": "markdown",
   "metadata": {},
   "source": [
    "E.g., the share of female workers in our sample is ~32% ($sex=1$ if female)."
   ]
  },
  {
   "cell_type": "markdown",
   "metadata": {},
   "source": [
    "Alternatively, we can also print the table as latex."
   ]
  },
  {
   "cell_type": "code",
   "execution_count": 12,
   "metadata": {
    "scrolled": true
   },
   "outputs": [
    {
     "name": "stdout",
     "output_type": "stream",
     "text": [
      "\\begin{tabular}{lr}\n",
      "\\toprule\n",
      "{} &  Sample mean \\\\\n",
      "\\midrule\n",
      "Log Wage             &     2.718562 \\\\\n",
      "Sex                  &     0.321948 \\\\\n",
      "Some High School     &     0.087209 \\\\\n",
      "High School Graduate &     0.912791 \\\\\n",
      "Some College         &     0.000000 \\\\\n",
      "College Graduate     &     0.000000 \\\\\n",
      "Advanced Degree      &     0.000000 \\\\\n",
      "Midwest              &     0.286337 \\\\\n",
      "South                &     0.291424 \\\\\n",
      "West                 &     0.198401 \\\\\n",
      "Northeast            &     0.223837 \\\\\n",
      "Experience           &    17.190044 \\\\\n",
      "\\bottomrule\n",
      "\\end{tabular}\n",
      "\n"
     ]
    }
   ],
   "source": [
    "print(table.to_latex())"
   ]
  },
  {
   "cell_type": "markdown",
   "metadata": {},
   "source": [
    "## Prediction Question"
   ]
  },
  {
   "cell_type": "markdown",
   "metadata": {},
   "source": [
    "Now, we will construct a prediction rule for hourly wage $Y$, which depends linearly on job-relevant characteristics $X$:\n",
    "\n",
    "\\begin{equation}\\label{decompose}\n",
    "Y = \\beta'X+ \\epsilon.\n",
    "\\end{equation}"
   ]
  },
  {
   "cell_type": "markdown",
   "metadata": {},
   "source": [
    "Our goals are\n",
    "\n",
    "* Predict wages  using various characteristics of workers.\n",
    "\n",
    "* Assess the predictive performance using the (adjusted) sample MSE, the (adjusted) sample $R^2$ and the out-of-sample MSE and $R^2$.\n",
    "\n",
    "\n",
    "We employ two different specifications for prediction:\n",
    "\n",
    "\n",
    "1. Basic Model:   $X$ consists of a set of raw regressors (e.g. gender, experience, education indicators,  occupation and industry indicators, regional indicators).\n",
    "\n",
    "\n",
    "2. Flexible Model:  $X$ consists of all raw regressors from the basic model plus occupation and industry indicators, transformations (e.g., ${exp}^2$ and ${exp}^3$) and additional two-way interactions of polynomial in experience with other regressors. An example of a regressor created through a two-way interaction is *experience* times the indicator of having a *college degree*.\n",
    "\n",
    "Using the **Flexible Model**, enables us to approximate the real relationship by a\n",
    " more complex regression model and therefore to reduce the bias. The **Flexible Model** increases the range of potential shapes of the estimated regression function. In general, flexible models often deliver good prediction accuracy but give models which are harder to interpret."
   ]
  },
  {
   "cell_type": "markdown",
   "metadata": {},
   "source": [
    "Now, let us fit both models to our data by running ordinary least squares (ols):"
   ]
  },
  {
   "cell_type": "code",
   "execution_count": 11,
   "metadata": {},
   "outputs": [],
   "source": [
    "# Import packages for OLS regression\n",
    "import statsmodels.api as sm\n",
    "import statsmodels.formula.api as smf"
   ]
  },
  {
   "cell_type": "code",
   "execution_count": null,
   "metadata": {
    "scrolled": true
   },
   "outputs": [],
   "source": [
    "# 1. ORIGINAL basic model\n",
    "basic_ori = 'lwage ~  sex + exp1 + shs + hsg+ scl + clg + mw + so + we + occ2+ ind2'\n",
    "basic_results1_ori = smf.ols(basic_ori , data=df1)\n",
    "basic_results_ori = basic_results1_ori.fit()\n",
    "print(basic_results_ori.summary()) # estimated coefficients\n",
    "print( \"Number of regressors in the original basic model:\",len(basic_results_ori.params), '\\n')  \n",
    "# number of regressors in the Basic Model\n",
    "# we have to drop  hsg+ scl + clg"
   ]
  },
  {
   "cell_type": "markdown",
   "metadata": {},
   "source": [
    "We have to drop the hsg, scl and clg variables because of multicolinearity."
   ]
  },
  {
   "cell_type": "code",
   "execution_count": null,
   "metadata": {
    "scrolled": true
   },
   "outputs": [],
   "source": [
    "# 1. basic model\n",
    "basic = 'lwage ~ sex + exp1 + shs + mw + so + we + occ2+ ind2'\n",
    "basic_results1 = smf.ols(basic , data=df1)\n",
    "basic_results = basic_results1.fit()\n",
    "print(basic_results.summary()) # estimated coefficients\n",
    "print( \"Number of regressors in the basic model:\",len(basic_results.params), '\\n')  \n",
    "# number of regressors in the Basic Model\n",
    "# we have to drop  hsg+ scl + clg"
   ]
  },
  {
   "cell_type": "markdown",
   "metadata": {},
   "source": [
    "##### Note that the basic model consists of $48$ regressors. Three regressors were dropped out."
   ]
  },
  {
   "cell_type": "code",
   "execution_count": null,
   "metadata": {
    "hide_input": true
   },
   "outputs": [],
   "source": [
    "X_var = pd.DataFrame( basic_results1.exog , columns = basic_results1.exog_names )\n",
    "\n",
    "basic_results1.exog_names[-4]\n",
    "basic_results1.exog_names[-5]\n",
    "\n",
    "Q1 = np.linalg.qr( X_var.values )[0]\n",
    "\n",
    "r = np.linalg.qr( X_var.values )[1]\n",
    "\n",
    "clean_names = np.array(basic_results1.exog_names)[ (r.sum( axis = 0 ) != 0 ).tolist()].tolist()\n",
    "\n",
    "new_xvar = X_var.loc[ : , clean_names ]\n",
    "\n",
    "Q1 = np.linalg.qr( new_xvar.values )[0]\n",
    "\n",
    "r = np.linalg.qr( new_xvar.values )[1]\n",
    "\n",
    "\n",
    "\n",
    "import sparseqr\n",
    "\n",
    "\n",
    "\n",
    "abs(r.sum( axis = 0)) < 1e-07\n",
    "\n",
    "abs(r.sum( axis = 0)) < 1e-07\n",
    "\n",
    "r[ : , [-4, -5 ] ]\n",
    "\n",
    "np.linalg.qr( X_var.values )[ 1 ]\n",
    "\n",
    "def back_substitution(A: np.ndarray, b: np.ndarray) -> np.ndarray:\n",
    "    n = b.size\n",
    "    x = np.zeros_like(b)\n",
    "\n",
    "    if A[n-1, n-1] == 0:\n",
    "        raise ValueError\n",
    "\n",
    "    for i in range(n-1, 0, -1):\n",
    "        x[i] = A[i, i]/b[i]\n",
    "        for j in range (i-1, 0, -1):\n",
    "            A[i, i] += A[j, i]*x[i]\n",
    "\n",
    "    return x\n",
    "\n",
    "!pip install qr\n",
    "\n",
    "!pip install redis\n",
    "\n",
    "import  qr\n",
    "\n",
    "np.linalg.inv( r )\n",
    "\n",
    "np.dot( np.linalg.inv( r ) , Q1 )\n",
    "\n",
    "c(backsolve(R, t(Q1) %*% y))"
   ]
  },
  {
   "cell_type": "markdown",
   "metadata": {},
   "source": [
    "##### Note that the basic model consists of $49$ regressors. We have to drop `scl` and `clg` since they produce multicolinearity."
   ]
  },
  {
   "cell_type": "code",
   "execution_count": null,
   "metadata": {},
   "outputs": [],
   "source": [
    "# 2. flexible model\n",
    "flex_ori = 'lwage ~ (exp1+exp2+exp3+exp4+shs+hsg+scl+clg+occ2+ind2+mw+so+we)**2'\n",
    "flex_results_0_ori = smf.ols(flex_ori , data = df1 )\n",
    "flex_results_ori = smf.ols(flex_ori , data = df1 ).fit()\n",
    "print(flex_results_ori.summary()) # estimated coefficients\n",
    "print( \"Number of regressors in the basic model:\", len( flex_results_ori.params ), '\\n' ) \n",
    "# number of regressors in the Flexible Model"
   ]
  },
  {
   "cell_type": "markdown",
   "metadata": {},
   "source": [
    "Note that the flexible model consists of $494$ regressors of $979$ variables.\n",
    "I use the `clean_data_flex` data from R to get exact results."
   ]
  },
  {
   "cell_type": "markdown",
   "metadata": {},
   "source": [
    "#### Import data from R"
   ]
  },
  {
   "cell_type": "code",
   "execution_count": null,
   "metadata": {},
   "outputs": [],
   "source": [
    "rdata_read = pyreadr.read_r(\"../data/clean_data_flex.RData\")\n",
    "clean_data_flex = rdata_read[ 'clean_data_flex' ]\n",
    "print( type( clean_data_flex ) )\n",
    "print( clean_data_flex.shape )\n",
    "\n",
    "flex_results = sm.OLS( df1['lwage'], clean_data_flex  ).fit()\n",
    "\n",
    "# 2. flexible model\n",
    "# flex = \"lwage~\" + all_columns\n",
    "# flex_results = smf.ols(flex , data = clean_data_flex ).fit()\n",
    "print(flex_results.summary()) # estimated coefficients\n",
    "print( \"Number of regressors in the basic model:\", len( flex_results.params ), '\\n' ) \n",
    "# number of regressors in the Flexible Model"
   ]
  },
  {
   "cell_type": "markdown",
   "metadata": {},
   "source": [
    "## Try Lasso next"
   ]
  },
  {
   "cell_type": "code",
   "execution_count": 80,
   "metadata": {},
   "outputs": [],
   "source": [
    "import hdmpy"
   ]
  },
  {
   "cell_type": "code",
   "execution_count": 186,
   "metadata": {
    "scrolled": true
   },
   "outputs": [
    {
     "data": {
      "text/plain": [
       "(1376, 978)"
      ]
     },
     "execution_count": 186,
     "metadata": {},
     "output_type": "execute_result"
    }
   ],
   "source": [
    "X_vars = pd.DataFrame(flex_results_0_ori.exog[:, 1:], columns = flex_results_0_ori.exog_names[1:] )\n",
    "X_vars.shape"
   ]
  },
  {
   "cell_type": "code",
   "execution_count": 187,
   "metadata": {},
   "outputs": [
    {
     "name": "stderr",
     "output_type": "stream",
     "text": [
      "c:\\python\\python38\\lib\\site-packages\\numpy\\lib\\function_base.py:2559: RuntimeWarning: invalid value encountered in true_divide\n",
      "  c /= stddev[:, None]\n",
      "c:\\python\\python38\\lib\\site-packages\\numpy\\lib\\function_base.py:2560: RuntimeWarning: invalid value encountered in true_divide\n",
      "  c /= stddev[None, :]\n",
      "c:\\python\\python38\\lib\\site-packages\\numpy\\lib\\function_base.py:2559: RuntimeWarning: invalid value encountered in true_divide\n",
      "  c /= stddev[:, None]\n",
      "c:\\python\\python38\\lib\\site-packages\\numpy\\lib\\function_base.py:2560: RuntimeWarning: invalid value encountered in true_divide\n",
      "  c /= stddev[None, :]\n",
      "c:\\python\\python38\\lib\\site-packages\\numpy\\lib\\function_base.py:2559: RuntimeWarning: invalid value encountered in true_divide\n",
      "  c /= stddev[:, None]\n",
      "c:\\python\\python38\\lib\\site-packages\\numpy\\lib\\function_base.py:2560: RuntimeWarning: invalid value encountered in true_divide\n",
      "  c /= stddev[None, :]\n",
      "c:\\python\\python38\\lib\\site-packages\\numpy\\lib\\function_base.py:2559: RuntimeWarning: invalid value encountered in true_divide\n",
      "  c /= stddev[:, None]\n",
      "c:\\python\\python38\\lib\\site-packages\\numpy\\lib\\function_base.py:2560: RuntimeWarning: invalid value encountered in true_divide\n",
      "  c /= stddev[None, :]\n",
      "c:\\python\\python38\\lib\\site-packages\\numpy\\lib\\function_base.py:2559: RuntimeWarning: invalid value encountered in true_divide\n",
      "  c /= stddev[:, None]\n",
      "c:\\python\\python38\\lib\\site-packages\\numpy\\lib\\function_base.py:2560: RuntimeWarning: invalid value encountered in true_divide\n",
      "  c /= stddev[None, :]\n"
     ]
    }
   ],
   "source": [
    "fit_rlasso = hdmpy.rlasso( X_vars, df1['lwage']  , post = True )"
   ]
  },
  {
   "cell_type": "code",
   "execution_count": 191,
   "metadata": {},
   "outputs": [],
   "source": [
    "y_hat = np.dot( sm.add_constant( X_vars ).values , fit_rlasso.est['coefficients'].values )"
   ]
  },
  {
   "cell_type": "markdown",
   "metadata": {},
   "source": [
    "Now, we can evaluate the performance of both models based on the (adjusted) $R^2_{sample}$ and the (adjusted) $MSE_{sample}$:"
   ]
  },
  {
   "cell_type": "code",
   "execution_count": 110,
   "metadata": {},
   "outputs": [],
   "source": [
    "# Import relevant packages for lasso \n",
    "from sklearn.linear_model import LassoCV\n",
    "from sklearn import linear_model\n",
    "from sklearn.preprocessing import PolynomialFeatures\n",
    "from sklearn.metrics import mean_squared_error\n",
    "from sklearn.metrics import r2_score"
   ]
  },
  {
   "cell_type": "code",
   "execution_count": 199,
   "metadata": {},
   "outputs": [
    {
     "data": {
      "text/html": [
       "<div>\n",
       "<style scoped>\n",
       "    .dataframe tbody tr th:only-of-type {\n",
       "        vertical-align: middle;\n",
       "    }\n",
       "\n",
       "    .dataframe tbody tr th {\n",
       "        vertical-align: top;\n",
       "    }\n",
       "\n",
       "    .dataframe thead th {\n",
       "        text-align: right;\n",
       "    }\n",
       "</style>\n",
       "<table border=\"1\" class=\"dataframe\">\n",
       "  <thead>\n",
       "    <tr style=\"text-align: right;\">\n",
       "      <th></th>\n",
       "      <th>occ2[T.10]</th>\n",
       "      <th>occ2[T.11]</th>\n",
       "      <th>occ2[T.12]</th>\n",
       "      <th>occ2[T.13]</th>\n",
       "      <th>occ2[T.14]</th>\n",
       "      <th>occ2[T.15]</th>\n",
       "      <th>occ2[T.16]</th>\n",
       "      <th>occ2[T.17]</th>\n",
       "      <th>occ2[T.18]</th>\n",
       "      <th>occ2[T.19]</th>\n",
       "      <th>...</th>\n",
       "      <th>scl:clg</th>\n",
       "      <th>scl:mw</th>\n",
       "      <th>scl:so</th>\n",
       "      <th>scl:we</th>\n",
       "      <th>clg:mw</th>\n",
       "      <th>clg:so</th>\n",
       "      <th>clg:we</th>\n",
       "      <th>mw:so</th>\n",
       "      <th>mw:we</th>\n",
       "      <th>so:we</th>\n",
       "    </tr>\n",
       "  </thead>\n",
       "  <tbody>\n",
       "    <tr>\n",
       "      <th>0</th>\n",
       "      <td>0.0</td>\n",
       "      <td>0.0</td>\n",
       "      <td>0.0</td>\n",
       "      <td>0.0</td>\n",
       "      <td>0.0</td>\n",
       "      <td>0.0</td>\n",
       "      <td>0.0</td>\n",
       "      <td>0.0</td>\n",
       "      <td>0.0</td>\n",
       "      <td>1.0</td>\n",
       "      <td>...</td>\n",
       "      <td>0.0</td>\n",
       "      <td>0.0</td>\n",
       "      <td>0.0</td>\n",
       "      <td>0.0</td>\n",
       "      <td>0.0</td>\n",
       "      <td>0.0</td>\n",
       "      <td>0.0</td>\n",
       "      <td>0.0</td>\n",
       "      <td>0.0</td>\n",
       "      <td>0.0</td>\n",
       "    </tr>\n",
       "    <tr>\n",
       "      <th>1</th>\n",
       "      <td>0.0</td>\n",
       "      <td>0.0</td>\n",
       "      <td>0.0</td>\n",
       "      <td>0.0</td>\n",
       "      <td>0.0</td>\n",
       "      <td>0.0</td>\n",
       "      <td>0.0</td>\n",
       "      <td>1.0</td>\n",
       "      <td>0.0</td>\n",
       "      <td>0.0</td>\n",
       "      <td>...</td>\n",
       "      <td>0.0</td>\n",
       "      <td>0.0</td>\n",
       "      <td>0.0</td>\n",
       "      <td>0.0</td>\n",
       "      <td>0.0</td>\n",
       "      <td>0.0</td>\n",
       "      <td>0.0</td>\n",
       "      <td>0.0</td>\n",
       "      <td>0.0</td>\n",
       "      <td>0.0</td>\n",
       "    </tr>\n",
       "    <tr>\n",
       "      <th>2</th>\n",
       "      <td>0.0</td>\n",
       "      <td>0.0</td>\n",
       "      <td>0.0</td>\n",
       "      <td>0.0</td>\n",
       "      <td>0.0</td>\n",
       "      <td>0.0</td>\n",
       "      <td>0.0</td>\n",
       "      <td>1.0</td>\n",
       "      <td>0.0</td>\n",
       "      <td>0.0</td>\n",
       "      <td>...</td>\n",
       "      <td>0.0</td>\n",
       "      <td>0.0</td>\n",
       "      <td>0.0</td>\n",
       "      <td>0.0</td>\n",
       "      <td>0.0</td>\n",
       "      <td>0.0</td>\n",
       "      <td>0.0</td>\n",
       "      <td>0.0</td>\n",
       "      <td>0.0</td>\n",
       "      <td>0.0</td>\n",
       "    </tr>\n",
       "    <tr>\n",
       "      <th>3</th>\n",
       "      <td>0.0</td>\n",
       "      <td>0.0</td>\n",
       "      <td>0.0</td>\n",
       "      <td>1.0</td>\n",
       "      <td>0.0</td>\n",
       "      <td>0.0</td>\n",
       "      <td>0.0</td>\n",
       "      <td>0.0</td>\n",
       "      <td>0.0</td>\n",
       "      <td>0.0</td>\n",
       "      <td>...</td>\n",
       "      <td>0.0</td>\n",
       "      <td>0.0</td>\n",
       "      <td>0.0</td>\n",
       "      <td>0.0</td>\n",
       "      <td>0.0</td>\n",
       "      <td>0.0</td>\n",
       "      <td>0.0</td>\n",
       "      <td>0.0</td>\n",
       "      <td>0.0</td>\n",
       "      <td>0.0</td>\n",
       "    </tr>\n",
       "    <tr>\n",
       "      <th>4</th>\n",
       "      <td>0.0</td>\n",
       "      <td>0.0</td>\n",
       "      <td>0.0</td>\n",
       "      <td>1.0</td>\n",
       "      <td>0.0</td>\n",
       "      <td>0.0</td>\n",
       "      <td>0.0</td>\n",
       "      <td>0.0</td>\n",
       "      <td>0.0</td>\n",
       "      <td>0.0</td>\n",
       "      <td>...</td>\n",
       "      <td>0.0</td>\n",
       "      <td>0.0</td>\n",
       "      <td>0.0</td>\n",
       "      <td>0.0</td>\n",
       "      <td>0.0</td>\n",
       "      <td>0.0</td>\n",
       "      <td>0.0</td>\n",
       "      <td>0.0</td>\n",
       "      <td>0.0</td>\n",
       "      <td>0.0</td>\n",
       "    </tr>\n",
       "    <tr>\n",
       "      <th>...</th>\n",
       "      <td>...</td>\n",
       "      <td>...</td>\n",
       "      <td>...</td>\n",
       "      <td>...</td>\n",
       "      <td>...</td>\n",
       "      <td>...</td>\n",
       "      <td>...</td>\n",
       "      <td>...</td>\n",
       "      <td>...</td>\n",
       "      <td>...</td>\n",
       "      <td>...</td>\n",
       "      <td>...</td>\n",
       "      <td>...</td>\n",
       "      <td>...</td>\n",
       "      <td>...</td>\n",
       "      <td>...</td>\n",
       "      <td>...</td>\n",
       "      <td>...</td>\n",
       "      <td>...</td>\n",
       "      <td>...</td>\n",
       "      <td>...</td>\n",
       "    </tr>\n",
       "    <tr>\n",
       "      <th>1371</th>\n",
       "      <td>0.0</td>\n",
       "      <td>0.0</td>\n",
       "      <td>0.0</td>\n",
       "      <td>0.0</td>\n",
       "      <td>0.0</td>\n",
       "      <td>0.0</td>\n",
       "      <td>0.0</td>\n",
       "      <td>0.0</td>\n",
       "      <td>0.0</td>\n",
       "      <td>0.0</td>\n",
       "      <td>...</td>\n",
       "      <td>0.0</td>\n",
       "      <td>0.0</td>\n",
       "      <td>0.0</td>\n",
       "      <td>0.0</td>\n",
       "      <td>0.0</td>\n",
       "      <td>0.0</td>\n",
       "      <td>0.0</td>\n",
       "      <td>0.0</td>\n",
       "      <td>0.0</td>\n",
       "      <td>0.0</td>\n",
       "    </tr>\n",
       "    <tr>\n",
       "      <th>1372</th>\n",
       "      <td>0.0</td>\n",
       "      <td>0.0</td>\n",
       "      <td>0.0</td>\n",
       "      <td>0.0</td>\n",
       "      <td>0.0</td>\n",
       "      <td>0.0</td>\n",
       "      <td>1.0</td>\n",
       "      <td>0.0</td>\n",
       "      <td>0.0</td>\n",
       "      <td>0.0</td>\n",
       "      <td>...</td>\n",
       "      <td>0.0</td>\n",
       "      <td>0.0</td>\n",
       "      <td>0.0</td>\n",
       "      <td>0.0</td>\n",
       "      <td>0.0</td>\n",
       "      <td>0.0</td>\n",
       "      <td>0.0</td>\n",
       "      <td>0.0</td>\n",
       "      <td>0.0</td>\n",
       "      <td>0.0</td>\n",
       "    </tr>\n",
       "    <tr>\n",
       "      <th>1373</th>\n",
       "      <td>0.0</td>\n",
       "      <td>0.0</td>\n",
       "      <td>0.0</td>\n",
       "      <td>0.0</td>\n",
       "      <td>0.0</td>\n",
       "      <td>0.0</td>\n",
       "      <td>0.0</td>\n",
       "      <td>0.0</td>\n",
       "      <td>0.0</td>\n",
       "      <td>0.0</td>\n",
       "      <td>...</td>\n",
       "      <td>0.0</td>\n",
       "      <td>0.0</td>\n",
       "      <td>0.0</td>\n",
       "      <td>0.0</td>\n",
       "      <td>0.0</td>\n",
       "      <td>0.0</td>\n",
       "      <td>0.0</td>\n",
       "      <td>0.0</td>\n",
       "      <td>0.0</td>\n",
       "      <td>0.0</td>\n",
       "    </tr>\n",
       "    <tr>\n",
       "      <th>1374</th>\n",
       "      <td>0.0</td>\n",
       "      <td>0.0</td>\n",
       "      <td>0.0</td>\n",
       "      <td>0.0</td>\n",
       "      <td>0.0</td>\n",
       "      <td>0.0</td>\n",
       "      <td>0.0</td>\n",
       "      <td>0.0</td>\n",
       "      <td>0.0</td>\n",
       "      <td>0.0</td>\n",
       "      <td>...</td>\n",
       "      <td>0.0</td>\n",
       "      <td>0.0</td>\n",
       "      <td>0.0</td>\n",
       "      <td>0.0</td>\n",
       "      <td>0.0</td>\n",
       "      <td>0.0</td>\n",
       "      <td>0.0</td>\n",
       "      <td>0.0</td>\n",
       "      <td>0.0</td>\n",
       "      <td>0.0</td>\n",
       "    </tr>\n",
       "    <tr>\n",
       "      <th>1375</th>\n",
       "      <td>0.0</td>\n",
       "      <td>0.0</td>\n",
       "      <td>0.0</td>\n",
       "      <td>0.0</td>\n",
       "      <td>0.0</td>\n",
       "      <td>0.0</td>\n",
       "      <td>0.0</td>\n",
       "      <td>0.0</td>\n",
       "      <td>0.0</td>\n",
       "      <td>0.0</td>\n",
       "      <td>...</td>\n",
       "      <td>0.0</td>\n",
       "      <td>0.0</td>\n",
       "      <td>0.0</td>\n",
       "      <td>0.0</td>\n",
       "      <td>0.0</td>\n",
       "      <td>0.0</td>\n",
       "      <td>0.0</td>\n",
       "      <td>0.0</td>\n",
       "      <td>0.0</td>\n",
       "      <td>0.0</td>\n",
       "    </tr>\n",
       "  </tbody>\n",
       "</table>\n",
       "<p>1376 rows × 978 columns</p>\n",
       "</div>"
      ],
      "text/plain": [
       "      occ2[T.10]  occ2[T.11]  occ2[T.12]  occ2[T.13]  occ2[T.14]  occ2[T.15]  \\\n",
       "0            0.0         0.0         0.0         0.0         0.0         0.0   \n",
       "1            0.0         0.0         0.0         0.0         0.0         0.0   \n",
       "2            0.0         0.0         0.0         0.0         0.0         0.0   \n",
       "3            0.0         0.0         0.0         1.0         0.0         0.0   \n",
       "4            0.0         0.0         0.0         1.0         0.0         0.0   \n",
       "...          ...         ...         ...         ...         ...         ...   \n",
       "1371         0.0         0.0         0.0         0.0         0.0         0.0   \n",
       "1372         0.0         0.0         0.0         0.0         0.0         0.0   \n",
       "1373         0.0         0.0         0.0         0.0         0.0         0.0   \n",
       "1374         0.0         0.0         0.0         0.0         0.0         0.0   \n",
       "1375         0.0         0.0         0.0         0.0         0.0         0.0   \n",
       "\n",
       "      occ2[T.16]  occ2[T.17]  occ2[T.18]  occ2[T.19]  ...  scl:clg  scl:mw  \\\n",
       "0            0.0         0.0         0.0         1.0  ...      0.0     0.0   \n",
       "1            0.0         1.0         0.0         0.0  ...      0.0     0.0   \n",
       "2            0.0         1.0         0.0         0.0  ...      0.0     0.0   \n",
       "3            0.0         0.0         0.0         0.0  ...      0.0     0.0   \n",
       "4            0.0         0.0         0.0         0.0  ...      0.0     0.0   \n",
       "...          ...         ...         ...         ...  ...      ...     ...   \n",
       "1371         0.0         0.0         0.0         0.0  ...      0.0     0.0   \n",
       "1372         1.0         0.0         0.0         0.0  ...      0.0     0.0   \n",
       "1373         0.0         0.0         0.0         0.0  ...      0.0     0.0   \n",
       "1374         0.0         0.0         0.0         0.0  ...      0.0     0.0   \n",
       "1375         0.0         0.0         0.0         0.0  ...      0.0     0.0   \n",
       "\n",
       "      scl:so  scl:we  clg:mw  clg:so  clg:we  mw:so  mw:we  so:we  \n",
       "0        0.0     0.0     0.0     0.0     0.0    0.0    0.0    0.0  \n",
       "1        0.0     0.0     0.0     0.0     0.0    0.0    0.0    0.0  \n",
       "2        0.0     0.0     0.0     0.0     0.0    0.0    0.0    0.0  \n",
       "3        0.0     0.0     0.0     0.0     0.0    0.0    0.0    0.0  \n",
       "4        0.0     0.0     0.0     0.0     0.0    0.0    0.0    0.0  \n",
       "...      ...     ...     ...     ...     ...    ...    ...    ...  \n",
       "1371     0.0     0.0     0.0     0.0     0.0    0.0    0.0    0.0  \n",
       "1372     0.0     0.0     0.0     0.0     0.0    0.0    0.0    0.0  \n",
       "1373     0.0     0.0     0.0     0.0     0.0    0.0    0.0    0.0  \n",
       "1374     0.0     0.0     0.0     0.0     0.0    0.0    0.0    0.0  \n",
       "1375     0.0     0.0     0.0     0.0     0.0    0.0    0.0    0.0  \n",
       "\n",
       "[1376 rows x 978 columns]"
      ]
     },
     "execution_count": 199,
     "metadata": {},
     "output_type": "execute_result"
    }
   ],
   "source": [
    "X_vars"
   ]
  },
  {
   "cell_type": "code",
   "execution_count": 198,
   "metadata": {},
   "outputs": [
    {
     "name": "stdout",
     "output_type": "stream",
     "text": [
      "R-squared for the basic model:  0.18023814876721 \n",
      "\n",
      "adjusted R-squared for the basic model:  0.15122549288773612 \n",
      "\n",
      "R-squared for the basic model:  0.507044001363502 \n",
      "\n",
      "adjusted R-squared for the basic model:  0.23150283659276116 \n",
      "\n",
      "R-squared for LASSO:  0.09194889946989504 \n",
      "\n",
      "adjusted R-squared for LASSO:  -2.1450132575035123 \n",
      "\n"
     ]
    }
   ],
   "source": [
    "# Assess the predictive performance\n",
    "R2_1 = basic_results.rsquared\n",
    "print(\"R-squared for the basic model: \", R2_1, \"\\n\")\n",
    "R2_adj1 = basic_results.rsquared_adj\n",
    "print(\"adjusted R-squared for the basic model: \", R2_adj1, \"\\n\")\n",
    "\n",
    "\n",
    "R2_2 = flex_results.rsquared\n",
    "print(\"R-squared for the basic model: \", R2_2, \"\\n\")\n",
    "R2_adj2 = flex_results.rsquared_adj\n",
    "print(\"adjusted R-squared for the basic model: \", R2_adj2, \"\\n\")\n",
    "\n",
    "R2_L = r2_score( df1['lwage'].values ,  y_hat )\n",
    "print(\"R-squared for LASSO: \", R2_L, \"\\n\")\n",
    "n_obs = df1['lwage'].shape[0]\n",
    "n_predictors = X_vars.shape[1]\n",
    "R2_adjL = 1 - ( 1 - R2_L ) * ( n_obs -1 ) / ( n_obs - n_predictors - 1 )\n",
    "print(\"adjusted R-squared for LASSO: \", R2_adjL, \"\\n\")"
   ]
  },
  {
   "cell_type": "code",
   "execution_count": 36,
   "metadata": {},
   "outputs": [
    {
     "name": "stdout",
     "output_type": "stream",
     "text": [
      "MSE for the basic model:  0.22672616350790228 \n",
      "\n",
      "adjusted MSE for the basic model:  0.232419434969696 \n",
      "\n",
      "MSE for the flexible model:  0.19932584192199265 \n",
      "\n",
      "adjusted MSE for the flexible model:  0.22603289917297859 \n",
      "\n",
      "MSE for the LASSO model:  0.27178000389087975 \n",
      "\n",
      "adjusted MSE for LASSO model:  0.5130063174078074 \n",
      "\n"
     ]
    }
   ],
   "source": [
    "# calculating the MSE\n",
    "MSE1 =  np.mean(basic_results.resid**2)\n",
    "print(\"MSE for the basic model: \", MSE1, \"\\n\")\n",
    "p1 = len(basic_results.params) # number of regressors\n",
    "n = len(lwage)\n",
    "MSE_adj1  = (n/(n-p1))*MSE1\n",
    "print(\"adjusted MSE for the basic model: \", MSE_adj1, \"\\n\")\n",
    "\n",
    "MSE2 =  np.mean(flex_results.resid**2)\n",
    "print(\"MSE for the flexible model: \", MSE2, \"\\n\")\n",
    "p2 = len(flex_results.params) # number of regressors\n",
    "n = len(lwage)\n",
    "MSE_adj2  = (n/(n-p2))*MSE2\n",
    "print(\"adjusted MSE for the flexible model: \", MSE_adj2, \"\\n\")\n",
    "\n",
    "\n",
    "MSEL = mean_squared_error(lwage, lwage_lasso_fitted)\n",
    "print(\"MSE for the LASSO model: \", MSEL, \"\\n\")\n",
    "pL = reg.coef_.shape[0] # number of regressors\n",
    "n = len(lwage)\n",
    "MSE_adjL  = (n/(n-pL))*MSEL\n",
    "print(\"adjusted MSE for LASSO model: \", MSE_adjL, \"\\n\")"
   ]
  },
  {
   "cell_type": "code",
   "execution_count": 37,
   "metadata": {},
   "outputs": [
    {
     "data": {
      "text/plain": [
       "array([[ 5.10000000e+01,  3.78352762e-01,  2.26726164e-01,\n",
       "         3.63675405e-01,  2.32419435e-01],\n",
       "       [ 2.46000000e+02,  4.53480105e-01,  1.99325842e-01,\n",
       "         3.85238972e-01,  2.26032899e-01],\n",
       "       [ 9.79000000e+02,  2.54822266e-01,  2.71780004e-01,\n",
       "        -4.07182273e-01,  5.13006317e-01]])"
      ]
     },
     "execution_count": 37,
     "metadata": {},
     "output_type": "execute_result"
    }
   ],
   "source": [
    "# Package for latex table \n",
    "import array_to_latex as a2l\n",
    "\n",
    "table = np.zeros((3, 5))\n",
    "table[0,0:5] = [p1, R2_1, MSE1, R2_adj1, MSE_adj1]\n",
    "table[1,0:5] = [p2, R2_2, MSE2, R2_adj2, MSE_adj2]\n",
    "table[2,0:5] = [pL, R2_L, MSEL, R2_adjL, MSE_adjL]\n",
    "table"
   ]
  },
  {
   "cell_type": "code",
   "execution_count": 41,
   "metadata": {},
   "outputs": [],
   "source": [
    "table = pd.DataFrame(table, columns = [\"p\",\"$R^2_{sample}$\",\"$MSE_{sample}$\",\"$R^2_{adjusted}$\", \"$MSE_{adjusted}$\"], \\\n",
    "                      index = [\"basic reg\",\"flexible reg\", \"lasso flex\"])\n"
   ]
  },
  {
   "cell_type": "code",
   "execution_count": 68,
   "metadata": {},
   "outputs": [
    {
     "data": {
      "text/html": [
       "<div>\n",
       "<style scoped>\n",
       "    .dataframe tbody tr th:only-of-type {\n",
       "        vertical-align: middle;\n",
       "    }\n",
       "\n",
       "    .dataframe tbody tr th {\n",
       "        vertical-align: top;\n",
       "    }\n",
       "\n",
       "    .dataframe thead th {\n",
       "        text-align: right;\n",
       "    }\n",
       "</style>\n",
       "<table border=\"1\" class=\"dataframe\">\n",
       "  <thead>\n",
       "    <tr style=\"text-align: right;\">\n",
       "      <th></th>\n",
       "      <th>p</th>\n",
       "      <th>$R^2_{sample}$</th>\n",
       "      <th>$MSE_{sample}$</th>\n",
       "      <th>$R^2_{adjusted}$</th>\n",
       "      <th>$MSE_{adjusted}$</th>\n",
       "    </tr>\n",
       "  </thead>\n",
       "  <tbody>\n",
       "    <tr>\n",
       "      <th>basic reg</th>\n",
       "      <td>51.0</td>\n",
       "      <td>0.378353</td>\n",
       "      <td>0.226726</td>\n",
       "      <td>0.363675</td>\n",
       "      <td>0.232419</td>\n",
       "    </tr>\n",
       "    <tr>\n",
       "      <th>flexible reg</th>\n",
       "      <td>246.0</td>\n",
       "      <td>0.453480</td>\n",
       "      <td>0.199326</td>\n",
       "      <td>0.385239</td>\n",
       "      <td>0.226033</td>\n",
       "    </tr>\n",
       "    <tr>\n",
       "      <th>lasso flex</th>\n",
       "      <td>979.0</td>\n",
       "      <td>0.254822</td>\n",
       "      <td>0.271780</td>\n",
       "      <td>-0.407182</td>\n",
       "      <td>0.513006</td>\n",
       "    </tr>\n",
       "  </tbody>\n",
       "</table>\n",
       "</div>"
      ],
      "text/plain": [
       "                  p  $R^2_{sample}$  $MSE_{sample}$  $R^2_{adjusted}$  \\\n",
       "basic reg      51.0        0.378353        0.226726          0.363675   \n",
       "flexible reg  246.0        0.453480        0.199326          0.385239   \n",
       "lasso flex    979.0        0.254822        0.271780         -0.407182   \n",
       "\n",
       "              $MSE_{adjusted}$  \n",
       "basic reg             0.232419  \n",
       "flexible reg          0.226033  \n",
       "lasso flex            0.513006  "
      ]
     },
     "execution_count": 68,
     "metadata": {},
     "output_type": "execute_result"
    }
   ],
   "source": [
    "table"
   ]
  },
  {
   "cell_type": "markdown",
   "metadata": {},
   "source": [
    "Considering all measures above, the flexible model performs slightly better than the basic model. \n",
    "\n",
    "One procedure to circumvent this issue is to use **data splitting** that is described and applied in the following."
   ]
  },
  {
   "cell_type": "markdown",
   "metadata": {},
   "source": [
    "## Data Splitting\n",
    "\n",
    "Measure the prediction quality of the two models via data splitting:\n",
    "\n",
    "- Randomly split the data into one training sample and one testing sample. Here we just use a simple method (stratified splitting is a more sophisticated version of splitting that we can consider).\n",
    "- Use the training sample for estimating the parameters of the Basic Model and the Flexible Model.\n",
    "- Use the testing sample for evaluation. Predict the $\\mathtt{wage}$  of every observation in the testing sample based on the estimated parameters in the training sample.\n",
    "- Calculate the Mean Squared Prediction Error $MSE_{test}$ based on the testing sample for both prediction models. "
   ]
  },
  {
   "cell_type": "code",
   "execution_count": 70,
   "metadata": {},
   "outputs": [
    {
     "data": {
      "text/plain": [
       "array([1653,  835,  763, ..., 1686, 1885,  259])"
      ]
     },
     "execution_count": 70,
     "metadata": {},
     "output_type": "execute_result"
    }
   ],
   "source": [
    "# Import relevant packages for splitting data\n",
    "import random\n",
    "import math\n",
    "\n",
    "# Set Seed\n",
    "# to make the results replicable (generating random numbers)\n",
    "np.random.seed(0)\n",
    "random = np.random.randint(0,n, size=math.floor(n))\n",
    "df1[\"random\"] = random\n",
    "random    # the array does not change "
   ]
  },
  {
   "cell_type": "code",
   "execution_count": 71,
   "metadata": {},
   "outputs": [
    {
     "data": {
      "text/html": [
       "<div>\n",
       "<style scoped>\n",
       "    .dataframe tbody tr th:only-of-type {\n",
       "        vertical-align: middle;\n",
       "    }\n",
       "\n",
       "    .dataframe tbody tr th {\n",
       "        vertical-align: top;\n",
       "    }\n",
       "\n",
       "    .dataframe thead th {\n",
       "        text-align: right;\n",
       "    }\n",
       "</style>\n",
       "<table border=\"1\" class=\"dataframe\">\n",
       "  <thead>\n",
       "    <tr style=\"text-align: right;\">\n",
       "      <th></th>\n",
       "      <th>wage</th>\n",
       "      <th>lwage</th>\n",
       "      <th>sex</th>\n",
       "      <th>shs</th>\n",
       "      <th>hsg</th>\n",
       "      <th>scl</th>\n",
       "      <th>clg</th>\n",
       "      <th>ad</th>\n",
       "      <th>mw</th>\n",
       "      <th>so</th>\n",
       "      <th>...</th>\n",
       "      <th>ne</th>\n",
       "      <th>exp1</th>\n",
       "      <th>exp2</th>\n",
       "      <th>exp3</th>\n",
       "      <th>exp4</th>\n",
       "      <th>occ</th>\n",
       "      <th>occ2</th>\n",
       "      <th>ind</th>\n",
       "      <th>ind2</th>\n",
       "      <th>random</th>\n",
       "    </tr>\n",
       "    <tr>\n",
       "      <th>rownames</th>\n",
       "      <th></th>\n",
       "      <th></th>\n",
       "      <th></th>\n",
       "      <th></th>\n",
       "      <th></th>\n",
       "      <th></th>\n",
       "      <th></th>\n",
       "      <th></th>\n",
       "      <th></th>\n",
       "      <th></th>\n",
       "      <th></th>\n",
       "      <th></th>\n",
       "      <th></th>\n",
       "      <th></th>\n",
       "      <th></th>\n",
       "      <th></th>\n",
       "      <th></th>\n",
       "      <th></th>\n",
       "      <th></th>\n",
       "      <th></th>\n",
       "      <th></th>\n",
       "    </tr>\n",
       "  </thead>\n",
       "  <tbody>\n",
       "    <tr>\n",
       "      <th>29303</th>\n",
       "      <td>19.230769</td>\n",
       "      <td>2.956512</td>\n",
       "      <td>1.0</td>\n",
       "      <td>0.0</td>\n",
       "      <td>0.0</td>\n",
       "      <td>0.0</td>\n",
       "      <td>0.0</td>\n",
       "      <td>1.0</td>\n",
       "      <td>0.0</td>\n",
       "      <td>0.0</td>\n",
       "      <td>...</td>\n",
       "      <td>0.0</td>\n",
       "      <td>1.0</td>\n",
       "      <td>0.01</td>\n",
       "      <td>0.001</td>\n",
       "      <td>0.0001</td>\n",
       "      <td>2320</td>\n",
       "      <td>8</td>\n",
       "      <td>7860</td>\n",
       "      <td>17</td>\n",
       "      <td>0</td>\n",
       "    </tr>\n",
       "    <tr>\n",
       "      <th>6971</th>\n",
       "      <td>10.576923</td>\n",
       "      <td>2.358675</td>\n",
       "      <td>1.0</td>\n",
       "      <td>0.0</td>\n",
       "      <td>1.0</td>\n",
       "      <td>0.0</td>\n",
       "      <td>0.0</td>\n",
       "      <td>0.0</td>\n",
       "      <td>1.0</td>\n",
       "      <td>0.0</td>\n",
       "      <td>...</td>\n",
       "      <td>0.0</td>\n",
       "      <td>12.0</td>\n",
       "      <td>1.44</td>\n",
       "      <td>1.728</td>\n",
       "      <td>2.0736</td>\n",
       "      <td>3500</td>\n",
       "      <td>10</td>\n",
       "      <td>8190</td>\n",
       "      <td>18</td>\n",
       "      <td>0</td>\n",
       "    </tr>\n",
       "    <tr>\n",
       "      <th>4663</th>\n",
       "      <td>12.943787</td>\n",
       "      <td>2.560616</td>\n",
       "      <td>1.0</td>\n",
       "      <td>0.0</td>\n",
       "      <td>1.0</td>\n",
       "      <td>0.0</td>\n",
       "      <td>0.0</td>\n",
       "      <td>0.0</td>\n",
       "      <td>0.0</td>\n",
       "      <td>0.0</td>\n",
       "      <td>...</td>\n",
       "      <td>1.0</td>\n",
       "      <td>27.0</td>\n",
       "      <td>7.29</td>\n",
       "      <td>19.683</td>\n",
       "      <td>53.1441</td>\n",
       "      <td>5860</td>\n",
       "      <td>17</td>\n",
       "      <td>3990</td>\n",
       "      <td>6</td>\n",
       "      <td>0</td>\n",
       "    </tr>\n",
       "    <tr>\n",
       "      <th>4210</th>\n",
       "      <td>66.826923</td>\n",
       "      <td>4.202106</td>\n",
       "      <td>0.0</td>\n",
       "      <td>0.0</td>\n",
       "      <td>0.0</td>\n",
       "      <td>0.0</td>\n",
       "      <td>0.0</td>\n",
       "      <td>1.0</td>\n",
       "      <td>0.0</td>\n",
       "      <td>0.0</td>\n",
       "      <td>...</td>\n",
       "      <td>1.0</td>\n",
       "      <td>8.0</td>\n",
       "      <td>0.64</td>\n",
       "      <td>0.512</td>\n",
       "      <td>0.4096</td>\n",
       "      <td>2100</td>\n",
       "      <td>7</td>\n",
       "      <td>7270</td>\n",
       "      <td>14</td>\n",
       "      <td>3</td>\n",
       "    </tr>\n",
       "    <tr>\n",
       "      <th>9440</th>\n",
       "      <td>12.857143</td>\n",
       "      <td>2.553900</td>\n",
       "      <td>1.0</td>\n",
       "      <td>1.0</td>\n",
       "      <td>0.0</td>\n",
       "      <td>0.0</td>\n",
       "      <td>0.0</td>\n",
       "      <td>0.0</td>\n",
       "      <td>1.0</td>\n",
       "      <td>0.0</td>\n",
       "      <td>...</td>\n",
       "      <td>0.0</td>\n",
       "      <td>15.0</td>\n",
       "      <td>2.25</td>\n",
       "      <td>3.375</td>\n",
       "      <td>5.0625</td>\n",
       "      <td>8965</td>\n",
       "      <td>21</td>\n",
       "      <td>5380</td>\n",
       "      <td>9</td>\n",
       "      <td>3</td>\n",
       "    </tr>\n",
       "  </tbody>\n",
       "</table>\n",
       "<p>5 rows × 21 columns</p>\n",
       "</div>"
      ],
      "text/plain": [
       "               wage     lwage  sex  shs  hsg  scl  clg   ad   mw   so  ...  \\\n",
       "rownames                                                               ...   \n",
       "29303     19.230769  2.956512  1.0  0.0  0.0  0.0  0.0  1.0  0.0  0.0  ...   \n",
       "6971      10.576923  2.358675  1.0  0.0  1.0  0.0  0.0  0.0  1.0  0.0  ...   \n",
       "4663      12.943787  2.560616  1.0  0.0  1.0  0.0  0.0  0.0  0.0  0.0  ...   \n",
       "4210      66.826923  4.202106  0.0  0.0  0.0  0.0  0.0  1.0  0.0  0.0  ...   \n",
       "9440      12.857143  2.553900  1.0  1.0  0.0  0.0  0.0  0.0  1.0  0.0  ...   \n",
       "\n",
       "           ne  exp1  exp2    exp3     exp4   occ occ2   ind ind2 random  \n",
       "rownames                                                                 \n",
       "29303     0.0   1.0  0.01   0.001   0.0001  2320    8  7860   17      0  \n",
       "6971      0.0  12.0  1.44   1.728   2.0736  3500   10  8190   18      0  \n",
       "4663      1.0  27.0  7.29  19.683  53.1441  5860   17  3990    6      0  \n",
       "4210      1.0   8.0  0.64   0.512   0.4096  2100    7  7270   14      3  \n",
       "9440      0.0  15.0  2.25   3.375   5.0625  8965   21  5380    9      3  \n",
       "\n",
       "[5 rows x 21 columns]"
      ]
     },
     "execution_count": 71,
     "metadata": {},
     "output_type": "execute_result"
    }
   ],
   "source": [
    "data_2 = df1.sort_values(by=['random'])\n",
    "data_2.head()"
   ]
  },
  {
   "cell_type": "code",
   "execution_count": 72,
   "metadata": {},
   "outputs": [
    {
     "name": "stdout",
     "output_type": "stream",
     "text": [
      "(1665, 21)\n",
      "(417, 21)\n"
     ]
    }
   ],
   "source": [
    "# Create training and testing sample \n",
    "train = data_2[ : math.floor(n*4/5)]    # training sample\n",
    "test =  data_2[ math.floor(n*4/5) : ]   # testing sample\n",
    "print(train.shape)\n",
    "print(test.shape)"
   ]
  },
  {
   "cell_type": "code",
   "execution_count": 73,
   "metadata": {},
   "outputs": [],
   "source": [
    "# Basic Model\n",
    "basic = 'lwage ~ sex + exp1 + shs + hsg+ scl + clg + mw + so + we + occ2+ ind2'\n",
    "basic_results = smf.ols(basic , data = df1).fit()\n",
    "\n",
    "# Flexible model \n",
    "flex = 'lwage ~ (exp1+exp2+exp3+exp4+shs+hsg+scl+clg+occ2+ind2+mw+so+we)**2'\n",
    "flex_results = smf.ols(flex , data = df1).fit()"
   ]
  },
  {
   "cell_type": "code",
   "execution_count": 74,
   "metadata": {},
   "outputs": [
    {
     "name": "stdout",
     "output_type": "stream",
     "text": [
      "                            OLS Regression Results                            \n",
      "==============================================================================\n",
      "Dep. Variable:                  lwage   R-squared:                       0.386\n",
      "Model:                            OLS   Adj. R-squared:                  0.368\n",
      "Method:                 Least Squares   F-statistic:                     21.17\n",
      "Date:                Wed, 06 Oct 2021   Prob (F-statistic):          8.11e-137\n",
      "Time:                        10:06:10   Log-Likelihood:                -1105.0\n",
      "No. Observations:                1665   AIC:                             2308.\n",
      "Df Residuals:                    1616   BIC:                             2573.\n",
      "Df Model:                          48                                         \n",
      "Covariance Type:            nonrobust                                         \n",
      "==============================================================================\n",
      "                 coef    std err          t      P>|t|      [0.025      0.975]\n",
      "------------------------------------------------------------------------------\n",
      "Intercept      3.4877      0.090     38.560      0.000       3.310       3.665\n",
      "occ2[T.10]    -0.0440      0.075     -0.588      0.556      -0.191       0.103\n",
      "occ2[T.11]    -0.5238      0.112     -4.665      0.000      -0.744      -0.304\n",
      "occ2[T.12]    -0.4926      0.115     -4.299      0.000      -0.717      -0.268\n",
      "occ2[T.13]    -0.4665      0.077     -6.034      0.000      -0.618      -0.315\n",
      "occ2[T.14]    -0.5128      0.077     -6.694      0.000      -0.663      -0.363\n",
      "occ2[T.15]    -0.4857      0.089     -5.479      0.000      -0.660      -0.312\n",
      "occ2[T.16]    -0.2484      0.067     -3.731      0.000      -0.379      -0.118\n",
      "occ2[T.17]    -0.3761      0.056     -6.703      0.000      -0.486      -0.266\n",
      "occ2[T.18]    -0.4358      0.347     -1.257      0.209      -1.116       0.244\n",
      "occ2[T.19]    -0.1969      0.085     -2.306      0.021      -0.364      -0.029\n",
      "occ2[T.2]     -0.0837      0.080     -1.048      0.295      -0.240       0.073\n",
      "occ2[T.20]    -0.1189      0.077     -1.541      0.124      -0.270       0.032\n",
      "occ2[T.21]    -0.1790      0.067     -2.661      0.008      -0.311      -0.047\n",
      "occ2[T.22]    -0.3756      0.067     -5.582      0.000      -0.508      -0.244\n",
      "occ2[T.3]     -0.0625      0.084     -0.749      0.454      -0.226       0.101\n",
      "occ2[T.4]     -0.2412      0.110     -2.189      0.029      -0.457      -0.025\n",
      "occ2[T.5]     -0.0820      0.094     -0.873      0.383      -0.266       0.102\n",
      "occ2[T.6]     -0.4827      0.089     -5.435      0.000      -0.657      -0.309\n",
      "occ2[T.7]      0.1279      0.085      1.513      0.131      -0.038       0.294\n",
      "occ2[T.8]     -0.3824      0.071     -5.350      0.000      -0.523      -0.242\n",
      "occ2[T.9]     -0.3841      0.103     -3.725      0.000      -0.586      -0.182\n",
      "ind2[T.11]     0.0410      0.113      0.365      0.715      -0.180       0.262\n",
      "ind2[T.12]     0.1225      0.102      1.206      0.228      -0.077       0.322\n",
      "ind2[T.13]     0.0225      0.134      0.168      0.867      -0.241       0.286\n",
      "ind2[T.14]     0.0337      0.091      0.372      0.710      -0.144       0.211\n",
      "ind2[T.15]    -0.1810      0.259     -0.698      0.485      -0.690       0.328\n",
      "ind2[T.16]    -0.1494      0.094     -1.590      0.112      -0.334       0.035\n",
      "ind2[T.17]    -0.0597      0.092     -0.646      0.518      -0.241       0.122\n",
      "ind2[T.18]    -0.0657      0.088     -0.748      0.455      -0.238       0.106\n",
      "ind2[T.19]    -0.0666      0.122     -0.547      0.584      -0.305       0.172\n",
      "ind2[T.2]     -0.1392      0.164     -0.848      0.396      -0.461       0.183\n",
      "ind2[T.20]    -0.2704      0.096     -2.803      0.005      -0.460      -0.081\n",
      "ind2[T.21]    -0.1955      0.092     -2.123      0.034      -0.376      -0.015\n",
      "ind2[T.22]     0.0593      0.092      0.645      0.519      -0.121       0.240\n",
      "ind2[T.3]     -0.1525      0.139     -1.094      0.274      -0.426       0.121\n",
      "ind2[T.4]     -0.1259      0.102     -1.237      0.216      -0.325       0.074\n",
      "ind2[T.5]     -0.1229      0.094     -1.309      0.191      -0.307       0.061\n",
      "ind2[T.6]     -0.2089      0.086     -2.421      0.016      -0.378      -0.040\n",
      "ind2[T.7]      0.0122      0.128      0.095      0.924      -0.239       0.264\n",
      "ind2[T.8]      0.0090      0.127      0.071      0.943      -0.239       0.257\n",
      "ind2[T.9]     -0.1100      0.080     -1.381      0.167      -0.266       0.046\n",
      "sex           -0.0787      0.028     -2.840      0.005      -0.133      -0.024\n",
      "exp1           0.0097      0.001      8.530      0.000       0.007       0.012\n",
      "shs           -0.6061      0.063     -9.564      0.000      -0.730      -0.482\n",
      "hsg           -0.4919      0.039    -12.515      0.000      -0.569      -0.415\n",
      "scl         2.371e-17   1.17e-17      2.034      0.042    8.44e-19    4.66e-17\n",
      "clg        -1.869e-17   2.67e-17     -0.700      0.484   -7.11e-17    3.37e-17\n",
      "mw            -0.0332      0.034     -0.968      0.333      -0.101       0.034\n",
      "so            -0.0358      0.033     -1.088      0.277      -0.100       0.029\n",
      "we             0.0201      0.036      0.559      0.576      -0.050       0.091\n",
      "==============================================================================\n",
      "Omnibus:                      112.454   Durbin-Watson:                   2.013\n",
      "Prob(Omnibus):                  0.000   Jarque-Bera (JB):              482.704\n",
      "Skew:                           0.136   Prob(JB):                    1.52e-105\n",
      "Kurtosis:                       5.624   Cond. No.                     1.23e+16\n",
      "==============================================================================\n",
      "\n",
      "Notes:\n",
      "[1] Standard Errors assume that the covariance matrix of the errors is correctly specified.\n",
      "[2] The smallest eigenvalue is 3.89e-27. This might indicate that there are\n",
      "strong multicollinearity problems or that the design matrix is singular.\n"
     ]
    }
   ],
   "source": [
    "# basic model\n",
    "# estimating the parameters in the training sample\n",
    "basic_results = smf.ols(basic , data=train).fit()\n",
    "print(basic_results.summary())"
   ]
  },
  {
   "cell_type": "code",
   "execution_count": 75,
   "metadata": {},
   "outputs": [],
   "source": [
    "lwage_test = test[\"lwage\"].values\n",
    "#test = test.drop(columns=['wage', 'lwage', 'random'])\n",
    "#test\n"
   ]
  },
  {
   "cell_type": "code",
   "execution_count": 76,
   "metadata": {},
   "outputs": [
    {
     "name": "stdout",
     "output_type": "stream",
     "text": [
      "rownames\n",
      "13277    3.633907\n",
      "4417     2.718857\n",
      "3759     2.790719\n",
      "23579    2.859785\n",
      "11071    3.266115\n",
      "           ...   \n",
      "1964     2.581530\n",
      "1323     2.751720\n",
      "21595    2.785143\n",
      "4721     3.299350\n",
      "2214     3.005316\n",
      "Length: 417, dtype: float64\n"
     ]
    }
   ],
   "source": [
    "# calculating the out-of-sample MSE\n",
    "test = sm.add_constant(test)   #add constant \n",
    "\n",
    "lwage_pred =  basic_results.predict(test) # predict out of sample\n",
    "print(lwage_pred)"
   ]
  },
  {
   "cell_type": "code",
   "execution_count": 77,
   "metadata": {},
   "outputs": [
    {
     "name": "stdout",
     "output_type": "stream",
     "text": [
      "Test MSE for the basic model:  0.2596472694009289  \n",
      "Test R2 for the basic model:  0.32064801715182933\n"
     ]
    }
   ],
   "source": [
    "MSE_test1 = np.sum((lwage_test-lwage_pred)**2)/len(lwage_test)\n",
    "R2_test1  = 1 - MSE_test1/np.var(lwage_test)\n",
    "\n",
    "print(\"Test MSE for the basic model: \", MSE_test1, \" \")\n",
    "print(\"Test R2 for the basic model: \", R2_test1)"
   ]
  },
  {
   "cell_type": "markdown",
   "metadata": {},
   "source": [
    "In the basic model, the $MSE_{test}$ is quite closed to the $MSE_{sample}$."
   ]
  },
  {
   "cell_type": "code",
   "execution_count": 78,
   "metadata": {},
   "outputs": [
    {
     "name": "stdout",
     "output_type": "stream",
     "text": [
      "Test MSE for the flexible model:  1.2041588370429093  \n",
      "Test R2 for the flexible model:  -2.150611579689199\n"
     ]
    }
   ],
   "source": [
    "# Flexible model\n",
    "# estimating the parameters in the training sample\n",
    "flex_results = smf.ols(flex , data=train).fit()\n",
    "\n",
    "# calculating the out-of-sample MSE\n",
    "lwage_flex_pred =  flex_results.predict(test) # predict out of sample\n",
    "lwage_test = test[\"lwage\"].values\n",
    "\n",
    "MSE_test2 = np.sum((lwage_test-lwage_flex_pred)**2)/len(lwage_test)\n",
    "R2_test2  = 1 - MSE_test2/np.var(lwage_test)\n",
    "\n",
    "print(\"Test MSE for the flexible model: \", MSE_test2, \" \")\n",
    "print(\"Test R2 for the flexible model: \", R2_test2)"
   ]
  },
  {
   "cell_type": "markdown",
   "metadata": {},
   "source": [
    "In the flexible model, the discrepancy between the $MSE_{test}$ and the $MSE_{sample}$ is not large."
   ]
  },
  {
   "cell_type": "markdown",
   "metadata": {},
   "source": [
    "It is worth to notice that the $MSE_{test}$ vary across different data splits. Hence, it is a good idea average the out-of-sample MSE over different data splits to get valid results.\n",
    "\n",
    "Nevertheless, we observe that, based on the out-of-sample $MSE$, the basic model using ols regression performs is about as well (or slightly better) than the flexible model. \n",
    "\n",
    "\n",
    "Next, let us use lasso regression in the flexible model instead of ols regression. Lasso (*least absolute shrinkage and selection operator*) is a penalized regression method that can be used to reduce the complexity of a regression model when the number of regressors $p$ is relatively large in relation to $n$. \n",
    "\n",
    "Note that the out-of-sample $MSE$ on the test sample can be computed for any other black-box prediction method as well. Thus, let us finally compare the performance of lasso regression in the flexible model to ols regression."
   ]
  },
  {
   "cell_type": "code",
   "execution_count": 79,
   "metadata": {},
   "outputs": [
    {
     "name": "stdout",
     "output_type": "stream",
     "text": [
      "(1665, 979)\n",
      "(1665,)\n"
     ]
    }
   ],
   "source": [
    "# flexible model using lasso\n",
    "# get exogenous variables from training data used in flex model\n",
    "flex_results_0 = smf.ols(flex , data=train)\n",
    "X_train = flex_results_0.exog\n",
    "print(X_train.shape)\n",
    "\n",
    "# Get endogenous variable \n",
    "lwage_train = train[\"lwage\"]\n",
    "print(lwage_train.shape)\n"
   ]
  },
  {
   "cell_type": "code",
   "execution_count": 80,
   "metadata": {},
   "outputs": [
    {
     "name": "stdout",
     "output_type": "stream",
     "text": [
      "(417, 979)\n",
      "(417,)\n"
     ]
    }
   ],
   "source": [
    "# flexible model using lasso\n",
    "# get exogenous variables from testing data used in flex model\n",
    "flex_results_1 = smf.ols(flex , data=test)\n",
    "X_test = flex_results_1.exog\n",
    "print(X_test.shape)\n",
    "\n",
    "# Get endogenous variable \n",
    "lwage_test = test[\"lwage\"]\n",
    "print(lwage_test.shape)"
   ]
  },
  {
   "cell_type": "code",
   "execution_count": 81,
   "metadata": {},
   "outputs": [
    {
     "name": "stdout",
     "output_type": "stream",
     "text": [
      "Test MSE for the flexible model:  0.30626759008033927  \n",
      "Test R2 for the flexible model:  0.19866865889534047\n"
     ]
    },
    {
     "name": "stderr",
     "output_type": "stream",
     "text": [
      "c:\\python\\python38\\lib\\site-packages\\sklearn\\linear_model\\_coordinate_descent.py:529: ConvergenceWarning: Objective did not converge. You might want to increase the number of iterations. Duality gap: 121.54237223256281, tolerance: 0.05987734900827246\n",
      "  model = cd_fast.enet_coordinate_descent(\n"
     ]
    }
   ],
   "source": [
    "# calculating the out-of-sample MSE\n",
    "reg = linear_model.Lasso(alpha=0.1)\n",
    "lwage_lasso_fitted = reg.fit(X_train, lwage_train).predict( X_test )\n",
    "\n",
    "MSE_lasso = np.sum((lwage_test-lwage_lasso_fitted)**2)/len(lwage_test)\n",
    "R2_lasso  = 1 - MSE_lasso/np.var(lwage_test)\n",
    "\n",
    "print(\"Test MSE for the flexible model: \", MSE_lasso, \" \")\n",
    "print(\"Test R2 for the flexible model: \", R2_lasso)"
   ]
  },
  {
   "cell_type": "markdown",
   "metadata": {},
   "source": [
    "Finally, let us summarize the results:"
   ]
  },
  {
   "cell_type": "code",
   "execution_count": 82,
   "metadata": {},
   "outputs": [
    {
     "data": {
      "text/html": [
       "<div>\n",
       "<style scoped>\n",
       "    .dataframe tbody tr th:only-of-type {\n",
       "        vertical-align: middle;\n",
       "    }\n",
       "\n",
       "    .dataframe tbody tr th {\n",
       "        vertical-align: top;\n",
       "    }\n",
       "\n",
       "    .dataframe thead th {\n",
       "        text-align: right;\n",
       "    }\n",
       "</style>\n",
       "<table border=\"1\" class=\"dataframe\">\n",
       "  <thead>\n",
       "    <tr style=\"text-align: right;\">\n",
       "      <th></th>\n",
       "      <th>$MSE_{test}$</th>\n",
       "      <th>$R^2_{test}$</th>\n",
       "    </tr>\n",
       "  </thead>\n",
       "  <tbody>\n",
       "    <tr>\n",
       "      <th>basic reg</th>\n",
       "      <td>0.259647</td>\n",
       "      <td>0.320648</td>\n",
       "    </tr>\n",
       "    <tr>\n",
       "      <th>flexible reg</th>\n",
       "      <td>1.204159</td>\n",
       "      <td>-2.150612</td>\n",
       "    </tr>\n",
       "    <tr>\n",
       "      <th>lasso regression</th>\n",
       "      <td>0.306268</td>\n",
       "      <td>0.198669</td>\n",
       "    </tr>\n",
       "  </tbody>\n",
       "</table>\n",
       "</div>"
      ],
      "text/plain": [
       "                  $MSE_{test}$  $R^2_{test}$\n",
       "basic reg             0.259647      0.320648\n",
       "flexible reg          1.204159     -2.150612\n",
       "lasso regression      0.306268      0.198669"
      ]
     },
     "execution_count": 82,
     "metadata": {},
     "output_type": "execute_result"
    }
   ],
   "source": [
    "# Package for latex table \n",
    "import array_to_latex as a2l\n",
    "\n",
    "table2 = np.zeros((3, 2))\n",
    "table2[0,0] = MSE_test1\n",
    "table2[1,0] = MSE_test2\n",
    "table2[2,0] = MSE_lasso\n",
    "table2[0,1] = R2_test1\n",
    "table2[1,1] = R2_test2\n",
    "table2[2,1] = R2_lasso\n",
    "\n",
    "table2 = pd.DataFrame(table2, columns = [\"$MSE_{test}$\", \"$R^2_{test}$\"], \\\n",
    "                      index = [\"basic reg\",\"flexible reg\",\"lasso regression\"])\n",
    "table2"
   ]
  },
  {
   "cell_type": "code",
   "execution_count": 83,
   "metadata": {},
   "outputs": [
    {
     "name": "stdout",
     "output_type": "stream",
     "text": [
      "\\begin{tabular}{lrr}\n",
      "\\toprule\n",
      "{} &  \\$MSE\\_\\{test\\}\\$ &  \\$R\\textasciicircum 2\\_\\{test\\}\\$ \\\\\n",
      "\\midrule\n",
      "basic reg        &      0.259647 &      0.320648 \\\\\n",
      "flexible reg     &      1.204159 &     -2.150612 \\\\\n",
      "lasso regression &      0.306268 &      0.198669 \\\\\n",
      "\\bottomrule\n",
      "\\end{tabular}\n",
      "\n"
     ]
    }
   ],
   "source": [
    "table2.to_latex\n",
    "print(table2.to_latex())"
   ]
  }
 ],
 "metadata": {
  "hide_input": false,
  "kernelspec": {
   "display_name": "Python 3",
   "language": "python",
   "name": "python3"
  },
  "language_info": {
   "codemirror_mode": {
    "name": "ipython",
    "version": 3
   },
   "file_extension": ".py",
   "mimetype": "text/x-python",
   "name": "python",
   "nbconvert_exporter": "python",
   "pygments_lexer": "ipython3",
   "version": "3.8.6"
  }
 },
 "nbformat": 4,
 "nbformat_minor": 4
}
