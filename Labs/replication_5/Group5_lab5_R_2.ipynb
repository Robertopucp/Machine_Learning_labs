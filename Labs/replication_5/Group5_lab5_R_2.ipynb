{
 "cells": [
  {
   "cell_type": "markdown",
   "id": "278e3dba",
   "metadata": {},
   "source": [
    "This part is the continuation of the R script, the first part of R(bootstraping) is in the Group5_lab5_R file. The work was divided in two parts because there were problems with the code when both parts were put together."
   ]
  },
  {
   "cell_type": "markdown",
   "id": "e907523a",
   "metadata": {},
   "source": [
    "# Causal Tree - Only script in R"
   ]
  },
  {
   "cell_type": "markdown",
   "id": "cae17dde",
   "metadata": {},
   "source": [
    "1."
   ]
  },
  {
   "cell_type": "code",
   "execution_count": 1,
   "id": "1305c4e2",
   "metadata": {},
   "outputs": [],
   "source": [
    "## loading the data\n",
    "data <- as.data.frame(read.table(\"../data/penn_jae.dat\", header=T ))\n",
    "n <- dim(data)[1]\n",
    "p_1 <- dim(data)[2]\n",
    "data<- subset(data, tg== 4| tg==0)\n",
    "attach(data)\n",
    "T4<- (tg==4)\n",
    "T4<-as.numeric(T4)\n",
    "data=cbind(data,T4)\n"
   ]
  },
  {
   "cell_type": "code",
   "execution_count": 2,
   "id": "b1e195cf",
   "metadata": {},
   "outputs": [
    {
     "data": {
      "text/html": [
       "<table>\n",
       "<thead><tr><th></th><th scope=col>abdt</th><th scope=col>tg</th><th scope=col>inuidur1</th><th scope=col>inuidur2</th><th scope=col>female</th><th scope=col>black</th><th scope=col>hispanic</th><th scope=col>othrace</th><th scope=col>dep</th><th scope=col>q1</th><th scope=col>...</th><th scope=col>q6</th><th scope=col>recall</th><th scope=col>agelt35</th><th scope=col>agegt54</th><th scope=col>durable</th><th scope=col>nondurable</th><th scope=col>lusd</th><th scope=col>husd</th><th scope=col>muld</th><th scope=col>T4</th></tr></thead>\n",
       "<tbody>\n",
       "\t<tr><th scope=row>1</th><td>10824</td><td>0    </td><td>18   </td><td>18   </td><td>0    </td><td>0    </td><td>0    </td><td>0    </td><td>2    </td><td>0    </td><td>...  </td><td>0    </td><td>0    </td><td>0    </td><td>0    </td><td>0    </td><td>0    </td><td>0    </td><td>1    </td><td>0    </td><td>0    </td></tr>\n",
       "\t<tr><th scope=row>4</th><td>10824</td><td>0    </td><td> 1   </td><td> 1   </td><td>0    </td><td>0    </td><td>0    </td><td>0    </td><td>0    </td><td>0    </td><td>...  </td><td>0    </td><td>0    </td><td>0    </td><td>0    </td><td>0    </td><td>0    </td><td>1    </td><td>0    </td><td>0    </td><td>0    </td></tr>\n",
       "\t<tr><th scope=row>5</th><td>10747</td><td>0    </td><td>27   </td><td>27   </td><td>0    </td><td>0    </td><td>0    </td><td>0    </td><td>0    </td><td>0    </td><td>...  </td><td>0    </td><td>0    </td><td>0    </td><td>0    </td><td>0    </td><td>0    </td><td>1    </td><td>0    </td><td>0    </td><td>0    </td></tr>\n",
       "\t<tr><th scope=row>12</th><td>10607</td><td>4    </td><td> 9   </td><td> 9   </td><td>0    </td><td>0    </td><td>0    </td><td>0    </td><td>0    </td><td>0    </td><td>...  </td><td>0    </td><td>0    </td><td>1    </td><td>0    </td><td>0    </td><td>0    </td><td>0    </td><td>0    </td><td>1    </td><td>1    </td></tr>\n",
       "\t<tr><th scope=row>13</th><td>10831</td><td>0    </td><td>27   </td><td>27   </td><td>0    </td><td>0    </td><td>0    </td><td>0    </td><td>1    </td><td>0    </td><td>...  </td><td>0    </td><td>0    </td><td>0    </td><td>1    </td><td>1    </td><td>0    </td><td>1    </td><td>0    </td><td>0    </td><td>0    </td></tr>\n",
       "\t<tr><th scope=row>14</th><td>10845</td><td>0    </td><td>27   </td><td>27   </td><td>1    </td><td>0    </td><td>0    </td><td>0    </td><td>0    </td><td>0    </td><td>...  </td><td>0    </td><td>0    </td><td>0    </td><td>1    </td><td>0    </td><td>0    </td><td>1    </td><td>0    </td><td>0    </td><td>0    </td></tr>\n",
       "</tbody>\n",
       "</table>\n"
      ],
      "text/latex": [
       "\\begin{tabular}{r|llllllllllllllllllllllll}\n",
       "  & abdt & tg & inuidur1 & inuidur2 & female & black & hispanic & othrace & dep & q1 & ... & q6 & recall & agelt35 & agegt54 & durable & nondurable & lusd & husd & muld & T4\\\\\n",
       "\\hline\n",
       "\t1 & 10824 & 0     & 18    & 18    & 0     & 0     & 0     & 0     & 2     & 0     & ...   & 0     & 0     & 0     & 0     & 0     & 0     & 0     & 1     & 0     & 0    \\\\\n",
       "\t4 & 10824 & 0     &  1    &  1    & 0     & 0     & 0     & 0     & 0     & 0     & ...   & 0     & 0     & 0     & 0     & 0     & 0     & 1     & 0     & 0     & 0    \\\\\n",
       "\t5 & 10747 & 0     & 27    & 27    & 0     & 0     & 0     & 0     & 0     & 0     & ...   & 0     & 0     & 0     & 0     & 0     & 0     & 1     & 0     & 0     & 0    \\\\\n",
       "\t12 & 10607 & 4     &  9    &  9    & 0     & 0     & 0     & 0     & 0     & 0     & ...   & 0     & 0     & 1     & 0     & 0     & 0     & 0     & 0     & 1     & 1    \\\\\n",
       "\t13 & 10831 & 0     & 27    & 27    & 0     & 0     & 0     & 0     & 1     & 0     & ...   & 0     & 0     & 0     & 1     & 1     & 0     & 1     & 0     & 0     & 0    \\\\\n",
       "\t14 & 10845 & 0     & 27    & 27    & 1     & 0     & 0     & 0     & 0     & 0     & ...   & 0     & 0     & 0     & 1     & 0     & 0     & 1     & 0     & 0     & 0    \\\\\n",
       "\\end{tabular}\n"
      ],
      "text/markdown": [
       "\n",
       "| <!--/--> | abdt | tg | inuidur1 | inuidur2 | female | black | hispanic | othrace | dep | q1 | ... | q6 | recall | agelt35 | agegt54 | durable | nondurable | lusd | husd | muld | T4 |\n",
       "|---|---|---|---|---|---|---|---|---|---|---|---|---|---|---|---|---|---|---|---|---|---|\n",
       "| 1 | 10824 | 0     | 18    | 18    | 0     | 0     | 0     | 0     | 2     | 0     | ...   | 0     | 0     | 0     | 0     | 0     | 0     | 0     | 1     | 0     | 0     |\n",
       "| 4 | 10824 | 0     |  1    |  1    | 0     | 0     | 0     | 0     | 0     | 0     | ...   | 0     | 0     | 0     | 0     | 0     | 0     | 1     | 0     | 0     | 0     |\n",
       "| 5 | 10747 | 0     | 27    | 27    | 0     | 0     | 0     | 0     | 0     | 0     | ...   | 0     | 0     | 0     | 0     | 0     | 0     | 1     | 0     | 0     | 0     |\n",
       "| 12 | 10607 | 4     |  9    |  9    | 0     | 0     | 0     | 0     | 0     | 0     | ...   | 0     | 0     | 1     | 0     | 0     | 0     | 0     | 0     | 1     | 1     |\n",
       "| 13 | 10831 | 0     | 27    | 27    | 0     | 0     | 0     | 0     | 1     | 0     | ...   | 0     | 0     | 0     | 1     | 1     | 0     | 1     | 0     | 0     | 0     |\n",
       "| 14 | 10845 | 0     | 27    | 27    | 1     | 0     | 0     | 0     | 0     | 0     | ...   | 0     | 0     | 0     | 1     | 0     | 0     | 1     | 0     | 0     | 0     |\n",
       "\n"
      ],
      "text/plain": [
       "   abdt  tg inuidur1 inuidur2 female black hispanic othrace dep q1 ... q6\n",
       "1  10824 0  18       18       0      0     0        0       2   0  ... 0 \n",
       "4  10824 0   1        1       0      0     0        0       0   0  ... 0 \n",
       "5  10747 0  27       27       0      0     0        0       0   0  ... 0 \n",
       "12 10607 4   9        9       0      0     0        0       0   0  ... 0 \n",
       "13 10831 0  27       27       0      0     0        0       1   0  ... 0 \n",
       "14 10845 0  27       27       1      0     0        0       0   0  ... 0 \n",
       "   recall agelt35 agegt54 durable nondurable lusd husd muld T4\n",
       "1  0      0       0       0       0          0    1    0    0 \n",
       "4  0      0       0       0       0          1    0    0    0 \n",
       "5  0      0       0       0       0          1    0    0    0 \n",
       "12 0      1       0       0       0          0    0    1    1 \n",
       "13 0      0       1       1       0          1    0    0    0 \n",
       "14 0      0       1       0       0          1    0    0    0 "
      ]
     },
     "metadata": {},
     "output_type": "display_data"
    }
   ],
   "source": [
    "head(data)"
   ]
  },
  {
   "cell_type": "code",
   "execution_count": 3,
   "id": "e274113f",
   "metadata": {},
   "outputs": [],
   "source": [
    "# Treatment: does the the gov't spend too much on \"welfare\" (1) or \"assistance to the poor\" (0)\n",
    "treatment <- \"T4\"\n",
    "# Outcome: 1 for 'yes', 0 for 'no'\n",
    "outcome <- \"log(inuidur1)\"\n",
    "\n",
    "# Additional covariates\n",
    "covariates <- c(\"female\", \"black\", \"othrace\", \"factor(dep)\", \"q2\", \"q3\",\"q4\",\"q5\",\"q6\",\"agelt35\",\"agegt54\",\"durable\",\"lusd\",\"husd\")\n"
   ]
  },
  {
   "cell_type": "code",
   "execution_count": 4,
   "id": "83063f94",
   "metadata": {},
   "outputs": [
    {
     "name": "stderr",
     "output_type": "stream",
     "text": [
      "Loading required package: rpart\n",
      "Loading required package: rpart.plot\n",
      "Loading required package: data.table\n",
      "Loading required package: Matrix\n",
      "Loading required package: foreach\n",
      "Loaded glmnet 2.0-16\n",
      "\n",
      "Loading required package: zoo\n",
      "\n",
      "Attaching package: 'zoo'\n",
      "\n",
      "The following objects are masked from 'package:base':\n",
      "\n",
      "    as.Date, as.Date.numeric\n",
      "\n",
      "Registered S3 methods overwritten by 'ggplot2':\n",
      "  method         from \n",
      "  [.quosures     rlang\n",
      "  c.quosures     rlang\n",
      "  print.quosures rlang\n"
     ]
    }
   ],
   "source": [
    "#install.packages(\"grf\")\n",
    "library(causalTree)\n",
    "library(grf)\n",
    "library(rpart)\n",
    "library(glmnet)\n",
    "library(splines)\n",
    "library(MASS)\n",
    "library(lmtest)\n",
    "library(sandwich)\n",
    "library(ggplot2)"
   ]
  },
  {
   "cell_type": "code",
   "execution_count": 5,
   "id": "0fd4336e",
   "metadata": {},
   "outputs": [
    {
     "data": {
      "text/plain": [
       "\n",
       "t test of coefficients:\n",
       "\n",
       "               Estimate Std. Error t value  Pr(>|t|)    \n",
       "(Intercept)   2.1866134  0.1546279 14.1411 < 2.2e-16 ***\n",
       "T4           -0.1067286  0.0456101 -2.3400  0.019321 *  \n",
       "female        0.0965599  0.0431095  2.2399  0.025142 *  \n",
       "black        -0.2949657  0.0594562 -4.9611 7.240e-07 ***\n",
       "othrace      -0.4681574  0.2438624 -1.9198  0.054944 .  \n",
       "factor(dep)1  0.0285410  0.0542094  0.5265  0.598567    \n",
       "factor(dep)2  0.0955944  0.0463860  2.0608  0.039369 *  \n",
       "q2            0.0792115  0.1518598  0.5216  0.601965    \n",
       "q3           -0.0333002  0.1516822 -0.2195  0.826239    \n",
       "q4           -0.0495716  0.1520543 -0.3260  0.744428    \n",
       "q5           -0.1380873  0.1518515 -0.9094  0.363204    \n",
       "q6            0.0059989  0.1633621  0.0367  0.970708    \n",
       "agelt35      -0.1645460  0.0370277 -4.4439 9.024e-06 ***\n",
       "agegt54       0.2285792  0.0578868  3.9487 7.963e-05 ***\n",
       "durable       0.1265560  0.0481703  2.6273  0.008633 ** \n",
       "lusd         -0.1753120  0.0404572 -4.3333 1.497e-05 ***\n",
       "husd         -0.1049685  0.0442228 -2.3736  0.017651 *  \n",
       "T4:female     0.0869164  0.0723464  1.2014  0.229655    \n",
       "---\n",
       "Signif. codes:  0 '***' 0.001 '**' 0.01 '*' 0.05 '.' 0.1 ' ' 1\n"
      ]
     },
     "metadata": {},
     "output_type": "display_data"
    }
   ],
   "source": [
    "m <- lm(log(inuidur1)~T4*female+black+othrace+factor(dep)+q2+q3+q4+q5+q6+agelt35+agegt54+durable+lusd+husd,data=data)\n",
    "coeftest(m, vcov = vcovHC(m, type=\"HC2\"))"
   ]
  },
  {
   "cell_type": "markdown",
   "id": "8ce6111a",
   "metadata": {},
   "source": [
    "# 2. Casual trees"
   ]
  },
  {
   "cell_type": "code",
   "execution_count": 6,
   "id": "3bc8ed8c",
   "metadata": {},
   "outputs": [],
   "source": [
    "indices <- split(seq(nrow(data)), sort(seq(nrow(data)) %% 3))\n",
    "names(indices) <- c('split', 'est', 'test')"
   ]
  },
  {
   "cell_type": "code",
   "execution_count": 7,
   "id": "c58b7607",
   "metadata": {},
   "outputs": [
    {
     "name": "stdout",
     "output_type": "stream",
     "text": [
      "[1] 2\n",
      "[1] \"CT\"\n"
     ]
    }
   ],
   "source": [
    "# Fitting the forest\n",
    "ct.unpruned <- honest.causalTree(\n",
    "  formula=lm(log(inuidur1)~T4+ (female+black+othrace+factor(dep)+q2+q3+q4+q5+q6+agelt35+agegt54+durable+lusd+husd)), # Define the model\n",
    "  data=data[indices$split,],\n",
    "  treatment=data[indices$split, treatment],\n",
    "  est_data=data[indices$est,],\n",
    "  est_treatment=data[indices$est, treatment],\n",
    "  minsize=1,                 # Min. number of treatment and control cases in each leaf\n",
    "  HonestSampleSize=length(indices$est), #  Num obs used in estimation after splitting\n",
    "  \n",
    "  # We recommend not changing the parameters below\n",
    "  split.Rule=\"CT\",            # Define the splitting option\n",
    "  cv.option=\"TOT\",            # Cross validation options\n",
    "  cp=0,                       # Complexity parameter\n",
    "  split.Honest=TRUE,          # Use honesty when splitting\n",
    "  cv.Honest=TRUE              # Use honesty when performing cross-validation\n",
    ")"
   ]
  },
  {
   "cell_type": "code",
   "execution_count": 8,
   "id": "bc5bd571",
   "metadata": {},
   "outputs": [],
   "source": [
    "# Table of cross-validated values by tuning parameter.\n",
    "ct.cptable <- as.data.frame(ct.unpruned$cptable)"
   ]
  },
  {
   "cell_type": "code",
   "execution_count": 9,
   "id": "c619788b",
   "metadata": {},
   "outputs": [],
   "source": [
    "# Obtain optimal complexity parameter to prune tree.\n",
    "cp.selected <- which.min(ct.cptable$xerror)"
   ]
  },
  {
   "cell_type": "code",
   "execution_count": 10,
   "id": "de70482a",
   "metadata": {},
   "outputs": [],
   "source": [
    "cp.optimal <- ct.cptable[cp.selected, \"CP\"]\n",
    "\n",
    "# Prune the tree at optimal complexity parameter.\n",
    "ct.pruned <- prune(tree=ct.unpruned, cp=cp.optimal)"
   ]
  },
  {
   "cell_type": "code",
   "execution_count": 11,
   "id": "5dc4b15d",
   "metadata": {},
   "outputs": [],
   "source": [
    "# Predict point estimates (on estimation sample)\n",
    "tau.hat.est <- predict(ct.pruned, newdata=data[indices$est,])\n",
    "\n",
    "# Create a factor column 'leaf' indicating leaf assignment in the estimation set\n",
    "num.leaves <- length(unique(tau.hat.est))\n",
    "leaf <- factor(tau.hat.est, levels=sort(unique(tau.hat.est)), labels = seq(num.leaves))"
   ]
  },
  {
   "cell_type": "code",
   "execution_count": 12,
   "id": "e20a7899",
   "metadata": {},
   "outputs": [
    {
     "data": {
      "image/png": "[encoded data removed]",
      "text/plain": [
       "plot without title"
      ]
     },
     "metadata": {},
     "output_type": "display_data"
    }
   ],
   "source": [
    "rpart.plot(\n",
    "  x=ct.pruned,        # Pruned tree\n",
    "  type=3,             # Draw separate split labels for the left and right directions\n",
    "  fallen=TRUE,        # Position the leaf nodes at the bottom of the graph\n",
    "  leaf.round=1,       # Rounding of the corners of the leaf node boxes\n",
    "  extra=100,          # Display the percentage of observations in the node\n",
    "  branch=.1,          # Shape of the branch lines\n",
    "  box.palette=\"RdBu\") # Palette for coloring the node"
   ]
  },
  {
   "cell_type": "markdown",
   "id": "984b32ba",
   "metadata": {},
   "source": [
    "### Plot the pruned tree and explain the HTE you found."
   ]
  },
  {
   "cell_type": "markdown",
   "id": "42e672cc",
   "metadata": {},
   "source": [
    "For the subgroup where q(quarter of the experiment where the participant was enrolled)=5, female=0(male), q6=0, durable=0(occupation not in the manufacturing sector) and agegt54(older than 54 years)=1, the HTE is -0.26. \n",
    "Where the most positive HTE was for the subgroup where q5=0, female=1,agelt35=1,q6=1,Husd=0 with a value of 1.1.\n",
    "On the contrary, the most negative HTE was for the subgroup where q5=0, female=0,q6=0,durable=1,lusd=0,q4=0,agelt35=0,factor(dep)=0 with a value of -0.86."
   ]
  },
  {
   "cell_type": "markdown",
   "id": "0c8f1aa0",
   "metadata": {},
   "source": [
    "### Explain why we need to partitionate the data in three sets."
   ]
  },
  {
   "cell_type": "markdown",
   "id": "866c0ce9",
   "metadata": {},
   "source": [
    "In order to correctly estimate the heterogeneity in the treatment effects it is necessary to subdivide the sample because using the same sample for each step (adaptive method) would create an overfitting problem. \n"
   ]
  },
  {
   "cell_type": "markdown",
   "id": "f689f20a",
   "metadata": {},
   "source": [
    "### Why do we need to use the honest.causalTree function?\n"
   ]
  },
  {
   "cell_type": "markdown",
   "id": "8d394ebe",
   "metadata": {},
   "source": [
    "The problem with adaptive methods is that they do not perform data partitioning and used the same data for tree creation and for estimating heterogeneous treatment effects. So, this function allows us to estimate causal effects with data different from the data used for tree creation and testing."
   ]
  },
  {
   "cell_type": "markdown",
   "id": "60c402d0",
   "metadata": {},
   "source": [
    "### Explain in detail the creation of the tree and how do you choose the optimal pruned tree\n",
    "\n",
    "\n"
   ]
  },
  {
   "cell_type": "markdown",
   "id": "0e109424",
   "metadata": {},
   "source": [
    "First we divide our data into three: split, estimation and test. Where the split data is used to create a tree in which we maximize the heterogeneity in the estimated treatment effect across leaves. The estimation data is used in the tree created in the previous step to estimate the heterogeneous treatment effect on each leaf. Finally the test data is used to check if the estimates are the same as the true values.\n",
    "For the selection of the optimal pruned tree it is necessary to obtain an optimal complexity parameter. This parameter selects the node where the error is minimized and starts to cut the tree. Different methods can be used to calculate the error. TOT,CT, fit and matching.\n"
   ]
  }
 ],
 "metadata": {
  "kernelspec": {
   "display_name": "R",
   "language": "R",
   "name": "ir"
  },
  "language_info": {
   "codemirror_mode": "r",
   "file_extension": ".r",
   "mimetype": "text/x-r-source",
   "name": "R",
   "pygments_lexer": "r",
   "version": "3.6.1"
  }
 },
 "nbformat": 4,
 "nbformat_minor": 5
}
