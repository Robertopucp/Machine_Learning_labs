{
 "cells": [
  {
   "cell_type": "markdown",
   "id": "97d78831",
   "metadata": {},
   "source": [
    "## Group 8_Lab5"
   ]
  },
  {
   "cell_type": "markdown",
   "id": "5238c610",
   "metadata": {},
   "source": [
    "Integrants: \n",
    "\n",
    "- Giafranco Soria (20163509) \n",
    "- Andrea Clavo (20176040)\n",
    "- Sandra Martinez (20173026)"
   ]
  },
  {
   "cell_type": "code",
   "execution_count": 40,
   "id": "9dd001ca",
   "metadata": {},
   "outputs": [],
   "source": [
    "import pandas as pd\n",
    "import numpy as np\n",
    "import pyreadr\n",
    "import math\n",
    "import random\n",
    "import os\n",
    "import csv\n",
    "\n",
    "from sklearn.preprocessing import PolynomialFeatures\n",
    "from sklearn.linear_model import LinearRegression\n",
    "from sklearn.model_selection import train_test_split,cross_val_score\n",
    "from sklearn.metrics import mean_squared_error\n",
    "\n",
    "import matplotlib.pyplot as plt\n",
    "import seaborn as sns"
   ]
  },
  {
   "cell_type": "code",
   "execution_count": 41,
   "id": "f5b8d016",
   "metadata": {},
   "outputs": [],
   "source": [
    "Penn = pd.read_csv(\"C:/Users/andre/OneDrive/Documents/GitHub/ECO224/Labs/data/penn_jae.dat\" , sep='\\s', engine='python')\n",
    "n = Penn.shape[0]\n",
    "#numero de covariables \n",
    "p_1 = Penn.shape[1]\n",
    "Penn = Penn[ (Penn['tg'] == 4) | (Penn['tg'] == 0) ]"
   ]
  },
  {
   "cell_type": "code",
   "execution_count": 42,
   "id": "c31ccd83",
   "metadata": {},
   "outputs": [
    {
     "name": "stdout",
     "output_type": "stream",
     "text": [
      "<class 'pandas.core.frame.DataFrame'>\n",
      "Int64Index: 5099 entries, 0 to 13911\n",
      "Data columns (total 24 columns):\n",
      " #   Column       Non-Null Count  Dtype  \n",
      "---  ------       --------------  -----  \n",
      " 0   abdt         5099 non-null   int64  \n",
      " 1   tg           5099 non-null   int64  \n",
      " 2   inuidur1     5099 non-null   int64  \n",
      " 3   inuidur2     5099 non-null   int64  \n",
      " 4   female       5099 non-null   int64  \n",
      " 5   black        5099 non-null   int64  \n",
      " 6   hispanic     5099 non-null   int64  \n",
      " 7   othrace      5099 non-null   int64  \n",
      " 8   dep          5099 non-null   int64  \n",
      " 9   q1           5099 non-null   int64  \n",
      " 10  q2           5099 non-null   int64  \n",
      " 11  q3           5099 non-null   int64  \n",
      " 12  q4           5099 non-null   int64  \n",
      " 13  Unnamed: 13  5099 non-null   int64  \n",
      " 14  q5           5099 non-null   int64  \n",
      " 15  q6           5099 non-null   int64  \n",
      " 16  recall       5099 non-null   int64  \n",
      " 17  agelt35      5099 non-null   int64  \n",
      " 18  agegt54      5099 non-null   int64  \n",
      " 19  durable      5099 non-null   int64  \n",
      " 20  nondurable   5099 non-null   int64  \n",
      " 21  lusd         5099 non-null   int64  \n",
      " 22  husd         5099 non-null   int64  \n",
      " 23  muld         0 non-null      float64\n",
      "dtypes: float64(1), int64(23)\n",
      "memory usage: 995.9 KB\n"
     ]
    }
   ],
   "source": [
    "Penn.columns\n",
    "Penn.info()"
   ]
  },
  {
   "cell_type": "code",
   "execution_count": 43,
   "id": "cf3e392b",
   "metadata": {
    "scrolled": true
   },
   "outputs": [
    {
     "data": {
      "text/html": [
       "<div>\n",
       "<style scoped>\n",
       "    .dataframe tbody tr th:only-of-type {\n",
       "        vertical-align: middle;\n",
       "    }\n",
       "\n",
       "    .dataframe tbody tr th {\n",
       "        vertical-align: top;\n",
       "    }\n",
       "\n",
       "    .dataframe thead th {\n",
       "        text-align: right;\n",
       "    }\n",
       "</style>\n",
       "<table border=\"1\" class=\"dataframe\">\n",
       "  <thead>\n",
       "    <tr style=\"text-align: right;\">\n",
       "      <th></th>\n",
       "      <th>abdt</th>\n",
       "      <th>tg</th>\n",
       "      <th>inuidur1</th>\n",
       "      <th>inuidur2</th>\n",
       "      <th>female</th>\n",
       "      <th>black</th>\n",
       "      <th>hispanic</th>\n",
       "      <th>othrace</th>\n",
       "      <th>dep</th>\n",
       "      <th>q1</th>\n",
       "      <th>...</th>\n",
       "      <th>q6</th>\n",
       "      <th>recall</th>\n",
       "      <th>agelt35</th>\n",
       "      <th>agegt54</th>\n",
       "      <th>durable</th>\n",
       "      <th>nondurable</th>\n",
       "      <th>lusd</th>\n",
       "      <th>husd</th>\n",
       "      <th>muld</th>\n",
       "      <th>T4</th>\n",
       "    </tr>\n",
       "  </thead>\n",
       "  <tbody>\n",
       "    <tr>\n",
       "      <th>0</th>\n",
       "      <td>10824</td>\n",
       "      <td>0</td>\n",
       "      <td>18</td>\n",
       "      <td>18</td>\n",
       "      <td>0</td>\n",
       "      <td>0</td>\n",
       "      <td>0</td>\n",
       "      <td>0</td>\n",
       "      <td>2</td>\n",
       "      <td>0</td>\n",
       "      <td>...</td>\n",
       "      <td>0</td>\n",
       "      <td>0</td>\n",
       "      <td>0</td>\n",
       "      <td>0</td>\n",
       "      <td>0</td>\n",
       "      <td>0</td>\n",
       "      <td>1</td>\n",
       "      <td>0</td>\n",
       "      <td>NaN</td>\n",
       "      <td>0</td>\n",
       "    </tr>\n",
       "    <tr>\n",
       "      <th>3</th>\n",
       "      <td>10824</td>\n",
       "      <td>0</td>\n",
       "      <td>1</td>\n",
       "      <td>1</td>\n",
       "      <td>0</td>\n",
       "      <td>0</td>\n",
       "      <td>0</td>\n",
       "      <td>0</td>\n",
       "      <td>0</td>\n",
       "      <td>0</td>\n",
       "      <td>...</td>\n",
       "      <td>0</td>\n",
       "      <td>0</td>\n",
       "      <td>0</td>\n",
       "      <td>0</td>\n",
       "      <td>0</td>\n",
       "      <td>1</td>\n",
       "      <td>0</td>\n",
       "      <td>0</td>\n",
       "      <td>NaN</td>\n",
       "      <td>0</td>\n",
       "    </tr>\n",
       "    <tr>\n",
       "      <th>4</th>\n",
       "      <td>10747</td>\n",
       "      <td>0</td>\n",
       "      <td>27</td>\n",
       "      <td>27</td>\n",
       "      <td>0</td>\n",
       "      <td>0</td>\n",
       "      <td>0</td>\n",
       "      <td>0</td>\n",
       "      <td>0</td>\n",
       "      <td>0</td>\n",
       "      <td>...</td>\n",
       "      <td>0</td>\n",
       "      <td>0</td>\n",
       "      <td>0</td>\n",
       "      <td>0</td>\n",
       "      <td>0</td>\n",
       "      <td>1</td>\n",
       "      <td>0</td>\n",
       "      <td>0</td>\n",
       "      <td>NaN</td>\n",
       "      <td>0</td>\n",
       "    </tr>\n",
       "    <tr>\n",
       "      <th>11</th>\n",
       "      <td>10607</td>\n",
       "      <td>4</td>\n",
       "      <td>9</td>\n",
       "      <td>9</td>\n",
       "      <td>0</td>\n",
       "      <td>0</td>\n",
       "      <td>0</td>\n",
       "      <td>0</td>\n",
       "      <td>0</td>\n",
       "      <td>0</td>\n",
       "      <td>...</td>\n",
       "      <td>0</td>\n",
       "      <td>1</td>\n",
       "      <td>0</td>\n",
       "      <td>0</td>\n",
       "      <td>0</td>\n",
       "      <td>0</td>\n",
       "      <td>0</td>\n",
       "      <td>1</td>\n",
       "      <td>NaN</td>\n",
       "      <td>1</td>\n",
       "    </tr>\n",
       "    <tr>\n",
       "      <th>12</th>\n",
       "      <td>10831</td>\n",
       "      <td>0</td>\n",
       "      <td>27</td>\n",
       "      <td>27</td>\n",
       "      <td>0</td>\n",
       "      <td>0</td>\n",
       "      <td>0</td>\n",
       "      <td>0</td>\n",
       "      <td>1</td>\n",
       "      <td>0</td>\n",
       "      <td>...</td>\n",
       "      <td>0</td>\n",
       "      <td>0</td>\n",
       "      <td>1</td>\n",
       "      <td>1</td>\n",
       "      <td>0</td>\n",
       "      <td>1</td>\n",
       "      <td>0</td>\n",
       "      <td>0</td>\n",
       "      <td>NaN</td>\n",
       "      <td>0</td>\n",
       "    </tr>\n",
       "  </tbody>\n",
       "</table>\n",
       "<p>5 rows × 25 columns</p>\n",
       "</div>"
      ],
      "text/plain": [
       "     abdt  tg  inuidur1  inuidur2  female  black  hispanic  othrace dep  q1  \\\n",
       "0   10824   0        18        18       0      0         0        0   2   0   \n",
       "3   10824   0         1         1       0      0         0        0   0   0   \n",
       "4   10747   0        27        27       0      0         0        0   0   0   \n",
       "11  10607   4         9         9       0      0         0        0   0   0   \n",
       "12  10831   0        27        27       0      0         0        0   1   0   \n",
       "\n",
       "    ...  q6  recall  agelt35  agegt54  durable  nondurable  lusd  husd  muld  \\\n",
       "0   ...   0       0        0        0        0           0     1     0   NaN   \n",
       "3   ...   0       0        0        0        0           1     0     0   NaN   \n",
       "4   ...   0       0        0        0        0           1     0     0   NaN   \n",
       "11  ...   0       1        0        0        0           0     0     1   NaN   \n",
       "12  ...   0       0        1        1        0           1     0     0   NaN   \n",
       "\n",
       "    T4  \n",
       "0    0  \n",
       "3    0  \n",
       "4    0  \n",
       "11   1  \n",
       "12   0  \n",
       "\n",
       "[5 rows x 25 columns]"
      ]
     },
     "execution_count": 43,
     "metadata": {},
     "output_type": "execute_result"
    }
   ],
   "source": [
    "# Dependent variable\n",
    "Penn['T4'] = (Penn[['tg']]==4).astype(int)\n",
    "\n",
    "# Create category variable\n",
    "Penn['dep'] = Penn['dep'].astype( 'category' )\n",
    "Penn.head()\n"
   ]
  },
  {
   "cell_type": "code",
   "execution_count": 44,
   "id": "bac3f389",
   "metadata": {},
   "outputs": [
    {
     "data": {
      "text/plain": [
       "[2, 0, 1]\n",
       "Categories (3, int64): [2, 0, 1]"
      ]
     },
     "execution_count": 44,
     "metadata": {},
     "output_type": "execute_result"
    }
   ],
   "source": [
    "Penn['dep'].unique()"
   ]
  },
  {
   "cell_type": "code",
   "execution_count": 45,
   "id": "3d9e8e7a",
   "metadata": {},
   "outputs": [
    {
     "data": {
      "text/plain": [
       "Index(['abdt', 'tg', 'inuidur1', 'inuidur2', 'female', 'black', 'hispanic',\n",
       "       'othrace', 'dep', 'q1', 'q2', 'q3', 'q4', 'Unnamed: 13', 'q5', 'q6',\n",
       "       'recall', 'agelt35', 'agegt54', 'durable', 'nondurable', 'lusd', 'husd',\n",
       "       'muld', 'T4'],\n",
       "      dtype='object')"
      ]
     },
     "execution_count": 45,
     "metadata": {},
     "output_type": "execute_result"
    }
   ],
   "source": [
    "Penn.columns"
   ]
  },
  {
   "cell_type": "code",
   "execution_count": 46,
   "id": "607cd910",
   "metadata": {},
   "outputs": [],
   "source": [
    "import statsmodels.api as sm\n",
    "import statsmodels.formula.api as smf\n",
    "import patsy\n",
    "import numpy as np"
   ]
  },
  {
   "cell_type": "code",
   "execution_count": 47,
   "id": "da37e923",
   "metadata": {},
   "outputs": [],
   "source": [
    "Penn[\"inuidur\"] = np.log (Penn[\"inuidur1\"])  "
   ]
  },
  {
   "cell_type": "code",
   "execution_count": 48,
   "id": "cc79956b",
   "metadata": {},
   "outputs": [],
   "source": [
    "model =  \"inuidur1~T4+ (female+black+othrace+C(dep)+q2+q3+q4+q5+q6+agelt35+agegt54+durable+lusd+husd)\"\n",
    "model_results = smf.ols( model , data = Penn ).fit().get_robustcov_results(cov_type = \"HC1\")"
   ]
  },
  {
   "cell_type": "code",
   "execution_count": 49,
   "id": "555ffe8a",
   "metadata": {},
   "outputs": [
    {
     "name": "stdout",
     "output_type": "stream",
     "text": [
      "                            OLS Regression Results                            \n",
      "==============================================================================\n",
      "Dep. Variable:               inuidur1   R-squared:                       0.031\n",
      "Model:                            OLS   Adj. R-squared:                  0.028\n",
      "Method:                 Least Squares   F-statistic:                     9.171\n",
      "Date:                Fri, 12 Nov 2021   Prob (F-statistic):           8.01e-23\n",
      "Time:                        15:21:08   Log-Likelihood:                -19176.\n",
      "No. Observations:                5099   AIC:                         3.839e+04\n",
      "Df Residuals:                    5082   BIC:                         3.850e+04\n",
      "Df Model:                          16                                         \n",
      "Covariance Type:                  HC1                                         \n",
      "===============================================================================\n",
      "                  coef    std err          t      P>|t|      [0.025      0.975]\n",
      "-------------------------------------------------------------------------------\n",
      "Intercept      10.9325      0.427     25.576      0.000      10.095      11.770\n",
      "C(dep)[T.1]     0.6174      0.487      1.268      0.205      -0.337       1.572\n",
      "C(dep)[T.2]     1.0817      0.395      2.740      0.006       0.308       1.856\n",
      "T4             -0.7328      0.306     -2.393      0.017      -1.333      -0.133\n",
      "female          1.5307      0.307      4.993      0.000       0.930       2.132\n",
      "black          -1.3185      0.497     -2.655      0.008      -2.292      -0.345\n",
      "othrace        -2.2726      1.875     -1.212      0.226      -5.949       1.404\n",
      "q2              0.7794      0.431      1.808      0.071      -0.066       1.625\n",
      "q3              0.1641      0.427      0.384      0.701      -0.673       1.001\n",
      "q4             -0.0100      0.428     -0.023      0.981      -0.849       0.829\n",
      "q5              1.5073      0.670      2.249      0.025       0.194       2.821\n",
      "q6              0.4749      0.372      1.278      0.201      -0.253       1.203\n",
      "agelt35         3.8462      0.540      7.117      0.000       2.787       4.906\n",
      "agegt54         1.2864      0.437      2.947      0.003       0.431       2.142\n",
      "durable        -1.6080      0.489     -3.290      0.001      -2.566      -0.650\n",
      "lusd            0.4483      0.394      1.138      0.255      -0.324       1.221\n",
      "husd            1.8179      0.343      5.296      0.000       1.145       2.491\n",
      "==============================================================================\n",
      "Omnibus:                     1238.456   Durbin-Watson:                   1.993\n",
      "Prob(Omnibus):                  0.000   Jarque-Bera (JB):              358.840\n",
      "Skew:                           0.421   Prob(JB):                     1.20e-78\n",
      "Kurtosis:                       2.009   Cond. No.                         16.1\n",
      "==============================================================================\n",
      "\n",
      "Notes:\n",
      "[1] Standard Errors are heteroscedasticity robust (HC1)\n",
      "Number of regressors in the basic model: 17 \n",
      "\n"
     ]
    }
   ],
   "source": [
    "print(model_results.summary())\n",
    "print( \"Number of regressors in the basic model:\",len(model_results.params), '\\n')"
   ]
  },
  {
   "cell_type": "code",
   "execution_count": 50,
   "id": "4e33d895",
   "metadata": {},
   "outputs": [],
   "source": [
    "coeff1 =model_results.summary2().tables[1]['Coef.']['T4']\n",
    "se1 =model_results.summary2().tables[1]['Std.Err.']['T4']\n",
    "\n",
    "coeff2 =model_results.summary2().tables[1]['Coef.']['female']\n",
    "se2 =model_results.summary2().tables[1]['Std.Err.']['female']\n",
    "\n",
    "coeff3 =model_results.summary2().tables[1]['Coef.']['black']\n",
    "se3 =model_results.summary2().tables[1]['Std.Err.']['black']"
   ]
  },
  {
   "cell_type": "code",
   "execution_count": 80,
   "id": "0c4b28a6",
   "metadata": {},
   "outputs": [
    {
     "data": {
      "text/plain": [
       "-0.7327816888029653"
      ]
     },
     "execution_count": 80,
     "metadata": {},
     "output_type": "execute_result"
    }
   ],
   "source": [
    "coeff1"
   ]
  },
  {
   "cell_type": "markdown",
   "id": "c22662ce",
   "metadata": {},
   "source": [
    "#### To compare our results derived from bootstrapping, we extracted the coefficients estimated by OLS with the initial data."
   ]
  },
  {
   "cell_type": "code",
   "execution_count": 51,
   "id": "4976f8b9",
   "metadata": {},
   "outputs": [
    {
     "data": {
      "text/html": [
       "<div>\n",
       "<style scoped>\n",
       "    .dataframe tbody tr th:only-of-type {\n",
       "        vertical-align: middle;\n",
       "    }\n",
       "\n",
       "    .dataframe tbody tr th {\n",
       "        vertical-align: top;\n",
       "    }\n",
       "\n",
       "    .dataframe thead th {\n",
       "        text-align: right;\n",
       "    }\n",
       "</style>\n",
       "<table border=\"1\" class=\"dataframe\">\n",
       "  <thead>\n",
       "    <tr style=\"text-align: right;\">\n",
       "      <th></th>\n",
       "      <th>Name</th>\n",
       "      <th>coeff</th>\n",
       "      <th>s.e</th>\n",
       "    </tr>\n",
       "  </thead>\n",
       "  <tbody>\n",
       "    <tr>\n",
       "      <th>0</th>\n",
       "      <td>T4</td>\n",
       "      <td>-0.732782</td>\n",
       "      <td>0.306175</td>\n",
       "    </tr>\n",
       "    <tr>\n",
       "      <th>1</th>\n",
       "      <td>female</td>\n",
       "      <td>1.530674</td>\n",
       "      <td>0.306565</td>\n",
       "    </tr>\n",
       "    <tr>\n",
       "      <th>2</th>\n",
       "      <td>black</td>\n",
       "      <td>-1.318531</td>\n",
       "      <td>0.496567</td>\n",
       "    </tr>\n",
       "  </tbody>\n",
       "</table>\n",
       "</div>"
      ],
      "text/plain": [
       "     Name     coeff       s.e\n",
       "0      T4 -0.732782  0.306175\n",
       "1  female  1.530674  0.306565\n",
       "2   black -1.318531  0.496567"
      ]
     },
     "execution_count": 51,
     "metadata": {},
     "output_type": "execute_result"
    }
   ],
   "source": [
    "df=pd.DataFrame({\"Name\":['T4','female','black'], \n",
    "                 \"coeff\":[coeff1,coeff2,coeff3],\n",
    "                 \"s.e\":[se1,se2,se3]}) \n",
    "df"
   ]
  },
  {
   "cell_type": "markdown",
   "id": "f4997a3a",
   "metadata": {},
   "source": [
    "## Now, we proceed to Bootstrapping"
   ]
  },
  {
   "cell_type": "markdown",
   "id": "7724fc49",
   "metadata": {},
   "source": [
    "a) First, we create the function get_indices which would be the equivalent of the given function \"sample\" in R. That is, we randomly choose the indices to use over the number of observations with replacement. "
   ]
  },
  {
   "cell_type": "code",
   "execution_count": 52,
   "id": "f4fac033",
   "metadata": {},
   "outputs": [],
   "source": [
    "def get_indices(data,num_samples):\n",
    "    return  np.random.choice(data.index, num_samples, replace=True)\n"
   ]
  },
  {
   "cell_type": "markdown",
   "id": "b874c274",
   "metadata": {},
   "source": [
    "b) We generate the selected model"
   ]
  },
  {
   "cell_type": "code",
   "execution_count": 62,
   "id": "91eb32c6",
   "metadata": {},
   "outputs": [],
   "source": [
    "def get_estimates(data,index):\n",
    "    data_1 = data.loc[index]\n",
    "\n",
    "    model = \"inuidur1~T4+ (female+black+othrace+C(dep)+q2+q3+q4+q5+q6+agelt35+agegt54+durable+lusd+husd)\"\n",
    "\n",
    "    model_results = smf.ols( model , data = data_1 ).fit().get_robustcov_results(cov_type = \"HC1\")\n",
    "\n",
    "    T4_coeff = model_results.summary2().tables[1]['Coef.']['T4']\n",
    "    female_coeff = model_results.summary2().tables[1]['Coef.']['female']\n",
    "    black_coeff = model_results.summary2().tables[1]['Coef.']['black']\n",
    "\n",
    "    return [T4_coeff,female_coeff, black_coeff]\n"
   ]
  },
  {
   "cell_type": "markdown",
   "id": "19cd1bbd",
   "metadata": {},
   "source": [
    "c) We create the boot function, which is equivalent to the \"boot\" function of R. In it we select the data we want, the functional form we will use and the number of replicas. Here we calculate the average of the randomly selected coefficients and standard errors. "
   ]
  },
  {
   "cell_type": "code",
   "execution_count": 63,
   "id": "1db6778a",
   "metadata": {},
   "outputs": [],
   "source": [
    "def boot(data,func,R):\n",
    "    T4 = []\n",
    "    female = []\n",
    "    black = []\n",
    "    for i in range(R):\n",
    "        T4.append(func(data,get_indices(data,5099))[0])\n",
    "        female.append(func(data,get_indices(data,5099))[1]) \n",
    "        black.append(func(data,get_indices(data,5099))[2]) \n",
    "    T4_statistics = {'estimated_value':np.mean(T4),'std_error':np.std(T4)}   \n",
    "    female_statistices = {'estimated_value':np.mean(female),'std_error':np.std(female)}   \n",
    "    black_statistices = {'estimated_value':np.mean(black),'std_error':np.std(black)} \n",
    "    return {'T4':T4_statistics,'female_statistices':female_statistices,'black_statistices':black_statistices}\n"
   ]
  },
  {
   "cell_type": "markdown",
   "id": "02225c19",
   "metadata": {},
   "source": [
    "d) Thus, we now have our boostrap function. That is, from the Penn data I will select with the form of estimates and we do this Bootstraping exercise 1000 times. \n"
   ]
  },
  {
   "cell_type": "code",
   "execution_count": 64,
   "id": "e24dcc39",
   "metadata": {},
   "outputs": [],
   "source": [
    "results =boot(Penn,get_estimates,1000)"
   ]
  },
  {
   "cell_type": "code",
   "execution_count": 65,
   "id": "eb9a4e09",
   "metadata": {},
   "outputs": [
    {
     "data": {
      "text/plain": [
       "{'T4': {'estimated_value': -0.7363693457860303,\n",
       "  'std_error': 0.29606634020584593},\n",
       " 'female_statistices': {'estimated_value': 1.5189116477691196,\n",
       "  'std_error': 0.30663167608028963},\n",
       " 'black_statistices': {'estimated_value': -1.3340835778996443,\n",
       "  'std_error': 0.486111104968979}}"
      ]
     },
     "execution_count": 65,
     "metadata": {},
     "output_type": "execute_result"
    }
   ],
   "source": [
    "results"
   ]
  },
  {
   "cell_type": "code",
   "execution_count": 66,
   "id": "3459574a",
   "metadata": {},
   "outputs": [],
   "source": [
    "coeff4 =results['T4']['estimated_value']\n",
    "se4 =results['T4']['std_error']\n",
    "\n",
    "coeff5 =results['female_statistices']['estimated_value']\n",
    "se5 =results['female_statistices']['std_error']\n",
    "\n",
    "coeff6 =results['black_statistices']['estimated_value']\n",
    "se6 =results['black_statistices']['std_error']"
   ]
  },
  {
   "cell_type": "markdown",
   "id": "220951a7",
   "metadata": {},
   "source": [
    "#### We extract the coefficients of interest from the Bootstraping data. "
   ]
  },
  {
   "cell_type": "code",
   "execution_count": 77,
   "id": "80c8c69f",
   "metadata": {},
   "outputs": [],
   "source": [
    "data={\"T4\":[coeff1,se1], \n",
    "                 \"T4_bs\":[coeff4,se4],\n",
    "                 \"female\":[coeff2,se3],\n",
    "                 \"female_bs\":[coeff5,se5],\n",
    "                 \"black\":[coeff3,se3],\n",
    "                 \"black_bs\":[coeff6,se6]}"
   ]
  },
  {
   "cell_type": "code",
   "execution_count": 78,
   "id": "cf0c5b5a",
   "metadata": {},
   "outputs": [],
   "source": [
    "df=pd.DataFrame(data, index=['coeff', 'se']) "
   ]
  },
  {
   "cell_type": "code",
   "execution_count": 79,
   "id": "7e6af367",
   "metadata": {},
   "outputs": [
    {
     "data": {
      "text/html": [
       "<div>\n",
       "<style scoped>\n",
       "    .dataframe tbody tr th:only-of-type {\n",
       "        vertical-align: middle;\n",
       "    }\n",
       "\n",
       "    .dataframe tbody tr th {\n",
       "        vertical-align: top;\n",
       "    }\n",
       "\n",
       "    .dataframe thead th {\n",
       "        text-align: right;\n",
       "    }\n",
       "</style>\n",
       "<table border=\"1\" class=\"dataframe\">\n",
       "  <thead>\n",
       "    <tr style=\"text-align: right;\">\n",
       "      <th></th>\n",
       "      <th>T4</th>\n",
       "      <th>T4_bs</th>\n",
       "      <th>female</th>\n",
       "      <th>female_bs</th>\n",
       "      <th>black</th>\n",
       "      <th>black_bs</th>\n",
       "    </tr>\n",
       "  </thead>\n",
       "  <tbody>\n",
       "    <tr>\n",
       "      <th>coeff</th>\n",
       "      <td>-0.732782</td>\n",
       "      <td>-0.736369</td>\n",
       "      <td>1.530674</td>\n",
       "      <td>1.518912</td>\n",
       "      <td>-1.318531</td>\n",
       "      <td>-1.334084</td>\n",
       "    </tr>\n",
       "    <tr>\n",
       "      <th>se</th>\n",
       "      <td>0.306175</td>\n",
       "      <td>0.296066</td>\n",
       "      <td>0.496567</td>\n",
       "      <td>0.306632</td>\n",
       "      <td>0.496567</td>\n",
       "      <td>0.486111</td>\n",
       "    </tr>\n",
       "  </tbody>\n",
       "</table>\n",
       "</div>"
      ],
      "text/plain": [
       "             T4     T4_bs    female  female_bs     black  black_bs\n",
       "coeff -0.732782 -0.736369  1.530674   1.518912 -1.318531 -1.334084\n",
       "se     0.306175  0.296066  0.496567   0.306632  0.496567  0.486111"
      ]
     },
     "execution_count": 79,
     "metadata": {},
     "output_type": "execute_result"
    }
   ],
   "source": [
    "df"
   ]
  },
  {
   "cell_type": "markdown",
   "id": "58c9f777",
   "metadata": {},
   "source": [
    "Finally, we find that some changes in the coefficients of interest when we estimate them in the traditional way than when we perform Bootstraping. The difference is not so large since the number of replicates has been quite large (1000). "
   ]
  }
 ],
 "metadata": {
  "kernelspec": {
   "display_name": "Python 3",
   "language": "python",
   "name": "python3"
  },
  "language_info": {
   "codemirror_mode": {
    "name": "ipython",
    "version": 3
   },
   "file_extension": ".py",
   "mimetype": "text/x-python",
   "name": "python",
   "nbconvert_exporter": "python",
   "pygments_lexer": "ipython3",
   "version": "3.8.8"
  }
 },
 "nbformat": 4,
 "nbformat_minor": 5
}
