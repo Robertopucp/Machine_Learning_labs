{
 "cells": [
  {
   "cell_type": "markdown",
   "id": "72cabaa5",
   "metadata": {},
   "source": [
    "## Part A:  Bootstraping \n",
    "\n",
    "\n"
   ]
  },
  {
   "cell_type": "code",
   "execution_count": 1,
   "id": "1197e982",
   "metadata": {},
   "outputs": [
    {
     "name": "stderr",
     "output_type": "stream",
     "text": [
      "installing the source package 'ISLR2'\n",
      "\n",
      "\n",
      "Warning message:\n",
      "\"package 'boot' was built under R version 3.6.3\"\n"
     ]
    }
   ],
   "source": [
    "install.packages(\"ISLR2\")\n",
    "library(ISLR2)\n",
    "set.seed(1)\n",
    "library(boot)"
   ]
  },
  {
   "cell_type": "code",
   "execution_count": 2,
   "id": "d4e6546f",
   "metadata": {},
   "outputs": [
    {
     "data": {
      "text/html": [
       "<table class=\"dataframe\">\n",
       "<caption>A data.frame: 6 × 24</caption>\n",
       "<thead>\n",
       "\t<tr><th></th><th scope=col>abdt</th><th scope=col>tg</th><th scope=col>inuidur1</th><th scope=col>inuidur2</th><th scope=col>female</th><th scope=col>black</th><th scope=col>hispanic</th><th scope=col>othrace</th><th scope=col>dep</th><th scope=col>q1</th><th scope=col>...</th><th scope=col>q6</th><th scope=col>recall</th><th scope=col>agelt35</th><th scope=col>agegt54</th><th scope=col>durable</th><th scope=col>nondurable</th><th scope=col>lusd</th><th scope=col>husd</th><th scope=col>muld</th><th scope=col>T4</th></tr>\n",
       "\t<tr><th></th><th scope=col>&lt;int&gt;</th><th scope=col>&lt;int&gt;</th><th scope=col>&lt;int&gt;</th><th scope=col>&lt;int&gt;</th><th scope=col>&lt;int&gt;</th><th scope=col>&lt;int&gt;</th><th scope=col>&lt;int&gt;</th><th scope=col>&lt;int&gt;</th><th scope=col>&lt;int&gt;</th><th scope=col>&lt;int&gt;</th><th scope=col>...</th><th scope=col>&lt;int&gt;</th><th scope=col>&lt;int&gt;</th><th scope=col>&lt;int&gt;</th><th scope=col>&lt;int&gt;</th><th scope=col>&lt;int&gt;</th><th scope=col>&lt;int&gt;</th><th scope=col>&lt;int&gt;</th><th scope=col>&lt;int&gt;</th><th scope=col>&lt;int&gt;</th><th scope=col>&lt;dbl&gt;</th></tr>\n",
       "</thead>\n",
       "<tbody>\n",
       "\t<tr><th scope=row>1</th><td>10824</td><td>0</td><td>18</td><td>18</td><td>0</td><td>0</td><td>0</td><td>0</td><td>2</td><td>0</td><td>...</td><td>0</td><td>0</td><td>0</td><td>0</td><td>0</td><td>0</td><td>0</td><td>1</td><td>0</td><td>0</td></tr>\n",
       "\t<tr><th scope=row>4</th><td>10824</td><td>0</td><td> 1</td><td> 1</td><td>0</td><td>0</td><td>0</td><td>0</td><td>0</td><td>0</td><td>...</td><td>0</td><td>0</td><td>0</td><td>0</td><td>0</td><td>0</td><td>1</td><td>0</td><td>0</td><td>0</td></tr>\n",
       "\t<tr><th scope=row>5</th><td>10747</td><td>0</td><td>27</td><td>27</td><td>0</td><td>0</td><td>0</td><td>0</td><td>0</td><td>0</td><td>...</td><td>0</td><td>0</td><td>0</td><td>0</td><td>0</td><td>0</td><td>1</td><td>0</td><td>0</td><td>0</td></tr>\n",
       "\t<tr><th scope=row>12</th><td>10607</td><td>4</td><td> 9</td><td> 9</td><td>0</td><td>0</td><td>0</td><td>0</td><td>0</td><td>0</td><td>...</td><td>0</td><td>0</td><td>1</td><td>0</td><td>0</td><td>0</td><td>0</td><td>0</td><td>1</td><td>1</td></tr>\n",
       "\t<tr><th scope=row>13</th><td>10831</td><td>0</td><td>27</td><td>27</td><td>0</td><td>0</td><td>0</td><td>0</td><td>1</td><td>0</td><td>...</td><td>0</td><td>0</td><td>0</td><td>1</td><td>1</td><td>0</td><td>1</td><td>0</td><td>0</td><td>0</td></tr>\n",
       "\t<tr><th scope=row>14</th><td>10845</td><td>0</td><td>27</td><td>27</td><td>1</td><td>0</td><td>0</td><td>0</td><td>0</td><td>0</td><td>...</td><td>0</td><td>0</td><td>0</td><td>1</td><td>0</td><td>0</td><td>1</td><td>0</td><td>0</td><td>0</td></tr>\n",
       "</tbody>\n",
       "</table>\n"
      ],
      "text/latex": [
       "A data.frame: 6 × 24\n",
       "\\begin{tabular}{r|lllllllllllllllllllll}\n",
       "  & abdt & tg & inuidur1 & inuidur2 & female & black & hispanic & othrace & dep & q1 & ... & q6 & recall & agelt35 & agegt54 & durable & nondurable & lusd & husd & muld & T4\\\\\n",
       "  & <int> & <int> & <int> & <int> & <int> & <int> & <int> & <int> & <int> & <int> & ... & <int> & <int> & <int> & <int> & <int> & <int> & <int> & <int> & <int> & <dbl>\\\\\n",
       "\\hline\n",
       "\t1 & 10824 & 0 & 18 & 18 & 0 & 0 & 0 & 0 & 2 & 0 & ... & 0 & 0 & 0 & 0 & 0 & 0 & 0 & 1 & 0 & 0\\\\\n",
       "\t4 & 10824 & 0 &  1 &  1 & 0 & 0 & 0 & 0 & 0 & 0 & ... & 0 & 0 & 0 & 0 & 0 & 0 & 1 & 0 & 0 & 0\\\\\n",
       "\t5 & 10747 & 0 & 27 & 27 & 0 & 0 & 0 & 0 & 0 & 0 & ... & 0 & 0 & 0 & 0 & 0 & 0 & 1 & 0 & 0 & 0\\\\\n",
       "\t12 & 10607 & 4 &  9 &  9 & 0 & 0 & 0 & 0 & 0 & 0 & ... & 0 & 0 & 1 & 0 & 0 & 0 & 0 & 0 & 1 & 1\\\\\n",
       "\t13 & 10831 & 0 & 27 & 27 & 0 & 0 & 0 & 0 & 1 & 0 & ... & 0 & 0 & 0 & 1 & 1 & 0 & 1 & 0 & 0 & 0\\\\\n",
       "\t14 & 10845 & 0 & 27 & 27 & 1 & 0 & 0 & 0 & 0 & 0 & ... & 0 & 0 & 0 & 1 & 0 & 0 & 1 & 0 & 0 & 0\\\\\n",
       "\\end{tabular}\n"
      ],
      "text/markdown": [
       "\n",
       "A data.frame: 6 × 24\n",
       "\n",
       "| <!--/--> | abdt &lt;int&gt; | tg &lt;int&gt; | inuidur1 &lt;int&gt; | inuidur2 &lt;int&gt; | female &lt;int&gt; | black &lt;int&gt; | hispanic &lt;int&gt; | othrace &lt;int&gt; | dep &lt;int&gt; | q1 &lt;int&gt; | ... ... | q6 &lt;int&gt; | recall &lt;int&gt; | agelt35 &lt;int&gt; | agegt54 &lt;int&gt; | durable &lt;int&gt; | nondurable &lt;int&gt; | lusd &lt;int&gt; | husd &lt;int&gt; | muld &lt;int&gt; | T4 &lt;dbl&gt; |\n",
       "|---|---|---|---|---|---|---|---|---|---|---|---|---|---|---|---|---|---|---|---|---|---|\n",
       "| 1 | 10824 | 0 | 18 | 18 | 0 | 0 | 0 | 0 | 2 | 0 | ... | 0 | 0 | 0 | 0 | 0 | 0 | 0 | 1 | 0 | 0 |\n",
       "| 4 | 10824 | 0 |  1 |  1 | 0 | 0 | 0 | 0 | 0 | 0 | ... | 0 | 0 | 0 | 0 | 0 | 0 | 1 | 0 | 0 | 0 |\n",
       "| 5 | 10747 | 0 | 27 | 27 | 0 | 0 | 0 | 0 | 0 | 0 | ... | 0 | 0 | 0 | 0 | 0 | 0 | 1 | 0 | 0 | 0 |\n",
       "| 12 | 10607 | 4 |  9 |  9 | 0 | 0 | 0 | 0 | 0 | 0 | ... | 0 | 0 | 1 | 0 | 0 | 0 | 0 | 0 | 1 | 1 |\n",
       "| 13 | 10831 | 0 | 27 | 27 | 0 | 0 | 0 | 0 | 1 | 0 | ... | 0 | 0 | 0 | 1 | 1 | 0 | 1 | 0 | 0 | 0 |\n",
       "| 14 | 10845 | 0 | 27 | 27 | 1 | 0 | 0 | 0 | 0 | 0 | ... | 0 | 0 | 0 | 1 | 0 | 0 | 1 | 0 | 0 | 0 |\n",
       "\n"
      ],
      "text/plain": [
       "   abdt  tg inuidur1 inuidur2 female black hispanic othrace dep q1 ... q6\n",
       "1  10824 0  18       18       0      0     0        0       2   0  ... 0 \n",
       "4  10824 0   1        1       0      0     0        0       0   0  ... 0 \n",
       "5  10747 0  27       27       0      0     0        0       0   0  ... 0 \n",
       "12 10607 4   9        9       0      0     0        0       0   0  ... 0 \n",
       "13 10831 0  27       27       0      0     0        0       1   0  ... 0 \n",
       "14 10845 0  27       27       1      0     0        0       0   0  ... 0 \n",
       "   recall agelt35 agegt54 durable nondurable lusd husd muld T4\n",
       "1  0      0       0       0       0          0    1    0    0 \n",
       "4  0      0       0       0       0          1    0    0    0 \n",
       "5  0      0       0       0       0          1    0    0    0 \n",
       "12 0      1       0       0       0          0    0    1    1 \n",
       "13 0      0       1       1       0          1    0    0    0 \n",
       "14 0      0       1       0       0          1    0    0    0 "
      ]
     },
     "metadata": {},
     "output_type": "display_data"
    }
   ],
   "source": [
    "# Read in data\n",
    "data <- as.data.frame(read.table(\"../data/penn_jae.dat\", header=T ))\n",
    "n <- dim(data)[1]\n",
    "p_1 <- dim(data)[2]\n",
    "data<-subset(data,tg==4 | tg==0) \n",
    "attach(data)\n",
    "#Convert T4 to dummy\n",
    "T4<- (tg==4)\n",
    "T4<-as.numeric(T4)\n",
    "data=cbind(data,T4)\n",
    "head(data)"
   ]
  },
  {
   "cell_type": "code",
   "execution_count": 3,
   "id": "db93d959",
   "metadata": {},
   "outputs": [],
   "source": [
    "m<- log(inuidur1)~T4+ (female+black+othrace+factor(dep)+q2+q3+q4+q5+q6+agelt35+agegt54+durable+lusd+husd)"
   ]
  },
  {
   "cell_type": "code",
   "execution_count": 4,
   "id": "ff01bda7",
   "metadata": {},
   "outputs": [],
   "source": [
    "boot.fn <- function(data, index)\n",
    "  coef(lm(m), \n",
    "        data = data, subset = index)"
   ]
  },
  {
   "cell_type": "code",
   "execution_count": 5,
   "id": "b4d1b487",
   "metadata": {},
   "outputs": [
    {
     "data": {
      "text/plain": [
       "\n",
       "ORDINARY NONPARAMETRIC BOOTSTRAP\n",
       "\n",
       "\n",
       "Call:\n",
       "boot(data = data, statistic = boot.fn, R = 1000)\n",
       "\n",
       "\n",
       "Bootstrap Statistics :\n",
       "         original        bias     std. error\n",
       "t1*   2.178462326  4.440892e-16 2.517329e-16\n",
       "t2*  -0.071692484 -6.938894e-17 4.550508e-17\n",
       "t3*   0.126368328  0.000000e+00 0.000000e+00\n",
       "t4*  -0.293767980  5.551115e-17 5.553893e-17\n",
       "t5*  -0.472445058 -2.775558e-16 2.088146e-16\n",
       "t6*   0.029866899  6.938894e-18 4.863374e-18\n",
       "t7*   0.096186517  0.000000e+00 0.000000e+00\n",
       "t8*   0.073678072  1.387779e-16 9.726748e-17\n",
       "t9*  -0.038506537  1.110223e-16 7.781398e-17\n",
       "t10* -0.054949195  1.040834e-16 7.130591e-17\n",
       "t11* -0.144177912  5.551115e-17 3.890699e-17\n",
       "t12*  0.003361318  4.900594e-17 3.362683e-17\n",
       "t13* -0.162772168 -5.551115e-17 3.890699e-17\n",
       "t14*  0.229666708  1.110223e-16 7.781398e-17\n",
       "t15*  0.126557359 -2.775558e-17 2.776946e-17\n",
       "t16* -0.175352572  2.775558e-17 1.573331e-17\n",
       "t17* -0.105224727 -1.387779e-17 1.388473e-17"
      ]
     },
     "metadata": {},
     "output_type": "display_data"
    }
   ],
   "source": [
    "library(boot)\n",
    "results=boot(data, boot.fn, 1000)\n",
    "results"
   ]
  },
  {
   "cell_type": "markdown",
   "id": "f201d2bd",
   "metadata": {},
   "source": [
    "## Part B:  Causal Tree "
   ]
  },
  {
   "cell_type": "markdown",
   "id": "0987b4fb",
   "metadata": {},
   "source": [
    "### 1. First run an OLS regression to find the HTE of female*T4, remember that log(inuidur1) is the endogenous variable. Also use the HC2 correction.\n"
   ]
  },
  {
   "cell_type": "code",
   "execution_count": 6,
   "id": "82a56f34",
   "metadata": {},
   "outputs": [
    {
     "name": "stderr",
     "output_type": "stream",
     "text": [
      "Loading required package: rpart\n",
      "\n",
      "Loading required package: rpart.plot\n",
      "\n",
      "Loading required package: data.table\n",
      "\n",
      "Warning message:\n",
      "\"package 'glmnet' was built under R version 3.6.3\"\n",
      "Loading required package: Matrix\n",
      "\n",
      "Warning message:\n",
      "\"package 'Matrix' was built under R version 3.6.3\"\n",
      "Loaded glmnet 4.1-1\n",
      "\n",
      "Warning message:\n",
      "\"package 'MASS' was built under R version 3.6.3\"\n",
      "\n",
      "Attaching package: 'MASS'\n",
      "\n",
      "\n",
      "The following object is masked from 'package:ISLR2':\n",
      "\n",
      "    Boston\n",
      "\n",
      "\n",
      "Loading required package: zoo\n",
      "\n",
      "\n",
      "Attaching package: 'zoo'\n",
      "\n",
      "\n",
      "The following objects are masked from 'package:base':\n",
      "\n",
      "    as.Date, as.Date.numeric\n",
      "\n",
      "\n"
     ]
    }
   ],
   "source": [
    "#install.packages(\"devtools\")  # if you don't have this installed yet.\n",
    "#devtools::install_github('susanathey/causalTree') \n",
    "#install.packages(\"grf\")\n",
    "#install.packages(\"rpart\")\n",
    "#install.packages(\"glmnet\")\n",
    "#install.packages(\"splines\")\n",
    "#install.packages(\"MASS\")\n",
    "#install.packages(\"lmtest\")\n",
    "#install.packages(\"sandwich\")\n",
    "#install.packages(\"ggplot2\")\n",
    "# use e.g., install.packages(\"grf\") to install any of the following packages.\n",
    "library(causalTree)\n",
    "library(grf)\n",
    "library(rpart)\n",
    "library(glmnet)\n",
    "library(splines)\n",
    "library(MASS)\n",
    "library(lmtest)\n",
    "library(sandwich)\n",
    "library(ggplot2)"
   ]
  },
  {
   "cell_type": "code",
   "execution_count": 7,
   "id": "8c6b32ce",
   "metadata": {},
   "outputs": [
    {
     "name": "stdout",
     "output_type": "stream",
     "text": [
      "\n",
      "t test of coefficients:\n",
      "\n",
      "                   Estimate  Std. Error t value  Pr(>|t|)    \n",
      "(Intercept)      2.13125459  0.19810080 10.7584 < 2.2e-16 ***\n",
      "T4               0.04856915  0.31556294  0.1539 0.8776847    \n",
      "female           0.09490334  0.04355673  2.1788 0.0293891 *  \n",
      "black           -0.30429050  0.07295465 -4.1710 3.084e-05 ***\n",
      "othrace         -0.42765446  0.33428679 -1.2793 0.2008486    \n",
      "factor(dep)1     0.09594279  0.06662605  1.4400 0.1499238    \n",
      "factor(dep)2     0.09691807  0.05664159  1.7111 0.0871282 .  \n",
      "q2               0.14158917  0.19562706  0.7238 0.4692398    \n",
      "q3               0.01894811  0.19524713  0.0970 0.9226930    \n",
      "q4              -0.00599285  0.19582876 -0.0306 0.9755878    \n",
      "q5              -0.10108651  0.19540413 -0.5173 0.6049552    \n",
      "q6               0.03627669  0.20716751  0.1751 0.8610017    \n",
      "agelt35         -0.16608654  0.04541272 -3.6573 0.0002575 ***\n",
      "agegt54          0.17800641  0.07163863  2.4848 0.0129951 *  \n",
      "durable          0.11054325  0.05970872  1.8514 0.0641737 .  \n",
      "lusd            -0.13663090  0.04990745 -2.7377 0.0062089 ** \n",
      "husd            -0.09706331  0.05473115 -1.7735 0.0762132 .  \n",
      "T4:female        0.09097899  0.07383009  1.2323 0.2179035    \n",
      "T4:black         0.02112227  0.12632402  0.1672 0.8672138    \n",
      "T4:othrace      -0.11586405  0.49710030 -0.2331 0.8157088    \n",
      "T4:factor(dep)1 -0.18807812  0.11523781 -1.6321 0.1027233    \n",
      "T4:factor(dep)2 -0.00072962  0.09899545 -0.0074 0.9941197    \n",
      "T4:q2           -0.17558103  0.31026680 -0.5659 0.5714845    \n",
      "T4:q3           -0.14310810  0.31019688 -0.4613 0.6445702    \n",
      "T4:q4           -0.12430266  0.31081823 -0.3999 0.6892317    \n",
      "T4:q5           -0.09923407  0.31052242 -0.3196 0.7493065    \n",
      "T4:q6           -0.07375251  0.34053497 -0.2166 0.8285457    \n",
      "T4:agelt35       0.00275412  0.07864675  0.0350 0.9720660    \n",
      "T4:agegt54       0.14315348  0.12157201  1.1775 0.2390433    \n",
      "T4:durable       0.04014160  0.10152853  0.3954 0.6925845    \n",
      "T4:lusd         -0.10530005  0.08561138 -1.2300 0.2187628    \n",
      "T4:husd         -0.01914186  0.09303012 -0.2058 0.8369868    \n",
      "---\n",
      "Signif. codes:  0 '***' 0.001 '**' 0.01 '*' 0.05 '.' 0.1 ' ' 1\n",
      "\n"
     ]
    }
   ],
   "source": [
    "\n",
    "#install.packages(\"lmtest\")\n",
    "library(lmtest)\n",
    "library(sandwich)\n",
    "datatest <- lm(log(inuidur1)~T4*(female+black+othrace+factor(dep)+q2+q3+q4+q5+q6+agelt35+agegt54+durable+lusd+husd))\n",
    "ols.cra = coeftest(datatest, vcov = vcovHC(datatest, type=\"HC2\"))\n",
    "print(ols.cra)"
   ]
  },
  {
   "cell_type": "markdown",
   "id": "f4c950be",
   "metadata": {},
   "source": [
    "The HTE of female*T4 is 0.0909"
   ]
  },
  {
   "cell_type": "markdown",
   "id": "4cf50734",
   "metadata": {},
   "source": [
    "## 2. Replicate the causal tree estimation:\n",
    "\n",
    "Use the next specification or formula log(inuidur1)~T4+ (female+black+othrace+factor(dep)+q2+q3+q4+q5+q6+agelt35+agegt54+durable+lusd+husd)"
   ]
  },
  {
   "cell_type": "code",
   "execution_count": 23,
   "id": "6d83613b",
   "metadata": {},
   "outputs": [],
   "source": [
    "# Treatment: T4 indicates the treatment group(bonus amount-qualification period) of each claimant.\n",
    "treatment<-\"T4\"\n",
    "#Outcome: induidur1 indicates a mesuare of (in weeks) of the first spell of unemployment\n",
    "outcome<-\"log(inuidur1)\"\n",
    "# Additional covariates\n",
    "covariables<-c(\"female\",\"black\",\"othrace\",\"factor(dep)\",\"q2\",\"q3\",\"q4\",\"q5\",\"q6\",\"agelt35\",\"agegt54\",\"durable\",\"lusd\",\"husd\")"
   ]
  },
  {
   "cell_type": "code",
   "execution_count": 24,
   "id": "51fd2b65",
   "metadata": {},
   "outputs": [],
   "source": [
    "# Dividing data into three subsets\n",
    "indices <- split(seq(nrow(data)), sort(seq(nrow(data)) %% 3))\n",
    "names(indices) <- c('split', 'est', 'test')"
   ]
  },
  {
   "cell_type": "code",
   "execution_count": 25,
   "id": "dc111f15",
   "metadata": {},
   "outputs": [
    {
     "name": "stdout",
     "output_type": "stream",
     "text": [
      "[1] 2\n",
      "[1] \"CT\"\n"
     ]
    }
   ],
   "source": [
    "\n",
    "# Fitting the forest\n",
    "ct.unpruned <- honest.causalTree(\n",
    "  formula=log(inuidur1)~T4+ (female+black+othrace+factor(dep)+q2+q3+q4+q5+q6+agelt35+agegt54+durable+lusd+husd),            # Define the model\n",
    "  data=data[indices$split,],\n",
    "  treatment=data[indices$split, treatment],\n",
    "  est_data=data[indices$est,],\n",
    "  est_treatment=data[indices$est, treatment],\n",
    "  minsize=1,                 # Min. number of treatment and control cases in each leaf\n",
    "  HonestSampleSize=length(indices$est), #  Num obs used in estimation after splitting\n",
    "  \n",
    "  # We recommend not changing the parameters below\n",
    "  split.Rule=\"CT\",            # Define the splitting option\n",
    "  cv.option=\"TOT\",            # Cross validation options\n",
    "  cp=0,                       # Complexity parameter\n",
    "  split.Honest=TRUE,          # Use honesty when splitting\n",
    "  cv.Honest=TRUE              # Use honesty when performing cross-validation\n",
    ")"
   ]
  },
  {
   "cell_type": "code",
   "execution_count": 26,
   "id": "4f27ae3e",
   "metadata": {},
   "outputs": [],
   "source": [
    "# Table of cross-validated values by tuning parameter.\n",
    "ct.cptable <- as.data.frame(ct.unpruned$cptable)\n",
    "\n",
    "# Obtain optimal complexity parameter to prune tree.\n",
    "cp.selected <- which.min(ct.cptable$xerror)\n",
    "\n",
    "cp.optimal <- ct.cptable[cp.selected, \"CP\"]\n",
    "\n",
    "# Prune the tree at optimal complexity parameter.\n",
    "ct.pruned <- prune(tree=ct.unpruned, cp=cp.optimal)\n",
    "\n",
    "# Predict point estimates (on estimation sample)\n",
    "tau.hat.est <- predict(ct.pruned, newdata=data[indices$est,])\n",
    "\n",
    "# Create a factor column 'leaf' indicating leaf assignment in the estimation set\n",
    "num.leaves <- length(unique(tau.hat.est))\n",
    "leaf <- factor(tau.hat.est, levels=sort(unique(tau.hat.est)), labels = seq(num.leaves))"
   ]
  },
  {
   "cell_type": "code",
   "execution_count": 29,
   "id": "f2d74351",
   "metadata": {},
   "outputs": [
    {
     "data": {
      "image/png": "[encoded data removed]",
      "text/plain": [
       "plot without title"
      ]
     },
     "metadata": {
      "image/png": {
       "height": 420,
       "width": 420
      }
     },
     "output_type": "display_data"
    }
   ],
   "source": [
    "rpart.plot(\n",
    "  x=ct.pruned,        # Pruned tree\n",
    "  type=3,             # Draw separate split labels for the left and right directions\n",
    "  fallen=TRUE,        # Position the leaf nodes at the bottom of the graph\n",
    "  leaf.round=1,       # Rounding of the corners of the leaf node boxes\n",
    "  extra=100,          # Display the percentage of observations in the node\n",
    "  branch=.3,          # Shape of the branch lines\n",
    "  box.palette=\"RdBu\") # Palette for coloring the node"
   ]
  },
  {
   "cell_type": "code",
   "execution_count": null,
   "id": "c10547ed",
   "metadata": {},
   "outputs": [],
   "source": [
    "Cuando te hacen la pregunta y no te encuentraste en el quinto trimestre, no eres mujer y además no trabajas en el sector manufacturero el efecto heterogeneo es -0.26"
   ]
  },
  {
   "cell_type": "code",
   "execution_count": null,
   "id": "0f6674c0",
   "metadata": {},
   "outputs": [],
   "source": []
  },
  {
   "cell_type": "code",
   "execution_count": null,
   "id": "92092c72",
   "metadata": {},
   "outputs": [],
   "source": []
  }
 ],
 "metadata": {
  "kernelspec": {
   "display_name": "R",
   "language": "R",
   "name": "ir"
  },
  "language_info": {
   "codemirror_mode": "r",
   "file_extension": ".r",
   "mimetype": "text/x-r-source",
   "name": "R",
   "pygments_lexer": "r",
   "version": "3.6.1"
  }
 },
 "nbformat": 4,
 "nbformat_minor": 5
}
