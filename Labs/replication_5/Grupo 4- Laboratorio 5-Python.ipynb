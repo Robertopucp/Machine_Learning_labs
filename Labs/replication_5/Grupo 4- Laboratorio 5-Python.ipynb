{
 "cells": [
  {
   "cell_type": "markdown",
   "id": "97d78831",
   "metadata": {},
   "source": [
    "## Grupo 4 - Laboratorio 5 - Python"
   ]
  },
  {
   "cell_type": "markdown",
   "id": "5238c610",
   "metadata": {},
   "source": [
    "Katiuska Olivera Quevedo (20172533) <br/> \n",
    "Rosemery Fernandez Sanchez (20172635) <br/> \n",
    "Aliro Cabrera Florez (20152034) <br/> \n",
    "Jose Uscamayta Quispe (20195674) <br/> "
   ]
  },
  {
   "cell_type": "code",
   "execution_count": 1,
   "id": "9dd001ca",
   "metadata": {},
   "outputs": [],
   "source": [
    "import pandas as pd\n",
    "import numpy as np\n",
    "import pyreadr\n",
    "import math\n",
    "import random\n",
    "import os\n",
    "import csv\n",
    "\n",
    "from sklearn.preprocessing import PolynomialFeatures\n",
    "from sklearn.linear_model import LinearRegression\n",
    "from sklearn.model_selection import train_test_split,cross_val_score\n",
    "from sklearn.metrics import mean_squared_error\n",
    "\n",
    "import matplotlib.pyplot as plt\n",
    "import seaborn as sns"
   ]
  },
  {
   "cell_type": "code",
   "execution_count": 2,
   "id": "f5b8d016",
   "metadata": {},
   "outputs": [],
   "source": [
    "Penn = pd.read_csv(\"C:/Users/ok235/OneDrive/Documentos/GitHub/ECO224/Labs/data/penn_jae.dat\" , sep='\\s', engine='python')\n",
    "n = Penn.shape[0]\n",
    "#numero de covariables \n",
    "p_1 = Penn.shape[1]\n",
    "Penn = Penn[ (Penn['tg'] == 4) | (Penn['tg'] == 0) ]"
   ]
  },
  {
   "cell_type": "code",
   "execution_count": 3,
   "id": "c31ccd83",
   "metadata": {},
   "outputs": [
    {
     "name": "stdout",
     "output_type": "stream",
     "text": [
      "<class 'pandas.core.frame.DataFrame'>\n",
      "Int64Index: 5099 entries, 0 to 13911\n",
      "Data columns (total 24 columns):\n",
      " #   Column       Non-Null Count  Dtype  \n",
      "---  ------       --------------  -----  \n",
      " 0   abdt         5099 non-null   int64  \n",
      " 1   tg           5099 non-null   int64  \n",
      " 2   inuidur1     5099 non-null   int64  \n",
      " 3   inuidur2     5099 non-null   int64  \n",
      " 4   female       5099 non-null   int64  \n",
      " 5   black        5099 non-null   int64  \n",
      " 6   hispanic     5099 non-null   int64  \n",
      " 7   othrace      5099 non-null   int64  \n",
      " 8   dep          5099 non-null   int64  \n",
      " 9   q1           5099 non-null   int64  \n",
      " 10  q2           5099 non-null   int64  \n",
      " 11  q3           5099 non-null   int64  \n",
      " 12  q4           5099 non-null   int64  \n",
      " 13  Unnamed: 13  5099 non-null   int64  \n",
      " 14  q5           5099 non-null   int64  \n",
      " 15  q6           5099 non-null   int64  \n",
      " 16  recall       5099 non-null   int64  \n",
      " 17  agelt35      5099 non-null   int64  \n",
      " 18  agegt54      5099 non-null   int64  \n",
      " 19  durable      5099 non-null   int64  \n",
      " 20  nondurable   5099 non-null   int64  \n",
      " 21  lusd         5099 non-null   int64  \n",
      " 22  husd         5099 non-null   int64  \n",
      " 23  muld         0 non-null      float64\n",
      "dtypes: float64(1), int64(23)\n",
      "memory usage: 995.9 KB\n"
     ]
    }
   ],
   "source": [
    "Penn.columns\n",
    "Penn.info()"
   ]
  },
  {
   "cell_type": "code",
   "execution_count": 4,
   "id": "cf3e392b",
   "metadata": {
    "scrolled": true
   },
   "outputs": [
    {
     "data": {
      "text/html": [
       "<div>\n",
       "<style scoped>\n",
       "    .dataframe tbody tr th:only-of-type {\n",
       "        vertical-align: middle;\n",
       "    }\n",
       "\n",
       "    .dataframe tbody tr th {\n",
       "        vertical-align: top;\n",
       "    }\n",
       "\n",
       "    .dataframe thead th {\n",
       "        text-align: right;\n",
       "    }\n",
       "</style>\n",
       "<table border=\"1\" class=\"dataframe\">\n",
       "  <thead>\n",
       "    <tr style=\"text-align: right;\">\n",
       "      <th></th>\n",
       "      <th>abdt</th>\n",
       "      <th>tg</th>\n",
       "      <th>inuidur1</th>\n",
       "      <th>inuidur2</th>\n",
       "      <th>female</th>\n",
       "      <th>black</th>\n",
       "      <th>hispanic</th>\n",
       "      <th>othrace</th>\n",
       "      <th>dep</th>\n",
       "      <th>q1</th>\n",
       "      <th>...</th>\n",
       "      <th>q6</th>\n",
       "      <th>recall</th>\n",
       "      <th>agelt35</th>\n",
       "      <th>agegt54</th>\n",
       "      <th>durable</th>\n",
       "      <th>nondurable</th>\n",
       "      <th>lusd</th>\n",
       "      <th>husd</th>\n",
       "      <th>muld</th>\n",
       "      <th>T4</th>\n",
       "    </tr>\n",
       "  </thead>\n",
       "  <tbody>\n",
       "    <tr>\n",
       "      <th>0</th>\n",
       "      <td>10824</td>\n",
       "      <td>0</td>\n",
       "      <td>18</td>\n",
       "      <td>18</td>\n",
       "      <td>0</td>\n",
       "      <td>0</td>\n",
       "      <td>0</td>\n",
       "      <td>0</td>\n",
       "      <td>2</td>\n",
       "      <td>0</td>\n",
       "      <td>...</td>\n",
       "      <td>0</td>\n",
       "      <td>0</td>\n",
       "      <td>0</td>\n",
       "      <td>0</td>\n",
       "      <td>0</td>\n",
       "      <td>0</td>\n",
       "      <td>1</td>\n",
       "      <td>0</td>\n",
       "      <td>NaN</td>\n",
       "      <td>0</td>\n",
       "    </tr>\n",
       "    <tr>\n",
       "      <th>3</th>\n",
       "      <td>10824</td>\n",
       "      <td>0</td>\n",
       "      <td>1</td>\n",
       "      <td>1</td>\n",
       "      <td>0</td>\n",
       "      <td>0</td>\n",
       "      <td>0</td>\n",
       "      <td>0</td>\n",
       "      <td>0</td>\n",
       "      <td>0</td>\n",
       "      <td>...</td>\n",
       "      <td>0</td>\n",
       "      <td>0</td>\n",
       "      <td>0</td>\n",
       "      <td>0</td>\n",
       "      <td>0</td>\n",
       "      <td>1</td>\n",
       "      <td>0</td>\n",
       "      <td>0</td>\n",
       "      <td>NaN</td>\n",
       "      <td>0</td>\n",
       "    </tr>\n",
       "    <tr>\n",
       "      <th>4</th>\n",
       "      <td>10747</td>\n",
       "      <td>0</td>\n",
       "      <td>27</td>\n",
       "      <td>27</td>\n",
       "      <td>0</td>\n",
       "      <td>0</td>\n",
       "      <td>0</td>\n",
       "      <td>0</td>\n",
       "      <td>0</td>\n",
       "      <td>0</td>\n",
       "      <td>...</td>\n",
       "      <td>0</td>\n",
       "      <td>0</td>\n",
       "      <td>0</td>\n",
       "      <td>0</td>\n",
       "      <td>0</td>\n",
       "      <td>1</td>\n",
       "      <td>0</td>\n",
       "      <td>0</td>\n",
       "      <td>NaN</td>\n",
       "      <td>0</td>\n",
       "    </tr>\n",
       "    <tr>\n",
       "      <th>11</th>\n",
       "      <td>10607</td>\n",
       "      <td>4</td>\n",
       "      <td>9</td>\n",
       "      <td>9</td>\n",
       "      <td>0</td>\n",
       "      <td>0</td>\n",
       "      <td>0</td>\n",
       "      <td>0</td>\n",
       "      <td>0</td>\n",
       "      <td>0</td>\n",
       "      <td>...</td>\n",
       "      <td>0</td>\n",
       "      <td>1</td>\n",
       "      <td>0</td>\n",
       "      <td>0</td>\n",
       "      <td>0</td>\n",
       "      <td>0</td>\n",
       "      <td>0</td>\n",
       "      <td>1</td>\n",
       "      <td>NaN</td>\n",
       "      <td>1</td>\n",
       "    </tr>\n",
       "    <tr>\n",
       "      <th>12</th>\n",
       "      <td>10831</td>\n",
       "      <td>0</td>\n",
       "      <td>27</td>\n",
       "      <td>27</td>\n",
       "      <td>0</td>\n",
       "      <td>0</td>\n",
       "      <td>0</td>\n",
       "      <td>0</td>\n",
       "      <td>1</td>\n",
       "      <td>0</td>\n",
       "      <td>...</td>\n",
       "      <td>0</td>\n",
       "      <td>0</td>\n",
       "      <td>1</td>\n",
       "      <td>1</td>\n",
       "      <td>0</td>\n",
       "      <td>1</td>\n",
       "      <td>0</td>\n",
       "      <td>0</td>\n",
       "      <td>NaN</td>\n",
       "      <td>0</td>\n",
       "    </tr>\n",
       "  </tbody>\n",
       "</table>\n",
       "<p>5 rows × 25 columns</p>\n",
       "</div>"
      ],
      "text/plain": [
       "     abdt  tg  inuidur1  inuidur2  female  black  hispanic  othrace dep  q1  \\\n",
       "0   10824   0        18        18       0      0         0        0   2   0   \n",
       "3   10824   0         1         1       0      0         0        0   0   0   \n",
       "4   10747   0        27        27       0      0         0        0   0   0   \n",
       "11  10607   4         9         9       0      0         0        0   0   0   \n",
       "12  10831   0        27        27       0      0         0        0   1   0   \n",
       "\n",
       "    ...  q6  recall  agelt35  agegt54  durable  nondurable  lusd  husd  muld  \\\n",
       "0   ...   0       0        0        0        0           0     1     0   NaN   \n",
       "3   ...   0       0        0        0        0           1     0     0   NaN   \n",
       "4   ...   0       0        0        0        0           1     0     0   NaN   \n",
       "11  ...   0       1        0        0        0           0     0     1   NaN   \n",
       "12  ...   0       0        1        1        0           1     0     0   NaN   \n",
       "\n",
       "    T4  \n",
       "0    0  \n",
       "3    0  \n",
       "4    0  \n",
       "11   1  \n",
       "12   0  \n",
       "\n",
       "[5 rows x 25 columns]"
      ]
     },
     "execution_count": 4,
     "metadata": {},
     "output_type": "execute_result"
    }
   ],
   "source": [
    "# Dependent variable\n",
    "Penn['T4'] = (Penn[['tg']]==4).astype(int)\n",
    "\n",
    "# Create category variable\n",
    "Penn['dep'] = Penn['dep'].astype( 'category' )\n",
    "Penn.head()\n"
   ]
  },
  {
   "cell_type": "code",
   "execution_count": 5,
   "id": "bac3f389",
   "metadata": {},
   "outputs": [
    {
     "data": {
      "text/plain": [
       "[2, 0, 1]\n",
       "Categories (3, int64): [2, 0, 1]"
      ]
     },
     "execution_count": 5,
     "metadata": {},
     "output_type": "execute_result"
    }
   ],
   "source": [
    "Penn['dep'].unique()"
   ]
  },
  {
   "cell_type": "code",
   "execution_count": 6,
   "id": "3d9e8e7a",
   "metadata": {},
   "outputs": [
    {
     "data": {
      "text/plain": [
       "Index(['abdt', 'tg', 'inuidur1', 'inuidur2', 'female', 'black', 'hispanic',\n",
       "       'othrace', 'dep', 'q1', 'q2', 'q3', 'q4', 'Unnamed: 13', 'q5', 'q6',\n",
       "       'recall', 'agelt35', 'agegt54', 'durable', 'nondurable', 'lusd', 'husd',\n",
       "       'muld', 'T4'],\n",
       "      dtype='object')"
      ]
     },
     "execution_count": 6,
     "metadata": {},
     "output_type": "execute_result"
    }
   ],
   "source": [
    "Penn.columns"
   ]
  },
  {
   "cell_type": "code",
   "execution_count": 7,
   "id": "607cd910",
   "metadata": {},
   "outputs": [],
   "source": [
    "import statsmodels.api as sm\n",
    "import statsmodels.formula.api as smf\n",
    "import patsy\n",
    "import numpy as np"
   ]
  },
  {
   "cell_type": "code",
   "execution_count": 8,
   "id": "aa025d57",
   "metadata": {},
   "outputs": [],
   "source": [
    "Penn[\"inuidur1\"] = np.log (Penn[\"inuidur1\"])\n"
   ]
  },
  {
   "cell_type": "code",
   "execution_count": 9,
   "id": "cc79956b",
   "metadata": {},
   "outputs": [],
   "source": [
    "model =  \"inuidur1~T4+ (female+black+othrace+C(dep)+q2+q3+q4+q5+q6+agelt35+agegt54+durable+lusd+husd)\"\n",
    "model_results = smf.ols( model , data = Penn ).fit().get_robustcov_results(cov_type = \"HC1\")"
   ]
  },
  {
   "cell_type": "code",
   "execution_count": 10,
   "id": "555ffe8a",
   "metadata": {},
   "outputs": [
    {
     "name": "stdout",
     "output_type": "stream",
     "text": [
      "                            OLS Regression Results                            \n",
      "==============================================================================\n",
      "Dep. Variable:               inuidur1   R-squared:                       0.038\n",
      "Model:                            OLS   Adj. R-squared:                  0.035\n",
      "Method:                 Least Squares   F-statistic:                     15.32\n",
      "Date:                Fri, 12 Nov 2021   Prob (F-statistic):           6.43e-42\n",
      "Time:                        03:20:39   Log-Likelihood:                -8128.2\n",
      "No. Observations:                5099   AIC:                         1.629e+04\n",
      "Df Residuals:                    5082   BIC:                         1.640e+04\n",
      "Df Model:                          16                                         \n",
      "Covariance Type:                  HC1                                         \n",
      "===============================================================================\n",
      "                  coef    std err          t      P>|t|      [0.025      0.975]\n",
      "-------------------------------------------------------------------------------\n",
      "Intercept       1.7723      0.050     35.154      0.000       1.673       1.871\n",
      "C(dep)[T.1]     0.0529      0.054      0.982      0.326      -0.053       0.159\n",
      "C(dep)[T.2]     0.1232      0.046      2.687      0.007       0.033       0.213\n",
      "T4             -0.0762      0.035     -2.164      0.030      -0.145      -0.007\n",
      "female          0.1381      0.035      3.966      0.000       0.070       0.206\n",
      "black          -0.3079      0.060     -5.156      0.000      -0.425      -0.191\n",
      "othrace        -0.4397      0.236     -1.860      0.063      -0.903       0.024\n",
      "q2              0.1499      0.050      3.021      0.003       0.053       0.247\n",
      "q3              0.0595      0.048      1.230      0.219      -0.035       0.154\n",
      "q4              0.0452      0.049      0.914      0.361      -0.052       0.142\n",
      "q5              0.1334      0.078      1.719      0.086      -0.019       0.285\n",
      "q6              0.3686      0.040      9.280      0.000       0.291       0.446\n",
      "agelt35         0.3296      0.053      6.204      0.000       0.225       0.434\n",
      "agegt54         0.1229      0.048      2.537      0.011       0.028       0.218\n",
      "durable        -0.2084      0.056     -3.735      0.000      -0.318      -0.099\n",
      "lusd            0.0588      0.045      1.295      0.195      -0.030       0.148\n",
      "husd            0.2070      0.039      5.276      0.000       0.130       0.284\n",
      "==============================================================================\n",
      "Omnibus:                     2015.498   Durbin-Watson:                   1.983\n",
      "Prob(Omnibus):                  0.000   Jarque-Bera (JB):              435.577\n",
      "Skew:                          -0.469   Prob(JB):                     2.60e-95\n",
      "Kurtosis:                       1.918   Cond. No.                         16.1\n",
      "==============================================================================\n",
      "\n",
      "Notes:\n",
      "[1] Standard Errors are heteroscedasticity robust (HC1)\n",
      "Number of regressors in the basic model: 17 \n",
      "\n"
     ]
    }
   ],
   "source": [
    "print(model_results.summary())\n",
    "print( \"Number of regressors in the basic model:\",len(model_results.params), '\\n')"
   ]
  },
  {
   "cell_type": "code",
   "execution_count": 11,
   "id": "4e33d895",
   "metadata": {},
   "outputs": [],
   "source": [
    "coef1 =model_results.summary2().tables[1]['Coef.']['T4']\n",
    "err1 =model_results.summary2().tables[1]['Std.Err.']['T4']"
   ]
  },
  {
   "cell_type": "code",
   "execution_count": 12,
   "id": "70522851",
   "metadata": {},
   "outputs": [],
   "source": [
    "coef2 =model_results.summary2().tables[1]['Coef.']['female']\n",
    "err2 =model_results.summary2().tables[1]['Std.Err.']['female']"
   ]
  },
  {
   "cell_type": "code",
   "execution_count": 13,
   "id": "700b1820",
   "metadata": {},
   "outputs": [],
   "source": [
    "coef3 =model_results.summary2().tables[1]['Coef.']['black']\n",
    "err3 =model_results.summary2().tables[1]['Std.Err.']['black']"
   ]
  },
  {
   "cell_type": "markdown",
   "id": "c22662ce",
   "metadata": {},
   "source": [
    "#### Real Data \n",
    "\n",
    "We extract the real coef and std err of the variables (T4, female, and black)"
   ]
  },
  {
   "cell_type": "code",
   "execution_count": 14,
   "id": "4976f8b9",
   "metadata": {},
   "outputs": [
    {
     "data": {
      "text/html": [
       "<div>\n",
       "<style scoped>\n",
       "    .dataframe tbody tr th:only-of-type {\n",
       "        vertical-align: middle;\n",
       "    }\n",
       "\n",
       "    .dataframe tbody tr th {\n",
       "        vertical-align: top;\n",
       "    }\n",
       "\n",
       "    .dataframe thead th {\n",
       "        text-align: right;\n",
       "    }\n",
       "</style>\n",
       "<table border=\"1\" class=\"dataframe\">\n",
       "  <thead>\n",
       "    <tr style=\"text-align: right;\">\n",
       "      <th></th>\n",
       "      <th>variable</th>\n",
       "      <th>coef</th>\n",
       "      <th>err</th>\n",
       "    </tr>\n",
       "  </thead>\n",
       "  <tbody>\n",
       "    <tr>\n",
       "      <th>0</th>\n",
       "      <td>T4</td>\n",
       "      <td>-0.076206</td>\n",
       "      <td>0.035211</td>\n",
       "    </tr>\n",
       "    <tr>\n",
       "      <th>1</th>\n",
       "      <td>female</td>\n",
       "      <td>0.138128</td>\n",
       "      <td>0.034827</td>\n",
       "    </tr>\n",
       "    <tr>\n",
       "      <th>2</th>\n",
       "      <td>black</td>\n",
       "      <td>-0.307905</td>\n",
       "      <td>0.059723</td>\n",
       "    </tr>\n",
       "  </tbody>\n",
       "</table>\n",
       "</div>"
      ],
      "text/plain": [
       "  variable      coef       err\n",
       "0       T4 -0.076206  0.035211\n",
       "1   female  0.138128  0.034827\n",
       "2    black -0.307905  0.059723"
      ]
     },
     "execution_count": 14,
     "metadata": {},
     "output_type": "execute_result"
    }
   ],
   "source": [
    "df=pd.DataFrame({\"variable\":['T4','female','black'], \n",
    "                 \"coef\":[coef1,coef2,coef3],\n",
    "                 \"err\":[err1,err2,err3]}) \n",
    "df"
   ]
  },
  {
   "cell_type": "markdown",
   "id": "f4997a3a",
   "metadata": {},
   "source": [
    "## Bootstraping "
   ]
  },
  {
   "cell_type": "code",
   "execution_count": 15,
   "id": "f4fac033",
   "metadata": {},
   "outputs": [],
   "source": [
    "def get_indices(data,num_samples):\n",
    "    return  np.random.choice(data.index, num_samples, replace=True)\n"
   ]
  },
  {
   "cell_type": "code",
   "execution_count": 16,
   "id": "91eb32c6",
   "metadata": {},
   "outputs": [],
   "source": [
    "def get_estimates(data,index):\n",
    "    data_1 = data.loc[index]\n",
    "\n",
    "    model = \"inuidur1~T4+ (female+black+othrace+C(dep)+q2+q3+q4+q5+q6+agelt35+agegt54+durable+lusd+husd)\"\n",
    "\n",
    "    model_results = smf.ols( model , data = data_1 ).fit().get_robustcov_results(cov_type = \"HC1\")\n",
    "\n",
    "    T4_coef = model_results.summary2().tables[1]['Coef.']['T4']\n",
    "    female_coef = model_results.summary2().tables[1]['Coef.']['female']\n",
    "    black_coef = model_results.summary2().tables[1]['Coef.']['black']\n",
    "\n",
    "    return [T4_coef,female_coef, black_coef]\n"
   ]
  },
  {
   "cell_type": "code",
   "execution_count": 17,
   "id": "1db6778a",
   "metadata": {},
   "outputs": [],
   "source": [
    "def boot(data,func,R):\n",
    "    T4 = []\n",
    "    female = []\n",
    "    black = []\n",
    "    for i in range(R):\n",
    "        T4.append(func(data,get_indices(data,5099))[0])\n",
    "        female.append(func(data,get_indices(data,5099))[1]) \n",
    "        black.append(func(data,get_indices(data,5099))[2]) \n",
    "    T4_statistics = {'estimated_value':np.mean(T4),'std_error':np.std(T4)}   \n",
    "    female_statistices = {'estimated_value':np.mean(female),'std_error':np.std(female)}   \n",
    "    black_statistices = {'estimated_value':np.mean(black),'std_error':np.std(black)} \n",
    "    return {'T4':T4_statistics,'female_statistices':female_statistices,'black_statistices':black_statistices}\n"
   ]
  },
  {
   "cell_type": "code",
   "execution_count": 18,
   "id": "e24dcc39",
   "metadata": {},
   "outputs": [],
   "source": [
    "results =boot(Penn,get_estimates,1000)"
   ]
  },
  {
   "cell_type": "code",
   "execution_count": 19,
   "id": "eb9a4e09",
   "metadata": {},
   "outputs": [
    {
     "data": {
      "text/plain": [
       "{'T4': {'estimated_value': -0.07538444679606028,\n",
       "  'std_error': 0.034736600309284736},\n",
       " 'female_statistices': {'estimated_value': 0.14019048407111312,\n",
       "  'std_error': 0.035352948234779476},\n",
       " 'black_statistices': {'estimated_value': -0.3076308058390237,\n",
       "  'std_error': 0.05955396376021122}}"
      ]
     },
     "execution_count": 19,
     "metadata": {},
     "output_type": "execute_result"
    }
   ],
   "source": [
    "results"
   ]
  },
  {
   "cell_type": "code",
   "execution_count": 20,
   "id": "b649cd87",
   "metadata": {},
   "outputs": [
    {
     "data": {
      "text/plain": [
       "-0.07538444679606028"
      ]
     },
     "execution_count": 20,
     "metadata": {},
     "output_type": "execute_result"
    }
   ],
   "source": [
    "results['T4']['estimated_value']"
   ]
  },
  {
   "cell_type": "code",
   "execution_count": 21,
   "id": "70650673",
   "metadata": {},
   "outputs": [],
   "source": [
    "coef1 =model_results.summary2().tables[1]['Coef.']['T4']\n",
    "err1 =model_results.summary2().tables[1]['Std.Err.']['T4']"
   ]
  },
  {
   "cell_type": "code",
   "execution_count": 22,
   "id": "8fda12a9",
   "metadata": {},
   "outputs": [],
   "source": [
    "coef2 =model_results.summary2().tables[1]['Coef.']['female']\n",
    "err2 =model_results.summary2().tables[1]['Std.Err.']['female']"
   ]
  },
  {
   "cell_type": "code",
   "execution_count": 23,
   "id": "ae356db9",
   "metadata": {},
   "outputs": [],
   "source": [
    "coef3 =model_results.summary2().tables[1]['Coef.']['black']\n",
    "err3 =model_results.summary2().tables[1]['Std.Err.']['black']"
   ]
  },
  {
   "cell_type": "code",
   "execution_count": 24,
   "id": "3459574a",
   "metadata": {},
   "outputs": [],
   "source": [
    "coef5 =results['T4']['estimated_value']\n",
    "err5 =results['T4']['std_error']"
   ]
  },
  {
   "cell_type": "code",
   "execution_count": 25,
   "id": "ab930932",
   "metadata": {},
   "outputs": [],
   "source": [
    "coef6 =results['female_statistices']['estimated_value']\n",
    "err6 =results['female_statistices']['std_error']"
   ]
  },
  {
   "cell_type": "code",
   "execution_count": 26,
   "id": "a0d60f3f",
   "metadata": {},
   "outputs": [],
   "source": [
    "coef7 =results['black_statistices']['estimated_value']\n",
    "err7 =results['black_statistices']['std_error']"
   ]
  },
  {
   "cell_type": "markdown",
   "id": "220951a7",
   "metadata": {},
   "source": [
    "### Bootstraping data\n",
    "\n",
    "We extract the real coef and std err of the variables (T4, female, and black)"
   ]
  },
  {
   "cell_type": "code",
   "execution_count": 27,
   "id": "f33c6543",
   "metadata": {},
   "outputs": [
    {
     "data": {
      "text/html": [
       "<div>\n",
       "<style scoped>\n",
       "    .dataframe tbody tr th:only-of-type {\n",
       "        vertical-align: middle;\n",
       "    }\n",
       "\n",
       "    .dataframe tbody tr th {\n",
       "        vertical-align: top;\n",
       "    }\n",
       "\n",
       "    .dataframe thead th {\n",
       "        text-align: right;\n",
       "    }\n",
       "</style>\n",
       "<table border=\"1\" class=\"dataframe\">\n",
       "  <thead>\n",
       "    <tr style=\"text-align: right;\">\n",
       "      <th></th>\n",
       "      <th>variable</th>\n",
       "      <th>coef</th>\n",
       "      <th>err</th>\n",
       "    </tr>\n",
       "  </thead>\n",
       "  <tbody>\n",
       "    <tr>\n",
       "      <th>0</th>\n",
       "      <td>T4</td>\n",
       "      <td>-0.076206</td>\n",
       "      <td>0.035211</td>\n",
       "    </tr>\n",
       "    <tr>\n",
       "      <th>1</th>\n",
       "      <td>female</td>\n",
       "      <td>0.138128</td>\n",
       "      <td>0.034827</td>\n",
       "    </tr>\n",
       "    <tr>\n",
       "      <th>2</th>\n",
       "      <td>black</td>\n",
       "      <td>-0.307905</td>\n",
       "      <td>0.059723</td>\n",
       "    </tr>\n",
       "    <tr>\n",
       "      <th>3</th>\n",
       "      <td>T4boot</td>\n",
       "      <td>-0.075384</td>\n",
       "      <td>0.034737</td>\n",
       "    </tr>\n",
       "    <tr>\n",
       "      <th>4</th>\n",
       "      <td>femaleboot</td>\n",
       "      <td>0.140190</td>\n",
       "      <td>0.035353</td>\n",
       "    </tr>\n",
       "    <tr>\n",
       "      <th>5</th>\n",
       "      <td>blackboot</td>\n",
       "      <td>-0.307631</td>\n",
       "      <td>0.059554</td>\n",
       "    </tr>\n",
       "  </tbody>\n",
       "</table>\n",
       "</div>"
      ],
      "text/plain": [
       "     variable      coef       err\n",
       "0          T4 -0.076206  0.035211\n",
       "1      female  0.138128  0.034827\n",
       "2       black -0.307905  0.059723\n",
       "3      T4boot -0.075384  0.034737\n",
       "4  femaleboot  0.140190  0.035353\n",
       "5   blackboot -0.307631  0.059554"
      ]
     },
     "execution_count": 27,
     "metadata": {},
     "output_type": "execute_result"
    }
   ],
   "source": [
    "df=pd.DataFrame({\"variable\":['T4','female','black','T4boot','femaleboot','blackboot'], \n",
    "                 \"coef\":[coef1,coef2,coef3,coef5,coef6,coef7],\n",
    "                 \"err\":[err1,err2,err3,err5,err6,err7]}) \n",
    "df"
   ]
  },
  {
   "cell_type": "markdown",
   "id": "58c9f777",
   "metadata": {},
   "source": [
    "The difference between the coefficient of the real data and the bootstrapping data is minimal, this can be explained by the high number of replicas (1000) with replacement of the data. "
   ]
  }
 ],
 "metadata": {
  "kernelspec": {
   "display_name": "Python 3",
   "language": "python",
   "name": "python3"
  },
  "language_info": {
   "codemirror_mode": {
    "name": "ipython",
    "version": 3
   },
   "file_extension": ".py",
   "mimetype": "text/x-python",
   "name": "python",
   "nbconvert_exporter": "python",
   "pygments_lexer": "ipython3",
   "version": "3.8.8"
  }
 },
 "nbformat": 4,
 "nbformat_minor": 5
}
