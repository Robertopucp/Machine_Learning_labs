{
 "cells": [
  {
   "cell_type": "markdown",
   "id": "7e8a311a",
   "metadata": {},
   "source": [
    "# Bootstraping - Scripts in R and Python"
   ]
  },
  {
   "cell_type": "markdown",
   "id": "904fbfed",
   "metadata": {},
   "source": [
    "### Data"
   ]
  },
  {
   "cell_type": "markdown",
   "id": "cb2d5dfd",
   "metadata": {},
   "source": [
    "We analyze the Pennsylvania re-employment bonus experiment, which was previously studied in \"Sequential testing of duration data: the case of the Pennsylvania ‘reemployment bonus’ experiment\" (Bilias, 2000). These experiments were conducted in the 1980s by the U.S. Department of Labor to test the incentive effects of alternative compensation schemes for unemployment insurance (UI). In these experiments, UI claimants were randomly assigned either to a control group or one of five treatment groups. Actually, there are six treatment groups in the experiments. Here we focus on treatment group 4, but feel free to explore other treatment groups. In the control group the current rules of the UI applied. Individuals in the treatment groups were offered a cash bonus if they found a job within some pre-specified period of time (qualification period), provided that the job was retained for a specified duration. The treatments differed in the level of the bonus, the length of the qualification period, and whether the bonus was declining over time in the qualification period."
   ]
  },
  {
   "cell_type": "code",
   "execution_count": 58,
   "id": "2c5f691b",
   "metadata": {},
   "outputs": [],
   "source": [
    "import pandas as pd\n",
    "import numpy as np\n",
    "import pyreadr\n",
    "\n",
    "from sklearn.preprocessing import PolynomialFeatures\n",
    "from sklearn.linear_model import LinearRegression\n",
    "from sklearn.model_selection import train_test_split,cross_val_score\n",
    "from sklearn.metrics import mean_squared_error\n",
    "\n",
    "import matplotlib.pyplot as plt\n",
    "import seaborn as sns\n",
    "\n",
    "import statsmodels.api as sm\n",
    "import statsmodels.formula.api as smf\n",
    "import patsy"
   ]
  },
  {
   "cell_type": "code",
   "execution_count": 59,
   "id": "4e1b49ae",
   "metadata": {},
   "outputs": [],
   "source": [
    "## loading the data\n",
    "Penn = pd.read_csv(\"d:/Users/Manuela/Documents/GitHub/ECO224/Labs/data/penn_jae.dat\" , sep='\\s', engine='python')\n",
    "#dimension \n",
    "n = Penn.shape[0]\n",
    "#numero de covariables \n",
    "p_1 = Penn.shape[1]\n",
    "Penn = Penn[ (Penn['tg'] == 4) | (Penn['tg'] == 0) ]\n",
    "#we ubset the data for tg== 4 | tg==0 to compare treatment group 4 and the control group"
   ]
  },
  {
   "cell_type": "code",
   "execution_count": 60,
   "id": "77536f9d",
   "metadata": {},
   "outputs": [
    {
     "name": "stdout",
     "output_type": "stream",
     "text": [
      "<class 'pandas.core.frame.DataFrame'>\n",
      "Int64Index: 5099 entries, 0 to 13911\n",
      "Data columns (total 24 columns):\n",
      " #   Column       Non-Null Count  Dtype  \n",
      "---  ------       --------------  -----  \n",
      " 0   abdt         5099 non-null   int64  \n",
      " 1   tg           5099 non-null   int64  \n",
      " 2   inuidur1     5099 non-null   int64  \n",
      " 3   inuidur2     5099 non-null   int64  \n",
      " 4   female       5099 non-null   int64  \n",
      " 5   black        5099 non-null   int64  \n",
      " 6   hispanic     5099 non-null   int64  \n",
      " 7   othrace      5099 non-null   int64  \n",
      " 8   dep          5099 non-null   int64  \n",
      " 9   q1           5099 non-null   int64  \n",
      " 10  q2           5099 non-null   int64  \n",
      " 11  q3           5099 non-null   int64  \n",
      " 12  q4           5099 non-null   int64  \n",
      " 13  Unnamed: 13  5099 non-null   int64  \n",
      " 14  q5           5099 non-null   int64  \n",
      " 15  q6           5099 non-null   int64  \n",
      " 16  recall       5099 non-null   int64  \n",
      " 17  agelt35      5099 non-null   int64  \n",
      " 18  agegt54      5099 non-null   int64  \n",
      " 19  durable      5099 non-null   int64  \n",
      " 20  nondurable   5099 non-null   int64  \n",
      " 21  lusd         5099 non-null   int64  \n",
      " 22  husd         5099 non-null   int64  \n",
      " 23  muld         0 non-null      float64\n",
      "dtypes: float64(1), int64(23)\n",
      "memory usage: 995.9 KB\n"
     ]
    }
   ],
   "source": [
    "#this columns were not dropped out :  Unnamed: 13, recall\n",
    "Penn.columns\n",
    "Penn.info()"
   ]
  },
  {
   "cell_type": "code",
   "execution_count": 61,
   "id": "afecc2bb",
   "metadata": {},
   "outputs": [
    {
     "data": {
      "text/html": [
       "<div>\n",
       "<style scoped>\n",
       "    .dataframe tbody tr th:only-of-type {\n",
       "        vertical-align: middle;\n",
       "    }\n",
       "\n",
       "    .dataframe tbody tr th {\n",
       "        vertical-align: top;\n",
       "    }\n",
       "\n",
       "    .dataframe thead th {\n",
       "        text-align: right;\n",
       "    }\n",
       "</style>\n",
       "<table border=\"1\" class=\"dataframe\">\n",
       "  <thead>\n",
       "    <tr style=\"text-align: right;\">\n",
       "      <th></th>\n",
       "      <th>abdt</th>\n",
       "      <th>tg</th>\n",
       "      <th>inuidur1</th>\n",
       "      <th>inuidur2</th>\n",
       "      <th>female</th>\n",
       "      <th>black</th>\n",
       "      <th>hispanic</th>\n",
       "      <th>othrace</th>\n",
       "      <th>dep</th>\n",
       "      <th>q1</th>\n",
       "      <th>...</th>\n",
       "      <th>q6</th>\n",
       "      <th>recall</th>\n",
       "      <th>agelt35</th>\n",
       "      <th>agegt54</th>\n",
       "      <th>durable</th>\n",
       "      <th>nondurable</th>\n",
       "      <th>lusd</th>\n",
       "      <th>husd</th>\n",
       "      <th>muld</th>\n",
       "      <th>T4</th>\n",
       "    </tr>\n",
       "  </thead>\n",
       "  <tbody>\n",
       "    <tr>\n",
       "      <th>0</th>\n",
       "      <td>10824</td>\n",
       "      <td>0</td>\n",
       "      <td>18</td>\n",
       "      <td>18</td>\n",
       "      <td>0</td>\n",
       "      <td>0</td>\n",
       "      <td>0</td>\n",
       "      <td>0</td>\n",
       "      <td>2</td>\n",
       "      <td>0</td>\n",
       "      <td>...</td>\n",
       "      <td>0</td>\n",
       "      <td>0</td>\n",
       "      <td>0</td>\n",
       "      <td>0</td>\n",
       "      <td>0</td>\n",
       "      <td>0</td>\n",
       "      <td>1</td>\n",
       "      <td>0</td>\n",
       "      <td>NaN</td>\n",
       "      <td>0</td>\n",
       "    </tr>\n",
       "    <tr>\n",
       "      <th>3</th>\n",
       "      <td>10824</td>\n",
       "      <td>0</td>\n",
       "      <td>1</td>\n",
       "      <td>1</td>\n",
       "      <td>0</td>\n",
       "      <td>0</td>\n",
       "      <td>0</td>\n",
       "      <td>0</td>\n",
       "      <td>0</td>\n",
       "      <td>0</td>\n",
       "      <td>...</td>\n",
       "      <td>0</td>\n",
       "      <td>0</td>\n",
       "      <td>0</td>\n",
       "      <td>0</td>\n",
       "      <td>0</td>\n",
       "      <td>1</td>\n",
       "      <td>0</td>\n",
       "      <td>0</td>\n",
       "      <td>NaN</td>\n",
       "      <td>0</td>\n",
       "    </tr>\n",
       "    <tr>\n",
       "      <th>4</th>\n",
       "      <td>10747</td>\n",
       "      <td>0</td>\n",
       "      <td>27</td>\n",
       "      <td>27</td>\n",
       "      <td>0</td>\n",
       "      <td>0</td>\n",
       "      <td>0</td>\n",
       "      <td>0</td>\n",
       "      <td>0</td>\n",
       "      <td>0</td>\n",
       "      <td>...</td>\n",
       "      <td>0</td>\n",
       "      <td>0</td>\n",
       "      <td>0</td>\n",
       "      <td>0</td>\n",
       "      <td>0</td>\n",
       "      <td>1</td>\n",
       "      <td>0</td>\n",
       "      <td>0</td>\n",
       "      <td>NaN</td>\n",
       "      <td>0</td>\n",
       "    </tr>\n",
       "    <tr>\n",
       "      <th>11</th>\n",
       "      <td>10607</td>\n",
       "      <td>4</td>\n",
       "      <td>9</td>\n",
       "      <td>9</td>\n",
       "      <td>0</td>\n",
       "      <td>0</td>\n",
       "      <td>0</td>\n",
       "      <td>0</td>\n",
       "      <td>0</td>\n",
       "      <td>0</td>\n",
       "      <td>...</td>\n",
       "      <td>0</td>\n",
       "      <td>1</td>\n",
       "      <td>0</td>\n",
       "      <td>0</td>\n",
       "      <td>0</td>\n",
       "      <td>0</td>\n",
       "      <td>0</td>\n",
       "      <td>1</td>\n",
       "      <td>NaN</td>\n",
       "      <td>1</td>\n",
       "    </tr>\n",
       "    <tr>\n",
       "      <th>12</th>\n",
       "      <td>10831</td>\n",
       "      <td>0</td>\n",
       "      <td>27</td>\n",
       "      <td>27</td>\n",
       "      <td>0</td>\n",
       "      <td>0</td>\n",
       "      <td>0</td>\n",
       "      <td>0</td>\n",
       "      <td>1</td>\n",
       "      <td>0</td>\n",
       "      <td>...</td>\n",
       "      <td>0</td>\n",
       "      <td>0</td>\n",
       "      <td>1</td>\n",
       "      <td>1</td>\n",
       "      <td>0</td>\n",
       "      <td>1</td>\n",
       "      <td>0</td>\n",
       "      <td>0</td>\n",
       "      <td>NaN</td>\n",
       "      <td>0</td>\n",
       "    </tr>\n",
       "  </tbody>\n",
       "</table>\n",
       "<p>5 rows × 25 columns</p>\n",
       "</div>"
      ],
      "text/plain": [
       "     abdt  tg  inuidur1  inuidur2  female  black  hispanic  othrace dep  q1  \\\n",
       "0   10824   0        18        18       0      0         0        0   2   0   \n",
       "3   10824   0         1         1       0      0         0        0   0   0   \n",
       "4   10747   0        27        27       0      0         0        0   0   0   \n",
       "11  10607   4         9         9       0      0         0        0   0   0   \n",
       "12  10831   0        27        27       0      0         0        0   1   0   \n",
       "\n",
       "    ...  q6  recall  agelt35  agegt54  durable  nondurable  lusd  husd  muld  \\\n",
       "0   ...   0       0        0        0        0           0     1     0   NaN   \n",
       "3   ...   0       0        0        0        0           1     0     0   NaN   \n",
       "4   ...   0       0        0        0        0           1     0     0   NaN   \n",
       "11  ...   0       1        0        0        0           0     0     1   NaN   \n",
       "12  ...   0       0        1        1        0           1     0     0   NaN   \n",
       "\n",
       "    T4  \n",
       "0    0  \n",
       "3    0  \n",
       "4    0  \n",
       "11   1  \n",
       "12   0  \n",
       "\n",
       "[5 rows x 25 columns]"
      ]
     },
     "execution_count": 61,
     "metadata": {},
     "output_type": "execute_result"
    }
   ],
   "source": [
    "# Dependent variable\n",
    "Penn['T4'] = (Penn[['tg']]==4).astype(int)\n",
    "\n",
    "# Create category variable\n",
    "Penn['dep'] = Penn['dep'].astype( 'category' )\n",
    "Penn.head()"
   ]
  },
  {
   "cell_type": "code",
   "execution_count": 62,
   "id": "2f24e042",
   "metadata": {},
   "outputs": [
    {
     "data": {
      "text/plain": [
       "[2, 0, 1]\n",
       "Categories (3, int64): [2, 0, 1]"
      ]
     },
     "execution_count": 62,
     "metadata": {},
     "output_type": "execute_result"
    }
   ],
   "source": [
    "Penn['dep'].unique()"
   ]
  },
  {
   "cell_type": "markdown",
   "id": "de570a58",
   "metadata": {},
   "source": [
    "### Model\n",
    "\n",
    "To evaluate the impact of the treatments on unemployment duration, we consider the linear regression model:\n",
    "\n",
    "$$\n",
    "Y =  D \\beta_1 + W'\\beta_2 + \\varepsilon, \\quad E \\varepsilon (D,W')' = 0,\n",
    "$$\n",
    "where $Y$ is the log of duration of unemployment, $D$ is a treatment indicators, and $W$ is a set of controls including age group dummies, gender, race, number of dependents, quarter of the experiment, location within the state, existence of recall expectations, and type of occupation. Here $\\beta_1$ is the ATE, if the RCT assumptions hold rigorously.\n",
    "\n",
    "We also consider interactive regression model:\n",
    "\n",
    "$$\n",
    "Y =  D \\alpha_1 + D W' \\alpha_2 + W'\\beta_2 + \\varepsilon, \\quad E \\varepsilon (D,W', DW')' = 0,\n",
    "$$\n",
    "where $W$'s are demeaned (apart from the intercept), so that $\\alpha_1$ is the ATE, if the RCT assumptions hold rigorously.\n",
    "\n",
    "Under RCT, the projection coefficient $\\beta_1$ has the interpretation of the causal effect of the treatment on the average outcome. We thus refer to $\\beta_1$ as the average treatment effect (ATE). Note that the covariates, here are independent of the treatment $D$, so we can identify $\\beta_1$ by just linear regression of $Y$ on $D$, without adding covariates. However we do add covariates in an effort to improve the precision of our estimates of the average treatment effect."
   ]
  },
  {
   "cell_type": "markdown",
   "id": "f20d4915",
   "metadata": {},
   "source": [
    "### Analysis\n",
    "We consider:\n",
    "\n",
    "- classical 2-sample approach, no adjustment (CL)\n",
    "- classical linear regression adjustment (CRA)\n",
    "$$\n",
    "Y =  D \\beta_1 + W'\\beta_2 + \\varepsilon, \\quad E \\varepsilon (D,W')' = 0,\n",
    "$$\n",
    "- interactive regression adjusment (IRA)\n",
    "\n",
    "and carry out robust inference using the estimatr R packages."
   ]
  },
  {
   "cell_type": "markdown",
   "id": "78377d00",
   "metadata": {},
   "source": [
    "## Carry out covariate balance check\n",
    "\n",
    "Since the extensions have been called before, the following equation is used:"
   ]
  },
  {
   "cell_type": "code",
   "execution_count": 93,
   "id": "dee899de",
   "metadata": {},
   "outputs": [],
   "source": [
    "model = \"log_inuidur1~T4 + (female+black+othrace+C(dep)+q2+q3+q4+q5+q6+agelt35+agegt54+durable+lusd+husd)\"\n",
    "model_results = smf.ols( model , data = Penn ).fit().get_robustcov_results(cov_type = \"HC1\")"
   ]
  },
  {
   "cell_type": "markdown",
   "id": "362f0e0a",
   "metadata": {},
   "source": [
    "### Regress treatment on all covariates"
   ]
  },
  {
   "cell_type": "code",
   "execution_count": 94,
   "id": "8d971b02",
   "metadata": {},
   "outputs": [
    {
     "name": "stdout",
     "output_type": "stream",
     "text": [
      "                            OLS Regression Results                            \n",
      "==============================================================================\n",
      "Dep. Variable:           log_inuidur1   R-squared:                       0.038\n",
      "Model:                            OLS   Adj. R-squared:                  0.035\n",
      "Method:                 Least Squares   F-statistic:                     15.32\n",
      "Date:                Fri, 12 Nov 2021   Prob (F-statistic):           6.43e-42\n",
      "Time:                        16:28:48   Log-Likelihood:                -8128.2\n",
      "No. Observations:                5099   AIC:                         1.629e+04\n",
      "Df Residuals:                    5082   BIC:                         1.640e+04\n",
      "Df Model:                          16                                         \n",
      "Covariance Type:                  HC1                                         \n",
      "===============================================================================\n",
      "                  coef    std err          t      P>|t|      [0.025      0.975]\n",
      "-------------------------------------------------------------------------------\n",
      "Intercept       1.7723      0.050     35.154      0.000       1.673       1.871\n",
      "C(dep)[T.1]     0.0529      0.054      0.982      0.326      -0.053       0.159\n",
      "C(dep)[T.2]     0.1232      0.046      2.687      0.007       0.033       0.213\n",
      "T4             -0.0762      0.035     -2.164      0.030      -0.145      -0.007\n",
      "female          0.1381      0.035      3.966      0.000       0.070       0.206\n",
      "black          -0.3079      0.060     -5.156      0.000      -0.425      -0.191\n",
      "othrace        -0.4397      0.236     -1.860      0.063      -0.903       0.024\n",
      "q2              0.1499      0.050      3.021      0.003       0.053       0.247\n",
      "q3              0.0595      0.048      1.230      0.219      -0.035       0.154\n",
      "q4              0.0452      0.049      0.914      0.361      -0.052       0.142\n",
      "q5              0.1334      0.078      1.719      0.086      -0.019       0.285\n",
      "q6              0.3686      0.040      9.280      0.000       0.291       0.446\n",
      "agelt35         0.3296      0.053      6.204      0.000       0.225       0.434\n",
      "agegt54         0.1229      0.048      2.537      0.011       0.028       0.218\n",
      "durable        -0.2084      0.056     -3.735      0.000      -0.318      -0.099\n",
      "lusd            0.0588      0.045      1.295      0.195      -0.030       0.148\n",
      "husd            0.2070      0.039      5.276      0.000       0.130       0.284\n",
      "==============================================================================\n",
      "Omnibus:                     2015.498   Durbin-Watson:                   1.983\n",
      "Prob(Omnibus):                  0.000   Jarque-Bera (JB):              435.577\n",
      "Skew:                          -0.469   Prob(JB):                     2.60e-95\n",
      "Kurtosis:                       1.918   Cond. No.                         16.1\n",
      "==============================================================================\n",
      "\n",
      "Notes:\n",
      "[1] Standard Errors are heteroscedasticity robust (HC1)\n",
      "Number of regressors in the basic model: 17 \n",
      "\n"
     ]
    }
   ],
   "source": [
    "print(model_results.summary())\n",
    "print( \"Number of regressors in the basic model:\",len(model_results.params), '\\n')"
   ]
  },
  {
   "cell_type": "code",
   "execution_count": 95,
   "id": "8a7c9cc9",
   "metadata": {},
   "outputs": [],
   "source": [
    "y = Penn[['T4']].reset_index( drop = True )"
   ]
  },
  {
   "cell_type": "markdown",
   "id": "63eb2049",
   "metadata": {},
   "source": [
    "We see that even though this is a randomized experiment, balance conditions are failed."
   ]
  },
  {
   "cell_type": "markdown",
   "id": "7dc5a641",
   "metadata": {},
   "source": [
    "## Model Specification"
   ]
  },
  {
   "cell_type": "code",
   "execution_count": 96,
   "id": "f97bd801",
   "metadata": {},
   "outputs": [],
   "source": [
    "# model specifications\n",
    "# take log of inuidur1\n",
    "Penn[\"log_inuidur1\"] = np.log( Penn[\"inuidur1\"] ) \n",
    "log_inuidur1 = pd.DataFrame(np.log( Penn[\"inuidur1\"] ) ).reset_index( drop = True )\n",
    "\n",
    "# no adjustment (2-sample approach)\n",
    "formula_cl = 'log_inuidur1~T4+ (female+black+othrace+C(dep)+q2+q3+q4+q5+q6+agelt35+agegt54+durable+lusd+husd)'\n",
    "\n",
    "# adding controls\n",
    "# formula_cra = 'log_inuidur1 ~ T4 + (female+black+othrace+dep+q2+q3+q4+q5+q6+agelt35+agegt54+durable+lusd+husd)**2'\n",
    "# Omitted dummies: q1, nondurable, muld\n",
    "\n",
    "ols_cl = smf.ols( formula = formula_cl, data = Penn ).fit().get_robustcov_results(cov_type = \"HC1\")"
   ]
  },
  {
   "cell_type": "markdown",
   "id": "df2e7697",
   "metadata": {},
   "source": [
    "We first define a function equivalent to function alpha defined in the Lab. This function takes two arguements, data and indexes, this indexes are used to calculate the estimate for alpha for this bootstrap."
   ]
  },
  {
   "cell_type": "code",
   "execution_count": 97,
   "id": "8a2f6a53",
   "metadata": {},
   "outputs": [],
   "source": [
    "# similar to boot.fn in lab\n",
    "\n",
    "def get_estimates(data,index):\n",
    "    X = data['female'].loc[index]\n",
    "    y = data['black'].loc[index]\n",
    "    \n",
    "    lr = LinearRegression()\n",
    "    lr.fit(X.to_frame(),y)\n",
    "    intercept = lr.intercept_\n",
    "    coef = lr.coef_\n",
    "    return [intercept,coef]"
   ]
  },
  {
   "cell_type": "code",
   "execution_count": 98,
   "id": "56a82343",
   "metadata": {},
   "outputs": [],
   "source": [
    "#modifying the boot mentioned that we used earlier\n",
    "def boot(data,func,R):\n",
    "    intercept = []\n",
    "    coeff = []\n",
    "    for i in range(R):\n",
    "        intercept.append(func(data,get_indices(data,100))[0])\n",
    "        coeff.append(func(data,get_indices(data,100))[1]) \n",
    "    intercept_statistics = {'estimated_value':np.mean(intercept),'std_error':np.std(intercept)}   \n",
    "    coeff_statistices = {'estimated_value':np.mean(coeff),'std_error':np.std(coeff)}   \n",
    "    return {'intercept':intercept_statistics,'coeff_statistices':coeff_statistices}"
   ]
  },
  {
   "cell_type": "code",
   "execution_count": 99,
   "id": "43531893",
   "metadata": {},
   "outputs": [],
   "source": [
    "results = boot(Penn,get_estimates,1000)"
   ]
  },
  {
   "cell_type": "code",
   "execution_count": 100,
   "id": "3dae6086",
   "metadata": {},
   "outputs": [
    {
     "name": "stdout",
     "output_type": "stream",
     "text": [
      "Result for intercept  {'estimated_value': 0.11710340375975938, 'std_error': 0.0410269994497691}\n",
      "Result for coefficient term  {'estimated_value': 0.011961512570975438, 'std_error': 0.06683200635344153}\n"
     ]
    }
   ],
   "source": [
    "print('Result for intercept ',results['intercept'])\n",
    "print('Result for coefficient term ',results['coeff_statistices'])"
   ]
  },
  {
   "cell_type": "code",
   "execution_count": 101,
   "id": "984c5037",
   "metadata": {},
   "outputs": [
    {
     "name": "stdout",
     "output_type": "stream",
     "text": [
      "                            OLS Regression Results                            \n",
      "==============================================================================\n",
      "Dep. Variable:                  black   R-squared:                       0.000\n",
      "Model:                            OLS   Adj. R-squared:                  0.000\n",
      "Method:                 Least Squares   F-statistic:                     1.430\n",
      "Date:                Fri, 12 Nov 2021   Prob (F-statistic):              0.232\n",
      "Time:                        16:29:08   Log-Likelihood:                -1539.0\n",
      "No. Observations:                5099   AIC:                             3082.\n",
      "Df Residuals:                    5097   BIC:                             3095.\n",
      "Df Model:                           1                                         \n",
      "Covariance Type:            nonrobust                                         \n",
      "==============================================================================\n",
      "                 coef    std err          t      P>|t|      [0.025      0.975]\n",
      "------------------------------------------------------------------------------\n",
      "const          0.1175      0.006     19.787      0.000       0.106       0.129\n",
      "female         0.0112      0.009      1.196      0.232      -0.007       0.029\n",
      "==============================================================================\n",
      "Omnibus:                     2171.096   Durbin-Watson:                   1.689\n",
      "Prob(Omnibus):                  0.000   Jarque-Bera (JB):             6894.262\n",
      "Skew:                           2.309   Prob(JB):                         0.00\n",
      "Kurtosis:                       6.335   Cond. No.                         2.45\n",
      "==============================================================================\n",
      "\n",
      "Notes:\n",
      "[1] Standard Errors assume that the covariance matrix of the errors is correctly specified.\n"
     ]
    }
   ],
   "source": [
    "# for lets see what the model predicts\n",
    "import statsmodels.api as sm\n",
    "X = Penn['female']\n",
    "y = Penn['black']\n",
    "\n",
    "X = sm.add_constant(X)\n",
    "results = sm.OLS(y,X).fit()\n",
    "print(results.summary())"
   ]
  },
  {
   "cell_type": "markdown",
   "id": "86adbc9d",
   "metadata": {},
   "source": [
    "Standard error are less for estimations using model but still bootstrap estimates are mode preices, because they don't rely on assumptions, while there is a lot of assumptions when calculating std errors using sm(model)"
   ]
  }
 ],
 "metadata": {
  "kernelspec": {
   "display_name": "Python 3",
   "language": "python",
   "name": "python3"
  },
  "language_info": {
   "codemirror_mode": {
    "name": "ipython",
    "version": 3
   },
   "file_extension": ".py",
   "mimetype": "text/x-python",
   "name": "python",
   "nbconvert_exporter": "python",
   "pygments_lexer": "ipython3",
   "version": "3.8.8"
  }
 },
 "nbformat": 4,
 "nbformat_minor": 5
}
