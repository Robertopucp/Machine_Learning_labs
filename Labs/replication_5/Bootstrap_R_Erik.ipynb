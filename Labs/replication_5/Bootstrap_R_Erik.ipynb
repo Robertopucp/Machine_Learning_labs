{
 "cells": [
  {
   "cell_type": "markdown",
   "id": "c9784d33",
   "metadata": {},
   "source": [
    "* Integrante\n",
    "\n",
    "  Morales López Erik Brandon (20163041)"
   ]
  },
  {
   "cell_type": "code",
   "execution_count": 1,
   "id": "69ccbd17",
   "metadata": {},
   "outputs": [],
   "source": [
    "#install.packages(\"ISLR2\")\n",
    "library(ISLR2)\n",
    "set.seed(1)\n",
    "library(boot)"
   ]
  },
  {
   "cell_type": "code",
   "execution_count": 2,
   "id": "004641b5",
   "metadata": {},
   "outputs": [],
   "source": [
    "## loading the data\n",
    "Penn <- as.data.frame(read.table(\"Downloads/penn_jae.dat\", header=T ))\n",
    "n <- dim(Penn)[1]\n",
    "p_1 <- dim(Penn)[2]\n",
    "Penn<- subset(Penn, tg== 4| tg==0)\n",
    "attach(Penn)"
   ]
  },
  {
   "cell_type": "code",
   "execution_count": 3,
   "id": "25de0014",
   "metadata": {},
   "outputs": [
    {
     "data": {
      "text/plain": [
       "   Mode   FALSE    TRUE \n",
       "logical    3354    1745 "
      ]
     },
     "metadata": {},
     "output_type": "display_data"
    }
   ],
   "source": [
    "T4<- (tg==4)\n",
    "summary(T4)"
   ]
  },
  {
   "cell_type": "code",
   "execution_count": 4,
   "id": "d2eccaf0",
   "metadata": {},
   "outputs": [
    {
     "data": {
      "text/html": [
       "<table>\n",
       "<thead><tr><th></th><th scope=col>abdt</th><th scope=col>tg</th><th scope=col>inuidur1</th><th scope=col>inuidur2</th><th scope=col>female</th><th scope=col>black</th><th scope=col>hispanic</th><th scope=col>othrace</th><th scope=col>dep</th><th scope=col>q1</th><th scope=col>...</th><th scope=col>q5</th><th scope=col>q6</th><th scope=col>recall</th><th scope=col>agelt35</th><th scope=col>agegt54</th><th scope=col>durable</th><th scope=col>nondurable</th><th scope=col>lusd</th><th scope=col>husd</th><th scope=col>muld</th></tr></thead>\n",
       "<tbody>\n",
       "\t<tr><th scope=row>1</th><td>10824</td><td>0    </td><td>18   </td><td>18   </td><td>0    </td><td>0    </td><td>0    </td><td>0    </td><td>2    </td><td>0    </td><td>...  </td><td>1    </td><td>0    </td><td>0    </td><td>0    </td><td>0    </td><td>0    </td><td>0    </td><td>0    </td><td>1    </td><td>0    </td></tr>\n",
       "\t<tr><th scope=row>4</th><td>10824</td><td>0    </td><td> 1   </td><td> 1   </td><td>0    </td><td>0    </td><td>0    </td><td>0    </td><td>0    </td><td>0    </td><td>...  </td><td>1    </td><td>0    </td><td>0    </td><td>0    </td><td>0    </td><td>0    </td><td>0    </td><td>1    </td><td>0    </td><td>0    </td></tr>\n",
       "\t<tr><th scope=row>5</th><td>10747</td><td>0    </td><td>27   </td><td>27   </td><td>0    </td><td>0    </td><td>0    </td><td>0    </td><td>0    </td><td>0    </td><td>...  </td><td>0    </td><td>0    </td><td>0    </td><td>0    </td><td>0    </td><td>0    </td><td>0    </td><td>1    </td><td>0    </td><td>0    </td></tr>\n",
       "\t<tr><th scope=row>12</th><td>10607</td><td>4    </td><td> 9   </td><td> 9   </td><td>0    </td><td>0    </td><td>0    </td><td>0    </td><td>0    </td><td>0    </td><td>...  </td><td>0    </td><td>0    </td><td>0    </td><td>1    </td><td>0    </td><td>0    </td><td>0    </td><td>0    </td><td>0    </td><td>1    </td></tr>\n",
       "\t<tr><th scope=row>13</th><td>10831</td><td>0    </td><td>27   </td><td>27   </td><td>0    </td><td>0    </td><td>0    </td><td>0    </td><td>1    </td><td>0    </td><td>...  </td><td>1    </td><td>0    </td><td>0    </td><td>0    </td><td>1    </td><td>1    </td><td>0    </td><td>1    </td><td>0    </td><td>0    </td></tr>\n",
       "\t<tr><th scope=row>14</th><td>10845</td><td>0    </td><td>27   </td><td>27   </td><td>1    </td><td>0    </td><td>0    </td><td>0    </td><td>0    </td><td>0    </td><td>...  </td><td>1    </td><td>0    </td><td>0    </td><td>0    </td><td>1    </td><td>0    </td><td>0    </td><td>1    </td><td>0    </td><td>0    </td></tr>\n",
       "</tbody>\n",
       "</table>\n"
      ],
      "text/latex": [
       "\\begin{tabular}{r|lllllllllllllllllllllll}\n",
       "  & abdt & tg & inuidur1 & inuidur2 & female & black & hispanic & othrace & dep & q1 & ... & q5 & q6 & recall & agelt35 & agegt54 & durable & nondurable & lusd & husd & muld\\\\\n",
       "\\hline\n",
       "\t1 & 10824 & 0     & 18    & 18    & 0     & 0     & 0     & 0     & 2     & 0     & ...   & 1     & 0     & 0     & 0     & 0     & 0     & 0     & 0     & 1     & 0    \\\\\n",
       "\t4 & 10824 & 0     &  1    &  1    & 0     & 0     & 0     & 0     & 0     & 0     & ...   & 1     & 0     & 0     & 0     & 0     & 0     & 0     & 1     & 0     & 0    \\\\\n",
       "\t5 & 10747 & 0     & 27    & 27    & 0     & 0     & 0     & 0     & 0     & 0     & ...   & 0     & 0     & 0     & 0     & 0     & 0     & 0     & 1     & 0     & 0    \\\\\n",
       "\t12 & 10607 & 4     &  9    &  9    & 0     & 0     & 0     & 0     & 0     & 0     & ...   & 0     & 0     & 0     & 1     & 0     & 0     & 0     & 0     & 0     & 1    \\\\\n",
       "\t13 & 10831 & 0     & 27    & 27    & 0     & 0     & 0     & 0     & 1     & 0     & ...   & 1     & 0     & 0     & 0     & 1     & 1     & 0     & 1     & 0     & 0    \\\\\n",
       "\t14 & 10845 & 0     & 27    & 27    & 1     & 0     & 0     & 0     & 0     & 0     & ...   & 1     & 0     & 0     & 0     & 1     & 0     & 0     & 1     & 0     & 0    \\\\\n",
       "\\end{tabular}\n"
      ],
      "text/markdown": [
       "\n",
       "| <!--/--> | abdt | tg | inuidur1 | inuidur2 | female | black | hispanic | othrace | dep | q1 | ... | q5 | q6 | recall | agelt35 | agegt54 | durable | nondurable | lusd | husd | muld |\n",
       "|---|---|---|---|---|---|---|---|---|---|---|---|---|---|---|---|---|---|---|---|---|---|\n",
       "| 1 | 10824 | 0     | 18    | 18    | 0     | 0     | 0     | 0     | 2     | 0     | ...   | 1     | 0     | 0     | 0     | 0     | 0     | 0     | 0     | 1     | 0     |\n",
       "| 4 | 10824 | 0     |  1    |  1    | 0     | 0     | 0     | 0     | 0     | 0     | ...   | 1     | 0     | 0     | 0     | 0     | 0     | 0     | 1     | 0     | 0     |\n",
       "| 5 | 10747 | 0     | 27    | 27    | 0     | 0     | 0     | 0     | 0     | 0     | ...   | 0     | 0     | 0     | 0     | 0     | 0     | 0     | 1     | 0     | 0     |\n",
       "| 12 | 10607 | 4     |  9    |  9    | 0     | 0     | 0     | 0     | 0     | 0     | ...   | 0     | 0     | 0     | 1     | 0     | 0     | 0     | 0     | 0     | 1     |\n",
       "| 13 | 10831 | 0     | 27    | 27    | 0     | 0     | 0     | 0     | 1     | 0     | ...   | 1     | 0     | 0     | 0     | 1     | 1     | 0     | 1     | 0     | 0     |\n",
       "| 14 | 10845 | 0     | 27    | 27    | 1     | 0     | 0     | 0     | 0     | 0     | ...   | 1     | 0     | 0     | 0     | 1     | 0     | 0     | 1     | 0     | 0     |\n",
       "\n"
      ],
      "text/plain": [
       "   abdt  tg inuidur1 inuidur2 female black hispanic othrace dep q1 ... q5 q6\n",
       "1  10824 0  18       18       0      0     0        0       2   0  ... 1  0 \n",
       "4  10824 0   1        1       0      0     0        0       0   0  ... 1  0 \n",
       "5  10747 0  27       27       0      0     0        0       0   0  ... 0  0 \n",
       "12 10607 4   9        9       0      0     0        0       0   0  ... 0  0 \n",
       "13 10831 0  27       27       0      0     0        0       1   0  ... 1  0 \n",
       "14 10845 0  27       27       1      0     0        0       0   0  ... 1  0 \n",
       "   recall agelt35 agegt54 durable nondurable lusd husd muld\n",
       "1  0      0       0       0       0          0    1    0   \n",
       "4  0      0       0       0       0          1    0    0   \n",
       "5  0      0       0       0       0          1    0    0   \n",
       "12 0      1       0       0       0          0    0    1   \n",
       "13 0      0       1       1       0          1    0    0   \n",
       "14 0      0       1       0       0          1    0    0   "
      ]
     },
     "metadata": {},
     "output_type": "display_data"
    }
   ],
   "source": [
    "head(Penn)"
   ]
  },
  {
   "cell_type": "code",
   "execution_count": 5,
   "id": "c0fd10df",
   "metadata": {},
   "outputs": [
    {
     "data": {
      "text/html": [
       "<ol class=list-inline>\n",
       "\t<li>'abdt'</li>\n",
       "\t<li>'tg'</li>\n",
       "\t<li>'inuidur1'</li>\n",
       "\t<li>'inuidur2'</li>\n",
       "\t<li>'female'</li>\n",
       "\t<li>'black'</li>\n",
       "\t<li>'hispanic'</li>\n",
       "\t<li>'othrace'</li>\n",
       "\t<li>'dep'</li>\n",
       "\t<li>'q1'</li>\n",
       "\t<li>'q2'</li>\n",
       "\t<li>'q3'</li>\n",
       "\t<li>'q4'</li>\n",
       "\t<li>'q5'</li>\n",
       "\t<li>'q6'</li>\n",
       "\t<li>'recall'</li>\n",
       "\t<li>'agelt35'</li>\n",
       "\t<li>'agegt54'</li>\n",
       "\t<li>'durable'</li>\n",
       "\t<li>'nondurable'</li>\n",
       "\t<li>'lusd'</li>\n",
       "\t<li>'husd'</li>\n",
       "\t<li>'muld'</li>\n",
       "\t<li>'log_inuidur1'</li>\n",
       "</ol>\n"
      ],
      "text/latex": [
       "\\begin{enumerate*}\n",
       "\\item 'abdt'\n",
       "\\item 'tg'\n",
       "\\item 'inuidur1'\n",
       "\\item 'inuidur2'\n",
       "\\item 'female'\n",
       "\\item 'black'\n",
       "\\item 'hispanic'\n",
       "\\item 'othrace'\n",
       "\\item 'dep'\n",
       "\\item 'q1'\n",
       "\\item 'q2'\n",
       "\\item 'q3'\n",
       "\\item 'q4'\n",
       "\\item 'q5'\n",
       "\\item 'q6'\n",
       "\\item 'recall'\n",
       "\\item 'agelt35'\n",
       "\\item 'agegt54'\n",
       "\\item 'durable'\n",
       "\\item 'nondurable'\n",
       "\\item 'lusd'\n",
       "\\item 'husd'\n",
       "\\item 'muld'\n",
       "\\item 'log\\_inuidur1'\n",
       "\\end{enumerate*}\n"
      ],
      "text/markdown": [
       "1. 'abdt'\n",
       "2. 'tg'\n",
       "3. 'inuidur1'\n",
       "4. 'inuidur2'\n",
       "5. 'female'\n",
       "6. 'black'\n",
       "7. 'hispanic'\n",
       "8. 'othrace'\n",
       "9. 'dep'\n",
       "10. 'q1'\n",
       "11. 'q2'\n",
       "12. 'q3'\n",
       "13. 'q4'\n",
       "14. 'q5'\n",
       "15. 'q6'\n",
       "16. 'recall'\n",
       "17. 'agelt35'\n",
       "18. 'agegt54'\n",
       "19. 'durable'\n",
       "20. 'nondurable'\n",
       "21. 'lusd'\n",
       "22. 'husd'\n",
       "23. 'muld'\n",
       "24. 'log_inuidur1'\n",
       "\n",
       "\n"
      ],
      "text/plain": [
       " [1] \"abdt\"         \"tg\"           \"inuidur1\"     \"inuidur2\"     \"female\"      \n",
       " [6] \"black\"        \"hispanic\"     \"othrace\"      \"dep\"          \"q1\"          \n",
       "[11] \"q2\"           \"q3\"           \"q4\"           \"q5\"           \"q6\"          \n",
       "[16] \"recall\"       \"agelt35\"      \"agegt54\"      \"durable\"      \"nondurable\"  \n",
       "[21] \"lusd\"         \"husd\"         \"muld\"         \"log_inuidur1\""
      ]
     },
     "metadata": {},
     "output_type": "display_data"
    }
   ],
   "source": [
    "Penn$log_inuidur1=log(Penn$inuidur1)\n",
    "names(Penn)"
   ]
  },
  {
   "cell_type": "markdown",
   "id": "dc30dabe",
   "metadata": {},
   "source": [
    "# The Bootstrap"
   ]
  },
  {
   "cell_type": "code",
   "execution_count": 6,
   "id": "163a94a8",
   "metadata": {},
   "outputs": [],
   "source": [
    "boot.fn <- function(data, index)\n",
    "  coef(\n",
    "      lm(log_inuidur1 ~ T4+ (female+black+othrace+factor(dep)+q2+q3+q4+q5+q6+agelt35+agegt54+durable+lusd+husd), \n",
    "        data = data, subset = index)\n",
    "    )"
   ]
  },
  {
   "cell_type": "code",
   "execution_count": 7,
   "id": "537bf8c9",
   "metadata": {},
   "outputs": [
    {
     "data": {
      "text/plain": [
       "\n",
       "ORDINARY NONPARAMETRIC BOOTSTRAP\n",
       "\n",
       "\n",
       "Call:\n",
       "boot(data = Penn, statistic = boot.fn, R = 1000)\n",
       "\n",
       "\n",
       "Bootstrap Statistics :\n",
       "         original        bias    std. error\n",
       "t1*   2.178462326  1.158480e-03  0.15440645\n",
       "t2*  -0.071692484 -3.524273e-04  0.03557456\n",
       "t3*   0.126368328  8.394803e-04  0.03516956\n",
       "t4*  -0.293767980  5.101116e-04  0.06033968\n",
       "t5*  -0.472445058 -5.488755e-03  0.24363226\n",
       "t6*   0.029866899  7.606843e-04  0.05553680\n",
       "t7*   0.096186517 -1.161955e-03  0.04527565\n",
       "t8*   0.073678072 -1.130668e-03  0.15201926\n",
       "t9*  -0.038506537 -4.256760e-04  0.14967519\n",
       "t10* -0.054949195 -8.952685e-04  0.15070895\n",
       "t11* -0.144177912 -1.587659e-03  0.14981234\n",
       "t12*  0.003361318 -3.816678e-03  0.16107836\n",
       "t13* -0.162772168  1.778627e-03  0.03822653\n",
       "t14*  0.229666708  2.239486e-04  0.05818025\n",
       "t15*  0.126557359  1.210092e-05  0.04855636\n",
       "t16* -0.175352572 -6.636363e-04  0.04096754\n",
       "t17* -0.105224727 -7.223598e-04  0.04517278"
      ]
     },
     "metadata": {},
     "output_type": "display_data"
    }
   ],
   "source": [
    "set.seed(1)\n",
    "reg_lineal = boot(Penn, boot.fn, 1000)\n",
    "reg_lineal"
   ]
  },
  {
   "cell_type": "code",
   "execution_count": 8,
   "id": "2376fed2",
   "metadata": {},
   "outputs": [
    {
     "data": {
      "text/html": [
       "<table>\n",
       "<thead><tr><th></th><th scope=col>Estimate</th><th scope=col>Std. Error</th><th scope=col>t value</th><th scope=col>Pr(&gt;|t|)</th></tr></thead>\n",
       "<tbody>\n",
       "\t<tr><th scope=row>(Intercept)</th><td> 2.178462326</td><td>0.15901507  </td><td>13.69972271 </td><td>5.631260e-42</td></tr>\n",
       "\t<tr><th scope=row>T4TRUE</th><td>-0.071692484</td><td>0.03546326  </td><td>-2.02159887 </td><td>4.327012e-02</td></tr>\n",
       "\t<tr><th scope=row>female</th><td> 0.126368328</td><td>0.03482493  </td><td> 3.62867401 </td><td>2.876799e-04</td></tr>\n",
       "\t<tr><th scope=row>black</th><td>-0.293767980</td><td>0.05297556  </td><td>-5.54534899 </td><td>3.081966e-08</td></tr>\n",
       "\t<tr><th scope=row>othrace</th><td>-0.472445058</td><td>0.19839750  </td><td>-2.38130547 </td><td>1.728801e-02</td></tr>\n",
       "\t<tr><th scope=row>factor(dep)1</th><td> 0.029866899</td><td>0.05414025  </td><td> 0.55165799 </td><td>5.812070e-01</td></tr>\n",
       "\t<tr><th scope=row>factor(dep)2</th><td> 0.096186517</td><td>0.04686228  </td><td> 2.05253621 </td><td>4.016868e-02</td></tr>\n",
       "\t<tr><th scope=row>q2</th><td> 0.073678072</td><td>0.15682593  </td><td> 0.46980799 </td><td>6.385124e-01</td></tr>\n",
       "\t<tr><th scope=row>q3</th><td>-0.038506537</td><td>0.15647802  </td><td>-0.24608272 </td><td>8.056281e-01</td></tr>\n",
       "\t<tr><th scope=row>q4</th><td>-0.054949195</td><td>0.15656019  </td><td>-0.35097809 </td><td>7.256193e-01</td></tr>\n",
       "\t<tr><th scope=row>q5</th><td>-0.144177912</td><td>0.15588797  </td><td>-0.92488160 </td><td>3.550714e-01</td></tr>\n",
       "\t<tr><th scope=row>q6</th><td> 0.003361318</td><td>0.16645573  </td><td> 0.02019347 </td><td>9.838898e-01</td></tr>\n",
       "\t<tr><th scope=row>agelt35</th><td>-0.162772168</td><td>0.03696505  </td><td>-4.40340780 </td><td>1.087509e-05</td></tr>\n",
       "\t<tr><th scope=row>agegt54</th><td> 0.229666708</td><td>0.05917173  </td><td> 3.88135887 </td><td>1.051906e-04</td></tr>\n",
       "\t<tr><th scope=row>durable</th><td> 0.126557359</td><td>0.04814585  </td><td> 2.62862426 </td><td>8.598901e-03</td></tr>\n",
       "\t<tr><th scope=row>lusd</th><td>-0.175352572</td><td>0.04098250  </td><td>-4.27871860 </td><td>1.914271e-05</td></tr>\n",
       "\t<tr><th scope=row>husd</th><td>-0.105224727</td><td>0.04490864  </td><td>-2.34308443 </td><td>1.916341e-02</td></tr>\n",
       "</tbody>\n",
       "</table>\n"
      ],
      "text/latex": [
       "\\begin{tabular}{r|llll}\n",
       "  & Estimate & Std. Error & t value & Pr(>\\textbar{}t\\textbar{})\\\\\n",
       "\\hline\n",
       "\t(Intercept) &  2.178462326 & 0.15901507   & 13.69972271  & 5.631260e-42\\\\\n",
       "\tT4TRUE & -0.071692484 & 0.03546326   & -2.02159887  & 4.327012e-02\\\\\n",
       "\tfemale &  0.126368328 & 0.03482493   &  3.62867401  & 2.876799e-04\\\\\n",
       "\tblack & -0.293767980 & 0.05297556   & -5.54534899  & 3.081966e-08\\\\\n",
       "\tothrace & -0.472445058 & 0.19839750   & -2.38130547  & 1.728801e-02\\\\\n",
       "\tfactor(dep)1 &  0.029866899 & 0.05414025   &  0.55165799  & 5.812070e-01\\\\\n",
       "\tfactor(dep)2 &  0.096186517 & 0.04686228   &  2.05253621  & 4.016868e-02\\\\\n",
       "\tq2 &  0.073678072 & 0.15682593   &  0.46980799  & 6.385124e-01\\\\\n",
       "\tq3 & -0.038506537 & 0.15647802   & -0.24608272  & 8.056281e-01\\\\\n",
       "\tq4 & -0.054949195 & 0.15656019   & -0.35097809  & 7.256193e-01\\\\\n",
       "\tq5 & -0.144177912 & 0.15588797   & -0.92488160  & 3.550714e-01\\\\\n",
       "\tq6 &  0.003361318 & 0.16645573   &  0.02019347  & 9.838898e-01\\\\\n",
       "\tagelt35 & -0.162772168 & 0.03696505   & -4.40340780  & 1.087509e-05\\\\\n",
       "\tagegt54 &  0.229666708 & 0.05917173   &  3.88135887  & 1.051906e-04\\\\\n",
       "\tdurable &  0.126557359 & 0.04814585   &  2.62862426  & 8.598901e-03\\\\\n",
       "\tlusd & -0.175352572 & 0.04098250   & -4.27871860  & 1.914271e-05\\\\\n",
       "\thusd & -0.105224727 & 0.04490864   & -2.34308443  & 1.916341e-02\\\\\n",
       "\\end{tabular}\n"
      ],
      "text/markdown": [
       "\n",
       "| <!--/--> | Estimate | Std. Error | t value | Pr(>|t|) |\n",
       "|---|---|---|---|---|\n",
       "| (Intercept) |  2.178462326 | 0.15901507   | 13.69972271  | 5.631260e-42 |\n",
       "| T4TRUE | -0.071692484 | 0.03546326   | -2.02159887  | 4.327012e-02 |\n",
       "| female |  0.126368328 | 0.03482493   |  3.62867401  | 2.876799e-04 |\n",
       "| black | -0.293767980 | 0.05297556   | -5.54534899  | 3.081966e-08 |\n",
       "| othrace | -0.472445058 | 0.19839750   | -2.38130547  | 1.728801e-02 |\n",
       "| factor(dep)1 |  0.029866899 | 0.05414025   |  0.55165799  | 5.812070e-01 |\n",
       "| factor(dep)2 |  0.096186517 | 0.04686228   |  2.05253621  | 4.016868e-02 |\n",
       "| q2 |  0.073678072 | 0.15682593   |  0.46980799  | 6.385124e-01 |\n",
       "| q3 | -0.038506537 | 0.15647802   | -0.24608272  | 8.056281e-01 |\n",
       "| q4 | -0.054949195 | 0.15656019   | -0.35097809  | 7.256193e-01 |\n",
       "| q5 | -0.144177912 | 0.15588797   | -0.92488160  | 3.550714e-01 |\n",
       "| q6 |  0.003361318 | 0.16645573   |  0.02019347  | 9.838898e-01 |\n",
       "| agelt35 | -0.162772168 | 0.03696505   | -4.40340780  | 1.087509e-05 |\n",
       "| agegt54 |  0.229666708 | 0.05917173   |  3.88135887  | 1.051906e-04 |\n",
       "| durable |  0.126557359 | 0.04814585   |  2.62862426  | 8.598901e-03 |\n",
       "| lusd | -0.175352572 | 0.04098250   | -4.27871860  | 1.914271e-05 |\n",
       "| husd | -0.105224727 | 0.04490864   | -2.34308443  | 1.916341e-02 |\n",
       "\n"
      ],
      "text/plain": [
       "             Estimate     Std. Error t value     Pr(>|t|)    \n",
       "(Intercept)   2.178462326 0.15901507 13.69972271 5.631260e-42\n",
       "T4TRUE       -0.071692484 0.03546326 -2.02159887 4.327012e-02\n",
       "female        0.126368328 0.03482493  3.62867401 2.876799e-04\n",
       "black        -0.293767980 0.05297556 -5.54534899 3.081966e-08\n",
       "othrace      -0.472445058 0.19839750 -2.38130547 1.728801e-02\n",
       "factor(dep)1  0.029866899 0.05414025  0.55165799 5.812070e-01\n",
       "factor(dep)2  0.096186517 0.04686228  2.05253621 4.016868e-02\n",
       "q2            0.073678072 0.15682593  0.46980799 6.385124e-01\n",
       "q3           -0.038506537 0.15647802 -0.24608272 8.056281e-01\n",
       "q4           -0.054949195 0.15656019 -0.35097809 7.256193e-01\n",
       "q5           -0.144177912 0.15588797 -0.92488160 3.550714e-01\n",
       "q6            0.003361318 0.16645573  0.02019347 9.838898e-01\n",
       "agelt35      -0.162772168 0.03696505 -4.40340780 1.087509e-05\n",
       "agegt54       0.229666708 0.05917173  3.88135887 1.051906e-04\n",
       "durable       0.126557359 0.04814585  2.62862426 8.598901e-03\n",
       "lusd         -0.175352572 0.04098250 -4.27871860 1.914271e-05\n",
       "husd         -0.105224727 0.04490864 -2.34308443 1.916341e-02"
      ]
     },
     "metadata": {},
     "output_type": "display_data"
    }
   ],
   "source": [
    "summary(\n",
    "    lm(log_inuidur1 ~ T4+ (female+black+othrace+factor(dep)+q2+q3+q4+q5+q6+agelt35+agegt54+durable+lusd+husd), data = Penn)\n",
    "  )$coef"
   ]
  },
  {
   "cell_type": "code",
   "execution_count": 9,
   "id": "c45f6823",
   "metadata": {},
   "outputs": [
    {
     "data": {
      "text/html": [
       "<table>\n",
       "<thead><tr><th scope=col>nombres</th><th scope=col>T4True</th><th scope=col>Female</th><th scope=col>Black</th></tr></thead>\n",
       "<tbody>\n",
       "\t<tr><td>Estimates  </td><td>-0.07169248</td><td>0.12636833 </td><td>-0.29376798</td></tr>\n",
       "\t<tr><td>Std. Error </td><td> 0.03546326</td><td>0.03482493 </td><td> 0.05297556</td></tr>\n",
       "</tbody>\n",
       "</table>\n"
      ],
      "text/latex": [
       "\\begin{tabular}{r|llll}\n",
       " nombres & T4True & Female & Black\\\\\n",
       "\\hline\n",
       "\t Estimates   & -0.07169248 & 0.12636833  & -0.29376798\\\\\n",
       "\t Std. Error  &  0.03546326 & 0.03482493  &  0.05297556\\\\\n",
       "\\end{tabular}\n"
      ],
      "text/markdown": [
       "\n",
       "| nombres | T4True | Female | Black |\n",
       "|---|---|---|---|\n",
       "| Estimates   | -0.07169248 | 0.12636833  | -0.29376798 |\n",
       "| Std. Error  |  0.03546326 | 0.03482493  |  0.05297556 |\n",
       "\n"
      ],
      "text/plain": [
       "  nombres    T4True      Female     Black      \n",
       "1 Estimates  -0.07169248 0.12636833 -0.29376798\n",
       "2 Std. Error  0.03546326 0.03482493  0.05297556"
      ]
     },
     "metadata": {},
     "output_type": "display_data"
    }
   ],
   "source": [
    "# Showing the result in a data. frame from the bootstrap\n",
    "\n",
    "T4True <- c(-0.071692484,0.03546326)\n",
    "Female <- c(0.126368328,0.03482493)\n",
    "Black <- c(-0.293767980,0.05297556)\n",
    "nombres <- c(\"Estimates\", \"Std. Error\")\n",
    "\n",
    "New_boot <- data.frame(nombres, T4True, Female, Black)\n",
    "New_boot"
   ]
  },
  {
   "cell_type": "markdown",
   "id": "d57c26bb",
   "metadata": {},
   "source": [
    "* As can be seen in the table I have created, it is understood that I have made 1000 bootstrap estimates for the variables indicated in the exercise such a T4 = -0.07, female = 0.13 and black = -0.30. Making a comparison with the OLS model and the bootstrap we come to the conclusion that the coefficients remain the same or rather there is not much variability, however, what if there is variability is in the standard errors of the bootsrap and the OLS."
   ]
  },
  {
   "cell_type": "code",
   "execution_count": 10,
   "id": "ba6b6825",
   "metadata": {},
   "outputs": [
    {
     "data": {
      "image/png": "[encoded data removed]",
      "text/plain": [
       "Plot with title \"Histogram of t\""
      ]
     },
     "metadata": {},
     "output_type": "display_data"
    }
   ],
   "source": [
    "# plotting the 1000 estimation bootstraping\n",
    "plot(reg_lineal)"
   ]
  },
  {
   "cell_type": "markdown",
   "id": "423132f8",
   "metadata": {},
   "source": [
    "# Casual Forest"
   ]
  },
  {
   "cell_type": "code",
   "execution_count": 2,
   "id": "9314f8e1",
   "metadata": {},
   "outputs": [
    {
     "name": "stderr",
     "output_type": "stream",
     "text": [
      "also installing the dependencies 'cli', 'rcmdcheck', 'sessioninfo'\n",
      "\n"
     ]
    },
    {
     "name": "stdout",
     "output_type": "stream",
     "text": [
      "\n",
      "  There are binary versions available but the source versions are later:\n",
      "            binary source needs_compilation\n",
      "cli          2.5.0  3.1.0              TRUE\n",
      "rcmdcheck    1.3.3  1.4.0             FALSE\n",
      "sessioninfo  1.1.1  1.2.1             FALSE\n",
      "devtools     2.4.1  2.4.2             FALSE\n",
      "\n",
      "  Binaries will be installed\n",
      "package 'cli' successfully unpacked and MD5 sums checked\n",
      "\n",
      "The downloaded binary packages are in\n",
      "\tC:\\Users\\Erik\\AppData\\Local\\Temp\\RtmpiYOS8a\\downloaded_packages\n"
     ]
    },
    {
     "name": "stderr",
     "output_type": "stream",
     "text": [
      "installing the source packages 'rcmdcheck', 'sessioninfo', 'devtools'\n",
      "\n",
      "Warning message in install.packages(\"devtools\"):\n",
      "\"installation of package 'sessioninfo' had non-zero exit status\"Warning message in install.packages(\"devtools\"):\n",
      "\"installation of package 'rcmdcheck' had non-zero exit status\"Warning message in install.packages(\"devtools\"):\n",
      "\"installation of package 'devtools' had non-zero exit status\""
     ]
    },
    {
     "ename": "ERROR",
     "evalue": "Error in library(\"devtools\"): there is no package called 'devtools'\n",
     "output_type": "error",
     "traceback": [
      "Error in library(\"devtools\"): there is no package called 'devtools'\nTraceback:\n",
      "1. library(\"devtools\")"
     ]
    }
   ],
   "source": [
    "# The causalTree package is not in CRAN, the most common R repository.\n",
    "# To install it, uncomment the next lines as appropriate.\n",
    "install.packages(\"devtools\")  # if you don't have this installed yet.\n",
    "#devtools::install_github('susanathey/causalTree')\n",
    "library(\"devtools\")"
   ]
  },
  {
   "cell_type": "code",
   "execution_count": 20,
   "id": "3e269618",
   "metadata": {},
   "outputs": [
    {
     "data": {
      "text/html": [
       "<table>\n",
       "<thead><tr><th></th><th scope=col>abdt</th><th scope=col>tg</th><th scope=col>inuidur1</th><th scope=col>inuidur2</th><th scope=col>female</th><th scope=col>black</th><th scope=col>hispanic</th><th scope=col>othrace</th><th scope=col>dep</th><th scope=col>q1</th><th scope=col>...</th><th scope=col>recall</th><th scope=col>agelt35</th><th scope=col>agegt54</th><th scope=col>durable</th><th scope=col>nondurable</th><th scope=col>lusd</th><th scope=col>husd</th><th scope=col>muld</th><th scope=col>log_inuidur1</th><th scope=col>fact_dep</th></tr></thead>\n",
       "<tbody>\n",
       "\t<tr><th scope=row>1</th><td>10824   </td><td>0       </td><td>18      </td><td>18      </td><td>0       </td><td>0       </td><td>0       </td><td>0       </td><td>2       </td><td>0       </td><td>...     </td><td>0       </td><td>0       </td><td>0       </td><td>0       </td><td>0       </td><td>0       </td><td>1       </td><td>0       </td><td>2.890372</td><td>2       </td></tr>\n",
       "\t<tr><th scope=row>4</th><td>10824   </td><td>0       </td><td> 1      </td><td> 1      </td><td>0       </td><td>0       </td><td>0       </td><td>0       </td><td>0       </td><td>0       </td><td>...     </td><td>0       </td><td>0       </td><td>0       </td><td>0       </td><td>0       </td><td>1       </td><td>0       </td><td>0       </td><td>0.000000</td><td>0       </td></tr>\n",
       "\t<tr><th scope=row>5</th><td>10747   </td><td>0       </td><td>27      </td><td>27      </td><td>0       </td><td>0       </td><td>0       </td><td>0       </td><td>0       </td><td>0       </td><td>...     </td><td>0       </td><td>0       </td><td>0       </td><td>0       </td><td>0       </td><td>1       </td><td>0       </td><td>0       </td><td>3.295837</td><td>0       </td></tr>\n",
       "\t<tr><th scope=row>12</th><td>10607   </td><td>4       </td><td> 9      </td><td> 9      </td><td>0       </td><td>0       </td><td>0       </td><td>0       </td><td>0       </td><td>0       </td><td>...     </td><td>0       </td><td>1       </td><td>0       </td><td>0       </td><td>0       </td><td>0       </td><td>0       </td><td>1       </td><td>2.197225</td><td>0       </td></tr>\n",
       "</tbody>\n",
       "</table>\n"
      ],
      "text/latex": [
       "\\begin{tabular}{r|lllllllllllllllllllllllll}\n",
       "  & abdt & tg & inuidur1 & inuidur2 & female & black & hispanic & othrace & dep & q1 & ... & recall & agelt35 & agegt54 & durable & nondurable & lusd & husd & muld & log\\_inuidur1 & fact\\_dep\\\\\n",
       "\\hline\n",
       "\t1 & 10824    & 0        & 18       & 18       & 0        & 0        & 0        & 0        & 2        & 0        & ...      & 0        & 0        & 0        & 0        & 0        & 0        & 1        & 0        & 2.890372 & 2       \\\\\n",
       "\t4 & 10824    & 0        &  1       &  1       & 0        & 0        & 0        & 0        & 0        & 0        & ...      & 0        & 0        & 0        & 0        & 0        & 1        & 0        & 0        & 0.000000 & 0       \\\\\n",
       "\t5 & 10747    & 0        & 27       & 27       & 0        & 0        & 0        & 0        & 0        & 0        & ...      & 0        & 0        & 0        & 0        & 0        & 1        & 0        & 0        & 3.295837 & 0       \\\\\n",
       "\t12 & 10607    & 4        &  9       &  9       & 0        & 0        & 0        & 0        & 0        & 0        & ...      & 0        & 1        & 0        & 0        & 0        & 0        & 0        & 1        & 2.197225 & 0       \\\\\n",
       "\\end{tabular}\n"
      ],
      "text/markdown": [
       "\n",
       "| <!--/--> | abdt | tg | inuidur1 | inuidur2 | female | black | hispanic | othrace | dep | q1 | ... | recall | agelt35 | agegt54 | durable | nondurable | lusd | husd | muld | log_inuidur1 | fact_dep |\n",
       "|---|---|---|---|---|---|---|---|---|---|---|---|---|---|---|---|---|---|---|---|---|---|\n",
       "| 1 | 10824    | 0        | 18       | 18       | 0        | 0        | 0        | 0        | 2        | 0        | ...      | 0        | 0        | 0        | 0        | 0        | 0        | 1        | 0        | 2.890372 | 2        |\n",
       "| 4 | 10824    | 0        |  1       |  1       | 0        | 0        | 0        | 0        | 0        | 0        | ...      | 0        | 0        | 0        | 0        | 0        | 1        | 0        | 0        | 0.000000 | 0        |\n",
       "| 5 | 10747    | 0        | 27       | 27       | 0        | 0        | 0        | 0        | 0        | 0        | ...      | 0        | 0        | 0        | 0        | 0        | 1        | 0        | 0        | 3.295837 | 0        |\n",
       "| 12 | 10607    | 4        |  9       |  9       | 0        | 0        | 0        | 0        | 0        | 0        | ...      | 0        | 1        | 0        | 0        | 0        | 0        | 0        | 1        | 2.197225 | 0        |\n",
       "\n"
      ],
      "text/plain": [
       "   abdt  tg inuidur1 inuidur2 female black hispanic othrace dep q1 ... recall\n",
       "1  10824 0  18       18       0      0     0        0       2   0  ... 0     \n",
       "4  10824 0   1        1       0      0     0        0       0   0  ... 0     \n",
       "5  10747 0  27       27       0      0     0        0       0   0  ... 0     \n",
       "12 10607 4   9        9       0      0     0        0       0   0  ... 0     \n",
       "   agelt35 agegt54 durable nondurable lusd husd muld log_inuidur1 fact_dep\n",
       "1  0       0       0       0          0    1    0    2.890372     2       \n",
       "4  0       0       0       0          1    0    0    0.000000     0       \n",
       "5  0       0       0       0          1    0    0    3.295837     0       \n",
       "12 1       0       0       0          0    0    1    2.197225     0       "
      ]
     },
     "metadata": {},
     "output_type": "display_data"
    }
   ],
   "source": [
    "head(Penn, n = 4)"
   ]
  },
  {
   "cell_type": "code",
   "execution_count": 21,
   "id": "57c78e3d",
   "metadata": {},
   "outputs": [
    {
     "data": {
      "text/html": [
       "5099"
      ],
      "text/latex": [
       "5099"
      ],
      "text/markdown": [
       "5099"
      ],
      "text/plain": [
       "[1] 5099"
      ]
     },
     "metadata": {},
     "output_type": "display_data"
    }
   ],
   "source": [
    "n <- nrow(Penn)\n",
    "n"
   ]
  },
  {
   "cell_type": "code",
   "execution_count": 22,
   "id": "fa11b864",
   "metadata": {},
   "outputs": [
    {
     "data": {
      "text/html": [
       "<ol class=list-inline>\n",
       "\t<li>'abdt'</li>\n",
       "\t<li>'tg'</li>\n",
       "\t<li>'inuidur1'</li>\n",
       "\t<li>'inuidur2'</li>\n",
       "\t<li>'female'</li>\n",
       "\t<li>'black'</li>\n",
       "\t<li>'hispanic'</li>\n",
       "\t<li>'othrace'</li>\n",
       "\t<li>'dep'</li>\n",
       "\t<li>'q1'</li>\n",
       "\t<li>'q2'</li>\n",
       "\t<li>'q3'</li>\n",
       "\t<li>'q4'</li>\n",
       "\t<li>'q5'</li>\n",
       "\t<li>'q6'</li>\n",
       "\t<li>'recall'</li>\n",
       "\t<li>'agelt35'</li>\n",
       "\t<li>'agegt54'</li>\n",
       "\t<li>'durable'</li>\n",
       "\t<li>'nondurable'</li>\n",
       "\t<li>'lusd'</li>\n",
       "\t<li>'husd'</li>\n",
       "\t<li>'muld'</li>\n",
       "\t<li>'log_inuidur1'</li>\n",
       "\t<li>'fact_dep'</li>\n",
       "</ol>\n"
      ],
      "text/latex": [
       "\\begin{enumerate*}\n",
       "\\item 'abdt'\n",
       "\\item 'tg'\n",
       "\\item 'inuidur1'\n",
       "\\item 'inuidur2'\n",
       "\\item 'female'\n",
       "\\item 'black'\n",
       "\\item 'hispanic'\n",
       "\\item 'othrace'\n",
       "\\item 'dep'\n",
       "\\item 'q1'\n",
       "\\item 'q2'\n",
       "\\item 'q3'\n",
       "\\item 'q4'\n",
       "\\item 'q5'\n",
       "\\item 'q6'\n",
       "\\item 'recall'\n",
       "\\item 'agelt35'\n",
       "\\item 'agegt54'\n",
       "\\item 'durable'\n",
       "\\item 'nondurable'\n",
       "\\item 'lusd'\n",
       "\\item 'husd'\n",
       "\\item 'muld'\n",
       "\\item 'log\\_inuidur1'\n",
       "\\item 'fact\\_dep'\n",
       "\\end{enumerate*}\n"
      ],
      "text/markdown": [
       "1. 'abdt'\n",
       "2. 'tg'\n",
       "3. 'inuidur1'\n",
       "4. 'inuidur2'\n",
       "5. 'female'\n",
       "6. 'black'\n",
       "7. 'hispanic'\n",
       "8. 'othrace'\n",
       "9. 'dep'\n",
       "10. 'q1'\n",
       "11. 'q2'\n",
       "12. 'q3'\n",
       "13. 'q4'\n",
       "14. 'q5'\n",
       "15. 'q6'\n",
       "16. 'recall'\n",
       "17. 'agelt35'\n",
       "18. 'agegt54'\n",
       "19. 'durable'\n",
       "20. 'nondurable'\n",
       "21. 'lusd'\n",
       "22. 'husd'\n",
       "23. 'muld'\n",
       "24. 'log_inuidur1'\n",
       "25. 'fact_dep'\n",
       "\n",
       "\n"
      ],
      "text/plain": [
       " [1] \"abdt\"         \"tg\"           \"inuidur1\"     \"inuidur2\"     \"female\"      \n",
       " [6] \"black\"        \"hispanic\"     \"othrace\"      \"dep\"          \"q1\"          \n",
       "[11] \"q2\"           \"q3\"           \"q4\"           \"q5\"           \"q6\"          \n",
       "[16] \"recall\"       \"agelt35\"      \"agegt54\"      \"durable\"      \"nondurable\"  \n",
       "[21] \"lusd\"         \"husd\"         \"muld\"         \"log_inuidur1\" \"fact_dep\"    "
      ]
     },
     "metadata": {},
     "output_type": "display_data"
    }
   ],
   "source": [
    "colnames(Penn)"
   ]
  },
  {
   "cell_type": "code",
   "execution_count": 20,
   "id": "1dbb3618",
   "metadata": {},
   "outputs": [],
   "source": [
    "\n",
    "\n",
    "outcome <- \"log_inuidur1\"\n",
    "\n",
    "t4 <- \"T4\"\n",
    "\n",
    "Penn$fact_dep <- factor(dep)\n",
    "\n",
    "female <- \"female\"    # female 1 for 'yes', 0 for 'no'\n",
    "\n",
    "# Additional covariates\n",
    "covariates <- c(\"T4\",\"female\",\"black\",\"othrace\",\"fact_dep\",\"q2\",\"q3\",\"q4\",\"q5\",\"q6\",\"agelt35\",\"agegt54\",\"durable\",\"lusd\",\"husd\")"
   ]
  },
  {
   "cell_type": "code",
   "execution_count": 22,
   "id": "f0f9a470",
   "metadata": {},
   "outputs": [
    {
     "data": {
      "text/plain": [
       "\n",
       "t test of coefficients:\n",
       "\n",
       "               Estimate Std. Error t value Pr(>|t|)    \n",
       "(Intercept)    2.022391   0.026987 74.9392  < 2e-16 ***\n",
       "T4TRUE        -0.115695   0.046284 -2.4997  0.01246 *  \n",
       "female         0.084995   0.042787  1.9864  0.04704 *  \n",
       "T4TRUE:female  0.076010   0.073048  1.0405  0.29814    \n",
       "---\n",
       "Signif. codes:  0 '***' 0.001 '**' 0.01 '*' 0.05 '.' 0.1 ' ' 1\n"
      ]
     },
     "metadata": {},
     "output_type": "display_data"
    }
   ],
   "source": [
    "# Recall from last chapter -- this is equivalent to running a t-test\n",
    "fmla <- formula(paste(outcome, ' ~ ',t4 , '*', female))\n",
    "ols <- lm(fmla, data=Penn)\n",
    "coeftest(ols, vcov=vcovHC(ols, type='HC2'))"
   ]
  },
  {
   "cell_type": "code",
   "execution_count": 11,
   "id": "1a720c11",
   "metadata": {},
   "outputs": [
    {
     "data": {
      "text/html": [
       "<table>\n",
       "<thead><tr><th scope=col>estimate</th><th scope=col>Std.Error</th><th scope=col>nombres</th></tr></thead>\n",
       "<tbody>\n",
       "\t<tr><td>-0.115695    </td><td>0.046284     </td><td>T4TRUE       </td></tr>\n",
       "\t<tr><td> 0.084995    </td><td>0.042787     </td><td>FEMALE       </td></tr>\n",
       "\t<tr><td> 0.076010    </td><td>0.073048     </td><td>T4TRUE:female</td></tr>\n",
       "</tbody>\n",
       "</table>\n"
      ],
      "text/latex": [
       "\\begin{tabular}{r|lll}\n",
       " estimate & Std.Error & nombres\\\\\n",
       "\\hline\n",
       "\t -0.115695     & 0.046284      & T4TRUE       \\\\\n",
       "\t  0.084995     & 0.042787      & FEMALE       \\\\\n",
       "\t  0.076010     & 0.073048      & T4TRUE:female\\\\\n",
       "\\end{tabular}\n"
      ],
      "text/markdown": [
       "\n",
       "| estimate | Std.Error | nombres |\n",
       "|---|---|---|\n",
       "| -0.115695     | 0.046284      | T4TRUE        |\n",
       "|  0.084995     | 0.042787      | FEMALE        |\n",
       "|  0.076010     | 0.073048      | T4TRUE:female |\n",
       "\n"
      ],
      "text/plain": [
       "  estimate  Std.Error nombres      \n",
       "1 -0.115695 0.046284  T4TRUE       \n",
       "2  0.084995 0.042787  FEMALE       \n",
       "3  0.076010 0.073048  T4TRUE:female"
      ]
     },
     "metadata": {},
     "output_type": "display_data"
    }
   ],
   "source": [
    "#showing in a data.frame\n",
    "\n",
    "estimate <- c(-0.115695,0.084995,0.076010)\n",
    "Std.Error <- c(0.046284,0.042787,0.073048)\n",
    "nombres <- c(\"T4TRUE\",\"FEMALE\",\"T4TRUE:female\")\n",
    "\n",
    "nuevo <- data.frame(estimate,Std.Error,nombres)\n",
    "nuevo"
   ]
  },
  {
   "cell_type": "code",
   "execution_count": 23,
   "id": "705ca522",
   "metadata": {},
   "outputs": [
    {
     "data": {
      "text/plain": [
       "log_inuidur1 ~ T4 * female"
      ]
     },
     "metadata": {},
     "output_type": "display_data"
    }
   ],
   "source": [
    "fmla"
   ]
  },
  {
   "cell_type": "markdown",
   "id": "10ac94d8",
   "metadata": {},
   "source": [
    "# Data-driven hypotheses"
   ]
  },
  {
   "cell_type": "code",
   "execution_count": 17,
   "id": "3d0b3331",
   "metadata": {},
   "outputs": [
    {
     "data": {
      "text/html": [
       "<span style=white-space:pre-wrap>'log_inuidur1  ~ T4 + female + black + othrace + fact_dep + q2 + q3 + q4 + q5 + q6 + agelt35 + agegt54 + durable + lusd + husd'</span>"
      ],
      "text/latex": [
       "'log\\_inuidur1  \\textasciitilde{} T4 + female + black + othrace + fact\\_dep + q2 + q3 + q4 + q5 + q6 + agelt35 + agegt54 + durable + lusd + husd'"
      ],
      "text/markdown": [
       "<span style=white-space:pre-wrap>'log_inuidur1  ~ T4 + female + black + othrace + fact_dep + q2 + q3 + q4 + q5 + q6 + agelt35 + agegt54 + durable + lusd + husd'</span>"
      ],
      "text/plain": [
       "[1] \"log_inuidur1  ~ T4 + female + black + othrace + fact_dep + q2 + q3 + q4 + q5 + q6 + agelt35 + agegt54 + durable + lusd + husd\""
      ]
     },
     "metadata": {},
     "output_type": "display_data"
    }
   ],
   "source": [
    "# Only valid for randomized data!\n",
    "fmla <- paste(outcome, \" ~\", paste(covariates, collapse = \" + \"))\n",
    "fmla"
   ]
  },
  {
   "cell_type": "code",
   "execution_count": 18,
   "id": "31b50d49",
   "metadata": {},
   "outputs": [],
   "source": [
    "# Dividing data into three subsets\n",
    "indices <- split(seq(nrow(Penn)), sort(seq(nrow(Penn)) %% 3))\n",
    "names(indices) <- c('split', 'est', 'test')"
   ]
  },
  {
   "cell_type": "code",
   "execution_count": 24,
   "id": "40ebe33e",
   "metadata": {},
   "outputs": [
    {
     "ename": "ERROR",
     "evalue": "Error in honest.causalTree(formula = fmla, data = Penn[indices$split, : no se pudo encontrar la función \"honest.causalTree\"\n",
     "output_type": "error",
     "traceback": [
      "Error in honest.causalTree(formula = fmla, data = Penn[indices$split, : no se pudo encontrar la función \"honest.causalTree\"\nTraceback:\n"
     ]
    }
   ],
   "source": [
    "# Fitting the forest\n",
    "ct.unpruned <- honest.causalTree(\n",
    "  formula=fmla,            # Define the model\n",
    "  data=Penn[indices$split,],\n",
    "  est_data=Penn[indices$est,],\n",
    "  minsize=1,                 # Min. number of treatment and control cases in each leaf\n",
    "  HonestSampleSize=length(indices$est), #  Num obs used in estimation after splitting\n",
    "  \n",
    "  # We recommend not changing the parameters below\n",
    "  split.Rule=\"CT\",            # Define the splitting option\n",
    "  cv.option=\"TOT\",            # Cross validation options\n",
    "  cp=0,                       # Complexity parameter\n",
    "  split.Honest=TRUE,          # Use honesty when splitting\n",
    "  cv.Honest=TRUE              # Use honesty when performing cross-validation\n",
    ")"
   ]
  },
  {
   "cell_type": "markdown",
   "id": "ca4c3fcd",
   "metadata": {},
   "source": [
    "# Questions about the lecture"
   ]
  },
  {
   "cell_type": "markdown",
   "id": "485ffe93",
   "metadata": {},
   "source": [
    "* 1. Explain why we need to partitionate the data in three sets.\n",
    "\n",
    "  According to the reading, The division of the database into three sets is mainly due to the fact that the model must be adjusted in order to maximize the heterogeneity of the treatment in each leaf of the tree. After the above. the estimation subset is used to produce a valid estimate on each leaf of the fitted tree. With the latter, we can use a sample division of the data to secure the tree estimates."
   ]
  },
  {
   "cell_type": "markdown",
   "id": "5fe5ca81",
   "metadata": {},
   "source": [
    "*  2. Why do we need to use the honest.causalTree function?\n",
    "   \n",
    "   Firstly, the **honest.casualTree function** is included in the package from *casualTree*, which has the objective of implementing recursive Partitioning methods for  cases where there are heterogeneous causal effects.Now, the importance of using the **honest.casualTree function** is because the researcher wants to estimate the casual effects in the leaves of model, which is a Tree model, also it can replace the estimators of each leaf from the tree.To do this, the first thing the researcher has to do is build the decision tree, from the casualtree package and that has to indicate the data that will be trained in the tree, after this, the tree has to be passed together with your details at honest.casualtree. What it does is make a replacement of the estimates that the tree model generates with new estimates for each leaf of the tree. Finally, if you want a greater control of the above, you would have to replace the estimates of each leaf of the tree with treatment effects using a new data set. This can be done thanks to another function called estimate.casualtree"
   ]
  },
  {
   "cell_type": "markdown",
   "id": "6d7dd8f5",
   "metadata": {},
   "source": [
    "* 3. Explain in detail the creation of the tree and how do you choose the optimal pruned tree\n",
    "\n",
    "  Taking into consideration Susan Athey's text, the way in which a tree should be created is as follows. First, what you need to do is build a two-stage binary regression tree model. With this, what is sought is for the researcher to specify a binary variable eg (0 and 1), in addition to the result variable. Second, the tree is grown by a division rule. This will cause two groups on each leaf of the tree to minimize the risk function. This is taking into account the nodes on the left and right of the regression tree, until a certain limit is reached.\n",
    "  \n",
    "  Now with respect to the other question about the optimal pruned tree, what has to be done in that case is to use cross validation, which consists of one of the automatic learning training methods. This will focus on the leaves to be pruned and selected according to the risk function while the tree is being built."
   ]
  },
  {
   "cell_type": "code",
   "execution_count": null,
   "id": "050e8d86",
   "metadata": {},
   "outputs": [],
   "source": []
  }
 ],
 "metadata": {
  "kernelspec": {
   "display_name": "R",
   "language": "R",
   "name": "ir"
  },
  "language_info": {
   "codemirror_mode": "r",
   "file_extension": ".r",
   "mimetype": "text/x-r-source",
   "name": "R",
   "pygments_lexer": "r",
   "version": "3.6.1"
  }
 },
 "nbformat": 4,
 "nbformat_minor": 5
}
