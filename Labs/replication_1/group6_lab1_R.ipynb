{
 "cells": [
  {
   "cell_type": "code",
   "execution_count": 23,
   "id": "7de48cef",
   "metadata": {},
   "outputs": [
    {
     "data": {
      "text/html": [
       "<ol class=list-inline>\n",
       "\t<li>5150</li>\n",
       "\t<li>20</li>\n",
       "</ol>\n"
      ],
      "text/latex": [
       "\\begin{enumerate*}\n",
       "\\item 5150\n",
       "\\item 20\n",
       "\\end{enumerate*}\n"
      ],
      "text/markdown": [
       "1. 5150\n",
       "2. 20\n",
       "\n",
       "\n"
      ],
      "text/plain": [
       "[1] 5150   20"
      ]
     },
     "metadata": {},
     "output_type": "display_data"
    }
   ],
   "source": [
    "load (\"C:/Users/marci/Documentos/GitHub/ECO224/Labs/data/wage2015_subsample_inference.Rdata\")\n",
    "attach(data)\n",
    "\n",
    "dim(data)"
   ]
  },
  {
   "cell_type": "code",
   "execution_count": 81,
   "id": "66a9248e",
   "metadata": {},
   "outputs": [
    {
     "data": {
      "text/html": [
       "<table>\n",
       "<thead><tr><th></th><th scope=col>All</th><th scope=col>Some College</th><th scope=col>College</th></tr></thead>\n",
       "<tbody>\n",
       "\t<tr><th scope=row>Log Wage</th><td> 2.97078670</td><td> 2.8473351 </td><td> 3.1336703 </td></tr>\n",
       "\t<tr><th scope=row>Sex</th><td> 0.44446602</td><td> 0.4539106 </td><td> 0.4859413 </td></tr>\n",
       "\t<tr><th scope=row>Less then High School</th><td> 0.02330097</td><td> 0.0000000 </td><td> 0.0000000 </td></tr>\n",
       "\t<tr><th scope=row>High School Graduate</th><td> 0.24388350</td><td> 0.0000000 </td><td> 0.0000000 </td></tr>\n",
       "\t<tr><th scope=row>Some College</th><td> 0.27805825</td><td> 1.0000000 </td><td> 0.0000000 </td></tr>\n",
       "\t<tr><th scope=row>Gollage Graduate</th><td> 0.31766990</td><td> 0.0000000 </td><td> 1.0000000 </td></tr>\n",
       "\t<tr><th scope=row>Advanced Degree</th><td> 0.13708738</td><td> 0.0000000 </td><td> 0.0000000 </td></tr>\n",
       "\t<tr><th scope=row>Northeast</th><td> 0.25961165</td><td> 0.3058659 </td><td> 0.2310513 </td></tr>\n",
       "\t<tr><th scope=row>Midwest</th><td> 0.29650485</td><td> 0.2821229 </td><td> 0.2891198 </td></tr>\n",
       "\t<tr><th scope=row>South</th><td> 0.21611650</td><td> 0.2255587 </td><td> 0.2182152 </td></tr>\n",
       "\t<tr><th scope=row>West</th><td> 0.22776699</td><td> 0.1864525 </td><td> 0.2616137 </td></tr>\n",
       "\t<tr><th scope=row>Experience</th><td>13.76058252</td><td>14.6826117 </td><td>10.9663814 </td></tr>\n",
       "</tbody>\n",
       "</table>\n"
      ],
      "text/latex": [
       "\\begin{tabular}{r|lll}\n",
       "  & All & Some College & College\\\\\n",
       "\\hline\n",
       "\tLog Wage &  2.97078670 &  2.8473351  &  3.1336703 \\\\\n",
       "\tSex &  0.44446602 &  0.4539106  &  0.4859413 \\\\\n",
       "\tLess then High School &  0.02330097 &  0.0000000  &  0.0000000 \\\\\n",
       "\tHigh School Graduate &  0.24388350 &  0.0000000  &  0.0000000 \\\\\n",
       "\tSome College &  0.27805825 &  1.0000000  &  0.0000000 \\\\\n",
       "\tGollage Graduate &  0.31766990 &  0.0000000  &  1.0000000 \\\\\n",
       "\tAdvanced Degree &  0.13708738 &  0.0000000  &  0.0000000 \\\\\n",
       "\tNortheast &  0.25961165 &  0.3058659  &  0.2310513 \\\\\n",
       "\tMidwest &  0.29650485 &  0.2821229  &  0.2891198 \\\\\n",
       "\tSouth &  0.21611650 &  0.2255587  &  0.2182152 \\\\\n",
       "\tWest &  0.22776699 &  0.1864525  &  0.2616137 \\\\\n",
       "\tExperience & 13.76058252 & 14.6826117  & 10.9663814 \\\\\n",
       "\\end{tabular}\n"
      ],
      "text/markdown": [
       "\n",
       "| <!--/--> | All | Some College | College |\n",
       "|---|---|---|---|\n",
       "| Log Wage |  2.97078670 |  2.8473351  |  3.1336703  |\n",
       "| Sex |  0.44446602 |  0.4539106  |  0.4859413  |\n",
       "| Less then High School |  0.02330097 |  0.0000000  |  0.0000000  |\n",
       "| High School Graduate |  0.24388350 |  0.0000000  |  0.0000000  |\n",
       "| Some College |  0.27805825 |  1.0000000  |  0.0000000  |\n",
       "| Gollage Graduate |  0.31766990 |  0.0000000  |  1.0000000  |\n",
       "| Advanced Degree |  0.13708738 |  0.0000000  |  0.0000000  |\n",
       "| Northeast |  0.25961165 |  0.3058659  |  0.2310513  |\n",
       "| Midwest |  0.29650485 |  0.2821229  |  0.2891198  |\n",
       "| South |  0.21611650 |  0.2255587  |  0.2182152  |\n",
       "| West |  0.22776699 |  0.1864525  |  0.2616137  |\n",
       "| Experience | 13.76058252 | 14.6826117  | 10.9663814  |\n",
       "\n"
      ],
      "text/plain": [
       "                      All         Some College College   \n",
       "Log Wage               2.97078670  2.8473351    3.1336703\n",
       "Sex                    0.44446602  0.4539106    0.4859413\n",
       "Less then High School  0.02330097  0.0000000    0.0000000\n",
       "High School Graduate   0.24388350  0.0000000    0.0000000\n",
       "Some College           0.27805825  1.0000000    0.0000000\n",
       "Gollage Graduate       0.31766990  0.0000000    1.0000000\n",
       "Advanced Degree        0.13708738  0.0000000    0.0000000\n",
       "Northeast              0.25961165  0.3058659    0.2310513\n",
       "Midwest                0.29650485  0.2821229    0.2891198\n",
       "South                  0.21611650  0.2255587    0.2182152\n",
       "West                   0.22776699  0.1864525    0.2616137\n",
       "Experience            13.76058252 14.6826117   10.9663814"
      ]
     },
     "metadata": {},
     "output_type": "display_data"
    },
    {
     "ename": "ERROR",
     "evalue": "Error in col[[i, exact = exact]]: subíndice fuera de  los límites\n",
     "output_type": "error",
     "traceback": [
      "Error in col[[i, exact = exact]]: subíndice fuera de  los límites\nTraceback:\n",
      "1. base1[[\"wage\", \"lwage\", \"sex\", \"shs\", \"hsg\", \"ad\", \"mw\", \"so\", \n .     \"we\", \"ne\", \"exp1\", \"exp2\", \"exp3\", \"exp4\", \"occ\", \"occ2\", \n .     \"ind\", \"ind2\", ]]",
      "2. `[[.data.frame`(base1, \"wage\", \"lwage\", \"sex\", \"shs\", \"hsg\", \n .     \"ad\", \"mw\", \"so\", \"we\", \"ne\", \"exp1\", \"exp2\", \"exp3\", \"exp4\", \n .     \"occ\", \"occ2\", \"ind\", \"ind2\", )"
     ]
    }
   ],
   "source": [
    "library(xtable)\n",
    "\n",
    "Z <- data[which(colnames(data) %in% c(\"lwage\",\"sex\",\"shs\",\"hsg\",\"scl\",\"clg\",\"ad\",\"ne\",\"mw\",\"so\",\"we\",\"exp1\"))]\n",
    "\n",
    "data_somecoll <- data[data$scl==1,]\n",
    "Z_somecoll <- data_somecoll[which(colnames(data) %in% c(\"lwage\",\"sex\",\"shs\",\"hsg\",\"scl\",\"clg\",\"ad\",\"ne\",\"mw\",\"so\",\"we\",\"exp1\"))]\n",
    "\n",
    "data_college <- data[data$clg==1,]\n",
    "Z_coll <- data_college[which(colnames(data) %in% c(\"lwage\",\"sex\",\"shs\",\"hsg\",\"scl\",\"clg\",\"ad\",\"ne\",\"mw\",\"so\",\"we\",\"exp1\"))]\n",
    "\n",
    "table <- matrix(0, 12, 3)\n",
    "table[1:12,1] <- as.numeric(lapply(Z,mean))    \n",
    "table[1:12,2] <- as.numeric(lapply(Z_somecoll,mean))\n",
    "table[1:12,3] <- as.numeric(lapply(Z_coll,mean))\n",
    "rownames(table) <- c(\"Log Wage\",\"Sex\",\"Less then High School\",\"High School Graduate\",\"Some College\",\"Gollage Graduate\",\"Advanced Degree\", \"Northeast\",\"Midwest\",\"South\",\"West\",\"Experience\")\n",
    "colnames(table) <- c(\"All\",\"Some College\",\"College\")   \n",
    "tab <- xtable(table, digits =4)\n",
    "tab\n",
    "\n",
    "base <- rbind(Z_somecoll,Z_coll)\n",
    "\n",
    "base1<- rbind(data_somecoll,data_college)\n",
    "\n",
    "base2<- base1[[\"wage\",\"lwage\",\"sex\",\"shs\",\"hsg\",\"ad\",\"mw\",\"so\",\"we\",\"ne\",\"exp1\",\"exp2\",\"exp3\",\"exp4\",\"occ\",\"occ2\",\"ind\",\"ind2\",]]\n",
    "\n",
    "education <-matrix(c(1),nrow=3068,ncol=1)\n",
    "colnames(education) <- c(\"Education\")\n",
    "education\n",
    "\n",
    "base2<- rbind(base2[],education)\n",
    "\n"
   ]
  },
  {
   "cell_type": "code",
   "execution_count": null,
   "id": "f193e772",
   "metadata": {},
   "outputs": [],
   "source": [
    "library(sandwich)\n",
    "nocontrol.fit <- lm(lwage ~ education )\n",
    "nocontrol.est <- summary(nocontrol.fit)$coef[\"education\",1]\n",
    "HCV.coefs <- vcovHC(nocontrol.fit, type = 'HC');\n",
    "nocontrol.se <- sqrt(diag(HCV.coefs))[2] # Estimated standard errors\n",
    "\n",
    "cat(\"The estimated education coefficient is\", nocontrol.est, \" and the corresponding robust standar error is\", nocontrol.se)\n"
   ]
  },
  {
   "cell_type": "code",
   "execution_count": null,
   "id": "cc788881",
   "metadata": {},
   "outputs": [],
   "source": [
    "#OLS regression with controls\n",
    "flex <- lwage ~ education + (exp1+exp2+exp3+exp4)*(shs+hsg+scl+clg+occ2+ind2+mw+so+we)\n",
    "\n",
    "control.fit <- lm(flex, data=data)\n",
    "control.est <- summary(control.fit)$coef[2,1]\n",
    "\n",
    "summary(control.fit)\n",
    "\n",
    "cat(\"Coefficient for OLS with controls\", control.est)\n",
    "\n",
    "HCV.coefs <- vcovHC(control.fit, type = 'HC');\n",
    "control.se <- sqrt(diag(HCV.coefs))[2] #Estimated stantard errors\n"
   ]
  },
  {
   "cell_type": "code",
   "execution_count": null,
   "id": "f03a43ea",
   "metadata": {},
   "outputs": [],
   "source": [
    "#Partialling-Out using Ols\n",
    "\n",
    "#models\n",
    "flex.y <- lwage ~ (exp1+exp2+exp3+exp4)*(shs+hsg+scl+clg+occ2+ind2+mw+so+we) # model for Y\n",
    "flex.d <- educaction ~ (exp1+exp2+exp3+exp4)*(shs+hsg+scl+clg+occ2+ind2+mw+so+we) # model for D\n",
    "\n",
    "#partiallling-out the linear effect of W from Y\n",
    "t.Y <- lm(flex.y, data=data)$res\n",
    "# partialling-out the linear effect of W from D\n",
    "t.D <- lm(flex.d, data=data)$res\n",
    "\n",
    "# regression of Y on D after partialling-out the effect of W\n",
    "partial.fit <- lm(t.Y~t.D)\n",
    "partial.est <- summary(partial.fit)$coef[2,1]\n",
    "\n",
    "cat(\"Coefficient for D via partialling-out\", partial.est)\n",
    "\n",
    "# standard error\n",
    "HCV.coefs <- vcovHC(partial.fit, type = 'HC')\n",
    "partial.se <- sqrt(diag(HCV.coefs))[2]\n",
    "\n",
    "# confidence interval\n",
    "confint(partial.fit)[2,]\n"
   ]
  }
 ],
 "metadata": {
  "kernelspec": {
   "display_name": "R",
   "language": "R",
   "name": "ir"
  },
  "language_info": {
   "codemirror_mode": "r",
   "file_extension": ".r",
   "mimetype": "text/x-r-source",
   "name": "R",
   "pygments_lexer": "r",
   "version": "3.6.1"
  }
 },
 "nbformat": 4,
 "nbformat_minor": 5
}
