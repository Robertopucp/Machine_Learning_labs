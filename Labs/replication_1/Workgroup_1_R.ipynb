{
 "cells": [
  {
   "cell_type": "markdown",
   "metadata": {
    "papermill": {
     "duration": 0.020568,
     "end_time": "2021-02-21T17:17:47.770707",
     "exception": false,
     "start_time": "2021-02-21T17:17:47.750139",
     "status": "completed"
    },
    "tags": []
   },
   "source": [
    "This notebook contains an example for teaching."
   ]
  },
  {
   "cell_type": "markdown",
   "metadata": {
    "papermill": {
     "duration": 0.018579,
     "end_time": "2021-02-21T17:17:47.809138",
     "exception": false,
     "start_time": "2021-02-21T17:17:47.790559",
     "status": "completed"
    },
    "tags": []
   },
   "source": [
    "# An inferential problem: The Gender Wage Gap"
   ]
  },
  {
   "cell_type": "markdown",
   "metadata": {
    "papermill": {
     "duration": 0.019386,
     "end_time": "2021-02-21T17:17:47.847419",
     "exception": false,
     "start_time": "2021-02-21T17:17:47.828033",
     "status": "completed"
    },
    "tags": []
   },
   "source": [
    "In the previous lab, we already analyzed data from the March Supplement of the U.S. Current Population Survey (2015) and answered the question how to use job-relevant characteristics, such as education and experience, to best predict wages. Now, we focus on the following inference question:\n",
    "\n",
    "What is the difference in predicted wages between men and women with the same job-relevant characteristics?\n",
    "\n",
    "Thus, we analyze if there is a difference in the payment of men and women (*gender wage gap*). The gender wage gap may partly reflect *discrimination* against women in the labor market or may partly reflect a *selection effect*, namely that women are relatively more likely to take on occupations that pay somewhat less (for example, school teaching)."
   ]
  },
  {
   "cell_type": "markdown",
   "metadata": {
    "papermill": {
     "duration": 0.018623,
     "end_time": "2021-02-21T17:17:47.884840",
     "exception": false,
     "start_time": "2021-02-21T17:17:47.866217",
     "status": "completed"
    },
    "tags": []
   },
   "source": [
    "To investigate the gender wage gap, we consider the following log-linear regression model\n",
    "\n",
    "\\begin{align}\n",
    "\\log(Y) &= \\beta'X + \\epsilon\\\\\n",
    "&= \\beta_1 D  + \\beta_2' W + \\epsilon,\n",
    "\\end{align}\n",
    "\n",
    "where $D$ is the indicator of being female ($1$ if female and $0$ otherwise) and the\n",
    "$W$'s are controls explaining variation in wages. Considering transformed wages by the logarithm, we are analyzing the relative difference in the payment of men and women."
   ]
  },
  {
   "cell_type": "markdown",
   "metadata": {
    "papermill": {
     "duration": 0.018169,
     "end_time": "2021-02-21T17:17:47.921363",
     "exception": false,
     "start_time": "2021-02-21T17:17:47.903194",
     "status": "completed"
    },
    "tags": []
   },
   "source": [
    "## Data analysis"
   ]
  },
  {
   "cell_type": "markdown",
   "metadata": {
    "papermill": {
     "duration": 0.018446,
     "end_time": "2021-02-21T17:17:47.958377",
     "exception": false,
     "start_time": "2021-02-21T17:17:47.939931",
     "status": "completed"
    },
    "tags": []
   },
   "source": [
    "We consider the same subsample of the U.S. Current Population Survey (2015) as in the previous lab. Let us load the data set."
   ]
  },
  {
   "cell_type": "code",
   "execution_count": 1,
   "metadata": {
    "execution": {
     "iopub.execute_input": "2021-02-21T17:17:48.027996Z",
     "iopub.status.busy": "2021-02-21T17:17:48.025377Z",
     "iopub.status.idle": "2021-02-21T17:17:48.193706Z",
     "shell.execute_reply": "2021-02-21T17:17:48.192123Z"
    },
    "papermill": {
     "duration": 0.217167,
     "end_time": "2021-02-21T17:17:48.193957",
     "exception": false,
     "start_time": "2021-02-21T17:17:47.976790",
     "status": "completed"
    },
    "tags": []
   },
   "outputs": [
    {
     "data": {
      "text/html": [
       "<style>\n",
       ".list-inline {list-style: none; margin:0; padding: 0}\n",
       ".list-inline>li {display: inline-block}\n",
       ".list-inline>li:not(:last-child)::after {content: \"\\00b7\"; padding: 0 .5ex}\n",
       "</style>\n",
       "<ol class=list-inline><li>5150</li><li>20</li></ol>\n"
      ],
      "text/latex": [
       "\\begin{enumerate*}\n",
       "\\item 5150\n",
       "\\item 20\n",
       "\\end{enumerate*}\n"
      ],
      "text/markdown": [
       "1. 5150\n",
       "2. 20\n",
       "\n",
       "\n"
      ],
      "text/plain": [
       "[1] 5150   20"
      ]
     },
     "metadata": {},
     "output_type": "display_data"
    }
   ],
   "source": [
    "load(\"data/wage2015_subsample_inference.Rdata\")\n",
    "#attach(data)\n",
    "\n",
    "dim(data)"
   ]
  },
  {
   "cell_type": "markdown",
   "metadata": {
    "papermill": {
     "duration": 0.020145,
     "end_time": "2021-02-21T17:17:48.235598",
     "exception": false,
     "start_time": "2021-02-21T17:17:48.215453",
     "status": "completed"
    },
    "tags": []
   },
   "source": [
    "To start our (causal) analysis, we compare the sample means given gender:"
   ]
  },
  {
   "cell_type": "code",
   "execution_count": 2,
   "metadata": {},
   "outputs": [
    {
     "name": "stderr",
     "output_type": "stream",
     "text": [
      "-- \u001b[1mAttaching packages\u001b[22m ------------------------------------------------------------------------------- tidyverse 1.3.1 --\n",
      "\n",
      "\u001b[32mv\u001b[39m \u001b[34mggplot2\u001b[39m 3.3.5     \u001b[32mv\u001b[39m \u001b[34mpurrr  \u001b[39m 0.3.4\n",
      "\u001b[32mv\u001b[39m \u001b[34mtibble \u001b[39m 3.1.3     \u001b[32mv\u001b[39m \u001b[34mdplyr  \u001b[39m 1.0.7\n",
      "\u001b[32mv\u001b[39m \u001b[34mtidyr  \u001b[39m 1.1.3     \u001b[32mv\u001b[39m \u001b[34mstringr\u001b[39m 1.4.0\n",
      "\u001b[32mv\u001b[39m \u001b[34mreadr  \u001b[39m 2.0.1     \u001b[32mv\u001b[39m \u001b[34mforcats\u001b[39m 0.5.1\n",
      "\n",
      "-- \u001b[1mConflicts\u001b[22m ---------------------------------------------------------------------------------- tidyverse_conflicts() --\n",
      "\u001b[31mx\u001b[39m \u001b[34mdplyr\u001b[39m::\u001b[32mfilter()\u001b[39m masks \u001b[34mstats\u001b[39m::filter()\n",
      "\u001b[31mx\u001b[39m \u001b[34mdplyr\u001b[39m::\u001b[32mlag()\u001b[39m    masks \u001b[34mstats\u001b[39m::lag()\n",
      "\n"
     ]
    }
   ],
   "source": [
    "library(tidyverse)\n",
    "# selecting a subset of interest (college and some college)\n",
    "z_clg <- data %>% \n",
    "  filter(clg==1 | scl==1)\n",
    "\n",
    "# keeping variables of interest to do the table\n",
    "Z <- z_clg[which(colnames(z_clg) %in% c(\"lwage\",\"sex\",\"clg\", \"ne\",\"mw\",\n",
    "                                        \"so\",\"we\",\"exp1\"))] #WAS data"
   ]
  },
  {
   "cell_type": "code",
   "execution_count": 3,
   "metadata": {
    "scrolled": true
   },
   "outputs": [
    {
     "data": {
      "text/html": [
       "<style>\n",
       ".list-inline {list-style: none; margin:0; padding: 0}\n",
       ".list-inline>li {display: inline-block}\n",
       ".list-inline>li:not(:last-child)::after {content: \"\\00b7\"; padding: 0 .5ex}\n",
       "</style>\n",
       "<ol class=list-inline><li>3068</li><li>20</li></ol>\n"
      ],
      "text/latex": [
       "\\begin{enumerate*}\n",
       "\\item 3068\n",
       "\\item 20\n",
       "\\end{enumerate*}\n"
      ],
      "text/markdown": [
       "1. 3068\n",
       "2. 20\n",
       "\n",
       "\n"
      ],
      "text/plain": [
       "[1] 3068   20"
      ]
     },
     "metadata": {},
     "output_type": "display_data"
    }
   ],
   "source": [
    "dim(z_clg)"
   ]
  },
  {
   "cell_type": "code",
   "execution_count": 4,
   "metadata": {
    "execution": {
     "iopub.execute_input": "2021-02-21T17:17:48.309038Z",
     "iopub.status.busy": "2021-02-21T17:17:48.279446Z",
     "iopub.status.idle": "2021-02-21T17:17:48.385996Z",
     "shell.execute_reply": "2021-02-21T17:17:48.384619Z"
    },
    "papermill": {
     "duration": 0.130992,
     "end_time": "2021-02-21T17:17:48.386138",
     "exception": false,
     "start_time": "2021-02-21T17:17:48.255146",
     "status": "completed"
    },
    "tags": []
   },
   "outputs": [
    {
     "data": {
      "text/html": [
       "<table class=\"dataframe\">\n",
       "<caption>A xtable: 8 × 3</caption>\n",
       "<thead>\n",
       "\t<tr><th></th><th scope=col>All</th><th scope=col>Men</th><th scope=col>Women</th></tr>\n",
       "\t<tr><th></th><th scope=col>&lt;dbl&gt;</th><th scope=col>&lt;dbl&gt;</th><th scope=col>&lt;dbl&gt;</th></tr>\n",
       "</thead>\n",
       "<tbody>\n",
       "\t<tr><th scope=row>Log Wage</th><td> 3.0000223</td><td> 3.0384121</td><td> 2.9569035</td></tr>\n",
       "\t<tr><th scope=row>Sex</th><td> 0.4709909</td><td> 0.0000000</td><td> 1.0000000</td></tr>\n",
       "\t<tr><th scope=row>College Graduate</th><td> 0.5332464</td><td> 0.5181762</td><td> 0.5501730</td></tr>\n",
       "\t<tr><th scope=row>Northeast</th><td> 0.2659713</td><td> 0.2612446</td><td> 0.2712803</td></tr>\n",
       "\t<tr><th scope=row>Midwest</th><td> 0.2858540</td><td> 0.2908195</td><td> 0.2802768</td></tr>\n",
       "\t<tr><th scope=row>South</th><td> 0.2216428</td><td> 0.2285890</td><td> 0.2138408</td></tr>\n",
       "\t<tr><th scope=row>West</th><td> 0.2265319</td><td> 0.2193469</td><td> 0.2346021</td></tr>\n",
       "\t<tr><th scope=row>Experience</th><td>12.7009452</td><td>12.4331485</td><td>13.0017301</td></tr>\n",
       "</tbody>\n",
       "</table>\n"
      ],
      "text/latex": [
       "A xtable: 8 × 3\n",
       "\\begin{tabular}{r|lll}\n",
       "  & All & Men & Women\\\\\n",
       "  & <dbl> & <dbl> & <dbl>\\\\\n",
       "\\hline\n",
       "\tLog Wage &  3.0000223 &  3.0384121 &  2.9569035\\\\\n",
       "\tSex &  0.4709909 &  0.0000000 &  1.0000000\\\\\n",
       "\tCollege Graduate &  0.5332464 &  0.5181762 &  0.5501730\\\\\n",
       "\tNortheast &  0.2659713 &  0.2612446 &  0.2712803\\\\\n",
       "\tMidwest &  0.2858540 &  0.2908195 &  0.2802768\\\\\n",
       "\tSouth &  0.2216428 &  0.2285890 &  0.2138408\\\\\n",
       "\tWest &  0.2265319 &  0.2193469 &  0.2346021\\\\\n",
       "\tExperience & 12.7009452 & 12.4331485 & 13.0017301\\\\\n",
       "\\end{tabular}\n"
      ],
      "text/markdown": [
       "\n",
       "A xtable: 8 × 3\n",
       "\n",
       "| <!--/--> | All &lt;dbl&gt; | Men &lt;dbl&gt; | Women &lt;dbl&gt; |\n",
       "|---|---|---|---|\n",
       "| Log Wage |  3.0000223 |  3.0384121 |  2.9569035 |\n",
       "| Sex |  0.4709909 |  0.0000000 |  1.0000000 |\n",
       "| College Graduate |  0.5332464 |  0.5181762 |  0.5501730 |\n",
       "| Northeast |  0.2659713 |  0.2612446 |  0.2712803 |\n",
       "| Midwest |  0.2858540 |  0.2908195 |  0.2802768 |\n",
       "| South |  0.2216428 |  0.2285890 |  0.2138408 |\n",
       "| West |  0.2265319 |  0.2193469 |  0.2346021 |\n",
       "| Experience | 12.7009452 | 12.4331485 | 13.0017301 |\n",
       "\n"
      ],
      "text/plain": [
       "                 All        Men        Women     \n",
       "Log Wage          3.0000223  3.0384121  2.9569035\n",
       "Sex               0.4709909  0.0000000  1.0000000\n",
       "College Graduate  0.5332464  0.5181762  0.5501730\n",
       "Northeast         0.2659713  0.2612446  0.2712803\n",
       "Midwest           0.2858540  0.2908195  0.2802768\n",
       "South             0.2216428  0.2285890  0.2138408\n",
       "West              0.2265319  0.2193469  0.2346021\n",
       "Experience       12.7009452 12.4331485 13.0017301"
      ]
     },
     "metadata": {},
     "output_type": "display_data"
    }
   ],
   "source": [
    "library(xtable)\n",
    "\n",
    "# creating a dataset for female\n",
    "data_female <- z_clg[z_clg$sex==1,]\n",
    "Z_female <- data_female[which(colnames(z_clg) %in% c(\"lwage\",\"sex\",\"clg\", \"ne\",\n",
    "                                                    \"mw\",\"so\",\"we\",\"exp1\"))]\n",
    "\n",
    "# creating a dataset for male\n",
    "data_male <- z_clg[z_clg$sex==0,]\n",
    "Z_male <- data_male[which(colnames(z_clg) %in% c(\"lwage\",\"sex\",\"clg\", \"ne\",\n",
    "                                                \"mw\",\"so\",\"we\",\"exp1\"))]\n",
    "\n",
    "table <- matrix(0, 8, 3)\n",
    "table[1:8,1]   <- as.numeric(lapply(Z,mean))\n",
    "table[1:8,2]   <- as.numeric(lapply(Z_male,mean))\n",
    "table[1:8,3]   <- as.numeric(lapply(Z_female,mean))\n",
    "rownames(table) <- c(\"Log Wage\",\"Sex\",\"College Graduate\",\n",
    "                      \"Northeast\",\"Midwest\",\"South\",\"West\",\"Experience\")\n",
    "colnames(table) <- c(\"All\",\"Men\",\"Women\")\n",
    "tab <- xtable(table, digits = 4)\n",
    "tab"
   ]
  },
  {
   "cell_type": "code",
   "execution_count": 5,
   "metadata": {
    "execution": {
     "iopub.execute_input": "2021-02-21T17:17:48.431654Z",
     "iopub.status.busy": "2021-02-21T17:17:48.430537Z",
     "iopub.status.idle": "2021-02-21T17:17:48.450210Z",
     "shell.execute_reply": "2021-02-21T17:17:48.448493Z"
    },
    "papermill": {
     "duration": 0.044113,
     "end_time": "2021-02-21T17:17:48.450550",
     "exception": false,
     "start_time": "2021-02-21T17:17:48.406437",
     "status": "completed"
    },
    "tags": []
   },
   "outputs": [],
   "source": [
    "#print(tab,type=\"html\") # set type=\"latex\" for printing table in LaTeX"
   ]
  },
  {
   "cell_type": "markdown",
   "metadata": {
    "papermill": {
     "duration": 0.020063,
     "end_time": "2021-02-21T17:17:48.491517",
     "exception": false,
     "start_time": "2021-02-21T17:17:48.471454",
     "status": "completed"
    },
    "tags": []
   },
   "source": [
    "<!-- html table generated in R 4.1.1 by xtable 1.8-4 package -->\n",
    "<!-- Wed Sep 08 18:57:47 2021 -->\n",
    "<table border=1>\n",
    "<tr> <th>  </th> <th> All </th> <th> Men </th> <th> Women </th>  </tr>\n",
    "  <tr> <td align=\"right\"> Log Wage </td> <td align=\"right\"> 3.0000 </td> <td align=\"right\"> 3.0384 </td> <td align=\"right\"> 2.9569 </td> </tr>\n",
    "  <tr> <td align=\"right\"> Sex </td> <td align=\"right\"> 0.4710 </td> <td align=\"right\"> 0.0000 </td> <td align=\"right\"> 1.0000 </td> </tr>\n",
    "  <tr> <td align=\"right\"> College Graduate </td> <td align=\"right\"> 0.5332 </td> <td align=\"right\"> 0.5182 </td> <td align=\"right\"> 0.5502 </td> </tr>\n",
    "  <tr> <td align=\"right\"> Northeast </td> <td align=\"right\"> 0.2660 </td> <td align=\"right\"> 0.2612 </td> <td align=\"right\"> 0.2713 </td> </tr>\n",
    "  <tr> <td align=\"right\"> Midwest </td> <td align=\"right\"> 0.2859 </td> <td align=\"right\"> 0.2908 </td> <td align=\"right\"> 0.2803 </td> </tr>\n",
    "  <tr> <td align=\"right\"> South </td> <td align=\"right\"> 0.2216 </td> <td align=\"right\"> 0.2286 </td> <td align=\"right\"> 0.2138 </td> </tr>\n",
    "  <tr> <td align=\"right\"> West </td> <td align=\"right\"> 0.2265 </td> <td align=\"right\"> 0.2193 </td> <td align=\"right\"> 0.2346 </td> </tr>\n",
    "  <tr> <td align=\"right\"> Experience </td> <td align=\"right\"> 12.7009 </td> <td align=\"right\"> 12.4331 </td> <td align=\"right\"> 13.0017 </td> </tr>\n",
    "   </table>"
   ]
  },
  {
   "cell_type": "markdown",
   "metadata": {
    "papermill": {
     "duration": 0.020634,
     "end_time": "2021-02-21T17:17:48.532828",
     "exception": false,
     "start_time": "2021-02-21T17:17:48.512194",
     "status": "completed"
    },
    "tags": []
   },
   "source": [
    "In particular, the table above shows that the difference in average *logwage* between men and women is equal to $0,0815$."
   ]
  },
  {
   "cell_type": "code",
   "execution_count": 6,
   "metadata": {
    "execution": {
     "iopub.execute_input": "2021-02-21T17:17:48.578674Z",
     "iopub.status.busy": "2021-02-21T17:17:48.577061Z",
     "iopub.status.idle": "2021-02-21T17:17:48.591063Z",
     "shell.execute_reply": "2021-02-21T17:17:48.589749Z"
    },
    "papermill": {
     "duration": 0.037974,
     "end_time": "2021-02-21T17:17:48.591228",
     "exception": false,
     "start_time": "2021-02-21T17:17:48.553254",
     "status": "completed"
    },
    "tags": []
   },
   "outputs": [
    {
     "data": {
      "text/html": [
       "-0.0815085550873591"
      ],
      "text/latex": [
       "-0.0815085550873591"
      ],
      "text/markdown": [
       "-0.0815085550873591"
      ],
      "text/plain": [
       "[1] -0.08150856"
      ]
     },
     "metadata": {},
     "output_type": "display_data"
    }
   ],
   "source": [
    "mean(data_female$lwage)-mean(data_male$lwage)"
   ]
  },
  {
   "cell_type": "markdown",
   "metadata": {
    "papermill": {
     "duration": 0.022161,
     "end_time": "2021-02-21T17:17:48.635417",
     "exception": false,
     "start_time": "2021-02-21T17:17:48.613256",
     "status": "completed"
    },
    "tags": []
   },
   "source": [
    "Thus, the unconditional gender wage gap is about $8,15$\\% for the group of never married workers (women get paid less on average in our sample). We also observe that never married working women are relatively more educated than working men and have lower working experience."
   ]
  },
  {
   "cell_type": "markdown",
   "metadata": {
    "papermill": {
     "duration": 0.02073,
     "end_time": "2021-02-21T17:17:48.677447",
     "exception": false,
     "start_time": "2021-02-21T17:17:48.656717",
     "status": "completed"
    },
    "tags": []
   },
   "source": [
    "This unconditional (predictive) effect of gender equals the coefficient $\\beta$ in the univariate ols regression of $Y$ on $D$:\n",
    "\n",
    "\\begin{align}\n",
    "\\log(Y) &=\\beta D + \\epsilon.\n",
    "\\end{align}"
   ]
  },
  {
   "cell_type": "markdown",
   "metadata": {
    "papermill": {
     "duration": 0.020929,
     "end_time": "2021-02-21T17:17:48.718630",
     "exception": false,
     "start_time": "2021-02-21T17:17:48.697701",
     "status": "completed"
    },
    "tags": []
   },
   "source": [
    "We verify this by running an ols regression in R."
   ]
  },
  {
   "cell_type": "code",
   "execution_count": 7,
   "metadata": {
    "execution": {
     "iopub.execute_input": "2021-02-21T17:17:48.766832Z",
     "iopub.status.busy": "2021-02-21T17:17:48.765704Z",
     "iopub.status.idle": "2021-02-21T17:17:48.946342Z",
     "shell.execute_reply": "2021-02-21T17:17:48.944941Z"
    },
    "papermill": {
     "duration": 0.205828,
     "end_time": "2021-02-21T17:17:48.946508",
     "exception": false,
     "start_time": "2021-02-21T17:17:48.740680",
     "status": "completed"
    },
    "tags": []
   },
   "outputs": [
    {
     "name": "stdout",
     "output_type": "stream",
     "text": [
      "The estimated gender coefficient is -0.08150856  and the corresponding robust standard error is 0.01957965"
     ]
    }
   ],
   "source": [
    "library(sandwich)\n",
    "nocontrol.fit <- lm(lwage ~ sex, data=z_clg)\n",
    "nocontrol.est <- summary(nocontrol.fit)$coef[\"sex\",1]\n",
    "HCV.coefs <- vcovHC(nocontrol.fit, type = 'HC');\n",
    "nocontrol.se <- sqrt(diag(HCV.coefs))[2] # Estimated std errors\n",
    "\n",
    "# print unconditional effect of gender and the corresponding standard error\n",
    "cat (\"The estimated gender coefficient is\",nocontrol.est,\" and the corresponding robust standard error is\",nocontrol.se) \n"
   ]
  },
  {
   "cell_type": "markdown",
   "metadata": {
    "papermill": {
     "duration": 0.02196,
     "end_time": "2021-02-21T17:17:48.991015",
     "exception": false,
     "start_time": "2021-02-21T17:17:48.969055",
     "status": "completed"
    },
    "tags": []
   },
   "source": [
    "Note that the standard error is computed with the *R* package *sandwich* to be robust to heteroskedasticity. \n"
   ]
  },
  {
   "cell_type": "markdown",
   "metadata": {
    "papermill": {
     "duration": 0.021605,
     "end_time": "2021-02-21T17:17:49.034485",
     "exception": false,
     "start_time": "2021-02-21T17:17:49.012880",
     "status": "completed"
    },
    "tags": []
   },
   "source": [
    "Next, we run an ols regression of $Y$ on $(D,W)$ to control for the effect of covariates summarized in $W$:\n",
    "\n",
    "\\begin{align}\n",
    "\\log(Y) &=\\beta_1 D  + \\beta_2' W + \\epsilon.\n",
    "\\end{align}\n",
    "\n",
    "Here, we are considering the flexible model from the previous lab. Hence, $W$ controls for experience, education, region, and occupation and industry indicators plus transformations and two-way interactions."
   ]
  },
  {
   "cell_type": "markdown",
   "metadata": {},
   "source": [
    "## Ols regression with controls"
   ]
  },
  {
   "cell_type": "markdown",
   "metadata": {
    "papermill": {
     "duration": 0.021109,
     "end_time": "2021-02-21T17:17:49.076809",
     "exception": false,
     "start_time": "2021-02-21T17:17:49.055700",
     "status": "completed"
    },
    "tags": []
   },
   "source": [
    "Let us run the ols regression with controls."
   ]
  },
  {
   "cell_type": "code",
   "execution_count": 8,
   "metadata": {
    "execution": {
     "iopub.execute_input": "2021-02-21T17:17:49.124867Z",
     "iopub.status.busy": "2021-02-21T17:17:49.123217Z",
     "iopub.status.idle": "2021-02-21T17:17:49.792247Z",
     "shell.execute_reply": "2021-02-21T17:17:49.790841Z"
    },
    "papermill": {
     "duration": 0.694579,
     "end_time": "2021-02-21T17:17:49.792415",
     "exception": false,
     "start_time": "2021-02-21T17:17:49.097836",
     "status": "completed"
    },
    "tags": []
   },
   "outputs": [
    {
     "data": {
      "text/plain": [
       "\n",
       "Call:\n",
       "lm(formula = flex, data = z_clg)\n",
       "\n",
       "Residuals:\n",
       "     Min       1Q   Median       3Q      Max \n",
       "-1.87897 -0.27894 -0.00777  0.25823  2.85755 \n",
       "\n",
       "Coefficients: (1 not defined because of singularities)\n",
       "              Estimate Std. Error t value Pr(>|t|)    \n",
       "(Intercept)  3.4357559  0.5208785   6.596 5.02e-11 ***\n",
       "sex         -0.0530623  0.0193532  -2.742 0.006149 ** \n",
       "exp1        -0.1962420  0.1996670  -0.983 0.325767    \n",
       "exp2         4.3105015  2.3797581   1.811 0.070197 .  \n",
       "exp3        -2.3067253  1.0176306  -2.267 0.023480 *  \n",
       "exp4         0.3513392  0.1382879   2.541 0.011118 *  \n",
       "clg          0.2498673  0.1237850   2.019 0.043627 *  \n",
       "occ22        0.2151993  0.1582208   1.360 0.173900    \n",
       "occ23        0.0487642  0.2095297   0.233 0.815986    \n",
       "occ24        0.0281449  0.2300084   0.122 0.902619    \n",
       "occ25       -0.2711807  0.3944166  -0.688 0.491793    \n",
       "occ26       -0.2000530  0.2705614  -0.739 0.459725    \n",
       "occ27       -0.1203371  0.4188017  -0.287 0.773875    \n",
       "occ28       -0.1719401  0.2721490  -0.632 0.527577    \n",
       "occ29       -0.3963629  0.2050361  -1.933 0.053319 .  \n",
       "occ210       0.0919819  0.2432203   0.378 0.705323    \n",
       "occ211      -0.4994175  0.4368584  -1.143 0.253051    \n",
       "occ212       0.1901009  0.3411417   0.557 0.577401    \n",
       "occ213      -0.1945287  0.2718809  -0.715 0.474364    \n",
       "occ214       0.3010030  0.3808385   0.790 0.429378    \n",
       "occ215      -0.3369933  0.3356632  -1.004 0.315482    \n",
       "occ216      -0.0407369  0.1712462  -0.238 0.811987    \n",
       "occ217      -0.4552186  0.1586012  -2.870 0.004132 ** \n",
       "occ218      -0.0100153  2.2144365  -0.005 0.996392    \n",
       "occ219       0.0020488  0.4191796   0.005 0.996101    \n",
       "occ220      -0.4223277  0.2607281  -1.620 0.105386    \n",
       "occ221      -0.9012886  0.2869692  -3.141 0.001703 ** \n",
       "occ222      -0.0168748  0.4864599  -0.035 0.972330    \n",
       "ind23       -0.9374763  0.7630580  -1.229 0.219332    \n",
       "ind24        0.0473118  0.5593258   0.085 0.932596    \n",
       "ind25       -0.3770690  0.5232052  -0.721 0.471159    \n",
       "ind26       -0.5542517  0.5190253  -1.068 0.285670    \n",
       "ind27       -0.2812532  0.5714904  -0.492 0.622659    \n",
       "ind28       -0.6504243  0.5874717  -1.107 0.268319    \n",
       "ind29       -0.8045381  0.5094802  -1.579 0.114416    \n",
       "ind210      -0.4506545  0.5675561  -0.794 0.427246    \n",
       "ind211      -0.6634660  0.5259447  -1.261 0.207241    \n",
       "ind212      -0.6138007  0.5032946  -1.220 0.222731    \n",
       "ind213      -0.8964483  0.5817196  -1.541 0.123421    \n",
       "ind214      -0.3901374  0.4977512  -0.784 0.433223    \n",
       "ind215      -0.4653004  0.6882201  -0.676 0.499037    \n",
       "ind216      -0.5080079  0.5281966  -0.962 0.336243    \n",
       "ind217      -0.8686633  0.5294785  -1.641 0.100991    \n",
       "ind218      -0.6396953  0.5155592  -1.241 0.214790    \n",
       "ind219      -0.7415211  0.5552430  -1.335 0.181823    \n",
       "ind220      -0.8142791  0.5275884  -1.543 0.122846    \n",
       "ind221      -0.4997641  0.5348108  -0.934 0.350142    \n",
       "ind222      -0.3786290  0.5405464  -0.700 0.483700    \n",
       "mw           0.1958465  0.1068723   1.833 0.066978 .  \n",
       "so          -0.0346190  0.1042672  -0.332 0.739897    \n",
       "we           0.1261936  0.1184244   1.066 0.286693    \n",
       "exp1:clg     0.0121646  0.0407919   0.298 0.765565    \n",
       "exp1:occ22  -0.0631144  0.0630037  -1.002 0.316546    \n",
       "exp1:occ23   0.0326274  0.0794502   0.411 0.681349    \n",
       "exp1:occ24   0.0107059  0.0949665   0.113 0.910250    \n",
       "exp1:occ25  -0.0274672  0.2001848  -0.137 0.890875    \n",
       "exp1:occ26  -0.0527366  0.1119821  -0.471 0.637721    \n",
       "exp1:occ27  -0.1087102  0.1600695  -0.679 0.497102    \n",
       "exp1:occ28  -0.0371404  0.1035842  -0.359 0.719956    \n",
       "exp1:occ29   0.1021025  0.0830679   1.229 0.219119    \n",
       "exp1:occ210  0.0022818  0.0933261   0.024 0.980496    \n",
       "exp1:occ211  0.0369873  0.1571990   0.235 0.814001    \n",
       "exp1:occ212 -0.1062438  0.1222611  -0.869 0.384926    \n",
       "exp1:occ213  0.0483902  0.0983858   0.492 0.622870    \n",
       "exp1:occ214 -0.1209127  0.1397766  -0.865 0.387089    \n",
       "exp1:occ215  0.0107765  0.1230134   0.088 0.930198    \n",
       "exp1:occ216 -0.0377813  0.0639815  -0.591 0.554901    \n",
       "exp1:occ217  0.0473737  0.0588764   0.805 0.421101    \n",
       "exp1:occ218 -0.1554316  1.1024362  -0.141 0.887888    \n",
       "exp1:occ219 -0.0605324  0.1437029  -0.421 0.673617    \n",
       "exp1:occ220  0.0931849  0.0910362   1.024 0.306110    \n",
       "exp1:occ221  0.3231623  0.1010818   3.197 0.001404 ** \n",
       "exp1:occ222 -0.1560741  0.1581812  -0.987 0.323884    \n",
       "exp1:ind23   0.4320231  0.3058459   1.413 0.157897    \n",
       "exp1:ind24   0.0409994  0.2080253   0.197 0.843772    \n",
       "exp1:ind25   0.1841740  0.2047239   0.900 0.368398    \n",
       "exp1:ind26   0.2255280  0.2011211   1.121 0.262232    \n",
       "exp1:ind27   0.1073133  0.2233358   0.481 0.630908    \n",
       "exp1:ind28   0.2545921  0.2458909   1.035 0.300577    \n",
       "exp1:ind29   0.2092253  0.1968917   1.063 0.288035    \n",
       "exp1:ind210  0.1807059  0.2171637   0.832 0.405412    \n",
       "exp1:ind211  0.2579344  0.2042452   1.263 0.206741    \n",
       "exp1:ind212  0.3170780  0.1967145   1.612 0.107102    \n",
       "exp1:ind213  0.3800928  0.2177404   1.746 0.080985 .  \n",
       "exp1:ind214  0.1408305  0.1946484   0.724 0.469425    \n",
       "exp1:ind215  0.1026476  0.3307499   0.310 0.756319    \n",
       "exp1:ind216  0.1427221  0.2064100   0.691 0.489340    \n",
       "exp1:ind217  0.2977947  0.2040966   1.459 0.144652    \n",
       "exp1:ind218  0.1962564  0.1997709   0.982 0.325983    \n",
       "exp1:ind219  0.1711574  0.2131201   0.803 0.421983    \n",
       "exp1:ind220  0.1746944  0.2031650   0.860 0.389936    \n",
       "exp1:ind221  0.2100177  0.2057559   1.021 0.307477    \n",
       "exp1:ind222  0.1893985  0.2053893   0.922 0.356532    \n",
       "exp1:mw     -0.0619563  0.0418241  -1.481 0.138623    \n",
       "exp1:so      0.0057820  0.0396763   0.146 0.884145    \n",
       "exp1:we     -0.0478640  0.0437059  -1.095 0.273548    \n",
       "exp2:clg    -0.2216086  0.4133059  -0.536 0.591873    \n",
       "exp2:occ22   0.2989342  0.7038148   0.425 0.671063    \n",
       "exp2:occ23  -0.7211942  0.8855311  -0.814 0.415473    \n",
       "exp2:occ24  -0.2699265  1.0959123  -0.246 0.805465    \n",
       "exp2:occ25   1.4532318  3.0067008   0.483 0.628898    \n",
       "exp2:occ26   0.3834942  1.3720465   0.280 0.779877    \n",
       "exp2:occ27   1.1812006  1.8784828   0.629 0.529527    \n",
       "exp2:occ28  -0.0274218  1.1533003  -0.024 0.981032    \n",
       "exp2:occ29  -1.0621384  0.9470416  -1.122 0.262156    \n",
       "exp2:occ210 -0.3264796  1.0432172  -0.313 0.754338    \n",
       "exp2:occ211 -0.3405652  1.7015462  -0.200 0.841377    \n",
       "exp2:occ212  0.6041155  1.3414334   0.450 0.652492    \n",
       "exp2:occ213 -0.9011013  1.0454393  -0.862 0.388796    \n",
       "exp2:occ214  0.1176365  1.5082483   0.078 0.937837    \n",
       "exp2:occ215 -0.5498030  1.3291914  -0.414 0.679171    \n",
       "exp2:occ216  0.0849304  0.6979720   0.122 0.903160    \n",
       "exp2:occ217 -0.7493648  0.6435325  -1.164 0.244337    \n",
       "exp2:occ218  0.7439583  9.3110051   0.080 0.936322    \n",
       "exp2:occ219  0.5498894  1.4906630   0.369 0.712238    \n",
       "exp2:occ220 -1.0158810  0.9425130  -1.078 0.281195    \n",
       "exp2:occ221 -3.9371723  1.0692967  -3.682 0.000236 ***\n",
       "exp2:occ222  1.5179725  1.5342157   0.989 0.322546    \n",
       "exp2:ind23  -6.4796151  3.7990841  -1.706 0.088197 .  \n",
       "exp2:ind24  -2.6872131  2.4441668  -1.099 0.271670    \n",
       "exp2:ind25  -4.1468398  2.4445725  -1.696 0.089930 .  \n",
       "exp2:ind26  -4.2139999  2.3991488  -1.756 0.079118 .  \n",
       "exp2:ind27  -2.7331923  2.6960937  -1.014 0.310784    \n",
       "exp2:ind28  -3.6656460  3.0702318  -1.194 0.232605    \n",
       "exp2:ind29  -3.8996457  2.3582733  -1.654 0.098319 .  \n",
       "exp2:ind210 -3.7035161  2.5382076  -1.459 0.144646    \n",
       "exp2:ind211 -4.5216510  2.4414956  -1.852 0.064130 .  \n",
       "exp2:ind212 -5.1083392  2.3679500  -2.157 0.031067 *  \n",
       "exp2:ind213 -5.6691510  2.5320131  -2.239 0.025234 *  \n",
       "exp2:ind214 -3.1313860  2.3469954  -1.334 0.182242    \n",
       "exp2:ind215 -2.6414528  3.7445752  -0.705 0.480614    \n",
       "exp2:ind216 -3.0267086  2.4664224  -1.227 0.219862    \n",
       "exp2:ind217 -4.7822893  2.4320783  -1.966 0.049357 *  \n",
       "exp2:ind218 -3.8782338  2.3922113  -1.621 0.105088    \n",
       "exp2:ind219 -3.3586261  2.5047964  -1.341 0.180067    \n",
       "exp2:ind220 -3.6271074  2.4173138  -1.500 0.133604    \n",
       "exp2:ind221 -4.0217328  2.4434433  -1.646 0.099889 .  \n",
       "exp2:ind222 -3.7684447  2.4233956  -1.555 0.120051    \n",
       "exp2:mw      0.4838242  0.4691702   1.031 0.302519    \n",
       "exp2:so     -0.0426958  0.4329768  -0.099 0.921455    \n",
       "exp2:we      0.5774804  0.4682555   1.233 0.217581    \n",
       "exp3:clg     0.1002865  0.1583125   0.633 0.526477    \n",
       "exp3:occ22   0.0005287  0.2849249   0.002 0.998519    \n",
       "exp3:occ23   0.3479651  0.3602479   0.966 0.334174    \n",
       "exp3:occ24   0.1327043  0.4490244   0.296 0.767604    \n",
       "exp3:occ25  -1.2675466  1.6239177  -0.781 0.435133    \n",
       "exp3:occ26  -0.0861625  0.6102063  -0.141 0.887720    \n",
       "exp3:occ27  -0.5391536  0.7984378  -0.675 0.499565    \n",
       "exp3:occ28   0.1250242  0.4640841   0.269 0.787642    \n",
       "exp3:occ29   0.3956094  0.3894184   1.016 0.309765    \n",
       "exp3:occ210  0.2356222  0.4270044   0.552 0.581127    \n",
       "exp3:occ211  0.0850896  0.6938821   0.123 0.902410    \n",
       "exp3:occ212  0.0109101  0.5433951   0.020 0.983983    \n",
       "exp3:occ213  0.4099807  0.4063159   1.009 0.313051    \n",
       "exp3:occ214  0.2328011  0.5737599   0.406 0.684959    \n",
       "exp3:occ215  0.3691372  0.5352416   0.690 0.490461    \n",
       "exp3:occ216  0.0915397  0.2798629   0.327 0.743626    \n",
       "exp3:occ217  0.3684352  0.2584120   1.426 0.154046    \n",
       "exp3:occ218 -0.0728607  1.8129821  -0.040 0.967946    \n",
       "exp3:occ219 -0.2037610  0.5768151  -0.353 0.723926    \n",
       "exp3:occ220  0.3824008  0.3642037   1.050 0.293824    \n",
       "exp3:occ221  1.6041311  0.4182354   3.835 0.000128 ***\n",
       "exp3:occ222 -0.5099737  0.5635594  -0.905 0.365587    \n",
       "exp3:ind23   3.2238995  1.7561719   1.836 0.066499 .  \n",
       "exp3:ind24   1.7349800  1.0365754   1.674 0.094288 .  \n",
       "exp3:ind25   2.2421191  1.0432430   2.149 0.031704 *  \n",
       "exp3:ind26   2.2146931  1.0241983   2.162 0.030673 *  \n",
       "exp3:ind27   1.5675521  1.1690776   1.341 0.180078    \n",
       "exp3:ind28   1.5399859  1.3940927   1.105 0.269404    \n",
       "exp3:ind29   2.0399792  1.0113099   2.017 0.043772 *  \n",
       "exp3:ind210  1.9816265  1.0709584   1.850 0.064370 .  \n",
       "exp3:ind211  2.3280002  1.0447922   2.228 0.025946 *  \n",
       "exp3:ind212  2.4986874  1.0171023   2.457 0.014083 *  \n",
       "exp3:ind213  2.6780049  1.0660293   2.512 0.012056 *  \n",
       "exp3:ind214  1.7526421  1.0095029   1.736 0.082647 .  \n",
       "exp3:ind215  1.5784535  1.4815769   1.065 0.286791    \n",
       "exp3:ind216  1.6946544  1.0516350   1.611 0.107193    \n",
       "exp3:ind217  2.3526755  1.0380306   2.266 0.023497 *  \n",
       "exp3:ind218  2.0716863  1.0267137   2.018 0.043708 *  \n",
       "exp3:ind219  1.8267916  1.0604717   1.723 0.085066 .  \n",
       "exp3:ind220  1.9671974  1.0307281   1.909 0.056421 .  \n",
       "exp3:ind221  2.0920770  1.0421031   2.008 0.044785 *  \n",
       "exp3:ind222  2.0075028  1.0304724   1.948 0.051497 .  \n",
       "exp3:mw     -0.1453989  0.1922868  -0.756 0.449618    \n",
       "exp3:so      0.0184796  0.1727892   0.107 0.914837    \n",
       "exp3:we     -0.2308636  0.1843977  -1.252 0.210678    \n",
       "exp4:clg    -0.0134666  0.0201340  -0.669 0.503646    \n",
       "exp4:occ22  -0.0133900  0.0376888  -0.355 0.722407    \n",
       "exp4:occ23  -0.0486518  0.0476989  -1.020 0.307826    \n",
       "exp4:occ24  -0.0223191  0.0593293  -0.376 0.706803    \n",
       "exp4:occ25   0.2845962  0.2824632   1.008 0.313756    \n",
       "exp4:occ26   0.0035336  0.0875725   0.040 0.967817    \n",
       "exp4:occ27   0.0789030  0.1085605   0.727 0.467402    \n",
       "exp4:occ28  -0.0258852  0.0605593  -0.427 0.669095    \n",
       "exp4:occ29  -0.0479087  0.0519869  -0.922 0.356840    \n",
       "exp4:occ210 -0.0411370  0.0572458  -0.719 0.472444    \n",
       "exp4:occ211 -0.0044897  0.0932319  -0.048 0.961595    \n",
       "exp4:occ212 -0.0327767  0.0723612  -0.453 0.650612    \n",
       "exp4:occ213 -0.0574088  0.0515849  -1.113 0.265846    \n",
       "exp4:occ214 -0.0524263  0.0705276  -0.743 0.457335    \n",
       "exp4:occ215 -0.0619990  0.0708724  -0.875 0.381758    \n",
       "exp4:occ216 -0.0264713  0.0367893  -0.720 0.471869    \n",
       "exp4:occ217 -0.0553914  0.0339714  -1.631 0.103100    \n",
       "exp4:occ218         NA         NA      NA       NA    \n",
       "exp4:occ219  0.0241359  0.0730760   0.330 0.741209    \n",
       "exp4:occ220 -0.0471960  0.0464443  -1.016 0.309628    \n",
       "exp4:occ221 -0.2092063  0.0539166  -3.880 0.000107 ***\n",
       "exp4:occ222  0.0540559  0.0691569   0.782 0.434490    \n",
       "exp4:ind23  -0.4970867  0.2682290  -1.853 0.063955 .  \n",
       "exp4:ind24  -0.2847302  0.1398614  -2.036 0.041863 *  \n",
       "exp4:ind25  -0.3402683  0.1415826  -2.403 0.016311 *  \n",
       "exp4:ind26  -0.3338771  0.1389338  -2.403 0.016319 *  \n",
       "exp4:ind27  -0.2444006  0.1615297  -1.513 0.130381    \n",
       "exp4:ind28  -0.1894363  0.2043155  -0.927 0.353914    \n",
       "exp4:ind29  -0.3070943  0.1377034  -2.230 0.025818 *  \n",
       "exp4:ind210 -0.3006797  0.1444260  -2.082 0.037441 *  \n",
       "exp4:ind211 -0.3499129  0.1421750  -2.461 0.013909 *  \n",
       "exp4:ind212 -0.3640899  0.1386132  -2.627 0.008669 ** \n",
       "exp4:ind213 -0.3836270  0.1434293  -2.675 0.007523 ** \n",
       "exp4:ind214 -0.2725083  0.1376981  -1.979 0.047909 *  \n",
       "exp4:ind215 -0.2549218  0.1891411  -1.348 0.177835    \n",
       "exp4:ind216 -0.2662393  0.1425528  -1.868 0.061913 .  \n",
       "exp4:ind217 -0.3434539  0.1408491  -2.438 0.014811 *  \n",
       "exp4:ind218 -0.3168784  0.1401819  -2.260 0.023867 *  \n",
       "exp4:ind219 -0.2815085  0.1433510  -1.964 0.049654 *  \n",
       "exp4:ind220 -0.3038212  0.1397946  -2.173 0.029837 *  \n",
       "exp4:ind221 -0.3142711  0.1414218  -2.222 0.026347 *  \n",
       "exp4:ind222 -0.3061402  0.1396051  -2.193 0.028395 *  \n",
       "exp4:mw      0.0142872  0.0258136   0.553 0.579980    \n",
       "exp4:so     -0.0037591  0.0225465  -0.167 0.867598    \n",
       "exp4:we      0.0282864  0.0238123   1.188 0.234976    \n",
       "---\n",
       "Signif. codes:  0 '***' 0.001 '**' 0.01 '*' 0.05 '.' 0.1 ' ' 1\n",
       "\n",
       "Residual standard error: 0.4635 on 2838 degrees of freedom\n",
       "Multiple R-squared:  0.3295,\tAdjusted R-squared:  0.2754 \n",
       "F-statistic: 6.091 on 229 and 2838 DF,  p-value: < 2.2e-16\n"
      ]
     },
     "metadata": {},
     "output_type": "display_data"
    },
    {
     "name": "stdout",
     "output_type": "stream",
     "text": [
      "Coefficient for OLS with controls -0.05306234"
     ]
    }
   ],
   "source": [
    "# Ols regression with controls\n",
    "\n",
    "flex <- lwage ~ sex + (exp1+exp2+exp3+exp4)*(clg+occ2+ind2+mw+so+we)\n",
    "\n",
    "#   Note that ()*() operation in formula objects in R creates a formula of the sort:\n",
    "#  (exp1+exp2+exp3+exp4)+ (shs+hsg+scl+clg+occ2+ind2+mw+so+we) +  (exp1+exp2+exp3+exp4)*(shs+hsg+scl+clg+occ2+ind2+mw+so+we)\n",
    "#  This is not intuitive at all, but that's what it does.\n",
    "\n",
    "control.fit <- lm(flex, data=z_clg)\n",
    "control.est <- summary(control.fit)$coef[2,1]\n",
    "\n",
    "summary(control.fit)\n",
    "\n",
    "cat(\"Coefficient for OLS with controls\", control.est)\n",
    "\n",
    "HCV.coefs <- vcovHC(control.fit, type = 'HC');\n",
    "control.se <- sqrt(diag(HCV.coefs))[2] # Estimated std errors"
   ]
  },
  {
   "cell_type": "markdown",
   "metadata": {
    "papermill": {
     "duration": 0.040523,
     "end_time": "2021-02-21T17:17:49.873210",
     "exception": false,
     "start_time": "2021-02-21T17:17:49.832687",
     "status": "completed"
    },
    "tags": []
   },
   "source": [
    "The estimated regression coefficient $\\beta_1\\approx-0.05306234$ measures how our linear prediction of wage changes if we set the gender variable $D$ from 0 to 1, holding the controls $W$ fixed.\n",
    "We can call this the *predictive effect* (PE), as it measures the impact of a variable on the prediction we make. Overall, we see that the unconditional wage gap of size $4$\\% for women increases to about $7$\\% after controlling for worker characteristics.  \n"
   ]
  },
  {
   "cell_type": "markdown",
   "metadata": {
    "papermill": {
     "duration": 0.023222,
     "end_time": "2021-02-21T17:17:49.931749",
     "exception": false,
     "start_time": "2021-02-21T17:17:49.908527",
     "status": "completed"
    },
    "tags": []
   },
   "source": [
    "Next, we are using the Frisch-Waugh-Lovell theorem from the lecture partialling-out the linear effect of the controls via ols."
   ]
  },
  {
   "cell_type": "markdown",
   "metadata": {},
   "source": [
    "# Partialling-Out using ols"
   ]
  },
  {
   "cell_type": "code",
   "execution_count": 9,
   "metadata": {
    "execution": {
     "iopub.execute_input": "2021-02-21T17:17:49.985297Z",
     "iopub.status.busy": "2021-02-21T17:17:49.983529Z",
     "iopub.status.idle": "2021-02-21T17:17:50.409345Z",
     "shell.execute_reply": "2021-02-21T17:17:50.407916Z"
    },
    "papermill": {
     "duration": 0.454504,
     "end_time": "2021-02-21T17:17:50.409522",
     "exception": false,
     "start_time": "2021-02-21T17:17:49.955018",
     "status": "completed"
    },
    "tags": []
   },
   "outputs": [
    {
     "name": "stdout",
     "output_type": "stream",
     "text": [
      "Coefficient for D via partialling-out -0.05306234"
     ]
    },
    {
     "data": {
      "text/html": [
       "<style>\n",
       ".dl-inline {width: auto; margin:0; padding: 0}\n",
       ".dl-inline>dt, .dl-inline>dd {float: none; width: auto; display: inline-block}\n",
       ".dl-inline>dt::after {content: \":\\0020\"; padding-right: .5ex}\n",
       ".dl-inline>dt:not(:first-of-type) {padding-left: .5ex}\n",
       "</style><dl class=dl-inline><dt>2.5 %</dt><dd>-0.0895706989969278</dd><dt>97.5 %</dt><dd>-0.0165539817185753</dd></dl>\n"
      ],
      "text/latex": [
       "\\begin{description*}\n",
       "\\item[2.5 \\textbackslash{}\\%] -0.0895706989969278\n",
       "\\item[97.5 \\textbackslash{}\\%] -0.0165539817185753\n",
       "\\end{description*}\n"
      ],
      "text/markdown": [
       "2.5 %\n",
       ":   -0.089570698996927897.5 %\n",
       ":   -0.0165539817185753\n",
       "\n"
      ],
      "text/plain": [
       "      2.5 %      97.5 % \n",
       "-0.08957070 -0.01655398 "
      ]
     },
     "metadata": {},
     "output_type": "display_data"
    }
   ],
   "source": [
    "# models\n",
    "flex.y <- lwage ~  (exp1+exp2+exp3+exp4)*(clg+occ2+ind2+mw+so+we) # model for Y\n",
    "flex.d <- sex ~ (exp1+exp2+exp3+exp4)*(clg+occ2+ind2+mw+so+we) # model for D\n",
    "\n",
    "# partialling-out the linear effect of W from Y\n",
    "t.Y <- lm(flex.y, data=z_clg)$res\n",
    "# partialling-out the linear effect of W from D\n",
    "t.D <- lm(flex.d, data=z_clg)$res\n",
    "\n",
    "# regression of Y on D after partialling-out the effect of W\n",
    "partial.fit <- lm(t.Y~t.D)\n",
    "partial.est <- summary(partial.fit)$coef[2,1]\n",
    "\n",
    "cat(\"Coefficient for D via partialling-out\", partial.est)\n",
    "\n",
    "# standard error\n",
    "HCV.coefs <- vcovHC(partial.fit, type = 'HC')\n",
    "partial.se <- sqrt(diag(HCV.coefs))[2]\n",
    "\n",
    "# confidence interval\n",
    "confint(partial.fit)[2,]"
   ]
  },
  {
   "cell_type": "markdown",
   "metadata": {
    "papermill": {
     "duration": 0.023907,
     "end_time": "2021-02-21T17:17:50.458203",
     "exception": false,
     "start_time": "2021-02-21T17:17:50.434296",
     "status": "completed"
    },
    "tags": []
   },
   "source": [
    "Again, the estimated coefficient measures the linear predictive effect (PE) of $D$ on $Y$ after taking out the linear effect of $W$ on both of these variables. This coefficient equals the estimated coefficient from the ols regression with controls."
   ]
  },
  {
   "cell_type": "markdown",
   "metadata": {
    "papermill": {
     "duration": 0.024507,
     "end_time": "2021-02-21T17:17:50.507023",
     "exception": false,
     "start_time": "2021-02-21T17:17:50.482516",
     "status": "completed"
    },
    "tags": []
   },
   "source": [
    "We know that the partialling-out approach works well when the dimension of $W$ is low\n",
    "in relation to the sample size $n$. When the dimension of $W$ is relatively high, we need to use variable selection\n",
    "or penalization for regularization purposes. "
   ]
  },
  {
   "cell_type": "markdown",
   "metadata": {},
   "source": [
    "# Graph: Experience profile and log-wage"
   ]
  },
  {
   "cell_type": "markdown",
   "metadata": {},
   "source": [
    "The task is to replicate the Figure 11.10 from Lemieux (2006) considering that \"you will have only two plotted lines for this college-educated workers\". It means we have to plot using the subset of the original data.\n",
    "\n",
    "A first way is to collapse the data to plot the mean of log-wages for each year of experience. To do so, we first estimate the logwage by a quafratic and quartic expressions, and then we clean the data to plot."
   ]
  },
  {
   "cell_type": "markdown",
   "metadata": {},
   "source": [
    "First step: Estimation for quadratic and quartic approaches"
   ]
  },
  {
   "cell_type": "code",
   "execution_count": 10,
   "metadata": {},
   "outputs": [],
   "source": [
    "quartic   <- lwage ~  exp1+exp2+exp3+exp4\n",
    "quadratic <- lwage ~  exp1+exp2\n",
    "\n",
    "# quartic\n",
    "quartic_pred <- predict(lm(quartic, data=z_clg))\n",
    "\n",
    "# quadratic\n",
    "quadratic_pred <- predict(lm(quadratic, data=z_clg))\n",
    "\n",
    "# adding predictions\n",
    "z_clg <- z_clg %>% mutate(lwage_quartic = quartic_pred)\n",
    "z_clg <- z_clg %>% mutate(lwage_quadratic = quadratic_pred)"
   ]
  },
  {
   "cell_type": "markdown",
   "metadata": {},
   "source": [
    "Second step: cleaning the data"
   ]
  },
  {
   "cell_type": "code",
   "execution_count": 11,
   "metadata": {},
   "outputs": [
    {
     "data": {
      "text/html": [
       "<style>\n",
       ".list-inline {list-style: none; margin:0; padding: 0}\n",
       ".list-inline>li {display: inline-block}\n",
       ".list-inline>li:not(:last-child)::after {content: \"\\00b7\"; padding: 0 .5ex}\n",
       "</style>\n",
       "<ol class=list-inline><li>'exp1'</li><li>'clg'</li><li>'lwage'</li><li>'lwage_quartic'</li><li>'lwage_quadratic'</li></ol>\n"
      ],
      "text/latex": [
       "\\begin{enumerate*}\n",
       "\\item 'exp1'\n",
       "\\item 'clg'\n",
       "\\item 'lwage'\n",
       "\\item 'lwage\\_quartic'\n",
       "\\item 'lwage\\_quadratic'\n",
       "\\end{enumerate*}\n"
      ],
      "text/markdown": [
       "1. 'exp1'\n",
       "2. 'clg'\n",
       "3. 'lwage'\n",
       "4. 'lwage_quartic'\n",
       "5. 'lwage_quadratic'\n",
       "\n",
       "\n"
      ],
      "text/plain": [
       "[1] \"exp1\"            \"clg\"             \"lwage\"           \"lwage_quartic\"  \n",
       "[5] \"lwage_quadratic\""
      ]
     },
     "metadata": {},
     "output_type": "display_data"
    }
   ],
   "source": [
    "# cleaning data to plot\n",
    "graph_2 <- z_clg %>% group_by(exp1, clg) %>% \n",
    "  summarise_at(vars(lwage, lwage_quartic, lwage_quadratic), mean)\n",
    "names(graph_2)"
   ]
  },
  {
   "cell_type": "markdown",
   "metadata": {},
   "source": [
    "All done, we can plot."
   ]
  },
  {
   "cell_type": "code",
   "execution_count": 12,
   "metadata": {
    "scrolled": true
   },
   "outputs": [
    {
     "data": {
      "image/png": "[encoded data removed]",
      "text/plain": [
       "plot without title"
      ]
     },
     "metadata": {
      "image/png": {
       "height": 420,
       "width": 420
      }
     },
     "output_type": "display_data"
    }
   ],
   "source": [
    "# graph exp vs log-wage\n",
    "ggplot(graph_2) + geom_line(aes(x=exp1, y=lwage, colour=\"black\")) + \n",
    "  geom_line(aes(x=exp1, y=lwage_quadratic, colour=\"darkblue\"), size=0.5) +\n",
    "  geom_line(aes(x=exp1, y=lwage_quartic, colour=\"darkred\"), size=0.5) +\n",
    "labs(x = \"years of potential experience\", \n",
    "     y = \"Log-wage\", \n",
    "     size = \"Population\", \n",
    "     title = \"Experience profiles and log-wage for college-educated workers\") +\n",
    "theme(legend.key.height = unit(1, 'cm')) +\n",
    "scale_color_identity(name = \"Legend\", labels = c(\"Actual\",\"Quadratic fit\", \"Quartic fit\"),\n",
    "                     guide = \"legend\")"
   ]
  },
  {
   "cell_type": "markdown",
   "metadata": {},
   "source": [
    "As we can see, the graph shows a better fit with a quartic prediction. Howevere, the graph shows too much noise. We can use another technique to collapse the data."
   ]
  },
  {
   "cell_type": "markdown",
   "metadata": {},
   "source": [
    "Additionally, we can make a better graph by using [bins](https://michaelstepner.com/binscatter/binscatter-StataConference2014.pdf) instead of collapsing the data. We can do so by using <code>stat_summary_bin</code>."
   ]
  },
  {
   "cell_type": "code",
   "execution_count": 13,
   "metadata": {},
   "outputs": [
    {
     "data": {
      "image/png": "[encoded data removed]",
      "text/plain": [
       "plot without title"
      ]
     },
     "metadata": {
      "image/png": {
       "height": 420,
       "width": 420
      }
     },
     "output_type": "display_data"
    }
   ],
   "source": [
    "ggplot(NULL,aes(exp1,lwage)) +\n",
    "stat_summary_bin(data=z_clg, fun='mean', bins=20, color='black', size=0.5, geom='line') +\n",
    "geom_line(data=z_clg, aes(x=exp1, y=lwage_quadratic, colour=\"darkblue\")) + \n",
    "geom_line(data=z_clg, aes(x=exp1, y=lwage_quartic, colour=\"red\")) +\n",
    "labs(x = \"years of potential experience\", \n",
    "     y = \"Log-wage\", \n",
    "     title = \"Experience profiles and log-wage for college-educated workers\") +\n",
    "theme(legend.key.height = unit(1, 'cm')) +\n",
    "scale_color_identity(name = \"Legend\", labels = c(\"Quadratic fit\", \"Quartic fit\"),\n",
    "                     guide = \"legend\")"
   ]
  },
  {
   "cell_type": "markdown",
   "metadata": {},
   "source": [
    "Now it is clear that the relation between experiencie and log-wage fits better to the quartic prediction."
   ]
  },
  {
   "cell_type": "markdown",
   "metadata": {},
   "source": [
    "### Additional exercise\n",
    "Addtionally, we can replicate the Figure 11.10 from Lemieux (2006) using the subset data (called *z_clg*). As the Figure 11.10 from Lemieux (2006), we must distinguish the lines between the ones who finished the college (<code>clg==1</code>) and those who didn't (<code>scl==0</code>)."
   ]
  },
  {
   "cell_type": "code",
   "execution_count": 14,
   "metadata": {},
   "outputs": [
    {
     "name": "stdout",
     "output_type": "stream",
     "text": [
      "clg = 1636 22 \n",
      "smclg = 1432 22 \n",
      "Mean of predicted log-wage for college is  3.13367 \n",
      "Mean of predicted log-wage for some college is  2.847335"
     ]
    }
   ],
   "source": [
    "quartic   <- lwage ~ exp1+exp2+exp3+exp4\n",
    "quadratic <- lwage ~ exp1+exp2\n",
    "\n",
    "# data for the ones who finished college (clg==1)\n",
    "data_clg <- z_clg %>% filter(clg==1)\n",
    "cat(\"clg =\", dim(data_clg), \"\\n\")\n",
    "\n",
    "# data for those who didn't finish college (scl==1)\n",
    "data_smclg <- z_clg %>% filter(scl==1)\n",
    "cat(\"smclg =\", dim(data_smclg), \"\\n\")\n",
    "\n",
    "# quartic\n",
    "quartic_pred_clg <- predict(lm(quartic, data=data_clg))\n",
    "quartic_pred_smclg <- predict(lm(quartic, data=data_smclg))\n",
    "\n",
    "# quadratic\n",
    "quadratic_pred_clg <- predict(lm(quadratic, data=data_clg))\n",
    "quadratic_pred_smclg <- predict(lm(quadratic, data=data_smclg))\n",
    "\n",
    "\n",
    "# adding predictions\n",
    "data_clg <- data_clg %>% mutate(lwage_quartic = quartic_pred_clg,\n",
    "                                lwage_quadratic = quadratic_pred_clg)\n",
    "\n",
    "data_smclg <- data_smclg %>% mutate(lwage_quartic = quartic_pred_smclg,\n",
    "                                      lwage_quadratic = quadratic_pred_smclg)\n",
    "\n",
    "cat(\"Mean of predicted log-wage for college is \", mean(data_clg$lwage_quartic), \"\\n\")\n",
    "cat(\"Mean of predicted log-wage for some college is \", mean(data_smclg$lwage_quartic))"
   ]
  },
  {
   "cell_type": "markdown",
   "metadata": {},
   "source": [
    "It is important to note that the estimates of the quadratic approach reveals coefficients similar to a linear regression since the squared experience is not close to zero. It means that the quadratic prediction must be a curve."
   ]
  },
  {
   "cell_type": "code",
   "execution_count": 15,
   "metadata": {},
   "outputs": [
    {
     "name": "stdout",
     "output_type": "stream",
     "text": [
      "For college workers, the coefficient of the squared experience is: -0.05572554 \n",
      "For some-college workers, the coefficient of the squared experience is: -0.04378015 \n"
     ]
    }
   ],
   "source": [
    "# revising estimates\n",
    "quadratic_reg_clg <- lm(quadratic, data=data_clg)\n",
    "#summary(quadratic_reg_clg)\n",
    "square_exp_clg <- summary(quadratic_reg_clg)$coef[3,1]\n",
    "cat(\"For college workers, the coefficient of the squared experience is:\", square_exp_clg, '\\n')\n",
    "\n",
    "quadratic_reg_nonclg <- lm(quadratic, data=data_smclg)\n",
    "#summary(quadratic_reg_nonclg)\n",
    "square_exp_nonclg <- summary(quadratic_reg_nonclg)$coef[3,1]\n",
    "cat(\"For some-college workers, the coefficient of the squared experience is:\", square_exp_nonclg, '\\n')"
   ]
  },
  {
   "cell_type": "markdown",
   "metadata": {},
   "source": [
    "The second step is to clean the data to make the plot"
   ]
  },
  {
   "cell_type": "code",
   "execution_count": 16,
   "metadata": {},
   "outputs": [],
   "source": [
    "data_clg_gr <- data_clg %>% group_by(exp1) %>%  # college\n",
    "  summarise_at(vars(lwage, lwage_quartic, lwage_quadratic), mean)\n",
    "\n",
    "data_smclg_gr <- data_smclg %>% group_by(exp1) %>% \n",
    "  summarise_at(vars(lwage, lwage_quartic, lwage_quadratic), mean)"
   ]
  },
  {
   "cell_type": "code",
   "execution_count": 17,
   "metadata": {
    "scrolled": true
   },
   "outputs": [
    {
     "data": {
      "image/png": "[encoded data removed]",
      "text/plain": [
       "plot without title"
      ]
     },
     "metadata": {
      "image/png": {
       "height": 420,
       "width": 420
      }
     },
     "output_type": "display_data"
    }
   ],
   "source": [
    "# graph exp vs log-wage (extra exercise)\n",
    "ggplot()+\n",
    "# college\n",
    "geom_line(data=data_clg_gr, aes(x=exp1, y=lwage, colour=\"red\"), size=0.5) + \n",
    "geom_line(data=data_clg_gr, aes(x=exp1, y=lwage_quadratic, colour=\"blue\"), size=0.5) +\n",
    "geom_line(data=data_clg_gr, aes(x=exp1, y=lwage_quartic, colour=\"green\"), size=0.5) + \n",
    "\n",
    "# no college\n",
    "geom_line(data=data_smclg_gr, aes(x=exp1, y=lwage, colour=\"darkred\"), size=0.5) + \n",
    "geom_line(data=data_smclg_gr, aes(x=exp1, y=lwage_quadratic, colour=\"darkblue\"), size=0.5) +\n",
    "geom_line(data=data_smclg_gr, aes(x=exp1, y=lwage_quartic, colour=\"darkgreen\"), size=0.5) +\n",
    "\n",
    "labs(x = \"years of potential experience\", \n",
    "     y = \"Log-wage\", \n",
    "     size = \"Population\", \n",
    "     title = \"Experience profiles and log-wage for college and some college workers\") +\n",
    "theme(legend.key.height = unit(1, 'cm')) +\n",
    "scale_color_identity(name = \"Legend\", labels = c(\"College - Quadratic fit\",\n",
    "                                                 \"Some college - Quadratic fit\",\n",
    "                                                 \"Some college - Quartic fit\",\n",
    "                                                 \"Some college - Actual\",\n",
    "                                                 \"College - Quartic fit\",\n",
    "                                                 \"College - Actual\"),\n",
    "                     guide = \"legend\")\n"
   ]
  },
  {
   "cell_type": "markdown",
   "metadata": {},
   "source": [
    "From the graph, we can see that fit between log-wage and experience is better when using a quartic regression fot both groups (college and some college)."
   ]
  },
  {
   "cell_type": "markdown",
   "metadata": {},
   "source": [
    "Similarly to what we did previously, we can plot using [bins](https://michaelstepner.com/binscatter/binscatter-StataConference2014.pdf). This technique will make our plots smoother."
   ]
  },
  {
   "cell_type": "code",
   "execution_count": 19,
   "metadata": {},
   "outputs": [
    {
     "data": {
      "image/png": "[encoded data removed]",
      "text/plain": [
       "plot without title"
      ]
     },
     "metadata": {
      "image/png": {
       "height": 420,
       "width": 420
      }
     },
     "output_type": "display_data"
    }
   ],
   "source": [
    "ggplot() +\n",
    "# college\n",
    "stat_summary_bin(data=data_clg_gr, aes(x=exp1,y=lwage), fun='mean', bins=20, color='red', \n",
    "                 size=0.5, geom='line', linetype=\"dashed\") +\n",
    "geom_line(data=data_clg_gr, aes(x=exp1, y=lwage_quadratic, colour=\"blue\")) + \n",
    "geom_line(data=data_clg_gr, aes(x=exp1, y=lwage_quartic, colour=\"green\")) +\n",
    "labs(x = \"years of potential experience\", \n",
    "     y = \"Log-wage\", \n",
    "     title = \"Experience profiles and log-wage for college and some college workers\") +\n",
    "\n",
    "# some college\n",
    "stat_summary_bin(data=data_smclg_gr, aes(x=exp1,y=lwage), fun='mean', bins=20, color='darkred', \n",
    "                 size=0.5, geom='line', linetype=\"dashed\") +\n",
    "geom_line(data=data_smclg_gr, aes(x=exp1, y=lwage_quadratic, colour=\"darkblue\")) + \n",
    "geom_line(data=data_smclg_gr, aes(x=exp1, y=lwage_quartic, colour=\"darkgreen\")) +\n",
    "\n",
    "theme(legend.key.height = unit(1, 'cm')) +\n",
    "scale_color_identity(name = \"Legend\", labels = c(\"College - Quadratic fit\",\n",
    "                                                 \"Some college - Quadratic fit\",\n",
    "                                                 \"Some college - Quartic fit\",\n",
    "                                                 \"College - Quartic fit\"),\n",
    "                     guide = \"legend\")"
   ]
  },
  {
   "cell_type": "markdown",
   "metadata": {},
   "source": [
    "The bins show a smoother plot. Once again, it is clear to see that fit between log-wage and experience is better when using a quartic regression fot both groups (college and some college)."
   ]
  }
 ],
 "metadata": {
  "kernelspec": {
   "display_name": "R",
   "language": "R",
   "name": "ir"
  },
  "language_info": {
   "codemirror_mode": "r",
   "file_extension": ".r",
   "mimetype": "text/x-r-source",
   "name": "R",
   "pygments_lexer": "r",
   "version": "4.0.4"
  },
  "papermill": {
   "default_parameters": {},
   "duration": 53.035585,
   "end_time": "2021-02-21T17:18:37.837719",
   "environment_variables": {},
   "exception": null,
   "input_path": "__notebook__.ipynb",
   "output_path": "__notebook__.ipynb",
   "parameters": {},
   "start_time": "2021-02-21T17:17:44.802134",
   "version": "2.2.2"
  }
 },
 "nbformat": 4,
 "nbformat_minor": 4
}
