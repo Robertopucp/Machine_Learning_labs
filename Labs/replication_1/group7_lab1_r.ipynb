{
 "cells": [
  {
   "cell_type": "markdown",
   "id": "c3051e95",
   "metadata": {},
   "source": [
    "# GROUP PROJECT 1 - R"
   ]
  },
  {
   "cell_type": "markdown",
   "id": "12776110",
   "metadata": {},
   "source": [
    "***\n",
    "## FWL Theorem proof\n",
    "\n",
    "The FWL Theorem demostrates one property of the OLS regression method.\n",
    "Suppose that for a given $Y$ dependent variable we have an explanatory variable $D$\n",
    "and another subset of $k$ explanatory variables grouped in $X$. \n",
    "We will focus just in the  first subset of explanatory variables and we'll take the second subset as \n",
    "auxiliary variables. \n",
    "\n",
    "$$\n",
    "\\begin{align}\n",
    "\\ Y &= D \\beta_{D}    + X  \\beta_{X}  + \\epsilon \\\\\n",
    "\\end{align}\n",
    "$$\n",
    "\n",
    "If we then regress  (1) via OLS we would obtain \n",
    "\n",
    "$$\n",
    "\\begin{align}\n",
    "\\ \\hat{Y} &= D \\hat{\\beta_{D}}    + X  \\hat{\\beta_{X}}  + \\hat{\\epsilon}\n",
    "\\end{align}\n",
    "$$\n",
    "\n",
    "Then consider the following regression equations and the corresponding regression  estimates.\n",
    "\n",
    "$$\n",
    "\\begin{align}\n",
    "\\ Y &= X \\beta_{xy}   + \\epsilon_{xy} \\\\\n",
    "\\ \\tilde{Y} &=  X \\hat{\\beta_{xy}}   + \\hat{\\epsilon_{xy}} \\\\\n",
    "\\ D &= X \\beta_{xd}   + \\epsilon_{xd} \\\\\n",
    "\\ \\tilde{D} &= X \\hat{\\beta_{xd}}   + \\hat{\\epsilon_{xd}} \\\\\n",
    "\\ \\epsilon_{xy} =  \\epsilon_{xd} \\delta + u_i \\\\\n",
    "\\ \\hat{\\epsilon_{xy}} = \\hat{\\epsilon_{xd}} \\hat{\\delta} + \\hat{u_i} \\\\\n",
    "\\end{align}\n",
    "$$\n",
    "\n",
    "\n",
    "The FWL Theorem states that for a given population, the parameter $\\beta_1$ obtained in (1) is the same parameter as the $\\delta$ in (7).\n",
    " Consequently,\n",
    "the estimators $\\hat{\\beta_{1}}$ and $\\hat{\\delta}$ will converge to the same value.\n",
    "\n",
    "\n",
    "We can proof this by the following steps. \n",
    "***\n",
    "#### Proof\n",
    "\n",
    "\n",
    "Replacing regressions (3) and (5) on (1) we obtain\n",
    "\n",
    "$$\n",
    "\\begin{align}\n",
    "\\ \\epsilon_{xy} = (X \\beta_{xd}   + \\epsilon_{xd}) \\beta_{D}    + X  (\\beta_{X} - \\beta_{xy})  + \\epsilon  \n",
    "\\end{align}\n",
    "$$\n",
    "\n",
    "Where the property of the OLS method states that $error$ isn't correlated with the explanatory variables \n",
    "\n",
    "\n",
    "$$\n",
    "\\begin{align}\n",
    "\\  corr(\\epsilon_{xy}, X) = 0  {\\space} ; corr(\\epsilon , X) = 0  \n",
    "\\end{align}\n",
    " $$\n",
    "\n",
    "Consequently, there's a second property that arises\n",
    ". This property stands that if some explanatory variable is not correlated with the dependent variable the coefficient of the explanatory variable will be 0. \n",
    "\n",
    "\n",
    "Then (9) can be expressed as.\n",
    "\n",
    "$$\n",
    "\\begin{align}\n",
    "\\ \\epsilon_{xy} = \\epsilon_{xd} \\beta_{D}    + \\epsilon  \n",
    "\\end{align}\n",
    "$$\n",
    "\n",
    "We note that the expression (10) is the same as (7). Therefore  $\\beta_{D}$ = $\\delta$ and $ \\epsilon $ = $u_i$.\n",
    "\n",
    "***\n",
    "\n",
    "#### References\n",
    "<a id=\"1\">[1]</a> \n",
    "Lovell, M. (2007). \n",
    "A Simple Proof of the FWL (Frisch-Waugh-Lovell) Theorem \n",
    "Wesleyan University\n",
    "\n",
    "\n",
    "\n"
   ]
  },
  {
   "cell_type": "markdown",
   "id": "e6fc4e33",
   "metadata": {},
   "source": [
    "## Import data"
   ]
  },
  {
   "cell_type": "code",
   "execution_count": 14,
   "id": "5897d36d",
   "metadata": {},
   "outputs": [
    {
     "data": {
      "text/html": [
       "<ol class=list-inline>\n",
       "\t<li>5150</li>\n",
       "\t<li>20</li>\n",
       "</ol>\n"
      ],
      "text/latex": [
       "\\begin{enumerate*}\n",
       "\\item 5150\n",
       "\\item 20\n",
       "\\end{enumerate*}\n"
      ],
      "text/markdown": [
       "1. 5150\n",
       "2. 20\n",
       "\n",
       "\n"
      ],
      "text/plain": [
       "[1] 5150   20"
      ]
     },
     "metadata": {},
     "output_type": "display_data"
    }
   ],
   "source": [
    "load(\"C:/Users/usuario/Documents/GitHub/Grupo-7---Estadistica-Aplicada/data/wage2015_subsample_inference.Rdata\")\n",
    "attach(data)\n",
    "\n",
    "dim(data)"
   ]
  },
  {
   "cell_type": "markdown",
   "id": "6fb607b6",
   "metadata": {},
   "source": [
    "## Data analysis"
   ]
  },
  {
   "cell_type": "markdown",
   "id": "33d392e4",
   "metadata": {},
   "source": [
    "For this project, we select the cases of the subset of college-educated workers, including those who have some college education or are college graduates (scl, clg variables respectively)."
   ]
  },
  {
   "cell_type": "code",
   "execution_count": 15,
   "id": "5f44459e",
   "metadata": {},
   "outputs": [
    {
     "name": "stderr",
     "output_type": "stream",
     "text": [
      "\n",
      "Attaching package: 'dplyr'\n",
      "\n",
      "The following objects are masked from 'package:stats':\n",
      "\n",
      "    filter, lag\n",
      "\n",
      "The following objects are masked from 'package:base':\n",
      "\n",
      "    intersect, setdiff, setequal, union\n",
      "\n"
     ]
    },
    {
     "data": {
      "text/html": [
       "<table>\n",
       "<thead><tr><th></th><th scope=col>All</th><th scope=col>SomeCollege</th><th scope=col>Graduate</th></tr></thead>\n",
       "<tbody>\n",
       "\t<tr><th scope=row>Log Wage</th><td> 2.97078670</td><td> 2.8473351 </td><td> 3.1336703 </td></tr>\n",
       "\t<tr><th scope=row>Sex</th><td> 0.44446602</td><td> 0.4539106 </td><td> 0.4859413 </td></tr>\n",
       "\t<tr><th scope=row>Less then High School</th><td> 0.02330097</td><td> 0.0000000 </td><td> 0.0000000 </td></tr>\n",
       "\t<tr><th scope=row>High School Graduate</th><td> 0.24388350</td><td> 0.0000000 </td><td> 0.0000000 </td></tr>\n",
       "\t<tr><th scope=row>Some College</th><td> 0.27805825</td><td> 1.0000000 </td><td> 0.0000000 </td></tr>\n",
       "\t<tr><th scope=row>Gollage Graduate</th><td> 0.31766990</td><td> 0.0000000 </td><td> 1.0000000 </td></tr>\n",
       "\t<tr><th scope=row>Advanced Degree</th><td> 0.13708738</td><td> 0.0000000 </td><td> 0.0000000 </td></tr>\n",
       "\t<tr><th scope=row>Northeast</th><td> 0.25961165</td><td> 0.3058659 </td><td> 0.2310513 </td></tr>\n",
       "\t<tr><th scope=row>Midwest</th><td> 0.29650485</td><td> 0.2821229 </td><td> 0.2891198 </td></tr>\n",
       "\t<tr><th scope=row>South</th><td> 0.21611650</td><td> 0.2255587 </td><td> 0.2182152 </td></tr>\n",
       "\t<tr><th scope=row>West</th><td> 0.22776699</td><td> 0.1864525 </td><td> 0.2616137 </td></tr>\n",
       "\t<tr><th scope=row>Experience</th><td>13.76058252</td><td>14.6826117 </td><td>10.9663814 </td></tr>\n",
       "</tbody>\n",
       "</table>\n"
      ],
      "text/latex": [
       "\\begin{tabular}{r|lll}\n",
       "  & All & SomeCollege & Graduate\\\\\n",
       "\\hline\n",
       "\tLog Wage &  2.97078670 &  2.8473351  &  3.1336703 \\\\\n",
       "\tSex &  0.44446602 &  0.4539106  &  0.4859413 \\\\\n",
       "\tLess then High School &  0.02330097 &  0.0000000  &  0.0000000 \\\\\n",
       "\tHigh School Graduate &  0.24388350 &  0.0000000  &  0.0000000 \\\\\n",
       "\tSome College &  0.27805825 &  1.0000000  &  0.0000000 \\\\\n",
       "\tGollage Graduate &  0.31766990 &  0.0000000  &  1.0000000 \\\\\n",
       "\tAdvanced Degree &  0.13708738 &  0.0000000  &  0.0000000 \\\\\n",
       "\tNortheast &  0.25961165 &  0.3058659  &  0.2310513 \\\\\n",
       "\tMidwest &  0.29650485 &  0.2821229  &  0.2891198 \\\\\n",
       "\tSouth &  0.21611650 &  0.2255587  &  0.2182152 \\\\\n",
       "\tWest &  0.22776699 &  0.1864525  &  0.2616137 \\\\\n",
       "\tExperience & 13.76058252 & 14.6826117  & 10.9663814 \\\\\n",
       "\\end{tabular}\n"
      ],
      "text/markdown": [
       "\n",
       "| <!--/--> | All | SomeCollege | Graduate |\n",
       "|---|---|---|---|\n",
       "| Log Wage |  2.97078670 |  2.8473351  |  3.1336703  |\n",
       "| Sex |  0.44446602 |  0.4539106  |  0.4859413  |\n",
       "| Less then High School |  0.02330097 |  0.0000000  |  0.0000000  |\n",
       "| High School Graduate |  0.24388350 |  0.0000000  |  0.0000000  |\n",
       "| Some College |  0.27805825 |  1.0000000  |  0.0000000  |\n",
       "| Gollage Graduate |  0.31766990 |  0.0000000  |  1.0000000  |\n",
       "| Advanced Degree |  0.13708738 |  0.0000000  |  0.0000000  |\n",
       "| Northeast |  0.25961165 |  0.3058659  |  0.2310513  |\n",
       "| Midwest |  0.29650485 |  0.2821229  |  0.2891198  |\n",
       "| South |  0.21611650 |  0.2255587  |  0.2182152  |\n",
       "| West |  0.22776699 |  0.1864525  |  0.2616137  |\n",
       "| Experience | 13.76058252 | 14.6826117  | 10.9663814  |\n",
       "\n"
      ],
      "text/plain": [
       "                      All         SomeCollege Graduate  \n",
       "Log Wage               2.97078670  2.8473351   3.1336703\n",
       "Sex                    0.44446602  0.4539106   0.4859413\n",
       "Less then High School  0.02330097  0.0000000   0.0000000\n",
       "High School Graduate   0.24388350  0.0000000   0.0000000\n",
       "Some College           0.27805825  1.0000000   0.0000000\n",
       "Gollage Graduate       0.31766990  0.0000000   1.0000000\n",
       "Advanced Degree        0.13708738  0.0000000   0.0000000\n",
       "Northeast              0.25961165  0.3058659   0.2310513\n",
       "Midwest                0.29650485  0.2821229   0.2891198\n",
       "South                  0.21611650  0.2255587   0.2182152\n",
       "West                   0.22776699  0.1864525   0.2616137\n",
       "Experience            13.76058252 14.6826117  10.9663814"
      ]
     },
     "metadata": {},
     "output_type": "display_data"
    }
   ],
   "source": [
    "library(xtable)\n",
    "library(dplyr)\n",
    "install.packages(\"ggplot2\")\n",
    "#Filter samples\n",
    "\n",
    "data_z<-filter(data,scl==1 | clg==1)\n",
    "\n",
    "z<- data[which(colnames(data) %in% c(\"lwage\",\"sex\",\"shs\",\"hsg\",\"scl\",\"clg\",\"ad\",\"ne\",\"mw\",\"so\",\"we\",\"exp1\"))]\n",
    "\n",
    "# Comparing the sample means\n",
    "\n",
    "data_scl <- data[data$scl==1,]\n",
    "z_college <- data_scl[which(colnames(data) %in% c(\"lwage\",\"sex\",\"shs\",\"hsg\",\"scl\",\"clg\",\"ad\",\"ne\",\"mw\",\"so\",\"we\",\"exp1\"))]\n",
    "\n",
    "data_clg <- data[data$clg==1,]\n",
    "z_graduate <- data_clg[which(colnames(data) %in% c(\"lwage\",\"sex\",\"shs\",\"hsg\",\"scl\",\"clg\",\"ad\",\"ne\",\"mw\",\"so\",\"we\",\"exp1\"))]   \n",
    "\n",
    "table <- matrix(0, 12, 3)\n",
    "table[1:12,1]   <- as.numeric(lapply(z,mean))\n",
    "table[1:12,2]   <- as.numeric(lapply(z_college,mean))\n",
    "table[1:12,3]   <- as.numeric(lapply(z_graduate,mean))\n",
    "rownames(table) <- c(\"Log Wage\",\"Sex\",\"Less then High School\",\"High School Graduate\",\"Some College\",\"Gollage Graduate\",\"Advanced Degree\", \"Northeast\",\"Midwest\",\"South\",\"West\",\"Experience\")\n",
    "colnames(table) <- c(\"All\",\"SomeCollege\",\"Graduate\")\n",
    "tab<- xtable(table, digits = 4)\n",
    "tab\n",
    "                          "
   ]
  },
  {
   "cell_type": "code",
   "execution_count": 16,
   "id": "b94ddd3c",
   "metadata": {},
   "outputs": [
    {
     "name": "stdout",
     "output_type": "stream",
     "text": [
      "<!-- html table generated in R 3.6.1 by xtable 1.8-4 package -->\n",
      "<!-- Fri Sep 10 16:30:04 2021 -->\n",
      "<table border=1>\n",
      "<tr> <th>  </th> <th> All </th> <th> SomeCollege </th> <th> Graduate </th>  </tr>\n",
      "  <tr> <td align=\"right\"> Log Wage </td> <td align=\"right\"> 2.9708 </td> <td align=\"right\"> 2.8473 </td> <td align=\"right\"> 3.1337 </td> </tr>\n",
      "  <tr> <td align=\"right\"> Sex </td> <td align=\"right\"> 0.4445 </td> <td align=\"right\"> 0.4539 </td> <td align=\"right\"> 0.4859 </td> </tr>\n",
      "  <tr> <td align=\"right\"> Less then High School </td> <td align=\"right\"> 0.0233 </td> <td align=\"right\"> 0.0000 </td> <td align=\"right\"> 0.0000 </td> </tr>\n",
      "  <tr> <td align=\"right\"> High School Graduate </td> <td align=\"right\"> 0.2439 </td> <td align=\"right\"> 0.0000 </td> <td align=\"right\"> 0.0000 </td> </tr>\n",
      "  <tr> <td align=\"right\"> Some College </td> <td align=\"right\"> 0.2781 </td> <td align=\"right\"> 1.0000 </td> <td align=\"right\"> 0.0000 </td> </tr>\n",
      "  <tr> <td align=\"right\"> Gollage Graduate </td> <td align=\"right\"> 0.3177 </td> <td align=\"right\"> 0.0000 </td> <td align=\"right\"> 1.0000 </td> </tr>\n",
      "  <tr> <td align=\"right\"> Advanced Degree </td> <td align=\"right\"> 0.1371 </td> <td align=\"right\"> 0.0000 </td> <td align=\"right\"> 0.0000 </td> </tr>\n",
      "  <tr> <td align=\"right\"> Northeast </td> <td align=\"right\"> 0.2596 </td> <td align=\"right\"> 0.3059 </td> <td align=\"right\"> 0.2311 </td> </tr>\n",
      "  <tr> <td align=\"right\"> Midwest </td> <td align=\"right\"> 0.2965 </td> <td align=\"right\"> 0.2821 </td> <td align=\"right\"> 0.2891 </td> </tr>\n",
      "  <tr> <td align=\"right\"> South </td> <td align=\"right\"> 0.2161 </td> <td align=\"right\"> 0.2256 </td> <td align=\"right\"> 0.2182 </td> </tr>\n",
      "  <tr> <td align=\"right\"> West </td> <td align=\"right\"> 0.2278 </td> <td align=\"right\"> 0.1865 </td> <td align=\"right\"> 0.2616 </td> </tr>\n",
      "  <tr> <td align=\"right\"> Experience </td> <td align=\"right\"> 13.7606 </td> <td align=\"right\"> 14.6826 </td> <td align=\"right\"> 10.9664 </td> </tr>\n",
      "   </table>\n"
     ]
    }
   ],
   "source": [
    "\n",
    "print(tab,type=\"html\")"
   ]
  },
  {
   "cell_type": "code",
   "execution_count": 17,
   "id": "5054e4a8",
   "metadata": {},
   "outputs": [
    {
     "data": {
      "text/html": [
       "-0.286335209944588"
      ],
      "text/latex": [
       "-0.286335209944588"
      ],
      "text/markdown": [
       "-0.286335209944588"
      ],
      "text/plain": [
       "[1] -0.2863352"
      ]
     },
     "metadata": {},
     "output_type": "display_data"
    }
   ],
   "source": [
    "mean(data_scl$lwage)-mean(data_clg$lwage)"
   ]
  },
  {
   "cell_type": "markdown",
   "id": "3e724798",
   "metadata": {},
   "source": [
    "## OLS unconditional model"
   ]
  },
  {
   "cell_type": "markdown",
   "id": "a20af97d",
   "metadata": {},
   "source": [
    "We regress $Y$ on ($X_{clg}$) respecitvely and then we obtain the. estimated $\\beta_{clg}$ which could be interpreted as the wage gap between both college groups. Remember that we are working only with the subset of college-educated workers."
   ]
  },
  {
   "cell_type": "code",
   "execution_count": 18,
   "id": "6db99004",
   "metadata": {},
   "outputs": [
    {
     "name": "stdout",
     "output_type": "stream",
     "text": [
      "\n",
      "  There is a binary version available but the source version is later:\n",
      "         binary source needs_compilation\n",
      "sandwich  3.0-0  3.0-1             FALSE\n",
      "\n"
     ]
    },
    {
     "name": "stderr",
     "output_type": "stream",
     "text": [
      "installing the source package 'sandwich'\n",
      "\n"
     ]
    },
    {
     "name": "stdout",
     "output_type": "stream",
     "text": [
      "The estimated gender coefficient is -0.2863352  and the corresponding robust standard error is 0.01901812"
     ]
    }
   ],
   "source": [
    "install.packages('sandwich')\n",
    "library(sandwich)\n",
    "nocontrol.fit <- lm(lwage ~ scl, data=data_z)\n",
    "nocontrol.est <- summary(nocontrol.fit)$coef[\"scl\",1]\n",
    "HCV.coefs <- vcovHC(nocontrol.fit, type = 'HC');\n",
    "nocontrol.se <- sqrt(diag(HCV.coefs))[2] # Estimated std errors\n",
    "\n",
    "# print unconditional effect of gender and the corresponding standard error\n",
    "cat (\"The estimated gender coefficient is\",nocontrol.est,\" and the corresponding robust standard error is\",nocontrol.se)\n"
   ]
  },
  {
   "cell_type": "markdown",
   "id": "c6c8db0c",
   "metadata": {},
   "source": [
    "# OLS regression with control variables"
   ]
  },
  {
   "cell_type": "markdown",
   "id": "ab8d6822",
   "metadata": {},
   "source": [
    "We run an OLS regression of $Y$ on $(D,W)$ to control for the effect of covariates summarized in $W$:\n",
    "\n",
    "$$\\begin{align}\n",
    "\\log(Y) =\\beta_1 D  + \\beta_2' W + \\epsilon.\n",
    "\\end{align}$$\n",
    "Where $W$ controls for experience, gender, region, and occupation and industry indicators plus transformations and two-way interactions."
   ]
  },
  {
   "cell_type": "code",
   "execution_count": 19,
   "id": "d2c0534c",
   "metadata": {},
   "outputs": [
    {
     "data": {
      "text/plain": [
       "\n",
       "Call:\n",
       "lm(formula = flex, data = data_z)\n",
       "\n",
       "Residuals:\n",
       "    Min      1Q  Median      3Q     Max \n",
       "-1.8762 -0.2769 -0.0071  0.2555  2.8838 \n",
       "\n",
       "Coefficients: (1 not defined because of singularities)\n",
       "              Estimate Std. Error t value Pr(>|t|)    \n",
       "(Intercept)  3.6790742  0.5067140   7.261 4.95e-13 ***\n",
       "scl         -0.2366632  0.0200261 -11.818  < 2e-16 ***\n",
       "exp1        -0.1738842  0.1964717  -0.885 0.376213    \n",
       "exp2         3.9281196  2.3523655   1.670 0.095057 .  \n",
       "exp3        -2.1345919  1.0078071  -2.118 0.034257 *  \n",
       "exp4         0.3282663  0.1371077   2.394 0.016720 *  \n",
       "sex         -0.0313878  0.0812314  -0.386 0.699230    \n",
       "occ22        0.2114485  0.1581209   1.337 0.181245    \n",
       "occ23        0.0518320  0.2111338   0.245 0.806092    \n",
       "occ24        0.0372946  0.2311123   0.161 0.871814    \n",
       "occ25       -0.2803966  0.3954481  -0.709 0.478345    \n",
       "occ26       -0.2087045  0.2703103  -0.772 0.440124    \n",
       "occ27       -0.1273546  0.4192056  -0.304 0.761303    \n",
       "occ28       -0.1902268  0.2716609  -0.700 0.483837    \n",
       "occ29       -0.3913160  0.2049688  -1.909 0.056344 .  \n",
       "occ210       0.0782028  0.2430291   0.322 0.747640    \n",
       "occ211      -0.5159397  0.4353459  -1.185 0.236067    \n",
       "occ212       0.1978228  0.3412776   0.580 0.562194    \n",
       "occ213      -0.2146345  0.2721139  -0.789 0.430314    \n",
       "occ214       0.2960887  0.3819057   0.775 0.438231    \n",
       "occ215      -0.3368360  0.3352241  -1.005 0.315075    \n",
       "occ216      -0.0397287  0.1711491  -0.232 0.816454    \n",
       "occ217      -0.4597119  0.1585779  -2.899 0.003773 ** \n",
       "occ218       0.0393342  2.2171464   0.018 0.985847    \n",
       "occ219      -0.0048097  0.4183676  -0.011 0.990828    \n",
       "occ220      -0.4170333  0.2616601  -1.594 0.111093    \n",
       "occ221      -0.9033243  0.2846932  -3.173 0.001525 ** \n",
       "occ222      -0.0471712  0.4791125  -0.098 0.921578    \n",
       "ind23       -0.9599971  0.7634712  -1.257 0.208708    \n",
       "ind24        0.0536018  0.5587926   0.096 0.923587    \n",
       "ind25       -0.3733852  0.5232646  -0.714 0.475553    \n",
       "ind26       -0.5568445  0.5189869  -1.073 0.283387    \n",
       "ind27       -0.2724336  0.5715215  -0.477 0.633626    \n",
       "ind28       -0.6421405  0.5878949  -1.092 0.274807    \n",
       "ind29       -0.7910802  0.5090174  -1.554 0.120264    \n",
       "ind210      -0.4394831  0.5673176  -0.775 0.438600    \n",
       "ind211      -0.6570683  0.5259930  -1.249 0.211696    \n",
       "ind212      -0.6144369  0.5032728  -1.221 0.222232    \n",
       "ind213      -0.8892879  0.5810043  -1.531 0.125979    \n",
       "ind214      -0.3934508  0.4977462  -0.790 0.429322    \n",
       "ind215      -0.4579940  0.6896077  -0.664 0.506657    \n",
       "ind216      -0.5065931  0.5282205  -0.959 0.337612    \n",
       "ind217      -0.8674564  0.5293131  -1.639 0.101359    \n",
       "ind218      -0.6376163  0.5158501  -1.236 0.216542    \n",
       "ind219      -0.7328993  0.5553927  -1.320 0.187073    \n",
       "ind220      -0.7967454  0.5274520  -1.511 0.131013    \n",
       "ind221      -0.5024832  0.5349219  -0.939 0.347627    \n",
       "ind222      -0.3816508  0.5403719  -0.706 0.480075    \n",
       "mw           0.2041548  0.1068637   1.910 0.056180 .  \n",
       "so          -0.0260378  0.1044446  -0.249 0.803149    \n",
       "we           0.1312936  0.1184233   1.109 0.267662    \n",
       "exp1:sex    -0.0246702  0.0313277  -0.787 0.431063    \n",
       "exp1:occ22  -0.0594871  0.0629654  -0.945 0.344863    \n",
       "exp1:occ23   0.0262416  0.0802842   0.327 0.743799    \n",
       "exp1:occ24   0.0009570  0.0953115   0.010 0.991990    \n",
       "exp1:occ25  -0.0210414  0.2004882  -0.105 0.916422    \n",
       "exp1:occ26  -0.0450053  0.1117072  -0.403 0.687062    \n",
       "exp1:occ27  -0.1026087  0.1602775  -0.640 0.522098    \n",
       "exp1:occ28  -0.0249912  0.1031629  -0.242 0.808604    \n",
       "exp1:occ29   0.0982088  0.0830793   1.182 0.237261    \n",
       "exp1:occ210  0.0090999  0.0932660   0.098 0.922282    \n",
       "exp1:occ211  0.0407940  0.1568838   0.260 0.794862    \n",
       "exp1:occ212 -0.1204421  0.1223080  -0.985 0.324834    \n",
       "exp1:occ213  0.0579686  0.0984623   0.589 0.556083    \n",
       "exp1:occ214 -0.1271556  0.1400193  -0.908 0.363887    \n",
       "exp1:occ215  0.0065121  0.1228572   0.053 0.957731    \n",
       "exp1:occ216 -0.0396122  0.0639349  -0.620 0.535590    \n",
       "exp1:occ217  0.0484845  0.0588410   0.824 0.410013    \n",
       "exp1:occ218 -0.1804534  1.1037487  -0.163 0.870143    \n",
       "exp1:occ219 -0.0696074  0.1436122  -0.485 0.627934    \n",
       "exp1:occ220  0.0789760  0.0915887   0.862 0.388601    \n",
       "exp1:occ221  0.3148047  0.1005388   3.131 0.001759 ** \n",
       "exp1:occ222 -0.1577126  0.1562666  -1.009 0.312939    \n",
       "exp1:ind23   0.4348718  0.3059674   1.421 0.155339    \n",
       "exp1:ind24   0.0325864  0.2078140   0.157 0.875409    \n",
       "exp1:ind25   0.1819594  0.2047412   0.889 0.374224    \n",
       "exp1:ind26   0.2209152  0.2010999   1.099 0.272064    \n",
       "exp1:ind27   0.0947985  0.2232599   0.425 0.671153    \n",
       "exp1:ind28   0.2461459  0.2459631   1.001 0.317036    \n",
       "exp1:ind29   0.1972875  0.1966358   1.003 0.315795    \n",
       "exp1:ind210  0.1696094  0.2170125   0.782 0.434535    \n",
       "exp1:ind211  0.2539543  0.2042672   1.243 0.213880    \n",
       "exp1:ind212  0.3150707  0.1967116   1.602 0.109336    \n",
       "exp1:ind213  0.3730092  0.2175408   1.715 0.086516 .  \n",
       "exp1:ind214  0.1413212  0.1946332   0.726 0.467844    \n",
       "exp1:ind215  0.0961427  0.3309849   0.290 0.771474    \n",
       "exp1:ind216  0.1377876  0.2064092   0.668 0.504478    \n",
       "exp1:ind217  0.2971882  0.2039018   1.458 0.145087    \n",
       "exp1:ind218  0.1937330  0.1998435   0.969 0.332417    \n",
       "exp1:ind219  0.1610864  0.2131714   0.756 0.449912    \n",
       "exp1:ind220  0.1583171  0.2030007   0.780 0.435524    \n",
       "exp1:ind221  0.2101343  0.2057634   1.021 0.307227    \n",
       "exp1:ind222  0.1909677  0.2053470   0.930 0.352463    \n",
       "exp1:mw     -0.0681585  0.0418474  -1.629 0.103479    \n",
       "exp1:so     -0.0001716  0.0397653  -0.004 0.996556    \n",
       "exp1:we     -0.0520150  0.0437151  -1.190 0.234200    \n",
       "exp2:sex     0.3556645  0.3470351   1.025 0.305514    \n",
       "exp2:occ22   0.2465960  0.7036074   0.350 0.726009    \n",
       "exp2:occ23  -0.6309642  0.8959075  -0.704 0.481320    \n",
       "exp2:occ24  -0.1284436  1.0989205  -0.117 0.906962    \n",
       "exp2:occ25   1.3479165  3.0089532   0.448 0.654210    \n",
       "exp2:occ26   0.2754932  1.3677996   0.201 0.840390    \n",
       "exp2:occ27   1.0921183  1.8811782   0.581 0.561590    \n",
       "exp2:occ28  -0.2018936  1.1463024  -0.176 0.860208    \n",
       "exp2:occ29  -1.0030513  0.9474865  -1.059 0.289852    \n",
       "exp2:occ210 -0.4184466  1.0421700  -0.402 0.688071    \n",
       "exp2:occ211 -0.3593890  1.6998031  -0.211 0.832567    \n",
       "exp2:occ212  0.8175071  1.3408259   0.610 0.542107    \n",
       "exp2:occ213 -1.0288724  1.0457502  -0.984 0.325268    \n",
       "exp2:occ214  0.2186797  1.5097729   0.145 0.884845    \n",
       "exp2:occ215 -0.4802917  1.3274027  -0.362 0.717507    \n",
       "exp2:occ216  0.1055494  0.6972361   0.151 0.879685    \n",
       "exp2:occ217 -0.7666201  0.6431412  -1.192 0.233364    \n",
       "exp2:occ218  0.9638193  9.3215202   0.103 0.917655    \n",
       "exp2:occ219  0.7006806  1.4897505   0.470 0.638152    \n",
       "exp2:occ220 -0.8048432  0.9490067  -0.848 0.396459    \n",
       "exp2:occ221 -3.7970552  1.0645062  -3.567 0.000367 ***\n",
       "exp2:occ222  1.6009241  1.5191740   1.054 0.292059    \n",
       "exp2:ind23  -6.4694622  3.7990222  -1.703 0.088691 .  \n",
       "exp2:ind24  -2.5505394  2.4410666  -1.045 0.296183    \n",
       "exp2:ind25  -4.1209450  2.4443405  -1.686 0.091923 .  \n",
       "exp2:ind26  -4.1345503  2.3978454  -1.724 0.084767 .  \n",
       "exp2:ind27  -2.5329146  2.6939191  -0.940 0.347178    \n",
       "exp2:ind28  -3.5206786  3.0691299  -1.147 0.251426    \n",
       "exp2:ind29  -3.7197098  2.3540475  -1.580 0.114188    \n",
       "exp2:ind210 -3.5385895  2.5353195  -1.396 0.162909    \n",
       "exp2:ind211 -4.4576319  2.4415814  -1.826 0.067998 .  \n",
       "exp2:ind212 -5.0654010  2.3678403  -2.139 0.032501 *  \n",
       "exp2:ind213 -5.5599941  2.5293002  -2.198 0.028013 *  \n",
       "exp2:ind214 -3.1214450  2.3463160  -1.330 0.183507    \n",
       "exp2:ind215 -2.5848984  3.7448692  -0.690 0.490093    \n",
       "exp2:ind216 -2.9484026  2.4659256  -1.196 0.231930    \n",
       "exp2:ind217 -4.7598074  2.4288074  -1.960 0.050125 .  \n",
       "exp2:ind218 -3.8347769  2.3924794  -1.603 0.109080    \n",
       "exp2:ind219 -3.1948244  2.5049065  -1.275 0.202263    \n",
       "exp2:ind220 -3.3793916  2.4140142  -1.400 0.161651    \n",
       "exp2:ind221 -4.0026719  2.4424961  -1.639 0.101374    \n",
       "exp2:ind222 -3.7766894  2.4230411  -1.559 0.119189    \n",
       "exp2:mw      0.5721128  0.4699288   1.217 0.223536    \n",
       "exp2:so      0.0404143  0.4342409   0.093 0.925855    \n",
       "exp2:we      0.6365655  0.4687734   1.358 0.174591    \n",
       "exp3:sex    -0.1552478  0.1400455  -1.109 0.267717    \n",
       "exp3:occ22   0.0224407  0.2849205   0.079 0.937228    \n",
       "exp3:occ23   0.3135508  0.3646080   0.860 0.389880    \n",
       "exp3:occ24   0.0691024  0.4499750   0.154 0.877960    \n",
       "exp3:occ25  -1.2007909  1.6242973  -0.739 0.459805    \n",
       "exp3:occ26  -0.0386359  0.6082757  -0.064 0.949359    \n",
       "exp3:occ27  -0.4970734  0.7995518  -0.622 0.534196    \n",
       "exp3:occ28   0.2054313  0.4605274   0.446 0.655575    \n",
       "exp3:occ29   0.3681862  0.3896897   0.945 0.344832    \n",
       "exp3:occ210  0.2794115  0.4264680   0.655 0.512408    \n",
       "exp3:occ211  0.0889553  0.6935866   0.128 0.897957    \n",
       "exp3:occ212 -0.0828006  0.5425909  -0.153 0.878723    \n",
       "exp3:occ213  0.4707214  0.4061229   1.159 0.246529    \n",
       "exp3:occ214  0.1963205  0.5743937   0.342 0.732536    \n",
       "exp3:occ215  0.3429879  0.5345758   0.642 0.521180    \n",
       "exp3:occ216  0.0854619  0.2794276   0.306 0.759744    \n",
       "exp3:occ217  0.3790940  0.2584453   1.467 0.142535    \n",
       "exp3:occ218 -0.1163595  1.8149665  -0.064 0.948886    \n",
       "exp3:occ219 -0.2691550  0.5763481  -0.467 0.640535    \n",
       "exp3:occ220  0.2917742  0.3669108   0.795 0.426553    \n",
       "exp3:occ221  1.5442145  0.4167489   3.705 0.000215 ***\n",
       "exp3:occ222 -0.5517809  0.5591634  -0.987 0.323826    \n",
       "exp3:ind23   3.2072845  1.7557072   1.827 0.067838 .  \n",
       "exp3:ind24   1.6722473  1.0350741   1.616 0.106296    \n",
       "exp3:ind25   2.2333063  1.0428540   2.142 0.032316 *  \n",
       "exp3:ind26   2.1813377  1.0232194   2.132 0.033106 *  \n",
       "exp3:ind27   1.4753934  1.1678309   1.263 0.206563    \n",
       "exp3:ind28   1.4705282  1.3929371   1.056 0.291194    \n",
       "exp3:ind29   1.9585664  1.0091336   1.941 0.052377 .  \n",
       "exp3:ind210  1.9104532  1.0693613   1.787 0.074119 .  \n",
       "exp3:ind211  2.2987080  1.0446809   2.200 0.027859 *  \n",
       "exp3:ind212  2.4771750  1.0169235   2.436 0.014914 *  \n",
       "exp3:ind213  2.6291185  1.0646323   2.470 0.013588 *  \n",
       "exp3:ind214  1.7456001  1.0089479   1.730 0.083718 .  \n",
       "exp3:ind215  1.5677712  1.4808328   1.059 0.289822    \n",
       "exp3:ind216  1.6643575  1.0513131   1.583 0.113505    \n",
       "exp3:ind217  2.3389972  1.0363527   2.257 0.024087 *  \n",
       "exp3:ind218  2.0513415  1.0266846   1.998 0.045809 *  \n",
       "exp3:ind219  1.7476432  1.0603817   1.648 0.099437 .  \n",
       "exp3:ind220  1.8554763  1.0290546   1.803 0.071480 .  \n",
       "exp3:ind221  2.0806706  1.0413674   1.998 0.045810 *  \n",
       "exp3:ind222  2.0092303  1.0303104   1.950 0.051260 .  \n",
       "exp3:mw     -0.1847540  0.1929056  -0.958 0.338274    \n",
       "exp3:so     -0.0175703  0.1733646  -0.101 0.919281    \n",
       "exp3:we     -0.2568572  0.1848717  -1.389 0.164826    \n",
       "exp4:sex     0.0210266  0.0184491   1.140 0.254503    \n",
       "exp4:occ22  -0.0161357  0.0376946  -0.428 0.668638    \n",
       "exp4:occ23  -0.0448515  0.0482741  -0.929 0.352917    \n",
       "exp4:occ24  -0.0133971  0.0594143  -0.225 0.821618    \n",
       "exp4:occ25   0.2715046  0.2824402   0.961 0.336492    \n",
       "exp4:occ26  -0.0030011  0.0873097  -0.034 0.972582    \n",
       "exp4:occ27   0.0726961  0.1086955   0.669 0.503674    \n",
       "exp4:occ28  -0.0374626  0.0600290  -0.624 0.532629    \n",
       "exp4:occ29  -0.0439512  0.0520388  -0.845 0.398414    \n",
       "exp4:occ210 -0.0477919  0.0571705  -0.836 0.403251    \n",
       "exp4:occ211 -0.0048631  0.0932277  -0.052 0.958402    \n",
       "exp4:occ212 -0.0201215  0.0721881  -0.279 0.780466    \n",
       "exp4:occ213 -0.0665800  0.0515103  -1.293 0.196270    \n",
       "exp4:occ214 -0.0489612  0.0706576  -0.693 0.488407    \n",
       "exp4:occ215 -0.0594152  0.0708151  -0.839 0.401529    \n",
       "exp4:occ216 -0.0261247  0.0367044  -0.712 0.476672    \n",
       "exp4:occ217 -0.0573460  0.0340155  -1.686 0.091929 .  \n",
       "exp4:occ218         NA         NA      NA       NA    \n",
       "exp4:occ219  0.0326638  0.0729895   0.448 0.654538    \n",
       "exp4:occ220 -0.0352568  0.0468186  -0.753 0.451481    \n",
       "exp4:occ221 -0.2016685  0.0537804  -3.750 0.000180 ***\n",
       "exp4:occ222  0.0597597  0.0687345   0.869 0.384687    \n",
       "exp4:ind23  -0.4935026  0.2681284  -1.841 0.065792 .  \n",
       "exp4:ind24  -0.2761541  0.1396423  -1.978 0.048072 *  \n",
       "exp4:ind25  -0.3395181  0.1414925  -2.400 0.016479 *  \n",
       "exp4:ind26  -0.3299894  0.1387678  -2.378 0.017473 *  \n",
       "exp4:ind27  -0.2315735  0.1613514  -1.435 0.151337    \n",
       "exp4:ind28  -0.1795564  0.2040960  -0.880 0.379062    \n",
       "exp4:ind29  -0.2959456  0.1373698  -2.154 0.031295 *  \n",
       "exp4:ind210 -0.2914603  0.1441728  -2.022 0.043311 *  \n",
       "exp4:ind211 -0.3460265  0.1421362  -2.434 0.014975 *  \n",
       "exp4:ind212 -0.3611160  0.1385623  -2.606 0.009204 ** \n",
       "exp4:ind213 -0.3771764  0.1432032  -2.634 0.008488 ** \n",
       "exp4:ind214 -0.2715777  0.1375834  -1.974 0.048488 *  \n",
       "exp4:ind215 -0.2554636  0.1889484  -1.352 0.176474    \n",
       "exp4:ind216 -0.2631331  0.1425088  -1.846 0.064933 .  \n",
       "exp4:ind217 -0.3413685  0.1405923  -2.428 0.015241 *  \n",
       "exp4:ind218 -0.3141705  0.1401646  -2.241 0.025075 *  \n",
       "exp4:ind219 -0.2700483  0.1433216  -1.884 0.059639 .  \n",
       "exp4:ind220 -0.2884531  0.1395548  -2.067 0.038829 *  \n",
       "exp4:ind221 -0.3127359  0.1412872  -2.213 0.026944 *  \n",
       "exp4:ind222 -0.3064714  0.1395737  -2.196 0.028189 *  \n",
       "exp4:mw      0.0197390  0.0259442   0.761 0.446825    \n",
       "exp4:so      0.0010853  0.0226310   0.048 0.961754    \n",
       "exp4:we      0.0318591  0.0239165   1.332 0.182935    \n",
       "---\n",
       "Signif. codes:  0 '***' 0.001 '**' 0.01 '*' 0.05 '.' 0.1 ' ' 1\n",
       "\n",
       "Residual standard error: 0.4635 on 2838 degrees of freedom\n",
       "Multiple R-squared:  0.3296,\tAdjusted R-squared:  0.2756 \n",
       "F-statistic: 6.094 on 229 and 2838 DF,  p-value: < 2.2e-16\n"
      ]
     },
     "metadata": {},
     "output_type": "display_data"
    },
    {
     "name": "stdout",
     "output_type": "stream",
     "text": [
      "Coefficient for OLS with controls -0.2366632"
     ]
    }
   ],
   "source": [
    "# Ols regression with controls\n",
    "\n",
    "flex <- lwage ~ scl + (exp1+exp2+exp3+exp4)*(sex+occ2+ind2+mw+so+we)\n",
    "\n",
    "control.fit <- lm(flex, data=data_z)\n",
    "control.est <- summary(control.fit)$coef[2,1]\n",
    "\n",
    "summary(control.fit)\n",
    "\n",
    "cat(\"Coefficient for OLS with controls\", control.est)\n",
    "\n",
    "HCV.coefs <- vcovHC(control.fit, type = 'HC');\n",
    "control.se <- sqrt(diag(HCV.coefs))[2] # Estimated std errors"
   ]
  },
  {
   "cell_type": "markdown",
   "id": "a8c8f24c",
   "metadata": {},
   "source": [
    "The estimated regression coefficient $\\beta_1\\approx-0.2366$ measures how our linear prediction of wage changes if we set the college education variable $D$ from 0 (the worker is a college graduate) to 1 (the worker has completed some college education, but is not a college graduate), holding the control variables in $W$ fixed. We see that the unconditional wage gap of $28.63$% for education decresases to $23.67$% after controlling for worker characteristics."
   ]
  },
  {
   "cell_type": "markdown",
   "id": "4822e1c0",
   "metadata": {},
   "source": [
    "# Partialling-Out using OLS\n",
    "\n",
    "\n"
   ]
  },
  {
   "cell_type": "markdown",
   "id": "ad107cb2",
   "metadata": {},
   "source": [
    "Using the partialling-out method we expect to obtain the same estimator $\\beta_1$ that we got in the OLS regression with control variables."
   ]
  },
  {
   "cell_type": "code",
   "execution_count": 20,
   "id": "24861e8b",
   "metadata": {},
   "outputs": [
    {
     "name": "stdout",
     "output_type": "stream",
     "text": [
      "Coefficient for D via partialling-out -0.2366632"
     ]
    },
    {
     "data": {
      "text/html": [
       "<dl class=dl-horizontal>\n",
       "\t<dt>2.5 %</dt>\n",
       "\t\t<dd>-0.274440997302957</dd>\n",
       "\t<dt>97.5 %</dt>\n",
       "\t\t<dd>-0.198885320326434</dd>\n",
       "</dl>\n"
      ],
      "text/latex": [
       "\\begin{description*}\n",
       "\\item[2.5 \\textbackslash{}\\%] -0.274440997302957\n",
       "\\item[97.5 \\textbackslash{}\\%] -0.198885320326434\n",
       "\\end{description*}\n"
      ],
      "text/markdown": [
       "2.5 %\n",
       ":   -0.27444099730295797.5 %\n",
       ":   -0.198885320326434\n",
       "\n"
      ],
      "text/plain": [
       "     2.5 %     97.5 % \n",
       "-0.2744410 -0.1988853 "
      ]
     },
     "metadata": {},
     "output_type": "display_data"
    }
   ],
   "source": [
    "# Partialling-Out using ols\n",
    "\n",
    "# model for y\n",
    "flex.y <- lwage ~  (exp1+exp2+exp3+exp4)*(sex+occ2+ind2+mw+so+we) \n",
    "# model for d\n",
    "flex.d <- scl ~ (exp1+exp2+exp3+exp4)*(sex+occ2+ind2+mw+so+we) \n",
    "\n",
    "# partialling-out the linear effect of W from Y\n",
    "t.Y <- lm(flex.y, data=data_z)$res\n",
    "# partialling-out the linear effect of W from D\n",
    "t.D <- lm(flex.d, data=data_z)$res\n",
    "\n",
    "# regression of Y on D after partialling-out the effect of W\n",
    "partial.fit <- lm(t.Y~t.D)\n",
    "partial.est <- summary(partial.fit)$coef[2,1]\n",
    "\n",
    "cat(\"Coefficient for D via partialling-out\", partial.est)\n",
    "\n",
    "# standard error\n",
    "HCV.coefs <- vcovHC(partial.fit, type = 'HC')\n",
    "partial.se <- sqrt(diag(HCV.coefs))[2]\n",
    "\n",
    "# confidence interval\n",
    "confint(partial.fit)[2,]"
   ]
  },
  {
   "cell_type": "markdown",
   "id": "9c667bdf",
   "metadata": {},
   "source": [
    "The estimated coeficient for $D$ via partialling-out is equal to the coefficient $\\beta_1$ estimated with the OLS regression, after controlling for the effects of the variables contained in $W$."
   ]
  },
  {
   "cell_type": "markdown",
   "id": "22739684",
   "metadata": {},
   "source": [
    "## GRAPHS"
   ]
  },
  {
   "cell_type": "markdown",
   "id": "7c1a803d",
   "metadata": {},
   "source": [
    "We are going to group individuals by its experience years and then we are going to calculate the mean of each group of experience. The objective of this is to smooth the data."
   ]
  },
  {
   "cell_type": "code",
   "execution_count": 50,
   "id": "12e7d0ad",
   "metadata": {},
   "outputs": [
    {
     "data": {
      "text/html": [
       "<ol class=list-inline>\n",
       "\t<li>82</li>\n",
       "\t<li>3</li>\n",
       "</ol>\n"
      ],
      "text/latex": [
       "\\begin{enumerate*}\n",
       "\\item 82\n",
       "\\item 3\n",
       "\\end{enumerate*}\n"
      ],
      "text/markdown": [
       "1. 82\n",
       "2. 3\n",
       "\n",
       "\n"
      ],
      "text/plain": [
       "[1] 82  3"
      ]
     },
     "metadata": {},
     "output_type": "display_data"
    }
   ],
   "source": [
    "#install.packages(\"ggplot2\")\n",
    "#library(ggplot2)\n",
    "\n",
    "data_graph_scl <- data_scl %>%\n",
    "    group_by(exp1) %>%\n",
    "    summarize(mean_exp_scl = mean(lwage))\n",
    "\n",
    "data_graph_clg <- data_clg %>%\n",
    "    group_by(exp1) %>%\n",
    "    summarize(mean_exp_clg = mean(lwage))\n",
    "\n",
    "\n",
    "data_graph = merge(data_graph_clg, data_graph_scl, by = \"exp1\", all = TRUE)\n",
    "\n",
    "dim(data_graph)\n",
    "\n",
    "\n"
   ]
  },
  {
   "cell_type": "markdown",
   "id": "5cc094cc",
   "metadata": {},
   "source": [
    "Now we are going to plot the experience means and the respective fitting function."
   ]
  },
  {
   "cell_type": "code",
   "execution_count": 65,
   "id": "bf9b0f16",
   "metadata": {},
   "outputs": [
    {
     "name": "stderr",
     "output_type": "stream",
     "text": [
      "Warning message:\n",
      "\"Removed 42 rows containing non-finite values (stat_smooth).\"Warning message:\n",
      "\"Removed 2 rows containing non-finite values (stat_smooth).\"Warning message:\n",
      "\"Removed 42 rows containing missing values (geom_point).\"Warning message:\n",
      "\"Removed 2 rows containing missing values (geom_point).\""
     ]
    },
    {
     "data": {
      "image/png": "[encoded data removed]",
      "text/plain": [
       "plot without title"
      ]
     },
     "metadata": {},
     "output_type": "display_data"
    }
   ],
   "source": [
    "ggplot(data_graph, aes(x=exp1)) +  geom_point(aes(y = mean_exp_clg, color = \"CLG\"), shape = 16) +\n",
    "      geom_point(aes(y = mean_exp_scl, color = \"SCL\"), shape = 2) + stat_smooth(aes(y = mean_exp_clg),method = \"lm\", formula = y ~ x + I(x^2), size = 1 , color = \"red\") +\n",
    "      stat_smooth(aes(y = mean_exp_scl),method = \"lm\", formula = y ~ x + I(x^2), size = 1, color = \"blue\") +  labs(title = \"Experience - Wage profiles (Quadratic specification)\") +\n",
    "         xlab('Experience') + ylab('Log(Wage)') \n"
   ]
  },
  {
   "cell_type": "code",
   "execution_count": 63,
   "id": "271b3d69",
   "metadata": {},
   "outputs": [
    {
     "name": "stderr",
     "output_type": "stream",
     "text": [
      "Warning message:\n",
      "\"Removed 42 rows containing non-finite values (stat_smooth).\"Warning message:\n",
      "\"Removed 2 rows containing non-finite values (stat_smooth).\"Warning message:\n",
      "\"Removed 42 rows containing missing values (geom_point).\"Warning message:\n",
      "\"Removed 2 rows containing missing values (geom_point).\""
     ]
    },
    {
     "data": {
      "image/png": "[encoded data removed]",
      "text/plain": [
       "plot without title"
      ]
     },
     "metadata": {},
     "output_type": "display_data"
    }
   ],
   "source": [
    "ggplot(data_graph, aes(x=exp1)) +  geom_point(aes(y = mean_exp_clg, color = \"CLG\"), shape = 16) +\n",
    "      geom_point(aes(y = mean_exp_scl, color = \"SCL\"), shape = 4) + stat_smooth(aes(y = mean_exp_clg),method = \"lm\", formula = y ~ x + I(x^4), size = 1, color =\"red\") +\n",
    "      stat_smooth(aes(y = mean_exp_scl),method = \"lm\", formula = y ~ x + I(x^2), size = 1, color = \"blue\") +  labs(title = \"Experience - Wage profiles (Quartic specification)\") +\n",
    "         xlab('Experience') + ylab('Log(Wage)') \n"
   ]
  },
  {
   "cell_type": "markdown",
   "id": "f6fa1081",
   "metadata": {},
   "source": [
    "As expected we found that the experience-wages profile has an inverted \"U\" shape."
   ]
  },
  {
   "cell_type": "code",
   "execution_count": null,
   "id": "75f2b754",
   "metadata": {},
   "outputs": [],
   "source": []
  }
 ],
 "metadata": {
  "kernelspec": {
   "display_name": "R",
   "language": "R",
   "name": "ir"
  },
  "language_info": {
   "codemirror_mode": "r",
   "file_extension": ".r",
   "mimetype": "text/x-r-source",
   "name": "R",
   "pygments_lexer": "r",
   "version": "3.6.1"
  }
 },
 "nbformat": 4,
 "nbformat_minor": 5
}
