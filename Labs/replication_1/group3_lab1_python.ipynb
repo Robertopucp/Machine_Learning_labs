{
 "cells": [
  {
   "cell_type": "code",
   "execution_count": 58,
   "id": "8f0e3d8f",
   "metadata": {},
   "outputs": [],
   "source": [
    "# pip install pyreadr"
   ]
  },
  {
   "cell_type": "code",
   "execution_count": 79,
   "id": "b4a6d8c2",
   "metadata": {},
   "outputs": [],
   "source": [
    "# Import relevant packages\n",
    "import pandas as pd\n",
    "import numpy as np\n",
    "import pyreadr\n",
    "import math"
   ]
  },
  {
   "cell_type": "code",
   "execution_count": 80,
   "id": "b096123f",
   "metadata": {},
   "outputs": [
    {
     "data": {
      "text/plain": [
       "(5150, 20)"
      ]
     },
     "execution_count": 80,
     "metadata": {},
     "output_type": "execute_result"
    }
   ],
   "source": [
    "# Import relevant packages\n",
    "rdata_read = pyreadr.read_r(\"d:/Users/Manuela/Documents/GitHub/ECO224/Labs/data/wage2015_subsample_inference.Rdata\")\n",
    "\n",
    "# Extracting the data frame from rdata_read\n",
    "data = rdata_read[ 'data' ]\n",
    "\n",
    "data.shape"
   ]
  },
  {
   "cell_type": "markdown",
   "id": "be8ef5f1",
   "metadata": {},
   "source": [
    "To start our analysis, we compare the sample means given gender:"
   ]
  },
  {
   "cell_type": "code",
   "execution_count": 81,
   "id": "d426731e",
   "metadata": {},
   "outputs": [
    {
     "data": {
      "text/html": [
       "<div>\n",
       "<style scoped>\n",
       "    .dataframe tbody tr th:only-of-type {\n",
       "        vertical-align: middle;\n",
       "    }\n",
       "\n",
       "    .dataframe tbody tr th {\n",
       "        vertical-align: top;\n",
       "    }\n",
       "\n",
       "    .dataframe thead th {\n",
       "        text-align: right;\n",
       "    }\n",
       "</style>\n",
       "<table border=\"1\" class=\"dataframe\">\n",
       "  <thead>\n",
       "    <tr style=\"text-align: right;\">\n",
       "      <th></th>\n",
       "      <th>All</th>\n",
       "      <th>Men</th>\n",
       "      <th>Women</th>\n",
       "    </tr>\n",
       "  </thead>\n",
       "  <tbody>\n",
       "    <tr>\n",
       "      <th>Log Wage</th>\n",
       "      <td>3.000022</td>\n",
       "      <td>3.038412</td>\n",
       "      <td>2.956904</td>\n",
       "    </tr>\n",
       "    <tr>\n",
       "      <th>Sex</th>\n",
       "      <td>0.470991</td>\n",
       "      <td>0.000000</td>\n",
       "      <td>1.000000</td>\n",
       "    </tr>\n",
       "    <tr>\n",
       "      <th>Less then High School</th>\n",
       "      <td>0.000000</td>\n",
       "      <td>0.000000</td>\n",
       "      <td>0.000000</td>\n",
       "    </tr>\n",
       "    <tr>\n",
       "      <th>High School Graduate</th>\n",
       "      <td>0.000000</td>\n",
       "      <td>0.000000</td>\n",
       "      <td>0.000000</td>\n",
       "    </tr>\n",
       "    <tr>\n",
       "      <th>Some College</th>\n",
       "      <td>0.466754</td>\n",
       "      <td>0.481824</td>\n",
       "      <td>0.449827</td>\n",
       "    </tr>\n",
       "    <tr>\n",
       "      <th>Collage Graduate</th>\n",
       "      <td>0.533246</td>\n",
       "      <td>0.518176</td>\n",
       "      <td>0.550173</td>\n",
       "    </tr>\n",
       "    <tr>\n",
       "      <th>Advanced Degree</th>\n",
       "      <td>0.000000</td>\n",
       "      <td>0.000000</td>\n",
       "      <td>0.000000</td>\n",
       "    </tr>\n",
       "    <tr>\n",
       "      <th>Northeast</th>\n",
       "      <td>0.226532</td>\n",
       "      <td>0.219347</td>\n",
       "      <td>0.234602</td>\n",
       "    </tr>\n",
       "    <tr>\n",
       "      <th>Midwest</th>\n",
       "      <td>0.265971</td>\n",
       "      <td>0.261245</td>\n",
       "      <td>0.271280</td>\n",
       "    </tr>\n",
       "    <tr>\n",
       "      <th>South</th>\n",
       "      <td>0.285854</td>\n",
       "      <td>0.290819</td>\n",
       "      <td>0.280277</td>\n",
       "    </tr>\n",
       "    <tr>\n",
       "      <th>West</th>\n",
       "      <td>0.221643</td>\n",
       "      <td>0.228589</td>\n",
       "      <td>0.213841</td>\n",
       "    </tr>\n",
       "    <tr>\n",
       "      <th>Experience</th>\n",
       "      <td>12.700945</td>\n",
       "      <td>12.433148</td>\n",
       "      <td>13.001730</td>\n",
       "    </tr>\n",
       "  </tbody>\n",
       "</table>\n",
       "</div>"
      ],
      "text/plain": [
       "                             All        Men      Women\n",
       "Log Wage                3.000022   3.038412   2.956904\n",
       "Sex                     0.470991   0.000000   1.000000\n",
       "Less then High School   0.000000   0.000000   0.000000\n",
       "High School Graduate    0.000000   0.000000   0.000000\n",
       "Some College            0.466754   0.481824   0.449827\n",
       "Collage Graduate        0.533246   0.518176   0.550173\n",
       "Advanced Degree         0.000000   0.000000   0.000000\n",
       "Northeast               0.226532   0.219347   0.234602\n",
       "Midwest                 0.265971   0.261245   0.271280\n",
       "South                   0.285854   0.290819   0.280277\n",
       "West                    0.221643   0.228589   0.213841\n",
       "Experience             12.700945  12.433148  13.001730"
      ]
     },
     "execution_count": 81,
     "metadata": {},
     "output_type": "execute_result"
    }
   ],
   "source": [
    "Z_scl = data[data[ 'scl' ] == 1 ]\n",
    "Z_clg = data[data[ 'clg' ] == 1 ]\n",
    "Z_data = pd.concat([Z_scl,Z_clg])\n",
    "\n",
    "Z = Z_data[ [\"lwage\",\"sex\",\"shs\",\"hsg\",\"scl\",\"clg\",\"ad\",\"ne\",\"mw\",\"so\",\"we\",\"exp1\"] ]\n",
    "\n",
    "data_female = Z_data[Z_data[ 'sex' ] == 1 ]\n",
    "Z_female = data_female[ [\"lwage\",\"sex\",\"shs\",\"hsg\",\"scl\",\"clg\",\"ad\",\"ne\",\"mw\",\"so\",\"we\",\"exp1\"] ]\n",
    "\n",
    "data_male = Z_data[ Z_data[ 'sex' ] == 0 ]\n",
    "Z_male = data_male[ [ \"lwage\",\"sex\",\"shs\",\"hsg\",\"scl\",\"clg\",\"ad\",\"ne\",\"mw\",\"so\",\"we\",\"exp1\" ] ]\n",
    "\n",
    "\n",
    "table = np.zeros( (12, 3) )\n",
    "table[:, 0] = Z.mean().values\n",
    "table[:, 1] = Z_male.mean().values\n",
    "table[:, 2] = Z_female.mean().values\n",
    "table_pandas = pd.DataFrame( table, columns = [ 'All', 'Men', 'Women'])\n",
    "table_pandas.index = [\"Log Wage\",\"Sex\",\"Less then High School\",\"High School Graduate\",\"Some College\",\"Collage Graduate\",\"Advanced Degree\", \"Northeast\",\"Midwest\",\"South\",\"West\",\"Experience\"]\n",
    "table_html = table_pandas.to_html()\n",
    "\n",
    "table_pandas"
   ]
  },
  {
   "cell_type": "code",
   "execution_count": 82,
   "id": "6ef657e5",
   "metadata": {},
   "outputs": [
    {
     "name": "stdout",
     "output_type": "stream",
     "text": [
      "<table border=\"1\" class=\"dataframe\">\n",
      "  <thead>\n",
      "    <tr style=\"text-align: right;\">\n",
      "      <th></th>\n",
      "      <th>All</th>\n",
      "      <th>Men</th>\n",
      "      <th>Women</th>\n",
      "    </tr>\n",
      "  </thead>\n",
      "  <tbody>\n",
      "    <tr>\n",
      "      <th>Log Wage</th>\n",
      "      <td>3.000022</td>\n",
      "      <td>3.038412</td>\n",
      "      <td>2.956904</td>\n",
      "    </tr>\n",
      "    <tr>\n",
      "      <th>Sex</th>\n",
      "      <td>0.470991</td>\n",
      "      <td>0.000000</td>\n",
      "      <td>1.000000</td>\n",
      "    </tr>\n",
      "    <tr>\n",
      "      <th>Less then High School</th>\n",
      "      <td>0.000000</td>\n",
      "      <td>0.000000</td>\n",
      "      <td>0.000000</td>\n",
      "    </tr>\n",
      "    <tr>\n",
      "      <th>High School Graduate</th>\n",
      "      <td>0.000000</td>\n",
      "      <td>0.000000</td>\n",
      "      <td>0.000000</td>\n",
      "    </tr>\n",
      "    <tr>\n",
      "      <th>Some College</th>\n",
      "      <td>0.466754</td>\n",
      "      <td>0.481824</td>\n",
      "      <td>0.449827</td>\n",
      "    </tr>\n",
      "    <tr>\n",
      "      <th>Collage Graduate</th>\n",
      "      <td>0.533246</td>\n",
      "      <td>0.518176</td>\n",
      "      <td>0.550173</td>\n",
      "    </tr>\n",
      "    <tr>\n",
      "      <th>Advanced Degree</th>\n",
      "      <td>0.000000</td>\n",
      "      <td>0.000000</td>\n",
      "      <td>0.000000</td>\n",
      "    </tr>\n",
      "    <tr>\n",
      "      <th>Northeast</th>\n",
      "      <td>0.226532</td>\n",
      "      <td>0.219347</td>\n",
      "      <td>0.234602</td>\n",
      "    </tr>\n",
      "    <tr>\n",
      "      <th>Midwest</th>\n",
      "      <td>0.265971</td>\n",
      "      <td>0.261245</td>\n",
      "      <td>0.271280</td>\n",
      "    </tr>\n",
      "    <tr>\n",
      "      <th>South</th>\n",
      "      <td>0.285854</td>\n",
      "      <td>0.290819</td>\n",
      "      <td>0.280277</td>\n",
      "    </tr>\n",
      "    <tr>\n",
      "      <th>West</th>\n",
      "      <td>0.221643</td>\n",
      "      <td>0.228589</td>\n",
      "      <td>0.213841</td>\n",
      "    </tr>\n",
      "    <tr>\n",
      "      <th>Experience</th>\n",
      "      <td>12.700945</td>\n",
      "      <td>12.433148</td>\n",
      "      <td>13.001730</td>\n",
      "    </tr>\n",
      "  </tbody>\n",
      "</table>\n"
     ]
    }
   ],
   "source": [
    "print( table_html )"
   ]
  },
  {
   "cell_type": "code",
   "execution_count": 83,
   "id": "0cdf7066",
   "metadata": {},
   "outputs": [
    {
     "data": {
      "text/plain": [
       "-0.08150855508736754"
      ]
     },
     "execution_count": 83,
     "metadata": {},
     "output_type": "execute_result"
    }
   ],
   "source": [
    "data_female['lwage'].mean() - data_male['lwage'].mean()"
   ]
  },
  {
   "cell_type": "markdown",
   "id": "18f74fd1",
   "metadata": {},
   "source": [
    "We obtained that the unconditional gender wage gap is about $8,15$% for the group of never married workers (women with Some college and College graduate get paid less on average). We also observe that never married working women are relatively more educated than working men and have lower working experience.\n",
    "\n",
    "This unconditional (predictive) effect of gender equals the coefficient $\\beta$ in the univariate ols regression of $Y$ on $D$:\n",
    "\n",
    "$$\\begin{align}\n",
    "\\log(Y) =\\beta D + \\epsilon.\n",
    "\\end{align}$$"
   ]
  },
  {
   "cell_type": "code",
   "execution_count": 84,
   "id": "d87d5284",
   "metadata": {},
   "outputs": [],
   "source": [
    "import statsmodels.api as sm\n",
    "import statsmodels.formula.api as smf"
   ]
  },
  {
   "cell_type": "code",
   "execution_count": 85,
   "id": "cf090d68",
   "metadata": {},
   "outputs": [
    {
     "name": "stdout",
     "output_type": "stream",
     "text": [
      "The estimated gender coefficient is -0.08150855508736031 and the corresponding robust standard error is 0.019579647767772337\n"
     ]
    }
   ],
   "source": [
    "nocontrol_model = smf.ols( formula = 'lwage ~ sex', data = Z_data)\n",
    "nocontrol_est = nocontrol_model.fit().summary2().tables[1]['Coef.']['sex']\n",
    "HCV_coefs = nocontrol_model.fit().cov_HC0\n",
    "nocontrol_se = np.power( HCV_coefs.diagonal() , 0.5)[1]\n",
    "\n",
    "# print unconditional effect of gender and the corresponding standard error\n",
    "print( f'The estimated gender coefficient is {nocontrol_est} and the corresponding robust standard error is {nocontrol_se}' )"
   ]
  },
  {
   "cell_type": "markdown",
   "id": "03e63545",
   "metadata": {},
   "source": [
    "Next, we run an ols regression of $Y$ on $(D,W)$ to control for the effect of covariates summarized in $W$:\n",
    "\n",
    "$$\\begin{align}\n",
    "\\log(Y) =\\beta_1 D  + \\beta_2' W + \\epsilon.\n",
    "\\end{align}$$\n",
    "$W$ controls for experience, education, region, and occupation and industry indicators plus transformations and two-way interactions.\n",
    "\n",
    "Now, we are going to run the ols regression with controls."
   ]
  },
  {
   "cell_type": "markdown",
   "id": "82d5a005",
   "metadata": {},
   "source": [
    "# Ols regression with controls"
   ]
  },
  {
   "cell_type": "code",
   "execution_count": 106,
   "id": "6fa24af5",
   "metadata": {},
   "outputs": [
    {
     "name": "stdout",
     "output_type": "stream",
     "text": [
      "               Coef.  Std.Err.         t         P>|t|    [0.025    0.975]\n",
      "Intercept   2.985101  0.336482  8.871492  1.250129e-18  2.325327  3.644876\n",
      "occ2[T.10]  0.091982  0.243220  0.378184  7.053225e-01 -0.384925  0.568888\n",
      "occ2[T.11] -0.499418  0.436858 -1.143202  2.530511e-01 -1.356010  0.357175\n",
      "occ2[T.12]  0.190101  0.341142  0.557249  5.774012e-01 -0.478810  0.859012\n",
      "occ2[T.13] -0.194529  0.271881 -0.715492  4.743637e-01 -0.727633  0.338575\n",
      "...              ...       ...       ...           ...       ...       ...\n",
      "exp3:we    -0.230864  0.184398 -1.251987  2.106777e-01 -0.592431  0.130704\n",
      "exp4:clg   -0.013467  0.020134 -0.668849  5.036463e-01 -0.052945  0.026012\n",
      "exp4:mw     0.014287  0.025814  0.553477  5.799802e-01 -0.036328  0.064902\n",
      "exp4:so    -0.003759  0.022547 -0.166725  8.675981e-01 -0.047968  0.040450\n",
      "exp4:we     0.028286  0.023812  1.187890  2.349761e-01 -0.018405  0.074978\n",
      "\n",
      "[231 rows x 6 columns]\n",
      "Coefficient for OLS with controls -0.053062340357755505\n"
     ]
    }
   ],
   "source": [
    "flex = 'lwage ~ sex + (exp1+exp2+exp3+exp4)*(clg+occ2+ind2+mw+so+we)'\n",
    "\n",
    "# The smf api replicates R script when it transform data\n",
    "control_model = smf.ols( formula = flex, data = Z_data )\n",
    "control_est = control_model.fit().summary2().tables[1]['Coef.']['sex']\n",
    "\n",
    "print(control_model.fit().summary2().tables[1])\n",
    "print( f\"Coefficient for OLS with controls {control_est}\" )\n",
    "\n",
    "HCV_coefs = control_model.fit().cov_HC0\n",
    "control_se = np.power( HCV_coefs.diagonal() , 0.5)[1]"
   ]
  },
  {
   "cell_type": "markdown",
   "id": "c8775e8b",
   "metadata": {},
   "source": [
    "The estimated regression coefficient $\\beta_1\\approx-0.053$ measures how our linear prediction of wage changes if we set the gender variable $D$ from 0 to 1, holding the controls $W$ fixed.\n",
    "We can call this the *predictive effect* (PE), as it measures the impact of a variable on the prediction we make. Overall, we see that the unconditional wage gap of size $8$\\% for women decreases to about $5$\\% after controlling for worker characteristics. Also, we can see that people with complete college earn $24$\\% more than those with some college.\n",
    "\n",
    "The next step is the Frisch-Waugh-Lovell theorem from the lecture partialling-out the linear effect of the controls via ols."
   ]
  },
  {
   "cell_type": "markdown",
   "id": "f9bdf624",
   "metadata": {},
   "source": [
    "# Partialling-Out using ols"
   ]
  },
  {
   "cell_type": "code",
   "execution_count": 87,
   "id": "f35fa2cf",
   "metadata": {},
   "outputs": [
    {
     "name": "stdout",
     "output_type": "stream",
     "text": [
      "Coefficient for D via partialling-out -0.053062340357753604\n"
     ]
    },
    {
     "data": {
      "text/plain": [
       "0   -0.089571\n",
       "1   -0.016554\n",
       "Name: t_D, dtype: float64"
      ]
     },
     "execution_count": 87,
     "metadata": {},
     "output_type": "execute_result"
    }
   ],
   "source": [
    "# models\n",
    "# model for Y\n",
    "flex_y = 'lwage ~  (exp1+exp2+exp3+exp4)*(shs+hsg+scl+clg+occ2+ind2+mw+so+we)'\n",
    "# model for D\n",
    "flex_d = 'sex ~ (exp1+exp2+exp3+exp4)*(shs+hsg+scl+clg+occ2+ind2+mw+so+we)' \n",
    "\n",
    "# partialling-out the linear effect of W from Y\n",
    "t_Y = smf.ols( formula = flex_y , data = Z_data ).fit().resid\n",
    "\n",
    "# partialling-out the linear effect of W from D\n",
    "t_D = smf.ols( formula = flex_d , data = Z_data ).fit().resid\n",
    "\n",
    "data_res = pd.DataFrame( np.vstack(( t_Y.values , t_D.values )).T , columns = [ 't_Y', 't_D' ] )\n",
    "# regression of Y on D after partialling-out the effect of W\n",
    "partial_fit =  smf.ols( formula = 't_Y ~ t_D' , data = data_res ).fit()\n",
    "partial_est = partial_fit.summary2().tables[1]['Coef.']['t_D']\n",
    "\n",
    "print(\"Coefficient for D via partialling-out\", partial_est)\n",
    "\n",
    "# standard error\n",
    "HCV_coefs = partial_fit.cov_HC0\n",
    "partial_se = np.power( HCV_coefs.diagonal() , 0.5)[1]\n",
    "\n",
    "# confidence interval\n",
    "partial_fit.conf_int( alpha=0.05 ).iloc[1, :]"
   ]
  },
  {
   "cell_type": "markdown",
   "id": "8476e0b0",
   "metadata": {},
   "source": [
    "Again, the estimated coefficient measures the linear predictive effect (PE) of $D$ on $Y$ after taking out the linear effect of $W$ on both of these variables. This coefficient equals the estimated coefficient from the ols regression with controls.\n",
    "\n",
    "We know that the partialling-out approach works well when the dimension of $W$ is low in relation to the sample size $n$. When the dimension of $W$ is relatively high, we need to use variable selection or penalization for regularization purposes."
   ]
  },
  {
   "cell_type": "markdown",
   "id": "abdf1660",
   "metadata": {},
   "source": [
    "# Figure"
   ]
  },
  {
   "cell_type": "code",
   "execution_count": 98,
   "id": "eabc2bf4",
   "metadata": {},
   "outputs": [],
   "source": [
    "import numpy as np\n",
    "import seaborn as sns\n",
    "import matplotlib.pyplot as plt"
   ]
  },
  {
   "cell_type": "code",
   "execution_count": 99,
   "id": "d40ea244",
   "metadata": {},
   "outputs": [],
   "source": [
    "sns.set_theme(color_codes=True)"
   ]
  },
  {
   "cell_type": "code",
   "execution_count": 100,
   "id": "dbb95bf4",
   "metadata": {},
   "outputs": [
    {
     "data": {
      "image/png": "[encoded data removed]",
      "text/plain": [
       "<Figure size 360x360 with 1 Axes>"
      ]
     },
     "metadata": {},
     "output_type": "display_data"
    }
   ],
   "source": [
    "sns.lmplot(x=\"exp1\", y=\"lwage\", data=Z_data,\n",
    "           lowess=True);"
   ]
  },
  {
   "cell_type": "code",
   "execution_count": null,
   "id": "28d5ac23",
   "metadata": {},
   "outputs": [],
   "source": []
  }
 ],
 "metadata": {
  "kernelspec": {
   "display_name": "Python 3",
   "language": "python",
   "name": "python3"
  },
  "language_info": {
   "codemirror_mode": {
    "name": "ipython",
    "version": 3
   },
   "file_extension": ".py",
   "mimetype": "text/x-python",
   "name": "python",
   "nbconvert_exporter": "python",
   "pygments_lexer": "ipython3",
   "version": "3.8.8"
  }
 },
 "nbformat": 4,
 "nbformat_minor": 5
}
