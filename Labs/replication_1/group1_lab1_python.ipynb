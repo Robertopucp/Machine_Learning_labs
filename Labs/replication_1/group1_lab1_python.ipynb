{
 "cells": [
  {
   "cell_type": "markdown",
   "metadata": {},
   "source": [
    "* Python code replication of: \" https://www.kaggle.com/janniskueck/pm1-notebook-inference \"\n",
    "* Created by: Anzony Quispe & Alexander Quispe"
   ]
  },
  {
   "cell_type": "markdown",
   "metadata": {
    "papermill": {
     "duration": 0.020568,
     "end_time": "2021-02-21T17:17:47.770707",
     "exception": false,
     "start_time": "2021-02-21T17:17:47.750139",
     "status": "completed"
    },
    "tags": []
   },
   "source": [
    "This notebook contains an example for teaching."
   ]
  },
  {
   "cell_type": "markdown",
   "metadata": {
    "papermill": {
     "duration": 0.018579,
     "end_time": "2021-02-21T17:17:47.809138",
     "exception": false,
     "start_time": "2021-02-21T17:17:47.790559",
     "status": "completed"
    },
    "tags": []
   },
   "source": [
    "# An inferential problem: The Gender Wage Gap"
   ]
  },
  {
   "cell_type": "markdown",
   "metadata": {
    "papermill": {
     "duration": 0.019386,
     "end_time": "2021-02-21T17:17:47.847419",
     "exception": false,
     "start_time": "2021-02-21T17:17:47.828033",
     "status": "completed"
    },
    "tags": []
   },
   "source": [
    "In the previous lab, we already analyzed data from the March Supplement of the U.S. Current Population Survey (2015) and answered the question how to use job-relevant characteristics, such as education and experience, to best predict wages. Now, we focus on the following inference question:\n",
    "\n",
    "What is the difference in predicted wages between men and women with the same job-relevant characteristics?\n",
    "\n",
    "Thus, we analyze if there is a difference in the payment of men and women (*gender wage gap*). The gender wage gap may partly reflect *discrimination* against women in the labor market or may partly reflect a *selection effect*, namely that women are relatively more likely to take on occupations that pay somewhat less (for example, school teaching)."
   ]
  },
  {
   "cell_type": "markdown",
   "metadata": {
    "papermill": {
     "duration": 0.018623,
     "end_time": "2021-02-21T17:17:47.884840",
     "exception": false,
     "start_time": "2021-02-21T17:17:47.866217",
     "status": "completed"
    },
    "tags": []
   },
   "source": [
    "To investigate the gender wage gap, we consider the following log-linear regression model\n",
    "\n",
    "\\begin{align}\n",
    "\\log(Y) &= \\beta'X + \\epsilon\\\\\n",
    "&= \\beta_1 D  + \\beta_2' W + \\epsilon,\n",
    "\\end{align}\n",
    "\n",
    "where $D$ is the indicator of being female ($1$ if female and $0$ otherwise) and the\n",
    "$W$'s are controls explaining variation in wages. Considering transformed wages by the logarithm, we are analyzing the relative difference in the payment of men and women."
   ]
  },
  {
   "cell_type": "markdown",
   "metadata": {
    "papermill": {
     "duration": 0.018169,
     "end_time": "2021-02-21T17:17:47.921363",
     "exception": false,
     "start_time": "2021-02-21T17:17:47.903194",
     "status": "completed"
    },
    "tags": []
   },
   "source": [
    "## Data analysis"
   ]
  },
  {
   "cell_type": "markdown",
   "metadata": {
    "papermill": {
     "duration": 0.018446,
     "end_time": "2021-02-21T17:17:47.958377",
     "exception": false,
     "start_time": "2021-02-21T17:17:47.939931",
     "status": "completed"
    },
    "tags": []
   },
   "source": [
    "We consider the same subsample of the U.S. Current Population Survey (2015) as in the previous lab. Let us load the data set."
   ]
  },
  {
   "cell_type": "code",
   "execution_count": 1,
   "metadata": {
    "hide_input": true
   },
   "outputs": [],
   "source": [
    "import pandas as pd\n",
    "import numpy as np\n",
    "import pyreadr \n",
    "import math\n",
    "import matplotlib.pyplot as plt\n",
    "import seaborn as sns"
   ]
  },
  {
   "cell_type": "code",
   "execution_count": 2,
   "metadata": {},
   "outputs": [
    {
     "data": {
      "text/plain": [
       "(5150, 20)"
      ]
     },
     "execution_count": 2,
     "metadata": {},
     "output_type": "execute_result"
    }
   ],
   "source": [
    "rdata_read = pyreadr.read_r(\"../data/wage2015_subsample_inference.Rdata\")\n",
    "\n",
    "# Extracting the data frame from rdata_read\n",
    "data = rdata_read[ 'data' ]\n",
    "\n",
    "data.shape"
   ]
  },
  {
   "cell_type": "code",
   "execution_count": 3,
   "metadata": {},
   "outputs": [
    {
     "data": {
      "text/html": [
       "<div>\n",
       "<style scoped>\n",
       "    .dataframe tbody tr th:only-of-type {\n",
       "        vertical-align: middle;\n",
       "    }\n",
       "\n",
       "    .dataframe tbody tr th {\n",
       "        vertical-align: top;\n",
       "    }\n",
       "\n",
       "    .dataframe thead th {\n",
       "        text-align: right;\n",
       "    }\n",
       "</style>\n",
       "<table border=\"1\" class=\"dataframe\">\n",
       "  <thead>\n",
       "    <tr style=\"text-align: right;\">\n",
       "      <th></th>\n",
       "      <th>wage</th>\n",
       "      <th>lwage</th>\n",
       "      <th>sex</th>\n",
       "      <th>shs</th>\n",
       "      <th>hsg</th>\n",
       "      <th>scl</th>\n",
       "      <th>clg</th>\n",
       "      <th>ad</th>\n",
       "      <th>mw</th>\n",
       "      <th>so</th>\n",
       "      <th>...</th>\n",
       "      <th>ne</th>\n",
       "      <th>exp1</th>\n",
       "      <th>exp2</th>\n",
       "      <th>exp3</th>\n",
       "      <th>exp4</th>\n",
       "      <th>occ</th>\n",
       "      <th>occ2</th>\n",
       "      <th>ind</th>\n",
       "      <th>ind2</th>\n",
       "      <th>anyclg</th>\n",
       "    </tr>\n",
       "    <tr>\n",
       "      <th>rownames</th>\n",
       "      <th></th>\n",
       "      <th></th>\n",
       "      <th></th>\n",
       "      <th></th>\n",
       "      <th></th>\n",
       "      <th></th>\n",
       "      <th></th>\n",
       "      <th></th>\n",
       "      <th></th>\n",
       "      <th></th>\n",
       "      <th></th>\n",
       "      <th></th>\n",
       "      <th></th>\n",
       "      <th></th>\n",
       "      <th></th>\n",
       "      <th></th>\n",
       "      <th></th>\n",
       "      <th></th>\n",
       "      <th></th>\n",
       "      <th></th>\n",
       "      <th></th>\n",
       "    </tr>\n",
       "  </thead>\n",
       "  <tbody>\n",
       "    <tr>\n",
       "      <th>10</th>\n",
       "      <td>9.615385</td>\n",
       "      <td>2.263364</td>\n",
       "      <td>1.0</td>\n",
       "      <td>0.0</td>\n",
       "      <td>0.0</td>\n",
       "      <td>0.0</td>\n",
       "      <td>1.0</td>\n",
       "      <td>0.0</td>\n",
       "      <td>0.0</td>\n",
       "      <td>0.0</td>\n",
       "      <td>...</td>\n",
       "      <td>1.0</td>\n",
       "      <td>7.0</td>\n",
       "      <td>0.49</td>\n",
       "      <td>0.343</td>\n",
       "      <td>0.2401</td>\n",
       "      <td>3600</td>\n",
       "      <td>11</td>\n",
       "      <td>8370</td>\n",
       "      <td>18</td>\n",
       "      <td>0</td>\n",
       "    </tr>\n",
       "    <tr>\n",
       "      <th>12</th>\n",
       "      <td>48.076923</td>\n",
       "      <td>3.872802</td>\n",
       "      <td>0.0</td>\n",
       "      <td>0.0</td>\n",
       "      <td>0.0</td>\n",
       "      <td>0.0</td>\n",
       "      <td>1.0</td>\n",
       "      <td>0.0</td>\n",
       "      <td>0.0</td>\n",
       "      <td>0.0</td>\n",
       "      <td>...</td>\n",
       "      <td>1.0</td>\n",
       "      <td>31.0</td>\n",
       "      <td>9.61</td>\n",
       "      <td>29.791</td>\n",
       "      <td>92.3521</td>\n",
       "      <td>3050</td>\n",
       "      <td>10</td>\n",
       "      <td>5070</td>\n",
       "      <td>9</td>\n",
       "      <td>0</td>\n",
       "    </tr>\n",
       "    <tr>\n",
       "      <th>15</th>\n",
       "      <td>11.057692</td>\n",
       "      <td>2.403126</td>\n",
       "      <td>0.0</td>\n",
       "      <td>0.0</td>\n",
       "      <td>1.0</td>\n",
       "      <td>0.0</td>\n",
       "      <td>0.0</td>\n",
       "      <td>0.0</td>\n",
       "      <td>0.0</td>\n",
       "      <td>0.0</td>\n",
       "      <td>...</td>\n",
       "      <td>1.0</td>\n",
       "      <td>18.0</td>\n",
       "      <td>3.24</td>\n",
       "      <td>5.832</td>\n",
       "      <td>10.4976</td>\n",
       "      <td>6260</td>\n",
       "      <td>19</td>\n",
       "      <td>770</td>\n",
       "      <td>4</td>\n",
       "      <td>0</td>\n",
       "    </tr>\n",
       "    <tr>\n",
       "      <th>18</th>\n",
       "      <td>13.942308</td>\n",
       "      <td>2.634928</td>\n",
       "      <td>1.0</td>\n",
       "      <td>0.0</td>\n",
       "      <td>0.0</td>\n",
       "      <td>0.0</td>\n",
       "      <td>0.0</td>\n",
       "      <td>1.0</td>\n",
       "      <td>0.0</td>\n",
       "      <td>0.0</td>\n",
       "      <td>...</td>\n",
       "      <td>1.0</td>\n",
       "      <td>25.0</td>\n",
       "      <td>6.25</td>\n",
       "      <td>15.625</td>\n",
       "      <td>39.0625</td>\n",
       "      <td>420</td>\n",
       "      <td>1</td>\n",
       "      <td>6990</td>\n",
       "      <td>12</td>\n",
       "      <td>0</td>\n",
       "    </tr>\n",
       "    <tr>\n",
       "      <th>19</th>\n",
       "      <td>28.846154</td>\n",
       "      <td>3.361977</td>\n",
       "      <td>1.0</td>\n",
       "      <td>0.0</td>\n",
       "      <td>0.0</td>\n",
       "      <td>0.0</td>\n",
       "      <td>1.0</td>\n",
       "      <td>0.0</td>\n",
       "      <td>0.0</td>\n",
       "      <td>0.0</td>\n",
       "      <td>...</td>\n",
       "      <td>1.0</td>\n",
       "      <td>22.0</td>\n",
       "      <td>4.84</td>\n",
       "      <td>10.648</td>\n",
       "      <td>23.4256</td>\n",
       "      <td>2015</td>\n",
       "      <td>6</td>\n",
       "      <td>9470</td>\n",
       "      <td>22</td>\n",
       "      <td>0</td>\n",
       "    </tr>\n",
       "    <tr>\n",
       "      <th>...</th>\n",
       "      <td>...</td>\n",
       "      <td>...</td>\n",
       "      <td>...</td>\n",
       "      <td>...</td>\n",
       "      <td>...</td>\n",
       "      <td>...</td>\n",
       "      <td>...</td>\n",
       "      <td>...</td>\n",
       "      <td>...</td>\n",
       "      <td>...</td>\n",
       "      <td>...</td>\n",
       "      <td>...</td>\n",
       "      <td>...</td>\n",
       "      <td>...</td>\n",
       "      <td>...</td>\n",
       "      <td>...</td>\n",
       "      <td>...</td>\n",
       "      <td>...</td>\n",
       "      <td>...</td>\n",
       "      <td>...</td>\n",
       "      <td>...</td>\n",
       "    </tr>\n",
       "    <tr>\n",
       "      <th>32620</th>\n",
       "      <td>14.769231</td>\n",
       "      <td>2.692546</td>\n",
       "      <td>0.0</td>\n",
       "      <td>0.0</td>\n",
       "      <td>0.0</td>\n",
       "      <td>0.0</td>\n",
       "      <td>1.0</td>\n",
       "      <td>0.0</td>\n",
       "      <td>0.0</td>\n",
       "      <td>0.0</td>\n",
       "      <td>...</td>\n",
       "      <td>0.0</td>\n",
       "      <td>9.0</td>\n",
       "      <td>0.81</td>\n",
       "      <td>0.729</td>\n",
       "      <td>0.6561</td>\n",
       "      <td>4700</td>\n",
       "      <td>16</td>\n",
       "      <td>4970</td>\n",
       "      <td>9</td>\n",
       "      <td>0</td>\n",
       "    </tr>\n",
       "    <tr>\n",
       "      <th>32624</th>\n",
       "      <td>23.076923</td>\n",
       "      <td>3.138833</td>\n",
       "      <td>1.0</td>\n",
       "      <td>0.0</td>\n",
       "      <td>0.0</td>\n",
       "      <td>1.0</td>\n",
       "      <td>0.0</td>\n",
       "      <td>0.0</td>\n",
       "      <td>0.0</td>\n",
       "      <td>0.0</td>\n",
       "      <td>...</td>\n",
       "      <td>0.0</td>\n",
       "      <td>12.0</td>\n",
       "      <td>1.44</td>\n",
       "      <td>1.728</td>\n",
       "      <td>2.0736</td>\n",
       "      <td>4110</td>\n",
       "      <td>13</td>\n",
       "      <td>8680</td>\n",
       "      <td>20</td>\n",
       "      <td>0</td>\n",
       "    </tr>\n",
       "    <tr>\n",
       "      <th>32626</th>\n",
       "      <td>38.461538</td>\n",
       "      <td>3.649659</td>\n",
       "      <td>0.0</td>\n",
       "      <td>0.0</td>\n",
       "      <td>0.0</td>\n",
       "      <td>0.0</td>\n",
       "      <td>0.0</td>\n",
       "      <td>1.0</td>\n",
       "      <td>0.0</td>\n",
       "      <td>0.0</td>\n",
       "      <td>...</td>\n",
       "      <td>0.0</td>\n",
       "      <td>11.0</td>\n",
       "      <td>1.21</td>\n",
       "      <td>1.331</td>\n",
       "      <td>1.4641</td>\n",
       "      <td>1550</td>\n",
       "      <td>4</td>\n",
       "      <td>3680</td>\n",
       "      <td>6</td>\n",
       "      <td>0</td>\n",
       "    </tr>\n",
       "    <tr>\n",
       "      <th>32631</th>\n",
       "      <td>32.967033</td>\n",
       "      <td>3.495508</td>\n",
       "      <td>0.0</td>\n",
       "      <td>0.0</td>\n",
       "      <td>1.0</td>\n",
       "      <td>0.0</td>\n",
       "      <td>0.0</td>\n",
       "      <td>0.0</td>\n",
       "      <td>0.0</td>\n",
       "      <td>0.0</td>\n",
       "      <td>...</td>\n",
       "      <td>0.0</td>\n",
       "      <td>10.0</td>\n",
       "      <td>1.00</td>\n",
       "      <td>1.000</td>\n",
       "      <td>1.0000</td>\n",
       "      <td>2920</td>\n",
       "      <td>9</td>\n",
       "      <td>6570</td>\n",
       "      <td>11</td>\n",
       "      <td>0</td>\n",
       "    </tr>\n",
       "    <tr>\n",
       "      <th>32643</th>\n",
       "      <td>17.307692</td>\n",
       "      <td>2.851151</td>\n",
       "      <td>0.0</td>\n",
       "      <td>0.0</td>\n",
       "      <td>0.0</td>\n",
       "      <td>0.0</td>\n",
       "      <td>0.0</td>\n",
       "      <td>1.0</td>\n",
       "      <td>0.0</td>\n",
       "      <td>0.0</td>\n",
       "      <td>...</td>\n",
       "      <td>0.0</td>\n",
       "      <td>14.0</td>\n",
       "      <td>1.96</td>\n",
       "      <td>2.744</td>\n",
       "      <td>3.8416</td>\n",
       "      <td>1610</td>\n",
       "      <td>5</td>\n",
       "      <td>7460</td>\n",
       "      <td>14</td>\n",
       "      <td>0</td>\n",
       "    </tr>\n",
       "  </tbody>\n",
       "</table>\n",
       "<p>5150 rows × 21 columns</p>\n",
       "</div>"
      ],
      "text/plain": [
       "               wage     lwage  sex  shs  hsg  scl  clg   ad   mw   so  ...  \\\n",
       "rownames                                                               ...   \n",
       "10         9.615385  2.263364  1.0  0.0  0.0  0.0  1.0  0.0  0.0  0.0  ...   \n",
       "12        48.076923  3.872802  0.0  0.0  0.0  0.0  1.0  0.0  0.0  0.0  ...   \n",
       "15        11.057692  2.403126  0.0  0.0  1.0  0.0  0.0  0.0  0.0  0.0  ...   \n",
       "18        13.942308  2.634928  1.0  0.0  0.0  0.0  0.0  1.0  0.0  0.0  ...   \n",
       "19        28.846154  3.361977  1.0  0.0  0.0  0.0  1.0  0.0  0.0  0.0  ...   \n",
       "...             ...       ...  ...  ...  ...  ...  ...  ...  ...  ...  ...   \n",
       "32620     14.769231  2.692546  0.0  0.0  0.0  0.0  1.0  0.0  0.0  0.0  ...   \n",
       "32624     23.076923  3.138833  1.0  0.0  0.0  1.0  0.0  0.0  0.0  0.0  ...   \n",
       "32626     38.461538  3.649659  0.0  0.0  0.0  0.0  0.0  1.0  0.0  0.0  ...   \n",
       "32631     32.967033  3.495508  0.0  0.0  1.0  0.0  0.0  0.0  0.0  0.0  ...   \n",
       "32643     17.307692  2.851151  0.0  0.0  0.0  0.0  0.0  1.0  0.0  0.0  ...   \n",
       "\n",
       "           ne  exp1  exp2    exp3     exp4   occ occ2   ind ind2 anyclg  \n",
       "rownames                                                                 \n",
       "10        1.0   7.0  0.49   0.343   0.2401  3600   11  8370   18      0  \n",
       "12        1.0  31.0  9.61  29.791  92.3521  3050   10  5070    9      0  \n",
       "15        1.0  18.0  3.24   5.832  10.4976  6260   19   770    4      0  \n",
       "18        1.0  25.0  6.25  15.625  39.0625   420    1  6990   12      0  \n",
       "19        1.0  22.0  4.84  10.648  23.4256  2015    6  9470   22      0  \n",
       "...       ...   ...   ...     ...      ...   ...  ...   ...  ...    ...  \n",
       "32620     0.0   9.0  0.81   0.729   0.6561  4700   16  4970    9      0  \n",
       "32624     0.0  12.0  1.44   1.728   2.0736  4110   13  8680   20      0  \n",
       "32626     0.0  11.0  1.21   1.331   1.4641  1550    4  3680    6      0  \n",
       "32631     0.0  10.0  1.00   1.000   1.0000  2920    9  6570   11      0  \n",
       "32643     0.0  14.0  1.96   2.744   3.8416  1610    5  7460   14      0  \n",
       "\n",
       "[5150 rows x 21 columns]"
      ]
     },
     "execution_count": 3,
     "metadata": {},
     "output_type": "execute_result"
    }
   ],
   "source": [
    "data[\"anyclg\"] = 0\n",
    "data"
   ]
  },
  {
   "cell_type": "code",
   "execution_count": 4,
   "metadata": {},
   "outputs": [
    {
     "data": {
      "text/html": [
       "<div>\n",
       "<style scoped>\n",
       "    .dataframe tbody tr th:only-of-type {\n",
       "        vertical-align: middle;\n",
       "    }\n",
       "\n",
       "    .dataframe tbody tr th {\n",
       "        vertical-align: top;\n",
       "    }\n",
       "\n",
       "    .dataframe thead th {\n",
       "        text-align: right;\n",
       "    }\n",
       "</style>\n",
       "<table border=\"1\" class=\"dataframe\">\n",
       "  <thead>\n",
       "    <tr style=\"text-align: right;\">\n",
       "      <th></th>\n",
       "      <th>wage</th>\n",
       "      <th>lwage</th>\n",
       "      <th>sex</th>\n",
       "      <th>shs</th>\n",
       "      <th>hsg</th>\n",
       "      <th>scl</th>\n",
       "      <th>clg</th>\n",
       "      <th>ad</th>\n",
       "      <th>mw</th>\n",
       "      <th>so</th>\n",
       "      <th>...</th>\n",
       "      <th>ne</th>\n",
       "      <th>exp1</th>\n",
       "      <th>exp2</th>\n",
       "      <th>exp3</th>\n",
       "      <th>exp4</th>\n",
       "      <th>occ</th>\n",
       "      <th>occ2</th>\n",
       "      <th>ind</th>\n",
       "      <th>ind2</th>\n",
       "      <th>anyclg</th>\n",
       "    </tr>\n",
       "    <tr>\n",
       "      <th>rownames</th>\n",
       "      <th></th>\n",
       "      <th></th>\n",
       "      <th></th>\n",
       "      <th></th>\n",
       "      <th></th>\n",
       "      <th></th>\n",
       "      <th></th>\n",
       "      <th></th>\n",
       "      <th></th>\n",
       "      <th></th>\n",
       "      <th></th>\n",
       "      <th></th>\n",
       "      <th></th>\n",
       "      <th></th>\n",
       "      <th></th>\n",
       "      <th></th>\n",
       "      <th></th>\n",
       "      <th></th>\n",
       "      <th></th>\n",
       "      <th></th>\n",
       "      <th></th>\n",
       "    </tr>\n",
       "  </thead>\n",
       "  <tbody>\n",
       "    <tr>\n",
       "      <th>10</th>\n",
       "      <td>9.615385</td>\n",
       "      <td>2.263364</td>\n",
       "      <td>1.0</td>\n",
       "      <td>0.0</td>\n",
       "      <td>0.0</td>\n",
       "      <td>0.0</td>\n",
       "      <td>1.0</td>\n",
       "      <td>0.0</td>\n",
       "      <td>0.0</td>\n",
       "      <td>0.0</td>\n",
       "      <td>...</td>\n",
       "      <td>1.0</td>\n",
       "      <td>7.0</td>\n",
       "      <td>0.49</td>\n",
       "      <td>0.343</td>\n",
       "      <td>0.2401</td>\n",
       "      <td>3600</td>\n",
       "      <td>11</td>\n",
       "      <td>8370</td>\n",
       "      <td>18</td>\n",
       "      <td>1</td>\n",
       "    </tr>\n",
       "    <tr>\n",
       "      <th>12</th>\n",
       "      <td>48.076923</td>\n",
       "      <td>3.872802</td>\n",
       "      <td>0.0</td>\n",
       "      <td>0.0</td>\n",
       "      <td>0.0</td>\n",
       "      <td>0.0</td>\n",
       "      <td>1.0</td>\n",
       "      <td>0.0</td>\n",
       "      <td>0.0</td>\n",
       "      <td>0.0</td>\n",
       "      <td>...</td>\n",
       "      <td>1.0</td>\n",
       "      <td>31.0</td>\n",
       "      <td>9.61</td>\n",
       "      <td>29.791</td>\n",
       "      <td>92.3521</td>\n",
       "      <td>3050</td>\n",
       "      <td>10</td>\n",
       "      <td>5070</td>\n",
       "      <td>9</td>\n",
       "      <td>1</td>\n",
       "    </tr>\n",
       "    <tr>\n",
       "      <th>15</th>\n",
       "      <td>11.057692</td>\n",
       "      <td>2.403126</td>\n",
       "      <td>0.0</td>\n",
       "      <td>0.0</td>\n",
       "      <td>1.0</td>\n",
       "      <td>0.0</td>\n",
       "      <td>0.0</td>\n",
       "      <td>0.0</td>\n",
       "      <td>0.0</td>\n",
       "      <td>0.0</td>\n",
       "      <td>...</td>\n",
       "      <td>1.0</td>\n",
       "      <td>18.0</td>\n",
       "      <td>3.24</td>\n",
       "      <td>5.832</td>\n",
       "      <td>10.4976</td>\n",
       "      <td>6260</td>\n",
       "      <td>19</td>\n",
       "      <td>770</td>\n",
       "      <td>4</td>\n",
       "      <td>0</td>\n",
       "    </tr>\n",
       "    <tr>\n",
       "      <th>18</th>\n",
       "      <td>13.942308</td>\n",
       "      <td>2.634928</td>\n",
       "      <td>1.0</td>\n",
       "      <td>0.0</td>\n",
       "      <td>0.0</td>\n",
       "      <td>0.0</td>\n",
       "      <td>0.0</td>\n",
       "      <td>1.0</td>\n",
       "      <td>0.0</td>\n",
       "      <td>0.0</td>\n",
       "      <td>...</td>\n",
       "      <td>1.0</td>\n",
       "      <td>25.0</td>\n",
       "      <td>6.25</td>\n",
       "      <td>15.625</td>\n",
       "      <td>39.0625</td>\n",
       "      <td>420</td>\n",
       "      <td>1</td>\n",
       "      <td>6990</td>\n",
       "      <td>12</td>\n",
       "      <td>0</td>\n",
       "    </tr>\n",
       "    <tr>\n",
       "      <th>19</th>\n",
       "      <td>28.846154</td>\n",
       "      <td>3.361977</td>\n",
       "      <td>1.0</td>\n",
       "      <td>0.0</td>\n",
       "      <td>0.0</td>\n",
       "      <td>0.0</td>\n",
       "      <td>1.0</td>\n",
       "      <td>0.0</td>\n",
       "      <td>0.0</td>\n",
       "      <td>0.0</td>\n",
       "      <td>...</td>\n",
       "      <td>1.0</td>\n",
       "      <td>22.0</td>\n",
       "      <td>4.84</td>\n",
       "      <td>10.648</td>\n",
       "      <td>23.4256</td>\n",
       "      <td>2015</td>\n",
       "      <td>6</td>\n",
       "      <td>9470</td>\n",
       "      <td>22</td>\n",
       "      <td>1</td>\n",
       "    </tr>\n",
       "    <tr>\n",
       "      <th>...</th>\n",
       "      <td>...</td>\n",
       "      <td>...</td>\n",
       "      <td>...</td>\n",
       "      <td>...</td>\n",
       "      <td>...</td>\n",
       "      <td>...</td>\n",
       "      <td>...</td>\n",
       "      <td>...</td>\n",
       "      <td>...</td>\n",
       "      <td>...</td>\n",
       "      <td>...</td>\n",
       "      <td>...</td>\n",
       "      <td>...</td>\n",
       "      <td>...</td>\n",
       "      <td>...</td>\n",
       "      <td>...</td>\n",
       "      <td>...</td>\n",
       "      <td>...</td>\n",
       "      <td>...</td>\n",
       "      <td>...</td>\n",
       "      <td>...</td>\n",
       "    </tr>\n",
       "    <tr>\n",
       "      <th>32620</th>\n",
       "      <td>14.769231</td>\n",
       "      <td>2.692546</td>\n",
       "      <td>0.0</td>\n",
       "      <td>0.0</td>\n",
       "      <td>0.0</td>\n",
       "      <td>0.0</td>\n",
       "      <td>1.0</td>\n",
       "      <td>0.0</td>\n",
       "      <td>0.0</td>\n",
       "      <td>0.0</td>\n",
       "      <td>...</td>\n",
       "      <td>0.0</td>\n",
       "      <td>9.0</td>\n",
       "      <td>0.81</td>\n",
       "      <td>0.729</td>\n",
       "      <td>0.6561</td>\n",
       "      <td>4700</td>\n",
       "      <td>16</td>\n",
       "      <td>4970</td>\n",
       "      <td>9</td>\n",
       "      <td>1</td>\n",
       "    </tr>\n",
       "    <tr>\n",
       "      <th>32624</th>\n",
       "      <td>23.076923</td>\n",
       "      <td>3.138833</td>\n",
       "      <td>1.0</td>\n",
       "      <td>0.0</td>\n",
       "      <td>0.0</td>\n",
       "      <td>1.0</td>\n",
       "      <td>0.0</td>\n",
       "      <td>0.0</td>\n",
       "      <td>0.0</td>\n",
       "      <td>0.0</td>\n",
       "      <td>...</td>\n",
       "      <td>0.0</td>\n",
       "      <td>12.0</td>\n",
       "      <td>1.44</td>\n",
       "      <td>1.728</td>\n",
       "      <td>2.0736</td>\n",
       "      <td>4110</td>\n",
       "      <td>13</td>\n",
       "      <td>8680</td>\n",
       "      <td>20</td>\n",
       "      <td>1</td>\n",
       "    </tr>\n",
       "    <tr>\n",
       "      <th>32626</th>\n",
       "      <td>38.461538</td>\n",
       "      <td>3.649659</td>\n",
       "      <td>0.0</td>\n",
       "      <td>0.0</td>\n",
       "      <td>0.0</td>\n",
       "      <td>0.0</td>\n",
       "      <td>0.0</td>\n",
       "      <td>1.0</td>\n",
       "      <td>0.0</td>\n",
       "      <td>0.0</td>\n",
       "      <td>...</td>\n",
       "      <td>0.0</td>\n",
       "      <td>11.0</td>\n",
       "      <td>1.21</td>\n",
       "      <td>1.331</td>\n",
       "      <td>1.4641</td>\n",
       "      <td>1550</td>\n",
       "      <td>4</td>\n",
       "      <td>3680</td>\n",
       "      <td>6</td>\n",
       "      <td>0</td>\n",
       "    </tr>\n",
       "    <tr>\n",
       "      <th>32631</th>\n",
       "      <td>32.967033</td>\n",
       "      <td>3.495508</td>\n",
       "      <td>0.0</td>\n",
       "      <td>0.0</td>\n",
       "      <td>1.0</td>\n",
       "      <td>0.0</td>\n",
       "      <td>0.0</td>\n",
       "      <td>0.0</td>\n",
       "      <td>0.0</td>\n",
       "      <td>0.0</td>\n",
       "      <td>...</td>\n",
       "      <td>0.0</td>\n",
       "      <td>10.0</td>\n",
       "      <td>1.00</td>\n",
       "      <td>1.000</td>\n",
       "      <td>1.0000</td>\n",
       "      <td>2920</td>\n",
       "      <td>9</td>\n",
       "      <td>6570</td>\n",
       "      <td>11</td>\n",
       "      <td>0</td>\n",
       "    </tr>\n",
       "    <tr>\n",
       "      <th>32643</th>\n",
       "      <td>17.307692</td>\n",
       "      <td>2.851151</td>\n",
       "      <td>0.0</td>\n",
       "      <td>0.0</td>\n",
       "      <td>0.0</td>\n",
       "      <td>0.0</td>\n",
       "      <td>0.0</td>\n",
       "      <td>1.0</td>\n",
       "      <td>0.0</td>\n",
       "      <td>0.0</td>\n",
       "      <td>...</td>\n",
       "      <td>0.0</td>\n",
       "      <td>14.0</td>\n",
       "      <td>1.96</td>\n",
       "      <td>2.744</td>\n",
       "      <td>3.8416</td>\n",
       "      <td>1610</td>\n",
       "      <td>5</td>\n",
       "      <td>7460</td>\n",
       "      <td>14</td>\n",
       "      <td>0</td>\n",
       "    </tr>\n",
       "  </tbody>\n",
       "</table>\n",
       "<p>5150 rows × 21 columns</p>\n",
       "</div>"
      ],
      "text/plain": [
       "               wage     lwage  sex  shs  hsg  scl  clg   ad   mw   so  ...  \\\n",
       "rownames                                                               ...   \n",
       "10         9.615385  2.263364  1.0  0.0  0.0  0.0  1.0  0.0  0.0  0.0  ...   \n",
       "12        48.076923  3.872802  0.0  0.0  0.0  0.0  1.0  0.0  0.0  0.0  ...   \n",
       "15        11.057692  2.403126  0.0  0.0  1.0  0.0  0.0  0.0  0.0  0.0  ...   \n",
       "18        13.942308  2.634928  1.0  0.0  0.0  0.0  0.0  1.0  0.0  0.0  ...   \n",
       "19        28.846154  3.361977  1.0  0.0  0.0  0.0  1.0  0.0  0.0  0.0  ...   \n",
       "...             ...       ...  ...  ...  ...  ...  ...  ...  ...  ...  ...   \n",
       "32620     14.769231  2.692546  0.0  0.0  0.0  0.0  1.0  0.0  0.0  0.0  ...   \n",
       "32624     23.076923  3.138833  1.0  0.0  0.0  1.0  0.0  0.0  0.0  0.0  ...   \n",
       "32626     38.461538  3.649659  0.0  0.0  0.0  0.0  0.0  1.0  0.0  0.0  ...   \n",
       "32631     32.967033  3.495508  0.0  0.0  1.0  0.0  0.0  0.0  0.0  0.0  ...   \n",
       "32643     17.307692  2.851151  0.0  0.0  0.0  0.0  0.0  1.0  0.0  0.0  ...   \n",
       "\n",
       "           ne  exp1  exp2    exp3     exp4   occ occ2   ind ind2 anyclg  \n",
       "rownames                                                                 \n",
       "10        1.0   7.0  0.49   0.343   0.2401  3600   11  8370   18      1  \n",
       "12        1.0  31.0  9.61  29.791  92.3521  3050   10  5070    9      1  \n",
       "15        1.0  18.0  3.24   5.832  10.4976  6260   19   770    4      0  \n",
       "18        1.0  25.0  6.25  15.625  39.0625   420    1  6990   12      0  \n",
       "19        1.0  22.0  4.84  10.648  23.4256  2015    6  9470   22      1  \n",
       "...       ...   ...   ...     ...      ...   ...  ...   ...  ...    ...  \n",
       "32620     0.0   9.0  0.81   0.729   0.6561  4700   16  4970    9      1  \n",
       "32624     0.0  12.0  1.44   1.728   2.0736  4110   13  8680   20      1  \n",
       "32626     0.0  11.0  1.21   1.331   1.4641  1550    4  3680    6      0  \n",
       "32631     0.0  10.0  1.00   1.000   1.0000  2920    9  6570   11      0  \n",
       "32643     0.0  14.0  1.96   2.744   3.8416  1610    5  7460   14      0  \n",
       "\n",
       "[5150 rows x 21 columns]"
      ]
     },
     "execution_count": 4,
     "metadata": {},
     "output_type": "execute_result"
    }
   ],
   "source": [
    "data.loc[(data[ 'scl' ] == 1) |(data[ 'clg' ] == 1),'anyclg'] = 1\n",
    "data"
   ]
  },
  {
   "cell_type": "markdown",
   "metadata": {
    "papermill": {
     "duration": 0.020145,
     "end_time": "2021-02-21T17:17:48.235598",
     "exception": false,
     "start_time": "2021-02-21T17:17:48.215453",
     "status": "completed"
    },
    "tags": []
   },
   "source": [
    "To start our (causal) analysis, we compare the sample means given gender:"
   ]
  },
  {
   "cell_type": "code",
   "execution_count": 7,
   "metadata": {},
   "outputs": [
    {
     "data": {
      "text/plain": [
       "(3068, 21)"
      ]
     },
     "execution_count": 7,
     "metadata": {},
     "output_type": "execute_result"
    }
   ],
   "source": [
    "data = data[data[\"anyclg\"]==1]\n",
    "data.shape"
   ]
  },
  {
   "cell_type": "code",
   "execution_count": null,
   "metadata": {},
   "outputs": [],
   "source": []
  },
  {
   "cell_type": "code",
   "execution_count": 8,
   "metadata": {
    "scrolled": true
   },
   "outputs": [
    {
     "data": {
      "text/html": [
       "<div>\n",
       "<style scoped>\n",
       "    .dataframe tbody tr th:only-of-type {\n",
       "        vertical-align: middle;\n",
       "    }\n",
       "\n",
       "    .dataframe tbody tr th {\n",
       "        vertical-align: top;\n",
       "    }\n",
       "\n",
       "    .dataframe thead th {\n",
       "        text-align: right;\n",
       "    }\n",
       "</style>\n",
       "<table border=\"1\" class=\"dataframe\">\n",
       "  <thead>\n",
       "    <tr style=\"text-align: right;\">\n",
       "      <th></th>\n",
       "      <th>All</th>\n",
       "      <th>Men</th>\n",
       "      <th>Women</th>\n",
       "    </tr>\n",
       "  </thead>\n",
       "  <tbody>\n",
       "    <tr>\n",
       "      <th>Log Wage</th>\n",
       "      <td>3.000022</td>\n",
       "      <td>3.038412</td>\n",
       "      <td>2.956904</td>\n",
       "    </tr>\n",
       "    <tr>\n",
       "      <th>Sex</th>\n",
       "      <td>0.470991</td>\n",
       "      <td>0.000000</td>\n",
       "      <td>1.000000</td>\n",
       "    </tr>\n",
       "    <tr>\n",
       "      <th>Less then High School</th>\n",
       "      <td>0.000000</td>\n",
       "      <td>0.000000</td>\n",
       "      <td>0.000000</td>\n",
       "    </tr>\n",
       "    <tr>\n",
       "      <th>High School Graduate</th>\n",
       "      <td>0.000000</td>\n",
       "      <td>0.000000</td>\n",
       "      <td>0.000000</td>\n",
       "    </tr>\n",
       "    <tr>\n",
       "      <th>Some College</th>\n",
       "      <td>0.466754</td>\n",
       "      <td>0.481824</td>\n",
       "      <td>0.449827</td>\n",
       "    </tr>\n",
       "    <tr>\n",
       "      <th>Gollage Graduate</th>\n",
       "      <td>0.533246</td>\n",
       "      <td>0.518176</td>\n",
       "      <td>0.550173</td>\n",
       "    </tr>\n",
       "    <tr>\n",
       "      <th>Advanced Degree</th>\n",
       "      <td>0.000000</td>\n",
       "      <td>0.000000</td>\n",
       "      <td>0.000000</td>\n",
       "    </tr>\n",
       "    <tr>\n",
       "      <th>Northeast</th>\n",
       "      <td>0.226532</td>\n",
       "      <td>0.219347</td>\n",
       "      <td>0.234602</td>\n",
       "    </tr>\n",
       "    <tr>\n",
       "      <th>Midwest</th>\n",
       "      <td>0.265971</td>\n",
       "      <td>0.261245</td>\n",
       "      <td>0.271280</td>\n",
       "    </tr>\n",
       "    <tr>\n",
       "      <th>South</th>\n",
       "      <td>0.285854</td>\n",
       "      <td>0.290819</td>\n",
       "      <td>0.280277</td>\n",
       "    </tr>\n",
       "    <tr>\n",
       "      <th>West</th>\n",
       "      <td>0.221643</td>\n",
       "      <td>0.228589</td>\n",
       "      <td>0.213841</td>\n",
       "    </tr>\n",
       "    <tr>\n",
       "      <th>Experience</th>\n",
       "      <td>12.700945</td>\n",
       "      <td>12.433148</td>\n",
       "      <td>13.001730</td>\n",
       "    </tr>\n",
       "  </tbody>\n",
       "</table>\n",
       "</div>"
      ],
      "text/plain": [
       "                             All        Men      Women\n",
       "Log Wage                3.000022   3.038412   2.956904\n",
       "Sex                     0.470991   0.000000   1.000000\n",
       "Less then High School   0.000000   0.000000   0.000000\n",
       "High School Graduate    0.000000   0.000000   0.000000\n",
       "Some College            0.466754   0.481824   0.449827\n",
       "Gollage Graduate        0.533246   0.518176   0.550173\n",
       "Advanced Degree         0.000000   0.000000   0.000000\n",
       "Northeast               0.226532   0.219347   0.234602\n",
       "Midwest                 0.265971   0.261245   0.271280\n",
       "South                   0.285854   0.290819   0.280277\n",
       "West                    0.221643   0.228589   0.213841\n",
       "Experience             12.700945  12.433148  13.001730"
      ]
     },
     "execution_count": 8,
     "metadata": {},
     "output_type": "execute_result"
    }
   ],
   "source": [
    "Z = data[ [\"lwage\",\"sex\",\"shs\",\"hsg\",\"scl\",\"clg\",\"ad\",\"ne\",\"mw\",\"so\",\"we\",\"exp1\"] ]\n",
    "\n",
    "data_female = data[data[ 'sex' ] == 1 ]\n",
    "Z_female = data_female[ [\"lwage\",\"sex\",\"shs\",\"hsg\",\"scl\",\"clg\",\"ad\",\"ne\",\"mw\",\"so\",\"we\",\"exp1\"] ]\n",
    "\n",
    "data_male = data[ data[ 'sex' ] == 0 ]\n",
    "Z_male = data_male[ [ \"lwage\",\"sex\",\"shs\",\"hsg\",\"scl\",\"clg\",\"ad\",\"ne\",\"mw\",\"so\",\"we\",\"exp1\" ] ]\n",
    "\n",
    "\n",
    "table = np.zeros( (12, 3) )\n",
    "table[:, 0] = Z.mean().values\n",
    "table[:, 1] = Z_male.mean().values\n",
    "table[:, 2] = Z_female.mean().values\n",
    "table_pandas = pd.DataFrame( table, columns = [ 'All', 'Men', 'Women'])\n",
    "table_pandas.index = [\"Log Wage\",\"Sex\",\"Less then High School\",\"High School Graduate\",\"Some College\",\"Gollage Graduate\",\"Advanced Degree\", \"Northeast\",\"Midwest\",\"South\",\"West\",\"Experience\"]\n",
    "table_html = table_pandas.to_html()\n",
    "\n",
    "table_pandas"
   ]
  },
  {
   "cell_type": "code",
   "execution_count": null,
   "metadata": {},
   "outputs": [],
   "source": []
  },
  {
   "cell_type": "code",
   "execution_count": 11,
   "metadata": {},
   "outputs": [
    {
     "name": "stdout",
     "output_type": "stream",
     "text": [
      "<table border=\"1\" class=\"dataframe\">\n",
      "  <thead>\n",
      "    <tr style=\"text-align: right;\">\n",
      "      <th></th>\n",
      "      <th>All</th>\n",
      "      <th>Men</th>\n",
      "      <th>Women</th>\n",
      "    </tr>\n",
      "  </thead>\n",
      "  <tbody>\n",
      "    <tr>\n",
      "      <th>Log Wage</th>\n",
      "      <td>3.000022</td>\n",
      "      <td>3.038412</td>\n",
      "      <td>2.956904</td>\n",
      "    </tr>\n",
      "    <tr>\n",
      "      <th>Sex</th>\n",
      "      <td>0.470991</td>\n",
      "      <td>0.000000</td>\n",
      "      <td>1.000000</td>\n",
      "    </tr>\n",
      "    <tr>\n",
      "      <th>Less then High School</th>\n",
      "      <td>0.000000</td>\n",
      "      <td>0.000000</td>\n",
      "      <td>0.000000</td>\n",
      "    </tr>\n",
      "    <tr>\n",
      "      <th>High School Graduate</th>\n",
      "      <td>0.000000</td>\n",
      "      <td>0.000000</td>\n",
      "      <td>0.000000</td>\n",
      "    </tr>\n",
      "    <tr>\n",
      "      <th>Some College</th>\n",
      "      <td>0.466754</td>\n",
      "      <td>0.481824</td>\n",
      "      <td>0.449827</td>\n",
      "    </tr>\n",
      "    <tr>\n",
      "      <th>Gollage Graduate</th>\n",
      "      <td>0.533246</td>\n",
      "      <td>0.518176</td>\n",
      "      <td>0.550173</td>\n",
      "    </tr>\n",
      "    <tr>\n",
      "      <th>Advanced Degree</th>\n",
      "      <td>0.000000</td>\n",
      "      <td>0.000000</td>\n",
      "      <td>0.000000</td>\n",
      "    </tr>\n",
      "    <tr>\n",
      "      <th>Northeast</th>\n",
      "      <td>0.226532</td>\n",
      "      <td>0.219347</td>\n",
      "      <td>0.234602</td>\n",
      "    </tr>\n",
      "    <tr>\n",
      "      <th>Midwest</th>\n",
      "      <td>0.265971</td>\n",
      "      <td>0.261245</td>\n",
      "      <td>0.271280</td>\n",
      "    </tr>\n",
      "    <tr>\n",
      "      <th>South</th>\n",
      "      <td>0.285854</td>\n",
      "      <td>0.290819</td>\n",
      "      <td>0.280277</td>\n",
      "    </tr>\n",
      "    <tr>\n",
      "      <th>West</th>\n",
      "      <td>0.221643</td>\n",
      "      <td>0.228589</td>\n",
      "      <td>0.213841</td>\n",
      "    </tr>\n",
      "    <tr>\n",
      "      <th>Experience</th>\n",
      "      <td>12.700945</td>\n",
      "      <td>12.433148</td>\n",
      "      <td>13.001730</td>\n",
      "    </tr>\n",
      "  </tbody>\n",
      "</table>\n"
     ]
    }
   ],
   "source": [
    "print( table_html )"
   ]
  },
  {
   "cell_type": "markdown",
   "metadata": {
    "papermill": {
     "duration": 0.020634,
     "end_time": "2021-02-21T17:17:48.532828",
     "exception": false,
     "start_time": "2021-02-21T17:17:48.512194",
     "status": "completed"
    },
    "tags": []
   },
   "source": [
    "In particular, the table above shows that the difference in average *logwage* between men and women is equal to $0,038$"
   ]
  },
  {
   "cell_type": "code",
   "execution_count": 12,
   "metadata": {
    "scrolled": true
   },
   "outputs": [
    {
     "data": {
      "text/plain": [
       "-0.08150855508736621"
      ]
     },
     "execution_count": 12,
     "metadata": {},
     "output_type": "execute_result"
    }
   ],
   "source": [
    "data_female['lwage'].mean() - data_male['lwage'].mean()"
   ]
  },
  {
   "cell_type": "markdown",
   "metadata": {
    "papermill": {
     "duration": 0.022161,
     "end_time": "2021-02-21T17:17:48.635417",
     "exception": false,
     "start_time": "2021-02-21T17:17:48.613256",
     "status": "completed"
    },
    "tags": []
   },
   "source": [
    "Thus, the unconditional gender wage gap is about $-8,1$\\%, we can see that there are more mens with unfinished college that complete college. On the other hand, there are more womans with unfinished college that womans with finished college."
   ]
  },
  {
   "cell_type": "markdown",
   "metadata": {
    "papermill": {
     "duration": 0.02073,
     "end_time": "2021-02-21T17:17:48.677447",
     "exception": false,
     "start_time": "2021-02-21T17:17:48.656717",
     "status": "completed"
    },
    "tags": []
   },
   "source": [
    "This unconditional (predictive) effect of gender equals the coefficient $\\beta$ in the univariate ols regression of $Y$ on $D$:\n",
    "\n",
    "\\begin{align}\n",
    "\\log(Y) &=\\beta D + \\epsilon.\n",
    "\\end{align}"
   ]
  },
  {
   "cell_type": "markdown",
   "metadata": {
    "papermill": {
     "duration": 0.020929,
     "end_time": "2021-02-21T17:17:48.718630",
     "exception": false,
     "start_time": "2021-02-21T17:17:48.697701",
     "status": "completed"
    },
    "tags": []
   },
   "source": [
    "We verify this by running an ols regression in R."
   ]
  },
  {
   "cell_type": "code",
   "execution_count": 13,
   "metadata": {
    "hide_input": true
   },
   "outputs": [],
   "source": [
    "import statsmodels.api as sm\n",
    "import statsmodels.formula.api as smf"
   ]
  },
  {
   "cell_type": "code",
   "execution_count": 14,
   "metadata": {},
   "outputs": [
    {
     "data": {
      "text/plain": [
       "array([[ 0.00019006, -0.00019006],\n",
       "       [-0.00019006,  0.00038336]])"
      ]
     },
     "execution_count": 14,
     "metadata": {},
     "output_type": "execute_result"
    }
   ],
   "source": [
    "nocontrol_model = smf.ols( formula = 'lwage ~ sex', data = data )\n",
    "nocontrol_est = nocontrol_model.fit().summary2().tables[1]['Coef.']['sex']\n",
    "nocontrol_model.fit().cov_HC0"
   ]
  },
  {
   "cell_type": "code",
   "execution_count": 15,
   "metadata": {
    "scrolled": true
   },
   "outputs": [
    {
     "name": "stdout",
     "output_type": "stream",
     "text": [
      "The estimated gender coefficient is -0.08150855508736154 and the corresponding robust standard error is 0.019579647767772344\n"
     ]
    }
   ],
   "source": [
    "nocontrol_model = smf.ols( formula = 'lwage ~ sex', data = data )\n",
    "nocontrol_est = nocontrol_model.fit().summary2().tables[1]['Coef.']['sex']\n",
    "HCV_coefs = nocontrol_model.fit().cov_HC0\n",
    "nocontrol_se = np.power( HCV_coefs.diagonal() , 0.5)[1]\n",
    "\n",
    "# print unconditional effect of gender and the corresponding standard error\n",
    "print( f'The estimated gender coefficient is {nocontrol_est} and the corresponding robust standard error is {nocontrol_se}' )"
   ]
  },
  {
   "cell_type": "markdown",
   "metadata": {
    "papermill": {
     "duration": 0.02196,
     "end_time": "2021-02-21T17:17:48.991015",
     "exception": false,
     "start_time": "2021-02-21T17:17:48.969055",
     "status": "completed"
    },
    "tags": []
   },
   "source": [
    "Note that the standard error is computed with the *R* package *sandwich* to be robust to heteroskedasticity. \n"
   ]
  },
  {
   "cell_type": "markdown",
   "metadata": {
    "papermill": {
     "duration": 0.021605,
     "end_time": "2021-02-21T17:17:49.034485",
     "exception": false,
     "start_time": "2021-02-21T17:17:49.012880",
     "status": "completed"
    },
    "tags": []
   },
   "source": [
    "Next, we run an ols regression of $Y$ on $(D,W)$ to control for the effect of covariates summarized in $W$:\n",
    "\n",
    "\\begin{align}\n",
    "\\log(Y) &=\\beta_1 D  + \\beta_2' W + \\epsilon.\n",
    "\\end{align}\n",
    "\n",
    "Here, we are considering the flexible model from the previous lab. Hence, $W$ controls for experience, education, region, and occupation and industry indicators plus transformations and two-way interactions."
   ]
  },
  {
   "cell_type": "markdown",
   "metadata": {
    "papermill": {
     "duration": 0.021109,
     "end_time": "2021-02-21T17:17:49.076809",
     "exception": false,
     "start_time": "2021-02-21T17:17:49.055700",
     "status": "completed"
    },
    "tags": []
   },
   "source": [
    "Let us run the ols regression with controls."
   ]
  },
  {
   "cell_type": "markdown",
   "metadata": {},
   "source": [
    "## Ols regression with controls"
   ]
  },
  {
   "cell_type": "code",
   "execution_count": 16,
   "metadata": {},
   "outputs": [
    {
     "name": "stdout",
     "output_type": "stream",
     "text": [
      "               Coef.  Std.Err.         t         P>|t|    [0.025    0.975]\n",
      "Intercept   2.073357  0.214419  9.669647  8.761691e-22  1.652924  2.493790\n",
      "occ2[T.10]  0.091982  0.243220  0.378184  7.053225e-01 -0.384925  0.568888\n",
      "occ2[T.11] -0.499418  0.436858 -1.143202  2.530511e-01 -1.356010  0.357175\n",
      "occ2[T.12]  0.190101  0.341142  0.557249  5.774012e-01 -0.478810  0.859012\n",
      "occ2[T.13] -0.194529  0.271881 -0.715492  4.743637e-01 -0.727633  0.338575\n",
      "...              ...       ...       ...           ...       ...       ...\n",
      "exp4:scl    0.021375  0.022071  0.968465  3.328946e-01 -0.021902  0.064653\n",
      "exp4:clg    0.007909  0.021929  0.360650  7.183881e-01 -0.035090  0.050908\n",
      "exp4:mw     0.014287  0.025814  0.553477  5.799802e-01 -0.036328  0.064902\n",
      "exp4:so    -0.003759  0.022547 -0.166725  8.675981e-01 -0.047968  0.040450\n",
      "exp4:we     0.028286  0.023812  1.187890  2.349761e-01 -0.018405  0.074978\n",
      "\n",
      "[246 rows x 6 columns]\n",
      "Coefficient for OLS with controls -0.053062340357748546\n"
     ]
    }
   ],
   "source": [
    "flex = 'lwage ~ sex + (exp1+exp2+exp3+exp4)*(shs+hsg+scl+clg+occ2+ind2+mw+so+we)'\n",
    "\n",
    "# The smf api replicates R script when it transform data\n",
    "control_model = smf.ols( formula = flex, data = data )\n",
    "control_est = control_model.fit().summary2().tables[1]['Coef.']['sex']\n",
    "\n",
    "print(control_model.fit().summary2().tables[1])\n",
    "print( f\"Coefficient for OLS with controls {control_est}\" )\n",
    "\n",
    "HCV_coefs = control_model.fit().cov_HC0\n",
    "control_se = np.power( HCV_coefs.diagonal() , 0.5)[1]"
   ]
  },
  {
   "cell_type": "markdown",
   "metadata": {
    "papermill": {
     "duration": 0.040523,
     "end_time": "2021-02-21T17:17:49.873210",
     "exception": false,
     "start_time": "2021-02-21T17:17:49.832687",
     "status": "completed"
    },
    "tags": []
   },
   "source": [
    "The estimated regression coefficient $\\beta_1\\approx-0.05$ measures how our linear prediction of wage changes if we set the gender variable $D$ from 0 to 1, holding the controls $W$ fixed.\n",
    "We can call this the *predictive effect* (PE), as it measures the impact of a variable on the prediction we make. Overall, we see that the unconditional wage gap of size $8.1$\\% for women increases to about $5.3$\\% after controlling for worker characteristics.  \n"
   ]
  },
  {
   "cell_type": "markdown",
   "metadata": {
    "papermill": {
     "duration": 0.023222,
     "end_time": "2021-02-21T17:17:49.931749",
     "exception": false,
     "start_time": "2021-02-21T17:17:49.908527",
     "status": "completed"
    },
    "tags": []
   },
   "source": [
    "Next, we are using the Frisch-Waugh-Lovell theorem from the lecture partialling-out the linear effect of the controls via ols."
   ]
  },
  {
   "cell_type": "markdown",
   "metadata": {},
   "source": [
    "## Partialling-Out using ols"
   ]
  },
  {
   "cell_type": "code",
   "execution_count": 17,
   "metadata": {},
   "outputs": [
    {
     "name": "stdout",
     "output_type": "stream",
     "text": [
      "Coefficient for D via partialling-out -0.05306234035775369\n"
     ]
    },
    {
     "data": {
      "text/plain": [
       "0   -0.089571\n",
       "1   -0.016554\n",
       "Name: t_D, dtype: float64"
      ]
     },
     "execution_count": 17,
     "metadata": {},
     "output_type": "execute_result"
    }
   ],
   "source": [
    "# models\n",
    "# model for Y\n",
    "flex_y = 'lwage ~  (exp1+exp2+exp3+exp4)*(shs+hsg+scl+clg+occ2+ind2+mw+so+we)'\n",
    "# model for D\n",
    "flex_d = 'sex ~ (exp1+exp2+exp3+exp4)*(shs+hsg+scl+clg+occ2+ind2+mw+so+we)' \n",
    "\n",
    "# partialling-out the linear effect of W from Y\n",
    "t_Y = smf.ols( formula = flex_y , data = data ).fit().resid\n",
    "\n",
    "# partialling-out the linear effect of W from D\n",
    "t_D = smf.ols( formula = flex_d , data = data ).fit().resid\n",
    "\n",
    "data_res = pd.DataFrame( np.vstack(( t_Y.values , t_D.values )).T , columns = [ 't_Y', 't_D' ] )\n",
    "# regression of Y on D after partialling-out the effect of W\n",
    "partial_fit =  smf.ols( formula = 't_Y ~ t_D' , data = data_res ).fit()\n",
    "partial_est = partial_fit.summary2().tables[1]['Coef.']['t_D']\n",
    "\n",
    "print(\"Coefficient for D via partialling-out\", partial_est)\n",
    "\n",
    "# standard error\n",
    "HCV_coefs = partial_fit.cov_HC0\n",
    "partial_se = np.power( HCV_coefs.diagonal() , 0.5)[1]\n",
    "\n",
    "# confidence interval\n",
    "partial_fit.conf_int( alpha=0.05 ).iloc[1, :]"
   ]
  },
  {
   "cell_type": "markdown",
   "metadata": {
    "papermill": {
     "duration": 0.023907,
     "end_time": "2021-02-21T17:17:50.458203",
     "exception": false,
     "start_time": "2021-02-21T17:17:50.434296",
     "status": "completed"
    },
    "tags": []
   },
   "source": [
    "Again, the estimated coefficient measures the linear predictive effect (PE) of $D$ on $Y$ after taking out the linear effect of $W$ on both of these variables. This coefficient equals the estimated coefficient from the ols regression with controls."
   ]
  },
  {
   "cell_type": "markdown",
   "metadata": {
    "papermill": {
     "duration": 0.024507,
     "end_time": "2021-02-21T17:17:50.507023",
     "exception": false,
     "start_time": "2021-02-21T17:17:50.482516",
     "status": "completed"
    },
    "tags": []
   },
   "source": [
    "We know that the partialling-out approach works well when the dimension of $W$ is low\n",
    "in relation to the sample size $n$. When the dimension of $W$ is relatively high, we need to use variable selection\n",
    "or penalization for regularization purposes. "
   ]
  },
  {
   "cell_type": "markdown",
   "metadata": {},
   "source": [
    "## Graphic"
   ]
  },
  {
   "cell_type": "code",
   "execution_count": 22,
   "metadata": {},
   "outputs": [
    {
     "data": {
      "text/plain": [
       "<matplotlib.legend.Legend at 0x1ceb12679a0>"
      ]
     },
     "execution_count": 22,
     "metadata": {},
     "output_type": "execute_result"
    },
    {
     "data": {
      "image/png": "[encoded data removed]",
      "text/plain": [
       "<Figure size 864x432 with 1 Axes>"
      ]
     },
     "metadata": {
      "needs_background": "light"
     },
     "output_type": "display_data"
    }
   ],
   "source": [
    "plt.figure(figsize=(12,6))\n",
    "\n",
    "ax=sns.lineplot(x=data[data['clg']==1].exp1,y=data[data['clg']==1].lwage,estimator=np.mean,color='b',ci=None)\n",
    "sns.regplot(x=data[data['clg']==1].exp1,y=data[data['clg']==1].lwage,color='blue',scatter=False,order=2,x_jitter=.001,x_estimator=np.mean,fit_reg=True,ci=None,line_kws={'lw':1.5})\n",
    "sns.lineplot(x=data[data['scl']==1].exp1,y=data[data['scl']==1].lwage,estimator=np.mean,color='r',ci=None)\n",
    "sns.regplot(x=data[data['scl']==1].exp1,y=data[data['scl']==1].lwage,color='red',scatter=False,order=2,x_jitter=.001,x_estimator=np.mean,fit_reg=True,ci=None,line_kws={'lw':1.5})\n",
    "ax.lines[1].set_linestyle(\"--\")\n",
    "ax.lines[3].set_linestyle(\"--\")\n",
    "plt.xlabel('Years of experience')\n",
    "plt.ylabel('Log Wage (or Wage Gap)')\n",
    "plt.title('Experience profile and Wage gap for College and Some College')\n",
    "plt.legend(['Actual College','Fitted College','Actual Some College','Fitted Some College'])"
   ]
  },
  {
   "cell_type": "markdown",
   "metadata": {},
   "source": [
    "# The proof of the Frisch-Waugh-Lovell Theorem"
   ]
  },
  {
   "cell_type": "markdown",
   "metadata": {},
   "source": [
    "We can start defining the main equation as:"
   ]
  },
  {
   "cell_type": "markdown",
   "metadata": {},
   "source": [
    "\\begin{align} \n",
    "Y= D \\beta_1 + W \\beta_2 + e\n",
    "\\end{align}"
   ]
  },
  {
   "cell_type": "markdown",
   "metadata": {},
   "source": [
    "Since we want to find $\\beta_1$, we can use the **F-W-L Theorem** to proof that we can find it by partialling-out. For that, first, we need to start by regressing $Y$ with $W$ and $D$ with $W$:"
   ]
  },
  {
   "cell_type": "markdown",
   "metadata": {},
   "source": [
    " \\begin{align} \n",
    "Y=\\alpha_{YW} W+ e_1 \\\\\n",
    "D=\\alpha_{DW} W+ e_2 \\\\\n",
    "\\end{align}"
   ]
  },
  {
   "cell_type": "markdown",
   "metadata": {},
   "source": [
    "With this, we can estimate the residual errors $\\hat{e_1}$ and $\\hat{e_2}$ after estimating the coefficients $\\hat{\\alpha_{YW}}$  and $\\hat{\\alpha_{DW}}$ using OLS. We can present them using the *waste generation matrix*:"
   ]
  },
  {
   "cell_type": "markdown",
   "metadata": {},
   "source": [
    "\\begin{align} \n",
    "\\hat{e_1}&= Y- W \\hat{\\alpha_{YW}} \\\\\n",
    "&= Y- W (W'W)^{-1} W' Y\\\\\n",
    "&= (I-W (W'W)^{-1} W')Y\\\\\n",
    "&=MY\n",
    "\\end{align}"
   ]
  },
  {
   "cell_type": "markdown",
   "metadata": {},
   "source": [
    "\\begin{align} \n",
    "\\hat{e_2}&= D- W \\hat{\\alpha_{DW}} \\\\\n",
    "&= D- W (W'W)^{-1} W' D\\\\\n",
    "&= (I-W (W'W)^{-1} W')D\\\\\n",
    "&=MD\n",
    "\\end{align}"
   ]
  },
  {
   "cell_type": "markdown",
   "metadata": {},
   "source": [
    "An interesting property of this waste generation matrix is that is *idempotent* meaning it follows:"
   ]
  },
  {
   "cell_type": "markdown",
   "metadata": {},
   "source": [
    "\\begin{align} \n",
    "M M &=  (I-W (W'W)^{-1} W')  (I-W (W'W)^{-1} W') \\\\\n",
    "&= I - W (W'W)^{-1} W' - W (W'W)^{-1} W' +  W (W'W)^{-1} W' W (W'W)^{-1} W'\\\\\n",
    "&= I - 2 W (W'W)^{-1} W' +  W (W'W)^{-1} W' \\\\\n",
    "&= I - W (W'W)^{-1} W' \\\\\n",
    "&= M\n",
    "\\end{align}"
   ]
  },
  {
   "cell_type": "markdown",
   "metadata": {},
   "source": [
    "With this in mind, we can regress $\\hat{e_1}$ and $\\hat{e_2}$ using OLS:"
   ]
  },
  {
   "cell_type": "markdown",
   "metadata": {},
   "source": [
    "\\begin{align} \n",
    "\\hat{e_1}=\\hat{e_2}+\\alpha_{e_1 e_2} + e_3\n",
    "\\end{align}"
   ]
  },
  {
   "cell_type": "markdown",
   "metadata": {},
   "source": [
    "And find that $\\hat{\\alpha_{e_1 e_2}}$= $\\beta_1$, proving the **F-W-L Theorem**:"
   ]
  },
  {
   "cell_type": "markdown",
   "metadata": {},
   "source": [
    "\\begin{align} \n",
    "\\hat{\\alpha_{e_1 e_2}}&=(\\hat{e_2}' \\hat{e_2}) ^{-1} (\\hat{e_2}'\\hat{e_1}) \\\\\n",
    "&= ( ( MD)' MD )^{-1} ( (MD)' MY) \\\\\n",
    "&= (D'M'M D ) ^{-1} (D'M'M Y) \\\\\n",
    "&= (D'D)^{-1} (D'Y) \\\\\n",
    "&= \\beta_1\n",
    "\\end{align}"
   ]
  }
 ],
 "metadata": {
  "hide_input": false,
  "kernelspec": {
   "display_name": "Python 3",
   "language": "python",
   "name": "python3"
  },
  "language_info": {
   "codemirror_mode": {
    "name": "ipython",
    "version": 3
   },
   "file_extension": ".py",
   "mimetype": "text/x-python",
   "name": "python",
   "nbconvert_exporter": "python",
   "pygments_lexer": "ipython3",
   "version": "3.8.5"
  }
 },
 "nbformat": 4,
 "nbformat_minor": 4
}
