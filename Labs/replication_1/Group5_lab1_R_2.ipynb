{
 "cells": [
  {
   "cell_type": "code",
   "execution_count": 24,
   "id": "0e9927a9",
   "metadata": {},
   "outputs": [
    {
     "name": "stderr",
     "output_type": "stream",
     "text": [
      "Warning message:\n",
      "\"package 'dplyr' was built under R version 3.6.3\"\n",
      "Attaching package: 'dplyr'\n",
      "\n",
      "The following objects are masked from 'package:stats':\n",
      "\n",
      "    filter, lag\n",
      "\n",
      "The following objects are masked from 'package:base':\n",
      "\n",
      "    intersect, setdiff, setequal, union\n",
      "\n"
     ]
    }
   ],
   "source": [
    "library(dplyr)\n",
    "library(sandwich)\n",
    "library(xtable)\n",
    "\n",
    "library(ggplot2)"
   ]
  },
  {
   "cell_type": "code",
   "execution_count": 1,
   "id": "c836c58e",
   "metadata": {},
   "outputs": [
    {
     "data": {
      "text/html": [
       "<ol class=list-inline>\n",
       "\t<li>5150</li>\n",
       "\t<li>20</li>\n",
       "</ol>\n"
      ],
      "text/latex": [
       "\\begin{enumerate*}\n",
       "\\item 5150\n",
       "\\item 20\n",
       "\\end{enumerate*}\n"
      ],
      "text/markdown": [
       "1. 5150\n",
       "2. 20\n",
       "\n",
       "\n"
      ],
      "text/plain": [
       "[1] 5150   20"
      ]
     },
     "metadata": {},
     "output_type": "display_data"
    }
   ],
   "source": [
    "load(\"../data/wage2015_subsample_inference.Rdata\")\n",
    "attach(data)\n",
    "dim(data)"
   ]
  },
  {
   "cell_type": "code",
   "execution_count": 2,
   "id": "8ef76683",
   "metadata": {},
   "outputs": [
    {
     "data": {
      "text/html": [
       "<ol class=list-inline>\n",
       "\t<li>3068</li>\n",
       "\t<li>20</li>\n",
       "</ol>\n"
      ],
      "text/latex": [
       "\\begin{enumerate*}\n",
       "\\item 3068\n",
       "\\item 20\n",
       "\\end{enumerate*}\n"
      ],
      "text/markdown": [
       "1. 3068\n",
       "2. 20\n",
       "\n",
       "\n"
      ],
      "text/plain": [
       "[1] 3068   20"
      ]
     },
     "metadata": {},
     "output_type": "display_data"
    }
   ],
   "source": [
    "#Select data of some college\n",
    "data_scl<- data[data$scl==1,]\n",
    "\n",
    "#Select data of college graduated\n",
    "data_clg<- data[data$clg==1,]\n",
    "\n",
    "#Combine data to obtaing subset of college-educated-workers\n",
    "sample <- rbind(data_scl, data_clg)\n",
    "dim(sample)"
   ]
  },
  {
   "cell_type": "code",
   "execution_count": 3,
   "id": "3d442294",
   "metadata": {},
   "outputs": [
    {
     "data": {
      "text/html": [
       "<table>\n",
       "<thead><tr><th></th><th scope=col>All</th><th scope=col>Men</th><th scope=col>Women</th></tr></thead>\n",
       "<tbody>\n",
       "\t<tr><th scope=row>Log Wage</th><td> 3.0000223</td><td> 3.0384121</td><td> 2.9569035</td></tr>\n",
       "\t<tr><th scope=row>Sex</th><td> 0.4709909</td><td> 0.0000000</td><td> 1.0000000</td></tr>\n",
       "\t<tr><th scope=row>Less then High School</th><td> 0.0000000</td><td> 0.0000000</td><td> 0.0000000</td></tr>\n",
       "\t<tr><th scope=row>High School Graduate</th><td> 0.0000000</td><td> 0.0000000</td><td> 0.0000000</td></tr>\n",
       "\t<tr><th scope=row>Some College</th><td> 0.4667536</td><td> 0.4818238</td><td> 0.4498270</td></tr>\n",
       "\t<tr><th scope=row>Gollage Graduate</th><td> 0.5332464</td><td> 0.5181762</td><td> 0.5501730</td></tr>\n",
       "\t<tr><th scope=row>Advanced Degree</th><td> 0.0000000</td><td> 0.0000000</td><td> 0.0000000</td></tr>\n",
       "\t<tr><th scope=row>Northeast</th><td> 0.2659713</td><td> 0.2612446</td><td> 0.2712803</td></tr>\n",
       "\t<tr><th scope=row>Midwest</th><td> 0.2858540</td><td> 0.2908195</td><td> 0.2802768</td></tr>\n",
       "\t<tr><th scope=row>South</th><td> 0.2216428</td><td> 0.2285890</td><td> 0.2138408</td></tr>\n",
       "\t<tr><th scope=row>West</th><td> 0.2265319</td><td> 0.2193469</td><td> 0.2346021</td></tr>\n",
       "\t<tr><th scope=row>Experience</th><td>12.7009452</td><td>12.4331485</td><td>13.0017301</td></tr>\n",
       "</tbody>\n",
       "</table>\n"
      ],
      "text/latex": [
       "\\begin{tabular}{r|lll}\n",
       "  & All & Men & Women\\\\\n",
       "\\hline\n",
       "\tLog Wage &  3.0000223 &  3.0384121 &  2.9569035\\\\\n",
       "\tSex &  0.4709909 &  0.0000000 &  1.0000000\\\\\n",
       "\tLess then High School &  0.0000000 &  0.0000000 &  0.0000000\\\\\n",
       "\tHigh School Graduate &  0.0000000 &  0.0000000 &  0.0000000\\\\\n",
       "\tSome College &  0.4667536 &  0.4818238 &  0.4498270\\\\\n",
       "\tGollage Graduate &  0.5332464 &  0.5181762 &  0.5501730\\\\\n",
       "\tAdvanced Degree &  0.0000000 &  0.0000000 &  0.0000000\\\\\n",
       "\tNortheast &  0.2659713 &  0.2612446 &  0.2712803\\\\\n",
       "\tMidwest &  0.2858540 &  0.2908195 &  0.2802768\\\\\n",
       "\tSouth &  0.2216428 &  0.2285890 &  0.2138408\\\\\n",
       "\tWest &  0.2265319 &  0.2193469 &  0.2346021\\\\\n",
       "\tExperience & 12.7009452 & 12.4331485 & 13.0017301\\\\\n",
       "\\end{tabular}\n"
      ],
      "text/markdown": [
       "\n",
       "| <!--/--> | All | Men | Women |\n",
       "|---|---|---|---|\n",
       "| Log Wage |  3.0000223 |  3.0384121 |  2.9569035 |\n",
       "| Sex |  0.4709909 |  0.0000000 |  1.0000000 |\n",
       "| Less then High School |  0.0000000 |  0.0000000 |  0.0000000 |\n",
       "| High School Graduate |  0.0000000 |  0.0000000 |  0.0000000 |\n",
       "| Some College |  0.4667536 |  0.4818238 |  0.4498270 |\n",
       "| Gollage Graduate |  0.5332464 |  0.5181762 |  0.5501730 |\n",
       "| Advanced Degree |  0.0000000 |  0.0000000 |  0.0000000 |\n",
       "| Northeast |  0.2659713 |  0.2612446 |  0.2712803 |\n",
       "| Midwest |  0.2858540 |  0.2908195 |  0.2802768 |\n",
       "| South |  0.2216428 |  0.2285890 |  0.2138408 |\n",
       "| West |  0.2265319 |  0.2193469 |  0.2346021 |\n",
       "| Experience | 12.7009452 | 12.4331485 | 13.0017301 |\n",
       "\n"
      ],
      "text/plain": [
       "                      All        Men        Women     \n",
       "Log Wage               3.0000223  3.0384121  2.9569035\n",
       "Sex                    0.4709909  0.0000000  1.0000000\n",
       "Less then High School  0.0000000  0.0000000  0.0000000\n",
       "High School Graduate   0.0000000  0.0000000  0.0000000\n",
       "Some College           0.4667536  0.4818238  0.4498270\n",
       "Gollage Graduate       0.5332464  0.5181762  0.5501730\n",
       "Advanced Degree        0.0000000  0.0000000  0.0000000\n",
       "Northeast              0.2659713  0.2612446  0.2712803\n",
       "Midwest                0.2858540  0.2908195  0.2802768\n",
       "South                  0.2216428  0.2285890  0.2138408\n",
       "West                   0.2265319  0.2193469  0.2346021\n",
       "Experience            12.7009452 12.4331485 13.0017301"
      ]
     },
     "metadata": {},
     "output_type": "display_data"
    }
   ],
   "source": [
    "library(xtable)\n",
    "\n",
    "Z <- sample[which(colnames(sample) %in% c(\"lwage\",\"sex\",\"shs\",\"hsg\",\"scl\",\"clg\",\"ad\",\"ne\",\"mw\",\"so\",\"we\",\"exp1\"))]\n",
    "\n",
    "data_female <- sample[sample$sex==1,]\n",
    "Z_female <- data_female[which(colnames(sample) %in% c(\"lwage\",\"sex\",\"shs\",\"hsg\",\"scl\",\"clg\",\"ad\",\"ne\",\"mw\",\"so\",\"we\",\"exp1\"))]\n",
    "\n",
    "\n",
    "data_male <- sample[sample$sex==0,]\n",
    "Z_male <- data_male[which(colnames(sample) %in% c(\"lwage\",\"sex\",\"shs\",\"hsg\",\"scl\",\"clg\",\"ad\",\"ne\",\"mw\",\"so\",\"we\",\"exp1\"))]\n",
    "\n",
    "table <- matrix(0, 12, 3)\n",
    "table[1:12,1]   <- as.numeric(lapply(Z,mean))\n",
    "table[1:12,2]   <- as.numeric(lapply(Z_male,mean))\n",
    "table[1:12,3]   <- as.numeric(lapply(Z_female,mean))\n",
    "rownames(table) <- c(\"Log Wage\",\"Sex\",\"Less then High School\",\"High School Graduate\",\"Some College\",\"Gollage Graduate\",\"Advanced Degree\", \"Northeast\",\"Midwest\",\"South\",\"West\",\"Experience\")\n",
    "colnames(table) <- c(\"All\",\"Men\",\"Women\")\n",
    "tab<- xtable(table, digits = 4)\n",
    "tab"
   ]
  },
  {
   "cell_type": "code",
   "execution_count": 4,
   "id": "e8146cb1",
   "metadata": {},
   "outputs": [
    {
     "name": "stdout",
     "output_type": "stream",
     "text": [
      "<!-- html table generated in R 3.6.1 by xtable 1.8-4 package -->\n",
      "<!-- Fri Sep 10 15:48:02 2021 -->\n",
      "<table border=1>\n",
      "<tr> <th>  </th> <th> All </th> <th> Men </th> <th> Women </th>  </tr>\n",
      "  <tr> <td align=\"right\"> Log Wage </td> <td align=\"right\"> 3.0000 </td> <td align=\"right\"> 3.0384 </td> <td align=\"right\"> 2.9569 </td> </tr>\n",
      "  <tr> <td align=\"right\"> Sex </td> <td align=\"right\"> 0.4710 </td> <td align=\"right\"> 0.0000 </td> <td align=\"right\"> 1.0000 </td> </tr>\n",
      "  <tr> <td align=\"right\"> Less then High School </td> <td align=\"right\"> 0.0000 </td> <td align=\"right\"> 0.0000 </td> <td align=\"right\"> 0.0000 </td> </tr>\n",
      "  <tr> <td align=\"right\"> High School Graduate </td> <td align=\"right\"> 0.0000 </td> <td align=\"right\"> 0.0000 </td> <td align=\"right\"> 0.0000 </td> </tr>\n",
      "  <tr> <td align=\"right\"> Some College </td> <td align=\"right\"> 0.4668 </td> <td align=\"right\"> 0.4818 </td> <td align=\"right\"> 0.4498 </td> </tr>\n",
      "  <tr> <td align=\"right\"> Gollage Graduate </td> <td align=\"right\"> 0.5332 </td> <td align=\"right\"> 0.5182 </td> <td align=\"right\"> 0.5502 </td> </tr>\n",
      "  <tr> <td align=\"right\"> Advanced Degree </td> <td align=\"right\"> 0.0000 </td> <td align=\"right\"> 0.0000 </td> <td align=\"right\"> 0.0000 </td> </tr>\n",
      "  <tr> <td align=\"right\"> Northeast </td> <td align=\"right\"> 0.2660 </td> <td align=\"right\"> 0.2612 </td> <td align=\"right\"> 0.2713 </td> </tr>\n",
      "  <tr> <td align=\"right\"> Midwest </td> <td align=\"right\"> 0.2859 </td> <td align=\"right\"> 0.2908 </td> <td align=\"right\"> 0.2803 </td> </tr>\n",
      "  <tr> <td align=\"right\"> South </td> <td align=\"right\"> 0.2216 </td> <td align=\"right\"> 0.2286 </td> <td align=\"right\"> 0.2138 </td> </tr>\n",
      "  <tr> <td align=\"right\"> West </td> <td align=\"right\"> 0.2265 </td> <td align=\"right\"> 0.2193 </td> <td align=\"right\"> 0.2346 </td> </tr>\n",
      "  <tr> <td align=\"right\"> Experience </td> <td align=\"right\"> 12.7009 </td> <td align=\"right\"> 12.4331 </td> <td align=\"right\"> 13.0017 </td> </tr>\n",
      "   </table>\n"
     ]
    }
   ],
   "source": [
    "print(tab,type=\"html\") # set type=\"latex\" for printing table in LaTeX"
   ]
  },
  {
   "cell_type": "code",
   "execution_count": 5,
   "id": "5b1d91f9",
   "metadata": {},
   "outputs": [
    {
     "data": {
      "text/html": [
       "-0.0815085550873591"
      ],
      "text/latex": [
       "-0.0815085550873591"
      ],
      "text/markdown": [
       "-0.0815085550873591"
      ],
      "text/plain": [
       "[1] -0.08150856"
      ]
     },
     "metadata": {},
     "output_type": "display_data"
    }
   ],
   "source": [
    "mean(data_female$lwage)-mean(data_male$lwage)"
   ]
  },
  {
   "cell_type": "markdown",
   "id": "24c7b943",
   "metadata": {},
   "source": [
    "## OLS Regression Without controls"
   ]
  },
  {
   "cell_type": "code",
   "execution_count": 6,
   "id": "364082d5",
   "metadata": {},
   "outputs": [
    {
     "data": {
      "text/plain": [
       "\n",
       "Call:\n",
       "lm(formula = nocontrol_reg, data = sample)\n",
       "\n",
       "Residuals:\n",
       "    Min      1Q  Median      3Q     Max \n",
       "-1.9325 -0.3696 -0.0029  0.3236  3.1564 \n",
       "\n",
       "Coefficients:\n",
       "            Estimate Std. Error t value Pr(>|t|)    \n",
       "(Intercept)  3.03841    0.01348  225.40  < 2e-16 ***\n",
       "sex         -0.08151    0.01964   -4.15 3.42e-05 ***\n",
       "---\n",
       "Signif. codes:  0 '***' 0.001 '**' 0.01 '*' 0.05 '.' 0.1 ' ' 1\n",
       "\n",
       "Residual standard error: 0.5431 on 3066 degrees of freedom\n",
       "Multiple R-squared:  0.005585,\tAdjusted R-squared:  0.005261 \n",
       "F-statistic: 17.22 on 1 and 3066 DF,  p-value: 3.421e-05\n"
      ]
     },
     "metadata": {},
     "output_type": "display_data"
    }
   ],
   "source": [
    "library(sandwich)\n",
    "\n",
    "#Regression model\n",
    "nocontrol_reg <- lwage ~ sex\n",
    "nocontrol_reg_fit <- lm(nocontrol_reg, data=sample)\n",
    "\n",
    "#Obtaining the gender coefficient\n",
    "nocontrol_reg_est <- summary(nocontrol_reg_fit)$coef[2,1]\n",
    "\n",
    "#Regression_summary\n",
    "summary(nocontrol_reg_fit)"
   ]
  },
  {
   "cell_type": "code",
   "execution_count": 7,
   "id": "3af34c08",
   "metadata": {},
   "outputs": [
    {
     "name": "stdout",
     "output_type": "stream",
     "text": [
      "The estimated gender coefficient is -0.08150856  and the corresponding robust standard error is 0.01957965"
     ]
    }
   ],
   "source": [
    "# Matrix of variances and covariances\n",
    "nocontrol_HCV_coefs <- vcovHC(nocontrol_reg_fit, type = 'HC');\n",
    "\n",
    "# Estimated standar error\n",
    "nocontrol_reg_se <- sqrt(diag(nocontrol_HCV_coefs))[2] \n",
    "\n",
    "#Print unconditional gender effect and the corresponding standard error\n",
    "cat (\"The estimated gender coefficient is\",nocontrol_reg_est,\" and the corresponding robust standard error is\",nocontrol_reg_se)"
   ]
  },
  {
   "cell_type": "markdown",
   "id": "8f86154c",
   "metadata": {},
   "source": [
    "## OLS Regression with controls"
   ]
  },
  {
   "cell_type": "code",
   "execution_count": 15,
   "id": "f887a131",
   "metadata": {},
   "outputs": [
    {
     "data": {
      "text/plain": [
       "\n",
       "Call:\n",
       "lm(formula = control_reg, data = sample)\n",
       "\n",
       "Residuals:\n",
       "     Min       1Q   Median       3Q      Max \n",
       "-1.87897 -0.27894 -0.00777  0.25823  2.85755 \n",
       "\n",
       "Coefficients: (1 not defined because of singularities)\n",
       "              Estimate Std. Error t value Pr(>|t|)    \n",
       "(Intercept)  3.4357559  0.5208785   6.596 5.02e-11 ***\n",
       "sex         -0.0530623  0.0193532  -2.742 0.006149 ** \n",
       "exp1        -0.1962420  0.1996670  -0.983 0.325767    \n",
       "exp2         4.3105015  2.3797581   1.811 0.070197 .  \n",
       "exp3        -2.3067253  1.0176306  -2.267 0.023480 *  \n",
       "exp4         0.3513392  0.1382879   2.541 0.011118 *  \n",
       "clg          0.2498673  0.1237850   2.019 0.043627 *  \n",
       "occ22        0.2151993  0.1582208   1.360 0.173900    \n",
       "occ23        0.0487642  0.2095297   0.233 0.815986    \n",
       "occ24        0.0281449  0.2300084   0.122 0.902619    \n",
       "occ25       -0.2711807  0.3944166  -0.688 0.491793    \n",
       "occ26       -0.2000530  0.2705614  -0.739 0.459725    \n",
       "occ27       -0.1203371  0.4188017  -0.287 0.773875    \n",
       "occ28       -0.1719401  0.2721490  -0.632 0.527577    \n",
       "occ29       -0.3963629  0.2050361  -1.933 0.053319 .  \n",
       "occ210       0.0919819  0.2432203   0.378 0.705323    \n",
       "occ211      -0.4994175  0.4368584  -1.143 0.253051    \n",
       "occ212       0.1901009  0.3411417   0.557 0.577401    \n",
       "occ213      -0.1945287  0.2718809  -0.715 0.474364    \n",
       "occ214       0.3010030  0.3808385   0.790 0.429378    \n",
       "occ215      -0.3369933  0.3356632  -1.004 0.315482    \n",
       "occ216      -0.0407369  0.1712462  -0.238 0.811987    \n",
       "occ217      -0.4552186  0.1586012  -2.870 0.004132 ** \n",
       "occ218      -0.0100153  2.2144365  -0.005 0.996392    \n",
       "occ219       0.0020488  0.4191796   0.005 0.996101    \n",
       "occ220      -0.4223277  0.2607281  -1.620 0.105386    \n",
       "occ221      -0.9012886  0.2869692  -3.141 0.001703 ** \n",
       "occ222      -0.0168748  0.4864599  -0.035 0.972330    \n",
       "ind23       -0.9374763  0.7630580  -1.229 0.219332    \n",
       "ind24        0.0473118  0.5593258   0.085 0.932596    \n",
       "ind25       -0.3770690  0.5232052  -0.721 0.471159    \n",
       "ind26       -0.5542517  0.5190253  -1.068 0.285670    \n",
       "ind27       -0.2812532  0.5714904  -0.492 0.622659    \n",
       "ind28       -0.6504243  0.5874717  -1.107 0.268319    \n",
       "ind29       -0.8045381  0.5094802  -1.579 0.114416    \n",
       "ind210      -0.4506545  0.5675561  -0.794 0.427246    \n",
       "ind211      -0.6634660  0.5259447  -1.261 0.207241    \n",
       "ind212      -0.6138007  0.5032946  -1.220 0.222731    \n",
       "ind213      -0.8964483  0.5817196  -1.541 0.123421    \n",
       "ind214      -0.3901374  0.4977512  -0.784 0.433223    \n",
       "ind215      -0.4653004  0.6882201  -0.676 0.499037    \n",
       "ind216      -0.5080079  0.5281966  -0.962 0.336243    \n",
       "ind217      -0.8686633  0.5294785  -1.641 0.100991    \n",
       "ind218      -0.6396953  0.5155592  -1.241 0.214790    \n",
       "ind219      -0.7415211  0.5552430  -1.335 0.181823    \n",
       "ind220      -0.8142791  0.5275884  -1.543 0.122846    \n",
       "ind221      -0.4997641  0.5348108  -0.934 0.350142    \n",
       "ind222      -0.3786290  0.5405464  -0.700 0.483700    \n",
       "mw           0.1958465  0.1068723   1.833 0.066978 .  \n",
       "so          -0.0346190  0.1042672  -0.332 0.739897    \n",
       "we           0.1261936  0.1184244   1.066 0.286693    \n",
       "exp1:clg     0.0121646  0.0407919   0.298 0.765565    \n",
       "exp1:occ22  -0.0631144  0.0630037  -1.002 0.316546    \n",
       "exp1:occ23   0.0326274  0.0794502   0.411 0.681349    \n",
       "exp1:occ24   0.0107059  0.0949665   0.113 0.910250    \n",
       "exp1:occ25  -0.0274672  0.2001848  -0.137 0.890875    \n",
       "exp1:occ26  -0.0527366  0.1119821  -0.471 0.637721    \n",
       "exp1:occ27  -0.1087102  0.1600695  -0.679 0.497102    \n",
       "exp1:occ28  -0.0371404  0.1035842  -0.359 0.719956    \n",
       "exp1:occ29   0.1021025  0.0830679   1.229 0.219119    \n",
       "exp1:occ210  0.0022818  0.0933261   0.024 0.980496    \n",
       "exp1:occ211  0.0369873  0.1571990   0.235 0.814001    \n",
       "exp1:occ212 -0.1062438  0.1222611  -0.869 0.384926    \n",
       "exp1:occ213  0.0483902  0.0983858   0.492 0.622870    \n",
       "exp1:occ214 -0.1209127  0.1397766  -0.865 0.387089    \n",
       "exp1:occ215  0.0107765  0.1230134   0.088 0.930198    \n",
       "exp1:occ216 -0.0377813  0.0639815  -0.591 0.554901    \n",
       "exp1:occ217  0.0473737  0.0588764   0.805 0.421101    \n",
       "exp1:occ218 -0.1554316  1.1024362  -0.141 0.887888    \n",
       "exp1:occ219 -0.0605324  0.1437029  -0.421 0.673617    \n",
       "exp1:occ220  0.0931849  0.0910362   1.024 0.306110    \n",
       "exp1:occ221  0.3231623  0.1010818   3.197 0.001404 ** \n",
       "exp1:occ222 -0.1560741  0.1581812  -0.987 0.323884    \n",
       "exp1:ind23   0.4320231  0.3058459   1.413 0.157897    \n",
       "exp1:ind24   0.0409994  0.2080253   0.197 0.843772    \n",
       "exp1:ind25   0.1841740  0.2047239   0.900 0.368398    \n",
       "exp1:ind26   0.2255280  0.2011211   1.121 0.262232    \n",
       "exp1:ind27   0.1073133  0.2233358   0.481 0.630908    \n",
       "exp1:ind28   0.2545921  0.2458909   1.035 0.300577    \n",
       "exp1:ind29   0.2092253  0.1968917   1.063 0.288035    \n",
       "exp1:ind210  0.1807059  0.2171637   0.832 0.405412    \n",
       "exp1:ind211  0.2579344  0.2042452   1.263 0.206741    \n",
       "exp1:ind212  0.3170780  0.1967145   1.612 0.107102    \n",
       "exp1:ind213  0.3800928  0.2177404   1.746 0.080985 .  \n",
       "exp1:ind214  0.1408305  0.1946484   0.724 0.469425    \n",
       "exp1:ind215  0.1026476  0.3307499   0.310 0.756319    \n",
       "exp1:ind216  0.1427221  0.2064100   0.691 0.489340    \n",
       "exp1:ind217  0.2977947  0.2040966   1.459 0.144652    \n",
       "exp1:ind218  0.1962564  0.1997709   0.982 0.325983    \n",
       "exp1:ind219  0.1711574  0.2131201   0.803 0.421983    \n",
       "exp1:ind220  0.1746944  0.2031650   0.860 0.389936    \n",
       "exp1:ind221  0.2100177  0.2057559   1.021 0.307477    \n",
       "exp1:ind222  0.1893985  0.2053893   0.922 0.356532    \n",
       "exp1:mw     -0.0619563  0.0418241  -1.481 0.138623    \n",
       "exp1:so      0.0057820  0.0396763   0.146 0.884145    \n",
       "exp1:we     -0.0478640  0.0437059  -1.095 0.273548    \n",
       "exp2:clg    -0.2216086  0.4133059  -0.536 0.591873    \n",
       "exp2:occ22   0.2989342  0.7038148   0.425 0.671063    \n",
       "exp2:occ23  -0.7211942  0.8855311  -0.814 0.415473    \n",
       "exp2:occ24  -0.2699265  1.0959123  -0.246 0.805465    \n",
       "exp2:occ25   1.4532318  3.0067008   0.483 0.628898    \n",
       "exp2:occ26   0.3834942  1.3720465   0.280 0.779877    \n",
       "exp2:occ27   1.1812006  1.8784828   0.629 0.529527    \n",
       "exp2:occ28  -0.0274218  1.1533003  -0.024 0.981032    \n",
       "exp2:occ29  -1.0621384  0.9470416  -1.122 0.262156    \n",
       "exp2:occ210 -0.3264796  1.0432172  -0.313 0.754338    \n",
       "exp2:occ211 -0.3405652  1.7015462  -0.200 0.841377    \n",
       "exp2:occ212  0.6041155  1.3414334   0.450 0.652492    \n",
       "exp2:occ213 -0.9011013  1.0454393  -0.862 0.388796    \n",
       "exp2:occ214  0.1176365  1.5082483   0.078 0.937837    \n",
       "exp2:occ215 -0.5498030  1.3291914  -0.414 0.679171    \n",
       "exp2:occ216  0.0849304  0.6979720   0.122 0.903160    \n",
       "exp2:occ217 -0.7493648  0.6435325  -1.164 0.244337    \n",
       "exp2:occ218  0.7439583  9.3110051   0.080 0.936322    \n",
       "exp2:occ219  0.5498894  1.4906630   0.369 0.712238    \n",
       "exp2:occ220 -1.0158810  0.9425130  -1.078 0.281195    \n",
       "exp2:occ221 -3.9371723  1.0692967  -3.682 0.000236 ***\n",
       "exp2:occ222  1.5179725  1.5342157   0.989 0.322546    \n",
       "exp2:ind23  -6.4796151  3.7990841  -1.706 0.088197 .  \n",
       "exp2:ind24  -2.6872131  2.4441668  -1.099 0.271670    \n",
       "exp2:ind25  -4.1468398  2.4445725  -1.696 0.089930 .  \n",
       "exp2:ind26  -4.2139999  2.3991488  -1.756 0.079118 .  \n",
       "exp2:ind27  -2.7331923  2.6960937  -1.014 0.310784    \n",
       "exp2:ind28  -3.6656460  3.0702318  -1.194 0.232605    \n",
       "exp2:ind29  -3.8996457  2.3582733  -1.654 0.098319 .  \n",
       "exp2:ind210 -3.7035161  2.5382076  -1.459 0.144646    \n",
       "exp2:ind211 -4.5216510  2.4414956  -1.852 0.064130 .  \n",
       "exp2:ind212 -5.1083392  2.3679500  -2.157 0.031067 *  \n",
       "exp2:ind213 -5.6691510  2.5320131  -2.239 0.025234 *  \n",
       "exp2:ind214 -3.1313860  2.3469954  -1.334 0.182242    \n",
       "exp2:ind215 -2.6414528  3.7445752  -0.705 0.480614    \n",
       "exp2:ind216 -3.0267086  2.4664224  -1.227 0.219862    \n",
       "exp2:ind217 -4.7822893  2.4320783  -1.966 0.049357 *  \n",
       "exp2:ind218 -3.8782338  2.3922113  -1.621 0.105088    \n",
       "exp2:ind219 -3.3586261  2.5047964  -1.341 0.180067    \n",
       "exp2:ind220 -3.6271074  2.4173138  -1.500 0.133604    \n",
       "exp2:ind221 -4.0217328  2.4434433  -1.646 0.099889 .  \n",
       "exp2:ind222 -3.7684447  2.4233956  -1.555 0.120051    \n",
       "exp2:mw      0.4838242  0.4691702   1.031 0.302519    \n",
       "exp2:so     -0.0426958  0.4329768  -0.099 0.921455    \n",
       "exp2:we      0.5774804  0.4682555   1.233 0.217581    \n",
       "exp3:clg     0.1002865  0.1583125   0.633 0.526477    \n",
       "exp3:occ22   0.0005287  0.2849249   0.002 0.998519    \n",
       "exp3:occ23   0.3479651  0.3602479   0.966 0.334174    \n",
       "exp3:occ24   0.1327043  0.4490244   0.296 0.767604    \n",
       "exp3:occ25  -1.2675466  1.6239177  -0.781 0.435133    \n",
       "exp3:occ26  -0.0861625  0.6102063  -0.141 0.887720    \n",
       "exp3:occ27  -0.5391536  0.7984378  -0.675 0.499565    \n",
       "exp3:occ28   0.1250242  0.4640841   0.269 0.787642    \n",
       "exp3:occ29   0.3956094  0.3894184   1.016 0.309765    \n",
       "exp3:occ210  0.2356222  0.4270044   0.552 0.581127    \n",
       "exp3:occ211  0.0850896  0.6938821   0.123 0.902410    \n",
       "exp3:occ212  0.0109101  0.5433951   0.020 0.983983    \n",
       "exp3:occ213  0.4099807  0.4063159   1.009 0.313051    \n",
       "exp3:occ214  0.2328011  0.5737599   0.406 0.684959    \n",
       "exp3:occ215  0.3691372  0.5352416   0.690 0.490461    \n",
       "exp3:occ216  0.0915397  0.2798629   0.327 0.743626    \n",
       "exp3:occ217  0.3684352  0.2584120   1.426 0.154046    \n",
       "exp3:occ218 -0.0728607  1.8129821  -0.040 0.967946    \n",
       "exp3:occ219 -0.2037610  0.5768151  -0.353 0.723926    \n",
       "exp3:occ220  0.3824008  0.3642037   1.050 0.293824    \n",
       "exp3:occ221  1.6041311  0.4182354   3.835 0.000128 ***\n",
       "exp3:occ222 -0.5099737  0.5635594  -0.905 0.365587    \n",
       "exp3:ind23   3.2238995  1.7561719   1.836 0.066499 .  \n",
       "exp3:ind24   1.7349800  1.0365754   1.674 0.094288 .  \n",
       "exp3:ind25   2.2421191  1.0432430   2.149 0.031704 *  \n",
       "exp3:ind26   2.2146931  1.0241983   2.162 0.030673 *  \n",
       "exp3:ind27   1.5675521  1.1690776   1.341 0.180078    \n",
       "exp3:ind28   1.5399859  1.3940927   1.105 0.269404    \n",
       "exp3:ind29   2.0399792  1.0113099   2.017 0.043772 *  \n",
       "exp3:ind210  1.9816265  1.0709584   1.850 0.064370 .  \n",
       "exp3:ind211  2.3280002  1.0447922   2.228 0.025946 *  \n",
       "exp3:ind212  2.4986874  1.0171023   2.457 0.014083 *  \n",
       "exp3:ind213  2.6780049  1.0660293   2.512 0.012056 *  \n",
       "exp3:ind214  1.7526421  1.0095029   1.736 0.082647 .  \n",
       "exp3:ind215  1.5784535  1.4815769   1.065 0.286791    \n",
       "exp3:ind216  1.6946544  1.0516350   1.611 0.107193    \n",
       "exp3:ind217  2.3526755  1.0380306   2.266 0.023497 *  \n",
       "exp3:ind218  2.0716863  1.0267137   2.018 0.043708 *  \n",
       "exp3:ind219  1.8267916  1.0604717   1.723 0.085066 .  \n",
       "exp3:ind220  1.9671974  1.0307281   1.909 0.056421 .  \n",
       "exp3:ind221  2.0920770  1.0421031   2.008 0.044785 *  \n",
       "exp3:ind222  2.0075028  1.0304724   1.948 0.051497 .  \n",
       "exp3:mw     -0.1453989  0.1922868  -0.756 0.449618    \n",
       "exp3:so      0.0184796  0.1727892   0.107 0.914837    \n",
       "exp3:we     -0.2308636  0.1843977  -1.252 0.210678    \n",
       "exp4:clg    -0.0134666  0.0201340  -0.669 0.503646    \n",
       "exp4:occ22  -0.0133900  0.0376888  -0.355 0.722407    \n",
       "exp4:occ23  -0.0486518  0.0476989  -1.020 0.307826    \n",
       "exp4:occ24  -0.0223191  0.0593293  -0.376 0.706803    \n",
       "exp4:occ25   0.2845962  0.2824632   1.008 0.313756    \n",
       "exp4:occ26   0.0035336  0.0875725   0.040 0.967817    \n",
       "exp4:occ27   0.0789030  0.1085605   0.727 0.467402    \n",
       "exp4:occ28  -0.0258852  0.0605593  -0.427 0.669095    \n",
       "exp4:occ29  -0.0479087  0.0519869  -0.922 0.356840    \n",
       "exp4:occ210 -0.0411370  0.0572458  -0.719 0.472444    \n",
       "exp4:occ211 -0.0044897  0.0932319  -0.048 0.961595    \n",
       "exp4:occ212 -0.0327767  0.0723612  -0.453 0.650612    \n",
       "exp4:occ213 -0.0574088  0.0515849  -1.113 0.265846    \n",
       "exp4:occ214 -0.0524263  0.0705276  -0.743 0.457335    \n",
       "exp4:occ215 -0.0619990  0.0708724  -0.875 0.381758    \n",
       "exp4:occ216 -0.0264713  0.0367893  -0.720 0.471869    \n",
       "exp4:occ217 -0.0553914  0.0339714  -1.631 0.103100    \n",
       "exp4:occ218         NA         NA      NA       NA    \n",
       "exp4:occ219  0.0241359  0.0730760   0.330 0.741209    \n",
       "exp4:occ220 -0.0471960  0.0464443  -1.016 0.309628    \n",
       "exp4:occ221 -0.2092063  0.0539166  -3.880 0.000107 ***\n",
       "exp4:occ222  0.0540559  0.0691569   0.782 0.434490    \n",
       "exp4:ind23  -0.4970867  0.2682290  -1.853 0.063955 .  \n",
       "exp4:ind24  -0.2847302  0.1398614  -2.036 0.041863 *  \n",
       "exp4:ind25  -0.3402683  0.1415826  -2.403 0.016311 *  \n",
       "exp4:ind26  -0.3338771  0.1389338  -2.403 0.016319 *  \n",
       "exp4:ind27  -0.2444006  0.1615297  -1.513 0.130381    \n",
       "exp4:ind28  -0.1894363  0.2043155  -0.927 0.353914    \n",
       "exp4:ind29  -0.3070943  0.1377034  -2.230 0.025818 *  \n",
       "exp4:ind210 -0.3006797  0.1444260  -2.082 0.037441 *  \n",
       "exp4:ind211 -0.3499129  0.1421750  -2.461 0.013909 *  \n",
       "exp4:ind212 -0.3640899  0.1386132  -2.627 0.008669 ** \n",
       "exp4:ind213 -0.3836270  0.1434293  -2.675 0.007523 ** \n",
       "exp4:ind214 -0.2725083  0.1376981  -1.979 0.047909 *  \n",
       "exp4:ind215 -0.2549218  0.1891411  -1.348 0.177835    \n",
       "exp4:ind216 -0.2662393  0.1425528  -1.868 0.061913 .  \n",
       "exp4:ind217 -0.3434539  0.1408491  -2.438 0.014811 *  \n",
       "exp4:ind218 -0.3168784  0.1401819  -2.260 0.023867 *  \n",
       "exp4:ind219 -0.2815085  0.1433510  -1.964 0.049654 *  \n",
       "exp4:ind220 -0.3038212  0.1397946  -2.173 0.029837 *  \n",
       "exp4:ind221 -0.3142711  0.1414218  -2.222 0.026347 *  \n",
       "exp4:ind222 -0.3061402  0.1396051  -2.193 0.028395 *  \n",
       "exp4:mw      0.0142872  0.0258136   0.553 0.579980    \n",
       "exp4:so     -0.0037591  0.0225465  -0.167 0.867598    \n",
       "exp4:we      0.0282864  0.0238123   1.188 0.234976    \n",
       "---\n",
       "Signif. codes:  0 '***' 0.001 '**' 0.01 '*' 0.05 '.' 0.1 ' ' 1\n",
       "\n",
       "Residual standard error: 0.4635 on 2838 degrees of freedom\n",
       "Multiple R-squared:  0.3295,\tAdjusted R-squared:  0.2754 \n",
       "F-statistic: 6.091 on 229 and 2838 DF,  p-value: < 2.2e-16\n"
      ]
     },
     "metadata": {},
     "output_type": "display_data"
    }
   ],
   "source": [
    "#Regression model\n",
    "control_reg <- lwage ~ sex + (exp1+exp2+exp3+exp4)*(clg+occ2+ind2+mw+so+we)\n",
    "control_reg_fit <- lm(control_reg, data=sample)\n",
    "\n",
    "#Obtaining the gender coefficient\n",
    "control_reg_est <- summary(control_reg_fit)$coef[2,1]\n",
    "#Y_Predict\n",
    "y_predict=predict(control_reg_fit)\n",
    "#Regression_summary\n",
    "summary(control_reg_fit)"
   ]
  },
  {
   "cell_type": "code",
   "execution_count": 17,
   "id": "0eb0efe6",
   "metadata": {},
   "outputs": [
    {
     "data": {
      "text/html": [
       "<table>\n",
       "<thead><tr><th></th><th scope=col>wage</th><th scope=col>lwage</th><th scope=col>sex</th><th scope=col>shs</th><th scope=col>hsg</th><th scope=col>scl</th><th scope=col>clg</th><th scope=col>ad</th><th scope=col>mw</th><th scope=col>so</th><th scope=col>...</th><th scope=col>ne</th><th scope=col>exp1</th><th scope=col>exp2</th><th scope=col>exp3</th><th scope=col>exp4</th><th scope=col>occ</th><th scope=col>occ2</th><th scope=col>ind</th><th scope=col>ind2</th><th scope=col>y_predict</th></tr></thead>\n",
       "<tbody>\n",
       "\t<tr><th scope=row>84</th><td>12.019231   </td><td>2.486508    </td><td>1           </td><td>0           </td><td>0           </td><td>1           </td><td>0           </td><td>0           </td><td>0           </td><td>0           </td><td>...         </td><td>1           </td><td> 5.5        </td><td> 0.3025     </td><td> 0.166375   </td><td>  0.09150625</td><td>3600        </td><td>11          </td><td>8270        </td><td>18          </td><td>2.452625    </td></tr>\n",
       "\t<tr><th scope=row>89</th><td>13.461538   </td><td>2.599837    </td><td>1           </td><td>0           </td><td>0           </td><td>1           </td><td>0           </td><td>0           </td><td>0           </td><td>0           </td><td>...         </td><td>1           </td><td>20.5        </td><td> 4.2025     </td><td> 8.615125   </td><td> 17.66100625</td><td>3645        </td><td>11          </td><td>8190        </td><td>18          </td><td>2.624982    </td></tr>\n",
       "\t<tr><th scope=row>119</th><td> 8.653846   </td><td>2.158004    </td><td>0           </td><td>0           </td><td>0           </td><td>1           </td><td>0           </td><td>0           </td><td>0           </td><td>0           </td><td>...         </td><td>1           </td><td> 3.5        </td><td> 0.1225     </td><td> 0.042875   </td><td>  0.01500625</td><td>7410        </td><td>20          </td><td>570         </td><td>3           </td><td>2.889995    </td></tr>\n",
       "\t<tr><th scope=row>135</th><td>10.683761   </td><td>2.368725    </td><td>1           </td><td>0           </td><td>0           </td><td>1           </td><td>0           </td><td>0           </td><td>0           </td><td>0           </td><td>...         </td><td>1           </td><td> 6.5        </td><td> 0.4225     </td><td> 0.274625   </td><td>  0.17850625</td><td>4300        </td><td>15          </td><td>8590        </td><td>19          </td><td>2.352022    </td></tr>\n",
       "\t<tr><th scope=row>144</th><td>11.538462   </td><td>2.445686    </td><td>1           </td><td>0           </td><td>0           </td><td>1           </td><td>0           </td><td>0           </td><td>0           </td><td>0           </td><td>...         </td><td>1           </td><td> 8.5        </td><td> 0.7225     </td><td> 0.614125   </td><td>  0.52200625</td><td>3600        </td><td>11          </td><td>8190        </td><td>18          </td><td>2.547907    </td></tr>\n",
       "\t<tr><th scope=row>152</th><td>16.304348   </td><td>2.791432    </td><td>1           </td><td>0           </td><td>0           </td><td>1           </td><td>0           </td><td>0           </td><td>0           </td><td>0           </td><td>...         </td><td>1           </td><td>24.5        </td><td> 6.0025     </td><td>14.706125   </td><td> 36.03000625</td><td>20          </td><td>1           </td><td>5480        </td><td>9           </td><td>3.033747    </td></tr>\n",
       "\t<tr><th scope=row>160</th><td>12.000000   </td><td>2.484907    </td><td>0           </td><td>0           </td><td>0           </td><td>1           </td><td>0           </td><td>0           </td><td>0           </td><td>0           </td><td>...         </td><td>1           </td><td> 4.5        </td><td> 0.2025     </td><td> 0.091125   </td><td>  0.04100625</td><td>6330        </td><td>19          </td><td>770         </td><td>4           </td><td>2.887251    </td></tr>\n",
       "\t<tr><th scope=row>206</th><td>13.942308   </td><td>2.634928    </td><td>1           </td><td>0           </td><td>0           </td><td>1           </td><td>0           </td><td>0           </td><td>0           </td><td>0           </td><td>...         </td><td>1           </td><td>15.5        </td><td> 2.4025     </td><td> 3.723875   </td><td>  5.77200625</td><td>5860        </td><td>17          </td><td>4670        </td><td>9           </td><td>2.559542    </td></tr>\n",
       "\t<tr><th scope=row>213</th><td>10.096154   </td><td>2.312155    </td><td>1           </td><td>0           </td><td>0           </td><td>1           </td><td>0           </td><td>0           </td><td>0           </td><td>0           </td><td>...         </td><td>1           </td><td> 9.0        </td><td> 0.8100     </td><td> 0.729000   </td><td>  0.65610000</td><td>3500        </td><td>10          </td><td>8090        </td><td>18          </td><td>2.937379    </td></tr>\n",
       "\t<tr><th scope=row>245</th><td>21.634615   </td><td>3.074295    </td><td>1           </td><td>0           </td><td>0           </td><td>1           </td><td>0           </td><td>0           </td><td>0           </td><td>0           </td><td>...         </td><td>1           </td><td>17.5        </td><td> 3.0625     </td><td> 5.359375   </td><td>  9.37890625</td><td>5400        </td><td>17          </td><td>6695        </td><td>11          </td><td>2.813559    </td></tr>\n",
       "\t<tr><th scope=row>264</th><td>12.019231   </td><td>2.486508    </td><td>1           </td><td>0           </td><td>0           </td><td>1           </td><td>0           </td><td>0           </td><td>0           </td><td>0           </td><td>...         </td><td>1           </td><td> 6.5        </td><td> 0.4225     </td><td> 0.274625   </td><td>  0.17850625</td><td>4110        </td><td>13          </td><td>8680        </td><td>20          </td><td>2.473964    </td></tr>\n",
       "\t<tr><th scope=row>280</th><td> 7.211538   </td><td>1.975682    </td><td>1           </td><td>0           </td><td>0           </td><td>1           </td><td>0           </td><td>0           </td><td>0           </td><td>0           </td><td>...         </td><td>1           </td><td>17.5        </td><td> 3.0625     </td><td> 5.359375   </td><td>  9.37890625</td><td>4720        </td><td>16          </td><td>4980        </td><td>9           </td><td>2.849499    </td></tr>\n",
       "\t<tr><th scope=row>286</th><td>12.937063   </td><td>2.560096    </td><td>0           </td><td>0           </td><td>0           </td><td>1           </td><td>0           </td><td>0           </td><td>0           </td><td>0           </td><td>...         </td><td>1           </td><td>34.5        </td><td>11.9025     </td><td>41.063625   </td><td>141.66950625</td><td>9000        </td><td>22          </td><td>5670        </td><td>9           </td><td>2.666870    </td></tr>\n",
       "\t<tr><th scope=row>368</th><td> 8.505917   </td><td>2.140762    </td><td>0           </td><td>0           </td><td>0           </td><td>1           </td><td>0           </td><td>0           </td><td>0           </td><td>0           </td><td>...         </td><td>1           </td><td> 4.5        </td><td> 0.2025     </td><td> 0.091125   </td><td>  0.04100625</td><td>4220        </td><td>14          </td><td>8590        </td><td>19          </td><td>2.533020    </td></tr>\n",
       "\t<tr><th scope=row>402</th><td>20.329670   </td><td>3.012081    </td><td>1           </td><td>0           </td><td>0           </td><td>1           </td><td>0           </td><td>0           </td><td>0           </td><td>0           </td><td>...         </td><td>1           </td><td>33.0        </td><td>10.8900     </td><td>35.937000   </td><td>118.59210000</td><td>7700        </td><td>21          </td><td>1280        </td><td>5           </td><td>3.105523    </td></tr>\n",
       "\t<tr><th scope=row>466</th><td>22.596154   </td><td>3.117780    </td><td>1           </td><td>0           </td><td>0           </td><td>1           </td><td>0           </td><td>0           </td><td>0           </td><td>0           </td><td>...         </td><td>1           </td><td>34.0        </td><td>11.5600     </td><td>39.304000   </td><td>133.63360000</td><td>3500        </td><td>10          </td><td>8090        </td><td>18          </td><td>3.266717    </td></tr>\n",
       "\t<tr><th scope=row>475</th><td>18.750000   </td><td>2.931194    </td><td>1           </td><td>0           </td><td>0           </td><td>1           </td><td>0           </td><td>0           </td><td>0           </td><td>0           </td><td>...         </td><td>1           </td><td> 5.5        </td><td> 0.3025     </td><td> 0.166375   </td><td>  0.09150625</td><td>3700        </td><td>12          </td><td>9470        </td><td>22          </td><td>2.872072    </td></tr>\n",
       "\t<tr><th scope=row>494</th><td>25.641026   </td><td>3.244194    </td><td>0           </td><td>0           </td><td>0           </td><td>1           </td><td>0           </td><td>0           </td><td>0           </td><td>0           </td><td>...         </td><td>1           </td><td>26.5        </td><td> 7.0225     </td><td>18.609625   </td><td> 49.31550625</td><td>4850        </td><td>16          </td><td>4270        </td><td>7           </td><td>3.345095    </td></tr>\n",
       "\t<tr><th scope=row>546</th><td>11.160714   </td><td>2.412400    </td><td>0           </td><td>0           </td><td>0           </td><td>1           </td><td>0           </td><td>0           </td><td>0           </td><td>0           </td><td>...         </td><td>1           </td><td> 3.0        </td><td> 0.0900     </td><td> 0.027000   </td><td>  0.00810000</td><td>7200        </td><td>20          </td><td>8770        </td><td>21          </td><td>2.773553    </td></tr>\n",
       "\t<tr><th scope=row>573</th><td>16.826923   </td><td>2.822980    </td><td>0           </td><td>0           </td><td>0           </td><td>1           </td><td>0           </td><td>0           </td><td>0           </td><td>0           </td><td>...         </td><td>1           </td><td> 4.0        </td><td> 0.1600     </td><td> 0.064000   </td><td>  0.02560000</td><td>7200        </td><td>20          </td><td>8770        </td><td>21          </td><td>2.835646    </td></tr>\n",
       "\t<tr><th scope=row>574</th><td>14.423077   </td><td>2.668829    </td><td>0           </td><td>0           </td><td>0           </td><td>1           </td><td>0           </td><td>0           </td><td>0           </td><td>0           </td><td>...         </td><td>1           </td><td> 4.5        </td><td> 0.2025     </td><td> 0.091125   </td><td>  0.04100625</td><td>6230        </td><td>19          </td><td>770         </td><td>4           </td><td>2.887251    </td></tr>\n",
       "\t<tr><th scope=row>576</th><td>19.230769   </td><td>2.956512    </td><td>0           </td><td>0           </td><td>0           </td><td>1           </td><td>0           </td><td>0           </td><td>0           </td><td>0           </td><td>...         </td><td>1           </td><td> 4.5        </td><td> 0.2025     </td><td> 0.091125   </td><td>  0.04100625</td><td>1e+05       </td><td>20          </td><td>6180        </td><td>10          </td><td>2.834756    </td></tr>\n",
       "\t<tr><th scope=row>652</th><td>19.230769   </td><td>2.956512    </td><td>0           </td><td>0           </td><td>0           </td><td>1           </td><td>0           </td><td>0           </td><td>0           </td><td>0           </td><td>...         </td><td>1           </td><td> 7.5        </td><td> 0.5625     </td><td> 0.421875   </td><td>  0.31640625</td><td>5610        </td><td>17          </td><td>2690        </td><td>6           </td><td>2.738604    </td></tr>\n",
       "\t<tr><th scope=row>675</th><td>18.269231   </td><td>2.905218    </td><td>0           </td><td>0           </td><td>0           </td><td>1           </td><td>0           </td><td>0           </td><td>0           </td><td>0           </td><td>...         </td><td>1           </td><td>16.5        </td><td> 2.7225     </td><td> 4.492125   </td><td>  7.41200625</td><td>4220        </td><td>14          </td><td>8270        </td><td>18          </td><td>2.456142    </td></tr>\n",
       "\t<tr><th scope=row>687</th><td>24.038462   </td><td>3.179655    </td><td>1           </td><td>0           </td><td>0           </td><td>1           </td><td>0           </td><td>0           </td><td>0           </td><td>0           </td><td>...         </td><td>1           </td><td>33.0        </td><td>10.8900     </td><td>35.937000   </td><td>118.59210000</td><td>3255        </td><td>10          </td><td>7860        </td><td>17          </td><td>3.514886    </td></tr>\n",
       "\t<tr><th scope=row>723</th><td> 9.615385   </td><td>2.263364    </td><td>1           </td><td>0           </td><td>0           </td><td>1           </td><td>0           </td><td>0           </td><td>0           </td><td>0           </td><td>...         </td><td>1           </td><td> 3.5        </td><td> 0.1225     </td><td> 0.042875   </td><td>  0.01500625</td><td>3420        </td><td>10          </td><td>5070        </td><td>9           </td><td>2.732614    </td></tr>\n",
       "\t<tr><th scope=row>743</th><td>15.384615   </td><td>2.733368    </td><td>1           </td><td>0           </td><td>0           </td><td>1           </td><td>0           </td><td>0           </td><td>0           </td><td>0           </td><td>...         </td><td>1           </td><td>23.5        </td><td> 5.5225     </td><td>12.977875   </td><td> 30.49800625</td><td>5240        </td><td>17          </td><td>7180        </td><td>13          </td><td>2.749175    </td></tr>\n",
       "\t<tr><th scope=row>744</th><td>13.410577   </td><td>2.596044    </td><td>0           </td><td>0           </td><td>0           </td><td>1           </td><td>0           </td><td>0           </td><td>0           </td><td>0           </td><td>...         </td><td>1           </td><td>29.5        </td><td> 8.7025     </td><td>25.672375   </td><td> 75.73350625</td><td>4760        </td><td>16          </td><td>1e+05       </td><td>9           </td><td>3.021605    </td></tr>\n",
       "\t<tr><th scope=row>765</th><td>15.384615   </td><td>2.733368    </td><td>1           </td><td>0           </td><td>0           </td><td>1           </td><td>0           </td><td>0           </td><td>0           </td><td>0           </td><td>...         </td><td>1           </td><td> 6.5        </td><td> 0.4225     </td><td> 0.274625   </td><td>  0.17850625</td><td>5700        </td><td>17          </td><td>9570        </td><td>22          </td><td>2.741893    </td></tr>\n",
       "\t<tr><th scope=row>809</th><td>12.019231   </td><td>2.486508    </td><td>0           </td><td>0           </td><td>0           </td><td>1           </td><td>0           </td><td>0           </td><td>0           </td><td>0           </td><td>...         </td><td>1           </td><td>35.5        </td><td>12.6025     </td><td>44.738875   </td><td>158.82300625</td><td>9130        </td><td>22          </td><td>6170        </td><td>10          </td><td>2.926848    </td></tr>\n",
       "\t<tr><th scope=row>...</th><td>...</td><td>...</td><td>...</td><td>...</td><td>...</td><td>...</td><td>...</td><td>...</td><td>...</td><td>...</td><td>   </td><td>...</td><td>...</td><td>...</td><td>...</td><td>...</td><td>...</td><td>...</td><td>...</td><td>...</td><td>...</td></tr>\n",
       "\t<tr><th scope=row>31952</th><td>52.884615</td><td>3.968112 </td><td>0        </td><td>0        </td><td>0        </td><td>0        </td><td>1        </td><td>0        </td><td>0        </td><td>0        </td><td>...      </td><td>0        </td><td>24       </td><td> 5.76    </td><td>13.824   </td><td> 33.1776 </td><td>1020     </td><td>3        </td><td>2190     </td><td>5        </td><td>3.315481 </td></tr>\n",
       "\t<tr><th scope=row>31969</th><td>34.188034</td><td>3.531876 </td><td>0        </td><td>0        </td><td>0        </td><td>0        </td><td>1        </td><td>0        </td><td>0        </td><td>0        </td><td>...      </td><td>0        </td><td> 8       </td><td> 0.64    </td><td> 0.512   </td><td>  0.4096 </td><td>2630     </td><td>9        </td><td>7460     </td><td>14       </td><td>3.286614 </td></tr>\n",
       "\t<tr><th scope=row>31975</th><td>29.807692</td><td>3.394766 </td><td>0        </td><td>0        </td><td>0        </td><td>0        </td><td>1        </td><td>0        </td><td>0        </td><td>0        </td><td>...      </td><td>0        </td><td> 1       </td><td> 0.01    </td><td> 0.001   </td><td>  0.0001 </td><td>1460     </td><td>4        </td><td>7290     </td><td>14       </td><td>3.381525 </td></tr>\n",
       "\t<tr><th scope=row>31998</th><td>16.608392</td><td>2.809908 </td><td>0        </td><td>0        </td><td>0        </td><td>0        </td><td>1        </td><td>0        </td><td>0        </td><td>0        </td><td>...      </td><td>0        </td><td> 4       </td><td> 0.16    </td><td> 0.064   </td><td>  0.0256 </td><td>1e+05    </td><td>15       </td><td>8090     </td><td>18       </td><td>2.773527 </td></tr>\n",
       "\t<tr><th scope=row>32015</th><td>14.057692</td><td>2.643170 </td><td>1        </td><td>0        </td><td>0        </td><td>0        </td><td>1        </td><td>0        </td><td>0        </td><td>0        </td><td>...      </td><td>0        </td><td> 5       </td><td> 0.25    </td><td> 0.125   </td><td>  0.0625 </td><td>4110     </td><td>13       </td><td>8680     </td><td>20       </td><td>2.732996 </td></tr>\n",
       "\t<tr><th scope=row>32037</th><td>13.736264</td><td>2.620039 </td><td>0        </td><td>0        </td><td>0        </td><td>0        </td><td>1        </td><td>0        </td><td>0        </td><td>0        </td><td>...      </td><td>0        </td><td>17       </td><td> 2.89    </td><td> 4.913   </td><td>  8.3521 </td><td>4760     </td><td>16       </td><td>4870     </td><td>9        </td><td>3.169286 </td></tr>\n",
       "\t<tr><th scope=row>32085</th><td>38.461538</td><td>3.649659 </td><td>0        </td><td>0        </td><td>0        </td><td>0        </td><td>1        </td><td>0        </td><td>0        </td><td>0        </td><td>...      </td><td>0        </td><td> 9       </td><td> 0.81    </td><td> 0.729   </td><td>  0.6561 </td><td>640      </td><td>2        </td><td>2370     </td><td>5        </td><td>3.181267 </td></tr>\n",
       "\t<tr><th scope=row>32095</th><td> 8.263305</td><td>2.111825 </td><td>0        </td><td>0        </td><td>0        </td><td>0        </td><td>1        </td><td>0        </td><td>0        </td><td>0        </td><td>...      </td><td>0        </td><td> 1       </td><td> 0.01    </td><td> 0.001   </td><td>  0.0001 </td><td>2720     </td><td>9        </td><td>7870     </td><td>17       </td><td>2.703274 </td></tr>\n",
       "\t<tr><th scope=row>32161</th><td>14.807692</td><td>2.695147 </td><td>0        </td><td>0        </td><td>0        </td><td>0        </td><td>1        </td><td>0        </td><td>0        </td><td>0        </td><td>...      </td><td>0        </td><td> 8       </td><td> 0.64    </td><td> 0.512   </td><td>  0.4096 </td><td>6230     </td><td>19       </td><td>770      </td><td>4        </td><td>3.047298 </td></tr>\n",
       "\t<tr><th scope=row>32213</th><td>50.000000</td><td>3.912023 </td><td>0        </td><td>0        </td><td>0        </td><td>0        </td><td>1        </td><td>0        </td><td>0        </td><td>0        </td><td>...      </td><td>0        </td><td>10       </td><td> 1.00    </td><td> 1.000   </td><td>  1.0000 </td><td>1060     </td><td>3        </td><td>9570     </td><td>22       </td><td>3.489064 </td></tr>\n",
       "\t<tr><th scope=row>32220</th><td>36.057692</td><td>3.585120 </td><td>0        </td><td>0        </td><td>0        </td><td>0        </td><td>1        </td><td>0        </td><td>0        </td><td>0        </td><td>...      </td><td>0        </td><td>32       </td><td>10.24    </td><td>32.768   </td><td>104.8576 </td><td>1010     </td><td>3        </td><td>7380     </td><td>14       </td><td>3.617862 </td></tr>\n",
       "\t<tr><th scope=row>32228</th><td>48.076923</td><td>3.872802 </td><td>0        </td><td>0        </td><td>0        </td><td>0        </td><td>1        </td><td>0        </td><td>0        </td><td>0        </td><td>...      </td><td>0        </td><td>26       </td><td> 6.76    </td><td>17.576   </td><td> 45.6976 </td><td>3255     </td><td>10       </td><td>8090     </td><td>18       </td><td>3.603811 </td></tr>\n",
       "\t<tr><th scope=row>32256</th><td>20.673077</td><td>3.028832 </td><td>1        </td><td>0        </td><td>0        </td><td>0        </td><td>1        </td><td>0        </td><td>0        </td><td>0        </td><td>...      </td><td>0        </td><td> 6       </td><td> 0.36    </td><td> 0.216   </td><td>  0.1296 </td><td>5000     </td><td>17       </td><td>6870     </td><td>12       </td><td>3.141848 </td></tr>\n",
       "\t<tr><th scope=row>32314</th><td>30.145530</td><td>3.406037 </td><td>1        </td><td>0        </td><td>0        </td><td>0        </td><td>1        </td><td>0        </td><td>0        </td><td>0        </td><td>...      </td><td>0        </td><td>15       </td><td> 2.25    </td><td> 3.375   </td><td>  5.0625 </td><td>120      </td><td>1        </td><td>6870     </td><td>12       </td><td>3.645229 </td></tr>\n",
       "\t<tr><th scope=row>32362</th><td>25.480769</td><td>3.237924 </td><td>0        </td><td>0        </td><td>0        </td><td>0        </td><td>1        </td><td>0        </td><td>0        </td><td>0        </td><td>...      </td><td>0        </td><td>16       </td><td> 2.56    </td><td> 4.096   </td><td>  6.5536 </td><td>7420     </td><td>20       </td><td>770      </td><td>4        </td><td>3.252630 </td></tr>\n",
       "\t<tr><th scope=row>32419</th><td>29.914530</td><td>3.398344 </td><td>1        </td><td>0        </td><td>0        </td><td>0        </td><td>1        </td><td>0        </td><td>0        </td><td>0        </td><td>...      </td><td>0        </td><td>39       </td><td>15.21    </td><td>59.319   </td><td>231.3441 </td><td>4700     </td><td>16       </td><td>5380     </td><td>9        </td><td>2.909306 </td></tr>\n",
       "\t<tr><th scope=row>32458</th><td>11.298077</td><td>2.424633 </td><td>1        </td><td>0        </td><td>0        </td><td>0        </td><td>1        </td><td>0        </td><td>0        </td><td>0        </td><td>...      </td><td>0        </td><td>10       </td><td> 1.00    </td><td> 1.000   </td><td>  1.0000 </td><td>2060     </td><td>6        </td><td>9160     </td><td>21       </td><td>2.964502 </td></tr>\n",
       "\t<tr><th scope=row>32493</th><td>16.826923</td><td>2.822980 </td><td>1        </td><td>0        </td><td>0        </td><td>0        </td><td>1        </td><td>0        </td><td>0        </td><td>0        </td><td>...      </td><td>0        </td><td> 4       </td><td> 0.16    </td><td> 0.064   </td><td>  0.0256 </td><td>3648     </td><td>11       </td><td>7480     </td><td>14       </td><td>2.807723 </td></tr>\n",
       "\t<tr><th scope=row>32497</th><td>10.576923</td><td>2.358675 </td><td>0        </td><td>0        </td><td>0        </td><td>0        </td><td>1        </td><td>0        </td><td>0        </td><td>0        </td><td>...      </td><td>0        </td><td> 8       </td><td> 0.64    </td><td> 0.512   </td><td>  0.4096 </td><td>1550     </td><td>4        </td><td>9490     </td><td>22       </td><td>3.471887 </td></tr>\n",
       "\t<tr><th scope=row>32498</th><td>25.000000</td><td>3.218876 </td><td>0        </td><td>0        </td><td>0        </td><td>0        </td><td>1        </td><td>0        </td><td>0        </td><td>0        </td><td>...      </td><td>0        </td><td>10       </td><td> 1.00    </td><td> 1.000   </td><td>  1.0000 </td><td>1310     </td><td>4        </td><td>770      </td><td>4        </td><td>3.283637 </td></tr>\n",
       "\t<tr><th scope=row>32504</th><td>18.750000</td><td>2.931194 </td><td>1        </td><td>0        </td><td>0        </td><td>0        </td><td>1        </td><td>0        </td><td>0        </td><td>0        </td><td>...      </td><td>0        </td><td> 2       </td><td> 0.04    </td><td> 0.008   </td><td>  0.0016 </td><td>2000     </td><td>6        </td><td>8370     </td><td>18       </td><td>2.785498 </td></tr>\n",
       "\t<tr><th scope=row>32540</th><td>28.846154</td><td>3.361977 </td><td>0        </td><td>0        </td><td>0        </td><td>0        </td><td>1        </td><td>0        </td><td>0        </td><td>0        </td><td>...      </td><td>0        </td><td> 5       </td><td> 0.25    </td><td> 0.125   </td><td>  0.0625 </td><td>1360     </td><td>4        </td><td>770      </td><td>4        </td><td>3.345893 </td></tr>\n",
       "\t<tr><th scope=row>32561</th><td>38.461538</td><td>3.649659 </td><td>0        </td><td>0        </td><td>0        </td><td>0        </td><td>1        </td><td>0        </td><td>0        </td><td>0        </td><td>...      </td><td>0        </td><td> 8       </td><td> 0.64    </td><td> 0.512   </td><td>  0.4096 </td><td>710      </td><td>2        </td><td>6870     </td><td>12       </td><td>3.524915 </td></tr>\n",
       "\t<tr><th scope=row>32567</th><td>48.076923</td><td>3.872802 </td><td>1        </td><td>0        </td><td>0        </td><td>0        </td><td>1        </td><td>0        </td><td>0        </td><td>0        </td><td>...      </td><td>0        </td><td>25       </td><td> 6.25    </td><td>15.625   </td><td> 39.0625 </td><td>3255     </td><td>10       </td><td>8170     </td><td>18       </td><td>3.548290 </td></tr>\n",
       "\t<tr><th scope=row>32581</th><td>26.442308</td><td>3.274965 </td><td>1        </td><td>0        </td><td>0        </td><td>0        </td><td>1        </td><td>0        </td><td>0        </td><td>0        </td><td>...      </td><td>0        </td><td>34       </td><td>11.56    </td><td>39.304   </td><td>133.6336 </td><td>2310     </td><td>8        </td><td>7860     </td><td>17       </td><td>3.200210 </td></tr>\n",
       "\t<tr><th scope=row>32593</th><td>21.153846</td><td>3.051822 </td><td>0        </td><td>0        </td><td>0        </td><td>0        </td><td>1        </td><td>0        </td><td>0        </td><td>0        </td><td>...      </td><td>0        </td><td>28       </td><td> 7.84    </td><td>21.952   </td><td> 61.4656 </td><td>40       </td><td>1        </td><td>9170     </td><td>21       </td><td>3.363103 </td></tr>\n",
       "\t<tr><th scope=row>32596</th><td>45.546559</td><td>3.818735 </td><td>1        </td><td>0        </td><td>0        </td><td>0        </td><td>1        </td><td>0        </td><td>0        </td><td>0        </td><td>...      </td><td>0        </td><td> 5       </td><td> 0.25    </td><td> 0.125   </td><td>  0.0625 </td><td>3255     </td><td>10       </td><td>8190     </td><td>18       </td><td>3.143699 </td></tr>\n",
       "\t<tr><th scope=row>32606</th><td>24.038462</td><td>3.179655 </td><td>1        </td><td>0        </td><td>0        </td><td>0        </td><td>1        </td><td>0        </td><td>0        </td><td>0        </td><td>...      </td><td>0        </td><td>17       </td><td> 2.89    </td><td> 4.913   </td><td>  8.3521 </td><td>2550     </td><td>8        </td><td>9480     </td><td>22       </td><td>3.157058 </td></tr>\n",
       "\t<tr><th scope=row>32619</th><td>13.846154</td><td>2.628007 </td><td>0        </td><td>0        </td><td>0        </td><td>0        </td><td>1        </td><td>0        </td><td>0        </td><td>0        </td><td>...      </td><td>0        </td><td>10       </td><td> 1.00    </td><td> 1.000   </td><td>  1.0000 </td><td>800      </td><td>2        </td><td>770      </td><td>4        </td><td>3.178102 </td></tr>\n",
       "\t<tr><th scope=row>32620</th><td>14.769231</td><td>2.692546 </td><td>0        </td><td>0        </td><td>0        </td><td>0        </td><td>1        </td><td>0        </td><td>0        </td><td>0        </td><td>...      </td><td>0        </td><td> 9       </td><td> 0.81    </td><td> 0.729   </td><td>  0.6561 </td><td>4700     </td><td>16       </td><td>4970     </td><td>9        </td><td>2.910376 </td></tr>\n",
       "</tbody>\n",
       "</table>\n"
      ],
      "text/latex": [
       "\\begin{tabular}{r|lllllllllllllllllllll}\n",
       "  & wage & lwage & sex & shs & hsg & scl & clg & ad & mw & so & ... & ne & exp1 & exp2 & exp3 & exp4 & occ & occ2 & ind & ind2 & y\\_predict\\\\\n",
       "\\hline\n",
       "\t84 & 12.019231    & 2.486508     & 1            & 0            & 0            & 1            & 0            & 0            & 0            & 0            & ...          & 1            &  5.5         &  0.3025      &  0.166375    &   0.09150625 & 3600         & 11           & 8270         & 18           & 2.452625    \\\\\n",
       "\t89 & 13.461538    & 2.599837     & 1            & 0            & 0            & 1            & 0            & 0            & 0            & 0            & ...          & 1            & 20.5         &  4.2025      &  8.615125    &  17.66100625 & 3645         & 11           & 8190         & 18           & 2.624982    \\\\\n",
       "\t119 &  8.653846    & 2.158004     & 0            & 0            & 0            & 1            & 0            & 0            & 0            & 0            & ...          & 1            &  3.5         &  0.1225      &  0.042875    &   0.01500625 & 7410         & 20           & 570          & 3            & 2.889995    \\\\\n",
       "\t135 & 10.683761    & 2.368725     & 1            & 0            & 0            & 1            & 0            & 0            & 0            & 0            & ...          & 1            &  6.5         &  0.4225      &  0.274625    &   0.17850625 & 4300         & 15           & 8590         & 19           & 2.352022    \\\\\n",
       "\t144 & 11.538462    & 2.445686     & 1            & 0            & 0            & 1            & 0            & 0            & 0            & 0            & ...          & 1            &  8.5         &  0.7225      &  0.614125    &   0.52200625 & 3600         & 11           & 8190         & 18           & 2.547907    \\\\\n",
       "\t152 & 16.304348    & 2.791432     & 1            & 0            & 0            & 1            & 0            & 0            & 0            & 0            & ...          & 1            & 24.5         &  6.0025      & 14.706125    &  36.03000625 & 20           & 1            & 5480         & 9            & 3.033747    \\\\\n",
       "\t160 & 12.000000    & 2.484907     & 0            & 0            & 0            & 1            & 0            & 0            & 0            & 0            & ...          & 1            &  4.5         &  0.2025      &  0.091125    &   0.04100625 & 6330         & 19           & 770          & 4            & 2.887251    \\\\\n",
       "\t206 & 13.942308    & 2.634928     & 1            & 0            & 0            & 1            & 0            & 0            & 0            & 0            & ...          & 1            & 15.5         &  2.4025      &  3.723875    &   5.77200625 & 5860         & 17           & 4670         & 9            & 2.559542    \\\\\n",
       "\t213 & 10.096154    & 2.312155     & 1            & 0            & 0            & 1            & 0            & 0            & 0            & 0            & ...          & 1            &  9.0         &  0.8100      &  0.729000    &   0.65610000 & 3500         & 10           & 8090         & 18           & 2.937379    \\\\\n",
       "\t245 & 21.634615    & 3.074295     & 1            & 0            & 0            & 1            & 0            & 0            & 0            & 0            & ...          & 1            & 17.5         &  3.0625      &  5.359375    &   9.37890625 & 5400         & 17           & 6695         & 11           & 2.813559    \\\\\n",
       "\t264 & 12.019231    & 2.486508     & 1            & 0            & 0            & 1            & 0            & 0            & 0            & 0            & ...          & 1            &  6.5         &  0.4225      &  0.274625    &   0.17850625 & 4110         & 13           & 8680         & 20           & 2.473964    \\\\\n",
       "\t280 &  7.211538    & 1.975682     & 1            & 0            & 0            & 1            & 0            & 0            & 0            & 0            & ...          & 1            & 17.5         &  3.0625      &  5.359375    &   9.37890625 & 4720         & 16           & 4980         & 9            & 2.849499    \\\\\n",
       "\t286 & 12.937063    & 2.560096     & 0            & 0            & 0            & 1            & 0            & 0            & 0            & 0            & ...          & 1            & 34.5         & 11.9025      & 41.063625    & 141.66950625 & 9000         & 22           & 5670         & 9            & 2.666870    \\\\\n",
       "\t368 &  8.505917    & 2.140762     & 0            & 0            & 0            & 1            & 0            & 0            & 0            & 0            & ...          & 1            &  4.5         &  0.2025      &  0.091125    &   0.04100625 & 4220         & 14           & 8590         & 19           & 2.533020    \\\\\n",
       "\t402 & 20.329670    & 3.012081     & 1            & 0            & 0            & 1            & 0            & 0            & 0            & 0            & ...          & 1            & 33.0         & 10.8900      & 35.937000    & 118.59210000 & 7700         & 21           & 1280         & 5            & 3.105523    \\\\\n",
       "\t466 & 22.596154    & 3.117780     & 1            & 0            & 0            & 1            & 0            & 0            & 0            & 0            & ...          & 1            & 34.0         & 11.5600      & 39.304000    & 133.63360000 & 3500         & 10           & 8090         & 18           & 3.266717    \\\\\n",
       "\t475 & 18.750000    & 2.931194     & 1            & 0            & 0            & 1            & 0            & 0            & 0            & 0            & ...          & 1            &  5.5         &  0.3025      &  0.166375    &   0.09150625 & 3700         & 12           & 9470         & 22           & 2.872072    \\\\\n",
       "\t494 & 25.641026    & 3.244194     & 0            & 0            & 0            & 1            & 0            & 0            & 0            & 0            & ...          & 1            & 26.5         &  7.0225      & 18.609625    &  49.31550625 & 4850         & 16           & 4270         & 7            & 3.345095    \\\\\n",
       "\t546 & 11.160714    & 2.412400     & 0            & 0            & 0            & 1            & 0            & 0            & 0            & 0            & ...          & 1            &  3.0         &  0.0900      &  0.027000    &   0.00810000 & 7200         & 20           & 8770         & 21           & 2.773553    \\\\\n",
       "\t573 & 16.826923    & 2.822980     & 0            & 0            & 0            & 1            & 0            & 0            & 0            & 0            & ...          & 1            &  4.0         &  0.1600      &  0.064000    &   0.02560000 & 7200         & 20           & 8770         & 21           & 2.835646    \\\\\n",
       "\t574 & 14.423077    & 2.668829     & 0            & 0            & 0            & 1            & 0            & 0            & 0            & 0            & ...          & 1            &  4.5         &  0.2025      &  0.091125    &   0.04100625 & 6230         & 19           & 770          & 4            & 2.887251    \\\\\n",
       "\t576 & 19.230769    & 2.956512     & 0            & 0            & 0            & 1            & 0            & 0            & 0            & 0            & ...          & 1            &  4.5         &  0.2025      &  0.091125    &   0.04100625 & 1e+05        & 20           & 6180         & 10           & 2.834756    \\\\\n",
       "\t652 & 19.230769    & 2.956512     & 0            & 0            & 0            & 1            & 0            & 0            & 0            & 0            & ...          & 1            &  7.5         &  0.5625      &  0.421875    &   0.31640625 & 5610         & 17           & 2690         & 6            & 2.738604    \\\\\n",
       "\t675 & 18.269231    & 2.905218     & 0            & 0            & 0            & 1            & 0            & 0            & 0            & 0            & ...          & 1            & 16.5         &  2.7225      &  4.492125    &   7.41200625 & 4220         & 14           & 8270         & 18           & 2.456142    \\\\\n",
       "\t687 & 24.038462    & 3.179655     & 1            & 0            & 0            & 1            & 0            & 0            & 0            & 0            & ...          & 1            & 33.0         & 10.8900      & 35.937000    & 118.59210000 & 3255         & 10           & 7860         & 17           & 3.514886    \\\\\n",
       "\t723 &  9.615385    & 2.263364     & 1            & 0            & 0            & 1            & 0            & 0            & 0            & 0            & ...          & 1            &  3.5         &  0.1225      &  0.042875    &   0.01500625 & 3420         & 10           & 5070         & 9            & 2.732614    \\\\\n",
       "\t743 & 15.384615    & 2.733368     & 1            & 0            & 0            & 1            & 0            & 0            & 0            & 0            & ...          & 1            & 23.5         &  5.5225      & 12.977875    &  30.49800625 & 5240         & 17           & 7180         & 13           & 2.749175    \\\\\n",
       "\t744 & 13.410577    & 2.596044     & 0            & 0            & 0            & 1            & 0            & 0            & 0            & 0            & ...          & 1            & 29.5         &  8.7025      & 25.672375    &  75.73350625 & 4760         & 16           & 1e+05        & 9            & 3.021605    \\\\\n",
       "\t765 & 15.384615    & 2.733368     & 1            & 0            & 0            & 1            & 0            & 0            & 0            & 0            & ...          & 1            &  6.5         &  0.4225      &  0.274625    &   0.17850625 & 5700         & 17           & 9570         & 22           & 2.741893    \\\\\n",
       "\t809 & 12.019231    & 2.486508     & 0            & 0            & 0            & 1            & 0            & 0            & 0            & 0            & ...          & 1            & 35.5         & 12.6025      & 44.738875    & 158.82300625 & 9130         & 22           & 6170         & 10           & 2.926848    \\\\\n",
       "\t... & ... & ... & ... & ... & ... & ... & ... & ... & ... & ... &     & ... & ... & ... & ... & ... & ... & ... & ... & ... & ...\\\\\n",
       "\t31952 & 52.884615 & 3.968112  & 0         & 0         & 0         & 0         & 1         & 0         & 0         & 0         & ...       & 0         & 24        &  5.76     & 13.824    &  33.1776  & 1020      & 3         & 2190      & 5         & 3.315481 \\\\\n",
       "\t31969 & 34.188034 & 3.531876  & 0         & 0         & 0         & 0         & 1         & 0         & 0         & 0         & ...       & 0         &  8        &  0.64     &  0.512    &   0.4096  & 2630      & 9         & 7460      & 14        & 3.286614 \\\\\n",
       "\t31975 & 29.807692 & 3.394766  & 0         & 0         & 0         & 0         & 1         & 0         & 0         & 0         & ...       & 0         &  1        &  0.01     &  0.001    &   0.0001  & 1460      & 4         & 7290      & 14        & 3.381525 \\\\\n",
       "\t31998 & 16.608392 & 2.809908  & 0         & 0         & 0         & 0         & 1         & 0         & 0         & 0         & ...       & 0         &  4        &  0.16     &  0.064    &   0.0256  & 1e+05     & 15        & 8090      & 18        & 2.773527 \\\\\n",
       "\t32015 & 14.057692 & 2.643170  & 1         & 0         & 0         & 0         & 1         & 0         & 0         & 0         & ...       & 0         &  5        &  0.25     &  0.125    &   0.0625  & 4110      & 13        & 8680      & 20        & 2.732996 \\\\\n",
       "\t32037 & 13.736264 & 2.620039  & 0         & 0         & 0         & 0         & 1         & 0         & 0         & 0         & ...       & 0         & 17        &  2.89     &  4.913    &   8.3521  & 4760      & 16        & 4870      & 9         & 3.169286 \\\\\n",
       "\t32085 & 38.461538 & 3.649659  & 0         & 0         & 0         & 0         & 1         & 0         & 0         & 0         & ...       & 0         &  9        &  0.81     &  0.729    &   0.6561  & 640       & 2         & 2370      & 5         & 3.181267 \\\\\n",
       "\t32095 &  8.263305 & 2.111825  & 0         & 0         & 0         & 0         & 1         & 0         & 0         & 0         & ...       & 0         &  1        &  0.01     &  0.001    &   0.0001  & 2720      & 9         & 7870      & 17        & 2.703274 \\\\\n",
       "\t32161 & 14.807692 & 2.695147  & 0         & 0         & 0         & 0         & 1         & 0         & 0         & 0         & ...       & 0         &  8        &  0.64     &  0.512    &   0.4096  & 6230      & 19        & 770       & 4         & 3.047298 \\\\\n",
       "\t32213 & 50.000000 & 3.912023  & 0         & 0         & 0         & 0         & 1         & 0         & 0         & 0         & ...       & 0         & 10        &  1.00     &  1.000    &   1.0000  & 1060      & 3         & 9570      & 22        & 3.489064 \\\\\n",
       "\t32220 & 36.057692 & 3.585120  & 0         & 0         & 0         & 0         & 1         & 0         & 0         & 0         & ...       & 0         & 32        & 10.24     & 32.768    & 104.8576  & 1010      & 3         & 7380      & 14        & 3.617862 \\\\\n",
       "\t32228 & 48.076923 & 3.872802  & 0         & 0         & 0         & 0         & 1         & 0         & 0         & 0         & ...       & 0         & 26        &  6.76     & 17.576    &  45.6976  & 3255      & 10        & 8090      & 18        & 3.603811 \\\\\n",
       "\t32256 & 20.673077 & 3.028832  & 1         & 0         & 0         & 0         & 1         & 0         & 0         & 0         & ...       & 0         &  6        &  0.36     &  0.216    &   0.1296  & 5000      & 17        & 6870      & 12        & 3.141848 \\\\\n",
       "\t32314 & 30.145530 & 3.406037  & 1         & 0         & 0         & 0         & 1         & 0         & 0         & 0         & ...       & 0         & 15        &  2.25     &  3.375    &   5.0625  & 120       & 1         & 6870      & 12        & 3.645229 \\\\\n",
       "\t32362 & 25.480769 & 3.237924  & 0         & 0         & 0         & 0         & 1         & 0         & 0         & 0         & ...       & 0         & 16        &  2.56     &  4.096    &   6.5536  & 7420      & 20        & 770       & 4         & 3.252630 \\\\\n",
       "\t32419 & 29.914530 & 3.398344  & 1         & 0         & 0         & 0         & 1         & 0         & 0         & 0         & ...       & 0         & 39        & 15.21     & 59.319    & 231.3441  & 4700      & 16        & 5380      & 9         & 2.909306 \\\\\n",
       "\t32458 & 11.298077 & 2.424633  & 1         & 0         & 0         & 0         & 1         & 0         & 0         & 0         & ...       & 0         & 10        &  1.00     &  1.000    &   1.0000  & 2060      & 6         & 9160      & 21        & 2.964502 \\\\\n",
       "\t32493 & 16.826923 & 2.822980  & 1         & 0         & 0         & 0         & 1         & 0         & 0         & 0         & ...       & 0         &  4        &  0.16     &  0.064    &   0.0256  & 3648      & 11        & 7480      & 14        & 2.807723 \\\\\n",
       "\t32497 & 10.576923 & 2.358675  & 0         & 0         & 0         & 0         & 1         & 0         & 0         & 0         & ...       & 0         &  8        &  0.64     &  0.512    &   0.4096  & 1550      & 4         & 9490      & 22        & 3.471887 \\\\\n",
       "\t32498 & 25.000000 & 3.218876  & 0         & 0         & 0         & 0         & 1         & 0         & 0         & 0         & ...       & 0         & 10        &  1.00     &  1.000    &   1.0000  & 1310      & 4         & 770       & 4         & 3.283637 \\\\\n",
       "\t32504 & 18.750000 & 2.931194  & 1         & 0         & 0         & 0         & 1         & 0         & 0         & 0         & ...       & 0         &  2        &  0.04     &  0.008    &   0.0016  & 2000      & 6         & 8370      & 18        & 2.785498 \\\\\n",
       "\t32540 & 28.846154 & 3.361977  & 0         & 0         & 0         & 0         & 1         & 0         & 0         & 0         & ...       & 0         &  5        &  0.25     &  0.125    &   0.0625  & 1360      & 4         & 770       & 4         & 3.345893 \\\\\n",
       "\t32561 & 38.461538 & 3.649659  & 0         & 0         & 0         & 0         & 1         & 0         & 0         & 0         & ...       & 0         &  8        &  0.64     &  0.512    &   0.4096  & 710       & 2         & 6870      & 12        & 3.524915 \\\\\n",
       "\t32567 & 48.076923 & 3.872802  & 1         & 0         & 0         & 0         & 1         & 0         & 0         & 0         & ...       & 0         & 25        &  6.25     & 15.625    &  39.0625  & 3255      & 10        & 8170      & 18        & 3.548290 \\\\\n",
       "\t32581 & 26.442308 & 3.274965  & 1         & 0         & 0         & 0         & 1         & 0         & 0         & 0         & ...       & 0         & 34        & 11.56     & 39.304    & 133.6336  & 2310      & 8         & 7860      & 17        & 3.200210 \\\\\n",
       "\t32593 & 21.153846 & 3.051822  & 0         & 0         & 0         & 0         & 1         & 0         & 0         & 0         & ...       & 0         & 28        &  7.84     & 21.952    &  61.4656  & 40        & 1         & 9170      & 21        & 3.363103 \\\\\n",
       "\t32596 & 45.546559 & 3.818735  & 1         & 0         & 0         & 0         & 1         & 0         & 0         & 0         & ...       & 0         &  5        &  0.25     &  0.125    &   0.0625  & 3255      & 10        & 8190      & 18        & 3.143699 \\\\\n",
       "\t32606 & 24.038462 & 3.179655  & 1         & 0         & 0         & 0         & 1         & 0         & 0         & 0         & ...       & 0         & 17        &  2.89     &  4.913    &   8.3521  & 2550      & 8         & 9480      & 22        & 3.157058 \\\\\n",
       "\t32619 & 13.846154 & 2.628007  & 0         & 0         & 0         & 0         & 1         & 0         & 0         & 0         & ...       & 0         & 10        &  1.00     &  1.000    &   1.0000  & 800       & 2         & 770       & 4         & 3.178102 \\\\\n",
       "\t32620 & 14.769231 & 2.692546  & 0         & 0         & 0         & 0         & 1         & 0         & 0         & 0         & ...       & 0         &  9        &  0.81     &  0.729    &   0.6561  & 4700      & 16        & 4970      & 9         & 2.910376 \\\\\n",
       "\\end{tabular}\n"
      ],
      "text/markdown": [
       "\n",
       "| <!--/--> | wage | lwage | sex | shs | hsg | scl | clg | ad | mw | so | ... | ne | exp1 | exp2 | exp3 | exp4 | occ | occ2 | ind | ind2 | y_predict |\n",
       "|---|---|---|---|---|---|---|---|---|---|---|---|---|---|---|---|---|---|---|---|---|---|\n",
       "| 84 | 12.019231    | 2.486508     | 1            | 0            | 0            | 1            | 0            | 0            | 0            | 0            | ...          | 1            |  5.5         |  0.3025      |  0.166375    |   0.09150625 | 3600         | 11           | 8270         | 18           | 2.452625     |\n",
       "| 89 | 13.461538    | 2.599837     | 1            | 0            | 0            | 1            | 0            | 0            | 0            | 0            | ...          | 1            | 20.5         |  4.2025      |  8.615125    |  17.66100625 | 3645         | 11           | 8190         | 18           | 2.624982     |\n",
       "| 119 |  8.653846    | 2.158004     | 0            | 0            | 0            | 1            | 0            | 0            | 0            | 0            | ...          | 1            |  3.5         |  0.1225      |  0.042875    |   0.01500625 | 7410         | 20           | 570          | 3            | 2.889995     |\n",
       "| 135 | 10.683761    | 2.368725     | 1            | 0            | 0            | 1            | 0            | 0            | 0            | 0            | ...          | 1            |  6.5         |  0.4225      |  0.274625    |   0.17850625 | 4300         | 15           | 8590         | 19           | 2.352022     |\n",
       "| 144 | 11.538462    | 2.445686     | 1            | 0            | 0            | 1            | 0            | 0            | 0            | 0            | ...          | 1            |  8.5         |  0.7225      |  0.614125    |   0.52200625 | 3600         | 11           | 8190         | 18           | 2.547907     |\n",
       "| 152 | 16.304348    | 2.791432     | 1            | 0            | 0            | 1            | 0            | 0            | 0            | 0            | ...          | 1            | 24.5         |  6.0025      | 14.706125    |  36.03000625 | 20           | 1            | 5480         | 9            | 3.033747     |\n",
       "| 160 | 12.000000    | 2.484907     | 0            | 0            | 0            | 1            | 0            | 0            | 0            | 0            | ...          | 1            |  4.5         |  0.2025      |  0.091125    |   0.04100625 | 6330         | 19           | 770          | 4            | 2.887251     |\n",
       "| 206 | 13.942308    | 2.634928     | 1            | 0            | 0            | 1            | 0            | 0            | 0            | 0            | ...          | 1            | 15.5         |  2.4025      |  3.723875    |   5.77200625 | 5860         | 17           | 4670         | 9            | 2.559542     |\n",
       "| 213 | 10.096154    | 2.312155     | 1            | 0            | 0            | 1            | 0            | 0            | 0            | 0            | ...          | 1            |  9.0         |  0.8100      |  0.729000    |   0.65610000 | 3500         | 10           | 8090         | 18           | 2.937379     |\n",
       "| 245 | 21.634615    | 3.074295     | 1            | 0            | 0            | 1            | 0            | 0            | 0            | 0            | ...          | 1            | 17.5         |  3.0625      |  5.359375    |   9.37890625 | 5400         | 17           | 6695         | 11           | 2.813559     |\n",
       "| 264 | 12.019231    | 2.486508     | 1            | 0            | 0            | 1            | 0            | 0            | 0            | 0            | ...          | 1            |  6.5         |  0.4225      |  0.274625    |   0.17850625 | 4110         | 13           | 8680         | 20           | 2.473964     |\n",
       "| 280 |  7.211538    | 1.975682     | 1            | 0            | 0            | 1            | 0            | 0            | 0            | 0            | ...          | 1            | 17.5         |  3.0625      |  5.359375    |   9.37890625 | 4720         | 16           | 4980         | 9            | 2.849499     |\n",
       "| 286 | 12.937063    | 2.560096     | 0            | 0            | 0            | 1            | 0            | 0            | 0            | 0            | ...          | 1            | 34.5         | 11.9025      | 41.063625    | 141.66950625 | 9000         | 22           | 5670         | 9            | 2.666870     |\n",
       "| 368 |  8.505917    | 2.140762     | 0            | 0            | 0            | 1            | 0            | 0            | 0            | 0            | ...          | 1            |  4.5         |  0.2025      |  0.091125    |   0.04100625 | 4220         | 14           | 8590         | 19           | 2.533020     |\n",
       "| 402 | 20.329670    | 3.012081     | 1            | 0            | 0            | 1            | 0            | 0            | 0            | 0            | ...          | 1            | 33.0         | 10.8900      | 35.937000    | 118.59210000 | 7700         | 21           | 1280         | 5            | 3.105523     |\n",
       "| 466 | 22.596154    | 3.117780     | 1            | 0            | 0            | 1            | 0            | 0            | 0            | 0            | ...          | 1            | 34.0         | 11.5600      | 39.304000    | 133.63360000 | 3500         | 10           | 8090         | 18           | 3.266717     |\n",
       "| 475 | 18.750000    | 2.931194     | 1            | 0            | 0            | 1            | 0            | 0            | 0            | 0            | ...          | 1            |  5.5         |  0.3025      |  0.166375    |   0.09150625 | 3700         | 12           | 9470         | 22           | 2.872072     |\n",
       "| 494 | 25.641026    | 3.244194     | 0            | 0            | 0            | 1            | 0            | 0            | 0            | 0            | ...          | 1            | 26.5         |  7.0225      | 18.609625    |  49.31550625 | 4850         | 16           | 4270         | 7            | 3.345095     |\n",
       "| 546 | 11.160714    | 2.412400     | 0            | 0            | 0            | 1            | 0            | 0            | 0            | 0            | ...          | 1            |  3.0         |  0.0900      |  0.027000    |   0.00810000 | 7200         | 20           | 8770         | 21           | 2.773553     |\n",
       "| 573 | 16.826923    | 2.822980     | 0            | 0            | 0            | 1            | 0            | 0            | 0            | 0            | ...          | 1            |  4.0         |  0.1600      |  0.064000    |   0.02560000 | 7200         | 20           | 8770         | 21           | 2.835646     |\n",
       "| 574 | 14.423077    | 2.668829     | 0            | 0            | 0            | 1            | 0            | 0            | 0            | 0            | ...          | 1            |  4.5         |  0.2025      |  0.091125    |   0.04100625 | 6230         | 19           | 770          | 4            | 2.887251     |\n",
       "| 576 | 19.230769    | 2.956512     | 0            | 0            | 0            | 1            | 0            | 0            | 0            | 0            | ...          | 1            |  4.5         |  0.2025      |  0.091125    |   0.04100625 | 1e+05        | 20           | 6180         | 10           | 2.834756     |\n",
       "| 652 | 19.230769    | 2.956512     | 0            | 0            | 0            | 1            | 0            | 0            | 0            | 0            | ...          | 1            |  7.5         |  0.5625      |  0.421875    |   0.31640625 | 5610         | 17           | 2690         | 6            | 2.738604     |\n",
       "| 675 | 18.269231    | 2.905218     | 0            | 0            | 0            | 1            | 0            | 0            | 0            | 0            | ...          | 1            | 16.5         |  2.7225      |  4.492125    |   7.41200625 | 4220         | 14           | 8270         | 18           | 2.456142     |\n",
       "| 687 | 24.038462    | 3.179655     | 1            | 0            | 0            | 1            | 0            | 0            | 0            | 0            | ...          | 1            | 33.0         | 10.8900      | 35.937000    | 118.59210000 | 3255         | 10           | 7860         | 17           | 3.514886     |\n",
       "| 723 |  9.615385    | 2.263364     | 1            | 0            | 0            | 1            | 0            | 0            | 0            | 0            | ...          | 1            |  3.5         |  0.1225      |  0.042875    |   0.01500625 | 3420         | 10           | 5070         | 9            | 2.732614     |\n",
       "| 743 | 15.384615    | 2.733368     | 1            | 0            | 0            | 1            | 0            | 0            | 0            | 0            | ...          | 1            | 23.5         |  5.5225      | 12.977875    |  30.49800625 | 5240         | 17           | 7180         | 13           | 2.749175     |\n",
       "| 744 | 13.410577    | 2.596044     | 0            | 0            | 0            | 1            | 0            | 0            | 0            | 0            | ...          | 1            | 29.5         |  8.7025      | 25.672375    |  75.73350625 | 4760         | 16           | 1e+05        | 9            | 3.021605     |\n",
       "| 765 | 15.384615    | 2.733368     | 1            | 0            | 0            | 1            | 0            | 0            | 0            | 0            | ...          | 1            |  6.5         |  0.4225      |  0.274625    |   0.17850625 | 5700         | 17           | 9570         | 22           | 2.741893     |\n",
       "| 809 | 12.019231    | 2.486508     | 0            | 0            | 0            | 1            | 0            | 0            | 0            | 0            | ...          | 1            | 35.5         | 12.6025      | 44.738875    | 158.82300625 | 9130         | 22           | 6170         | 10           | 2.926848     |\n",
       "| ... | ... | ... | ... | ... | ... | ... | ... | ... | ... | ... |     | ... | ... | ... | ... | ... | ... | ... | ... | ... | ... |\n",
       "| 31952 | 52.884615 | 3.968112  | 0         | 0         | 0         | 0         | 1         | 0         | 0         | 0         | ...       | 0         | 24        |  5.76     | 13.824    |  33.1776  | 1020      | 3         | 2190      | 5         | 3.315481  |\n",
       "| 31969 | 34.188034 | 3.531876  | 0         | 0         | 0         | 0         | 1         | 0         | 0         | 0         | ...       | 0         |  8        |  0.64     |  0.512    |   0.4096  | 2630      | 9         | 7460      | 14        | 3.286614  |\n",
       "| 31975 | 29.807692 | 3.394766  | 0         | 0         | 0         | 0         | 1         | 0         | 0         | 0         | ...       | 0         |  1        |  0.01     |  0.001    |   0.0001  | 1460      | 4         | 7290      | 14        | 3.381525  |\n",
       "| 31998 | 16.608392 | 2.809908  | 0         | 0         | 0         | 0         | 1         | 0         | 0         | 0         | ...       | 0         |  4        |  0.16     |  0.064    |   0.0256  | 1e+05     | 15        | 8090      | 18        | 2.773527  |\n",
       "| 32015 | 14.057692 | 2.643170  | 1         | 0         | 0         | 0         | 1         | 0         | 0         | 0         | ...       | 0         |  5        |  0.25     |  0.125    |   0.0625  | 4110      | 13        | 8680      | 20        | 2.732996  |\n",
       "| 32037 | 13.736264 | 2.620039  | 0         | 0         | 0         | 0         | 1         | 0         | 0         | 0         | ...       | 0         | 17        |  2.89     |  4.913    |   8.3521  | 4760      | 16        | 4870      | 9         | 3.169286  |\n",
       "| 32085 | 38.461538 | 3.649659  | 0         | 0         | 0         | 0         | 1         | 0         | 0         | 0         | ...       | 0         |  9        |  0.81     |  0.729    |   0.6561  | 640       | 2         | 2370      | 5         | 3.181267  |\n",
       "| 32095 |  8.263305 | 2.111825  | 0         | 0         | 0         | 0         | 1         | 0         | 0         | 0         | ...       | 0         |  1        |  0.01     |  0.001    |   0.0001  | 2720      | 9         | 7870      | 17        | 2.703274  |\n",
       "| 32161 | 14.807692 | 2.695147  | 0         | 0         | 0         | 0         | 1         | 0         | 0         | 0         | ...       | 0         |  8        |  0.64     |  0.512    |   0.4096  | 6230      | 19        | 770       | 4         | 3.047298  |\n",
       "| 32213 | 50.000000 | 3.912023  | 0         | 0         | 0         | 0         | 1         | 0         | 0         | 0         | ...       | 0         | 10        |  1.00     |  1.000    |   1.0000  | 1060      | 3         | 9570      | 22        | 3.489064  |\n",
       "| 32220 | 36.057692 | 3.585120  | 0         | 0         | 0         | 0         | 1         | 0         | 0         | 0         | ...       | 0         | 32        | 10.24     | 32.768    | 104.8576  | 1010      | 3         | 7380      | 14        | 3.617862  |\n",
       "| 32228 | 48.076923 | 3.872802  | 0         | 0         | 0         | 0         | 1         | 0         | 0         | 0         | ...       | 0         | 26        |  6.76     | 17.576    |  45.6976  | 3255      | 10        | 8090      | 18        | 3.603811  |\n",
       "| 32256 | 20.673077 | 3.028832  | 1         | 0         | 0         | 0         | 1         | 0         | 0         | 0         | ...       | 0         |  6        |  0.36     |  0.216    |   0.1296  | 5000      | 17        | 6870      | 12        | 3.141848  |\n",
       "| 32314 | 30.145530 | 3.406037  | 1         | 0         | 0         | 0         | 1         | 0         | 0         | 0         | ...       | 0         | 15        |  2.25     |  3.375    |   5.0625  | 120       | 1         | 6870      | 12        | 3.645229  |\n",
       "| 32362 | 25.480769 | 3.237924  | 0         | 0         | 0         | 0         | 1         | 0         | 0         | 0         | ...       | 0         | 16        |  2.56     |  4.096    |   6.5536  | 7420      | 20        | 770       | 4         | 3.252630  |\n",
       "| 32419 | 29.914530 | 3.398344  | 1         | 0         | 0         | 0         | 1         | 0         | 0         | 0         | ...       | 0         | 39        | 15.21     | 59.319    | 231.3441  | 4700      | 16        | 5380      | 9         | 2.909306  |\n",
       "| 32458 | 11.298077 | 2.424633  | 1         | 0         | 0         | 0         | 1         | 0         | 0         | 0         | ...       | 0         | 10        |  1.00     |  1.000    |   1.0000  | 2060      | 6         | 9160      | 21        | 2.964502  |\n",
       "| 32493 | 16.826923 | 2.822980  | 1         | 0         | 0         | 0         | 1         | 0         | 0         | 0         | ...       | 0         |  4        |  0.16     |  0.064    |   0.0256  | 3648      | 11        | 7480      | 14        | 2.807723  |\n",
       "| 32497 | 10.576923 | 2.358675  | 0         | 0         | 0         | 0         | 1         | 0         | 0         | 0         | ...       | 0         |  8        |  0.64     |  0.512    |   0.4096  | 1550      | 4         | 9490      | 22        | 3.471887  |\n",
       "| 32498 | 25.000000 | 3.218876  | 0         | 0         | 0         | 0         | 1         | 0         | 0         | 0         | ...       | 0         | 10        |  1.00     |  1.000    |   1.0000  | 1310      | 4         | 770       | 4         | 3.283637  |\n",
       "| 32504 | 18.750000 | 2.931194  | 1         | 0         | 0         | 0         | 1         | 0         | 0         | 0         | ...       | 0         |  2        |  0.04     |  0.008    |   0.0016  | 2000      | 6         | 8370      | 18        | 2.785498  |\n",
       "| 32540 | 28.846154 | 3.361977  | 0         | 0         | 0         | 0         | 1         | 0         | 0         | 0         | ...       | 0         |  5        |  0.25     |  0.125    |   0.0625  | 1360      | 4         | 770       | 4         | 3.345893  |\n",
       "| 32561 | 38.461538 | 3.649659  | 0         | 0         | 0         | 0         | 1         | 0         | 0         | 0         | ...       | 0         |  8        |  0.64     |  0.512    |   0.4096  | 710       | 2         | 6870      | 12        | 3.524915  |\n",
       "| 32567 | 48.076923 | 3.872802  | 1         | 0         | 0         | 0         | 1         | 0         | 0         | 0         | ...       | 0         | 25        |  6.25     | 15.625    |  39.0625  | 3255      | 10        | 8170      | 18        | 3.548290  |\n",
       "| 32581 | 26.442308 | 3.274965  | 1         | 0         | 0         | 0         | 1         | 0         | 0         | 0         | ...       | 0         | 34        | 11.56     | 39.304    | 133.6336  | 2310      | 8         | 7860      | 17        | 3.200210  |\n",
       "| 32593 | 21.153846 | 3.051822  | 0         | 0         | 0         | 0         | 1         | 0         | 0         | 0         | ...       | 0         | 28        |  7.84     | 21.952    |  61.4656  | 40        | 1         | 9170      | 21        | 3.363103  |\n",
       "| 32596 | 45.546559 | 3.818735  | 1         | 0         | 0         | 0         | 1         | 0         | 0         | 0         | ...       | 0         |  5        |  0.25     |  0.125    |   0.0625  | 3255      | 10        | 8190      | 18        | 3.143699  |\n",
       "| 32606 | 24.038462 | 3.179655  | 1         | 0         | 0         | 0         | 1         | 0         | 0         | 0         | ...       | 0         | 17        |  2.89     |  4.913    |   8.3521  | 2550      | 8         | 9480      | 22        | 3.157058  |\n",
       "| 32619 | 13.846154 | 2.628007  | 0         | 0         | 0         | 0         | 1         | 0         | 0         | 0         | ...       | 0         | 10        |  1.00     |  1.000    |   1.0000  | 800       | 2         | 770       | 4         | 3.178102  |\n",
       "| 32620 | 14.769231 | 2.692546  | 0         | 0         | 0         | 0         | 1         | 0         | 0         | 0         | ...       | 0         |  9        |  0.81     |  0.729    |   0.6561  | 4700      | 16        | 4970      | 9         | 2.910376  |\n",
       "\n"
      ],
      "text/plain": [
       "      wage      lwage    sex shs hsg scl clg ad  mw  so  ... ne  exp1 exp2   \n",
       "84    12.019231 2.486508 1   0   0   1   0   0   0   0   ... 1    5.5  0.3025\n",
       "89    13.461538 2.599837 1   0   0   1   0   0   0   0   ... 1   20.5  4.2025\n",
       "119    8.653846 2.158004 0   0   0   1   0   0   0   0   ... 1    3.5  0.1225\n",
       "135   10.683761 2.368725 1   0   0   1   0   0   0   0   ... 1    6.5  0.4225\n",
       "144   11.538462 2.445686 1   0   0   1   0   0   0   0   ... 1    8.5  0.7225\n",
       "152   16.304348 2.791432 1   0   0   1   0   0   0   0   ... 1   24.5  6.0025\n",
       "160   12.000000 2.484907 0   0   0   1   0   0   0   0   ... 1    4.5  0.2025\n",
       "206   13.942308 2.634928 1   0   0   1   0   0   0   0   ... 1   15.5  2.4025\n",
       "213   10.096154 2.312155 1   0   0   1   0   0   0   0   ... 1    9.0  0.8100\n",
       "245   21.634615 3.074295 1   0   0   1   0   0   0   0   ... 1   17.5  3.0625\n",
       "264   12.019231 2.486508 1   0   0   1   0   0   0   0   ... 1    6.5  0.4225\n",
       "280    7.211538 1.975682 1   0   0   1   0   0   0   0   ... 1   17.5  3.0625\n",
       "286   12.937063 2.560096 0   0   0   1   0   0   0   0   ... 1   34.5 11.9025\n",
       "368    8.505917 2.140762 0   0   0   1   0   0   0   0   ... 1    4.5  0.2025\n",
       "402   20.329670 3.012081 1   0   0   1   0   0   0   0   ... 1   33.0 10.8900\n",
       "466   22.596154 3.117780 1   0   0   1   0   0   0   0   ... 1   34.0 11.5600\n",
       "475   18.750000 2.931194 1   0   0   1   0   0   0   0   ... 1    5.5  0.3025\n",
       "494   25.641026 3.244194 0   0   0   1   0   0   0   0   ... 1   26.5  7.0225\n",
       "546   11.160714 2.412400 0   0   0   1   0   0   0   0   ... 1    3.0  0.0900\n",
       "573   16.826923 2.822980 0   0   0   1   0   0   0   0   ... 1    4.0  0.1600\n",
       "574   14.423077 2.668829 0   0   0   1   0   0   0   0   ... 1    4.5  0.2025\n",
       "576   19.230769 2.956512 0   0   0   1   0   0   0   0   ... 1    4.5  0.2025\n",
       "652   19.230769 2.956512 0   0   0   1   0   0   0   0   ... 1    7.5  0.5625\n",
       "675   18.269231 2.905218 0   0   0   1   0   0   0   0   ... 1   16.5  2.7225\n",
       "687   24.038462 3.179655 1   0   0   1   0   0   0   0   ... 1   33.0 10.8900\n",
       "723    9.615385 2.263364 1   0   0   1   0   0   0   0   ... 1    3.5  0.1225\n",
       "743   15.384615 2.733368 1   0   0   1   0   0   0   0   ... 1   23.5  5.5225\n",
       "744   13.410577 2.596044 0   0   0   1   0   0   0   0   ... 1   29.5  8.7025\n",
       "765   15.384615 2.733368 1   0   0   1   0   0   0   0   ... 1    6.5  0.4225\n",
       "809   12.019231 2.486508 0   0   0   1   0   0   0   0   ... 1   35.5 12.6025\n",
       "...   ...       ...      ... ... ... ... ... ... ... ...     ... ...  ...    \n",
       "31952 52.884615 3.968112 0   0   0   0   1   0   0   0   ... 0   24    5.76  \n",
       "31969 34.188034 3.531876 0   0   0   0   1   0   0   0   ... 0    8    0.64  \n",
       "31975 29.807692 3.394766 0   0   0   0   1   0   0   0   ... 0    1    0.01  \n",
       "31998 16.608392 2.809908 0   0   0   0   1   0   0   0   ... 0    4    0.16  \n",
       "32015 14.057692 2.643170 1   0   0   0   1   0   0   0   ... 0    5    0.25  \n",
       "32037 13.736264 2.620039 0   0   0   0   1   0   0   0   ... 0   17    2.89  \n",
       "32085 38.461538 3.649659 0   0   0   0   1   0   0   0   ... 0    9    0.81  \n",
       "32095  8.263305 2.111825 0   0   0   0   1   0   0   0   ... 0    1    0.01  \n",
       "32161 14.807692 2.695147 0   0   0   0   1   0   0   0   ... 0    8    0.64  \n",
       "32213 50.000000 3.912023 0   0   0   0   1   0   0   0   ... 0   10    1.00  \n",
       "32220 36.057692 3.585120 0   0   0   0   1   0   0   0   ... 0   32   10.24  \n",
       "32228 48.076923 3.872802 0   0   0   0   1   0   0   0   ... 0   26    6.76  \n",
       "32256 20.673077 3.028832 1   0   0   0   1   0   0   0   ... 0    6    0.36  \n",
       "32314 30.145530 3.406037 1   0   0   0   1   0   0   0   ... 0   15    2.25  \n",
       "32362 25.480769 3.237924 0   0   0   0   1   0   0   0   ... 0   16    2.56  \n",
       "32419 29.914530 3.398344 1   0   0   0   1   0   0   0   ... 0   39   15.21  \n",
       "32458 11.298077 2.424633 1   0   0   0   1   0   0   0   ... 0   10    1.00  \n",
       "32493 16.826923 2.822980 1   0   0   0   1   0   0   0   ... 0    4    0.16  \n",
       "32497 10.576923 2.358675 0   0   0   0   1   0   0   0   ... 0    8    0.64  \n",
       "32498 25.000000 3.218876 0   0   0   0   1   0   0   0   ... 0   10    1.00  \n",
       "32504 18.750000 2.931194 1   0   0   0   1   0   0   0   ... 0    2    0.04  \n",
       "32540 28.846154 3.361977 0   0   0   0   1   0   0   0   ... 0    5    0.25  \n",
       "32561 38.461538 3.649659 0   0   0   0   1   0   0   0   ... 0    8    0.64  \n",
       "32567 48.076923 3.872802 1   0   0   0   1   0   0   0   ... 0   25    6.25  \n",
       "32581 26.442308 3.274965 1   0   0   0   1   0   0   0   ... 0   34   11.56  \n",
       "32593 21.153846 3.051822 0   0   0   0   1   0   0   0   ... 0   28    7.84  \n",
       "32596 45.546559 3.818735 1   0   0   0   1   0   0   0   ... 0    5    0.25  \n",
       "32606 24.038462 3.179655 1   0   0   0   1   0   0   0   ... 0   17    2.89  \n",
       "32619 13.846154 2.628007 0   0   0   0   1   0   0   0   ... 0   10    1.00  \n",
       "32620 14.769231 2.692546 0   0   0   0   1   0   0   0   ... 0    9    0.81  \n",
       "      exp3      exp4         occ   occ2 ind   ind2 y_predict\n",
       "84     0.166375   0.09150625 3600  11   8270  18   2.452625 \n",
       "89     8.615125  17.66100625 3645  11   8190  18   2.624982 \n",
       "119    0.042875   0.01500625 7410  20   570   3    2.889995 \n",
       "135    0.274625   0.17850625 4300  15   8590  19   2.352022 \n",
       "144    0.614125   0.52200625 3600  11   8190  18   2.547907 \n",
       "152   14.706125  36.03000625 20    1    5480  9    3.033747 \n",
       "160    0.091125   0.04100625 6330  19   770   4    2.887251 \n",
       "206    3.723875   5.77200625 5860  17   4670  9    2.559542 \n",
       "213    0.729000   0.65610000 3500  10   8090  18   2.937379 \n",
       "245    5.359375   9.37890625 5400  17   6695  11   2.813559 \n",
       "264    0.274625   0.17850625 4110  13   8680  20   2.473964 \n",
       "280    5.359375   9.37890625 4720  16   4980  9    2.849499 \n",
       "286   41.063625 141.66950625 9000  22   5670  9    2.666870 \n",
       "368    0.091125   0.04100625 4220  14   8590  19   2.533020 \n",
       "402   35.937000 118.59210000 7700  21   1280  5    3.105523 \n",
       "466   39.304000 133.63360000 3500  10   8090  18   3.266717 \n",
       "475    0.166375   0.09150625 3700  12   9470  22   2.872072 \n",
       "494   18.609625  49.31550625 4850  16   4270  7    3.345095 \n",
       "546    0.027000   0.00810000 7200  20   8770  21   2.773553 \n",
       "573    0.064000   0.02560000 7200  20   8770  21   2.835646 \n",
       "574    0.091125   0.04100625 6230  19   770   4    2.887251 \n",
       "576    0.091125   0.04100625 1e+05 20   6180  10   2.834756 \n",
       "652    0.421875   0.31640625 5610  17   2690  6    2.738604 \n",
       "675    4.492125   7.41200625 4220  14   8270  18   2.456142 \n",
       "687   35.937000 118.59210000 3255  10   7860  17   3.514886 \n",
       "723    0.042875   0.01500625 3420  10   5070  9    2.732614 \n",
       "743   12.977875  30.49800625 5240  17   7180  13   2.749175 \n",
       "744   25.672375  75.73350625 4760  16   1e+05 9    3.021605 \n",
       "765    0.274625   0.17850625 5700  17   9570  22   2.741893 \n",
       "809   44.738875 158.82300625 9130  22   6170  10   2.926848 \n",
       "...   ...       ...          ...   ...  ...   ...  ...      \n",
       "31952 13.824     33.1776     1020  3    2190  5    3.315481 \n",
       "31969  0.512      0.4096     2630  9    7460  14   3.286614 \n",
       "31975  0.001      0.0001     1460  4    7290  14   3.381525 \n",
       "31998  0.064      0.0256     1e+05 15   8090  18   2.773527 \n",
       "32015  0.125      0.0625     4110  13   8680  20   2.732996 \n",
       "32037  4.913      8.3521     4760  16   4870  9    3.169286 \n",
       "32085  0.729      0.6561     640   2    2370  5    3.181267 \n",
       "32095  0.001      0.0001     2720  9    7870  17   2.703274 \n",
       "32161  0.512      0.4096     6230  19   770   4    3.047298 \n",
       "32213  1.000      1.0000     1060  3    9570  22   3.489064 \n",
       "32220 32.768    104.8576     1010  3    7380  14   3.617862 \n",
       "32228 17.576     45.6976     3255  10   8090  18   3.603811 \n",
       "32256  0.216      0.1296     5000  17   6870  12   3.141848 \n",
       "32314  3.375      5.0625     120   1    6870  12   3.645229 \n",
       "32362  4.096      6.5536     7420  20   770   4    3.252630 \n",
       "32419 59.319    231.3441     4700  16   5380  9    2.909306 \n",
       "32458  1.000      1.0000     2060  6    9160  21   2.964502 \n",
       "32493  0.064      0.0256     3648  11   7480  14   2.807723 \n",
       "32497  0.512      0.4096     1550  4    9490  22   3.471887 \n",
       "32498  1.000      1.0000     1310  4    770   4    3.283637 \n",
       "32504  0.008      0.0016     2000  6    8370  18   2.785498 \n",
       "32540  0.125      0.0625     1360  4    770   4    3.345893 \n",
       "32561  0.512      0.4096     710   2    6870  12   3.524915 \n",
       "32567 15.625     39.0625     3255  10   8170  18   3.548290 \n",
       "32581 39.304    133.6336     2310  8    7860  17   3.200210 \n",
       "32593 21.952     61.4656     40    1    9170  21   3.363103 \n",
       "32596  0.125      0.0625     3255  10   8190  18   3.143699 \n",
       "32606  4.913      8.3521     2550  8    9480  22   3.157058 \n",
       "32619  1.000      1.0000     800   2    770   4    3.178102 \n",
       "32620  0.729      0.6561     4700  16   4970  9    2.910376 "
      ]
     },
     "metadata": {},
     "output_type": "display_data"
    }
   ],
   "source": [
    "sample1=cbind(sample,y_predict)\n",
    "sample1"
   ]
  },
  {
   "cell_type": "code",
   "execution_count": 18,
   "id": "cf129012",
   "metadata": {
    "scrolled": false
   },
   "outputs": [
    {
     "name": "stdout",
     "output_type": "stream",
     "text": [
      "The estimated gender coefficient is -0.05306234  and the corresponding robust standard error is 0.01835285"
     ]
    }
   ],
   "source": [
    "# Matrix of variances and covariances\n",
    "control_HCV_coefs <- vcovHC(control_reg_fit, type = 'HC');\n",
    "\n",
    "# Estimated standar error\n",
    "control_reg_se <- sqrt(diag(control_HCV_coefs))[2] \n",
    "\n",
    "#Print the gender effect and the corresponding standar error\n",
    "cat (\"The estimated gender coefficient is\",control_reg_est,\" and the corresponding robust standard error is\",control_reg_se)"
   ]
  },
  {
   "cell_type": "markdown",
   "id": "0d50bd90",
   "metadata": {},
   "source": [
    "## Partialling-Out using OLS"
   ]
  },
  {
   "cell_type": "code",
   "execution_count": 19,
   "id": "8800b2f5",
   "metadata": {},
   "outputs": [],
   "source": [
    "#(Regression Model of Y on W)\n",
    "model_y <- lwage ~ (exp1+exp2+exp3+exp4)*(clg+occ2+ind2+mw+so+we)\n",
    "\n",
    "#(Regression Model of D on W))\n",
    "model_d <- sex ~ (exp1+exp2+exp3+exp4)*(clg+occ2+ind2+mw+so+we)"
   ]
  },
  {
   "cell_type": "code",
   "execution_count": 20,
   "id": "479b6993",
   "metadata": {},
   "outputs": [],
   "source": [
    "#Partialling-Out the linear effect of W from Y \n",
    "resid_y <- lm(model_y, data=sample)$res\n",
    "\n",
    "#Partialling-Out the linear effect of W from D \n",
    "resid_d <- lm(model_d, data=sample)$res"
   ]
  },
  {
   "cell_type": "code",
   "execution_count": 21,
   "id": "dd8827d6",
   "metadata": {},
   "outputs": [
    {
     "data": {
      "text/plain": [
       "\n",
       "Call:\n",
       "lm(formula = resid_y ~ resid_d)\n",
       "\n",
       "Residuals:\n",
       "     Min       1Q   Median       3Q      Max \n",
       "-1.87897 -0.27894 -0.00777  0.25823  2.85755 \n",
       "\n",
       "Coefficients:\n",
       "              Estimate Std. Error t value Pr(>|t|)   \n",
       "(Intercept)  1.075e-17  8.051e-03    0.00   1.0000   \n",
       "resid_d     -5.306e-02  1.862e-02   -2.85   0.0044 **\n",
       "---\n",
       "Signif. codes:  0 '***' 0.001 '**' 0.01 '*' 0.05 '.' 0.1 ' ' 1\n",
       "\n",
       "Residual standard error: 0.4459 on 3066 degrees of freedom\n",
       "Multiple R-squared:  0.002642,\tAdjusted R-squared:  0.002317 \n",
       "F-statistic: 8.121 on 1 and 3066 DF,  p-value: 0.004404\n"
      ]
     },
     "metadata": {},
     "output_type": "display_data"
    }
   ],
   "source": [
    "#Regression of Y on D after partialling out the effect of W\n",
    "partial_fit <- lm(resid_y ~ resid_d)\n",
    "summary(partial_fit)\n",
    "partial_est <- summary(partial_fit)$coef[2,1]"
   ]
  },
  {
   "cell_type": "code",
   "execution_count": 22,
   "id": "c70f64c7",
   "metadata": {},
   "outputs": [
    {
     "data": {
      "text/html": [
       "<table>\n",
       "<thead><tr><th></th><th scope=col>(Intercept)</th><th scope=col>resid_d</th></tr></thead>\n",
       "<tbody>\n",
       "\t<tr><th scope=row>(Intercept)</th><td> 6.477374e-05</td><td>-4.057652e-06</td></tr>\n",
       "\t<tr><th scope=row>resid_d</th><td>-4.057652e-06</td><td> 3.368271e-04</td></tr>\n",
       "</tbody>\n",
       "</table>\n"
      ],
      "text/latex": [
       "\\begin{tabular}{r|ll}\n",
       "  & (Intercept) & resid\\_d\\\\\n",
       "\\hline\n",
       "\t(Intercept) &  6.477374e-05 & -4.057652e-06\\\\\n",
       "\tresid\\_d & -4.057652e-06 &  3.368271e-04\\\\\n",
       "\\end{tabular}\n"
      ],
      "text/markdown": [
       "\n",
       "| <!--/--> | (Intercept) | resid_d |\n",
       "|---|---|---|\n",
       "| (Intercept) |  6.477374e-05 | -4.057652e-06 |\n",
       "| resid_d | -4.057652e-06 |  3.368271e-04 |\n",
       "\n"
      ],
      "text/plain": [
       "            (Intercept)   resid_d      \n",
       "(Intercept)  6.477374e-05 -4.057652e-06\n",
       "resid_d     -4.057652e-06  3.368271e-04"
      ]
     },
     "metadata": {},
     "output_type": "display_data"
    },
    {
     "data": {
      "text/html": [
       "<dl class=dl-horizontal>\n",
       "\t<dt>2.5 %</dt>\n",
       "\t\t<dd>-0.0895706989969319</dd>\n",
       "\t<dt>97.5 %</dt>\n",
       "\t\t<dd>-0.0165539817185783</dd>\n",
       "</dl>\n"
      ],
      "text/latex": [
       "\\begin{description*}\n",
       "\\item[2.5 \\textbackslash{}\\%] -0.0895706989969319\n",
       "\\item[97.5 \\textbackslash{}\\%] -0.0165539817185783\n",
       "\\end{description*}\n"
      ],
      "text/markdown": [
       "2.5 %\n",
       ":   -0.089570698996931997.5 %\n",
       ":   -0.0165539817185783\n",
       "\n"
      ],
      "text/plain": [
       "      2.5 %      97.5 % \n",
       "-0.08957070 -0.01655398 "
      ]
     },
     "metadata": {},
     "output_type": "display_data"
    },
    {
     "name": "stdout",
     "output_type": "stream",
     "text": [
      "The estimated gender coefficient via partialling out is -0.05306234  and the corresponding robust standard error is 0.01835285"
     ]
    }
   ],
   "source": [
    "# Matrix of variances and covariances\n",
    "partial_HCV_coefs <- vcovHC(partial_fit, type = 'HC');\n",
    "partial_HCV_coefs\n",
    "\n",
    "# Estimated standar error\n",
    "partial_se <- sqrt(diag(partial_HCV_coefs))[2]\n",
    "\n",
    "#Confidence Interval\n",
    "confint(partial_fit)[2,]\n",
    "\n",
    "#Print the gender effect via partialling-out and the corresponding standar error\n",
    "cat (\"The estimated gender coefficient via partialling out is\",partial_est,\" and the corresponding robust standard error is\",partial_se)"
   ]
  },
  {
   "cell_type": "code",
   "execution_count": 25,
   "id": "492bb049",
   "metadata": {},
   "outputs": [
    {
     "data": {
      "text/html": [
       "<ol class=list-inline>\n",
       "\t<li>1432</li>\n",
       "\t<li>21</li>\n",
       "</ol>\n"
      ],
      "text/latex": [
       "\\begin{enumerate*}\n",
       "\\item 1432\n",
       "\\item 21\n",
       "\\end{enumerate*}\n"
      ],
      "text/markdown": [
       "1. 1432\n",
       "2. 21\n",
       "\n",
       "\n"
      ],
      "text/plain": [
       "[1] 1432   21"
      ]
     },
     "metadata": {},
     "output_type": "display_data"
    }
   ],
   "source": [
    "data_1_scl=filter(sample1,scl==1)\n",
    "dim(data_1_scl)"
   ]
  },
  {
   "cell_type": "code",
   "execution_count": 26,
   "id": "8f7e2e4a",
   "metadata": {},
   "outputs": [
    {
     "data": {
      "text/html": [
       "<ol class=list-inline>\n",
       "\t<li>1636</li>\n",
       "\t<li>21</li>\n",
       "</ol>\n"
      ],
      "text/latex": [
       "\\begin{enumerate*}\n",
       "\\item 1636\n",
       "\\item 21\n",
       "\\end{enumerate*}\n"
      ],
      "text/markdown": [
       "1. 1636\n",
       "2. 21\n",
       "\n",
       "\n"
      ],
      "text/plain": [
       "[1] 1636   21"
      ]
     },
     "metadata": {},
     "output_type": "display_data"
    }
   ],
   "source": [
    "data_1_clg=filter(sample1,clg==1)\n",
    "dim(data_1_clg)"
   ]
  },
  {
   "cell_type": "code",
   "execution_count": 27,
   "id": "a378b547",
   "metadata": {},
   "outputs": [
    {
     "name": "stderr",
     "output_type": "stream",
     "text": [
      "`geom_smooth()` using method = 'gam' and formula 'y ~ s(x, bs = \"cs\")'\n",
      "`geom_smooth()` using method = 'gam' and formula 'y ~ s(x, bs = \"cs\")'\n",
      "`geom_smooth()` using method = 'gam' and formula 'y ~ s(x, bs = \"cs\")'\n",
      "`geom_smooth()` using method = 'gam' and formula 'y ~ s(x, bs = \"cs\")'\n"
     ]
    },
    {
     "data": {
      "image/png": "[encoded data removed]",
      "text/plain": [
       "plot without title"
      ]
     },
     "metadata": {},
     "output_type": "display_data"
    }
   ],
   "source": [
    "ggplot(data = data_1_scl, aes(x = exp1),xlim=c(1,5),axis(1, at = 1:15)) + \n",
    "    geom_smooth(aes(y = lwage, colour = \"actual_Scl\"), \n",
    "               fill=\"blue\",size=.7,se=F) + \n",
    "    geom_smooth(aes(y = y_predict, colour = \"y_predict_Scl\"), \n",
    "               fill=\"red\",size=1,se=F,linetype = \"dashed\") + \n",
    "    geom_smooth(data=data_1_clg,aes(y = lwage, colour = \"actual_College\"), \n",
    "               fill=\"blue\",size=1,se=F) + \n",
    "    geom_smooth(data=data_1_clg,aes(y = y_predict, colour = \"y_predict_Clg\"), \n",
    "               fill=\"black\",size=1,se=F,linetype = \"dashed\")+scale_color_manual(name=\"legend\",values = c(scales::hue_pal()(3), \"black\"))"
   ]
  },
  {
   "cell_type": "code",
   "execution_count": 28,
   "id": "a494835b",
   "metadata": {},
   "outputs": [
    {
     "name": "stderr",
     "output_type": "stream",
     "text": [
      "`geom_smooth()` using method = 'gam' and formula 'y ~ s(x, bs = \"cs\")'\n",
      "`geom_smooth()` using method = 'gam' and formula 'y ~ s(x, bs = \"cs\")'\n",
      "`geom_smooth()` using method = 'gam' and formula 'y ~ s(x, bs = \"cs\")'\n",
      "`geom_smooth()` using method = 'gam' and formula 'y ~ s(x, bs = \"cs\")'\n"
     ]
    },
    {
     "data": {
      "image/png": "[encoded data removed]",
      "text/plain": [
       "plot without title"
      ]
     },
     "metadata": {},
     "output_type": "display_data"
    }
   ],
   "source": [
    "#limitando  x, y\n",
    "ggplot(data = data_1_scl, aes(x = exp1)) + \n",
    "    geom_smooth(aes(y = lwage, colour = \"actual_Scl\"), \n",
    "               fill=\"blue\",size=.7,se=F) + \n",
    "    geom_smooth(aes(y = y_predict, colour = \"y_predict_Scl\"), \n",
    "               fill=\"red\",size=1,se=F,linetype = \"dashed\") + \n",
    "    geom_smooth(data=data_1_clg,aes(y = lwage, colour = \"actual_College\"), \n",
    "               fill=\"blue\",size=1,se=F) + \n",
    "    geom_smooth(data=data_1_clg,aes(y = y_predict, colour = \"y_predict_Clg\"), \n",
    "               fill=\"black\",size=1,se=F,linetype = \"dashed\")+lims( y = c(0, 8))+scale_color_manual(name=\"legend\",values = c(scales::hue_pal()(3), \"black\"))"
   ]
  },
  {
   "cell_type": "code",
   "execution_count": 30,
   "id": "cd7524f4",
   "metadata": {},
   "outputs": [
    {
     "name": "stderr",
     "output_type": "stream",
     "text": [
      "`geom_smooth()` using method = 'gam' and formula 'y ~ s(x, bs = \"cs\")'\n",
      "`geom_smooth()` using method = 'gam' and formula 'y ~ s(x, bs = \"cs\")'\n",
      "`geom_smooth()` using method = 'gam' and formula 'y ~ s(x, bs = \"cs\")'\n",
      "`geom_smooth()` using method = 'gam' and formula 'y ~ s(x, bs = \"cs\")'\n"
     ]
    },
    {
     "data": {
      "image/png": "[encoded data removed]",
      "text/plain": [
       "plot without title"
      ]
     },
     "metadata": {},
     "output_type": "display_data"
    }
   ],
   "source": [
    "ggplot(data = data_1_scl, aes(x = exp2),xlim=c(1,5),axis(1, at = 1:15)) + \n",
    "    geom_smooth(aes(y = lwage, colour = \"actual_Scl\"), \n",
    "               fill=\"blue\",size=.7,se=F) + \n",
    "    geom_smooth(aes(y = y_predict, colour = \"y_predict_Scl\"), \n",
    "               fill=\"red\",size=1,se=F,linetype = \"dashed\") + \n",
    "    geom_smooth(data=data_1_clg,aes(y = lwage, colour = \"actual_College\"), \n",
    "               fill=\"blue\",size=1,se=F) + \n",
    "    geom_smooth(data=data_1_clg,aes(y = y_predict, colour = \"y_predict_Clg\"), \n",
    "               fill=\"black\",size=1,se=F,linetype = \"dashed\")+scale_color_manual(name=\"legend\",values = c(scales::hue_pal()(3), \"black\"))"
   ]
  },
  {
   "cell_type": "code",
   "execution_count": 31,
   "id": "2a01aab8",
   "metadata": {},
   "outputs": [
    {
     "name": "stderr",
     "output_type": "stream",
     "text": [
      "`geom_smooth()` using method = 'gam' and formula 'y ~ s(x, bs = \"cs\")'\n",
      "`geom_smooth()` using method = 'gam' and formula 'y ~ s(x, bs = \"cs\")'\n",
      "`geom_smooth()` using method = 'gam' and formula 'y ~ s(x, bs = \"cs\")'\n",
      "`geom_smooth()` using method = 'gam' and formula 'y ~ s(x, bs = \"cs\")'\n"
     ]
    },
    {
     "data": {
      "image/png": "[encoded data removed]",
      "text/plain": [
       "plot without title"
      ]
     },
     "metadata": {},
     "output_type": "display_data"
    }
   ],
   "source": [
    "#limitando  x, y\n",
    "ggplot(data = data_1_scl, aes(x = exp2)) + \n",
    "    geom_smooth(aes(y = lwage, colour = \"actual_Scl\"), \n",
    "               fill=\"blue\",size=.7,se=F) + \n",
    "    geom_smooth(aes(y = y_predict, colour = \"y_predict_Scl\"), \n",
    "               fill=\"red\",size=1,se=F,linetype = \"dashed\") + \n",
    "    geom_smooth(data=data_1_clg,aes(y = lwage, colour = \"actual_College\"), \n",
    "               fill=\"blue\",size=1,se=F) + \n",
    "    geom_smooth(data=data_1_clg,aes(y = y_predict, colour = \"y_predict_Clg\"), \n",
    "               fill=\"black\",size=1,se=F,linetype = \"dashed\")+lims( y = c(0, 8))+scale_color_manual(name=\"legend\",values = c(scales::hue_pal()(3), \"black\"))"
   ]
  },
  {
   "cell_type": "code",
   "execution_count": 32,
   "id": "aa17d80c",
   "metadata": {},
   "outputs": [
    {
     "name": "stderr",
     "output_type": "stream",
     "text": [
      "`geom_smooth()` using method = 'gam' and formula 'y ~ s(x, bs = \"cs\")'\n",
      "`geom_smooth()` using method = 'gam' and formula 'y ~ s(x, bs = \"cs\")'\n",
      "`geom_smooth()` using method = 'gam' and formula 'y ~ s(x, bs = \"cs\")'\n",
      "`geom_smooth()` using method = 'gam' and formula 'y ~ s(x, bs = \"cs\")'\n"
     ]
    },
    {
     "data": {
      "image/png": "[encoded data removed]",
      "text/plain": [
       "plot without title"
      ]
     },
     "metadata": {},
     "output_type": "display_data"
    }
   ],
   "source": [
    "ggplot(data = data_1_scl, aes(x = exp3),xlim=c(1,5),axis(1, at = 1:15)) + \n",
    "    geom_smooth(aes(y = lwage, colour = \"actual_Scl\"), \n",
    "               fill=\"blue\",size=.7,se=F) + \n",
    "    geom_smooth(aes(y = y_predict, colour = \"y_predict_Scl\"), \n",
    "               fill=\"red\",size=1,se=F,linetype = \"dashed\") + \n",
    "    geom_smooth(data=data_1_clg,aes(y = lwage, colour = \"actual_College\"), \n",
    "               fill=\"blue\",size=1,se=F) + \n",
    "    geom_smooth(data=data_1_clg,aes(y = y_predict, colour = \"y_predict_Clg\"), \n",
    "               fill=\"black\",size=1,se=F,linetype = \"dashed\")+scale_color_manual(name=\"legend\",values = c(scales::hue_pal()(3), \"black\"))"
   ]
  },
  {
   "cell_type": "code",
   "execution_count": 33,
   "id": "85967041",
   "metadata": {},
   "outputs": [
    {
     "name": "stderr",
     "output_type": "stream",
     "text": [
      "`geom_smooth()` using method = 'gam' and formula 'y ~ s(x, bs = \"cs\")'\n",
      "`geom_smooth()` using method = 'gam' and formula 'y ~ s(x, bs = \"cs\")'\n",
      "`geom_smooth()` using method = 'gam' and formula 'y ~ s(x, bs = \"cs\")'\n",
      "`geom_smooth()` using method = 'gam' and formula 'y ~ s(x, bs = \"cs\")'\n"
     ]
    },
    {
     "data": {
      "image/png": "[encoded data removed]",
      "text/plain": [
       "plot without title"
      ]
     },
     "metadata": {},
     "output_type": "display_data"
    }
   ],
   "source": [
    "#limitando  x, y\n",
    "ggplot(data = data_1_scl, aes(x = exp3)) + \n",
    "    geom_smooth(aes(y = lwage, colour = \"actual_Scl\"), \n",
    "               fill=\"blue\",size=.7,se=F) + \n",
    "    geom_smooth(aes(y = y_predict, colour = \"y_predict_Scl\"), \n",
    "               fill=\"red\",size=1,se=F,linetype = \"dashed\") + \n",
    "    geom_smooth(data=data_1_clg,aes(y = lwage, colour = \"actual_College\"), \n",
    "               fill=\"blue\",size=1,se=F) + \n",
    "    geom_smooth(data=data_1_clg,aes(y = y_predict, colour = \"y_predict_Clg\"), \n",
    "               fill=\"black\",size=1,se=F,linetype = \"dashed\")+lims( y = c(0, 8))+scale_color_manual(name=\"legend\",values = c(scales::hue_pal()(3), \"black\"))"
   ]
  },
  {
   "cell_type": "code",
   "execution_count": 34,
   "id": "adfb6f33",
   "metadata": {},
   "outputs": [
    {
     "name": "stderr",
     "output_type": "stream",
     "text": [
      "`geom_smooth()` using method = 'gam' and formula 'y ~ s(x, bs = \"cs\")'\n",
      "`geom_smooth()` using method = 'gam' and formula 'y ~ s(x, bs = \"cs\")'\n",
      "`geom_smooth()` using method = 'gam' and formula 'y ~ s(x, bs = \"cs\")'\n",
      "`geom_smooth()` using method = 'gam' and formula 'y ~ s(x, bs = \"cs\")'\n"
     ]
    },
    {
     "data": {
      "image/png": "[encoded data removed]",
      "text/plain": [
       "plot without title"
      ]
     },
     "metadata": {},
     "output_type": "display_data"
    }
   ],
   "source": [
    "ggplot(data = data_1_scl, aes(x = exp4),xlim=c(1,5),axis(1, at = 1:15)) + \n",
    "    geom_smooth(aes(y = lwage, colour = \"actual_Scl\"), \n",
    "               fill=\"blue\",size=.7,se=F) + \n",
    "    geom_smooth(aes(y = y_predict, colour = \"y_predict_Scl\"), \n",
    "               fill=\"red\",size=1,se=F,linetype = \"dashed\") + \n",
    "    geom_smooth(data=data_1_clg,aes(y = lwage, colour = \"actual_College\"), \n",
    "               fill=\"blue\",size=1,se=F) + \n",
    "    geom_smooth(data=data_1_clg,aes(y = y_predict, colour = \"y_predict_Clg\"), \n",
    "               fill=\"black\",size=1,se=F,linetype = \"dashed\")+scale_color_manual(name=\"legend\",values = c(scales::hue_pal()(3), \"black\"))"
   ]
  },
  {
   "cell_type": "code",
   "execution_count": 35,
   "id": "3451f877",
   "metadata": {},
   "outputs": [
    {
     "name": "stderr",
     "output_type": "stream",
     "text": [
      "`geom_smooth()` using method = 'gam' and formula 'y ~ s(x, bs = \"cs\")'\n",
      "`geom_smooth()` using method = 'gam' and formula 'y ~ s(x, bs = \"cs\")'\n",
      "`geom_smooth()` using method = 'gam' and formula 'y ~ s(x, bs = \"cs\")'\n",
      "`geom_smooth()` using method = 'gam' and formula 'y ~ s(x, bs = \"cs\")'\n"
     ]
    },
    {
     "data": {
      "image/png": "[encoded data removed]",
      "text/plain": [
       "plot without title"
      ]
     },
     "metadata": {},
     "output_type": "display_data"
    }
   ],
   "source": [
    "#limitando  x, y\n",
    "ggplot(data = data_1_scl, aes(x = exp4)) + \n",
    "    geom_smooth(aes(y = lwage, colour = \"actual_Scl\"), \n",
    "               fill=\"blue\",size=.7,se=F) + \n",
    "    geom_smooth(aes(y = y_predict, colour = \"y_predict_Scl\"), \n",
    "               fill=\"red\",size=1,se=F,linetype = \"dashed\") + \n",
    "    geom_smooth(data=data_1_clg,aes(y = lwage, colour = \"actual_College\"), \n",
    "               fill=\"blue\",size=1,se=F) + \n",
    "    geom_smooth(data=data_1_clg,aes(y = y_predict, colour = \"y_predict_Clg\"), \n",
    "               fill=\"black\",size=1,se=F,linetype = \"dashed\")+lims( y = c(0, 8))+scale_color_manual(name=\"legend\",values = c(scales::hue_pal()(3), \"black\"))"
   ]
  },
  {
   "cell_type": "markdown",
   "id": "e3206a13",
   "metadata": {},
   "source": [
    "## **The proof of the Frisch-Waugh-Lovell Theorem**\n",
    "\n",
    "We have the following matrix model : $ Y = X\\beta +\\epsilon\\ \\hspace{1cm} ... (1)$\n",
    "\n",
    "If the matrix $ X=\\begin{pmatrix}D & W\\end{pmatrix}$ y la matriz  $\\beta=\\begin{pmatrix}\\beta_1 \\\\ \\beta_2\\end{pmatrix}$\n",
    "\n",
    "Then the model becomes in : $ Y =D \\beta_1+W \\beta_2+\\epsilon\\ \\hspace{1cm}...(2)$\n",
    "\n",
    "#### **Preliminary Notions**\n",
    "\n",
    "$(a)\\hspace{1cm} \\gamma_{vw} = \\ arg \\ min_{b\\in\\mathbb{R}^p}\\ E(V-W b)^{2}\\ \\rightarrow \\gamma_{vw} = E(W^\\prime\\ W)^{-1} E(W^\\prime V)$\n",
    "\n",
    "$(b)\\hspace{1cm}  \\widetilde V = V - W\\gamma_{vw}$\n",
    "\n",
    "$\\hspace{1cm}$ Replacing $\\gamma_{vw}$ en $(b)$\n",
    "\n",
    " $\\hspace{1cm} \\widetilde V = V - E(W^\\prime W)^{-1} E(W^\\prime V) \\rightarrow \\widetilde V = (I- E(W^\\prime W)^{-1} E(W^\\prime))V$\n",
    "\n",
    "$(c)\\hspace{1cm}$ If $\\ M_{w} = (I- E[W]E[W^\\prime W]^{-1}E[W^\\prime]) \\rightarrow \\widetilde V =M_{w}V)$\n",
    "\n",
    "\n",
    "$(d)\\hspace{1cm} Y=V+U \\rightarrow \\widetilde Y= \\widetilde V + \\widetilde U $ \n",
    "\n",
    "#### **Obtaining the estimated coefficient $\\beta_1$ via Partialling-Out**\n",
    "\n",
    "Using $(d)$ in $(2)$, we obtain :  $\\widetilde Y= \\widetilde D \\beta_1+ \\widetilde W\\beta_2 +\\widetilde\\epsilon\\ $\n",
    "\n",
    "Regress Y on W , obtain residuals :  $\\widetilde Y = Y - W\\gamma_{yw}$\n",
    "\n",
    "Regress D on W , obtain residuals : $\\widetilde D = D - W\\gamma_{dw}$\n",
    "\n",
    "Regress W on W , obtain residuals : $\\widetilde W = W - W\\gamma_{ww}$\n",
    "\n",
    "* We know that $\\gamma_{ww} = 1 \\rightarrow \\widetilde W =0$\n",
    "\n",
    "Regress $\\epsilon$ on W , obtain residuals :  $\\widetilde\\epsilon = \\epsilon - W\\gamma_{\\epsilon w}$\n",
    "\n",
    "* $\\gamma_{\\epsilon w} = E(W^\\prime\\ W)^{-1} E(W^\\prime\\epsilon)$\n",
    "\n",
    "* Because the regressors and residuals are orthogonal, then we have $ E(W^\\prime\\epsilon)=0 \\rightarrow \\gamma_{\\epsilon w} =0 \\rightarrow \\widetilde\\epsilon = \\epsilon  $\n",
    "\n",
    "Therefore, the residuals of the regression of Y on W and D on W are as follows: \n",
    "\n",
    "* $\\widetilde Y= \\widetilde D \\beta_1 +\\epsilon\\ $\n",
    "\n",
    "* $\\widetilde D = D - W \\gamma_{dw}$\n",
    "\n",
    "Then, the last step is to regress $\\widetilde Y$ on $\\widetilde D$, obtaining the coefficient : $\\gamma_{yd} = E(\\widetilde D^\\prime\\widetilde D)^{-1} E(\\widetilde D^\\prime\\widetilde Y)$\n",
    "\n",
    "Using $(c)$, we have :  $\\widetilde Y = M_{w}Y$  and  $\\widetilde D = M_{w}D$ \n",
    "\n",
    "So $\\gamma_{yd} = E(D^\\prime M_{w}^\\prime M_{w}D)^{-1} E(D^\\prime M_{w}^\\prime M_{w}Y)$\n",
    "\n",
    "By property of the matrix M, we Know that $ M_{w}^\\prime M_{w}= M_{w}$\n",
    "\n",
    " $\\gamma_{yd} = E(D^\\prime M_{w}^\\prime M_{w}D)^{-1} E(D^\\prime M_{w}^\\prime M_{w}Y) = E(D^\\prime M_{w}D)^{-1} E(D^\\prime M_{w}Y)$\n",
    "\n",
    "\n",
    "#### **Obtaining the estimated coefficient $\\beta_1$ via OLS**\n",
    "\n",
    "Using $(1)$ model:  $ Y = X\\beta +\\epsilon$\n",
    "\n",
    "Using $(a)$ : $\\hat{\\beta}=E(X^\\prime X)^{-1} E(X^\\prime Y)\\hspace{1cm}...(3)$\n",
    "\n",
    "Replace $X$ as a partitioned matrix: $X=\\begin{pmatrix}D & W\\end{pmatrix}$  en  $(3)$ and solve:\n",
    "\n",
    "<div style=\"text-align: center\"> \n",
    "\n",
    "$ \\begin{pmatrix}\\hat{\\beta_1} \\\\ \\hat{\\beta_2}\\end{pmatrix} = E[\\begin{pmatrix} D^\\prime \\\\ W^\\prime \\end{pmatrix} \\begin{pmatrix}D & W \\end{pmatrix}]^{-1} E[\\begin{pmatrix} D^\\prime \\\\ W^\\prime \\end{pmatrix}  Y]$\n",
    "\n",
    "$  \\begin{pmatrix}\\hat{\\beta_1} \\\\ \\hat{\\beta_2}\\end{pmatrix} = E[\\begin{pmatrix}D^\\prime D & D^\\prime W \\\\ W^\\prime D & W^\\prime W \\end{pmatrix}]^{-1} E[\\begin{pmatrix} D^\\prime Y \\\\ W^\\prime Y \\end{pmatrix}]$\n",
    "\n",
    "\n",
    "$ E[\\begin{pmatrix}D^\\prime D & D^\\prime W \\\\ W^\\prime D & W^\\prime W \\end{pmatrix}] \\begin{pmatrix}\\hat{\\beta_1} \\\\ \\hat{\\beta_2}\\end{pmatrix}=  E[\\begin{pmatrix} D^\\prime Y \\\\ W^\\prime Y \\end{pmatrix}]$\n",
    "\n",
    "$\\begin{pmatrix}E [D^\\prime D] & E[D^\\prime W] \\\\ E[W^\\prime D] & E[W^\\prime W] \\end{pmatrix} \\ \\begin{pmatrix}\\hat{\\beta_1} \\\\ \\hat{\\beta_2}\\end{pmatrix} =  \\begin{pmatrix} E[D^\\prime Y] \\\\  E[W^\\prime Y] \\end{pmatrix}]$\n",
    "\n",
    "$\\begin{pmatrix}E [D^\\prime D]\\hat{\\beta_1} & E[D^\\prime W]\\hat{\\beta_2} \\\\ E[W^\\prime D]\\hat{\\beta_1} & E[W^\\prime W]\\hat{\\beta_2} \\end{pmatrix} =  \\begin{pmatrix} E[D^\\prime Y] \\\\  E[W^\\prime Y] \\end{pmatrix}]$\n",
    "</div>\n",
    "\n",
    "We obtain the following equations:\n",
    "\n",
    "* $E [D^\\prime D]\\hat{\\beta_1} + E[D^\\prime W]\\hat{\\beta_2}= E[D^\\prime Y]$\n",
    "\n",
    "* $E[W^\\prime D]\\hat{\\beta_1} + E[W^\\prime W]\\hat{\\beta_2}= E[W^\\prime Y]$\n",
    "\n",
    "We isolate $\\hat{\\beta_2}$ from the second equation:\n",
    "\n",
    "$\\hat{\\beta_2} = E[W^\\prime W]^{-1}(E[W^\\prime Y - E[W^\\prime D]\\hat{\\beta_1})$\n",
    "\n",
    "We replace $\\hat{\\beta_2}$ in the first equation to obtain $\\hat{\\beta_1}$ \n",
    "\n",
    "$E [D^\\prime D]\\hat{\\beta_1} + E[D^\\prime W]E[W^\\prime W]^{-1}(E[W^\\prime Y - E[W^\\prime D]\\hat{\\beta_1})= E[D^\\prime Y]$\n",
    "\n",
    "\n",
    "$(E [D^\\prime D]- E[D^\\prime W]E[W^\\prime W]^{-1}E[W^\\prime D])\\hat{\\beta_1}= E[D^\\prime Y] -  E[D^\\prime W]E[W^\\prime W]^{-1}E[W^\\prime Y]$\n",
    "\n",
    "$E [D^\\prime] (I- E[W]E[W^\\prime W]^{-1}E[W^\\prime])D\\hat{\\beta_1}= E [D^\\prime] (I- E[W]E[W^\\prime W]^{-1}E[W^\\prime])Y$\n",
    "\n",
    "We use $(c)$ : $M_{w} = (I- E[W]E[W^\\prime W]^{-1}E[W^\\prime]) $ and replace $M_{w}$ in the equation, we obtain:\n",
    "\n",
    " $E [D^\\prime] M_{w}D\\hat{\\beta_1}= E [D^\\prime] M_{w}Y$\n",
    "\n",
    "We isolate $\\hat{\\beta_1}$\n",
    "\n",
    "$\\hat{\\beta_1}= (E[D^\\prime] M_{w}D)^{-1} E [D^\\prime] M_{dw}Y$\n",
    "\n",
    "$\\hat{\\beta_1}= E[D^\\prime M_{w}D]^{-1} E [D^\\prime M_{dw}Y]$\n",
    "\n",
    " Finally, we see : $\\gamma_{yd}=\\hat{\\beta_1}$"
   ]
  }
 ],
 "metadata": {
  "kernelspec": {
   "display_name": "R",
   "language": "R",
   "name": "ir"
  },
  "language_info": {
   "codemirror_mode": "r",
   "file_extension": ".r",
   "mimetype": "text/x-r-source",
   "name": "R",
   "pygments_lexer": "r",
   "version": "3.6.1"
  }
 },
 "nbformat": 4,
 "nbformat_minor": 5
}
