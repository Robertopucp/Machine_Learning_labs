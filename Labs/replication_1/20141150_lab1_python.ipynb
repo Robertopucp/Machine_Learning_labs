{
 "cells": [
  {
   "cell_type": "markdown",
   "metadata": {},
   "source": [
    "# Project1 - Python\n",
    "Name: Claudia Vivas"
   ]
  },
  {
   "cell_type": "markdown",
   "metadata": {
    "papermill": {
     "duration": 0.018579,
     "end_time": "2021-02-21T17:17:47.809138",
     "exception": false,
     "start_time": "2021-02-21T17:17:47.790559",
     "status": "completed"
    },
    "tags": []
   },
   "source": [
    "# An inferential problem: The Gender Wage Gap"
   ]
  },
  {
   "cell_type": "markdown",
   "metadata": {
    "papermill": {
     "duration": 0.019386,
     "end_time": "2021-02-21T17:17:47.847419",
     "exception": false,
     "start_time": "2021-02-21T17:17:47.828033",
     "status": "completed"
    },
    "tags": []
   },
   "source": [
    "In the previous lab, we already analyzed data from the March Supplement of the U.S. Current Population Survey (2015) and answered the question how to use job-relevant characteristics, such as education and experience, to best predict wages. Now, we focus on the following inference question:\n",
    "\n",
    "What is the difference in predicted wages between men and women with the same job-relevant characteristics?\n",
    "\n",
    "Thus, we analyze if there is a difference in the payment of men and women (*gender wage gap*). The gender wage gap may partly reflect *discrimination* against women in the labor market or may partly reflect a *selection effect*, namely that women are relatively more likely to take on occupations that pay somewhat less (for example, school teaching)."
   ]
  },
  {
   "cell_type": "markdown",
   "metadata": {
    "papermill": {
     "duration": 0.018623,
     "end_time": "2021-02-21T17:17:47.884840",
     "exception": false,
     "start_time": "2021-02-21T17:17:47.866217",
     "status": "completed"
    },
    "tags": []
   },
   "source": [
    "To investigate the gender wage gap, we consider the following log-linear regression model\n",
    "\n",
    "\\begin{align}\n",
    "\\log(Y) &= \\beta'X + \\epsilon\\\\\n",
    "&= \\beta_1 D  + \\beta_2' W + \\epsilon,\n",
    "\\end{align}\n",
    "\n",
    "where $D$ is the indicator of being female ($1$ if female and $0$ otherwise) and the\n",
    "$W$'s are controls explaining variation in wages. Considering transformed wages by the logarithm, we are analyzing the relative difference in the payment of men and women."
   ]
  },
  {
   "cell_type": "markdown",
   "metadata": {},
   "source": [
    "## Question 1"
   ]
  },
  {
   "cell_type": "markdown",
   "metadata": {
    "papermill": {
     "duration": 0.018169,
     "end_time": "2021-02-21T17:17:47.921363",
     "exception": false,
     "start_time": "2021-02-21T17:17:47.903194",
     "status": "completed"
    },
    "tags": []
   },
   "source": [
    "## Data analysis"
   ]
  },
  {
   "cell_type": "markdown",
   "metadata": {
    "papermill": {
     "duration": 0.018446,
     "end_time": "2021-02-21T17:17:47.958377",
     "exception": false,
     "start_time": "2021-02-21T17:17:47.939931",
     "status": "completed"
    },
    "tags": []
   },
   "source": [
    "We consider the same subsample of the U.S. Current Population Survey (2015) as in the previous lab. Let us load the data set."
   ]
  },
  {
   "cell_type": "code",
   "execution_count": 3,
   "metadata": {
    "hide_input": true
   },
   "outputs": [],
   "source": [
    "import pandas as pd\n",
    "import numpy as np\n",
    "import pyreadr \n",
    "import math"
   ]
  },
  {
   "cell_type": "code",
   "execution_count": 4,
   "metadata": {},
   "outputs": [
    {
     "ename": "NameError",
     "evalue": "name 'data' is not defined",
     "output_type": "error",
     "traceback": [
      "\u001b[1;31m---------------------------------------------------------------------------\u001b[0m",
      "\u001b[1;31mNameError\u001b[0m                                 Traceback (most recent call last)",
      "\u001b[1;32m~\\AppData\\Local\\Temp/ipykernel_10016/2120705530.py\u001b[0m in \u001b[0;36m<module>\u001b[1;34m\u001b[0m\n\u001b[0;32m      4\u001b[0m \u001b[0mdata_1\u001b[0m \u001b[1;33m=\u001b[0m \u001b[0mrdata_read\u001b[0m\u001b[1;33m[\u001b[0m \u001b[1;34m'data'\u001b[0m \u001b[1;33m]\u001b[0m\u001b[1;33m\u001b[0m\u001b[1;33m\u001b[0m\u001b[0m\n\u001b[0;32m      5\u001b[0m \u001b[1;33m\u001b[0m\u001b[0m\n\u001b[1;32m----> 6\u001b[1;33m \u001b[0mdata\u001b[0m\u001b[1;33m.\u001b[0m\u001b[0mshape\u001b[0m\u001b[1;33m\u001b[0m\u001b[1;33m\u001b[0m\u001b[0m\n\u001b[0m",
      "\u001b[1;31mNameError\u001b[0m: name 'data' is not defined"
     ]
    }
   ],
   "source": [
    "rdata_read = pyreadr.read_r(\"../data/wage2015_subsample_inference.Rdata\")\n",
    "\n",
    "# Extracting the data frame from rdata_read\n",
    "data_1 = rdata_read[ 'data' ]\n",
    "\n",
    "data.shape"
   ]
  },
  {
   "cell_type": "code",
   "execution_count": 11,
   "metadata": {},
   "outputs": [
    {
     "data": {
      "text/html": [
       "<div>\n",
       "<style scoped>\n",
       "    .dataframe tbody tr th:only-of-type {\n",
       "        vertical-align: middle;\n",
       "    }\n",
       "\n",
       "    .dataframe tbody tr th {\n",
       "        vertical-align: top;\n",
       "    }\n",
       "\n",
       "    .dataframe thead th {\n",
       "        text-align: right;\n",
       "    }\n",
       "</style>\n",
       "<table border=\"1\" class=\"dataframe\">\n",
       "  <thead>\n",
       "    <tr style=\"text-align: right;\">\n",
       "      <th></th>\n",
       "      <th>wage</th>\n",
       "      <th>lwage</th>\n",
       "      <th>sex</th>\n",
       "      <th>shs</th>\n",
       "      <th>hsg</th>\n",
       "      <th>scl</th>\n",
       "      <th>clg</th>\n",
       "      <th>ad</th>\n",
       "      <th>mw</th>\n",
       "      <th>so</th>\n",
       "      <th>we</th>\n",
       "      <th>ne</th>\n",
       "      <th>exp1</th>\n",
       "      <th>exp2</th>\n",
       "      <th>exp3</th>\n",
       "      <th>exp4</th>\n",
       "      <th>occ</th>\n",
       "      <th>occ2</th>\n",
       "      <th>ind</th>\n",
       "      <th>ind2</th>\n",
       "    </tr>\n",
       "    <tr>\n",
       "      <th>rownames</th>\n",
       "      <th></th>\n",
       "      <th></th>\n",
       "      <th></th>\n",
       "      <th></th>\n",
       "      <th></th>\n",
       "      <th></th>\n",
       "      <th></th>\n",
       "      <th></th>\n",
       "      <th></th>\n",
       "      <th></th>\n",
       "      <th></th>\n",
       "      <th></th>\n",
       "      <th></th>\n",
       "      <th></th>\n",
       "      <th></th>\n",
       "      <th></th>\n",
       "      <th></th>\n",
       "      <th></th>\n",
       "      <th></th>\n",
       "      <th></th>\n",
       "    </tr>\n",
       "  </thead>\n",
       "  <tbody>\n",
       "    <tr>\n",
       "      <th>10</th>\n",
       "      <td>9.615385</td>\n",
       "      <td>2.263364</td>\n",
       "      <td>1.0</td>\n",
       "      <td>0.0</td>\n",
       "      <td>0.0</td>\n",
       "      <td>0.0</td>\n",
       "      <td>1.0</td>\n",
       "      <td>0.0</td>\n",
       "      <td>0.0</td>\n",
       "      <td>0.0</td>\n",
       "      <td>0.0</td>\n",
       "      <td>1.0</td>\n",
       "      <td>7.0</td>\n",
       "      <td>0.49</td>\n",
       "      <td>0.343</td>\n",
       "      <td>0.2401</td>\n",
       "      <td>3600</td>\n",
       "      <td>11</td>\n",
       "      <td>8370</td>\n",
       "      <td>18</td>\n",
       "    </tr>\n",
       "    <tr>\n",
       "      <th>12</th>\n",
       "      <td>48.076923</td>\n",
       "      <td>3.872802</td>\n",
       "      <td>0.0</td>\n",
       "      <td>0.0</td>\n",
       "      <td>0.0</td>\n",
       "      <td>0.0</td>\n",
       "      <td>1.0</td>\n",
       "      <td>0.0</td>\n",
       "      <td>0.0</td>\n",
       "      <td>0.0</td>\n",
       "      <td>0.0</td>\n",
       "      <td>1.0</td>\n",
       "      <td>31.0</td>\n",
       "      <td>9.61</td>\n",
       "      <td>29.791</td>\n",
       "      <td>92.3521</td>\n",
       "      <td>3050</td>\n",
       "      <td>10</td>\n",
       "      <td>5070</td>\n",
       "      <td>9</td>\n",
       "    </tr>\n",
       "    <tr>\n",
       "      <th>19</th>\n",
       "      <td>28.846154</td>\n",
       "      <td>3.361977</td>\n",
       "      <td>1.0</td>\n",
       "      <td>0.0</td>\n",
       "      <td>0.0</td>\n",
       "      <td>0.0</td>\n",
       "      <td>1.0</td>\n",
       "      <td>0.0</td>\n",
       "      <td>0.0</td>\n",
       "      <td>0.0</td>\n",
       "      <td>0.0</td>\n",
       "      <td>1.0</td>\n",
       "      <td>22.0</td>\n",
       "      <td>4.84</td>\n",
       "      <td>10.648</td>\n",
       "      <td>23.4256</td>\n",
       "      <td>2015</td>\n",
       "      <td>6</td>\n",
       "      <td>9470</td>\n",
       "      <td>22</td>\n",
       "    </tr>\n",
       "    <tr>\n",
       "      <th>30</th>\n",
       "      <td>11.730769</td>\n",
       "      <td>2.462215</td>\n",
       "      <td>1.0</td>\n",
       "      <td>0.0</td>\n",
       "      <td>0.0</td>\n",
       "      <td>0.0</td>\n",
       "      <td>1.0</td>\n",
       "      <td>0.0</td>\n",
       "      <td>0.0</td>\n",
       "      <td>0.0</td>\n",
       "      <td>0.0</td>\n",
       "      <td>1.0</td>\n",
       "      <td>1.0</td>\n",
       "      <td>0.01</td>\n",
       "      <td>0.001</td>\n",
       "      <td>0.0001</td>\n",
       "      <td>1650</td>\n",
       "      <td>5</td>\n",
       "      <td>7460</td>\n",
       "      <td>14</td>\n",
       "    </tr>\n",
       "    <tr>\n",
       "      <th>71</th>\n",
       "      <td>19.230769</td>\n",
       "      <td>2.956512</td>\n",
       "      <td>1.0</td>\n",
       "      <td>0.0</td>\n",
       "      <td>0.0</td>\n",
       "      <td>0.0</td>\n",
       "      <td>1.0</td>\n",
       "      <td>0.0</td>\n",
       "      <td>0.0</td>\n",
       "      <td>0.0</td>\n",
       "      <td>0.0</td>\n",
       "      <td>1.0</td>\n",
       "      <td>4.0</td>\n",
       "      <td>0.16</td>\n",
       "      <td>0.064</td>\n",
       "      <td>0.0256</td>\n",
       "      <td>3255</td>\n",
       "      <td>10</td>\n",
       "      <td>8190</td>\n",
       "      <td>18</td>\n",
       "    </tr>\n",
       "  </tbody>\n",
       "</table>\n",
       "</div>"
      ],
      "text/plain": [
       "               wage     lwage  sex  shs  hsg  scl  clg   ad   mw   so   we  \\\n",
       "rownames                                                                     \n",
       "10         9.615385  2.263364  1.0  0.0  0.0  0.0  1.0  0.0  0.0  0.0  0.0   \n",
       "12        48.076923  3.872802  0.0  0.0  0.0  0.0  1.0  0.0  0.0  0.0  0.0   \n",
       "19        28.846154  3.361977  1.0  0.0  0.0  0.0  1.0  0.0  0.0  0.0  0.0   \n",
       "30        11.730769  2.462215  1.0  0.0  0.0  0.0  1.0  0.0  0.0  0.0  0.0   \n",
       "71        19.230769  2.956512  1.0  0.0  0.0  0.0  1.0  0.0  0.0  0.0  0.0   \n",
       "\n",
       "           ne  exp1  exp2    exp3     exp4   occ occ2   ind ind2  \n",
       "rownames                                                          \n",
       "10        1.0   7.0  0.49   0.343   0.2401  3600   11  8370   18  \n",
       "12        1.0  31.0  9.61  29.791  92.3521  3050   10  5070    9  \n",
       "19        1.0  22.0  4.84  10.648  23.4256  2015    6  9470   22  \n",
       "30        1.0   1.0  0.01   0.001   0.0001  1650    5  7460   14  \n",
       "71        1.0   4.0  0.16   0.064   0.0256  3255   10  8190   18  "
      ]
     },
     "execution_count": 11,
     "metadata": {},
     "output_type": "execute_result"
    }
   ],
   "source": [
    "data_1 = rdata_read[ 'data' ]\n",
    "data = data_1[(data_1['scl'] == 1) | (data_1['clg'] == 1)]\n",
    "data.head()"
   ]
  },
  {
   "cell_type": "markdown",
   "metadata": {
    "papermill": {
     "duration": 0.020145,
     "end_time": "2021-02-21T17:17:48.235598",
     "exception": false,
     "start_time": "2021-02-21T17:17:48.215453",
     "status": "completed"
    },
    "tags": []
   },
   "source": [
    "To start our (causal) analysis, we compare the sample means given gender:"
   ]
  },
  {
   "cell_type": "code",
   "execution_count": 12,
   "metadata": {
    "scrolled": true
   },
   "outputs": [
    {
     "data": {
      "text/html": [
       "<div>\n",
       "<style scoped>\n",
       "    .dataframe tbody tr th:only-of-type {\n",
       "        vertical-align: middle;\n",
       "    }\n",
       "\n",
       "    .dataframe tbody tr th {\n",
       "        vertical-align: top;\n",
       "    }\n",
       "\n",
       "    .dataframe thead th {\n",
       "        text-align: right;\n",
       "    }\n",
       "</style>\n",
       "<table border=\"1\" class=\"dataframe\">\n",
       "  <thead>\n",
       "    <tr style=\"text-align: right;\">\n",
       "      <th></th>\n",
       "      <th>All</th>\n",
       "      <th>Men</th>\n",
       "      <th>Women</th>\n",
       "    </tr>\n",
       "  </thead>\n",
       "  <tbody>\n",
       "    <tr>\n",
       "      <th>Log Wage</th>\n",
       "      <td>3.000022</td>\n",
       "      <td>3.038412</td>\n",
       "      <td>2.956904</td>\n",
       "    </tr>\n",
       "    <tr>\n",
       "      <th>Sex</th>\n",
       "      <td>0.470991</td>\n",
       "      <td>0.000000</td>\n",
       "      <td>1.000000</td>\n",
       "    </tr>\n",
       "    <tr>\n",
       "      <th>Less then High School</th>\n",
       "      <td>0.000000</td>\n",
       "      <td>0.000000</td>\n",
       "      <td>0.000000</td>\n",
       "    </tr>\n",
       "    <tr>\n",
       "      <th>High School Graduate</th>\n",
       "      <td>0.000000</td>\n",
       "      <td>0.000000</td>\n",
       "      <td>0.000000</td>\n",
       "    </tr>\n",
       "    <tr>\n",
       "      <th>Some College</th>\n",
       "      <td>0.466754</td>\n",
       "      <td>0.481824</td>\n",
       "      <td>0.449827</td>\n",
       "    </tr>\n",
       "    <tr>\n",
       "      <th>Gollage Graduate</th>\n",
       "      <td>0.533246</td>\n",
       "      <td>0.518176</td>\n",
       "      <td>0.550173</td>\n",
       "    </tr>\n",
       "    <tr>\n",
       "      <th>Advanced Degree</th>\n",
       "      <td>0.000000</td>\n",
       "      <td>0.000000</td>\n",
       "      <td>0.000000</td>\n",
       "    </tr>\n",
       "    <tr>\n",
       "      <th>Northeast</th>\n",
       "      <td>0.226532</td>\n",
       "      <td>0.219347</td>\n",
       "      <td>0.234602</td>\n",
       "    </tr>\n",
       "    <tr>\n",
       "      <th>Midwest</th>\n",
       "      <td>0.265971</td>\n",
       "      <td>0.261245</td>\n",
       "      <td>0.271280</td>\n",
       "    </tr>\n",
       "    <tr>\n",
       "      <th>South</th>\n",
       "      <td>0.285854</td>\n",
       "      <td>0.290819</td>\n",
       "      <td>0.280277</td>\n",
       "    </tr>\n",
       "    <tr>\n",
       "      <th>West</th>\n",
       "      <td>0.221643</td>\n",
       "      <td>0.228589</td>\n",
       "      <td>0.213841</td>\n",
       "    </tr>\n",
       "    <tr>\n",
       "      <th>Experience</th>\n",
       "      <td>12.700945</td>\n",
       "      <td>12.433148</td>\n",
       "      <td>13.001730</td>\n",
       "    </tr>\n",
       "  </tbody>\n",
       "</table>\n",
       "</div>"
      ],
      "text/plain": [
       "                             All        Men      Women\n",
       "Log Wage                3.000022   3.038412   2.956904\n",
       "Sex                     0.470991   0.000000   1.000000\n",
       "Less then High School   0.000000   0.000000   0.000000\n",
       "High School Graduate    0.000000   0.000000   0.000000\n",
       "Some College            0.466754   0.481824   0.449827\n",
       "Gollage Graduate        0.533246   0.518176   0.550173\n",
       "Advanced Degree         0.000000   0.000000   0.000000\n",
       "Northeast               0.226532   0.219347   0.234602\n",
       "Midwest                 0.265971   0.261245   0.271280\n",
       "South                   0.285854   0.290819   0.280277\n",
       "West                    0.221643   0.228589   0.213841\n",
       "Experience             12.700945  12.433148  13.001730"
      ]
     },
     "execution_count": 12,
     "metadata": {},
     "output_type": "execute_result"
    }
   ],
   "source": [
    "Z = data[ [\"lwage\",\"sex\",\"shs\",\"hsg\",\"scl\",\"clg\",\"ad\",\"ne\",\"mw\",\"so\",\"we\",\"exp1\"] ]\n",
    "\n",
    "data_female = data[data[ 'sex' ] == 1 ]\n",
    "Z_female = data_female[ [\"lwage\",\"sex\",\"shs\",\"hsg\",\"scl\",\"clg\",\"ad\",\"ne\",\"mw\",\"so\",\"we\",\"exp1\"] ]\n",
    "\n",
    "data_male = data[ data[ 'sex' ] == 0 ]\n",
    "Z_male = data_male[ [ \"lwage\",\"sex\",\"shs\",\"hsg\",\"scl\",\"clg\",\"ad\",\"ne\",\"mw\",\"so\",\"we\",\"exp1\" ] ]\n",
    "\n",
    "\n",
    "table = np.zeros( (12, 3) )\n",
    "table[:, 0] = Z.mean().values\n",
    "table[:, 1] = Z_male.mean().values\n",
    "table[:, 2] = Z_female.mean().values\n",
    "table_pandas = pd.DataFrame( table, columns = [ 'All', 'Men', 'Women'])\n",
    "table_pandas.index = [\"Log Wage\",\"Sex\",\"Less then High School\",\"High School Graduate\",\"Some College\",\"Gollage Graduate\",\"Advanced Degree\", \"Northeast\",\"Midwest\",\"South\",\"West\",\"Experience\"]\n",
    "table_html = table_pandas.to_html()\n",
    "\n",
    "table_pandas"
   ]
  },
  {
   "cell_type": "markdown",
   "metadata": {
    "papermill": {
     "duration": 0.020634,
     "end_time": "2021-02-21T17:17:48.532828",
     "exception": false,
     "start_time": "2021-02-21T17:17:48.512194",
     "status": "completed"
    },
    "tags": []
   },
   "source": [
    "In particular, the table above shows that the difference in average *logwage* between men and women is equal to $0,038$"
   ]
  },
  {
   "cell_type": "code",
   "execution_count": 13,
   "metadata": {
    "scrolled": true
   },
   "outputs": [
    {
     "data": {
      "text/plain": [
       "-0.08150855508735999"
      ]
     },
     "execution_count": 13,
     "metadata": {},
     "output_type": "execute_result"
    }
   ],
   "source": [
    "data_female['lwage'].mean() - data_male['lwage'].mean()"
   ]
  },
  {
   "cell_type": "markdown",
   "metadata": {
    "papermill": {
     "duration": 0.022161,
     "end_time": "2021-02-21T17:17:48.635417",
     "exception": false,
     "start_time": "2021-02-21T17:17:48.613256",
     "status": "completed"
    },
    "tags": []
   },
   "source": [
    "Thus, the unconditional gender wage gap is about $8.15$\\% for the group of never married workers (women get paid less on average in our sample). We also observe that never married working women are relatively more educated than working men and have lower working experience."
   ]
  },
  {
   "cell_type": "markdown",
   "metadata": {
    "papermill": {
     "duration": 0.02073,
     "end_time": "2021-02-21T17:17:48.677447",
     "exception": false,
     "start_time": "2021-02-21T17:17:48.656717",
     "status": "completed"
    },
    "tags": []
   },
   "source": [
    "This unconditional (predictive) effect of gender equals the coefficient $\\beta$ in the univariate ols regression of $Y$ on $D$:\n",
    "\n",
    "\\begin{align}\n",
    "\\log(Y) &=\\beta D + \\epsilon.\n",
    "\\end{align}"
   ]
  },
  {
   "cell_type": "markdown",
   "metadata": {
    "papermill": {
     "duration": 0.020929,
     "end_time": "2021-02-21T17:17:48.718630",
     "exception": false,
     "start_time": "2021-02-21T17:17:48.697701",
     "status": "completed"
    },
    "tags": []
   },
   "source": [
    "We verify this by running an ols regression in R."
   ]
  },
  {
   "cell_type": "code",
   "execution_count": 14,
   "metadata": {
    "hide_input": true
   },
   "outputs": [],
   "source": [
    "import statsmodels.api as sm\n",
    "import statsmodels.formula.api as smf"
   ]
  },
  {
   "cell_type": "code",
   "execution_count": 15,
   "metadata": {},
   "outputs": [
    {
     "data": {
      "text/plain": [
       "array([[ 0.00019006, -0.00019006],\n",
       "       [-0.00019006,  0.00038336]])"
      ]
     },
     "execution_count": 15,
     "metadata": {},
     "output_type": "execute_result"
    }
   ],
   "source": [
    "nocontrol_model = smf.ols( formula = 'lwage ~ sex', data = data )\n",
    "nocontrol_est = nocontrol_model.fit().summary2().tables[1]['Coef.']['sex']\n",
    "nocontrol_model.fit().cov_HC0"
   ]
  },
  {
   "cell_type": "code",
   "execution_count": 16,
   "metadata": {
    "scrolled": true
   },
   "outputs": [
    {
     "name": "stdout",
     "output_type": "stream",
     "text": [
      "The estimated gender coefficient is -0.08150855508736052 and the corresponding robust standard error is 0.019579647767772428\n"
     ]
    }
   ],
   "source": [
    "nocontrol_model = smf.ols( formula = 'lwage ~ sex', data = data )\n",
    "nocontrol_est = nocontrol_model.fit().summary2().tables[1]['Coef.']['sex']\n",
    "HCV_coefs = nocontrol_model.fit().cov_HC0\n",
    "nocontrol_se = np.power( HCV_coefs.diagonal() , 0.5)[1]\n",
    "\n",
    "# print unconditional effect of gender and the corresponding standard error\n",
    "print( f'The estimated gender coefficient is {nocontrol_est} and the corresponding robust standard error is {nocontrol_se}' )"
   ]
  },
  {
   "cell_type": "markdown",
   "metadata": {
    "papermill": {
     "duration": 0.02196,
     "end_time": "2021-02-21T17:17:48.991015",
     "exception": false,
     "start_time": "2021-02-21T17:17:48.969055",
     "status": "completed"
    },
    "tags": []
   },
   "source": [
    "Note that the standard error is computed with the *R* package *sandwich* to be robust to heteroskedasticity. \n"
   ]
  },
  {
   "cell_type": "markdown",
   "metadata": {
    "papermill": {
     "duration": 0.021605,
     "end_time": "2021-02-21T17:17:49.034485",
     "exception": false,
     "start_time": "2021-02-21T17:17:49.012880",
     "status": "completed"
    },
    "tags": []
   },
   "source": [
    "Next, we run an ols regression of $Y$ on $(D,W)$ to control for the effect of covariates summarized in $W$:\n",
    "\n",
    "\\begin{align}\n",
    "\\log(Y) &=\\beta_1 D  + \\beta_2' W + \\epsilon.\n",
    "\\end{align}\n",
    "\n",
    "Here, we are considering the flexible model from the previous lab. Hence, $W$ controls for experience, education, region, and occupation and industry indicators plus transformations and two-way interactions."
   ]
  },
  {
   "cell_type": "markdown",
   "metadata": {
    "papermill": {
     "duration": 0.021109,
     "end_time": "2021-02-21T17:17:49.076809",
     "exception": false,
     "start_time": "2021-02-21T17:17:49.055700",
     "status": "completed"
    },
    "tags": []
   },
   "source": [
    "Let us run the ols regression with controls."
   ]
  },
  {
   "cell_type": "markdown",
   "metadata": {},
   "source": [
    "## Ols regression with controls"
   ]
  },
  {
   "cell_type": "code",
   "execution_count": 17,
   "metadata": {},
   "outputs": [
    {
     "name": "stdout",
     "output_type": "stream",
     "text": [
      "               Coef.  Std.Err.         t         P>|t|    [0.025    0.975]\n",
      "Intercept   2.073357  0.214419  9.669647  8.761691e-22  1.652924  2.493790\n",
      "occ2[T.10]  0.091982  0.243220  0.378184  7.053225e-01 -0.384925  0.568888\n",
      "occ2[T.11] -0.499418  0.436858 -1.143202  2.530511e-01 -1.356010  0.357175\n",
      "occ2[T.12]  0.190101  0.341142  0.557249  5.774012e-01 -0.478810  0.859012\n",
      "occ2[T.13] -0.194529  0.271881 -0.715492  4.743637e-01 -0.727633  0.338575\n",
      "...              ...       ...       ...           ...       ...       ...\n",
      "exp4:scl    0.021375  0.022071  0.968465  3.328946e-01 -0.021902  0.064653\n",
      "exp4:clg    0.007909  0.021929  0.360650  7.183881e-01 -0.035090  0.050908\n",
      "exp4:mw     0.014287  0.025814  0.553477  5.799802e-01 -0.036328  0.064902\n",
      "exp4:so    -0.003759  0.022547 -0.166725  8.675981e-01 -0.047968  0.040450\n",
      "exp4:we     0.028286  0.023812  1.187890  2.349761e-01 -0.018405  0.074978\n",
      "\n",
      "[246 rows x 6 columns]\n",
      "Coefficient for OLS with controls -0.05306234035775666\n"
     ]
    }
   ],
   "source": [
    "flex = 'lwage ~ sex + (exp1+exp2+exp3+exp4)*(shs+hsg+scl+clg+occ2+ind2+mw+so+we)'\n",
    "\n",
    "# The smf api replicates R script when it transform data\n",
    "control_model = smf.ols( formula = flex, data = data )\n",
    "control_est = control_model.fit().summary2().tables[1]['Coef.']['sex']\n",
    "\n",
    "print(control_model.fit().summary2().tables[1])\n",
    "print( f\"Coefficient for OLS with controls {control_est}\" )\n",
    "\n",
    "HCV_coefs = control_model.fit().cov_HC0\n",
    "control_se = np.power( HCV_coefs.diagonal() , 0.5)[1]"
   ]
  },
  {
   "cell_type": "markdown",
   "metadata": {
    "papermill": {
     "duration": 0.040523,
     "end_time": "2021-02-21T17:17:49.873210",
     "exception": false,
     "start_time": "2021-02-21T17:17:49.832687",
     "status": "completed"
    },
    "tags": []
   },
   "source": [
    "The estimated regression coefficient $\\beta_1\\approx-0.0531$ measures how our linear prediction of wage changes if we set the gender variable $D$ from 0 to 1, holding the controls $W$ fixed.\n",
    "We can call this the *predictive effect* (PE), as it measures the impact of a variable on the prediction we make. Overall, we see that the unconditional wage gap of size $4$\\% for women increases to about $7$\\% after controlling for worker characteristics.  \n"
   ]
  },
  {
   "cell_type": "markdown",
   "metadata": {
    "papermill": {
     "duration": 0.023222,
     "end_time": "2021-02-21T17:17:49.931749",
     "exception": false,
     "start_time": "2021-02-21T17:17:49.908527",
     "status": "completed"
    },
    "tags": []
   },
   "source": [
    "Next, we are using the Frisch-Waugh-Lovell theorem from the lecture partialling-out the linear effect of the controls via ols."
   ]
  },
  {
   "cell_type": "markdown",
   "metadata": {},
   "source": [
    "## Partialling-Out using ols"
   ]
  },
  {
   "cell_type": "code",
   "execution_count": 18,
   "metadata": {},
   "outputs": [
    {
     "name": "stdout",
     "output_type": "stream",
     "text": [
      "Coefficient for D via partialling-out -0.0530623403577537\n"
     ]
    },
    {
     "data": {
      "text/plain": [
       "0   -0.089571\n",
       "1   -0.016554\n",
       "Name: t_D, dtype: float64"
      ]
     },
     "execution_count": 18,
     "metadata": {},
     "output_type": "execute_result"
    }
   ],
   "source": [
    "# models\n",
    "# model for Y\n",
    "flex_y = 'lwage ~  (exp1+exp2+exp3+exp4)*(shs+hsg+scl+clg+occ2+ind2+mw+so+we)'\n",
    "# model for D\n",
    "flex_d = 'sex ~ (exp1+exp2+exp3+exp4)*(shs+hsg+scl+clg+occ2+ind2+mw+so+we)' \n",
    "\n",
    "# partialling-out the linear effect of W from Y\n",
    "t_Y = smf.ols( formula = flex_y , data = data ).fit().resid\n",
    "\n",
    "# partialling-out the linear effect of W from D\n",
    "t_D = smf.ols( formula = flex_d , data = data ).fit().resid\n",
    "\n",
    "data_res = pd.DataFrame( np.vstack(( t_Y.values , t_D.values )).T , columns = [ 't_Y', 't_D' ] )\n",
    "# regression of Y on D after partialling-out the effect of W\n",
    "partial_fit =  smf.ols( formula = 't_Y ~ t_D' , data = data_res ).fit()\n",
    "partial_est = partial_fit.summary2().tables[1]['Coef.']['t_D']\n",
    "\n",
    "print(\"Coefficient for D via partialling-out\", partial_est)\n",
    "\n",
    "# standard error\n",
    "HCV_coefs = partial_fit.cov_HC0\n",
    "partial_se = np.power( HCV_coefs.diagonal() , 0.5)[1]\n",
    "\n",
    "# confidence interval\n",
    "partial_fit.conf_int( alpha=0.05 ).iloc[1, :]"
   ]
  },
  {
   "cell_type": "markdown",
   "metadata": {
    "papermill": {
     "duration": 0.023907,
     "end_time": "2021-02-21T17:17:50.458203",
     "exception": false,
     "start_time": "2021-02-21T17:17:50.434296",
     "status": "completed"
    },
    "tags": []
   },
   "source": [
    "Again, the estimated coefficient measures the linear predictive effect (PE) of $D$ on $Y$ after taking out the linear effect of $W$ on both of these variables. This coefficient equals the estimated coefficient from the ols regression with controls."
   ]
  },
  {
   "cell_type": "markdown",
   "metadata": {},
   "source": [
    "## Question 2"
   ]
  },
  {
   "cell_type": "code",
   "execution_count": 19,
   "metadata": {},
   "outputs": [],
   "source": [
    "datas = data[data['scl'] == 1]\n",
    "datac = data[data['clg'] == 1]"
   ]
  },
  {
   "cell_type": "code",
   "execution_count": 20,
   "metadata": {},
   "outputs": [
    {
     "data": {
      "text/html": [
       "<div>\n",
       "<style scoped>\n",
       "    .dataframe tbody tr th:only-of-type {\n",
       "        vertical-align: middle;\n",
       "    }\n",
       "\n",
       "    .dataframe tbody tr th {\n",
       "        vertical-align: top;\n",
       "    }\n",
       "\n",
       "    .dataframe thead th {\n",
       "        text-align: right;\n",
       "    }\n",
       "</style>\n",
       "<table border=\"1\" class=\"dataframe\">\n",
       "  <thead>\n",
       "    <tr style=\"text-align: right;\">\n",
       "      <th></th>\n",
       "      <th>exp1</th>\n",
       "      <th>lwage</th>\n",
       "      <th>mean</th>\n",
       "    </tr>\n",
       "  </thead>\n",
       "  <tbody>\n",
       "    <tr>\n",
       "      <th>0</th>\n",
       "      <td>3.0</td>\n",
       "      <td>2.693883</td>\n",
       "      <td>0</td>\n",
       "    </tr>\n",
       "    <tr>\n",
       "      <th>1</th>\n",
       "      <td>3.5</td>\n",
       "      <td>2.729320</td>\n",
       "      <td>0</td>\n",
       "    </tr>\n",
       "    <tr>\n",
       "      <th>2</th>\n",
       "      <td>4.0</td>\n",
       "      <td>2.696418</td>\n",
       "      <td>0</td>\n",
       "    </tr>\n",
       "    <tr>\n",
       "      <th>3</th>\n",
       "      <td>4.5</td>\n",
       "      <td>2.611629</td>\n",
       "      <td>0</td>\n",
       "    </tr>\n",
       "    <tr>\n",
       "      <th>4</th>\n",
       "      <td>5.0</td>\n",
       "      <td>2.727195</td>\n",
       "      <td>0</td>\n",
       "    </tr>\n",
       "    <tr>\n",
       "      <th>...</th>\n",
       "      <td>...</td>\n",
       "      <td>...</td>\n",
       "      <td>...</td>\n",
       "    </tr>\n",
       "    <tr>\n",
       "      <th>75</th>\n",
       "      <td>40.5</td>\n",
       "      <td>2.889598</td>\n",
       "      <td>0</td>\n",
       "    </tr>\n",
       "    <tr>\n",
       "      <th>76</th>\n",
       "      <td>41.0</td>\n",
       "      <td>3.011219</td>\n",
       "      <td>0</td>\n",
       "    </tr>\n",
       "    <tr>\n",
       "      <th>77</th>\n",
       "      <td>41.5</td>\n",
       "      <td>3.097123</td>\n",
       "      <td>0</td>\n",
       "    </tr>\n",
       "    <tr>\n",
       "      <th>78</th>\n",
       "      <td>42.0</td>\n",
       "      <td>2.668829</td>\n",
       "      <td>0</td>\n",
       "    </tr>\n",
       "    <tr>\n",
       "      <th>79</th>\n",
       "      <td>42.5</td>\n",
       "      <td>2.822980</td>\n",
       "      <td>0</td>\n",
       "    </tr>\n",
       "  </tbody>\n",
       "</table>\n",
       "<p>80 rows × 3 columns</p>\n",
       "</div>"
      ],
      "text/plain": [
       "    exp1     lwage  mean\n",
       "0    3.0  2.693883     0\n",
       "1    3.5  2.729320     0\n",
       "2    4.0  2.696418     0\n",
       "3    4.5  2.611629     0\n",
       "4    5.0  2.727195     0\n",
       "..   ...       ...   ...\n",
       "75  40.5  2.889598     0\n",
       "76  41.0  3.011219     0\n",
       "77  41.5  3.097123     0\n",
       "78  42.0  2.668829     0\n",
       "79  42.5  2.822980     0\n",
       "\n",
       "[80 rows x 3 columns]"
      ]
     },
     "execution_count": 20,
     "metadata": {},
     "output_type": "execute_result"
    }
   ],
   "source": [
    "# scl\n",
    "scl = datas[['lwage','exp1']].groupby(['exp1']).mean().reset_index()\n",
    "scl['mean'] = 0\n",
    "scl"
   ]
  },
  {
   "cell_type": "code",
   "execution_count": 21,
   "metadata": {},
   "outputs": [
    {
     "data": {
      "text/plain": [
       "(80, 3)"
      ]
     },
     "execution_count": 21,
     "metadata": {},
     "output_type": "execute_result"
    }
   ],
   "source": [
    "scl.shape"
   ]
  },
  {
   "cell_type": "code",
   "execution_count": 28,
   "metadata": {},
   "outputs": [
    {
     "data": {
      "text/html": [
       "<div>\n",
       "<style scoped>\n",
       "    .dataframe tbody tr th:only-of-type {\n",
       "        vertical-align: middle;\n",
       "    }\n",
       "\n",
       "    .dataframe tbody tr th {\n",
       "        vertical-align: top;\n",
       "    }\n",
       "\n",
       "    .dataframe thead th {\n",
       "        text-align: right;\n",
       "    }\n",
       "</style>\n",
       "<table border=\"1\" class=\"dataframe\">\n",
       "  <thead>\n",
       "    <tr style=\"text-align: right;\">\n",
       "      <th></th>\n",
       "      <th>exp1</th>\n",
       "      <th>lwage</th>\n",
       "      <th>mean</th>\n",
       "    </tr>\n",
       "  </thead>\n",
       "  <tbody>\n",
       "    <tr>\n",
       "      <th>0</th>\n",
       "      <td>1.0</td>\n",
       "      <td>3.031143</td>\n",
       "      <td>0</td>\n",
       "    </tr>\n",
       "    <tr>\n",
       "      <th>1</th>\n",
       "      <td>2.0</td>\n",
       "      <td>3.019492</td>\n",
       "      <td>0</td>\n",
       "    </tr>\n",
       "    <tr>\n",
       "      <th>2</th>\n",
       "      <td>3.0</td>\n",
       "      <td>3.061553</td>\n",
       "      <td>0</td>\n",
       "    </tr>\n",
       "    <tr>\n",
       "      <th>3</th>\n",
       "      <td>4.0</td>\n",
       "      <td>3.070771</td>\n",
       "      <td>0</td>\n",
       "    </tr>\n",
       "    <tr>\n",
       "      <th>4</th>\n",
       "      <td>5.0</td>\n",
       "      <td>3.030900</td>\n",
       "      <td>0</td>\n",
       "    </tr>\n",
       "    <tr>\n",
       "      <th>5</th>\n",
       "      <td>6.0</td>\n",
       "      <td>3.182292</td>\n",
       "      <td>0</td>\n",
       "    </tr>\n",
       "    <tr>\n",
       "      <th>6</th>\n",
       "      <td>7.0</td>\n",
       "      <td>3.107772</td>\n",
       "      <td>0</td>\n",
       "    </tr>\n",
       "    <tr>\n",
       "      <th>7</th>\n",
       "      <td>8.0</td>\n",
       "      <td>3.142271</td>\n",
       "      <td>0</td>\n",
       "    </tr>\n",
       "    <tr>\n",
       "      <th>8</th>\n",
       "      <td>9.0</td>\n",
       "      <td>3.038090</td>\n",
       "      <td>0</td>\n",
       "    </tr>\n",
       "    <tr>\n",
       "      <th>9</th>\n",
       "      <td>10.0</td>\n",
       "      <td>3.139449</td>\n",
       "      <td>0</td>\n",
       "    </tr>\n",
       "    <tr>\n",
       "      <th>10</th>\n",
       "      <td>11.0</td>\n",
       "      <td>3.111374</td>\n",
       "      <td>0</td>\n",
       "    </tr>\n",
       "    <tr>\n",
       "      <th>11</th>\n",
       "      <td>12.0</td>\n",
       "      <td>3.372184</td>\n",
       "      <td>0</td>\n",
       "    </tr>\n",
       "    <tr>\n",
       "      <th>12</th>\n",
       "      <td>13.0</td>\n",
       "      <td>3.134240</td>\n",
       "      <td>0</td>\n",
       "    </tr>\n",
       "    <tr>\n",
       "      <th>13</th>\n",
       "      <td>14.0</td>\n",
       "      <td>3.275004</td>\n",
       "      <td>0</td>\n",
       "    </tr>\n",
       "    <tr>\n",
       "      <th>14</th>\n",
       "      <td>15.0</td>\n",
       "      <td>3.287349</td>\n",
       "      <td>0</td>\n",
       "    </tr>\n",
       "    <tr>\n",
       "      <th>15</th>\n",
       "      <td>16.0</td>\n",
       "      <td>3.254997</td>\n",
       "      <td>0</td>\n",
       "    </tr>\n",
       "    <tr>\n",
       "      <th>16</th>\n",
       "      <td>17.0</td>\n",
       "      <td>3.258694</td>\n",
       "      <td>0</td>\n",
       "    </tr>\n",
       "    <tr>\n",
       "      <th>17</th>\n",
       "      <td>18.0</td>\n",
       "      <td>3.408159</td>\n",
       "      <td>0</td>\n",
       "    </tr>\n",
       "    <tr>\n",
       "      <th>18</th>\n",
       "      <td>19.0</td>\n",
       "      <td>3.153315</td>\n",
       "      <td>0</td>\n",
       "    </tr>\n",
       "    <tr>\n",
       "      <th>19</th>\n",
       "      <td>20.0</td>\n",
       "      <td>3.204437</td>\n",
       "      <td>0</td>\n",
       "    </tr>\n",
       "    <tr>\n",
       "      <th>20</th>\n",
       "      <td>21.0</td>\n",
       "      <td>3.303849</td>\n",
       "      <td>0</td>\n",
       "    </tr>\n",
       "    <tr>\n",
       "      <th>21</th>\n",
       "      <td>22.0</td>\n",
       "      <td>3.200675</td>\n",
       "      <td>0</td>\n",
       "    </tr>\n",
       "    <tr>\n",
       "      <th>22</th>\n",
       "      <td>23.0</td>\n",
       "      <td>3.065550</td>\n",
       "      <td>0</td>\n",
       "    </tr>\n",
       "    <tr>\n",
       "      <th>23</th>\n",
       "      <td>24.0</td>\n",
       "      <td>3.267125</td>\n",
       "      <td>0</td>\n",
       "    </tr>\n",
       "    <tr>\n",
       "      <th>24</th>\n",
       "      <td>25.0</td>\n",
       "      <td>3.214664</td>\n",
       "      <td>0</td>\n",
       "    </tr>\n",
       "    <tr>\n",
       "      <th>25</th>\n",
       "      <td>26.0</td>\n",
       "      <td>3.418911</td>\n",
       "      <td>0</td>\n",
       "    </tr>\n",
       "    <tr>\n",
       "      <th>26</th>\n",
       "      <td>27.0</td>\n",
       "      <td>3.379309</td>\n",
       "      <td>0</td>\n",
       "    </tr>\n",
       "    <tr>\n",
       "      <th>27</th>\n",
       "      <td>28.0</td>\n",
       "      <td>3.223364</td>\n",
       "      <td>0</td>\n",
       "    </tr>\n",
       "    <tr>\n",
       "      <th>28</th>\n",
       "      <td>29.0</td>\n",
       "      <td>3.441726</td>\n",
       "      <td>0</td>\n",
       "    </tr>\n",
       "    <tr>\n",
       "      <th>29</th>\n",
       "      <td>30.0</td>\n",
       "      <td>3.268815</td>\n",
       "      <td>0</td>\n",
       "    </tr>\n",
       "    <tr>\n",
       "      <th>30</th>\n",
       "      <td>31.0</td>\n",
       "      <td>3.239399</td>\n",
       "      <td>0</td>\n",
       "    </tr>\n",
       "    <tr>\n",
       "      <th>31</th>\n",
       "      <td>32.0</td>\n",
       "      <td>3.315334</td>\n",
       "      <td>0</td>\n",
       "    </tr>\n",
       "    <tr>\n",
       "      <th>32</th>\n",
       "      <td>33.0</td>\n",
       "      <td>3.336597</td>\n",
       "      <td>0</td>\n",
       "    </tr>\n",
       "    <tr>\n",
       "      <th>33</th>\n",
       "      <td>34.0</td>\n",
       "      <td>3.381862</td>\n",
       "      <td>0</td>\n",
       "    </tr>\n",
       "    <tr>\n",
       "      <th>34</th>\n",
       "      <td>35.0</td>\n",
       "      <td>3.110984</td>\n",
       "      <td>0</td>\n",
       "    </tr>\n",
       "    <tr>\n",
       "      <th>35</th>\n",
       "      <td>36.0</td>\n",
       "      <td>3.235879</td>\n",
       "      <td>0</td>\n",
       "    </tr>\n",
       "    <tr>\n",
       "      <th>36</th>\n",
       "      <td>37.0</td>\n",
       "      <td>3.121215</td>\n",
       "      <td>0</td>\n",
       "    </tr>\n",
       "    <tr>\n",
       "      <th>37</th>\n",
       "      <td>38.0</td>\n",
       "      <td>2.971469</td>\n",
       "      <td>0</td>\n",
       "    </tr>\n",
       "    <tr>\n",
       "      <th>38</th>\n",
       "      <td>39.0</td>\n",
       "      <td>2.679251</td>\n",
       "      <td>0</td>\n",
       "    </tr>\n",
       "    <tr>\n",
       "      <th>39</th>\n",
       "      <td>40.0</td>\n",
       "      <td>2.960661</td>\n",
       "      <td>0</td>\n",
       "    </tr>\n",
       "  </tbody>\n",
       "</table>\n",
       "</div>"
      ],
      "text/plain": [
       "    exp1     lwage  mean\n",
       "0    1.0  3.031143     0\n",
       "1    2.0  3.019492     0\n",
       "2    3.0  3.061553     0\n",
       "3    4.0  3.070771     0\n",
       "4    5.0  3.030900     0\n",
       "5    6.0  3.182292     0\n",
       "6    7.0  3.107772     0\n",
       "7    8.0  3.142271     0\n",
       "8    9.0  3.038090     0\n",
       "9   10.0  3.139449     0\n",
       "10  11.0  3.111374     0\n",
       "11  12.0  3.372184     0\n",
       "12  13.0  3.134240     0\n",
       "13  14.0  3.275004     0\n",
       "14  15.0  3.287349     0\n",
       "15  16.0  3.254997     0\n",
       "16  17.0  3.258694     0\n",
       "17  18.0  3.408159     0\n",
       "18  19.0  3.153315     0\n",
       "19  20.0  3.204437     0\n",
       "20  21.0  3.303849     0\n",
       "21  22.0  3.200675     0\n",
       "22  23.0  3.065550     0\n",
       "23  24.0  3.267125     0\n",
       "24  25.0  3.214664     0\n",
       "25  26.0  3.418911     0\n",
       "26  27.0  3.379309     0\n",
       "27  28.0  3.223364     0\n",
       "28  29.0  3.441726     0\n",
       "29  30.0  3.268815     0\n",
       "30  31.0  3.239399     0\n",
       "31  32.0  3.315334     0\n",
       "32  33.0  3.336597     0\n",
       "33  34.0  3.381862     0\n",
       "34  35.0  3.110984     0\n",
       "35  36.0  3.235879     0\n",
       "36  37.0  3.121215     0\n",
       "37  38.0  2.971469     0\n",
       "38  39.0  2.679251     0\n",
       "39  40.0  2.960661     0"
      ]
     },
     "execution_count": 28,
     "metadata": {},
     "output_type": "execute_result"
    }
   ],
   "source": [
    "# clg\n",
    "clg = datac[['lwage','exp1']].groupby(['exp1']).mean().reset_index()\n",
    "clg['mean'] = 0\n",
    "clg"
   ]
  },
  {
   "cell_type": "code",
   "execution_count": 22,
   "metadata": {},
   "outputs": [
    {
     "data": {
      "text/plain": [
       "(40, 3)"
      ]
     },
     "execution_count": 22,
     "metadata": {},
     "output_type": "execute_result"
    }
   ],
   "source": [
    "clg.shape"
   ]
  },
  {
   "cell_type": "code",
   "execution_count": 22,
   "metadata": {},
   "outputs": [],
   "source": [
    "pd.options.mode.chained_assignment = None  # default='warn'"
   ]
  },
  {
   "cell_type": "code",
   "execution_count": 23,
   "metadata": {},
   "outputs": [
    {
     "name": "stdout",
     "output_type": "stream",
     "text": [
      "0     2\n",
      "1     2\n",
      "2     2\n",
      "3     2\n",
      "4     2\n",
      "     ..\n",
      "75    2\n",
      "76    2\n",
      "77    2\n",
      "78    2\n",
      "79    2\n",
      "Name: mean, Length: 80, dtype: int64\n"
     ]
    }
   ],
   "source": [
    "for i in range(0,80):\n",
    "    w = datas[datas['exp1'] <= scl['exp1'][i]]\n",
    "    scl['mean'][i] = w['lwage'].mean()\n",
    "print(scl['mean'])"
   ]
  },
  {
   "cell_type": "code",
   "execution_count": 29,
   "metadata": {},
   "outputs": [
    {
     "name": "stdout",
     "output_type": "stream",
     "text": [
      "0     3\n",
      "1     3\n",
      "2     3\n",
      "3     3\n",
      "4     3\n",
      "5     3\n",
      "6     3\n",
      "7     3\n",
      "8     3\n",
      "9     3\n",
      "10    3\n",
      "11    3\n",
      "12    3\n",
      "13    3\n",
      "14    3\n",
      "15    3\n",
      "16    3\n",
      "17    3\n",
      "18    3\n",
      "19    3\n",
      "20    3\n",
      "21    3\n",
      "22    3\n",
      "23    3\n",
      "24    3\n",
      "25    3\n",
      "26    3\n",
      "27    3\n",
      "28    3\n",
      "29    3\n",
      "30    3\n",
      "31    3\n",
      "32    3\n",
      "33    3\n",
      "34    3\n",
      "35    3\n",
      "36    3\n",
      "37    3\n",
      "38    3\n",
      "39    3\n",
      "Name: mean, dtype: int64\n"
     ]
    }
   ],
   "source": [
    "for i in range(0,40):\n",
    "    w = datac[datac['exp1'] <= clg['exp1'][i]]\n",
    "    clg['mean'][i] = w['lwage'].mean()\n",
    "print(clg['mean'])"
   ]
  },
  {
   "cell_type": "code",
   "execution_count": 30,
   "metadata": {},
   "outputs": [
    {
     "data": {
      "image/png": "[encoded data removed]",
      "text/plain": [
       "<Figure size 432x288 with 1 Axes>"
      ]
     },
     "metadata": {
      "needs_background": "light"
     },
     "output_type": "display_data"
    }
   ],
   "source": [
    "#Plot\n",
    "import matplotlib.pyplot as plt\n",
    "\n",
    "x = clg[\"exp1\"]\n",
    "x1 = scl['exp1']\n",
    "y = clg[\"mean\"]\n",
    "y1 = scl['mean']\n",
    "\n",
    "plt.plot(x,y, label=\"College\")\n",
    "plt.plot(x1,y1,label=\"High school\")\n",
    "plt.xlabel(\"Years of Potencial Experience\")\n",
    "plt.ylabel(\"Log Wage\")\n",
    "plt.show()"
   ]
  },
  {
   "cell_type": "markdown",
   "metadata": {},
   "source": [
    "## Question 3"
   ]
  },
  {
   "cell_type": "markdown",
   "metadata": {},
   "source": [
    "# Frisch-Waugh-Lovell\n",
    "\n",
    "In the linear least squares regression of vector y on two sets of variables, $X_1$ and $X_2$, the subvector $b_2$ is the set of coefficients obtained when the residuals from a regression of y on $X_1$ alone are regressed on the set of residuals obtained when each\n",
    "column of $X_2$ is regressed on $X_1$.\n",
    "\n",
    "Suppose that the regression involves two sets of variables, $X_1$ and $X_2$. Thus,\n",
    "\n",
    "$$y = X\\beta + \\varepsilon = X_1\\beta_1 + X_2\\beta_2 + \\varepsilon $$\n",
    "\n",
    "We want to know $\\beta_2$. Nevertheless, the two sets of variables $X_1$ and $X_2$ are not orthogonal, then Frisch-Waugh-Lovell theorem is needed. \n",
    "What is the algebraic solution for $\\beta_2$? A solution can be obtained by using the partitioned inverse matrix.\n",
    "\n",
    "$$\n",
    "\\left(\\begin{array}{cc} \n",
    "X_1'X_1 & X_1'X_2\\\\\n",
    "X_2'X_1 & X_2'X_2\n",
    "\\end{array}\\right)\n",
    "\\left(\\begin{array}{cc} \n",
    "b_1 \\\\ \n",
    "b_2 \n",
    "\\end{array}\\right)\n",
    "=\n",
    "\\left(\\begin{array}{cc} \n",
    "X_1'y \\\\ \n",
    "X_2'y\n",
    "\\end{array}\\right)\n",
    "$$ \n",
    "\n",
    "First, we solve $\\beta_1$, where $\\beta_1$ is the set of coefficientes of $y$ on $X_1$.\n",
    "$$ X_1'X_1b_1 + X_1'X_2b_2=X_1'y $$\n",
    "$$b_1 = (X_1'X_1)^-1X'_1y - (X'_1X_1)^-1X'_1X_2b_2 $$\n",
    "\n",
    "Then, use the second equation of the partitioned inverse matrix.\n",
    "$$ X_2'X_1b_1 + X_2'X_2b_2=X_2'y $$\n",
    "\n",
    "Now, insert the result for $\\beta_1$. This produces:\n",
    "$$X_2'X_1(X_1'X_1)^-1X'_1y-X'_2X_1(X'_1X_1)^-1X'_1X_2b_2+X'_2X_2b_2=X'_2y$$\n",
    "$$X_2'(I-X_1(X_1'X_1)^-1y=X_2'(I-X_1(X_1'X_1)^-1)X_2b_2$$\n",
    "$$b_2 =[X_2'(I-X_1(X_1'X_1)^-1)X_2]^-1[X_2'(I-X_1(X_1'X_1)^-1)y]$$\n",
    "\n",
    "The $M_1$ matrix is the residual maker:\n",
    "$$M_1=I-X_1(X_1'X_1)^-1$$\n",
    "\n",
    "Insert $M_1$ in the equiation below:\n",
    "$$b_2 =[X_2'M_1X_2]^-1[X_2'M_1y]$$\n",
    "\n",
    "Thus, $M_1X_2$ is a matrix of residuals in the regression of $X_2$ on $X_1$, and $M_1y$  is a matrix of residuals in the regression of $y$ in $X_1$. By exploiting the fact that $M_1$ is symmetric and idempotent, we can rewrite the equation as:\n",
    "\n",
    "$X_2*=M_1X_2$ and $y*=M_1y$ \n",
    "$$b_2=(X'_2*X_2*)^-1X'_2*y*$$\n",
    "​ \n",
    "This process is commonly called partialing out or netting out the effect of $X_1$.\n",
    "\n",
    "On the other hand, If we follow the algorithm seen in class we can reach the same result. In essence, the demonstration above follows the same algorithm, however, the following demonstration may be easier to understand.\n",
    "\n",
    "Suppose that the regression involves two sets of variables, $X_1$ and $X_2$. Thus,\n",
    "\n",
    "$$y = X\\beta + u = X_1\\beta_1 + X_2\\beta_2 + u $$\n",
    "\n",
    "To find $\\beta_1$ follow the next algorithm:\n",
    "\n",
    "1. Regress $y$ on $X_1$, obtain residual $e_1$\n",
    "2. Regress $X_2$ on $X_1$, obtain residual $e_2$\n",
    "3. Regress $e_1$ on $e_2$, obtain OLS estimates $b_1$\n",
    "\n",
    "$$y=X_2\\beta_1+u_1$$    \n",
    "$$\\beta_1=(X'_2X_2)^-1(X'_2y)$$\n",
    "$$X_1=X_2\\beta_2+u_2$$\n",
    "$$\\beta_2=(X'_2X_2)^-1(X'_2X_1)$$\n",
    "\n",
    "$$y-X_2\\beta_1=u_1$$\n",
    "\n",
    "Insert $D_1$:\n",
    "$$y-[X_2(X'_2X_2)^-1(X'_2y)]=e_1$$\n",
    "$$[I-(X'_2X_2)^-1(X'_2)]y= e_1$$\n",
    "$$M_2y=e_1$$\n",
    "\n",
    "Remember the $M_2=I-X_2(X_2'X_2)^-1$ matrix is the residual maker. Then, the estimated residuals are:\n",
    "$$e_1=M_2y$$\n",
    "$$e_2=M_2X_1$$\n",
    "\n",
    "Now, we regress $e_1$ on $e_2$:\n",
    "\n",
    "$$e_1=e_2\\beta_1+\\varepsilon$$\n",
    "$$b_1=(e_2'e_2)^-1(e_2'e_1)$$\n",
    "\n",
    "Insert estimated residual $e_1$ and $e_2$:\n",
    "$$b_1=(M_2X_1)'(M_2X_1)^-1[(M_2X_1)'(M_2X_1)]$$\n",
    "$$b_1=(X_1'M_2'M_2X_1)^-1(X_1'M_2'M_2y) $$\n",
    "\n",
    "Regarding, $M_2$ is symmetric and idempotent. \n",
    "$X_1*=M_2X_1$ and $y*=M_2y$ \n",
    "$$b_1=(X'_1*X_1*)^-1X'_1*y*$$\n",
    "\n",
    "This theorem shows the pure effect of the exogenous variables that are of interest, this result is the same that would have been obtained if the model had been regressed with all the variables."
   ]
  },
  {
   "cell_type": "code",
   "execution_count": null,
   "metadata": {},
   "outputs": [],
   "source": []
  }
 ],
 "metadata": {
  "hide_input": false,
  "kernelspec": {
   "display_name": "Python 3 (ipykernel)",
   "language": "python",
   "name": "python3"
  },
  "language_info": {
   "codemirror_mode": {
    "name": "ipython",
    "version": 3
   },
   "file_extension": ".py",
   "mimetype": "text/x-python",
   "name": "python",
   "nbconvert_exporter": "python",
   "pygments_lexer": "ipython3",
   "version": "3.7.1"
  }
 },
 "nbformat": 4,
 "nbformat_minor": 4
}
