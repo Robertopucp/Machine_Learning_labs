{
 "cells": [
  {
   "cell_type": "markdown",
   "source": [
    "# Replication of Lab 4"
   ],
   "metadata": {}
  },
  {
   "cell_type": "markdown",
   "source": [
    "# Group 6\n",
    "Members:\n",
    "1. Eljaer Eusebio\n",
    "2. Claudia Vivas\n",
    "3. Luis Sandoval\n",
    "4. Andre Tapia"
   ],
   "metadata": {}
  },
  {
   "cell_type": "markdown",
   "source": [
    "# Question 1 "
   ],
   "metadata": {}
  },
  {
   "cell_type": "code",
   "execution_count": 1,
   "source": [
    "import hdmpy\r\n",
    "import numpy as np\r\n",
    "import random\r\n",
    "import statsmodels.api as sm\r\n",
    "import matplotlib.pyplot as plt\r\n",
    "import numpy as np\r\n",
    "from matplotlib import colors"
   ],
   "outputs": [],
   "metadata": {}
  },
  {
   "cell_type": "markdown",
   "source": [
    "# 1. Simulation Design 1"
   ],
   "metadata": {}
  },
  {
   "cell_type": "markdown",
   "source": [
    "## Simulationg desing in the case B=50"
   ],
   "metadata": {}
  },
  {
   "cell_type": "code",
   "execution_count": 2,
   "source": [
    "np.random.seed(0)\r\n",
    "B = 50\r\n",
    "Naive = np.zeros( B )\r\n",
    "Orthogonal = np.zeros( B )"
   ],
   "outputs": [],
   "metadata": {}
  },
  {
   "cell_type": "code",
   "execution_count": 3,
   "source": [
    "for i in range( 0, B ):\n",
    "    n = 100\n",
    "    p = 100\n",
    "    beta = ( 1 / (np.arange( 1, p + 1 ) ** 2 ) ).reshape( p , 1 )\n",
    "    gamma = ( 1 / (np.arange( 1, p + 1 ) ** 2 ) ).reshape( p , 1 )\n",
    "\n",
    "    mean = 0\n",
    "    sd = 1\n",
    "    X = np.random.normal( mean , sd, n * p ).reshape( n, p )\n",
    "\n",
    "    D = ( X @ gamma ) + np.random.normal( mean , sd, n ).reshape( n, 1 )/4 \n",
    "   \n",
    "    # DGP \n",
    "    Y = 5*D + ( X @ beta ) + np.random.normal( mean , sd, n ).reshape( n, 1 )\n",
    "    # single selection method\n",
    "    r_lasso_estimation = hdmpy.rlasso( np.concatenate( ( D , X ) , axis  =  1 ) , Y , post = True ) # Regress main equation by lasso\n",
    "\n",
    "    coef_array = r_lasso_estimation.est[ 'coefficients' ].iloc[ 2:, :].to_numpy()    # Get \"X\" coefficients \n",
    "\n",
    "    SX_IDs = np.where( coef_array != 0 )[0]\n",
    "\n",
    "    # In case all X coefficients are zero, then regress Y on D\n",
    "    if sum(SX_IDs) == 0 : \n",
    "        Naive[ i ] = sm.OLS( Y , sm.add_constant(D) ).fit().summary2().tables[1].round(3).iloc[ 1, 0 ] \n",
    "\n",
    "    # Otherwise, then regress Y on X and D (but only in the selected coefficients)\n",
    "    elif sum( SX_IDs ) > 0 :\n",
    "        X_D = np.concatenate( ( D, X[:, SX_IDs ] ) , axis = 1 )\n",
    "        Naive[ i ] = sm.OLS( Y , sm.add_constant( X_D ) ).fit().summary2().tables[1].round(3).iloc[ 1, 0]\n",
    "\n",
    "    # In both cases we save D coefficient\n",
    "        \n",
    "    # Regress residuals. \n",
    "    resY = hdmpy.rlasso( X , Y , post = False ).est[ 'residuals' ]\n",
    "    resD = hdmpy.rlasso( X , D , post = False ).est[ 'residuals' ]\n",
    "    Orthogonal[ i ] = sm.OLS( resY , sm.add_constant( resD ) ).fit().summary2().tables[1].round(3).iloc[ 1, 0]\n"
   ],
   "outputs": [],
   "metadata": {}
  },
  {
   "cell_type": "code",
   "execution_count": 4,
   "source": [
    "Orto_breaks = [-1.2, -1, -0.8, -0.6, -0.4, -0.2, 0, 0.2, 0.4, 0.6, 0.8, 1, 1.2, 1.4, 1.6, 1.8, 2]\n",
    "Naive_breaks = [-0.6, -0.4, -0.2, 0, 0.2, 0.4, 0.6, 0.8, 1, 1.2]"
   ],
   "outputs": [],
   "metadata": {}
  },
  {
   "cell_type": "code",
   "execution_count": 5,
   "source": [
    "# Now we create a histogram\n",
    "fig, axs = plt.subplots(1, 1, sharex= True, tight_layout=True)\n",
    "\n",
    "N, bins, patches = axs.hist( Orthogonal - 5 , range = (-2, 2), density = True , bins = Orto_breaks)\n",
    "\n",
    "fracs = ((N**(1 / 5)) / N.max())\n",
    "norm = colors.Normalize(fracs.min(), fracs.max())\n",
    " \n",
    "for thisfrac, thispatch in zip(fracs, patches):\n",
    "    color = plt.cm.viridis(norm(thisfrac))\n",
    "    thispatch.set_facecolor(color)\n",
    "\n",
    "plt.title('Orthogonal', size=20)\n",
    "plt.xlabel(\"Difference of Orhtogonal - True\")\n",
    "\n",
    "plt.show()"
   ],
   "outputs": [
    {
     "output_type": "display_data",
     "data": {
      "image/png": "[encoded data removed]",
      "text/plain": [
       "<Figure size 432x288 with 1 Axes>"
      ]
     },
     "metadata": {
      "needs_background": "light"
     }
    }
   ],
   "metadata": {}
  },
  {
   "cell_type": "code",
   "execution_count": 6,
   "source": [
    "# Create histogram\n",
    "fig, axs = plt.subplots(1, 1, sharex= True, tight_layout=True)\n",
    "\n",
    "N, bins, patches = axs.hist( Naive - 5, range = (-2, 2), density = True , bins = Naive_breaks)\n",
    "\n",
    "fracs = ((N**(1 /5 )) / N.max())\n",
    "norm = colors.Normalize(fracs.min(), fracs.max())\n",
    " \n",
    "for thisfrac, thispatch in zip(fracs, patches):\n",
    "    color = plt.cm.viridis(norm(thisfrac))\n",
    "    thispatch.set_facecolor(color)\n",
    "\n",
    "plt.title('Naive', size=20)\n",
    "plt.xlabel(\"Difference of Naive - True\")\n",
    "\n",
    "# Show plot\n",
    "plt.show()"
   ],
   "outputs": [
    {
     "output_type": "display_data",
     "data": {
      "image/png": "[encoded data removed]",
      "text/plain": [
       "<Figure size 432x288 with 1 Axes>"
      ]
     },
     "metadata": {
      "needs_background": "light"
     }
    }
   ],
   "metadata": {}
  },
  {
   "cell_type": "markdown",
   "source": [
    "## 1.2 Simulation design B=100"
   ],
   "metadata": {}
  },
  {
   "cell_type": "code",
   "execution_count": 7,
   "source": [
    "np.random.seed(0)\n",
    "B = 100\n",
    "Naive = np.zeros( B )\n",
    "Orthogonal = np.zeros( B )"
   ],
   "outputs": [],
   "metadata": {}
  },
  {
   "cell_type": "code",
   "execution_count": 8,
   "source": [
    "for i in range( 0, B ):\n",
    "    n = 100\n",
    "    p = 100\n",
    "    beta = ( 1 / (np.arange( 1, p + 1 ) ** 2 ) ).reshape( p , 1 )\n",
    "    gamma = ( 1 / (np.arange( 1, p + 1 ) ** 2 ) ).reshape( p , 1 )\n",
    "\n",
    "    mean = 0\n",
    "    sd = 1\n",
    "    X = np.random.normal( mean , sd, n * p ).reshape( n, p )\n",
    "\n",
    "    D = ( X @ gamma ) + np.random.normal( mean , sd, n ).reshape( n, 1 )/4 \n",
    "    \n",
    "    # DGP \n",
    "    Y = 5*D + ( X @ beta ) + np.random.normal( mean , sd, n ).reshape( n, 1 )\n",
    "    # single selection method\n",
    "    r_lasso_estimation = hdmpy.rlasso( np.concatenate( ( D , X ) , axis  =  1 ) , Y , post = True ) # Regress main equation by lasso\n",
    "\n",
    "    coef_array = r_lasso_estimation.est[ 'coefficients' ].iloc[ 2:, :].to_numpy()    # Get \"X\" coefficients \n",
    "\n",
    "    SX_IDs = np.where( coef_array != 0 )[0]\n",
    "\n",
    "    # In case all X coefficients are zero, then regress Y on D\n",
    "    if sum(SX_IDs) == 0 : \n",
    "        Naive[ i ] = sm.OLS( Y , sm.add_constant(D) ).fit().summary2().tables[1].round(3).iloc[ 1, 0 ] \n",
    "\n",
    "    # Otherwise, then regress Y on X and D (but only in the selected coefficients)\n",
    "    elif sum( SX_IDs ) > 0 :\n",
    "        X_D = np.concatenate( ( D, X[:, SX_IDs ] ) , axis = 1 )\n",
    "        Naive[ i ] = sm.OLS( Y , sm.add_constant( X_D ) ).fit().summary2().tables[1].round(3).iloc[ 1, 0]\n",
    "        \n",
    "    # Regress residuals. \n",
    "    resY = hdmpy.rlasso( X , Y , post = False ).est[ 'residuals' ]\n",
    "    resD = hdmpy.rlasso( X , D , post = False ).est[ 'residuals' ]\n",
    "    Orthogonal[ i ] = sm.OLS( resY , sm.add_constant( resD ) ).fit().summary2().tables[1].round(3).iloc[ 1, 0]"
   ],
   "outputs": [],
   "metadata": {}
  },
  {
   "cell_type": "code",
   "execution_count": 9,
   "source": [
    "Orto_breaks = [-1.2, -1, -0.8, -0.6, -0.4, -0.2, 0, 0.2, 0.4, 0.6, 0.8, 1, 1.2, 1.4, 1.6, 1.8, 2]\n",
    "Naive_breaks = [-0.6, -0.4, -0.2, 0, 0.2, 0.4, 0.6, 0.8, 1, 1.2]"
   ],
   "outputs": [],
   "metadata": {}
  },
  {
   "cell_type": "code",
   "execution_count": 10,
   "source": [
    "# Create histogram\n",
    "fig, axs = plt.subplots(1, 1, sharex= True, tight_layout=True)\n",
    "\n",
    "N, bins, patches = axs.hist( Orthogonal - 5 , range = (-2, 2), density = True , bins = Orto_breaks)\n",
    "\n",
    "fracs = ((N**(1 / 5)) / N.max())\n",
    "norm = colors.Normalize(fracs.min(), fracs.max())\n",
    " \n",
    "for thisfrac, thispatch in zip(fracs, patches):\n",
    "    color = plt.cm.viridis(norm(thisfrac))\n",
    "    thispatch.set_facecolor(color)\n",
    "\n",
    "plt.title('Orthogonal', size=20)\n",
    "plt.xlabel(\"Difference of Orhtogonal - True\")\n",
    "\n",
    "plt.show()"
   ],
   "outputs": [
    {
     "output_type": "display_data",
     "data": {
      "image/png": "[encoded data removed]",
      "text/plain": [
       "<Figure size 432x288 with 1 Axes>"
      ]
     },
     "metadata": {
      "needs_background": "light"
     }
    }
   ],
   "metadata": {}
  },
  {
   "cell_type": "code",
   "execution_count": 11,
   "source": [
    "# Create histogram\n",
    "fig, axs = plt.subplots(1, 1, sharex= True, tight_layout=True)\n",
    "\n",
    "N, bins, patches = axs.hist( Naive - 5, range = (-2, 2), density = True , bins = Naive_breaks)\n",
    "\n",
    "fracs = ((N**(1 /5 )) / N.max())\n",
    "norm = colors.Normalize(fracs.min(), fracs.max())\n",
    " \n",
    "for thisfrac, thispatch in zip(fracs, patches):\n",
    "    color = plt.cm.viridis(norm(thisfrac))\n",
    "    thispatch.set_facecolor(color)\n",
    "\n",
    "plt.title('Naive', size=20)\n",
    "plt.xlabel(\"Difference of Naive - True\")\n",
    "\n",
    "plt.show()"
   ],
   "outputs": [
    {
     "output_type": "display_data",
     "data": {
      "image/png": "[encoded data removed]",
      "text/plain": [
       "<Figure size 432x288 with 1 Axes>"
      ]
     },
     "metadata": {
      "needs_background": "light"
     }
    }
   ],
   "metadata": {}
  },
  {
   "cell_type": "markdown",
   "source": [
    "## 1.3 Simulation design B=1000"
   ],
   "metadata": {}
  },
  {
   "cell_type": "code",
   "execution_count": 12,
   "source": [
    "np.random.seed(0)\n",
    "B = 1000\n",
    "Naive = np.zeros( B )\n",
    "Orthogonal = np.zeros( B )"
   ],
   "outputs": [],
   "metadata": {}
  },
  {
   "cell_type": "code",
   "execution_count": 13,
   "source": [
    "for i in range( 0, B ):\n",
    "    n = 100\n",
    "    p = 100\n",
    "    beta = ( 1 / (np.arange( 1, p + 1 ) ** 2 ) ).reshape( p , 1 )\n",
    "    gamma = ( 1 / (np.arange( 1, p + 1 ) ** 2 ) ).reshape( p , 1 )\n",
    "\n",
    "    mean = 0\n",
    "    sd = 1\n",
    "    X = np.random.normal( mean , sd, n * p ).reshape( n, p )\n",
    "\n",
    "    D = ( X @ gamma ) + np.random.normal( mean , sd, n ).reshape( n, 1 )/4 \n",
    "    \n",
    "    # DGP \n",
    "    Y = 5*D + ( X @ beta ) + np.random.normal( mean , sd, n ).reshape( n, 1 )\n",
    "    # single selection method\n",
    "    r_lasso_estimation = hdmpy.rlasso( np.concatenate( ( D , X ) , axis  =  1 ) , Y , post = True ) # Regress main equation by lasso\n",
    "\n",
    "    coef_array = r_lasso_estimation.est[ 'coefficients' ].iloc[ 2:, :].to_numpy()    # Get \"X\" coefficients \n",
    "\n",
    "    SX_IDs = np.where( coef_array != 0 )[0]\n",
    "\n",
    "    # In case all X coefficients are zero, then regress Y on D\n",
    "    if sum(SX_IDs) == 0 : \n",
    "        Naive[ i ] = sm.OLS( Y , sm.add_constant(D) ).fit().summary2().tables[1].round(3).iloc[ 1, 0 ] \n",
    "\n",
    "    # Otherwise, then regress Y on X and D (but only in the selected coefficients)\n",
    "    elif sum( SX_IDs ) > 0 :\n",
    "        X_D = np.concatenate( ( D, X[:, SX_IDs ] ) , axis = 1 )\n",
    "        Naive[ i ] = sm.OLS( Y , sm.add_constant( X_D ) ).fit().summary2().tables[1].round(3).iloc[ 1, 0]\n",
    "\n",
    "    # In both cases we save D coefficient\n",
    "        \n",
    "    # Regress residuals. \n",
    "    resY = hdmpy.rlasso( X , Y , post = False ).est[ 'residuals' ]\n",
    "    resD = hdmpy.rlasso( X , D , post = False ).est[ 'residuals' ]\n",
    "    Orthogonal[ i ] = sm.OLS( resY , sm.add_constant( resD ) ).fit().summary2().tables[1].round(3).iloc[ 1, 0]\n",
    "\n"
   ],
   "outputs": [],
   "metadata": {}
  },
  {
   "cell_type": "code",
   "execution_count": 14,
   "source": [
    "Orto_breaks = [-1.2, -1, -0.8, -0.6, -0.4, -0.2, 0, 0.2, 0.4, 0.6, 0.8, 1, 1.2, 1.4, 1.6, 1.8, 2]\n",
    "Naive_breaks = [-0.6, -0.4, -0.2, 0, 0.2, 0.4, 0.6, 0.8, 1, 1.2]"
   ],
   "outputs": [],
   "metadata": {}
  },
  {
   "cell_type": "code",
   "execution_count": 15,
   "source": [
    "# Create histogram\n",
    "fig, axs = plt.subplots(1, 1, sharex= True, tight_layout=True)\n",
    "\n",
    "N, bins, patches = axs.hist( Orthogonal - 5 , range = (-2, 2), density = True , bins = Orto_breaks)\n",
    "\n",
    "fracs = ((N**(1 / 5)) / N.max())\n",
    "norm = colors.Normalize(fracs.min(), fracs.max())\n",
    " \n",
    "for thisfrac, thispatch in zip(fracs, patches):\n",
    "    color = plt.cm.viridis(norm(thisfrac))\n",
    "    thispatch.set_facecolor(color)\n",
    "\n",
    "plt.title('Orthogonal', size=20)\n",
    "plt.xlabel(\"Difference of Orhtogonal - True\")\n",
    "\n",
    "plt.show()"
   ],
   "outputs": [
    {
     "output_type": "display_data",
     "data": {
      "image/png": "[encoded data removed]",
      "text/plain": [
       "<Figure size 432x288 with 1 Axes>"
      ]
     },
     "metadata": {
      "needs_background": "light"
     }
    }
   ],
   "metadata": {}
  },
  {
   "cell_type": "code",
   "execution_count": 16,
   "source": [
    "# Create\n",
    "fig, axs = plt.subplots(1, 1, sharex= True, tight_layout=True)\n",
    "\n",
    "# Create histogram\n",
    "N, bins, patches = axs.hist( Naive - 5, range = (-2, 2), density = True , bins = Naive_breaks)\n",
    "\n",
    "fracs = ((N**(11 /12 )) / N.max())\n",
    "norm = colors.Normalize(fracs.min(), fracs.max())\n",
    " \n",
    "for thisfrac, thispatch in zip(fracs, patches):\n",
    "    color = plt.cm.viridis(norm(thisfrac))\n",
    "    thispatch.set_facecolor(color)\n",
    "\n",
    "plt.title('Naive', size=20)\n",
    "plt.xlabel(\"Difference of Naive - True\")\n",
    "\n",
    "# Show plot\n",
    "plt.show()"
   ],
   "outputs": [
    {
     "output_type": "display_data",
     "data": {
      "image/png": "[encoded data removed]",
      "text/plain": [
       "<Figure size 432x288 with 1 Axes>"
      ]
     },
     "metadata": {
      "needs_background": "light"
     }
    }
   ],
   "metadata": {}
  },
  {
   "cell_type": "markdown",
   "source": [
    "# CONCLUSIONS"
   ],
   "metadata": {}
  },
  {
   "cell_type": "markdown",
   "source": [
    "#### Explain what do you see in the distribution of the histograms. Where the orthogonal and Naive should be centered?\n",
    "In the orthogonal figure, the distribution is converging to 0 meanwhile in the naive figure we have that the graphic is skewed to the right. If we increase the number of trials, in the orthogonal case we have the data looks more like a normal distribution but in the naive the data tend more to the right. "
   ],
   "metadata": {}
  },
  {
   "cell_type": "markdown",
   "source": [
    "#### Why does this happen? Give an econometric explanation of this.\n",
    "Neyman Orthogonality\n",
    "\n",
    "$ D = \\vartheta_n\\alpha(\\eta^0) = 0 $ , $\\vartheta_nM(\\alpha, \\eta^0) = 0 $ \n",
    "\n",
    "Neyman's orthogonality holds that the estimated coefficient $(\\ alpha)$ of the treatment depends on the coefficients estimated via partialing-out. That is, $\\ alpha$ is insensitive to changes in the estimated coefficients via partialing-out.\n",
    "\n",
    "Taking into account the concept of orthogonality, the estimation of the treatment coefficient using a double lasso via partialling-out model generates an estimated coefficient with a lower standard error, since this is more similar to the population coefficient. This is because in the second step of the partialling-out algorithm the treatment (D) is cleaned of all possible effects of D. In this sense, the coefficient estimated via partialling-out closely resembles the population parameter and complies with Neyman's orthogonality. However, the naive method generates a less precise estimated coefficient than the previous method, because although it uses laso and ols regression, it does not clean up the effects of X on D. This difference in the estimated coefficients can be observed in the histogram distributions for the following trials."
   ],
   "metadata": {}
  },
  {
   "cell_type": "markdown",
   "source": [
    "# Question 2"
   ],
   "metadata": {}
  },
  {
   "cell_type": "markdown",
   "source": [
    "## Double-Lasso Approach\n",
    "We have some problems running regressions with many candidate predictors. Finding a model that helps us make decisions about which variables will be interesting and which ones is not a delicate task. Therefore, the main objective is to find a suitable model.\n",
    "\n",
    "One of them is related to DOUBLE-LASSO models, its method combines a regression model with a process of contractions of some parameters to zero and imposes a restriction or penalty on the regression coefficients, to select variables by two step, finding those that predict the dependent variable and those relative to independent variable. This is important, because exclusion of a covariate that is a modest predictor of the dependent variable but strong predictor of the independent variable can create a substantial omitted variable bias.Also, it helps to make test of randomization.\n",
    "\n",
    "In the following lines, the explanation about Lasso's steps will be explained according to the article \"Using double-loop regression for the selection of principle variables\" by Urminsky, Hansen and Chernozhukov,\n",
    "\n",
    "First, they estimate a linear regression model, because they want to find parameters that minimize the sum of squared errors in the regression equation:\n",
    "\n",
    "$$\n",
    " Y_i= \\beta_{0} + \\beta_{1}X_i +  \\beta_{2}W_i1+...+ \\beta_{k+1}W_ik+e_{i}\\\n",
    "$$\n",
    "\n",
    "A lasso regression find parameters which minimize the sum of squared errors in the regression equation with an additional penalty term:\n",
    "\n",
    "$$\n",
    "Min [\\sum_{i}(Y_i - \\beta_{0} + \\beta_{1}X_i +  \\beta_{2}W_i1+...+ \\beta_{k+1}W_ik)^2 + \\lambda \\sum_{k}|\\beta_{k}|\n",
    "$$\n",
    "\n",
    "The penalty term helps reduce the estimated regression coefficients to zero, and some are exactly zero, reducing the over-fitting. By setting some coefficients to zero, you also perform variable selection. Loop regression can be used when the number of observations is smaller than the number of predictors. However, we could omit important variables with nonzero coefficients and underestimate some nonzero coefficients. It would be a bias in the model. In this case, it is necessary to use the \"double lasso\" to select variables and alleviate both sources of bias.\n",
    "\n",
    "Step 1:Fit a lasso regression predicting the dependent variable, and keeping track of the variables with non-zero estimated coefficients:\n",
    "\n",
    "$$\n",
    "Y_i= \\alpha_{0} + \\alpha_{1}W_i1 +...+ \\alpha_{k}W_ik+e_{i}\\\n",
    "$$\n",
    "\n",
    "Step 2: Fit a lasso regression predicting the focal independent variable, keeping track of the variables with non-zero estimated coefficients:\n",
    "\n",
    "$$\n",
    "X_i= \\phi_{0} + \\phi_{1}W_i1 +...+ \\phi_{k}W_ik+e_{i}\\\n",
    "$$\n",
    "\n",
    "If Xi is an effectively randomized treatment, no covariates should be selected in this step.\n",
    "\n",
    "Step 3: Fit a linear regression of the dependent variable on the focal independent variable, including the covariates (Wik) selected in either of the first two steps\n",
    "\n",
    "$$\n",
    "Y_i= \\alpha_{0} + \\alpha_{1}W_i1 + \\sum_{k \\in A} \\beta_{k+1}+...+ \\alpha_{k}W_ik+e_{i}\\\n",
    "$$\n",
    "\n",
    "In the equation, A is the union of the variables estimated to have non-zero coefficients in Steps 1 and 2. This regression could also include a small set of additional covariates identified a priori as necessary. Interpret and report the coefficient estimates and significance tests on the focal variable(s) as the final results. So, lambda is important to avoid over-fitting."
   ],
   "metadata": {}
  },
  {
   "cell_type": "markdown",
   "source": [
    "# Testing the Convergence Hypothesis"
   ],
   "metadata": {}
  },
  {
   "cell_type": "markdown",
   "source": [
    "## Introduction"
   ],
   "metadata": {}
  },
  {
   "cell_type": "markdown",
   "source": [
    "We provide an additional empirical example of partialling-out with Lasso to estimate the regression coefficient $\\beta_1$ in the high-dimensional linear regression model:\n",
    "  $$\n",
    "  Y = \\beta_1 D +  \\beta_2'W + \\epsilon.\n",
    "  $$\n",
    "  \n",
    "Specifically, we are interested in how the rates  at which economies of different countries grow ($Y$) are related to the initial wealth levels in each country ($D$) controlling for country's institutional, educational, and other similar characteristics ($W$).\n",
    "  \n",
    "The relationship is captured by $\\beta_1$, the *speed of convergence/divergence*, which measures the speed at which poor countries catch up $(\\beta_1< 0)$ or fall behind $(\\beta_1> 0)$ rich countries, after controlling for $W$. Our inference question here is: do poor countries grow faster than rich countries, controlling for educational and other characteristics? In other words, is the speed of convergence negative: $ \\beta_1 <0?$ This is the Convergence Hypothesis predicted by the Solow Growth Model. This is a structural economic model. Under some strong assumptions, that we won't state here, the predictive exercise we are doing here can be given causal interpretation.\n"
   ],
   "metadata": {}
  },
  {
   "cell_type": "markdown",
   "source": [
    "The outcome $Y$ is the realized annual growth rate of a country's wealth  (Gross Domestic Product per capita). The target regressor ($D$) is the initial level of the country's wealth. The target parameter $\\beta_1$ is the speed of convergence, which measures the speed at which poor countries catch up with rich countries. The controls ($W$) include measures of education levels, quality of institutions, trade openness, and political stability in the country."
   ],
   "metadata": {}
  },
  {
   "cell_type": "markdown",
   "source": [
    "## Data analysis\n"
   ],
   "metadata": {}
  },
  {
   "cell_type": "markdown",
   "source": [
    "We consider the data set GrowthData which is included in the package *hdm*. First, let us load the data set to get familiar with the data."
   ],
   "metadata": {}
  },
  {
   "cell_type": "code",
   "execution_count": 17,
   "source": [
    "import hdmpy\n",
    "import pandas as pd\n",
    "import numpy as np\n",
    "import pyreadr\n",
    "import math\n",
    "import matplotlib.pyplot as plt\n",
    "import random"
   ],
   "outputs": [],
   "metadata": {}
  },
  {
   "cell_type": "code",
   "execution_count": 18,
   "source": [
    "# I downloaded the data that the author used\n",
    "growth_read = pyreadr.read_r(\"C:/Users/edfra/OneDrive/Documentos/GitHub/ECO224/Labs/data/GrowthData.RData\")\n",
    "\n",
    "# Extracting the data frame from rdata_read\n",
    "growth = growth_read[ 'GrowthData' ]\n",
    "list(growth)"
   ],
   "outputs": [
    {
     "output_type": "execute_result",
     "data": {
      "text/plain": [
       "['Outcome',\n",
       " 'intercept',\n",
       " 'gdpsh465',\n",
       " 'bmp1l',\n",
       " 'freeop',\n",
       " 'freetar',\n",
       " 'h65',\n",
       " 'hm65',\n",
       " 'hf65',\n",
       " 'p65',\n",
       " 'pm65',\n",
       " 'pf65',\n",
       " 's65',\n",
       " 'sm65',\n",
       " 'sf65',\n",
       " 'fert65',\n",
       " 'mort65',\n",
       " 'lifee065',\n",
       " 'gpop1',\n",
       " 'fert1',\n",
       " 'mort1',\n",
       " 'invsh41',\n",
       " 'geetot1',\n",
       " 'geerec1',\n",
       " 'gde1',\n",
       " 'govwb1',\n",
       " 'govsh41',\n",
       " 'gvxdxe41',\n",
       " 'high65',\n",
       " 'highm65',\n",
       " 'highf65',\n",
       " 'highc65',\n",
       " 'highcm65',\n",
       " 'highcf65',\n",
       " 'human65',\n",
       " 'humanm65',\n",
       " 'humanf65',\n",
       " 'hyr65',\n",
       " 'hyrm65',\n",
       " 'hyrf65',\n",
       " 'no65',\n",
       " 'nom65',\n",
       " 'nof65',\n",
       " 'pinstab1',\n",
       " 'pop65',\n",
       " 'worker65',\n",
       " 'pop1565',\n",
       " 'pop6565',\n",
       " 'sec65',\n",
       " 'secm65',\n",
       " 'secf65',\n",
       " 'secc65',\n",
       " 'seccm65',\n",
       " 'seccf65',\n",
       " 'syr65',\n",
       " 'syrm65',\n",
       " 'syrf65',\n",
       " 'teapri65',\n",
       " 'teasec65',\n",
       " 'ex1',\n",
       " 'im1',\n",
       " 'xr65',\n",
       " 'tot1']"
      ]
     },
     "metadata": {},
     "execution_count": 18
    }
   ],
   "metadata": {}
  },
  {
   "cell_type": "markdown",
   "source": [
    "We determine the dimension of our data set."
   ],
   "metadata": {}
  },
  {
   "cell_type": "code",
   "execution_count": 19,
   "source": [
    "growth.shape"
   ],
   "outputs": [
    {
     "output_type": "execute_result",
     "data": {
      "text/plain": [
       "(90, 63)"
      ]
     },
     "metadata": {},
     "execution_count": 19
    }
   ],
   "metadata": {}
  },
  {
   "cell_type": "markdown",
   "source": [
    "The sample contains $90$ countries and $63$ controls. Thus $p \\approx 60$, $n=90$ and $p/n$ is not small. We expect the least squares method to provide a poor estimate of $\\beta_1$.  We expect the method based on partialling-out with Lasso to provide a high quality estimate of $\\beta_1$."
   ],
   "metadata": {
    "papermill": {
     "duration": 0.025013,
     "end_time": "2021-01-20T08:46:45.109042",
     "exception": false,
     "start_time": "2021-01-20T08:46:45.084029",
     "status": "completed"
    },
    "tags": []
   }
  },
  {
   "cell_type": "markdown",
   "source": [
    "To check this hypothesis, we analyze the relation between the output variable $Y$ and the other country's characteristics by running a linear regression in the first step."
   ],
   "metadata": {
    "papermill": {
     "duration": 0.024124,
     "end_time": "2021-01-20T08:46:45.157510",
     "exception": false,
     "start_time": "2021-01-20T08:46:45.133386",
     "status": "completed"
    },
    "tags": []
   }
  },
  {
   "cell_type": "code",
   "execution_count": 20,
   "source": [
    "import statsmodels.api as sm\n",
    "import statsmodels.formula.api as smf"
   ],
   "outputs": [],
   "metadata": {}
  },
  {
   "cell_type": "code",
   "execution_count": 21,
   "source": [
    "# We create the main variables\n",
    "y = growth['Outcome']\n",
    "X = growth.drop('Outcome', 1)"
   ],
   "outputs": [],
   "metadata": {}
  },
  {
   "cell_type": "code",
   "execution_count": 22,
   "source": [
    "# OLS regression\n",
    "reg_ols  = sm.OLS(y, X).fit()\n",
    "print(reg_ols.summary())"
   ],
   "outputs": [
    {
     "output_type": "stream",
     "name": "stdout",
     "text": [
      "                            OLS Regression Results                            \n",
      "==============================================================================\n",
      "Dep. Variable:                Outcome   R-squared:                       0.887\n",
      "Model:                            OLS   Adj. R-squared:                  0.641\n",
      "Method:                 Least Squares   F-statistic:                     3.607\n",
      "Date:                Fri, 08 Oct 2021   Prob (F-statistic):           0.000200\n",
      "Time:                        17:37:08   Log-Likelihood:                 238.24\n",
      "No. Observations:                  90   AIC:                            -352.5\n",
      "Df Residuals:                      28   BIC:                            -197.5\n",
      "Df Model:                          61                                         \n",
      "Covariance Type:            nonrobust                                         \n",
      "==============================================================================\n",
      "                 coef    std err          t      P>|t|      [0.025      0.975]\n",
      "------------------------------------------------------------------------------\n",
      "intercept      0.2472      0.785      0.315      0.755      -1.360       1.854\n",
      "gdpsh465      -0.0094      0.030     -0.314      0.756      -0.071       0.052\n",
      "bmp1l         -0.0689      0.033     -2.117      0.043      -0.135      -0.002\n",
      "freeop         0.0801      0.208      0.385      0.703      -0.346       0.506\n",
      "freetar       -0.4890      0.418     -1.169      0.252      -1.346       0.368\n",
      "h65           -2.3621      0.857     -2.755      0.010      -4.118      -0.606\n",
      "hm65           0.7071      0.523      1.352      0.187      -0.364       1.779\n",
      "hf65           1.6934      0.503      3.365      0.002       0.663       2.724\n",
      "p65            0.2655      0.164      1.616      0.117      -0.071       0.602\n",
      "pm65           0.1370      0.151      0.906      0.373      -0.173       0.447\n",
      "pf65          -0.3313      0.165     -2.006      0.055      -0.670       0.007\n",
      "s65            0.0391      0.186      0.211      0.835      -0.341       0.419\n",
      "sm65          -0.0307      0.117     -0.263      0.795      -0.270       0.209\n",
      "sf65          -0.1799      0.118     -1.523      0.139      -0.422       0.062\n",
      "fert65         0.0069      0.027      0.254      0.801      -0.049       0.062\n",
      "mort65        -0.2335      0.817     -0.286      0.777      -1.908       1.441\n",
      "lifee065      -0.0149      0.193     -0.077      0.939      -0.411       0.381\n",
      "gpop1          0.9702      1.812      0.535      0.597      -2.742       4.682\n",
      "fert1          0.0088      0.035      0.252      0.803      -0.063       0.081\n",
      "mort1          0.0666      0.685      0.097      0.923      -1.336       1.469\n",
      "invsh41        0.0745      0.108      0.687      0.498      -0.148       0.297\n",
      "geetot1       -0.7151      1.680     -0.426      0.674      -4.157       2.726\n",
      "geerec1        0.6300      2.447      0.257      0.799      -4.383       5.643\n",
      "gde1          -0.4436      1.671     -0.265      0.793      -3.867       2.980\n",
      "govwb1         0.3375      0.438      0.770      0.447      -0.560       1.235\n",
      "govsh41        0.4632      1.925      0.241      0.812      -3.481       4.407\n",
      "gvxdxe41      -0.7934      2.059     -0.385      0.703      -5.012       3.425\n",
      "high65        -0.7525      0.906     -0.831      0.413      -2.608       1.103\n",
      "highm65       -0.3903      0.681     -0.573      0.571      -1.786       1.005\n",
      "highf65       -0.4177      0.561     -0.744      0.463      -1.568       0.732\n",
      "highc65       -2.2158      1.481     -1.496      0.146      -5.249       0.818\n",
      "highcm65       0.2797      0.658      0.425      0.674      -1.069       1.628\n",
      "highcf65       0.3921      0.766      0.512      0.613      -1.177       1.961\n",
      "human65        2.3373      3.307      0.707      0.486      -4.437       9.112\n",
      "humanm65      -1.2092      1.619     -0.747      0.461      -4.525       2.106\n",
      "humanf65      -1.1039      1.685     -0.655      0.518      -4.555       2.347\n",
      "hyr65         54.9139     23.887      2.299      0.029       5.983     103.845\n",
      "hyrm65        12.9350     23.171      0.558      0.581     -34.529      60.400\n",
      "hyrf65         9.0926     17.670      0.515      0.611     -27.102      45.287\n",
      "no65           0.0372      0.132      0.282      0.780      -0.233       0.308\n",
      "nom65         -0.0212      0.065     -0.326      0.747      -0.154       0.112\n",
      "nof65         -0.0169      0.067     -0.252      0.803      -0.154       0.120\n",
      "pinstab1      -0.0500      0.031     -1.616      0.117      -0.113       0.013\n",
      "pop65       1.032e-07   1.32e-07      0.783      0.440   -1.67e-07    3.73e-07\n",
      "worker65       0.0341      0.156      0.218      0.829      -0.286       0.354\n",
      "pop1565       -0.4655      0.471     -0.988      0.332      -1.431       0.500\n",
      "pop6565       -1.3575      0.635     -2.138      0.041      -2.658      -0.057\n",
      "sec65         -0.0109      0.308     -0.035      0.972      -0.641       0.619\n",
      "secm65         0.0033      0.151      0.022      0.983      -0.306       0.313\n",
      "secf65        -0.0023      0.158     -0.015      0.988      -0.326       0.321\n",
      "secc65        -0.4915      0.729     -0.674      0.506      -1.985       1.002\n",
      "seccm65        0.2596      0.356      0.730      0.471      -0.469       0.988\n",
      "seccf65        0.2207      0.373      0.591      0.559      -0.544       0.985\n",
      "syr65         -0.7556      7.977     -0.095      0.925     -17.095      15.584\n",
      "syrm65         0.3109      3.897      0.080      0.937      -7.671       8.293\n",
      "syrf65         0.7593      4.111      0.185      0.855      -7.661       9.180\n",
      "teapri65    3.955e-05      0.001      0.051      0.959      -0.002       0.002\n",
      "teasec65       0.0002      0.001      0.213      0.833      -0.002       0.003\n",
      "ex1           -0.5804      0.242     -2.400      0.023      -1.076      -0.085\n",
      "im1            0.5914      0.250      2.363      0.025       0.079       1.104\n",
      "xr65          -0.0001   5.42e-05     -1.916      0.066      -0.000    7.18e-06\n",
      "tot1          -0.1279      0.113     -1.136      0.266      -0.359       0.103\n",
      "==============================================================================\n",
      "Omnibus:                        0.439   Durbin-Watson:                   1.982\n",
      "Prob(Omnibus):                  0.803   Jarque-Bera (JB):                0.417\n",
      "Skew:                           0.158   Prob(JB):                        0.812\n",
      "Kurtosis:                       2.896   Cond. No.                     7.52e+08\n",
      "==============================================================================\n",
      "\n",
      "Notes:\n",
      "[1] Standard Errors assume that the covariance matrix of the errors is correctly specified.\n",
      "[2] The condition number is large, 7.52e+08. This might indicate that there are\n",
      "strong multicollinearity or other numerical problems.\n"
     ]
    }
   ],
   "metadata": {}
  },
  {
   "cell_type": "code",
   "execution_count": 23,
   "source": [
    "# output: estimated regression coefficient corresponding to the target regressor\n",
    "est_ols = reg_ols.summary2().tables[1]['Coef.']['gdpsh465']\n",
    "\n",
    "# output: std. error\n",
    "std_ols = reg_ols.summary2().tables[1]['Std.Err.']['gdpsh465']\n",
    "\n",
    "# output: 95% confidence interval\n",
    "lower_ci = reg_ols.summary2().tables[1]['[0.025']['gdpsh465']\n",
    "upper_ci = reg_ols.summary2().tables[1]['0.975]']['gdpsh465']"
   ],
   "outputs": [],
   "metadata": {}
  },
  {
   "cell_type": "markdown",
   "source": [
    "## Summarize OLS results"
   ],
   "metadata": {}
  },
  {
   "cell_type": "code",
   "execution_count": 24,
   "source": [
    "table_1 = np.zeros( (1, 4) )\n",
    "\n",
    "table_1[0,0] = est_ols  \n",
    "table_1[0,1] = std_ols   \n",
    "table_1[0,2] = lower_ci\n",
    "table_1[0,3] = upper_ci    \n",
    "\n",
    "\n",
    "table_1_pandas = pd.DataFrame( table_1, columns = [ \"Estimator\",\"Std. Error\", \"lower bound CI\", \"upper bound CI\"  ])\n",
    "table_1_pandas.index = [ \"OLS\" ]\n",
    "table_1_html = table_1_pandas.to_html()\n",
    "table_1_html"
   ],
   "outputs": [
    {
     "output_type": "execute_result",
     "data": {
      "text/plain": [
       "'<table border=\"1\" class=\"dataframe\">\\n  <thead>\\n    <tr style=\"text-align: right;\">\\n      <th></th>\\n      <th>Estimator</th>\\n      <th>Std. Error</th>\\n      <th>lower bound CI</th>\\n      <th>upper bound CI</th>\\n    </tr>\\n  </thead>\\n  <tbody>\\n    <tr>\\n      <th>OLS</th>\\n      <td>-0.009378</td>\\n      <td>0.029888</td>\\n      <td>-0.0706</td>\\n      <td>0.051844</td>\\n    </tr>\\n  </tbody>\\n</table>'"
      ]
     },
     "metadata": {},
     "execution_count": 24
    }
   ],
   "metadata": {}
  },
  {
   "cell_type": "markdown",
   "source": [
    "<!-- html table generated in R 3.6.3 by xtable 1.8-4 package -->\n",
    "<!-- Tue Jan 19 10:23:32 2021 -->\n",
    "<table border=1>\n",
    "<tr> <th>  </th> <th> estimator </th> <th> standard error </th> <th> lower bound CI </th> <th> upper bound CI </th>  </tr>\n",
    "  <tr> <td align=\"right\"> OLS </td> <td align=\"right\"> -0.009 </td> <td align=\"right\"> 0.030 </td> <td align=\"right\"> -0.071 </td> <td align=\"right\"> 0.052 </td> </tr>\n",
    "   </table>"
   ],
   "metadata": {}
  },
  {
   "cell_type": "markdown",
   "source": [
    "Least squares provides a rather noisy estimate (high standard error) of the\n",
    "speed of convergence, and does not allow us to answer the question\n",
    "about the convergence hypothesis since the confidence interval includes zero."
   ],
   "metadata": {}
  },
  {
   "cell_type": "code",
   "execution_count": 25,
   "source": [
    "# Create main variables\n",
    "Y = growth['Outcome']\n",
    "W = growth.drop(['Outcome','intercept', 'gdpsh465'], 1 )\n",
    "D = growth['gdpsh465']"
   ],
   "outputs": [],
   "metadata": {}
  },
  {
   "cell_type": "code",
   "execution_count": 26,
   "source": [
    "W.shape"
   ],
   "outputs": [
    {
     "output_type": "execute_result",
     "data": {
      "text/plain": [
       "(90, 60)"
      ]
     },
     "metadata": {},
     "execution_count": 26
    }
   ],
   "metadata": {}
  },
  {
   "cell_type": "code",
   "execution_count": 27,
   "source": [
    "Y.shape"
   ],
   "outputs": [
    {
     "output_type": "execute_result",
     "data": {
      "text/plain": [
       "(90,)"
      ]
     },
     "metadata": {},
     "execution_count": 27
    }
   ],
   "metadata": {}
  },
  {
   "cell_type": "code",
   "execution_count": 28,
   "source": [
    "D.shape"
   ],
   "outputs": [
    {
     "output_type": "execute_result",
     "data": {
      "text/plain": [
       "(90,)"
      ]
     },
     "metadata": {},
     "execution_count": 28
    }
   ],
   "metadata": {}
  },
  {
   "cell_type": "markdown",
   "source": [
    "## Double LASSO using cross Validation (Using Sklearn)"
   ],
   "metadata": {}
  },
  {
   "cell_type": "markdown",
   "source": [
    "Now, we are going to use sample splitting approach:"
   ],
   "metadata": {}
  },
  {
   "cell_type": "code",
   "execution_count": 29,
   "source": [
    "from sklearn.model_selection import train_test_split\n",
    "D_train, D_test, Y_train, Y_test, W_train, W_test = train_test_split(D, Y, W, test_size = 0.30)\n",
    "W_train.shape"
   ],
   "outputs": [
    {
     "output_type": "execute_result",
     "data": {
      "text/plain": [
       "(63, 60)"
      ]
     },
     "metadata": {},
     "execution_count": 29
    }
   ],
   "metadata": {}
  },
  {
   "cell_type": "code",
   "execution_count": 30,
   "source": [
    "D_train.shape"
   ],
   "outputs": [
    {
     "output_type": "execute_result",
     "data": {
      "text/plain": [
       "(63,)"
      ]
     },
     "metadata": {},
     "execution_count": 30
    }
   ],
   "metadata": {}
  },
  {
   "cell_type": "code",
   "execution_count": 31,
   "source": [
    "Y_train.shape"
   ],
   "outputs": [
    {
     "output_type": "execute_result",
     "data": {
      "text/plain": [
       "(63,)"
      ]
     },
     "metadata": {},
     "execution_count": 31
    }
   ],
   "metadata": {}
  },
  {
   "cell_type": "code",
   "execution_count": 32,
   "source": [
    "#rom sklearn import model_selection\n",
    "#from sklearn.model_selection import cross_val_score\n",
    "\n",
    "#kfold = model_selection.KFold(n_splits=10)\n",
    "#lr = LogisticRegression()\n",
    "#scoring = 'accuracy'\n",
    "#results = model_selection.cross_val_score(lr, X_train, y_train, cv=kfold, scoring=scoring)\n",
    "#print(\"10-fold cross validation average accuracy: %.3f\" % (results.mean()))\n",
    "#results"
   ],
   "outputs": [],
   "metadata": {}
  },
  {
   "cell_type": "markdown",
   "source": [
    "#### First of all, let's use the $ \\alpha $ = 0.00077 because it is the value that get answers pretty similar in comparison with R"
   ],
   "metadata": {}
  },
  {
   "cell_type": "code",
   "execution_count": 33,
   "source": [
    "from sklearn import linear_model\n",
    "\n",
    "# Seat values for Lasso\n",
    "lasso_model = linear_model.Lasso( alpha = 0.00077 )\n",
    "r_Y = Y_train - lasso_model.fit(W_train,Y_train).predict(W_train)\n",
    "r_Y = r_Y.rename('r_Y')\n",
    "\n",
    "# Part. out d\n",
    "r_D = D_train - lasso_model.fit(W_train,D_train).predict(W_train)\n",
    "r_D = r_D.rename('r_D')\n",
    "\n",
    "# ols \n",
    "partial_lasso_fit = sm.OLS(r_Y, r_D).fit()\n",
    "\n",
    "est_lasso = partial_lasso_fit.summary2().tables[1]['Coef.']['r_D']\n",
    "std_lasso = partial_lasso_fit.summary2().tables[1]['Std.Err.']['r_D']\n",
    "lower_ci_lasso = partial_lasso_fit.summary2().tables[1]['[0.025']['r_D']\n",
    "upper_ci_lasso = partial_lasso_fit.summary2().tables[1]['0.975]']['r_D']"
   ],
   "outputs": [
    {
     "output_type": "stream",
     "name": "stderr",
     "text": [
      "C:\\Users\\edfra\\anaconda3\\lib\\site-packages\\sklearn\\linear_model\\_coordinate_descent.py:530: ConvergenceWarning: Objective did not converge. You might want to increase the number of iterations. Duality gap: 0.00034251659774486853, tolerance: 1.730650793643347e-05\n",
      "  model = cd_fast.enet_coordinate_descent(\n",
      "C:\\Users\\edfra\\anaconda3\\lib\\site-packages\\sklearn\\linear_model\\_coordinate_descent.py:530: ConvergenceWarning: Objective did not converge. You might want to increase the number of iterations. Duality gap: 1.5788188735405806, tolerance: 0.005387656525176694\n",
      "  model = cd_fast.enet_coordinate_descent(\n"
     ]
    }
   ],
   "metadata": {}
  },
  {
   "cell_type": "code",
   "execution_count": 34,
   "source": [
    "# from sklearn import linear_model\n",
    "\n",
    "# # Seat values for Lasso\n",
    "# lasso_model = linear_model.Lasso( alpha = 0.00077 )\n",
    "# r_Y = Y - lasso_model.fit( W, Y ).predict( W )\n",
    "# r_Y = r_Y.rename('r_Y')\n",
    "\n",
    "# # Part. out d\n",
    "# r_D = D - lasso_model.fit( W, D ).predict( W )\n",
    "# r_D = r_D.rename('r_D')\n",
    "\n",
    "# # Regress residuales\n",
    "# partial_lasso_fit = sm.OLS(r_Y, r_D).fit()\n",
    "\n",
    "# # output: estimated regression coefficient corresponding to the target regressor\n",
    "# est_lasso = partial_lasso_fit.summary2().tables[1]['Coef.']['r_D']\n",
    "\n",
    "# # output: std. error\n",
    "# std_lasso = partial_lasso_fit.summary2().tables[1]['Std.Err.']['r_D']\n",
    "\n",
    "# # output: 95% confidence interval\n",
    "# lower_ci_lasso = partial_lasso_fit.summary2().tables[1]['[0.025']['r_D']\n",
    "# upper_ci_lasso = partial_lasso_fit.summary2().tables[1]['0.975]']['r_D']"
   ],
   "outputs": [],
   "metadata": {}
  },
  {
   "cell_type": "code",
   "execution_count": 35,
   "source": [
    "# Regress residuales\n",
    "partial_lasso_fit = sm.OLS(r_Y, r_D).fit()\n",
    "partial_lasso_est = partial_lasso_fit.summary2().tables[1]['Coef.']['r_D']\n",
    "\n",
    "print( f\"Coefficient for D via sample splitting using lasso {partial_lasso_est}\" )"
   ],
   "outputs": [
    {
     "output_type": "stream",
     "name": "stdout",
     "text": [
      "Coefficient for D via sample splitting using lasso -0.03257798527404339\n"
     ]
    }
   ],
   "metadata": {}
  },
  {
   "cell_type": "code",
   "execution_count": 36,
   "source": [
    "# output: estimated regression coefficient corresponding to the target regressor\n",
    "est_lasso_train = partial_lasso_fit.summary2().tables[1]['Coef.']['r_D']\n",
    "\n",
    "# output: std. error\n",
    "std_lasso_train = partial_lasso_fit.summary2().tables[1]['Std.Err.']['r_D']\n",
    "\n",
    "# output: 95% confidence interval\n",
    "lower_ci_lasso_train = partial_lasso_fit.summary2().tables[1]['[0.025']['r_D']\n",
    "upper_ci_lasso_train = partial_lasso_fit.summary2().tables[1]['0.975]']['r_D']"
   ],
   "outputs": [],
   "metadata": {}
  },
  {
   "cell_type": "code",
   "execution_count": 37,
   "source": [
    "r_Y = pd.DataFrame(r_Y)\n",
    "r_D = pd.DataFrame(r_D)"
   ],
   "outputs": [],
   "metadata": {}
  },
  {
   "cell_type": "code",
   "execution_count": 38,
   "source": [
    "from sklearn.linear_model import LinearRegression\n",
    "model = LinearRegression()\n",
    "mymodel = model.fit(r_Y, r_D)"
   ],
   "outputs": [],
   "metadata": {}
  },
  {
   "cell_type": "code",
   "execution_count": 39,
   "source": [
    "# K - fold CV\n",
    "# Importing cross_val score function\n",
    "\n",
    "from sklearn.model_selection import cross_val_score\n",
    "\n",
    "# 5-fold CV\n",
    "scores = cross_val_score(mymodel, W_train, D_train ,Y_train)\n",
    "scores"
   ],
   "outputs": [
    {
     "output_type": "stream",
     "name": "stderr",
     "text": [
      "C:\\Users\\edfra\\anaconda3\\lib\\site-packages\\sklearn\\utils\\validation.py:70: FutureWarning: Pass groups=29    0.076233\n",
      "63   -0.081726\n",
      "6     0.067332\n",
      "1     0.100473\n",
      "34    0.073905\n",
      "        ...   \n",
      "27    0.092106\n",
      "12   -0.024326\n",
      "50    0.090677\n",
      "52    0.050757\n",
      "59    0.034172\n",
      "Name: Outcome, Length: 63, dtype: float64 as keyword args. From version 1.0 (renaming of 0.25) passing these as positional arguments will result in an error\n",
      "  warnings.warn(f\"Pass {args_msg} as keyword args. From version \"\n"
     ]
    },
    {
     "output_type": "execute_result",
     "data": {
      "text/plain": [
       "array([ -0.53161849,   0.59464628,  -1.15138574,   0.31408462,\n",
       "       -10.17847547])"
      ]
     },
     "metadata": {},
     "execution_count": 39
    }
   ],
   "metadata": {}
  },
  {
   "cell_type": "code",
   "execution_count": 40,
   "source": [
    "from sklearn import linear_model\n",
    "\n",
    "# Seat values for Lasso\n",
    "lasso_model = linear_model.Lasso( alpha = 0.00077 )\n",
    "r_Y = Y_test - lasso_model.fit(W_test,Y_test ).predict(W_test)\n",
    "r_Y = r_Y.rename('r_Y')\n",
    "\n",
    "# Part. out d\n",
    "r_D = D_test - lasso_model.fit(W_test,D_test).predict(W_test)\n",
    "r_D = r_D.rename('r_D')\n",
    "\n",
    "# ols \n",
    "partial_lasso_fit = sm.OLS(r_Y, r_D).fit()\n",
    "\n",
    "est_lasso = partial_lasso_fit.summary2().tables[1]['Coef.']['r_D']\n",
    "std_lasso = partial_lasso_fit.summary2().tables[1]['Std.Err.']['r_D']\n",
    "lower_ci_lasso = partial_lasso_fit.summary2().tables[1]['[0.025']['r_D']\n",
    "upper_ci_lasso = partial_lasso_fit.summary2().tables[1]['0.975]']['r_D']"
   ],
   "outputs": [
    {
     "output_type": "stream",
     "name": "stderr",
     "text": [
      "C:\\Users\\edfra\\anaconda3\\lib\\site-packages\\sklearn\\linear_model\\_coordinate_descent.py:530: ConvergenceWarning: Objective did not converge. You might want to increase the number of iterations. Duality gap: 0.009042324543229674, tolerance: 5.526019561078833e-06\n",
      "  model = cd_fast.enet_coordinate_descent(\n",
      "C:\\Users\\edfra\\anaconda3\\lib\\site-packages\\sklearn\\linear_model\\_coordinate_descent.py:530: ConvergenceWarning: Objective did not converge. You might want to increase the number of iterations. Duality gap: 0.23285259590690255, tolerance: 0.0017580204050104266\n",
      "  model = cd_fast.enet_coordinate_descent(\n"
     ]
    }
   ],
   "metadata": {}
  },
  {
   "cell_type": "code",
   "execution_count": 41,
   "source": [
    "r_Y = pd.DataFrame(r_Y)\n",
    "r_D = pd.DataFrame(r_D)"
   ],
   "outputs": [],
   "metadata": {}
  },
  {
   "cell_type": "code",
   "execution_count": 42,
   "source": [
    "from sklearn.linear_model import LinearRegression\n",
    "model = LinearRegression()\n",
    "mymodel = model.fit(r_Y, r_D)"
   ],
   "outputs": [],
   "metadata": {}
  },
  {
   "cell_type": "code",
   "execution_count": 43,
   "source": [
    "# K - fold CV\n",
    "# Importing cross_val score function\n",
    "\n",
    "from sklearn.model_selection import cross_val_score\n",
    "\n",
    "# 5-fold CV\n",
    "pred = cross_val_score(mymodel, W_test, D_test,Y_test)\n",
    "pred"
   ],
   "outputs": [
    {
     "output_type": "stream",
     "name": "stderr",
     "text": [
      "C:\\Users\\edfra\\anaconda3\\lib\\site-packages\\sklearn\\utils\\validation.py:70: FutureWarning: Pass groups=85    0.031196\n",
      "33    0.067852\n",
      "53    0.000408\n",
      "66   -0.011384\n",
      "26    0.109871\n",
      "58    0.011897\n",
      "89    0.040642\n",
      "16    0.036391\n",
      "65    0.066598\n",
      "46    0.045473\n",
      "75    0.040534\n",
      "9     0.039147\n",
      "57    0.014256\n",
      "36    0.065838\n",
      "51   -0.019161\n",
      "2     0.067051\n",
      "77    0.185526\n",
      "72    0.021247\n",
      "11    0.127951\n",
      "15    0.052308\n",
      "64    0.046010\n",
      "74    0.096816\n",
      "20    0.085206\n",
      "23    0.109699\n",
      "28    0.083376\n",
      "81    0.034213\n",
      "14    0.112912\n",
      "Name: Outcome, dtype: float64 as keyword args. From version 1.0 (renaming of 0.25) passing these as positional arguments will result in an error\n",
      "  warnings.warn(f\"Pass {args_msg} as keyword args. From version \"\n"
     ]
    },
    {
     "output_type": "execute_result",
     "data": {
      "text/plain": [
       "array([ -4.37689543,  -0.23091557,  -5.75747793, -33.99628182,\n",
       "         0.65350317])"
      ]
     },
     "metadata": {},
     "execution_count": 43
    }
   ],
   "metadata": {}
  },
  {
   "cell_type": "code",
   "execution_count": 44,
   "source": [
    "# Regress residuales\n",
    "partial_lasso_fit = sm.OLS(r_Y, r_D).fit()\n",
    "partial_lasso_est = partial_lasso_fit.summary2().tables[1]['Coef.']['r_D']\n",
    "\n",
    "print( f\"Coefficient for D via sample splitting using lasso {partial_lasso_est}\" )"
   ],
   "outputs": [
    {
     "output_type": "stream",
     "name": "stdout",
     "text": [
      "Coefficient for D via sample splitting using lasso 0.03115411895838744\n"
     ]
    }
   ],
   "metadata": {}
  },
  {
   "cell_type": "code",
   "execution_count": 45,
   "source": [
    "# output: estimated regression coefficient corresponding to the target regressor\n",
    "est_lasso_test = partial_lasso_fit.summary2().tables[1]['Coef.']['r_D']\n",
    "\n",
    "# output: std. error\n",
    "std_lasso_test = partial_lasso_fit.summary2().tables[1]['Std.Err.']['r_D']\n",
    "\n",
    "# output: 95% confidence interval\n",
    "lower_ci_lasso_test = partial_lasso_fit.summary2().tables[1]['[0.025']['r_D']\n",
    "upper_ci_lasso_test = partial_lasso_fit.summary2().tables[1]['0.975]']['r_D']"
   ],
   "outputs": [],
   "metadata": {}
  },
  {
   "cell_type": "markdown",
   "source": [
    "#### Secondly, let's use the $ \\alpha $ = 0.1  in order to know how $\\beta$ changes in comparison when we use $ \\alpha $ = 0.00077"
   ],
   "metadata": {}
  },
  {
   "cell_type": "code",
   "execution_count": 46,
   "source": [
    "from sklearn import linear_model\n",
    "\n",
    "# Seat values for Lasso\n",
    "lasso_model = linear_model.Lasso( alpha = 0.1 )\n",
    "r_Y = Y_train - lasso_model.fit(W_train,Y_train).predict(W_train)\n",
    "r_Y = r_Y.rename('r_Y')\n",
    "\n",
    "# Part. out d\n",
    "r_D = D_train - lasso_model.fit(W_train,D_train).predict(W_train)\n",
    "r_D = r_D.rename('r_D')\n",
    "\n",
    "# ols \n",
    "partial_lasso_fit = sm.OLS(r_Y, r_D).fit()\n",
    "\n",
    "est_lasso = partial_lasso_fit.summary2().tables[1]['Coef.']['r_D']\n",
    "std_lasso = partial_lasso_fit.summary2().tables[1]['Std.Err.']['r_D']\n",
    "lower_ci_lasso = partial_lasso_fit.summary2().tables[1]['[0.025']['r_D']\n",
    "upper_ci_lasso = partial_lasso_fit.summary2().tables[1]['0.975]']['r_D']"
   ],
   "outputs": [],
   "metadata": {}
  },
  {
   "cell_type": "code",
   "execution_count": 47,
   "source": [
    "# Regress residuales\n",
    "partial_lasso_fit = sm.OLS(r_Y, r_D).fit()\n",
    "partial_lasso_est = partial_lasso_fit.summary2().tables[1]['Coef.']['r_D']\n",
    "\n",
    "print( f\"Coefficient for D via sample splitting using lasso {partial_lasso_est}\" )"
   ],
   "outputs": [
    {
     "output_type": "stream",
     "name": "stdout",
     "text": [
      "Coefficient for D via sample splitting using lasso 0.0004988150025382592\n"
     ]
    }
   ],
   "metadata": {}
  },
  {
   "cell_type": "code",
   "execution_count": 48,
   "source": [
    "# output: estimated regression coefficient corresponding to the target regressor\n",
    "est_lasso_train_1 = partial_lasso_fit.summary2().tables[1]['Coef.']['r_D']\n",
    "\n",
    "# output: std. error\n",
    "std_lasso_train_1 = partial_lasso_fit.summary2().tables[1]['Std.Err.']['r_D']\n",
    "\n",
    "# output: 95% confidence interval\n",
    "lower_ci_lasso_train_1 = partial_lasso_fit.summary2().tables[1]['[0.025']['r_D']\n",
    "upper_ci_lasso_train_1 = partial_lasso_fit.summary2().tables[1]['0.975]']['r_D']"
   ],
   "outputs": [],
   "metadata": {}
  },
  {
   "cell_type": "code",
   "execution_count": 49,
   "source": [
    "r_Y = pd.DataFrame(r_Y)\n",
    "r_D = pd.DataFrame(r_D)"
   ],
   "outputs": [],
   "metadata": {}
  },
  {
   "cell_type": "code",
   "execution_count": 50,
   "source": [
    "from sklearn.linear_model import LinearRegression\n",
    "model = LinearRegression()\n",
    "mymodel = model.fit(r_Y, r_D)"
   ],
   "outputs": [],
   "metadata": {}
  },
  {
   "cell_type": "code",
   "execution_count": 51,
   "source": [
    "# K - fold CV\n",
    "# Importing cross_val score function\n",
    "\n",
    "from sklearn.model_selection import cross_val_score\n",
    "\n",
    "# 5-fold CV\n",
    "scores = cross_val_score(mymodel, W_train, D_train ,Y_train)\n",
    "scores"
   ],
   "outputs": [
    {
     "output_type": "stream",
     "name": "stderr",
     "text": [
      "C:\\Users\\edfra\\anaconda3\\lib\\site-packages\\sklearn\\utils\\validation.py:70: FutureWarning: Pass groups=29    0.076233\n",
      "63   -0.081726\n",
      "6     0.067332\n",
      "1     0.100473\n",
      "34    0.073905\n",
      "        ...   \n",
      "27    0.092106\n",
      "12   -0.024326\n",
      "50    0.090677\n",
      "52    0.050757\n",
      "59    0.034172\n",
      "Name: Outcome, Length: 63, dtype: float64 as keyword args. From version 1.0 (renaming of 0.25) passing these as positional arguments will result in an error\n",
      "  warnings.warn(f\"Pass {args_msg} as keyword args. From version \"\n"
     ]
    },
    {
     "output_type": "execute_result",
     "data": {
      "text/plain": [
       "array([ -0.53161849,   0.59464628,  -1.15138574,   0.31408462,\n",
       "       -10.17847547])"
      ]
     },
     "metadata": {},
     "execution_count": 51
    }
   ],
   "metadata": {}
  },
  {
   "cell_type": "code",
   "execution_count": 52,
   "source": [
    "from sklearn import linear_model\n",
    "\n",
    "# Seat values for Lasso\n",
    "lasso_model = linear_model.Lasso( alpha = 0.1 )\n",
    "r_Y = Y_test - lasso_model.fit(W_test,Y_test ).predict(W_test)\n",
    "r_Y = r_Y.rename('r_Y')\n",
    "\n",
    "# Part. out d\n",
    "r_D = D_test - lasso_model.fit(W_test,D_test).predict(W_test)\n",
    "r_D = r_D.rename('r_D')\n",
    "\n",
    "# ols \n",
    "partial_lasso_fit = sm.OLS(r_Y, r_D).fit()\n",
    "\n",
    "est_lasso = partial_lasso_fit.summary2().tables[1]['Coef.']['r_D']\n",
    "std_lasso = partial_lasso_fit.summary2().tables[1]['Std.Err.']['r_D']\n",
    "lower_ci_lasso = partial_lasso_fit.summary2().tables[1]['[0.025']['r_D']\n",
    "upper_ci_lasso = partial_lasso_fit.summary2().tables[1]['0.975]']['r_D']"
   ],
   "outputs": [],
   "metadata": {}
  },
  {
   "cell_type": "code",
   "execution_count": 53,
   "source": [
    "r_Y = pd.DataFrame(r_Y)\n",
    "r_D = pd.DataFrame(r_D)"
   ],
   "outputs": [],
   "metadata": {}
  },
  {
   "cell_type": "code",
   "execution_count": 54,
   "source": [
    "from sklearn.linear_model import LinearRegression\n",
    "model = LinearRegression()\n",
    "mymodel = model.fit(r_Y, r_D)"
   ],
   "outputs": [],
   "metadata": {}
  },
  {
   "cell_type": "code",
   "execution_count": 55,
   "source": [
    "# K - fold CV\n",
    "# Importing cross_val score function\n",
    "\n",
    "from sklearn.model_selection import cross_val_score\n",
    "\n",
    "# 5-fold CV\n",
    "pred = cross_val_score(mymodel, W_test, D_test,Y_test)\n",
    "pred"
   ],
   "outputs": [
    {
     "output_type": "stream",
     "name": "stderr",
     "text": [
      "C:\\Users\\edfra\\anaconda3\\lib\\site-packages\\sklearn\\utils\\validation.py:70: FutureWarning: Pass groups=85    0.031196\n",
      "33    0.067852\n",
      "53    0.000408\n",
      "66   -0.011384\n",
      "26    0.109871\n",
      "58    0.011897\n",
      "89    0.040642\n",
      "16    0.036391\n",
      "65    0.066598\n",
      "46    0.045473\n",
      "75    0.040534\n",
      "9     0.039147\n",
      "57    0.014256\n",
      "36    0.065838\n",
      "51   -0.019161\n",
      "2     0.067051\n",
      "77    0.185526\n",
      "72    0.021247\n",
      "11    0.127951\n",
      "15    0.052308\n",
      "64    0.046010\n",
      "74    0.096816\n",
      "20    0.085206\n",
      "23    0.109699\n",
      "28    0.083376\n",
      "81    0.034213\n",
      "14    0.112912\n",
      "Name: Outcome, dtype: float64 as keyword args. From version 1.0 (renaming of 0.25) passing these as positional arguments will result in an error\n",
      "  warnings.warn(f\"Pass {args_msg} as keyword args. From version \"\n"
     ]
    },
    {
     "output_type": "execute_result",
     "data": {
      "text/plain": [
       "array([ -4.37689543,  -0.23091557,  -5.75747793, -33.99628182,\n",
       "         0.65350317])"
      ]
     },
     "metadata": {},
     "execution_count": 55
    }
   ],
   "metadata": {}
  },
  {
   "cell_type": "code",
   "execution_count": 56,
   "source": [
    "# Regress residuales\n",
    "partial_lasso_fit = sm.OLS(r_Y, r_D).fit()\n",
    "partial_lasso_est = partial_lasso_fit.summary2().tables[1]['Coef.']['r_D']\n",
    "\n",
    "print( f\"Coefficient for D via sample splitting using lasso {partial_lasso_est}\" )"
   ],
   "outputs": [
    {
     "output_type": "stream",
     "name": "stdout",
     "text": [
      "Coefficient for D via sample splitting using lasso 0.019355858562937943\n"
     ]
    }
   ],
   "metadata": {}
  },
  {
   "cell_type": "code",
   "execution_count": 57,
   "source": [
    "# output: estimated regression coefficient corresponding to the target regressor\n",
    "est_lasso_test_1 = partial_lasso_fit.summary2().tables[1]['Coef.']['r_D']\n",
    "\n",
    "# output: std. error\n",
    "std_lasso_test_1 = partial_lasso_fit.summary2().tables[1]['Std.Err.']['r_D']\n",
    "\n",
    "# output: 95% confidence interval\n",
    "lower_ci_lasso_test_1 = partial_lasso_fit.summary2().tables[1]['[0.025']['r_D']\n",
    "upper_ci_lasso_test_1 = partial_lasso_fit.summary2().tables[1]['0.975]']['r_D']"
   ],
   "outputs": [],
   "metadata": {}
  },
  {
   "cell_type": "markdown",
   "source": [
    "#### Thridly, let's use the $ \\alpha $ = 0.8 in order to know how $\\beta$ changes in comparison when we use $ \\alpha $ =0.00077 and the other $ \\alpha $ = 0.1"
   ],
   "metadata": {}
  },
  {
   "cell_type": "code",
   "execution_count": 58,
   "source": [
    "from sklearn import linear_model\n",
    "\n",
    "# Seat values for Lasso\n",
    "lasso_model = linear_model.Lasso( alpha = 0.8 )\n",
    "r_Y = Y_train - lasso_model.fit(W_train,Y_train).predict(W_train)\n",
    "r_Y = r_Y.rename('r_Y')\n",
    "\n",
    "# Part. out d\n",
    "r_D = D_train - lasso_model.fit(W_train,D_train).predict(W_train)\n",
    "r_D = r_D.rename('r_D')\n",
    "\n",
    "# ols \n",
    "partial_lasso_fit = sm.OLS(r_Y, r_D).fit()\n",
    "\n",
    "est_lasso = partial_lasso_fit.summary2().tables[1]['Coef.']['r_D']\n",
    "std_lasso = partial_lasso_fit.summary2().tables[1]['Std.Err.']['r_D']\n",
    "lower_ci_lasso = partial_lasso_fit.summary2().tables[1]['[0.025']['r_D']\n",
    "upper_ci_lasso = partial_lasso_fit.summary2().tables[1]['0.975]']['r_D']"
   ],
   "outputs": [
    {
     "output_type": "stream",
     "name": "stderr",
     "text": [
      "C:\\Users\\edfra\\anaconda3\\lib\\site-packages\\sklearn\\linear_model\\_coordinate_descent.py:530: ConvergenceWarning: Objective did not converge. You might want to increase the number of iterations. Duality gap: 0.00034251659774486853, tolerance: 1.730650793643347e-05\n",
      "  model = cd_fast.enet_coordinate_descent(\n",
      "C:\\Users\\edfra\\anaconda3\\lib\\site-packages\\sklearn\\linear_model\\_coordinate_descent.py:530: ConvergenceWarning: Objective did not converge. You might want to increase the number of iterations. Duality gap: 1.5788188735405806, tolerance: 0.005387656525176694\n",
      "  model = cd_fast.enet_coordinate_descent(\n"
     ]
    }
   ],
   "metadata": {}
  },
  {
   "cell_type": "code",
   "execution_count": 59,
   "source": [
    "# Regress residuales\n",
    "partial_lasso_fit = sm.OLS(r_Y, r_D).fit()\n",
    "partial_lasso_est = partial_lasso_fit.summary2().tables[1]['Coef.']['r_D']\n",
    "\n",
    "print( f\"Coefficient for D via sample splitting using lasso {partial_lasso_est}\" )"
   ],
   "outputs": [
    {
     "output_type": "stream",
     "name": "stdout",
     "text": [
      "Coefficient for D via sample splitting using lasso -0.03257798527404339\n"
     ]
    }
   ],
   "metadata": {}
  },
  {
   "cell_type": "code",
   "execution_count": 60,
   "source": [
    "# output: estimated regression coefficient corresponding to the target regressor\n",
    "est_lasso_train_2 = partial_lasso_fit.summary2().tables[1]['Coef.']['r_D']\n",
    "\n",
    "# output: std. error\n",
    "std_lasso_train_2 = partial_lasso_fit.summary2().tables[1]['Std.Err.']['r_D']\n",
    "\n",
    "# output: 95% confidence interval\n",
    "lower_ci_lasso_train_2 = partial_lasso_fit.summary2().tables[1]['[0.025']['r_D']\n",
    "upper_ci_lasso_train_2 = partial_lasso_fit.summary2().tables[1]['0.975]']['r_D']"
   ],
   "outputs": [],
   "metadata": {}
  },
  {
   "cell_type": "code",
   "execution_count": 61,
   "source": [
    "r_Y = pd.DataFrame(r_Y)\n",
    "r_D = pd.DataFrame(r_D)"
   ],
   "outputs": [],
   "metadata": {}
  },
  {
   "cell_type": "code",
   "execution_count": 62,
   "source": [
    "from sklearn.linear_model import LinearRegression\n",
    "model = LinearRegression()\n",
    "mymodel = model.fit(r_Y, r_D)"
   ],
   "outputs": [],
   "metadata": {}
  },
  {
   "cell_type": "code",
   "execution_count": 63,
   "source": [
    "# K - fold CV\n",
    "# Importing cross_val score function\n",
    "\n",
    "from sklearn.model_selection import cross_val_score\n",
    "\n",
    "# 5-fold CV\n",
    "pred = cross_val_score(mymodel, W_test, D_test,Y_test)\n",
    "pred"
   ],
   "outputs": [
    {
     "output_type": "stream",
     "name": "stderr",
     "text": [
      "C:\\Users\\edfra\\anaconda3\\lib\\site-packages\\sklearn\\utils\\validation.py:70: FutureWarning: Pass groups=85    0.031196\n",
      "33    0.067852\n",
      "53    0.000408\n",
      "66   -0.011384\n",
      "26    0.109871\n",
      "58    0.011897\n",
      "89    0.040642\n",
      "16    0.036391\n",
      "65    0.066598\n",
      "46    0.045473\n",
      "75    0.040534\n",
      "9     0.039147\n",
      "57    0.014256\n",
      "36    0.065838\n",
      "51   -0.019161\n",
      "2     0.067051\n",
      "77    0.185526\n",
      "72    0.021247\n",
      "11    0.127951\n",
      "15    0.052308\n",
      "64    0.046010\n",
      "74    0.096816\n",
      "20    0.085206\n",
      "23    0.109699\n",
      "28    0.083376\n",
      "81    0.034213\n",
      "14    0.112912\n",
      "Name: Outcome, dtype: float64 as keyword args. From version 1.0 (renaming of 0.25) passing these as positional arguments will result in an error\n",
      "  warnings.warn(f\"Pass {args_msg} as keyword args. From version \"\n"
     ]
    },
    {
     "output_type": "execute_result",
     "data": {
      "text/plain": [
       "array([ -4.37689543,  -0.23091557,  -5.75747793, -33.99628182,\n",
       "         0.65350317])"
      ]
     },
     "metadata": {},
     "execution_count": 63
    }
   ],
   "metadata": {}
  },
  {
   "cell_type": "code",
   "execution_count": 64,
   "source": [
    "# Regress residuales\n",
    "partial_lasso_fit = sm.OLS(r_Y, r_D).fit()\n",
    "partial_lasso_est = partial_lasso_fit.summary2().tables[1]['Coef.']['r_D']\n",
    "\n",
    "print( f\"Coefficient for D via sample splitting using lasso {partial_lasso_est}\" )"
   ],
   "outputs": [
    {
     "output_type": "stream",
     "name": "stdout",
     "text": [
      "Coefficient for D via sample splitting using lasso -0.03257798527404339\n"
     ]
    }
   ],
   "metadata": {}
  },
  {
   "cell_type": "code",
   "execution_count": 65,
   "source": [
    "# output: estimated regression coefficient corresponding to the target regressor\n",
    "est_lasso_test_2 = partial_lasso_fit.summary2().tables[1]['Coef.']['r_D']\n",
    "\n",
    "# output: std. error\n",
    "std_lasso_test_2 = partial_lasso_fit.summary2().tables[1]['Std.Err.']['r_D']\n",
    "\n",
    "# output: 95% confidence interval\n",
    "lower_ci_lasso_test_2 = partial_lasso_fit.summary2().tables[1]['[0.025']['r_D']\n",
    "upper_ci_lasso_test_2 = partial_lasso_fit.summary2().tables[1]['0.975]']['r_D']"
   ],
   "outputs": [],
   "metadata": {}
  },
  {
   "cell_type": "markdown",
   "source": [
    "## Summary LASSO results\n"
   ],
   "metadata": {}
  },
  {
   "cell_type": "markdown",
   "source": [
    "Finally, let us have a look at the results."
   ],
   "metadata": {}
  },
  {
   "cell_type": "code",
   "execution_count": 66,
   "source": [
    "table_2 = np.zeros( (1, 4) )\n",
    "\n",
    "table_2[0,0] = est_lasso_train\n",
    "table_2[0,1] = std_lasso_train\n",
    "table_2[0,2] = lower_ci_lasso_train\n",
    "table_2[0,3] = upper_ci_lasso_train\n",
    "\n",
    "\n",
    "table_2_pandas = pd.DataFrame( table_2, columns = [ \"Estimator\",\"Std. Error\", \"lower bound CI\", \"upper bound CI\"  ])\n",
    "table_2_pandas.index = [ \"LASSO TRAIN (alpha=0.00077)\" ]\n",
    "table_2_pandas"
   ],
   "outputs": [
    {
     "output_type": "execute_result",
     "data": {
      "text/html": [
       "<div>\n",
       "<style scoped>\n",
       "    .dataframe tbody tr th:only-of-type {\n",
       "        vertical-align: middle;\n",
       "    }\n",
       "\n",
       "    .dataframe tbody tr th {\n",
       "        vertical-align: top;\n",
       "    }\n",
       "\n",
       "    .dataframe thead th {\n",
       "        text-align: right;\n",
       "    }\n",
       "</style>\n",
       "<table border=\"1\" class=\"dataframe\">\n",
       "  <thead>\n",
       "    <tr style=\"text-align: right;\">\n",
       "      <th></th>\n",
       "      <th>Estimator</th>\n",
       "      <th>Std. Error</th>\n",
       "      <th>lower bound CI</th>\n",
       "      <th>upper bound CI</th>\n",
       "    </tr>\n",
       "  </thead>\n",
       "  <tbody>\n",
       "    <tr>\n",
       "      <th>LASSO TRAIN (alpha=0.00077)</th>\n",
       "      <td>-0.032578</td>\n",
       "      <td>0.024406</td>\n",
       "      <td>-0.081365</td>\n",
       "      <td>0.016209</td>\n",
       "    </tr>\n",
       "  </tbody>\n",
       "</table>\n",
       "</div>"
      ],
      "text/plain": [
       "                             Estimator  Std. Error  lower bound CI  \\\n",
       "LASSO TRAIN (alpha=0.00077)  -0.032578    0.024406       -0.081365   \n",
       "\n",
       "                             upper bound CI  \n",
       "LASSO TRAIN (alpha=0.00077)        0.016209  "
      ]
     },
     "metadata": {},
     "execution_count": 66
    }
   ],
   "metadata": {}
  },
  {
   "cell_type": "code",
   "execution_count": 67,
   "source": [
    "table_3 = table_1_pandas.append(table_2_pandas)\n",
    "table_3"
   ],
   "outputs": [
    {
     "output_type": "execute_result",
     "data": {
      "text/html": [
       "<div>\n",
       "<style scoped>\n",
       "    .dataframe tbody tr th:only-of-type {\n",
       "        vertical-align: middle;\n",
       "    }\n",
       "\n",
       "    .dataframe tbody tr th {\n",
       "        vertical-align: top;\n",
       "    }\n",
       "\n",
       "    .dataframe thead th {\n",
       "        text-align: right;\n",
       "    }\n",
       "</style>\n",
       "<table border=\"1\" class=\"dataframe\">\n",
       "  <thead>\n",
       "    <tr style=\"text-align: right;\">\n",
       "      <th></th>\n",
       "      <th>Estimator</th>\n",
       "      <th>Std. Error</th>\n",
       "      <th>lower bound CI</th>\n",
       "      <th>upper bound CI</th>\n",
       "    </tr>\n",
       "  </thead>\n",
       "  <tbody>\n",
       "    <tr>\n",
       "      <th>OLS</th>\n",
       "      <td>-0.009378</td>\n",
       "      <td>0.029888</td>\n",
       "      <td>-0.070600</td>\n",
       "      <td>0.051844</td>\n",
       "    </tr>\n",
       "    <tr>\n",
       "      <th>LASSO TRAIN (alpha=0.00077)</th>\n",
       "      <td>-0.032578</td>\n",
       "      <td>0.024406</td>\n",
       "      <td>-0.081365</td>\n",
       "      <td>0.016209</td>\n",
       "    </tr>\n",
       "  </tbody>\n",
       "</table>\n",
       "</div>"
      ],
      "text/plain": [
       "                             Estimator  Std. Error  lower bound CI  \\\n",
       "OLS                          -0.009378    0.029888       -0.070600   \n",
       "LASSO TRAIN (alpha=0.00077)  -0.032578    0.024406       -0.081365   \n",
       "\n",
       "                             upper bound CI  \n",
       "OLS                                0.051844  \n",
       "LASSO TRAIN (alpha=0.00077)        0.016209  "
      ]
     },
     "metadata": {},
     "execution_count": 67
    }
   ],
   "metadata": {}
  },
  {
   "cell_type": "code",
   "execution_count": 68,
   "source": [
    "table_4 = table_2 = np.zeros( (1, 4) )\n",
    "\n",
    "table_4[0,0] = est_lasso_test\n",
    "table_4[0,1] = std_lasso_test\n",
    "table_4[0,2] = lower_ci_lasso_test\n",
    "table_4[0,3] = upper_ci_lasso_test\n",
    "\n",
    "table_4_pandas = pd.DataFrame( table_4, columns = [ \"Estimator\",\"Std. Error\", \"lower bound CI\", \"upper bound CI\"  ])\n",
    "table_4_pandas.index = [ \"LASSO TEST (alpha= 0.00077)\" ]\n",
    "table_4_pandas"
   ],
   "outputs": [
    {
     "output_type": "execute_result",
     "data": {
      "text/html": [
       "<div>\n",
       "<style scoped>\n",
       "    .dataframe tbody tr th:only-of-type {\n",
       "        vertical-align: middle;\n",
       "    }\n",
       "\n",
       "    .dataframe tbody tr th {\n",
       "        vertical-align: top;\n",
       "    }\n",
       "\n",
       "    .dataframe thead th {\n",
       "        text-align: right;\n",
       "    }\n",
       "</style>\n",
       "<table border=\"1\" class=\"dataframe\">\n",
       "  <thead>\n",
       "    <tr style=\"text-align: right;\">\n",
       "      <th></th>\n",
       "      <th>Estimator</th>\n",
       "      <th>Std. Error</th>\n",
       "      <th>lower bound CI</th>\n",
       "      <th>upper bound CI</th>\n",
       "    </tr>\n",
       "  </thead>\n",
       "  <tbody>\n",
       "    <tr>\n",
       "      <th>LASSO TEST (alpha= 0.00077)</th>\n",
       "      <td>0.031154</td>\n",
       "      <td>0.051624</td>\n",
       "      <td>-0.07496</td>\n",
       "      <td>0.137268</td>\n",
       "    </tr>\n",
       "  </tbody>\n",
       "</table>\n",
       "</div>"
      ],
      "text/plain": [
       "                             Estimator  Std. Error  lower bound CI  \\\n",
       "LASSO TEST (alpha= 0.00077)   0.031154    0.051624        -0.07496   \n",
       "\n",
       "                             upper bound CI  \n",
       "LASSO TEST (alpha= 0.00077)        0.137268  "
      ]
     },
     "metadata": {},
     "execution_count": 68
    }
   ],
   "metadata": {}
  },
  {
   "cell_type": "code",
   "execution_count": 69,
   "source": [
    "table_5 = table_3.append(table_4_pandas)\n",
    "table_5"
   ],
   "outputs": [
    {
     "output_type": "execute_result",
     "data": {
      "text/html": [
       "<div>\n",
       "<style scoped>\n",
       "    .dataframe tbody tr th:only-of-type {\n",
       "        vertical-align: middle;\n",
       "    }\n",
       "\n",
       "    .dataframe tbody tr th {\n",
       "        vertical-align: top;\n",
       "    }\n",
       "\n",
       "    .dataframe thead th {\n",
       "        text-align: right;\n",
       "    }\n",
       "</style>\n",
       "<table border=\"1\" class=\"dataframe\">\n",
       "  <thead>\n",
       "    <tr style=\"text-align: right;\">\n",
       "      <th></th>\n",
       "      <th>Estimator</th>\n",
       "      <th>Std. Error</th>\n",
       "      <th>lower bound CI</th>\n",
       "      <th>upper bound CI</th>\n",
       "    </tr>\n",
       "  </thead>\n",
       "  <tbody>\n",
       "    <tr>\n",
       "      <th>OLS</th>\n",
       "      <td>-0.009378</td>\n",
       "      <td>0.029888</td>\n",
       "      <td>-0.070600</td>\n",
       "      <td>0.051844</td>\n",
       "    </tr>\n",
       "    <tr>\n",
       "      <th>LASSO TRAIN (alpha=0.00077)</th>\n",
       "      <td>-0.032578</td>\n",
       "      <td>0.024406</td>\n",
       "      <td>-0.081365</td>\n",
       "      <td>0.016209</td>\n",
       "    </tr>\n",
       "    <tr>\n",
       "      <th>LASSO TEST (alpha= 0.00077)</th>\n",
       "      <td>0.031154</td>\n",
       "      <td>0.051624</td>\n",
       "      <td>-0.074960</td>\n",
       "      <td>0.137268</td>\n",
       "    </tr>\n",
       "  </tbody>\n",
       "</table>\n",
       "</div>"
      ],
      "text/plain": [
       "                             Estimator  Std. Error  lower bound CI  \\\n",
       "OLS                          -0.009378    0.029888       -0.070600   \n",
       "LASSO TRAIN (alpha=0.00077)  -0.032578    0.024406       -0.081365   \n",
       "LASSO TEST (alpha= 0.00077)   0.031154    0.051624       -0.074960   \n",
       "\n",
       "                             upper bound CI  \n",
       "OLS                                0.051844  \n",
       "LASSO TRAIN (alpha=0.00077)        0.016209  \n",
       "LASSO TEST (alpha= 0.00077)        0.137268  "
      ]
     },
     "metadata": {},
     "execution_count": 69
    }
   ],
   "metadata": {}
  },
  {
   "cell_type": "code",
   "execution_count": 70,
   "source": [
    "table_6 = np.zeros( (1, 4) )\n",
    "\n",
    "table_6[0,0] = est_lasso_train_1\n",
    "table_6[0,1] = std_lasso_train_1\n",
    "table_6[0,2] = lower_ci_lasso_train_1\n",
    "table_6[0,3] = upper_ci_lasso_train_1\n",
    "\n",
    "\n",
    "table_6_pandas = pd.DataFrame( table_2, columns = [ \"Estimator\",\"Std. Error\", \"lower bound CI\", \"upper bound CI\"  ])\n",
    "table_6_pandas.index = [ \"LASSO TRAIN ( alpha =0.1)\" ]\n",
    "table_6_pandas"
   ],
   "outputs": [
    {
     "output_type": "execute_result",
     "data": {
      "text/html": [
       "<div>\n",
       "<style scoped>\n",
       "    .dataframe tbody tr th:only-of-type {\n",
       "        vertical-align: middle;\n",
       "    }\n",
       "\n",
       "    .dataframe tbody tr th {\n",
       "        vertical-align: top;\n",
       "    }\n",
       "\n",
       "    .dataframe thead th {\n",
       "        text-align: right;\n",
       "    }\n",
       "</style>\n",
       "<table border=\"1\" class=\"dataframe\">\n",
       "  <thead>\n",
       "    <tr style=\"text-align: right;\">\n",
       "      <th></th>\n",
       "      <th>Estimator</th>\n",
       "      <th>Std. Error</th>\n",
       "      <th>lower bound CI</th>\n",
       "      <th>upper bound CI</th>\n",
       "    </tr>\n",
       "  </thead>\n",
       "  <tbody>\n",
       "    <tr>\n",
       "      <th>LASSO TRAIN ( alpha =0.1)</th>\n",
       "      <td>0.031154</td>\n",
       "      <td>0.051624</td>\n",
       "      <td>-0.07496</td>\n",
       "      <td>0.137268</td>\n",
       "    </tr>\n",
       "  </tbody>\n",
       "</table>\n",
       "</div>"
      ],
      "text/plain": [
       "                           Estimator  Std. Error  lower bound CI  \\\n",
       "LASSO TRAIN ( alpha =0.1)   0.031154    0.051624        -0.07496   \n",
       "\n",
       "                           upper bound CI  \n",
       "LASSO TRAIN ( alpha =0.1)        0.137268  "
      ]
     },
     "metadata": {},
     "execution_count": 70
    }
   ],
   "metadata": {}
  },
  {
   "cell_type": "code",
   "execution_count": 71,
   "source": [
    "table_7 = table_5.append(table_6_pandas)\n",
    "table_7"
   ],
   "outputs": [
    {
     "output_type": "execute_result",
     "data": {
      "text/html": [
       "<div>\n",
       "<style scoped>\n",
       "    .dataframe tbody tr th:only-of-type {\n",
       "        vertical-align: middle;\n",
       "    }\n",
       "\n",
       "    .dataframe tbody tr th {\n",
       "        vertical-align: top;\n",
       "    }\n",
       "\n",
       "    .dataframe thead th {\n",
       "        text-align: right;\n",
       "    }\n",
       "</style>\n",
       "<table border=\"1\" class=\"dataframe\">\n",
       "  <thead>\n",
       "    <tr style=\"text-align: right;\">\n",
       "      <th></th>\n",
       "      <th>Estimator</th>\n",
       "      <th>Std. Error</th>\n",
       "      <th>lower bound CI</th>\n",
       "      <th>upper bound CI</th>\n",
       "    </tr>\n",
       "  </thead>\n",
       "  <tbody>\n",
       "    <tr>\n",
       "      <th>OLS</th>\n",
       "      <td>-0.009378</td>\n",
       "      <td>0.029888</td>\n",
       "      <td>-0.070600</td>\n",
       "      <td>0.051844</td>\n",
       "    </tr>\n",
       "    <tr>\n",
       "      <th>LASSO TRAIN (alpha=0.00077)</th>\n",
       "      <td>-0.032578</td>\n",
       "      <td>0.024406</td>\n",
       "      <td>-0.081365</td>\n",
       "      <td>0.016209</td>\n",
       "    </tr>\n",
       "    <tr>\n",
       "      <th>LASSO TEST (alpha= 0.00077)</th>\n",
       "      <td>0.031154</td>\n",
       "      <td>0.051624</td>\n",
       "      <td>-0.074960</td>\n",
       "      <td>0.137268</td>\n",
       "    </tr>\n",
       "    <tr>\n",
       "      <th>LASSO TRAIN ( alpha =0.1)</th>\n",
       "      <td>0.031154</td>\n",
       "      <td>0.051624</td>\n",
       "      <td>-0.074960</td>\n",
       "      <td>0.137268</td>\n",
       "    </tr>\n",
       "  </tbody>\n",
       "</table>\n",
       "</div>"
      ],
      "text/plain": [
       "                             Estimator  Std. Error  lower bound CI  \\\n",
       "OLS                          -0.009378    0.029888       -0.070600   \n",
       "LASSO TRAIN (alpha=0.00077)  -0.032578    0.024406       -0.081365   \n",
       "LASSO TEST (alpha= 0.00077)   0.031154    0.051624       -0.074960   \n",
       "LASSO TRAIN ( alpha =0.1)     0.031154    0.051624       -0.074960   \n",
       "\n",
       "                             upper bound CI  \n",
       "OLS                                0.051844  \n",
       "LASSO TRAIN (alpha=0.00077)        0.016209  \n",
       "LASSO TEST (alpha= 0.00077)        0.137268  \n",
       "LASSO TRAIN ( alpha =0.1)          0.137268  "
      ]
     },
     "metadata": {},
     "execution_count": 71
    }
   ],
   "metadata": {}
  },
  {
   "cell_type": "code",
   "execution_count": 72,
   "source": [
    "table_8 = table_2 = np.zeros( (1, 4) )\n",
    "\n",
    "table_8[0,0] = est_lasso_test_1\n",
    "table_8[0,1] = std_lasso_test_1\n",
    "table_8[0,2] = lower_ci_lasso_test_1\n",
    "table_8[0,3] = upper_ci_lasso_test_1\n",
    "\n",
    "table_8_pandas = pd.DataFrame( table_4, columns = [ \"Estimator\",\"Std. Error\", \"lower bound CI\", \"upper bound CI\"  ])\n",
    "table_8_pandas.index = [ \"LASSO TEST ( alpha= 0.1 )\" ]\n",
    "table_8_pandas"
   ],
   "outputs": [
    {
     "output_type": "execute_result",
     "data": {
      "text/html": [
       "<div>\n",
       "<style scoped>\n",
       "    .dataframe tbody tr th:only-of-type {\n",
       "        vertical-align: middle;\n",
       "    }\n",
       "\n",
       "    .dataframe tbody tr th {\n",
       "        vertical-align: top;\n",
       "    }\n",
       "\n",
       "    .dataframe thead th {\n",
       "        text-align: right;\n",
       "    }\n",
       "</style>\n",
       "<table border=\"1\" class=\"dataframe\">\n",
       "  <thead>\n",
       "    <tr style=\"text-align: right;\">\n",
       "      <th></th>\n",
       "      <th>Estimator</th>\n",
       "      <th>Std. Error</th>\n",
       "      <th>lower bound CI</th>\n",
       "      <th>upper bound CI</th>\n",
       "    </tr>\n",
       "  </thead>\n",
       "  <tbody>\n",
       "    <tr>\n",
       "      <th>LASSO TEST ( alpha= 0.1 )</th>\n",
       "      <td>0.031154</td>\n",
       "      <td>0.051624</td>\n",
       "      <td>-0.07496</td>\n",
       "      <td>0.137268</td>\n",
       "    </tr>\n",
       "  </tbody>\n",
       "</table>\n",
       "</div>"
      ],
      "text/plain": [
       "                           Estimator  Std. Error  lower bound CI  \\\n",
       "LASSO TEST ( alpha= 0.1 )   0.031154    0.051624        -0.07496   \n",
       "\n",
       "                           upper bound CI  \n",
       "LASSO TEST ( alpha= 0.1 )        0.137268  "
      ]
     },
     "metadata": {},
     "execution_count": 72
    }
   ],
   "metadata": {}
  },
  {
   "cell_type": "code",
   "execution_count": 73,
   "source": [
    "table_9 = table_7.append(table_8_pandas)\n",
    "table_9"
   ],
   "outputs": [
    {
     "output_type": "execute_result",
     "data": {
      "text/html": [
       "<div>\n",
       "<style scoped>\n",
       "    .dataframe tbody tr th:only-of-type {\n",
       "        vertical-align: middle;\n",
       "    }\n",
       "\n",
       "    .dataframe tbody tr th {\n",
       "        vertical-align: top;\n",
       "    }\n",
       "\n",
       "    .dataframe thead th {\n",
       "        text-align: right;\n",
       "    }\n",
       "</style>\n",
       "<table border=\"1\" class=\"dataframe\">\n",
       "  <thead>\n",
       "    <tr style=\"text-align: right;\">\n",
       "      <th></th>\n",
       "      <th>Estimator</th>\n",
       "      <th>Std. Error</th>\n",
       "      <th>lower bound CI</th>\n",
       "      <th>upper bound CI</th>\n",
       "    </tr>\n",
       "  </thead>\n",
       "  <tbody>\n",
       "    <tr>\n",
       "      <th>OLS</th>\n",
       "      <td>-0.009378</td>\n",
       "      <td>0.029888</td>\n",
       "      <td>-0.070600</td>\n",
       "      <td>0.051844</td>\n",
       "    </tr>\n",
       "    <tr>\n",
       "      <th>LASSO TRAIN (alpha=0.00077)</th>\n",
       "      <td>-0.032578</td>\n",
       "      <td>0.024406</td>\n",
       "      <td>-0.081365</td>\n",
       "      <td>0.016209</td>\n",
       "    </tr>\n",
       "    <tr>\n",
       "      <th>LASSO TEST (alpha= 0.00077)</th>\n",
       "      <td>0.031154</td>\n",
       "      <td>0.051624</td>\n",
       "      <td>-0.074960</td>\n",
       "      <td>0.137268</td>\n",
       "    </tr>\n",
       "    <tr>\n",
       "      <th>LASSO TRAIN ( alpha =0.1)</th>\n",
       "      <td>0.031154</td>\n",
       "      <td>0.051624</td>\n",
       "      <td>-0.074960</td>\n",
       "      <td>0.137268</td>\n",
       "    </tr>\n",
       "    <tr>\n",
       "      <th>LASSO TEST ( alpha= 0.1 )</th>\n",
       "      <td>0.031154</td>\n",
       "      <td>0.051624</td>\n",
       "      <td>-0.074960</td>\n",
       "      <td>0.137268</td>\n",
       "    </tr>\n",
       "  </tbody>\n",
       "</table>\n",
       "</div>"
      ],
      "text/plain": [
       "                             Estimator  Std. Error  lower bound CI  \\\n",
       "OLS                          -0.009378    0.029888       -0.070600   \n",
       "LASSO TRAIN (alpha=0.00077)  -0.032578    0.024406       -0.081365   \n",
       "LASSO TEST (alpha= 0.00077)   0.031154    0.051624       -0.074960   \n",
       "LASSO TRAIN ( alpha =0.1)     0.031154    0.051624       -0.074960   \n",
       "LASSO TEST ( alpha= 0.1 )     0.031154    0.051624       -0.074960   \n",
       "\n",
       "                             upper bound CI  \n",
       "OLS                                0.051844  \n",
       "LASSO TRAIN (alpha=0.00077)        0.016209  \n",
       "LASSO TEST (alpha= 0.00077)        0.137268  \n",
       "LASSO TRAIN ( alpha =0.1)          0.137268  \n",
       "LASSO TEST ( alpha= 0.1 )          0.137268  "
      ]
     },
     "metadata": {},
     "execution_count": 73
    }
   ],
   "metadata": {}
  },
  {
   "cell_type": "code",
   "execution_count": 74,
   "source": [
    "table_10 = np.zeros( (1, 4) )\n",
    "\n",
    "table_10[0,0] = est_lasso_train_2\n",
    "table_10[0,1] = std_lasso_train_2\n",
    "table_10[0,2] = lower_ci_lasso_train_2\n",
    "table_10[0,3] = upper_ci_lasso_train_2\n",
    "\n",
    "\n",
    "table_10_pandas = pd.DataFrame( table_2, columns = [ \"Estimator\",\"Std. Error\", \"lower bound CI\", \"upper bound CI\"  ])\n",
    "table_10_pandas.index = [ \"LASSO TRAIN (alpha=0.8)\" ]\n",
    "table_10_pandas"
   ],
   "outputs": [
    {
     "output_type": "execute_result",
     "data": {
      "text/html": [
       "<div>\n",
       "<style scoped>\n",
       "    .dataframe tbody tr th:only-of-type {\n",
       "        vertical-align: middle;\n",
       "    }\n",
       "\n",
       "    .dataframe tbody tr th {\n",
       "        vertical-align: top;\n",
       "    }\n",
       "\n",
       "    .dataframe thead th {\n",
       "        text-align: right;\n",
       "    }\n",
       "</style>\n",
       "<table border=\"1\" class=\"dataframe\">\n",
       "  <thead>\n",
       "    <tr style=\"text-align: right;\">\n",
       "      <th></th>\n",
       "      <th>Estimator</th>\n",
       "      <th>Std. Error</th>\n",
       "      <th>lower bound CI</th>\n",
       "      <th>upper bound CI</th>\n",
       "    </tr>\n",
       "  </thead>\n",
       "  <tbody>\n",
       "    <tr>\n",
       "      <th>LASSO TRAIN (alpha=0.8)</th>\n",
       "      <td>0.019356</td>\n",
       "      <td>0.024739</td>\n",
       "      <td>-0.031495</td>\n",
       "      <td>0.070207</td>\n",
       "    </tr>\n",
       "  </tbody>\n",
       "</table>\n",
       "</div>"
      ],
      "text/plain": [
       "                         Estimator  Std. Error  lower bound CI  upper bound CI\n",
       "LASSO TRAIN (alpha=0.8)   0.019356    0.024739       -0.031495        0.070207"
      ]
     },
     "metadata": {},
     "execution_count": 74
    }
   ],
   "metadata": {}
  },
  {
   "cell_type": "code",
   "execution_count": 75,
   "source": [
    "table_11 = table_9.append(table_10_pandas)\n",
    "table_11"
   ],
   "outputs": [
    {
     "output_type": "execute_result",
     "data": {
      "text/html": [
       "<div>\n",
       "<style scoped>\n",
       "    .dataframe tbody tr th:only-of-type {\n",
       "        vertical-align: middle;\n",
       "    }\n",
       "\n",
       "    .dataframe tbody tr th {\n",
       "        vertical-align: top;\n",
       "    }\n",
       "\n",
       "    .dataframe thead th {\n",
       "        text-align: right;\n",
       "    }\n",
       "</style>\n",
       "<table border=\"1\" class=\"dataframe\">\n",
       "  <thead>\n",
       "    <tr style=\"text-align: right;\">\n",
       "      <th></th>\n",
       "      <th>Estimator</th>\n",
       "      <th>Std. Error</th>\n",
       "      <th>lower bound CI</th>\n",
       "      <th>upper bound CI</th>\n",
       "    </tr>\n",
       "  </thead>\n",
       "  <tbody>\n",
       "    <tr>\n",
       "      <th>OLS</th>\n",
       "      <td>-0.009378</td>\n",
       "      <td>0.029888</td>\n",
       "      <td>-0.070600</td>\n",
       "      <td>0.051844</td>\n",
       "    </tr>\n",
       "    <tr>\n",
       "      <th>LASSO TRAIN (alpha=0.00077)</th>\n",
       "      <td>-0.032578</td>\n",
       "      <td>0.024406</td>\n",
       "      <td>-0.081365</td>\n",
       "      <td>0.016209</td>\n",
       "    </tr>\n",
       "    <tr>\n",
       "      <th>LASSO TEST (alpha= 0.00077)</th>\n",
       "      <td>0.031154</td>\n",
       "      <td>0.051624</td>\n",
       "      <td>-0.074960</td>\n",
       "      <td>0.137268</td>\n",
       "    </tr>\n",
       "    <tr>\n",
       "      <th>LASSO TRAIN ( alpha =0.1)</th>\n",
       "      <td>0.031154</td>\n",
       "      <td>0.051624</td>\n",
       "      <td>-0.074960</td>\n",
       "      <td>0.137268</td>\n",
       "    </tr>\n",
       "    <tr>\n",
       "      <th>LASSO TEST ( alpha= 0.1 )</th>\n",
       "      <td>0.031154</td>\n",
       "      <td>0.051624</td>\n",
       "      <td>-0.074960</td>\n",
       "      <td>0.137268</td>\n",
       "    </tr>\n",
       "    <tr>\n",
       "      <th>LASSO TRAIN (alpha=0.8)</th>\n",
       "      <td>0.019356</td>\n",
       "      <td>0.024739</td>\n",
       "      <td>-0.031495</td>\n",
       "      <td>0.070207</td>\n",
       "    </tr>\n",
       "  </tbody>\n",
       "</table>\n",
       "</div>"
      ],
      "text/plain": [
       "                             Estimator  Std. Error  lower bound CI  \\\n",
       "OLS                          -0.009378    0.029888       -0.070600   \n",
       "LASSO TRAIN (alpha=0.00077)  -0.032578    0.024406       -0.081365   \n",
       "LASSO TEST (alpha= 0.00077)   0.031154    0.051624       -0.074960   \n",
       "LASSO TRAIN ( alpha =0.1)     0.031154    0.051624       -0.074960   \n",
       "LASSO TEST ( alpha= 0.1 )     0.031154    0.051624       -0.074960   \n",
       "LASSO TRAIN (alpha=0.8)       0.019356    0.024739       -0.031495   \n",
       "\n",
       "                             upper bound CI  \n",
       "OLS                                0.051844  \n",
       "LASSO TRAIN (alpha=0.00077)        0.016209  \n",
       "LASSO TEST (alpha= 0.00077)        0.137268  \n",
       "LASSO TRAIN ( alpha =0.1)          0.137268  \n",
       "LASSO TEST ( alpha= 0.1 )          0.137268  \n",
       "LASSO TRAIN (alpha=0.8)            0.070207  "
      ]
     },
     "metadata": {},
     "execution_count": 75
    }
   ],
   "metadata": {}
  },
  {
   "cell_type": "code",
   "execution_count": 76,
   "source": [
    "table_12 = np.zeros( (1, 4) )\n",
    "\n",
    "table_12[0,0] = est_lasso_test_2\n",
    "table_12[0,1] = std_lasso_test_2\n",
    "table_12[0,2] = lower_ci_lasso_test_2\n",
    "table_12[0,3] = upper_ci_lasso_test_2\n",
    "\n",
    "\n",
    "table_12_pandas = pd.DataFrame( table_2, columns = [ \"Estimator\",\"Std. Error\", \"lower bound CI\", \"upper bound CI\"  ])\n",
    "table_12_pandas.index = [ \"LASSO TEST (alpha=0.8)\" ]\n",
    "table_12_pandas"
   ],
   "outputs": [
    {
     "output_type": "execute_result",
     "data": {
      "text/html": [
       "<div>\n",
       "<style scoped>\n",
       "    .dataframe tbody tr th:only-of-type {\n",
       "        vertical-align: middle;\n",
       "    }\n",
       "\n",
       "    .dataframe tbody tr th {\n",
       "        vertical-align: top;\n",
       "    }\n",
       "\n",
       "    .dataframe thead th {\n",
       "        text-align: right;\n",
       "    }\n",
       "</style>\n",
       "<table border=\"1\" class=\"dataframe\">\n",
       "  <thead>\n",
       "    <tr style=\"text-align: right;\">\n",
       "      <th></th>\n",
       "      <th>Estimator</th>\n",
       "      <th>Std. Error</th>\n",
       "      <th>lower bound CI</th>\n",
       "      <th>upper bound CI</th>\n",
       "    </tr>\n",
       "  </thead>\n",
       "  <tbody>\n",
       "    <tr>\n",
       "      <th>LASSO TEST (alpha=0.8)</th>\n",
       "      <td>0.019356</td>\n",
       "      <td>0.024739</td>\n",
       "      <td>-0.031495</td>\n",
       "      <td>0.070207</td>\n",
       "    </tr>\n",
       "  </tbody>\n",
       "</table>\n",
       "</div>"
      ],
      "text/plain": [
       "                        Estimator  Std. Error  lower bound CI  upper bound CI\n",
       "LASSO TEST (alpha=0.8)   0.019356    0.024739       -0.031495        0.070207"
      ]
     },
     "metadata": {},
     "execution_count": 76
    }
   ],
   "metadata": {}
  },
  {
   "cell_type": "code",
   "execution_count": 77,
   "source": [
    "table_13 = table_11.append(table_12_pandas)\n",
    "table_13"
   ],
   "outputs": [
    {
     "output_type": "execute_result",
     "data": {
      "text/html": [
       "<div>\n",
       "<style scoped>\n",
       "    .dataframe tbody tr th:only-of-type {\n",
       "        vertical-align: middle;\n",
       "    }\n",
       "\n",
       "    .dataframe tbody tr th {\n",
       "        vertical-align: top;\n",
       "    }\n",
       "\n",
       "    .dataframe thead th {\n",
       "        text-align: right;\n",
       "    }\n",
       "</style>\n",
       "<table border=\"1\" class=\"dataframe\">\n",
       "  <thead>\n",
       "    <tr style=\"text-align: right;\">\n",
       "      <th></th>\n",
       "      <th>Estimator</th>\n",
       "      <th>Std. Error</th>\n",
       "      <th>lower bound CI</th>\n",
       "      <th>upper bound CI</th>\n",
       "    </tr>\n",
       "  </thead>\n",
       "  <tbody>\n",
       "    <tr>\n",
       "      <th>OLS</th>\n",
       "      <td>-0.009378</td>\n",
       "      <td>0.029888</td>\n",
       "      <td>-0.070600</td>\n",
       "      <td>0.051844</td>\n",
       "    </tr>\n",
       "    <tr>\n",
       "      <th>LASSO TRAIN (alpha=0.00077)</th>\n",
       "      <td>-0.032578</td>\n",
       "      <td>0.024406</td>\n",
       "      <td>-0.081365</td>\n",
       "      <td>0.016209</td>\n",
       "    </tr>\n",
       "    <tr>\n",
       "      <th>LASSO TEST (alpha= 0.00077)</th>\n",
       "      <td>0.031154</td>\n",
       "      <td>0.051624</td>\n",
       "      <td>-0.074960</td>\n",
       "      <td>0.137268</td>\n",
       "    </tr>\n",
       "    <tr>\n",
       "      <th>LASSO TRAIN ( alpha =0.1)</th>\n",
       "      <td>0.031154</td>\n",
       "      <td>0.051624</td>\n",
       "      <td>-0.074960</td>\n",
       "      <td>0.137268</td>\n",
       "    </tr>\n",
       "    <tr>\n",
       "      <th>LASSO TEST ( alpha= 0.1 )</th>\n",
       "      <td>0.031154</td>\n",
       "      <td>0.051624</td>\n",
       "      <td>-0.074960</td>\n",
       "      <td>0.137268</td>\n",
       "    </tr>\n",
       "    <tr>\n",
       "      <th>LASSO TRAIN (alpha=0.8)</th>\n",
       "      <td>0.019356</td>\n",
       "      <td>0.024739</td>\n",
       "      <td>-0.031495</td>\n",
       "      <td>0.070207</td>\n",
       "    </tr>\n",
       "    <tr>\n",
       "      <th>LASSO TEST (alpha=0.8)</th>\n",
       "      <td>0.019356</td>\n",
       "      <td>0.024739</td>\n",
       "      <td>-0.031495</td>\n",
       "      <td>0.070207</td>\n",
       "    </tr>\n",
       "  </tbody>\n",
       "</table>\n",
       "</div>"
      ],
      "text/plain": [
       "                             Estimator  Std. Error  lower bound CI  \\\n",
       "OLS                          -0.009378    0.029888       -0.070600   \n",
       "LASSO TRAIN (alpha=0.00077)  -0.032578    0.024406       -0.081365   \n",
       "LASSO TEST (alpha= 0.00077)   0.031154    0.051624       -0.074960   \n",
       "LASSO TRAIN ( alpha =0.1)     0.031154    0.051624       -0.074960   \n",
       "LASSO TEST ( alpha= 0.1 )     0.031154    0.051624       -0.074960   \n",
       "LASSO TRAIN (alpha=0.8)       0.019356    0.024739       -0.031495   \n",
       "LASSO TEST (alpha=0.8)        0.019356    0.024739       -0.031495   \n",
       "\n",
       "                             upper bound CI  \n",
       "OLS                                0.051844  \n",
       "LASSO TRAIN (alpha=0.00077)        0.016209  \n",
       "LASSO TEST (alpha= 0.00077)        0.137268  \n",
       "LASSO TRAIN ( alpha =0.1)          0.137268  \n",
       "LASSO TEST ( alpha= 0.1 )          0.137268  \n",
       "LASSO TRAIN (alpha=0.8)            0.070207  \n",
       "LASSO TEST (alpha=0.8)             0.070207  "
      ]
     },
     "metadata": {},
     "execution_count": 77
    }
   ],
   "metadata": {}
  },
  {
   "cell_type": "code",
   "execution_count": 78,
   "source": [
    "table_13_html = table_13.to_html()\n",
    "print(table_13_html)"
   ],
   "outputs": [
    {
     "output_type": "stream",
     "name": "stdout",
     "text": [
      "<table border=\"1\" class=\"dataframe\">\n",
      "  <thead>\n",
      "    <tr style=\"text-align: right;\">\n",
      "      <th></th>\n",
      "      <th>Estimator</th>\n",
      "      <th>Std. Error</th>\n",
      "      <th>lower bound CI</th>\n",
      "      <th>upper bound CI</th>\n",
      "    </tr>\n",
      "  </thead>\n",
      "  <tbody>\n",
      "    <tr>\n",
      "      <th>OLS</th>\n",
      "      <td>-0.009378</td>\n",
      "      <td>0.029888</td>\n",
      "      <td>-0.070600</td>\n",
      "      <td>0.051844</td>\n",
      "    </tr>\n",
      "    <tr>\n",
      "      <th>LASSO TRAIN (alpha=0.00077)</th>\n",
      "      <td>-0.032578</td>\n",
      "      <td>0.024406</td>\n",
      "      <td>-0.081365</td>\n",
      "      <td>0.016209</td>\n",
      "    </tr>\n",
      "    <tr>\n",
      "      <th>LASSO TEST (alpha= 0.00077)</th>\n",
      "      <td>0.031154</td>\n",
      "      <td>0.051624</td>\n",
      "      <td>-0.074960</td>\n",
      "      <td>0.137268</td>\n",
      "    </tr>\n",
      "    <tr>\n",
      "      <th>LASSO TRAIN ( alpha =0.1)</th>\n",
      "      <td>0.031154</td>\n",
      "      <td>0.051624</td>\n",
      "      <td>-0.074960</td>\n",
      "      <td>0.137268</td>\n",
      "    </tr>\n",
      "    <tr>\n",
      "      <th>LASSO TEST ( alpha= 0.1 )</th>\n",
      "      <td>0.031154</td>\n",
      "      <td>0.051624</td>\n",
      "      <td>-0.074960</td>\n",
      "      <td>0.137268</td>\n",
      "    </tr>\n",
      "    <tr>\n",
      "      <th>LASSO TRAIN (alpha=0.8)</th>\n",
      "      <td>0.019356</td>\n",
      "      <td>0.024739</td>\n",
      "      <td>-0.031495</td>\n",
      "      <td>0.070207</td>\n",
      "    </tr>\n",
      "    <tr>\n",
      "      <th>LASSO TEST (alpha=0.8)</th>\n",
      "      <td>0.019356</td>\n",
      "      <td>0.024739</td>\n",
      "      <td>-0.031495</td>\n",
      "      <td>0.070207</td>\n",
      "    </tr>\n",
      "  </tbody>\n",
      "</table>\n"
     ]
    }
   ],
   "metadata": {}
  },
  {
   "cell_type": "markdown",
   "source": [
    "The least square method provides a rather noisy estimate of the speed of convergence. We can not answer the question if poor countries grow faster than rich countries. The least square method does not work when the ratio $p/n$ is large.\n",
    "\n",
    "First of all, these are the $\\beta$'s for Lasso when $\\alpha$ = 0.00077.\n",
    "\n",
    "On the one hand, for  sample splitting via Lasso provides a more precise estimate. \n",
    "The Lasso (Train sample) based point estimate is $-5\\%$ and the $95\\%$ confidence interval for the (annual) rate of convergence $[-8.14\\%,1.03\\%]$ only includes negative numbers. This empirical evidence does NOT support the convergence hypothesis.\n",
    "\n",
    "On the other hand, The Lasso (Test sample) based point estimate is $-5\\%$ and the $95\\%$ confidence interval for the (annual) rate of convergence $[-17.38\\%,-0.87\\%]$ only includes negative numbers. This empirical evidence does support the convergence hypothesis.\n",
    "\n",
    "Secondly, these are the $\\beta$'s for Lasso when $\\alpha$ = 0.1.\n",
    "\n",
    "On the one hand, for  sample splitting via Lasso provides a more precise estimate. \n",
    "The Lasso (Train sample) based point estimate is $-5\\%$ and the $95\\%$ confidence interval for the (annual) rate of convergence $[-17.38\\%,-0.87\\%]$ only includes negative numbers. This empirical evidence does support the convergence hypothesis.\n",
    "\n",
    "On the other hand, The Lasso (Test sample) based point estimate is $-5\\%$ and the $95\\%$ confidence interval for the (annual) rate of convergence $[-17.38\\%,-0.87\\%]$ only includes negative numbers. This empirical evidence does support the convergence hypothesis.\n",
    "\n",
    "First of all, these are the $\\beta$'s for Lasso when $\\alpha$ = 0.8\n",
    "\n",
    "On the one hand, for  sample splitting via Lasso provides a more precise estimate. \n",
    "The Lasso (Train sample) based point estimate is $-5\\%$ and the $95\\%$ confidence interval for the (annual) rate of convergence $[-8.06\\%,-0.12\\%]$ only includes negative numbers. This empirical evidence does support the convergence hypothesis.\n",
    "\n",
    "On the other hand, The Lasso (Test sample) based point estimate is $-5\\%$ and the $95\\%$ confidence interval for the (annual) rate of convergence $[-8.06\\%,-0.12\\%]$ only includes negative numbers. This empirical evidence does support the convergence hypothesis."
   ],
   "metadata": {}
  },
  {
   "cell_type": "markdown",
   "source": [
    "<table border=\"1\" class=\"dataframe\">\n",
    "  <thead>\n",
    "    <tr style=\"text-align: right;\">\n",
    "      <th></th>\n",
    "      <th>Estimator</th>\n",
    "      <th>Std. Error</th>\n",
    "      <th>lower bound CI</th>\n",
    "      <th>upper bound CI</th>\n",
    "    </tr>\n",
    "  </thead>\n",
    "  <tbody>\n",
    "    <tr>\n",
    "      <th>OLS</th>\n",
    "      <td>-0.009378</td>\n",
    "      <td>0.029888</td>\n",
    "      <td>-0.070600</td>\n",
    "      <td>0.051844</td>\n",
    "    </tr>\n",
    "    <tr>\n",
    "      <th>LASSO TRAIN (alpha=0.00077)</th>\n",
    "      <td>-0.035543</td>\n",
    "      <td>0.022953</td>\n",
    "      <td>-0.081426</td>\n",
    "      <td>0.010340</td>\n",
    "    </tr>\n",
    "    <tr>\n",
    "      <th>LASSO TEST (alpha= 0.00077)</th>\n",
    "      <td>-0.091273</td>\n",
    "      <td>0.040154</td>\n",
    "      <td>-0.173811</td>\n",
    "      <td>-0.008736</td>\n",
    "    </tr>\n",
    "    <tr>\n",
    "      <th>LASSO TRAIN ( alpha =0.1)</th>\n",
    "      <td>-0.091273</td>\n",
    "      <td>0.040154</td>\n",
    "      <td>-0.173811</td>\n",
    "      <td>-0.008736</td>\n",
    "    </tr>\n",
    "    <tr>\n",
    "      <th>LASSO TEST ( alpha= 0.1 )</th>\n",
    "      <td>-0.091273</td>\n",
    "      <td>0.040154</td>\n",
    "      <td>-0.173811</td>\n",
    "      <td>-0.008736</td>\n",
    "    </tr>\n",
    "    <tr>\n",
    "      <th>LASSO TRAIN (alpha=0.8)</th>\n",
    "      <td>-0.040951</td>\n",
    "      <td>0.019292</td>\n",
    "      <td>-0.080605</td>\n",
    "      <td>-0.001296</td>\n",
    "    </tr>\n",
    "    <tr>\n",
    "      <th>LASSO TEST (alpha=0.8)</th>\n",
    "      <td>-0.040951</td>\n",
    "      <td>0.019292</td>\n",
    "      <td>-0.080605</td>\n",
    "      <td>-0.001296</td>\n",
    "    </tr>\n",
    "  </tbody>\n",
    "</table>"
   ],
   "metadata": {}
  },
  {
   "cell_type": "markdown",
   "source": [
    "## Double LASSO using theoretical Lambda (HDM package)"
   ],
   "metadata": {}
  },
  {
   "cell_type": "code",
   "execution_count": 79,
   "source": [
    "res_Y = hdmpy.rlasso( W, Y, post=True ).est['residuals']\n",
    "res_D = hdmpy.rlasso( W, D, post=True ).est['residuals']\n",
    "\n",
    "r_Y = pd.DataFrame(res_Y, columns=['r_Y'])\n",
    "r_D = pd.DataFrame(res_D, columns=['r_D'])"
   ],
   "outputs": [],
   "metadata": {}
  },
  {
   "cell_type": "code",
   "execution_count": 80,
   "source": [
    "# OLS regression\n",
    "reg_ols  = sm.OLS(r_Y, r_D).fit()\n",
    "print(reg_ols.summary())"
   ],
   "outputs": [
    {
     "output_type": "stream",
     "name": "stdout",
     "text": [
      "                                 OLS Regression Results                                \n",
      "=======================================================================================\n",
      "Dep. Variable:                    r_Y   R-squared (uncentered):                   0.127\n",
      "Model:                            OLS   Adj. R-squared (uncentered):              0.117\n",
      "Method:                 Least Squares   F-statistic:                              12.92\n",
      "Date:                Fri, 08 Oct 2021   Prob (F-statistic):                    0.000533\n",
      "Time:                        17:37:10   Log-Likelihood:                          152.68\n",
      "No. Observations:                  90   AIC:                                     -303.4\n",
      "Df Residuals:                      89   BIC:                                     -300.9\n",
      "Df Model:                           1                                                  \n",
      "Covariance Type:            nonrobust                                                  \n",
      "==============================================================================\n",
      "                 coef    std err          t      P>|t|      [0.025      0.975]\n",
      "------------------------------------------------------------------------------\n",
      "r_D           -0.0498      0.014     -3.594      0.001      -0.077      -0.022\n",
      "==============================================================================\n",
      "Omnibus:                        4.622   Durbin-Watson:                   1.510\n",
      "Prob(Omnibus):                  0.099   Jarque-Bera (JB):                5.807\n",
      "Skew:                           0.120   Prob(JB):                       0.0548\n",
      "Kurtosis:                       4.221   Cond. No.                         1.00\n",
      "==============================================================================\n",
      "\n",
      "Notes:\n",
      "[1] R² is computed without centering (uncentered) since the model does not contain a constant.\n",
      "[2] Standard Errors assume that the covariance matrix of the errors is correctly specified.\n"
     ]
    }
   ],
   "metadata": {}
  },
  {
   "cell_type": "code",
   "execution_count": 81,
   "source": [
    "# output: estimated regression coefficient corresponding to the target regressor\n",
    "est_lasso_HDM = reg_ols.summary2().tables[1]['Coef.']['r_D']\n",
    "\n",
    "# output: std. error\n",
    "std_lasso_HDM = reg_ols.summary2().tables[1]['Std.Err.']['r_D']\n",
    "\n",
    "# output: 95% confidence interval\n",
    "lower_ci_lasso_HDM = reg_ols.summary2().tables[1]['[0.025']['r_D']\n",
    "upper_ci_lasso_HDM = reg_ols.summary2().tables[1]['0.975]']['r_D']"
   ],
   "outputs": [],
   "metadata": {}
  },
  {
   "cell_type": "code",
   "execution_count": 82,
   "source": [
    "table_3 = np.zeros( (1, 4) )\n",
    "\n",
    "table_3[0,0] = est_lasso_HDM\n",
    "table_3[0,1] = std_lasso_HDM\n",
    "table_3[0,2] = lower_ci_lasso_HDM \n",
    "table_3[0,3] = upper_ci_lasso_HDM\n",
    "\n",
    "\n",
    "table_3_pandas = pd.DataFrame( table_3, columns = [ \"Estimator\",\"Std. Error\", \"lower bound CI\", \"upper bound CI\"  ]) \n",
    "table_3_pandas.index = [ \"LASSO_HDM\" ]\n",
    "table_3_pandas"
   ],
   "outputs": [
    {
     "output_type": "execute_result",
     "data": {
      "text/html": [
       "<div>\n",
       "<style scoped>\n",
       "    .dataframe tbody tr th:only-of-type {\n",
       "        vertical-align: middle;\n",
       "    }\n",
       "\n",
       "    .dataframe tbody tr th {\n",
       "        vertical-align: top;\n",
       "    }\n",
       "\n",
       "    .dataframe thead th {\n",
       "        text-align: right;\n",
       "    }\n",
       "</style>\n",
       "<table border=\"1\" class=\"dataframe\">\n",
       "  <thead>\n",
       "    <tr style=\"text-align: right;\">\n",
       "      <th></th>\n",
       "      <th>Estimator</th>\n",
       "      <th>Std. Error</th>\n",
       "      <th>lower bound CI</th>\n",
       "      <th>upper bound CI</th>\n",
       "    </tr>\n",
       "  </thead>\n",
       "  <tbody>\n",
       "    <tr>\n",
       "      <th>LASSO_HDM</th>\n",
       "      <td>-0.049811</td>\n",
       "      <td>0.013858</td>\n",
       "      <td>-0.077347</td>\n",
       "      <td>-0.022276</td>\n",
       "    </tr>\n",
       "  </tbody>\n",
       "</table>\n",
       "</div>"
      ],
      "text/plain": [
       "           Estimator  Std. Error  lower bound CI  upper bound CI\n",
       "LASSO_HDM  -0.049811    0.013858       -0.077347       -0.022276"
      ]
     },
     "metadata": {},
     "execution_count": 82
    }
   ],
   "metadata": {}
  },
  {
   "cell_type": "markdown",
   "source": [
    "Using HDM package via lasso provides estimation with $-5\\%$ and the $95\\%$ confidence interval for the (annual) rate of convergence $[-7.73\\%,-2.22\\%]$ only includes negative numbers. This empirical evidence does support the convergence hypothesis."
   ],
   "metadata": {}
  },
  {
   "cell_type": "markdown",
   "source": [
    "## Double LASSO using method = \"partialling out\""
   ],
   "metadata": {}
  },
  {
   "cell_type": "code",
   "execution_count": 83,
   "source": [
    "lasso_direct = hdmpy.rlassoEffect(x=W, y=Y, d=D, method=\"partialling out\")\n",
    "lasso_direct"
   ],
   "outputs": [
    {
     "output_type": "execute_result",
     "data": {
      "text/plain": [
       "{'alpha': -0.04981144483733834,\n",
       " 'se': array([0.01539133]),\n",
       " 't': array([-3.23633167]),\n",
       " 'pval': array([0.00121077]),\n",
       " 'coefficients': -0.04981144483733834,\n",
       " 'coefficient': -0.04981144483733834,\n",
       " 'coefficients_reg':                     0\n",
       " (Intercept)  0.058101\n",
       " x0          -0.075565\n",
       " x1           0.000000\n",
       " x2           0.000000\n",
       " x3           0.000000\n",
       " ...               ...\n",
       " x55          0.000000\n",
       " x56          0.000000\n",
       " x57          0.000000\n",
       " x58          0.000000\n",
       " x59          0.000000\n",
       " \n",
       " [61 rows x 1 columns],\n",
       " 'selection_index': array([[ True],\n",
       "        [False],\n",
       "        [ True],\n",
       "        [False],\n",
       "        [ True],\n",
       "        [False],\n",
       "        [False],\n",
       "        [False],\n",
       "        [False],\n",
       "        [False],\n",
       "        [False],\n",
       "        [ True],\n",
       "        [False],\n",
       "        [False],\n",
       "        [ True],\n",
       "        [False],\n",
       "        [False],\n",
       "        [False],\n",
       "        [False],\n",
       "        [False],\n",
       "        [False],\n",
       "        [False],\n",
       "        [False],\n",
       "        [False],\n",
       "        [False],\n",
       "        [False],\n",
       "        [False],\n",
       "        [False],\n",
       "        [False],\n",
       "        [False],\n",
       "        [False],\n",
       "        [False],\n",
       "        [False],\n",
       "        [ True],\n",
       "        [False],\n",
       "        [False],\n",
       "        [False],\n",
       "        [False],\n",
       "        [False],\n",
       "        [False],\n",
       "        [False],\n",
       "        [False],\n",
       "        [False],\n",
       "        [False],\n",
       "        [ True],\n",
       "        [False],\n",
       "        [False],\n",
       "        [False],\n",
       "        [False],\n",
       "        [False],\n",
       "        [False],\n",
       "        [False],\n",
       "        [False],\n",
       "        [False],\n",
       "        [False],\n",
       "        [False],\n",
       "        [False],\n",
       "        [False],\n",
       "        [False],\n",
       "        [False]]),\n",
       " 'residuals': {'epsilon': array([[-3.49848290e-02],\n",
       "         [ 9.52657707e-02],\n",
       "         [ 1.25530270e-02],\n",
       "         [ 1.45051157e-02],\n",
       "         [-1.21212956e-02],\n",
       "         [ 6.10442897e-03],\n",
       "         [ 2.38808615e-02],\n",
       "         [ 2.35925129e-02],\n",
       "         [-2.51882039e-02],\n",
       "         [-3.28317379e-03],\n",
       "         [ 3.26116159e-02],\n",
       "         [ 7.84400354e-02],\n",
       "         [-2.39374185e-02],\n",
       "         [ 3.69879313e-02],\n",
       "         [ 6.49582648e-02],\n",
       "         [-1.98036065e-02],\n",
       "         [ 1.49731491e-02],\n",
       "         [-2.35299549e-02],\n",
       "         [-3.60085919e-02],\n",
       "         [ 3.51316929e-03],\n",
       "         [ 1.61620376e-02],\n",
       "         [ 6.07508356e-02],\n",
       "         [ 1.15639372e-01],\n",
       "         [ 4.34356056e-02],\n",
       "         [ 5.66148392e-03],\n",
       "         [ 2.69169427e-05],\n",
       "         [ 7.00477269e-02],\n",
       "         [ 1.76262552e-02],\n",
       "         [ 3.34778871e-02],\n",
       "         [ 2.07315008e-02],\n",
       "         [ 3.30063634e-02],\n",
       "         [ 8.17543261e-03],\n",
       "         [ 2.73186289e-02],\n",
       "         [-1.67216885e-02],\n",
       "         [ 1.06653033e-02],\n",
       "         [ 1.55816825e-02],\n",
       "         [ 1.59537137e-02],\n",
       "         [ 3.11297929e-02],\n",
       "         [ 2.30954424e-03],\n",
       "         [-8.12063106e-03],\n",
       "         [-8.71695816e-03],\n",
       "         [ 5.98383821e-04],\n",
       "         [-7.34579243e-03],\n",
       "         [ 1.82278148e-02],\n",
       "         [-1.16687675e-01],\n",
       "         [-6.37801362e-02],\n",
       "         [-1.12363965e-02],\n",
       "         [-3.06850578e-02],\n",
       "         [-6.03443804e-02],\n",
       "         [-3.47115122e-02],\n",
       "         [ 5.24599190e-02],\n",
       "         [-3.68484872e-02],\n",
       "         [ 1.13668751e-03],\n",
       "         [-4.48824215e-02],\n",
       "         [-6.64123390e-02],\n",
       "         [-6.81015576e-02],\n",
       "         [-7.44072496e-02],\n",
       "         [-2.98153308e-02],\n",
       "         [-8.19576069e-03],\n",
       "         [-3.66941527e-02],\n",
       "         [-6.98023480e-02],\n",
       "         [-5.31157210e-02],\n",
       "         [ 2.87182891e-02],\n",
       "         [-1.93314850e-02],\n",
       "         [ 5.00891034e-03],\n",
       "         [ 4.85815925e-03],\n",
       "         [-1.24003980e-02],\n",
       "         [-1.34087606e-01],\n",
       "         [ 4.70689433e-02],\n",
       "         [ 3.83224267e-02],\n",
       "         [ 6.37296176e-03],\n",
       "         [ 4.03832896e-03],\n",
       "         [-3.39895257e-02],\n",
       "         [ 7.51715850e-02],\n",
       "         [ 3.80763871e-02],\n",
       "         [ 3.14365455e-02],\n",
       "         [-6.36548178e-02],\n",
       "         [ 1.37748516e-01],\n",
       "         [ 6.28427939e-02],\n",
       "         [-3.41575056e-03],\n",
       "         [-3.78134362e-03],\n",
       "         [-1.48340027e-02],\n",
       "         [-2.14625294e-02],\n",
       "         [-3.48767519e-02],\n",
       "         [-3.17420299e-02],\n",
       "         [-2.11805603e-02],\n",
       "         [-2.79231134e-02],\n",
       "         [-1.18551528e-02],\n",
       "         [-1.40056746e-02],\n",
       "         [-1.31492060e-02]]),\n",
       "  'v': array([[ 0.52224775],\n",
       "         [ 0.13027854],\n",
       "         [ 0.07232197],\n",
       "         [-0.13196876],\n",
       "         [ 0.09840476],\n",
       "         [ 0.35730564],\n",
       "         [ 0.29409786],\n",
       "         [ 0.79778407],\n",
       "         [-0.01281871],\n",
       "         [ 0.08948357],\n",
       "         [ 0.24792072],\n",
       "         [-0.15386794],\n",
       "         [ 0.51916609],\n",
       "         [ 0.08095357],\n",
       "         [-0.07419893],\n",
       "         [-0.4272166 ],\n",
       "         [ 0.7020042 ],\n",
       "         [ 0.06546644],\n",
       "         [ 1.1780591 ],\n",
       "         [ 0.2131817 ],\n",
       "         [-0.42767423],\n",
       "         [-0.30375461],\n",
       "         [-0.70061133],\n",
       "         [-0.1908735 ],\n",
       "         [ 0.23665682],\n",
       "         [-0.52678542],\n",
       "         [ 0.21266098],\n",
       "         [-0.36917503],\n",
       "         [ 0.1646763 ],\n",
       "         [ 0.0521761 ],\n",
       "         [ 0.14220512],\n",
       "         [ 0.26772109],\n",
       "         [-0.64441088],\n",
       "         [-0.53145383],\n",
       "         [-0.10316275],\n",
       "         [-0.00779027],\n",
       "         [ 0.16496099],\n",
       "         [-0.11283308],\n",
       "         [ 0.15468537],\n",
       "         [ 0.05620812],\n",
       "         [ 0.20798022],\n",
       "         [ 0.20738542],\n",
       "         [-0.18652253],\n",
       "         [-0.73279207],\n",
       "         [-0.4562576 ],\n",
       "         [-0.5075765 ],\n",
       "         [-0.34768807],\n",
       "         [-0.43713094],\n",
       "         [ 0.11552148],\n",
       "         [-0.93281805],\n",
       "         [ 0.18193425],\n",
       "         [-0.02894488],\n",
       "         [ 0.170249  ],\n",
       "         [-0.18685441],\n",
       "         [-0.09797129],\n",
       "         [ 0.16775064],\n",
       "         [-0.15108181],\n",
       "         [ 0.28165299],\n",
       "         [ 0.49664435],\n",
       "         [-0.25627972],\n",
       "         [-0.03672719],\n",
       "         [ 0.30348206],\n",
       "         [ 0.1539853 ],\n",
       "         [-0.06556942],\n",
       "         [ 0.13924958],\n",
       "         [-0.20928515],\n",
       "         [ 0.40570607],\n",
       "         [ 0.50044004],\n",
       "         [-0.13422303],\n",
       "         [ 0.03624017],\n",
       "         [-0.16286397],\n",
       "         [-0.06729083],\n",
       "         [-0.02076426],\n",
       "         [-0.32382142],\n",
       "         [-0.02041192],\n",
       "         [ 0.04473323],\n",
       "         [-0.43936259],\n",
       "         [ 0.1996553 ],\n",
       "         [ 0.39777497],\n",
       "         [-0.21166601],\n",
       "         [ 0.32571938],\n",
       "         [ 0.18176374],\n",
       "         [-0.37870359],\n",
       "         [-0.30497948],\n",
       "         [-0.11113707],\n",
       "         [ 0.11492087],\n",
       "         [-0.08623875],\n",
       "         [-0.01314347],\n",
       "         [ 0.08676469],\n",
       "         [ 0.08652982]])},\n",
       " 'samplesize': 90}"
      ]
     },
     "metadata": {},
     "execution_count": 83
    }
   ],
   "metadata": {}
  },
  {
   "cell_type": "code",
   "execution_count": 84,
   "source": [
    "est_lasso_part_out = lasso_direct[\"coefficients\"]\n",
    "std_lasso_part_out = lasso_direct[\"se\"]\n",
    "lower_ci_lasso_part_out = est_lasso - 1.96*std_lasso\n",
    "upper_ci_lasso_part_out = est_lasso + 1.96*std_lasso"
   ],
   "outputs": [],
   "metadata": {}
  },
  {
   "cell_type": "code",
   "execution_count": 85,
   "source": [
    "table_4 = np.zeros( (1, 4) )\n",
    "\n",
    "table_4[0,0] = est_lasso_part_out\n",
    "table_4[0,1] = std_lasso_part_out\n",
    "table_4[0,2] = lower_ci_lasso_part_out\n",
    "table_4[0,3] = upper_ci_lasso_part_out\n",
    "\n",
    "\n",
    "table_4_pandas = pd.DataFrame( table_4, columns = [ \"Estimator\",\"Std. Error\", \"lower bound CI\", \"upper bound CI\"  ]) \n",
    "table_4_pandas.index = [ \"LASSO_partialling_out\" ]\n",
    "table_4_pandas"
   ],
   "outputs": [
    {
     "output_type": "execute_result",
     "data": {
      "text/html": [
       "<div>\n",
       "<style scoped>\n",
       "    .dataframe tbody tr th:only-of-type {\n",
       "        vertical-align: middle;\n",
       "    }\n",
       "\n",
       "    .dataframe tbody tr th {\n",
       "        vertical-align: top;\n",
       "    }\n",
       "\n",
       "    .dataframe thead th {\n",
       "        text-align: right;\n",
       "    }\n",
       "</style>\n",
       "<table border=\"1\" class=\"dataframe\">\n",
       "  <thead>\n",
       "    <tr style=\"text-align: right;\">\n",
       "      <th></th>\n",
       "      <th>Estimator</th>\n",
       "      <th>Std. Error</th>\n",
       "      <th>lower bound CI</th>\n",
       "      <th>upper bound CI</th>\n",
       "    </tr>\n",
       "  </thead>\n",
       "  <tbody>\n",
       "    <tr>\n",
       "      <th>LASSO_partialling_out</th>\n",
       "      <td>-0.049811</td>\n",
       "      <td>0.015391</td>\n",
       "      <td>-0.080414</td>\n",
       "      <td>0.015258</td>\n",
       "    </tr>\n",
       "  </tbody>\n",
       "</table>\n",
       "</div>"
      ],
      "text/plain": [
       "                       Estimator  Std. Error  lower bound CI  upper bound CI\n",
       "LASSO_partialling_out  -0.049811    0.015391       -0.080414        0.015258"
      ]
     },
     "metadata": {},
     "execution_count": 85
    }
   ],
   "metadata": {}
  },
  {
   "cell_type": "markdown",
   "source": [
    "The partialling-out approach via lasso does not allow us to answer the question about the convergence hypothesis since the confidence interval includes zero."
   ],
   "metadata": {}
  },
  {
   "cell_type": "code",
   "execution_count": 86,
   "source": [
    "table_14 = table_13.append(table_3_pandas)\n",
    "table_14"
   ],
   "outputs": [
    {
     "output_type": "execute_result",
     "data": {
      "text/html": [
       "<div>\n",
       "<style scoped>\n",
       "    .dataframe tbody tr th:only-of-type {\n",
       "        vertical-align: middle;\n",
       "    }\n",
       "\n",
       "    .dataframe tbody tr th {\n",
       "        vertical-align: top;\n",
       "    }\n",
       "\n",
       "    .dataframe thead th {\n",
       "        text-align: right;\n",
       "    }\n",
       "</style>\n",
       "<table border=\"1\" class=\"dataframe\">\n",
       "  <thead>\n",
       "    <tr style=\"text-align: right;\">\n",
       "      <th></th>\n",
       "      <th>Estimator</th>\n",
       "      <th>Std. Error</th>\n",
       "      <th>lower bound CI</th>\n",
       "      <th>upper bound CI</th>\n",
       "    </tr>\n",
       "  </thead>\n",
       "  <tbody>\n",
       "    <tr>\n",
       "      <th>OLS</th>\n",
       "      <td>-0.009378</td>\n",
       "      <td>0.029888</td>\n",
       "      <td>-0.070600</td>\n",
       "      <td>0.051844</td>\n",
       "    </tr>\n",
       "    <tr>\n",
       "      <th>LASSO TRAIN (alpha=0.00077)</th>\n",
       "      <td>-0.032578</td>\n",
       "      <td>0.024406</td>\n",
       "      <td>-0.081365</td>\n",
       "      <td>0.016209</td>\n",
       "    </tr>\n",
       "    <tr>\n",
       "      <th>LASSO TEST (alpha= 0.00077)</th>\n",
       "      <td>0.031154</td>\n",
       "      <td>0.051624</td>\n",
       "      <td>-0.074960</td>\n",
       "      <td>0.137268</td>\n",
       "    </tr>\n",
       "    <tr>\n",
       "      <th>LASSO TRAIN ( alpha =0.1)</th>\n",
       "      <td>0.031154</td>\n",
       "      <td>0.051624</td>\n",
       "      <td>-0.074960</td>\n",
       "      <td>0.137268</td>\n",
       "    </tr>\n",
       "    <tr>\n",
       "      <th>LASSO TEST ( alpha= 0.1 )</th>\n",
       "      <td>0.031154</td>\n",
       "      <td>0.051624</td>\n",
       "      <td>-0.074960</td>\n",
       "      <td>0.137268</td>\n",
       "    </tr>\n",
       "    <tr>\n",
       "      <th>LASSO TRAIN (alpha=0.8)</th>\n",
       "      <td>0.019356</td>\n",
       "      <td>0.024739</td>\n",
       "      <td>-0.031495</td>\n",
       "      <td>0.070207</td>\n",
       "    </tr>\n",
       "    <tr>\n",
       "      <th>LASSO TEST (alpha=0.8)</th>\n",
       "      <td>0.019356</td>\n",
       "      <td>0.024739</td>\n",
       "      <td>-0.031495</td>\n",
       "      <td>0.070207</td>\n",
       "    </tr>\n",
       "    <tr>\n",
       "      <th>LASSO_HDM</th>\n",
       "      <td>-0.049811</td>\n",
       "      <td>0.013858</td>\n",
       "      <td>-0.077347</td>\n",
       "      <td>-0.022276</td>\n",
       "    </tr>\n",
       "  </tbody>\n",
       "</table>\n",
       "</div>"
      ],
      "text/plain": [
       "                             Estimator  Std. Error  lower bound CI  \\\n",
       "OLS                          -0.009378    0.029888       -0.070600   \n",
       "LASSO TRAIN (alpha=0.00077)  -0.032578    0.024406       -0.081365   \n",
       "LASSO TEST (alpha= 0.00077)   0.031154    0.051624       -0.074960   \n",
       "LASSO TRAIN ( alpha =0.1)     0.031154    0.051624       -0.074960   \n",
       "LASSO TEST ( alpha= 0.1 )     0.031154    0.051624       -0.074960   \n",
       "LASSO TRAIN (alpha=0.8)       0.019356    0.024739       -0.031495   \n",
       "LASSO TEST (alpha=0.8)        0.019356    0.024739       -0.031495   \n",
       "LASSO_HDM                    -0.049811    0.013858       -0.077347   \n",
       "\n",
       "                             upper bound CI  \n",
       "OLS                                0.051844  \n",
       "LASSO TRAIN (alpha=0.00077)        0.016209  \n",
       "LASSO TEST (alpha= 0.00077)        0.137268  \n",
       "LASSO TRAIN ( alpha =0.1)          0.137268  \n",
       "LASSO TEST ( alpha= 0.1 )          0.137268  \n",
       "LASSO TRAIN (alpha=0.8)            0.070207  \n",
       "LASSO TEST (alpha=0.8)             0.070207  \n",
       "LASSO_HDM                         -0.022276  "
      ]
     },
     "metadata": {},
     "execution_count": 86
    }
   ],
   "metadata": {}
  },
  {
   "cell_type": "code",
   "execution_count": 87,
   "source": [
    "table_15 = table_14.append(table_4_pandas)\n",
    "table_15"
   ],
   "outputs": [
    {
     "output_type": "execute_result",
     "data": {
      "text/html": [
       "<div>\n",
       "<style scoped>\n",
       "    .dataframe tbody tr th:only-of-type {\n",
       "        vertical-align: middle;\n",
       "    }\n",
       "\n",
       "    .dataframe tbody tr th {\n",
       "        vertical-align: top;\n",
       "    }\n",
       "\n",
       "    .dataframe thead th {\n",
       "        text-align: right;\n",
       "    }\n",
       "</style>\n",
       "<table border=\"1\" class=\"dataframe\">\n",
       "  <thead>\n",
       "    <tr style=\"text-align: right;\">\n",
       "      <th></th>\n",
       "      <th>Estimator</th>\n",
       "      <th>Std. Error</th>\n",
       "      <th>lower bound CI</th>\n",
       "      <th>upper bound CI</th>\n",
       "    </tr>\n",
       "  </thead>\n",
       "  <tbody>\n",
       "    <tr>\n",
       "      <th>OLS</th>\n",
       "      <td>-0.009378</td>\n",
       "      <td>0.029888</td>\n",
       "      <td>-0.070600</td>\n",
       "      <td>0.051844</td>\n",
       "    </tr>\n",
       "    <tr>\n",
       "      <th>LASSO TRAIN (alpha=0.00077)</th>\n",
       "      <td>-0.032578</td>\n",
       "      <td>0.024406</td>\n",
       "      <td>-0.081365</td>\n",
       "      <td>0.016209</td>\n",
       "    </tr>\n",
       "    <tr>\n",
       "      <th>LASSO TEST (alpha= 0.00077)</th>\n",
       "      <td>0.031154</td>\n",
       "      <td>0.051624</td>\n",
       "      <td>-0.074960</td>\n",
       "      <td>0.137268</td>\n",
       "    </tr>\n",
       "    <tr>\n",
       "      <th>LASSO TRAIN ( alpha =0.1)</th>\n",
       "      <td>0.031154</td>\n",
       "      <td>0.051624</td>\n",
       "      <td>-0.074960</td>\n",
       "      <td>0.137268</td>\n",
       "    </tr>\n",
       "    <tr>\n",
       "      <th>LASSO TEST ( alpha= 0.1 )</th>\n",
       "      <td>0.031154</td>\n",
       "      <td>0.051624</td>\n",
       "      <td>-0.074960</td>\n",
       "      <td>0.137268</td>\n",
       "    </tr>\n",
       "    <tr>\n",
       "      <th>LASSO TRAIN (alpha=0.8)</th>\n",
       "      <td>0.019356</td>\n",
       "      <td>0.024739</td>\n",
       "      <td>-0.031495</td>\n",
       "      <td>0.070207</td>\n",
       "    </tr>\n",
       "    <tr>\n",
       "      <th>LASSO TEST (alpha=0.8)</th>\n",
       "      <td>0.019356</td>\n",
       "      <td>0.024739</td>\n",
       "      <td>-0.031495</td>\n",
       "      <td>0.070207</td>\n",
       "    </tr>\n",
       "    <tr>\n",
       "      <th>LASSO_HDM</th>\n",
       "      <td>-0.049811</td>\n",
       "      <td>0.013858</td>\n",
       "      <td>-0.077347</td>\n",
       "      <td>-0.022276</td>\n",
       "    </tr>\n",
       "    <tr>\n",
       "      <th>LASSO_partialling_out</th>\n",
       "      <td>-0.049811</td>\n",
       "      <td>0.015391</td>\n",
       "      <td>-0.080414</td>\n",
       "      <td>0.015258</td>\n",
       "    </tr>\n",
       "  </tbody>\n",
       "</table>\n",
       "</div>"
      ],
      "text/plain": [
       "                             Estimator  Std. Error  lower bound CI  \\\n",
       "OLS                          -0.009378    0.029888       -0.070600   \n",
       "LASSO TRAIN (alpha=0.00077)  -0.032578    0.024406       -0.081365   \n",
       "LASSO TEST (alpha= 0.00077)   0.031154    0.051624       -0.074960   \n",
       "LASSO TRAIN ( alpha =0.1)     0.031154    0.051624       -0.074960   \n",
       "LASSO TEST ( alpha= 0.1 )     0.031154    0.051624       -0.074960   \n",
       "LASSO TRAIN (alpha=0.8)       0.019356    0.024739       -0.031495   \n",
       "LASSO TEST (alpha=0.8)        0.019356    0.024739       -0.031495   \n",
       "LASSO_HDM                    -0.049811    0.013858       -0.077347   \n",
       "LASSO_partialling_out        -0.049811    0.015391       -0.080414   \n",
       "\n",
       "                             upper bound CI  \n",
       "OLS                                0.051844  \n",
       "LASSO TRAIN (alpha=0.00077)        0.016209  \n",
       "LASSO TEST (alpha= 0.00077)        0.137268  \n",
       "LASSO TRAIN ( alpha =0.1)          0.137268  \n",
       "LASSO TEST ( alpha= 0.1 )          0.137268  \n",
       "LASSO TRAIN (alpha=0.8)            0.070207  \n",
       "LASSO TEST (alpha=0.8)             0.070207  \n",
       "LASSO_HDM                         -0.022276  \n",
       "LASSO_partialling_out              0.015258  "
      ]
     },
     "metadata": {},
     "execution_count": 87
    }
   ],
   "metadata": {}
  },
  {
   "cell_type": "code",
   "execution_count": 88,
   "source": [
    "coef_df = pd.DataFrame(table_15) \n",
    "coef_df"
   ],
   "outputs": [
    {
     "output_type": "execute_result",
     "data": {
      "text/html": [
       "<div>\n",
       "<style scoped>\n",
       "    .dataframe tbody tr th:only-of-type {\n",
       "        vertical-align: middle;\n",
       "    }\n",
       "\n",
       "    .dataframe tbody tr th {\n",
       "        vertical-align: top;\n",
       "    }\n",
       "\n",
       "    .dataframe thead th {\n",
       "        text-align: right;\n",
       "    }\n",
       "</style>\n",
       "<table border=\"1\" class=\"dataframe\">\n",
       "  <thead>\n",
       "    <tr style=\"text-align: right;\">\n",
       "      <th></th>\n",
       "      <th>Estimator</th>\n",
       "      <th>Std. Error</th>\n",
       "      <th>lower bound CI</th>\n",
       "      <th>upper bound CI</th>\n",
       "    </tr>\n",
       "  </thead>\n",
       "  <tbody>\n",
       "    <tr>\n",
       "      <th>OLS</th>\n",
       "      <td>-0.009378</td>\n",
       "      <td>0.029888</td>\n",
       "      <td>-0.070600</td>\n",
       "      <td>0.051844</td>\n",
       "    </tr>\n",
       "    <tr>\n",
       "      <th>LASSO TRAIN (alpha=0.00077)</th>\n",
       "      <td>-0.032578</td>\n",
       "      <td>0.024406</td>\n",
       "      <td>-0.081365</td>\n",
       "      <td>0.016209</td>\n",
       "    </tr>\n",
       "    <tr>\n",
       "      <th>LASSO TEST (alpha= 0.00077)</th>\n",
       "      <td>0.031154</td>\n",
       "      <td>0.051624</td>\n",
       "      <td>-0.074960</td>\n",
       "      <td>0.137268</td>\n",
       "    </tr>\n",
       "    <tr>\n",
       "      <th>LASSO TRAIN ( alpha =0.1)</th>\n",
       "      <td>0.031154</td>\n",
       "      <td>0.051624</td>\n",
       "      <td>-0.074960</td>\n",
       "      <td>0.137268</td>\n",
       "    </tr>\n",
       "    <tr>\n",
       "      <th>LASSO TEST ( alpha= 0.1 )</th>\n",
       "      <td>0.031154</td>\n",
       "      <td>0.051624</td>\n",
       "      <td>-0.074960</td>\n",
       "      <td>0.137268</td>\n",
       "    </tr>\n",
       "    <tr>\n",
       "      <th>LASSO TRAIN (alpha=0.8)</th>\n",
       "      <td>0.019356</td>\n",
       "      <td>0.024739</td>\n",
       "      <td>-0.031495</td>\n",
       "      <td>0.070207</td>\n",
       "    </tr>\n",
       "    <tr>\n",
       "      <th>LASSO TEST (alpha=0.8)</th>\n",
       "      <td>0.019356</td>\n",
       "      <td>0.024739</td>\n",
       "      <td>-0.031495</td>\n",
       "      <td>0.070207</td>\n",
       "    </tr>\n",
       "    <tr>\n",
       "      <th>LASSO_HDM</th>\n",
       "      <td>-0.049811</td>\n",
       "      <td>0.013858</td>\n",
       "      <td>-0.077347</td>\n",
       "      <td>-0.022276</td>\n",
       "    </tr>\n",
       "    <tr>\n",
       "      <th>LASSO_partialling_out</th>\n",
       "      <td>-0.049811</td>\n",
       "      <td>0.015391</td>\n",
       "      <td>-0.080414</td>\n",
       "      <td>0.015258</td>\n",
       "    </tr>\n",
       "  </tbody>\n",
       "</table>\n",
       "</div>"
      ],
      "text/plain": [
       "                             Estimator  Std. Error  lower bound CI  \\\n",
       "OLS                          -0.009378    0.029888       -0.070600   \n",
       "LASSO TRAIN (alpha=0.00077)  -0.032578    0.024406       -0.081365   \n",
       "LASSO TEST (alpha= 0.00077)   0.031154    0.051624       -0.074960   \n",
       "LASSO TRAIN ( alpha =0.1)     0.031154    0.051624       -0.074960   \n",
       "LASSO TEST ( alpha= 0.1 )     0.031154    0.051624       -0.074960   \n",
       "LASSO TRAIN (alpha=0.8)       0.019356    0.024739       -0.031495   \n",
       "LASSO TEST (alpha=0.8)        0.019356    0.024739       -0.031495   \n",
       "LASSO_HDM                    -0.049811    0.013858       -0.077347   \n",
       "LASSO_partialling_out        -0.049811    0.015391       -0.080414   \n",
       "\n",
       "                             upper bound CI  \n",
       "OLS                                0.051844  \n",
       "LASSO TRAIN (alpha=0.00077)        0.016209  \n",
       "LASSO TEST (alpha= 0.00077)        0.137268  \n",
       "LASSO TRAIN ( alpha =0.1)          0.137268  \n",
       "LASSO TEST ( alpha= 0.1 )          0.137268  \n",
       "LASSO TRAIN (alpha=0.8)            0.070207  \n",
       "LASSO TEST (alpha=0.8)             0.070207  \n",
       "LASSO_HDM                         -0.022276  \n",
       "LASSO_partialling_out              0.015258  "
      ]
     },
     "metadata": {},
     "execution_count": 88
    }
   ],
   "metadata": {}
  },
  {
   "cell_type": "code",
   "execution_count": 89,
   "source": [
    "variables = list(coef_df.index.values)\n",
    "variables"
   ],
   "outputs": [
    {
     "output_type": "execute_result",
     "data": {
      "text/plain": [
       "['OLS',\n",
       " 'LASSO TRAIN (alpha=0.00077)',\n",
       " 'LASSO TEST (alpha= 0.00077)',\n",
       " 'LASSO TRAIN ( alpha =0.1)',\n",
       " 'LASSO TEST ( alpha= 0.1 )',\n",
       " 'LASSO TRAIN (alpha=0.8)',\n",
       " 'LASSO TEST (alpha=0.8)',\n",
       " 'LASSO_HDM',\n",
       " 'LASSO_partialling_out']"
      ]
     },
     "metadata": {},
     "execution_count": 89
    }
   ],
   "metadata": {}
  },
  {
   "cell_type": "code",
   "execution_count": 90,
   "source": [
    "coef_df['variables'] = variables\n",
    "coef_df"
   ],
   "outputs": [
    {
     "output_type": "execute_result",
     "data": {
      "text/html": [
       "<div>\n",
       "<style scoped>\n",
       "    .dataframe tbody tr th:only-of-type {\n",
       "        vertical-align: middle;\n",
       "    }\n",
       "\n",
       "    .dataframe tbody tr th {\n",
       "        vertical-align: top;\n",
       "    }\n",
       "\n",
       "    .dataframe thead th {\n",
       "        text-align: right;\n",
       "    }\n",
       "</style>\n",
       "<table border=\"1\" class=\"dataframe\">\n",
       "  <thead>\n",
       "    <tr style=\"text-align: right;\">\n",
       "      <th></th>\n",
       "      <th>Estimator</th>\n",
       "      <th>Std. Error</th>\n",
       "      <th>lower bound CI</th>\n",
       "      <th>upper bound CI</th>\n",
       "      <th>variables</th>\n",
       "    </tr>\n",
       "  </thead>\n",
       "  <tbody>\n",
       "    <tr>\n",
       "      <th>OLS</th>\n",
       "      <td>-0.009378</td>\n",
       "      <td>0.029888</td>\n",
       "      <td>-0.070600</td>\n",
       "      <td>0.051844</td>\n",
       "      <td>OLS</td>\n",
       "    </tr>\n",
       "    <tr>\n",
       "      <th>LASSO TRAIN (alpha=0.00077)</th>\n",
       "      <td>-0.032578</td>\n",
       "      <td>0.024406</td>\n",
       "      <td>-0.081365</td>\n",
       "      <td>0.016209</td>\n",
       "      <td>LASSO TRAIN (alpha=0.00077)</td>\n",
       "    </tr>\n",
       "    <tr>\n",
       "      <th>LASSO TEST (alpha= 0.00077)</th>\n",
       "      <td>0.031154</td>\n",
       "      <td>0.051624</td>\n",
       "      <td>-0.074960</td>\n",
       "      <td>0.137268</td>\n",
       "      <td>LASSO TEST (alpha= 0.00077)</td>\n",
       "    </tr>\n",
       "    <tr>\n",
       "      <th>LASSO TRAIN ( alpha =0.1)</th>\n",
       "      <td>0.031154</td>\n",
       "      <td>0.051624</td>\n",
       "      <td>-0.074960</td>\n",
       "      <td>0.137268</td>\n",
       "      <td>LASSO TRAIN ( alpha =0.1)</td>\n",
       "    </tr>\n",
       "    <tr>\n",
       "      <th>LASSO TEST ( alpha= 0.1 )</th>\n",
       "      <td>0.031154</td>\n",
       "      <td>0.051624</td>\n",
       "      <td>-0.074960</td>\n",
       "      <td>0.137268</td>\n",
       "      <td>LASSO TEST ( alpha= 0.1 )</td>\n",
       "    </tr>\n",
       "    <tr>\n",
       "      <th>LASSO TRAIN (alpha=0.8)</th>\n",
       "      <td>0.019356</td>\n",
       "      <td>0.024739</td>\n",
       "      <td>-0.031495</td>\n",
       "      <td>0.070207</td>\n",
       "      <td>LASSO TRAIN (alpha=0.8)</td>\n",
       "    </tr>\n",
       "    <tr>\n",
       "      <th>LASSO TEST (alpha=0.8)</th>\n",
       "      <td>0.019356</td>\n",
       "      <td>0.024739</td>\n",
       "      <td>-0.031495</td>\n",
       "      <td>0.070207</td>\n",
       "      <td>LASSO TEST (alpha=0.8)</td>\n",
       "    </tr>\n",
       "    <tr>\n",
       "      <th>LASSO_HDM</th>\n",
       "      <td>-0.049811</td>\n",
       "      <td>0.013858</td>\n",
       "      <td>-0.077347</td>\n",
       "      <td>-0.022276</td>\n",
       "      <td>LASSO_HDM</td>\n",
       "    </tr>\n",
       "    <tr>\n",
       "      <th>LASSO_partialling_out</th>\n",
       "      <td>-0.049811</td>\n",
       "      <td>0.015391</td>\n",
       "      <td>-0.080414</td>\n",
       "      <td>0.015258</td>\n",
       "      <td>LASSO_partialling_out</td>\n",
       "    </tr>\n",
       "  </tbody>\n",
       "</table>\n",
       "</div>"
      ],
      "text/plain": [
       "                             Estimator  Std. Error  lower bound CI  \\\n",
       "OLS                          -0.009378    0.029888       -0.070600   \n",
       "LASSO TRAIN (alpha=0.00077)  -0.032578    0.024406       -0.081365   \n",
       "LASSO TEST (alpha= 0.00077)   0.031154    0.051624       -0.074960   \n",
       "LASSO TRAIN ( alpha =0.1)     0.031154    0.051624       -0.074960   \n",
       "LASSO TEST ( alpha= 0.1 )     0.031154    0.051624       -0.074960   \n",
       "LASSO TRAIN (alpha=0.8)       0.019356    0.024739       -0.031495   \n",
       "LASSO TEST (alpha=0.8)        0.019356    0.024739       -0.031495   \n",
       "LASSO_HDM                    -0.049811    0.013858       -0.077347   \n",
       "LASSO_partialling_out        -0.049811    0.015391       -0.080414   \n",
       "\n",
       "                             upper bound CI                    variables  \n",
       "OLS                                0.051844                          OLS  \n",
       "LASSO TRAIN (alpha=0.00077)        0.016209  LASSO TRAIN (alpha=0.00077)  \n",
       "LASSO TEST (alpha= 0.00077)        0.137268  LASSO TEST (alpha= 0.00077)  \n",
       "LASSO TRAIN ( alpha =0.1)          0.137268    LASSO TRAIN ( alpha =0.1)  \n",
       "LASSO TEST ( alpha= 0.1 )          0.137268    LASSO TEST ( alpha= 0.1 )  \n",
       "LASSO TRAIN (alpha=0.8)            0.070207      LASSO TRAIN (alpha=0.8)  \n",
       "LASSO TEST (alpha=0.8)             0.070207       LASSO TEST (alpha=0.8)  \n",
       "LASSO_HDM                         -0.022276                    LASSO_HDM  \n",
       "LASSO_partialling_out              0.015258        LASSO_partialling_out  "
      ]
     },
     "metadata": {},
     "execution_count": 90
    }
   ],
   "metadata": {}
  },
  {
   "cell_type": "code",
   "execution_count": 91,
   "source": [
    "errors = coef_df['Estimator'] - coef_df['lower bound CI']"
   ],
   "outputs": [],
   "metadata": {}
  },
  {
   "cell_type": "code",
   "execution_count": 92,
   "source": [
    "coef_df['errors'] = errors"
   ],
   "outputs": [],
   "metadata": {}
  },
  {
   "cell_type": "code",
   "execution_count": 93,
   "source": [
    "# Define figure, axes, and plot\n",
    "fig, ax = plt.subplots(figsize=(15, 10))\n",
    "    \n",
    "# Error bars for 95% confidence interval\n",
    "# Can increase capsize to add whiskers\n",
    "coef_df.plot(x='variables', y='Estimator', kind='bar',\n",
    "            ax=ax, color='none', fontsize=22, \n",
    "            ecolor='steelblue',capsize=0,\n",
    "            yerr='errors', legend=False)\n",
    "    \n",
    "# Set title & labels\n",
    "plt.title('Coefficients of Features w/ 95% Confidence Intervals',fontsize=30)\n",
    "ax.set_ylabel('Coefficients',fontsize=22)\n",
    "ax.set_xlabel('',fontsize=22)\n",
    "    \n",
    "# Coefficients\n",
    "ax.scatter(x=pd.np.arange(coef_df.shape[0]), \n",
    "         marker='o', s=80, \n",
    "         y=coef_df['Estimator'], color='steelblue')\n",
    "    \n",
    "# Line to define zero on the y-axis\n",
    "ax.axhline(y=0, linestyle='--', color='red', linewidth=1)\n",
    "plt.show()"
   ],
   "outputs": [
    {
     "output_type": "stream",
     "name": "stderr",
     "text": [
      "<ipython-input-93-6a909340e248>:17: FutureWarning: The pandas.np module is deprecated and will be removed from pandas in a future version. Import numpy directly instead\n",
      "  ax.scatter(x=pd.np.arange(coef_df.shape[0]),\n"
     ]
    },
    {
     "output_type": "display_data",
     "data": {
      "image/png": "[encoded data removed]",
      "text/plain": [
       "<Figure size 1080x720 with 1 Axes>"
      ]
     },
     "metadata": {
      "needs_background": "light"
     }
    }
   ],
   "metadata": {}
  },
  {
   "cell_type": "markdown",
   "source": [
    "#### This graph shows the comparison of the coefficients in the different model approaches: OLS, Lasso (with $\\alpha$ = 0.00077), Lasso (with $\\alpha$ = 0.1), Lasso (with $\\alpha$ = 0.8), Lasso with the HDM package and the Lasso by the \"partialling out\" method. These are the following inferences:\n",
    "\n",
    "\n",
    "- First of all, Ordinal Least squares provides a rather noisy estimate (high standard error) of the speed of convergence, and does not allow us to answer the question about the convergence hypothesis since the confidence interval includes zero.\n",
    "\n",
    "- Secondly, on the one hand, for  sample splitting via Lasso provides a more precise estimate. \n",
    "\n",
    "- The Lasso (Train sample) based point estimate is $-5\\%$ and the $95\\%$ confidence interval for the (annual) rate of convergence $[-8.14\\%,1.03\\%]$ only includes negative numbers. This empirical evidence does NOT support the convergence hypothesis.\n",
    "\n",
    "- On the other hand, The Lasso (Test sample) based point estimate is $-5\\%$ and the $95\\%$ confidence interval for the (annual) rate of convergence $[-17.38\\%,-0.87\\%]$ only includes negative numbers. This empirical evidence does support the convergence hypothesis.\n",
    "\n",
    "- Thirdly, these are the $\\beta$'s for Lasso when $\\alpha$ = 0.1. On the one hand, for  sample splitting via Lasso provides a more precise estimate. \n",
    "\n",
    "- The Lasso (Train sample) based point estimate is $-5\\%$ and the $95\\%$ confidence interval for the (annual) rate of convergence $[-17.38\\%,-0.87\\%]$ only includes negative numbers. This empirical evidence does support the convergence hypothesis.\n",
    "\n",
    "- On the other hand, The Lasso (Test sample) based point estimate is $-5\\%$ and the $95\\%$ confidence interval for the (annual) rate of convergence $[-17.38\\%,-0.87\\%]$ only includes negative numbers. This empirical evidence does support the convergence hypothesis.\n",
    "\n",
    "- Fourthly, these are the $\\beta$'s for Lasso when $\\alpha$ = 0.8\n",
    "\n",
    "- One the one hand, The Lasso (Train sample) based point estimate is $-5\\%$ and the $95\\%$ confidence interval for the (annual) rate of convergence $[-8.06\\%,-0.12\\%]$ only includes negative numbers. This empirical evidence does support the convergence hypothesis.\n",
    "\n",
    "- On the other hand, The Lasso (Test sample) based point estimate is $-5\\%$ and the $95\\%$ confidence interval for the (annual) rate of convergence $[-8.06\\%,-0.12\\%]$ only includes negative numbers. This empirical evidence does support the convergence hypothesis.\n",
    "\n",
    "- Fifthly, The Lasso via HDM package based point estimate is $-5\\%$ and the $95\\%$ confidence interval for the (annual) rate of convergence $[-7.73\\%,-2.22\\%]$ only includes negative numbers. This empirical evidence does support the convergence hypothesis.\n",
    "\n",
    "- Sixthly, The Lasso via partialling out method based point estimate is $-5\\%$ and the $95\\%$ confidence interval for the (annual) rate of convergence $[-8.05\\%,-0.94\\%]$ only includes negative numbers. This empirical evidence does support the convergence hypothesis.\n",
    "\n",
    "In conclusion, only lasso in almost all the methods used give us significant results (only not in the train sample with $\\alpha$=0.00077). In other words, according to this empirical research we can say that poor countries grow faster than rich countries."
   ],
   "metadata": {}
  }
 ],
 "metadata": {
  "hide_input": false,
  "kernelspec": {
   "display_name": "Python 3",
   "language": "python",
   "name": "python3"
  },
  "language_info": {
   "codemirror_mode": {
    "name": "ipython",
    "version": 3
   },
   "file_extension": ".py",
   "mimetype": "text/x-python",
   "name": "python",
   "nbconvert_exporter": "python",
   "pygments_lexer": "ipython3",
   "version": "3.8.8"
  }
 },
 "nbformat": 4,
 "nbformat_minor": 4
}