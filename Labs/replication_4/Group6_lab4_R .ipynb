{
 "cells": [
  {
   "cell_type": "markdown",
   "source": [
    "# Replication of Lab 4"
   ],
   "metadata": {}
  },
  {
   "cell_type": "markdown",
   "source": [
    "# Group 6\n",
    "Members:\n",
    "1. Eljaer Eusebio\n",
    "2. Claudia Vivas\n",
    "3. Luis Sandoval\n",
    "4. Andre Tapia"
   ],
   "metadata": {}
  },
  {
   "cell_type": "markdown",
   "source": [
    "# Question 1 "
   ],
   "metadata": {}
  },
  {
   "cell_type": "markdown",
   "source": [
    "## Orthogonal Learning"
   ],
   "metadata": {
    "_execution_state": "idle",
    "_uuid": "051d70d956493feee0c6d64651c6a088724dca2a",
    "execution": {
     "iopub.execute_input": "2021-03-17T13:55:27.521139Z",
     "iopub.status.busy": "2021-03-17T13:55:27.518637Z",
     "iopub.status.idle": "2021-03-17T14:02:21.927575Z",
     "shell.execute_reply": "2021-03-17T14:02:21.925824Z"
    },
    "papermill": {
     "duration": 414.418507,
     "end_time": "2021-03-17T14:02:21.927880",
     "exception": false,
     "start_time": "2021-03-17T13:55:27.509373",
     "status": "completed"
    },
    "tags": []
   }
  },
  {
   "cell_type": "markdown",
   "source": [
    "### Naive Method\n",
    "The first step of this method is to generate a lasso regression to discard the unnecessary variables, then regress D in Y using the variables not discarded by the Lasso regression using an OLS model. In this way it finds the estimated coefficient of the treatment.\n",
    "\n",
    "### Neyman orthogonality\n",
    "Neyman's orthogonality holds that the estimated coefficient $(\\ alpha)$ of the treatment depends on the coefficients estimated via partialing-out. That is, $\\ alpha$ is insensitive to changes in the estimated coefficients via partialing-out.\n",
    "\n",
    "Taking into account the concept of orthogonality, the estimation of the treatment coefficient using a double lasso via partialling-out model generates an estimated coefficient with a lower standard error, since this is more similar to the population coefficient. This is because in the second step of the partialling-out algorithm the treatment (D) is cleaned of all possible effects of D. In this sense, the coefficient estimated via partialling-out closely resembles the population parameter and complies with Neyman's orthogonality. However, the naive method generates a less precise estimated coefficient than the previous method, because although it uses laso and ols regression, it does not clean up the effects of X on D. This difference in the estimated coefficients can be observed in the histogram distributions for the following trials."
   ],
   "metadata": {}
  },
  {
   "cell_type": "markdown",
   "source": [
    "### 50 trials"
   ],
   "metadata": {}
  },
  {
   "cell_type": "code",
   "execution_count": 6,
   "source": [
    "library(hdm)\r\n",
    "\r\n",
    "set.seed(1)\r\n",
    "B= 50 \r\n",
    "Naive = rep(0, B) \r\n",
    "Orthogonal = rep(0, B) \r\n",
    "\r\n",
    "for (i in 1:B){\r\n",
    "    \r\n",
    "n=100 \r\n",
    "p= 100 \r\n",
    "beta = 1/(1:p)^2\r\n",
    "gamma =1/(1:p)^2 # este es un numero cualquiera\r\n",
    "\r\n",
    "X=matrix(rnorm(n*p), n, p) \r\n",
    "D=   X%*%gamma + rnorm(n)/4 \r\n",
    "Y = 5*D+ X%*%beta + rnorm(n) \r\n",
    "    \r\n",
    "# NAIVE METHOD    \r\n",
    "SX.IDs = which(rlasso(Y~ D+X)$coef[-c(1,2)] !=0)  #select covariates by Lasso\r\n",
    "\r\n",
    "if (sum(SX.IDs)==0) {Naive[i] = lm(Y~ D)$coef[2]} \r\n",
    "if (sum(SX.IDs)>0) {Naive[i] = lm(Y~ D + X[,SX.IDs])$coef[2]}  \r\n",
    "       \r\n",
    "#LASSO using partialling out\r\n",
    "\r\n",
    "resY = rlasso(Y~ X, Post=F)$res\r\n",
    "resD = rlasso(D~ X, Post=F)$res\r\n",
    "Orthogonal[i]= lm(resY ~ resD)$coef[2]\r\n",
    "\r\n",
    "}\r\n"
   ],
   "outputs": [],
   "metadata": {
    "_execution_state": "idle",
    "_uuid": "051d70d956493feee0c6d64651c6a088724dca2a",
    "execution": {
     "iopub.execute_input": "2021-03-17T13:55:27.521139Z",
     "iopub.status.busy": "2021-03-17T13:55:27.518637Z",
     "iopub.status.idle": "2021-03-17T14:02:21.927575Z",
     "shell.execute_reply": "2021-03-17T14:02:21.925824Z"
    },
    "papermill": {
     "duration": 414.418507,
     "end_time": "2021-03-17T14:02:21.927880",
     "exception": false,
     "start_time": "2021-03-17T13:55:27.509373",
     "status": "completed"
    },
    "tags": []
   }
  },
  {
   "cell_type": "code",
   "execution_count": 106,
   "source": [
    "hist(Orthogonal-5,col=5, freq=F, xlim= c(-2, 2), xlab= \"Orthogonal -True \", main=\"Orthogonal - 50 trials\", breaks=7)\n",
    "hist(Naive-5, col=3, freq=F, xlim= c(-2,2), xlab= \"Naive- True\", main = \"Naive - 50 trials\", breaks=7)\n"
   ],
   "outputs": [
    {
     "output_type": "display_data",
     "data": {
      "image/png": "[encoded data removed]",
      "text/plain": [
       "Plot with title \"Orthogonal - 50 trials\""
      ]
     },
     "metadata": {}
    },
    {
     "output_type": "display_data",
     "data": {
      "image/png": "[encoded data removed]",
      "text/plain": [
       "Plot with title \"Naive - 50 trials\""
      ]
     },
     "metadata": {}
    }
   ],
   "metadata": {
    "execution": {
     "iopub.execute_input": "2021-03-17T14:02:22.037841Z",
     "iopub.status.busy": "2021-03-17T14:02:21.989089Z",
     "iopub.status.idle": "2021-03-17T14:02:22.473026Z",
     "shell.execute_reply": "2021-03-17T14:02:22.471864Z"
    },
    "papermill": {
     "duration": 0.537926,
     "end_time": "2021-03-17T14:02:22.473201",
     "exception": false,
     "start_time": "2021-03-17T14:02:21.935275",
     "status": "completed"
    },
    "tags": []
   }
  },
  {
   "cell_type": "markdown",
   "source": [
    "The population coefficient is 5, however at the time of graphing the histograms we subtract 5 from the estimated coefficients so that they can be centered on 0. In the first histogram, it is observed that the largest number of estimated coefficients resulting from the 50 trials are centered on zero. However, in the second histogram it is observed that the distribution is centered on a value between zero and one. In the first case, the neyman orthogonality is fulfilled, while in the second case the naive method is used, which biases the estimation of the treatment coefficient (D), since there is the influence of covariates X on D and because we created the process data generator, since D is not random."
   ],
   "metadata": {}
  },
  {
   "cell_type": "markdown",
   "source": [
    "### 100 trials"
   ],
   "metadata": {}
  },
  {
   "cell_type": "code",
   "execution_count": 10,
   "source": [
    "library(hdm)\n",
    "\n",
    "set.seed(1)\n",
    "B= 100 \n",
    "Naive = rep(0, B) \n",
    "Orthogonal = rep(0, B) \n",
    "\n",
    "for (i in 1:B){\n",
    "    \n",
    "n=100 \n",
    "p= 100 \n",
    "beta = 1/(1:p)^2\n",
    "gamma =1/(1:p)^2 \n",
    "\n",
    "X=matrix(rnorm(n*p), n, p) \n",
    "D=   X%*%gamma + rnorm(n)/4 \n",
    "Y = 5*D+ X%*%beta + rnorm(n) \n",
    "    \n",
    "# NAIVE METHOD    \n",
    "SX.IDs = which(rlasso(Y~ D+X)$coef[-c(1,2)] !=0)  \n",
    "\n",
    "if (sum(SX.IDs)==0) {Naive[i] = lm(Y~ D)$coef[2]} \n",
    "if (sum(SX.IDs)>0) {Naive[i] = lm(Y~ D + X[,SX.IDs])$coef[2]}  \n",
    "       \n",
    "#LASSO using partialling out\n",
    "\n",
    "resY = rlasso(Y~ X, Post=F)$res\n",
    "resD = rlasso(D~ X, Post=F)$res\n",
    "Orthogonal[i]= lm(resY ~ resD)$coef[2]\n",
    "\n",
    "}"
   ],
   "outputs": [],
   "metadata": {
    "execution": {
     "iopub.execute_input": "2021-03-17T14:02:22.491998Z",
     "iopub.status.busy": "2021-03-17T14:02:22.490334Z",
     "iopub.status.idle": "2021-03-17T14:09:19.285478Z",
     "shell.execute_reply": "2021-03-17T14:09:19.281058Z"
    },
    "papermill": {
     "duration": 416.805708,
     "end_time": "2021-03-17T14:09:19.285763",
     "exception": false,
     "start_time": "2021-03-17T14:02:22.480055",
     "status": "completed"
    },
    "tags": []
   }
  },
  {
   "cell_type": "code",
   "execution_count": 105,
   "source": [
    "hist(Orthogonal-5,col=5, freq=F, xlim= c(-2, 2), xlab= \"Orthogonal -True \", main=\"Orthogonal - 100 trials\", breaks=10) \n",
    "hist(Naive-5, col=3, freq=F, xlim= c(-2,2), xlab= \"Naive- True\", main = \"Naive - 100 trials\", breaks=10)\n"
   ],
   "outputs": [
    {
     "output_type": "display_data",
     "data": {
      "image/png": "[encoded data removed]",
      "text/plain": [
       "Plot with title \"Orthogonal - 100 trials\""
      ]
     },
     "metadata": {}
    },
    {
     "output_type": "display_data",
     "data": {
      "image/png": "[encoded data removed]",
      "text/plain": [
       "Plot with title \"Naive - 100 trials\""
      ]
     },
     "metadata": {}
    }
   ],
   "metadata": {
    "execution": {
     "iopub.execute_input": "2021-03-17T14:09:19.374054Z",
     "iopub.status.busy": "2021-03-17T14:09:19.369799Z",
     "iopub.status.idle": "2021-03-17T14:09:19.514722Z",
     "shell.execute_reply": "2021-03-17T14:09:19.513652Z"
    },
    "papermill": {
     "duration": 0.217916,
     "end_time": "2021-03-17T14:09:19.514867",
     "exception": false,
     "start_time": "2021-03-17T14:09:19.296951",
     "status": "completed"
    },
    "tags": []
   }
  },
  {
   "cell_type": "markdown",
   "source": [
    "In this case, it is observed that the first histogram takes the form of a normal distribution centered on zero, while the second histogram centers its distribution centered on a value between zero and one. As in the previous scenario, the coefficient estimated with the navie method is biased."
   ],
   "metadata": {}
  },
  {
   "cell_type": "markdown",
   "source": [
    "### 1000 trials"
   ],
   "metadata": {}
  },
  {
   "cell_type": "code",
   "execution_count": 15,
   "source": [
    "library(hdm)\n",
    "\n",
    "set.seed(1)\n",
    "B= 1000 \n",
    "Naive = rep(0, B) \n",
    "Orthogonal = rep(0, B) \n",
    "\n",
    "for (i in 1:B){\n",
    "    \n",
    "n=100 \n",
    "p= 100 \n",
    "beta = 1/(1:p)^2\n",
    "gamma =1/(1:p)^2 \n",
    "\n",
    "X=matrix(rnorm(n*p), n, p) \n",
    "D=   X%*%gamma + rnorm(n)/4 \n",
    "Y = 5*D+ X%*%beta + rnorm(n) \n",
    "    \n",
    "# NAIVE METHOD    \n",
    "SX.IDs = which(rlasso(Y~ D+X)$coef[-c(1,2)] !=0)  \n",
    "\n",
    "if (sum(SX.IDs)==0) {Naive[i] = lm(Y~ D)$coef[2]} \n",
    "if (sum(SX.IDs)>0) {Naive[i] = lm(Y~ D + X[,SX.IDs])$coef[2]}  \n",
    "       \n",
    "#LASSO using partialling out\n",
    "\n",
    "resY = rlasso(Y~ X, Post=F)$res\n",
    "resD = rlasso(D~ X, Post=F)$res\n",
    "Orthogonal[i]= lm(resY ~ resD)$coef[2]\n",
    "\n",
    "}"
   ],
   "outputs": [],
   "metadata": {}
  },
  {
   "cell_type": "code",
   "execution_count": 107,
   "source": [
    "hist(Orthogonal-5,col=5, freq=F, xlim= c(-2, 2), xlab= \"Orthogonal -True \", main=\"Orthogonal - 1000 trials\", breaks=15) \n",
    "hist(Naive-5, col=3, freq=F, xlim= c(-2,2), xlab= \"Naive- True\", main = \"Naive - 1000 trials\", breaks=15)"
   ],
   "outputs": [
    {
     "output_type": "display_data",
     "data": {
      "image/png": "[encoded data removed]",
      "text/plain": [
       "Plot with title \"Orthogonal - 1000 trials\""
      ]
     },
     "metadata": {}
    },
    {
     "output_type": "display_data",
     "data": {
      "image/png": "[encoded data removed]",
      "text/plain": [
       "Plot with title \"Naive - 1000 trials\""
      ]
     },
     "metadata": {}
    }
   ],
   "metadata": {}
  },
  {
   "cell_type": "markdown",
   "source": [
    "In the scenario where we simulate 1000 scenarios, it is observed that the distribution of the first histogram resembles a normal distribution centered on zero. On the other hand, the second histogram has a distribution similar to a normal distribution centered on a value between zero and one."
   ],
   "metadata": {}
  },
  {
   "cell_type": "markdown",
   "source": [
    "# Question 2"
   ],
   "metadata": {}
  },
  {
   "cell_type": "markdown",
   "source": [
    "# Testing the Convergence Hypothesis"
   ],
   "metadata": {}
  },
  {
   "cell_type": "markdown",
   "source": [
    "## Introduction"
   ],
   "metadata": {}
  },
  {
   "cell_type": "markdown",
   "source": [
    "We provide an additional empirical example of partialling-out with Lasso to estimate the regression coefficient $\\beta_1$ in the high-dimensional linear regression model:\n",
    "  $$\n",
    "  Y = \\beta_1 D +  \\beta_2'W + \\epsilon.\n",
    "  $$\n",
    "  \n",
    "Specifically, we are interested in how the rates  at which economies of different countries grow ($Y$) are related to the initial wealth levels in each country ($D$) controlling for country's institutional, educational, and other similar characteristics ($W$).\n",
    "  \n",
    "The relationship is captured by $\\beta_1$, the *speed of convergence/divergence*, which measures the speed at which poor countries catch up $(\\beta_1< 0)$ or fall behind $(\\beta_1> 0)$ rich countries, after controlling for $W$. Our inference question here is: do poor countries grow faster than rich countries, controlling for educational and other characteristics? In other words, is the speed of convergence negative: $ \\beta_1 <0?$ This is the Convergence Hypothesis predicted by the Solow Growth Model. This is a structural economic model. Under some strong assumptions, that we won't state here, the predictive exercise we are doing here can be given causal interpretation."
   ],
   "metadata": {}
  },
  {
   "cell_type": "markdown",
   "source": [
    "The outcome $Y$ is the realized annual growth rate of a country's wealth  (Gross Domestic Product per capita). The target regressor ($D$) is the initial level of the country's wealth. The target parameter $\\beta_1$ is the speed of convergence, which measures the speed at which poor countries catch up with rich countries. The controls ($W$) include measures of education levels, quality of institutions, trade openness, and political stability in the country."
   ],
   "metadata": {}
  },
  {
   "cell_type": "markdown",
   "source": [
    "## Double-Lasso Approach"
   ],
   "metadata": {}
  },
  {
   "cell_type": "markdown",
   "source": [
    "We have some problems running regressions with many candidate predictors. Finding a model that helps us make decisions about which variables will be interesting and which ones is not a delicate task. Therefore, the main objective is to find a suitable model.\n",
    "\n",
    "One of them is related to DOUBLE-LASSO models, its method combines a regression model with a process of contractions of some parameters to zero and imposes a restriction or penalty on the regression coefficients, to select variables by two step, finding those that predict the dependent variable and those relative to independent variable. This is important, because exclusion of a covariate that is a modest predictor of the dependent variable but strong predictor of the independent variable can create a substantial omitted variable bias.Also, it helps to make test of randomization.\n",
    "\n",
    "In the following lines, the explanation about Lasso's steps will be explained according to the article \"Using double-loop regression for the selection of principle variables\" by Urminsky, Hansen and Chernozhukov,\n",
    "\n",
    "First, they estimate a linear regression model, because they want to find parameters that minimize the sum of squared errors in the regression equation:\n",
    "\n",
    "$$\n",
    " Y_i= \\beta_{0} + \\beta_{1}X_i +  \\beta_{2}W_i1+...+ \\beta_{k+1}W_ik+e_{i}\\\n",
    "$$\n",
    "\n",
    "A lasso regression find parameters which minimize the sum of squared errors in the regression equation with an additional penalty term:\n",
    "\n",
    "$$\n",
    "Min [\\sum_{i}(Y_i - \\beta_{0} + \\beta_{1}X_i +  \\beta_{2}W_i1+...+ \\beta_{k+1}W_ik)^2 + \\lambda \\sum_{k}|\\beta_{k}|\n",
    "$$\n",
    "\n",
    "The penalty term helps reduce the estimated regression coefficients to zero, and some are exactly zero, reducing the over-fitting. By setting some coefficients to zero, you also perform variable selection. Loop regression can be used when the number of observations is smaller than the number of predictors. However, we could omit important variables with nonzero coefficients and underestimate some nonzero coefficients. It would be a bias in the model. In this case, it is necessary to use the \"double lasso\" to select variables and alleviate both sources of bias.\n",
    "\n",
    "Step 1:Fit a lasso regression predicting the dependent variable, and keeping track of the variables with non-zero estimated coefficients:\n",
    "\n",
    "$$\n",
    "Y_i= \\alpha_{0} + \\alpha_{1}W_i1 +...+ \\alpha_{k}W_ik+e_{i}\\\n",
    "$$\n",
    "\n",
    "Step 2: Fit a lasso regression predicting the focal independent variable, keeping track of the variables with non-zero estimated coefficients:\n",
    "\n",
    "$$\n",
    "X_i= \\phi_{0} + \\phi_{1}W_i1 +...+ \\phi_{k}W_ik+e_{i}\\\n",
    "$$\n",
    "\n",
    "If Xi is an effectively randomized treatment, no covariates should be selected in this step.\n",
    "\n",
    "Step 3: Fit a linear regression of the dependent variable on the focal independent variable, including the covariates (Wik) selected in either of the first two steps\n",
    "\n",
    "$$\n",
    "Y_i= \\alpha_{0} + \\alpha_{1}W_i1 + \\sum_{k \\in A} \\beta_{k+1}+...+ \\alpha_{k}W_ik+e_{i}\\\n",
    "$$\n",
    "\n",
    "In the equation, A is the union of the variables estimated to have non-zero coefficients in Steps 1 and 2. This regression could also include a small set of additional covariates identified a priori as necessary. Interpret and report the coefficient estimates and significance tests on the focal variable(s) as the final results. So, lambda is important to avoid over-fitting.\n",
    "\n",
    "\n",
    "\n",
    "\n",
    "\n",
    "\n",
    "\n",
    "\n",
    " \n",
    "\n",
    "\n",
    "\n",
    "\n",
    "\n",
    "\n",
    "\n"
   ],
   "metadata": {}
  },
  {
   "cell_type": "code",
   "execution_count": 1,
   "source": [
    "library(hdm)\n",
    "library(xtable)"
   ],
   "outputs": [
    {
     "output_type": "stream",
     "name": "stderr",
     "text": [
      "Warning message:\n",
      "\"package 'hdm' was built under R version 3.6.3\"Warning message:\n",
      "\"package 'xtable' was built under R version 3.6.3\""
     ]
    }
   ],
   "metadata": {}
  },
  {
   "cell_type": "code",
   "execution_count": 2,
   "source": [
    "# Export data to read in python\n",
    "GrowthData <- GrowthData\n",
    "save(GrowthData, file = \"C:/Users/sniff/Documents/Estadistica aplicada/PD5GrowthData.RData\")"
   ],
   "outputs": [],
   "metadata": {}
  },
  {
   "cell_type": "code",
   "execution_count": 3,
   "source": [
    "library(hdm)\n",
    "growth <- GrowthData\n",
    "attach(growth)\n",
    "names(growth)"
   ],
   "outputs": [
    {
     "output_type": "display_data",
     "data": {
      "text/html": [
       "<ol class=list-inline>\n",
       "\t<li>'Outcome'</li>\n",
       "\t<li>'intercept'</li>\n",
       "\t<li>'gdpsh465'</li>\n",
       "\t<li>'bmp1l'</li>\n",
       "\t<li>'freeop'</li>\n",
       "\t<li>'freetar'</li>\n",
       "\t<li>'h65'</li>\n",
       "\t<li>'hm65'</li>\n",
       "\t<li>'hf65'</li>\n",
       "\t<li>'p65'</li>\n",
       "\t<li>'pm65'</li>\n",
       "\t<li>'pf65'</li>\n",
       "\t<li>'s65'</li>\n",
       "\t<li>'sm65'</li>\n",
       "\t<li>'sf65'</li>\n",
       "\t<li>'fert65'</li>\n",
       "\t<li>'mort65'</li>\n",
       "\t<li>'lifee065'</li>\n",
       "\t<li>'gpop1'</li>\n",
       "\t<li>'fert1'</li>\n",
       "\t<li>'mort1'</li>\n",
       "\t<li>'invsh41'</li>\n",
       "\t<li>'geetot1'</li>\n",
       "\t<li>'geerec1'</li>\n",
       "\t<li>'gde1'</li>\n",
       "\t<li>'govwb1'</li>\n",
       "\t<li>'govsh41'</li>\n",
       "\t<li>'gvxdxe41'</li>\n",
       "\t<li>'high65'</li>\n",
       "\t<li>'highm65'</li>\n",
       "\t<li>'highf65'</li>\n",
       "\t<li>'highc65'</li>\n",
       "\t<li>'highcm65'</li>\n",
       "\t<li>'highcf65'</li>\n",
       "\t<li>'human65'</li>\n",
       "\t<li>'humanm65'</li>\n",
       "\t<li>'humanf65'</li>\n",
       "\t<li>'hyr65'</li>\n",
       "\t<li>'hyrm65'</li>\n",
       "\t<li>'hyrf65'</li>\n",
       "\t<li>'no65'</li>\n",
       "\t<li>'nom65'</li>\n",
       "\t<li>'nof65'</li>\n",
       "\t<li>'pinstab1'</li>\n",
       "\t<li>'pop65'</li>\n",
       "\t<li>'worker65'</li>\n",
       "\t<li>'pop1565'</li>\n",
       "\t<li>'pop6565'</li>\n",
       "\t<li>'sec65'</li>\n",
       "\t<li>'secm65'</li>\n",
       "\t<li>'secf65'</li>\n",
       "\t<li>'secc65'</li>\n",
       "\t<li>'seccm65'</li>\n",
       "\t<li>'seccf65'</li>\n",
       "\t<li>'syr65'</li>\n",
       "\t<li>'syrm65'</li>\n",
       "\t<li>'syrf65'</li>\n",
       "\t<li>'teapri65'</li>\n",
       "\t<li>'teasec65'</li>\n",
       "\t<li>'ex1'</li>\n",
       "\t<li>'im1'</li>\n",
       "\t<li>'xr65'</li>\n",
       "\t<li>'tot1'</li>\n",
       "</ol>\n"
      ],
      "text/latex": [
       "\\begin{enumerate*}\n",
       "\\item 'Outcome'\n",
       "\\item 'intercept'\n",
       "\\item 'gdpsh465'\n",
       "\\item 'bmp1l'\n",
       "\\item 'freeop'\n",
       "\\item 'freetar'\n",
       "\\item 'h65'\n",
       "\\item 'hm65'\n",
       "\\item 'hf65'\n",
       "\\item 'p65'\n",
       "\\item 'pm65'\n",
       "\\item 'pf65'\n",
       "\\item 's65'\n",
       "\\item 'sm65'\n",
       "\\item 'sf65'\n",
       "\\item 'fert65'\n",
       "\\item 'mort65'\n",
       "\\item 'lifee065'\n",
       "\\item 'gpop1'\n",
       "\\item 'fert1'\n",
       "\\item 'mort1'\n",
       "\\item 'invsh41'\n",
       "\\item 'geetot1'\n",
       "\\item 'geerec1'\n",
       "\\item 'gde1'\n",
       "\\item 'govwb1'\n",
       "\\item 'govsh41'\n",
       "\\item 'gvxdxe41'\n",
       "\\item 'high65'\n",
       "\\item 'highm65'\n",
       "\\item 'highf65'\n",
       "\\item 'highc65'\n",
       "\\item 'highcm65'\n",
       "\\item 'highcf65'\n",
       "\\item 'human65'\n",
       "\\item 'humanm65'\n",
       "\\item 'humanf65'\n",
       "\\item 'hyr65'\n",
       "\\item 'hyrm65'\n",
       "\\item 'hyrf65'\n",
       "\\item 'no65'\n",
       "\\item 'nom65'\n",
       "\\item 'nof65'\n",
       "\\item 'pinstab1'\n",
       "\\item 'pop65'\n",
       "\\item 'worker65'\n",
       "\\item 'pop1565'\n",
       "\\item 'pop6565'\n",
       "\\item 'sec65'\n",
       "\\item 'secm65'\n",
       "\\item 'secf65'\n",
       "\\item 'secc65'\n",
       "\\item 'seccm65'\n",
       "\\item 'seccf65'\n",
       "\\item 'syr65'\n",
       "\\item 'syrm65'\n",
       "\\item 'syrf65'\n",
       "\\item 'teapri65'\n",
       "\\item 'teasec65'\n",
       "\\item 'ex1'\n",
       "\\item 'im1'\n",
       "\\item 'xr65'\n",
       "\\item 'tot1'\n",
       "\\end{enumerate*}\n"
      ],
      "text/markdown": [
       "1. 'Outcome'\n",
       "2. 'intercept'\n",
       "3. 'gdpsh465'\n",
       "4. 'bmp1l'\n",
       "5. 'freeop'\n",
       "6. 'freetar'\n",
       "7. 'h65'\n",
       "8. 'hm65'\n",
       "9. 'hf65'\n",
       "10. 'p65'\n",
       "11. 'pm65'\n",
       "12. 'pf65'\n",
       "13. 's65'\n",
       "14. 'sm65'\n",
       "15. 'sf65'\n",
       "16. 'fert65'\n",
       "17. 'mort65'\n",
       "18. 'lifee065'\n",
       "19. 'gpop1'\n",
       "20. 'fert1'\n",
       "21. 'mort1'\n",
       "22. 'invsh41'\n",
       "23. 'geetot1'\n",
       "24. 'geerec1'\n",
       "25. 'gde1'\n",
       "26. 'govwb1'\n",
       "27. 'govsh41'\n",
       "28. 'gvxdxe41'\n",
       "29. 'high65'\n",
       "30. 'highm65'\n",
       "31. 'highf65'\n",
       "32. 'highc65'\n",
       "33. 'highcm65'\n",
       "34. 'highcf65'\n",
       "35. 'human65'\n",
       "36. 'humanm65'\n",
       "37. 'humanf65'\n",
       "38. 'hyr65'\n",
       "39. 'hyrm65'\n",
       "40. 'hyrf65'\n",
       "41. 'no65'\n",
       "42. 'nom65'\n",
       "43. 'nof65'\n",
       "44. 'pinstab1'\n",
       "45. 'pop65'\n",
       "46. 'worker65'\n",
       "47. 'pop1565'\n",
       "48. 'pop6565'\n",
       "49. 'sec65'\n",
       "50. 'secm65'\n",
       "51. 'secf65'\n",
       "52. 'secc65'\n",
       "53. 'seccm65'\n",
       "54. 'seccf65'\n",
       "55. 'syr65'\n",
       "56. 'syrm65'\n",
       "57. 'syrf65'\n",
       "58. 'teapri65'\n",
       "59. 'teasec65'\n",
       "60. 'ex1'\n",
       "61. 'im1'\n",
       "62. 'xr65'\n",
       "63. 'tot1'\n",
       "\n",
       "\n"
      ],
      "text/plain": [
       " [1] \"Outcome\"   \"intercept\" \"gdpsh465\"  \"bmp1l\"     \"freeop\"    \"freetar\"  \n",
       " [7] \"h65\"       \"hm65\"      \"hf65\"      \"p65\"       \"pm65\"      \"pf65\"     \n",
       "[13] \"s65\"       \"sm65\"      \"sf65\"      \"fert65\"    \"mort65\"    \"lifee065\" \n",
       "[19] \"gpop1\"     \"fert1\"     \"mort1\"     \"invsh41\"   \"geetot1\"   \"geerec1\"  \n",
       "[25] \"gde1\"      \"govwb1\"    \"govsh41\"   \"gvxdxe41\"  \"high65\"    \"highm65\"  \n",
       "[31] \"highf65\"   \"highc65\"   \"highcm65\"  \"highcf65\"  \"human65\"   \"humanm65\" \n",
       "[37] \"humanf65\"  \"hyr65\"     \"hyrm65\"    \"hyrf65\"    \"no65\"      \"nom65\"    \n",
       "[43] \"nof65\"     \"pinstab1\"  \"pop65\"     \"worker65\"  \"pop1565\"   \"pop6565\"  \n",
       "[49] \"sec65\"     \"secm65\"    \"secf65\"    \"secc65\"    \"seccm65\"   \"seccf65\"  \n",
       "[55] \"syr65\"     \"syrm65\"    \"syrf65\"    \"teapri65\"  \"teasec65\"  \"ex1\"      \n",
       "[61] \"im1\"       \"xr65\"      \"tot1\"     "
      ]
     },
     "metadata": {}
    }
   ],
   "metadata": {}
  },
  {
   "cell_type": "code",
   "execution_count": 4,
   "source": [
    "dim(growth)"
   ],
   "outputs": [
    {
     "output_type": "display_data",
     "data": {
      "text/html": [
       "<ol class=list-inline>\n",
       "\t<li>90</li>\n",
       "\t<li>63</li>\n",
       "</ol>\n"
      ],
      "text/latex": [
       "\\begin{enumerate*}\n",
       "\\item 90\n",
       "\\item 63\n",
       "\\end{enumerate*}\n"
      ],
      "text/markdown": [
       "1. 90\n",
       "2. 63\n",
       "\n",
       "\n"
      ],
      "text/plain": [
       "[1] 90 63"
      ]
     },
     "metadata": {}
    }
   ],
   "metadata": {}
  },
  {
   "cell_type": "markdown",
   "source": [
    "The sample contains $90$ countries and $63$ controls. Thus $p \\approx 60$, $n=90$ and $p/n$ is not small, so we can use double lasso to prove the converge hypothesis. We use the follow models: \n",
    "- Ordinary least square (OLS)\n",
    "- Double lasso using cross validation\n",
    "- Double lasso using theoretical Lambda\n",
    "- Double lasso using partialling-out"
   ],
   "metadata": {}
  },
  {
   "cell_type": "markdown",
   "source": [
    "### Ordinary least square (OLS)"
   ],
   "metadata": {}
  },
  {
   "cell_type": "code",
   "execution_count": 9,
   "source": [
    "reg.ols <- lm(Outcome~.-1,data=growth)\n",
    "est_ols <- summary(reg.ols)$coef[\"gdpsh465\",1] \n",
    "# output: estimated regression coefficient corresponding to the target regressor\n",
    "\n",
    "std_ols <- summary(reg.ols)$coef[\"gdpsh465\",2] \n",
    "# output: std. error\n",
    "\n",
    "ci_ols <- confint(reg.ols)[2,] \n",
    "# output: 95% confidence interval\n",
    "\n",
    "results_ols <- as.data.frame(cbind(est_ols,std_ols,ci_ols[1],ci_ols[2]))\n",
    "colnames(results_ols) <-c(\"estimator\",\"standard error\", \"lower bound CI\", \"upper bound CI\")\n",
    "rownames(results_ols) <-c(\"OLS\")"
   ],
   "outputs": [],
   "metadata": {}
  },
  {
   "cell_type": "code",
   "execution_count": 10,
   "source": [
    "library(xtable)\n",
    "table <- matrix(0, 1, 4)\n",
    "table[1,1:4]   <- c(est_ols,std_ols,ci_ols[1],ci_ols[2])\n",
    "colnames(table) <-c(\"estimator\",\"standard error\", \"lower bound CI\", \"upper bound CI\")\n",
    "rownames(table) <-c(\"OLS\")\n",
    "tab1<- xtable(table, digits = 3)\n",
    "print(tab1,type=\"html\")"
   ],
   "outputs": [
    {
     "output_type": "stream",
     "name": "stdout",
     "text": [
      "<!-- html table generated in R 3.6.1 by xtable 1.8-4 package -->\n",
      "<!-- Fri Oct 08 17:40:41 2021 -->\n",
      "<table border=1>\n",
      "<tr> <th>  </th> <th> estimator </th> <th> standard error </th> <th> lower bound CI </th> <th> upper bound CI </th>  </tr>\n",
      "  <tr> <td align=\"right\"> OLS </td> <td align=\"right\"> -0.009 </td> <td align=\"right\"> 0.030 </td> <td align=\"right\"> -0.071 </td> <td align=\"right\"> 0.052 </td> </tr>\n",
      "   </table>\n"
     ]
    }
   ],
   "metadata": {}
  },
  {
   "cell_type": "markdown",
   "source": [
    "<!-- html table generated in R 3.6.1 by xtable 1.8-4 package -->\n",
    "<!-- Thu Oct 07 21:35:11 2021 -->\n",
    "<table border=1>\n",
    "<tr> <th>  </th> <th> estimator </th> <th> standard error </th> <th> lower bound CI </th> <th> upper bound CI </th>  </tr>\n",
    "  <tr> <td align=\"right\"> OLS </td> <td align=\"right\"> -0.009 </td> <td align=\"right\"> 0.030 </td> <td align=\"right\"> -0.071 </td> <td align=\"right\"> 0.052 </td> </tr>\n",
    "   </table>"
   ],
   "metadata": {}
  },
  {
   "cell_type": "markdown",
   "source": [
    "According to OLS, we can see a rather noisy estimate of the speed of convergence because it has a high standard error. We can't answer if the convergence hypothesis since the confidence interval includes zero.\n"
   ],
   "metadata": {}
  },
  {
   "cell_type": "markdown",
   "source": [
    "### Double lasso using cross validation"
   ],
   "metadata": {}
  },
  {
   "cell_type": "code",
   "execution_count": 11,
   "source": [
    "#splitting the data\n",
    "set.seed(1234)\n",
    "training <- sample(nrow(growth), nrow(growth)*(3/4), replace=FALSE)\n",
    "\n",
    "data_train <- growth[training,]\n",
    "data_test <- growth[-training,]"
   ],
   "outputs": [],
   "metadata": {}
  },
  {
   "cell_type": "code",
   "execution_count": 12,
   "source": [
    "Y_train <- data_train$Outcome\n",
    "Y_test <- data_test$Outcome"
   ],
   "outputs": [],
   "metadata": {}
  },
  {
   "cell_type": "code",
   "execution_count": 13,
   "source": [
    "dim(data_train)"
   ],
   "outputs": [
    {
     "output_type": "display_data",
     "data": {
      "text/html": [
       "<ol class=list-inline>\n",
       "\t<li>67</li>\n",
       "\t<li>63</li>\n",
       "</ol>\n"
      ],
      "text/latex": [
       "\\begin{enumerate*}\n",
       "\\item 67\n",
       "\\item 63\n",
       "\\end{enumerate*}\n"
      ],
      "text/markdown": [
       "1. 67\n",
       "2. 63\n",
       "\n",
       "\n"
      ],
      "text/plain": [
       "[1] 67 63"
      ]
     },
     "metadata": {}
    }
   ],
   "metadata": {}
  },
  {
   "cell_type": "code",
   "execution_count": 14,
   "source": [
    "dim(data_test)"
   ],
   "outputs": [
    {
     "output_type": "display_data",
     "data": {
      "text/html": [
       "<ol class=list-inline>\n",
       "\t<li>23</li>\n",
       "\t<li>63</li>\n",
       "</ol>\n"
      ],
      "text/latex": [
       "\\begin{enumerate*}\n",
       "\\item 23\n",
       "\\item 63\n",
       "\\end{enumerate*}\n"
      ],
      "text/markdown": [
       "1. 23\n",
       "2. 63\n",
       "\n",
       "\n"
      ],
      "text/plain": [
       "[1] 23 63"
      ]
     },
     "metadata": {}
    }
   ],
   "metadata": {}
  },
  {
   "cell_type": "code",
   "execution_count": 10,
   "source": [
    "Y <- growth[, 1, drop = F] #output variable\n",
    "W <- as.matrix(growth)[, -c(1, 2,3)] #controls\n",
    "D <- growth[, 3, drop = F] #target regressor\n",
    "X <- as.matrix(growth)[, -c(1, 2)] \n",
    "P <- \"bmp1l + freeop + freetar + h65 + hm65 + hf65 + p65 + pm65 + pf65 + s65 + sm65 + sf65 + fert65 + mort65 + lifee065 + gpop1 + fert1 + mort1 + invsh41 + geetot1 + geerec1 + gde1 + govwb1 + govsh41 + gvxdxe41 + high65 + highm65 + highf65 + highc65 + highcm65 + highcf65 + human65 + humanm65 + humanf65 + hyr65 + hyrm65 + hyrf65 + no65 + nom65 + nof65 + pinstab1 + pop65 + worker65 + pop1565 + pop6565 + sec65 + secm65 + secf65 + secc65 + seccm65 + seccf65 + syr65 + syrm65 + syrf65 + teapri65 + teasec65 + ex1 + im1 + xr65 + tot1\"   \n"
   ],
   "outputs": [],
   "metadata": {}
  },
  {
   "cell_type": "code",
   "execution_count": 23,
   "source": [
    "formula_lasso_1 <- as.formula(paste(\"Outcome\", \"~\", P)) # Y - W\n",
    "formula_lasso_2 <- as.formula(paste(\"gdpsh465\", \"~\", P)) # D - W"
   ],
   "outputs": [],
   "metadata": {}
  },
  {
   "cell_type": "code",
   "execution_count": 24,
   "source": [
    "lasso_model_train_1 <- model.matrix(formula_lasso_1,data_train)\n",
    "lasso_model_train_2 <- model.matrix(formula_lasso_2,data_train)\n",
    "\n",
    "lasso_model_test_1 <- model.matrix(formula_lasso_1,data_test)\n",
    "lasso_model_test_2 <- model.matrix(formula_lasso_2,data_test)"
   ],
   "outputs": [],
   "metadata": {}
  },
  {
   "cell_type": "code",
   "execution_count": 89,
   "source": [
    "library(glmnet)\n",
    "\n",
    "#lasso\n",
    "fit.lasso.cv.1   <- cv.glmnet(lasso_model_train_1, Y_train, family=\"gaussian\", alpha=1)\n",
    "yhat.lasso.cv.1    <- predict(fit.lasso.cv.1, newx = lasso_model_test_1)\n",
    "r.A <- Y - yhat.lasso.cv.1\n",
    "R.A <- as.matrix(r.A, col.name=FALSE)\n",
    "\n",
    "fit.lasso.cv.2   <- cv.glmnet(lasso_model_train_2, Y_train, family=\"gaussian\", alpha=1)\n",
    "yhat.lasso.cv.2    <- predict(fit.lasso.cv.2, newx = lasso_model_test_2)\n",
    "r.B <- Y - yhat.lasso.cv.2\n",
    "R.B <- as.matrix(r.B, col.name=FALSE)\n",
    "\n",
    "partial.lasso_g1 <- lm(R.A ~ R.B)\n",
    "est_lasso_g1 <- partial.lasso_g1$coef[2]\n",
    "std_lasso_g1 <- summary(partial.lasso_g1)$coef[2,2]\n",
    "ci_lasso_g1 <- confint(partial.lasso_g1)[2,]"
   ],
   "outputs": [
    {
     "output_type": "stream",
     "name": "stderr",
     "text": [
      "Warning message in summary.lm(partial.lasso_g1):\n",
      "\"essentially perfect fit: summary may be unreliable\"Warning message in summary.lm(object, ...):\n",
      "\"essentially perfect fit: summary may be unreliable\""
     ]
    }
   ],
   "metadata": {}
  },
  {
   "cell_type": "code",
   "execution_count": 101,
   "source": [
    "summary(partial.lasso_g1)"
   ],
   "outputs": [
    {
     "output_type": "stream",
     "name": "stderr",
     "text": [
      "Warning message in summary.lm(partial.lasso_g1):\n",
      "\"essentially perfect fit: summary may be unreliable\""
     ]
    },
    {
     "output_type": "display_data",
     "data": {
      "text/plain": [
       "\n",
       "Call:\n",
       "lm(formula = R.A ~ R.B)\n",
       "\n",
       "Residuals:\n",
       "       Min         1Q     Median         3Q        Max \n",
       "-1.088e-16  3.270e-19  1.461e-18  2.437e-18  1.489e-17 \n",
       "\n",
       "Coefficients:\n",
       "             Estimate Std. Error   t value Pr(>|t|)    \n",
       "(Intercept) 0.000e+00  1.307e-18 0.000e+00        1    \n",
       "R.B         1.000e+00  2.560e-17 3.907e+16   <2e-16 ***\n",
       "---\n",
       "Signif. codes:  0 '***' 0.001 '**' 0.01 '*' 0.05 '.' 0.1 ' ' 1\n",
       "\n",
       "Residual standard error: 1.239e-17 on 88 degrees of freedom\n",
       "Multiple R-squared:      1,\tAdjusted R-squared:      1 \n",
       "F-statistic: 1.526e+33 on 1 and 88 DF,  p-value: < 2.2e-16\n"
      ]
     },
     "metadata": {}
    }
   ],
   "metadata": {}
  },
  {
   "cell_type": "code",
   "execution_count": 96,
   "source": [
    "library(xtable)\n",
    "table <- matrix(0, 1, 4)\n",
    "table[1,1:4]   <- c(est_lasso_g1,std_lasso_g1,ci_lasso_g1[1],ci_lasso_g1[2])\n",
    "colnames(table) <-c(\"estimator\",\"standard error\", \"lower bound CI\", \"upper bound CI\")\n",
    "rownames(table) <-c(\"Double lasso using cross validation\")\n",
    "tab2<- xtable(table, digits = 3)\n",
    "print(tab2,type = \"html\")"
   ],
   "outputs": [
    {
     "output_type": "stream",
     "name": "stdout",
     "text": [
      "<!-- html table generated in R 3.6.1 by xtable 1.8-4 package -->\n",
      "<!-- Fri Oct 08 13:29:33 2021 -->\n",
      "<table border=1>\n",
      "<tr> <th>  </th> <th> estimator </th> <th> standard error </th> <th> lower bound CI </th> <th> upper bound CI </th>  </tr>\n",
      "  <tr> <td align=\"right\"> Double lasso using cross validation </td> <td align=\"right\"> 1.000 </td> <td align=\"right\"> 0.000 </td> <td align=\"right\"> 1.000 </td> <td align=\"right\"> 1.000 </td> </tr>\n",
      "   </table>\n"
     ]
    }
   ],
   "metadata": {}
  },
  {
   "cell_type": "markdown",
   "source": [
    "<!-- html table generated in R 3.6.1 by xtable 1.8-4 package -->\n",
    "<!-- Fri Oct 08 13:29:33 2021 -->\n",
    "<table border=1>\n",
    "<tr> <th>  </th> <th> estimator </th> <th> standard error </th> <th> lower bound CI </th> <th> upper bound CI </th>  </tr>\n",
    "  <tr> <td align=\"right\"> Double lasso using cross validation </td> <td align=\"right\"> 1.000 </td> <td align=\"right\"> 0.000 </td> <td align=\"right\"> 1.000 </td> <td align=\"right\"> 1.000 </td> </tr>\n",
    "   </table>"
   ],
   "metadata": {}
  },
  {
   "cell_type": "code",
   "execution_count": 105,
   "source": [
    "#Ridge\n",
    "fit.ridge.cv.1   <- cv.glmnet(lasso_model_train_1, Y_train, family=\"gaussian\", alpha=0)\n",
    "yhat.ridge.cv.1    <- predict(fit.ridge.cv.1, newx = lasso_model_test_1)\n",
    "rid.A <- Y - yhat.ridge.cv.1\n",
    "RID.A <- as.matrix(rid.A, col.name=FALSE)\n",
    "\n",
    "fit.ridge.cv.2   <- cv.glmnet(lasso_model_train_2, Y_train, family=\"gaussian\", alpha=0)\n",
    "yhat.ridge.cv.2    <- predict(fit.ridge.cv.2, newx = lasso_model_test_2)\n",
    "rid.B <- Y - yhat.lasso.cv.2\n",
    "RID.B <- as.matrix(rid.B, col.name=FALSE)\n",
    "\n",
    "partial.ridge_g2 <- lm(RID.A ~ RID.B)\n",
    "est_ridge_g2 <- partial.ridge_g2$coef[2]\n",
    "std_ridge_g2 <- summary(partial.ridge_g2)$coef[2,2]\n",
    "ci_ridge_g2 <- confint(partial.ridge_g2)[2,]"
   ],
   "outputs": [
    {
     "output_type": "stream",
     "name": "stderr",
     "text": [
      "Warning message in summary.lm(partial.ridge_g2):\n",
      "\"essentially perfect fit: summary may be unreliable\"Warning message in summary.lm(object, ...):\n",
      "\"essentially perfect fit: summary may be unreliable\""
     ]
    }
   ],
   "metadata": {}
  },
  {
   "cell_type": "code",
   "execution_count": 98,
   "source": [
    "library(xtable)\n",
    "table <- matrix(0, 1, 4)\n",
    "table[1,1:4]   <- c(est_ridge_g2,std_ridge_g2,ci_ridge_g2[1],ci_ridge_g2[2])\n",
    "colnames(table) <-c(\"estimator\",\"standard error\", \"lower bound CI\", \"upper bound CI\")\n",
    "rownames(table) <-c(\"Ridge using cross validation\")\n",
    "tab3<- xtable(table, digits = 3)\n",
    "print(tab3,type = \"html\")"
   ],
   "outputs": [
    {
     "output_type": "stream",
     "name": "stdout",
     "text": [
      "<!-- html table generated in R 3.6.1 by xtable 1.8-4 package -->\n",
      "<!-- Fri Oct 08 13:30:01 2021 -->\n",
      "<table border=1>\n",
      "<tr> <th>  </th> <th> estimator </th> <th> standard error </th> <th> lower bound CI </th> <th> upper bound CI </th>  </tr>\n",
      "  <tr> <td align=\"right\"> Ridge using cross validation </td> <td align=\"right\"> 1.000 </td> <td align=\"right\"> 0.000 </td> <td align=\"right\"> 1.000 </td> <td align=\"right\"> 1.000 </td> </tr>\n",
      "   </table>\n"
     ]
    }
   ],
   "metadata": {}
  },
  {
   "cell_type": "markdown",
   "source": [
    "<!-- html table generated in R 3.6.1 by xtable 1.8-4 package -->\n",
    "<!-- Fri Oct 08 13:30:01 2021 -->\n",
    "<table border=1>\n",
    "<tr> <th>  </th> <th> estimator </th> <th> standard error </th> <th> lower bound CI </th> <th> upper bound CI </th>  </tr>\n",
    "  <tr> <td align=\"right\"> Ridge using cross validation </td> <td align=\"right\"> 1.000 </td> <td align=\"right\"> 0.000 </td> <td align=\"right\"> 1.000 </td> <td align=\"right\"> 1.000 </td> </tr>\n",
    "   </table>"
   ],
   "metadata": {}
  },
  {
   "cell_type": "code",
   "execution_count": 104,
   "source": [
    "#Elastic-net\n",
    "\n",
    "fit.elnet.cv.1   <- cv.glmnet(lasso_model_train_1, Y_train, family=\"gaussian\", alpha=.5)\n",
    "yhat.elnet.cv.1    <- predict(fit.elnet.cv.1, newx = lasso_model_test_1)\n",
    "e.A <- Y - yhat.elnet.cv.1\n",
    "E.A <- as.matrix(e.A, col.name=FALSE)\n",
    "\n",
    "fit.elnet.cv.2   <- cv.glmnet(lasso_model_train_2, Y_train, family=\"gaussian\", alpha=.5)\n",
    "yhat.elnet.cv.2    <- predict(fit.elnet.cv.2, newx = lasso_model_test_2)\n",
    "e.B <- Y - yhat.elnet.cv.2\n",
    "E.B <- as.matrix(e.B, col.name=FALSE)\n",
    "\n",
    "partial.elnet_g3 <- lm(E.A ~ E.B)\n",
    "est_elnet_g3 <- partial.elnet_g3$coef[2]\n",
    "std_elnet_g3 <- summary(partial.elnet_g3)$coef[2,2]\n",
    "ci_elnet_g3 <- confint(partial.elnet_g3)[2,]"
   ],
   "outputs": [
    {
     "output_type": "stream",
     "name": "stderr",
     "text": [
      "Warning message in summary.lm(partial.elnet_g3):\n",
      "\"essentially perfect fit: summary may be unreliable\"Warning message in summary.lm(object, ...):\n",
      "\"essentially perfect fit: summary may be unreliable\""
     ]
    }
   ],
   "metadata": {}
  },
  {
   "cell_type": "code",
   "execution_count": 106,
   "source": [
    "library(xtable)\n",
    "table <- matrix(0, 1, 4)\n",
    "table[1,1:4]   <- c(est_elnet_g3,std_elnet_g3,ci_elnet_g3[1],ci_elnet_g3[2])\n",
    "colnames(table) <-c(\"estimator\",\"standard error\", \"lower bound CI\", \"upper bound CI\")\n",
    "rownames(table) <-c(\"Ridge using cross validation\")\n",
    "tab3<- xtable(table, digits = 3)\n",
    "print(tab3,type = \"html\")"
   ],
   "outputs": [
    {
     "output_type": "stream",
     "name": "stdout",
     "text": [
      "<!-- html table generated in R 3.6.1 by xtable 1.8-4 package -->\n",
      "<!-- Fri Oct 08 13:41:14 2021 -->\n",
      "<table border=1>\n",
      "<tr> <th>  </th> <th> estimator </th> <th> standard error </th> <th> lower bound CI </th> <th> upper bound CI </th>  </tr>\n",
      "  <tr> <td align=\"right\"> Ridge using cross validation </td> <td align=\"right\"> 1.000 </td> <td align=\"right\"> 0.000 </td> <td align=\"right\"> 1.000 </td> <td align=\"right\"> 1.000 </td> </tr>\n",
      "   </table>\n"
     ]
    }
   ],
   "metadata": {}
  },
  {
   "cell_type": "markdown",
   "source": [
    "<!-- html table generated in R 3.6.1 by xtable 1.8-4 package -->\n",
    "<!-- Fri Oct 08 13:41:14 2021 -->\n",
    "<table border=1>\n",
    "<tr> <th>  </th> <th> estimator </th> <th> standard error </th> <th> lower bound CI </th> <th> upper bound CI </th>  </tr>\n",
    "  <tr> <td align=\"right\"> Ridge using cross validation </td> <td align=\"right\"> 1.000 </td> <td align=\"right\"> 0.000 </td> <td align=\"right\"> 1.000 </td> <td align=\"right\"> 1.000 </td> </tr>\n",
    "   </table>"
   ],
   "metadata": {}
  },
  {
   "cell_type": "markdown",
   "source": [
    "We tried to regress three models: double lasso (alpha = 1), ridge (alpha = 0) and elastic net (0 <alpha <1). First, we perform the sample splitting, then we perform partialling-out using training and test sample, finally, we regress the residuals using an OLS model. Despite having followed these steps, the estimated coefficients found are 1 and the standard errors are 0. Possibly, we are erring in some parts of the algorithm. On the other hand, the development algorithm for the double lasso model is developed by Urminsky O., Hansen C., and Chernozhukov V. in their paper \"Using Double-Lasso Regression for Principled Variable Selection\". It aims to identify covariates for inclusion in two steps, finding those that predict the dependent variable (outcome) and those that predict the independent variable (treatment). In this article, there is an application of the double lasso model using the glmnet package for R, although we tried to replicate this algorithm, we did not complete the entire procedure."
   ],
   "metadata": {}
  },
  {
   "cell_type": "markdown",
   "source": [
    "### Double lasso using theoretical Lambda"
   ],
   "metadata": {}
  },
  {
   "cell_type": "code",
   "execution_count": 15,
   "source": [
    "lasso.effect = rlassoEffect(x = W, y = Y, d = D, method = \"double selection\")\n",
    "lasso.effect"
   ],
   "outputs": [
    {
     "output_type": "display_data",
     "data": {
      "text/plain": [
       "\n",
       "Call:\n",
       "rlassoEffect(x = W, y = Y, d = D, method = \"double selection\")\n",
       "\n",
       "Coefficients:\n",
       "gdpsh465  \n",
       "-0.05001  \n"
      ]
     },
     "metadata": {}
    }
   ],
   "metadata": {}
  },
  {
   "cell_type": "code",
   "execution_count": 16,
   "source": [
    "(results=rbind(lasso.effect))"
   ],
   "outputs": [
    {
     "output_type": "display_data",
     "data": {
      "text/html": [
       "<table>\n",
       "<thead><tr><th></th><th scope=col>alpha</th><th scope=col>se</th><th scope=col>t</th><th scope=col>pval</th><th scope=col>no.selected</th><th scope=col>coefficients</th><th scope=col>coefficient</th><th scope=col>coefficients.reg</th><th scope=col>selection.index</th><th scope=col>residuals</th><th scope=col>call</th><th scope=col>samplesize</th></tr></thead>\n",
       "<tbody>\n",
       "\t<tr><th scope=row>lasso.effect</th><td>-0.05000585                                                                                                                                                                                                                                                                                                                                                                                                                                                                                                                                                                                                                                                                                                                                                                                                                                                                                                                                                                                                                                                                                                                                                                                                                                                                                                                                                                                                                                                                                                                                                                                                                                                                                                                                                                                                                                                                                                                                                                                                                                                                                                                                                                                                                                                                                                                                                                                                                                                                                                                                                                                                                                                                                                </td><td>0.01579138                                                                                                                                                                                                                                                                                                                                                                                                                                                                                                                                                                                                                                                                                                                                                                                                                                                                                                                                                                                                                                                                                                                                                                                                                                                                                                                                                                                                                                                                                                                                                                                                                                                                                                                                                                                                                                                                                                                                                                                                                                                                                                                                                                                                                                                                                                                                                                                                                                                                                                                                                                                                                                                                                                 </td><td>-3.166655                                                                                                                                                                                                                                                                                                                                                                                                                                                                                                                                                                                                                                                                                                                                                                                                                                                                                                                                                                                                                                                                                                                                                                                                                                                                                                                                                                                                                                                                                                                                                                                                                                                                                                                                                                                                                                                                                                                                                                                                                                                                                                                                                                                                                                                                                                                                                                                                                                                                                                                                                                                                                                                                                                  </td><td>0.001542031                                                                                                                                                                                                                                                                                                                                                                                                                                                                                                                                                                                                                                                                                                                                                                                                                                                                                                                                                                                                                                                                                                                                                                                                                                                                                                                                                                                                                                                                                                                                                                                                                                                                                                                                                                                                                                                                                                                                                                                                                                                                                                                                                                                                                                                                                                                                                                                                                                                                                                                                                                                                                                                                                                </td><td>0                                                                                                                                                                                                                                                                                                                                                                                                                                                                                                                                                                                                                                                                                                                                                                                                                                                                                                                                                                                                                                                                                                                                                                                                                                                                                                                                                                                                                                                                                                                                                                                                                                                                                                                                                                                                                                                                                                                                                                                                                                                                                                                                                                                                                                                                                                                                                                                                                                                                                                                                                                                                                                                                                                          </td><td>-0.05000585                                                                                                                                                                                                                                                                                                                                                                                                                                                                                                                                                                                                                                                                                                                                                                                                                                                                                                                                                                                                                                                                                                                                                                                                                                                                                                                                                                                                                                                                                                                                                                                                                                                                                                                                                                                                                                                                                                                                                                                                                                                                                                                                                                                                                                                                                                                                                                                                                                                                                                                                                                                                                                                                                                </td><td>-0.05000585                                                                                                                                                                                                                                                                                                                                                                                                                                                                                                                                                                                                                                                                                                                                                                                                                                                                                                                                                                                                                                                                                                                                                                                                                                                                                                                                                                                                                                                                                                                                                                                                                                                                                                                                                                                                                                                                                                                                                                                                                                                                                                                                                                                                                                                                                                                                                                                                                                                                                                                                                                                                                                                                                                </td><td>-0.4064512995, -0.0500058545, -0.0782423426, -0.5746764184, 0.0511528988, -0.0470218317, 0.2122793760, -0.0003760384, 0.1343892586                                                                                                                                                                                                                                                                                                                                                                                                                                                                                                                                                                                                                                                                                                                                                                                                                                                                                                                                                                                                                                                                                                                                                                                                                                                                                                                                                                                                                                                                                                                                                                                                                                                                                                                                                                                                                                                                                                                                                                                                                                                                                                                                                                                                                                                                                                                                                                                                                                                                                                                                                                         </td><td>TRUE, FALSE, TRUE, FALSE, TRUE, FALSE, FALSE, FALSE, FALSE, FALSE, FALSE, TRUE, FALSE, FALSE, TRUE, FALSE, FALSE, FALSE, FALSE, FALSE, FALSE, FALSE, FALSE, FALSE, FALSE, FALSE, FALSE, FALSE, FALSE, FALSE, FALSE, FALSE, FALSE, TRUE, FALSE, FALSE, FALSE, FALSE, FALSE, FALSE, FALSE, FALSE, FALSE, FALSE, TRUE, FALSE, FALSE, FALSE, FALSE, FALSE, FALSE, FALSE, FALSE, FALSE, FALSE, FALSE, FALSE, FALSE, FALSE, FALSE                                                                                                                                                                                                                                                                                                                                                                                                                                                                                                                                                                                                                                                                                                                                                                                                                                                                                                                                                                                                                                                                                                                                                                                                                                                                                                                                                                                                                                                                                                                                                                                                                                                                                                                                                                                                                                                                                                                                                                                                                                                                                                                                                                                                                                                                                </td><td>-0.0297442739, 0.0993941378, 0.0173217105, 0.0091641707, -0.0201757190, -0.0018251437, 0.0060759763, 0.0223060491, 0.0001451724, -0.0041244200, 0.0393311423, 0.0682780200, -0.0238964540, 0.0350048052, 0.0648190532, -0.0257676583, 0.0243140722, -0.0280572302, -0.0462762829, 0.0251040572, 0.0134693303, 0.0723728693, 0.1195236465, 0.0299087310, 0.0120366690, 0.0108139015, 0.0673675813, 0.0118270717, 0.0236166597, 0.0282325658, 0.0250315828, 0.0067371974, 0.0151379496, -0.0275474198, -0.0044715134, 0.0112082455, 0.0090309016, 0.0089492906, 0.0086604917, -0.0087564394, -0.0018264419, -0.0124404131, -0.0149196347, 0.0166127305, -0.1144162656, -0.0752576656, -0.0109584928, -0.0293525799, -0.0594490731, -0.0430818441, 0.0484584453, -0.0406591800, 0.0262260693, -0.0471278066, -0.0756424625, -0.0852033949, -0.0781552050, -0.0450331240, -0.0105169661, -0.0067828712, -0.0626688146, -0.0475181359, 0.0181222037, -0.0107463485, 0.0092371528, 0.0154652940, 0.0012209700, -0.1419624246, 0.0613168909, 0.0252125508, 0.0276285304, 0.0176267338, -0.0374549422, 0.0821794073, 0.0276226760, 0.0328875684, -0.0524115316, 0.1316135726, 0.0617130506, -0.0085351963, -0.0011539151, -0.0204038312, -0.0245102319, -0.0245248967, -0.0358304089, -0.0084892381, -0.0446497453, -0.0027730531, -0.0055950597, 0.0123668506, 0.4975550513, 0.1837984887, 0.0705184356, -0.1239585251, 0.0872213605, 0.3118112365, 0.2735832832, 0.8004632028, -0.0269272750, 0.0958879274, 0.1963224163, -0.1411720260, 0.5677883691, 0.0696642976, -0.0824764341, -0.4504141723, 0.6473059687, 0.0483385048, 1.1958076770, 0.1954562949, -0.4567254812, -0.3227550374, -0.6513651783, -0.2164081549, 0.2549417599, -0.5217216261, 0.1867615082, -0.4073066617, 0.1602837134, 0.0438335905, 0.1418437002, 0.2666670712, -0.6467919972, -0.5264989797, -0.1014233532, -0.0107060371, 0.1666304429, -0.1094267613, 0.1479787072, 0.0552455195, 0.1987535442, 0.2483799179, -0.2376496251, -0.6601196991, -0.4551979595, -0.4985721387, -0.3636038380, -0.4644010848, 0.1463924992, -0.8706049456, 0.1607020326, 0.0235616107, 0.1555628292, -0.1590516497, -0.1050325752, 0.1351879556, -0.1397131223, 0.2634254471, 0.4867189341, -0.2638638565, 0.0001145477, 0.3080893305, 0.1536533937, 0.2114221644, 0.1219916438, -0.2341973341, 0.4435431328, 0.4717443813, -0.0726096352, 0.0330470736, -0.1834856519, -0.0809384199, -0.0579394278, -0.3370737768, -0.0421879465, 0.0994650569, -0.4717509165, 0.1863471944, 0.3772561270, -0.2498753341, 0.3197306730, 0.1927187863, -0.3763402440, -0.3193869040, -0.1125613938, 0.1041248250, -0.0963542580, -0.0116295280, 0.0838307697, 0.0687465674</td><td>rlassoEffect(x = W, y = Y, d = D, method = \"double selection\")                                                                                                                                                                                                                                                                                                                                                                                                                                                                                                                                                                                                                                                                                                                                                                                                                                                                                                                                                                                                                                                                                                                                                                                                                                                                                                                                                                                                                                                                                                                                                                                                                                                                                                                                                                                                                                                                                                                                                                                                                                                                                                                                                                                                                                                                                                                                                                                                                                                                                                                                                                                                                                             </td><td>90                                                                                                                                                                                                                                                                                                                                                                                                                                                                                                                                                                                                                                                                                                                                                                                                                                                                                                                                                                                                                                                                                                                                                                                                                                                                                                                                                                                                                                                                                                                                                                                                                                                                                                                                                                                                                                                                                                                                                                                                                                                                                                                                                                                                                                                                                                                                                                                                                                                                                                                                                                                                                                                                                                         </td></tr>\n",
       "</tbody>\n",
       "</table>\n"
      ],
      "text/latex": [
       "\\begin{tabular}{r|llllllllllll}\n",
       "  & alpha & se & t & pval & no.selected & coefficients & coefficient & coefficients.reg & selection.index & residuals & call & samplesize\\\\\n",
       "\\hline\n",
       "\tlasso.effect & -0.05000585                                                                                                                                                                                                                                                                                                                                                                                                                                                                                                                                                                                                                                                                                                                                                                                                                                                                                                                                                                                                                                                                                                                                                                                                                                                                                                                                                                                                                                                                                                                                                                                                                                                                                                                                                                                                                                                                                                                                                                                                                                                                                                                                                                                                                                                                                                                                                                                                                                                                                                                                                                                                                                                                                                 & 0.01579138                                                                                                                                                                                                                                                                                                                                                                                                                                                                                                                                                                                                                                                                                                                                                                                                                                                                                                                                                                                                                                                                                                                                                                                                                                                                                                                                                                                                                                                                                                                                                                                                                                                                                                                                                                                                                                                                                                                                                                                                                                                                                                                                                                                                                                                                                                                                                                                                                                                                                                                                                                                                                                                                                                  & -3.166655                                                                                                                                                                                                                                                                                                                                                                                                                                                                                                                                                                                                                                                                                                                                                                                                                                                                                                                                                                                                                                                                                                                                                                                                                                                                                                                                                                                                                                                                                                                                                                                                                                                                                                                                                                                                                                                                                                                                                                                                                                                                                                                                                                                                                                                                                                                                                                                                                                                                                                                                                                                                                                                                                                   & 0.001542031                                                                                                                                                                                                                                                                                                                                                                                                                                                                                                                                                                                                                                                                                                                                                                                                                                                                                                                                                                                                                                                                                                                                                                                                                                                                                                                                                                                                                                                                                                                                                                                                                                                                                                                                                                                                                                                                                                                                                                                                                                                                                                                                                                                                                                                                                                                                                                                                                                                                                                                                                                                                                                                                                                 & 0                                                                                                                                                                                                                                                                                                                                                                                                                                                                                                                                                                                                                                                                                                                                                                                                                                                                                                                                                                                                                                                                                                                                                                                                                                                                                                                                                                                                                                                                                                                                                                                                                                                                                                                                                                                                                                                                                                                                                                                                                                                                                                                                                                                                                                                                                                                                                                                                                                                                                                                                                                                                                                                                                                           & -0.05000585                                                                                                                                                                                                                                                                                                                                                                                                                                                                                                                                                                                                                                                                                                                                                                                                                                                                                                                                                                                                                                                                                                                                                                                                                                                                                                                                                                                                                                                                                                                                                                                                                                                                                                                                                                                                                                                                                                                                                                                                                                                                                                                                                                                                                                                                                                                                                                                                                                                                                                                                                                                                                                                                                                 & -0.05000585                                                                                                                                                                                                                                                                                                                                                                                                                                                                                                                                                                                                                                                                                                                                                                                                                                                                                                                                                                                                                                                                                                                                                                                                                                                                                                                                                                                                                                                                                                                                                                                                                                                                                                                                                                                                                                                                                                                                                                                                                                                                                                                                                                                                                                                                                                                                                                                                                                                                                                                                                                                                                                                                                                 & -0.4064512995, -0.0500058545, -0.0782423426, -0.5746764184, 0.0511528988, -0.0470218317, 0.2122793760, -0.0003760384, 0.1343892586                                                                                                                                                                                                                                                                                                                                                                                                                                                                                                                                                                                                                                                                                                                                                                                                                                                                                                                                                                                                                                                                                                                                                                                                                                                                                                                                                                                                                                                                                                                                                                                                                                                                                                                                                                                                                                                                                                                                                                                                                                                                                                                                                                                                                                                                                                                                                                                                                                                                                                                                                                          & TRUE, FALSE, TRUE, FALSE, TRUE, FALSE, FALSE, FALSE, FALSE, FALSE, FALSE, TRUE, FALSE, FALSE, TRUE, FALSE, FALSE, FALSE, FALSE, FALSE, FALSE, FALSE, FALSE, FALSE, FALSE, FALSE, FALSE, FALSE, FALSE, FALSE, FALSE, FALSE, FALSE, TRUE, FALSE, FALSE, FALSE, FALSE, FALSE, FALSE, FALSE, FALSE, FALSE, FALSE, TRUE, FALSE, FALSE, FALSE, FALSE, FALSE, FALSE, FALSE, FALSE, FALSE, FALSE, FALSE, FALSE, FALSE, FALSE, FALSE                                                                                                                                                                                                                                                                                                                                                                                                                                                                                                                                                                                                                                                                                                                                                                                                                                                                                                                                                                                                                                                                                                                                                                                                                                                                                                                                                                                                                                                                                                                                                                                                                                                                                                                                                                                                                                                                                                                                                                                                                                                                                                                                                                                                                                                                                 & -0.0297442739, 0.0993941378, 0.0173217105, 0.0091641707, -0.0201757190, -0.0018251437, 0.0060759763, 0.0223060491, 0.0001451724, -0.0041244200, 0.0393311423, 0.0682780200, -0.0238964540, 0.0350048052, 0.0648190532, -0.0257676583, 0.0243140722, -0.0280572302, -0.0462762829, 0.0251040572, 0.0134693303, 0.0723728693, 0.1195236465, 0.0299087310, 0.0120366690, 0.0108139015, 0.0673675813, 0.0118270717, 0.0236166597, 0.0282325658, 0.0250315828, 0.0067371974, 0.0151379496, -0.0275474198, -0.0044715134, 0.0112082455, 0.0090309016, 0.0089492906, 0.0086604917, -0.0087564394, -0.0018264419, -0.0124404131, -0.0149196347, 0.0166127305, -0.1144162656, -0.0752576656, -0.0109584928, -0.0293525799, -0.0594490731, -0.0430818441, 0.0484584453, -0.0406591800, 0.0262260693, -0.0471278066, -0.0756424625, -0.0852033949, -0.0781552050, -0.0450331240, -0.0105169661, -0.0067828712, -0.0626688146, -0.0475181359, 0.0181222037, -0.0107463485, 0.0092371528, 0.0154652940, 0.0012209700, -0.1419624246, 0.0613168909, 0.0252125508, 0.0276285304, 0.0176267338, -0.0374549422, 0.0821794073, 0.0276226760, 0.0328875684, -0.0524115316, 0.1316135726, 0.0617130506, -0.0085351963, -0.0011539151, -0.0204038312, -0.0245102319, -0.0245248967, -0.0358304089, -0.0084892381, -0.0446497453, -0.0027730531, -0.0055950597, 0.0123668506, 0.4975550513, 0.1837984887, 0.0705184356, -0.1239585251, 0.0872213605, 0.3118112365, 0.2735832832, 0.8004632028, -0.0269272750, 0.0958879274, 0.1963224163, -0.1411720260, 0.5677883691, 0.0696642976, -0.0824764341, -0.4504141723, 0.6473059687, 0.0483385048, 1.1958076770, 0.1954562949, -0.4567254812, -0.3227550374, -0.6513651783, -0.2164081549, 0.2549417599, -0.5217216261, 0.1867615082, -0.4073066617, 0.1602837134, 0.0438335905, 0.1418437002, 0.2666670712, -0.6467919972, -0.5264989797, -0.1014233532, -0.0107060371, 0.1666304429, -0.1094267613, 0.1479787072, 0.0552455195, 0.1987535442, 0.2483799179, -0.2376496251, -0.6601196991, -0.4551979595, -0.4985721387, -0.3636038380, -0.4644010848, 0.1463924992, -0.8706049456, 0.1607020326, 0.0235616107, 0.1555628292, -0.1590516497, -0.1050325752, 0.1351879556, -0.1397131223, 0.2634254471, 0.4867189341, -0.2638638565, 0.0001145477, 0.3080893305, 0.1536533937, 0.2114221644, 0.1219916438, -0.2341973341, 0.4435431328, 0.4717443813, -0.0726096352, 0.0330470736, -0.1834856519, -0.0809384199, -0.0579394278, -0.3370737768, -0.0421879465, 0.0994650569, -0.4717509165, 0.1863471944, 0.3772561270, -0.2498753341, 0.3197306730, 0.1927187863, -0.3763402440, -0.3193869040, -0.1125613938, 0.1041248250, -0.0963542580, -0.0116295280, 0.0838307697, 0.0687465674 & rlassoEffect(x = W, y = Y, d = D, method = \"double selection\")                                                                                                                                                                                                                                                                                                                                                                                                                                                                                                                                                                                                                                                                                                                                                                                                                                                                                                                                                                                                                                                                                                                                                                                                                                                                                                                                                                                                                                                                                                                                                                                                                                                                                                                                                                                                                                                                                                                                                                                                                                                                                                                                                                                                                                                                                                                                                                                                                                                                                                                                                                                                                                              & 90                                                                                                                                                                                                                                                                                                                                                                                                                                                                                                                                                                                                                                                                                                                                                                                                                                                                                                                                                                                                                                                                                                                                                                                                                                                                                                                                                                                                                                                                                                                                                                                                                                                                                                                                                                                                                                                                                                                                                                                                                                                                                                                                                                                                                                                                                                                                                                                                                                                                                                                                                                                                                                                                                                         \\\\\n",
       "\\end{tabular}\n"
      ],
      "text/markdown": [
       "\n",
       "| <!--/--> | alpha | se | t | pval | no.selected | coefficients | coefficient | coefficients.reg | selection.index | residuals | call | samplesize |\n",
       "|---|---|---|---|---|---|---|---|---|---|---|---|---|\n",
       "| lasso.effect | -0.05000585                                                                                                                                                                                                                                                                                                                                                                                                                                                                                                                                                                                                                                                                                                                                                                                                                                                                                                                                                                                                                                                                                                                                                                                                                                                                                                                                                                                                                                                                                                                                                                                                                                                                                                                                                                                                                                                                                                                                                                                                                                                                                                                                                                                                                                                                                                                                                                                                                                                                                                                                                                                                                                                                                                 | 0.01579138                                                                                                                                                                                                                                                                                                                                                                                                                                                                                                                                                                                                                                                                                                                                                                                                                                                                                                                                                                                                                                                                                                                                                                                                                                                                                                                                                                                                                                                                                                                                                                                                                                                                                                                                                                                                                                                                                                                                                                                                                                                                                                                                                                                                                                                                                                                                                                                                                                                                                                                                                                                                                                                                                                  | -3.166655                                                                                                                                                                                                                                                                                                                                                                                                                                                                                                                                                                                                                                                                                                                                                                                                                                                                                                                                                                                                                                                                                                                                                                                                                                                                                                                                                                                                                                                                                                                                                                                                                                                                                                                                                                                                                                                                                                                                                                                                                                                                                                                                                                                                                                                                                                                                                                                                                                                                                                                                                                                                                                                                                                   | 0.001542031                                                                                                                                                                                                                                                                                                                                                                                                                                                                                                                                                                                                                                                                                                                                                                                                                                                                                                                                                                                                                                                                                                                                                                                                                                                                                                                                                                                                                                                                                                                                                                                                                                                                                                                                                                                                                                                                                                                                                                                                                                                                                                                                                                                                                                                                                                                                                                                                                                                                                                                                                                                                                                                                                                 | 0                                                                                                                                                                                                                                                                                                                                                                                                                                                                                                                                                                                                                                                                                                                                                                                                                                                                                                                                                                                                                                                                                                                                                                                                                                                                                                                                                                                                                                                                                                                                                                                                                                                                                                                                                                                                                                                                                                                                                                                                                                                                                                                                                                                                                                                                                                                                                                                                                                                                                                                                                                                                                                                                                                           | -0.05000585                                                                                                                                                                                                                                                                                                                                                                                                                                                                                                                                                                                                                                                                                                                                                                                                                                                                                                                                                                                                                                                                                                                                                                                                                                                                                                                                                                                                                                                                                                                                                                                                                                                                                                                                                                                                                                                                                                                                                                                                                                                                                                                                                                                                                                                                                                                                                                                                                                                                                                                                                                                                                                                                                                 | -0.05000585                                                                                                                                                                                                                                                                                                                                                                                                                                                                                                                                                                                                                                                                                                                                                                                                                                                                                                                                                                                                                                                                                                                                                                                                                                                                                                                                                                                                                                                                                                                                                                                                                                                                                                                                                                                                                                                                                                                                                                                                                                                                                                                                                                                                                                                                                                                                                                                                                                                                                                                                                                                                                                                                                                 | -0.4064512995, -0.0500058545, -0.0782423426, -0.5746764184, 0.0511528988, -0.0470218317, 0.2122793760, -0.0003760384, 0.1343892586                                                                                                                                                                                                                                                                                                                                                                                                                                                                                                                                                                                                                                                                                                                                                                                                                                                                                                                                                                                                                                                                                                                                                                                                                                                                                                                                                                                                                                                                                                                                                                                                                                                                                                                                                                                                                                                                                                                                                                                                                                                                                                                                                                                                                                                                                                                                                                                                                                                                                                                                                                          | TRUE, FALSE, TRUE, FALSE, TRUE, FALSE, FALSE, FALSE, FALSE, FALSE, FALSE, TRUE, FALSE, FALSE, TRUE, FALSE, FALSE, FALSE, FALSE, FALSE, FALSE, FALSE, FALSE, FALSE, FALSE, FALSE, FALSE, FALSE, FALSE, FALSE, FALSE, FALSE, FALSE, TRUE, FALSE, FALSE, FALSE, FALSE, FALSE, FALSE, FALSE, FALSE, FALSE, FALSE, TRUE, FALSE, FALSE, FALSE, FALSE, FALSE, FALSE, FALSE, FALSE, FALSE, FALSE, FALSE, FALSE, FALSE, FALSE, FALSE                                                                                                                                                                                                                                                                                                                                                                                                                                                                                                                                                                                                                                                                                                                                                                                                                                                                                                                                                                                                                                                                                                                                                                                                                                                                                                                                                                                                                                                                                                                                                                                                                                                                                                                                                                                                                                                                                                                                                                                                                                                                                                                                                                                                                                                                                 | -0.0297442739, 0.0993941378, 0.0173217105, 0.0091641707, -0.0201757190, -0.0018251437, 0.0060759763, 0.0223060491, 0.0001451724, -0.0041244200, 0.0393311423, 0.0682780200, -0.0238964540, 0.0350048052, 0.0648190532, -0.0257676583, 0.0243140722, -0.0280572302, -0.0462762829, 0.0251040572, 0.0134693303, 0.0723728693, 0.1195236465, 0.0299087310, 0.0120366690, 0.0108139015, 0.0673675813, 0.0118270717, 0.0236166597, 0.0282325658, 0.0250315828, 0.0067371974, 0.0151379496, -0.0275474198, -0.0044715134, 0.0112082455, 0.0090309016, 0.0089492906, 0.0086604917, -0.0087564394, -0.0018264419, -0.0124404131, -0.0149196347, 0.0166127305, -0.1144162656, -0.0752576656, -0.0109584928, -0.0293525799, -0.0594490731, -0.0430818441, 0.0484584453, -0.0406591800, 0.0262260693, -0.0471278066, -0.0756424625, -0.0852033949, -0.0781552050, -0.0450331240, -0.0105169661, -0.0067828712, -0.0626688146, -0.0475181359, 0.0181222037, -0.0107463485, 0.0092371528, 0.0154652940, 0.0012209700, -0.1419624246, 0.0613168909, 0.0252125508, 0.0276285304, 0.0176267338, -0.0374549422, 0.0821794073, 0.0276226760, 0.0328875684, -0.0524115316, 0.1316135726, 0.0617130506, -0.0085351963, -0.0011539151, -0.0204038312, -0.0245102319, -0.0245248967, -0.0358304089, -0.0084892381, -0.0446497453, -0.0027730531, -0.0055950597, 0.0123668506, 0.4975550513, 0.1837984887, 0.0705184356, -0.1239585251, 0.0872213605, 0.3118112365, 0.2735832832, 0.8004632028, -0.0269272750, 0.0958879274, 0.1963224163, -0.1411720260, 0.5677883691, 0.0696642976, -0.0824764341, -0.4504141723, 0.6473059687, 0.0483385048, 1.1958076770, 0.1954562949, -0.4567254812, -0.3227550374, -0.6513651783, -0.2164081549, 0.2549417599, -0.5217216261, 0.1867615082, -0.4073066617, 0.1602837134, 0.0438335905, 0.1418437002, 0.2666670712, -0.6467919972, -0.5264989797, -0.1014233532, -0.0107060371, 0.1666304429, -0.1094267613, 0.1479787072, 0.0552455195, 0.1987535442, 0.2483799179, -0.2376496251, -0.6601196991, -0.4551979595, -0.4985721387, -0.3636038380, -0.4644010848, 0.1463924992, -0.8706049456, 0.1607020326, 0.0235616107, 0.1555628292, -0.1590516497, -0.1050325752, 0.1351879556, -0.1397131223, 0.2634254471, 0.4867189341, -0.2638638565, 0.0001145477, 0.3080893305, 0.1536533937, 0.2114221644, 0.1219916438, -0.2341973341, 0.4435431328, 0.4717443813, -0.0726096352, 0.0330470736, -0.1834856519, -0.0809384199, -0.0579394278, -0.3370737768, -0.0421879465, 0.0994650569, -0.4717509165, 0.1863471944, 0.3772561270, -0.2498753341, 0.3197306730, 0.1927187863, -0.3763402440, -0.3193869040, -0.1125613938, 0.1041248250, -0.0963542580, -0.0116295280, 0.0838307697, 0.0687465674 | rlassoEffect(x = W, y = Y, d = D, method = \"double selection\")                                                                                                                                                                                                                                                                                                                                                                                                                                                                                                                                                                                                                                                                                                                                                                                                                                                                                                                                                                                                                                                                                                                                                                                                                                                                                                                                                                                                                                                                                                                                                                                                                                                                                                                                                                                                                                                                                                                                                                                                                                                                                                                                                                                                                                                                                                                                                                                                                                                                                                                                                                                                                                              | 90                                                                                                                                                                                                                                                                                                                                                                                                                                                                                                                                                                                                                                                                                                                                                                                                                                                                                                                                                                                                                                                                                                                                                                                                                                                                                                                                                                                                                                                                                                                                                                                                                                                                                                                                                                                                                                                                                                                                                                                                                                                                                                                                                                                                                                                                                                                                                                                                                                                                                                                                                                                                                                                                                                          |\n",
       "\n"
      ],
      "text/plain": [
       "             alpha       se         t         pval        no.selected\n",
       "lasso.effect -0.05000585 0.01579138 -3.166655 0.001542031 0          \n",
       "             coefficients coefficient\n",
       "lasso.effect -0.05000585  -0.05000585\n",
       "             coefficients.reg                                                                                                                  \n",
       "lasso.effect -0.4064512995, -0.0500058545, -0.0782423426, -0.5746764184, 0.0511528988, -0.0470218317, 0.2122793760, -0.0003760384, 0.1343892586\n",
       "             selection.index                                                                                                                                                                                                                                                                                                                                                                                                            \n",
       "lasso.effect TRUE, FALSE, TRUE, FALSE, TRUE, FALSE, FALSE, FALSE, FALSE, FALSE, FALSE, TRUE, FALSE, FALSE, TRUE, FALSE, FALSE, FALSE, FALSE, FALSE, FALSE, FALSE, FALSE, FALSE, FALSE, FALSE, FALSE, FALSE, FALSE, FALSE, FALSE, FALSE, FALSE, TRUE, FALSE, FALSE, FALSE, FALSE, FALSE, FALSE, FALSE, FALSE, FALSE, FALSE, TRUE, FALSE, FALSE, FALSE, FALSE, FALSE, FALSE, FALSE, FALSE, FALSE, FALSE, FALSE, FALSE, FALSE, FALSE, FALSE\n",
       "             residuals                                                                                                                                                                                                                                                                                                                                                                                                                                                                                                                                                                                                                                                                                                                                                                                                                                                                                                                                                                                                                                                                                                                                                                                                                                                                                                                                                                                                                                                                                                                                                                                                                                                                                                                                                                                                                                                                                                                                                                                                                                                                                                                                                                                                                                                                                                                                                                                                                                                                                                                                                                                                                                                                                                  \n",
       "lasso.effect -0.0297442739, 0.0993941378, 0.0173217105, 0.0091641707, -0.0201757190, -0.0018251437, 0.0060759763, 0.0223060491, 0.0001451724, -0.0041244200, 0.0393311423, 0.0682780200, -0.0238964540, 0.0350048052, 0.0648190532, -0.0257676583, 0.0243140722, -0.0280572302, -0.0462762829, 0.0251040572, 0.0134693303, 0.0723728693, 0.1195236465, 0.0299087310, 0.0120366690, 0.0108139015, 0.0673675813, 0.0118270717, 0.0236166597, 0.0282325658, 0.0250315828, 0.0067371974, 0.0151379496, -0.0275474198, -0.0044715134, 0.0112082455, 0.0090309016, 0.0089492906, 0.0086604917, -0.0087564394, -0.0018264419, -0.0124404131, -0.0149196347, 0.0166127305, -0.1144162656, -0.0752576656, -0.0109584928, -0.0293525799, -0.0594490731, -0.0430818441, 0.0484584453, -0.0406591800, 0.0262260693, -0.0471278066, -0.0756424625, -0.0852033949, -0.0781552050, -0.0450331240, -0.0105169661, -0.0067828712, -0.0626688146, -0.0475181359, 0.0181222037, -0.0107463485, 0.0092371528, 0.0154652940, 0.0012209700, -0.1419624246, 0.0613168909, 0.0252125508, 0.0276285304, 0.0176267338, -0.0374549422, 0.0821794073, 0.0276226760, 0.0328875684, -0.0524115316, 0.1316135726, 0.0617130506, -0.0085351963, -0.0011539151, -0.0204038312, -0.0245102319, -0.0245248967, -0.0358304089, -0.0084892381, -0.0446497453, -0.0027730531, -0.0055950597, 0.0123668506, 0.4975550513, 0.1837984887, 0.0705184356, -0.1239585251, 0.0872213605, 0.3118112365, 0.2735832832, 0.8004632028, -0.0269272750, 0.0958879274, 0.1963224163, -0.1411720260, 0.5677883691, 0.0696642976, -0.0824764341, -0.4504141723, 0.6473059687, 0.0483385048, 1.1958076770, 0.1954562949, -0.4567254812, -0.3227550374, -0.6513651783, -0.2164081549, 0.2549417599, -0.5217216261, 0.1867615082, -0.4073066617, 0.1602837134, 0.0438335905, 0.1418437002, 0.2666670712, -0.6467919972, -0.5264989797, -0.1014233532, -0.0107060371, 0.1666304429, -0.1094267613, 0.1479787072, 0.0552455195, 0.1987535442, 0.2483799179, -0.2376496251, -0.6601196991, -0.4551979595, -0.4985721387, -0.3636038380, -0.4644010848, 0.1463924992, -0.8706049456, 0.1607020326, 0.0235616107, 0.1555628292, -0.1590516497, -0.1050325752, 0.1351879556, -0.1397131223, 0.2634254471, 0.4867189341, -0.2638638565, 0.0001145477, 0.3080893305, 0.1536533937, 0.2114221644, 0.1219916438, -0.2341973341, 0.4435431328, 0.4717443813, -0.0726096352, 0.0330470736, -0.1834856519, -0.0809384199, -0.0579394278, -0.3370737768, -0.0421879465, 0.0994650569, -0.4717509165, 0.1863471944, 0.3772561270, -0.2498753341, 0.3197306730, 0.1927187863, -0.3763402440, -0.3193869040, -0.1125613938, 0.1041248250, -0.0963542580, -0.0116295280, 0.0838307697, 0.0687465674\n",
       "             call                                                          \n",
       "lasso.effect rlassoEffect(x = W, y = Y, d = D, method = \"double selection\")\n",
       "             samplesize\n",
       "lasso.effect 90        "
      ]
     },
     "metadata": {}
    }
   ],
   "metadata": {}
  },
  {
   "cell_type": "code",
   "execution_count": 17,
   "source": [
    "est_tlasso <- -0.05000585\n",
    "std_tlasso <- 0.01579138\n",
    "t <- -3.166655\n",
    "p_value <- 0.001542031"
   ],
   "outputs": [],
   "metadata": {}
  },
  {
   "cell_type": "code",
   "execution_count": 18,
   "source": [
    "library(xtable)\n",
    "table <- matrix(0, 1, 4)\n",
    "table[1,1:4]   <- c(est_tlasso,std_tlasso,t,p_value)\n",
    "colnames(table) <-c(\"estimator\",\"standard error\", \"t\", \"p_value\")\n",
    "rownames(table) <-c(\"Double Lasso using theoretical Lambda\")\n",
    "tab <- xtable(table, digits = 3)\n",
    "print(tab,type = \"html\")"
   ],
   "outputs": [
    {
     "output_type": "stream",
     "name": "stdout",
     "text": [
      "<!-- html table generated in R 3.6.1 by xtable 1.8-4 package -->\n",
      "<!-- Fri Oct 08 17:40:57 2021 -->\n",
      "<table border=1>\n",
      "<tr> <th>  </th> <th> estimator </th> <th> standard error </th> <th> t </th> <th> p_value </th>  </tr>\n",
      "  <tr> <td align=\"right\"> Double Lasso using theoretical Lambda </td> <td align=\"right\"> -0.050 </td> <td align=\"right\"> 0.016 </td> <td align=\"right\"> -3.167 </td> <td align=\"right\"> 0.002 </td> </tr>\n",
      "   </table>\n"
     ]
    }
   ],
   "metadata": {}
  },
  {
   "cell_type": "markdown",
   "source": [
    "<!-- html table generated in R 3.6.1 by xtable 1.8-4 package -->\n",
    "<!-- Thu Oct 07 22:42:22 2021 -->\n",
    "<table border=1>\n",
    "<tr> <th>  </th> <th> estimator </th> <th> standard error </th> <th> t </th> <th> p_value </th>  </tr>\n",
    "  <tr> <td align=\"right\"> Double Lasso using theoretical Lambda </td> <td align=\"right\"> -0.050 </td> <td align=\"right\"> 0.016 </td> <td align=\"right\"> -3.167 </td> <td align=\"right\"> 0.002 </td> </tr>\n",
    "   </table>"
   ],
   "metadata": {}
  },
  {
   "cell_type": "markdown",
   "source": [
    "According to Double lasso using theorical Lambda, we can see a 0.016 like standard error, and t-value are -3,167 but with a value of p: 0,002. We can't answer about the convergence hypothesis.\n"
   ],
   "metadata": {}
  },
  {
   "cell_type": "markdown",
   "source": [
    "### Double lasso using partialling-out"
   ],
   "metadata": {}
  },
  {
   "cell_type": "code",
   "execution_count": 5,
   "source": [
    "Y <- growth[, 1, drop = F] \n",
    "W <- as.matrix(growth)[, -c(1, 2,3)] \n",
    "D <- growth[, 3, drop = F] \n",
    "dim(W)"
   ],
   "outputs": [
    {
     "output_type": "display_data",
     "data": {
      "text/html": [
       "<ol class=list-inline>\n",
       "\t<li>90</li>\n",
       "\t<li>60</li>\n",
       "</ol>\n"
      ],
      "text/latex": [
       "\\begin{enumerate*}\n",
       "\\item 90\n",
       "\\item 60\n",
       "\\end{enumerate*}\n"
      ],
      "text/markdown": [
       "1. 90\n",
       "2. 60\n",
       "\n",
       "\n"
      ],
      "text/plain": [
       "[1] 90 60"
      ]
     },
     "metadata": {}
    }
   ],
   "metadata": {}
  },
  {
   "cell_type": "code",
   "execution_count": 19,
   "source": [
    "r.Y <- rlasso(x=W,y=Y)$res # creates the \"residual\" output variable\n",
    "r.D <- rlasso(x=W,y=D)$res # creates the \"residual\" target regressor\n",
    "partial.lasso <- lm(r.Y ~ r.D)\n",
    "est_lasso <- partial.lasso$coef[2]\n",
    "std_lasso <- summary(partial.lasso)$coef[2,2]\n",
    "ci_lasso <- confint(partial.lasso)[2,]"
   ],
   "outputs": [],
   "metadata": {}
  },
  {
   "cell_type": "code",
   "execution_count": 20,
   "source": [
    "library(xtable)\n",
    "table <- matrix(0, 1, 4)\n",
    "table[1,1:4]   <- c(est_lasso,std_lasso,ci_lasso[1],ci_lasso[2])\n",
    "colnames(table) <-c(\"estimator\",\"standard error\", \"lower bound CI\", \"upper bound CI\")\n",
    "rownames(table) <-c(\"Double Lasso\")\n",
    "tab<- xtable(table, digits = 3)\n",
    "print(tab,type=\"html\") # set type=\"latex\" for printing table in LaTeX"
   ],
   "outputs": [
    {
     "output_type": "stream",
     "name": "stdout",
     "text": [
      "<!-- html table generated in R 3.6.1 by xtable 1.8-4 package -->\n",
      "<!-- Fri Oct 08 17:41:04 2021 -->\n",
      "<table border=1>\n",
      "<tr> <th>  </th> <th> estimator </th> <th> standard error </th> <th> lower bound CI </th> <th> upper bound CI </th>  </tr>\n",
      "  <tr> <td align=\"right\"> Double Lasso </td> <td align=\"right\"> -0.050 </td> <td align=\"right\"> 0.014 </td> <td align=\"right\"> -0.078 </td> <td align=\"right\"> -0.022 </td> </tr>\n",
      "   </table>\n"
     ]
    }
   ],
   "metadata": {}
  },
  {
   "cell_type": "markdown",
   "source": [
    "<!-- html table generated in R 3.6.1 by xtable 1.8-4 package -->\n",
    "<!-- Thu Oct 07 21:39:37 2021 -->\n",
    "<table border=1>\n",
    "<tr> <th>  </th> <th> estimator </th> <th> standard error </th> <th> lower bound CI </th> <th> upper bound CI </th>  </tr>\n",
    "  <tr> <td align=\"right\"> Double Lasso </td> <td align=\"right\"> -0.050 </td> <td align=\"right\"> 0.014 </td> <td align=\"right\"> -0.078 </td> <td align=\"right\"> -0.022 </td> </tr>\n",
    "   </table>"
   ],
   "metadata": {}
  },
  {
   "cell_type": "markdown",
   "source": [
    "About Double Lasso, we can see the coefficient estimator has 0,014 of standard error (a litlle high), also the confidence interval not includes zero. So the convergence hypothesis is not possible."
   ],
   "metadata": {}
  },
  {
   "cell_type": "markdown",
   "source": [
    "### Main coefficients"
   ],
   "metadata": {}
  },
  {
   "cell_type": "code",
   "execution_count": null,
   "source": [
    "#m1\n",
    "#est_ols <- summary(reg.ols)$coef[\"gdpsh465\",1] \n",
    "#std_ols <- summary(reg.ols)$coef[\"gdpsh465\",2] \n",
    "#ci_ols[1]\n",
    "#ci_ols[2]\n",
    "\n",
    "#m2\n",
    "\n",
    "#m3\n",
    "#est_tlasso <- -0.05000585\n",
    "#std_tlasso <- 0.01579138\n",
    "\n",
    "#m4\n",
    "#est_lasso <- partial.lasso$coef[2]\n",
    "#std_lasso <- summary(partial.lasso)$coef[2,2]\n",
    "#ci_lasso[1]\n",
    "#ci_lasso[2]"
   ],
   "outputs": [],
   "metadata": {}
  },
  {
   "cell_type": "code",
   "execution_count": 21,
   "source": [
    "plot(NA, xlim = c(-0.2, 0.2), ylim = c(0, 4), xlab = \"Coefficient Estimate w/ 95% Confidence Intervals\", ylab = \"\", yaxt = \"n\")\n",
    "# We can add a title:\n",
    "title(\"Coefficient Results\")\n",
    "\n",
    "# We'll add a y-axis labelling our variables:\n",
    "axis(2, 1:4, c(\"m1\", \"m2\", \"m3\", \"m4\"), las = 2)\n",
    "\n",
    "# We'll add a vertical line for zero:\n",
    "abline(v = 0, col = \"gray\")\n",
    "\n",
    "# Then we'll draw our slopes as points:\n",
    "points(est_ols, 1, pch = 23, col = \"black\", bg = \"black\")\n",
    "points(est_tlasso, 3, pch = 23, col = \"black\", bg = \"black\")\n",
    "points(est_lasso, 4, pch = 23, col = \"black\", bg = \"black\")\n",
    "\n",
    "#Adding confidence intervals\n",
    "segments(ci_ols[1], 1, ci_ols[2], 1, col = \"black\", lwd = 2)\n",
    "segments(ci_lasso[1], 3, ci_lasso[2], 3, col = \"black\", lwd = 2)\n",
    "segments(ci_lasso[1], 4, ci_lasso[2], 4, col = \"black\", lwd = 2)"
   ],
   "outputs": [
    {
     "output_type": "display_data",
     "data": {
      "image/png": "[encoded data removed]",
      "text/plain": [
       "Plot with title \"Coefficient Results\""
      ]
     },
     "metadata": {}
    }
   ],
   "metadata": {}
  },
  {
   "cell_type": "markdown",
   "source": [
    "Models\n",
    "- m1: Ordinary least square (OLS)\n",
    "- m2: Double lasso using cross validation\n",
    "- m3: Double lasso using theoretical Lambda\n",
    "- m4: Double lasso using partialling-out\n",
    "\n",
    "This graph shows the estimated coefficients of the four models. First, the m1 model shows that the coefficient is not significant, since the confidence interval includes the zero value. Second, we did not graph the estimated coefficient of m2, since this left us 1 with 0 of standard error, in that sense, we consider that we made some mistake in the estimation process. Third, the estimated coefficients of m3 and m4 are significant, since the confidence intervals do not include the value of zero."
   ],
   "metadata": {}
  },
  {
   "cell_type": "code",
   "execution_count": null,
   "source": [],
   "outputs": [],
   "metadata": {}
  }
 ],
 "metadata": {
  "kernelspec": {
   "display_name": "R",
   "language": "R",
   "name": "ir"
  },
  "language_info": {
   "codemirror_mode": "r",
   "file_extension": ".r",
   "mimetype": "text/x-r-source",
   "name": "R",
   "pygments_lexer": "r",
   "version": "3.6.1"
  },
  "papermill": {
   "default_parameters": {},
   "duration": 835.118278,
   "end_time": "2021-03-17T14:09:19.633175",
   "environment_variables": {},
   "exception": null,
   "input_path": "__notebook__.ipynb",
   "output_path": "__notebook__.ipynb",
   "parameters": {},
   "start_time": "2021-03-17T13:55:24.514897",
   "version": "2.3.2"
  }
 },
 "nbformat": 4,
 "nbformat_minor": 5
}