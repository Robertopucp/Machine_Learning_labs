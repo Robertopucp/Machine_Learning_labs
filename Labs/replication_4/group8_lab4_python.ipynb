{
 "cells": [
  {
   "cell_type": "markdown",
   "id": "13afabc2",
   "metadata": {},
   "source": [
    "## GRUPO 8 \n",
    "\n",
    "#### *Integrantes:* \n",
    "\n",
    "1. Gianfranco Soria (20163509)\n",
    "2. Andrea Clavo (20176040)\n",
    "3. Sandra Martínez (20173026)"
   ]
  },
  {
   "cell_type": "code",
   "execution_count": 1,
   "id": "958df88f",
   "metadata": {
    "scrolled": false
   },
   "outputs": [],
   "source": [
    "import hdmpy\n",
    "import numpy as np\n",
    "import random\n",
    "import statsmodels.api as sm\n",
    "import matplotlib.pyplot as plt\n",
    "import numpy as np\n",
    "from matplotlib import colors"
   ]
  },
  {
   "cell_type": "markdown",
   "id": "d1bd37b8",
   "metadata": {},
   "source": [
    "## Question 1: Orthogonal Learning"
   ]
  },
  {
   "cell_type": "markdown",
   "id": "1879c9cd",
   "metadata": {},
   "source": [
    "1. Replicate Simulation Design 1 three times using different numbers of trials. So you have to use:\n",
    "\n",
    "- The equation of Y for the three cases now is: Y = 5*D + beta*X + rnorm(n)\n",
    "- B = 50 , B = 100, B = 1000.\n",
    "- Explain what do you see in the distribution of the histograms. Where the orthogonal and Naive should be centered?\n",
    "- Why does this happen? Give an econometric explanation of this.\n",
    "- Label your axes and legends correctly your figures."
   ]
  },
  {
   "cell_type": "markdown",
   "id": "5ddda533",
   "metadata": {},
   "source": [
    "### Simulation Design 1"
   ]
  },
  {
   "cell_type": "markdown",
   "id": "1bc6f22c",
   "metadata": {},
   "source": [
    "#### 1. Simulation design B=50"
   ]
  },
  {
   "cell_type": "code",
   "execution_count": 81,
   "id": "f6a779d1",
   "metadata": {},
   "outputs": [],
   "source": [
    "np.random.seed(0)\n",
    "B = 50\n",
    "Naive = np.zeros( B )\n",
    "Orthogonal = np.zeros( B )"
   ]
  },
  {
   "cell_type": "code",
   "execution_count": 82,
   "id": "ecec57f2",
   "metadata": {},
   "outputs": [],
   "source": [
    "for i in range( 0, B ):\n",
    "    n = 100\n",
    "    p = 100\n",
    "    beta = ( 1 / (np.arange( 1, p + 1 ) ** 2 ) ).reshape( p , 1 )\n",
    "    gamma = ( 1 / (np.arange( 1, p + 1 ) ** 2 ) ).reshape( p , 1 )\n",
    "\n",
    "    mean = 0\n",
    "    sd = 1\n",
    "    X = np.random.normal( mean , sd, n * p ).reshape( n, p )\n",
    "\n",
    "    D = ( X @ gamma ) + np.random.normal( mean , sd, n ).reshape( n, 1 )/4 \n",
    "    # We reshape because in r when we sum a vecto with a matrix it sum by column\n",
    "    \n",
    "    # DGP \n",
    "    Y = 5*D + ( X @ beta ) + np.random.normal( mean , sd, n ).reshape( n, 1 )\n",
    "    # single selection method\n",
    "    r_lasso_estimation = hdmpy.rlasso( np.concatenate( ( D , X ) , axis  =  1 ) , Y , post = True ) # Regress main equation by lasso\n",
    "\n",
    "    coef_array = r_lasso_estimation.est[ 'coefficients' ].iloc[ 2:, :].to_numpy()    # Get \"X\" coefficients \n",
    "\n",
    "    SX_IDs = np.where( coef_array != 0 )[0]\n",
    "\n",
    "    # In case all X coefficients are zero, then regress Y on D\n",
    "    if sum(SX_IDs) == 0 : \n",
    "        Naive[ i ] = sm.OLS( Y , sm.add_constant(D) ).fit().summary2().tables[1].round(3).iloc[ 1, 0 ] \n",
    "\n",
    "    # Otherwise, then regress Y on X and D (but only in the selected coefficients)\n",
    "    elif sum( SX_IDs ) > 0 :\n",
    "        X_D = np.concatenate( ( D, X[:, SX_IDs ] ) , axis = 1 )\n",
    "        Naive[ i ] = sm.OLS( Y , sm.add_constant( X_D ) ).fit().summary2().tables[1].round(3).iloc[ 1, 0]\n",
    "\n",
    "    # In both cases we save D coefficient\n",
    "        \n",
    "    # Regress residuals. \n",
    "    resY = hdmpy.rlasso( X , Y , post = False ).est[ 'residuals' ]\n",
    "    resD = hdmpy.rlasso( X , D , post = False ).est[ 'residuals' ]\n",
    "    Orthogonal[ i ] = sm.OLS( resY , sm.add_constant( resD ) ).fit().summary2().tables[1].round(3).iloc[ 1, 0]\n"
   ]
  },
  {
   "cell_type": "code",
   "execution_count": 83,
   "id": "86cbc0cc",
   "metadata": {},
   "outputs": [],
   "source": [
    "Orto_breaks = [-1.2, -1, -0.8, -0.6, -0.4, -0.2, 0, 0.2, 0.4, 0.6, 0.8, 1, 1.2, 1.4, 1.6, 1.8, 2]\n",
    "Naive_breaks = [-0.6, -0.4, -0.2, 0, 0.2, 0.4, 0.6, 0.8, 1, 1.2]"
   ]
  },
  {
   "cell_type": "code",
   "execution_count": 84,
   "id": "4f9f91c8",
   "metadata": {},
   "outputs": [
    {
     "data": {
      "text/plain": [
       "Text(0.5, 0, 'Difference between Naive-True')"
      ]
     },
     "execution_count": 84,
     "metadata": {},
     "output_type": "execute_result"
    },
    {
     "data": {
      "image/png": "[encoded data removed]",
      "text/plain": [
       "<Figure size 432x288 with 2 Axes>"
      ]
     },
     "metadata": {
      "needs_background": "light"
     },
     "output_type": "display_data"
    }
   ],
   "source": [
    "fig, axs = plt.subplots(1, 2, sharex= True, tight_layout=True)\n",
    "\n",
    "# We can set the number of bins with the `bins` kwarg\n",
    "axs[0].hist( Orthogonal - 5 , range = (-2, 2), density = True , bins = Orto_breaks, color=\"LimeGreen\" )\n",
    "axs[1].hist( Naive - 5, range = (-2, 2), density = True , bins = Naive_breaks, color=\"Chartreuse\")\n",
    "\n",
    "axs[0].title.set_text('Orthogonal')\n",
    "axs[1].title.set_text('Naive')\n",
    "\n",
    "axs[0].set_xlabel( 'Difference between Orhtogonal-True' )\n",
    "axs[1].set_xlabel( 'Difference between Naive-True' )"
   ]
  },
  {
   "cell_type": "markdown",
   "id": "7028b790",
   "metadata": {},
   "source": [
    "#### 2. Simulation design B=100"
   ]
  },
  {
   "cell_type": "code",
   "execution_count": 77,
   "id": "1ec66b0b",
   "metadata": {},
   "outputs": [],
   "source": [
    "np.random.seed(0)\n",
    "B = 100\n",
    "Naive = np.zeros( B )\n",
    "Orthogonal = np.zeros( B )"
   ]
  },
  {
   "cell_type": "code",
   "execution_count": 78,
   "id": "11591d31",
   "metadata": {},
   "outputs": [],
   "source": [
    "for i in range( 0, B ):\n",
    "    n = 100\n",
    "    p = 100\n",
    "    beta = ( 1 / (np.arange( 1, p + 1 ) ** 2 ) ).reshape( p , 1 )\n",
    "    gamma = ( 1 / (np.arange( 1, p + 1 ) ** 2 ) ).reshape( p , 1 )\n",
    "\n",
    "    mean = 0\n",
    "    sd = 1\n",
    "    X = np.random.normal( mean , sd, n * p ).reshape( n, p )\n",
    "\n",
    "    D = ( X @ gamma ) + np.random.normal( mean , sd, n ).reshape( n, 1 )/4 \n",
    "    # We reshape because in r when we sum a vecto with a matrix it sum by column\n",
    "    \n",
    "    # DGP \n",
    "    Y = 5*D + ( X @ beta ) + np.random.normal( mean , sd, n ).reshape( n, 1 )\n",
    "    # single selection method\n",
    "    r_lasso_estimation = hdmpy.rlasso( np.concatenate( ( D , X ) , axis  =  1 ) , Y , post = True ) # Regress main equation by lasso\n",
    "\n",
    "    coef_array = r_lasso_estimation.est[ 'coefficients' ].iloc[ 2:, :].to_numpy()    # Get \"X\" coefficients \n",
    "\n",
    "    SX_IDs = np.where( coef_array != 0 )[0]\n",
    "\n",
    "    # In case all X coefficients are zero, then regress Y on D\n",
    "    if sum(SX_IDs) == 0 : \n",
    "        Naive[ i ] = sm.OLS( Y , sm.add_constant(D) ).fit().summary2().tables[1].round(3).iloc[ 1, 0 ] \n",
    "\n",
    "    # Otherwise, then regress Y on X and D (but only in the selected coefficients)\n",
    "    elif sum( SX_IDs ) > 0 :\n",
    "        X_D = np.concatenate( ( D, X[:, SX_IDs ] ) , axis = 1 )\n",
    "        Naive[ i ] = sm.OLS( Y , sm.add_constant( X_D ) ).fit().summary2().tables[1].round(3).iloc[ 1, 0]\n",
    "\n",
    "    # In both cases we save D coefficient\n",
    "        \n",
    "    # Regress residuals. \n",
    "    resY = hdmpy.rlasso( X , Y , post = False ).est[ 'residuals' ]\n",
    "    resD = hdmpy.rlasso( X , D , post = False ).est[ 'residuals' ]\n",
    "    Orthogonal[ i ] = sm.OLS( resY , sm.add_constant( resD ) ).fit().summary2().tables[1].round(3).iloc[ 1, 0]"
   ]
  },
  {
   "cell_type": "code",
   "execution_count": 79,
   "id": "84500f73",
   "metadata": {},
   "outputs": [],
   "source": [
    "Orto_breaks = [-1.2, -1, -0.8, -0.6, -0.4, -0.2, 0, 0.2, 0.4, 0.6, 0.8, 1, 1.2, 1.4, 1.6, 1.8, 2]\n",
    "Naive_breaks = [-0.6, -0.4, -0.2, 0, 0.2, 0.4, 0.6, 0.8, 1, 1.2]"
   ]
  },
  {
   "cell_type": "code",
   "execution_count": 80,
   "id": "c4fd3e21",
   "metadata": {},
   "outputs": [
    {
     "data": {
      "text/plain": [
       "Text(0.5, 0, 'Difference between Naive-True')"
      ]
     },
     "execution_count": 80,
     "metadata": {},
     "output_type": "execute_result"
    },
    {
     "data": {
      "image/png": "[encoded data removed]",
      "text/plain": [
       "<Figure size 432x288 with 2 Axes>"
      ]
     },
     "metadata": {
      "needs_background": "light"
     },
     "output_type": "display_data"
    }
   ],
   "source": [
    "fig, axs = plt.subplots(1, 2, sharex= True, tight_layout=True)\n",
    "\n",
    "# We can set the number of bins with the `bins` kwarg\n",
    "axs[0].hist( Orthogonal - 5 , range = (-2, 2), density = True , bins = Orto_breaks, color=\"LimeGreen\" )\n",
    "axs[1].hist( Naive - 5, range = (-2, 2), density = True , bins = Naive_breaks, color=\"Chartreuse\")\n",
    "\n",
    "axs[0].title.set_text('Orthogonal')\n",
    "axs[1].title.set_text('Naive')\n",
    "\n",
    "axs[0].set_xlabel( 'Difference between Orhtogonal-True' )\n",
    "axs[1].set_xlabel( 'Difference between Naive-True' )"
   ]
  },
  {
   "cell_type": "markdown",
   "id": "5966c71d",
   "metadata": {},
   "source": [
    "#### 3. Simulation design B=1000"
   ]
  },
  {
   "cell_type": "code",
   "execution_count": 72,
   "id": "12faf173",
   "metadata": {},
   "outputs": [],
   "source": [
    "np.random.seed(0)\n",
    "B = 1000\n",
    "Naive = np.zeros( B )\n",
    "Orthogonal = np.zeros( B )\n"
   ]
  },
  {
   "cell_type": "code",
   "execution_count": 73,
   "id": "8836a4a7",
   "metadata": {},
   "outputs": [],
   "source": [
    "for i in range( 0, B ):\n",
    "    n = 100\n",
    "    p = 100\n",
    "    beta = ( 1 / (np.arange( 1, p + 1 ) ** 2 ) ).reshape( p , 1 )\n",
    "    gamma = ( 1 / (np.arange( 1, p + 1 ) ** 2 ) ).reshape( p , 1 )\n",
    "\n",
    "    mean = 0\n",
    "    sd = 1\n",
    "    X = np.random.normal( mean , sd, n * p ).reshape( n, p )\n",
    "\n",
    "    D = ( X @ gamma ) + np.random.normal( mean , sd, n ).reshape( n, 1 )/4 \n",
    "    # We reshape because in r when we sum a vecto with a matrix it sum by column\n",
    "    \n",
    "    # DGP \n",
    "    Y = 5*D + ( X @ beta ) + np.random.normal( mean , sd, n ).reshape( n, 1 )\n",
    "    # single selection method\n",
    "    r_lasso_estimation = hdmpy.rlasso( np.concatenate( ( D , X ) , axis  =  1 ) , Y , post = True ) # Regress main equation by lasso\n",
    "\n",
    "    coef_array = r_lasso_estimation.est[ 'coefficients' ].iloc[ 2:, :].to_numpy()    # Get \"X\" coefficients \n",
    "\n",
    "    SX_IDs = np.where( coef_array != 0 )[0]\n",
    "\n",
    "    # In case all X coefficients are zero, then regress Y on D\n",
    "    if sum(SX_IDs) == 0 : \n",
    "        Naive[ i ] = sm.OLS( Y , sm.add_constant(D) ).fit().summary2().tables[1].round(3).iloc[ 1, 0 ] \n",
    "\n",
    "    # Otherwise, then regress Y on X and D (but only in the selected coefficients)\n",
    "    elif sum( SX_IDs ) > 0 :\n",
    "        X_D = np.concatenate( ( D, X[:, SX_IDs ] ) , axis = 1 )\n",
    "        Naive[ i ] = sm.OLS( Y , sm.add_constant( X_D ) ).fit().summary2().tables[1].round(3).iloc[ 1, 0]\n",
    "\n",
    "    # In both cases we save D coefficient\n",
    "        \n",
    "    # Regress residuals. \n",
    "    resY = hdmpy.rlasso( X , Y , post = False ).est[ 'residuals' ]\n",
    "    resD = hdmpy.rlasso( X , D , post = False ).est[ 'residuals' ]\n",
    "    Orthogonal[ i ] = sm.OLS( resY , sm.add_constant( resD ) ).fit().summary2().tables[1].round(3).iloc[ 1, 0]\n",
    "\n"
   ]
  },
  {
   "cell_type": "code",
   "execution_count": 74,
   "id": "f6451fd9",
   "metadata": {},
   "outputs": [],
   "source": [
    "Orto_breaks = [-1.2, -1, -0.8, -0.6, -0.4, -0.2, 0, 0.2, 0.4, 0.6, 0.8, 1, 1.2, 1.4, 1.6, 1.8, 2]\n",
    "Naive_breaks = [-0.6, -0.4, -0.2, 0, 0.2, 0.4, 0.6, 0.8, 1, 1.2]\n"
   ]
  },
  {
   "cell_type": "code",
   "execution_count": 76,
   "id": "b6df1782",
   "metadata": {},
   "outputs": [
    {
     "data": {
      "text/plain": [
       "Text(0.5, 0, 'Difference between Naive-True')"
      ]
     },
     "execution_count": 76,
     "metadata": {},
     "output_type": "execute_result"
    },
    {
     "data": {
      "image/png": "[encoded data removed]",
      "text/plain": [
       "<Figure size 432x288 with 2 Axes>"
      ]
     },
     "metadata": {
      "needs_background": "light"
     },
     "output_type": "display_data"
    }
   ],
   "source": [
    "fig, axs = plt.subplots(1, 2, sharex= True, tight_layout=True)\n",
    "\n",
    "# We can set the number of bins with the `bins` kwarg\n",
    "axs[0].hist( Orthogonal - 5 , range = (-2, 2), density = True , bins = Orto_breaks, color=\"LimeGreen\" )\n",
    "axs[1].hist( Naive - 5, range = (-2, 2), density = True , bins = Naive_breaks, color=\"Chartreuse\")\n",
    "\n",
    "axs[0].title.set_text('Orthogonal')\n",
    "axs[1].title.set_text('Naive')\n",
    "\n",
    "axs[0].set_xlabel( 'Difference between Orhtogonal-True' )\n",
    "axs[1].set_xlabel( 'Difference between Naive-True' )"
   ]
  },
  {
   "cell_type": "markdown",
   "id": "44fd95a5",
   "metadata": {},
   "source": [
    "- ### Explain what do you see in the distribution of the histograms. Where the orthogonal and Naive should be centered?"
   ]
  },
  {
   "cell_type": "markdown",
   "id": "002c3263",
   "metadata": {},
   "source": [
    "First, in a general way, it can be observed that the histograms as the number of attempts increases, the density decreases for both approaches. In the case of the Orthogonal approach, the distribution is more centered at 0 and resembles more a normal distribution with mean 0 (large numbers theorem) and for the Naive, it is more pulled towards 1. The reason for this is because after each experiment, the estimated beta, in the case of the orthogonal approach, is very close to the real value which is 5. That is, these values for the first graph (B=50) vary between 4.5 and 5.5 and for the other two graphs (B=100 and B=1000) vary approximately between 4 and 6. On the other hand, in the Naive approach, the distribution shows that the estimated beta values are more centered on 5.5 or 6.\n",
    "\n",
    "Therefore, using the Naive approach since it is not taking into account Neyma's Orthogonality problem cannot make inference and the beta is even biased."
   ]
  },
  {
   "cell_type": "markdown",
   "id": "67004d1f",
   "metadata": {},
   "source": [
    "- ### Why does this happen? Give an econometric explanation of this."
   ]
  },
  {
   "cell_type": "markdown",
   "id": "fda4b5b8",
   "metadata": {},
   "source": [
    "Remember our main equation (Double Lasso): $Y=\\alpha D+\\beta'W+\\epsilon$\n",
    "\n",
    "where $D$ is the target regressor and $W$ consists of $p$ controls.\n",
    "After partilling-out, \n",
    "\n",
    "$\\hat{Y}=\\alpha\\tilde{D}+\\epsilon,E\\epsilon\\tilde{D}=0$\n",
    "\n",
    "where the cariables with tilde are residuald from taking out the linear\n",
    "effect of $W$ \n",
    "\n",
    "$\\tilde{D}=D-\\gamma'_{DW},$ $\\gamma'_{DW}=arg$ $\\underset{\\gamma\\epsilon R^{P}}{min}$$E(D-\\gamma'W){}^{2}$\n",
    "\n",
    "$\\tilde{Y}=Y-\\gamma'_{YW}$, $\\gamma'_{YW}=arg$ $\\underset{\\gamma\\epsilon R^{P}}{min}$$E(Y-\\gamma'W){}^{2}$\n",
    "\n",
    "Neyman Orthogonality \n",
    "\n",
    "It states that the target parameter is parameterized in terms of nuisance parameters in such away that small perturbations in terms of biased estimation of these parameters will translate to a negligible effect on estimating the target parameter.\n",
    "\n",
    "- We have the nuisance projection parameteres:  $\\eta^{0}=(\\gamma'_{DW},\\gamma'_{YW})'$\n",
    "\n",
    "- The target parameter: $\\alpha(\\eta)$. That is, this alpha is not sensitive to gamma changes. \n",
    "\n",
    "- is first order insesitive to local perturbations of these parameters: \n",
    "\n",
    "$D=\\partial_{n}\\alpha(\\eta^{0})=0$\n",
    "\n",
    "The following assumption is made, the Orthogonality Principle, where\n",
    "there is no correlation between the error and the explanatory variable\n",
    "X.  \n",
    "\n",
    "$M(\\kappa,\\eta)=E[(\\tilde{Y}(\\eta_{1})-\\kappa\\tilde{D}(\\eta_{2}))\\tilde{D}(\\eta_{2})]=0$\n",
    "\n",
    "where: $n:=(n'_{1},n'_{2})'=\\eta^{0}:=(\\gamma'_{DW},\\gamma'_{YW})'$\n",
    "\n",
    "In this case, we have defined that D is a function of the control variables (W). Then, we have regressed with double lasso to clean\n",
    "up our D, so that there is no correlation and the above assumption is fulfilled. \n",
    "\n",
    "$\\tilde{Y}(\\eta_{1})=Y-\\eta'_{1}W,$ $\\tilde{D}(\\eta_{2})=D-\\eta'_{2}W$\n",
    "\n",
    "$\\tilde{Y}=Y-\\gamma'_{YW},$$\\tilde{D}=D-\\gamma'_{DW}W$\n",
    "\n",
    "$D=-\\partial_{n}M(\\alpha,\\eta^{0})^{-1}\\partial_{n}M(\\alpha,\\eta^{0})$\n",
    "\n",
    "Partial derivatives: \n",
    "\n",
    "$\\partial_{n_{1}}M(\\alpha,\\eta^{0})^{-1}=E(W\\tilde{D})=0$\n",
    "\n",
    "$\\partial_{n_{2}}M(\\alpha,\\eta^{0})^{-1}=-E(\\tilde{Y}W)+2E(\\alpha\\tilde{D}W)=0$\n",
    "\n",
    "\n",
    "$\\hat{M}(\\kappa,\\hat{n})=E_{n}[(\\check{Y}-\\kappa\\check{Y})\\check{D}]=0,$$\\tilde{Y}=\\tilde{Y}(\\hat{\\eta}_{1}),$$\\tilde{D}=\\tilde{D}(\\hat{\\eta}_{2})$\n",
    "\n",
    "Neyman Orthogonality condition\n",
    "\n",
    "$D=\\partial_{n}\\alpha(\\eta^{0})=0,$$\\partial_{n}M(\\alpha,\\eta^{0})=0$\n",
    "\n",
    "Therefore, when assumption 1 is violated, the partial derivatives will be different from 0 and the $\\alpha$will move as the previously\n",
    "estimated $\\gamma$ changes. The estimator will be biased, so inference will not be possible. \n",
    "\n",
    "NOTE: In the exercise performed for the histograms, our target variable is the $\\beta$. In contrast, in this demonstration it is the $\\alpha$"
   ]
  },
  {
   "cell_type": "markdown",
   "id": "97f13adb",
   "metadata": {},
   "source": [
    "\n",
    "#### [General terms] Overcoming Regularization Biases using Orthogonalization.\n",
    "\n",
    "As a lead example, consider the following partially linear regression\n",
    "(PLR)\n",
    "\n",
    "$Y=D\\theta'_{0}+g_{0}(X)+U$, $E[U\\mid X,D]=0$\n",
    "\n",
    "$D=m_{0}(X)+V$,$E[V\\mid X]=0$\n",
    "\n",
    "where $Y$is the outcome variable, $D$ is the policy/treatment variable of interest,vector $X=(X_{1},...,$$X_{p})$ consists of other controls, and $U$and $V$are disturbances. The first equation is the main equation, and $\\theta_{0}$ is the main regression coefficient that we would like to infer. If $D$ is exogenous conditional on controls $X$, $\\theta_{0}$has the interpretation of the treatment effect (TE) parameter or  \"lift\" parameter in business applications. The second equation keeps track of confounding, namely the dependence of the treatment variable on controls. This equation is not of interest per se but is important for characterizing and removing regularization bias. The confounding factors $X$ affect the policy variable $D$ via the function $m_{0}(X)$ and the outcome variable via the function $g_{0}(X)$. In many applications, the dimension $\\rho$ of vector $X$is large relative to $N$. To capture the feature that p is not vanishingly small relative to the sample size, modern analyses then model $\\rho$ as increasing To capture the feature that p is not vanishingly small relative to the sample size, modern analyses then model p as increasing $\\eta_{0}=(m_{0},g_{0})$ to fail. \n",
    "\n",
    "Now consider a onstruction that employs an \"orthogonalized\" formulation obtained by directly partialling out the effect of $X$ from $D$ to obtain the orthogonalized regressor $V=D-m_{0}(X)$. Specifically, we obtain $V=\\hat{D}-\\hat{m}_{0}(X)$, where $\\hat{m}_{0}$ is a Machine Learning estimator of $m_{0}$ obtained using the auxiliary sample of observations. We are now solving an auxiliary prediction problem to estimate the conditional mean of $D$ given $X$, so we are doing \"double prediction\" or  \"double machine learning\".\n",
    "\n",
    "After partialling the effect of $X$ out from $D$ and obtaining a preliminary estimate of g0 from the auxiliary sample as before, we may formulate the following \"debiased\" machine learning estimator for $\\theta_{0}$ using the main sample of observations:\n",
    "\n",
    "$\\check{\\theta}_{0}=(\\frac{1}{n}\\underset{i\\epsilon I}{\\sum}\\hat{V}_{i}D_{i})^{-1}\\frac{1}{n}\\underset{i\\epsilon I}{\\sum}\\hat{V}_{i}(Y_{i}-\\hat{g}_{0}(X_{i}))$\n",
    "\n",
    "By approximately orthogonalizing $D$ with respect to $X$ and approximately removing the direct effect of confounding by subtracting an estimate of $g_{0},$$\\theta_{0}$removes the effect of regularization bias that contaminates. The formulation of $\\check{\\theta}_{0}$also provides direct links to both the classical econometric literature, as the estimator can clearly be interpreted as a linear instrumental variable (IV) estimator, and to the more recent literature on debiased lasso in the context where $g_{0}$ is taken to be well approximated by a sparse linear combination of prespecified functions of $X$.\n",
    "\n",
    "To illustrate the benefits of the auxiliary prediction step and estimating $\\theta_{0}$with $\\check{\\theta}_{0}$, we sketch the properties of $\\check{\\theta}_{0}$ here. We can decompose the scaled estimation error of $\\check{\\theta}_{0}$ into three components:\n",
    "\n",
    "$\\sqrt{n}(\\check{\\theta}_{0}-\\theta_{0})=a^{*}+b^{*}+c^{*}$\n",
    "\n",
    "The leading term, $a^{*}$, will satisfy\n",
    "\n",
    "$a^{*}=(EV^{2})^{-1}$$\\frac{1}{\\sqrt{n}}\\underset{i\\epsilon I}{\\sum}V_{i}U_{i}\\rightsquigarrow N(0,\\varSigma)$\n",
    "\n",
    "under mild conditions. The second term, $b^{*}$, captures the impact of regularization bias in estimating $g_{0}$and $m_{0}.$Specifically, we will have\n",
    "\n",
    "$b^{*}=(EV^{2})^{-1}\\frac{1}{\\sqrt{n}}\\underset{i\\epsilon I}{\\sum}(\\hat{m}_{0}(X_{i})-m_{0}(X_{i}))(\\hat{g}_{0}(X_{i}))-g_{0}(X_{i}))$, which now depends on the product of the estimation errors in $\\hat{m}_{0}$ and $\\hat{g}_{0}$. Because this term depends only on the product of the estimation errors, it can vanish under a broad range of data-generating processes. Indeed, this term is upper-bounded by $\\sqrt{nn}^{-(\\varphi_{m}+\\varphi_{g})},$where $n^{-\\varphi_{m}}$and $n^{-\\varphi_{g}}$are respectively the rates of convergence of $\\hat{m}_{0}$to $m_{0}$ and $\\hat{g}_{0}$ to $g_{0}$; ; and this upper bound can clearly vanish even though both $m_{0}$ and $g_{0}$are estimated at relatively slow rates. Verifying that $\\check{\\theta}_{0}$ has good properties then requires that the remainder term, $c^{*}$, is sufficiently well-behaved. \n"
   ]
  },
  {
   "cell_type": "markdown",
   "id": "add9379f",
   "metadata": {},
   "source": [
    "_____\n",
    "## Question 2: Double Lasso - Testing the Convergence Hypothesis\n",
    "_____"
   ]
  },
  {
   "cell_type": "markdown",
   "id": "5fa18763",
   "metadata": {},
   "source": [
    "1. Explain what is the Double Lasso Approach in a markdown cell. Use equations for a better explanation."
   ]
  },
  {
   "cell_type": "markdown",
   "id": "ae3a3b23",
   "metadata": {},
   "source": [
    "Urminsky, Hansen and Chernozhukov, described a “double-lasso” approach\n",
    "that can help researchers select variables for inclusion in analyses in a\n",
    "principled manner that avoids inflated Type I errors.  The goal of their paper is to identify covariates for inclusion in two steps, finding those that predict the dependent variable and those that predict the independent variable. The second step is important, because exclusion of a covariate that is a modest predictor of the dependent variable but a strong predictor of the independent variable can create a substantial omitted variable bias. In experimental data, the second step also serves as a test of randomization. While we recommend using lasso regression, calibrated to avoid overfitting, in these variable selection steps, we also discuss similarly-performing alternative methods. The variables selected in either step are then included in the regression of interest. \n",
    "\n",
    "Without loss of generality, they focus on the case with a single focal independent variable of interest, $Xi$, and we want to know how it relates to dependent variable $Yi$. The focal variable $Xi$ could be either a measured variable or an experimental condition code. In addition, they have multiple potential covariates, $W_{i1}$ to $W_{iK}$. We could estimate a linear regression model, finding $\\beta$s that minimize the sum of squared errors in the regression equation:\n"
   ]
  },
  {
   "cell_type": "markdown",
   "id": "8554d5b2",
   "metadata": {},
   "source": [
    "$$ Y_i=\\beta_0+\\beta_1Xi+\\beta_2W_{i1}+…+\\beta_{K+1}W_{iK}+\\epsilon_i $$"
   ]
  },
  {
   "cell_type": "markdown",
   "id": "4abe3c52",
   "metadata": {},
   "source": [
    "A lasso regression instead finds $\\beta$s that minimize the sum of squared errors in the regression equation with an additional penalty term:"
   ]
  },
  {
   "cell_type": "markdown",
   "id": "27ca3e1e",
   "metadata": {},
   "source": [
    "$$ Min[\\Sigma_i(Y_i-\\beta_0+\\beta_1Xi+\\beta_2W_{i1}+...+\\beta_{K+1}W_{iK}+\\epsilon_i)^2 + \\lambda\\Sigma_{k}|\\beta_{k}|]\n",
    " $$"
   ]
  },
  {
   "cell_type": "markdown",
   "id": "5bc877d5",
   "metadata": {},
   "source": [
    "The penalty term results in the lasso regression shrinking the estimated regression coefficients towards zero and potentially setting coefficients on some variables exactly to zero, both of which help reduce over-fitting. The lasso, by setting some coefficients to zero, also performs variable selection. These shrinkage properties allow Lasso regression to be used even when the number of observations is small relative to the number of predictors (e.g. discussion in James, Witten, Hastie, & Tibshirani, 2013).\n",
    "\n",
    "However, directly using lasso regression can be problematic. Those lasso-estimated coefficients that are actually non-zero are typically  underestimated, and lasso may mistakenly exclude variables with non-zero coefficients, particularly variables with moderate effects. Each\n",
    "of these phenomena generally causes significant regularization bias that adversely affects estimation and inference about $\\beta_1$. The omission of covariates with moderate but non-zero coefficients is especially problematic and results in omitted variable bias when these covariates are relevant predictors of the focal variable. In order to overcome such biases, we recommend using the “double-lasso” variable selection procedure (Belloni, et al., 2014), which was explicitly designed to alleviate both sources of bias, as follows:"
   ]
  },
  {
   "cell_type": "markdown",
   "id": "b0f07197",
   "metadata": {},
   "source": [
    "**Step 1**: Fit a lasso regression predicting the dependent variable, and keeping track of the variables with non-zero estimated coefficients: "
   ]
  },
  {
   "cell_type": "markdown",
   "id": "dfcdc167",
   "metadata": {},
   "source": [
    "$$ Y_i=\\alpha_0+\\alpha_1W_{i1}+…+\\alpha_{K}W_{iK}+\\epsilon_i $$"
   ]
  },
  {
   "cell_type": "markdown",
   "id": "a8de879e",
   "metadata": {},
   "source": [
    "**Step 2**: Fit a lasso regression predicting the focal independent variable, keeping track of the variables with non-zero estimated coefficients:\n"
   ]
  },
  {
   "cell_type": "markdown",
   "id": "c97efa10",
   "metadata": {},
   "source": [
    "$$ Y_i=\\delta_0+\\delta_1W_{i1}+…+\\delta_{K}W_{iK}+\\epsilon_i $$"
   ]
  },
  {
   "cell_type": "markdown",
   "id": "dbefba19",
   "metadata": {},
   "source": [
    "**Step 3**: Fit a linear regression of the dependent variable on the focal independent variable, including the covariates ($W_{ik}$) selected in either of the first two steps:"
   ]
  },
  {
   "cell_type": "markdown",
   "id": "02c4eba6",
   "metadata": {},
   "source": [
    "$$ Y_i=\\beta_0+\\beta_1 X_{i}+\\Sigma_{k\\in_A}\\beta_{K+1}W_{iK}+\\epsilon_i $$"
   ]
  },
  {
   "cell_type": "markdown",
   "id": "4e13c3d9",
   "metadata": {},
   "source": [
    "In the equation, $A$ is the union of the variables estimated to have non-zero coefficients in Steps $1$ and $2$. This regression could also include a small set of additional covariates identified a priori as necessary. Interpret and report the coefficient estimates and significance tests on the focal variable(s) as the final results."
   ]
  },
  {
   "cell_type": "markdown",
   "id": "18f31989",
   "metadata": {},
   "source": [
    "2. Replicate the results using the next approaches:\n",
    "- OLS\n",
    "- Double LASSO using cross Validation (GLMNET in R and Sklearn in Python )\n",
    "- Double Lasso using theoretical Lambda (HDM package both in R and Python)\n",
    "- Double Lasso using method=\"partialling out\", this is a direct way to get results from the HDM package, check the Python script for an example, and also you have to read the documentation for more details.\n",
    "- Plot the main coefficient and its confidence interval of the convergence hypothesis from these 4 cases in one figure."
   ]
  },
  {
   "cell_type": "markdown",
   "id": "d107ef53",
   "metadata": {},
   "source": [
    "# Testing the Convergence Hypothesis"
   ]
  },
  {
   "cell_type": "markdown",
   "id": "2028045b",
   "metadata": {},
   "source": [
    "## Introduction"
   ]
  },
  {
   "cell_type": "markdown",
   "id": "66920e8c",
   "metadata": {},
   "source": [
    "We provide an additional empirical example of partialling-out with Lasso to estimate the regression coefficient $\\beta_1$ in the high-dimensional linear regression model:\n",
    "  $$\n",
    "  Y = \\beta_1 D +  \\beta_2'W + \\epsilon.\n",
    "  $$\n",
    "  \n",
    "Specifically, we are interested in how the rates  at which economies of different countries grow ($Y$) are related to the initial wealth levels in each country ($D$) controlling for country's institutional, educational, and other similar characteristics ($W$).\n",
    "  \n",
    "The relationship is captured by $\\beta_1$, the *speed of convergence/divergence*, which measures the speed at which poor countries catch up $(\\beta_1< 0)$ or fall behind $(\\beta_1> 0)$ rich countries, after controlling for $W$. Our inference question here is: do poor countries grow faster than rich countries, controlling for educational and other characteristics? In other words, is the speed of convergence negative: $ \\beta_1 <0?$ This is the Convergence Hypothesis predicted by the Solow Growth Model. This is a structural economic model. Under some strong assumptions, that we won't state here, the predictive exercise we are doing here can be given causal interpretation.\n"
   ]
  },
  {
   "cell_type": "markdown",
   "id": "eb0e81b8",
   "metadata": {},
   "source": [
    "The outcome $Y$ is the realized annual growth rate of a country's wealth  (Gross Domestic Product per capita). The target regressor ($D$) is the initial level of the country's wealth. The target parameter $\\beta_1$ is the speed of convergence, which measures the speed at which poor countries catch up with rich countries. The controls ($W$) include measures of education levels, quality of institutions, trade openness, and political stability in the country."
   ]
  },
  {
   "cell_type": "markdown",
   "id": "c4d97407",
   "metadata": {},
   "source": [
    "## Data analysis\n"
   ]
  },
  {
   "cell_type": "markdown",
   "id": "c4ffbf3a",
   "metadata": {},
   "source": [
    "We consider the data set GrowthData which is included in the package *hdm*. First, let us load the data set to get familiar with the data."
   ]
  },
  {
   "cell_type": "code",
   "execution_count": 1,
   "id": "c20d2eb4",
   "metadata": {
    "scrolled": true
   },
   "outputs": [],
   "source": [
    "import hdmpy\n",
    "import pandas as pd\n",
    "import numpy as np\n",
    "import pyreadr\n",
    "import math\n",
    "import matplotlib.pyplot as plt\n",
    "import random"
   ]
  },
  {
   "cell_type": "code",
   "execution_count": 2,
   "id": "b0c64c1e",
   "metadata": {},
   "outputs": [
    {
     "data": {
      "text/plain": [
       "['Outcome',\n",
       " 'intercept',\n",
       " 'gdpsh465',\n",
       " 'bmp1l',\n",
       " 'freeop',\n",
       " 'freetar',\n",
       " 'h65',\n",
       " 'hm65',\n",
       " 'hf65',\n",
       " 'p65',\n",
       " 'pm65',\n",
       " 'pf65',\n",
       " 's65',\n",
       " 'sm65',\n",
       " 'sf65',\n",
       " 'fert65',\n",
       " 'mort65',\n",
       " 'lifee065',\n",
       " 'gpop1',\n",
       " 'fert1',\n",
       " 'mort1',\n",
       " 'invsh41',\n",
       " 'geetot1',\n",
       " 'geerec1',\n",
       " 'gde1',\n",
       " 'govwb1',\n",
       " 'govsh41',\n",
       " 'gvxdxe41',\n",
       " 'high65',\n",
       " 'highm65',\n",
       " 'highf65',\n",
       " 'highc65',\n",
       " 'highcm65',\n",
       " 'highcf65',\n",
       " 'human65',\n",
       " 'humanm65',\n",
       " 'humanf65',\n",
       " 'hyr65',\n",
       " 'hyrm65',\n",
       " 'hyrf65',\n",
       " 'no65',\n",
       " 'nom65',\n",
       " 'nof65',\n",
       " 'pinstab1',\n",
       " 'pop65',\n",
       " 'worker65',\n",
       " 'pop1565',\n",
       " 'pop6565',\n",
       " 'sec65',\n",
       " 'secm65',\n",
       " 'secf65',\n",
       " 'secc65',\n",
       " 'seccm65',\n",
       " 'seccf65',\n",
       " 'syr65',\n",
       " 'syrm65',\n",
       " 'syrf65',\n",
       " 'teapri65',\n",
       " 'teasec65',\n",
       " 'ex1',\n",
       " 'im1',\n",
       " 'xr65',\n",
       " 'tot1']"
      ]
     },
     "execution_count": 2,
     "metadata": {},
     "output_type": "execute_result"
    }
   ],
   "source": [
    "# I downloaded the data that the author used\n",
    "growth_read = pyreadr.read_r(\"../data/GrowthData.RData\")\n",
    "\n",
    "# Extracting the data frame from rdata_read\n",
    "growth = growth_read[ 'GrowthData' ]\n",
    "list(growth)"
   ]
  },
  {
   "cell_type": "markdown",
   "id": "6f03ecf5",
   "metadata": {},
   "source": [
    "We determine the dimension of our data set."
   ]
  },
  {
   "cell_type": "code",
   "execution_count": 4,
   "id": "93ecd054",
   "metadata": {},
   "outputs": [
    {
     "data": {
      "text/plain": [
       "(90, 63)"
      ]
     },
     "execution_count": 4,
     "metadata": {},
     "output_type": "execute_result"
    }
   ],
   "source": [
    "growth.shape"
   ]
  },
  {
   "cell_type": "markdown",
   "id": "8aeca439",
   "metadata": {
    "papermill": {
     "duration": 0.025013,
     "end_time": "2021-01-20T08:46:45.109042",
     "exception": false,
     "start_time": "2021-01-20T08:46:45.084029",
     "status": "completed"
    },
    "tags": []
   },
   "source": [
    "The sample contains $90$ countries and $63$ controls. Thus $p \\approx 60$, $n=90$ and $p/n$ is not small. We expect the least squares method to provide a poor estimate of $\\beta_1$.  We expect the method based on partialling-out with Lasso to provide a high quality estimate of $\\beta_1$."
   ]
  },
  {
   "cell_type": "markdown",
   "id": "b978a37e",
   "metadata": {
    "papermill": {
     "duration": 0.024124,
     "end_time": "2021-01-20T08:46:45.157510",
     "exception": false,
     "start_time": "2021-01-20T08:46:45.133386",
     "status": "completed"
    },
    "tags": []
   },
   "source": [
    "To check this hypothesis, we analyze the relation between the output variable $Y$ and the other country's characteristics by running a linear regression in the first step."
   ]
  },
  {
   "cell_type": "code",
   "execution_count": 5,
   "id": "81e23564",
   "metadata": {},
   "outputs": [],
   "source": [
    "import statsmodels.api as sm\n",
    "import statsmodels.formula.api as smf"
   ]
  },
  {
   "cell_type": "code",
   "execution_count": 6,
   "id": "4f4c2c5b",
   "metadata": {},
   "outputs": [
    {
     "name": "stderr",
     "output_type": "stream",
     "text": [
      "C:\\Users\\sandr\\anaconda3\\envs\\renvi\\lib\\site-packages\\ipykernel_launcher.py:3: FutureWarning: In a future version of pandas all arguments of DataFrame.drop except for the argument 'labels' will be keyword-only\n",
      "  This is separate from the ipykernel package so we can avoid doing imports until\n"
     ]
    }
   ],
   "source": [
    "# We create the main variables\n",
    "y = growth['Outcome']\n",
    "X = growth.drop('Outcome', 1)"
   ]
  },
  {
   "cell_type": "markdown",
   "id": "eed5a58c",
   "metadata": {},
   "source": [
    "## METHOD 1: OLS"
   ]
  },
  {
   "cell_type": "code",
   "execution_count": 9,
   "id": "f11a7b73",
   "metadata": {},
   "outputs": [
    {
     "name": "stdout",
     "output_type": "stream",
     "text": [
      "                            OLS Regression Results                            \n",
      "==============================================================================\n",
      "Dep. Variable:                Outcome   R-squared:                       0.887\n",
      "Model:                            OLS   Adj. R-squared:                  0.641\n",
      "Method:                 Least Squares   F-statistic:                     3.607\n",
      "Date:                Thu, 07 Oct 2021   Prob (F-statistic):           0.000200\n",
      "Time:                        17:09:42   Log-Likelihood:                 238.24\n",
      "No. Observations:                  90   AIC:                            -352.5\n",
      "Df Residuals:                      28   BIC:                            -197.5\n",
      "Df Model:                          61                                         \n",
      "Covariance Type:            nonrobust                                         \n",
      "==============================================================================\n",
      "                 coef    std err          t      P>|t|      [0.025      0.975]\n",
      "------------------------------------------------------------------------------\n",
      "intercept      0.2472      0.785      0.315      0.755      -1.360       1.854\n",
      "gdpsh465      -0.0094      0.030     -0.314      0.756      -0.071       0.052\n",
      "bmp1l         -0.0689      0.033     -2.117      0.043      -0.135      -0.002\n",
      "freeop         0.0801      0.208      0.385      0.703      -0.346       0.506\n",
      "freetar       -0.4890      0.418     -1.169      0.252      -1.346       0.368\n",
      "h65           -2.3621      0.857     -2.755      0.010      -4.118      -0.606\n",
      "hm65           0.7071      0.523      1.352      0.187      -0.364       1.779\n",
      "hf65           1.6934      0.503      3.365      0.002       0.663       2.724\n",
      "p65            0.2655      0.164      1.616      0.117      -0.071       0.602\n",
      "pm65           0.1370      0.151      0.906      0.373      -0.173       0.447\n",
      "pf65          -0.3313      0.165     -2.006      0.055      -0.670       0.007\n",
      "s65            0.0391      0.186      0.211      0.835      -0.341       0.419\n",
      "sm65          -0.0307      0.117     -0.263      0.795      -0.270       0.209\n",
      "sf65          -0.1799      0.118     -1.523      0.139      -0.422       0.062\n",
      "fert65         0.0069      0.027      0.254      0.801      -0.049       0.062\n",
      "mort65        -0.2335      0.817     -0.286      0.777      -1.908       1.441\n",
      "lifee065      -0.0149      0.193     -0.077      0.939      -0.411       0.381\n",
      "gpop1          0.9702      1.812      0.535      0.597      -2.742       4.682\n",
      "fert1          0.0088      0.035      0.252      0.803      -0.063       0.081\n",
      "mort1          0.0666      0.685      0.097      0.923      -1.336       1.469\n",
      "invsh41        0.0745      0.108      0.687      0.498      -0.148       0.297\n",
      "geetot1       -0.7151      1.680     -0.426      0.674      -4.157       2.726\n",
      "geerec1        0.6300      2.447      0.257      0.799      -4.383       5.643\n",
      "gde1          -0.4436      1.671     -0.265      0.793      -3.867       2.980\n",
      "govwb1         0.3375      0.438      0.770      0.447      -0.560       1.235\n",
      "govsh41        0.4632      1.925      0.241      0.812      -3.481       4.407\n",
      "gvxdxe41      -0.7934      2.059     -0.385      0.703      -5.012       3.425\n",
      "high65        -0.7525      0.906     -0.831      0.413      -2.608       1.103\n",
      "highm65       -0.3903      0.681     -0.573      0.571      -1.786       1.005\n",
      "highf65       -0.4177      0.561     -0.744      0.463      -1.568       0.732\n",
      "highc65       -2.2158      1.481     -1.496      0.146      -5.249       0.818\n",
      "highcm65       0.2797      0.658      0.425      0.674      -1.069       1.628\n",
      "highcf65       0.3921      0.766      0.512      0.613      -1.177       1.961\n",
      "human65        2.3373      3.307      0.707      0.486      -4.437       9.112\n",
      "humanm65      -1.2092      1.619     -0.747      0.461      -4.525       2.106\n",
      "humanf65      -1.1039      1.685     -0.655      0.518      -4.555       2.347\n",
      "hyr65         54.9139     23.887      2.299      0.029       5.983     103.845\n",
      "hyrm65        12.9350     23.171      0.558      0.581     -34.529      60.400\n",
      "hyrf65         9.0926     17.670      0.515      0.611     -27.102      45.287\n",
      "no65           0.0372      0.132      0.282      0.780      -0.233       0.308\n",
      "nom65         -0.0212      0.065     -0.326      0.747      -0.154       0.112\n",
      "nof65         -0.0169      0.067     -0.252      0.803      -0.154       0.120\n",
      "pinstab1      -0.0500      0.031     -1.616      0.117      -0.113       0.013\n",
      "pop65       1.032e-07   1.32e-07      0.783      0.440   -1.67e-07    3.73e-07\n",
      "worker65       0.0341      0.156      0.218      0.829      -0.286       0.354\n",
      "pop1565       -0.4655      0.471     -0.988      0.332      -1.431       0.500\n",
      "pop6565       -1.3575      0.635     -2.138      0.041      -2.658      -0.057\n",
      "sec65         -0.0109      0.308     -0.035      0.972      -0.641       0.619\n",
      "secm65         0.0033      0.151      0.022      0.983      -0.306       0.313\n",
      "secf65        -0.0023      0.158     -0.015      0.988      -0.326       0.321\n",
      "secc65        -0.4915      0.729     -0.674      0.506      -1.985       1.002\n",
      "seccm65        0.2596      0.356      0.730      0.471      -0.469       0.988\n",
      "seccf65        0.2207      0.373      0.591      0.559      -0.544       0.985\n",
      "syr65         -0.7556      7.977     -0.095      0.925     -17.095      15.584\n",
      "syrm65         0.3109      3.897      0.080      0.937      -7.671       8.293\n",
      "syrf65         0.7593      4.111      0.185      0.855      -7.661       9.180\n",
      "teapri65    3.955e-05      0.001      0.051      0.959      -0.002       0.002\n",
      "teasec65       0.0002      0.001      0.213      0.833      -0.002       0.003\n",
      "ex1           -0.5804      0.242     -2.400      0.023      -1.076      -0.085\n",
      "im1            0.5914      0.250      2.363      0.025       0.079       1.104\n",
      "xr65          -0.0001   5.42e-05     -1.916      0.066      -0.000    7.18e-06\n",
      "tot1          -0.1279      0.113     -1.136      0.266      -0.359       0.103\n",
      "==============================================================================\n",
      "Omnibus:                        0.439   Durbin-Watson:                   1.982\n",
      "Prob(Omnibus):                  0.803   Jarque-Bera (JB):                0.417\n",
      "Skew:                           0.158   Prob(JB):                        0.812\n",
      "Kurtosis:                       2.896   Cond. No.                     7.52e+08\n",
      "==============================================================================\n",
      "\n",
      "Notes:\n",
      "[1] Standard Errors assume that the covariance matrix of the errors is correctly specified.\n",
      "[2] The condition number is large, 7.52e+08. This might indicate that there are\n",
      "strong multicollinearity or other numerical problems.\n"
     ]
    }
   ],
   "source": [
    "# OLS regression\n",
    "reg_ols  = sm.OLS(y, X).fit()\n",
    "print(reg_ols.summary())"
   ]
  },
  {
   "cell_type": "code",
   "execution_count": 10,
   "id": "f737ba1d",
   "metadata": {},
   "outputs": [],
   "source": [
    "# output: estimated regression coefficient corresponding to the target regressor\n",
    "est_ols = reg_ols.summary2().tables[1]['Coef.']['gdpsh465']\n",
    "\n",
    "# output: std. error\n",
    "std_ols = reg_ols.summary2().tables[1]['Std.Err.']['gdpsh465']\n",
    "\n",
    "# output: 95% confidence interval\n",
    "lower_ci = reg_ols.summary2().tables[1]['[0.025']['gdpsh465']\n",
    "upper_ci = reg_ols.summary2().tables[1]['0.975]']['gdpsh465']"
   ]
  },
  {
   "cell_type": "markdown",
   "id": "2468eb3b",
   "metadata": {},
   "source": [
    "### Summarize OLS results"
   ]
  },
  {
   "cell_type": "code",
   "execution_count": 11,
   "id": "8e1f8d21",
   "metadata": {},
   "outputs": [
    {
     "data": {
      "text/plain": [
       "'<table border=\"1\" class=\"dataframe\">\\n  <thead>\\n    <tr style=\"text-align: right;\">\\n      <th></th>\\n      <th>Estimator</th>\\n      <th>Std. Error</th>\\n      <th>lower bound CI</th>\\n      <th>upper bound CI</th>\\n    </tr>\\n  </thead>\\n  <tbody>\\n    <tr>\\n      <th>OLS</th>\\n      <td>-0.009378</td>\\n      <td>0.029888</td>\\n      <td>-0.0706</td>\\n      <td>0.051844</td>\\n    </tr>\\n  </tbody>\\n</table>'"
      ]
     },
     "execution_count": 11,
     "metadata": {},
     "output_type": "execute_result"
    }
   ],
   "source": [
    "table_1 = np.zeros( (1, 4) )\n",
    "\n",
    "table_1[0,0] = est_ols  \n",
    "table_1[0,1] = std_ols   \n",
    "table_1[0,2] = lower_ci\n",
    "table_1[0,3] = upper_ci    \n",
    "\n",
    "\n",
    "table_1_pandas = pd.DataFrame( table_1, columns = [ \"Estimator\",\"Std. Error\", \"lower bound CI\", \"upper bound CI\"  ])\n",
    "table_1_pandas.index = [ \"OLS\" ]\n",
    "table_1_html = table_1_pandas.to_html()\n",
    "table_1_html"
   ]
  },
  {
   "cell_type": "markdown",
   "id": "9cadaf24",
   "metadata": {},
   "source": [
    "<!-- html table generated in R 3.6.3 by xtable 1.8-4 package -->\n",
    "<!-- Tue Jan 19 10:23:32 2021 -->\n",
    "<table border=1>\n",
    "<tr> <th>  </th> <th> estimator </th> <th> standard error </th> <th> lower bound CI </th> <th> upper bound CI </th>  </tr>\n",
    "  <tr> <td align=\"right\"> OLS </td> <td align=\"right\"> -0.009 </td> <td align=\"right\"> 0.030 </td> <td align=\"right\"> -0.071 </td> <td align=\"right\"> 0.052 </td> </tr>\n",
    "   </table>"
   ]
  },
  {
   "cell_type": "markdown",
   "id": "187e2db5",
   "metadata": {},
   "source": [
    "Least squares provides a rather noisy estimate (high standard error) of the\n",
    "speed of convergence, and does not allow us to answer the question\n",
    "about the convergence hypothesis since the confidence interval includes zero.\n",
    "\n",
    "In contrast, we can use the partialling-out approach based on lasso regression (\"Double Lasso\")."
   ]
  },
  {
   "cell_type": "code",
   "execution_count": 12,
   "id": "73219ec9",
   "metadata": {},
   "outputs": [
    {
     "name": "stderr",
     "output_type": "stream",
     "text": [
      "C:\\Users\\sandr\\anaconda3\\envs\\renvi\\lib\\site-packages\\ipykernel_launcher.py:3: FutureWarning: In a future version of pandas all arguments of DataFrame.drop except for the argument 'labels' will be keyword-only\n",
      "  This is separate from the ipykernel package so we can avoid doing imports until\n"
     ]
    }
   ],
   "source": [
    "# Create main variables\n",
    "Y = growth['Outcome']\n",
    "W = growth.drop(['Outcome','intercept', 'gdpsh465'], 1 )\n",
    "D = growth['gdpsh465']"
   ]
  },
  {
   "cell_type": "markdown",
   "id": "60fad946",
   "metadata": {},
   "source": [
    "## Method 2 - Using Sklearn"
   ]
  },
  {
   "cell_type": "code",
   "execution_count": 61,
   "id": "87c2e5f6",
   "metadata": {},
   "outputs": [],
   "source": [
    "from sklearn import linear_model\n",
    "from sklearn.linear_model import LassoCV\n",
    "from sklearn.datasets import make_regression\n",
    "from sklearn.model_selection import cross_validate"
   ]
  },
  {
   "cell_type": "code",
   "execution_count": 62,
   "id": "0630f281",
   "metadata": {},
   "outputs": [
    {
     "name": "stderr",
     "output_type": "stream",
     "text": [
      "C:\\Users\\sandr\\anaconda3\\envs\\renvi\\lib\\site-packages\\ipykernel_launcher.py:3: FutureWarning: In a future version of pandas all arguments of DataFrame.drop except for the argument 'labels' will be keyword-only\n",
      "  This is separate from the ipykernel package so we can avoid doing imports until\n"
     ]
    }
   ],
   "source": [
    "# Main variables\n",
    "y = growth['Outcome']\n",
    "X = growth.drop('Outcome', 1)"
   ]
  },
  {
   "cell_type": "code",
   "execution_count": 23,
   "id": "ed0e6e3a",
   "metadata": {},
   "outputs": [
    {
     "name": "stderr",
     "output_type": "stream",
     "text": [
      "C:\\Users\\sandr\\anaconda3\\envs\\renvi\\lib\\site-packages\\sklearn\\linear_model\\_coordinate_descent.py:532: ConvergenceWarning: Objective did not converge. You might want to increase the number of iterations. Duality gap: 0.0058288944773880885, tolerance: 2.3434976975716032e-05\n",
      "  positive)\n",
      "C:\\Users\\sandr\\anaconda3\\envs\\renvi\\lib\\site-packages\\sklearn\\linear_model\\_coordinate_descent.py:532: ConvergenceWarning: Objective did not converge. You might want to increase the number of iterations. Duality gap: 2.99724470007767, tolerance: 0.007147912790119585\n",
      "  positive)\n"
     ]
    }
   ],
   "source": [
    "# Seat values for Lasso\n",
    "lasso_model = linear_model.Lasso( alpha = 0.00077 )\n",
    "r_Y = Y - lasso_model.fit( W, Y ).predict( W )\n",
    "r_Y = r_Y.rename('r_Y')\n",
    "\n",
    "# Part. out d\n",
    "r_D = D - lasso_model.fit( W, D ).predict( W )\n",
    "r_D = r_D.rename('r_D')\n",
    "\n",
    "# ols \n",
    "partial_lasso_fit = sm.OLS(r_Y, r_D).fit()\n",
    "\n",
    "est_lasso = partial_lasso_fit.summary2().tables[1]['Coef.']['r_D']\n",
    "std_lasso = partial_lasso_fit.summary2().tables[1]['Std.Err.']['r_D']\n",
    "lower_ci_lasso = partial_lasso_fit.summary2().tables[1]['[0.025']['r_D']\n",
    "upper_ci_lasso = partial_lasso_fit.summary2().tables[1]['0.975]']['r_D']"
   ]
  },
  {
   "cell_type": "code",
   "execution_count": 86,
   "id": "241c93f9",
   "metadata": {},
   "outputs": [],
   "source": [
    "# Cross validation using lasso\n",
    "X, y = make_regression(noise=4, random_state=0)\n",
    "reg = LassoCV(cv=5, random_state=0).fit(X, y)"
   ]
  },
  {
   "cell_type": "code",
   "execution_count": 43,
   "id": "420bec23",
   "metadata": {},
   "outputs": [
    {
     "data": {
      "text/plain": [
       "0.9993566905623871"
      ]
     },
     "execution_count": 43,
     "metadata": {},
     "output_type": "execute_result"
    }
   ],
   "source": [
    "reg.score(X, y)"
   ]
  },
  {
   "cell_type": "code",
   "execution_count": 44,
   "id": "750759d5",
   "metadata": {},
   "outputs": [
    {
     "data": {
      "text/plain": [
       "array([-78.49519808])"
      ]
     },
     "execution_count": 44,
     "metadata": {},
     "output_type": "execute_result"
    }
   ],
   "source": [
    "reg.predict(X[:1,])"
   ]
  },
  {
   "cell_type": "code",
   "execution_count": 45,
   "id": "d4b6b21d",
   "metadata": {
    "scrolled": false
   },
   "outputs": [
    {
     "name": "stdout",
     "output_type": "stream",
     "text": [
      "Computing regularization path using the coordinate descent lasso...\n",
      "Computing regularization path using the Lars lasso...\n"
     ]
    },
    {
     "data": {
      "image/png": "[encoded data removed]",
      "text/plain": [
       "<Figure size 640x480 with 1 Axes>"
      ]
     },
     "metadata": {},
     "output_type": "display_data"
    },
    {
     "data": {
      "image/png": "[encoded data removed]",
      "text/plain": [
       "<Figure size 640x480 with 1 Axes>"
      ]
     },
     "metadata": {},
     "output_type": "display_data"
    },
    {
     "data": {
      "image/png": "[encoded data removed]",
      "text/plain": [
       "<Figure size 640x480 with 1 Axes>"
      ]
     },
     "metadata": {},
     "output_type": "display_data"
    }
   ],
   "source": [
    "import time\n",
    "\n",
    "import numpy as np\n",
    "import matplotlib.pyplot as plt\n",
    "\n",
    "from sklearn.linear_model import LassoCV, LassoLarsCV, LassoLarsIC\n",
    "\n",
    "# This is to avoid division by zero while doing np.log10\n",
    "EPSILON = 1e-4\n",
    "\n",
    "rng = np.random.RandomState(42)\n",
    "X = np.c_[X, rng.randn(X.shape[0], 14)]  # add some bad features\n",
    "\n",
    "# normalize data as done by Lars to allow for comparison\n",
    "X /= np.sqrt(np.sum(X ** 2, axis=0))\n",
    "\n",
    "# #############################################################################\n",
    "# LassoLarsIC: least angle regression with BIC/AIC criterion\n",
    "\n",
    "model_bic = LassoLarsIC(criterion='bic', normalize=False)\n",
    "t1 = time.time()\n",
    "model_bic.fit(X, y)\n",
    "t_bic = time.time() - t1\n",
    "alpha_bic_ = model_bic.alpha_\n",
    "\n",
    "model_aic = LassoLarsIC(criterion='aic', normalize=False)\n",
    "model_aic.fit(X, y)\n",
    "alpha_aic_ = model_aic.alpha_\n",
    "\n",
    "\n",
    "def plot_ic_criterion(model, name, color):\n",
    "    criterion_ = model.criterion_\n",
    "    plt.semilogx(model.alphas_ + EPSILON, criterion_, '--', color=color,\n",
    "                 linewidth=3, label='%s criterion' % name)\n",
    "    plt.axvline(model.alpha_ + EPSILON, color=color, linewidth=3,\n",
    "                label='alpha: %s estimate' % name)\n",
    "    plt.xlabel(r'$\\alpha$')\n",
    "    plt.ylabel('criterion')\n",
    "\n",
    "\n",
    "plt.figure()\n",
    "plot_ic_criterion(model_aic, 'AIC', 'b')\n",
    "plot_ic_criterion(model_bic, 'BIC', 'r')\n",
    "plt.legend()\n",
    "plt.title('Information-criterion for model selection (training time %.3fs)'\n",
    "          % t_bic)\n",
    "\n",
    "# #############################################################################\n",
    "# LassoCV: coordinate descent\n",
    "\n",
    "# Compute paths\n",
    "print(\"Computing regularization path using the coordinate descent lasso...\")\n",
    "t1 = time.time()\n",
    "model = LassoCV(cv=20).fit(X, y)\n",
    "t_lasso_cv = time.time() - t1\n",
    "\n",
    "# Display results\n",
    "plt.figure()\n",
    "ymin, ymax = 2300, 3800\n",
    "plt.semilogx(model.alphas_ + EPSILON, model.mse_path_, ':')\n",
    "plt.plot(model.alphas_ + EPSILON, model.mse_path_.mean(axis=-1), 'k',\n",
    "         label='Average across the folds', linewidth=2)\n",
    "plt.axvline(model.alpha_ + EPSILON, linestyle='--', color='k',\n",
    "            label='alpha: CV estimate')\n",
    "\n",
    "plt.legend()\n",
    "\n",
    "plt.xlabel(r'$\\alpha$')\n",
    "plt.ylabel('Mean square error')\n",
    "plt.title('Mean square error on each fold: coordinate descent '\n",
    "          '(train time: %.2fs)' % t_lasso_cv)\n",
    "plt.axis('tight')\n",
    "plt.ylim(ymin, ymax)\n",
    "\n",
    "# #############################################################################\n",
    "# LassoLarsCV: least angle regression\n",
    "\n",
    "# Compute paths\n",
    "print(\"Computing regularization path using the Lars lasso...\")\n",
    "t1 = time.time()\n",
    "model = LassoLarsCV(cv=20, normalize=False).fit(X, y)\n",
    "t_lasso_lars_cv = time.time() - t1\n",
    "\n",
    "# Display results\n",
    "plt.figure()\n",
    "plt.semilogx(model.cv_alphas_ + EPSILON, model.mse_path_, ':')\n",
    "plt.semilogx(model.cv_alphas_ + EPSILON, model.mse_path_.mean(axis=-1), 'k',\n",
    "             label='Average across the folds', linewidth=2)\n",
    "plt.axvline(model.alpha_, linestyle='--', color='k',\n",
    "            label='alpha CV')\n",
    "plt.legend()\n",
    "\n",
    "plt.xlabel(r'$\\alpha$')\n",
    "plt.ylabel('Mean square error')\n",
    "plt.title('Mean square error on each fold: Lars (train time: %.2fs)'\n",
    "          % t_lasso_lars_cv)\n",
    "plt.axis('tight')\n",
    "plt.ylim(ymin, ymax)\n",
    "\n",
    "plt.show()"
   ]
  },
  {
   "cell_type": "code",
   "execution_count": 31,
   "id": "1d3c0b35",
   "metadata": {},
   "outputs": [
    {
     "name": "stdout",
     "output_type": "stream",
     "text": [
      "Coefficient for D via partialling-out using lasso -0.04774655653302118\n"
     ]
    }
   ],
   "source": [
    "# Regress residuales\n",
    "partial_lasso_fit = sm.OLS(r_Y, r_D).fit()\n",
    "partial_lasso_est = partial_lasso_fit.summary2().tables[1]['Coef.']['r_D']\n",
    "\n",
    "print( f\"Coefficient for D via partialling-out using lasso {partial_lasso_est}\" )"
   ]
  },
  {
   "cell_type": "code",
   "execution_count": 32,
   "id": "986f73f7",
   "metadata": {},
   "outputs": [],
   "source": [
    "# output: estimated regression coefficient corresponding to the target regressor\n",
    "est_lasso = partial_lasso_fit.summary2().tables[1]['Coef.']['r_D']\n",
    "\n",
    "# output: std. error\n",
    "std_lasso = partial_lasso_fit.summary2().tables[1]['Std.Err.']['r_D']\n",
    "\n",
    "# output: 95% confidence interval\n",
    "lower_ci_lasso = partial_lasso_fit.summary2().tables[1]['[0.025']['r_D']\n",
    "upper_ci_lasso = partial_lasso_fit.summary2().tables[1]['0.975]']['r_D']"
   ]
  },
  {
   "cell_type": "markdown",
   "id": "3c1be08f",
   "metadata": {},
   "source": [
    "### Summary LASSO results\n"
   ]
  },
  {
   "cell_type": "markdown",
   "id": "4fe30ef1",
   "metadata": {},
   "source": [
    "Finally, let us have a look at the results."
   ]
  },
  {
   "cell_type": "code",
   "execution_count": 33,
   "id": "8a09b310",
   "metadata": {},
   "outputs": [
    {
     "data": {
      "text/html": [
       "<div>\n",
       "<style scoped>\n",
       "    .dataframe tbody tr th:only-of-type {\n",
       "        vertical-align: middle;\n",
       "    }\n",
       "\n",
       "    .dataframe tbody tr th {\n",
       "        vertical-align: top;\n",
       "    }\n",
       "\n",
       "    .dataframe thead th {\n",
       "        text-align: right;\n",
       "    }\n",
       "</style>\n",
       "<table border=\"1\" class=\"dataframe\">\n",
       "  <thead>\n",
       "    <tr style=\"text-align: right;\">\n",
       "      <th></th>\n",
       "      <th>Estimator</th>\n",
       "      <th>Std. Error</th>\n",
       "      <th>lower bound CI</th>\n",
       "      <th>upper bound CI</th>\n",
       "    </tr>\n",
       "  </thead>\n",
       "  <tbody>\n",
       "    <tr>\n",
       "      <th>LASSO - SKLEARN</th>\n",
       "      <td>-0.047747</td>\n",
       "      <td>0.017705</td>\n",
       "      <td>-0.082926</td>\n",
       "      <td>-0.012567</td>\n",
       "    </tr>\n",
       "  </tbody>\n",
       "</table>\n",
       "</div>"
      ],
      "text/plain": [
       "                 Estimator  Std. Error  lower bound CI  upper bound CI\n",
       "LASSO - SKLEARN  -0.047747    0.017705       -0.082926       -0.012567"
      ]
     },
     "execution_count": 33,
     "metadata": {},
     "output_type": "execute_result"
    }
   ],
   "source": [
    "table_2 = np.zeros( (1, 4) )\n",
    "\n",
    "table_2[0,0] = est_lasso  \n",
    "table_2[0,1] = std_lasso   \n",
    "table_2[0,2] = lower_ci_lasso\n",
    "table_2[0,3] = upper_ci_lasso    \n",
    "\n",
    "\n",
    "table_2_pandas = pd.DataFrame( table_2, columns = [ \"Estimator\",\"Std. Error\", \"lower bound CI\", \"upper bound CI\"  ])\n",
    "table_2_pandas.index = [ \"LASSO - SKLEARN\" ]\n",
    "table_2_pandas"
   ]
  },
  {
   "cell_type": "code",
   "execution_count": 34,
   "id": "f5139734",
   "metadata": {},
   "outputs": [
    {
     "data": {
      "text/html": [
       "<div>\n",
       "<style scoped>\n",
       "    .dataframe tbody tr th:only-of-type {\n",
       "        vertical-align: middle;\n",
       "    }\n",
       "\n",
       "    .dataframe tbody tr th {\n",
       "        vertical-align: top;\n",
       "    }\n",
       "\n",
       "    .dataframe thead th {\n",
       "        text-align: right;\n",
       "    }\n",
       "</style>\n",
       "<table border=\"1\" class=\"dataframe\">\n",
       "  <thead>\n",
       "    <tr style=\"text-align: right;\">\n",
       "      <th></th>\n",
       "      <th>Estimator</th>\n",
       "      <th>Std. Error</th>\n",
       "      <th>lower bound CI</th>\n",
       "      <th>upper bound CI</th>\n",
       "    </tr>\n",
       "  </thead>\n",
       "  <tbody>\n",
       "    <tr>\n",
       "      <th>OLS</th>\n",
       "      <td>-0.009378</td>\n",
       "      <td>0.029888</td>\n",
       "      <td>-0.070600</td>\n",
       "      <td>0.051844</td>\n",
       "    </tr>\n",
       "    <tr>\n",
       "      <th>LASSO - SKLEARN</th>\n",
       "      <td>-0.047747</td>\n",
       "      <td>0.017705</td>\n",
       "      <td>-0.082926</td>\n",
       "      <td>-0.012567</td>\n",
       "    </tr>\n",
       "  </tbody>\n",
       "</table>\n",
       "</div>"
      ],
      "text/plain": [
       "                 Estimator  Std. Error  lower bound CI  upper bound CI\n",
       "OLS              -0.009378    0.029888       -0.070600        0.051844\n",
       "LASSO - SKLEARN  -0.047747    0.017705       -0.082926       -0.012567"
      ]
     },
     "execution_count": 34,
     "metadata": {},
     "output_type": "execute_result"
    }
   ],
   "source": [
    "table_3 = table_1_pandas.append(table_2_pandas)\n",
    "table_3"
   ]
  },
  {
   "cell_type": "code",
   "execution_count": 35,
   "id": "d2199d55",
   "metadata": {},
   "outputs": [
    {
     "name": "stdout",
     "output_type": "stream",
     "text": [
      "<table border=\"1\" class=\"dataframe\">\n",
      "  <thead>\n",
      "    <tr style=\"text-align: right;\">\n",
      "      <th></th>\n",
      "      <th>Estimator</th>\n",
      "      <th>Std. Error</th>\n",
      "      <th>lower bound CI</th>\n",
      "      <th>upper bound CI</th>\n",
      "    </tr>\n",
      "  </thead>\n",
      "  <tbody>\n",
      "    <tr>\n",
      "      <th>OLS</th>\n",
      "      <td>-0.009378</td>\n",
      "      <td>0.029888</td>\n",
      "      <td>-0.070600</td>\n",
      "      <td>0.051844</td>\n",
      "    </tr>\n",
      "    <tr>\n",
      "      <th>LASSO - SKLEARN</th>\n",
      "      <td>-0.047747</td>\n",
      "      <td>0.017705</td>\n",
      "      <td>-0.082926</td>\n",
      "      <td>-0.012567</td>\n",
      "    </tr>\n",
      "  </tbody>\n",
      "</table>\n"
     ]
    }
   ],
   "source": [
    "table_3_html = table_3.to_html()\n",
    "print(table_3_html)"
   ]
  },
  {
   "cell_type": "markdown",
   "id": "f9f2abd0",
   "metadata": {},
   "source": [
    "The least square method provides a rather noisy estimate of the speed of convergence. We can not answer the question if poor countries grow faster than rich countries. The least square method does not work when the ratio $p/n$ is large.\n",
    "\n",
    "In sharp contrast, partialling-out via Lasso provides a more precise estimate. The Lasso based point estimate is $-5\\%$ and the $95\\%$ confidence interval for the (annual) rate of convergence $[-7.8\\%,-2.2\\%]$ only includes negative numbers. This empirical evidence does support the convergence hypothesis."
   ]
  },
  {
   "cell_type": "markdown",
   "id": "1856965a",
   "metadata": {},
   "source": [
    "<table border=\"1\" class=\"dataframe\">\n",
    "  <thead>\n",
    "    <tr style=\"text-align: right;\">\n",
    "      <th></th>\n",
    "      <th>Estimator</th>\n",
    "      <th>Std. Error</th>\n",
    "      <th>lower bound CI</th>\n",
    "      <th>upper bound CI</th>\n",
    "    </tr>\n",
    "  </thead>\n",
    "  <tbody>\n",
    "    <tr>\n",
    "      <th>OLS</th>\n",
    "      <td>-0.009378</td>\n",
    "      <td>0.029888</td>\n",
    "      <td>-0.070600</td>\n",
    "      <td>0.051844</td>\n",
    "    </tr>\n",
    "    <tr>\n",
    "      <th>LASSO-SKLEARN</th>\n",
    "      <td>-0.047747</td>\n",
    "      <td>0.017705</td>\n",
    "      <td>-0.082926</td>\n",
    "      <td>-0.012567</td>\n",
    "    </tr>\n",
    "  </tbody>\n",
    "</table>"
   ]
  },
  {
   "cell_type": "markdown",
   "id": "0f2c89b4",
   "metadata": {},
   "source": [
    "## Method 3 - HDMPY"
   ]
  },
  {
   "cell_type": "code",
   "execution_count": 47,
   "id": "5d5c015a",
   "metadata": {},
   "outputs": [],
   "source": [
    "res_Y = hdmpy.rlasso( W, Y, post=True ).est['residuals']\n",
    "res_D = hdmpy.rlasso( W, D, post=True ).est['residuals']\n",
    "\n",
    "r_Y = pd.DataFrame(res_Y, columns=['r_Y'])\n",
    "r_D = pd.DataFrame(res_D, columns=['r_D'])"
   ]
  },
  {
   "cell_type": "code",
   "execution_count": 48,
   "id": "40edbb35",
   "metadata": {},
   "outputs": [
    {
     "name": "stdout",
     "output_type": "stream",
     "text": [
      "                                 OLS Regression Results                                \n",
      "=======================================================================================\n",
      "Dep. Variable:                    r_Y   R-squared (uncentered):                   0.127\n",
      "Model:                            OLS   Adj. R-squared (uncentered):              0.117\n",
      "Method:                 Least Squares   F-statistic:                              12.92\n",
      "Date:                Thu, 07 Oct 2021   Prob (F-statistic):                    0.000533\n",
      "Time:                        02:28:54   Log-Likelihood:                          152.68\n",
      "No. Observations:                  90   AIC:                                     -303.4\n",
      "Df Residuals:                      89   BIC:                                     -300.9\n",
      "Df Model:                           1                                                  \n",
      "Covariance Type:            nonrobust                                                  \n",
      "==============================================================================\n",
      "                 coef    std err          t      P>|t|      [0.025      0.975]\n",
      "------------------------------------------------------------------------------\n",
      "r_D           -0.0498      0.014     -3.594      0.001      -0.077      -0.022\n",
      "==============================================================================\n",
      "Omnibus:                        4.622   Durbin-Watson:                   1.510\n",
      "Prob(Omnibus):                  0.099   Jarque-Bera (JB):                5.807\n",
      "Skew:                           0.120   Prob(JB):                       0.0548\n",
      "Kurtosis:                       4.221   Cond. No.                         1.00\n",
      "==============================================================================\n",
      "\n",
      "Notes:\n",
      "[1] R² is computed without centering (uncentered) since the model does not contain a constant.\n",
      "[2] Standard Errors assume that the covariance matrix of the errors is correctly specified.\n"
     ]
    }
   ],
   "source": [
    "# OLS regression\n",
    "reg_ols  = sm.OLS(r_Y, r_D).fit()\n",
    "print(reg_ols.summary())"
   ]
  },
  {
   "cell_type": "code",
   "execution_count": 49,
   "id": "55475477",
   "metadata": {},
   "outputs": [],
   "source": [
    "# output: estimated regression coefficient corresponding to the target regressor\n",
    "est_lasso = reg_ols.summary2().tables[1]['Coef.']['r_D']\n",
    "\n",
    "# output: std. error\n",
    "std_lasso = reg_ols.summary2().tables[1]['Std.Err.']['r_D']\n",
    "\n",
    "# output: 95% confidence interval\n",
    "lower_ci_lasso = reg_ols.summary2().tables[1]['[0.025']['r_D']\n",
    "upper_ci_lasso = reg_ols.summary2().tables[1]['0.975]']['r_D']"
   ]
  },
  {
   "cell_type": "code",
   "execution_count": 90,
   "id": "c52458a5",
   "metadata": {
    "scrolled": true
   },
   "outputs": [
    {
     "data": {
      "text/html": [
       "<div>\n",
       "<style scoped>\n",
       "    .dataframe tbody tr th:only-of-type {\n",
       "        vertical-align: middle;\n",
       "    }\n",
       "\n",
       "    .dataframe tbody tr th {\n",
       "        vertical-align: top;\n",
       "    }\n",
       "\n",
       "    .dataframe thead th {\n",
       "        text-align: right;\n",
       "    }\n",
       "</style>\n",
       "<table border=\"1\" class=\"dataframe\">\n",
       "  <thead>\n",
       "    <tr style=\"text-align: right;\">\n",
       "      <th></th>\n",
       "      <th>Estimator</th>\n",
       "      <th>Std. Error</th>\n",
       "      <th>lower bound CI</th>\n",
       "      <th>upper bound CI</th>\n",
       "    </tr>\n",
       "  </thead>\n",
       "  <tbody>\n",
       "    <tr>\n",
       "      <th>LASSO - HDMPY</th>\n",
       "      <td>-0.049811</td>\n",
       "      <td>0.015391</td>\n",
       "      <td>-0.079978</td>\n",
       "      <td>-0.019644</td>\n",
       "    </tr>\n",
       "  </tbody>\n",
       "</table>\n",
       "</div>"
      ],
      "text/plain": [
       "               Estimator  Std. Error  lower bound CI  upper bound CI\n",
       "LASSO - HDMPY  -0.049811    0.015391       -0.079978       -0.019644"
      ]
     },
     "execution_count": 90,
     "metadata": {},
     "output_type": "execute_result"
    }
   ],
   "source": [
    "table_4 = np.zeros( (1, 4) )\n",
    "\n",
    "table_4[0,0] = est_lasso   \n",
    "table_4[0,1] = std_lasso    \n",
    "table_4[0,2] = lower_ci_lasso \n",
    "table_4[0,3] = upper_ci_lasso     \n",
    "\n",
    "\n",
    "table_4_pandas = pd.DataFrame( table_4, columns = [ \"Estimator\",\"Std. Error\", \"lower bound CI\", \"upper bound CI\"  ]) \n",
    "table_4_pandas.index = [ \"LASSO - HDMPY\" ]\n",
    "table_4_pandas"
   ]
  },
  {
   "cell_type": "code",
   "execution_count": 91,
   "id": "48cdb750",
   "metadata": {
    "scrolled": true
   },
   "outputs": [
    {
     "data": {
      "text/html": [
       "<div>\n",
       "<style scoped>\n",
       "    .dataframe tbody tr th:only-of-type {\n",
       "        vertical-align: middle;\n",
       "    }\n",
       "\n",
       "    .dataframe tbody tr th {\n",
       "        vertical-align: top;\n",
       "    }\n",
       "\n",
       "    .dataframe thead th {\n",
       "        text-align: right;\n",
       "    }\n",
       "</style>\n",
       "<table border=\"1\" class=\"dataframe\">\n",
       "  <thead>\n",
       "    <tr style=\"text-align: right;\">\n",
       "      <th></th>\n",
       "      <th>Estimator</th>\n",
       "      <th>Std. Error</th>\n",
       "      <th>lower bound CI</th>\n",
       "      <th>upper bound CI</th>\n",
       "    </tr>\n",
       "  </thead>\n",
       "  <tbody>\n",
       "    <tr>\n",
       "      <th>OLS</th>\n",
       "      <td>-0.009378</td>\n",
       "      <td>0.029888</td>\n",
       "      <td>-0.070600</td>\n",
       "      <td>0.051844</td>\n",
       "    </tr>\n",
       "    <tr>\n",
       "      <th>LASSO - SKLEARN</th>\n",
       "      <td>-0.049811</td>\n",
       "      <td>0.015391</td>\n",
       "      <td>-0.079978</td>\n",
       "      <td>-0.019644</td>\n",
       "    </tr>\n",
       "    <tr>\n",
       "      <th>LASSO - HDMPY</th>\n",
       "      <td>-0.049811</td>\n",
       "      <td>0.015391</td>\n",
       "      <td>-0.079978</td>\n",
       "      <td>-0.019644</td>\n",
       "    </tr>\n",
       "  </tbody>\n",
       "</table>\n",
       "</div>"
      ],
      "text/plain": [
       "                 Estimator  Std. Error  lower bound CI  upper bound CI\n",
       "OLS              -0.009378    0.029888       -0.070600        0.051844\n",
       "LASSO - SKLEARN  -0.049811    0.015391       -0.079978       -0.019644\n",
       "LASSO - HDMPY    -0.049811    0.015391       -0.079978       -0.019644"
      ]
     },
     "execution_count": 91,
     "metadata": {},
     "output_type": "execute_result"
    }
   ],
   "source": [
    "table_5 = table_3.append(table_4_pandas)\n",
    "table_5"
   ]
  },
  {
   "cell_type": "markdown",
   "id": "bc95866a",
   "metadata": {},
   "source": [
    "## Method 4 - Partialling out from HDMPY"
   ]
  },
  {
   "cell_type": "code",
   "execution_count": 51,
   "id": "38a0cd73",
   "metadata": {},
   "outputs": [
    {
     "data": {
      "text/plain": [
       "{'alpha': -0.049811444837338334,\n",
       " 'se': array([0.01539133]),\n",
       " 't': array([-3.23633167]),\n",
       " 'pval': array([0.00121077]),\n",
       " 'coefficients': -0.049811444837338334,\n",
       " 'coefficient': -0.049811444837338334,\n",
       " 'coefficients_reg':                     0\n",
       " (Intercept)  0.058101\n",
       " x0          -0.075565\n",
       " x1           0.000000\n",
       " x2           0.000000\n",
       " x3           0.000000\n",
       " ...               ...\n",
       " x55          0.000000\n",
       " x56          0.000000\n",
       " x57          0.000000\n",
       " x58          0.000000\n",
       " x59          0.000000\n",
       " \n",
       " [61 rows x 1 columns],\n",
       " 'selection_index': array([[ True],\n",
       "        [False],\n",
       "        [ True],\n",
       "        [False],\n",
       "        [ True],\n",
       "        [False],\n",
       "        [False],\n",
       "        [False],\n",
       "        [False],\n",
       "        [False],\n",
       "        [False],\n",
       "        [ True],\n",
       "        [False],\n",
       "        [False],\n",
       "        [ True],\n",
       "        [False],\n",
       "        [False],\n",
       "        [False],\n",
       "        [False],\n",
       "        [False],\n",
       "        [False],\n",
       "        [False],\n",
       "        [False],\n",
       "        [False],\n",
       "        [False],\n",
       "        [False],\n",
       "        [False],\n",
       "        [False],\n",
       "        [False],\n",
       "        [False],\n",
       "        [False],\n",
       "        [False],\n",
       "        [False],\n",
       "        [ True],\n",
       "        [False],\n",
       "        [False],\n",
       "        [False],\n",
       "        [False],\n",
       "        [False],\n",
       "        [False],\n",
       "        [False],\n",
       "        [False],\n",
       "        [False],\n",
       "        [False],\n",
       "        [ True],\n",
       "        [False],\n",
       "        [False],\n",
       "        [False],\n",
       "        [False],\n",
       "        [False],\n",
       "        [False],\n",
       "        [False],\n",
       "        [False],\n",
       "        [False],\n",
       "        [False],\n",
       "        [False],\n",
       "        [False],\n",
       "        [False],\n",
       "        [False],\n",
       "        [False]]),\n",
       " 'residuals': {'epsilon': array([[-3.49848290e-02],\n",
       "         [ 9.52657707e-02],\n",
       "         [ 1.25530270e-02],\n",
       "         [ 1.45051157e-02],\n",
       "         [-1.21212956e-02],\n",
       "         [ 6.10442897e-03],\n",
       "         [ 2.38808615e-02],\n",
       "         [ 2.35925129e-02],\n",
       "         [-2.51882039e-02],\n",
       "         [-3.28317379e-03],\n",
       "         [ 3.26116159e-02],\n",
       "         [ 7.84400354e-02],\n",
       "         [-2.39374185e-02],\n",
       "         [ 3.69879313e-02],\n",
       "         [ 6.49582648e-02],\n",
       "         [-1.98036065e-02],\n",
       "         [ 1.49731491e-02],\n",
       "         [-2.35299549e-02],\n",
       "         [-3.60085919e-02],\n",
       "         [ 3.51316929e-03],\n",
       "         [ 1.61620376e-02],\n",
       "         [ 6.07508356e-02],\n",
       "         [ 1.15639372e-01],\n",
       "         [ 4.34356056e-02],\n",
       "         [ 5.66148392e-03],\n",
       "         [ 2.69169427e-05],\n",
       "         [ 7.00477269e-02],\n",
       "         [ 1.76262552e-02],\n",
       "         [ 3.34778871e-02],\n",
       "         [ 2.07315008e-02],\n",
       "         [ 3.30063634e-02],\n",
       "         [ 8.17543261e-03],\n",
       "         [ 2.73186289e-02],\n",
       "         [-1.67216885e-02],\n",
       "         [ 1.06653033e-02],\n",
       "         [ 1.55816825e-02],\n",
       "         [ 1.59537137e-02],\n",
       "         [ 3.11297929e-02],\n",
       "         [ 2.30954424e-03],\n",
       "         [-8.12063106e-03],\n",
       "         [-8.71695816e-03],\n",
       "         [ 5.98383821e-04],\n",
       "         [-7.34579243e-03],\n",
       "         [ 1.82278148e-02],\n",
       "         [-1.16687675e-01],\n",
       "         [-6.37801362e-02],\n",
       "         [-1.12363965e-02],\n",
       "         [-3.06850578e-02],\n",
       "         [-6.03443804e-02],\n",
       "         [-3.47115122e-02],\n",
       "         [ 5.24599190e-02],\n",
       "         [-3.68484872e-02],\n",
       "         [ 1.13668751e-03],\n",
       "         [-4.48824215e-02],\n",
       "         [-6.64123390e-02],\n",
       "         [-6.81015576e-02],\n",
       "         [-7.44072496e-02],\n",
       "         [-2.98153308e-02],\n",
       "         [-8.19576069e-03],\n",
       "         [-3.66941527e-02],\n",
       "         [-6.98023480e-02],\n",
       "         [-5.31157210e-02],\n",
       "         [ 2.87182891e-02],\n",
       "         [-1.93314850e-02],\n",
       "         [ 5.00891034e-03],\n",
       "         [ 4.85815925e-03],\n",
       "         [-1.24003980e-02],\n",
       "         [-1.34087606e-01],\n",
       "         [ 4.70689433e-02],\n",
       "         [ 3.83224267e-02],\n",
       "         [ 6.37296176e-03],\n",
       "         [ 4.03832896e-03],\n",
       "         [-3.39895257e-02],\n",
       "         [ 7.51715850e-02],\n",
       "         [ 3.80763871e-02],\n",
       "         [ 3.14365455e-02],\n",
       "         [-6.36548178e-02],\n",
       "         [ 1.37748516e-01],\n",
       "         [ 6.28427939e-02],\n",
       "         [-3.41575056e-03],\n",
       "         [-3.78134362e-03],\n",
       "         [-1.48340027e-02],\n",
       "         [-2.14625294e-02],\n",
       "         [-3.48767519e-02],\n",
       "         [-3.17420299e-02],\n",
       "         [-2.11805603e-02],\n",
       "         [-2.79231134e-02],\n",
       "         [-1.18551528e-02],\n",
       "         [-1.40056746e-02],\n",
       "         [-1.31492060e-02]]),\n",
       "  'v': array([[ 0.52224775],\n",
       "         [ 0.13027854],\n",
       "         [ 0.07232197],\n",
       "         [-0.13196876],\n",
       "         [ 0.09840476],\n",
       "         [ 0.35730564],\n",
       "         [ 0.29409786],\n",
       "         [ 0.79778407],\n",
       "         [-0.01281871],\n",
       "         [ 0.08948357],\n",
       "         [ 0.24792072],\n",
       "         [-0.15386794],\n",
       "         [ 0.51916609],\n",
       "         [ 0.08095357],\n",
       "         [-0.07419893],\n",
       "         [-0.4272166 ],\n",
       "         [ 0.7020042 ],\n",
       "         [ 0.06546644],\n",
       "         [ 1.1780591 ],\n",
       "         [ 0.2131817 ],\n",
       "         [-0.42767423],\n",
       "         [-0.30375461],\n",
       "         [-0.70061133],\n",
       "         [-0.1908735 ],\n",
       "         [ 0.23665682],\n",
       "         [-0.52678542],\n",
       "         [ 0.21266098],\n",
       "         [-0.36917503],\n",
       "         [ 0.1646763 ],\n",
       "         [ 0.0521761 ],\n",
       "         [ 0.14220512],\n",
       "         [ 0.26772109],\n",
       "         [-0.64441088],\n",
       "         [-0.53145383],\n",
       "         [-0.10316275],\n",
       "         [-0.00779027],\n",
       "         [ 0.16496099],\n",
       "         [-0.11283308],\n",
       "         [ 0.15468537],\n",
       "         [ 0.05620812],\n",
       "         [ 0.20798022],\n",
       "         [ 0.20738542],\n",
       "         [-0.18652253],\n",
       "         [-0.73279207],\n",
       "         [-0.4562576 ],\n",
       "         [-0.5075765 ],\n",
       "         [-0.34768807],\n",
       "         [-0.43713094],\n",
       "         [ 0.11552148],\n",
       "         [-0.93281805],\n",
       "         [ 0.18193425],\n",
       "         [-0.02894488],\n",
       "         [ 0.170249  ],\n",
       "         [-0.18685441],\n",
       "         [-0.09797129],\n",
       "         [ 0.16775064],\n",
       "         [-0.15108181],\n",
       "         [ 0.28165299],\n",
       "         [ 0.49664435],\n",
       "         [-0.25627972],\n",
       "         [-0.03672719],\n",
       "         [ 0.30348206],\n",
       "         [ 0.1539853 ],\n",
       "         [-0.06556942],\n",
       "         [ 0.13924958],\n",
       "         [-0.20928515],\n",
       "         [ 0.40570607],\n",
       "         [ 0.50044004],\n",
       "         [-0.13422303],\n",
       "         [ 0.03624017],\n",
       "         [-0.16286397],\n",
       "         [-0.06729083],\n",
       "         [-0.02076426],\n",
       "         [-0.32382142],\n",
       "         [-0.02041192],\n",
       "         [ 0.04473323],\n",
       "         [-0.43936259],\n",
       "         [ 0.1996553 ],\n",
       "         [ 0.39777497],\n",
       "         [-0.21166601],\n",
       "         [ 0.32571938],\n",
       "         [ 0.18176374],\n",
       "         [-0.37870359],\n",
       "         [-0.30497948],\n",
       "         [-0.11113707],\n",
       "         [ 0.11492087],\n",
       "         [-0.08623875],\n",
       "         [-0.01314347],\n",
       "         [ 0.08676469],\n",
       "         [ 0.08652982]])},\n",
       " 'samplesize': 90}"
      ]
     },
     "execution_count": 51,
     "metadata": {},
     "output_type": "execute_result"
    }
   ],
   "source": [
    "lasso_direct = hdmpy.rlassoEffect(x=W, y=Y, d=D, method=\"partialling out\")\n",
    "lasso_direct"
   ]
  },
  {
   "cell_type": "code",
   "execution_count": 52,
   "id": "414c973e",
   "metadata": {},
   "outputs": [],
   "source": [
    "est_lasso = lasso_direct[\"coefficients\"]\n",
    "std_lasso = lasso_direct[\"se\"]\n",
    "lower_ci_lasso = est_lasso - 1.96*std_lasso\n",
    "upper_ci_lasso = est_lasso + 1.96*std_lasso"
   ]
  },
  {
   "cell_type": "code",
   "execution_count": 92,
   "id": "810b188a",
   "metadata": {
    "scrolled": true
   },
   "outputs": [
    {
     "data": {
      "text/html": [
       "<div>\n",
       "<style scoped>\n",
       "    .dataframe tbody tr th:only-of-type {\n",
       "        vertical-align: middle;\n",
       "    }\n",
       "\n",
       "    .dataframe tbody tr th {\n",
       "        vertical-align: top;\n",
       "    }\n",
       "\n",
       "    .dataframe thead th {\n",
       "        text-align: right;\n",
       "    }\n",
       "</style>\n",
       "<table border=\"1\" class=\"dataframe\">\n",
       "  <thead>\n",
       "    <tr style=\"text-align: right;\">\n",
       "      <th></th>\n",
       "      <th>Estimator</th>\n",
       "      <th>Std. Error</th>\n",
       "      <th>lower bound CI</th>\n",
       "      <th>upper bound CI</th>\n",
       "    </tr>\n",
       "  </thead>\n",
       "  <tbody>\n",
       "    <tr>\n",
       "      <th>LASSO - PARTIALLING OUT</th>\n",
       "      <td>-0.049811</td>\n",
       "      <td>0.015391</td>\n",
       "      <td>-0.079978</td>\n",
       "      <td>-0.019644</td>\n",
       "    </tr>\n",
       "  </tbody>\n",
       "</table>\n",
       "</div>"
      ],
      "text/plain": [
       "                         Estimator  Std. Error  lower bound CI  upper bound CI\n",
       "LASSO - PARTIALLING OUT  -0.049811    0.015391       -0.079978       -0.019644"
      ]
     },
     "execution_count": 92,
     "metadata": {},
     "output_type": "execute_result"
    }
   ],
   "source": [
    "table_6= np.zeros( (1, 4) )\n",
    "\n",
    "table_6[0,0] = est_lasso   \n",
    "table_6[0,1] = std_lasso    \n",
    "table_6[0,2] = lower_ci_lasso \n",
    "table_6[0,3] = upper_ci_lasso     \n",
    "\n",
    "\n",
    "table_6_pandas = pd.DataFrame( table_6, columns = [ \"Estimator\",\"Std. Error\", \"lower bound CI\", \"upper bound CI\"  ]) \n",
    "table_6_pandas.index = [ \"LASSO - PARTIALLING OUT\" ]\n",
    "table_6_pandas"
   ]
  },
  {
   "cell_type": "markdown",
   "id": "8d9c6930",
   "metadata": {},
   "source": [
    "### SUMMARIZING 4 METHODS:"
   ]
  },
  {
   "cell_type": "code",
   "execution_count": 93,
   "id": "fd06198c",
   "metadata": {},
   "outputs": [
    {
     "data": {
      "text/html": [
       "<div>\n",
       "<style scoped>\n",
       "    .dataframe tbody tr th:only-of-type {\n",
       "        vertical-align: middle;\n",
       "    }\n",
       "\n",
       "    .dataframe tbody tr th {\n",
       "        vertical-align: top;\n",
       "    }\n",
       "\n",
       "    .dataframe thead th {\n",
       "        text-align: right;\n",
       "    }\n",
       "</style>\n",
       "<table border=\"1\" class=\"dataframe\">\n",
       "  <thead>\n",
       "    <tr style=\"text-align: right;\">\n",
       "      <th></th>\n",
       "      <th>Estimator</th>\n",
       "      <th>Std. Error</th>\n",
       "      <th>lower bound CI</th>\n",
       "      <th>upper bound CI</th>\n",
       "    </tr>\n",
       "  </thead>\n",
       "  <tbody>\n",
       "    <tr>\n",
       "      <th>OLS</th>\n",
       "      <td>-0.009378</td>\n",
       "      <td>0.029888</td>\n",
       "      <td>-0.070600</td>\n",
       "      <td>0.051844</td>\n",
       "    </tr>\n",
       "    <tr>\n",
       "      <th>LASSO - SKLEARN</th>\n",
       "      <td>-0.049811</td>\n",
       "      <td>0.015391</td>\n",
       "      <td>-0.079978</td>\n",
       "      <td>-0.019644</td>\n",
       "    </tr>\n",
       "    <tr>\n",
       "      <th>LASSO - HDMPY</th>\n",
       "      <td>-0.049811</td>\n",
       "      <td>0.015391</td>\n",
       "      <td>-0.079978</td>\n",
       "      <td>-0.019644</td>\n",
       "    </tr>\n",
       "    <tr>\n",
       "      <th>LASSO - PARTIALLING OUT</th>\n",
       "      <td>-0.049811</td>\n",
       "      <td>0.015391</td>\n",
       "      <td>-0.079978</td>\n",
       "      <td>-0.019644</td>\n",
       "    </tr>\n",
       "  </tbody>\n",
       "</table>\n",
       "</div>"
      ],
      "text/plain": [
       "                         Estimator  Std. Error  lower bound CI  upper bound CI\n",
       "OLS                      -0.009378    0.029888       -0.070600        0.051844\n",
       "LASSO - SKLEARN          -0.049811    0.015391       -0.079978       -0.019644\n",
       "LASSO - HDMPY            -0.049811    0.015391       -0.079978       -0.019644\n",
       "LASSO - PARTIALLING OUT  -0.049811    0.015391       -0.079978       -0.019644"
      ]
     },
     "execution_count": 93,
     "metadata": {},
     "output_type": "execute_result"
    }
   ],
   "source": [
    "table_7 = table_5.append(table_6_pandas)\n",
    "table_7"
   ]
  },
  {
   "cell_type": "code",
   "execution_count": 95,
   "id": "c4067938",
   "metadata": {
    "scrolled": true
   },
   "outputs": [
    {
     "data": {
      "text/html": [
       "<div>\n",
       "<style scoped>\n",
       "    .dataframe tbody tr th:only-of-type {\n",
       "        vertical-align: middle;\n",
       "    }\n",
       "\n",
       "    .dataframe tbody tr th {\n",
       "        vertical-align: top;\n",
       "    }\n",
       "\n",
       "    .dataframe thead th {\n",
       "        text-align: right;\n",
       "    }\n",
       "</style>\n",
       "<table border=\"1\" class=\"dataframe\">\n",
       "  <thead>\n",
       "    <tr style=\"text-align: right;\">\n",
       "      <th></th>\n",
       "      <th>index</th>\n",
       "      <th>Estimator</th>\n",
       "      <th>Std. Error</th>\n",
       "      <th>lower bound CI</th>\n",
       "      <th>upper bound CI</th>\n",
       "    </tr>\n",
       "  </thead>\n",
       "  <tbody>\n",
       "    <tr>\n",
       "      <th>0</th>\n",
       "      <td>OLS</td>\n",
       "      <td>-0.009378</td>\n",
       "      <td>0.029888</td>\n",
       "      <td>-0.070600</td>\n",
       "      <td>0.051844</td>\n",
       "    </tr>\n",
       "    <tr>\n",
       "      <th>1</th>\n",
       "      <td>LASSO - SKLEARN</td>\n",
       "      <td>-0.049811</td>\n",
       "      <td>0.015391</td>\n",
       "      <td>-0.079978</td>\n",
       "      <td>-0.019644</td>\n",
       "    </tr>\n",
       "    <tr>\n",
       "      <th>2</th>\n",
       "      <td>LASSO - HDMPY</td>\n",
       "      <td>-0.049811</td>\n",
       "      <td>0.015391</td>\n",
       "      <td>-0.079978</td>\n",
       "      <td>-0.019644</td>\n",
       "    </tr>\n",
       "    <tr>\n",
       "      <th>3</th>\n",
       "      <td>LASSO - PARTIALLING OUT</td>\n",
       "      <td>-0.049811</td>\n",
       "      <td>0.015391</td>\n",
       "      <td>-0.079978</td>\n",
       "      <td>-0.019644</td>\n",
       "    </tr>\n",
       "  </tbody>\n",
       "</table>\n",
       "</div>"
      ],
      "text/plain": [
       "                     index  Estimator  Std. Error  lower bound CI  \\\n",
       "0                      OLS  -0.009378    0.029888       -0.070600   \n",
       "1          LASSO - SKLEARN  -0.049811    0.015391       -0.079978   \n",
       "2            LASSO - HDMPY  -0.049811    0.015391       -0.079978   \n",
       "3  LASSO - PARTIALLING OUT  -0.049811    0.015391       -0.079978   \n",
       "\n",
       "   upper bound CI  \n",
       "0        0.051844  \n",
       "1       -0.019644  \n",
       "2       -0.019644  \n",
       "3       -0.019644  "
      ]
     },
     "execution_count": 95,
     "metadata": {},
     "output_type": "execute_result"
    }
   ],
   "source": [
    "data = table_7.reset_index()\n",
    "data"
   ]
  },
  {
   "cell_type": "code",
   "execution_count": 107,
   "id": "1c99428d",
   "metadata": {},
   "outputs": [
    {
     "data": {
      "text/plain": [
       "0    0.061222\n",
       "1    0.030167\n",
       "2    0.030167\n",
       "3    0.030167\n",
       "dtype: float64"
      ]
     },
     "execution_count": 107,
     "metadata": {},
     "output_type": "execute_result"
    }
   ],
   "source": [
    "errors = data['Estimator'] - data['lower bound CI']\n",
    "errors"
   ]
  },
  {
   "cell_type": "code",
   "execution_count": 109,
   "id": "99a7c250",
   "metadata": {},
   "outputs": [
    {
     "data": {
      "text/html": [
       "<div>\n",
       "<style scoped>\n",
       "    .dataframe tbody tr th:only-of-type {\n",
       "        vertical-align: middle;\n",
       "    }\n",
       "\n",
       "    .dataframe tbody tr th {\n",
       "        vertical-align: top;\n",
       "    }\n",
       "\n",
       "    .dataframe thead th {\n",
       "        text-align: right;\n",
       "    }\n",
       "</style>\n",
       "<table border=\"1\" class=\"dataframe\">\n",
       "  <thead>\n",
       "    <tr style=\"text-align: right;\">\n",
       "      <th></th>\n",
       "      <th>index</th>\n",
       "      <th>Estimator</th>\n",
       "      <th>Std. Error</th>\n",
       "      <th>lower bound CI</th>\n",
       "      <th>upper bound CI</th>\n",
       "      <th>errors</th>\n",
       "    </tr>\n",
       "  </thead>\n",
       "  <tbody>\n",
       "    <tr>\n",
       "      <th>0</th>\n",
       "      <td>OLS</td>\n",
       "      <td>-0.009378</td>\n",
       "      <td>0.029888</td>\n",
       "      <td>-0.070600</td>\n",
       "      <td>0.051844</td>\n",
       "      <td>0.061222</td>\n",
       "    </tr>\n",
       "    <tr>\n",
       "      <th>1</th>\n",
       "      <td>LASSO - SKLEARN</td>\n",
       "      <td>-0.049811</td>\n",
       "      <td>0.015391</td>\n",
       "      <td>-0.079978</td>\n",
       "      <td>-0.019644</td>\n",
       "      <td>0.030167</td>\n",
       "    </tr>\n",
       "    <tr>\n",
       "      <th>2</th>\n",
       "      <td>LASSO - HDMPY</td>\n",
       "      <td>-0.049811</td>\n",
       "      <td>0.015391</td>\n",
       "      <td>-0.079978</td>\n",
       "      <td>-0.019644</td>\n",
       "      <td>0.030167</td>\n",
       "    </tr>\n",
       "    <tr>\n",
       "      <th>3</th>\n",
       "      <td>LASSO - PARTIALLING OUT</td>\n",
       "      <td>-0.049811</td>\n",
       "      <td>0.015391</td>\n",
       "      <td>-0.079978</td>\n",
       "      <td>-0.019644</td>\n",
       "      <td>0.030167</td>\n",
       "    </tr>\n",
       "  </tbody>\n",
       "</table>\n",
       "</div>"
      ],
      "text/plain": [
       "                     index  Estimator  Std. Error  lower bound CI  \\\n",
       "0                      OLS  -0.009378    0.029888       -0.070600   \n",
       "1          LASSO - SKLEARN  -0.049811    0.015391       -0.079978   \n",
       "2            LASSO - HDMPY  -0.049811    0.015391       -0.079978   \n",
       "3  LASSO - PARTIALLING OUT  -0.049811    0.015391       -0.079978   \n",
       "\n",
       "   upper bound CI    errors  \n",
       "0        0.051844  0.061222  \n",
       "1       -0.019644  0.030167  \n",
       "2       -0.019644  0.030167  \n",
       "3       -0.019644  0.030167  "
      ]
     },
     "execution_count": 109,
     "metadata": {},
     "output_type": "execute_result"
    }
   ],
   "source": [
    "data['errors'] = errors\n",
    "data"
   ]
  },
  {
   "cell_type": "code",
   "execution_count": 140,
   "id": "8d4843d3",
   "metadata": {
    "scrolled": false
   },
   "outputs": [
    {
     "name": "stderr",
     "output_type": "stream",
     "text": [
      "C:\\Users\\sandr\\anaconda3\\envs\\renvi\\lib\\site-packages\\ipykernel_launcher.py:13: FutureWarning: The pandas.np module is deprecated and will be removed from pandas in a future version. Import numpy directly instead\n",
      "  del sys.path[0]\n"
     ]
    },
    {
     "data": {
      "image/png": "[encoded data removed]",
      "text/plain": [
       "<Figure size 800x500 with 1 Axes>"
      ]
     },
     "metadata": {},
     "output_type": "display_data"
    }
   ],
   "source": [
    "# Define figure, axes, and plot\n",
    "fig, ax = plt.subplots(figsize=(8, 5))\n",
    "\n",
    "data.plot(x='index', y='Estimator', kind='line',\n",
    "            ax=ax, color='none', fontsize=15, \n",
    "            ecolor='green',capsize=0,\n",
    "            yerr='errors', legend=True)\n",
    "\n",
    "plt.title('Coefficients of each method with 95% Confidence Intervals', fontsize=20)\n",
    "ax.set_ylabel('Coefficients', fontsize=18)\n",
    "ax.set_xlabel('',fontsize=22)\n",
    "    \n",
    "ax.scatter(x=pd.np.arange(data.shape[0]), \n",
    "         marker='o', s=80, \n",
    "         y=data['Estimator'], color='blue')\n",
    "    \n",
    "\n",
    "ax.axhline(y=0, linestyle='--', color='red', linewidth=1)\n",
    "plt.xticks(rotation=90)\n",
    "plt.show()"
   ]
  },
  {
   "cell_type": "code",
   "execution_count": null,
   "id": "4fb37d8a",
   "metadata": {},
   "outputs": [],
   "source": []
  }
 ],
 "metadata": {
  "kernelspec": {
   "display_name": "Python 3",
   "language": "python",
   "name": "python3"
  },
  "language_info": {
   "codemirror_mode": {
    "name": "ipython",
    "version": 3
   },
   "file_extension": ".py",
   "mimetype": "text/x-python",
   "name": "python",
   "nbconvert_exporter": "python",
   "pygments_lexer": "ipython3",
   "version": "3.7.1"
  }
 },
 "nbformat": 4,
 "nbformat_minor": 5
}
