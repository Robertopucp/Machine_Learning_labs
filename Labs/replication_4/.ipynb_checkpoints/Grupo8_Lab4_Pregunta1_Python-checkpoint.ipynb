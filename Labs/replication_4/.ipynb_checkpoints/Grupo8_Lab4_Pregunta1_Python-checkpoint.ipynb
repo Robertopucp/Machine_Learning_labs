{
 "cells": [
  {
   "cell_type": "markdown",
   "id": "7505219d",
   "metadata": {},
   "source": [
    "## Group8 - Lab 4 - Python"
   ]
  },
  {
   "cell_type": "markdown",
   "id": "3ff5d969",
   "metadata": {},
   "source": [
    "1. Gianfranco Soria (20163509)\n",
    "3. Andrea Clavo (20176040)\n",
    "4. Sandra Martínez (20173026)"
   ]
  },
  {
   "cell_type": "code",
   "execution_count": 1,
   "id": "958df88f",
   "metadata": {
    "scrolled": false
   },
   "outputs": [],
   "source": [
    "import hdmpy\n",
    "import numpy as np\n",
    "import random\n",
    "import statsmodels.api as sm\n",
    "import matplotlib.pyplot as plt\n",
    "import numpy as np\n",
    "from matplotlib import colors"
   ]
  },
  {
   "cell_type": "markdown",
   "id": "d1bd37b8",
   "metadata": {},
   "source": [
    "## Question 1: Orthogonal Learning"
   ]
  },
  {
   "cell_type": "markdown",
   "id": "1879c9cd",
   "metadata": {},
   "source": [
    "1. Replicate Simulation Design 1 three times using different numbers of trials. So you have to use:\n",
    "\n",
    "- The equation of Y for the three cases now is: Y = 5*D + beta*X + rnorm(n)\n",
    "- B = 50 , B = 100, B = 1000.\n",
    "- Explain what do you see in the distribution of the histograms. Where the orthogonal and Naive should be centered?\n",
    "- Why does this happen? Give an econometric explanation of this.\n",
    "- Label your axes and legends correctly your figures."
   ]
  },
  {
   "cell_type": "markdown",
   "id": "5ddda533",
   "metadata": {},
   "source": [
    "### Simulation Design 1"
   ]
  },
  {
   "cell_type": "markdown",
   "id": "1bc6f22c",
   "metadata": {},
   "source": [
    "#### 1. Simulation design B=50"
   ]
  },
  {
   "cell_type": "code",
   "execution_count": 81,
   "id": "f6a779d1",
   "metadata": {},
   "outputs": [],
   "source": [
    "np.random.seed(0)\n",
    "B = 50\n",
    "Naive = np.zeros( B )\n",
    "Orthogonal = np.zeros( B )"
   ]
  },
  {
   "cell_type": "code",
   "execution_count": 82,
   "id": "ecec57f2",
   "metadata": {},
   "outputs": [],
   "source": [
    "for i in range( 0, B ):\n",
    "    n = 100\n",
    "    p = 100\n",
    "    beta = ( 1 / (np.arange( 1, p + 1 ) ** 2 ) ).reshape( p , 1 )\n",
    "    gamma = ( 1 / (np.arange( 1, p + 1 ) ** 2 ) ).reshape( p , 1 )\n",
    "\n",
    "    mean = 0\n",
    "    sd = 1\n",
    "    X = np.random.normal( mean , sd, n * p ).reshape( n, p )\n",
    "\n",
    "    D = ( X @ gamma ) + np.random.normal( mean , sd, n ).reshape( n, 1 )/4 \n",
    "    # We reshape because in r when we sum a vecto with a matrix it sum by column\n",
    "    \n",
    "    # DGP \n",
    "    Y = 5*D + ( X @ beta ) + np.random.normal( mean , sd, n ).reshape( n, 1 )\n",
    "    # single selection method\n",
    "    r_lasso_estimation = hdmpy.rlasso( np.concatenate( ( D , X ) , axis  =  1 ) , Y , post = True ) # Regress main equation by lasso\n",
    "\n",
    "    coef_array = r_lasso_estimation.est[ 'coefficients' ].iloc[ 2:, :].to_numpy()    # Get \"X\" coefficients \n",
    "\n",
    "    SX_IDs = np.where( coef_array != 0 )[0]\n",
    "\n",
    "    # In case all X coefficients are zero, then regress Y on D\n",
    "    if sum(SX_IDs) == 0 : \n",
    "        Naive[ i ] = sm.OLS( Y , sm.add_constant(D) ).fit().summary2().tables[1].round(3).iloc[ 1, 0 ] \n",
    "\n",
    "    # Otherwise, then regress Y on X and D (but only in the selected coefficients)\n",
    "    elif sum( SX_IDs ) > 0 :\n",
    "        X_D = np.concatenate( ( D, X[:, SX_IDs ] ) , axis = 1 )\n",
    "        Naive[ i ] = sm.OLS( Y , sm.add_constant( X_D ) ).fit().summary2().tables[1].round(3).iloc[ 1, 0]\n",
    "\n",
    "    # In both cases we save D coefficient\n",
    "        \n",
    "    # Regress residuals. \n",
    "    resY = hdmpy.rlasso( X , Y , post = False ).est[ 'residuals' ]\n",
    "    resD = hdmpy.rlasso( X , D , post = False ).est[ 'residuals' ]\n",
    "    Orthogonal[ i ] = sm.OLS( resY , sm.add_constant( resD ) ).fit().summary2().tables[1].round(3).iloc[ 1, 0]\n"
   ]
  },
  {
   "cell_type": "code",
   "execution_count": 83,
   "id": "86cbc0cc",
   "metadata": {},
   "outputs": [],
   "source": [
    "Orto_breaks = [-1.2, -1, -0.8, -0.6, -0.4, -0.2, 0, 0.2, 0.4, 0.6, 0.8, 1, 1.2, 1.4, 1.6, 1.8, 2]\n",
    "Naive_breaks = [-0.6, -0.4, -0.2, 0, 0.2, 0.4, 0.6, 0.8, 1, 1.2]"
   ]
  },
  {
   "cell_type": "code",
   "execution_count": 84,
   "id": "4f9f91c8",
   "metadata": {},
   "outputs": [
    {
     "data": {
      "text/plain": [
       "Text(0.5, 0, 'Difference between Naive-True')"
      ]
     },
     "execution_count": 84,
     "metadata": {},
     "output_type": "execute_result"
    },
    {
     "data": {
      "image/png": "[encoded data removed]",
      "text/plain": [
       "<Figure size 432x288 with 2 Axes>"
      ]
     },
     "metadata": {
      "needs_background": "light"
     },
     "output_type": "display_data"
    }
   ],
   "source": [
    "fig, axs = plt.subplots(1, 2, sharex= True, tight_layout=True)\n",
    "\n",
    "# We can set the number of bins with the `bins` kwarg\n",
    "axs[0].hist( Orthogonal - 5 , range = (-2, 2), density = True , bins = Orto_breaks, color=\"LimeGreen\" )\n",
    "axs[1].hist( Naive - 5, range = (-2, 2), density = True , bins = Naive_breaks, color=\"Chartreuse\")\n",
    "\n",
    "axs[0].title.set_text('Orthogonal')\n",
    "axs[1].title.set_text('Naive')\n",
    "\n",
    "axs[0].set_xlabel( 'Difference between Orhtogonal-True' )\n",
    "axs[1].set_xlabel( 'Difference between Naive-True' )"
   ]
  },
  {
   "cell_type": "markdown",
   "id": "7028b790",
   "metadata": {},
   "source": [
    "#### 2. Simulation design B=100"
   ]
  },
  {
   "cell_type": "code",
   "execution_count": 77,
   "id": "1ec66b0b",
   "metadata": {},
   "outputs": [],
   "source": [
    "np.random.seed(0)\n",
    "B = 100\n",
    "Naive = np.zeros( B )\n",
    "Orthogonal = np.zeros( B )"
   ]
  },
  {
   "cell_type": "code",
   "execution_count": 78,
   "id": "11591d31",
   "metadata": {},
   "outputs": [],
   "source": [
    "for i in range( 0, B ):\n",
    "    n = 100\n",
    "    p = 100\n",
    "    beta = ( 1 / (np.arange( 1, p + 1 ) ** 2 ) ).reshape( p , 1 )\n",
    "    gamma = ( 1 / (np.arange( 1, p + 1 ) ** 2 ) ).reshape( p , 1 )\n",
    "\n",
    "    mean = 0\n",
    "    sd = 1\n",
    "    X = np.random.normal( mean , sd, n * p ).reshape( n, p )\n",
    "\n",
    "    D = ( X @ gamma ) + np.random.normal( mean , sd, n ).reshape( n, 1 )/4 \n",
    "    # We reshape because in r when we sum a vecto with a matrix it sum by column\n",
    "    \n",
    "    # DGP \n",
    "    Y = 5*D + ( X @ beta ) + np.random.normal( mean , sd, n ).reshape( n, 1 )\n",
    "    # single selection method\n",
    "    r_lasso_estimation = hdmpy.rlasso( np.concatenate( ( D , X ) , axis  =  1 ) , Y , post = True ) # Regress main equation by lasso\n",
    "\n",
    "    coef_array = r_lasso_estimation.est[ 'coefficients' ].iloc[ 2:, :].to_numpy()    # Get \"X\" coefficients \n",
    "\n",
    "    SX_IDs = np.where( coef_array != 0 )[0]\n",
    "\n",
    "    # In case all X coefficients are zero, then regress Y on D\n",
    "    if sum(SX_IDs) == 0 : \n",
    "        Naive[ i ] = sm.OLS( Y , sm.add_constant(D) ).fit().summary2().tables[1].round(3).iloc[ 1, 0 ] \n",
    "\n",
    "    # Otherwise, then regress Y on X and D (but only in the selected coefficients)\n",
    "    elif sum( SX_IDs ) > 0 :\n",
    "        X_D = np.concatenate( ( D, X[:, SX_IDs ] ) , axis = 1 )\n",
    "        Naive[ i ] = sm.OLS( Y , sm.add_constant( X_D ) ).fit().summary2().tables[1].round(3).iloc[ 1, 0]\n",
    "\n",
    "    # In both cases we save D coefficient\n",
    "        \n",
    "    # Regress residuals. \n",
    "    resY = hdmpy.rlasso( X , Y , post = False ).est[ 'residuals' ]\n",
    "    resD = hdmpy.rlasso( X , D , post = False ).est[ 'residuals' ]\n",
    "    Orthogonal[ i ] = sm.OLS( resY , sm.add_constant( resD ) ).fit().summary2().tables[1].round(3).iloc[ 1, 0]"
   ]
  },
  {
   "cell_type": "code",
   "execution_count": 79,
   "id": "84500f73",
   "metadata": {},
   "outputs": [],
   "source": [
    "Orto_breaks = [-1.2, -1, -0.8, -0.6, -0.4, -0.2, 0, 0.2, 0.4, 0.6, 0.8, 1, 1.2, 1.4, 1.6, 1.8, 2]\n",
    "Naive_breaks = [-0.6, -0.4, -0.2, 0, 0.2, 0.4, 0.6, 0.8, 1, 1.2]"
   ]
  },
  {
   "cell_type": "code",
   "execution_count": 80,
   "id": "c4fd3e21",
   "metadata": {},
   "outputs": [
    {
     "data": {
      "text/plain": [
       "Text(0.5, 0, 'Difference between Naive-True')"
      ]
     },
     "execution_count": 80,
     "metadata": {},
     "output_type": "execute_result"
    },
    {
     "data": {
      "image/png": "[encoded data removed]",
      "text/plain": [
       "<Figure size 432x288 with 2 Axes>"
      ]
     },
     "metadata": {
      "needs_background": "light"
     },
     "output_type": "display_data"
    }
   ],
   "source": [
    "fig, axs = plt.subplots(1, 2, sharex= True, tight_layout=True)\n",
    "\n",
    "# We can set the number of bins with the `bins` kwarg\n",
    "axs[0].hist( Orthogonal - 5 , range = (-2, 2), density = True , bins = Orto_breaks, color=\"LimeGreen\" )\n",
    "axs[1].hist( Naive - 5, range = (-2, 2), density = True , bins = Naive_breaks, color=\"Chartreuse\")\n",
    "\n",
    "axs[0].title.set_text('Orthogonal')\n",
    "axs[1].title.set_text('Naive')\n",
    "\n",
    "axs[0].set_xlabel( 'Difference between Orhtogonal-True' )\n",
    "axs[1].set_xlabel( 'Difference between Naive-True' )"
   ]
  },
  {
   "cell_type": "markdown",
   "id": "5966c71d",
   "metadata": {},
   "source": [
    "#### 3. Simulation design B=1000"
   ]
  },
  {
   "cell_type": "code",
   "execution_count": 72,
   "id": "12faf173",
   "metadata": {},
   "outputs": [],
   "source": [
    "np.random.seed(0)\n",
    "B = 1000\n",
    "Naive = np.zeros( B )\n",
    "Orthogonal = np.zeros( B )\n"
   ]
  },
  {
   "cell_type": "code",
   "execution_count": 73,
   "id": "8836a4a7",
   "metadata": {},
   "outputs": [],
   "source": [
    "for i in range( 0, B ):\n",
    "    n = 100\n",
    "    p = 100\n",
    "    beta = ( 1 / (np.arange( 1, p + 1 ) ** 2 ) ).reshape( p , 1 )\n",
    "    gamma = ( 1 / (np.arange( 1, p + 1 ) ** 2 ) ).reshape( p , 1 )\n",
    "\n",
    "    mean = 0\n",
    "    sd = 1\n",
    "    X = np.random.normal( mean , sd, n * p ).reshape( n, p )\n",
    "\n",
    "    D = ( X @ gamma ) + np.random.normal( mean , sd, n ).reshape( n, 1 )/4 \n",
    "    # We reshape because in r when we sum a vecto with a matrix it sum by column\n",
    "    \n",
    "    # DGP \n",
    "    Y = 5*D + ( X @ beta ) + np.random.normal( mean , sd, n ).reshape( n, 1 )\n",
    "    # single selection method\n",
    "    r_lasso_estimation = hdmpy.rlasso( np.concatenate( ( D , X ) , axis  =  1 ) , Y , post = True ) # Regress main equation by lasso\n",
    "\n",
    "    coef_array = r_lasso_estimation.est[ 'coefficients' ].iloc[ 2:, :].to_numpy()    # Get \"X\" coefficients \n",
    "\n",
    "    SX_IDs = np.where( coef_array != 0 )[0]\n",
    "\n",
    "    # In case all X coefficients are zero, then regress Y on D\n",
    "    if sum(SX_IDs) == 0 : \n",
    "        Naive[ i ] = sm.OLS( Y , sm.add_constant(D) ).fit().summary2().tables[1].round(3).iloc[ 1, 0 ] \n",
    "\n",
    "    # Otherwise, then regress Y on X and D (but only in the selected coefficients)\n",
    "    elif sum( SX_IDs ) > 0 :\n",
    "        X_D = np.concatenate( ( D, X[:, SX_IDs ] ) , axis = 1 )\n",
    "        Naive[ i ] = sm.OLS( Y , sm.add_constant( X_D ) ).fit().summary2().tables[1].round(3).iloc[ 1, 0]\n",
    "\n",
    "    # In both cases we save D coefficient\n",
    "        \n",
    "    # Regress residuals. \n",
    "    resY = hdmpy.rlasso( X , Y , post = False ).est[ 'residuals' ]\n",
    "    resD = hdmpy.rlasso( X , D , post = False ).est[ 'residuals' ]\n",
    "    Orthogonal[ i ] = sm.OLS( resY , sm.add_constant( resD ) ).fit().summary2().tables[1].round(3).iloc[ 1, 0]\n",
    "\n"
   ]
  },
  {
   "cell_type": "code",
   "execution_count": 74,
   "id": "f6451fd9",
   "metadata": {},
   "outputs": [],
   "source": [
    "Orto_breaks = [-1.2, -1, -0.8, -0.6, -0.4, -0.2, 0, 0.2, 0.4, 0.6, 0.8, 1, 1.2, 1.4, 1.6, 1.8, 2]\n",
    "Naive_breaks = [-0.6, -0.4, -0.2, 0, 0.2, 0.4, 0.6, 0.8, 1, 1.2]\n"
   ]
  },
  {
   "cell_type": "code",
   "execution_count": 76,
   "id": "b6df1782",
   "metadata": {},
   "outputs": [
    {
     "data": {
      "text/plain": [
       "Text(0.5, 0, 'Difference between Naive-True')"
      ]
     },
     "execution_count": 76,
     "metadata": {},
     "output_type": "execute_result"
    },
    {
     "data": {
      "image/png": "[encoded data removed]",
      "text/plain": [
       "<Figure size 432x288 with 2 Axes>"
      ]
     },
     "metadata": {
      "needs_background": "light"
     },
     "output_type": "display_data"
    }
   ],
   "source": [
    "fig, axs = plt.subplots(1, 2, sharex= True, tight_layout=True)\n",
    "\n",
    "# We can set the number of bins with the `bins` kwarg\n",
    "axs[0].hist( Orthogonal - 5 , range = (-2, 2), density = True , bins = Orto_breaks, color=\"LimeGreen\" )\n",
    "axs[1].hist( Naive - 5, range = (-2, 2), density = True , bins = Naive_breaks, color=\"Chartreuse\")\n",
    "\n",
    "axs[0].title.set_text('Orthogonal')\n",
    "axs[1].title.set_text('Naive')\n",
    "\n",
    "axs[0].set_xlabel( 'Difference between Orhtogonal-True' )\n",
    "axs[1].set_xlabel( 'Difference between Naive-True' )"
   ]
  },
  {
   "cell_type": "markdown",
   "id": "44fd95a5",
   "metadata": {},
   "source": [
    "- ### Explain what do you see in the distribution of the histograms. Where the orthogonal and Naive should be centered?"
   ]
  },
  {
   "cell_type": "markdown",
   "id": "002c3263",
   "metadata": {},
   "source": [
    "First, in a general way, it can be observed that the histograms as the number of attempts increases, the density decreases for both approaches. In the case of the Orthogonal approach, the distribution is more centered at 0 and resembles more a normal distribution with mean 0 (large numbers theorem) and for the Naive, it is more pulled towards 1. The reason for this is because after each experiment, the estimated beta, in the case of the orthogonal approach, is very close to the real value which is 5. That is, these values for the first graph (B=50) vary between 4.5 and 5.5 and for the other two graphs (B=100 and B=1000) vary approximately between 4 and 6. On the other hand, in the Naive approach, the distribution shows that the estimated beta values are more centered on 5.5 or 6.\n",
    "\n",
    "Therefore, using the Naive approach since it is not taking into account Neyma's Orthogonality problem cannot make inference and the beta is even biased."
   ]
  },
  {
   "cell_type": "markdown",
   "id": "67004d1f",
   "metadata": {},
   "source": [
    "- ### Why does this happen? Give an econometric explanation of this."
   ]
  },
  {
   "cell_type": "markdown",
   "id": "fda4b5b8",
   "metadata": {},
   "source": [
    "Remember our main equation (Double Lasso): $Y=\\alpha D+\\beta'W+\\epsilon$\n",
    "\n",
    "where $D$ is the target regressor and $W$ consists of $p$ controls.\n",
    "After partilling-out, \n",
    "\n",
    "$\\hat{Y}=\\alpha\\tilde{D}+\\epsilon,E\\epsilon\\tilde{D}=0$\n",
    "\n",
    "where the cariables with tilde are residuald from taking out the linear\n",
    "effect of $W$ \n",
    "\n",
    "$\\tilde{D}=D-\\gamma'_{DW},$ $\\gamma'_{DW}=arg$ $\\underset{\\gamma\\epsilon R^{P}}{min}$$E(D-\\gamma'W){}^{2}$\n",
    "\n",
    "$\\tilde{Y}=Y-\\gamma'_{YW}$, $\\gamma'_{YW}=arg$ $\\underset{\\gamma\\epsilon R^{P}}{min}$$E(Y-\\gamma'W){}^{2}$\n",
    "\n",
    "Neyman Orthogonality \n",
    "\n",
    "It states that the target parameter is parameterized in terms of nuisance parameters in such away that small perturbations in terms of biased estimation of these parameters will translate to a negligible effect on estimating the target parameter.\n",
    "\n",
    "- We have the nuisance projection parameteres:  $\\eta^{0}=(\\gamma'_{DW},\\gamma'_{YW})'$\n",
    "\n",
    "- The target parameter: $\\alpha(\\eta)$. That is, this alpha is not sensitive to gamma changes. \n",
    "\n",
    "- is first order insesitive to local perturbations of these parameters: \n",
    "\n",
    "$D=\\partial_{n}\\alpha(\\eta^{0})=0$\n",
    "\n",
    "The following assumption is made, the Orthogonality Principle, where\n",
    "there is no correlation between the error and the explanatory variable\n",
    "X.  \n",
    "\n",
    "$M(\\kappa,\\eta)=E[(\\tilde{Y}(\\eta_{1})-\\kappa\\tilde{D}(\\eta_{2}))\\tilde{D}(\\eta_{2})]=0$\n",
    "\n",
    "where: $n:=(n'_{1},n'_{2})'=\\eta^{0}:=(\\gamma'_{DW},\\gamma'_{YW})'$\n",
    "\n",
    "In this case, we have defined that D is a function of the control variables (W). Then, we have regressed with double lasso to clean\n",
    "up our D, so that there is no correlation and the above assumption is fulfilled. \n",
    "\n",
    "$\\tilde{Y}(\\eta_{1})=Y-\\eta'_{1}W,$ $\\tilde{D}(\\eta_{2})=D-\\eta'_{2}W$\n",
    "\n",
    "$\\tilde{Y}=Y-\\gamma'_{YW},$$\\tilde{D}=D-\\gamma'_{DW}W$\n",
    "\n",
    "$D=-\\partial_{n}M(\\alpha,\\eta^{0})^{-1}\\partial_{n}M(\\alpha,\\eta^{0})$\n",
    "\n",
    "Partial derivatives: \n",
    "\n",
    "$\\partial_{n_{1}}M(\\alpha,\\eta^{0})^{-1}=E(W\\tilde{D})=0$\n",
    "\n",
    "$\\partial_{n_{2}}M(\\alpha,\\eta^{0})^{-1}=-E(\\tilde{Y}W)+2E(\\alpha\\tilde{D}W)=0$\n",
    "\n",
    "\n",
    "$\\hat{M}(\\kappa,\\hat{n})=E_{n}[(\\check{Y}-\\kappa\\check{Y})\\check{D}]=0,$$\\tilde{Y}=\\tilde{Y}(\\hat{\\eta}_{1}),$$\\tilde{D}=\\tilde{D}(\\hat{\\eta}_{2})$\n",
    "\n",
    "Neyman Orthogonality condition\n",
    "\n",
    "$D=\\partial_{n}\\alpha(\\eta^{0})=0,$$\\partial_{n}M(\\alpha,\\eta^{0})=0$\n",
    "\n",
    "Therefore, when assumption 1 is violated, the partial derivatives will be different from 0 and the $\\alpha$will move as the previously\n",
    "estimated $\\gamma$ changes. The estimator will be biased, so inference will not be possible. \n",
    "\n",
    "NOTE: In the exercise performed for the histograms, our target variable is the $\\beta$. In contrast, in this demonstration it is the $\\alpha$"
   ]
  },
  {
   "cell_type": "markdown",
   "id": "97f13adb",
   "metadata": {},
   "source": [
    "\n",
    "#### [General terms] Overcoming Regularization Biases using Orthogonalization.\n",
    "\n",
    "As a lead example, consider the following partially linear regression\n",
    "(PLR)\n",
    "\n",
    "$Y=D\\theta'_{0}+g_{0}(X)+U$, $E[U\\mid X,D]=0$\n",
    "\n",
    "$D=m_{0}(X)+V$,$E[V\\mid X]=0$\n",
    "\n",
    "where $Y$is the outcome variable, $D$ is the policy/treatment variable of interest,vector $X=(X_{1},...,$$X_{p})$ consists of other controls, and $U$and $V$are disturbances. The first equation is the main equation, and $\\theta_{0}$ is the main regression coefficient that we would like to infer. If $D$ is exogenous conditional on controls $X$, $\\theta_{0}$has the interpretation of the treatment effect (TE) parameter or  \"lift\" parameter in business applications. The second equation keeps track of confounding, namely the dependence of the treatment variable on controls. This equation is not of interest per se but is important for characterizing and removing regularization bias. The confounding factors $X$ affect the policy variable $D$ via the function $m_{0}(X)$ and the outcome variable via the function $g_{0}(X)$. In many applications, the dimension $\\rho$ of vector $X$is large relative to $N$. To capture the feature that p is not vanishingly small relative to the sample size, modern analyses then model $\\rho$ as increasing To capture the feature that p is not vanishingly small relative to the sample size, modern analyses then model p as increasing $\\eta_{0}=(m_{0},g_{0})$ to fail. \n",
    "\n",
    "Now consider a onstruction that employs an \"orthogonalized\" formulation obtained by directly partialling out the effect of $X$ from $D$ to obtain the orthogonalized regressor $V=D-m_{0}(X)$. Specifically, we obtain $V=\\hat{D}-\\hat{m}_{0}(X)$, where $\\hat{m}_{0}$ is a Machine Learning estimator of $m_{0}$ obtained using the auxiliary sample of observations. We are now solving an auxiliary prediction problem to estimate the conditional mean of $D$ given $X$, so we are doing \"double prediction\" or  \"double machine learning\".\n",
    "\n",
    "After partialling the effect of $X$ out from $D$ and obtaining a preliminary estimate of g0 from the auxiliary sample as before, we may formulate the following \"debiased\" machine learning estimator for $\\theta_{0}$ using the main sample of observations:\n",
    "\n",
    "$\\check{\\theta}_{0}=(\\frac{1}{n}\\underset{i\\epsilon I}{\\sum}\\hat{V}_{i}D_{i})^{-1}\\frac{1}{n}\\underset{i\\epsilon I}{\\sum}\\hat{V}_{i}(Y_{i}-\\hat{g}_{0}(X_{i}))$\n",
    "\n",
    "By approximately orthogonalizing $D$ with respect to $X$ and approximately removing the direct effect of confounding by subtracting an estimate of $g_{0},$$\\theta_{0}$removes the effect of regularization bias that contaminates. The formulation of $\\check{\\theta}_{0}$also provides direct links to both the classical econometric literature, as the estimator can clearly be interpreted as a linear instrumental variable (IV) estimator, and to the more recent literature on debiased lasso in the context where $g_{0}$ is taken to be well approximated by a sparse linear combination of prespecified functions of $X$.\n",
    "\n",
    "To illustrate the benefits of the auxiliary prediction step and estimating $\\theta_{0}$with $\\check{\\theta}_{0}$, we sketch the properties of $\\check{\\theta}_{0}$ here. We can decompose the scaled estimation error of $\\check{\\theta}_{0}$ into three components:\n",
    "\n",
    "$\\sqrt{n}(\\check{\\theta}_{0}-\\theta_{0})=a^{*}+b^{*}+c^{*}$\n",
    "\n",
    "The leading term, $a^{*}$, will satisfy\n",
    "\n",
    "$a^{*}=(EV^{2})^{-1}$$\\frac{1}{\\sqrt{n}}\\underset{i\\epsilon I}{\\sum}V_{i}U_{i}\\rightsquigarrow N(0,\\varSigma)$\n",
    "\n",
    "under mild conditions. The second term, $b^{*}$, captures the impact of regularization bias in estimating $g_{0}$and $m_{0}.$Specifically, we will have\n",
    "\n",
    "$b^{*}=(EV^{2})^{-1}\\frac{1}{\\sqrt{n}}\\underset{i\\epsilon I}{\\sum}(\\hat{m}_{0}(X_{i})-m_{0}(X_{i}))(\\hat{g}_{0}(X_{i}))-g_{0}(X_{i}))$, which now depends on the product of the estimation errors in $\\hat{m}_{0}$ and $\\hat{g}_{0}$. Because this term depends only on the product of the estimation errors, it can vanish under a broad range of data-generating processes. Indeed, this term is upper-bounded by $\\sqrt{nn}^{-(\\varphi_{m}+\\varphi_{g})},$where $n^{-\\varphi_{m}}$and $n^{-\\varphi_{g}}$are respectively the rates of convergence of $\\hat{m}_{0}$to $m_{0}$ and $\\hat{g}_{0}$ to $g_{0}$; ; and this upper bound can clearly vanish even though both $m_{0}$ and $g_{0}$are estimated at relatively slow rates. Verifying that $\\check{\\theta}_{0}$ has good properties then requires that the remainder term, $c^{*}$, is sufficiently well-behaved. \n"
   ]
  }
 ],
 "metadata": {
  "kernelspec": {
   "display_name": "Python 3",
   "language": "python",
   "name": "python3"
  },
  "language_info": {
   "codemirror_mode": {
    "name": "ipython",
    "version": 3
   },
   "file_extension": ".py",
   "mimetype": "text/x-python",
   "name": "python",
   "nbconvert_exporter": "python",
   "pygments_lexer": "ipython3",
   "version": "3.7.1"
  }
 },
 "nbformat": 4,
 "nbformat_minor": 5
}
