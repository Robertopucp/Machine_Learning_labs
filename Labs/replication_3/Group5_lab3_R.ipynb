{
 "cells": [
  {
   "cell_type": "markdown",
   "id": "a54e6b93",
   "metadata": {},
   "source": [
    "####  WorkGroup 3 - Group 5 "
   ]
  },
  {
   "cell_type": "markdown",
   "id": "b510cb31",
   "metadata": {},
   "source": [
    "# 1. Multicollinearity"
   ]
  },
  {
   "cell_type": "markdown",
   "id": "9603917e",
   "metadata": {},
   "source": [
    "Multicollinearity is when two or more independent variables are strongly correlated so it is difficult to know which of the variables really explains the dependent variable. This problem increases the errors and the variance of the estimated coefficients. The solution to this problem is to eliminate one of the correlated variables, increase the number of observations in our data or generate synthetic indexes with the correlated variables."
   ]
  },
  {
   "cell_type": "markdown",
   "id": "b398a1ff",
   "metadata": {},
   "source": [
    "Example of perfect multicollinearity: \n",
    "\\begin{equation}\\label{decompose}\n",
    "Y=B_o +B_1X_1+B_2X_2+B_3X_3+ \\epsilon\\\\\n",
    "\\end{equation}\n"
   ]
  },
  {
   "cell_type": "markdown",
   "id": "9209ac32",
   "metadata": {},
   "source": [
    "\\begin{equation}\\label{decompose}\n",
    "X_1=a_1X_2+a_2X_3\\\\\n",
    "\\end{equation}"
   ]
  },
  {
   "cell_type": "markdown",
   "id": "aff5bb2a",
   "metadata": {},
   "source": [
    "\\begin{equation}\\label{decompose}\n",
    "Y=B_o+(B_2+B_1a_1)X_2+(B_3+a_2B_1)X_3+ \\epsilon\\\\\n",
    "\\end{equation}"
   ]
  },
  {
   "cell_type": "markdown",
   "id": "9d0e2d53",
   "metadata": {},
   "source": [
    "Examples of multicollinearity:\n",
    "\n",
    "\\begin{equation}\\label{decompose}\n",
    "Lwage=B_o +B_1Gender+B_2 Female+B_3 Male+B_4Education+B_5Profession+ \\epsilon\\\\\n",
    "\\end{equation}\n"
   ]
  },
  {
   "cell_type": "markdown",
   "id": "07b45a2a",
   "metadata": {},
   "source": [
    "\\begin{equation}\\label{decompose}\n",
    "Quality of life=B_o+B_1Pbi+B_2Population+B_3Wage+B_4Profession+ \\epsilon\\\\\n",
    "\\end{equation}\n"
   ]
  },
  {
   "cell_type": "markdown",
   "id": "09506b6e",
   "metadata": {},
   "source": [
    "\\begin{equation}\\label{decompose}\n",
    "Health=B_o+B_1Age+B_2Height+B_3Weight+B_4Profession+ \\epsilon\n",
    "\\end{equation}\n"
   ]
  },
  {
   "cell_type": "markdown",
   "id": "5d4d79a4",
   "metadata": {},
   "source": [
    "\n",
    "For the case of salary, the female and male sex variables are perfectly multicollinear because the sex variable is a linear combination of the other two variables.\n",
    "In the second equation, the GDP and population variables are strongly correlated, so it is advisable to use GDP per capita instead of the two variables. For the last example, age, height and weight are strongly correlated.\n",
    "For the case of salary, the female and male sex variables are perfectly multicollinear because the sex variable is a linear combination of the other two variables.\n"
   ]
  },
  {
   "cell_type": "code",
   "execution_count": 30,
   "id": "d6ac5e04",
   "metadata": {},
   "outputs": [
    {
     "data": {
      "text/html": [
       "<table>\n",
       "<tbody>\n",
       "\t<tr><td>-1.2070657  </td><td>-0.47719270 </td><td> 0.1340882  </td><td> 1.1022975  </td><td> 1.4494963  </td><td>-1.8060313  </td><td> 0.656588464</td><td> 0.006892838</td><td>-0.1777900  </td><td>-0.05315882 </td></tr>\n",
       "\t<tr><td> 0.2774292  </td><td>-0.99838644 </td><td>-0.4906859  </td><td>-0.4755931  </td><td>-1.0686427  </td><td>-0.5820759  </td><td> 2.548991071</td><td>-0.455468738</td><td>-0.1699941  </td><td> 0.25519600 </td></tr>\n",
       "\t<tr><td> 1.0844412  </td><td>-0.77625389 </td><td>-0.4405479  </td><td>-0.7094400  </td><td>-0.8553646  </td><td>-1.1088896  </td><td>-0.034760390</td><td>-0.366523933</td><td>-1.3723019  </td><td> 1.70596401 </td></tr>\n",
       "\t<tr><td>-2.3456977  </td><td> 0.06445882 </td><td> 0.4595894  </td><td>-0.5012581  </td><td>-0.2806230  </td><td>-1.0149620  </td><td>-0.669633580</td><td> 0.648286568</td><td>-0.1737872  </td><td> 1.00151325 </td></tr>\n",
       "\t<tr><td> 0.4291247  </td><td> 0.95949406 </td><td>-0.6937202  </td><td>-1.6290935  </td><td>-0.9943401  </td><td>-0.1623095  </td><td>-0.007604756</td><td> 2.070270861</td><td> 0.8502323  </td><td>-0.49558344 </td></tr>\n",
       "\t<tr><td> 0.5060559  </td><td>-0.11028549 </td><td>-1.4482049  </td><td>-1.1676193  </td><td>-0.9685143  </td><td> 0.5630558  </td><td> 1.777084448</td><td>-0.153398412</td><td> 0.6976087  </td><td> 0.35555030 </td></tr>\n",
       "\t<tr><td>-0.5747400  </td><td>-0.51100951 </td><td> 0.5747557  </td><td>-2.1800396  </td><td>-1.1073182  </td><td> 1.6478175  </td><td>-1.138607737</td><td>-1.390700947</td><td> 0.5499974  </td><td>-1.13460804 </td></tr>\n",
       "\t<tr><td>-0.5466319  </td><td>-0.91119542 </td><td>-1.0236557  </td><td>-1.3409932  </td><td>-1.2519859  </td><td>-0.7733534  </td><td> 1.367827179</td><td>-0.723581777</td><td>-0.4027320  </td><td> 0.87820363 </td></tr>\n",
       "\t<tr><td>-0.5644520  </td><td>-0.83717168 </td><td>-0.0151383  </td><td>-0.2942939  </td><td>-0.5238281  </td><td> 1.6059096  </td><td> 1.329564791</td><td> 0.258261762</td><td>-0.1915938  </td><td> 0.97291675 </td></tr>\n",
       "\t<tr><td>-0.8900378  </td><td> 2.41583518 </td><td>-0.9359486  </td><td>-0.4658975  </td><td>-0.4968500  </td><td>-1.1578085  </td><td> 0.336472797</td><td>-0.317059115</td><td>-1.1945279  </td><td> 2.12111711 </td></tr>\n",
       "</tbody>\n",
       "</table>\n"
      ],
      "text/latex": [
       "\\begin{tabular}{llllllllll}\n",
       "\t -1.2070657   & -0.47719270  &  0.1340882   &  1.1022975   &  1.4494963   & -1.8060313   &  0.656588464 &  0.006892838 & -0.1777900   & -0.05315882 \\\\\n",
       "\t  0.2774292   & -0.99838644  & -0.4906859   & -0.4755931   & -1.0686427   & -0.5820759   &  2.548991071 & -0.455468738 & -0.1699941   &  0.25519600 \\\\\n",
       "\t  1.0844412   & -0.77625389  & -0.4405479   & -0.7094400   & -0.8553646   & -1.1088896   & -0.034760390 & -0.366523933 & -1.3723019   &  1.70596401 \\\\\n",
       "\t -2.3456977   &  0.06445882  &  0.4595894   & -0.5012581   & -0.2806230   & -1.0149620   & -0.669633580 &  0.648286568 & -0.1737872   &  1.00151325 \\\\\n",
       "\t  0.4291247   &  0.95949406  & -0.6937202   & -1.6290935   & -0.9943401   & -0.1623095   & -0.007604756 &  2.070270861 &  0.8502323   & -0.49558344 \\\\\n",
       "\t  0.5060559   & -0.11028549  & -1.4482049   & -1.1676193   & -0.9685143   &  0.5630558   &  1.777084448 & -0.153398412 &  0.6976087   &  0.35555030 \\\\\n",
       "\t -0.5747400   & -0.51100951  &  0.5747557   & -2.1800396   & -1.1073182   &  1.6478175   & -1.138607737 & -1.390700947 &  0.5499974   & -1.13460804 \\\\\n",
       "\t -0.5466319   & -0.91119542  & -1.0236557   & -1.3409932   & -1.2519859   & -0.7733534   &  1.367827179 & -0.723581777 & -0.4027320   &  0.87820363 \\\\\n",
       "\t -0.5644520   & -0.83717168  & -0.0151383   & -0.2942939   & -0.5238281   &  1.6059096   &  1.329564791 &  0.258261762 & -0.1915938   &  0.97291675 \\\\\n",
       "\t -0.8900378   &  2.41583518  & -0.9359486   & -0.4658975   & -0.4968500   & -1.1578085   &  0.336472797 & -0.317059115 & -1.1945279   &  2.12111711 \\\\\n",
       "\\end{tabular}\n"
      ],
      "text/markdown": [
       "\n",
       "| -1.2070657   | -0.47719270  |  0.1340882   |  1.1022975   |  1.4494963   | -1.8060313   |  0.656588464 |  0.006892838 | -0.1777900   | -0.05315882  |\n",
       "|  0.2774292   | -0.99838644  | -0.4906859   | -0.4755931   | -1.0686427   | -0.5820759   |  2.548991071 | -0.455468738 | -0.1699941   |  0.25519600  |\n",
       "|  1.0844412   | -0.77625389  | -0.4405479   | -0.7094400   | -0.8553646   | -1.1088896   | -0.034760390 | -0.366523933 | -1.3723019   |  1.70596401  |\n",
       "| -2.3456977   |  0.06445882  |  0.4595894   | -0.5012581   | -0.2806230   | -1.0149620   | -0.669633580 |  0.648286568 | -0.1737872   |  1.00151325  |\n",
       "|  0.4291247   |  0.95949406  | -0.6937202   | -1.6290935   | -0.9943401   | -0.1623095   | -0.007604756 |  2.070270861 |  0.8502323   | -0.49558344  |\n",
       "|  0.5060559   | -0.11028549  | -1.4482049   | -1.1676193   | -0.9685143   |  0.5630558   |  1.777084448 | -0.153398412 |  0.6976087   |  0.35555030  |\n",
       "| -0.5747400   | -0.51100951  |  0.5747557   | -2.1800396   | -1.1073182   |  1.6478175   | -1.138607737 | -1.390700947 |  0.5499974   | -1.13460804  |\n",
       "| -0.5466319   | -0.91119542  | -1.0236557   | -1.3409932   | -1.2519859   | -0.7733534   |  1.367827179 | -0.723581777 | -0.4027320   |  0.87820363  |\n",
       "| -0.5644520   | -0.83717168  | -0.0151383   | -0.2942939   | -0.5238281   |  1.6059096   |  1.329564791 |  0.258261762 | -0.1915938   |  0.97291675  |\n",
       "| -0.8900378   |  2.41583518  | -0.9359486   | -0.4658975   | -0.4968500   | -1.1578085   |  0.336472797 | -0.317059115 | -1.1945279   |  2.12111711  |\n",
       "\n"
      ],
      "text/plain": [
       "      [,1]       [,2]        [,3]       [,4]       [,5]       [,6]      \n",
       " [1,] -1.2070657 -0.47719270  0.1340882  1.1022975  1.4494963 -1.8060313\n",
       " [2,]  0.2774292 -0.99838644 -0.4906859 -0.4755931 -1.0686427 -0.5820759\n",
       " [3,]  1.0844412 -0.77625389 -0.4405479 -0.7094400 -0.8553646 -1.1088896\n",
       " [4,] -2.3456977  0.06445882  0.4595894 -0.5012581 -0.2806230 -1.0149620\n",
       " [5,]  0.4291247  0.95949406 -0.6937202 -1.6290935 -0.9943401 -0.1623095\n",
       " [6,]  0.5060559 -0.11028549 -1.4482049 -1.1676193 -0.9685143  0.5630558\n",
       " [7,] -0.5747400 -0.51100951  0.5747557 -2.1800396 -1.1073182  1.6478175\n",
       " [8,] -0.5466319 -0.91119542 -1.0236557 -1.3409932 -1.2519859 -0.7733534\n",
       " [9,] -0.5644520 -0.83717168 -0.0151383 -0.2942939 -0.5238281  1.6059096\n",
       "[10,] -0.8900378  2.41583518 -0.9359486 -0.4658975 -0.4968500 -1.1578085\n",
       "      [,7]         [,8]         [,9]       [,10]      \n",
       " [1,]  0.656588464  0.006892838 -0.1777900 -0.05315882\n",
       " [2,]  2.548991071 -0.455468738 -0.1699941  0.25519600\n",
       " [3,] -0.034760390 -0.366523933 -1.3723019  1.70596401\n",
       " [4,] -0.669633580  0.648286568 -0.1737872  1.00151325\n",
       " [5,] -0.007604756  2.070270861  0.8502323 -0.49558344\n",
       " [6,]  1.777084448 -0.153398412  0.6976087  0.35555030\n",
       " [7,] -1.138607737 -1.390700947  0.5499974 -1.13460804\n",
       " [8,]  1.367827179 -0.723581777 -0.4027320  0.87820363\n",
       " [9,]  1.329564791  0.258261762 -0.1915938  0.97291675\n",
       "[10,]  0.336472797 -0.317059115 -1.1945279  2.12111711"
      ]
     },
     "metadata": {},
     "output_type": "display_data"
    }
   ],
   "source": [
    "set.seed(1234)\n",
    "x=matrix(rnorm(100,0,1),10,10)\n",
    "x"
   ]
  },
  {
   "cell_type": "code",
   "execution_count": 31,
   "id": "635ab6f9",
   "metadata": {},
   "outputs": [
    {
     "data": {
      "text/html": [
       "<table>\n",
       "<tbody>\n",
       "\t<tr><td>-1.2070657  </td><td>-0.47719270 </td><td> 0.1340882  </td><td> 1.1022975  </td><td> 1.4494963  </td><td>-1.8060313  </td><td> 0.656588464</td><td> 0.006892838</td><td>-0.1777900  </td><td> 0.1370043  </td></tr>\n",
       "\t<tr><td> 0.2774292  </td><td>-0.99838644 </td><td>-0.4906859  </td><td>-0.4755931  </td><td>-1.0686427  </td><td>-0.5820759  </td><td> 2.548991071</td><td>-0.455468738</td><td>-0.1699941  </td><td> 1.1280714  </td></tr>\n",
       "\t<tr><td> 1.0844412  </td><td>-0.77625389 </td><td>-0.4405479  </td><td>-0.7094400  </td><td>-0.8553646  </td><td>-1.1088896  </td><td>-0.034760390</td><td>-0.366523933</td><td>-1.3723019  </td><td>-4.8847139  </td></tr>\n",
       "\t<tr><td>-2.3456977  </td><td> 0.06445882 </td><td> 0.4595894  </td><td>-0.5012581  </td><td>-0.2806230  </td><td>-1.0149620  </td><td>-0.669633580</td><td> 0.648286568</td><td>-0.1737872  </td><td> 0.1055780  </td></tr>\n",
       "\t<tr><td> 0.4291247  </td><td> 0.95949406 </td><td>-0.6937202  </td><td>-1.6290935  </td><td>-0.9943401  </td><td>-0.1623095  </td><td>-0.007604756</td><td> 2.070270861</td><td> 0.8502323  </td><td> 6.6836337  </td></tr>\n",
       "\t<tr><td> 0.5060559  </td><td>-0.11028549 </td><td>-1.4482049  </td><td>-1.1676193  </td><td>-0.9685143  </td><td> 0.5630558  </td><td> 1.777084448</td><td>-0.153398412</td><td> 0.6976087  </td><td> 3.5631138  </td></tr>\n",
       "\t<tr><td>-0.5747400  </td><td>-0.51100951 </td><td> 0.5747557  </td><td>-2.1800396  </td><td>-1.1073182  </td><td> 1.6478175  </td><td>-1.138607737</td><td>-1.390700947</td><td> 0.5499974  </td><td>-2.2700176  </td></tr>\n",
       "\t<tr><td>-0.5466319  </td><td>-0.91119542 </td><td>-1.0236557  </td><td>-1.3409932  </td><td>-1.2519859  </td><td>-0.7733534  </td><td> 1.367827179</td><td>-0.723581777</td><td>-0.4027320  </td><td>-1.2875323  </td></tr>\n",
       "\t<tr><td>-0.5644520  </td><td>-0.83717168 </td><td>-0.0151383  </td><td>-0.2942939  </td><td>-0.5238281  </td><td> 1.6059096  </td><td> 1.329564791</td><td> 0.258261762</td><td>-0.1915938  </td><td> 1.2713070  </td></tr>\n",
       "\t<tr><td>-0.8900378  </td><td> 2.41583518 </td><td>-0.9359486  </td><td>-0.4658975  </td><td>-0.4968500  </td><td>-1.1578085  </td><td> 0.336472797</td><td>-0.317059115</td><td>-1.1945279  </td><td>-3.8812291  </td></tr>\n",
       "</tbody>\n",
       "</table>\n"
      ],
      "text/latex": [
       "\\begin{tabular}{llllllllll}\n",
       "\t -1.2070657   & -0.47719270  &  0.1340882   &  1.1022975   &  1.4494963   & -1.8060313   &  0.656588464 &  0.006892838 & -0.1777900   &  0.1370043  \\\\\n",
       "\t  0.2774292   & -0.99838644  & -0.4906859   & -0.4755931   & -1.0686427   & -0.5820759   &  2.548991071 & -0.455468738 & -0.1699941   &  1.1280714  \\\\\n",
       "\t  1.0844412   & -0.77625389  & -0.4405479   & -0.7094400   & -0.8553646   & -1.1088896   & -0.034760390 & -0.366523933 & -1.3723019   & -4.8847139  \\\\\n",
       "\t -2.3456977   &  0.06445882  &  0.4595894   & -0.5012581   & -0.2806230   & -1.0149620   & -0.669633580 &  0.648286568 & -0.1737872   &  0.1055780  \\\\\n",
       "\t  0.4291247   &  0.95949406  & -0.6937202   & -1.6290935   & -0.9943401   & -0.1623095   & -0.007604756 &  2.070270861 &  0.8502323   &  6.6836337  \\\\\n",
       "\t  0.5060559   & -0.11028549  & -1.4482049   & -1.1676193   & -0.9685143   &  0.5630558   &  1.777084448 & -0.153398412 &  0.6976087   &  3.5631138  \\\\\n",
       "\t -0.5747400   & -0.51100951  &  0.5747557   & -2.1800396   & -1.1073182   &  1.6478175   & -1.138607737 & -1.390700947 &  0.5499974   & -2.2700176  \\\\\n",
       "\t -0.5466319   & -0.91119542  & -1.0236557   & -1.3409932   & -1.2519859   & -0.7733534   &  1.367827179 & -0.723581777 & -0.4027320   & -1.2875323  \\\\\n",
       "\t -0.5644520   & -0.83717168  & -0.0151383   & -0.2942939   & -0.5238281   &  1.6059096   &  1.329564791 &  0.258261762 & -0.1915938   &  1.2713070  \\\\\n",
       "\t -0.8900378   &  2.41583518  & -0.9359486   & -0.4658975   & -0.4968500   & -1.1578085   &  0.336472797 & -0.317059115 & -1.1945279   & -3.8812291  \\\\\n",
       "\\end{tabular}\n"
      ],
      "text/markdown": [
       "\n",
       "| -1.2070657   | -0.47719270  |  0.1340882   |  1.1022975   |  1.4494963   | -1.8060313   |  0.656588464 |  0.006892838 | -0.1777900   |  0.1370043   |\n",
       "|  0.2774292   | -0.99838644  | -0.4906859   | -0.4755931   | -1.0686427   | -0.5820759   |  2.548991071 | -0.455468738 | -0.1699941   |  1.1280714   |\n",
       "|  1.0844412   | -0.77625389  | -0.4405479   | -0.7094400   | -0.8553646   | -1.1088896   | -0.034760390 | -0.366523933 | -1.3723019   | -4.8847139   |\n",
       "| -2.3456977   |  0.06445882  |  0.4595894   | -0.5012581   | -0.2806230   | -1.0149620   | -0.669633580 |  0.648286568 | -0.1737872   |  0.1055780   |\n",
       "|  0.4291247   |  0.95949406  | -0.6937202   | -1.6290935   | -0.9943401   | -0.1623095   | -0.007604756 |  2.070270861 |  0.8502323   |  6.6836337   |\n",
       "|  0.5060559   | -0.11028549  | -1.4482049   | -1.1676193   | -0.9685143   |  0.5630558   |  1.777084448 | -0.153398412 |  0.6976087   |  3.5631138   |\n",
       "| -0.5747400   | -0.51100951  |  0.5747557   | -2.1800396   | -1.1073182   |  1.6478175   | -1.138607737 | -1.390700947 |  0.5499974   | -2.2700176   |\n",
       "| -0.5466319   | -0.91119542  | -1.0236557   | -1.3409932   | -1.2519859   | -0.7733534   |  1.367827179 | -0.723581777 | -0.4027320   | -1.2875323   |\n",
       "| -0.5644520   | -0.83717168  | -0.0151383   | -0.2942939   | -0.5238281   |  1.6059096   |  1.329564791 |  0.258261762 | -0.1915938   |  1.2713070   |\n",
       "| -0.8900378   |  2.41583518  | -0.9359486   | -0.4658975   | -0.4968500   | -1.1578085   |  0.336472797 | -0.317059115 | -1.1945279   | -3.8812291   |\n",
       "\n"
      ],
      "text/plain": [
       "      [,1]       [,2]        [,3]       [,4]       [,5]       [,6]      \n",
       " [1,] -1.2070657 -0.47719270  0.1340882  1.1022975  1.4494963 -1.8060313\n",
       " [2,]  0.2774292 -0.99838644 -0.4906859 -0.4755931 -1.0686427 -0.5820759\n",
       " [3,]  1.0844412 -0.77625389 -0.4405479 -0.7094400 -0.8553646 -1.1088896\n",
       " [4,] -2.3456977  0.06445882  0.4595894 -0.5012581 -0.2806230 -1.0149620\n",
       " [5,]  0.4291247  0.95949406 -0.6937202 -1.6290935 -0.9943401 -0.1623095\n",
       " [6,]  0.5060559 -0.11028549 -1.4482049 -1.1676193 -0.9685143  0.5630558\n",
       " [7,] -0.5747400 -0.51100951  0.5747557 -2.1800396 -1.1073182  1.6478175\n",
       " [8,] -0.5466319 -0.91119542 -1.0236557 -1.3409932 -1.2519859 -0.7733534\n",
       " [9,] -0.5644520 -0.83717168 -0.0151383 -0.2942939 -0.5238281  1.6059096\n",
       "[10,] -0.8900378  2.41583518 -0.9359486 -0.4658975 -0.4968500 -1.1578085\n",
       "      [,7]         [,8]         [,9]       [,10]     \n",
       " [1,]  0.656588464  0.006892838 -0.1777900  0.1370043\n",
       " [2,]  2.548991071 -0.455468738 -0.1699941  1.1280714\n",
       " [3,] -0.034760390 -0.366523933 -1.3723019 -4.8847139\n",
       " [4,] -0.669633580  0.648286568 -0.1737872  0.1055780\n",
       " [5,] -0.007604756  2.070270861  0.8502323  6.6836337\n",
       " [6,]  1.777084448 -0.153398412  0.6976087  3.5631138\n",
       " [7,] -1.138607737 -1.390700947  0.5499974 -2.2700176\n",
       " [8,]  1.367827179 -0.723581777 -0.4027320 -1.2875323\n",
       " [9,]  1.329564791  0.258261762 -0.1915938  1.2713070\n",
       "[10,]  0.336472797 -0.317059115 -1.1945279 -3.8812291"
      ]
     },
     "metadata": {},
     "output_type": "display_data"
    }
   ],
   "source": [
    "#last column is linear combination of 3 columns(7,8,9)\n",
    "x[,10]=2*x[,8]+3*x[,9]+x[,7]\n",
    "x\n"
   ]
  },
  {
   "cell_type": "code",
   "execution_count": 32,
   "id": "dc06266c",
   "metadata": {},
   "outputs": [
    {
     "ename": "ERROR",
     "evalue": "Error in solve.default(x): sistema es computacionalmente singular: número de condición recíproco = 3.57069e-18\n",
     "output_type": "error",
     "traceback": [
      "Error in solve.default(x): sistema es computacionalmente singular: número de condición recíproco = 3.57069e-18\nTraceback:\n",
      "1. solve(x)",
      "2. solve.default(x)"
     ]
    }
   ],
   "source": [
    "#inverse of the matrix \n",
    "inv=solve(x)\n",
    "inv\n",
    "# cannot be solved because the matrix is not invertible since the last column is a linear combination of three other columns."
   ]
  },
  {
   "cell_type": "markdown",
   "id": "24c0a9a0",
   "metadata": {},
   "source": [
    "When we generate numbers with a normal distribution we get float numbers which are a limited approximation of the real numbers because computers work in binary form and this limits our results.\n",
    "Unlike R, python has a higher tolerance for these numbers, so it can find the inverse. However, if we increase the tolerance(2.2204444604925031e-16) in R we can find the inverse."
   ]
  },
  {
   "cell_type": "code",
   "execution_count": 33,
   "id": "3120f364",
   "metadata": {},
   "outputs": [
    {
     "data": {
      "text/html": [
       "2.22044604925031e-16"
      ],
      "text/latex": [
       "2.22044604925031e-16"
      ],
      "text/markdown": [
       "2.22044604925031e-16"
      ],
      "text/plain": [
       "[1] 2.220446e-16"
      ]
     },
     "metadata": {},
     "output_type": "display_data"
    }
   ],
   "source": [
    "# R- Tolerance\n",
    ".Machine$double.eps"
   ]
  },
  {
   "cell_type": "code",
   "execution_count": 34,
   "id": "c43d5555",
   "metadata": {},
   "outputs": [
    {
     "data": {
      "text/html": [
       "<table>\n",
       "<tbody>\n",
       "\t<tr><td> 3.590360e-02</td><td> 1.420794e-01</td><td> 1.912919e-01</td><td> 1.115562e-01</td><td> 8.943809e-02</td><td> 6.531617e-02</td><td> 1.177503e-01</td><td>-5.862791e-01</td><td>-8.652441e-02</td><td>-1.550539e-02</td></tr>\n",
       "\t<tr><td> 4.443154e-03</td><td> 2.368476e-01</td><td> 2.690428e-02</td><td>-3.830680e-02</td><td>-7.024266e-02</td><td> 2.014029e-01</td><td> 1.404992e-01</td><td>-4.830453e-01</td><td>-7.574081e-02</td><td> 3.117884e-01</td></tr>\n",
       "\t<tr><td> 1.780019e-01</td><td> 7.083189e-01</td><td>-4.985173e-02</td><td> 2.501353e-03</td><td> 4.876749e-01</td><td>-7.902501e-01</td><td> 4.734235e-01</td><td>-8.097396e-01</td><td> 1.068011e-01</td><td> 1.116709e-01</td></tr>\n",
       "\t<tr><td>-6.783241e-01</td><td> 1.085319e-01</td><td> 4.341274e-01</td><td> 1.033905e+00</td><td>-7.597230e-01</td><td> 1.302382e+00</td><td>-4.612604e-01</td><td>-9.287647e-01</td><td>-4.069944e-01</td><td>-2.106453e-01</td></tr>\n",
       "\t<tr><td> 9.478959e-01</td><td>-4.052227e-01</td><td>-6.374845e-01</td><td>-2.167730e+00</td><td> 7.923372e-01</td><td>-1.740904e+00</td><td> 2.354119e-01</td><td> 1.620891e+00</td><td> 5.187241e-01</td><td> 1.952505e-01</td></tr>\n",
       "\t<tr><td>-6.442214e-02</td><td>-2.254775e-01</td><td>-2.576885e-01</td><td>-8.374878e-01</td><td> 1.449498e-01</td><td>-3.865328e-01</td><td>-1.006596e-01</td><td> 9.019099e-01</td><td> 4.026384e-01</td><td> 3.875394e-02</td></tr>\n",
       "\t<tr><td>-1.127364e+14</td><td>-2.150908e+14</td><td>-8.053324e+14</td><td>-9.216428e+14</td><td> 4.564802e+14</td><td>-1.385723e+15</td><td>-1.266905e+14</td><td> 1.586863e+15</td><td> 9.297328e+13</td><td> 1.405172e+13</td></tr>\n",
       "\t<tr><td>-2.254728e+14</td><td>-4.301815e+14</td><td>-1.610665e+15</td><td>-1.843286e+15</td><td> 9.129605e+14</td><td>-2.771446e+15</td><td>-2.533810e+14</td><td> 3.173726e+15</td><td> 1.859466e+14</td><td> 2.810343e+13</td></tr>\n",
       "\t<tr><td>-3.382093e+14</td><td>-6.452723e+14</td><td>-2.415997e+15</td><td>-2.764928e+15</td><td> 1.369441e+15</td><td>-4.157169e+15</td><td>-3.800716e+14</td><td> 4.760589e+15</td><td> 2.789198e+14</td><td> 4.215515e+13</td></tr>\n",
       "\t<tr><td> 1.127364e+14</td><td> 2.150908e+14</td><td> 8.053324e+14</td><td> 9.216428e+14</td><td>-4.564802e+14</td><td> 1.385723e+15</td><td> 1.266905e+14</td><td>-1.586863e+15</td><td>-9.297328e+13</td><td>-1.405172e+13</td></tr>\n",
       "</tbody>\n",
       "</table>\n"
      ],
      "text/latex": [
       "\\begin{tabular}{llllllllll}\n",
       "\t  3.590360e-02 &  1.420794e-01 &  1.912919e-01 &  1.115562e-01 &  8.943809e-02 &  6.531617e-02 &  1.177503e-01 & -5.862791e-01 & -8.652441e-02 & -1.550539e-02\\\\\n",
       "\t  4.443154e-03 &  2.368476e-01 &  2.690428e-02 & -3.830680e-02 & -7.024266e-02 &  2.014029e-01 &  1.404992e-01 & -4.830453e-01 & -7.574081e-02 &  3.117884e-01\\\\\n",
       "\t  1.780019e-01 &  7.083189e-01 & -4.985173e-02 &  2.501353e-03 &  4.876749e-01 & -7.902501e-01 &  4.734235e-01 & -8.097396e-01 &  1.068011e-01 &  1.116709e-01\\\\\n",
       "\t -6.783241e-01 &  1.085319e-01 &  4.341274e-01 &  1.033905e+00 & -7.597230e-01 &  1.302382e+00 & -4.612604e-01 & -9.287647e-01 & -4.069944e-01 & -2.106453e-01\\\\\n",
       "\t  9.478959e-01 & -4.052227e-01 & -6.374845e-01 & -2.167730e+00 &  7.923372e-01 & -1.740904e+00 &  2.354119e-01 &  1.620891e+00 &  5.187241e-01 &  1.952505e-01\\\\\n",
       "\t -6.442214e-02 & -2.254775e-01 & -2.576885e-01 & -8.374878e-01 &  1.449498e-01 & -3.865328e-01 & -1.006596e-01 &  9.019099e-01 &  4.026384e-01 &  3.875394e-02\\\\\n",
       "\t -1.127364e+14 & -2.150908e+14 & -8.053324e+14 & -9.216428e+14 &  4.564802e+14 & -1.385723e+15 & -1.266905e+14 &  1.586863e+15 &  9.297328e+13 &  1.405172e+13\\\\\n",
       "\t -2.254728e+14 & -4.301815e+14 & -1.610665e+15 & -1.843286e+15 &  9.129605e+14 & -2.771446e+15 & -2.533810e+14 &  3.173726e+15 &  1.859466e+14 &  2.810343e+13\\\\\n",
       "\t -3.382093e+14 & -6.452723e+14 & -2.415997e+15 & -2.764928e+15 &  1.369441e+15 & -4.157169e+15 & -3.800716e+14 &  4.760589e+15 &  2.789198e+14 &  4.215515e+13\\\\\n",
       "\t  1.127364e+14 &  2.150908e+14 &  8.053324e+14 &  9.216428e+14 & -4.564802e+14 &  1.385723e+15 &  1.266905e+14 & -1.586863e+15 & -9.297328e+13 & -1.405172e+13\\\\\n",
       "\\end{tabular}\n"
      ],
      "text/markdown": [
       "\n",
       "|  3.590360e-02 |  1.420794e-01 |  1.912919e-01 |  1.115562e-01 |  8.943809e-02 |  6.531617e-02 |  1.177503e-01 | -5.862791e-01 | -8.652441e-02 | -1.550539e-02 |\n",
       "|  4.443154e-03 |  2.368476e-01 |  2.690428e-02 | -3.830680e-02 | -7.024266e-02 |  2.014029e-01 |  1.404992e-01 | -4.830453e-01 | -7.574081e-02 |  3.117884e-01 |\n",
       "|  1.780019e-01 |  7.083189e-01 | -4.985173e-02 |  2.501353e-03 |  4.876749e-01 | -7.902501e-01 |  4.734235e-01 | -8.097396e-01 |  1.068011e-01 |  1.116709e-01 |\n",
       "| -6.783241e-01 |  1.085319e-01 |  4.341274e-01 |  1.033905e+00 | -7.597230e-01 |  1.302382e+00 | -4.612604e-01 | -9.287647e-01 | -4.069944e-01 | -2.106453e-01 |\n",
       "|  9.478959e-01 | -4.052227e-01 | -6.374845e-01 | -2.167730e+00 |  7.923372e-01 | -1.740904e+00 |  2.354119e-01 |  1.620891e+00 |  5.187241e-01 |  1.952505e-01 |\n",
       "| -6.442214e-02 | -2.254775e-01 | -2.576885e-01 | -8.374878e-01 |  1.449498e-01 | -3.865328e-01 | -1.006596e-01 |  9.019099e-01 |  4.026384e-01 |  3.875394e-02 |\n",
       "| -1.127364e+14 | -2.150908e+14 | -8.053324e+14 | -9.216428e+14 |  4.564802e+14 | -1.385723e+15 | -1.266905e+14 |  1.586863e+15 |  9.297328e+13 |  1.405172e+13 |\n",
       "| -2.254728e+14 | -4.301815e+14 | -1.610665e+15 | -1.843286e+15 |  9.129605e+14 | -2.771446e+15 | -2.533810e+14 |  3.173726e+15 |  1.859466e+14 |  2.810343e+13 |\n",
       "| -3.382093e+14 | -6.452723e+14 | -2.415997e+15 | -2.764928e+15 |  1.369441e+15 | -4.157169e+15 | -3.800716e+14 |  4.760589e+15 |  2.789198e+14 |  4.215515e+13 |\n",
       "|  1.127364e+14 |  2.150908e+14 |  8.053324e+14 |  9.216428e+14 | -4.564802e+14 |  1.385723e+15 |  1.266905e+14 | -1.586863e+15 | -9.297328e+13 | -1.405172e+13 |\n",
       "\n"
      ],
      "text/plain": [
       "      [,1]          [,2]          [,3]          [,4]          [,5]         \n",
       " [1,]  3.590360e-02  1.420794e-01  1.912919e-01  1.115562e-01  8.943809e-02\n",
       " [2,]  4.443154e-03  2.368476e-01  2.690428e-02 -3.830680e-02 -7.024266e-02\n",
       " [3,]  1.780019e-01  7.083189e-01 -4.985173e-02  2.501353e-03  4.876749e-01\n",
       " [4,] -6.783241e-01  1.085319e-01  4.341274e-01  1.033905e+00 -7.597230e-01\n",
       " [5,]  9.478959e-01 -4.052227e-01 -6.374845e-01 -2.167730e+00  7.923372e-01\n",
       " [6,] -6.442214e-02 -2.254775e-01 -2.576885e-01 -8.374878e-01  1.449498e-01\n",
       " [7,] -1.127364e+14 -2.150908e+14 -8.053324e+14 -9.216428e+14  4.564802e+14\n",
       " [8,] -2.254728e+14 -4.301815e+14 -1.610665e+15 -1.843286e+15  9.129605e+14\n",
       " [9,] -3.382093e+14 -6.452723e+14 -2.415997e+15 -2.764928e+15  1.369441e+15\n",
       "[10,]  1.127364e+14  2.150908e+14  8.053324e+14  9.216428e+14 -4.564802e+14\n",
       "      [,6]          [,7]          [,8]          [,9]          [,10]        \n",
       " [1,]  6.531617e-02  1.177503e-01 -5.862791e-01 -8.652441e-02 -1.550539e-02\n",
       " [2,]  2.014029e-01  1.404992e-01 -4.830453e-01 -7.574081e-02  3.117884e-01\n",
       " [3,] -7.902501e-01  4.734235e-01 -8.097396e-01  1.068011e-01  1.116709e-01\n",
       " [4,]  1.302382e+00 -4.612604e-01 -9.287647e-01 -4.069944e-01 -2.106453e-01\n",
       " [5,] -1.740904e+00  2.354119e-01  1.620891e+00  5.187241e-01  1.952505e-01\n",
       " [6,] -3.865328e-01 -1.006596e-01  9.019099e-01  4.026384e-01  3.875394e-02\n",
       " [7,] -1.385723e+15 -1.266905e+14  1.586863e+15  9.297328e+13  1.405172e+13\n",
       " [8,] -2.771446e+15 -2.533810e+14  3.173726e+15  1.859466e+14  2.810343e+13\n",
       " [9,] -4.157169e+15 -3.800716e+14  4.760589e+15  2.789198e+14  4.215515e+13\n",
       "[10,]  1.385723e+15  1.266905e+14 -1.586863e+15 -9.297328e+13 -1.405172e+13"
      ]
     },
     "metadata": {},
     "output_type": "display_data"
    }
   ],
   "source": [
    "# increasing the tolerance in R to be able to find the inverse\n",
    "inv_xx=solve(x,tol=3.57069e-20)\n",
    "inv_xx"
   ]
  },
  {
   "cell_type": "code",
   "execution_count": 35,
   "id": "48d81d0d",
   "metadata": {},
   "outputs": [],
   "source": [
    "library(ggplot2)\n",
    "library(lmtest)\n",
    "library(sandwich)\n",
    "library(xtable)\n",
    "library(hdm)\n",
    "library(base)"
   ]
  },
  {
   "cell_type": "markdown",
   "id": "c7ced5cb",
   "metadata": {},
   "source": [
    "# 2. Analyzing RCT data with Precision Adjustment"
   ]
  },
  {
   "cell_type": "markdown",
   "id": "8d6f2944",
   "metadata": {},
   "source": [
    "## Data\n",
    "\n",
    "In this lab, we analyze the Pennsylvania re-employment bonus experiment, which was previously studied in \"Sequential testing of duration data: the case of the Pennsylvania ‘reemployment bonus’ experiment\" (Bilias, 2000), among others. These experiments were conducted in the 1980s by the U.S. Department of Labor to test the incentive effects of alternative compensation schemes for unemployment insurance (UI). In these experiments, UI claimants were randomly assigned either to a control group or one of five treatment groups. Actually, there are six treatment groups in the experiments. Here we focus on treatment group 2. In the control group the current rules of the UI applied. Individuals in the treatment groups were offered a cash bonus if they found a job within some pre-specified period of time (qualification period), provided that the job was retained for a specified duration. The treatments differed in the level of the bonus, the length of the qualification period, and whether the bonus was declining over time in the qualification period; see http://qed.econ.queensu.ca/jae/2000-v15.6/bilias/readme.b.txt for further details on data."
   ]
  },
  {
   "cell_type": "code",
   "execution_count": 36,
   "id": "57d4de10",
   "metadata": {},
   "outputs": [],
   "source": [
    "Penn <- as.data.frame(read.table(\"../data/penn_jae.dat\", header=T ))"
   ]
  },
  {
   "cell_type": "code",
   "execution_count": 37,
   "id": "c8d71f58",
   "metadata": {},
   "outputs": [],
   "source": [
    "#Numero de observaciones\n",
    "n <- dim(Penn)[1]\n",
    "#Numero de variables\n",
    "p <- dim(Penn)[2]"
   ]
  },
  {
   "cell_type": "code",
   "execution_count": 38,
   "id": "5fdda6c0",
   "metadata": {},
   "outputs": [
    {
     "data": {
      "text/html": [
       "<ol class=list-inline>\n",
       "\t<li>5782</li>\n",
       "\t<li>23</li>\n",
       "</ol>\n"
      ],
      "text/latex": [
       "\\begin{enumerate*}\n",
       "\\item 5782\n",
       "\\item 23\n",
       "\\end{enumerate*}\n"
      ],
      "text/markdown": [
       "1. 5782\n",
       "2. 23\n",
       "\n",
       "\n"
      ],
      "text/plain": [
       "[1] 5782   23"
      ]
     },
     "metadata": {},
     "output_type": "display_data"
    },
    {
     "data": {
      "text/html": [
       "<table>\n",
       "<thead><tr><th></th><th scope=col>abdt</th><th scope=col>tg</th><th scope=col>inuidur1</th><th scope=col>inuidur2</th><th scope=col>female</th><th scope=col>black</th><th scope=col>hispanic</th><th scope=col>othrace</th><th scope=col>dep</th><th scope=col>q1</th><th scope=col>...</th><th scope=col>q5</th><th scope=col>q6</th><th scope=col>recall</th><th scope=col>agelt35</th><th scope=col>agegt54</th><th scope=col>durable</th><th scope=col>nondurable</th><th scope=col>lusd</th><th scope=col>husd</th><th scope=col>muld</th></tr></thead>\n",
       "<tbody>\n",
       "\t<tr><th scope=row>1</th><td>10824</td><td>0    </td><td>18   </td><td>18   </td><td>0    </td><td>0    </td><td>0    </td><td>0    </td><td>2    </td><td>0    </td><td>...  </td><td>1    </td><td>0    </td><td>0    </td><td>0    </td><td>0    </td><td>0    </td><td>0    </td><td>0    </td><td>1    </td><td>0    </td></tr>\n",
       "\t<tr><th scope=row>2</th><td>10635</td><td>2    </td><td> 7   </td><td> 3   </td><td>0    </td><td>0    </td><td>0    </td><td>0    </td><td>0    </td><td>0    </td><td>...  </td><td>0    </td><td>0    </td><td>0    </td><td>1    </td><td>0    </td><td>0    </td><td>0    </td><td>1    </td><td>0    </td><td>0    </td></tr>\n",
       "\t<tr><th scope=row>4</th><td>10824</td><td>0    </td><td> 1   </td><td> 1   </td><td>0    </td><td>0    </td><td>0    </td><td>0    </td><td>0    </td><td>0    </td><td>...  </td><td>1    </td><td>0    </td><td>0    </td><td>0    </td><td>0    </td><td>0    </td><td>0    </td><td>1    </td><td>0    </td><td>0    </td></tr>\n",
       "\t<tr><th scope=row>5</th><td>10747</td><td>0    </td><td>27   </td><td>27   </td><td>0    </td><td>0    </td><td>0    </td><td>0    </td><td>0    </td><td>0    </td><td>...  </td><td>0    </td><td>0    </td><td>0    </td><td>0    </td><td>0    </td><td>0    </td><td>0    </td><td>1    </td><td>0    </td><td>0    </td></tr>\n",
       "\t<tr><th scope=row>10</th><td>10754</td><td>2    </td><td>20   </td><td>20   </td><td>1    </td><td>0    </td><td>0    </td><td>0    </td><td>0    </td><td>0    </td><td>...  </td><td>0    </td><td>0    </td><td>0    </td><td>0    </td><td>0    </td><td>0    </td><td>0    </td><td>0    </td><td>0    </td><td>1    </td></tr>\n",
       "\t<tr><th scope=row>13</th><td>10831</td><td>0    </td><td>27   </td><td>27   </td><td>0    </td><td>0    </td><td>0    </td><td>0    </td><td>1    </td><td>0    </td><td>...  </td><td>1    </td><td>0    </td><td>0    </td><td>0    </td><td>1    </td><td>1    </td><td>0    </td><td>1    </td><td>0    </td><td>0    </td></tr>\n",
       "\t<tr><th scope=row>14</th><td>10845</td><td>0    </td><td>27   </td><td>27   </td><td>1    </td><td>0    </td><td>0    </td><td>0    </td><td>0    </td><td>0    </td><td>...  </td><td>1    </td><td>0    </td><td>0    </td><td>0    </td><td>1    </td><td>0    </td><td>0    </td><td>1    </td><td>0    </td><td>0    </td></tr>\n",
       "\t<tr><th scope=row>15</th><td>10831</td><td>0    </td><td> 9   </td><td> 9   </td><td>1    </td><td>0    </td><td>0    </td><td>0    </td><td>1    </td><td>0    </td><td>...  </td><td>1    </td><td>0    </td><td>0    </td><td>0    </td><td>1    </td><td>0    </td><td>0    </td><td>1    </td><td>0    </td><td>0    </td></tr>\n",
       "\t<tr><th scope=row>17</th><td>10859</td><td>0    </td><td>27   </td><td>27   </td><td>1    </td><td>0    </td><td>0    </td><td>0    </td><td>1    </td><td>0    </td><td>...  </td><td>0    </td><td>1    </td><td>0    </td><td>0    </td><td>0    </td><td>0    </td><td>0    </td><td>1    </td><td>0    </td><td>0    </td></tr>\n",
       "\t<tr><th scope=row>22</th><td>10628</td><td>2    </td><td>27   </td><td>27   </td><td>0    </td><td>0    </td><td>0    </td><td>0    </td><td>0    </td><td>0    </td><td>...  </td><td>0    </td><td>0    </td><td>0    </td><td>0    </td><td>0    </td><td>0    </td><td>0    </td><td>0    </td><td>0    </td><td>1    </td></tr>\n",
       "\t<tr><th scope=row>23</th><td>10516</td><td>0    </td><td>15   </td><td>15   </td><td>1    </td><td>0    </td><td>0    </td><td>0    </td><td>0    </td><td>0    </td><td>...  </td><td>0    </td><td>0    </td><td>0    </td><td>0    </td><td>0    </td><td>0    </td><td>0    </td><td>1    </td><td>0    </td><td>0    </td></tr>\n",
       "\t<tr><th scope=row>24</th><td>10803</td><td>2    </td><td> 3   </td><td> 3   </td><td>1    </td><td>0    </td><td>0    </td><td>0    </td><td>0    </td><td>0    </td><td>...  </td><td>1    </td><td>0    </td><td>0    </td><td>0    </td><td>0    </td><td>0    </td><td>0    </td><td>0    </td><td>1    </td><td>0    </td></tr>\n",
       "\t<tr><th scope=row>25</th><td>10663</td><td>0    </td><td>28   </td><td>11   </td><td>1    </td><td>0    </td><td>0    </td><td>0    </td><td>0    </td><td>0    </td><td>...  </td><td>0    </td><td>0    </td><td>0    </td><td>0    </td><td>1    </td><td>0    </td><td>0    </td><td>1    </td><td>0    </td><td>0    </td></tr>\n",
       "\t<tr><th scope=row>26</th><td>10747</td><td>0    </td><td>12   </td><td>12   </td><td>1    </td><td>0    </td><td>0    </td><td>0    </td><td>2    </td><td>0    </td><td>...  </td><td>0    </td><td>0    </td><td>1    </td><td>1    </td><td>0    </td><td>0    </td><td>0    </td><td>0    </td><td>0    </td><td>1    </td></tr>\n",
       "\t<tr><th scope=row>28</th><td>10635</td><td>2    </td><td>17   </td><td>10   </td><td>1    </td><td>0    </td><td>0    </td><td>0    </td><td>0    </td><td>0    </td><td>...  </td><td>0    </td><td>0    </td><td>0    </td><td>0    </td><td>0    </td><td>0    </td><td>0    </td><td>1    </td><td>0    </td><td>0    </td></tr>\n",
       "\t<tr><th scope=row>29</th><td>10761</td><td>2    </td><td>13   </td><td>13   </td><td>0    </td><td>0    </td><td>0    </td><td>0    </td><td>0    </td><td>0    </td><td>...  </td><td>0    </td><td>0    </td><td>0    </td><td>1    </td><td>0    </td><td>0    </td><td>0    </td><td>0    </td><td>0    </td><td>1    </td></tr>\n",
       "\t<tr><th scope=row>32</th><td>10768</td><td>0    </td><td>18   </td><td>18   </td><td>1    </td><td>0    </td><td>0    </td><td>0    </td><td>0    </td><td>0    </td><td>...  </td><td>1    </td><td>0    </td><td>0    </td><td>0    </td><td>1    </td><td>0    </td><td>0    </td><td>0    </td><td>0    </td><td>1    </td></tr>\n",
       "\t<tr><th scope=row>33</th><td>10537</td><td>0    </td><td> 1   </td><td> 1   </td><td>1    </td><td>0    </td><td>0    </td><td>0    </td><td>2    </td><td>0    </td><td>...  </td><td>0    </td><td>0    </td><td>0    </td><td>0    </td><td>0    </td><td>0    </td><td>0    </td><td>0    </td><td>0    </td><td>1    </td></tr>\n",
       "\t<tr><th scope=row>36</th><td>10789</td><td>2    </td><td>34   </td><td> 7   </td><td>0    </td><td>0    </td><td>0    </td><td>0    </td><td>2    </td><td>0    </td><td>...  </td><td>1    </td><td>0    </td><td>0    </td><td>0    </td><td>0    </td><td>0    </td><td>1    </td><td>0    </td><td>1    </td><td>0    </td></tr>\n",
       "\t<tr><th scope=row>38</th><td>10775</td><td>2    </td><td>11   </td><td>11   </td><td>0    </td><td>0    </td><td>0    </td><td>0    </td><td>0    </td><td>0    </td><td>...  </td><td>1    </td><td>0    </td><td>0    </td><td>0    </td><td>0    </td><td>0    </td><td>0    </td><td>0    </td><td>0    </td><td>1    </td></tr>\n",
       "\t<tr><th scope=row>43</th><td>10866</td><td>0    </td><td>18   </td><td>18   </td><td>0    </td><td>0    </td><td>0    </td><td>0    </td><td>0    </td><td>0    </td><td>...  </td><td>0    </td><td>1    </td><td>0    </td><td>0    </td><td>0    </td><td>1    </td><td>0    </td><td>1    </td><td>0    </td><td>0    </td></tr>\n",
       "\t<tr><th scope=row>44</th><td>10558</td><td>2    </td><td> 1   </td><td> 1   </td><td>1    </td><td>0    </td><td>0    </td><td>0    </td><td>1    </td><td>0    </td><td>...  </td><td>0    </td><td>0    </td><td>0    </td><td>0    </td><td>0    </td><td>0    </td><td>1    </td><td>0    </td><td>0    </td><td>1    </td></tr>\n",
       "\t<tr><th scope=row>45</th><td>10747</td><td>2    </td><td>29   </td><td>29   </td><td>0    </td><td>0    </td><td>0    </td><td>0    </td><td>0    </td><td>0    </td><td>...  </td><td>0    </td><td>0    </td><td>0    </td><td>0    </td><td>1    </td><td>0    </td><td>0    </td><td>1    </td><td>0    </td><td>0    </td></tr>\n",
       "\t<tr><th scope=row>46</th><td>10642</td><td>2    </td><td> 5   </td><td> 5   </td><td>0    </td><td>0    </td><td>0    </td><td>0    </td><td>0    </td><td>0    </td><td>...  </td><td>0    </td><td>0    </td><td>0    </td><td>0    </td><td>0    </td><td>0    </td><td>0    </td><td>0    </td><td>0    </td><td>1    </td></tr>\n",
       "\t<tr><th scope=row>48</th><td>10614</td><td>2    </td><td> 4   </td><td> 4   </td><td>0    </td><td>0    </td><td>0    </td><td>0    </td><td>1    </td><td>0    </td><td>...  </td><td>0    </td><td>0    </td><td>0    </td><td>0    </td><td>0    </td><td>0    </td><td>0    </td><td>0    </td><td>0    </td><td>1    </td></tr>\n",
       "\t<tr><th scope=row>49</th><td>10572</td><td>0    </td><td>14   </td><td>14   </td><td>0    </td><td>0    </td><td>0    </td><td>0    </td><td>2    </td><td>0    </td><td>...  </td><td>0    </td><td>0    </td><td>0    </td><td>0    </td><td>0    </td><td>0    </td><td>0    </td><td>1    </td><td>0    </td><td>0    </td></tr>\n",
       "\t<tr><th scope=row>50</th><td>10663</td><td>0    </td><td> 5   </td><td> 5   </td><td>0    </td><td>0    </td><td>0    </td><td>0    </td><td>0    </td><td>0    </td><td>...  </td><td>0    </td><td>0    </td><td>0    </td><td>0    </td><td>1    </td><td>0    </td><td>0    </td><td>1    </td><td>0    </td><td>0    </td></tr>\n",
       "\t<tr><th scope=row>52</th><td>10656</td><td>2    </td><td> 4   </td><td> 4   </td><td>0    </td><td>0    </td><td>0    </td><td>0    </td><td>0    </td><td>0    </td><td>...  </td><td>0    </td><td>0    </td><td>0    </td><td>0    </td><td>0    </td><td>1    </td><td>0    </td><td>1    </td><td>0    </td><td>0    </td></tr>\n",
       "\t<tr><th scope=row>53</th><td>10866</td><td>2    </td><td>27   </td><td>27   </td><td>1    </td><td>0    </td><td>0    </td><td>0    </td><td>0    </td><td>0    </td><td>...  </td><td>0    </td><td>1    </td><td>0    </td><td>1    </td><td>0    </td><td>0    </td><td>0    </td><td>1    </td><td>0    </td><td>0    </td></tr>\n",
       "\t<tr><th scope=row>55</th><td>10614</td><td>2    </td><td> 3   </td><td> 3   </td><td>0    </td><td>0    </td><td>0    </td><td>0    </td><td>2    </td><td>0    </td><td>...  </td><td>0    </td><td>0    </td><td>0    </td><td>0    </td><td>0    </td><td>0    </td><td>0    </td><td>1    </td><td>0    </td><td>0    </td></tr>\n",
       "\t<tr><th scope=row>...</th><td>...</td><td>...</td><td>...</td><td>...</td><td>...</td><td>...</td><td>...</td><td>...</td><td>...</td><td>...</td><td>   </td><td>...</td><td>...</td><td>...</td><td>...</td><td>...</td><td>...</td><td>...</td><td>...</td><td>...</td><td>...</td></tr>\n",
       "\t<tr><th scope=row>13841</th><td>10530</td><td>2    </td><td> 3   </td><td> 3   </td><td>1    </td><td>0    </td><td>1    </td><td>0    </td><td>0    </td><td>0    </td><td>...  </td><td>0    </td><td>0    </td><td>0    </td><td>0    </td><td>0    </td><td>0    </td><td>1    </td><td>0    </td><td>0    </td><td>1    </td></tr>\n",
       "\t<tr><th scope=row>13844</th><td>10628</td><td>2    </td><td> 2   </td><td> 2   </td><td>0    </td><td>0    </td><td>1    </td><td>0    </td><td>0    </td><td>0    </td><td>...  </td><td>0    </td><td>0    </td><td>0    </td><td>1    </td><td>0    </td><td>0    </td><td>0    </td><td>0    </td><td>0    </td><td>1    </td></tr>\n",
       "\t<tr><th scope=row>13845</th><td>10796</td><td>0    </td><td> 1   </td><td> 1   </td><td>1    </td><td>0    </td><td>1    </td><td>0    </td><td>1    </td><td>0    </td><td>...  </td><td>1    </td><td>0    </td><td>0    </td><td>0    </td><td>0    </td><td>0    </td><td>1    </td><td>1    </td><td>0    </td><td>0    </td></tr>\n",
       "\t<tr><th scope=row>13846</th><td>10782</td><td>0    </td><td> 1   </td><td> 1   </td><td>0    </td><td>0    </td><td>1    </td><td>0    </td><td>1    </td><td>0    </td><td>...  </td><td>1    </td><td>0    </td><td>0    </td><td>1    </td><td>0    </td><td>0    </td><td>0    </td><td>1    </td><td>0    </td><td>0    </td></tr>\n",
       "\t<tr><th scope=row>13850</th><td>10831</td><td>2    </td><td> 8   </td><td> 8   </td><td>0    </td><td>0    </td><td>1    </td><td>0    </td><td>0    </td><td>0    </td><td>...  </td><td>1    </td><td>0    </td><td>0    </td><td>1    </td><td>0    </td><td>0    </td><td>0    </td><td>1    </td><td>0    </td><td>0    </td></tr>\n",
       "\t<tr><th scope=row>13852</th><td>10691</td><td>2    </td><td> 1   </td><td> 1   </td><td>0    </td><td>0    </td><td>1    </td><td>0    </td><td>0    </td><td>0    </td><td>...  </td><td>0    </td><td>0    </td><td>0    </td><td>1    </td><td>0    </td><td>1    </td><td>0    </td><td>0    </td><td>0    </td><td>1    </td></tr>\n",
       "\t<tr><th scope=row>13854</th><td>10544</td><td>0    </td><td>13   </td><td>13   </td><td>0    </td><td>0    </td><td>1    </td><td>0    </td><td>0    </td><td>0    </td><td>...  </td><td>0    </td><td>0    </td><td>0    </td><td>0    </td><td>0    </td><td>0    </td><td>0    </td><td>0    </td><td>0    </td><td>1    </td></tr>\n",
       "\t<tr><th scope=row>13858</th><td>10775</td><td>2    </td><td> 1   </td><td> 1   </td><td>0    </td><td>0    </td><td>1    </td><td>0    </td><td>2    </td><td>0    </td><td>...  </td><td>1    </td><td>0    </td><td>0    </td><td>0    </td><td>0    </td><td>0    </td><td>0    </td><td>1    </td><td>0    </td><td>0    </td></tr>\n",
       "\t<tr><th scope=row>13859</th><td>10796</td><td>2    </td><td> 1   </td><td> 1   </td><td>1    </td><td>0    </td><td>1    </td><td>0    </td><td>0    </td><td>0    </td><td>...  </td><td>1    </td><td>0    </td><td>0    </td><td>1    </td><td>0    </td><td>0    </td><td>1    </td><td>0    </td><td>0    </td><td>1    </td></tr>\n",
       "\t<tr><th scope=row>13863</th><td>10859</td><td>2    </td><td> 1   </td><td> 1   </td><td>0    </td><td>0    </td><td>1    </td><td>0    </td><td>0    </td><td>0    </td><td>...  </td><td>0    </td><td>1    </td><td>0    </td><td>0    </td><td>0    </td><td>1    </td><td>0    </td><td>0    </td><td>0    </td><td>1    </td></tr>\n",
       "\t<tr><th scope=row>13864</th><td>10628</td><td>0    </td><td>10   </td><td>10   </td><td>0    </td><td>0    </td><td>1    </td><td>0    </td><td>0    </td><td>0    </td><td>...  </td><td>0    </td><td>0    </td><td>0    </td><td>0    </td><td>0    </td><td>1    </td><td>0    </td><td>0    </td><td>0    </td><td>1    </td></tr>\n",
       "\t<tr><th scope=row>13867</th><td>10817</td><td>2    </td><td>27   </td><td>27   </td><td>0    </td><td>0    </td><td>1    </td><td>0    </td><td>1    </td><td>0    </td><td>...  </td><td>1    </td><td>0    </td><td>0    </td><td>0    </td><td>0    </td><td>1    </td><td>0    </td><td>0    </td><td>0    </td><td>1    </td></tr>\n",
       "\t<tr><th scope=row>13870</th><td>10586</td><td>2    </td><td>12   </td><td>12   </td><td>0    </td><td>0    </td><td>1    </td><td>0    </td><td>0    </td><td>0    </td><td>...  </td><td>0    </td><td>0    </td><td>0    </td><td>1    </td><td>0    </td><td>0    </td><td>0    </td><td>0    </td><td>0    </td><td>1    </td></tr>\n",
       "\t<tr><th scope=row>13875</th><td>10712</td><td>0    </td><td>22   </td><td>22   </td><td>0    </td><td>0    </td><td>1    </td><td>0    </td><td>2    </td><td>0    </td><td>...  </td><td>0    </td><td>0    </td><td>0    </td><td>1    </td><td>0    </td><td>0    </td><td>1    </td><td>0    </td><td>0    </td><td>1    </td></tr>\n",
       "\t<tr><th scope=row>13876</th><td>10768</td><td>0    </td><td>27   </td><td>27   </td><td>0    </td><td>0    </td><td>1    </td><td>0    </td><td>0    </td><td>0    </td><td>...  </td><td>1    </td><td>0    </td><td>0    </td><td>1    </td><td>0    </td><td>1    </td><td>0    </td><td>0    </td><td>0    </td><td>1    </td></tr>\n",
       "\t<tr><th scope=row>13877</th><td>10817</td><td>0    </td><td>16   </td><td>16   </td><td>1    </td><td>0    </td><td>1    </td><td>0    </td><td>0    </td><td>0    </td><td>...  </td><td>1    </td><td>0    </td><td>0    </td><td>0    </td><td>0    </td><td>0    </td><td>0    </td><td>0    </td><td>0    </td><td>1    </td></tr>\n",
       "\t<tr><th scope=row>13879</th><td>10579</td><td>2    </td><td> 3   </td><td> 3   </td><td>0    </td><td>0    </td><td>1    </td><td>0    </td><td>0    </td><td>0    </td><td>...  </td><td>0    </td><td>0    </td><td>0    </td><td>1    </td><td>0    </td><td>1    </td><td>0    </td><td>0    </td><td>0    </td><td>1    </td></tr>\n",
       "\t<tr><th scope=row>13882</th><td>10817</td><td>2    </td><td> 7   </td><td> 7   </td><td>0    </td><td>0    </td><td>1    </td><td>0    </td><td>0    </td><td>0    </td><td>...  </td><td>1    </td><td>0    </td><td>0    </td><td>1    </td><td>0    </td><td>0    </td><td>0    </td><td>1    </td><td>0    </td><td>0    </td></tr>\n",
       "\t<tr><th scope=row>13888</th><td>10642</td><td>0    </td><td>10   </td><td>10   </td><td>0    </td><td>0    </td><td>0    </td><td>0    </td><td>0    </td><td>0    </td><td>...  </td><td>0    </td><td>0    </td><td>0    </td><td>1    </td><td>0    </td><td>1    </td><td>0    </td><td>1    </td><td>0    </td><td>0    </td></tr>\n",
       "\t<tr><th scope=row>13891</th><td>10670</td><td>0    </td><td>20   </td><td>20   </td><td>0    </td><td>0    </td><td>0    </td><td>0    </td><td>0    </td><td>0    </td><td>...  </td><td>0    </td><td>0    </td><td>0    </td><td>1    </td><td>0    </td><td>1    </td><td>0    </td><td>0    </td><td>1    </td><td>0    </td></tr>\n",
       "\t<tr><th scope=row>13892</th><td>10530</td><td>0    </td><td>27   </td><td>27   </td><td>1    </td><td>0    </td><td>0    </td><td>1    </td><td>0    </td><td>0    </td><td>...  </td><td>0    </td><td>0    </td><td>0    </td><td>1    </td><td>0    </td><td>0    </td><td>0    </td><td>0    </td><td>0    </td><td>1    </td></tr>\n",
       "\t<tr><th scope=row>13893</th><td>10691</td><td>0    </td><td>27   </td><td>27   </td><td>1    </td><td>0    </td><td>0    </td><td>1    </td><td>0    </td><td>0    </td><td>...  </td><td>0    </td><td>0    </td><td>0    </td><td>0    </td><td>0    </td><td>1    </td><td>0    </td><td>1    </td><td>0    </td><td>0    </td></tr>\n",
       "\t<tr><th scope=row>13894</th><td>10796</td><td>0    </td><td>15   </td><td>15   </td><td>1    </td><td>0    </td><td>0    </td><td>1    </td><td>0    </td><td>0    </td><td>...  </td><td>1    </td><td>0    </td><td>0    </td><td>1    </td><td>0    </td><td>1    </td><td>0    </td><td>1    </td><td>0    </td><td>0    </td></tr>\n",
       "\t<tr><th scope=row>13896</th><td>10859</td><td>0    </td><td> 1   </td><td> 1   </td><td>1    </td><td>0    </td><td>0    </td><td>1    </td><td>0    </td><td>0    </td><td>...  </td><td>0    </td><td>1    </td><td>0    </td><td>1    </td><td>0    </td><td>0    </td><td>0    </td><td>1    </td><td>0    </td><td>0    </td></tr>\n",
       "\t<tr><th scope=row>13899</th><td>10796</td><td>0    </td><td>23   </td><td>23   </td><td>0    </td><td>1    </td><td>0    </td><td>0    </td><td>0    </td><td>0    </td><td>...  </td><td>1    </td><td>0    </td><td>0    </td><td>0    </td><td>0    </td><td>0    </td><td>0    </td><td>0    </td><td>0    </td><td>1    </td></tr>\n",
       "\t<tr><th scope=row>13901</th><td>10845</td><td>0    </td><td> 6   </td><td> 6   </td><td>1    </td><td>0    </td><td>0    </td><td>1    </td><td>2    </td><td>0    </td><td>...  </td><td>1    </td><td>0    </td><td>0    </td><td>0    </td><td>0    </td><td>0    </td><td>1    </td><td>0    </td><td>0    </td><td>1    </td></tr>\n",
       "\t<tr><th scope=row>13902</th><td>10705</td><td>2    </td><td>14   </td><td>14   </td><td>0    </td><td>1    </td><td>0    </td><td>0    </td><td>0    </td><td>0    </td><td>...  </td><td>0    </td><td>0    </td><td>0    </td><td>0    </td><td>0    </td><td>1    </td><td>0    </td><td>0    </td><td>0    </td><td>1    </td></tr>\n",
       "\t<tr><th scope=row>13907</th><td>10558</td><td>0    </td><td> 9   </td><td> 9   </td><td>0    </td><td>0    </td><td>0    </td><td>0    </td><td>2    </td><td>0    </td><td>...  </td><td>0    </td><td>0    </td><td>0    </td><td>1    </td><td>0    </td><td>0    </td><td>0    </td><td>1    </td><td>0    </td><td>0    </td></tr>\n",
       "\t<tr><th scope=row>13910</th><td>10677</td><td>2    </td><td> 4   </td><td> 4   </td><td>1    </td><td>0    </td><td>0    </td><td>0    </td><td>0    </td><td>0    </td><td>...  </td><td>0    </td><td>0    </td><td>0    </td><td>0    </td><td>1    </td><td>0    </td><td>0    </td><td>1    </td><td>0    </td><td>0    </td></tr>\n",
       "\t<tr><th scope=row>13912</th><td>10691</td><td>0    </td><td>27   </td><td>27   </td><td>0    </td><td>0    </td><td>0    </td><td>0    </td><td>0    </td><td>0    </td><td>...  </td><td>0    </td><td>0    </td><td>0    </td><td>0    </td><td>1    </td><td>1    </td><td>0    </td><td>1    </td><td>0    </td><td>0    </td></tr>\n",
       "</tbody>\n",
       "</table>\n"
      ],
      "text/latex": [
       "\\begin{tabular}{r|lllllllllllllllllllllll}\n",
       "  & abdt & tg & inuidur1 & inuidur2 & female & black & hispanic & othrace & dep & q1 & ... & q5 & q6 & recall & agelt35 & agegt54 & durable & nondurable & lusd & husd & muld\\\\\n",
       "\\hline\n",
       "\t1 & 10824 & 0     & 18    & 18    & 0     & 0     & 0     & 0     & 2     & 0     & ...   & 1     & 0     & 0     & 0     & 0     & 0     & 0     & 0     & 1     & 0    \\\\\n",
       "\t2 & 10635 & 2     &  7    &  3    & 0     & 0     & 0     & 0     & 0     & 0     & ...   & 0     & 0     & 0     & 1     & 0     & 0     & 0     & 1     & 0     & 0    \\\\\n",
       "\t4 & 10824 & 0     &  1    &  1    & 0     & 0     & 0     & 0     & 0     & 0     & ...   & 1     & 0     & 0     & 0     & 0     & 0     & 0     & 1     & 0     & 0    \\\\\n",
       "\t5 & 10747 & 0     & 27    & 27    & 0     & 0     & 0     & 0     & 0     & 0     & ...   & 0     & 0     & 0     & 0     & 0     & 0     & 0     & 1     & 0     & 0    \\\\\n",
       "\t10 & 10754 & 2     & 20    & 20    & 1     & 0     & 0     & 0     & 0     & 0     & ...   & 0     & 0     & 0     & 0     & 0     & 0     & 0     & 0     & 0     & 1    \\\\\n",
       "\t13 & 10831 & 0     & 27    & 27    & 0     & 0     & 0     & 0     & 1     & 0     & ...   & 1     & 0     & 0     & 0     & 1     & 1     & 0     & 1     & 0     & 0    \\\\\n",
       "\t14 & 10845 & 0     & 27    & 27    & 1     & 0     & 0     & 0     & 0     & 0     & ...   & 1     & 0     & 0     & 0     & 1     & 0     & 0     & 1     & 0     & 0    \\\\\n",
       "\t15 & 10831 & 0     &  9    &  9    & 1     & 0     & 0     & 0     & 1     & 0     & ...   & 1     & 0     & 0     & 0     & 1     & 0     & 0     & 1     & 0     & 0    \\\\\n",
       "\t17 & 10859 & 0     & 27    & 27    & 1     & 0     & 0     & 0     & 1     & 0     & ...   & 0     & 1     & 0     & 0     & 0     & 0     & 0     & 1     & 0     & 0    \\\\\n",
       "\t22 & 10628 & 2     & 27    & 27    & 0     & 0     & 0     & 0     & 0     & 0     & ...   & 0     & 0     & 0     & 0     & 0     & 0     & 0     & 0     & 0     & 1    \\\\\n",
       "\t23 & 10516 & 0     & 15    & 15    & 1     & 0     & 0     & 0     & 0     & 0     & ...   & 0     & 0     & 0     & 0     & 0     & 0     & 0     & 1     & 0     & 0    \\\\\n",
       "\t24 & 10803 & 2     &  3    &  3    & 1     & 0     & 0     & 0     & 0     & 0     & ...   & 1     & 0     & 0     & 0     & 0     & 0     & 0     & 0     & 1     & 0    \\\\\n",
       "\t25 & 10663 & 0     & 28    & 11    & 1     & 0     & 0     & 0     & 0     & 0     & ...   & 0     & 0     & 0     & 0     & 1     & 0     & 0     & 1     & 0     & 0    \\\\\n",
       "\t26 & 10747 & 0     & 12    & 12    & 1     & 0     & 0     & 0     & 2     & 0     & ...   & 0     & 0     & 1     & 1     & 0     & 0     & 0     & 0     & 0     & 1    \\\\\n",
       "\t28 & 10635 & 2     & 17    & 10    & 1     & 0     & 0     & 0     & 0     & 0     & ...   & 0     & 0     & 0     & 0     & 0     & 0     & 0     & 1     & 0     & 0    \\\\\n",
       "\t29 & 10761 & 2     & 13    & 13    & 0     & 0     & 0     & 0     & 0     & 0     & ...   & 0     & 0     & 0     & 1     & 0     & 0     & 0     & 0     & 0     & 1    \\\\\n",
       "\t32 & 10768 & 0     & 18    & 18    & 1     & 0     & 0     & 0     & 0     & 0     & ...   & 1     & 0     & 0     & 0     & 1     & 0     & 0     & 0     & 0     & 1    \\\\\n",
       "\t33 & 10537 & 0     &  1    &  1    & 1     & 0     & 0     & 0     & 2     & 0     & ...   & 0     & 0     & 0     & 0     & 0     & 0     & 0     & 0     & 0     & 1    \\\\\n",
       "\t36 & 10789 & 2     & 34    &  7    & 0     & 0     & 0     & 0     & 2     & 0     & ...   & 1     & 0     & 0     & 0     & 0     & 0     & 1     & 0     & 1     & 0    \\\\\n",
       "\t38 & 10775 & 2     & 11    & 11    & 0     & 0     & 0     & 0     & 0     & 0     & ...   & 1     & 0     & 0     & 0     & 0     & 0     & 0     & 0     & 0     & 1    \\\\\n",
       "\t43 & 10866 & 0     & 18    & 18    & 0     & 0     & 0     & 0     & 0     & 0     & ...   & 0     & 1     & 0     & 0     & 0     & 1     & 0     & 1     & 0     & 0    \\\\\n",
       "\t44 & 10558 & 2     &  1    &  1    & 1     & 0     & 0     & 0     & 1     & 0     & ...   & 0     & 0     & 0     & 0     & 0     & 0     & 1     & 0     & 0     & 1    \\\\\n",
       "\t45 & 10747 & 2     & 29    & 29    & 0     & 0     & 0     & 0     & 0     & 0     & ...   & 0     & 0     & 0     & 0     & 1     & 0     & 0     & 1     & 0     & 0    \\\\\n",
       "\t46 & 10642 & 2     &  5    &  5    & 0     & 0     & 0     & 0     & 0     & 0     & ...   & 0     & 0     & 0     & 0     & 0     & 0     & 0     & 0     & 0     & 1    \\\\\n",
       "\t48 & 10614 & 2     &  4    &  4    & 0     & 0     & 0     & 0     & 1     & 0     & ...   & 0     & 0     & 0     & 0     & 0     & 0     & 0     & 0     & 0     & 1    \\\\\n",
       "\t49 & 10572 & 0     & 14    & 14    & 0     & 0     & 0     & 0     & 2     & 0     & ...   & 0     & 0     & 0     & 0     & 0     & 0     & 0     & 1     & 0     & 0    \\\\\n",
       "\t50 & 10663 & 0     &  5    &  5    & 0     & 0     & 0     & 0     & 0     & 0     & ...   & 0     & 0     & 0     & 0     & 1     & 0     & 0     & 1     & 0     & 0    \\\\\n",
       "\t52 & 10656 & 2     &  4    &  4    & 0     & 0     & 0     & 0     & 0     & 0     & ...   & 0     & 0     & 0     & 0     & 0     & 1     & 0     & 1     & 0     & 0    \\\\\n",
       "\t53 & 10866 & 2     & 27    & 27    & 1     & 0     & 0     & 0     & 0     & 0     & ...   & 0     & 1     & 0     & 1     & 0     & 0     & 0     & 1     & 0     & 0    \\\\\n",
       "\t55 & 10614 & 2     &  3    &  3    & 0     & 0     & 0     & 0     & 2     & 0     & ...   & 0     & 0     & 0     & 0     & 0     & 0     & 0     & 1     & 0     & 0    \\\\\n",
       "\t... & ... & ... & ... & ... & ... & ... & ... & ... & ... & ... &     & ... & ... & ... & ... & ... & ... & ... & ... & ... & ...\\\\\n",
       "\t13841 & 10530 & 2     &  3    &  3    & 1     & 0     & 1     & 0     & 0     & 0     & ...   & 0     & 0     & 0     & 0     & 0     & 0     & 1     & 0     & 0     & 1    \\\\\n",
       "\t13844 & 10628 & 2     &  2    &  2    & 0     & 0     & 1     & 0     & 0     & 0     & ...   & 0     & 0     & 0     & 1     & 0     & 0     & 0     & 0     & 0     & 1    \\\\\n",
       "\t13845 & 10796 & 0     &  1    &  1    & 1     & 0     & 1     & 0     & 1     & 0     & ...   & 1     & 0     & 0     & 0     & 0     & 0     & 1     & 1     & 0     & 0    \\\\\n",
       "\t13846 & 10782 & 0     &  1    &  1    & 0     & 0     & 1     & 0     & 1     & 0     & ...   & 1     & 0     & 0     & 1     & 0     & 0     & 0     & 1     & 0     & 0    \\\\\n",
       "\t13850 & 10831 & 2     &  8    &  8    & 0     & 0     & 1     & 0     & 0     & 0     & ...   & 1     & 0     & 0     & 1     & 0     & 0     & 0     & 1     & 0     & 0    \\\\\n",
       "\t13852 & 10691 & 2     &  1    &  1    & 0     & 0     & 1     & 0     & 0     & 0     & ...   & 0     & 0     & 0     & 1     & 0     & 1     & 0     & 0     & 0     & 1    \\\\\n",
       "\t13854 & 10544 & 0     & 13    & 13    & 0     & 0     & 1     & 0     & 0     & 0     & ...   & 0     & 0     & 0     & 0     & 0     & 0     & 0     & 0     & 0     & 1    \\\\\n",
       "\t13858 & 10775 & 2     &  1    &  1    & 0     & 0     & 1     & 0     & 2     & 0     & ...   & 1     & 0     & 0     & 0     & 0     & 0     & 0     & 1     & 0     & 0    \\\\\n",
       "\t13859 & 10796 & 2     &  1    &  1    & 1     & 0     & 1     & 0     & 0     & 0     & ...   & 1     & 0     & 0     & 1     & 0     & 0     & 1     & 0     & 0     & 1    \\\\\n",
       "\t13863 & 10859 & 2     &  1    &  1    & 0     & 0     & 1     & 0     & 0     & 0     & ...   & 0     & 1     & 0     & 0     & 0     & 1     & 0     & 0     & 0     & 1    \\\\\n",
       "\t13864 & 10628 & 0     & 10    & 10    & 0     & 0     & 1     & 0     & 0     & 0     & ...   & 0     & 0     & 0     & 0     & 0     & 1     & 0     & 0     & 0     & 1    \\\\\n",
       "\t13867 & 10817 & 2     & 27    & 27    & 0     & 0     & 1     & 0     & 1     & 0     & ...   & 1     & 0     & 0     & 0     & 0     & 1     & 0     & 0     & 0     & 1    \\\\\n",
       "\t13870 & 10586 & 2     & 12    & 12    & 0     & 0     & 1     & 0     & 0     & 0     & ...   & 0     & 0     & 0     & 1     & 0     & 0     & 0     & 0     & 0     & 1    \\\\\n",
       "\t13875 & 10712 & 0     & 22    & 22    & 0     & 0     & 1     & 0     & 2     & 0     & ...   & 0     & 0     & 0     & 1     & 0     & 0     & 1     & 0     & 0     & 1    \\\\\n",
       "\t13876 & 10768 & 0     & 27    & 27    & 0     & 0     & 1     & 0     & 0     & 0     & ...   & 1     & 0     & 0     & 1     & 0     & 1     & 0     & 0     & 0     & 1    \\\\\n",
       "\t13877 & 10817 & 0     & 16    & 16    & 1     & 0     & 1     & 0     & 0     & 0     & ...   & 1     & 0     & 0     & 0     & 0     & 0     & 0     & 0     & 0     & 1    \\\\\n",
       "\t13879 & 10579 & 2     &  3    &  3    & 0     & 0     & 1     & 0     & 0     & 0     & ...   & 0     & 0     & 0     & 1     & 0     & 1     & 0     & 0     & 0     & 1    \\\\\n",
       "\t13882 & 10817 & 2     &  7    &  7    & 0     & 0     & 1     & 0     & 0     & 0     & ...   & 1     & 0     & 0     & 1     & 0     & 0     & 0     & 1     & 0     & 0    \\\\\n",
       "\t13888 & 10642 & 0     & 10    & 10    & 0     & 0     & 0     & 0     & 0     & 0     & ...   & 0     & 0     & 0     & 1     & 0     & 1     & 0     & 1     & 0     & 0    \\\\\n",
       "\t13891 & 10670 & 0     & 20    & 20    & 0     & 0     & 0     & 0     & 0     & 0     & ...   & 0     & 0     & 0     & 1     & 0     & 1     & 0     & 0     & 1     & 0    \\\\\n",
       "\t13892 & 10530 & 0     & 27    & 27    & 1     & 0     & 0     & 1     & 0     & 0     & ...   & 0     & 0     & 0     & 1     & 0     & 0     & 0     & 0     & 0     & 1    \\\\\n",
       "\t13893 & 10691 & 0     & 27    & 27    & 1     & 0     & 0     & 1     & 0     & 0     & ...   & 0     & 0     & 0     & 0     & 0     & 1     & 0     & 1     & 0     & 0    \\\\\n",
       "\t13894 & 10796 & 0     & 15    & 15    & 1     & 0     & 0     & 1     & 0     & 0     & ...   & 1     & 0     & 0     & 1     & 0     & 1     & 0     & 1     & 0     & 0    \\\\\n",
       "\t13896 & 10859 & 0     &  1    &  1    & 1     & 0     & 0     & 1     & 0     & 0     & ...   & 0     & 1     & 0     & 1     & 0     & 0     & 0     & 1     & 0     & 0    \\\\\n",
       "\t13899 & 10796 & 0     & 23    & 23    & 0     & 1     & 0     & 0     & 0     & 0     & ...   & 1     & 0     & 0     & 0     & 0     & 0     & 0     & 0     & 0     & 1    \\\\\n",
       "\t13901 & 10845 & 0     &  6    &  6    & 1     & 0     & 0     & 1     & 2     & 0     & ...   & 1     & 0     & 0     & 0     & 0     & 0     & 1     & 0     & 0     & 1    \\\\\n",
       "\t13902 & 10705 & 2     & 14    & 14    & 0     & 1     & 0     & 0     & 0     & 0     & ...   & 0     & 0     & 0     & 0     & 0     & 1     & 0     & 0     & 0     & 1    \\\\\n",
       "\t13907 & 10558 & 0     &  9    &  9    & 0     & 0     & 0     & 0     & 2     & 0     & ...   & 0     & 0     & 0     & 1     & 0     & 0     & 0     & 1     & 0     & 0    \\\\\n",
       "\t13910 & 10677 & 2     &  4    &  4    & 1     & 0     & 0     & 0     & 0     & 0     & ...   & 0     & 0     & 0     & 0     & 1     & 0     & 0     & 1     & 0     & 0    \\\\\n",
       "\t13912 & 10691 & 0     & 27    & 27    & 0     & 0     & 0     & 0     & 0     & 0     & ...   & 0     & 0     & 0     & 0     & 1     & 1     & 0     & 1     & 0     & 0    \\\\\n",
       "\\end{tabular}\n"
      ],
      "text/markdown": [
       "\n",
       "| <!--/--> | abdt | tg | inuidur1 | inuidur2 | female | black | hispanic | othrace | dep | q1 | ... | q5 | q6 | recall | agelt35 | agegt54 | durable | nondurable | lusd | husd | muld |\n",
       "|---|---|---|---|---|---|---|---|---|---|---|---|---|---|---|---|---|---|---|---|---|---|\n",
       "| 1 | 10824 | 0     | 18    | 18    | 0     | 0     | 0     | 0     | 2     | 0     | ...   | 1     | 0     | 0     | 0     | 0     | 0     | 0     | 0     | 1     | 0     |\n",
       "| 2 | 10635 | 2     |  7    |  3    | 0     | 0     | 0     | 0     | 0     | 0     | ...   | 0     | 0     | 0     | 1     | 0     | 0     | 0     | 1     | 0     | 0     |\n",
       "| 4 | 10824 | 0     |  1    |  1    | 0     | 0     | 0     | 0     | 0     | 0     | ...   | 1     | 0     | 0     | 0     | 0     | 0     | 0     | 1     | 0     | 0     |\n",
       "| 5 | 10747 | 0     | 27    | 27    | 0     | 0     | 0     | 0     | 0     | 0     | ...   | 0     | 0     | 0     | 0     | 0     | 0     | 0     | 1     | 0     | 0     |\n",
       "| 10 | 10754 | 2     | 20    | 20    | 1     | 0     | 0     | 0     | 0     | 0     | ...   | 0     | 0     | 0     | 0     | 0     | 0     | 0     | 0     | 0     | 1     |\n",
       "| 13 | 10831 | 0     | 27    | 27    | 0     | 0     | 0     | 0     | 1     | 0     | ...   | 1     | 0     | 0     | 0     | 1     | 1     | 0     | 1     | 0     | 0     |\n",
       "| 14 | 10845 | 0     | 27    | 27    | 1     | 0     | 0     | 0     | 0     | 0     | ...   | 1     | 0     | 0     | 0     | 1     | 0     | 0     | 1     | 0     | 0     |\n",
       "| 15 | 10831 | 0     |  9    |  9    | 1     | 0     | 0     | 0     | 1     | 0     | ...   | 1     | 0     | 0     | 0     | 1     | 0     | 0     | 1     | 0     | 0     |\n",
       "| 17 | 10859 | 0     | 27    | 27    | 1     | 0     | 0     | 0     | 1     | 0     | ...   | 0     | 1     | 0     | 0     | 0     | 0     | 0     | 1     | 0     | 0     |\n",
       "| 22 | 10628 | 2     | 27    | 27    | 0     | 0     | 0     | 0     | 0     | 0     | ...   | 0     | 0     | 0     | 0     | 0     | 0     | 0     | 0     | 0     | 1     |\n",
       "| 23 | 10516 | 0     | 15    | 15    | 1     | 0     | 0     | 0     | 0     | 0     | ...   | 0     | 0     | 0     | 0     | 0     | 0     | 0     | 1     | 0     | 0     |\n",
       "| 24 | 10803 | 2     |  3    |  3    | 1     | 0     | 0     | 0     | 0     | 0     | ...   | 1     | 0     | 0     | 0     | 0     | 0     | 0     | 0     | 1     | 0     |\n",
       "| 25 | 10663 | 0     | 28    | 11    | 1     | 0     | 0     | 0     | 0     | 0     | ...   | 0     | 0     | 0     | 0     | 1     | 0     | 0     | 1     | 0     | 0     |\n",
       "| 26 | 10747 | 0     | 12    | 12    | 1     | 0     | 0     | 0     | 2     | 0     | ...   | 0     | 0     | 1     | 1     | 0     | 0     | 0     | 0     | 0     | 1     |\n",
       "| 28 | 10635 | 2     | 17    | 10    | 1     | 0     | 0     | 0     | 0     | 0     | ...   | 0     | 0     | 0     | 0     | 0     | 0     | 0     | 1     | 0     | 0     |\n",
       "| 29 | 10761 | 2     | 13    | 13    | 0     | 0     | 0     | 0     | 0     | 0     | ...   | 0     | 0     | 0     | 1     | 0     | 0     | 0     | 0     | 0     | 1     |\n",
       "| 32 | 10768 | 0     | 18    | 18    | 1     | 0     | 0     | 0     | 0     | 0     | ...   | 1     | 0     | 0     | 0     | 1     | 0     | 0     | 0     | 0     | 1     |\n",
       "| 33 | 10537 | 0     |  1    |  1    | 1     | 0     | 0     | 0     | 2     | 0     | ...   | 0     | 0     | 0     | 0     | 0     | 0     | 0     | 0     | 0     | 1     |\n",
       "| 36 | 10789 | 2     | 34    |  7    | 0     | 0     | 0     | 0     | 2     | 0     | ...   | 1     | 0     | 0     | 0     | 0     | 0     | 1     | 0     | 1     | 0     |\n",
       "| 38 | 10775 | 2     | 11    | 11    | 0     | 0     | 0     | 0     | 0     | 0     | ...   | 1     | 0     | 0     | 0     | 0     | 0     | 0     | 0     | 0     | 1     |\n",
       "| 43 | 10866 | 0     | 18    | 18    | 0     | 0     | 0     | 0     | 0     | 0     | ...   | 0     | 1     | 0     | 0     | 0     | 1     | 0     | 1     | 0     | 0     |\n",
       "| 44 | 10558 | 2     |  1    |  1    | 1     | 0     | 0     | 0     | 1     | 0     | ...   | 0     | 0     | 0     | 0     | 0     | 0     | 1     | 0     | 0     | 1     |\n",
       "| 45 | 10747 | 2     | 29    | 29    | 0     | 0     | 0     | 0     | 0     | 0     | ...   | 0     | 0     | 0     | 0     | 1     | 0     | 0     | 1     | 0     | 0     |\n",
       "| 46 | 10642 | 2     |  5    |  5    | 0     | 0     | 0     | 0     | 0     | 0     | ...   | 0     | 0     | 0     | 0     | 0     | 0     | 0     | 0     | 0     | 1     |\n",
       "| 48 | 10614 | 2     |  4    |  4    | 0     | 0     | 0     | 0     | 1     | 0     | ...   | 0     | 0     | 0     | 0     | 0     | 0     | 0     | 0     | 0     | 1     |\n",
       "| 49 | 10572 | 0     | 14    | 14    | 0     | 0     | 0     | 0     | 2     | 0     | ...   | 0     | 0     | 0     | 0     | 0     | 0     | 0     | 1     | 0     | 0     |\n",
       "| 50 | 10663 | 0     |  5    |  5    | 0     | 0     | 0     | 0     | 0     | 0     | ...   | 0     | 0     | 0     | 0     | 1     | 0     | 0     | 1     | 0     | 0     |\n",
       "| 52 | 10656 | 2     |  4    |  4    | 0     | 0     | 0     | 0     | 0     | 0     | ...   | 0     | 0     | 0     | 0     | 0     | 1     | 0     | 1     | 0     | 0     |\n",
       "| 53 | 10866 | 2     | 27    | 27    | 1     | 0     | 0     | 0     | 0     | 0     | ...   | 0     | 1     | 0     | 1     | 0     | 0     | 0     | 1     | 0     | 0     |\n",
       "| 55 | 10614 | 2     |  3    |  3    | 0     | 0     | 0     | 0     | 2     | 0     | ...   | 0     | 0     | 0     | 0     | 0     | 0     | 0     | 1     | 0     | 0     |\n",
       "| ... | ... | ... | ... | ... | ... | ... | ... | ... | ... | ... |     | ... | ... | ... | ... | ... | ... | ... | ... | ... | ... |\n",
       "| 13841 | 10530 | 2     |  3    |  3    | 1     | 0     | 1     | 0     | 0     | 0     | ...   | 0     | 0     | 0     | 0     | 0     | 0     | 1     | 0     | 0     | 1     |\n",
       "| 13844 | 10628 | 2     |  2    |  2    | 0     | 0     | 1     | 0     | 0     | 0     | ...   | 0     | 0     | 0     | 1     | 0     | 0     | 0     | 0     | 0     | 1     |\n",
       "| 13845 | 10796 | 0     |  1    |  1    | 1     | 0     | 1     | 0     | 1     | 0     | ...   | 1     | 0     | 0     | 0     | 0     | 0     | 1     | 1     | 0     | 0     |\n",
       "| 13846 | 10782 | 0     |  1    |  1    | 0     | 0     | 1     | 0     | 1     | 0     | ...   | 1     | 0     | 0     | 1     | 0     | 0     | 0     | 1     | 0     | 0     |\n",
       "| 13850 | 10831 | 2     |  8    |  8    | 0     | 0     | 1     | 0     | 0     | 0     | ...   | 1     | 0     | 0     | 1     | 0     | 0     | 0     | 1     | 0     | 0     |\n",
       "| 13852 | 10691 | 2     |  1    |  1    | 0     | 0     | 1     | 0     | 0     | 0     | ...   | 0     | 0     | 0     | 1     | 0     | 1     | 0     | 0     | 0     | 1     |\n",
       "| 13854 | 10544 | 0     | 13    | 13    | 0     | 0     | 1     | 0     | 0     | 0     | ...   | 0     | 0     | 0     | 0     | 0     | 0     | 0     | 0     | 0     | 1     |\n",
       "| 13858 | 10775 | 2     |  1    |  1    | 0     | 0     | 1     | 0     | 2     | 0     | ...   | 1     | 0     | 0     | 0     | 0     | 0     | 0     | 1     | 0     | 0     |\n",
       "| 13859 | 10796 | 2     |  1    |  1    | 1     | 0     | 1     | 0     | 0     | 0     | ...   | 1     | 0     | 0     | 1     | 0     | 0     | 1     | 0     | 0     | 1     |\n",
       "| 13863 | 10859 | 2     |  1    |  1    | 0     | 0     | 1     | 0     | 0     | 0     | ...   | 0     | 1     | 0     | 0     | 0     | 1     | 0     | 0     | 0     | 1     |\n",
       "| 13864 | 10628 | 0     | 10    | 10    | 0     | 0     | 1     | 0     | 0     | 0     | ...   | 0     | 0     | 0     | 0     | 0     | 1     | 0     | 0     | 0     | 1     |\n",
       "| 13867 | 10817 | 2     | 27    | 27    | 0     | 0     | 1     | 0     | 1     | 0     | ...   | 1     | 0     | 0     | 0     | 0     | 1     | 0     | 0     | 0     | 1     |\n",
       "| 13870 | 10586 | 2     | 12    | 12    | 0     | 0     | 1     | 0     | 0     | 0     | ...   | 0     | 0     | 0     | 1     | 0     | 0     | 0     | 0     | 0     | 1     |\n",
       "| 13875 | 10712 | 0     | 22    | 22    | 0     | 0     | 1     | 0     | 2     | 0     | ...   | 0     | 0     | 0     | 1     | 0     | 0     | 1     | 0     | 0     | 1     |\n",
       "| 13876 | 10768 | 0     | 27    | 27    | 0     | 0     | 1     | 0     | 0     | 0     | ...   | 1     | 0     | 0     | 1     | 0     | 1     | 0     | 0     | 0     | 1     |\n",
       "| 13877 | 10817 | 0     | 16    | 16    | 1     | 0     | 1     | 0     | 0     | 0     | ...   | 1     | 0     | 0     | 0     | 0     | 0     | 0     | 0     | 0     | 1     |\n",
       "| 13879 | 10579 | 2     |  3    |  3    | 0     | 0     | 1     | 0     | 0     | 0     | ...   | 0     | 0     | 0     | 1     | 0     | 1     | 0     | 0     | 0     | 1     |\n",
       "| 13882 | 10817 | 2     |  7    |  7    | 0     | 0     | 1     | 0     | 0     | 0     | ...   | 1     | 0     | 0     | 1     | 0     | 0     | 0     | 1     | 0     | 0     |\n",
       "| 13888 | 10642 | 0     | 10    | 10    | 0     | 0     | 0     | 0     | 0     | 0     | ...   | 0     | 0     | 0     | 1     | 0     | 1     | 0     | 1     | 0     | 0     |\n",
       "| 13891 | 10670 | 0     | 20    | 20    | 0     | 0     | 0     | 0     | 0     | 0     | ...   | 0     | 0     | 0     | 1     | 0     | 1     | 0     | 0     | 1     | 0     |\n",
       "| 13892 | 10530 | 0     | 27    | 27    | 1     | 0     | 0     | 1     | 0     | 0     | ...   | 0     | 0     | 0     | 1     | 0     | 0     | 0     | 0     | 0     | 1     |\n",
       "| 13893 | 10691 | 0     | 27    | 27    | 1     | 0     | 0     | 1     | 0     | 0     | ...   | 0     | 0     | 0     | 0     | 0     | 1     | 0     | 1     | 0     | 0     |\n",
       "| 13894 | 10796 | 0     | 15    | 15    | 1     | 0     | 0     | 1     | 0     | 0     | ...   | 1     | 0     | 0     | 1     | 0     | 1     | 0     | 1     | 0     | 0     |\n",
       "| 13896 | 10859 | 0     |  1    |  1    | 1     | 0     | 0     | 1     | 0     | 0     | ...   | 0     | 1     | 0     | 1     | 0     | 0     | 0     | 1     | 0     | 0     |\n",
       "| 13899 | 10796 | 0     | 23    | 23    | 0     | 1     | 0     | 0     | 0     | 0     | ...   | 1     | 0     | 0     | 0     | 0     | 0     | 0     | 0     | 0     | 1     |\n",
       "| 13901 | 10845 | 0     |  6    |  6    | 1     | 0     | 0     | 1     | 2     | 0     | ...   | 1     | 0     | 0     | 0     | 0     | 0     | 1     | 0     | 0     | 1     |\n",
       "| 13902 | 10705 | 2     | 14    | 14    | 0     | 1     | 0     | 0     | 0     | 0     | ...   | 0     | 0     | 0     | 0     | 0     | 1     | 0     | 0     | 0     | 1     |\n",
       "| 13907 | 10558 | 0     |  9    |  9    | 0     | 0     | 0     | 0     | 2     | 0     | ...   | 0     | 0     | 0     | 1     | 0     | 0     | 0     | 1     | 0     | 0     |\n",
       "| 13910 | 10677 | 2     |  4    |  4    | 1     | 0     | 0     | 0     | 0     | 0     | ...   | 0     | 0     | 0     | 0     | 1     | 0     | 0     | 1     | 0     | 0     |\n",
       "| 13912 | 10691 | 0     | 27    | 27    | 0     | 0     | 0     | 0     | 0     | 0     | ...   | 0     | 0     | 0     | 0     | 1     | 1     | 0     | 1     | 0     | 0     |\n",
       "\n"
      ],
      "text/plain": [
       "      abdt  tg  inuidur1 inuidur2 female black hispanic othrace dep q1  ... q5 \n",
       "1     10824 0   18       18       0      0     0        0       2   0   ... 1  \n",
       "2     10635 2    7        3       0      0     0        0       0   0   ... 0  \n",
       "4     10824 0    1        1       0      0     0        0       0   0   ... 1  \n",
       "5     10747 0   27       27       0      0     0        0       0   0   ... 0  \n",
       "10    10754 2   20       20       1      0     0        0       0   0   ... 0  \n",
       "13    10831 0   27       27       0      0     0        0       1   0   ... 1  \n",
       "14    10845 0   27       27       1      0     0        0       0   0   ... 1  \n",
       "15    10831 0    9        9       1      0     0        0       1   0   ... 1  \n",
       "17    10859 0   27       27       1      0     0        0       1   0   ... 0  \n",
       "22    10628 2   27       27       0      0     0        0       0   0   ... 0  \n",
       "23    10516 0   15       15       1      0     0        0       0   0   ... 0  \n",
       "24    10803 2    3        3       1      0     0        0       0   0   ... 1  \n",
       "25    10663 0   28       11       1      0     0        0       0   0   ... 0  \n",
       "26    10747 0   12       12       1      0     0        0       2   0   ... 0  \n",
       "28    10635 2   17       10       1      0     0        0       0   0   ... 0  \n",
       "29    10761 2   13       13       0      0     0        0       0   0   ... 0  \n",
       "32    10768 0   18       18       1      0     0        0       0   0   ... 1  \n",
       "33    10537 0    1        1       1      0     0        0       2   0   ... 0  \n",
       "36    10789 2   34        7       0      0     0        0       2   0   ... 1  \n",
       "38    10775 2   11       11       0      0     0        0       0   0   ... 1  \n",
       "43    10866 0   18       18       0      0     0        0       0   0   ... 0  \n",
       "44    10558 2    1        1       1      0     0        0       1   0   ... 0  \n",
       "45    10747 2   29       29       0      0     0        0       0   0   ... 0  \n",
       "46    10642 2    5        5       0      0     0        0       0   0   ... 0  \n",
       "48    10614 2    4        4       0      0     0        0       1   0   ... 0  \n",
       "49    10572 0   14       14       0      0     0        0       2   0   ... 0  \n",
       "50    10663 0    5        5       0      0     0        0       0   0   ... 0  \n",
       "52    10656 2    4        4       0      0     0        0       0   0   ... 0  \n",
       "53    10866 2   27       27       1      0     0        0       0   0   ... 0  \n",
       "55    10614 2    3        3       0      0     0        0       2   0   ... 0  \n",
       "...   ...   ... ...      ...      ...    ...   ...      ...     ... ...     ...\n",
       "13841 10530 2    3        3       1      0     1        0       0   0   ... 0  \n",
       "13844 10628 2    2        2       0      0     1        0       0   0   ... 0  \n",
       "13845 10796 0    1        1       1      0     1        0       1   0   ... 1  \n",
       "13846 10782 0    1        1       0      0     1        0       1   0   ... 1  \n",
       "13850 10831 2    8        8       0      0     1        0       0   0   ... 1  \n",
       "13852 10691 2    1        1       0      0     1        0       0   0   ... 0  \n",
       "13854 10544 0   13       13       0      0     1        0       0   0   ... 0  \n",
       "13858 10775 2    1        1       0      0     1        0       2   0   ... 1  \n",
       "13859 10796 2    1        1       1      0     1        0       0   0   ... 1  \n",
       "13863 10859 2    1        1       0      0     1        0       0   0   ... 0  \n",
       "13864 10628 0   10       10       0      0     1        0       0   0   ... 0  \n",
       "13867 10817 2   27       27       0      0     1        0       1   0   ... 1  \n",
       "13870 10586 2   12       12       0      0     1        0       0   0   ... 0  \n",
       "13875 10712 0   22       22       0      0     1        0       2   0   ... 0  \n",
       "13876 10768 0   27       27       0      0     1        0       0   0   ... 1  \n",
       "13877 10817 0   16       16       1      0     1        0       0   0   ... 1  \n",
       "13879 10579 2    3        3       0      0     1        0       0   0   ... 0  \n",
       "13882 10817 2    7        7       0      0     1        0       0   0   ... 1  \n",
       "13888 10642 0   10       10       0      0     0        0       0   0   ... 0  \n",
       "13891 10670 0   20       20       0      0     0        0       0   0   ... 0  \n",
       "13892 10530 0   27       27       1      0     0        1       0   0   ... 0  \n",
       "13893 10691 0   27       27       1      0     0        1       0   0   ... 0  \n",
       "13894 10796 0   15       15       1      0     0        1       0   0   ... 1  \n",
       "13896 10859 0    1        1       1      0     0        1       0   0   ... 0  \n",
       "13899 10796 0   23       23       0      1     0        0       0   0   ... 1  \n",
       "13901 10845 0    6        6       1      0     0        1       2   0   ... 1  \n",
       "13902 10705 2   14       14       0      1     0        0       0   0   ... 0  \n",
       "13907 10558 0    9        9       0      0     0        0       2   0   ... 0  \n",
       "13910 10677 2    4        4       1      0     0        0       0   0   ... 0  \n",
       "13912 10691 0   27       27       0      0     0        0       0   0   ... 0  \n",
       "      q6  recall agelt35 agegt54 durable nondurable lusd husd muld\n",
       "1     0   0      0       0       0       0          0    1    0   \n",
       "2     0   0      1       0       0       0          1    0    0   \n",
       "4     0   0      0       0       0       0          1    0    0   \n",
       "5     0   0      0       0       0       0          1    0    0   \n",
       "10    0   0      0       0       0       0          0    0    1   \n",
       "13    0   0      0       1       1       0          1    0    0   \n",
       "14    0   0      0       1       0       0          1    0    0   \n",
       "15    0   0      0       1       0       0          1    0    0   \n",
       "17    1   0      0       0       0       0          1    0    0   \n",
       "22    0   0      0       0       0       0          0    0    1   \n",
       "23    0   0      0       0       0       0          1    0    0   \n",
       "24    0   0      0       0       0       0          0    1    0   \n",
       "25    0   0      0       1       0       0          1    0    0   \n",
       "26    0   1      1       0       0       0          0    0    1   \n",
       "28    0   0      0       0       0       0          1    0    0   \n",
       "29    0   0      1       0       0       0          0    0    1   \n",
       "32    0   0      0       1       0       0          0    0    1   \n",
       "33    0   0      0       0       0       0          0    0    1   \n",
       "36    0   0      0       0       0       1          0    1    0   \n",
       "38    0   0      0       0       0       0          0    0    1   \n",
       "43    1   0      0       0       1       0          1    0    0   \n",
       "44    0   0      0       0       0       1          0    0    1   \n",
       "45    0   0      0       1       0       0          1    0    0   \n",
       "46    0   0      0       0       0       0          0    0    1   \n",
       "48    0   0      0       0       0       0          0    0    1   \n",
       "49    0   0      0       0       0       0          1    0    0   \n",
       "50    0   0      0       1       0       0          1    0    0   \n",
       "52    0   0      0       0       1       0          1    0    0   \n",
       "53    1   0      1       0       0       0          1    0    0   \n",
       "55    0   0      0       0       0       0          1    0    0   \n",
       "...   ... ...    ...     ...     ...     ...        ...  ...  ... \n",
       "13841 0   0      0       0       0       1          0    0    1   \n",
       "13844 0   0      1       0       0       0          0    0    1   \n",
       "13845 0   0      0       0       0       1          1    0    0   \n",
       "13846 0   0      1       0       0       0          1    0    0   \n",
       "13850 0   0      1       0       0       0          1    0    0   \n",
       "13852 0   0      1       0       1       0          0    0    1   \n",
       "13854 0   0      0       0       0       0          0    0    1   \n",
       "13858 0   0      0       0       0       0          1    0    0   \n",
       "13859 0   0      1       0       0       1          0    0    1   \n",
       "13863 1   0      0       0       1       0          0    0    1   \n",
       "13864 0   0      0       0       1       0          0    0    1   \n",
       "13867 0   0      0       0       1       0          0    0    1   \n",
       "13870 0   0      1       0       0       0          0    0    1   \n",
       "13875 0   0      1       0       0       1          0    0    1   \n",
       "13876 0   0      1       0       1       0          0    0    1   \n",
       "13877 0   0      0       0       0       0          0    0    1   \n",
       "13879 0   0      1       0       1       0          0    0    1   \n",
       "13882 0   0      1       0       0       0          1    0    0   \n",
       "13888 0   0      1       0       1       0          1    0    0   \n",
       "13891 0   0      1       0       1       0          0    1    0   \n",
       "13892 0   0      1       0       0       0          0    0    1   \n",
       "13893 0   0      0       0       1       0          1    0    0   \n",
       "13894 0   0      1       0       1       0          1    0    0   \n",
       "13896 1   0      1       0       0       0          1    0    0   \n",
       "13899 0   0      0       0       0       0          0    0    1   \n",
       "13901 0   0      0       0       0       1          0    0    1   \n",
       "13902 0   0      0       0       1       0          0    0    1   \n",
       "13907 0   0      1       0       0       0          1    0    0   \n",
       "13910 0   0      0       1       0       0          1    0    0   \n",
       "13912 0   0      0       1       1       0          1    0    0   "
      ]
     },
     "metadata": {},
     "output_type": "display_data"
    },
    {
     "name": "stderr",
     "output_type": "stream",
     "text": [
      "The following objects are masked from Penn_data (pos = 3):\n",
      "\n",
      "    abdt, agegt54, agelt35, black, dep, durable, female, hispanic,\n",
      "    husd, inuidur1, inuidur2, lusd, muld, nondurable, othrace, q1, q2,\n",
      "    q3, q4, q5, q6, recall, tg\n",
      "\n",
      "The following objects are masked from Penn_data (pos = 11):\n",
      "\n",
      "    abdt, agegt54, agelt35, black, dep, durable, female, hispanic,\n",
      "    husd, inuidur1, inuidur2, lusd, muld, nondurable, othrace, q1, q2,\n",
      "    q3, q4, q5, q6, recall, tg\n",
      "\n"
     ]
    },
    {
     "data": {
      "text/plain": [
       "      abdt             tg       inuidur1        inuidur2         female      \n",
       " Min.   :10411   Min.   :2   Min.   : 1.00   Min.   : 0.00   Min.   :0.0000  \n",
       " 1st Qu.:10600   1st Qu.:2   1st Qu.: 2.75   1st Qu.: 2.00   1st Qu.:0.0000  \n",
       " Median :10698   Median :2   Median :10.00   Median : 9.00   Median :0.0000  \n",
       " Mean   :10697   Mean   :2   Mean   :12.61   Mean   :11.88   Mean   :0.3946  \n",
       " 3rd Qu.:10796   3rd Qu.:2   3rd Qu.:24.00   3rd Qu.:22.00   3rd Qu.:1.0000  \n",
       " Max.   :10880   Max.   :2   Max.   :52.00   Max.   :52.00   Max.   :1.0000  \n",
       "     black           hispanic          othrace             dep        \n",
       " Min.   :0.0000   Min.   :0.00000   Min.   :0.00000   Min.   :0.0000  \n",
       " 1st Qu.:0.0000   1st Qu.:0.00000   1st Qu.:0.00000   1st Qu.:0.0000  \n",
       " Median :0.0000   Median :0.00000   Median :0.00000   Median :0.0000  \n",
       " Mean   :0.1153   Mean   :0.03748   Mean   :0.00453   Mean   :0.4374  \n",
       " 3rd Qu.:0.0000   3rd Qu.:0.00000   3rd Qu.:0.00000   3rd Qu.:1.0000  \n",
       " Max.   :1.0000   Max.   :1.00000   Max.   :1.00000   Max.   :2.0000  \n",
       "       q1                q2               q3               q4        \n",
       " Min.   :0.00000   Min.   :0.0000   Min.   :0.0000   Min.   :0.0000  \n",
       " 1st Qu.:0.00000   1st Qu.:0.0000   1st Qu.:0.0000   1st Qu.:0.0000  \n",
       " Median :0.00000   Median :0.0000   Median :0.0000   Median :0.0000  \n",
       " Mean   :0.01318   Mean   :0.1936   Mean   :0.2339   Mean   :0.2278  \n",
       " 3rd Qu.:0.00000   3rd Qu.:0.0000   3rd Qu.:0.0000   3rd Qu.:0.0000  \n",
       " Max.   :1.00000   Max.   :1.0000   Max.   :1.0000   Max.   :1.0000  \n",
       "       q5               q6             recall          agelt35     \n",
       " Min.   :0.0000   Min.   :0.0000   Min.   :0.0000   Min.   :0.000  \n",
       " 1st Qu.:0.0000   1st Qu.:0.0000   1st Qu.:0.0000   1st Qu.:0.000  \n",
       " Median :0.0000   Median :0.0000   Median :0.0000   Median :1.000  \n",
       " Mean   :0.2727   Mean   :0.0589   Mean   :0.1034   Mean   :0.547  \n",
       " 3rd Qu.:1.0000   3rd Qu.:0.0000   3rd Qu.:0.0000   3rd Qu.:1.000  \n",
       " Max.   :1.0000   Max.   :1.0000   Max.   :1.0000   Max.   :1.000  \n",
       "    agegt54          durable         nondurable          lusd       \n",
       " Min.   :0.0000   Min.   :0.0000   Min.   :0.0000   Min.   :0.0000  \n",
       " 1st Qu.:0.0000   1st Qu.:0.0000   1st Qu.:0.0000   1st Qu.:0.0000  \n",
       " Median :0.0000   Median :0.0000   Median :0.0000   Median :0.0000  \n",
       " Mean   :0.1017   Mean   :0.1479   Mean   :0.1124   Mean   :0.2747  \n",
       " 3rd Qu.:0.0000   3rd Qu.:0.0000   3rd Qu.:0.0000   3rd Qu.:1.0000  \n",
       " Max.   :1.0000   Max.   :1.0000   Max.   :1.0000   Max.   :1.0000  \n",
       "      husd             muld       \n",
       " Min.   :0.0000   Min.   :0.0000  \n",
       " 1st Qu.:0.0000   1st Qu.:0.0000  \n",
       " Median :0.0000   Median :0.0000  \n",
       " Mean   :0.2224   Mean   :0.4271  \n",
       " 3rd Qu.:0.0000   3rd Qu.:1.0000  \n",
       " Max.   :1.0000   Max.   :1.0000  "
      ]
     },
     "metadata": {},
     "output_type": "display_data"
    },
    {
     "data": {
      "text/plain": [
       "      abdt             tg       inuidur1        inuidur2         female      \n",
       " Min.   :10404   Min.   :0   Min.   : 1.00   Min.   : 0.00   Min.   :0.0000  \n",
       " 1st Qu.:10593   1st Qu.:0   1st Qu.: 3.00   1st Qu.: 2.00   1st Qu.:0.0000  \n",
       " Median :10698   Median :0   Median :11.00   Median :10.00   Median :0.0000  \n",
       " Mean   :10696   Mean   :0   Mean   :13.34   Mean   :12.52   Mean   :0.4052  \n",
       " 3rd Qu.:10796   3rd Qu.:0   3rd Qu.:26.00   3rd Qu.:24.00   3rd Qu.:1.0000  \n",
       " Max.   :10880   Max.   :0   Max.   :52.00   Max.   :52.00   Max.   :1.0000  \n",
       "     black           hispanic          othrace              dep        \n",
       " Min.   :0.0000   Min.   :0.00000   Min.   :0.000000   Min.   :0.0000  \n",
       " 1st Qu.:0.0000   1st Qu.:0.00000   1st Qu.:0.000000   1st Qu.:0.0000  \n",
       " Median :0.0000   Median :0.00000   Median :0.000000   Median :0.0000  \n",
       " Mean   :0.1213   Mean   :0.03548   Mean   :0.005665   Mean   :0.4383  \n",
       " 3rd Qu.:0.0000   3rd Qu.:0.00000   3rd Qu.:0.000000   3rd Qu.:1.0000  \n",
       " Max.   :1.0000   Max.   :1.00000   Max.   :1.000000   Max.   :2.0000  \n",
       "       q1                q2               q3               q4      \n",
       " Min.   :0.00000   Min.   :0.0000   Min.   :0.0000   Min.   :0.00  \n",
       " 1st Qu.:0.00000   1st Qu.:0.0000   1st Qu.:0.0000   1st Qu.:0.00  \n",
       " Median :0.00000   Median :0.0000   Median :0.0000   Median :0.00  \n",
       " Mean   :0.01222   Mean   :0.2048   Mean   :0.2367   Mean   :0.22  \n",
       " 3rd Qu.:0.00000   3rd Qu.:0.0000   3rd Qu.:0.0000   3rd Qu.:0.00  \n",
       " Max.   :1.00000   Max.   :1.0000   Max.   :1.0000   Max.   :1.00  \n",
       "       q5               q6              recall          agelt35      \n",
       " Min.   :0.0000   Min.   :0.00000   Min.   :0.0000   Min.   :0.0000  \n",
       " 1st Qu.:0.0000   1st Qu.:0.00000   1st Qu.:0.0000   1st Qu.:0.0000  \n",
       " Median :0.0000   Median :0.00000   Median :0.0000   Median :1.0000  \n",
       " Mean   :0.2564   Mean   :0.06977   Mean   :0.1082   Mean   :0.5352  \n",
       " 3rd Qu.:1.0000   3rd Qu.:0.00000   3rd Qu.:0.0000   3rd Qu.:1.0000  \n",
       " Max.   :1.0000   Max.   :1.00000   Max.   :1.0000   Max.   :1.0000  \n",
       "    agegt54          durable         nondurable          lusd       \n",
       " Min.   :0.0000   Min.   :0.0000   Min.   :0.0000   Min.   :0.0000  \n",
       " 1st Qu.:0.0000   1st Qu.:0.0000   1st Qu.:0.0000   1st Qu.:0.0000  \n",
       " Median :0.0000   Median :0.0000   Median :0.0000   Median :0.0000  \n",
       " Mean   :0.1091   Mean   :0.1509   Mean   :0.1067   Mean   :0.2531  \n",
       " 3rd Qu.:0.0000   3rd Qu.:0.0000   3rd Qu.:0.0000   3rd Qu.:1.0000  \n",
       " Max.   :1.0000   Max.   :1.0000   Max.   :1.0000   Max.   :1.0000  \n",
       "      husd             muld       \n",
       " Min.   :0.0000   Min.   :0.0000  \n",
       " 1st Qu.:0.0000   1st Qu.:0.0000  \n",
       " Median :0.0000   Median :0.0000  \n",
       " Mean   :0.2218   Mean   :0.4499  \n",
       " 3rd Qu.:0.0000   3rd Qu.:1.0000  \n",
       " Max.   :1.0000   Max.   :1.0000  "
      ]
     },
     "metadata": {},
     "output_type": "display_data"
    }
   ],
   "source": [
    "#Focus on treatment group 2\n",
    "Penn_data<- subset(Penn, tg==2 | tg==0)\n",
    "dim(Penn_data)\n",
    "Penn_data\n",
    "\n",
    "attach(Penn_data)\n",
    "\n",
    "treatment <- subset(Penn_data,tg==2)\n",
    "summary(treatment)\n",
    "\n",
    "control<- subset(Penn_data,tg==0)\n",
    "summary(control)\n"
   ]
  },
  {
   "cell_type": "markdown",
   "id": "91c4a423",
   "metadata": {},
   "source": [
    "##  Histograms  and density plots "
   ]
  },
  {
   "cell_type": "code",
   "execution_count": 39,
   "id": "31998819",
   "metadata": {},
   "outputs": [
    {
     "data": {
      "image/png": "[encoded data removed]",
      "text/plain": [
       "plot without title"
      ]
     },
     "metadata": {},
     "output_type": "display_data"
    }
   ],
   "source": [
    "ggplot(data=treatment)+ aes(x=inuidur1) + \n",
    "      geom_histogram(bins=13,    \n",
    "                     breaks=seq(0, 52, by = 4),\n",
    "                     fill = 'darkturquoise',\n",
    "                     colour = 'black',) + \n",
    "      ggtitle ('Histogram for treatment group') + \n",
    "      labs(x= 'Measure of length (in weeks) of the first spell of unemployment',\n",
    "           caption = 'Data from U.S. Department of Labor')+\n",
    "      theme(plot.title=element_text(hjust=0.5))"
   ]
  },
  {
   "cell_type": "code",
   "execution_count": 40,
   "id": "fcafca94",
   "metadata": {},
   "outputs": [
    {
     "data": {
      "image/png": "[encoded data removed]",
      "text/plain": [
       "plot without title"
      ]
     },
     "metadata": {},
     "output_type": "display_data"
    }
   ],
   "source": [
    "ggplot(data=control)+ \n",
    "      aes(x=inuidur1) + \n",
    "      geom_histogram(bins=13,    \n",
    "                     breaks=seq(0, 52, by = 4),\n",
    "                     fill = 'gold',\n",
    "                     colour = 'black',) + \n",
    "      ggtitle ('Histogram for control group') + \n",
    "      labs(x= 'Measure of length (in weeks) of the first spell of unemployment',\n",
    "           caption = 'Data from U.S. Department of Labor')+\n",
    "      theme(plot.title=element_text(hjust=0.5))"
   ]
  },
  {
   "cell_type": "code",
   "execution_count": 41,
   "id": "d7e44bd3",
   "metadata": {},
   "outputs": [
    {
     "data": {
      "image/png": "[encoded data removed]",
      "text/plain": [
       "plot without title"
      ]
     },
     "metadata": {},
     "output_type": "display_data"
    }
   ],
   "source": [
    "#We compare distribution of the two groups\n",
    "density <-   ggplot()+ \n",
    "             geom_density( data =  treatment,\n",
    "                           aes(x=inuidur1), \n",
    "                           alpha=0.2, \n",
    "                           fill = 'darkturquoise',\n",
    "                           colour = 'darkturquoise',) + \n",
    "             geom_density(data=control, \n",
    "                          aes(x=inuidur1),\n",
    "                          alpha=0.2, \n",
    "                          fill = 'gold',\n",
    "                          colour = 'gold') +\n",
    "             ggtitle ('Density Plot for treatment and control group') + \n",
    "             labs(x= 'Measure of length (in weeks) of the first spell of unemployment',\n",
    "                  caption = 'Data from U.S. Department of Labor') +\n",
    "             theme(legend.position =  \"right\", \n",
    "                   plot.title=element_text(hjust=0.5)) +\n",
    "             guides(color = \"legend\") +\n",
    "             scale_fill_discrete(name = 'Groups',\n",
    "                                 labels = c('Treatment','Control'))\n",
    "density"
   ]
  },
  {
   "cell_type": "markdown",
   "id": "ba66daf4",
   "metadata": {},
   "source": [
    "In the density plot of the treatment and control groups, we can see that the data of groups are distributed in a similar way, which allows the comparability of both groups."
   ]
  },
  {
   "cell_type": "markdown",
   "id": "5eb1747d",
   "metadata": {},
   "source": [
    "## Carry out covariate balance check"
   ]
  },
  {
   "cell_type": "code",
   "execution_count": 42,
   "id": "0203cc34",
   "metadata": {},
   "outputs": [
    {
     "data": {
      "text/plain": [
       "   Mode   FALSE    TRUE \n",
       "logical    3354    2428 "
      ]
     },
     "metadata": {},
     "output_type": "display_data"
    }
   ],
   "source": [
    "T2<- (tg==2)\n",
    "summary(T2)"
   ]
  },
  {
   "cell_type": "code",
   "execution_count": 43,
   "id": "92e10a9c",
   "metadata": {},
   "outputs": [
    {
     "data": {
      "text/plain": [
       "\n",
       "t test of coefficients:\n",
       "\n",
       "                       Estimate Std. Error t value  Pr(>|t|)    \n",
       "(Intercept)           0.5171342  0.1568823  3.2963 0.0009856 ***\n",
       "female                0.0056240  0.1324597  0.0425 0.9661352    \n",
       "black                -0.0307771  0.0847262 -0.3633 0.7164293    \n",
       "othrace              -0.4278818  0.3005502 -1.4237 0.1545993    \n",
       "factor(dep)1          0.1576567  0.1851798  0.8514 0.3945992    \n",
       "factor(dep)2         -0.1927958  0.1508926 -1.2777 0.2014067    \n",
       "q2                   -0.1092161  0.1583768 -0.6896 0.4904762    \n",
       "q3                   -0.1075663  0.1579864 -0.6809 0.4959890    \n",
       "q4                   -0.0621302  0.1581168 -0.3929 0.6943797    \n",
       "q5                   -0.0498684  0.1575034 -0.3166 0.7515450    \n",
       "q6                   -0.2176336  0.1558290 -1.3966 0.1625831    \n",
       "agelt35              -0.0643464  0.1326376 -0.4851 0.6276032    \n",
       "agegt54               0.0259251  0.2395371  0.1082 0.9138171    \n",
       "durable              -0.1256397  0.1763853 -0.7123 0.4763064    \n",
       "lusd                  0.0860694  0.0690513  1.2465 0.2126486    \n",
       "husd                 -0.0181543  0.0761231 -0.2385 0.8115132    \n",
       "female:black          0.0026783  0.0438397  0.0611 0.9512880    \n",
       "female:othrace        0.1015133  0.2062044  0.4923 0.6225301    \n",
       "female:factor(dep)1  -0.0178540  0.0448463 -0.3981 0.6905601    \n",
       "female:factor(dep)2   0.0219424  0.0397124  0.5525 0.5806048    \n",
       "female:q2            -0.0994751  0.1321625 -0.7527 0.4516778    \n",
       "female:q3            -0.0143909  0.1318197 -0.1092 0.9130705    \n",
       "female:q4            -0.0166871  0.1315462 -0.1269 0.8990607    \n",
       "female:q5            -0.0586323  0.1310954 -0.4472 0.6547126    \n",
       "female:q6             0.0549625  0.1396608  0.3935 0.6939334    \n",
       "female:agelt35        0.0333185  0.0295704  1.1268 0.2598944    \n",
       "female:agegt54       -0.0109911  0.0500743 -0.2195 0.8262722    \n",
       "female:durable       -0.0585915  0.0437316 -1.3398 0.1803639    \n",
       "female:lusd           0.0051154  0.0333352  0.1535 0.8780465    \n",
       "female:husd           0.0186705  0.0367009  0.5087 0.6109674    \n",
       "black:factor(dep)1   -0.0138871  0.0675124 -0.2057 0.8370347    \n",
       "black:factor(dep)2   -0.0230275  0.0622780 -0.3698 0.7115795    \n",
       "black:q2              0.1310560  0.0910134  1.4400 0.1499327    \n",
       "black:q3              0.0356778  0.0875644  0.4074 0.6836956    \n",
       "black:q4             -0.1094835  0.0892166 -1.2272 0.2198114    \n",
       "black:q5             -0.0107546  0.0866019 -0.1242 0.9011738    \n",
       "black:agelt35         0.0295378  0.0448494  0.6586 0.5101795    \n",
       "black:agegt54        -0.0574814  0.0820450 -0.7006 0.4835761    \n",
       "black:durable        -0.0122293  0.0694472 -0.1761 0.8602255    \n",
       "black:lusd            0.0105912  0.0551036  0.1922 0.8475884    \n",
       "black:husd            0.1309267  0.1808848  0.7238 0.4692108    \n",
       "othrace:factor(dep)1  0.5856787  0.2226353  2.6307 0.0085448 ** \n",
       "othrace:factor(dep)2 -0.1436491  0.3315486 -0.4333 0.6648372    \n",
       "othrace:q2           -0.4009126  0.3451284 -1.1616 0.2454333    \n",
       "othrace:q3            0.6008526  0.2361499  2.5444 0.0109738 *  \n",
       "othrace:q4            0.2964049  0.2870002  1.0328 0.3017560    \n",
       "othrace:q5            0.2727293  0.1923161  1.4181 0.1562076    \n",
       "othrace:agelt35       0.0077601  0.2082436  0.0373 0.9702755    \n",
       "othrace:agegt54       0.2411511  0.3193219  0.7552 0.4501618    \n",
       "othrace:durable      -0.1463647  0.2138674 -0.6844 0.4937685    \n",
       "othrace:lusd          0.0924759  0.2070878  0.4466 0.6552140    \n",
       "othrace:husd         -0.8586692  0.3178289 -2.7017 0.0069197 ** \n",
       "factor(dep)1:q2      -0.0778714  0.1856444 -0.4195 0.6748920    \n",
       "factor(dep)2:q2       0.1434300  0.1499260  0.9567 0.3387736    \n",
       "factor(dep)1:q3      -0.1493913  0.1848276 -0.8083 0.4189669    \n",
       "factor(dep)2:q3       0.1686729  0.1499105  1.1252 0.2605697    \n",
       "factor(dep)1:q4      -0.1594688  0.1838128 -0.8676 0.3856714    \n",
       "factor(dep)2:q4       0.1210031  0.1503997  0.8045 0.4211168    \n",
       "factor(dep)1:q5      -0.1176792  0.1832795 -0.6421 0.5208502    \n",
       "factor(dep)2:q5       0.1389782  0.1487634  0.9342 0.3502285    \n",
       "factor(dep)1:q6      -0.1531103  0.1949430 -0.7854 0.4322458    \n",
       "factor(dep)2:q6       0.1619139  0.1593360  1.0162 0.3095874    \n",
       "factor(dep)1:agelt35 -0.0036069  0.0467653 -0.0771 0.9385253    \n",
       "factor(dep)2:agelt35  0.0615367  0.0371449  1.6567 0.0976424 .  \n",
       "factor(dep)1:agegt54 -0.0883148  0.0649947 -1.3588 0.1742643    \n",
       "factor(dep)2:agegt54 -0.0784522  0.1509474 -0.5197 0.6032706    \n",
       "factor(dep)1:durable  0.0088069  0.0577750  0.1524 0.8788500    \n",
       "factor(dep)2:durable -0.0923628  0.0509130 -1.8141 0.0697103 .  \n",
       "factor(dep)1:lusd     0.0358529  0.0504978  0.7100 0.4777404    \n",
       "factor(dep)2:lusd     0.0706587  0.0459827  1.5366 0.1244382    \n",
       "factor(dep)1:husd    -0.0180593  0.0542162 -0.3331 0.7390723    \n",
       "factor(dep)2:husd     0.0065759  0.0476358  0.1380 0.8902087    \n",
       "q2:agelt35            0.0305875  0.1325911  0.2307 0.8175636    \n",
       "q2:agegt54            0.0590330  0.2393334  0.2467 0.8051835    \n",
       "q2:durable            0.1371323  0.1750979  0.7832 0.4335568    \n",
       "q2:lusd              -0.0530912  0.0720069 -0.7373 0.4609656    \n",
       "q2:husd               0.0859891  0.0776931  1.1068 0.2684364    \n",
       "q3:agelt35            0.0303266  0.1323929  0.2291 0.8188267    \n",
       "q3:agegt54            0.0250950  0.2378238  0.1055 0.9159676    \n",
       "q3:durable            0.1904666  0.1749626  1.0886 0.2763706    \n",
       "q3:lusd              -0.0706455  0.0705820 -1.0009 0.3169179    \n",
       "q3:husd               0.0444347  0.0773385  0.5745 0.5656194    \n",
       "q4:agelt35            0.0722676  0.1322839  0.5463 0.5848765    \n",
       "q4:agegt54           -0.0192713  0.2369080 -0.0813 0.9351705    \n",
       "q4:durable            0.1228723  0.1757888  0.6990 0.4845949    \n",
       "q4:lusd              -0.1132011  0.0712124 -1.5896 0.1119751    \n",
       "q4:husd               0.0103329  0.0772952  0.1337 0.8936596    \n",
       "q5:agelt35            0.0464703  0.1315468  0.3533 0.7239064    \n",
       "q5:agegt54           -0.1165307  0.2361590 -0.4934 0.6217196    \n",
       "q5:durable            0.1024633  0.1734395  0.5908 0.5546963    \n",
       "q5:lusd              -0.0357169  0.0702997 -0.5081 0.6114269    \n",
       "q5:husd               0.0269861  0.0756590  0.3567 0.7213443    \n",
       "q6:agelt35            0.1099339  0.1397160  0.7868 0.4314094    \n",
       "q6:agegt54           -0.0173502  0.2478564 -0.0700 0.9441953    \n",
       "q6:durable            0.2161095  0.1833399  1.1787 0.2385522    \n",
       "agelt35:durable       0.0323100  0.0403347  0.8010 0.4231383    \n",
       "agelt35:lusd         -0.0091978  0.0346701 -0.2653 0.7907913    \n",
       "agelt35:husd         -0.0249924  0.0389720 -0.6413 0.5213594    \n",
       "agegt54:durable      -0.0154688  0.0654590 -0.2363 0.8131985    \n",
       "agegt54:lusd          0.0286866  0.0569181  0.5040 0.6142822    \n",
       "agegt54:husd         -0.0423210  0.0610019 -0.6938 0.4878572    \n",
       "durable:lusd         -0.0385741  0.0428073 -0.9011 0.3675670    \n",
       "durable:husd          0.0093281  0.0525225  0.1776 0.8590417    \n",
       "---\n",
       "Signif. codes:  0 '***' 0.001 '**' 0.01 '*' 0.05 '.' 0.1 ' ' 1\n"
      ]
     },
     "metadata": {},
     "output_type": "display_data"
    }
   ],
   "source": [
    "reg<- lm(T2~(female+black+othrace+factor(dep)+q2+q3+q4+q5+q6+agelt35+agegt54+durable+lusd+husd)^2)\n",
    "coeftest(reg, vcov = vcovHC(reg, type=\"HC1\"))\n",
    "\n",
    "#get same dataframe\n",
    "S <- as.data.frame( model.matrix(reg) )\n",
    "no_col <- attributes(reg$coefficients)$names[is.na(reg$coefficients)]\n",
    "S1  <- S[, -which(names( S ) %in% no_col ) ]\n",
    "save( S1, file = \"../data/m_reg_g5.RData\")"
   ]
  },
  {
   "cell_type": "markdown",
   "id": "d23f65f6",
   "metadata": {},
   "source": [
    "## Model Specification\n",
    "We consider the following models\n",
    "1. classical 2-sample approach, no adjustment (CL)\n",
    "2. classical linear regression adjustment (CRA)\n",
    "3. interactive regression adjustment (IRA)\n",
    "4. interactive regression adjustment (IRA) using Lasso.\n",
    "\n",
    "and carry out robust inference using the estimatr R packages."
   ]
  },
  {
   "cell_type": "markdown",
   "id": "436cea87",
   "metadata": {},
   "source": [
    "### 2.1. No adjustment (2-sample approach)"
   ]
  },
  {
   "cell_type": "code",
   "execution_count": 44,
   "id": "021ac114",
   "metadata": {},
   "outputs": [
    {
     "name": "stdout",
     "output_type": "stream",
     "text": [
      "\n",
      "t test of coefficients:\n",
      "\n",
      "             Estimate Std. Error t value Pr(>|t|)    \n",
      "(Intercept)  2.056830   0.020954 98.1580  < 2e-16 ***\n",
      "T2TRUE      -0.078825   0.032509 -2.4247  0.01535 *  \n",
      "---\n",
      "Signif. codes:  0 '***' 0.001 '**' 0.01 '*' 0.05 '.' 0.1 ' ' 1\n",
      "\n"
     ]
    }
   ],
   "source": [
    "formula_cl <- log(inuidur1)~T2\n",
    "ols.cl_reg <- lm(formula_cl)\n",
    "ols.cl = coeftest(ols.cl_reg, vcov = vcovHC(ols.cl_reg, type=\"HC1\"))\n",
    "print(ols.cl)\n",
    "\n",
    "# get same dataframe for ols.cl\n",
    "S <- as.data.frame( model.matrix(ols.cl_reg) )\n",
    "no_col <- attributes(ols.cl_reg$coefficients)$names[is.na(ols.cl_reg$coefficients)]\n",
    "S1  <- S[, -which(names( S ) %in% no_col ) ]\n",
    "save( S1, file = \"../data/ols_cl_reg_g5.RData\")"
   ]
  },
  {
   "cell_type": "markdown",
   "id": "e50d0dc0",
   "metadata": {},
   "source": [
    "### 2.2. Classical linear regression adjustment (CRA)"
   ]
  },
  {
   "cell_type": "code",
   "execution_count": 45,
   "id": "37325076",
   "metadata": {},
   "outputs": [
    {
     "name": "stdout",
     "output_type": "stream",
     "text": [
      "\n",
      "t test of coefficients:\n",
      "\n",
      "                       Estimate Std. Error t value  Pr(>|t|)    \n",
      "(Intercept)           2.4471832  0.3580899  6.8340 9.123e-12 ***\n",
      "T2TRUE               -0.0712066  0.0320440 -2.2222 0.0263124 *  \n",
      "female               -0.9428048  0.2827961 -3.3339 0.0008620 ***\n",
      "black                -0.6654258  0.2430567 -2.7377 0.0062056 ** \n",
      "othrace              -1.5494550  0.7312071 -2.1190 0.0341306 *  \n",
      "factor(dep)1          0.2798498  0.3783316  0.7397 0.4595160    \n",
      "factor(dep)2          0.1678164  0.3678718  0.4562 0.6482768    \n",
      "q2                    0.0271228  0.3606226  0.0752 0.9400495    \n",
      "q3                   -0.3542370  0.3601780 -0.9835 0.3254005    \n",
      "q4                   -0.3380244  0.3606994 -0.9371 0.3487284    \n",
      "q5                   -0.1777168  0.3598757 -0.4938 0.6214465    \n",
      "q6                   -0.4456044  0.3612792 -1.2334 0.2174749    \n",
      "agelt35              -0.3264815  0.3108711 -1.0502 0.2936639    \n",
      "agegt54              -0.1551504  0.4796700 -0.3235 0.7463646    \n",
      "durable              -1.0151542  0.4449002 -2.2818 0.0225405 *  \n",
      "lusd                 -0.1193717  0.1744506 -0.6843 0.4938310    \n",
      "husd                  0.0702968  0.1877772  0.3744 0.7081482    \n",
      "female:black         -0.2840034  0.1181815 -2.4031 0.0162880 *  \n",
      "female:othrace        0.4211653  0.4881117  0.8628 0.3882586    \n",
      "female:factor(dep)1  -0.0852110  0.1097575 -0.7764 0.4375706    \n",
      "female:factor(dep)2   0.0191663  0.0960257  0.1996 0.8418042    \n",
      "female:q2             0.7579484  0.2816463  2.6911 0.0071418 ** \n",
      "female:q3             1.1132040  0.2804776  3.9690 7.308e-05 ***\n",
      "female:q4             1.0476270  0.2803218  3.7372 0.0001879 ***\n",
      "female:q5             0.9391723  0.2797468  3.3572 0.0007925 ***\n",
      "female:q6             1.0943376  0.3051864  3.5858 0.0003389 ***\n",
      "female:agelt35        0.0897041  0.0717530  1.2502 0.2112858    \n",
      "female:agegt54        0.1052300  0.1192511  0.8824 0.3775848    \n",
      "female:durable        0.1479312  0.1045882  1.4144 0.1572946    \n",
      "female:lusd           0.1040466  0.0803795  1.2944 0.1955654    \n",
      "female:husd           0.0405424  0.0871027  0.4655 0.6416233    \n",
      "black:factor(dep)1    0.2550534  0.1776949  1.4353 0.1512441    \n",
      "black:factor(dep)2   -0.0026687  0.1685717 -0.0158 0.9873694    \n",
      "black:q2              0.1578965  0.2541864  0.6212 0.5345037    \n",
      "black:q3              0.3136968  0.2421894  1.2953 0.1952852    \n",
      "black:q4              0.4070568  0.2531613  1.6079 0.1079138    \n",
      "black:q5              0.4779693  0.2423807  1.9720 0.0486606 *  \n",
      "black:agelt35        -0.0327885  0.1199314 -0.2734 0.7845605    \n",
      "black:agegt54         0.2404150  0.2150911  1.1177 0.2637272    \n",
      "black:durable         0.1604680  0.1818229  0.8826 0.3775165    \n",
      "black:lusd            0.0976747  0.1397249  0.6991 0.4845494    \n",
      "black:husd            0.5226586  0.4705587  1.1107 0.2667363    \n",
      "othrace:factor(dep)1  1.1661534  0.5688725  2.0499 0.0404163 *  \n",
      "othrace:factor(dep)2 -0.7687279  0.6882470 -1.1169 0.2640689    \n",
      "othrace:q2            1.5108063  0.7553314  2.0002 0.0455273 *  \n",
      "othrace:q3            0.2915823  0.4010420  0.7271 0.4672180    \n",
      "othrace:q4            0.9422587  0.5216038  1.8065 0.0708987 .  \n",
      "othrace:q5            0.9633463  0.4508887  2.1366 0.0326772 *  \n",
      "othrace:agelt35      -0.1902437  0.5742114 -0.3313 0.7404203    \n",
      "othrace:agegt54      -1.5319860  0.7774149 -1.9706 0.0488163 *  \n",
      "othrace:durable       1.9037227  0.2984229  6.3793 1.920e-10 ***\n",
      "othrace:lusd         -0.1288020  0.3847564 -0.3348 0.7378166    \n",
      "othrace:husd          0.6131158  0.6322611  0.9697 0.3322277    \n",
      "factor(dep)1:q2      -0.0578297  0.3766295 -0.1535 0.8779737    \n",
      "factor(dep)2:q2      -0.0868354  0.3663258 -0.2370 0.8126310    \n",
      "factor(dep)1:q3      -0.1448244  0.3766926 -0.3845 0.7006496    \n",
      "factor(dep)2:q3      -0.0664361  0.3661251 -0.1815 0.8560150    \n",
      "factor(dep)1:q4      -0.2322822  0.3758156 -0.6181 0.5365507    \n",
      "factor(dep)2:q4      -0.0189174  0.3664236 -0.0516 0.9588277    \n",
      "factor(dep)1:q5      -0.1366847  0.3745611 -0.3649 0.7151851    \n",
      "factor(dep)2:q5      -0.3474112  0.3658274 -0.9497 0.3423260    \n",
      "factor(dep)1:q6      -0.0754430  0.4237563 -0.1780 0.8587026    \n",
      "factor(dep)2:q6       0.1670275  0.3862462  0.4324 0.6654396    \n",
      "factor(dep)1:agelt35  0.0295559  0.1110959  0.2660 0.7902184    \n",
      "factor(dep)2:agelt35  0.0604359  0.0884161  0.6835 0.4942940    \n",
      "factor(dep)1:agegt54 -0.0653782  0.1579819 -0.4138 0.6790114    \n",
      "factor(dep)2:agegt54  0.2389402  0.3502460  0.6822 0.4951360    \n",
      "factor(dep)1:durable  0.2490245  0.1390534  1.7909 0.0733699 .  \n",
      "factor(dep)2:durable  0.1155334  0.1210212  0.9547 0.3397934    \n",
      "factor(dep)1:lusd    -0.1891318  0.1198463 -1.5781 0.1145937    \n",
      "factor(dep)2:lusd     0.0099694  0.1080574  0.0923 0.9264947    \n",
      "factor(dep)1:husd     0.0210466  0.1300914  0.1618 0.8714822    \n",
      "factor(dep)2:husd     0.0643927  0.1120225  0.5748 0.5654361    \n",
      "q2:agelt35            0.1074960  0.3106163  0.3461 0.7293005    \n",
      "q2:agegt54            0.2089269  0.4790236  0.4362 0.6627433    \n",
      "q2:durable            0.4369419  0.4446247  0.9827 0.3257868    \n",
      "q2:lusd              -0.0452343  0.1775655 -0.2547 0.7989278    \n",
      "q2:husd              -0.2223717  0.1866781 -1.1912 0.2336234    \n",
      "q3:agelt35            0.1804517  0.3105857  0.5810 0.5612606    \n",
      "q3:agegt54            0.5556566  0.4753225  1.1690 0.2424487    \n",
      "q3:durable            0.8395937  0.4443589  1.8894 0.0588825 .  \n",
      "q3:lusd              -0.0159614  0.1750847 -0.0912 0.9273658    \n",
      "q3:husd              -0.1130923  0.1853528 -0.6101 0.5417894    \n",
      "q4:agelt35            0.1182933  0.3104549  0.3810 0.7031937    \n",
      "q4:agegt54            0.3742015  0.4730138  0.7911 0.4289183    \n",
      "q4:durable            0.7433954  0.4469877  1.6631 0.0963430 .  \n",
      "q4:lusd              -0.0222100  0.1777450 -0.1250 0.9005644    \n",
      "q4:husd              -0.1847688  0.1860619 -0.9931 0.3207276    \n",
      "q5:agelt35           -0.0347993  0.3094880 -0.1124 0.9104773    \n",
      "q5:agegt54            0.2173394  0.4741739  0.4584 0.6467158    \n",
      "q5:durable            0.8553983  0.4436236  1.9282 0.0538791 .  \n",
      "q5:lusd              -0.1842941  0.1767158 -1.0429 0.2970464    \n",
      "q5:husd              -0.2741579  0.1844937 -1.4860 0.1373343    \n",
      "q6:agelt35            0.1822011  0.3330819  0.5470 0.5843893    \n",
      "q6:agegt54            0.6639470  0.5038773  1.3177 0.1876654    \n",
      "q6:durable            1.1466872  0.4656818  2.4624 0.0138312 *  \n",
      "agelt35:durable       0.0130415  0.0974530  0.1338 0.8935470    \n",
      "agelt35:lusd         -0.0561347  0.0826337 -0.6793 0.4969628    \n",
      "agelt35:husd          0.0174718  0.0917544  0.1904 0.8489878    \n",
      "agegt54:durable      -0.0133916  0.1551439 -0.0863 0.9312172    \n",
      "agegt54:lusd         -0.0236037  0.1297822 -0.1819 0.8556901    \n",
      "agegt54:husd         -0.2739141  0.1437349 -1.9057 0.0567409 .  \n",
      "durable:lusd          0.2916144  0.1033609  2.8213 0.0047992 ** \n",
      "durable:husd          0.3027337  0.1242434  2.4366 0.0148558 *  \n",
      "---\n",
      "Signif. codes:  0 '***' 0.001 '**' 0.01 '*' 0.05 '.' 0.1 ' ' 1\n",
      "\n"
     ]
    }
   ],
   "source": [
    "formula_cra <- log(inuidur1)~T2+ (female+black+othrace+factor(dep)+q2+q3+q4+q5+q6+agelt35+agegt54+durable+lusd+husd)^2\n",
    "ols.cra_reg <- lm(formula_cra)\n",
    "ols.cra = coeftest(ols.cra_reg, vcov = vcovHC(ols.cra_reg, type=\"HC1\"))\n",
    "print(ols.cra)\n",
    "\n",
    "# get same dataframe for ols.cl\n",
    "S <- as.data.frame( model.matrix(ols.cra_reg) )\n",
    "no_col <- attributes(ols.cra_reg$coefficients)$names[is.na(ols.cra_reg$coefficients)]\n",
    "S1  <- S[, -which(names( S ) %in% no_col ) ]\n",
    "save( S1, file = \"../data/ols_cra_reg_g5.RData\")"
   ]
  },
  {
   "cell_type": "markdown",
   "id": "5de3637b",
   "metadata": {},
   "source": [
    "### 2.3. Interactive regression adjustment (IRA)"
   ]
  },
  {
   "cell_type": "code",
   "execution_count": 46,
   "id": "d0f95add",
   "metadata": {},
   "outputs": [
    {
     "data": {
      "text/html": [
       "<ol class=list-inline>\n",
       "\t<li>5782</li>\n",
       "\t<li>119</li>\n",
       "</ol>\n"
      ],
      "text/latex": [
       "\\begin{enumerate*}\n",
       "\\item 5782\n",
       "\\item 119\n",
       "\\end{enumerate*}\n"
      ],
      "text/markdown": [
       "1. 5782\n",
       "2. 119\n",
       "\n",
       "\n"
      ],
      "text/plain": [
       "[1] 5782  119"
      ]
     },
     "metadata": {},
     "output_type": "display_data"
    },
    {
     "name": "stdout",
     "output_type": "stream",
     "text": [
      "\n",
      "t test of coefficients:\n",
      "\n",
      "                               Estimate Std. Error t value  Pr(>|t|)    \n",
      "(Intercept)                   2.0556976  0.0207138 99.2430 < 2.2e-16 ***\n",
      "T2TRUE                       -0.0699044  0.0320764 -2.1793 0.0293503 *  \n",
      "Zfemale                      -0.6662823  0.4080234 -1.6330 0.1025357    \n",
      "Zblack                       -0.8634862  0.2969435 -2.9079 0.0036528 ** \n",
      "Zothrace                     -3.8176881  0.9366193 -4.0760 4.645e-05 ***\n",
      "Zfactor(dep)1                 0.0359264  0.6476816  0.0555 0.9557666    \n",
      "Zfactor(dep)2                 0.2117556  0.4512231  0.4693 0.6388790    \n",
      "Zq2                          -0.2546436  0.4553391 -0.5592 0.5760207    \n",
      "Zq3                          -0.6212326  0.4549639 -1.3655 0.1721653    \n",
      "Zq4                          -0.4799269  0.4561206 -1.0522 0.2927566    \n",
      "Zq5                          -0.3718675  0.4538882 -0.8193 0.4126542    \n",
      "Zq6                          -0.6770474  0.4521499 -1.4974 0.1343469    \n",
      "Zagelt35                     -0.6777054  0.4093673 -1.6555 0.0978805 .  \n",
      "Zagegt54                     -0.3041092  0.7006092 -0.4341 0.6642588    \n",
      "Zdurable                     -0.8380082  0.5963489 -1.4052 0.1600082    \n",
      "Zlusd                        -0.0994890  0.2279257 -0.4365 0.6624926    \n",
      "Zhusd                        -0.0626419  0.2349114 -0.2667 0.7897393    \n",
      "Zfemale:black                -0.2154799  0.1505114 -1.4317 0.1522994    \n",
      "Zfemale:othrace               0.5994387  0.5625667  1.0655 0.2866767    \n",
      "Zfemale:factor(dep)1         -0.1734245  0.1418828 -1.2223 0.2216430    \n",
      "Zfemale:factor(dep)2          0.2166417  0.1263365  1.7148 0.0864376 .  \n",
      "Zfemale:q2                    0.3918886  0.4066775  0.9636 0.3352708    \n",
      "Zfemale:q3                    0.6850391  0.4063439  1.6859 0.0918786 .  \n",
      "Zfemale:q4                    0.7213679  0.4061508  1.7761 0.0757695 .  \n",
      "Zfemale:q5                    0.5657763  0.4047829  1.3977 0.1622504    \n",
      "Zfemale:q6                    0.9081697  0.4304200  2.1100 0.0349061 *  \n",
      "Zfemale:agelt35               0.1700754  0.0950652  1.7890 0.0736628 .  \n",
      "Zfemale:agegt54               0.2357510  0.1601252  1.4723 0.1409985    \n",
      "Zfemale:durable               0.0974132  0.1376173  0.7079 0.4790645    \n",
      "Zfemale:lusd                  0.0720077  0.1065205  0.6760 0.4990695    \n",
      "Zfemale:husd                  0.0609671  0.1164456  0.5236 0.6006003    \n",
      "Zblack:factor(dep)1           0.1090114  0.2284814  0.4771 0.6333006    \n",
      "Zblack:factor(dep)2          -0.2006964  0.2284549 -0.8785 0.3797132    \n",
      "Zblack:q2                     0.4266974  0.3206741  1.3306 0.1833664    \n",
      "Zblack:q3                     0.3299448  0.3029904  1.0890 0.2762180    \n",
      "Zblack:q4                     0.5443145  0.3105213  1.7529 0.0796731 .  \n",
      "Zblack:q5                     0.6596567  0.3000532  2.1985 0.0279568 *  \n",
      "Zblack:agelt35                0.0829816  0.1583380  0.5241 0.6002448    \n",
      "Zblack:agegt54                0.4229716  0.2547482  1.6604 0.0968999 .  \n",
      "Zblack:durable                0.4681489  0.2274260  2.0585 0.0395917 *  \n",
      "Zblack:lusd                   0.3086087  0.1843460  1.6741 0.0941723 .  \n",
      "Zblack:husd                   0.5498228  0.6596114  0.8336 0.4045671    \n",
      "Zothrace:factor(dep)1         2.5201927  1.8549913  1.3586 0.1743280    \n",
      "Zothrace:factor(dep)2         1.1888567  0.5731618  2.0742 0.0381058 *  \n",
      "Zothrace:q2                   2.0825791  0.6083699  3.4232 0.0006233 ***\n",
      "Zothrace:q3                   0.9373310  0.6602083  1.4198 0.1557363    \n",
      "Zothrace:q4                   3.8597060  0.8805067  4.3835 1.189e-05 ***\n",
      "Zothrace:q5                   0.9711789  0.5525530  1.7576 0.0788668 .  \n",
      "Zothrace:agelt35              2.2479921  0.9154188  2.4557 0.0140914 *  \n",
      "Zothrace:agegt54             -4.1489603  0.4818685 -8.6102 < 2.2e-16 ***\n",
      "Zothrace:durable              1.7505609  0.3704944  4.7249 2.358e-06 ***\n",
      "Zothrace:lusd                -0.6944472  0.4952271 -1.4023 0.1608872    \n",
      "Zothrace:husd                 4.7889261  0.8179777  5.8546 5.054e-09 ***\n",
      "Zfactor(dep)1:q2              0.2338980  0.6415478  0.3646 0.7154358    \n",
      "Zfactor(dep)2:q2             -0.2176777  0.4481681 -0.4857 0.6271950    \n",
      "Zfactor(dep)1:q3              0.1543408  0.6437163  0.2398 0.8105211    \n",
      "Zfactor(dep)2:q3             -0.2544863  0.4501910 -0.5653 0.5719025    \n",
      "Zfactor(dep)1:q4             -0.0239012  0.6423016 -0.0372 0.9703174    \n",
      "Zfactor(dep)2:q4             -0.1619010  0.4510902 -0.3589 0.7196756    \n",
      "Zfactor(dep)1:q5              0.1395606  0.6382824  0.2187 0.8269306    \n",
      "Zfactor(dep)2:q5             -0.5626408  0.4488622 -1.2535 0.2100829    \n",
      "Zfactor(dep)1:q6              0.4833394  0.6803127  0.7105 0.4774445    \n",
      "Zfactor(dep)2:q6             -0.0048033  0.4773043 -0.0101 0.9919711    \n",
      "Zfactor(dep)1:agelt35         0.0507982  0.1492874  0.3403 0.7336654    \n",
      "Zfactor(dep)2:agelt35         0.1192418  0.1162344  1.0259 0.3049958    \n",
      "Zfactor(dep)1:agegt54         0.0366384  0.2054287  0.1784 0.8584540    \n",
      "Zfactor(dep)2:agegt54         0.2231138  0.4207401  0.5303 0.5959327    \n",
      "Zfactor(dep)1:durable         0.3397110  0.1841554  1.8447 0.0651345 .  \n",
      "Zfactor(dep)2:durable         0.1146589  0.1531899  0.7485 0.4542048    \n",
      "Zfactor(dep)1:lusd           -0.2603558  0.1618053 -1.6091 0.1076579    \n",
      "Zfactor(dep)2:lusd            0.1150924  0.1398792  0.8228 0.4106577    \n",
      "Zfactor(dep)1:husd           -0.0427975  0.1657611 -0.2582 0.7962714    \n",
      "Zfactor(dep)2:husd            0.0180150  0.1511058  0.1192 0.9051045    \n",
      "Zq2:agelt35                   0.5007384  0.4096962  1.2222 0.2216766    \n",
      "Zq2:agegt54                   0.4321562  0.6979014  0.6192 0.5357951    \n",
      "Zq2:durable                   0.2615077  0.5932161  0.4408 0.6593528    \n",
      "Zq2:lusd                     -0.0675213  0.2308924 -0.2924 0.7699640    \n",
      "Zq2:husd                     -0.1818392  0.2336888 -0.7781 0.4365280    \n",
      "Zq3:agelt35                   0.5137183  0.4098065  1.2536 0.2100534    \n",
      "Zq3:agegt54                   0.7245598  0.6955337  1.0417 0.2975811    \n",
      "Zq3:durable                   0.7223769  0.5918087  1.2206 0.2222794    \n",
      "Zq3:lusd                     -0.0013615  0.2301270 -0.0059 0.9952798    \n",
      "Zq3:husd                      0.0989285  0.2316105  0.4271 0.6692989    \n",
      "Zq4:agelt35                   0.4048006  0.4097478  0.9879 0.3232316    \n",
      "Zq4:agegt54                   0.2469008  0.6936661  0.3559 0.7219019    \n",
      "Zq4:durable                   0.5937668  0.5979290  0.9930 0.3207340    \n",
      "Zq4:lusd                     -0.1685841  0.2323628 -0.7255 0.4681629    \n",
      "Zq4:husd                     -0.1450618  0.2348279 -0.6177 0.5367741    \n",
      "Zq5:agelt35                   0.2160041  0.4081014  0.5293 0.5966252    \n",
      "Zq5:agegt54                   0.0996302  0.6916342  0.1441 0.8854658    \n",
      "Zq5:durable                   0.8536110  0.5903036  1.4461 0.1482182    \n",
      "Zq5:lusd                     -0.2592947  0.2340000 -1.1081 0.2678676    \n",
      "Zq5:husd                     -0.1735647  0.2316012 -0.7494 0.4536405    \n",
      "Zq6:agelt35                   0.3823616  0.4342403  0.8805 0.3786101    \n",
      "Zq6:agegt54                   0.8362035  0.7277854  1.1490 0.2506177    \n",
      "Zq6:durable                   1.0289246  0.6182369  1.6643 0.0961109 .  \n",
      "Zagelt35:durable             -0.0026919  0.1255663 -0.0214 0.9828970    \n",
      "Zagelt35:lusd                -0.0573760  0.1093093 -0.5249 0.5996765    \n",
      "Zagelt35:husd                 0.0545333  0.1255950  0.4342 0.6641603    \n",
      "Zagegt54:durable             -0.1239369  0.2073592 -0.5977 0.5500699    \n",
      "Zagegt54:lusd                 0.0912453  0.1756844  0.5194 0.6035228    \n",
      "Zagegt54:husd                -0.3145573  0.1892620 -1.6620 0.0965649 .  \n",
      "Zdurable:lusd                 0.2633733  0.1377873  1.9114 0.0559982 .  \n",
      "Zdurable:husd                 0.3137941  0.1581735  1.9839 0.0473203 *  \n",
      "T2TRUE:Zfemale               -0.6597505  0.5498974 -1.1998 0.2302796    \n",
      "T2TRUE:Zblack                 0.4525570  0.5103188  0.8868 0.3752182    \n",
      "T2TRUE:Zothrace               2.2114703  1.1019213  2.0069 0.0448061 *  \n",
      "T2TRUE:Zfactor(dep)1          0.7636025  0.7854484  0.9722 0.3309998    \n",
      "T2TRUE:Zfactor(dep)2         -0.0511656  0.7787378 -0.0657 0.9476164    \n",
      "T2TRUE:Zq2                    0.8969455  0.7369231  1.2171 0.2235988    \n",
      "T2TRUE:Zq3                    0.8962389  0.7356679  1.2183 0.2231746    \n",
      "T2TRUE:Zq4                    0.5889998  0.7360986  0.8002 0.4236497    \n",
      "T2TRUE:Zq5                    0.7173442  0.7348525  0.9762 0.3290204    \n",
      "T2TRUE:Zq6                    0.7812489  0.7433947  1.0509 0.2933405    \n",
      "T2TRUE:Zagelt35               1.1233199  0.6374193  1.7623 0.0780744 .  \n",
      "T2TRUE:Zagegt54               0.4142771  0.8713838  0.4754 0.6345031    \n",
      "T2TRUE:Zdurable               0.0698550  0.8506225  0.0821 0.9345525    \n",
      "T2TRUE:Zlusd                 -0.0864022  0.3607507 -0.2395 0.8107216    \n",
      "T2TRUE:Zhusd                  0.2845565  0.3988946  0.7134 0.4756512    \n",
      "T2TRUE:Zfemale:black         -0.2036471  0.2434209 -0.8366 0.4028505    \n",
      "T2TRUE:Zfemale:othrace       -0.9119496  0.5800698 -1.5721 0.1159753    \n",
      "T2TRUE:Zfemale:factor(dep)1   0.1813213  0.2195306  0.8260 0.4088676    \n",
      "T2TRUE:Zfemale:factor(dep)2  -0.4690337  0.1987659 -2.3597 0.0183225 *  \n",
      "T2TRUE:Zfemale:q2             0.8485381  0.5490759  1.5454 0.1223079    \n",
      "T2TRUE:Zfemale:q3             1.0429018  0.5461093  1.9097 0.0562238 .  \n",
      "T2TRUE:Zfemale:q4             0.7824923  0.5455513  1.4343 0.1515385    \n",
      "T2TRUE:Zfemale:q5             0.8993802  0.5448366  1.6507 0.0988492 .  \n",
      "T2TRUE:Zfemale:q6             0.4085802  0.6037867  0.6767 0.4986267    \n",
      "T2TRUE:Zfemale:agelt35       -0.1861481  0.1458569 -1.2762 0.2019247    \n",
      "T2TRUE:Zfemale:agegt54       -0.3821490  0.2443204 -1.5641 0.1178436    \n",
      "T2TRUE:Zfemale:durable        0.1103768  0.2146252  0.5143 0.6070787    \n",
      "T2TRUE:Zfemale:lusd           0.1060964  0.1631061  0.6505 0.5154122    \n",
      "T2TRUE:Zfemale:husd          -0.0426056  0.1785080 -0.2387 0.8113657    \n",
      "T2TRUE:Zblack:factor(dep)1    0.3636326  0.3503546  1.0379 0.2993622    \n",
      "T2TRUE:Zblack:factor(dep)2    0.4284152  0.3383550  1.2662 0.2055049    \n",
      "T2TRUE:Zblack:q2             -0.5878223  0.5288254 -1.1116 0.2663743    \n",
      "T2TRUE:Zblack:q3             -0.0624725  0.5099293 -0.1225 0.9024978    \n",
      "T2TRUE:Zblack:q4             -0.4010428  0.5365391 -0.7475 0.4548159    \n",
      "T2TRUE:Zblack:q5             -0.4358990  0.5091812 -0.8561 0.3919912    \n",
      "T2TRUE:Zblack:agelt35        -0.2159315  0.2417908 -0.8931 0.3718684    \n",
      "T2TRUE:Zblack:agegt54        -0.2617225  0.4866710 -0.5378 0.5907496    \n",
      "T2TRUE:Zblack:durable        -0.8365016  0.3504939 -2.3866 0.0170364 *  \n",
      "T2TRUE:Zblack:lusd           -0.4264666  0.2797101 -1.5247 0.1273972    \n",
      "T2TRUE:Zblack:husd           -0.1958402  0.8911158 -0.2198 0.8260586    \n",
      "T2TRUE:Zothrace:factor(dep)1  0.4788267  1.8947966  0.2527 0.8005046    \n",
      "T2TRUE:Zothrace:factor(dep)2 -4.4513573  0.7816787 -5.6946 1.300e-08 ***\n",
      "T2TRUE:Zothrace:q3           -0.7826362  0.9146199 -0.8557 0.3922029    \n",
      "T2TRUE:Zothrace:q4           -2.4173200  1.1442098 -2.1127 0.0346747 *  \n",
      "T2TRUE:Zothrace:q5            0.7621242  0.7958190  0.9577 0.3382757    \n",
      "T2TRUE:Zothrace:agelt35      -3.8313400  0.9536672 -4.0175 5.960e-05 ***\n",
      "T2TRUE:Zothrace:durable       1.5658689  0.4621869  3.3880 0.0007090 ***\n",
      "T2TRUE:Zothrace:lusd          2.0930436  0.5135607  4.0756 4.654e-05 ***\n",
      "T2TRUE:Zfactor(dep)1:q2      -0.8317599  0.7784232 -1.0685 0.2853327    \n",
      "T2TRUE:Zfactor(dep)2:q2       0.2248592  0.7780400  0.2890 0.7725866    \n",
      "T2TRUE:Zfactor(dep)1:q3      -0.8572816  0.7801263 -1.0989 0.2718587    \n",
      "T2TRUE:Zfactor(dep)2:q3       0.3587274  0.7752186  0.4627 0.6435662    \n",
      "T2TRUE:Zfactor(dep)1:q4      -0.6286109  0.7764648 -0.8096 0.4182158    \n",
      "T2TRUE:Zfactor(dep)2:q4       0.2390021  0.7743617  0.3086 0.7576038    \n",
      "T2TRUE:Zfactor(dep)1:q5      -0.8384601  0.7751714 -1.0816 0.2794571    \n",
      "T2TRUE:Zfactor(dep)2:q5       0.4285344  0.7744398  0.5533 0.5800476    \n",
      "T2TRUE:Zfactor(dep)1:q6      -1.5381912  0.8933469 -1.7218 0.0851558 .  \n",
      "T2TRUE:Zfactor(dep)2:q6       0.2846591  0.8180721  0.3480 0.7278808    \n",
      "T2TRUE:Zfactor(dep)1:agelt35 -0.0778347  0.2244666 -0.3468 0.7287894    \n",
      "T2TRUE:Zfactor(dep)2:agelt35 -0.1017136  0.1803295 -0.5640 0.5727475    \n",
      "T2TRUE:Zfactor(dep)1:agegt54 -0.2824587  0.3235870 -0.8729 0.3827557    \n",
      "T2TRUE:Zfactor(dep)2:agegt54  0.3793047  0.5714519  0.6638 0.5068738    \n",
      "T2TRUE:Zfactor(dep)1:durable -0.2185591  0.2804612 -0.7793 0.4358451    \n",
      "T2TRUE:Zfactor(dep)2:durable -0.0950789  0.2599196 -0.3658 0.7145274    \n",
      "T2TRUE:Zfactor(dep)1:lusd     0.2161153  0.2432651  0.8884 0.3743671    \n",
      "T2TRUE:Zfactor(dep)2:lusd    -0.2070793  0.2219038 -0.9332 0.3507603    \n",
      "T2TRUE:Zfactor(dep)1:husd     0.1232418  0.2679611  0.4599 0.6455885    \n",
      "T2TRUE:Zfactor(dep)2:husd     0.1579798  0.2302758  0.6860 0.4927126    \n",
      "T2TRUE:Zq2:agelt35           -1.2407550  0.6357096 -1.9518 0.0510162 .  \n",
      "T2TRUE:Zq2:agegt54           -0.6019870  0.8705629 -0.6915 0.4892853    \n",
      "T2TRUE:Zq2:durable           -0.0777795  0.8549362 -0.0910 0.9275141    \n",
      "T2TRUE:Zq2:lusd               0.0508269  0.3672375  0.1384 0.8899267    \n",
      "T2TRUE:Zq2:husd              -0.0920285  0.3948698 -0.2331 0.8157231    \n",
      "T2TRUE:Zq3:agelt35           -1.1277892  0.6355092 -1.7746 0.0760147 .  \n",
      "T2TRUE:Zq3:agegt54           -0.5411478  0.8621311 -0.6277 0.5302352    \n",
      "T2TRUE:Zq3:durable           -0.1956176  0.8552255 -0.2287 0.8190854    \n",
      "T2TRUE:Zq3:lusd              -0.0739597  0.3608164 -0.2050 0.8375961    \n",
      "T2TRUE:Zq3:husd              -0.5532059  0.3911619 -1.4143 0.1573404    \n",
      "T2TRUE:Zq4:agelt35           -0.9925752  0.6341814 -1.5651 0.1176096    \n",
      "T2TRUE:Zq4:agegt54            0.2121763  0.8521836  0.2490 0.8033857    \n",
      "T2TRUE:Zq4:durable           -0.1187895  0.8619131 -0.1378 0.8903871    \n",
      "T2TRUE:Zq4:lusd               0.3041551  0.3661447  0.8307 0.4061807    \n",
      "T2TRUE:Zq4:husd              -0.0828034  0.3925595 -0.2109 0.8329480    \n",
      "T2TRUE:Zq5:agelt35           -0.9263119  0.6327188 -1.4640 0.1432453    \n",
      "T2TRUE:Zq5:agegt54            0.2187993  0.8619978  0.2538 0.7996377    \n",
      "T2TRUE:Zq5:durable           -0.4450627  0.8517335 -0.5225 0.6013169    \n",
      "T2TRUE:Zq5:lusd               0.0895975  0.3643448  0.2459 0.8057578    \n",
      "T2TRUE:Zq5:husd              -0.2456140  0.3905347 -0.6289 0.5294291    \n",
      "T2TRUE:Zq6:agelt35           -0.7320475  0.6840109 -1.0702 0.2845631    \n",
      "T2TRUE:Zq6:agegt54           -0.4355109  0.9347111 -0.4659 0.6412830    \n",
      "T2TRUE:Zq6:durable           -0.1469333  0.9049913 -0.1624 0.8710292    \n",
      "T2TRUE:Zagelt35:durable       0.0216203  0.2005310  0.1078 0.9141460    \n",
      "T2TRUE:Zagelt35:lusd          0.0680462  0.1695485  0.4013 0.6881870    \n",
      "T2TRUE:Zagelt35:husd         -0.0587002  0.1856361 -0.3162 0.7518542    \n",
      "T2TRUE:Zagegt54:durable       0.1732194  0.3177062  0.5452 0.5856247    \n",
      "T2TRUE:Zagegt54:lusd         -0.1245325  0.2667627 -0.4668 0.6406406    \n",
      "T2TRUE:Zagegt54:husd          0.2898645  0.2960548  0.9791 0.3275776    \n",
      "T2TRUE:Zdurable:lusd          0.1281108  0.2116361  0.6053 0.5449810    \n",
      "T2TRUE:Zdurable:husd          0.0133109  0.2552493  0.0521 0.9584121    \n",
      "---\n",
      "Signif. codes:  0 '***' 0.001 '**' 0.01 '*' 0.05 '.' 0.1 ' ' 1\n",
      "\n"
     ]
    }
   ],
   "source": [
    "X = model.matrix (~ (female+black+othrace+factor(dep)+q2+q3+q4+q5+q6+agelt35+agegt54+durable+lusd+husd)^2)[,-1]\n",
    "dim(X)\n",
    "demean<- function(x){ x - mean(x)}\n",
    "Z = apply(X, 2, demean)\n",
    "\n",
    "ols.ira_reg = lm(log(inuidur1) ~ T2*Z) \n",
    "ols.ira= coeftest(ols.ira_reg, vcov = vcovHC(ols.ira_reg, type=\"HC1\"))\n",
    "print(ols.ira)\n",
    "\n",
    "# get same dataframe for ols.ira\n",
    "S <- as.data.frame( model.matrix(ols.ira_reg) )\n",
    "no_col <- attributes(ols.ira_reg$coefficients)$names[is.na(ols.ira_reg$coefficients)]\n",
    "S1  <- S[, -which(names( S ) %in% no_col ) ]\n",
    "save( S1, file = \"../data/ols_ira_reg_g5.RData\")"
   ]
  },
  {
   "cell_type": "markdown",
   "id": "8a814660",
   "metadata": {},
   "source": [
    "### 2.4. Interactive regression adjustment (IRA) using Lasso."
   ]
  },
  {
   "cell_type": "code",
   "execution_count": 47,
   "id": "e5416e65",
   "metadata": {},
   "outputs": [
    {
     "name": "stdout",
     "output_type": "stream",
     "text": [
      "[1] \"Estimates and significance testing of the effect of target variables\"\n",
      "   Estimate. Std. Error t value Pr(>|t|)  \n",
      "T2  -0.07457    0.03209  -2.324   0.0201 *\n",
      "---\n",
      "Signif. codes:  0 '***' 0.001 '**' 0.01 '*' 0.05 '.' 0.1 ' ' 1\n",
      "\n",
      "\n"
     ]
    }
   ],
   "source": [
    "T2 = demean(T2)\n",
    "DZ = model.matrix(~T2*Z)[,-1]\n",
    "\n",
    "rlasso.ira = summary(rlassoEffects(DZ, log(inuidur1), index = 1))\n",
    "print(rlasso.ira)\n",
    "\n",
    "#getting data\n",
    "S = as.data.frame(DZ)\n",
    "save( S, file = \"../data/rlasso_ira_reg_g5.RData\")"
   ]
  },
  {
   "cell_type": "markdown",
   "id": "66ffdd5e",
   "metadata": {},
   "source": [
    "### Summary results"
   ]
  },
  {
   "cell_type": "code",
   "execution_count": 48,
   "id": "7ddbba28",
   "metadata": {},
   "outputs": [
    {
     "data": {
      "text/html": [
       "<table>\n",
       "<thead><tr><th></th><th scope=col>CL</th><th scope=col>CRA</th><th scope=col>IRA</th><th scope=col>IRA-Lasso</th></tr></thead>\n",
       "<tbody>\n",
       "\t<tr><th scope=row>estimate</th><td>-0.07882533</td><td>-0.07120664</td><td>-0.06990440</td><td>-0.07457328</td></tr>\n",
       "\t<tr><th scope=row>standard error</th><td> 0.03250889</td><td> 0.03204403</td><td> 0.03207638</td><td> 0.03208892</td></tr>\n",
       "</tbody>\n",
       "</table>\n"
      ],
      "text/latex": [
       "\\begin{tabular}{r|llll}\n",
       "  & CL & CRA & IRA & IRA-Lasso\\\\\n",
       "\\hline\n",
       "\testimate & -0.07882533 & -0.07120664 & -0.06990440 & -0.07457328\\\\\n",
       "\tstandard error &  0.03250889 &  0.03204403 &  0.03207638 &  0.03208892\\\\\n",
       "\\end{tabular}\n"
      ],
      "text/markdown": [
       "\n",
       "| <!--/--> | CL | CRA | IRA | IRA-Lasso |\n",
       "|---|---|---|---|---|\n",
       "| estimate | -0.07882533 | -0.07120664 | -0.06990440 | -0.07457328 |\n",
       "| standard error |  0.03250889 |  0.03204403 |  0.03207638 |  0.03208892 |\n",
       "\n"
      ],
      "text/plain": [
       "               CL          CRA         IRA         IRA-Lasso  \n",
       "estimate       -0.07882533 -0.07120664 -0.06990440 -0.07457328\n",
       "standard error  0.03250889  0.03204403  0.03207638  0.03208892"
      ]
     },
     "metadata": {},
     "output_type": "display_data"
    },
    {
     "name": "stdout",
     "output_type": "stream",
     "text": [
      "% latex table generated in R 3.6.1 by xtable 1.8-4 package\n",
      "% Fri Sep 24 17:03:13 2021\n",
      "\\begin{table}[ht]\n",
      "\\centering\n",
      "\\begin{tabular}{rrrrr}\n",
      "  \\hline\n",
      " & CL & CRA & IRA & IRA-Lasso \\\\ \n",
      "  \\hline\n",
      "estimate & -0.07883 & -0.07121 & -0.06990 & -0.07457 \\\\ \n",
      "  standard error & 0.03251 & 0.03204 & 0.03208 & 0.03209 \\\\ \n",
      "   \\hline\n",
      "\\end{tabular}\n",
      "\\end{table}\n"
     ]
    }
   ],
   "source": [
    "table<- matrix(0, 2, 4)\n",
    "table[1,1]<-  ols.cl[2,1]\n",
    "table[1,2]<-  ols.cra[2,1]\n",
    "table[1,3]<-  ols.ira[2,1]\n",
    "table[1,4]<-  rlasso.ira[[1]][1]\n",
    "\n",
    "table[2,1]<-  ols.cl[2,2]\n",
    "table[2,2]<-  ols.cra[2,2]\n",
    "table[2,3]<-  ols.ira[2,2]\n",
    "table[2,4]<-  rlasso.ira[[1]][2]\n",
    "\n",
    "colnames(table)<- c(\"CL\",\"CRA\",\"IRA\", \"IRA-Lasso\")\n",
    "rownames(table)<- c(\"estimate\", \"standard error\")\n",
    "tab<- xtable(table, digits=5)\n",
    "tab\n",
    "\n",
    "print(tab, type=\"latex\", digits=5)"
   ]
  },
  {
   "cell_type": "markdown",
   "id": "154390de",
   "metadata": {},
   "source": [
    "### Plotting some coefficients using the IRA\n",
    "* T2*female\n",
    "* T2*black\n",
    "* T2*agelt35\n",
    "* T2*factor(dep)1"
   ]
  },
  {
   "cell_type": "code",
   "execution_count": 49,
   "id": "69e6e30c",
   "metadata": {},
   "outputs": [
    {
     "name": "stderr",
     "output_type": "stream",
     "text": [
      "Warning message:\n",
      "\"It is deprecated to specify `guide = FALSE` to remove a guide. Please use `guide = \"none\"` instead.\"Warning message:\n",
      "\"It is deprecated to specify `guide = FALSE` to remove a guide. Please use `guide = \"none\"` instead.\"Warning message:\n",
      "\"It is deprecated to specify `guide = FALSE` to remove a guide. Please use `guide = \"none\"` instead.\""
     ]
    },
    {
     "data": {
      "image/png": "[encoded data removed]",
      "text/plain": [
       "plot without title"
      ]
     },
     "metadata": {},
     "output_type": "display_data"
    }
   ],
   "source": [
    "library(coefplot)\n",
    "coefplot(ols.ira_reg,\n",
    "         coefficients=c('T2TRUE:Zfemale','T2TRUE:Zblack','T2TRUE:Zagelt35','T2TRUE:Zfactor(dep)1'),\n",
    "         title = \"IRA MODEL COEFFICIENTS GRAPH\",\n",
    "         color = 'darkblue',\n",
    "         horizontal=TRUE,\n",
    "         zeroColor = 'red',\n",
    "         guide='none')     "
   ]
  },
  {
   "cell_type": "markdown",
   "id": "f259cab1",
   "metadata": {},
   "source": [
    "In the graph above, we see that the program would significantly affect those under 35 years of age (T2*agelt35). A negative effect is also shown for women (T2*female). The significance of this last variable is not seen in the graph because it is too close to zero to distinguish whether it is significant or not. However, in the regression results, this effect is not substantial.\n",
    "\n",
    "On the other hand, a positive effect is not significant for black people (T2*black).The results may be due to discrimination issues since the data was from 1980 when racial discrimination was stronger than now. Also, the program had no effect on those who have dependent on their care (T2*factor(dep)1). These results maybe since they have to find someone to take care of their dependents to seek employment. "
   ]
  }
 ],
 "metadata": {
  "kernelspec": {
   "display_name": "R",
   "language": "R",
   "name": "ir"
  },
  "language_info": {
   "codemirror_mode": "r",
   "file_extension": ".r",
   "mimetype": "text/x-r-source",
   "name": "R",
   "pygments_lexer": "r",
   "version": "3.6.1"
  }
 },
 "nbformat": 4,
 "nbformat_minor": 5
}
