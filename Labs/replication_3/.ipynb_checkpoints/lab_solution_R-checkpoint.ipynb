{
 "cells": [
  {
   "cell_type": "markdown",
   "metadata": {},
   "source": [
    "## Create Matriz X"
   ]
  },
  {
   "cell_type": "code",
   "execution_count": 1,
   "metadata": {},
   "outputs": [],
   "source": [
    "set.seed(123)        # set MC seed\n",
    "n = 10"
   ]
  },
  {
   "cell_type": "code",
   "execution_count": null,
   "metadata": {},
   "outputs": [],
   "source": [
    "V1 = rnorm(10)\n",
    "V2 = rnorm(10)\n",
    "V3 = rnorm(10)\n",
    "V4 = rnorm(10)\n",
    "V5 = rnorm(10)\n",
    "V6 = rnorm(10)\n",
    "V7 = rnorm(10)\n",
    "V8 = rnorm(10)\n",
    "V9 = rnorm(10)"
   ]
  },
  {
   "cell_type": "code",
   "execution_count": 3,
   "metadata": {},
   "outputs": [
    {
     "data": {
      "text/html": [
       "<style>\n",
       ".list-inline {list-style: none; margin:0; padding: 0}\n",
       ".list-inline>li {display: inline-block}\n",
       ".list-inline>li:not(:last-child)::after {content: \"\\00b7\"; padding: 0 .5ex}\n",
       "</style>\n",
       "<ol class=list-inline><li>-0.404217555099596</li><li>-0.0883385770842113</li><li>0.933475316435937</li><li>-0.547700121921445</li><li>-1.05159266744239</li><li>1.81528481294395</li><li>1.79655372871297</li><li>-3.07830527339966</li><li>-1.12363388734179</li><li>0.335361543242035</li></ol>\n"
      ],
      "text/latex": [
       "\\begin{enumerate*}\n",
       "\\item -0.404217555099596\n",
       "\\item -0.0883385770842113\n",
       "\\item 0.933475316435937\n",
       "\\item -0.547700121921445\n",
       "\\item -1.05159266744239\n",
       "\\item 1.81528481294395\n",
       "\\item 1.79655372871297\n",
       "\\item -3.07830527339966\n",
       "\\item -1.12363388734179\n",
       "\\item 0.335361543242035\n",
       "\\end{enumerate*}\n"
      ],
      "text/markdown": [
       "1. -0.404217555099596\n",
       "2. -0.0883385770842113\n",
       "3. 0.933475316435937\n",
       "4. -0.547700121921445\n",
       "5. -1.05159266744239\n",
       "6. 1.81528481294395\n",
       "7. 1.79655372871297\n",
       "8. -3.07830527339966\n",
       "9. -1.12363388734179\n",
       "10. 0.335361543242035\n",
       "\n",
       "\n"
      ],
      "text/plain": [
       " [1] -0.40421756 -0.08833858  0.93347532 -0.54770012 -1.05159267  1.81528481\n",
       " [7]  1.79655373 -3.07830527 -1.12363389  0.33536154"
      ]
     },
     "metadata": {},
     "output_type": "display_data"
    }
   ],
   "source": [
    "V10 = V1+V2+V3\n",
    "V10"
   ]
  },
  {
   "cell_type": "code",
   "execution_count": 80,
   "metadata": {
    "scrolled": true
   },
   "outputs": [
    {
     "data": {
      "text/html": [
       "<table class=\"dataframe\">\n",
       "<caption>A matrix: 6 × 10 of type dbl</caption>\n",
       "<tbody>\n",
       "\t<tr><td>-0.56047565</td><td> 1.2240818</td><td>-1.0678237</td><td> 0.4264642</td><td>-0.6947070</td><td> 0.25331851</td><td> 0.3796395</td><td>-0.4910312</td><td> 0.005764186</td><td>-0.40421756</td></tr>\n",
       "\t<tr><td>-0.23017749</td><td> 0.3598138</td><td>-0.2179749</td><td>-0.2950715</td><td>-0.2079173</td><td>-0.02854676</td><td>-0.5023235</td><td>-2.3091689</td><td> 0.385280401</td><td>-0.08833858</td></tr>\n",
       "\t<tr><td> 1.55870831</td><td> 0.4007715</td><td>-1.0260044</td><td> 0.8951257</td><td>-1.2653964</td><td>-0.04287046</td><td>-0.3332074</td><td> 1.0057385</td><td>-0.370660032</td><td> 0.93347532</td></tr>\n",
       "\t<tr><td> 0.07050839</td><td> 0.1106827</td><td>-0.7288912</td><td> 0.8781335</td><td> 2.1689560</td><td> 1.36860228</td><td>-1.0185754</td><td>-0.7092008</td><td> 0.644376549</td><td>-0.54770012</td></tr>\n",
       "\t<tr><td> 0.12928774</td><td>-0.5558411</td><td>-0.6250393</td><td> 0.8215811</td><td> 1.2079620</td><td>-0.22577099</td><td>-1.0717912</td><td>-0.6880086</td><td>-0.220486562</td><td>-1.05159267</td></tr>\n",
       "\t<tr><td> 1.71506499</td><td> 1.7869131</td><td>-1.6866933</td><td> 0.6886403</td><td>-1.1231086</td><td> 1.51647060</td><td> 0.3035286</td><td> 1.0255714</td><td> 0.331781964</td><td> 1.81528481</td></tr>\n",
       "</tbody>\n",
       "</table>\n"
      ],
      "text/latex": [
       "A matrix: 6 × 10 of type dbl\n",
       "\\begin{tabular}{llllllllll}\n",
       "\t -0.56047565 &  1.2240818 & -1.0678237 &  0.4264642 & -0.6947070 &  0.25331851 &  0.3796395 & -0.4910312 &  0.005764186 & -0.40421756\\\\\n",
       "\t -0.23017749 &  0.3598138 & -0.2179749 & -0.2950715 & -0.2079173 & -0.02854676 & -0.5023235 & -2.3091689 &  0.385280401 & -0.08833858\\\\\n",
       "\t  1.55870831 &  0.4007715 & -1.0260044 &  0.8951257 & -1.2653964 & -0.04287046 & -0.3332074 &  1.0057385 & -0.370660032 &  0.93347532\\\\\n",
       "\t  0.07050839 &  0.1106827 & -0.7288912 &  0.8781335 &  2.1689560 &  1.36860228 & -1.0185754 & -0.7092008 &  0.644376549 & -0.54770012\\\\\n",
       "\t  0.12928774 & -0.5558411 & -0.6250393 &  0.8215811 &  1.2079620 & -0.22577099 & -1.0717912 & -0.6880086 & -0.220486562 & -1.05159267\\\\\n",
       "\t  1.71506499 &  1.7869131 & -1.6866933 &  0.6886403 & -1.1231086 &  1.51647060 &  0.3035286 &  1.0255714 &  0.331781964 &  1.81528481\\\\\n",
       "\\end{tabular}\n"
      ],
      "text/markdown": [
       "\n",
       "A matrix: 6 × 10 of type dbl\n",
       "\n",
       "| -0.56047565 |  1.2240818 | -1.0678237 |  0.4264642 | -0.6947070 |  0.25331851 |  0.3796395 | -0.4910312 |  0.005764186 | -0.40421756 |\n",
       "| -0.23017749 |  0.3598138 | -0.2179749 | -0.2950715 | -0.2079173 | -0.02854676 | -0.5023235 | -2.3091689 |  0.385280401 | -0.08833858 |\n",
       "|  1.55870831 |  0.4007715 | -1.0260044 |  0.8951257 | -1.2653964 | -0.04287046 | -0.3332074 |  1.0057385 | -0.370660032 |  0.93347532 |\n",
       "|  0.07050839 |  0.1106827 | -0.7288912 |  0.8781335 |  2.1689560 |  1.36860228 | -1.0185754 | -0.7092008 |  0.644376549 | -0.54770012 |\n",
       "|  0.12928774 | -0.5558411 | -0.6250393 |  0.8215811 |  1.2079620 | -0.22577099 | -1.0717912 | -0.6880086 | -0.220486562 | -1.05159267 |\n",
       "|  1.71506499 |  1.7869131 | -1.6866933 |  0.6886403 | -1.1231086 |  1.51647060 |  0.3035286 |  1.0255714 |  0.331781964 |  1.81528481 |\n",
       "\n"
      ],
      "text/plain": [
       "     [,1]        [,2]       [,3]       [,4]       [,5]       [,6]       \n",
       "[1,] -0.56047565  1.2240818 -1.0678237  0.4264642 -0.6947070  0.25331851\n",
       "[2,] -0.23017749  0.3598138 -0.2179749 -0.2950715 -0.2079173 -0.02854676\n",
       "[3,]  1.55870831  0.4007715 -1.0260044  0.8951257 -1.2653964 -0.04287046\n",
       "[4,]  0.07050839  0.1106827 -0.7288912  0.8781335  2.1689560  1.36860228\n",
       "[5,]  0.12928774 -0.5558411 -0.6250393  0.8215811  1.2079620 -0.22577099\n",
       "[6,]  1.71506499  1.7869131 -1.6866933  0.6886403 -1.1231086  1.51647060\n",
       "     [,7]       [,8]       [,9]         [,10]      \n",
       "[1,]  0.3796395 -0.4910312  0.005764186 -0.40421756\n",
       "[2,] -0.5023235 -2.3091689  0.385280401 -0.08833858\n",
       "[3,] -0.3332074  1.0057385 -0.370660032  0.93347532\n",
       "[4,] -1.0185754 -0.7092008  0.644376549 -0.54770012\n",
       "[5,] -1.0717912 -0.6880086 -0.220486562 -1.05159267\n",
       "[6,]  0.3035286  1.0255714  0.331781964  1.81528481"
      ]
     },
     "metadata": {},
     "output_type": "display_data"
    }
   ],
   "source": [
    "X <- matrix( c(V1,V2,V3,V4,V5,V6,V7,V8,V9,V10), nrow=10, ncol = 10, byrow=FALSE)\n",
    "head(X)"
   ]
  },
  {
   "cell_type": "code",
   "execution_count": null,
   "metadata": {},
   "outputs": [],
   "source": [
    "solve( X )"
   ]
  },
  {
   "cell_type": "markdown",
   "metadata": {
    "papermill": {
     "duration": 0.013538,
     "end_time": "2021-02-20T13:42:41.189745",
     "exception": false,
     "start_time": "2021-02-20T13:42:41.176207",
     "status": "completed"
    },
    "tags": []
   },
   "source": [
    "# Analyzing RCT data with Precision Adjustment"
   ]
  },
  {
   "cell_type": "code",
   "execution_count": 9,
   "metadata": {
    "execution": {
     "iopub.execute_input": "2021-02-20T13:42:41.267823Z",
     "iopub.status.busy": "2021-02-20T13:42:41.265606Z",
     "iopub.status.idle": "2021-02-20T13:42:41.503621Z",
     "shell.execute_reply": "2021-02-20T13:42:41.502578Z"
    },
    "papermill": {
     "duration": 0.279482,
     "end_time": "2021-02-20T13:42:41.503829",
     "exception": false,
     "start_time": "2021-02-20T13:42:41.224347",
     "status": "completed"
    },
    "tags": []
   },
   "outputs": [
    {
     "data": {
      "text/html": [
       "<style>\n",
       ".list-inline {list-style: none; margin:0; padding: 0}\n",
       ".list-inline>li {display: inline-block}\n",
       ".list-inline>li:not(:last-child)::after {content: \"\\00b7\"; padding: 0 .5ex}\n",
       "</style>\n",
       "<ol class=list-inline><li>13913</li><li>23</li></ol>\n"
      ],
      "text/latex": [
       "\\begin{enumerate*}\n",
       "\\item 13913\n",
       "\\item 23\n",
       "\\end{enumerate*}\n"
      ],
      "text/markdown": [
       "1. 13913\n",
       "2. 23\n",
       "\n",
       "\n"
      ],
      "text/plain": [
       "[1] 13913    23"
      ]
     },
     "metadata": {},
     "output_type": "display_data"
    }
   ],
   "source": [
    "## loading the data\n",
    "Penn <- as.data.frame(read.table(\"../data/penn_jae.dat\", header=T ))\n",
    "n <- dim(Penn)[1] #obs\n",
    "p_1 <- dim(Penn)[2] #vars\n",
    "dim(Penn)"
   ]
  },
  {
   "cell_type": "code",
   "execution_count": 10,
   "metadata": {
    "execution": {
     "iopub.execute_input": "2021-02-20T13:42:41.267823Z",
     "iopub.status.busy": "2021-02-20T13:42:41.265606Z",
     "iopub.status.idle": "2021-02-20T13:42:41.503621Z",
     "shell.execute_reply": "2021-02-20T13:42:41.502578Z"
    },
    "papermill": {
     "duration": 0.279482,
     "end_time": "2021-02-20T13:42:41.503829",
     "exception": false,
     "start_time": "2021-02-20T13:42:41.224347",
     "status": "completed"
    },
    "tags": []
   },
   "outputs": [],
   "source": [
    "Penn<- subset(Penn, tg==2 | tg==0)\n",
    "attach(Penn)"
   ]
  },
  {
   "cell_type": "code",
   "execution_count": 11,
   "metadata": {
    "execution": {
     "iopub.execute_input": "2021-02-20T13:42:41.560613Z",
     "iopub.status.busy": "2021-02-20T13:42:41.531063Z",
     "iopub.status.idle": "2021-02-20T13:42:41.580817Z",
     "shell.execute_reply": "2021-02-20T13:42:41.579312Z"
    },
    "papermill": {
     "duration": 0.065266,
     "end_time": "2021-02-20T13:42:41.580972",
     "exception": false,
     "start_time": "2021-02-20T13:42:41.515706",
     "status": "completed"
    },
    "tags": []
   },
   "outputs": [
    {
     "data": {
      "text/plain": [
       "   Mode   FALSE    TRUE \n",
       "logical    3354    2428 "
      ]
     },
     "metadata": {},
     "output_type": "display_data"
    }
   ],
   "source": [
    "T2<- (tg==2)\n",
    "summary(T2) # summary of the treatment 2: has more values of controls (3354) tha treatment (2428)"
   ]
  },
  {
   "cell_type": "code",
   "execution_count": 12,
   "metadata": {
    "execution": {
     "iopub.execute_input": "2021-02-20T13:42:41.611073Z",
     "iopub.status.busy": "2021-02-20T13:42:41.609253Z",
     "iopub.status.idle": "2021-02-20T13:42:41.646504Z",
     "shell.execute_reply": "2021-02-20T13:42:41.645094Z"
    },
    "papermill": {
     "duration": 0.053285,
     "end_time": "2021-02-20T13:42:41.646704",
     "exception": false,
     "start_time": "2021-02-20T13:42:41.593419",
     "status": "completed"
    },
    "scrolled": true,
    "tags": []
   },
   "outputs": [
    {
     "data": {
      "text/html": [
       "<table class=\"dataframe\">\n",
       "<caption>A data.frame: 6 × 23</caption>\n",
       "<thead>\n",
       "\t<tr><th></th><th scope=col>abdt</th><th scope=col>tg</th><th scope=col>inuidur1</th><th scope=col>inuidur2</th><th scope=col>female</th><th scope=col>black</th><th scope=col>hispanic</th><th scope=col>othrace</th><th scope=col>dep</th><th scope=col>q1</th><th scope=col>...</th><th scope=col>q5</th><th scope=col>q6</th><th scope=col>recall</th><th scope=col>agelt35</th><th scope=col>agegt54</th><th scope=col>durable</th><th scope=col>nondurable</th><th scope=col>lusd</th><th scope=col>husd</th><th scope=col>muld</th></tr>\n",
       "\t<tr><th></th><th scope=col>&lt;int&gt;</th><th scope=col>&lt;int&gt;</th><th scope=col>&lt;int&gt;</th><th scope=col>&lt;int&gt;</th><th scope=col>&lt;int&gt;</th><th scope=col>&lt;int&gt;</th><th scope=col>&lt;int&gt;</th><th scope=col>&lt;int&gt;</th><th scope=col>&lt;int&gt;</th><th scope=col>&lt;int&gt;</th><th scope=col>...</th><th scope=col>&lt;int&gt;</th><th scope=col>&lt;int&gt;</th><th scope=col>&lt;int&gt;</th><th scope=col>&lt;int&gt;</th><th scope=col>&lt;int&gt;</th><th scope=col>&lt;int&gt;</th><th scope=col>&lt;int&gt;</th><th scope=col>&lt;int&gt;</th><th scope=col>&lt;int&gt;</th><th scope=col>&lt;int&gt;</th></tr>\n",
       "</thead>\n",
       "<tbody>\n",
       "\t<tr><th scope=row>1</th><td>10824</td><td>0</td><td>18</td><td>18</td><td>0</td><td>0</td><td>0</td><td>0</td><td>2</td><td>0</td><td>...</td><td>1</td><td>0</td><td>0</td><td>0</td><td>0</td><td>0</td><td>0</td><td>0</td><td>1</td><td>0</td></tr>\n",
       "\t<tr><th scope=row>2</th><td>10635</td><td>2</td><td> 7</td><td> 3</td><td>0</td><td>0</td><td>0</td><td>0</td><td>0</td><td>0</td><td>...</td><td>0</td><td>0</td><td>0</td><td>1</td><td>0</td><td>0</td><td>0</td><td>1</td><td>0</td><td>0</td></tr>\n",
       "\t<tr><th scope=row>4</th><td>10824</td><td>0</td><td> 1</td><td> 1</td><td>0</td><td>0</td><td>0</td><td>0</td><td>0</td><td>0</td><td>...</td><td>1</td><td>0</td><td>0</td><td>0</td><td>0</td><td>0</td><td>0</td><td>1</td><td>0</td><td>0</td></tr>\n",
       "\t<tr><th scope=row>5</th><td>10747</td><td>0</td><td>27</td><td>27</td><td>0</td><td>0</td><td>0</td><td>0</td><td>0</td><td>0</td><td>...</td><td>0</td><td>0</td><td>0</td><td>0</td><td>0</td><td>0</td><td>0</td><td>1</td><td>0</td><td>0</td></tr>\n",
       "\t<tr><th scope=row>10</th><td>10754</td><td>2</td><td>20</td><td>20</td><td>1</td><td>0</td><td>0</td><td>0</td><td>0</td><td>0</td><td>...</td><td>0</td><td>0</td><td>0</td><td>0</td><td>0</td><td>0</td><td>0</td><td>0</td><td>0</td><td>1</td></tr>\n",
       "\t<tr><th scope=row>13</th><td>10831</td><td>0</td><td>27</td><td>27</td><td>0</td><td>0</td><td>0</td><td>0</td><td>1</td><td>0</td><td>...</td><td>1</td><td>0</td><td>0</td><td>0</td><td>1</td><td>1</td><td>0</td><td>1</td><td>0</td><td>0</td></tr>\n",
       "</tbody>\n",
       "</table>\n"
      ],
      "text/latex": [
       "A data.frame: 6 × 23\n",
       "\\begin{tabular}{r|lllllllllllllllllllll}\n",
       "  & abdt & tg & inuidur1 & inuidur2 & female & black & hispanic & othrace & dep & q1 & ... & q5 & q6 & recall & agelt35 & agegt54 & durable & nondurable & lusd & husd & muld\\\\\n",
       "  & <int> & <int> & <int> & <int> & <int> & <int> & <int> & <int> & <int> & <int> & ... & <int> & <int> & <int> & <int> & <int> & <int> & <int> & <int> & <int> & <int>\\\\\n",
       "\\hline\n",
       "\t1 & 10824 & 0 & 18 & 18 & 0 & 0 & 0 & 0 & 2 & 0 & ... & 1 & 0 & 0 & 0 & 0 & 0 & 0 & 0 & 1 & 0\\\\\n",
       "\t2 & 10635 & 2 &  7 &  3 & 0 & 0 & 0 & 0 & 0 & 0 & ... & 0 & 0 & 0 & 1 & 0 & 0 & 0 & 1 & 0 & 0\\\\\n",
       "\t4 & 10824 & 0 &  1 &  1 & 0 & 0 & 0 & 0 & 0 & 0 & ... & 1 & 0 & 0 & 0 & 0 & 0 & 0 & 1 & 0 & 0\\\\\n",
       "\t5 & 10747 & 0 & 27 & 27 & 0 & 0 & 0 & 0 & 0 & 0 & ... & 0 & 0 & 0 & 0 & 0 & 0 & 0 & 1 & 0 & 0\\\\\n",
       "\t10 & 10754 & 2 & 20 & 20 & 1 & 0 & 0 & 0 & 0 & 0 & ... & 0 & 0 & 0 & 0 & 0 & 0 & 0 & 0 & 0 & 1\\\\\n",
       "\t13 & 10831 & 0 & 27 & 27 & 0 & 0 & 0 & 0 & 1 & 0 & ... & 1 & 0 & 0 & 0 & 1 & 1 & 0 & 1 & 0 & 0\\\\\n",
       "\\end{tabular}\n"
      ],
      "text/markdown": [
       "\n",
       "A data.frame: 6 × 23\n",
       "\n",
       "| <!--/--> | abdt &lt;int&gt; | tg &lt;int&gt; | inuidur1 &lt;int&gt; | inuidur2 &lt;int&gt; | female &lt;int&gt; | black &lt;int&gt; | hispanic &lt;int&gt; | othrace &lt;int&gt; | dep &lt;int&gt; | q1 &lt;int&gt; | ... ... | q5 &lt;int&gt; | q6 &lt;int&gt; | recall &lt;int&gt; | agelt35 &lt;int&gt; | agegt54 &lt;int&gt; | durable &lt;int&gt; | nondurable &lt;int&gt; | lusd &lt;int&gt; | husd &lt;int&gt; | muld &lt;int&gt; |\n",
       "|---|---|---|---|---|---|---|---|---|---|---|---|---|---|---|---|---|---|---|---|---|---|\n",
       "| 1 | 10824 | 0 | 18 | 18 | 0 | 0 | 0 | 0 | 2 | 0 | ... | 1 | 0 | 0 | 0 | 0 | 0 | 0 | 0 | 1 | 0 |\n",
       "| 2 | 10635 | 2 |  7 |  3 | 0 | 0 | 0 | 0 | 0 | 0 | ... | 0 | 0 | 0 | 1 | 0 | 0 | 0 | 1 | 0 | 0 |\n",
       "| 4 | 10824 | 0 |  1 |  1 | 0 | 0 | 0 | 0 | 0 | 0 | ... | 1 | 0 | 0 | 0 | 0 | 0 | 0 | 1 | 0 | 0 |\n",
       "| 5 | 10747 | 0 | 27 | 27 | 0 | 0 | 0 | 0 | 0 | 0 | ... | 0 | 0 | 0 | 0 | 0 | 0 | 0 | 1 | 0 | 0 |\n",
       "| 10 | 10754 | 2 | 20 | 20 | 1 | 0 | 0 | 0 | 0 | 0 | ... | 0 | 0 | 0 | 0 | 0 | 0 | 0 | 0 | 0 | 1 |\n",
       "| 13 | 10831 | 0 | 27 | 27 | 0 | 0 | 0 | 0 | 1 | 0 | ... | 1 | 0 | 0 | 0 | 1 | 1 | 0 | 1 | 0 | 0 |\n",
       "\n"
      ],
      "text/plain": [
       "   abdt  tg inuidur1 inuidur2 female black hispanic othrace dep q1 ... q5 q6\n",
       "1  10824 0  18       18       0      0     0        0       2   0  ... 1  0 \n",
       "2  10635 2   7        3       0      0     0        0       0   0  ... 0  0 \n",
       "4  10824 0   1        1       0      0     0        0       0   0  ... 1  0 \n",
       "5  10747 0  27       27       0      0     0        0       0   0  ... 0  0 \n",
       "10 10754 2  20       20       1      0     0        0       0   0  ... 0  0 \n",
       "13 10831 0  27       27       0      0     0        0       1   0  ... 1  0 \n",
       "   recall agelt35 agegt54 durable nondurable lusd husd muld\n",
       "1  0      0       0       0       0          0    1    0   \n",
       "2  0      1       0       0       0          1    0    0   \n",
       "4  0      0       0       0       0          1    0    0   \n",
       "5  0      0       0       0       0          1    0    0   \n",
       "10 0      0       0       0       0          0    0    1   \n",
       "13 0      0       1       1       0          1    0    0   "
      ]
     },
     "metadata": {},
     "output_type": "display_data"
    }
   ],
   "source": [
    "head(Penn)"
   ]
  },
  {
   "cell_type": "markdown",
   "metadata": {},
   "source": [
    "### Plot two histograms for treatment and control group to see the distribution of the outcome variable inuidur1"
   ]
  },
  {
   "cell_type": "markdown",
   "metadata": {},
   "source": [
    "We prefered to plot one graph that contained both histograms."
   ]
  },
  {
   "cell_type": "code",
   "execution_count": 13,
   "metadata": {},
   "outputs": [
    {
     "data": {
      "text/html": [
       "<table class=\"dataframe\">\n",
       "<caption>A data.frame: 6 × 23</caption>\n",
       "<thead>\n",
       "\t<tr><th></th><th scope=col>abdt</th><th scope=col>tg</th><th scope=col>inuidur1</th><th scope=col>inuidur2</th><th scope=col>female</th><th scope=col>black</th><th scope=col>hispanic</th><th scope=col>othrace</th><th scope=col>dep</th><th scope=col>q1</th><th scope=col>...</th><th scope=col>q5</th><th scope=col>q6</th><th scope=col>recall</th><th scope=col>agelt35</th><th scope=col>agegt54</th><th scope=col>durable</th><th scope=col>nondurable</th><th scope=col>lusd</th><th scope=col>husd</th><th scope=col>muld</th></tr>\n",
       "\t<tr><th></th><th scope=col>&lt;int&gt;</th><th scope=col>&lt;int&gt;</th><th scope=col>&lt;int&gt;</th><th scope=col>&lt;int&gt;</th><th scope=col>&lt;int&gt;</th><th scope=col>&lt;int&gt;</th><th scope=col>&lt;int&gt;</th><th scope=col>&lt;int&gt;</th><th scope=col>&lt;int&gt;</th><th scope=col>&lt;int&gt;</th><th scope=col>...</th><th scope=col>&lt;int&gt;</th><th scope=col>&lt;int&gt;</th><th scope=col>&lt;int&gt;</th><th scope=col>&lt;int&gt;</th><th scope=col>&lt;int&gt;</th><th scope=col>&lt;int&gt;</th><th scope=col>&lt;int&gt;</th><th scope=col>&lt;int&gt;</th><th scope=col>&lt;int&gt;</th><th scope=col>&lt;int&gt;</th></tr>\n",
       "</thead>\n",
       "<tbody>\n",
       "\t<tr><th scope=row>1</th><td>10824</td><td>0</td><td>18</td><td>18</td><td>0</td><td>0</td><td>0</td><td>0</td><td>2</td><td>0</td><td>...</td><td>1</td><td>0</td><td>0</td><td>0</td><td>0</td><td>0</td><td>0</td><td>0</td><td>1</td><td>0</td></tr>\n",
       "\t<tr><th scope=row>4</th><td>10824</td><td>0</td><td> 1</td><td> 1</td><td>0</td><td>0</td><td>0</td><td>0</td><td>0</td><td>0</td><td>...</td><td>1</td><td>0</td><td>0</td><td>0</td><td>0</td><td>0</td><td>0</td><td>1</td><td>0</td><td>0</td></tr>\n",
       "\t<tr><th scope=row>5</th><td>10747</td><td>0</td><td>27</td><td>27</td><td>0</td><td>0</td><td>0</td><td>0</td><td>0</td><td>0</td><td>...</td><td>0</td><td>0</td><td>0</td><td>0</td><td>0</td><td>0</td><td>0</td><td>1</td><td>0</td><td>0</td></tr>\n",
       "\t<tr><th scope=row>13</th><td>10831</td><td>0</td><td>27</td><td>27</td><td>0</td><td>0</td><td>0</td><td>0</td><td>1</td><td>0</td><td>...</td><td>1</td><td>0</td><td>0</td><td>0</td><td>1</td><td>1</td><td>0</td><td>1</td><td>0</td><td>0</td></tr>\n",
       "\t<tr><th scope=row>14</th><td>10845</td><td>0</td><td>27</td><td>27</td><td>1</td><td>0</td><td>0</td><td>0</td><td>0</td><td>0</td><td>...</td><td>1</td><td>0</td><td>0</td><td>0</td><td>1</td><td>0</td><td>0</td><td>1</td><td>0</td><td>0</td></tr>\n",
       "\t<tr><th scope=row>15</th><td>10831</td><td>0</td><td> 9</td><td> 9</td><td>1</td><td>0</td><td>0</td><td>0</td><td>1</td><td>0</td><td>...</td><td>1</td><td>0</td><td>0</td><td>0</td><td>1</td><td>0</td><td>0</td><td>1</td><td>0</td><td>0</td></tr>\n",
       "</tbody>\n",
       "</table>\n"
      ],
      "text/latex": [
       "A data.frame: 6 × 23\n",
       "\\begin{tabular}{r|lllllllllllllllllllll}\n",
       "  & abdt & tg & inuidur1 & inuidur2 & female & black & hispanic & othrace & dep & q1 & ... & q5 & q6 & recall & agelt35 & agegt54 & durable & nondurable & lusd & husd & muld\\\\\n",
       "  & <int> & <int> & <int> & <int> & <int> & <int> & <int> & <int> & <int> & <int> & ... & <int> & <int> & <int> & <int> & <int> & <int> & <int> & <int> & <int> & <int>\\\\\n",
       "\\hline\n",
       "\t1 & 10824 & 0 & 18 & 18 & 0 & 0 & 0 & 0 & 2 & 0 & ... & 1 & 0 & 0 & 0 & 0 & 0 & 0 & 0 & 1 & 0\\\\\n",
       "\t4 & 10824 & 0 &  1 &  1 & 0 & 0 & 0 & 0 & 0 & 0 & ... & 1 & 0 & 0 & 0 & 0 & 0 & 0 & 1 & 0 & 0\\\\\n",
       "\t5 & 10747 & 0 & 27 & 27 & 0 & 0 & 0 & 0 & 0 & 0 & ... & 0 & 0 & 0 & 0 & 0 & 0 & 0 & 1 & 0 & 0\\\\\n",
       "\t13 & 10831 & 0 & 27 & 27 & 0 & 0 & 0 & 0 & 1 & 0 & ... & 1 & 0 & 0 & 0 & 1 & 1 & 0 & 1 & 0 & 0\\\\\n",
       "\t14 & 10845 & 0 & 27 & 27 & 1 & 0 & 0 & 0 & 0 & 0 & ... & 1 & 0 & 0 & 0 & 1 & 0 & 0 & 1 & 0 & 0\\\\\n",
       "\t15 & 10831 & 0 &  9 &  9 & 1 & 0 & 0 & 0 & 1 & 0 & ... & 1 & 0 & 0 & 0 & 1 & 0 & 0 & 1 & 0 & 0\\\\\n",
       "\\end{tabular}\n"
      ],
      "text/markdown": [
       "\n",
       "A data.frame: 6 × 23\n",
       "\n",
       "| <!--/--> | abdt &lt;int&gt; | tg &lt;int&gt; | inuidur1 &lt;int&gt; | inuidur2 &lt;int&gt; | female &lt;int&gt; | black &lt;int&gt; | hispanic &lt;int&gt; | othrace &lt;int&gt; | dep &lt;int&gt; | q1 &lt;int&gt; | ... ... | q5 &lt;int&gt; | q6 &lt;int&gt; | recall &lt;int&gt; | agelt35 &lt;int&gt; | agegt54 &lt;int&gt; | durable &lt;int&gt; | nondurable &lt;int&gt; | lusd &lt;int&gt; | husd &lt;int&gt; | muld &lt;int&gt; |\n",
       "|---|---|---|---|---|---|---|---|---|---|---|---|---|---|---|---|---|---|---|---|---|---|\n",
       "| 1 | 10824 | 0 | 18 | 18 | 0 | 0 | 0 | 0 | 2 | 0 | ... | 1 | 0 | 0 | 0 | 0 | 0 | 0 | 0 | 1 | 0 |\n",
       "| 4 | 10824 | 0 |  1 |  1 | 0 | 0 | 0 | 0 | 0 | 0 | ... | 1 | 0 | 0 | 0 | 0 | 0 | 0 | 1 | 0 | 0 |\n",
       "| 5 | 10747 | 0 | 27 | 27 | 0 | 0 | 0 | 0 | 0 | 0 | ... | 0 | 0 | 0 | 0 | 0 | 0 | 0 | 1 | 0 | 0 |\n",
       "| 13 | 10831 | 0 | 27 | 27 | 0 | 0 | 0 | 0 | 1 | 0 | ... | 1 | 0 | 0 | 0 | 1 | 1 | 0 | 1 | 0 | 0 |\n",
       "| 14 | 10845 | 0 | 27 | 27 | 1 | 0 | 0 | 0 | 0 | 0 | ... | 1 | 0 | 0 | 0 | 1 | 0 | 0 | 1 | 0 | 0 |\n",
       "| 15 | 10831 | 0 |  9 |  9 | 1 | 0 | 0 | 0 | 1 | 0 | ... | 1 | 0 | 0 | 0 | 1 | 0 | 0 | 1 | 0 | 0 |\n",
       "\n"
      ],
      "text/plain": [
       "   abdt  tg inuidur1 inuidur2 female black hispanic othrace dep q1 ... q5 q6\n",
       "1  10824 0  18       18       0      0     0        0       2   0  ... 1  0 \n",
       "4  10824 0   1        1       0      0     0        0       0   0  ... 1  0 \n",
       "5  10747 0  27       27       0      0     0        0       0   0  ... 0  0 \n",
       "13 10831 0  27       27       0      0     0        0       1   0  ... 1  0 \n",
       "14 10845 0  27       27       1      0     0        0       0   0  ... 1  0 \n",
       "15 10831 0   9        9       1      0     0        0       1   0  ... 1  0 \n",
       "   recall agelt35 agegt54 durable nondurable lusd husd muld\n",
       "1  0      0       0       0       0          0    1    0   \n",
       "4  0      0       0       0       0          1    0    0   \n",
       "5  0      0       0       0       0          1    0    0   \n",
       "13 0      0       1       1       0          1    0    0   \n",
       "14 0      0       1       0       0          1    0    0   \n",
       "15 0      0       1       0       0          1    0    0   "
      ]
     },
     "metadata": {},
     "output_type": "display_data"
    }
   ],
   "source": [
    "pen_cont = Penn[Penn$tg==0,]\n",
    "pen_tr = Penn[Penn$tg==2,]\n",
    "head(pen_cont)"
   ]
  },
  {
   "cell_type": "code",
   "execution_count": 15,
   "metadata": {},
   "outputs": [
    {
     "name": "stderr",
     "output_type": "stream",
     "text": [
      "Warning message:\n",
      "\"package 'ggplot2' was built under R version 4.1.0\"\n",
      "`stat_bin()` using `bins = 30`. Pick better value with `binwidth`.\n",
      "\n"
     ]
    },
    {
     "data": {
      "image/png": "[encoded data removed]",
      "text/plain": [
       "plot without title"
      ]
     },
     "metadata": {
      "image/png": {
       "height": 420,
       "width": 420
      }
     },
     "output_type": "display_data"
    }
   ],
   "source": [
    "library(ggplot2)\n",
    "ggplot(NULL, aes(inuidur1)) +geom_histogram(data=pen_cont, fill=\"red\", binwidth=)"
   ]
  },
  {
   "cell_type": "code",
   "execution_count": 16,
   "metadata": {},
   "outputs": [
    {
     "name": "stderr",
     "output_type": "stream",
     "text": [
      "`stat_bin()` using `bins = 30`. Pick better value with `binwidth`.\n",
      "\n"
     ]
    },
    {
     "data": {
      "image/png": "[encoded data removed]",
      "text/plain": [
       "plot without title"
      ]
     },
     "metadata": {
      "image/png": {
       "height": 420,
       "width": 420
      }
     },
     "output_type": "display_data"
    }
   ],
   "source": [
    "ggplot(NULL, aes(inuidur1)) + geom_histogram(data=pen_tr, fill=\"blue\")"
   ]
  },
  {
   "cell_type": "markdown",
   "metadata": {},
   "source": [
    "The distribution of the treatment and control group is very similar, thought the control group normally has a number of weeks of the first spell of unemployment smaller than the treatment group (probably because it has more observations than the treatment group)."
   ]
  },
  {
   "cell_type": "markdown",
   "metadata": {
    "papermill": {
     "duration": 0.012846,
     "end_time": "2021-02-20T13:42:41.672662",
     "exception": false,
     "start_time": "2021-02-20T13:42:41.659816",
     "status": "completed"
    },
    "tags": []
   },
   "source": [
    "### Model \n",
    "To evaluate the impact of the **treatment two** on unemployment duration, we consider the linear regression model:\n",
    "\n",
    "$$\n",
    "Y =  D \\beta_1 + W'\\beta_2 + \\varepsilon, \\quad E \\varepsilon (D,W')' = 0,\n",
    "$$\n",
    "\n",
    "where $Y$ is  the  log of duration of unemployment (inudir1) , $D$ is a treatment  indicator (2),  and $W$ is a set of controls including age group dummies, gender, race, number of dependents, quarter of the experiment, location within the state, existence of recall expectations, and type of occupation.   Here $\\beta_1$ is the ATE, if the RCT assumptions hold rigorously.\n",
    "\n",
    "\n",
    "We also consider interactive regression model:\n",
    "\n",
    "$$\n",
    "Y =  D \\alpha_1 + D W' \\alpha_2 + W'\\beta_2 + \\varepsilon, \\quad E \\varepsilon (D,W', DW')' = 0,\n",
    "$$\n",
    "where $W$'s are demeaned (apart from the intercept), so that $\\alpha_1$ is the ATE, if the RCT assumptions hold rigorously."
   ]
  },
  {
   "cell_type": "markdown",
   "metadata": {
    "papermill": {
     "duration": 0.012735,
     "end_time": "2021-02-20T13:42:41.698676",
     "exception": false,
     "start_time": "2021-02-20T13:42:41.685941",
     "status": "completed"
    },
    "tags": []
   },
   "source": [
    "Under RCT, the projection coefficient $\\beta_1$ has\n",
    "the interpretation of the causal effect of the treatment on\n",
    "the average outcome. We thus refer to $\\beta_1$ as the average\n",
    "treatment effect (ATE). \n",
    "\n",
    "Note that the covariates, here are\n",
    "independent of the treatment $D$, so we can identify $\\beta_1$ by\n",
    "just linear regression of $Y$ on $D$, without adding covariates. This is proven in the balance check. \n",
    "\n",
    "However we do add covariates in an effort to improve the\n",
    "precision of our estimates of the average treatment effect."
   ]
  },
  {
   "cell_type": "markdown",
   "metadata": {
    "papermill": {
     "duration": 0.012728,
     "end_time": "2021-02-20T13:42:41.724182",
     "exception": false,
     "start_time": "2021-02-20T13:42:41.711454",
     "status": "completed"
    },
    "tags": []
   },
   "source": [
    "### Analysis\n",
    "\n",
    "We consider \n",
    "\n",
    "*  classical 2-sample approach, no adjustment (CL)\n",
    "*  classical linear regression adjustment (CRA)\n",
    "*  interactive regression adjusment (IRA) \n",
    "*  interactive regression adjusment using Lasso\n",
    "\n",
    "and carry out robust inference using the *estimatr* R packages. *Also, we will plot the coefficients of the next variables*:\n",
    "\n",
    "* T2*female\n",
    "* T2*black\n",
    "* T2*agelt35\n",
    "* T2*factor(dep)1"
   ]
  },
  {
   "cell_type": "markdown",
   "metadata": {
    "papermill": {
     "duration": 0.01276,
     "end_time": "2021-02-20T13:42:41.749736",
     "exception": false,
     "start_time": "2021-02-20T13:42:41.736976",
     "status": "completed"
    },
    "tags": []
   },
   "source": [
    "# Carry out covariate balance check"
   ]
  },
  {
   "cell_type": "markdown",
   "metadata": {
    "papermill": {
     "duration": 0.013486,
     "end_time": "2021-02-20T13:42:41.776684",
     "exception": false,
     "start_time": "2021-02-20T13:42:41.763198",
     "status": "completed"
    },
    "tags": []
   },
   "source": [
    "This is done using \"lm_robust\" command which unlike \"lm\" in the base command automatically does the correct Eicher-Huber-White standard errors, instead othe classical non-robus formula based on the homoscdedasticity command."
   ]
  },
  {
   "cell_type": "code",
   "execution_count": 17,
   "metadata": {
    "execution": {
     "iopub.execute_input": "2021-02-20T13:42:41.808584Z",
     "iopub.status.busy": "2021-02-20T13:42:41.806963Z",
     "iopub.status.idle": "2021-02-20T13:42:42.217752Z",
     "shell.execute_reply": "2021-02-20T13:42:42.215514Z"
    },
    "papermill": {
     "duration": 0.428084,
     "end_time": "2021-02-20T13:42:42.217973",
     "exception": false,
     "start_time": "2021-02-20T13:42:41.789889",
     "status": "completed"
    },
    "tags": []
   },
   "outputs": [
    {
     "name": "stderr",
     "output_type": "stream",
     "text": [
      "Warning message:\n",
      "\"package 'lmtest' was built under R version 4.1.0\"\n",
      "Loading required package: zoo\n",
      "\n",
      "Warning message:\n",
      "\"package 'zoo' was built under R version 4.1.0\"\n",
      "\n",
      "Attaching package: 'zoo'\n",
      "\n",
      "\n",
      "The following objects are masked from 'package:base':\n",
      "\n",
      "    as.Date, as.Date.numeric\n",
      "\n",
      "\n",
      "Warning message:\n",
      "\"package 'sandwich' was built under R version 4.1.0\"\n"
     ]
    },
    {
     "data": {
      "text/plain": [
       "\n",
       "t test of coefficients:\n",
       "\n",
       "                       Estimate Std. Error t value  Pr(>|t|)    \n",
       "(Intercept)           0.5171342  0.1568823  3.2963 0.0009856 ***\n",
       "female                0.0056240  0.1324597  0.0425 0.9661352    \n",
       "black                -0.0307771  0.0847262 -0.3633 0.7164293    \n",
       "othrace              -0.4278818  0.3005502 -1.4237 0.1545993    \n",
       "factor(dep)1          0.1576567  0.1851798  0.8514 0.3945992    \n",
       "factor(dep)2         -0.1927958  0.1508926 -1.2777 0.2014067    \n",
       "q2                   -0.1092161  0.1583768 -0.6896 0.4904762    \n",
       "q3                   -0.1075663  0.1579864 -0.6809 0.4959890    \n",
       "q4                   -0.0621302  0.1581168 -0.3929 0.6943797    \n",
       "q5                   -0.0498684  0.1575034 -0.3166 0.7515450    \n",
       "q6                   -0.2176336  0.1558290 -1.3966 0.1625831    \n",
       "agelt35              -0.0643464  0.1326376 -0.4851 0.6276032    \n",
       "agegt54               0.0259251  0.2395371  0.1082 0.9138171    \n",
       "durable              -0.1256397  0.1763853 -0.7123 0.4763064    \n",
       "lusd                  0.0860694  0.0690513  1.2465 0.2126486    \n",
       "husd                 -0.0181543  0.0761231 -0.2385 0.8115132    \n",
       "female:black          0.0026783  0.0438397  0.0611 0.9512880    \n",
       "female:othrace        0.1015133  0.2062044  0.4923 0.6225301    \n",
       "female:factor(dep)1  -0.0178540  0.0448463 -0.3981 0.6905601    \n",
       "female:factor(dep)2   0.0219424  0.0397124  0.5525 0.5806048    \n",
       "female:q2            -0.0994751  0.1321625 -0.7527 0.4516778    \n",
       "female:q3            -0.0143909  0.1318197 -0.1092 0.9130705    \n",
       "female:q4            -0.0166871  0.1315462 -0.1269 0.8990607    \n",
       "female:q5            -0.0586323  0.1310954 -0.4472 0.6547126    \n",
       "female:q6             0.0549625  0.1396608  0.3935 0.6939334    \n",
       "female:agelt35        0.0333185  0.0295704  1.1268 0.2598944    \n",
       "female:agegt54       -0.0109911  0.0500743 -0.2195 0.8262722    \n",
       "female:durable       -0.0585915  0.0437316 -1.3398 0.1803639    \n",
       "female:lusd           0.0051154  0.0333352  0.1535 0.8780465    \n",
       "female:husd           0.0186705  0.0367009  0.5087 0.6109674    \n",
       "black:factor(dep)1   -0.0138871  0.0675124 -0.2057 0.8370347    \n",
       "black:factor(dep)2   -0.0230275  0.0622780 -0.3698 0.7115795    \n",
       "black:q2              0.1310560  0.0910134  1.4400 0.1499327    \n",
       "black:q3              0.0356778  0.0875644  0.4074 0.6836956    \n",
       "black:q4             -0.1094835  0.0892166 -1.2272 0.2198114    \n",
       "black:q5             -0.0107546  0.0866019 -0.1242 0.9011738    \n",
       "black:agelt35         0.0295378  0.0448494  0.6586 0.5101795    \n",
       "black:agegt54        -0.0574814  0.0820450 -0.7006 0.4835761    \n",
       "black:durable        -0.0122293  0.0694472 -0.1761 0.8602255    \n",
       "black:lusd            0.0105912  0.0551036  0.1922 0.8475884    \n",
       "black:husd            0.1309267  0.1808848  0.7238 0.4692108    \n",
       "othrace:factor(dep)1  0.5856787  0.2226353  2.6307 0.0085448 ** \n",
       "othrace:factor(dep)2 -0.1436491  0.3315486 -0.4333 0.6648372    \n",
       "othrace:q2           -0.4009126  0.3451284 -1.1616 0.2454333    \n",
       "othrace:q3            0.6008526  0.2361499  2.5444 0.0109738 *  \n",
       "othrace:q4            0.2964049  0.2870002  1.0328 0.3017560    \n",
       "othrace:q5            0.2727293  0.1923161  1.4181 0.1562076    \n",
       "othrace:agelt35       0.0077601  0.2082436  0.0373 0.9702755    \n",
       "othrace:agegt54       0.2411511  0.3193219  0.7552 0.4501618    \n",
       "othrace:durable      -0.1463647  0.2138674 -0.6844 0.4937685    \n",
       "othrace:lusd          0.0924759  0.2070878  0.4466 0.6552140    \n",
       "othrace:husd         -0.8586692  0.3178289 -2.7017 0.0069197 ** \n",
       "factor(dep)1:q2      -0.0778714  0.1856444 -0.4195 0.6748920    \n",
       "factor(dep)2:q2       0.1434300  0.1499260  0.9567 0.3387736    \n",
       "factor(dep)1:q3      -0.1493913  0.1848276 -0.8083 0.4189669    \n",
       "factor(dep)2:q3       0.1686729  0.1499105  1.1252 0.2605697    \n",
       "factor(dep)1:q4      -0.1594688  0.1838128 -0.8676 0.3856714    \n",
       "factor(dep)2:q4       0.1210031  0.1503997  0.8045 0.4211168    \n",
       "factor(dep)1:q5      -0.1176792  0.1832795 -0.6421 0.5208502    \n",
       "factor(dep)2:q5       0.1389782  0.1487634  0.9342 0.3502285    \n",
       "factor(dep)1:q6      -0.1531103  0.1949430 -0.7854 0.4322458    \n",
       "factor(dep)2:q6       0.1619139  0.1593360  1.0162 0.3095874    \n",
       "factor(dep)1:agelt35 -0.0036069  0.0467653 -0.0771 0.9385253    \n",
       "factor(dep)2:agelt35  0.0615367  0.0371449  1.6567 0.0976424 .  \n",
       "factor(dep)1:agegt54 -0.0883148  0.0649947 -1.3588 0.1742643    \n",
       "factor(dep)2:agegt54 -0.0784522  0.1509474 -0.5197 0.6032706    \n",
       "factor(dep)1:durable  0.0088069  0.0577750  0.1524 0.8788500    \n",
       "factor(dep)2:durable -0.0923628  0.0509130 -1.8141 0.0697103 .  \n",
       "factor(dep)1:lusd     0.0358529  0.0504978  0.7100 0.4777404    \n",
       "factor(dep)2:lusd     0.0706587  0.0459827  1.5366 0.1244382    \n",
       "factor(dep)1:husd    -0.0180593  0.0542162 -0.3331 0.7390723    \n",
       "factor(dep)2:husd     0.0065759  0.0476358  0.1380 0.8902087    \n",
       "q2:agelt35            0.0305875  0.1325911  0.2307 0.8175636    \n",
       "q2:agegt54            0.0590330  0.2393334  0.2467 0.8051835    \n",
       "q2:durable            0.1371323  0.1750979  0.7832 0.4335568    \n",
       "q2:lusd              -0.0530912  0.0720069 -0.7373 0.4609656    \n",
       "q2:husd               0.0859891  0.0776931  1.1068 0.2684364    \n",
       "q3:agelt35            0.0303266  0.1323929  0.2291 0.8188267    \n",
       "q3:agegt54            0.0250950  0.2378238  0.1055 0.9159676    \n",
       "q3:durable            0.1904666  0.1749626  1.0886 0.2763706    \n",
       "q3:lusd              -0.0706455  0.0705820 -1.0009 0.3169179    \n",
       "q3:husd               0.0444347  0.0773385  0.5745 0.5656194    \n",
       "q4:agelt35            0.0722676  0.1322839  0.5463 0.5848765    \n",
       "q4:agegt54           -0.0192713  0.2369080 -0.0813 0.9351705    \n",
       "q4:durable            0.1228723  0.1757888  0.6990 0.4845949    \n",
       "q4:lusd              -0.1132011  0.0712124 -1.5896 0.1119751    \n",
       "q4:husd               0.0103329  0.0772952  0.1337 0.8936596    \n",
       "q5:agelt35            0.0464703  0.1315468  0.3533 0.7239064    \n",
       "q5:agegt54           -0.1165307  0.2361590 -0.4934 0.6217196    \n",
       "q5:durable            0.1024633  0.1734395  0.5908 0.5546963    \n",
       "q5:lusd              -0.0357169  0.0702997 -0.5081 0.6114269    \n",
       "q5:husd               0.0269861  0.0756590  0.3567 0.7213443    \n",
       "q6:agelt35            0.1099339  0.1397160  0.7868 0.4314094    \n",
       "q6:agegt54           -0.0173502  0.2478564 -0.0700 0.9441953    \n",
       "q6:durable            0.2161095  0.1833399  1.1787 0.2385522    \n",
       "agelt35:durable       0.0323100  0.0403347  0.8010 0.4231383    \n",
       "agelt35:lusd         -0.0091978  0.0346701 -0.2653 0.7907913    \n",
       "agelt35:husd         -0.0249924  0.0389720 -0.6413 0.5213594    \n",
       "agegt54:durable      -0.0154688  0.0654590 -0.2363 0.8131985    \n",
       "agegt54:lusd          0.0286866  0.0569181  0.5040 0.6142822    \n",
       "agegt54:husd         -0.0423210  0.0610019 -0.6938 0.4878572    \n",
       "durable:lusd         -0.0385741  0.0428073 -0.9011 0.3675670    \n",
       "durable:husd          0.0093281  0.0525225  0.1776 0.8590417    \n",
       "---\n",
       "Signif. codes:  0 '***' 0.001 '**' 0.01 '*' 0.05 '.' 0.1 ' ' 1\n"
      ]
     },
     "metadata": {},
     "output_type": "display_data"
    }
   ],
   "source": [
    "library(lmtest)\n",
    "library(sandwich)\n",
    "m <- lm(T2~(female+black+othrace+factor(dep)+q2+q3+q4+q5+q6+agelt35+agegt54+durable+lusd+husd)^2)\n",
    "coeftest(m, vcov = vcovHC(m, type=\"HC1\"))"
   ]
  },
  {
   "cell_type": "code",
   "execution_count": null,
   "metadata": {},
   "outputs": [],
   "source": [
    "# get same dataframe\n",
    "X <- as.data.frame( model.matrix(m) )\n",
    "head(X) # the matrix used in the regression\n",
    "length(X)"
   ]
  },
  {
   "cell_type": "code",
   "execution_count": null,
   "metadata": {},
   "outputs": [],
   "source": [
    "no_col <- attributes(m$coefficients)$names[is.na(m$coefficients)] #save the name of variables \n",
    "X1  <- X[, -which(names( X ) %in% no_col ) ] #save in a data frame this variables\n",
    "head(X1)"
   ]
  },
  {
   "cell_type": "code",
   "execution_count": null,
   "metadata": {},
   "outputs": [],
   "source": [
    "save( X1, file = \"../data/lab3_sol.RData\")"
   ]
  },
  {
   "cell_type": "markdown",
   "metadata": {
    "papermill": {
     "duration": 0.021046,
     "end_time": "2021-02-20T13:42:42.315674",
     "exception": false,
     "start_time": "2021-02-20T13:42:42.294628",
     "status": "completed"
    },
    "tags": []
   },
   "source": [
    "# Model Specification"
   ]
  },
  {
   "cell_type": "markdown",
   "metadata": {},
   "source": [
    "### No adjustment (2-sample approach) & classical linear regression adjustment (CRA)"
   ]
  },
  {
   "cell_type": "code",
   "execution_count": 28,
   "metadata": {
    "execution": {
     "iopub.execute_input": "2021-02-20T13:42:42.351202Z",
     "iopub.status.busy": "2021-02-20T13:42:42.350620Z",
     "iopub.status.idle": "2021-02-20T13:42:42.680257Z",
     "shell.execute_reply": "2021-02-20T13:42:42.677739Z"
    },
    "papermill": {
     "duration": 0.350081,
     "end_time": "2021-02-20T13:42:42.680497",
     "exception": false,
     "start_time": "2021-02-20T13:42:42.330416",
     "status": "completed"
    },
    "tags": []
   },
   "outputs": [],
   "source": [
    "formula_cl <- log(inuidur1)~T2\n",
    "\n",
    "# adding controls\n",
    "formula_cra <- log(inuidur1)~T2+ (female+black+othrace+factor(dep)+q2+q3+q4+q5+q6+agelt35+agegt54+durable+lusd+husd)^2\n",
    "# Omitted dummies: q1, nondurable, muld\n",
    "\n",
    "#No adjustment (2-sample approach): like comparing the means of the control and the treatment group\n",
    "ols.cl_reg <- lm(formula_cl)\n",
    "\n",
    "# (CRA)\n",
    "ols.cra_reg <- lm(formula_cra)\n",
    "\n",
    "ols.cl = coeftest(ols.cl_reg, vcov = vcovHC(ols.cl_reg, type=\"HC1\"))\n",
    "ols.cra = coeftest(ols.cra_reg, vcov = vcovHC(ols.cra_reg, type=\"HC1\"))"
   ]
  },
  {
   "cell_type": "code",
   "execution_count": null,
   "metadata": {
    "execution": {
     "iopub.execute_input": "2021-02-20T13:42:42.351202Z",
     "iopub.status.busy": "2021-02-20T13:42:42.350620Z",
     "iopub.status.idle": "2021-02-20T13:42:42.680257Z",
     "shell.execute_reply": "2021-02-20T13:42:42.677739Z"
    },
    "papermill": {
     "duration": 0.350081,
     "end_time": "2021-02-20T13:42:42.680497",
     "exception": false,
     "start_time": "2021-02-20T13:42:42.330416",
     "status": "completed"
    },
    "tags": []
   },
   "outputs": [],
   "source": [
    "# (2-sample approach):\n",
    "print(ols.cl)\n",
    "# (CRA)\n",
    "print(ols.cra)"
   ]
  },
  {
   "cell_type": "code",
   "execution_count": 30,
   "metadata": {},
   "outputs": [],
   "source": [
    "# get same dataframe for ols.cl\n",
    "X <- as.data.frame( model.matrix(ols.cl_reg) )\n",
    "\n",
    "no_col <- attributes(ols.cl_reg$coefficients)$names[is.na(ols.cl_reg$coefficients)]\n",
    "\n",
    "X1  <- X[, -which(names( X ) %in% no_col ) ]\n",
    "\n",
    "save( X1, file = \"../data/ols_cl_reg_sol.RData\")\n",
    "\n",
    "# get same dataframe for ols.cra\n",
    "X <- as.data.frame( model.matrix(ols.cra_reg) )\n",
    "\n",
    "no_col <- attributes(ols.cra_reg$coefficients)$names[is.na(ols.cra_reg$coefficients)]\n",
    "\n",
    "X1  <- X[, -which(names( X ) %in% no_col ) ]\n",
    "\n",
    "save( X1, file = \"../data/ols_cra_reg_sol.RData\")\n"
   ]
  },
  {
   "cell_type": "markdown",
   "metadata": {
    "papermill": {
     "duration": 0.02768,
     "end_time": "2021-02-20T13:42:42.735966",
     "exception": false,
     "start_time": "2021-02-20T13:42:42.708286",
     "status": "completed"
    },
    "tags": []
   },
   "source": [
    "The interactive specificaiton corresponds to the approach introduced in Lin (2013)."
   ]
  },
  {
   "cell_type": "markdown",
   "metadata": {},
   "source": [
    "### Interactive regression model"
   ]
  },
  {
   "cell_type": "code",
   "execution_count": 32,
   "metadata": {
    "execution": {
     "iopub.execute_input": "2021-02-20T13:42:42.787957Z",
     "iopub.status.busy": "2021-02-20T13:42:42.787434Z",
     "iopub.status.idle": "2021-02-20T13:42:43.662431Z",
     "shell.execute_reply": "2021-02-20T13:42:43.659030Z"
    },
    "papermill": {
     "duration": 0.898452,
     "end_time": "2021-02-20T13:42:43.662684",
     "exception": false,
     "start_time": "2021-02-20T13:42:42.764232",
     "status": "completed"
    },
    "tags": []
   },
   "outputs": [
    {
     "data": {
      "text/html": [
       "<style>\n",
       ".list-inline {list-style: none; margin:0; padding: 0}\n",
       ".list-inline>li {display: inline-block}\n",
       ".list-inline>li:not(:last-child)::after {content: \"\\00b7\"; padding: 0 .5ex}\n",
       "</style>\n",
       "<ol class=list-inline><li>5782</li><li>119</li></ol>\n"
      ],
      "text/latex": [
       "\\begin{enumerate*}\n",
       "\\item 5782\n",
       "\\item 119\n",
       "\\end{enumerate*}\n"
      ],
      "text/markdown": [
       "1. 5782\n",
       "2. 119\n",
       "\n",
       "\n"
      ],
      "text/plain": [
       "[1] 5782  119"
      ]
     },
     "metadata": {},
     "output_type": "display_data"
    }
   ],
   "source": [
    "X = model.matrix (~ (female+black+othrace+factor(dep)+q2+q3+q4+q5+q6+agelt35+agegt54+durable+lusd+husd)^2)[,-1]\n",
    "dim(X) # we have 119 variables"
   ]
  },
  {
   "cell_type": "code",
   "execution_count": 33,
   "metadata": {
    "execution": {
     "iopub.execute_input": "2021-02-20T13:42:42.787957Z",
     "iopub.status.busy": "2021-02-20T13:42:42.787434Z",
     "iopub.status.idle": "2021-02-20T13:42:43.662431Z",
     "shell.execute_reply": "2021-02-20T13:42:43.659030Z"
    },
    "papermill": {
     "duration": 0.898452,
     "end_time": "2021-02-20T13:42:43.662684",
     "exception": false,
     "start_time": "2021-02-20T13:42:42.764232",
     "status": "completed"
    },
    "tags": []
   },
   "outputs": [
    {
     "data": {
      "text/html": [
       "<table class=\"dataframe\">\n",
       "<caption>A matrix: 6 × 119 of type dbl</caption>\n",
       "<thead>\n",
       "\t<tr><th></th><th scope=col>female</th><th scope=col>black</th><th scope=col>othrace</th><th scope=col>factor(dep)1</th><th scope=col>factor(dep)2</th><th scope=col>q2</th><th scope=col>q3</th><th scope=col>q4</th><th scope=col>q5</th><th scope=col>q6</th><th scope=col>...</th><th scope=col>agelt35:agegt54</th><th scope=col>agelt35:durable</th><th scope=col>agelt35:lusd</th><th scope=col>agelt35:husd</th><th scope=col>agegt54:durable</th><th scope=col>agegt54:lusd</th><th scope=col>agegt54:husd</th><th scope=col>durable:lusd</th><th scope=col>durable:husd</th><th scope=col>lusd:husd</th></tr>\n",
       "</thead>\n",
       "<tbody>\n",
       "\t<tr><th scope=row>1</th><td>-0.4007264</td><td>-0.118817</td><td>-0.005188516</td><td>-0.1165687</td><td> 0.839329</td><td>-0.2001038</td><td>-0.2355586</td><td>-0.2232791</td><td> 0.7367693</td><td>-0.06520235</td><td>...</td><td>0</td><td>-0.07350398</td><td>-0.1324801</td><td>-0.1219301</td><td>-0.01885161</td><td>-0.0325147</td><td>-0.02767209</td><td>-0.05499827</td><td>-0.02905569</td><td>0</td></tr>\n",
       "\t<tr><th scope=row>2</th><td>-0.4007264</td><td>-0.118817</td><td>-0.005188516</td><td>-0.1165687</td><td>-0.160671</td><td>-0.2001038</td><td> 0.7644414</td><td>-0.2232791</td><td>-0.2632307</td><td>-0.06520235</td><td>...</td><td>0</td><td>-0.07350398</td><td> 0.8675199</td><td>-0.1219301</td><td>-0.01885161</td><td>-0.0325147</td><td>-0.02767209</td><td>-0.05499827</td><td>-0.02905569</td><td>0</td></tr>\n",
       "\t<tr><th scope=row>3</th><td>-0.4007264</td><td>-0.118817</td><td>-0.005188516</td><td>-0.1165687</td><td>-0.160671</td><td>-0.2001038</td><td>-0.2355586</td><td>-0.2232791</td><td> 0.7367693</td><td>-0.06520235</td><td>...</td><td>0</td><td>-0.07350398</td><td>-0.1324801</td><td>-0.1219301</td><td>-0.01885161</td><td>-0.0325147</td><td>-0.02767209</td><td>-0.05499827</td><td>-0.02905569</td><td>0</td></tr>\n",
       "\t<tr><th scope=row>4</th><td>-0.4007264</td><td>-0.118817</td><td>-0.005188516</td><td>-0.1165687</td><td>-0.160671</td><td>-0.2001038</td><td>-0.2355586</td><td> 0.7767209</td><td>-0.2632307</td><td>-0.06520235</td><td>...</td><td>0</td><td>-0.07350398</td><td>-0.1324801</td><td>-0.1219301</td><td>-0.01885161</td><td>-0.0325147</td><td>-0.02767209</td><td>-0.05499827</td><td>-0.02905569</td><td>0</td></tr>\n",
       "\t<tr><th scope=row>5</th><td> 0.5992736</td><td>-0.118817</td><td>-0.005188516</td><td>-0.1165687</td><td>-0.160671</td><td>-0.2001038</td><td>-0.2355586</td><td> 0.7767209</td><td>-0.2632307</td><td>-0.06520235</td><td>...</td><td>0</td><td>-0.07350398</td><td>-0.1324801</td><td>-0.1219301</td><td>-0.01885161</td><td>-0.0325147</td><td>-0.02767209</td><td>-0.05499827</td><td>-0.02905569</td><td>0</td></tr>\n",
       "\t<tr><th scope=row>6</th><td>-0.4007264</td><td>-0.118817</td><td>-0.005188516</td><td> 0.8834313</td><td>-0.160671</td><td>-0.2001038</td><td>-0.2355586</td><td>-0.2232791</td><td> 0.7367693</td><td>-0.06520235</td><td>...</td><td>0</td><td>-0.07350398</td><td>-0.1324801</td><td>-0.1219301</td><td> 0.98114839</td><td> 0.9674853</td><td>-0.02767209</td><td> 0.94500173</td><td>-0.02905569</td><td>0</td></tr>\n",
       "</tbody>\n",
       "</table>\n"
      ],
      "text/latex": [
       "A matrix: 6 × 119 of type dbl\n",
       "\\begin{tabular}{r|lllllllllllllllllllll}\n",
       "  & female & black & othrace & factor(dep)1 & factor(dep)2 & q2 & q3 & q4 & q5 & q6 & ... & agelt35:agegt54 & agelt35:durable & agelt35:lusd & agelt35:husd & agegt54:durable & agegt54:lusd & agegt54:husd & durable:lusd & durable:husd & lusd:husd\\\\\n",
       "\\hline\n",
       "\t1 & -0.4007264 & -0.118817 & -0.005188516 & -0.1165687 &  0.839329 & -0.2001038 & -0.2355586 & -0.2232791 &  0.7367693 & -0.06520235 & ... & 0 & -0.07350398 & -0.1324801 & -0.1219301 & -0.01885161 & -0.0325147 & -0.02767209 & -0.05499827 & -0.02905569 & 0\\\\\n",
       "\t2 & -0.4007264 & -0.118817 & -0.005188516 & -0.1165687 & -0.160671 & -0.2001038 &  0.7644414 & -0.2232791 & -0.2632307 & -0.06520235 & ... & 0 & -0.07350398 &  0.8675199 & -0.1219301 & -0.01885161 & -0.0325147 & -0.02767209 & -0.05499827 & -0.02905569 & 0\\\\\n",
       "\t3 & -0.4007264 & -0.118817 & -0.005188516 & -0.1165687 & -0.160671 & -0.2001038 & -0.2355586 & -0.2232791 &  0.7367693 & -0.06520235 & ... & 0 & -0.07350398 & -0.1324801 & -0.1219301 & -0.01885161 & -0.0325147 & -0.02767209 & -0.05499827 & -0.02905569 & 0\\\\\n",
       "\t4 & -0.4007264 & -0.118817 & -0.005188516 & -0.1165687 & -0.160671 & -0.2001038 & -0.2355586 &  0.7767209 & -0.2632307 & -0.06520235 & ... & 0 & -0.07350398 & -0.1324801 & -0.1219301 & -0.01885161 & -0.0325147 & -0.02767209 & -0.05499827 & -0.02905569 & 0\\\\\n",
       "\t5 &  0.5992736 & -0.118817 & -0.005188516 & -0.1165687 & -0.160671 & -0.2001038 & -0.2355586 &  0.7767209 & -0.2632307 & -0.06520235 & ... & 0 & -0.07350398 & -0.1324801 & -0.1219301 & -0.01885161 & -0.0325147 & -0.02767209 & -0.05499827 & -0.02905569 & 0\\\\\n",
       "\t6 & -0.4007264 & -0.118817 & -0.005188516 &  0.8834313 & -0.160671 & -0.2001038 & -0.2355586 & -0.2232791 &  0.7367693 & -0.06520235 & ... & 0 & -0.07350398 & -0.1324801 & -0.1219301 &  0.98114839 &  0.9674853 & -0.02767209 &  0.94500173 & -0.02905569 & 0\\\\\n",
       "\\end{tabular}\n"
      ],
      "text/markdown": [
       "\n",
       "A matrix: 6 × 119 of type dbl\n",
       "\n",
       "| <!--/--> | female | black | othrace | factor(dep)1 | factor(dep)2 | q2 | q3 | q4 | q5 | q6 | ... | agelt35:agegt54 | agelt35:durable | agelt35:lusd | agelt35:husd | agegt54:durable | agegt54:lusd | agegt54:husd | durable:lusd | durable:husd | lusd:husd |\n",
       "|---|---|---|---|---|---|---|---|---|---|---|---|---|---|---|---|---|---|---|---|---|---|\n",
       "| 1 | -0.4007264 | -0.118817 | -0.005188516 | -0.1165687 |  0.839329 | -0.2001038 | -0.2355586 | -0.2232791 |  0.7367693 | -0.06520235 | ... | 0 | -0.07350398 | -0.1324801 | -0.1219301 | -0.01885161 | -0.0325147 | -0.02767209 | -0.05499827 | -0.02905569 | 0 |\n",
       "| 2 | -0.4007264 | -0.118817 | -0.005188516 | -0.1165687 | -0.160671 | -0.2001038 |  0.7644414 | -0.2232791 | -0.2632307 | -0.06520235 | ... | 0 | -0.07350398 |  0.8675199 | -0.1219301 | -0.01885161 | -0.0325147 | -0.02767209 | -0.05499827 | -0.02905569 | 0 |\n",
       "| 3 | -0.4007264 | -0.118817 | -0.005188516 | -0.1165687 | -0.160671 | -0.2001038 | -0.2355586 | -0.2232791 |  0.7367693 | -0.06520235 | ... | 0 | -0.07350398 | -0.1324801 | -0.1219301 | -0.01885161 | -0.0325147 | -0.02767209 | -0.05499827 | -0.02905569 | 0 |\n",
       "| 4 | -0.4007264 | -0.118817 | -0.005188516 | -0.1165687 | -0.160671 | -0.2001038 | -0.2355586 |  0.7767209 | -0.2632307 | -0.06520235 | ... | 0 | -0.07350398 | -0.1324801 | -0.1219301 | -0.01885161 | -0.0325147 | -0.02767209 | -0.05499827 | -0.02905569 | 0 |\n",
       "| 5 |  0.5992736 | -0.118817 | -0.005188516 | -0.1165687 | -0.160671 | -0.2001038 | -0.2355586 |  0.7767209 | -0.2632307 | -0.06520235 | ... | 0 | -0.07350398 | -0.1324801 | -0.1219301 | -0.01885161 | -0.0325147 | -0.02767209 | -0.05499827 | -0.02905569 | 0 |\n",
       "| 6 | -0.4007264 | -0.118817 | -0.005188516 |  0.8834313 | -0.160671 | -0.2001038 | -0.2355586 | -0.2232791 |  0.7367693 | -0.06520235 | ... | 0 | -0.07350398 | -0.1324801 | -0.1219301 |  0.98114839 |  0.9674853 | -0.02767209 |  0.94500173 | -0.02905569 | 0 |\n",
       "\n"
      ],
      "text/plain": [
       "  female     black     othrace      factor(dep)1 factor(dep)2 q2        \n",
       "1 -0.4007264 -0.118817 -0.005188516 -0.1165687    0.839329    -0.2001038\n",
       "2 -0.4007264 -0.118817 -0.005188516 -0.1165687   -0.160671    -0.2001038\n",
       "3 -0.4007264 -0.118817 -0.005188516 -0.1165687   -0.160671    -0.2001038\n",
       "4 -0.4007264 -0.118817 -0.005188516 -0.1165687   -0.160671    -0.2001038\n",
       "5  0.5992736 -0.118817 -0.005188516 -0.1165687   -0.160671    -0.2001038\n",
       "6 -0.4007264 -0.118817 -0.005188516  0.8834313   -0.160671    -0.2001038\n",
       "  q3         q4         q5         q6          ... agelt35:agegt54\n",
       "1 -0.2355586 -0.2232791  0.7367693 -0.06520235 ... 0              \n",
       "2  0.7644414 -0.2232791 -0.2632307 -0.06520235 ... 0              \n",
       "3 -0.2355586 -0.2232791  0.7367693 -0.06520235 ... 0              \n",
       "4 -0.2355586  0.7767209 -0.2632307 -0.06520235 ... 0              \n",
       "5 -0.2355586  0.7767209 -0.2632307 -0.06520235 ... 0              \n",
       "6 -0.2355586 -0.2232791  0.7367693 -0.06520235 ... 0              \n",
       "  agelt35:durable agelt35:lusd agelt35:husd agegt54:durable agegt54:lusd\n",
       "1 -0.07350398     -0.1324801   -0.1219301   -0.01885161     -0.0325147  \n",
       "2 -0.07350398      0.8675199   -0.1219301   -0.01885161     -0.0325147  \n",
       "3 -0.07350398     -0.1324801   -0.1219301   -0.01885161     -0.0325147  \n",
       "4 -0.07350398     -0.1324801   -0.1219301   -0.01885161     -0.0325147  \n",
       "5 -0.07350398     -0.1324801   -0.1219301   -0.01885161     -0.0325147  \n",
       "6 -0.07350398     -0.1324801   -0.1219301    0.98114839      0.9674853  \n",
       "  agegt54:husd durable:lusd durable:husd lusd:husd\n",
       "1 -0.02767209  -0.05499827  -0.02905569  0        \n",
       "2 -0.02767209  -0.05499827  -0.02905569  0        \n",
       "3 -0.02767209  -0.05499827  -0.02905569  0        \n",
       "4 -0.02767209  -0.05499827  -0.02905569  0        \n",
       "5 -0.02767209  -0.05499827  -0.02905569  0        \n",
       "6 -0.02767209   0.94500173  -0.02905569  0        "
      ]
     },
     "metadata": {},
     "output_type": "display_data"
    }
   ],
   "source": [
    "demean<- function(x){ x - mean(x)} #create a function that demeans the variables \n",
    "X = apply(X, 2, demean) # apply it to the data base\n",
    "head(X)"
   ]
  },
  {
   "cell_type": "code",
   "execution_count": null,
   "metadata": {
    "execution": {
     "iopub.execute_input": "2021-02-20T13:42:42.787957Z",
     "iopub.status.busy": "2021-02-20T13:42:42.787434Z",
     "iopub.status.idle": "2021-02-20T13:42:43.662431Z",
     "shell.execute_reply": "2021-02-20T13:42:43.659030Z"
    },
    "papermill": {
     "duration": 0.898452,
     "end_time": "2021-02-20T13:42:43.662684",
     "exception": false,
     "start_time": "2021-02-20T13:42:42.764232",
     "status": "completed"
    },
    "tags": []
   },
   "outputs": [],
   "source": [
    "ols.ira_reg = lm(log(inuidur1) ~ T2*X) #interactions of all the variables with the treatment\n",
    "ols.ira= coeftest(ols.ira_reg, vcov = vcovHC(ols.ira_reg, type=\"HC1\")) # correct the EE \n",
    "print(ols.ira)"
   ]
  },
  {
   "cell_type": "code",
   "execution_count": 26,
   "metadata": {},
   "outputs": [
    {
     "data": {
      "text/html": [
       "<table>\n",
       "<thead><tr><th scope=col>(Intercept)</th><th scope=col>T2TRUE</th><th scope=col>Xfemale</th><th scope=col>Xblack</th><th scope=col>Xothrace</th><th scope=col>Xfactor(dep)1</th><th scope=col>Xfactor(dep)2</th><th scope=col>Xq2</th><th scope=col>Xq3</th><th scope=col>Xq4</th><th scope=col>...</th><th scope=col>T2TRUE:Xagelt35:agegt54</th><th scope=col>T2TRUE:Xagelt35:durable</th><th scope=col>T2TRUE:Xagelt35:lusd</th><th scope=col>T2TRUE:Xagelt35:husd</th><th scope=col>T2TRUE:Xagegt54:durable</th><th scope=col>T2TRUE:Xagegt54:lusd</th><th scope=col>T2TRUE:Xagegt54:husd</th><th scope=col>T2TRUE:Xdurable:lusd</th><th scope=col>T2TRUE:Xdurable:husd</th><th scope=col>T2TRUE:Xlusd:husd</th></tr></thead>\n",
       "<tbody>\n",
       "\t<tr><td>1           </td><td>0           </td><td>-0.4007264  </td><td>-0.118817   </td><td>-0.005188516</td><td>-0.1165687  </td><td> 0.839329   </td><td>-0.2001038  </td><td>-0.2355586  </td><td>-0.2232791  </td><td>...         </td><td>0           </td><td> 0.00000000 </td><td> 0.0000000  </td><td> 0.0000000  </td><td> 0.00000000 </td><td> 0.0000000  </td><td> 0.00000000 </td><td> 0.00000000 </td><td> 0.00000000 </td><td>0           </td></tr>\n",
       "\t<tr><td>1           </td><td>1           </td><td>-0.4007264  </td><td>-0.118817   </td><td>-0.005188516</td><td>-0.1165687  </td><td>-0.160671   </td><td>-0.2001038  </td><td> 0.7644414  </td><td>-0.2232791  </td><td>...         </td><td>0           </td><td>-0.07350398 </td><td> 0.8675199  </td><td>-0.1219301  </td><td>-0.01885161 </td><td>-0.0325147  </td><td>-0.02767209 </td><td>-0.05499827 </td><td>-0.02905569 </td><td>0           </td></tr>\n",
       "\t<tr><td>1           </td><td>0           </td><td>-0.4007264  </td><td>-0.118817   </td><td>-0.005188516</td><td>-0.1165687  </td><td>-0.160671   </td><td>-0.2001038  </td><td>-0.2355586  </td><td>-0.2232791  </td><td>...         </td><td>0           </td><td> 0.00000000 </td><td> 0.0000000  </td><td> 0.0000000  </td><td> 0.00000000 </td><td> 0.0000000  </td><td> 0.00000000 </td><td> 0.00000000 </td><td> 0.00000000 </td><td>0           </td></tr>\n",
       "\t<tr><td>1           </td><td>0           </td><td>-0.4007264  </td><td>-0.118817   </td><td>-0.005188516</td><td>-0.1165687  </td><td>-0.160671   </td><td>-0.2001038  </td><td>-0.2355586  </td><td> 0.7767209  </td><td>...         </td><td>0           </td><td> 0.00000000 </td><td> 0.0000000  </td><td> 0.0000000  </td><td> 0.00000000 </td><td> 0.0000000  </td><td> 0.00000000 </td><td> 0.00000000 </td><td> 0.00000000 </td><td>0           </td></tr>\n",
       "\t<tr><td>1           </td><td>1           </td><td> 0.5992736  </td><td>-0.118817   </td><td>-0.005188516</td><td>-0.1165687  </td><td>-0.160671   </td><td>-0.2001038  </td><td>-0.2355586  </td><td> 0.7767209  </td><td>...         </td><td>0           </td><td>-0.07350398 </td><td>-0.1324801  </td><td>-0.1219301  </td><td>-0.01885161 </td><td>-0.0325147  </td><td>-0.02767209 </td><td>-0.05499827 </td><td>-0.02905569 </td><td>0           </td></tr>\n",
       "\t<tr><td>1           </td><td>0           </td><td>-0.4007264  </td><td>-0.118817   </td><td>-0.005188516</td><td> 0.8834313  </td><td>-0.160671   </td><td>-0.2001038  </td><td>-0.2355586  </td><td>-0.2232791  </td><td>...         </td><td>0           </td><td> 0.00000000 </td><td> 0.0000000  </td><td> 0.0000000  </td><td> 0.00000000 </td><td> 0.0000000  </td><td> 0.00000000 </td><td> 0.00000000 </td><td> 0.00000000 </td><td>0           </td></tr>\n",
       "</tbody>\n",
       "</table>\n"
      ],
      "text/latex": [
       "\\begin{tabular}{r|llllllllllllllllllllllllllllllllllllllllllllllllllllllllllllllllllllllllllllllllllllllllllllllllllllllllllllllllllllllllllllllllllllllllllllllllllllllllllllllllllllllllllllllllllllllllllllllllllllllllllllllllllllllllllllllllllllllllllllllll}\n",
       " (Intercept) & T2TRUE & Xfemale & Xblack & Xothrace & Xfactor(dep)1 & Xfactor(dep)2 & Xq2 & Xq3 & Xq4 & ... & T2TRUE:Xagelt35:agegt54 & T2TRUE:Xagelt35:durable & T2TRUE:Xagelt35:lusd & T2TRUE:Xagelt35:husd & T2TRUE:Xagegt54:durable & T2TRUE:Xagegt54:lusd & T2TRUE:Xagegt54:husd & T2TRUE:Xdurable:lusd & T2TRUE:Xdurable:husd & T2TRUE:Xlusd:husd\\\\\n",
       "\\hline\n",
       "\t 1            & 0            & -0.4007264   & -0.118817    & -0.005188516 & -0.1165687   &  0.839329    & -0.2001038   & -0.2355586   & -0.2232791   & ...          & 0            &  0.00000000  &  0.0000000   &  0.0000000   &  0.00000000  &  0.0000000   &  0.00000000  &  0.00000000  &  0.00000000  & 0           \\\\\n",
       "\t 1            & 1            & -0.4007264   & -0.118817    & -0.005188516 & -0.1165687   & -0.160671    & -0.2001038   &  0.7644414   & -0.2232791   & ...          & 0            & -0.07350398  &  0.8675199   & -0.1219301   & -0.01885161  & -0.0325147   & -0.02767209  & -0.05499827  & -0.02905569  & 0           \\\\\n",
       "\t 1            & 0            & -0.4007264   & -0.118817    & -0.005188516 & -0.1165687   & -0.160671    & -0.2001038   & -0.2355586   & -0.2232791   & ...          & 0            &  0.00000000  &  0.0000000   &  0.0000000   &  0.00000000  &  0.0000000   &  0.00000000  &  0.00000000  &  0.00000000  & 0           \\\\\n",
       "\t 1            & 0            & -0.4007264   & -0.118817    & -0.005188516 & -0.1165687   & -0.160671    & -0.2001038   & -0.2355586   &  0.7767209   & ...          & 0            &  0.00000000  &  0.0000000   &  0.0000000   &  0.00000000  &  0.0000000   &  0.00000000  &  0.00000000  &  0.00000000  & 0           \\\\\n",
       "\t 1            & 1            &  0.5992736   & -0.118817    & -0.005188516 & -0.1165687   & -0.160671    & -0.2001038   & -0.2355586   &  0.7767209   & ...          & 0            & -0.07350398  & -0.1324801   & -0.1219301   & -0.01885161  & -0.0325147   & -0.02767209  & -0.05499827  & -0.02905569  & 0           \\\\\n",
       "\t 1            & 0            & -0.4007264   & -0.118817    & -0.005188516 &  0.8834313   & -0.160671    & -0.2001038   & -0.2355586   & -0.2232791   & ...          & 0            &  0.00000000  &  0.0000000   &  0.0000000   &  0.00000000  &  0.0000000   &  0.00000000  &  0.00000000  &  0.00000000  & 0           \\\\\n",
       "\\end{tabular}\n"
      ],
      "text/markdown": [
       "\n",
       "| (Intercept) | T2TRUE | Xfemale | Xblack | Xothrace | Xfactor(dep)1 | Xfactor(dep)2 | Xq2 | Xq3 | Xq4 | ... | T2TRUE:Xagelt35:agegt54 | T2TRUE:Xagelt35:durable | T2TRUE:Xagelt35:lusd | T2TRUE:Xagelt35:husd | T2TRUE:Xagegt54:durable | T2TRUE:Xagegt54:lusd | T2TRUE:Xagegt54:husd | T2TRUE:Xdurable:lusd | T2TRUE:Xdurable:husd | T2TRUE:Xlusd:husd |\n",
       "|---|---|---|---|---|---|---|---|---|---|---|---|---|---|---|---|---|---|---|---|---|\n",
       "| 1            | 0            | -0.4007264   | -0.118817    | -0.005188516 | -0.1165687   |  0.839329    | -0.2001038   | -0.2355586   | -0.2232791   | ...          | 0            |  0.00000000  |  0.0000000   |  0.0000000   |  0.00000000  |  0.0000000   |  0.00000000  |  0.00000000  |  0.00000000  | 0            |\n",
       "| 1            | 1            | -0.4007264   | -0.118817    | -0.005188516 | -0.1165687   | -0.160671    | -0.2001038   |  0.7644414   | -0.2232791   | ...          | 0            | -0.07350398  |  0.8675199   | -0.1219301   | -0.01885161  | -0.0325147   | -0.02767209  | -0.05499827  | -0.02905569  | 0            |\n",
       "| 1            | 0            | -0.4007264   | -0.118817    | -0.005188516 | -0.1165687   | -0.160671    | -0.2001038   | -0.2355586   | -0.2232791   | ...          | 0            |  0.00000000  |  0.0000000   |  0.0000000   |  0.00000000  |  0.0000000   |  0.00000000  |  0.00000000  |  0.00000000  | 0            |\n",
       "| 1            | 0            | -0.4007264   | -0.118817    | -0.005188516 | -0.1165687   | -0.160671    | -0.2001038   | -0.2355586   |  0.7767209   | ...          | 0            |  0.00000000  |  0.0000000   |  0.0000000   |  0.00000000  |  0.0000000   |  0.00000000  |  0.00000000  |  0.00000000  | 0            |\n",
       "| 1            | 1            |  0.5992736   | -0.118817    | -0.005188516 | -0.1165687   | -0.160671    | -0.2001038   | -0.2355586   |  0.7767209   | ...          | 0            | -0.07350398  | -0.1324801   | -0.1219301   | -0.01885161  | -0.0325147   | -0.02767209  | -0.05499827  | -0.02905569  | 0            |\n",
       "| 1            | 0            | -0.4007264   | -0.118817    | -0.005188516 |  0.8834313   | -0.160671    | -0.2001038   | -0.2355586   | -0.2232791   | ...          | 0            |  0.00000000  |  0.0000000   |  0.0000000   |  0.00000000  |  0.0000000   |  0.00000000  |  0.00000000  |  0.00000000  | 0            |\n",
       "\n"
      ],
      "text/plain": [
       "  (Intercept) T2TRUE Xfemale    Xblack    Xothrace     Xfactor(dep)1\n",
       "1 1           0      -0.4007264 -0.118817 -0.005188516 -0.1165687   \n",
       "2 1           1      -0.4007264 -0.118817 -0.005188516 -0.1165687   \n",
       "3 1           0      -0.4007264 -0.118817 -0.005188516 -0.1165687   \n",
       "4 1           0      -0.4007264 -0.118817 -0.005188516 -0.1165687   \n",
       "5 1           1       0.5992736 -0.118817 -0.005188516 -0.1165687   \n",
       "6 1           0      -0.4007264 -0.118817 -0.005188516  0.8834313   \n",
       "  Xfactor(dep)2 Xq2        Xq3        Xq4        ... T2TRUE:Xagelt35:agegt54\n",
       "1  0.839329     -0.2001038 -0.2355586 -0.2232791 ... 0                      \n",
       "2 -0.160671     -0.2001038  0.7644414 -0.2232791 ... 0                      \n",
       "3 -0.160671     -0.2001038 -0.2355586 -0.2232791 ... 0                      \n",
       "4 -0.160671     -0.2001038 -0.2355586  0.7767209 ... 0                      \n",
       "5 -0.160671     -0.2001038 -0.2355586  0.7767209 ... 0                      \n",
       "6 -0.160671     -0.2001038 -0.2355586 -0.2232791 ... 0                      \n",
       "  T2TRUE:Xagelt35:durable T2TRUE:Xagelt35:lusd T2TRUE:Xagelt35:husd\n",
       "1  0.00000000              0.0000000            0.0000000          \n",
       "2 -0.07350398              0.8675199           -0.1219301          \n",
       "3  0.00000000              0.0000000            0.0000000          \n",
       "4  0.00000000              0.0000000            0.0000000          \n",
       "5 -0.07350398             -0.1324801           -0.1219301          \n",
       "6  0.00000000              0.0000000            0.0000000          \n",
       "  T2TRUE:Xagegt54:durable T2TRUE:Xagegt54:lusd T2TRUE:Xagegt54:husd\n",
       "1  0.00000000              0.0000000            0.00000000         \n",
       "2 -0.01885161             -0.0325147           -0.02767209         \n",
       "3  0.00000000              0.0000000            0.00000000         \n",
       "4  0.00000000              0.0000000            0.00000000         \n",
       "5 -0.01885161             -0.0325147           -0.02767209         \n",
       "6  0.00000000              0.0000000            0.00000000         \n",
       "  T2TRUE:Xdurable:lusd T2TRUE:Xdurable:husd T2TRUE:Xlusd:husd\n",
       "1  0.00000000           0.00000000          0                \n",
       "2 -0.05499827          -0.02905569          0                \n",
       "3  0.00000000           0.00000000          0                \n",
       "4  0.00000000           0.00000000          0                \n",
       "5 -0.05499827          -0.02905569          0                \n",
       "6  0.00000000           0.00000000          0                "
      ]
     },
     "metadata": {},
     "output_type": "display_data"
    }
   ],
   "source": [
    "# get same dataframe for ols.ira\n",
    "S <- as.data.frame( model.matrix(ols.ira_reg) )\n",
    "head(S) "
   ]
  },
  {
   "cell_type": "code",
   "execution_count": 27,
   "metadata": {},
   "outputs": [],
   "source": [
    "no_col <- attributes(ols.ira_reg$coefficients)$names[is.na(ols.ira_reg$coefficients)]\n",
    "\n",
    "S1  <- S[, -which(names( S ) %in% no_col ) ]\n",
    "\n",
    "save( S1, file = \"../data/ols_ira_reg_sol.RData\")\n"
   ]
  },
  {
   "cell_type": "markdown",
   "metadata": {
    "papermill": {
     "duration": 0.030243,
     "end_time": "2021-02-20T13:42:43.724231",
     "exception": false,
     "start_time": "2021-02-20T13:42:43.693988",
     "status": "completed"
    },
    "tags": []
   },
   "source": [
    "### Interactive regression adjusment using Lasso"
   ]
  },
  {
   "cell_type": "code",
   "execution_count": 36,
   "metadata": {
    "execution": {
     "iopub.execute_input": "2021-02-20T13:42:43.774524Z",
     "iopub.status.busy": "2021-02-20T13:42:43.773643Z",
     "iopub.status.idle": "2021-02-20T13:42:45.044886Z",
     "shell.execute_reply": "2021-02-20T13:42:45.043005Z"
    },
    "papermill": {
     "duration": 1.29547,
     "end_time": "2021-02-20T13:42:45.045172",
     "exception": false,
     "start_time": "2021-02-20T13:42:43.749702",
     "status": "completed"
    },
    "tags": []
   },
   "outputs": [
    {
     "name": "stderr",
     "output_type": "stream",
     "text": [
      "Warning message:\n",
      "\"package 'hdm' was built under R version 4.1.0\"\n"
     ]
    },
    {
     "data": {
      "text/html": [
       "<table class=\"dataframe\">\n",
       "<caption>A matrix: 6 × 239 of type dbl</caption>\n",
       "<thead>\n",
       "\t<tr><th></th><th scope=col>T2</th><th scope=col>Xfemale</th><th scope=col>Xblack</th><th scope=col>Xothrace</th><th scope=col>Xfactor(dep)1</th><th scope=col>Xfactor(dep)2</th><th scope=col>Xq2</th><th scope=col>Xq3</th><th scope=col>Xq4</th><th scope=col>Xq5</th><th scope=col>...</th><th scope=col>T2:Xagelt35:agegt54</th><th scope=col>T2:Xagelt35:durable</th><th scope=col>T2:Xagelt35:lusd</th><th scope=col>T2:Xagelt35:husd</th><th scope=col>T2:Xagegt54:durable</th><th scope=col>T2:Xagegt54:lusd</th><th scope=col>T2:Xagegt54:husd</th><th scope=col>T2:Xdurable:lusd</th><th scope=col>T2:Xdurable:husd</th><th scope=col>T2:Xlusd:husd</th></tr>\n",
       "</thead>\n",
       "<tbody>\n",
       "\t<tr><th scope=row>1</th><td>-0.4199239</td><td>-0.4007264</td><td>-0.118817</td><td>-0.005188516</td><td>-0.1165687</td><td> 0.839329</td><td>-0.2001038</td><td>-0.2355586</td><td>-0.2232791</td><td> 0.7367693</td><td>...</td><td>0</td><td> 0.03086608</td><td> 0.05563156</td><td> 0.05120138</td><td> 0.007916241</td><td> 0.0136537</td><td> 0.01162017</td><td> 0.02309509</td><td> 0.01220118</td><td>0</td></tr>\n",
       "\t<tr><th scope=row>2</th><td> 0.5800761</td><td>-0.4007264</td><td>-0.118817</td><td>-0.005188516</td><td>-0.1165687</td><td>-0.160671</td><td>-0.2001038</td><td> 0.7644414</td><td>-0.2232791</td><td>-0.2632307</td><td>...</td><td>0</td><td>-0.04263790</td><td> 0.50322755</td><td>-0.07072875</td><td>-0.010935367</td><td>-0.0188610</td><td>-0.01605192</td><td>-0.03190318</td><td>-0.01685451</td><td>0</td></tr>\n",
       "\t<tr><th scope=row>3</th><td>-0.4199239</td><td>-0.4007264</td><td>-0.118817</td><td>-0.005188516</td><td>-0.1165687</td><td>-0.160671</td><td>-0.2001038</td><td>-0.2355586</td><td>-0.2232791</td><td> 0.7367693</td><td>...</td><td>0</td><td> 0.03086608</td><td> 0.05563156</td><td> 0.05120138</td><td> 0.007916241</td><td> 0.0136537</td><td> 0.01162017</td><td> 0.02309509</td><td> 0.01220118</td><td>0</td></tr>\n",
       "\t<tr><th scope=row>4</th><td>-0.4199239</td><td>-0.4007264</td><td>-0.118817</td><td>-0.005188516</td><td>-0.1165687</td><td>-0.160671</td><td>-0.2001038</td><td>-0.2355586</td><td> 0.7767209</td><td>-0.2632307</td><td>...</td><td>0</td><td> 0.03086608</td><td> 0.05563156</td><td> 0.05120138</td><td> 0.007916241</td><td> 0.0136537</td><td> 0.01162017</td><td> 0.02309509</td><td> 0.01220118</td><td>0</td></tr>\n",
       "\t<tr><th scope=row>5</th><td> 0.5800761</td><td> 0.5992736</td><td>-0.118817</td><td>-0.005188516</td><td>-0.1165687</td><td>-0.160671</td><td>-0.2001038</td><td>-0.2355586</td><td> 0.7767209</td><td>-0.2632307</td><td>...</td><td>0</td><td>-0.04263790</td><td>-0.07684855</td><td>-0.07072875</td><td>-0.010935367</td><td>-0.0188610</td><td>-0.01605192</td><td>-0.03190318</td><td>-0.01685451</td><td>0</td></tr>\n",
       "\t<tr><th scope=row>6</th><td>-0.4199239</td><td>-0.4007264</td><td>-0.118817</td><td>-0.005188516</td><td> 0.8834313</td><td>-0.160671</td><td>-0.2001038</td><td>-0.2355586</td><td>-0.2232791</td><td> 0.7367693</td><td>...</td><td>0</td><td> 0.03086608</td><td> 0.05563156</td><td> 0.05120138</td><td>-0.412007661</td><td>-0.4062702</td><td> 0.01162017</td><td>-0.39682881</td><td> 0.01220118</td><td>0</td></tr>\n",
       "</tbody>\n",
       "</table>\n"
      ],
      "text/latex": [
       "A matrix: 6 × 239 of type dbl\n",
       "\\begin{tabular}{r|lllllllllllllllllllll}\n",
       "  & T2 & Xfemale & Xblack & Xothrace & Xfactor(dep)1 & Xfactor(dep)2 & Xq2 & Xq3 & Xq4 & Xq5 & ... & T2:Xagelt35:agegt54 & T2:Xagelt35:durable & T2:Xagelt35:lusd & T2:Xagelt35:husd & T2:Xagegt54:durable & T2:Xagegt54:lusd & T2:Xagegt54:husd & T2:Xdurable:lusd & T2:Xdurable:husd & T2:Xlusd:husd\\\\\n",
       "\\hline\n",
       "\t1 & -0.4199239 & -0.4007264 & -0.118817 & -0.005188516 & -0.1165687 &  0.839329 & -0.2001038 & -0.2355586 & -0.2232791 &  0.7367693 & ... & 0 &  0.03086608 &  0.05563156 &  0.05120138 &  0.007916241 &  0.0136537 &  0.01162017 &  0.02309509 &  0.01220118 & 0\\\\\n",
       "\t2 &  0.5800761 & -0.4007264 & -0.118817 & -0.005188516 & -0.1165687 & -0.160671 & -0.2001038 &  0.7644414 & -0.2232791 & -0.2632307 & ... & 0 & -0.04263790 &  0.50322755 & -0.07072875 & -0.010935367 & -0.0188610 & -0.01605192 & -0.03190318 & -0.01685451 & 0\\\\\n",
       "\t3 & -0.4199239 & -0.4007264 & -0.118817 & -0.005188516 & -0.1165687 & -0.160671 & -0.2001038 & -0.2355586 & -0.2232791 &  0.7367693 & ... & 0 &  0.03086608 &  0.05563156 &  0.05120138 &  0.007916241 &  0.0136537 &  0.01162017 &  0.02309509 &  0.01220118 & 0\\\\\n",
       "\t4 & -0.4199239 & -0.4007264 & -0.118817 & -0.005188516 & -0.1165687 & -0.160671 & -0.2001038 & -0.2355586 &  0.7767209 & -0.2632307 & ... & 0 &  0.03086608 &  0.05563156 &  0.05120138 &  0.007916241 &  0.0136537 &  0.01162017 &  0.02309509 &  0.01220118 & 0\\\\\n",
       "\t5 &  0.5800761 &  0.5992736 & -0.118817 & -0.005188516 & -0.1165687 & -0.160671 & -0.2001038 & -0.2355586 &  0.7767209 & -0.2632307 & ... & 0 & -0.04263790 & -0.07684855 & -0.07072875 & -0.010935367 & -0.0188610 & -0.01605192 & -0.03190318 & -0.01685451 & 0\\\\\n",
       "\t6 & -0.4199239 & -0.4007264 & -0.118817 & -0.005188516 &  0.8834313 & -0.160671 & -0.2001038 & -0.2355586 & -0.2232791 &  0.7367693 & ... & 0 &  0.03086608 &  0.05563156 &  0.05120138 & -0.412007661 & -0.4062702 &  0.01162017 & -0.39682881 &  0.01220118 & 0\\\\\n",
       "\\end{tabular}\n"
      ],
      "text/markdown": [
       "\n",
       "A matrix: 6 × 239 of type dbl\n",
       "\n",
       "| <!--/--> | T2 | Xfemale | Xblack | Xothrace | Xfactor(dep)1 | Xfactor(dep)2 | Xq2 | Xq3 | Xq4 | Xq5 | ... | T2:Xagelt35:agegt54 | T2:Xagelt35:durable | T2:Xagelt35:lusd | T2:Xagelt35:husd | T2:Xagegt54:durable | T2:Xagegt54:lusd | T2:Xagegt54:husd | T2:Xdurable:lusd | T2:Xdurable:husd | T2:Xlusd:husd |\n",
       "|---|---|---|---|---|---|---|---|---|---|---|---|---|---|---|---|---|---|---|---|---|---|\n",
       "| 1 | -0.4199239 | -0.4007264 | -0.118817 | -0.005188516 | -0.1165687 |  0.839329 | -0.2001038 | -0.2355586 | -0.2232791 |  0.7367693 | ... | 0 |  0.03086608 |  0.05563156 |  0.05120138 |  0.007916241 |  0.0136537 |  0.01162017 |  0.02309509 |  0.01220118 | 0 |\n",
       "| 2 |  0.5800761 | -0.4007264 | -0.118817 | -0.005188516 | -0.1165687 | -0.160671 | -0.2001038 |  0.7644414 | -0.2232791 | -0.2632307 | ... | 0 | -0.04263790 |  0.50322755 | -0.07072875 | -0.010935367 | -0.0188610 | -0.01605192 | -0.03190318 | -0.01685451 | 0 |\n",
       "| 3 | -0.4199239 | -0.4007264 | -0.118817 | -0.005188516 | -0.1165687 | -0.160671 | -0.2001038 | -0.2355586 | -0.2232791 |  0.7367693 | ... | 0 |  0.03086608 |  0.05563156 |  0.05120138 |  0.007916241 |  0.0136537 |  0.01162017 |  0.02309509 |  0.01220118 | 0 |\n",
       "| 4 | -0.4199239 | -0.4007264 | -0.118817 | -0.005188516 | -0.1165687 | -0.160671 | -0.2001038 | -0.2355586 |  0.7767209 | -0.2632307 | ... | 0 |  0.03086608 |  0.05563156 |  0.05120138 |  0.007916241 |  0.0136537 |  0.01162017 |  0.02309509 |  0.01220118 | 0 |\n",
       "| 5 |  0.5800761 |  0.5992736 | -0.118817 | -0.005188516 | -0.1165687 | -0.160671 | -0.2001038 | -0.2355586 |  0.7767209 | -0.2632307 | ... | 0 | -0.04263790 | -0.07684855 | -0.07072875 | -0.010935367 | -0.0188610 | -0.01605192 | -0.03190318 | -0.01685451 | 0 |\n",
       "| 6 | -0.4199239 | -0.4007264 | -0.118817 | -0.005188516 |  0.8834313 | -0.160671 | -0.2001038 | -0.2355586 | -0.2232791 |  0.7367693 | ... | 0 |  0.03086608 |  0.05563156 |  0.05120138 | -0.412007661 | -0.4062702 |  0.01162017 | -0.39682881 |  0.01220118 | 0 |\n",
       "\n"
      ],
      "text/plain": [
       "  T2         Xfemale    Xblack    Xothrace     Xfactor(dep)1 Xfactor(dep)2\n",
       "1 -0.4199239 -0.4007264 -0.118817 -0.005188516 -0.1165687     0.839329    \n",
       "2  0.5800761 -0.4007264 -0.118817 -0.005188516 -0.1165687    -0.160671    \n",
       "3 -0.4199239 -0.4007264 -0.118817 -0.005188516 -0.1165687    -0.160671    \n",
       "4 -0.4199239 -0.4007264 -0.118817 -0.005188516 -0.1165687    -0.160671    \n",
       "5  0.5800761  0.5992736 -0.118817 -0.005188516 -0.1165687    -0.160671    \n",
       "6 -0.4199239 -0.4007264 -0.118817 -0.005188516  0.8834313    -0.160671    \n",
       "  Xq2        Xq3        Xq4        Xq5        ... T2:Xagelt35:agegt54\n",
       "1 -0.2001038 -0.2355586 -0.2232791  0.7367693 ... 0                  \n",
       "2 -0.2001038  0.7644414 -0.2232791 -0.2632307 ... 0                  \n",
       "3 -0.2001038 -0.2355586 -0.2232791  0.7367693 ... 0                  \n",
       "4 -0.2001038 -0.2355586  0.7767209 -0.2632307 ... 0                  \n",
       "5 -0.2001038 -0.2355586  0.7767209 -0.2632307 ... 0                  \n",
       "6 -0.2001038 -0.2355586 -0.2232791  0.7367693 ... 0                  \n",
       "  T2:Xagelt35:durable T2:Xagelt35:lusd T2:Xagelt35:husd T2:Xagegt54:durable\n",
       "1  0.03086608          0.05563156       0.05120138       0.007916241       \n",
       "2 -0.04263790          0.50322755      -0.07072875      -0.010935367       \n",
       "3  0.03086608          0.05563156       0.05120138       0.007916241       \n",
       "4  0.03086608          0.05563156       0.05120138       0.007916241       \n",
       "5 -0.04263790         -0.07684855      -0.07072875      -0.010935367       \n",
       "6  0.03086608          0.05563156       0.05120138      -0.412007661       \n",
       "  T2:Xagegt54:lusd T2:Xagegt54:husd T2:Xdurable:lusd T2:Xdurable:husd\n",
       "1  0.0136537        0.01162017       0.02309509       0.01220118     \n",
       "2 -0.0188610       -0.01605192      -0.03190318      -0.01685451     \n",
       "3  0.0136537        0.01162017       0.02309509       0.01220118     \n",
       "4  0.0136537        0.01162017       0.02309509       0.01220118     \n",
       "5 -0.0188610       -0.01605192      -0.03190318      -0.01685451     \n",
       "6 -0.4062702        0.01162017      -0.39682881       0.01220118     \n",
       "  T2:Xlusd:husd\n",
       "1 0            \n",
       "2 0            \n",
       "3 0            \n",
       "4 0            \n",
       "5 0            \n",
       "6 0            "
      ]
     },
     "metadata": {},
     "output_type": "display_data"
    }
   ],
   "source": [
    "library(hdm)\n",
    "T2 = demean(T2)\n",
    "DX = model.matrix(~T2*X)[,-1]\n",
    "head(DX)"
   ]
  },
  {
   "cell_type": "code",
   "execution_count": 37,
   "metadata": {
    "execution": {
     "iopub.execute_input": "2021-02-20T13:42:43.774524Z",
     "iopub.status.busy": "2021-02-20T13:42:43.773643Z",
     "iopub.status.idle": "2021-02-20T13:42:45.044886Z",
     "shell.execute_reply": "2021-02-20T13:42:45.043005Z"
    },
    "papermill": {
     "duration": 1.29547,
     "end_time": "2021-02-20T13:42:45.045172",
     "exception": false,
     "start_time": "2021-02-20T13:42:43.749702",
     "status": "completed"
    },
    "tags": []
   },
   "outputs": [
    {
     "name": "stdout",
     "output_type": "stream",
     "text": [
      "[1] \"Estimates and significance testing of the effect of target variables\"\n",
      "   Estimate. Std. Error t value Pr(>|t|)  \n",
      "T2  -0.07457    0.03209  -2.324   0.0201 *\n",
      "---\n",
      "Signif. codes:  0 '***' 0.001 '**' 0.01 '*' 0.05 '.' 0.1 ' ' 1\n",
      "\n",
      "\n"
     ]
    }
   ],
   "source": [
    "rlasso.ira = summary(rlassoEffects(DX, log(inuidur1), index = 1))\n",
    "print(rlasso.ira)"
   ]
  },
  {
   "cell_type": "markdown",
   "metadata": {},
   "source": [
    "Plotting the coefficient of the treatment effect:"
   ]
  },
  {
   "cell_type": "code",
   "execution_count": 31,
   "metadata": {},
   "outputs": [],
   "source": [
    "# getting data\n",
    "S = as.data.frame(DX)\n",
    "save( S, file = \"../data/rlasso_ira_reg_g1.RData\")"
   ]
  },
  {
   "cell_type": "markdown",
   "metadata": {
    "papermill": {
     "duration": 0.030965,
     "end_time": "2021-02-20T13:42:45.107753",
     "exception": false,
     "start_time": "2021-02-20T13:42:45.076788",
     "status": "completed"
    },
    "tags": []
   },
   "source": [
    "### Results"
   ]
  },
  {
   "cell_type": "code",
   "execution_count": 32,
   "metadata": {
    "execution": {
     "iopub.execute_input": "2021-02-20T13:42:45.214919Z",
     "iopub.status.busy": "2021-02-20T13:42:45.213709Z",
     "iopub.status.idle": "2021-02-20T13:42:45.304637Z",
     "shell.execute_reply": "2021-02-20T13:42:45.303410Z"
    },
    "papermill": {
     "duration": 0.113372,
     "end_time": "2021-02-20T13:42:45.304786",
     "exception": false,
     "start_time": "2021-02-20T13:42:45.191414",
     "status": "completed"
    },
    "tags": []
   },
   "outputs": [
    {
     "data": {
      "text/html": [
       "<table>\n",
       "<thead><tr><th></th><th scope=col>CL</th><th scope=col>CRA</th><th scope=col>IRA</th><th scope=col>IRA w Lasso</th></tr></thead>\n",
       "<tbody>\n",
       "\t<tr><th scope=row>estimate</th><td>-0.07882533</td><td>-0.07120664</td><td>-0.06990440</td><td>-0.07457328</td></tr>\n",
       "\t<tr><th scope=row>standard error</th><td> 0.03250889</td><td> 0.03204403</td><td> 0.03207638</td><td> 0.03208892</td></tr>\n",
       "</tbody>\n",
       "</table>\n"
      ],
      "text/latex": [
       "\\begin{tabular}{r|llll}\n",
       "  & CL & CRA & IRA & IRA w Lasso\\\\\n",
       "\\hline\n",
       "\testimate & -0.07882533 & -0.07120664 & -0.06990440 & -0.07457328\\\\\n",
       "\tstandard error &  0.03250889 &  0.03204403 &  0.03207638 &  0.03208892\\\\\n",
       "\\end{tabular}\n"
      ],
      "text/markdown": [
       "\n",
       "| <!--/--> | CL | CRA | IRA | IRA w Lasso |\n",
       "|---|---|---|---|---|\n",
       "| estimate | -0.07882533 | -0.07120664 | -0.06990440 | -0.07457328 |\n",
       "| standard error |  0.03250889 |  0.03204403 |  0.03207638 |  0.03208892 |\n",
       "\n"
      ],
      "text/plain": [
       "               CL          CRA         IRA         IRA w Lasso\n",
       "estimate       -0.07882533 -0.07120664 -0.06990440 -0.07457328\n",
       "standard error  0.03250889  0.03204403  0.03207638  0.03208892"
      ]
     },
     "metadata": {},
     "output_type": "display_data"
    },
    {
     "name": "stdout",
     "output_type": "stream",
     "text": [
      "% latex table generated in R 3.6.1 by xtable 1.8-4 package\n",
      "% Fri Sep 24 16:34:29 2021\n",
      "\\begin{table}[ht]\n",
      "\\centering\n",
      "\\begin{tabular}{rrrrr}\n",
      "  \\hline\n",
      " & CL & CRA & IRA & IRA w Lasso \\\\ \n",
      "  \\hline\n",
      "estimate & -0.07883 & -0.07121 & -0.06990 & -0.07457 \\\\ \n",
      "  standard error & 0.03251 & 0.03204 & 0.03208 & 0.03209 \\\\ \n",
      "   \\hline\n",
      "\\end{tabular}\n",
      "\\end{table}\n"
     ]
    }
   ],
   "source": [
    "library(xtable)\n",
    "table<- matrix(0, 2, 4)\n",
    "table[1,1]<-  ols.cl[2,1]\n",
    "table[1,2]<-  ols.cra[2,1]\n",
    "table[1,3]<-  ols.ira[2,1]\n",
    "table[1,4]<-  rlasso.ira[[1]][1]\n",
    "\n",
    "table[2,1]<-  ols.cl[2,2]\n",
    "table[2,2]<-  ols.cra[2,2]\n",
    "table[2,3]<-  ols.ira[2,2]\n",
    "table[2,4]<-  rlasso.ira[[1]][2]\n",
    "\n",
    "\n",
    "colnames(table)<- c(\"CL\",\"CRA\",\"IRA\", \"IRA w Lasso\")\n",
    "rownames(table)<- c(\"estimate\", \"standard error\")\n",
    "tab<- xtable(table, digits=5)\n",
    "tab\n",
    "\n",
    "print(tab, type=\"latex\", digits=5)"
   ]
  },
  {
   "cell_type": "markdown",
   "metadata": {
    "papermill": {
     "duration": 0.019862,
     "end_time": "2021-02-20T13:42:45.344887",
     "exception": false,
     "start_time": "2021-02-20T13:42:45.325025",
     "status": "completed"
    },
    "tags": []
   },
   "source": [
    "### Plot the coefficients of a set of variables of number 3"
   ]
  },
  {
   "cell_type": "code",
   "execution_count": null,
   "metadata": {},
   "outputs": [],
   "source": [
    "install.packages( \"dotwhisker\" )\n",
    "\n",
    "install.packages(\"tidyverse\")"
   ]
  },
  {
   "cell_type": "code",
   "execution_count": 51,
   "metadata": {},
   "outputs": [
    {
     "name": "stderr",
     "output_type": "stream",
     "text": [
      "Installing package into 'C:/Users/Anzony/Documents/R/win-library/4.0'\n",
      "(as 'lib' is unspecified)\n",
      "\n"
     ]
    },
    {
     "name": "stdout",
     "output_type": "stream",
     "text": [
      "package 'broom' successfully unpacked and MD5 sums checked\n",
      "\n",
      "The downloaded binary packages are in\n",
      "\tC:\\Users\\Anzony\\AppData\\Local\\Temp\\RtmpCM4VWd\\downloaded_packages\n"
     ]
    }
   ],
   "source": [
    "install.packages('broom')"
   ]
  },
  {
   "cell_type": "code",
   "execution_count": 53,
   "metadata": {
    "scrolled": true
   },
   "outputs": [
    {
     "name": "stderr",
     "output_type": "stream",
     "text": [
      "Warning message:\n",
      "\"package 'broom' was built under R version 4.0.5\"\n"
     ]
    }
   ],
   "source": [
    "library(dotwhisker)\n",
    "library(dplyr)\n",
    "library(tidyr)\n",
    "library(broom)"
   ]
  },
  {
   "cell_type": "code",
   "execution_count": 75,
   "metadata": {
    "scrolled": true
   },
   "outputs": [],
   "source": [
    "coef_ira <- tidy(ols.ira) %>% filter(term %in% c( \"T2TRUE:Xfemale\" , \"T2TRUE:Xblack\" , \"T2TRUE:Xagelt35\" , \"T2TRUE:Xfactor(dep)1\" ) ) %>% mutate(model = \"Model IRA\") "
   ]
  },
  {
   "cell_type": "code",
   "execution_count": 79,
   "metadata": {},
   "outputs": [
    {
     "data": {
      "image/png": "[encoded data removed]",
      "text/plain": [
       "plot without title"
      ]
     },
     "metadata": {
      "image/png": {
       "height": 500,
       "width": 750
      }
     },
     "output_type": "display_data"
    }
   ],
   "source": [
    "options(repr.plot.width=3, repr.plot.height=2 ,  repr.plot.res = 500)\n",
    "dwplot(coef_ira , \n",
    "       vline = geom_vline(\n",
    "           xintercept = 0,\n",
    "           colour = \"grey60\",\n",
    "           linetype = 2\n",
    "       ),\n",
    "       vars_order = c( \"T2TRUE:Xfemale\" , \"T2TRUE:Xblack\" , \"T2TRUE:Xagelt35\" , \"T2TRUE:Xfactor(dep)1\" )\n",
    "       ) %>% # plot line at zero _behind_coefs\n",
    "    relabel_predictors(\n",
    "        c(\n",
    "            \"T2TRUE:Xfemale\" = \"T2*female\",\n",
    "            \"T2TRUE:Xblack\" = \"T2*black\",\n",
    "            \"T2TRUE:Xagelt35\" = \"T2*agelt35\",\n",
    "            \"T2TRUE:Xfactor(dep)1\" = \"T2*factor(dep)1\"\n",
    "        )\n",
    "    ) +\n",
    "    theme_bw(base_size = 4) + \n",
    "    # Setting `base_size` for fit the theme\n",
    "    # No need to set `base_size` in most usage\n",
    "    xlab(\"Coefficient Estimate\") + ylab(\"\") +\n",
    "    geom_vline(xintercept = 0,\n",
    "               colour = \"grey60\",\n",
    "               linetype = 2) +\n",
    "    ggtitle(\"Interactive regression adjustment (IRA) \") +\n",
    "    theme(\n",
    "        plot.title = element_text(face = \"bold\"),\n",
    "        legend.position = c(0.007, 0.01),\n",
    "        legend.justification = c(0, 0),\n",
    "        legend.background = element_rect(colour = \"grey80\"),\n",
    "        legend.title = element_blank()\n",
    "    )"
   ]
  }
 ],
 "metadata": {
  "hide_input": false,
  "kernelspec": {
   "display_name": "R",
   "language": "R",
   "name": "ir"
  },
  "language_info": {
   "codemirror_mode": "r",
   "file_extension": ".r",
   "mimetype": "text/x-r-source",
   "name": "R",
   "pygments_lexer": "r",
   "version": "4.0.4"
  }
 },
 "nbformat": 4,
 "nbformat_minor": 4
}
