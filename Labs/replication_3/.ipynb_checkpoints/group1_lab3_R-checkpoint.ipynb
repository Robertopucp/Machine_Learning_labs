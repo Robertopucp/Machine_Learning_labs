{
 "cells": [
  {
   "cell_type": "markdown",
   "metadata": {},
   "source": [
    "# Multicollinearity "
   ]
  },
  {
   "cell_type": "markdown",
   "metadata": {},
   "source": [
    "Multicollinearity is a statistical concept that is used when independent variables in an econometric model are correlated. This can lead to inaccurate estimates and a wider confidence intervals whit less reliable probabilities in terms of the effect of independent variables.\n",
    "There are two kinds of multicollinearities:\n",
    "### Perfect multicollinearity:\n",
    "This is when an independent variable is a linear combination of two other independent variables.\n",
    "\n",
    "For example:\n",
    "\\begin{align}\n",
    "PBI_i = \\beta_0+\\beta_1export +\\beta_2import +β3balance+\\epsilon_i\\end{align}\n",
    "- Perfect multicollinearity will occur if we can express: balance = export − import\n",
    "- In this case, $\\beta_3$ will not be able to measure the effect of increasing the balance by keeping the export and import constant given their linear relationship.\n",
    "\n",
    "$Consequences$\n",
    "\n",
    "No podemos encontrar de forma única $\\beta_{OLS} = (X'X)^{−1}X'y$\n",
    "\n",
    "because $rango(X)<K ⇒ |X'X| = 0 ⇒ \\not\\exists (X'X)^{-1}$ where K in the number of variables\n",
    "¿Cómo detectarlo?\n",
    "- Los programas se quejaran de que no podemos invertir la matriz (X'X)\n",
    "- **Correccion:** Excluimos la variable balance\n",
    "\n",
    "### Imperfect multicollinearity:\n",
    "\n",
    "When the correlation between the explanatory variables is high, but not perfect.\n",
    "\n",
    "For example:\n",
    "\\begin{align}\n",
    "Consumo_i = \\beta_1 +\\beta_2Ingreso_i +\\beta_3Riqueza_i +\\epsilon_i\\end{align}\n",
    "- Although it is true there is no perfect collinearity, it is quite likely that wealth and income are highly correlated."
   ]
  },
  {
   "cell_type": "markdown",
   "metadata": {},
   "source": [
    "## Create Matriz X"
   ]
  },
  {
   "cell_type": "code",
   "execution_count": 1,
   "metadata": {},
   "outputs": [],
   "source": [
    "set.seed(123)        # set MC seed\n",
    "n = 10\n",
    "V1 = rnorm(10)\n",
    "V2 = rnorm(10)\n",
    "V3 = rnorm(10)\n",
    "V4 = rnorm(10)\n",
    "V5 = rnorm(10)\n",
    "V6 = rnorm(10)\n",
    "V7 = rnorm(10)\n",
    "V8 = rnorm(10)\n",
    "V9 = rnorm(10)"
   ]
  },
  {
   "cell_type": "code",
   "execution_count": 2,
   "metadata": {},
   "outputs": [
    {
     "data": {
      "text/html": [
       "<ol class=list-inline>\n",
       "\t<li>-0.560475646552213</li>\n",
       "\t<li>-0.23017748948328</li>\n",
       "\t<li>1.55870831414912</li>\n",
       "\t<li>0.070508391424576</li>\n",
       "\t<li>0.129287735160946</li>\n",
       "\t<li>1.71506498688328</li>\n",
       "\t<li>0.460916205989202</li>\n",
       "\t<li>-1.26506123460653</li>\n",
       "\t<li>-0.686852851893526</li>\n",
       "\t<li>-0.445661970099958</li>\n",
       "</ol>\n"
      ],
      "text/latex": [
       "\\begin{enumerate*}\n",
       "\\item -0.560475646552213\n",
       "\\item -0.23017748948328\n",
       "\\item 1.55870831414912\n",
       "\\item 0.070508391424576\n",
       "\\item 0.129287735160946\n",
       "\\item 1.71506498688328\n",
       "\\item 0.460916205989202\n",
       "\\item -1.26506123460653\n",
       "\\item -0.686852851893526\n",
       "\\item -0.445661970099958\n",
       "\\end{enumerate*}\n"
      ],
      "text/markdown": [
       "1. -0.560475646552213\n",
       "2. -0.23017748948328\n",
       "3. 1.55870831414912\n",
       "4. 0.070508391424576\n",
       "5. 0.129287735160946\n",
       "6. 1.71506498688328\n",
       "7. 0.460916205989202\n",
       "8. -1.26506123460653\n",
       "9. -0.686852851893526\n",
       "10. -0.445661970099958\n",
       "\n",
       "\n"
      ],
      "text/plain": [
       " [1] -0.56047565 -0.23017749  1.55870831  0.07050839  0.12928774  1.71506499\n",
       " [7]  0.46091621 -1.26506123 -0.68685285 -0.44566197"
      ]
     },
     "metadata": {},
     "output_type": "display_data"
    }
   ],
   "source": [
    "V1"
   ]
  },
  {
   "cell_type": "code",
   "execution_count": 3,
   "metadata": {},
   "outputs": [
    {
     "data": {
      "text/html": [
       "<ol class=list-inline>\n",
       "\t<li>-0.404217555099596</li>\n",
       "\t<li>-0.0883385770842113</li>\n",
       "\t<li>0.933475316435937</li>\n",
       "\t<li>-0.547700121921445</li>\n",
       "\t<li>-1.05159266744239</li>\n",
       "\t<li>1.81528481294395</li>\n",
       "\t<li>1.79655372871297</li>\n",
       "\t<li>-3.07830527339966</li>\n",
       "\t<li>-1.12363388734179</li>\n",
       "\t<li>0.335361543242035</li>\n",
       "</ol>\n"
      ],
      "text/latex": [
       "\\begin{enumerate*}\n",
       "\\item -0.404217555099596\n",
       "\\item -0.0883385770842113\n",
       "\\item 0.933475316435937\n",
       "\\item -0.547700121921445\n",
       "\\item -1.05159266744239\n",
       "\\item 1.81528481294395\n",
       "\\item 1.79655372871297\n",
       "\\item -3.07830527339966\n",
       "\\item -1.12363388734179\n",
       "\\item 0.335361543242035\n",
       "\\end{enumerate*}\n"
      ],
      "text/markdown": [
       "1. -0.404217555099596\n",
       "2. -0.0883385770842113\n",
       "3. 0.933475316435937\n",
       "4. -0.547700121921445\n",
       "5. -1.05159266744239\n",
       "6. 1.81528481294395\n",
       "7. 1.79655372871297\n",
       "8. -3.07830527339966\n",
       "9. -1.12363388734179\n",
       "10. 0.335361543242035\n",
       "\n",
       "\n"
      ],
      "text/plain": [
       " [1] -0.40421756 -0.08833858  0.93347532 -0.54770012 -1.05159267  1.81528481\n",
       " [7]  1.79655373 -3.07830527 -1.12363389  0.33536154"
      ]
     },
     "metadata": {},
     "output_type": "display_data"
    }
   ],
   "source": [
    "V10 = V1+V2+V3\n",
    "V10"
   ]
  },
  {
   "cell_type": "code",
   "execution_count": 4,
   "metadata": {},
   "outputs": [
    {
     "data": {
      "text/html": [
       "<ol class=list-inline>\n",
       "\t<li>-0.560475646552213</li>\n",
       "\t<li>-0.23017748948328</li>\n",
       "\t<li>1.55870831414912</li>\n",
       "\t<li>0.070508391424576</li>\n",
       "\t<li>0.129287735160946</li>\n",
       "\t<li>1.71506498688328</li>\n",
       "\t<li>0.460916205989202</li>\n",
       "\t<li>-1.26506123460653</li>\n",
       "\t<li>-0.686852851893526</li>\n",
       "\t<li>-0.445661970099958</li>\n",
       "\t<li>1.22408179743946</li>\n",
       "\t<li>0.359813827057364</li>\n",
       "\t<li>0.400771450594052</li>\n",
       "\t<li>0.11068271594512</li>\n",
       "\t<li>-0.555841134754075</li>\n",
       "\t<li>1.78691313680308</li>\n",
       "\t<li>0.497850478229239</li>\n",
       "\t<li>-1.96661715662964</li>\n",
       "\t<li>0.701355901563686</li>\n",
       "\t<li>-0.472791407727934</li>\n",
       "\t<li>-1.06782370598685</li>\n",
       "\t<li>-0.217974914658295</li>\n",
       "\t<li>-1.02600444830724</li>\n",
       "\t<li>-0.72889122929114</li>\n",
       "\t<li>-0.625039267849257</li>\n",
       "\t<li>-1.68669331074241</li>\n",
       "\t<li>0.837787044494525</li>\n",
       "\t<li>0.153373117836515</li>\n",
       "\t<li>-1.13813693701195</li>\n",
       "\t<li>1.25381492106993</li>\n",
       "\t<li>0.426464221476814</li>\n",
       "\t<li>-0.295071482992271</li>\n",
       "\t<li>0.895125661045022</li>\n",
       "\t<li>0.878133487533042</li>\n",
       "\t<li>0.821581081637487</li>\n",
       "\t<li>0.688640254100091</li>\n",
       "\t<li>0.553917653537589</li>\n",
       "\t<li>-0.0619117105767217</li>\n",
       "\t<li>-0.305962663739917</li>\n",
       "\t<li>-0.380471001012383</li>\n",
       "\t<li>-0.694706978920513</li>\n",
       "\t<li>-0.207917278019599</li>\n",
       "\t<li>-1.26539635156826</li>\n",
       "\t<li>2.16895596533851</li>\n",
       "\t<li>1.20796199830499</li>\n",
       "\t<li>-1.12310858320335</li>\n",
       "\t<li>-0.402884835299076</li>\n",
       "\t<li>-0.466655353623219</li>\n",
       "\t<li>0.779965118336318</li>\n",
       "\t<li>-0.0833690664718293</li>\n",
       "\t<li>0.253318513994755</li>\n",
       "\t<li>-0.028546755348703</li>\n",
       "\t<li>-0.0428704572913161</li>\n",
       "\t<li>1.36860228401446</li>\n",
       "\t<li>-0.225770985659268</li>\n",
       "\t<li>1.51647060442954</li>\n",
       "\t<li>-1.54875280423022</li>\n",
       "\t<li>0.584613749636069</li>\n",
       "\t<li>0.123854243844614</li>\n",
       "\t<li>0.215941568743973</li>\n",
       "\t<li>0.379639482759882</li>\n",
       "\t<li>-0.502323453109302</li>\n",
       "\t<li>-0.33320738366942</li>\n",
       "\t<li>-1.01857538310709</li>\n",
       "\t<li>-1.07179122647558</li>\n",
       "\t<li>0.303528641404258</li>\n",
       "\t<li>0.448209778629426</li>\n",
       "\t<li>0.0530042267305041</li>\n",
       "\t<li>0.922267467879738</li>\n",
       "\t<li>2.05008468562714</li>\n",
       "\t<li>-0.491031166056535</li>\n",
       "\t<li>-2.30916887564081</li>\n",
       "\t<li>1.00573852446226</li>\n",
       "\t<li>-0.709200762582393</li>\n",
       "\t<li>-0.688008616467358</li>\n",
       "\t<li>1.0255713696967</li>\n",
       "\t<li>-0.284773007051009</li>\n",
       "\t<li>-1.22071771225454</li>\n",
       "\t<li>0.18130347974915</li>\n",
       "\t<li>-0.138891362439045</li>\n",
       "\t<li>0.00576418589988693</li>\n",
       "\t<li>0.38528040112633</li>\n",
       "\t<li>-0.370660031792409</li>\n",
       "\t<li>0.644376548518833</li>\n",
       "\t<li>-0.220486561818751</li>\n",
       "\t<li>0.331781963915697</li>\n",
       "\t<li>1.09683901314935</li>\n",
       "\t<li>0.435181490833803</li>\n",
       "\t<li>-0.325931585531227</li>\n",
       "\t<li>1.14880761845109</li>\n",
       "\t<li>-0.404217555099596</li>\n",
       "\t<li>-0.0883385770842113</li>\n",
       "\t<li>0.933475316435937</li>\n",
       "\t<li>-0.547700121921445</li>\n",
       "\t<li>-1.05159266744239</li>\n",
       "\t<li>1.81528481294395</li>\n",
       "\t<li>1.79655372871297</li>\n",
       "\t<li>-3.07830527339966</li>\n",
       "\t<li>-1.12363388734179</li>\n",
       "\t<li>0.335361543242035</li>\n",
       "</ol>\n"
      ],
      "text/latex": [
       "\\begin{enumerate*}\n",
       "\\item -0.560475646552213\n",
       "\\item -0.23017748948328\n",
       "\\item 1.55870831414912\n",
       "\\item 0.070508391424576\n",
       "\\item 0.129287735160946\n",
       "\\item 1.71506498688328\n",
       "\\item 0.460916205989202\n",
       "\\item -1.26506123460653\n",
       "\\item -0.686852851893526\n",
       "\\item -0.445661970099958\n",
       "\\item 1.22408179743946\n",
       "\\item 0.359813827057364\n",
       "\\item 0.400771450594052\n",
       "\\item 0.11068271594512\n",
       "\\item -0.555841134754075\n",
       "\\item 1.78691313680308\n",
       "\\item 0.497850478229239\n",
       "\\item -1.96661715662964\n",
       "\\item 0.701355901563686\n",
       "\\item -0.472791407727934\n",
       "\\item -1.06782370598685\n",
       "\\item -0.217974914658295\n",
       "\\item -1.02600444830724\n",
       "\\item -0.72889122929114\n",
       "\\item -0.625039267849257\n",
       "\\item -1.68669331074241\n",
       "\\item 0.837787044494525\n",
       "\\item 0.153373117836515\n",
       "\\item -1.13813693701195\n",
       "\\item 1.25381492106993\n",
       "\\item 0.426464221476814\n",
       "\\item -0.295071482992271\n",
       "\\item 0.895125661045022\n",
       "\\item 0.878133487533042\n",
       "\\item 0.821581081637487\n",
       "\\item 0.688640254100091\n",
       "\\item 0.553917653537589\n",
       "\\item -0.0619117105767217\n",
       "\\item -0.305962663739917\n",
       "\\item -0.380471001012383\n",
       "\\item -0.694706978920513\n",
       "\\item -0.207917278019599\n",
       "\\item -1.26539635156826\n",
       "\\item 2.16895596533851\n",
       "\\item 1.20796199830499\n",
       "\\item -1.12310858320335\n",
       "\\item -0.402884835299076\n",
       "\\item -0.466655353623219\n",
       "\\item 0.779965118336318\n",
       "\\item -0.0833690664718293\n",
       "\\item 0.253318513994755\n",
       "\\item -0.028546755348703\n",
       "\\item -0.0428704572913161\n",
       "\\item 1.36860228401446\n",
       "\\item -0.225770985659268\n",
       "\\item 1.51647060442954\n",
       "\\item -1.54875280423022\n",
       "\\item 0.584613749636069\n",
       "\\item 0.123854243844614\n",
       "\\item 0.215941568743973\n",
       "\\item 0.379639482759882\n",
       "\\item -0.502323453109302\n",
       "\\item -0.33320738366942\n",
       "\\item -1.01857538310709\n",
       "\\item -1.07179122647558\n",
       "\\item 0.303528641404258\n",
       "\\item 0.448209778629426\n",
       "\\item 0.0530042267305041\n",
       "\\item 0.922267467879738\n",
       "\\item 2.05008468562714\n",
       "\\item -0.491031166056535\n",
       "\\item -2.30916887564081\n",
       "\\item 1.00573852446226\n",
       "\\item -0.709200762582393\n",
       "\\item -0.688008616467358\n",
       "\\item 1.0255713696967\n",
       "\\item -0.284773007051009\n",
       "\\item -1.22071771225454\n",
       "\\item 0.18130347974915\n",
       "\\item -0.138891362439045\n",
       "\\item 0.00576418589988693\n",
       "\\item 0.38528040112633\n",
       "\\item -0.370660031792409\n",
       "\\item 0.644376548518833\n",
       "\\item -0.220486561818751\n",
       "\\item 0.331781963915697\n",
       "\\item 1.09683901314935\n",
       "\\item 0.435181490833803\n",
       "\\item -0.325931585531227\n",
       "\\item 1.14880761845109\n",
       "\\item -0.404217555099596\n",
       "\\item -0.0883385770842113\n",
       "\\item 0.933475316435937\n",
       "\\item -0.547700121921445\n",
       "\\item -1.05159266744239\n",
       "\\item 1.81528481294395\n",
       "\\item 1.79655372871297\n",
       "\\item -3.07830527339966\n",
       "\\item -1.12363388734179\n",
       "\\item 0.335361543242035\n",
       "\\end{enumerate*}\n"
      ],
      "text/markdown": [
       "1. -0.560475646552213\n",
       "2. -0.23017748948328\n",
       "3. 1.55870831414912\n",
       "4. 0.070508391424576\n",
       "5. 0.129287735160946\n",
       "6. 1.71506498688328\n",
       "7. 0.460916205989202\n",
       "8. -1.26506123460653\n",
       "9. -0.686852851893526\n",
       "10. -0.445661970099958\n",
       "11. 1.22408179743946\n",
       "12. 0.359813827057364\n",
       "13. 0.400771450594052\n",
       "14. 0.11068271594512\n",
       "15. -0.555841134754075\n",
       "16. 1.78691313680308\n",
       "17. 0.497850478229239\n",
       "18. -1.96661715662964\n",
       "19. 0.701355901563686\n",
       "20. -0.472791407727934\n",
       "21. -1.06782370598685\n",
       "22. -0.217974914658295\n",
       "23. -1.02600444830724\n",
       "24. -0.72889122929114\n",
       "25. -0.625039267849257\n",
       "26. -1.68669331074241\n",
       "27. 0.837787044494525\n",
       "28. 0.153373117836515\n",
       "29. -1.13813693701195\n",
       "30. 1.25381492106993\n",
       "31. 0.426464221476814\n",
       "32. -0.295071482992271\n",
       "33. 0.895125661045022\n",
       "34. 0.878133487533042\n",
       "35. 0.821581081637487\n",
       "36. 0.688640254100091\n",
       "37. 0.553917653537589\n",
       "38. -0.0619117105767217\n",
       "39. -0.305962663739917\n",
       "40. -0.380471001012383\n",
       "41. -0.694706978920513\n",
       "42. -0.207917278019599\n",
       "43. -1.26539635156826\n",
       "44. 2.16895596533851\n",
       "45. 1.20796199830499\n",
       "46. -1.12310858320335\n",
       "47. -0.402884835299076\n",
       "48. -0.466655353623219\n",
       "49. 0.779965118336318\n",
       "50. -0.0833690664718293\n",
       "51. 0.253318513994755\n",
       "52. -0.028546755348703\n",
       "53. -0.0428704572913161\n",
       "54. 1.36860228401446\n",
       "55. -0.225770985659268\n",
       "56. 1.51647060442954\n",
       "57. -1.54875280423022\n",
       "58. 0.584613749636069\n",
       "59. 0.123854243844614\n",
       "60. 0.215941568743973\n",
       "61. 0.379639482759882\n",
       "62. -0.502323453109302\n",
       "63. -0.33320738366942\n",
       "64. -1.01857538310709\n",
       "65. -1.07179122647558\n",
       "66. 0.303528641404258\n",
       "67. 0.448209778629426\n",
       "68. 0.0530042267305041\n",
       "69. 0.922267467879738\n",
       "70. 2.05008468562714\n",
       "71. -0.491031166056535\n",
       "72. -2.30916887564081\n",
       "73. 1.00573852446226\n",
       "74. -0.709200762582393\n",
       "75. -0.688008616467358\n",
       "76. 1.0255713696967\n",
       "77. -0.284773007051009\n",
       "78. -1.22071771225454\n",
       "79. 0.18130347974915\n",
       "80. -0.138891362439045\n",
       "81. 0.00576418589988693\n",
       "82. 0.38528040112633\n",
       "83. -0.370660031792409\n",
       "84. 0.644376548518833\n",
       "85. -0.220486561818751\n",
       "86. 0.331781963915697\n",
       "87. 1.09683901314935\n",
       "88. 0.435181490833803\n",
       "89. -0.325931585531227\n",
       "90. 1.14880761845109\n",
       "91. -0.404217555099596\n",
       "92. -0.0883385770842113\n",
       "93. 0.933475316435937\n",
       "94. -0.547700121921445\n",
       "95. -1.05159266744239\n",
       "96. 1.81528481294395\n",
       "97. 1.79655372871297\n",
       "98. -3.07830527339966\n",
       "99. -1.12363388734179\n",
       "100. 0.335361543242035\n",
       "\n",
       "\n"
      ],
      "text/plain": [
       "  [1] -0.560475647 -0.230177489  1.558708314  0.070508391  0.129287735\n",
       "  [6]  1.715064987  0.460916206 -1.265061235 -0.686852852 -0.445661970\n",
       " [11]  1.224081797  0.359813827  0.400771451  0.110682716 -0.555841135\n",
       " [16]  1.786913137  0.497850478 -1.966617157  0.701355902 -0.472791408\n",
       " [21] -1.067823706 -0.217974915 -1.026004448 -0.728891229 -0.625039268\n",
       " [26] -1.686693311  0.837787044  0.153373118 -1.138136937  1.253814921\n",
       " [31]  0.426464221 -0.295071483  0.895125661  0.878133488  0.821581082\n",
       " [36]  0.688640254  0.553917654 -0.061911711 -0.305962664 -0.380471001\n",
       " [41] -0.694706979 -0.207917278 -1.265396352  2.168955965  1.207961998\n",
       " [46] -1.123108583 -0.402884835 -0.466655354  0.779965118 -0.083369066\n",
       " [51]  0.253318514 -0.028546755 -0.042870457  1.368602284 -0.225770986\n",
       " [56]  1.516470604 -1.548752804  0.584613750  0.123854244  0.215941569\n",
       " [61]  0.379639483 -0.502323453 -0.333207384 -1.018575383 -1.071791226\n",
       " [66]  0.303528641  0.448209779  0.053004227  0.922267468  2.050084686\n",
       " [71] -0.491031166 -2.309168876  1.005738524 -0.709200763 -0.688008616\n",
       " [76]  1.025571370 -0.284773007 -1.220717712  0.181303480 -0.138891362\n",
       " [81]  0.005764186  0.385280401 -0.370660032  0.644376549 -0.220486562\n",
       " [86]  0.331781964  1.096839013  0.435181491 -0.325931586  1.148807618\n",
       " [91] -0.404217555 -0.088338577  0.933475316 -0.547700122 -1.051592667\n",
       " [96]  1.815284813  1.796553729 -3.078305273 -1.123633887  0.335361543"
      ]
     },
     "metadata": {},
     "output_type": "display_data"
    }
   ],
   "source": [
    "vectores <- c(V1,V2,V3,V4,V5,V6,V7,V8,V9,V10)\n",
    "vectores"
   ]
  },
  {
   "cell_type": "code",
   "execution_count": 5,
   "metadata": {
    "scrolled": true
   },
   "outputs": [
    {
     "data": {
      "text/html": [
       "<table>\n",
       "<tbody>\n",
       "\t<tr><td>-0.56047565 </td><td> 1.2240818  </td><td>-1.0678237  </td><td> 0.4264642  </td><td>-0.6947070  </td><td> 0.25331851 </td><td> 0.3796395  </td><td>-0.4910312  </td><td> 0.005764186</td><td>-0.40421756 </td></tr>\n",
       "\t<tr><td>-0.23017749 </td><td> 0.3598138  </td><td>-0.2179749  </td><td>-0.2950715  </td><td>-0.2079173  </td><td>-0.02854676 </td><td>-0.5023235  </td><td>-2.3091689  </td><td> 0.385280401</td><td>-0.08833858 </td></tr>\n",
       "\t<tr><td> 1.55870831 </td><td> 0.4007715  </td><td>-1.0260044  </td><td> 0.8951257  </td><td>-1.2653964  </td><td>-0.04287046 </td><td>-0.3332074  </td><td> 1.0057385  </td><td>-0.370660032</td><td> 0.93347532 </td></tr>\n",
       "\t<tr><td> 0.07050839 </td><td> 0.1106827  </td><td>-0.7288912  </td><td> 0.8781335  </td><td> 2.1689560  </td><td> 1.36860228 </td><td>-1.0185754  </td><td>-0.7092008  </td><td> 0.644376549</td><td>-0.54770012 </td></tr>\n",
       "\t<tr><td> 0.12928774 </td><td>-0.5558411  </td><td>-0.6250393  </td><td> 0.8215811  </td><td> 1.2079620  </td><td>-0.22577099 </td><td>-1.0717912  </td><td>-0.6880086  </td><td>-0.220486562</td><td>-1.05159267 </td></tr>\n",
       "\t<tr><td> 1.71506499 </td><td> 1.7869131  </td><td>-1.6866933  </td><td> 0.6886403  </td><td>-1.1231086  </td><td> 1.51647060 </td><td> 0.3035286  </td><td> 1.0255714  </td><td> 0.331781964</td><td> 1.81528481 </td></tr>\n",
       "</tbody>\n",
       "</table>\n"
      ],
      "text/latex": [
       "\\begin{tabular}{llllllllll}\n",
       "\t -0.56047565  &  1.2240818   & -1.0678237   &  0.4264642   & -0.6947070   &  0.25331851  &  0.3796395   & -0.4910312   &  0.005764186 & -0.40421756 \\\\\n",
       "\t -0.23017749  &  0.3598138   & -0.2179749   & -0.2950715   & -0.2079173   & -0.02854676  & -0.5023235   & -2.3091689   &  0.385280401 & -0.08833858 \\\\\n",
       "\t  1.55870831  &  0.4007715   & -1.0260044   &  0.8951257   & -1.2653964   & -0.04287046  & -0.3332074   &  1.0057385   & -0.370660032 &  0.93347532 \\\\\n",
       "\t  0.07050839  &  0.1106827   & -0.7288912   &  0.8781335   &  2.1689560   &  1.36860228  & -1.0185754   & -0.7092008   &  0.644376549 & -0.54770012 \\\\\n",
       "\t  0.12928774  & -0.5558411   & -0.6250393   &  0.8215811   &  1.2079620   & -0.22577099  & -1.0717912   & -0.6880086   & -0.220486562 & -1.05159267 \\\\\n",
       "\t  1.71506499  &  1.7869131   & -1.6866933   &  0.6886403   & -1.1231086   &  1.51647060  &  0.3035286   &  1.0255714   &  0.331781964 &  1.81528481 \\\\\n",
       "\\end{tabular}\n"
      ],
      "text/markdown": [
       "\n",
       "| -0.56047565  |  1.2240818   | -1.0678237   |  0.4264642   | -0.6947070   |  0.25331851  |  0.3796395   | -0.4910312   |  0.005764186 | -0.40421756  |\n",
       "| -0.23017749  |  0.3598138   | -0.2179749   | -0.2950715   | -0.2079173   | -0.02854676  | -0.5023235   | -2.3091689   |  0.385280401 | -0.08833858  |\n",
       "|  1.55870831  |  0.4007715   | -1.0260044   |  0.8951257   | -1.2653964   | -0.04287046  | -0.3332074   |  1.0057385   | -0.370660032 |  0.93347532  |\n",
       "|  0.07050839  |  0.1106827   | -0.7288912   |  0.8781335   |  2.1689560   |  1.36860228  | -1.0185754   | -0.7092008   |  0.644376549 | -0.54770012  |\n",
       "|  0.12928774  | -0.5558411   | -0.6250393   |  0.8215811   |  1.2079620   | -0.22577099  | -1.0717912   | -0.6880086   | -0.220486562 | -1.05159267  |\n",
       "|  1.71506499  |  1.7869131   | -1.6866933   |  0.6886403   | -1.1231086   |  1.51647060  |  0.3035286   |  1.0255714   |  0.331781964 |  1.81528481  |\n",
       "\n"
      ],
      "text/plain": [
       "     [,1]        [,2]       [,3]       [,4]       [,5]       [,6]       \n",
       "[1,] -0.56047565  1.2240818 -1.0678237  0.4264642 -0.6947070  0.25331851\n",
       "[2,] -0.23017749  0.3598138 -0.2179749 -0.2950715 -0.2079173 -0.02854676\n",
       "[3,]  1.55870831  0.4007715 -1.0260044  0.8951257 -1.2653964 -0.04287046\n",
       "[4,]  0.07050839  0.1106827 -0.7288912  0.8781335  2.1689560  1.36860228\n",
       "[5,]  0.12928774 -0.5558411 -0.6250393  0.8215811  1.2079620 -0.22577099\n",
       "[6,]  1.71506499  1.7869131 -1.6866933  0.6886403 -1.1231086  1.51647060\n",
       "     [,7]       [,8]       [,9]         [,10]      \n",
       "[1,]  0.3796395 -0.4910312  0.005764186 -0.40421756\n",
       "[2,] -0.5023235 -2.3091689  0.385280401 -0.08833858\n",
       "[3,] -0.3332074  1.0057385 -0.370660032  0.93347532\n",
       "[4,] -1.0185754 -0.7092008  0.644376549 -0.54770012\n",
       "[5,] -1.0717912 -0.6880086 -0.220486562 -1.05159267\n",
       "[6,]  0.3035286  1.0255714  0.331781964  1.81528481"
      ]
     },
     "metadata": {},
     "output_type": "display_data"
    }
   ],
   "source": [
    "X <- matrix(vectores, nrow=10, ncol = 10, byrow=FALSE)\n",
    "head(X)"
   ]
  },
  {
   "cell_type": "code",
   "execution_count": 6,
   "metadata": {
    "scrolled": true
   },
   "outputs": [],
   "source": [
    "# Calcular (la inversa de X\n",
    "#X_inv = inversa = solve(X)\n",
    "#X_inv"
   ]
  },
  {
   "cell_type": "code",
   "execution_count": 7,
   "metadata": {},
   "outputs": [],
   "source": [
    "#Error Mostrar inversa de un x con las mismas carasteristicas que este X en R"
   ]
  },
  {
   "attachments": {
    "X_inverse_R_g1.jpeg": {
     "image/jpeg": "[encoded data removed]"
    }
   },
   "cell_type": "markdown",
   "metadata": {},
   "source": [
    "![X_inverse_R_g1.jpeg](attachment:X_inverse_R_g1.jpeg)"
   ]
  },
  {
   "cell_type": "code",
   "execution_count": 8,
   "metadata": {},
   "outputs": [],
   "source": [
    "#Mostrar inversa de un x con las mismas carasteristicas que este X en R, pero en Python"
   ]
  },
  {
   "attachments": {
    "X_inverse_python_g1.jpeg": {
     "image/jpeg": "[encoded data removed]"
    }
   },
   "cell_type": "markdown",
   "metadata": {},
   "source": [
    "![X_inverse_python_g1.jpeg](attachment:X_inverse_python_g1.jpeg)"
   ]
  },
  {
   "cell_type": "markdown",
   "metadata": {},
   "source": [
    "R shows us an error message because vector 10 of X is a linear combination of vector 1,2 and 3. This, obviously, will show us that X is a singular matrix, that is, that it has a 0 determinant, so it is not invertible. However, as we can see in the image, python can show us the inverse matrix of X even if it has the same characteristics as X en R and this is because the difference in packages betwen R and python. This last one has statical packages that can aproximate a inverse matrix even with these been singular matrixs. "
   ]
  },
  {
   "cell_type": "markdown",
   "metadata": {
    "papermill": {
     "duration": 0.013538,
     "end_time": "2021-02-20T13:42:41.189745",
     "exception": false,
     "start_time": "2021-02-20T13:42:41.176207",
     "status": "completed"
    },
    "tags": []
   },
   "source": [
    "# Analyzing RCT data with Precision Adjustment"
   ]
  },
  {
   "cell_type": "markdown",
   "metadata": {
    "papermill": {
     "duration": 0.011347,
     "end_time": "2021-02-20T13:42:41.213041",
     "exception": false,
     "start_time": "2021-02-20T13:42:41.201694",
     "status": "completed"
    },
    "tags": []
   },
   "source": [
    "## Data\n",
    "\n",
    "In this lab, we analyze the Pennsylvania re-employment bonus experiment, which was previously studied in \"Sequential testing of duration data: the case of the Pennsylvania ‘reemployment bonus’ experiment\" (Bilias, 2000), among others. The treatments differed in the level of the bonus, the length of the qualification period, and whether the bonus was declining over time in the qualification period; see http://qed.econ.queensu.ca/jae/2000-v15.6/bilias/readme.b.txt for further details on data. This time, we will focus on the **treatment number 2**.\n",
    "  "
   ]
  },
  {
   "cell_type": "code",
   "execution_count": 9,
   "metadata": {
    "execution": {
     "iopub.execute_input": "2021-02-20T13:42:41.267823Z",
     "iopub.status.busy": "2021-02-20T13:42:41.265606Z",
     "iopub.status.idle": "2021-02-20T13:42:41.503621Z",
     "shell.execute_reply": "2021-02-20T13:42:41.502578Z"
    },
    "papermill": {
     "duration": 0.279482,
     "end_time": "2021-02-20T13:42:41.503829",
     "exception": false,
     "start_time": "2021-02-20T13:42:41.224347",
     "status": "completed"
    },
    "tags": []
   },
   "outputs": [
    {
     "data": {
      "text/html": [
       "<ol class=list-inline>\n",
       "\t<li>13913</li>\n",
       "\t<li>23</li>\n",
       "</ol>\n"
      ],
      "text/latex": [
       "\\begin{enumerate*}\n",
       "\\item 13913\n",
       "\\item 23\n",
       "\\end{enumerate*}\n"
      ],
      "text/markdown": [
       "1. 13913\n",
       "2. 23\n",
       "\n",
       "\n"
      ],
      "text/plain": [
       "[1] 13913    23"
      ]
     },
     "metadata": {},
     "output_type": "display_data"
    }
   ],
   "source": [
    "## loading the data\n",
    "Penn <- as.data.frame(read.table(\"../data/penn_jae.dat\", header=T ))\n",
    "n <- dim(Penn)[1] #obs\n",
    "p_1 <- dim(Penn)[2] #vars\n",
    "dim(Penn)"
   ]
  },
  {
   "cell_type": "code",
   "execution_count": 10,
   "metadata": {
    "execution": {
     "iopub.execute_input": "2021-02-20T13:42:41.267823Z",
     "iopub.status.busy": "2021-02-20T13:42:41.265606Z",
     "iopub.status.idle": "2021-02-20T13:42:41.503621Z",
     "shell.execute_reply": "2021-02-20T13:42:41.502578Z"
    },
    "papermill": {
     "duration": 0.279482,
     "end_time": "2021-02-20T13:42:41.503829",
     "exception": false,
     "start_time": "2021-02-20T13:42:41.224347",
     "status": "completed"
    },
    "tags": []
   },
   "outputs": [],
   "source": [
    "Penn<- subset(Penn, tg==2 | tg==0)\n",
    "attach(Penn)"
   ]
  },
  {
   "cell_type": "code",
   "execution_count": 11,
   "metadata": {
    "execution": {
     "iopub.execute_input": "2021-02-20T13:42:41.560613Z",
     "iopub.status.busy": "2021-02-20T13:42:41.531063Z",
     "iopub.status.idle": "2021-02-20T13:42:41.580817Z",
     "shell.execute_reply": "2021-02-20T13:42:41.579312Z"
    },
    "papermill": {
     "duration": 0.065266,
     "end_time": "2021-02-20T13:42:41.580972",
     "exception": false,
     "start_time": "2021-02-20T13:42:41.515706",
     "status": "completed"
    },
    "tags": []
   },
   "outputs": [
    {
     "data": {
      "text/plain": [
       "   Mode   FALSE    TRUE \n",
       "logical    3354    2428 "
      ]
     },
     "metadata": {},
     "output_type": "display_data"
    }
   ],
   "source": [
    "T2<- (tg==2)\n",
    "summary(T2) # summary of the treatment 2: has more values of controls (3354) tha treatment (2428)"
   ]
  },
  {
   "cell_type": "code",
   "execution_count": 12,
   "metadata": {
    "execution": {
     "iopub.execute_input": "2021-02-20T13:42:41.611073Z",
     "iopub.status.busy": "2021-02-20T13:42:41.609253Z",
     "iopub.status.idle": "2021-02-20T13:42:41.646504Z",
     "shell.execute_reply": "2021-02-20T13:42:41.645094Z"
    },
    "papermill": {
     "duration": 0.053285,
     "end_time": "2021-02-20T13:42:41.646704",
     "exception": false,
     "start_time": "2021-02-20T13:42:41.593419",
     "status": "completed"
    },
    "scrolled": true,
    "tags": []
   },
   "outputs": [
    {
     "data": {
      "text/html": [
       "<table>\n",
       "<thead><tr><th></th><th scope=col>abdt</th><th scope=col>tg</th><th scope=col>inuidur1</th><th scope=col>inuidur2</th><th scope=col>female</th><th scope=col>black</th><th scope=col>hispanic</th><th scope=col>othrace</th><th scope=col>dep</th><th scope=col>q1</th><th scope=col>...</th><th scope=col>q5</th><th scope=col>q6</th><th scope=col>recall</th><th scope=col>agelt35</th><th scope=col>agegt54</th><th scope=col>durable</th><th scope=col>nondurable</th><th scope=col>lusd</th><th scope=col>husd</th><th scope=col>muld</th></tr></thead>\n",
       "<tbody>\n",
       "\t<tr><th scope=row>1</th><td>10824</td><td>0    </td><td>18   </td><td>18   </td><td>0    </td><td>0    </td><td>0    </td><td>0    </td><td>2    </td><td>0    </td><td>...  </td><td>1    </td><td>0    </td><td>0    </td><td>0    </td><td>0    </td><td>0    </td><td>0    </td><td>0    </td><td>1    </td><td>0    </td></tr>\n",
       "\t<tr><th scope=row>2</th><td>10635</td><td>2    </td><td> 7   </td><td> 3   </td><td>0    </td><td>0    </td><td>0    </td><td>0    </td><td>0    </td><td>0    </td><td>...  </td><td>0    </td><td>0    </td><td>0    </td><td>1    </td><td>0    </td><td>0    </td><td>0    </td><td>1    </td><td>0    </td><td>0    </td></tr>\n",
       "\t<tr><th scope=row>4</th><td>10824</td><td>0    </td><td> 1   </td><td> 1   </td><td>0    </td><td>0    </td><td>0    </td><td>0    </td><td>0    </td><td>0    </td><td>...  </td><td>1    </td><td>0    </td><td>0    </td><td>0    </td><td>0    </td><td>0    </td><td>0    </td><td>1    </td><td>0    </td><td>0    </td></tr>\n",
       "\t<tr><th scope=row>5</th><td>10747</td><td>0    </td><td>27   </td><td>27   </td><td>0    </td><td>0    </td><td>0    </td><td>0    </td><td>0    </td><td>0    </td><td>...  </td><td>0    </td><td>0    </td><td>0    </td><td>0    </td><td>0    </td><td>0    </td><td>0    </td><td>1    </td><td>0    </td><td>0    </td></tr>\n",
       "\t<tr><th scope=row>10</th><td>10754</td><td>2    </td><td>20   </td><td>20   </td><td>1    </td><td>0    </td><td>0    </td><td>0    </td><td>0    </td><td>0    </td><td>...  </td><td>0    </td><td>0    </td><td>0    </td><td>0    </td><td>0    </td><td>0    </td><td>0    </td><td>0    </td><td>0    </td><td>1    </td></tr>\n",
       "\t<tr><th scope=row>13</th><td>10831</td><td>0    </td><td>27   </td><td>27   </td><td>0    </td><td>0    </td><td>0    </td><td>0    </td><td>1    </td><td>0    </td><td>...  </td><td>1    </td><td>0    </td><td>0    </td><td>0    </td><td>1    </td><td>1    </td><td>0    </td><td>1    </td><td>0    </td><td>0    </td></tr>\n",
       "</tbody>\n",
       "</table>\n"
      ],
      "text/latex": [
       "\\begin{tabular}{r|lllllllllllllllllllllll}\n",
       "  & abdt & tg & inuidur1 & inuidur2 & female & black & hispanic & othrace & dep & q1 & ... & q5 & q6 & recall & agelt35 & agegt54 & durable & nondurable & lusd & husd & muld\\\\\n",
       "\\hline\n",
       "\t1 & 10824 & 0     & 18    & 18    & 0     & 0     & 0     & 0     & 2     & 0     & ...   & 1     & 0     & 0     & 0     & 0     & 0     & 0     & 0     & 1     & 0    \\\\\n",
       "\t2 & 10635 & 2     &  7    &  3    & 0     & 0     & 0     & 0     & 0     & 0     & ...   & 0     & 0     & 0     & 1     & 0     & 0     & 0     & 1     & 0     & 0    \\\\\n",
       "\t4 & 10824 & 0     &  1    &  1    & 0     & 0     & 0     & 0     & 0     & 0     & ...   & 1     & 0     & 0     & 0     & 0     & 0     & 0     & 1     & 0     & 0    \\\\\n",
       "\t5 & 10747 & 0     & 27    & 27    & 0     & 0     & 0     & 0     & 0     & 0     & ...   & 0     & 0     & 0     & 0     & 0     & 0     & 0     & 1     & 0     & 0    \\\\\n",
       "\t10 & 10754 & 2     & 20    & 20    & 1     & 0     & 0     & 0     & 0     & 0     & ...   & 0     & 0     & 0     & 0     & 0     & 0     & 0     & 0     & 0     & 1    \\\\\n",
       "\t13 & 10831 & 0     & 27    & 27    & 0     & 0     & 0     & 0     & 1     & 0     & ...   & 1     & 0     & 0     & 0     & 1     & 1     & 0     & 1     & 0     & 0    \\\\\n",
       "\\end{tabular}\n"
      ],
      "text/markdown": [
       "\n",
       "| <!--/--> | abdt | tg | inuidur1 | inuidur2 | female | black | hispanic | othrace | dep | q1 | ... | q5 | q6 | recall | agelt35 | agegt54 | durable | nondurable | lusd | husd | muld |\n",
       "|---|---|---|---|---|---|---|---|---|---|---|---|---|---|---|---|---|---|---|---|---|---|\n",
       "| 1 | 10824 | 0     | 18    | 18    | 0     | 0     | 0     | 0     | 2     | 0     | ...   | 1     | 0     | 0     | 0     | 0     | 0     | 0     | 0     | 1     | 0     |\n",
       "| 2 | 10635 | 2     |  7    |  3    | 0     | 0     | 0     | 0     | 0     | 0     | ...   | 0     | 0     | 0     | 1     | 0     | 0     | 0     | 1     | 0     | 0     |\n",
       "| 4 | 10824 | 0     |  1    |  1    | 0     | 0     | 0     | 0     | 0     | 0     | ...   | 1     | 0     | 0     | 0     | 0     | 0     | 0     | 1     | 0     | 0     |\n",
       "| 5 | 10747 | 0     | 27    | 27    | 0     | 0     | 0     | 0     | 0     | 0     | ...   | 0     | 0     | 0     | 0     | 0     | 0     | 0     | 1     | 0     | 0     |\n",
       "| 10 | 10754 | 2     | 20    | 20    | 1     | 0     | 0     | 0     | 0     | 0     | ...   | 0     | 0     | 0     | 0     | 0     | 0     | 0     | 0     | 0     | 1     |\n",
       "| 13 | 10831 | 0     | 27    | 27    | 0     | 0     | 0     | 0     | 1     | 0     | ...   | 1     | 0     | 0     | 0     | 1     | 1     | 0     | 1     | 0     | 0     |\n",
       "\n"
      ],
      "text/plain": [
       "   abdt  tg inuidur1 inuidur2 female black hispanic othrace dep q1 ... q5 q6\n",
       "1  10824 0  18       18       0      0     0        0       2   0  ... 1  0 \n",
       "2  10635 2   7        3       0      0     0        0       0   0  ... 0  0 \n",
       "4  10824 0   1        1       0      0     0        0       0   0  ... 1  0 \n",
       "5  10747 0  27       27       0      0     0        0       0   0  ... 0  0 \n",
       "10 10754 2  20       20       1      0     0        0       0   0  ... 0  0 \n",
       "13 10831 0  27       27       0      0     0        0       1   0  ... 1  0 \n",
       "   recall agelt35 agegt54 durable nondurable lusd husd muld\n",
       "1  0      0       0       0       0          0    1    0   \n",
       "2  0      1       0       0       0          1    0    0   \n",
       "4  0      0       0       0       0          1    0    0   \n",
       "5  0      0       0       0       0          1    0    0   \n",
       "10 0      0       0       0       0          0    0    1   \n",
       "13 0      0       1       1       0          1    0    0   "
      ]
     },
     "metadata": {},
     "output_type": "display_data"
    }
   ],
   "source": [
    "head(Penn)"
   ]
  },
  {
   "cell_type": "markdown",
   "metadata": {},
   "source": [
    "### Plot two histograms for treatment and control group to see the distribution of the outcome variable inuidur1"
   ]
  },
  {
   "cell_type": "markdown",
   "metadata": {},
   "source": [
    "We prefered to plot one graph that contained both histograms."
   ]
  },
  {
   "cell_type": "code",
   "execution_count": 13,
   "metadata": {},
   "outputs": [
    {
     "data": {
      "text/html": [
       "<table>\n",
       "<thead><tr><th></th><th scope=col>abdt</th><th scope=col>tg</th><th scope=col>inuidur1</th><th scope=col>inuidur2</th><th scope=col>female</th><th scope=col>black</th><th scope=col>hispanic</th><th scope=col>othrace</th><th scope=col>dep</th><th scope=col>q1</th><th scope=col>...</th><th scope=col>q5</th><th scope=col>q6</th><th scope=col>recall</th><th scope=col>agelt35</th><th scope=col>agegt54</th><th scope=col>durable</th><th scope=col>nondurable</th><th scope=col>lusd</th><th scope=col>husd</th><th scope=col>muld</th></tr></thead>\n",
       "<tbody>\n",
       "\t<tr><th scope=row>1</th><td>10824</td><td>0    </td><td>18   </td><td>18   </td><td>0    </td><td>0    </td><td>0    </td><td>0    </td><td>2    </td><td>0    </td><td>...  </td><td>1    </td><td>0    </td><td>0    </td><td>0    </td><td>0    </td><td>0    </td><td>0    </td><td>0    </td><td>1    </td><td>0    </td></tr>\n",
       "\t<tr><th scope=row>4</th><td>10824</td><td>0    </td><td> 1   </td><td> 1   </td><td>0    </td><td>0    </td><td>0    </td><td>0    </td><td>0    </td><td>0    </td><td>...  </td><td>1    </td><td>0    </td><td>0    </td><td>0    </td><td>0    </td><td>0    </td><td>0    </td><td>1    </td><td>0    </td><td>0    </td></tr>\n",
       "\t<tr><th scope=row>5</th><td>10747</td><td>0    </td><td>27   </td><td>27   </td><td>0    </td><td>0    </td><td>0    </td><td>0    </td><td>0    </td><td>0    </td><td>...  </td><td>0    </td><td>0    </td><td>0    </td><td>0    </td><td>0    </td><td>0    </td><td>0    </td><td>1    </td><td>0    </td><td>0    </td></tr>\n",
       "\t<tr><th scope=row>13</th><td>10831</td><td>0    </td><td>27   </td><td>27   </td><td>0    </td><td>0    </td><td>0    </td><td>0    </td><td>1    </td><td>0    </td><td>...  </td><td>1    </td><td>0    </td><td>0    </td><td>0    </td><td>1    </td><td>1    </td><td>0    </td><td>1    </td><td>0    </td><td>0    </td></tr>\n",
       "\t<tr><th scope=row>14</th><td>10845</td><td>0    </td><td>27   </td><td>27   </td><td>1    </td><td>0    </td><td>0    </td><td>0    </td><td>0    </td><td>0    </td><td>...  </td><td>1    </td><td>0    </td><td>0    </td><td>0    </td><td>1    </td><td>0    </td><td>0    </td><td>1    </td><td>0    </td><td>0    </td></tr>\n",
       "\t<tr><th scope=row>15</th><td>10831</td><td>0    </td><td> 9   </td><td> 9   </td><td>1    </td><td>0    </td><td>0    </td><td>0    </td><td>1    </td><td>0    </td><td>...  </td><td>1    </td><td>0    </td><td>0    </td><td>0    </td><td>1    </td><td>0    </td><td>0    </td><td>1    </td><td>0    </td><td>0    </td></tr>\n",
       "</tbody>\n",
       "</table>\n"
      ],
      "text/latex": [
       "\\begin{tabular}{r|lllllllllllllllllllllll}\n",
       "  & abdt & tg & inuidur1 & inuidur2 & female & black & hispanic & othrace & dep & q1 & ... & q5 & q6 & recall & agelt35 & agegt54 & durable & nondurable & lusd & husd & muld\\\\\n",
       "\\hline\n",
       "\t1 & 10824 & 0     & 18    & 18    & 0     & 0     & 0     & 0     & 2     & 0     & ...   & 1     & 0     & 0     & 0     & 0     & 0     & 0     & 0     & 1     & 0    \\\\\n",
       "\t4 & 10824 & 0     &  1    &  1    & 0     & 0     & 0     & 0     & 0     & 0     & ...   & 1     & 0     & 0     & 0     & 0     & 0     & 0     & 1     & 0     & 0    \\\\\n",
       "\t5 & 10747 & 0     & 27    & 27    & 0     & 0     & 0     & 0     & 0     & 0     & ...   & 0     & 0     & 0     & 0     & 0     & 0     & 0     & 1     & 0     & 0    \\\\\n",
       "\t13 & 10831 & 0     & 27    & 27    & 0     & 0     & 0     & 0     & 1     & 0     & ...   & 1     & 0     & 0     & 0     & 1     & 1     & 0     & 1     & 0     & 0    \\\\\n",
       "\t14 & 10845 & 0     & 27    & 27    & 1     & 0     & 0     & 0     & 0     & 0     & ...   & 1     & 0     & 0     & 0     & 1     & 0     & 0     & 1     & 0     & 0    \\\\\n",
       "\t15 & 10831 & 0     &  9    &  9    & 1     & 0     & 0     & 0     & 1     & 0     & ...   & 1     & 0     & 0     & 0     & 1     & 0     & 0     & 1     & 0     & 0    \\\\\n",
       "\\end{tabular}\n"
      ],
      "text/markdown": [
       "\n",
       "| <!--/--> | abdt | tg | inuidur1 | inuidur2 | female | black | hispanic | othrace | dep | q1 | ... | q5 | q6 | recall | agelt35 | agegt54 | durable | nondurable | lusd | husd | muld |\n",
       "|---|---|---|---|---|---|---|---|---|---|---|---|---|---|---|---|---|---|---|---|---|---|\n",
       "| 1 | 10824 | 0     | 18    | 18    | 0     | 0     | 0     | 0     | 2     | 0     | ...   | 1     | 0     | 0     | 0     | 0     | 0     | 0     | 0     | 1     | 0     |\n",
       "| 4 | 10824 | 0     |  1    |  1    | 0     | 0     | 0     | 0     | 0     | 0     | ...   | 1     | 0     | 0     | 0     | 0     | 0     | 0     | 1     | 0     | 0     |\n",
       "| 5 | 10747 | 0     | 27    | 27    | 0     | 0     | 0     | 0     | 0     | 0     | ...   | 0     | 0     | 0     | 0     | 0     | 0     | 0     | 1     | 0     | 0     |\n",
       "| 13 | 10831 | 0     | 27    | 27    | 0     | 0     | 0     | 0     | 1     | 0     | ...   | 1     | 0     | 0     | 0     | 1     | 1     | 0     | 1     | 0     | 0     |\n",
       "| 14 | 10845 | 0     | 27    | 27    | 1     | 0     | 0     | 0     | 0     | 0     | ...   | 1     | 0     | 0     | 0     | 1     | 0     | 0     | 1     | 0     | 0     |\n",
       "| 15 | 10831 | 0     |  9    |  9    | 1     | 0     | 0     | 0     | 1     | 0     | ...   | 1     | 0     | 0     | 0     | 1     | 0     | 0     | 1     | 0     | 0     |\n",
       "\n"
      ],
      "text/plain": [
       "   abdt  tg inuidur1 inuidur2 female black hispanic othrace dep q1 ... q5 q6\n",
       "1  10824 0  18       18       0      0     0        0       2   0  ... 1  0 \n",
       "4  10824 0   1        1       0      0     0        0       0   0  ... 1  0 \n",
       "5  10747 0  27       27       0      0     0        0       0   0  ... 0  0 \n",
       "13 10831 0  27       27       0      0     0        0       1   0  ... 1  0 \n",
       "14 10845 0  27       27       1      0     0        0       0   0  ... 1  0 \n",
       "15 10831 0   9        9       1      0     0        0       1   0  ... 1  0 \n",
       "   recall agelt35 agegt54 durable nondurable lusd husd muld\n",
       "1  0      0       0       0       0          0    1    0   \n",
       "4  0      0       0       0       0          1    0    0   \n",
       "5  0      0       0       0       0          1    0    0   \n",
       "13 0      0       1       1       0          1    0    0   \n",
       "14 0      0       1       0       0          1    0    0   \n",
       "15 0      0       1       0       0          1    0    0   "
      ]
     },
     "metadata": {},
     "output_type": "display_data"
    }
   ],
   "source": [
    "pen_cont = Penn[Penn$tg==0,]\n",
    "pen_tr = Penn[Penn$tg==2,]\n",
    "head(pen_cont)"
   ]
  },
  {
   "cell_type": "code",
   "execution_count": 14,
   "metadata": {},
   "outputs": [
    {
     "name": "stderr",
     "output_type": "stream",
     "text": [
      "Registered S3 methods overwritten by 'ggplot2':\n",
      "  method         from \n",
      "  [.quosures     rlang\n",
      "  c.quosures     rlang\n",
      "  print.quosures rlang\n",
      "`stat_bin()` using `bins = 30`. Pick better value with `binwidth`.\n",
      "`stat_bin()` using `bins = 30`. Pick better value with `binwidth`.\n"
     ]
    },
    {
     "data": {
      "image/png": "[encoded data removed]",
      "text/plain": [
       "plot without title"
      ]
     },
     "metadata": {},
     "output_type": "display_data"
    }
   ],
   "source": [
    "library(ggplot2)\n",
    "ggplot(NULL, aes(inuidur1)) +geom_histogram(data=pen_cont, fill=\"red\", binwidth=)+ geom_histogram(data=pen_tr, fill=\"blue\")"
   ]
  },
  {
   "cell_type": "markdown",
   "metadata": {},
   "source": [
    "The distribution of the treatment and control group is very similar, thought the control group normally has a number of weeks of the first spell of unemployment smaller than the treatment group (probably because it has more observations than the treatment group)."
   ]
  },
  {
   "cell_type": "markdown",
   "metadata": {
    "papermill": {
     "duration": 0.012846,
     "end_time": "2021-02-20T13:42:41.672662",
     "exception": false,
     "start_time": "2021-02-20T13:42:41.659816",
     "status": "completed"
    },
    "tags": []
   },
   "source": [
    "### Model \n",
    "To evaluate the impact of the **treatment two** on unemployment duration, we consider the linear regression model:\n",
    "\n",
    "$$\n",
    "Y =  D \\beta_1 + W'\\beta_2 + \\varepsilon, \\quad E \\varepsilon (D,W')' = 0,\n",
    "$$\n",
    "\n",
    "where $Y$ is  the  log of duration of unemployment (inudir1) , $D$ is a treatment  indicator (2),  and $W$ is a set of controls including age group dummies, gender, race, number of dependents, quarter of the experiment, location within the state, existence of recall expectations, and type of occupation.   Here $\\beta_1$ is the ATE, if the RCT assumptions hold rigorously.\n",
    "\n",
    "\n",
    "We also consider interactive regression model:\n",
    "\n",
    "$$\n",
    "Y =  D \\alpha_1 + D W' \\alpha_2 + W'\\beta_2 + \\varepsilon, \\quad E \\varepsilon (D,W', DW')' = 0,\n",
    "$$\n",
    "where $W$'s are demeaned (apart from the intercept), so that $\\alpha_1$ is the ATE, if the RCT assumptions hold rigorously."
   ]
  },
  {
   "cell_type": "markdown",
   "metadata": {
    "papermill": {
     "duration": 0.012735,
     "end_time": "2021-02-20T13:42:41.698676",
     "exception": false,
     "start_time": "2021-02-20T13:42:41.685941",
     "status": "completed"
    },
    "tags": []
   },
   "source": [
    "Under RCT, the projection coefficient $\\beta_1$ has\n",
    "the interpretation of the causal effect of the treatment on\n",
    "the average outcome. We thus refer to $\\beta_1$ as the average\n",
    "treatment effect (ATE). \n",
    "\n",
    "Note that the covariates, here are\n",
    "independent of the treatment $D$, so we can identify $\\beta_1$ by\n",
    "just linear regression of $Y$ on $D$, without adding covariates. This is proven in the balance check. \n",
    "\n",
    "However we do add covariates in an effort to improve the\n",
    "precision of our estimates of the average treatment effect."
   ]
  },
  {
   "cell_type": "markdown",
   "metadata": {
    "papermill": {
     "duration": 0.012728,
     "end_time": "2021-02-20T13:42:41.724182",
     "exception": false,
     "start_time": "2021-02-20T13:42:41.711454",
     "status": "completed"
    },
    "tags": []
   },
   "source": [
    "### Analysis\n",
    "\n",
    "We consider \n",
    "\n",
    "*  classical 2-sample approach, no adjustment (CL)\n",
    "*  classical linear regression adjustment (CRA)\n",
    "*  interactive regression adjusment (IRA) \n",
    "*  interactive regression adjusment using Lasso\n",
    "\n",
    "and carry out robust inference using the *estimatr* R packages. *Also, we will plot the coefficients of the next variables*:\n",
    "\n",
    "* T2*female\n",
    "* T2*black\n",
    "* T2*agelt35\n",
    "* T2*factor(dep)1"
   ]
  },
  {
   "cell_type": "markdown",
   "metadata": {
    "papermill": {
     "duration": 0.01276,
     "end_time": "2021-02-20T13:42:41.749736",
     "exception": false,
     "start_time": "2021-02-20T13:42:41.736976",
     "status": "completed"
    },
    "tags": []
   },
   "source": [
    "# Carry out covariate balance check"
   ]
  },
  {
   "cell_type": "markdown",
   "metadata": {
    "papermill": {
     "duration": 0.013486,
     "end_time": "2021-02-20T13:42:41.776684",
     "exception": false,
     "start_time": "2021-02-20T13:42:41.763198",
     "status": "completed"
    },
    "tags": []
   },
   "source": [
    "This is done using \"lm_robust\" command which unlike \"lm\" in the base command automatically does the correct Eicher-Huber-White standard errors, instead othe classical non-robus formula based on the homoscdedasticity command."
   ]
  },
  {
   "cell_type": "code",
   "execution_count": 15,
   "metadata": {
    "execution": {
     "iopub.execute_input": "2021-02-20T13:42:41.808584Z",
     "iopub.status.busy": "2021-02-20T13:42:41.806963Z",
     "iopub.status.idle": "2021-02-20T13:42:42.217752Z",
     "shell.execute_reply": "2021-02-20T13:42:42.215514Z"
    },
    "papermill": {
     "duration": 0.428084,
     "end_time": "2021-02-20T13:42:42.217973",
     "exception": false,
     "start_time": "2021-02-20T13:42:41.789889",
     "status": "completed"
    },
    "tags": []
   },
   "outputs": [
    {
     "name": "stderr",
     "output_type": "stream",
     "text": [
      "Loading required package: zoo\n",
      "\n",
      "Attaching package: 'zoo'\n",
      "\n",
      "The following objects are masked from 'package:base':\n",
      "\n",
      "    as.Date, as.Date.numeric\n",
      "\n"
     ]
    },
    {
     "data": {
      "text/plain": [
       "\n",
       "t test of coefficients:\n",
       "\n",
       "                       Estimate Std. Error t value  Pr(>|t|)    \n",
       "(Intercept)           0.5171342  0.1568823  3.2963 0.0009856 ***\n",
       "female                0.0056240  0.1324597  0.0425 0.9661352    \n",
       "black                -0.0307771  0.0847262 -0.3633 0.7164293    \n",
       "othrace              -0.4278818  0.3005502 -1.4237 0.1545993    \n",
       "factor(dep)1          0.1576567  0.1851798  0.8514 0.3945992    \n",
       "factor(dep)2         -0.1927958  0.1508926 -1.2777 0.2014067    \n",
       "q2                   -0.1092161  0.1583768 -0.6896 0.4904762    \n",
       "q3                   -0.1075663  0.1579864 -0.6809 0.4959890    \n",
       "q4                   -0.0621302  0.1581168 -0.3929 0.6943797    \n",
       "q5                   -0.0498684  0.1575034 -0.3166 0.7515450    \n",
       "q6                   -0.2176336  0.1558290 -1.3966 0.1625831    \n",
       "agelt35              -0.0643464  0.1326376 -0.4851 0.6276032    \n",
       "agegt54               0.0259251  0.2395371  0.1082 0.9138171    \n",
       "durable              -0.1256397  0.1763853 -0.7123 0.4763064    \n",
       "lusd                  0.0860694  0.0690513  1.2465 0.2126486    \n",
       "husd                 -0.0181543  0.0761231 -0.2385 0.8115132    \n",
       "female:black          0.0026783  0.0438397  0.0611 0.9512880    \n",
       "female:othrace        0.1015133  0.2062044  0.4923 0.6225301    \n",
       "female:factor(dep)1  -0.0178540  0.0448463 -0.3981 0.6905601    \n",
       "female:factor(dep)2   0.0219424  0.0397124  0.5525 0.5806048    \n",
       "female:q2            -0.0994751  0.1321625 -0.7527 0.4516778    \n",
       "female:q3            -0.0143909  0.1318197 -0.1092 0.9130705    \n",
       "female:q4            -0.0166871  0.1315462 -0.1269 0.8990607    \n",
       "female:q5            -0.0586323  0.1310954 -0.4472 0.6547126    \n",
       "female:q6             0.0549625  0.1396608  0.3935 0.6939334    \n",
       "female:agelt35        0.0333185  0.0295704  1.1268 0.2598944    \n",
       "female:agegt54       -0.0109911  0.0500743 -0.2195 0.8262722    \n",
       "female:durable       -0.0585915  0.0437316 -1.3398 0.1803639    \n",
       "female:lusd           0.0051154  0.0333352  0.1535 0.8780465    \n",
       "female:husd           0.0186705  0.0367009  0.5087 0.6109674    \n",
       "black:factor(dep)1   -0.0138871  0.0675124 -0.2057 0.8370347    \n",
       "black:factor(dep)2   -0.0230275  0.0622780 -0.3698 0.7115795    \n",
       "black:q2              0.1310560  0.0910134  1.4400 0.1499327    \n",
       "black:q3              0.0356778  0.0875644  0.4074 0.6836956    \n",
       "black:q4             -0.1094835  0.0892166 -1.2272 0.2198114    \n",
       "black:q5             -0.0107546  0.0866019 -0.1242 0.9011738    \n",
       "black:agelt35         0.0295378  0.0448494  0.6586 0.5101795    \n",
       "black:agegt54        -0.0574814  0.0820450 -0.7006 0.4835761    \n",
       "black:durable        -0.0122293  0.0694472 -0.1761 0.8602255    \n",
       "black:lusd            0.0105912  0.0551036  0.1922 0.8475884    \n",
       "black:husd            0.1309267  0.1808848  0.7238 0.4692108    \n",
       "othrace:factor(dep)1  0.5856787  0.2226353  2.6307 0.0085448 ** \n",
       "othrace:factor(dep)2 -0.1436491  0.3315486 -0.4333 0.6648372    \n",
       "othrace:q2           -0.4009126  0.3451284 -1.1616 0.2454333    \n",
       "othrace:q3            0.6008526  0.2361499  2.5444 0.0109738 *  \n",
       "othrace:q4            0.2964049  0.2870002  1.0328 0.3017560    \n",
       "othrace:q5            0.2727293  0.1923161  1.4181 0.1562076    \n",
       "othrace:agelt35       0.0077601  0.2082436  0.0373 0.9702755    \n",
       "othrace:agegt54       0.2411511  0.3193219  0.7552 0.4501618    \n",
       "othrace:durable      -0.1463647  0.2138674 -0.6844 0.4937685    \n",
       "othrace:lusd          0.0924759  0.2070878  0.4466 0.6552140    \n",
       "othrace:husd         -0.8586692  0.3178289 -2.7017 0.0069197 ** \n",
       "factor(dep)1:q2      -0.0778714  0.1856444 -0.4195 0.6748920    \n",
       "factor(dep)2:q2       0.1434300  0.1499260  0.9567 0.3387736    \n",
       "factor(dep)1:q3      -0.1493913  0.1848276 -0.8083 0.4189669    \n",
       "factor(dep)2:q3       0.1686729  0.1499105  1.1252 0.2605697    \n",
       "factor(dep)1:q4      -0.1594688  0.1838128 -0.8676 0.3856714    \n",
       "factor(dep)2:q4       0.1210031  0.1503997  0.8045 0.4211168    \n",
       "factor(dep)1:q5      -0.1176792  0.1832795 -0.6421 0.5208502    \n",
       "factor(dep)2:q5       0.1389782  0.1487634  0.9342 0.3502285    \n",
       "factor(dep)1:q6      -0.1531103  0.1949430 -0.7854 0.4322458    \n",
       "factor(dep)2:q6       0.1619139  0.1593360  1.0162 0.3095874    \n",
       "factor(dep)1:agelt35 -0.0036069  0.0467653 -0.0771 0.9385253    \n",
       "factor(dep)2:agelt35  0.0615367  0.0371449  1.6567 0.0976424 .  \n",
       "factor(dep)1:agegt54 -0.0883148  0.0649947 -1.3588 0.1742643    \n",
       "factor(dep)2:agegt54 -0.0784522  0.1509474 -0.5197 0.6032706    \n",
       "factor(dep)1:durable  0.0088069  0.0577750  0.1524 0.8788500    \n",
       "factor(dep)2:durable -0.0923628  0.0509130 -1.8141 0.0697103 .  \n",
       "factor(dep)1:lusd     0.0358529  0.0504978  0.7100 0.4777404    \n",
       "factor(dep)2:lusd     0.0706587  0.0459827  1.5366 0.1244382    \n",
       "factor(dep)1:husd    -0.0180593  0.0542162 -0.3331 0.7390723    \n",
       "factor(dep)2:husd     0.0065759  0.0476358  0.1380 0.8902087    \n",
       "q2:agelt35            0.0305875  0.1325911  0.2307 0.8175636    \n",
       "q2:agegt54            0.0590330  0.2393334  0.2467 0.8051835    \n",
       "q2:durable            0.1371323  0.1750979  0.7832 0.4335568    \n",
       "q2:lusd              -0.0530912  0.0720069 -0.7373 0.4609656    \n",
       "q2:husd               0.0859891  0.0776931  1.1068 0.2684364    \n",
       "q3:agelt35            0.0303266  0.1323929  0.2291 0.8188267    \n",
       "q3:agegt54            0.0250950  0.2378238  0.1055 0.9159676    \n",
       "q3:durable            0.1904666  0.1749626  1.0886 0.2763706    \n",
       "q3:lusd              -0.0706455  0.0705820 -1.0009 0.3169179    \n",
       "q3:husd               0.0444347  0.0773385  0.5745 0.5656194    \n",
       "q4:agelt35            0.0722676  0.1322839  0.5463 0.5848765    \n",
       "q4:agegt54           -0.0192713  0.2369080 -0.0813 0.9351705    \n",
       "q4:durable            0.1228723  0.1757888  0.6990 0.4845949    \n",
       "q4:lusd              -0.1132011  0.0712124 -1.5896 0.1119751    \n",
       "q4:husd               0.0103329  0.0772952  0.1337 0.8936596    \n",
       "q5:agelt35            0.0464703  0.1315468  0.3533 0.7239064    \n",
       "q5:agegt54           -0.1165307  0.2361590 -0.4934 0.6217196    \n",
       "q5:durable            0.1024633  0.1734395  0.5908 0.5546963    \n",
       "q5:lusd              -0.0357169  0.0702997 -0.5081 0.6114269    \n",
       "q5:husd               0.0269861  0.0756590  0.3567 0.7213443    \n",
       "q6:agelt35            0.1099339  0.1397160  0.7868 0.4314094    \n",
       "q6:agegt54           -0.0173502  0.2478564 -0.0700 0.9441953    \n",
       "q6:durable            0.2161095  0.1833399  1.1787 0.2385522    \n",
       "agelt35:durable       0.0323100  0.0403347  0.8010 0.4231383    \n",
       "agelt35:lusd         -0.0091978  0.0346701 -0.2653 0.7907913    \n",
       "agelt35:husd         -0.0249924  0.0389720 -0.6413 0.5213594    \n",
       "agegt54:durable      -0.0154688  0.0654590 -0.2363 0.8131985    \n",
       "agegt54:lusd          0.0286866  0.0569181  0.5040 0.6142822    \n",
       "agegt54:husd         -0.0423210  0.0610019 -0.6938 0.4878572    \n",
       "durable:lusd         -0.0385741  0.0428073 -0.9011 0.3675670    \n",
       "durable:husd          0.0093281  0.0525225  0.1776 0.8590417    \n",
       "---\n",
       "Signif. codes:  0 '***' 0.001 '**' 0.01 '*' 0.05 '.' 0.1 ' ' 1\n"
      ]
     },
     "metadata": {},
     "output_type": "display_data"
    }
   ],
   "source": [
    "library(lmtest)\n",
    "library(sandwich)\n",
    "m <- lm(T2~(female+black+othrace+factor(dep)+q2+q3+q4+q5+q6+agelt35+agegt54+durable+lusd+husd)^2)\n",
    "coeftest(m, vcov = vcovHC(m, type=\"HC1\"))"
   ]
  },
  {
   "cell_type": "markdown",
   "metadata": {},
   "source": [
    "We can see that not all the covarites (othrace:factor(dep)1, othrace:q3, othrace:husd) are not significant. For the assumption of *NAME* (which means that the assignation of the treatment does not depend of the observable characteristics of the individuals) to be true, all the covariates should be **not significant**.However, as they are only 3 out of 120, we can continue the estimations."
   ]
  },
  {
   "cell_type": "code",
   "execution_count": 16,
   "metadata": {},
   "outputs": [
    {
     "data": {
      "text/html": [
       "<table>\n",
       "<thead><tr><th scope=col>(Intercept)</th><th scope=col>female</th><th scope=col>black</th><th scope=col>othrace</th><th scope=col>factor(dep)1</th><th scope=col>factor(dep)2</th><th scope=col>q2</th><th scope=col>q3</th><th scope=col>q4</th><th scope=col>q5</th><th scope=col>...</th><th scope=col>agelt35:agegt54</th><th scope=col>agelt35:durable</th><th scope=col>agelt35:lusd</th><th scope=col>agelt35:husd</th><th scope=col>agegt54:durable</th><th scope=col>agegt54:lusd</th><th scope=col>agegt54:husd</th><th scope=col>durable:lusd</th><th scope=col>durable:husd</th><th scope=col>lusd:husd</th></tr></thead>\n",
       "<tbody>\n",
       "\t<tr><td>1  </td><td>0  </td><td>0  </td><td>0  </td><td>0  </td><td>1  </td><td>0  </td><td>0  </td><td>0  </td><td>1  </td><td>...</td><td>0  </td><td>0  </td><td>0  </td><td>0  </td><td>0  </td><td>0  </td><td>0  </td><td>0  </td><td>0  </td><td>0  </td></tr>\n",
       "\t<tr><td>1  </td><td>0  </td><td>0  </td><td>0  </td><td>0  </td><td>0  </td><td>0  </td><td>1  </td><td>0  </td><td>0  </td><td>...</td><td>0  </td><td>0  </td><td>1  </td><td>0  </td><td>0  </td><td>0  </td><td>0  </td><td>0  </td><td>0  </td><td>0  </td></tr>\n",
       "\t<tr><td>1  </td><td>0  </td><td>0  </td><td>0  </td><td>0  </td><td>0  </td><td>0  </td><td>0  </td><td>0  </td><td>1  </td><td>...</td><td>0  </td><td>0  </td><td>0  </td><td>0  </td><td>0  </td><td>0  </td><td>0  </td><td>0  </td><td>0  </td><td>0  </td></tr>\n",
       "\t<tr><td>1  </td><td>0  </td><td>0  </td><td>0  </td><td>0  </td><td>0  </td><td>0  </td><td>0  </td><td>1  </td><td>0  </td><td>...</td><td>0  </td><td>0  </td><td>0  </td><td>0  </td><td>0  </td><td>0  </td><td>0  </td><td>0  </td><td>0  </td><td>0  </td></tr>\n",
       "\t<tr><td>1  </td><td>1  </td><td>0  </td><td>0  </td><td>0  </td><td>0  </td><td>0  </td><td>0  </td><td>1  </td><td>0  </td><td>...</td><td>0  </td><td>0  </td><td>0  </td><td>0  </td><td>0  </td><td>0  </td><td>0  </td><td>0  </td><td>0  </td><td>0  </td></tr>\n",
       "\t<tr><td>1  </td><td>0  </td><td>0  </td><td>0  </td><td>1  </td><td>0  </td><td>0  </td><td>0  </td><td>0  </td><td>1  </td><td>...</td><td>0  </td><td>0  </td><td>0  </td><td>0  </td><td>1  </td><td>1  </td><td>0  </td><td>1  </td><td>0  </td><td>0  </td></tr>\n",
       "</tbody>\n",
       "</table>\n"
      ],
      "text/latex": [
       "\\begin{tabular}{r|llllllllllllllllllllllllllllllllllllllllllllllllllllllllllllllllllllllllllllllllllllllllllllllllllllllllllllllllllllllll}\n",
       " (Intercept) & female & black & othrace & factor(dep)1 & factor(dep)2 & q2 & q3 & q4 & q5 & ... & agelt35:agegt54 & agelt35:durable & agelt35:lusd & agelt35:husd & agegt54:durable & agegt54:lusd & agegt54:husd & durable:lusd & durable:husd & lusd:husd\\\\\n",
       "\\hline\n",
       "\t 1   & 0   & 0   & 0   & 0   & 1   & 0   & 0   & 0   & 1   & ... & 0   & 0   & 0   & 0   & 0   & 0   & 0   & 0   & 0   & 0  \\\\\n",
       "\t 1   & 0   & 0   & 0   & 0   & 0   & 0   & 1   & 0   & 0   & ... & 0   & 0   & 1   & 0   & 0   & 0   & 0   & 0   & 0   & 0  \\\\\n",
       "\t 1   & 0   & 0   & 0   & 0   & 0   & 0   & 0   & 0   & 1   & ... & 0   & 0   & 0   & 0   & 0   & 0   & 0   & 0   & 0   & 0  \\\\\n",
       "\t 1   & 0   & 0   & 0   & 0   & 0   & 0   & 0   & 1   & 0   & ... & 0   & 0   & 0   & 0   & 0   & 0   & 0   & 0   & 0   & 0  \\\\\n",
       "\t 1   & 1   & 0   & 0   & 0   & 0   & 0   & 0   & 1   & 0   & ... & 0   & 0   & 0   & 0   & 0   & 0   & 0   & 0   & 0   & 0  \\\\\n",
       "\t 1   & 0   & 0   & 0   & 1   & 0   & 0   & 0   & 0   & 1   & ... & 0   & 0   & 0   & 0   & 1   & 1   & 0   & 1   & 0   & 0  \\\\\n",
       "\\end{tabular}\n"
      ],
      "text/markdown": [
       "\n",
       "| (Intercept) | female | black | othrace | factor(dep)1 | factor(dep)2 | q2 | q3 | q4 | q5 | ... | agelt35:agegt54 | agelt35:durable | agelt35:lusd | agelt35:husd | agegt54:durable | agegt54:lusd | agegt54:husd | durable:lusd | durable:husd | lusd:husd |\n",
       "|---|---|---|---|---|---|---|---|---|---|---|---|---|---|---|---|---|---|---|---|---|\n",
       "| 1   | 0   | 0   | 0   | 0   | 1   | 0   | 0   | 0   | 1   | ... | 0   | 0   | 0   | 0   | 0   | 0   | 0   | 0   | 0   | 0   |\n",
       "| 1   | 0   | 0   | 0   | 0   | 0   | 0   | 1   | 0   | 0   | ... | 0   | 0   | 1   | 0   | 0   | 0   | 0   | 0   | 0   | 0   |\n",
       "| 1   | 0   | 0   | 0   | 0   | 0   | 0   | 0   | 0   | 1   | ... | 0   | 0   | 0   | 0   | 0   | 0   | 0   | 0   | 0   | 0   |\n",
       "| 1   | 0   | 0   | 0   | 0   | 0   | 0   | 0   | 1   | 0   | ... | 0   | 0   | 0   | 0   | 0   | 0   | 0   | 0   | 0   | 0   |\n",
       "| 1   | 1   | 0   | 0   | 0   | 0   | 0   | 0   | 1   | 0   | ... | 0   | 0   | 0   | 0   | 0   | 0   | 0   | 0   | 0   | 0   |\n",
       "| 1   | 0   | 0   | 0   | 1   | 0   | 0   | 0   | 0   | 1   | ... | 0   | 0   | 0   | 0   | 1   | 1   | 0   | 1   | 0   | 0   |\n",
       "\n"
      ],
      "text/plain": [
       "  (Intercept) female black othrace factor(dep)1 factor(dep)2 q2 q3 q4 q5 ...\n",
       "1 1           0      0     0       0            1            0  0  0  1  ...\n",
       "2 1           0      0     0       0            0            0  1  0  0  ...\n",
       "3 1           0      0     0       0            0            0  0  0  1  ...\n",
       "4 1           0      0     0       0            0            0  0  1  0  ...\n",
       "5 1           1      0     0       0            0            0  0  1  0  ...\n",
       "6 1           0      0     0       1            0            0  0  0  1  ...\n",
       "  agelt35:agegt54 agelt35:durable agelt35:lusd agelt35:husd agegt54:durable\n",
       "1 0               0               0            0            0              \n",
       "2 0               0               1            0            0              \n",
       "3 0               0               0            0            0              \n",
       "4 0               0               0            0            0              \n",
       "5 0               0               0            0            0              \n",
       "6 0               0               0            0            1              \n",
       "  agegt54:lusd agegt54:husd durable:lusd durable:husd lusd:husd\n",
       "1 0            0            0            0            0        \n",
       "2 0            0            0            0            0        \n",
       "3 0            0            0            0            0        \n",
       "4 0            0            0            0            0        \n",
       "5 0            0            0            0            0        \n",
       "6 1            0            1            0            0        "
      ]
     },
     "metadata": {},
     "output_type": "display_data"
    },
    {
     "data": {
      "text/html": [
       "120"
      ],
      "text/latex": [
       "120"
      ],
      "text/markdown": [
       "120"
      ],
      "text/plain": [
       "[1] 120"
      ]
     },
     "metadata": {},
     "output_type": "display_data"
    }
   ],
   "source": [
    "# get same dataframe\n",
    "X <- as.data.frame( model.matrix(m) )\n",
    "head(X) # the matrix used in the regression\n",
    "length(X)"
   ]
  },
  {
   "cell_type": "code",
   "execution_count": 17,
   "metadata": {},
   "outputs": [
    {
     "data": {
      "text/html": [
       "<table>\n",
       "<thead><tr><th scope=col>(Intercept)</th><th scope=col>female</th><th scope=col>black</th><th scope=col>othrace</th><th scope=col>factor(dep)1</th><th scope=col>factor(dep)2</th><th scope=col>q2</th><th scope=col>q3</th><th scope=col>q4</th><th scope=col>q5</th><th scope=col>...</th><th scope=col>q6:agegt54</th><th scope=col>q6:durable</th><th scope=col>agelt35:durable</th><th scope=col>agelt35:lusd</th><th scope=col>agelt35:husd</th><th scope=col>agegt54:durable</th><th scope=col>agegt54:lusd</th><th scope=col>agegt54:husd</th><th scope=col>durable:lusd</th><th scope=col>durable:husd</th></tr></thead>\n",
       "<tbody>\n",
       "\t<tr><td>1  </td><td>0  </td><td>0  </td><td>0  </td><td>0  </td><td>1  </td><td>0  </td><td>0  </td><td>0  </td><td>1  </td><td>...</td><td>0  </td><td>0  </td><td>0  </td><td>0  </td><td>0  </td><td>0  </td><td>0  </td><td>0  </td><td>0  </td><td>0  </td></tr>\n",
       "\t<tr><td>1  </td><td>0  </td><td>0  </td><td>0  </td><td>0  </td><td>0  </td><td>0  </td><td>1  </td><td>0  </td><td>0  </td><td>...</td><td>0  </td><td>0  </td><td>0  </td><td>1  </td><td>0  </td><td>0  </td><td>0  </td><td>0  </td><td>0  </td><td>0  </td></tr>\n",
       "\t<tr><td>1  </td><td>0  </td><td>0  </td><td>0  </td><td>0  </td><td>0  </td><td>0  </td><td>0  </td><td>0  </td><td>1  </td><td>...</td><td>0  </td><td>0  </td><td>0  </td><td>0  </td><td>0  </td><td>0  </td><td>0  </td><td>0  </td><td>0  </td><td>0  </td></tr>\n",
       "\t<tr><td>1  </td><td>0  </td><td>0  </td><td>0  </td><td>0  </td><td>0  </td><td>0  </td><td>0  </td><td>1  </td><td>0  </td><td>...</td><td>0  </td><td>0  </td><td>0  </td><td>0  </td><td>0  </td><td>0  </td><td>0  </td><td>0  </td><td>0  </td><td>0  </td></tr>\n",
       "\t<tr><td>1  </td><td>1  </td><td>0  </td><td>0  </td><td>0  </td><td>0  </td><td>0  </td><td>0  </td><td>1  </td><td>0  </td><td>...</td><td>0  </td><td>0  </td><td>0  </td><td>0  </td><td>0  </td><td>0  </td><td>0  </td><td>0  </td><td>0  </td><td>0  </td></tr>\n",
       "\t<tr><td>1  </td><td>0  </td><td>0  </td><td>0  </td><td>1  </td><td>0  </td><td>0  </td><td>0  </td><td>0  </td><td>1  </td><td>...</td><td>0  </td><td>0  </td><td>0  </td><td>0  </td><td>0  </td><td>1  </td><td>1  </td><td>0  </td><td>1  </td><td>0  </td></tr>\n",
       "</tbody>\n",
       "</table>\n"
      ],
      "text/latex": [
       "\\begin{tabular}{r|lllllllllllllllllllllllllllllllllllllllllllllllllllllllllllllllllllllllllllllllllllllllllllllllllllllll}\n",
       " (Intercept) & female & black & othrace & factor(dep)1 & factor(dep)2 & q2 & q3 & q4 & q5 & ... & q6:agegt54 & q6:durable & agelt35:durable & agelt35:lusd & agelt35:husd & agegt54:durable & agegt54:lusd & agegt54:husd & durable:lusd & durable:husd\\\\\n",
       "\\hline\n",
       "\t 1   & 0   & 0   & 0   & 0   & 1   & 0   & 0   & 0   & 1   & ... & 0   & 0   & 0   & 0   & 0   & 0   & 0   & 0   & 0   & 0  \\\\\n",
       "\t 1   & 0   & 0   & 0   & 0   & 0   & 0   & 1   & 0   & 0   & ... & 0   & 0   & 0   & 1   & 0   & 0   & 0   & 0   & 0   & 0  \\\\\n",
       "\t 1   & 0   & 0   & 0   & 0   & 0   & 0   & 0   & 0   & 1   & ... & 0   & 0   & 0   & 0   & 0   & 0   & 0   & 0   & 0   & 0  \\\\\n",
       "\t 1   & 0   & 0   & 0   & 0   & 0   & 0   & 0   & 1   & 0   & ... & 0   & 0   & 0   & 0   & 0   & 0   & 0   & 0   & 0   & 0  \\\\\n",
       "\t 1   & 1   & 0   & 0   & 0   & 0   & 0   & 0   & 1   & 0   & ... & 0   & 0   & 0   & 0   & 0   & 0   & 0   & 0   & 0   & 0  \\\\\n",
       "\t 1   & 0   & 0   & 0   & 1   & 0   & 0   & 0   & 0   & 1   & ... & 0   & 0   & 0   & 0   & 0   & 1   & 1   & 0   & 1   & 0  \\\\\n",
       "\\end{tabular}\n"
      ],
      "text/markdown": [
       "\n",
       "| (Intercept) | female | black | othrace | factor(dep)1 | factor(dep)2 | q2 | q3 | q4 | q5 | ... | q6:agegt54 | q6:durable | agelt35:durable | agelt35:lusd | agelt35:husd | agegt54:durable | agegt54:lusd | agegt54:husd | durable:lusd | durable:husd |\n",
       "|---|---|---|---|---|---|---|---|---|---|---|---|---|---|---|---|---|---|---|---|---|\n",
       "| 1   | 0   | 0   | 0   | 0   | 1   | 0   | 0   | 0   | 1   | ... | 0   | 0   | 0   | 0   | 0   | 0   | 0   | 0   | 0   | 0   |\n",
       "| 1   | 0   | 0   | 0   | 0   | 0   | 0   | 1   | 0   | 0   | ... | 0   | 0   | 0   | 1   | 0   | 0   | 0   | 0   | 0   | 0   |\n",
       "| 1   | 0   | 0   | 0   | 0   | 0   | 0   | 0   | 0   | 1   | ... | 0   | 0   | 0   | 0   | 0   | 0   | 0   | 0   | 0   | 0   |\n",
       "| 1   | 0   | 0   | 0   | 0   | 0   | 0   | 0   | 1   | 0   | ... | 0   | 0   | 0   | 0   | 0   | 0   | 0   | 0   | 0   | 0   |\n",
       "| 1   | 1   | 0   | 0   | 0   | 0   | 0   | 0   | 1   | 0   | ... | 0   | 0   | 0   | 0   | 0   | 0   | 0   | 0   | 0   | 0   |\n",
       "| 1   | 0   | 0   | 0   | 1   | 0   | 0   | 0   | 0   | 1   | ... | 0   | 0   | 0   | 0   | 0   | 1   | 1   | 0   | 1   | 0   |\n",
       "\n"
      ],
      "text/plain": [
       "  (Intercept) female black othrace factor(dep)1 factor(dep)2 q2 q3 q4 q5 ...\n",
       "1 1           0      0     0       0            1            0  0  0  1  ...\n",
       "2 1           0      0     0       0            0            0  1  0  0  ...\n",
       "3 1           0      0     0       0            0            0  0  0  1  ...\n",
       "4 1           0      0     0       0            0            0  0  1  0  ...\n",
       "5 1           1      0     0       0            0            0  0  1  0  ...\n",
       "6 1           0      0     0       1            0            0  0  0  1  ...\n",
       "  q6:agegt54 q6:durable agelt35:durable agelt35:lusd agelt35:husd\n",
       "1 0          0          0               0            0           \n",
       "2 0          0          0               1            0           \n",
       "3 0          0          0               0            0           \n",
       "4 0          0          0               0            0           \n",
       "5 0          0          0               0            0           \n",
       "6 0          0          0               0            0           \n",
       "  agegt54:durable agegt54:lusd agegt54:husd durable:lusd durable:husd\n",
       "1 0               0            0            0            0           \n",
       "2 0               0            0            0            0           \n",
       "3 0               0            0            0            0           \n",
       "4 0               0            0            0            0           \n",
       "5 0               0            0            0            0           \n",
       "6 1               1            0            1            0           "
      ]
     },
     "metadata": {},
     "output_type": "display_data"
    }
   ],
   "source": [
    "no_col <- attributes(m$coefficients)$names[is.na(m$coefficients)] #save the name of variables \n",
    "X1  <- X[, -which(names( X ) %in% no_col ) ] #save in a data frame this variables\n",
    "head(X1)"
   ]
  },
  {
   "cell_type": "code",
   "execution_count": 18,
   "metadata": {},
   "outputs": [],
   "source": [
    "save( X1, file = \"../data/m_reg_g1.RData\")"
   ]
  },
  {
   "cell_type": "markdown",
   "metadata": {
    "papermill": {
     "duration": 0.021046,
     "end_time": "2021-02-20T13:42:42.315674",
     "exception": false,
     "start_time": "2021-02-20T13:42:42.294628",
     "status": "completed"
    },
    "tags": []
   },
   "source": [
    "# Model Specification"
   ]
  },
  {
   "cell_type": "markdown",
   "metadata": {},
   "source": [
    "### No adjustment (2-sample approach) & classical linear regression adjustment (CRA)"
   ]
  },
  {
   "cell_type": "code",
   "execution_count": 19,
   "metadata": {
    "execution": {
     "iopub.execute_input": "2021-02-20T13:42:42.351202Z",
     "iopub.status.busy": "2021-02-20T13:42:42.350620Z",
     "iopub.status.idle": "2021-02-20T13:42:42.680257Z",
     "shell.execute_reply": "2021-02-20T13:42:42.677739Z"
    },
    "papermill": {
     "duration": 0.350081,
     "end_time": "2021-02-20T13:42:42.680497",
     "exception": false,
     "start_time": "2021-02-20T13:42:42.330416",
     "status": "completed"
    },
    "tags": []
   },
   "outputs": [],
   "source": [
    "formula_cl <- log(inuidur1)~T2\n",
    "\n",
    "# adding controls\n",
    "formula_cra <- log(inuidur1)~T2+ (female+black+othrace+factor(dep)+q2+q3+q4+q5+q6+agelt35+agegt54+durable+lusd+husd)^2\n",
    "# Omitted dummies: q1, nondurable, muld\n",
    "\n",
    "#No adjustment (2-sample approach): like comparing the means of the control and the treatment group\n",
    "ols.cl_reg <- lm(formula_cl)\n",
    "\n",
    "#Classical linear regression adjustment (CRA)\n",
    "ols.cra_reg <- lm(formula_cra)\n",
    "\n",
    "\n",
    "ols.cl = coeftest(ols.cl_reg, vcov = vcovHC(ols.cl_reg, type=\"HC1\"))\n",
    "ols.cra = coeftest(ols.cra_reg, vcov = vcovHC(ols.cra_reg, type=\"HC1\"))"
   ]
  },
  {
   "cell_type": "code",
   "execution_count": 20,
   "metadata": {
    "execution": {
     "iopub.execute_input": "2021-02-20T13:42:42.351202Z",
     "iopub.status.busy": "2021-02-20T13:42:42.350620Z",
     "iopub.status.idle": "2021-02-20T13:42:42.680257Z",
     "shell.execute_reply": "2021-02-20T13:42:42.677739Z"
    },
    "papermill": {
     "duration": 0.350081,
     "end_time": "2021-02-20T13:42:42.680497",
     "exception": false,
     "start_time": "2021-02-20T13:42:42.330416",
     "status": "completed"
    },
    "tags": []
   },
   "outputs": [
    {
     "name": "stdout",
     "output_type": "stream",
     "text": [
      "\n",
      "t test of coefficients:\n",
      "\n",
      "             Estimate Std. Error t value Pr(>|t|)    \n",
      "(Intercept)  2.056830   0.020954 98.1580  < 2e-16 ***\n",
      "T2TRUE      -0.078825   0.032509 -2.4247  0.01535 *  \n",
      "---\n",
      "Signif. codes:  0 '***' 0.001 '**' 0.01 '*' 0.05 '.' 0.1 ' ' 1\n",
      "\n"
     ]
    }
   ],
   "source": [
    "#No adjustment (2-sample approach):\n",
    "print(ols.cl)"
   ]
  },
  {
   "cell_type": "code",
   "execution_count": 21,
   "metadata": {
    "execution": {
     "iopub.execute_input": "2021-02-20T13:42:42.351202Z",
     "iopub.status.busy": "2021-02-20T13:42:42.350620Z",
     "iopub.status.idle": "2021-02-20T13:42:42.680257Z",
     "shell.execute_reply": "2021-02-20T13:42:42.677739Z"
    },
    "papermill": {
     "duration": 0.350081,
     "end_time": "2021-02-20T13:42:42.680497",
     "exception": false,
     "start_time": "2021-02-20T13:42:42.330416",
     "status": "completed"
    },
    "tags": []
   },
   "outputs": [
    {
     "name": "stdout",
     "output_type": "stream",
     "text": [
      "\n",
      "t test of coefficients:\n",
      "\n",
      "                       Estimate Std. Error t value  Pr(>|t|)    \n",
      "(Intercept)           2.4471832  0.3580899  6.8340 9.123e-12 ***\n",
      "T2TRUE               -0.0712066  0.0320440 -2.2222 0.0263124 *  \n",
      "female               -0.9428048  0.2827961 -3.3339 0.0008620 ***\n",
      "black                -0.6654258  0.2430567 -2.7377 0.0062056 ** \n",
      "othrace              -1.5494550  0.7312071 -2.1190 0.0341306 *  \n",
      "factor(dep)1          0.2798498  0.3783316  0.7397 0.4595160    \n",
      "factor(dep)2          0.1678164  0.3678718  0.4562 0.6482768    \n",
      "q2                    0.0271228  0.3606226  0.0752 0.9400495    \n",
      "q3                   -0.3542370  0.3601780 -0.9835 0.3254005    \n",
      "q4                   -0.3380244  0.3606994 -0.9371 0.3487284    \n",
      "q5                   -0.1777168  0.3598757 -0.4938 0.6214465    \n",
      "q6                   -0.4456044  0.3612792 -1.2334 0.2174749    \n",
      "agelt35              -0.3264815  0.3108711 -1.0502 0.2936639    \n",
      "agegt54              -0.1551504  0.4796700 -0.3235 0.7463646    \n",
      "durable              -1.0151542  0.4449002 -2.2818 0.0225405 *  \n",
      "lusd                 -0.1193717  0.1744506 -0.6843 0.4938310    \n",
      "husd                  0.0702968  0.1877772  0.3744 0.7081482    \n",
      "female:black         -0.2840034  0.1181815 -2.4031 0.0162880 *  \n",
      "female:othrace        0.4211653  0.4881117  0.8628 0.3882586    \n",
      "female:factor(dep)1  -0.0852110  0.1097575 -0.7764 0.4375706    \n",
      "female:factor(dep)2   0.0191663  0.0960257  0.1996 0.8418042    \n",
      "female:q2             0.7579484  0.2816463  2.6911 0.0071418 ** \n",
      "female:q3             1.1132040  0.2804776  3.9690 7.308e-05 ***\n",
      "female:q4             1.0476270  0.2803218  3.7372 0.0001879 ***\n",
      "female:q5             0.9391723  0.2797468  3.3572 0.0007925 ***\n",
      "female:q6             1.0943376  0.3051864  3.5858 0.0003389 ***\n",
      "female:agelt35        0.0897041  0.0717530  1.2502 0.2112858    \n",
      "female:agegt54        0.1052300  0.1192511  0.8824 0.3775848    \n",
      "female:durable        0.1479312  0.1045882  1.4144 0.1572946    \n",
      "female:lusd           0.1040466  0.0803795  1.2944 0.1955654    \n",
      "female:husd           0.0405424  0.0871027  0.4655 0.6416233    \n",
      "black:factor(dep)1    0.2550534  0.1776949  1.4353 0.1512441    \n",
      "black:factor(dep)2   -0.0026687  0.1685717 -0.0158 0.9873694    \n",
      "black:q2              0.1578965  0.2541864  0.6212 0.5345037    \n",
      "black:q3              0.3136968  0.2421894  1.2953 0.1952852    \n",
      "black:q4              0.4070568  0.2531613  1.6079 0.1079138    \n",
      "black:q5              0.4779693  0.2423807  1.9720 0.0486606 *  \n",
      "black:agelt35        -0.0327885  0.1199314 -0.2734 0.7845605    \n",
      "black:agegt54         0.2404150  0.2150911  1.1177 0.2637272    \n",
      "black:durable         0.1604680  0.1818229  0.8826 0.3775165    \n",
      "black:lusd            0.0976747  0.1397249  0.6991 0.4845494    \n",
      "black:husd            0.5226586  0.4705587  1.1107 0.2667363    \n",
      "othrace:factor(dep)1  1.1661534  0.5688725  2.0499 0.0404163 *  \n",
      "othrace:factor(dep)2 -0.7687279  0.6882470 -1.1169 0.2640689    \n",
      "othrace:q2            1.5108063  0.7553314  2.0002 0.0455273 *  \n",
      "othrace:q3            0.2915823  0.4010420  0.7271 0.4672180    \n",
      "othrace:q4            0.9422587  0.5216038  1.8065 0.0708987 .  \n",
      "othrace:q5            0.9633463  0.4508887  2.1366 0.0326772 *  \n",
      "othrace:agelt35      -0.1902437  0.5742114 -0.3313 0.7404203    \n",
      "othrace:agegt54      -1.5319860  0.7774149 -1.9706 0.0488163 *  \n",
      "othrace:durable       1.9037227  0.2984229  6.3793 1.920e-10 ***\n",
      "othrace:lusd         -0.1288020  0.3847564 -0.3348 0.7378166    \n",
      "othrace:husd          0.6131158  0.6322611  0.9697 0.3322277    \n",
      "factor(dep)1:q2      -0.0578297  0.3766295 -0.1535 0.8779737    \n",
      "factor(dep)2:q2      -0.0868354  0.3663258 -0.2370 0.8126310    \n",
      "factor(dep)1:q3      -0.1448244  0.3766926 -0.3845 0.7006496    \n",
      "factor(dep)2:q3      -0.0664361  0.3661251 -0.1815 0.8560150    \n",
      "factor(dep)1:q4      -0.2322822  0.3758156 -0.6181 0.5365507    \n",
      "factor(dep)2:q4      -0.0189174  0.3664236 -0.0516 0.9588277    \n",
      "factor(dep)1:q5      -0.1366847  0.3745611 -0.3649 0.7151851    \n",
      "factor(dep)2:q5      -0.3474112  0.3658274 -0.9497 0.3423260    \n",
      "factor(dep)1:q6      -0.0754430  0.4237563 -0.1780 0.8587026    \n",
      "factor(dep)2:q6       0.1670275  0.3862462  0.4324 0.6654396    \n",
      "factor(dep)1:agelt35  0.0295559  0.1110959  0.2660 0.7902184    \n",
      "factor(dep)2:agelt35  0.0604359  0.0884161  0.6835 0.4942940    \n",
      "factor(dep)1:agegt54 -0.0653782  0.1579819 -0.4138 0.6790114    \n",
      "factor(dep)2:agegt54  0.2389402  0.3502460  0.6822 0.4951360    \n",
      "factor(dep)1:durable  0.2490245  0.1390534  1.7909 0.0733699 .  \n",
      "factor(dep)2:durable  0.1155334  0.1210212  0.9547 0.3397934    \n",
      "factor(dep)1:lusd    -0.1891318  0.1198463 -1.5781 0.1145937    \n",
      "factor(dep)2:lusd     0.0099694  0.1080574  0.0923 0.9264947    \n",
      "factor(dep)1:husd     0.0210466  0.1300914  0.1618 0.8714822    \n",
      "factor(dep)2:husd     0.0643927  0.1120225  0.5748 0.5654361    \n",
      "q2:agelt35            0.1074960  0.3106163  0.3461 0.7293005    \n",
      "q2:agegt54            0.2089269  0.4790236  0.4362 0.6627433    \n",
      "q2:durable            0.4369419  0.4446247  0.9827 0.3257868    \n",
      "q2:lusd              -0.0452343  0.1775655 -0.2547 0.7989278    \n",
      "q2:husd              -0.2223717  0.1866781 -1.1912 0.2336234    \n",
      "q3:agelt35            0.1804517  0.3105857  0.5810 0.5612606    \n",
      "q3:agegt54            0.5556566  0.4753225  1.1690 0.2424487    \n",
      "q3:durable            0.8395937  0.4443589  1.8894 0.0588825 .  \n",
      "q3:lusd              -0.0159614  0.1750847 -0.0912 0.9273658    \n",
      "q3:husd              -0.1130923  0.1853528 -0.6101 0.5417894    \n",
      "q4:agelt35            0.1182933  0.3104549  0.3810 0.7031937    \n",
      "q4:agegt54            0.3742015  0.4730138  0.7911 0.4289183    \n",
      "q4:durable            0.7433954  0.4469877  1.6631 0.0963430 .  \n",
      "q4:lusd              -0.0222100  0.1777450 -0.1250 0.9005644    \n",
      "q4:husd              -0.1847688  0.1860619 -0.9931 0.3207276    \n",
      "q5:agelt35           -0.0347993  0.3094880 -0.1124 0.9104773    \n",
      "q5:agegt54            0.2173394  0.4741739  0.4584 0.6467158    \n",
      "q5:durable            0.8553983  0.4436236  1.9282 0.0538791 .  \n",
      "q5:lusd              -0.1842941  0.1767158 -1.0429 0.2970464    \n",
      "q5:husd              -0.2741579  0.1844937 -1.4860 0.1373343    \n",
      "q6:agelt35            0.1822011  0.3330819  0.5470 0.5843893    \n",
      "q6:agegt54            0.6639470  0.5038773  1.3177 0.1876654    \n",
      "q6:durable            1.1466872  0.4656818  2.4624 0.0138312 *  \n",
      "agelt35:durable       0.0130415  0.0974530  0.1338 0.8935470    \n",
      "agelt35:lusd         -0.0561347  0.0826337 -0.6793 0.4969628    \n",
      "agelt35:husd          0.0174718  0.0917544  0.1904 0.8489878    \n",
      "agegt54:durable      -0.0133916  0.1551439 -0.0863 0.9312172    \n",
      "agegt54:lusd         -0.0236037  0.1297822 -0.1819 0.8556901    \n",
      "agegt54:husd         -0.2739141  0.1437349 -1.9057 0.0567409 .  \n",
      "durable:lusd          0.2916144  0.1033609  2.8213 0.0047992 ** \n",
      "durable:husd          0.3027337  0.1242434  2.4366 0.0148558 *  \n",
      "---\n",
      "Signif. codes:  0 '***' 0.001 '**' 0.01 '*' 0.05 '.' 0.1 ' ' 1\n",
      "\n"
     ]
    }
   ],
   "source": [
    "#Classical linear regression adjustment (CRA)\n",
    "print(ols.cra)"
   ]
  },
  {
   "cell_type": "code",
   "execution_count": 22,
   "metadata": {},
   "outputs": [],
   "source": [
    "# get same dataframe for ols.cl\n",
    "X <- as.data.frame( model.matrix(ols.cl_reg) )\n",
    "\n",
    "no_col <- attributes(ols.cl_reg$coefficients)$names[is.na(ols.cl_reg$coefficients)]\n",
    "\n",
    "X1  <- X[, -which(names( X ) %in% no_col ) ]\n",
    "\n",
    "save( X1, file = \"../data/ols_cl_reg_g1.RData\")\n",
    "\n",
    "# get same dataframe for ols.cra\n",
    "X <- as.data.frame( model.matrix(ols.cra_reg) )\n",
    "\n",
    "no_col <- attributes(ols.cra_reg$coefficients)$names[is.na(ols.cra_reg$coefficients)]\n",
    "\n",
    "X1  <- X[, -which(names( X ) %in% no_col ) ]\n",
    "\n",
    "save( X1, file = \"../data/ols_cra_reg_g1.RData\")\n"
   ]
  },
  {
   "cell_type": "markdown",
   "metadata": {
    "papermill": {
     "duration": 0.02768,
     "end_time": "2021-02-20T13:42:42.735966",
     "exception": false,
     "start_time": "2021-02-20T13:42:42.708286",
     "status": "completed"
    },
    "tags": []
   },
   "source": [
    "The interactive specificaiton corresponds to the approach introduced in Lin (2013)."
   ]
  },
  {
   "cell_type": "markdown",
   "metadata": {},
   "source": [
    "### Interactive regression model"
   ]
  },
  {
   "cell_type": "code",
   "execution_count": 23,
   "metadata": {
    "execution": {
     "iopub.execute_input": "2021-02-20T13:42:42.787957Z",
     "iopub.status.busy": "2021-02-20T13:42:42.787434Z",
     "iopub.status.idle": "2021-02-20T13:42:43.662431Z",
     "shell.execute_reply": "2021-02-20T13:42:43.659030Z"
    },
    "papermill": {
     "duration": 0.898452,
     "end_time": "2021-02-20T13:42:43.662684",
     "exception": false,
     "start_time": "2021-02-20T13:42:42.764232",
     "status": "completed"
    },
    "tags": []
   },
   "outputs": [
    {
     "data": {
      "text/html": [
       "<ol class=list-inline>\n",
       "\t<li>5782</li>\n",
       "\t<li>119</li>\n",
       "</ol>\n"
      ],
      "text/latex": [
       "\\begin{enumerate*}\n",
       "\\item 5782\n",
       "\\item 119\n",
       "\\end{enumerate*}\n"
      ],
      "text/markdown": [
       "1. 5782\n",
       "2. 119\n",
       "\n",
       "\n"
      ],
      "text/plain": [
       "[1] 5782  119"
      ]
     },
     "metadata": {},
     "output_type": "display_data"
    }
   ],
   "source": [
    "X = model.matrix (~ (female+black+othrace+factor(dep)+q2+q3+q4+q5+q6+agelt35+agegt54+durable+lusd+husd)^2)[,-1]\n",
    "dim(X) # we have 119 variables"
   ]
  },
  {
   "cell_type": "code",
   "execution_count": 24,
   "metadata": {
    "execution": {
     "iopub.execute_input": "2021-02-20T13:42:42.787957Z",
     "iopub.status.busy": "2021-02-20T13:42:42.787434Z",
     "iopub.status.idle": "2021-02-20T13:42:43.662431Z",
     "shell.execute_reply": "2021-02-20T13:42:43.659030Z"
    },
    "papermill": {
     "duration": 0.898452,
     "end_time": "2021-02-20T13:42:43.662684",
     "exception": false,
     "start_time": "2021-02-20T13:42:42.764232",
     "status": "completed"
    },
    "tags": []
   },
   "outputs": [
    {
     "data": {
      "text/html": [
       "<table>\n",
       "<thead><tr><th scope=col>female</th><th scope=col>black</th><th scope=col>othrace</th><th scope=col>factor(dep)1</th><th scope=col>factor(dep)2</th><th scope=col>q2</th><th scope=col>q3</th><th scope=col>q4</th><th scope=col>q5</th><th scope=col>q6</th><th scope=col>...</th><th scope=col>agelt35:agegt54</th><th scope=col>agelt35:durable</th><th scope=col>agelt35:lusd</th><th scope=col>agelt35:husd</th><th scope=col>agegt54:durable</th><th scope=col>agegt54:lusd</th><th scope=col>agegt54:husd</th><th scope=col>durable:lusd</th><th scope=col>durable:husd</th><th scope=col>lusd:husd</th></tr></thead>\n",
       "<tbody>\n",
       "\t<tr><td>-0.4007264  </td><td>-0.118817   </td><td>-0.005188516</td><td>-0.1165687  </td><td> 0.839329   </td><td>-0.2001038  </td><td>-0.2355586  </td><td>-0.2232791  </td><td> 0.7367693  </td><td>-0.06520235 </td><td>...         </td><td>0           </td><td>-0.07350398 </td><td>-0.1324801  </td><td>-0.1219301  </td><td>-0.01885161 </td><td>-0.0325147  </td><td>-0.02767209 </td><td>-0.05499827 </td><td>-0.02905569 </td><td>0           </td></tr>\n",
       "\t<tr><td>-0.4007264  </td><td>-0.118817   </td><td>-0.005188516</td><td>-0.1165687  </td><td>-0.160671   </td><td>-0.2001038  </td><td> 0.7644414  </td><td>-0.2232791  </td><td>-0.2632307  </td><td>-0.06520235 </td><td>...         </td><td>0           </td><td>-0.07350398 </td><td> 0.8675199  </td><td>-0.1219301  </td><td>-0.01885161 </td><td>-0.0325147  </td><td>-0.02767209 </td><td>-0.05499827 </td><td>-0.02905569 </td><td>0           </td></tr>\n",
       "\t<tr><td>-0.4007264  </td><td>-0.118817   </td><td>-0.005188516</td><td>-0.1165687  </td><td>-0.160671   </td><td>-0.2001038  </td><td>-0.2355586  </td><td>-0.2232791  </td><td> 0.7367693  </td><td>-0.06520235 </td><td>...         </td><td>0           </td><td>-0.07350398 </td><td>-0.1324801  </td><td>-0.1219301  </td><td>-0.01885161 </td><td>-0.0325147  </td><td>-0.02767209 </td><td>-0.05499827 </td><td>-0.02905569 </td><td>0           </td></tr>\n",
       "\t<tr><td>-0.4007264  </td><td>-0.118817   </td><td>-0.005188516</td><td>-0.1165687  </td><td>-0.160671   </td><td>-0.2001038  </td><td>-0.2355586  </td><td> 0.7767209  </td><td>-0.2632307  </td><td>-0.06520235 </td><td>...         </td><td>0           </td><td>-0.07350398 </td><td>-0.1324801  </td><td>-0.1219301  </td><td>-0.01885161 </td><td>-0.0325147  </td><td>-0.02767209 </td><td>-0.05499827 </td><td>-0.02905569 </td><td>0           </td></tr>\n",
       "\t<tr><td> 0.5992736  </td><td>-0.118817   </td><td>-0.005188516</td><td>-0.1165687  </td><td>-0.160671   </td><td>-0.2001038  </td><td>-0.2355586  </td><td> 0.7767209  </td><td>-0.2632307  </td><td>-0.06520235 </td><td>...         </td><td>0           </td><td>-0.07350398 </td><td>-0.1324801  </td><td>-0.1219301  </td><td>-0.01885161 </td><td>-0.0325147  </td><td>-0.02767209 </td><td>-0.05499827 </td><td>-0.02905569 </td><td>0           </td></tr>\n",
       "\t<tr><td>-0.4007264  </td><td>-0.118817   </td><td>-0.005188516</td><td> 0.8834313  </td><td>-0.160671   </td><td>-0.2001038  </td><td>-0.2355586  </td><td>-0.2232791  </td><td> 0.7367693  </td><td>-0.06520235 </td><td>...         </td><td>0           </td><td>-0.07350398 </td><td>-0.1324801  </td><td>-0.1219301  </td><td> 0.98114839 </td><td> 0.9674853  </td><td>-0.02767209 </td><td> 0.94500173 </td><td>-0.02905569 </td><td>0           </td></tr>\n",
       "</tbody>\n",
       "</table>\n"
      ],
      "text/latex": [
       "\\begin{tabular}{r|lllllllllllllllllllllllllllllllllllllllllllllllllllllllllllllllllllllllllllllllllllllllllllllllllllllllllllllllllllllll}\n",
       " female & black & othrace & factor(dep)1 & factor(dep)2 & q2 & q3 & q4 & q5 & q6 & ... & agelt35:agegt54 & agelt35:durable & agelt35:lusd & agelt35:husd & agegt54:durable & agegt54:lusd & agegt54:husd & durable:lusd & durable:husd & lusd:husd\\\\\n",
       "\\hline\n",
       "\t -0.4007264   & -0.118817    & -0.005188516 & -0.1165687   &  0.839329    & -0.2001038   & -0.2355586   & -0.2232791   &  0.7367693   & -0.06520235  & ...          & 0            & -0.07350398  & -0.1324801   & -0.1219301   & -0.01885161  & -0.0325147   & -0.02767209  & -0.05499827  & -0.02905569  & 0           \\\\\n",
       "\t -0.4007264   & -0.118817    & -0.005188516 & -0.1165687   & -0.160671    & -0.2001038   &  0.7644414   & -0.2232791   & -0.2632307   & -0.06520235  & ...          & 0            & -0.07350398  &  0.8675199   & -0.1219301   & -0.01885161  & -0.0325147   & -0.02767209  & -0.05499827  & -0.02905569  & 0           \\\\\n",
       "\t -0.4007264   & -0.118817    & -0.005188516 & -0.1165687   & -0.160671    & -0.2001038   & -0.2355586   & -0.2232791   &  0.7367693   & -0.06520235  & ...          & 0            & -0.07350398  & -0.1324801   & -0.1219301   & -0.01885161  & -0.0325147   & -0.02767209  & -0.05499827  & -0.02905569  & 0           \\\\\n",
       "\t -0.4007264   & -0.118817    & -0.005188516 & -0.1165687   & -0.160671    & -0.2001038   & -0.2355586   &  0.7767209   & -0.2632307   & -0.06520235  & ...          & 0            & -0.07350398  & -0.1324801   & -0.1219301   & -0.01885161  & -0.0325147   & -0.02767209  & -0.05499827  & -0.02905569  & 0           \\\\\n",
       "\t  0.5992736   & -0.118817    & -0.005188516 & -0.1165687   & -0.160671    & -0.2001038   & -0.2355586   &  0.7767209   & -0.2632307   & -0.06520235  & ...          & 0            & -0.07350398  & -0.1324801   & -0.1219301   & -0.01885161  & -0.0325147   & -0.02767209  & -0.05499827  & -0.02905569  & 0           \\\\\n",
       "\t -0.4007264   & -0.118817    & -0.005188516 &  0.8834313   & -0.160671    & -0.2001038   & -0.2355586   & -0.2232791   &  0.7367693   & -0.06520235  & ...          & 0            & -0.07350398  & -0.1324801   & -0.1219301   &  0.98114839  &  0.9674853   & -0.02767209  &  0.94500173  & -0.02905569  & 0           \\\\\n",
       "\\end{tabular}\n"
      ],
      "text/markdown": [
       "\n",
       "| female | black | othrace | factor(dep)1 | factor(dep)2 | q2 | q3 | q4 | q5 | q6 | ... | agelt35:agegt54 | agelt35:durable | agelt35:lusd | agelt35:husd | agegt54:durable | agegt54:lusd | agegt54:husd | durable:lusd | durable:husd | lusd:husd |\n",
       "|---|---|---|---|---|---|---|---|---|---|---|---|---|---|---|---|---|---|---|---|---|\n",
       "| -0.4007264   | -0.118817    | -0.005188516 | -0.1165687   |  0.839329    | -0.2001038   | -0.2355586   | -0.2232791   |  0.7367693   | -0.06520235  | ...          | 0            | -0.07350398  | -0.1324801   | -0.1219301   | -0.01885161  | -0.0325147   | -0.02767209  | -0.05499827  | -0.02905569  | 0            |\n",
       "| -0.4007264   | -0.118817    | -0.005188516 | -0.1165687   | -0.160671    | -0.2001038   |  0.7644414   | -0.2232791   | -0.2632307   | -0.06520235  | ...          | 0            | -0.07350398  |  0.8675199   | -0.1219301   | -0.01885161  | -0.0325147   | -0.02767209  | -0.05499827  | -0.02905569  | 0            |\n",
       "| -0.4007264   | -0.118817    | -0.005188516 | -0.1165687   | -0.160671    | -0.2001038   | -0.2355586   | -0.2232791   |  0.7367693   | -0.06520235  | ...          | 0            | -0.07350398  | -0.1324801   | -0.1219301   | -0.01885161  | -0.0325147   | -0.02767209  | -0.05499827  | -0.02905569  | 0            |\n",
       "| -0.4007264   | -0.118817    | -0.005188516 | -0.1165687   | -0.160671    | -0.2001038   | -0.2355586   |  0.7767209   | -0.2632307   | -0.06520235  | ...          | 0            | -0.07350398  | -0.1324801   | -0.1219301   | -0.01885161  | -0.0325147   | -0.02767209  | -0.05499827  | -0.02905569  | 0            |\n",
       "|  0.5992736   | -0.118817    | -0.005188516 | -0.1165687   | -0.160671    | -0.2001038   | -0.2355586   |  0.7767209   | -0.2632307   | -0.06520235  | ...          | 0            | -0.07350398  | -0.1324801   | -0.1219301   | -0.01885161  | -0.0325147   | -0.02767209  | -0.05499827  | -0.02905569  | 0            |\n",
       "| -0.4007264   | -0.118817    | -0.005188516 |  0.8834313   | -0.160671    | -0.2001038   | -0.2355586   | -0.2232791   |  0.7367693   | -0.06520235  | ...          | 0            | -0.07350398  | -0.1324801   | -0.1219301   |  0.98114839  |  0.9674853   | -0.02767209  |  0.94500173  | -0.02905569  | 0            |\n",
       "\n"
      ],
      "text/plain": [
       "  female     black     othrace      factor(dep)1 factor(dep)2 q2        \n",
       "1 -0.4007264 -0.118817 -0.005188516 -0.1165687    0.839329    -0.2001038\n",
       "2 -0.4007264 -0.118817 -0.005188516 -0.1165687   -0.160671    -0.2001038\n",
       "3 -0.4007264 -0.118817 -0.005188516 -0.1165687   -0.160671    -0.2001038\n",
       "4 -0.4007264 -0.118817 -0.005188516 -0.1165687   -0.160671    -0.2001038\n",
       "5  0.5992736 -0.118817 -0.005188516 -0.1165687   -0.160671    -0.2001038\n",
       "6 -0.4007264 -0.118817 -0.005188516  0.8834313   -0.160671    -0.2001038\n",
       "  q3         q4         q5         q6          ... agelt35:agegt54\n",
       "1 -0.2355586 -0.2232791  0.7367693 -0.06520235 ... 0              \n",
       "2  0.7644414 -0.2232791 -0.2632307 -0.06520235 ... 0              \n",
       "3 -0.2355586 -0.2232791  0.7367693 -0.06520235 ... 0              \n",
       "4 -0.2355586  0.7767209 -0.2632307 -0.06520235 ... 0              \n",
       "5 -0.2355586  0.7767209 -0.2632307 -0.06520235 ... 0              \n",
       "6 -0.2355586 -0.2232791  0.7367693 -0.06520235 ... 0              \n",
       "  agelt35:durable agelt35:lusd agelt35:husd agegt54:durable agegt54:lusd\n",
       "1 -0.07350398     -0.1324801   -0.1219301   -0.01885161     -0.0325147  \n",
       "2 -0.07350398      0.8675199   -0.1219301   -0.01885161     -0.0325147  \n",
       "3 -0.07350398     -0.1324801   -0.1219301   -0.01885161     -0.0325147  \n",
       "4 -0.07350398     -0.1324801   -0.1219301   -0.01885161     -0.0325147  \n",
       "5 -0.07350398     -0.1324801   -0.1219301   -0.01885161     -0.0325147  \n",
       "6 -0.07350398     -0.1324801   -0.1219301    0.98114839      0.9674853  \n",
       "  agegt54:husd durable:lusd durable:husd lusd:husd\n",
       "1 -0.02767209  -0.05499827  -0.02905569  0        \n",
       "2 -0.02767209  -0.05499827  -0.02905569  0        \n",
       "3 -0.02767209  -0.05499827  -0.02905569  0        \n",
       "4 -0.02767209  -0.05499827  -0.02905569  0        \n",
       "5 -0.02767209  -0.05499827  -0.02905569  0        \n",
       "6 -0.02767209   0.94500173  -0.02905569  0        "
      ]
     },
     "metadata": {},
     "output_type": "display_data"
    }
   ],
   "source": [
    "demean<- function(x){ x - mean(x)} #create a function that demeans the variables \n",
    "X = apply(X, 2, demean) # apply it to the data base\n",
    "head(X)"
   ]
  },
  {
   "cell_type": "code",
   "execution_count": 25,
   "metadata": {
    "execution": {
     "iopub.execute_input": "2021-02-20T13:42:42.787957Z",
     "iopub.status.busy": "2021-02-20T13:42:42.787434Z",
     "iopub.status.idle": "2021-02-20T13:42:43.662431Z",
     "shell.execute_reply": "2021-02-20T13:42:43.659030Z"
    },
    "papermill": {
     "duration": 0.898452,
     "end_time": "2021-02-20T13:42:43.662684",
     "exception": false,
     "start_time": "2021-02-20T13:42:42.764232",
     "status": "completed"
    },
    "tags": []
   },
   "outputs": [
    {
     "name": "stdout",
     "output_type": "stream",
     "text": [
      "\n",
      "t test of coefficients:\n",
      "\n",
      "                               Estimate Std. Error t value  Pr(>|t|)    \n",
      "(Intercept)                   2.0556976  0.0207138 99.2430 < 2.2e-16 ***\n",
      "T2TRUE                       -0.0699044  0.0320764 -2.1793 0.0293503 *  \n",
      "Xfemale                      -0.6662823  0.4080234 -1.6330 0.1025357    \n",
      "Xblack                       -0.8634862  0.2969435 -2.9079 0.0036528 ** \n",
      "Xothrace                     -3.8176881  0.9366193 -4.0760 4.645e-05 ***\n",
      "Xfactor(dep)1                 0.0359264  0.6476816  0.0555 0.9557666    \n",
      "Xfactor(dep)2                 0.2117556  0.4512231  0.4693 0.6388790    \n",
      "Xq2                          -0.2546436  0.4553391 -0.5592 0.5760207    \n",
      "Xq3                          -0.6212326  0.4549639 -1.3655 0.1721653    \n",
      "Xq4                          -0.4799269  0.4561206 -1.0522 0.2927566    \n",
      "Xq5                          -0.3718675  0.4538882 -0.8193 0.4126542    \n",
      "Xq6                          -0.6770474  0.4521499 -1.4974 0.1343469    \n",
      "Xagelt35                     -0.6777054  0.4093673 -1.6555 0.0978805 .  \n",
      "Xagegt54                     -0.3041092  0.7006092 -0.4341 0.6642588    \n",
      "Xdurable                     -0.8380082  0.5963489 -1.4052 0.1600082    \n",
      "Xlusd                        -0.0994890  0.2279257 -0.4365 0.6624926    \n",
      "Xhusd                        -0.0626419  0.2349114 -0.2667 0.7897393    \n",
      "Xfemale:black                -0.2154799  0.1505114 -1.4317 0.1522994    \n",
      "Xfemale:othrace               0.5994387  0.5625667  1.0655 0.2866767    \n",
      "Xfemale:factor(dep)1         -0.1734245  0.1418828 -1.2223 0.2216430    \n",
      "Xfemale:factor(dep)2          0.2166417  0.1263365  1.7148 0.0864376 .  \n",
      "Xfemale:q2                    0.3918886  0.4066775  0.9636 0.3352708    \n",
      "Xfemale:q3                    0.6850391  0.4063439  1.6859 0.0918786 .  \n",
      "Xfemale:q4                    0.7213679  0.4061508  1.7761 0.0757695 .  \n",
      "Xfemale:q5                    0.5657763  0.4047829  1.3977 0.1622504    \n",
      "Xfemale:q6                    0.9081697  0.4304200  2.1100 0.0349061 *  \n",
      "Xfemale:agelt35               0.1700754  0.0950652  1.7890 0.0736628 .  \n",
      "Xfemale:agegt54               0.2357510  0.1601252  1.4723 0.1409985    \n",
      "Xfemale:durable               0.0974132  0.1376173  0.7079 0.4790645    \n",
      "Xfemale:lusd                  0.0720077  0.1065205  0.6760 0.4990695    \n",
      "Xfemale:husd                  0.0609671  0.1164456  0.5236 0.6006003    \n",
      "Xblack:factor(dep)1           0.1090114  0.2284814  0.4771 0.6333006    \n",
      "Xblack:factor(dep)2          -0.2006964  0.2284549 -0.8785 0.3797132    \n",
      "Xblack:q2                     0.4266974  0.3206741  1.3306 0.1833664    \n",
      "Xblack:q3                     0.3299448  0.3029904  1.0890 0.2762180    \n",
      "Xblack:q4                     0.5443145  0.3105213  1.7529 0.0796731 .  \n",
      "Xblack:q5                     0.6596567  0.3000532  2.1985 0.0279568 *  \n",
      "Xblack:agelt35                0.0829816  0.1583380  0.5241 0.6002448    \n",
      "Xblack:agegt54                0.4229716  0.2547482  1.6604 0.0968999 .  \n",
      "Xblack:durable                0.4681489  0.2274260  2.0585 0.0395917 *  \n",
      "Xblack:lusd                   0.3086087  0.1843460  1.6741 0.0941723 .  \n",
      "Xblack:husd                   0.5498228  0.6596114  0.8336 0.4045671    \n",
      "Xothrace:factor(dep)1         2.5201927  1.8549913  1.3586 0.1743280    \n",
      "Xothrace:factor(dep)2         1.1888567  0.5731618  2.0742 0.0381058 *  \n",
      "Xothrace:q2                   2.0825791  0.6083699  3.4232 0.0006233 ***\n",
      "Xothrace:q3                   0.9373310  0.6602083  1.4198 0.1557363    \n",
      "Xothrace:q4                   3.8597060  0.8805067  4.3835 1.189e-05 ***\n",
      "Xothrace:q5                   0.9711789  0.5525530  1.7576 0.0788668 .  \n",
      "Xothrace:agelt35              2.2479921  0.9154188  2.4557 0.0140914 *  \n",
      "Xothrace:agegt54             -4.1489603  0.4818685 -8.6102 < 2.2e-16 ***\n",
      "Xothrace:durable              1.7505609  0.3704944  4.7249 2.358e-06 ***\n",
      "Xothrace:lusd                -0.6944472  0.4952271 -1.4023 0.1608872    \n",
      "Xothrace:husd                 4.7889261  0.8179777  5.8546 5.054e-09 ***\n",
      "Xfactor(dep)1:q2              0.2338980  0.6415478  0.3646 0.7154358    \n",
      "Xfactor(dep)2:q2             -0.2176777  0.4481681 -0.4857 0.6271950    \n",
      "Xfactor(dep)1:q3              0.1543408  0.6437163  0.2398 0.8105211    \n",
      "Xfactor(dep)2:q3             -0.2544863  0.4501910 -0.5653 0.5719025    \n",
      "Xfactor(dep)1:q4             -0.0239012  0.6423016 -0.0372 0.9703174    \n",
      "Xfactor(dep)2:q4             -0.1619010  0.4510902 -0.3589 0.7196756    \n",
      "Xfactor(dep)1:q5              0.1395606  0.6382824  0.2187 0.8269306    \n",
      "Xfactor(dep)2:q5             -0.5626408  0.4488622 -1.2535 0.2100829    \n",
      "Xfactor(dep)1:q6              0.4833394  0.6803127  0.7105 0.4774445    \n",
      "Xfactor(dep)2:q6             -0.0048033  0.4773043 -0.0101 0.9919711    \n",
      "Xfactor(dep)1:agelt35         0.0507982  0.1492874  0.3403 0.7336654    \n",
      "Xfactor(dep)2:agelt35         0.1192418  0.1162344  1.0259 0.3049958    \n",
      "Xfactor(dep)1:agegt54         0.0366384  0.2054287  0.1784 0.8584540    \n",
      "Xfactor(dep)2:agegt54         0.2231138  0.4207401  0.5303 0.5959327    \n",
      "Xfactor(dep)1:durable         0.3397110  0.1841554  1.8447 0.0651345 .  \n",
      "Xfactor(dep)2:durable         0.1146589  0.1531899  0.7485 0.4542048    \n",
      "Xfactor(dep)1:lusd           -0.2603558  0.1618053 -1.6091 0.1076579    \n",
      "Xfactor(dep)2:lusd            0.1150924  0.1398792  0.8228 0.4106577    \n",
      "Xfactor(dep)1:husd           -0.0427975  0.1657611 -0.2582 0.7962714    \n",
      "Xfactor(dep)2:husd            0.0180150  0.1511058  0.1192 0.9051045    \n",
      "Xq2:agelt35                   0.5007384  0.4096962  1.2222 0.2216766    \n",
      "Xq2:agegt54                   0.4321562  0.6979014  0.6192 0.5357951    \n",
      "Xq2:durable                   0.2615077  0.5932161  0.4408 0.6593528    \n",
      "Xq2:lusd                     -0.0675213  0.2308924 -0.2924 0.7699640    \n",
      "Xq2:husd                     -0.1818392  0.2336888 -0.7781 0.4365280    \n",
      "Xq3:agelt35                   0.5137183  0.4098065  1.2536 0.2100534    \n",
      "Xq3:agegt54                   0.7245598  0.6955337  1.0417 0.2975811    \n",
      "Xq3:durable                   0.7223769  0.5918087  1.2206 0.2222794    \n",
      "Xq3:lusd                     -0.0013615  0.2301270 -0.0059 0.9952798    \n",
      "Xq3:husd                      0.0989285  0.2316105  0.4271 0.6692989    \n",
      "Xq4:agelt35                   0.4048006  0.4097478  0.9879 0.3232316    \n",
      "Xq4:agegt54                   0.2469008  0.6936661  0.3559 0.7219019    \n",
      "Xq4:durable                   0.5937668  0.5979290  0.9930 0.3207340    \n",
      "Xq4:lusd                     -0.1685841  0.2323628 -0.7255 0.4681629    \n",
      "Xq4:husd                     -0.1450618  0.2348279 -0.6177 0.5367741    \n",
      "Xq5:agelt35                   0.2160041  0.4081014  0.5293 0.5966252    \n",
      "Xq5:agegt54                   0.0996302  0.6916342  0.1441 0.8854658    \n",
      "Xq5:durable                   0.8536110  0.5903036  1.4461 0.1482182    \n",
      "Xq5:lusd                     -0.2592947  0.2340000 -1.1081 0.2678676    \n",
      "Xq5:husd                     -0.1735647  0.2316012 -0.7494 0.4536405    \n",
      "Xq6:agelt35                   0.3823616  0.4342403  0.8805 0.3786101    \n",
      "Xq6:agegt54                   0.8362035  0.7277854  1.1490 0.2506177    \n",
      "Xq6:durable                   1.0289246  0.6182369  1.6643 0.0961109 .  \n",
      "Xagelt35:durable             -0.0026919  0.1255663 -0.0214 0.9828970    \n",
      "Xagelt35:lusd                -0.0573760  0.1093093 -0.5249 0.5996765    \n",
      "Xagelt35:husd                 0.0545333  0.1255950  0.4342 0.6641603    \n",
      "Xagegt54:durable             -0.1239369  0.2073592 -0.5977 0.5500699    \n",
      "Xagegt54:lusd                 0.0912453  0.1756844  0.5194 0.6035228    \n",
      "Xagegt54:husd                -0.3145573  0.1892620 -1.6620 0.0965649 .  \n",
      "Xdurable:lusd                 0.2633733  0.1377873  1.9114 0.0559982 .  \n",
      "Xdurable:husd                 0.3137941  0.1581735  1.9839 0.0473203 *  \n",
      "T2TRUE:Xfemale               -0.6597505  0.5498974 -1.1998 0.2302796    \n",
      "T2TRUE:Xblack                 0.4525570  0.5103188  0.8868 0.3752182    \n",
      "T2TRUE:Xothrace               2.2114703  1.1019213  2.0069 0.0448061 *  \n",
      "T2TRUE:Xfactor(dep)1          0.7636025  0.7854484  0.9722 0.3309998    \n",
      "T2TRUE:Xfactor(dep)2         -0.0511656  0.7787378 -0.0657 0.9476164    \n",
      "T2TRUE:Xq2                    0.8969455  0.7369231  1.2171 0.2235988    \n",
      "T2TRUE:Xq3                    0.8962389  0.7356679  1.2183 0.2231746    \n",
      "T2TRUE:Xq4                    0.5889998  0.7360986  0.8002 0.4236497    \n",
      "T2TRUE:Xq5                    0.7173442  0.7348525  0.9762 0.3290204    \n",
      "T2TRUE:Xq6                    0.7812489  0.7433947  1.0509 0.2933405    \n",
      "T2TRUE:Xagelt35               1.1233199  0.6374193  1.7623 0.0780744 .  \n",
      "T2TRUE:Xagegt54               0.4142771  0.8713838  0.4754 0.6345031    \n",
      "T2TRUE:Xdurable               0.0698550  0.8506225  0.0821 0.9345525    \n",
      "T2TRUE:Xlusd                 -0.0864022  0.3607507 -0.2395 0.8107216    \n",
      "T2TRUE:Xhusd                  0.2845565  0.3988946  0.7134 0.4756512    \n",
      "T2TRUE:Xfemale:black         -0.2036471  0.2434209 -0.8366 0.4028505    \n",
      "T2TRUE:Xfemale:othrace       -0.9119496  0.5800698 -1.5721 0.1159753    \n",
      "T2TRUE:Xfemale:factor(dep)1   0.1813213  0.2195306  0.8260 0.4088676    \n",
      "T2TRUE:Xfemale:factor(dep)2  -0.4690337  0.1987659 -2.3597 0.0183225 *  \n",
      "T2TRUE:Xfemale:q2             0.8485381  0.5490759  1.5454 0.1223079    \n",
      "T2TRUE:Xfemale:q3             1.0429018  0.5461093  1.9097 0.0562238 .  \n",
      "T2TRUE:Xfemale:q4             0.7824923  0.5455513  1.4343 0.1515385    \n",
      "T2TRUE:Xfemale:q5             0.8993802  0.5448366  1.6507 0.0988492 .  \n",
      "T2TRUE:Xfemale:q6             0.4085802  0.6037867  0.6767 0.4986267    \n",
      "T2TRUE:Xfemale:agelt35       -0.1861481  0.1458569 -1.2762 0.2019247    \n",
      "T2TRUE:Xfemale:agegt54       -0.3821490  0.2443204 -1.5641 0.1178436    \n",
      "T2TRUE:Xfemale:durable        0.1103768  0.2146252  0.5143 0.6070787    \n",
      "T2TRUE:Xfemale:lusd           0.1060964  0.1631061  0.6505 0.5154122    \n",
      "T2TRUE:Xfemale:husd          -0.0426056  0.1785080 -0.2387 0.8113657    \n",
      "T2TRUE:Xblack:factor(dep)1    0.3636326  0.3503546  1.0379 0.2993622    \n",
      "T2TRUE:Xblack:factor(dep)2    0.4284152  0.3383550  1.2662 0.2055049    \n",
      "T2TRUE:Xblack:q2             -0.5878223  0.5288254 -1.1116 0.2663743    \n",
      "T2TRUE:Xblack:q3             -0.0624725  0.5099293 -0.1225 0.9024978    \n",
      "T2TRUE:Xblack:q4             -0.4010428  0.5365391 -0.7475 0.4548159    \n",
      "T2TRUE:Xblack:q5             -0.4358990  0.5091812 -0.8561 0.3919912    \n",
      "T2TRUE:Xblack:agelt35        -0.2159315  0.2417908 -0.8931 0.3718684    \n",
      "T2TRUE:Xblack:agegt54        -0.2617225  0.4866710 -0.5378 0.5907496    \n",
      "T2TRUE:Xblack:durable        -0.8365016  0.3504939 -2.3866 0.0170364 *  \n",
      "T2TRUE:Xblack:lusd           -0.4264666  0.2797101 -1.5247 0.1273972    \n",
      "T2TRUE:Xblack:husd           -0.1958402  0.8911158 -0.2198 0.8260586    \n",
      "T2TRUE:Xothrace:factor(dep)1  0.4788267  1.8947966  0.2527 0.8005046    \n",
      "T2TRUE:Xothrace:factor(dep)2 -4.4513573  0.7816787 -5.6946 1.300e-08 ***\n",
      "T2TRUE:Xothrace:q3           -0.7826362  0.9146199 -0.8557 0.3922029    \n",
      "T2TRUE:Xothrace:q4           -2.4173200  1.1442098 -2.1127 0.0346747 *  \n",
      "T2TRUE:Xothrace:q5            0.7621242  0.7958190  0.9577 0.3382757    \n",
      "T2TRUE:Xothrace:agelt35      -3.8313400  0.9536672 -4.0175 5.960e-05 ***\n",
      "T2TRUE:Xothrace:durable       1.5658689  0.4621869  3.3880 0.0007090 ***\n",
      "T2TRUE:Xothrace:lusd          2.0930436  0.5135607  4.0756 4.654e-05 ***\n",
      "T2TRUE:Xfactor(dep)1:q2      -0.8317599  0.7784232 -1.0685 0.2853327    \n",
      "T2TRUE:Xfactor(dep)2:q2       0.2248592  0.7780400  0.2890 0.7725866    \n",
      "T2TRUE:Xfactor(dep)1:q3      -0.8572816  0.7801263 -1.0989 0.2718587    \n",
      "T2TRUE:Xfactor(dep)2:q3       0.3587274  0.7752186  0.4627 0.6435662    \n",
      "T2TRUE:Xfactor(dep)1:q4      -0.6286109  0.7764648 -0.8096 0.4182158    \n",
      "T2TRUE:Xfactor(dep)2:q4       0.2390021  0.7743617  0.3086 0.7576038    \n",
      "T2TRUE:Xfactor(dep)1:q5      -0.8384601  0.7751714 -1.0816 0.2794571    \n",
      "T2TRUE:Xfactor(dep)2:q5       0.4285344  0.7744398  0.5533 0.5800476    \n",
      "T2TRUE:Xfactor(dep)1:q6      -1.5381912  0.8933469 -1.7218 0.0851558 .  \n",
      "T2TRUE:Xfactor(dep)2:q6       0.2846591  0.8180721  0.3480 0.7278808    \n",
      "T2TRUE:Xfactor(dep)1:agelt35 -0.0778347  0.2244666 -0.3468 0.7287894    \n",
      "T2TRUE:Xfactor(dep)2:agelt35 -0.1017136  0.1803295 -0.5640 0.5727475    \n",
      "T2TRUE:Xfactor(dep)1:agegt54 -0.2824587  0.3235870 -0.8729 0.3827557    \n",
      "T2TRUE:Xfactor(dep)2:agegt54  0.3793047  0.5714519  0.6638 0.5068738    \n",
      "T2TRUE:Xfactor(dep)1:durable -0.2185591  0.2804612 -0.7793 0.4358451    \n",
      "T2TRUE:Xfactor(dep)2:durable -0.0950789  0.2599196 -0.3658 0.7145274    \n",
      "T2TRUE:Xfactor(dep)1:lusd     0.2161153  0.2432651  0.8884 0.3743671    \n",
      "T2TRUE:Xfactor(dep)2:lusd    -0.2070793  0.2219038 -0.9332 0.3507603    \n",
      "T2TRUE:Xfactor(dep)1:husd     0.1232418  0.2679611  0.4599 0.6455885    \n",
      "T2TRUE:Xfactor(dep)2:husd     0.1579798  0.2302758  0.6860 0.4927126    \n",
      "T2TRUE:Xq2:agelt35           -1.2407550  0.6357096 -1.9518 0.0510162 .  \n",
      "T2TRUE:Xq2:agegt54           -0.6019870  0.8705629 -0.6915 0.4892853    \n",
      "T2TRUE:Xq2:durable           -0.0777795  0.8549362 -0.0910 0.9275141    \n",
      "T2TRUE:Xq2:lusd               0.0508269  0.3672375  0.1384 0.8899267    \n",
      "T2TRUE:Xq2:husd              -0.0920285  0.3948698 -0.2331 0.8157231    \n",
      "T2TRUE:Xq3:agelt35           -1.1277892  0.6355092 -1.7746 0.0760147 .  \n",
      "T2TRUE:Xq3:agegt54           -0.5411478  0.8621311 -0.6277 0.5302352    \n",
      "T2TRUE:Xq3:durable           -0.1956176  0.8552255 -0.2287 0.8190854    \n",
      "T2TRUE:Xq3:lusd              -0.0739597  0.3608164 -0.2050 0.8375961    \n",
      "T2TRUE:Xq3:husd              -0.5532059  0.3911619 -1.4143 0.1573404    \n",
      "T2TRUE:Xq4:agelt35           -0.9925752  0.6341814 -1.5651 0.1176096    \n",
      "T2TRUE:Xq4:agegt54            0.2121763  0.8521836  0.2490 0.8033857    \n",
      "T2TRUE:Xq4:durable           -0.1187895  0.8619131 -0.1378 0.8903871    \n",
      "T2TRUE:Xq4:lusd               0.3041551  0.3661447  0.8307 0.4061807    \n",
      "T2TRUE:Xq4:husd              -0.0828034  0.3925595 -0.2109 0.8329480    \n",
      "T2TRUE:Xq5:agelt35           -0.9263119  0.6327188 -1.4640 0.1432453    \n",
      "T2TRUE:Xq5:agegt54            0.2187993  0.8619978  0.2538 0.7996377    \n",
      "T2TRUE:Xq5:durable           -0.4450627  0.8517335 -0.5225 0.6013169    \n",
      "T2TRUE:Xq5:lusd               0.0895975  0.3643448  0.2459 0.8057578    \n",
      "T2TRUE:Xq5:husd              -0.2456140  0.3905347 -0.6289 0.5294291    \n",
      "T2TRUE:Xq6:agelt35           -0.7320475  0.6840109 -1.0702 0.2845631    \n",
      "T2TRUE:Xq6:agegt54           -0.4355109  0.9347111 -0.4659 0.6412830    \n",
      "T2TRUE:Xq6:durable           -0.1469333  0.9049913 -0.1624 0.8710292    \n",
      "T2TRUE:Xagelt35:durable       0.0216203  0.2005310  0.1078 0.9141460    \n",
      "T2TRUE:Xagelt35:lusd          0.0680462  0.1695485  0.4013 0.6881870    \n",
      "T2TRUE:Xagelt35:husd         -0.0587002  0.1856361 -0.3162 0.7518542    \n",
      "T2TRUE:Xagegt54:durable       0.1732194  0.3177062  0.5452 0.5856247    \n",
      "T2TRUE:Xagegt54:lusd         -0.1245325  0.2667627 -0.4668 0.6406406    \n",
      "T2TRUE:Xagegt54:husd          0.2898645  0.2960548  0.9791 0.3275776    \n",
      "T2TRUE:Xdurable:lusd          0.1281108  0.2116361  0.6053 0.5449810    \n",
      "T2TRUE:Xdurable:husd          0.0133109  0.2552493  0.0521 0.9584121    \n",
      "---\n",
      "Signif. codes:  0 '***' 0.001 '**' 0.01 '*' 0.05 '.' 0.1 ' ' 1\n",
      "\n"
     ]
    }
   ],
   "source": [
    "ols.ira_reg = lm(log(inuidur1) ~ T2*X) #interactions of all the variables with the treatment\n",
    "ols.ira= coeftest(ols.ira_reg, vcov = vcovHC(ols.ira_reg, type=\"HC1\")) # correct the EE \n",
    "print(ols.ira)"
   ]
  },
  {
   "cell_type": "code",
   "execution_count": 26,
   "metadata": {},
   "outputs": [
    {
     "data": {
      "text/html": [
       "<table>\n",
       "<thead><tr><th scope=col>(Intercept)</th><th scope=col>T2TRUE</th><th scope=col>Xfemale</th><th scope=col>Xblack</th><th scope=col>Xothrace</th><th scope=col>Xfactor(dep)1</th><th scope=col>Xfactor(dep)2</th><th scope=col>Xq2</th><th scope=col>Xq3</th><th scope=col>Xq4</th><th scope=col>...</th><th scope=col>T2TRUE:Xagelt35:agegt54</th><th scope=col>T2TRUE:Xagelt35:durable</th><th scope=col>T2TRUE:Xagelt35:lusd</th><th scope=col>T2TRUE:Xagelt35:husd</th><th scope=col>T2TRUE:Xagegt54:durable</th><th scope=col>T2TRUE:Xagegt54:lusd</th><th scope=col>T2TRUE:Xagegt54:husd</th><th scope=col>T2TRUE:Xdurable:lusd</th><th scope=col>T2TRUE:Xdurable:husd</th><th scope=col>T2TRUE:Xlusd:husd</th></tr></thead>\n",
       "<tbody>\n",
       "\t<tr><td>1           </td><td>0           </td><td>-0.4007264  </td><td>-0.118817   </td><td>-0.005188516</td><td>-0.1165687  </td><td> 0.839329   </td><td>-0.2001038  </td><td>-0.2355586  </td><td>-0.2232791  </td><td>...         </td><td>0           </td><td> 0.00000000 </td><td> 0.0000000  </td><td> 0.0000000  </td><td> 0.00000000 </td><td> 0.0000000  </td><td> 0.00000000 </td><td> 0.00000000 </td><td> 0.00000000 </td><td>0           </td></tr>\n",
       "\t<tr><td>1           </td><td>1           </td><td>-0.4007264  </td><td>-0.118817   </td><td>-0.005188516</td><td>-0.1165687  </td><td>-0.160671   </td><td>-0.2001038  </td><td> 0.7644414  </td><td>-0.2232791  </td><td>...         </td><td>0           </td><td>-0.07350398 </td><td> 0.8675199  </td><td>-0.1219301  </td><td>-0.01885161 </td><td>-0.0325147  </td><td>-0.02767209 </td><td>-0.05499827 </td><td>-0.02905569 </td><td>0           </td></tr>\n",
       "\t<tr><td>1           </td><td>0           </td><td>-0.4007264  </td><td>-0.118817   </td><td>-0.005188516</td><td>-0.1165687  </td><td>-0.160671   </td><td>-0.2001038  </td><td>-0.2355586  </td><td>-0.2232791  </td><td>...         </td><td>0           </td><td> 0.00000000 </td><td> 0.0000000  </td><td> 0.0000000  </td><td> 0.00000000 </td><td> 0.0000000  </td><td> 0.00000000 </td><td> 0.00000000 </td><td> 0.00000000 </td><td>0           </td></tr>\n",
       "\t<tr><td>1           </td><td>0           </td><td>-0.4007264  </td><td>-0.118817   </td><td>-0.005188516</td><td>-0.1165687  </td><td>-0.160671   </td><td>-0.2001038  </td><td>-0.2355586  </td><td> 0.7767209  </td><td>...         </td><td>0           </td><td> 0.00000000 </td><td> 0.0000000  </td><td> 0.0000000  </td><td> 0.00000000 </td><td> 0.0000000  </td><td> 0.00000000 </td><td> 0.00000000 </td><td> 0.00000000 </td><td>0           </td></tr>\n",
       "\t<tr><td>1           </td><td>1           </td><td> 0.5992736  </td><td>-0.118817   </td><td>-0.005188516</td><td>-0.1165687  </td><td>-0.160671   </td><td>-0.2001038  </td><td>-0.2355586  </td><td> 0.7767209  </td><td>...         </td><td>0           </td><td>-0.07350398 </td><td>-0.1324801  </td><td>-0.1219301  </td><td>-0.01885161 </td><td>-0.0325147  </td><td>-0.02767209 </td><td>-0.05499827 </td><td>-0.02905569 </td><td>0           </td></tr>\n",
       "\t<tr><td>1           </td><td>0           </td><td>-0.4007264  </td><td>-0.118817   </td><td>-0.005188516</td><td> 0.8834313  </td><td>-0.160671   </td><td>-0.2001038  </td><td>-0.2355586  </td><td>-0.2232791  </td><td>...         </td><td>0           </td><td> 0.00000000 </td><td> 0.0000000  </td><td> 0.0000000  </td><td> 0.00000000 </td><td> 0.0000000  </td><td> 0.00000000 </td><td> 0.00000000 </td><td> 0.00000000 </td><td>0           </td></tr>\n",
       "</tbody>\n",
       "</table>\n"
      ],
      "text/latex": [
       "\\begin{tabular}{r|llllllllllllllllllllllllllllllllllllllllllllllllllllllllllllllllllllllllllllllllllllllllllllllllllllllllllllllllllllllllllllllllllllllllllllllllllllllllllllllllllllllllllllllllllllllllllllllllllllllllllllllllllllllllllllllllllllllllllllllll}\n",
       " (Intercept) & T2TRUE & Xfemale & Xblack & Xothrace & Xfactor(dep)1 & Xfactor(dep)2 & Xq2 & Xq3 & Xq4 & ... & T2TRUE:Xagelt35:agegt54 & T2TRUE:Xagelt35:durable & T2TRUE:Xagelt35:lusd & T2TRUE:Xagelt35:husd & T2TRUE:Xagegt54:durable & T2TRUE:Xagegt54:lusd & T2TRUE:Xagegt54:husd & T2TRUE:Xdurable:lusd & T2TRUE:Xdurable:husd & T2TRUE:Xlusd:husd\\\\\n",
       "\\hline\n",
       "\t 1            & 0            & -0.4007264   & -0.118817    & -0.005188516 & -0.1165687   &  0.839329    & -0.2001038   & -0.2355586   & -0.2232791   & ...          & 0            &  0.00000000  &  0.0000000   &  0.0000000   &  0.00000000  &  0.0000000   &  0.00000000  &  0.00000000  &  0.00000000  & 0           \\\\\n",
       "\t 1            & 1            & -0.4007264   & -0.118817    & -0.005188516 & -0.1165687   & -0.160671    & -0.2001038   &  0.7644414   & -0.2232791   & ...          & 0            & -0.07350398  &  0.8675199   & -0.1219301   & -0.01885161  & -0.0325147   & -0.02767209  & -0.05499827  & -0.02905569  & 0           \\\\\n",
       "\t 1            & 0            & -0.4007264   & -0.118817    & -0.005188516 & -0.1165687   & -0.160671    & -0.2001038   & -0.2355586   & -0.2232791   & ...          & 0            &  0.00000000  &  0.0000000   &  0.0000000   &  0.00000000  &  0.0000000   &  0.00000000  &  0.00000000  &  0.00000000  & 0           \\\\\n",
       "\t 1            & 0            & -0.4007264   & -0.118817    & -0.005188516 & -0.1165687   & -0.160671    & -0.2001038   & -0.2355586   &  0.7767209   & ...          & 0            &  0.00000000  &  0.0000000   &  0.0000000   &  0.00000000  &  0.0000000   &  0.00000000  &  0.00000000  &  0.00000000  & 0           \\\\\n",
       "\t 1            & 1            &  0.5992736   & -0.118817    & -0.005188516 & -0.1165687   & -0.160671    & -0.2001038   & -0.2355586   &  0.7767209   & ...          & 0            & -0.07350398  & -0.1324801   & -0.1219301   & -0.01885161  & -0.0325147   & -0.02767209  & -0.05499827  & -0.02905569  & 0           \\\\\n",
       "\t 1            & 0            & -0.4007264   & -0.118817    & -0.005188516 &  0.8834313   & -0.160671    & -0.2001038   & -0.2355586   & -0.2232791   & ...          & 0            &  0.00000000  &  0.0000000   &  0.0000000   &  0.00000000  &  0.0000000   &  0.00000000  &  0.00000000  &  0.00000000  & 0           \\\\\n",
       "\\end{tabular}\n"
      ],
      "text/markdown": [
       "\n",
       "| (Intercept) | T2TRUE | Xfemale | Xblack | Xothrace | Xfactor(dep)1 | Xfactor(dep)2 | Xq2 | Xq3 | Xq4 | ... | T2TRUE:Xagelt35:agegt54 | T2TRUE:Xagelt35:durable | T2TRUE:Xagelt35:lusd | T2TRUE:Xagelt35:husd | T2TRUE:Xagegt54:durable | T2TRUE:Xagegt54:lusd | T2TRUE:Xagegt54:husd | T2TRUE:Xdurable:lusd | T2TRUE:Xdurable:husd | T2TRUE:Xlusd:husd |\n",
       "|---|---|---|---|---|---|---|---|---|---|---|---|---|---|---|---|---|---|---|---|---|\n",
       "| 1            | 0            | -0.4007264   | -0.118817    | -0.005188516 | -0.1165687   |  0.839329    | -0.2001038   | -0.2355586   | -0.2232791   | ...          | 0            |  0.00000000  |  0.0000000   |  0.0000000   |  0.00000000  |  0.0000000   |  0.00000000  |  0.00000000  |  0.00000000  | 0            |\n",
       "| 1            | 1            | -0.4007264   | -0.118817    | -0.005188516 | -0.1165687   | -0.160671    | -0.2001038   |  0.7644414   | -0.2232791   | ...          | 0            | -0.07350398  |  0.8675199   | -0.1219301   | -0.01885161  | -0.0325147   | -0.02767209  | -0.05499827  | -0.02905569  | 0            |\n",
       "| 1            | 0            | -0.4007264   | -0.118817    | -0.005188516 | -0.1165687   | -0.160671    | -0.2001038   | -0.2355586   | -0.2232791   | ...          | 0            |  0.00000000  |  0.0000000   |  0.0000000   |  0.00000000  |  0.0000000   |  0.00000000  |  0.00000000  |  0.00000000  | 0            |\n",
       "| 1            | 0            | -0.4007264   | -0.118817    | -0.005188516 | -0.1165687   | -0.160671    | -0.2001038   | -0.2355586   |  0.7767209   | ...          | 0            |  0.00000000  |  0.0000000   |  0.0000000   |  0.00000000  |  0.0000000   |  0.00000000  |  0.00000000  |  0.00000000  | 0            |\n",
       "| 1            | 1            |  0.5992736   | -0.118817    | -0.005188516 | -0.1165687   | -0.160671    | -0.2001038   | -0.2355586   |  0.7767209   | ...          | 0            | -0.07350398  | -0.1324801   | -0.1219301   | -0.01885161  | -0.0325147   | -0.02767209  | -0.05499827  | -0.02905569  | 0            |\n",
       "| 1            | 0            | -0.4007264   | -0.118817    | -0.005188516 |  0.8834313   | -0.160671    | -0.2001038   | -0.2355586   | -0.2232791   | ...          | 0            |  0.00000000  |  0.0000000   |  0.0000000   |  0.00000000  |  0.0000000   |  0.00000000  |  0.00000000  |  0.00000000  | 0            |\n",
       "\n"
      ],
      "text/plain": [
       "  (Intercept) T2TRUE Xfemale    Xblack    Xothrace     Xfactor(dep)1\n",
       "1 1           0      -0.4007264 -0.118817 -0.005188516 -0.1165687   \n",
       "2 1           1      -0.4007264 -0.118817 -0.005188516 -0.1165687   \n",
       "3 1           0      -0.4007264 -0.118817 -0.005188516 -0.1165687   \n",
       "4 1           0      -0.4007264 -0.118817 -0.005188516 -0.1165687   \n",
       "5 1           1       0.5992736 -0.118817 -0.005188516 -0.1165687   \n",
       "6 1           0      -0.4007264 -0.118817 -0.005188516  0.8834313   \n",
       "  Xfactor(dep)2 Xq2        Xq3        Xq4        ... T2TRUE:Xagelt35:agegt54\n",
       "1  0.839329     -0.2001038 -0.2355586 -0.2232791 ... 0                      \n",
       "2 -0.160671     -0.2001038  0.7644414 -0.2232791 ... 0                      \n",
       "3 -0.160671     -0.2001038 -0.2355586 -0.2232791 ... 0                      \n",
       "4 -0.160671     -0.2001038 -0.2355586  0.7767209 ... 0                      \n",
       "5 -0.160671     -0.2001038 -0.2355586  0.7767209 ... 0                      \n",
       "6 -0.160671     -0.2001038 -0.2355586 -0.2232791 ... 0                      \n",
       "  T2TRUE:Xagelt35:durable T2TRUE:Xagelt35:lusd T2TRUE:Xagelt35:husd\n",
       "1  0.00000000              0.0000000            0.0000000          \n",
       "2 -0.07350398              0.8675199           -0.1219301          \n",
       "3  0.00000000              0.0000000            0.0000000          \n",
       "4  0.00000000              0.0000000            0.0000000          \n",
       "5 -0.07350398             -0.1324801           -0.1219301          \n",
       "6  0.00000000              0.0000000            0.0000000          \n",
       "  T2TRUE:Xagegt54:durable T2TRUE:Xagegt54:lusd T2TRUE:Xagegt54:husd\n",
       "1  0.00000000              0.0000000            0.00000000         \n",
       "2 -0.01885161             -0.0325147           -0.02767209         \n",
       "3  0.00000000              0.0000000            0.00000000         \n",
       "4  0.00000000              0.0000000            0.00000000         \n",
       "5 -0.01885161             -0.0325147           -0.02767209         \n",
       "6  0.00000000              0.0000000            0.00000000         \n",
       "  T2TRUE:Xdurable:lusd T2TRUE:Xdurable:husd T2TRUE:Xlusd:husd\n",
       "1  0.00000000           0.00000000          0                \n",
       "2 -0.05499827          -0.02905569          0                \n",
       "3  0.00000000           0.00000000          0                \n",
       "4  0.00000000           0.00000000          0                \n",
       "5 -0.05499827          -0.02905569          0                \n",
       "6  0.00000000           0.00000000          0                "
      ]
     },
     "metadata": {},
     "output_type": "display_data"
    }
   ],
   "source": [
    "# get same dataframe for ols.ira\n",
    "S <- as.data.frame( model.matrix(ols.ira_reg) )\n",
    "head(S) "
   ]
  },
  {
   "cell_type": "code",
   "execution_count": 27,
   "metadata": {},
   "outputs": [],
   "source": [
    "no_col <- attributes(ols.ira_reg$coefficients)$names[is.na(ols.ira_reg$coefficients)]\n",
    "\n",
    "S1  <- S[, -which(names( S ) %in% no_col ) ]\n",
    "\n",
    "save( S1, file = \"../data/ols_ira_reg_g1.RData\")\n"
   ]
  },
  {
   "cell_type": "markdown",
   "metadata": {
    "papermill": {
     "duration": 0.030243,
     "end_time": "2021-02-20T13:42:43.724231",
     "exception": false,
     "start_time": "2021-02-20T13:42:43.693988",
     "status": "completed"
    },
    "tags": []
   },
   "source": [
    "### Interactive regression adjusment using Lasso"
   ]
  },
  {
   "cell_type": "code",
   "execution_count": 28,
   "metadata": {
    "execution": {
     "iopub.execute_input": "2021-02-20T13:42:43.774524Z",
     "iopub.status.busy": "2021-02-20T13:42:43.773643Z",
     "iopub.status.idle": "2021-02-20T13:42:45.044886Z",
     "shell.execute_reply": "2021-02-20T13:42:45.043005Z"
    },
    "papermill": {
     "duration": 1.29547,
     "end_time": "2021-02-20T13:42:45.045172",
     "exception": false,
     "start_time": "2021-02-20T13:42:43.749702",
     "status": "completed"
    },
    "tags": []
   },
   "outputs": [
    {
     "name": "stderr",
     "output_type": "stream",
     "text": [
      "Warning message:\n",
      "\"package 'hdm' was built under R version 3.6.3\""
     ]
    },
    {
     "data": {
      "text/html": [
       "<table>\n",
       "<thead><tr><th scope=col>T2</th><th scope=col>Xfemale</th><th scope=col>Xblack</th><th scope=col>Xothrace</th><th scope=col>Xfactor(dep)1</th><th scope=col>Xfactor(dep)2</th><th scope=col>Xq2</th><th scope=col>Xq3</th><th scope=col>Xq4</th><th scope=col>Xq5</th><th scope=col>...</th><th scope=col>T2:Xagelt35:agegt54</th><th scope=col>T2:Xagelt35:durable</th><th scope=col>T2:Xagelt35:lusd</th><th scope=col>T2:Xagelt35:husd</th><th scope=col>T2:Xagegt54:durable</th><th scope=col>T2:Xagegt54:lusd</th><th scope=col>T2:Xagegt54:husd</th><th scope=col>T2:Xdurable:lusd</th><th scope=col>T2:Xdurable:husd</th><th scope=col>T2:Xlusd:husd</th></tr></thead>\n",
       "<tbody>\n",
       "\t<tr><td>-0.4199239  </td><td>-0.4007264  </td><td>-0.118817   </td><td>-0.005188516</td><td>-0.1165687  </td><td> 0.839329   </td><td>-0.2001038  </td><td>-0.2355586  </td><td>-0.2232791  </td><td> 0.7367693  </td><td>...         </td><td>0           </td><td> 0.03086608 </td><td> 0.05563156 </td><td> 0.05120138 </td><td> 0.007916241</td><td> 0.0136537  </td><td> 0.01162017 </td><td> 0.02309509 </td><td> 0.01220118 </td><td>0           </td></tr>\n",
       "\t<tr><td> 0.5800761  </td><td>-0.4007264  </td><td>-0.118817   </td><td>-0.005188516</td><td>-0.1165687  </td><td>-0.160671   </td><td>-0.2001038  </td><td> 0.7644414  </td><td>-0.2232791  </td><td>-0.2632307  </td><td>...         </td><td>0           </td><td>-0.04263790 </td><td> 0.50322755 </td><td>-0.07072875 </td><td>-0.010935367</td><td>-0.0188610  </td><td>-0.01605192 </td><td>-0.03190318 </td><td>-0.01685451 </td><td>0           </td></tr>\n",
       "\t<tr><td>-0.4199239  </td><td>-0.4007264  </td><td>-0.118817   </td><td>-0.005188516</td><td>-0.1165687  </td><td>-0.160671   </td><td>-0.2001038  </td><td>-0.2355586  </td><td>-0.2232791  </td><td> 0.7367693  </td><td>...         </td><td>0           </td><td> 0.03086608 </td><td> 0.05563156 </td><td> 0.05120138 </td><td> 0.007916241</td><td> 0.0136537  </td><td> 0.01162017 </td><td> 0.02309509 </td><td> 0.01220118 </td><td>0           </td></tr>\n",
       "\t<tr><td>-0.4199239  </td><td>-0.4007264  </td><td>-0.118817   </td><td>-0.005188516</td><td>-0.1165687  </td><td>-0.160671   </td><td>-0.2001038  </td><td>-0.2355586  </td><td> 0.7767209  </td><td>-0.2632307  </td><td>...         </td><td>0           </td><td> 0.03086608 </td><td> 0.05563156 </td><td> 0.05120138 </td><td> 0.007916241</td><td> 0.0136537  </td><td> 0.01162017 </td><td> 0.02309509 </td><td> 0.01220118 </td><td>0           </td></tr>\n",
       "\t<tr><td> 0.5800761  </td><td> 0.5992736  </td><td>-0.118817   </td><td>-0.005188516</td><td>-0.1165687  </td><td>-0.160671   </td><td>-0.2001038  </td><td>-0.2355586  </td><td> 0.7767209  </td><td>-0.2632307  </td><td>...         </td><td>0           </td><td>-0.04263790 </td><td>-0.07684855 </td><td>-0.07072875 </td><td>-0.010935367</td><td>-0.0188610  </td><td>-0.01605192 </td><td>-0.03190318 </td><td>-0.01685451 </td><td>0           </td></tr>\n",
       "\t<tr><td>-0.4199239  </td><td>-0.4007264  </td><td>-0.118817   </td><td>-0.005188516</td><td> 0.8834313  </td><td>-0.160671   </td><td>-0.2001038  </td><td>-0.2355586  </td><td>-0.2232791  </td><td> 0.7367693  </td><td>...         </td><td>0           </td><td> 0.03086608 </td><td> 0.05563156 </td><td> 0.05120138 </td><td>-0.412007661</td><td>-0.4062702  </td><td> 0.01162017 </td><td>-0.39682881 </td><td> 0.01220118 </td><td>0           </td></tr>\n",
       "</tbody>\n",
       "</table>\n"
      ],
      "text/latex": [
       "\\begin{tabular}{r|lllllllllllllllllllllllllllllllllllllllllllllllllllllllllllllllllllllllllllllllllllllllllllllllllllllllllllllllllllllllllllllllllllllllllllllllllllllllllllllllllllllllllllllllllllllllllllllllllllllllllllllllllllllllllllllllllllllllllllllll}\n",
       " T2 & Xfemale & Xblack & Xothrace & Xfactor(dep)1 & Xfactor(dep)2 & Xq2 & Xq3 & Xq4 & Xq5 & ... & T2:Xagelt35:agegt54 & T2:Xagelt35:durable & T2:Xagelt35:lusd & T2:Xagelt35:husd & T2:Xagegt54:durable & T2:Xagegt54:lusd & T2:Xagegt54:husd & T2:Xdurable:lusd & T2:Xdurable:husd & T2:Xlusd:husd\\\\\n",
       "\\hline\n",
       "\t -0.4199239   & -0.4007264   & -0.118817    & -0.005188516 & -0.1165687   &  0.839329    & -0.2001038   & -0.2355586   & -0.2232791   &  0.7367693   & ...          & 0            &  0.03086608  &  0.05563156  &  0.05120138  &  0.007916241 &  0.0136537   &  0.01162017  &  0.02309509  &  0.01220118  & 0           \\\\\n",
       "\t  0.5800761   & -0.4007264   & -0.118817    & -0.005188516 & -0.1165687   & -0.160671    & -0.2001038   &  0.7644414   & -0.2232791   & -0.2632307   & ...          & 0            & -0.04263790  &  0.50322755  & -0.07072875  & -0.010935367 & -0.0188610   & -0.01605192  & -0.03190318  & -0.01685451  & 0           \\\\\n",
       "\t -0.4199239   & -0.4007264   & -0.118817    & -0.005188516 & -0.1165687   & -0.160671    & -0.2001038   & -0.2355586   & -0.2232791   &  0.7367693   & ...          & 0            &  0.03086608  &  0.05563156  &  0.05120138  &  0.007916241 &  0.0136537   &  0.01162017  &  0.02309509  &  0.01220118  & 0           \\\\\n",
       "\t -0.4199239   & -0.4007264   & -0.118817    & -0.005188516 & -0.1165687   & -0.160671    & -0.2001038   & -0.2355586   &  0.7767209   & -0.2632307   & ...          & 0            &  0.03086608  &  0.05563156  &  0.05120138  &  0.007916241 &  0.0136537   &  0.01162017  &  0.02309509  &  0.01220118  & 0           \\\\\n",
       "\t  0.5800761   &  0.5992736   & -0.118817    & -0.005188516 & -0.1165687   & -0.160671    & -0.2001038   & -0.2355586   &  0.7767209   & -0.2632307   & ...          & 0            & -0.04263790  & -0.07684855  & -0.07072875  & -0.010935367 & -0.0188610   & -0.01605192  & -0.03190318  & -0.01685451  & 0           \\\\\n",
       "\t -0.4199239   & -0.4007264   & -0.118817    & -0.005188516 &  0.8834313   & -0.160671    & -0.2001038   & -0.2355586   & -0.2232791   &  0.7367693   & ...          & 0            &  0.03086608  &  0.05563156  &  0.05120138  & -0.412007661 & -0.4062702   &  0.01162017  & -0.39682881  &  0.01220118  & 0           \\\\\n",
       "\\end{tabular}\n"
      ],
      "text/markdown": [
       "\n",
       "| T2 | Xfemale | Xblack | Xothrace | Xfactor(dep)1 | Xfactor(dep)2 | Xq2 | Xq3 | Xq4 | Xq5 | ... | T2:Xagelt35:agegt54 | T2:Xagelt35:durable | T2:Xagelt35:lusd | T2:Xagelt35:husd | T2:Xagegt54:durable | T2:Xagegt54:lusd | T2:Xagegt54:husd | T2:Xdurable:lusd | T2:Xdurable:husd | T2:Xlusd:husd |\n",
       "|---|---|---|---|---|---|---|---|---|---|---|---|---|---|---|---|---|---|---|---|---|\n",
       "| -0.4199239   | -0.4007264   | -0.118817    | -0.005188516 | -0.1165687   |  0.839329    | -0.2001038   | -0.2355586   | -0.2232791   |  0.7367693   | ...          | 0            |  0.03086608  |  0.05563156  |  0.05120138  |  0.007916241 |  0.0136537   |  0.01162017  |  0.02309509  |  0.01220118  | 0            |\n",
       "|  0.5800761   | -0.4007264   | -0.118817    | -0.005188516 | -0.1165687   | -0.160671    | -0.2001038   |  0.7644414   | -0.2232791   | -0.2632307   | ...          | 0            | -0.04263790  |  0.50322755  | -0.07072875  | -0.010935367 | -0.0188610   | -0.01605192  | -0.03190318  | -0.01685451  | 0            |\n",
       "| -0.4199239   | -0.4007264   | -0.118817    | -0.005188516 | -0.1165687   | -0.160671    | -0.2001038   | -0.2355586   | -0.2232791   |  0.7367693   | ...          | 0            |  0.03086608  |  0.05563156  |  0.05120138  |  0.007916241 |  0.0136537   |  0.01162017  |  0.02309509  |  0.01220118  | 0            |\n",
       "| -0.4199239   | -0.4007264   | -0.118817    | -0.005188516 | -0.1165687   | -0.160671    | -0.2001038   | -0.2355586   |  0.7767209   | -0.2632307   | ...          | 0            |  0.03086608  |  0.05563156  |  0.05120138  |  0.007916241 |  0.0136537   |  0.01162017  |  0.02309509  |  0.01220118  | 0            |\n",
       "|  0.5800761   |  0.5992736   | -0.118817    | -0.005188516 | -0.1165687   | -0.160671    | -0.2001038   | -0.2355586   |  0.7767209   | -0.2632307   | ...          | 0            | -0.04263790  | -0.07684855  | -0.07072875  | -0.010935367 | -0.0188610   | -0.01605192  | -0.03190318  | -0.01685451  | 0            |\n",
       "| -0.4199239   | -0.4007264   | -0.118817    | -0.005188516 |  0.8834313   | -0.160671    | -0.2001038   | -0.2355586   | -0.2232791   |  0.7367693   | ...          | 0            |  0.03086608  |  0.05563156  |  0.05120138  | -0.412007661 | -0.4062702   |  0.01162017  | -0.39682881  |  0.01220118  | 0            |\n",
       "\n"
      ],
      "text/plain": [
       "  T2         Xfemale    Xblack    Xothrace     Xfactor(dep)1 Xfactor(dep)2\n",
       "1 -0.4199239 -0.4007264 -0.118817 -0.005188516 -0.1165687     0.839329    \n",
       "2  0.5800761 -0.4007264 -0.118817 -0.005188516 -0.1165687    -0.160671    \n",
       "3 -0.4199239 -0.4007264 -0.118817 -0.005188516 -0.1165687    -0.160671    \n",
       "4 -0.4199239 -0.4007264 -0.118817 -0.005188516 -0.1165687    -0.160671    \n",
       "5  0.5800761  0.5992736 -0.118817 -0.005188516 -0.1165687    -0.160671    \n",
       "6 -0.4199239 -0.4007264 -0.118817 -0.005188516  0.8834313    -0.160671    \n",
       "  Xq2        Xq3        Xq4        Xq5        ... T2:Xagelt35:agegt54\n",
       "1 -0.2001038 -0.2355586 -0.2232791  0.7367693 ... 0                  \n",
       "2 -0.2001038  0.7644414 -0.2232791 -0.2632307 ... 0                  \n",
       "3 -0.2001038 -0.2355586 -0.2232791  0.7367693 ... 0                  \n",
       "4 -0.2001038 -0.2355586  0.7767209 -0.2632307 ... 0                  \n",
       "5 -0.2001038 -0.2355586  0.7767209 -0.2632307 ... 0                  \n",
       "6 -0.2001038 -0.2355586 -0.2232791  0.7367693 ... 0                  \n",
       "  T2:Xagelt35:durable T2:Xagelt35:lusd T2:Xagelt35:husd T2:Xagegt54:durable\n",
       "1  0.03086608          0.05563156       0.05120138       0.007916241       \n",
       "2 -0.04263790          0.50322755      -0.07072875      -0.010935367       \n",
       "3  0.03086608          0.05563156       0.05120138       0.007916241       \n",
       "4  0.03086608          0.05563156       0.05120138       0.007916241       \n",
       "5 -0.04263790         -0.07684855      -0.07072875      -0.010935367       \n",
       "6  0.03086608          0.05563156       0.05120138      -0.412007661       \n",
       "  T2:Xagegt54:lusd T2:Xagegt54:husd T2:Xdurable:lusd T2:Xdurable:husd\n",
       "1  0.0136537        0.01162017       0.02309509       0.01220118     \n",
       "2 -0.0188610       -0.01605192      -0.03190318      -0.01685451     \n",
       "3  0.0136537        0.01162017       0.02309509       0.01220118     \n",
       "4  0.0136537        0.01162017       0.02309509       0.01220118     \n",
       "5 -0.0188610       -0.01605192      -0.03190318      -0.01685451     \n",
       "6 -0.4062702        0.01162017      -0.39682881       0.01220118     \n",
       "  T2:Xlusd:husd\n",
       "1 0            \n",
       "2 0            \n",
       "3 0            \n",
       "4 0            \n",
       "5 0            \n",
       "6 0            "
      ]
     },
     "metadata": {},
     "output_type": "display_data"
    }
   ],
   "source": [
    "library(hdm)\n",
    "T2 = demean(T2)\n",
    "DX = model.matrix(~T2*X)[,-1]\n",
    "head(DX)"
   ]
  },
  {
   "cell_type": "code",
   "execution_count": 29,
   "metadata": {
    "execution": {
     "iopub.execute_input": "2021-02-20T13:42:43.774524Z",
     "iopub.status.busy": "2021-02-20T13:42:43.773643Z",
     "iopub.status.idle": "2021-02-20T13:42:45.044886Z",
     "shell.execute_reply": "2021-02-20T13:42:45.043005Z"
    },
    "papermill": {
     "duration": 1.29547,
     "end_time": "2021-02-20T13:42:45.045172",
     "exception": false,
     "start_time": "2021-02-20T13:42:43.749702",
     "status": "completed"
    },
    "tags": []
   },
   "outputs": [
    {
     "name": "stdout",
     "output_type": "stream",
     "text": [
      "[1] \"Estimates and significance testing of the effect of target variables\"\n",
      "   Estimate. Std. Error t value Pr(>|t|)  \n",
      "T2  -0.07457    0.03209  -2.324   0.0201 *\n",
      "---\n",
      "Signif. codes:  0 '***' 0.001 '**' 0.01 '*' 0.05 '.' 0.1 ' ' 1\n",
      "\n",
      "\n"
     ]
    }
   ],
   "source": [
    "rlasso.ira = summary(rlassoEffects(DX, log(inuidur1), index = 1))\n",
    "print(rlasso.ira)"
   ]
  },
  {
   "cell_type": "markdown",
   "metadata": {},
   "source": [
    "Plotting the coefficient of the treatment effect:"
   ]
  },
  {
   "cell_type": "code",
   "execution_count": 30,
   "metadata": {
    "execution": {
     "iopub.execute_input": "2021-02-20T13:42:43.774524Z",
     "iopub.status.busy": "2021-02-20T13:42:43.773643Z",
     "iopub.status.idle": "2021-02-20T13:42:45.044886Z",
     "shell.execute_reply": "2021-02-20T13:42:45.043005Z"
    },
    "papermill": {
     "duration": 1.29547,
     "end_time": "2021-02-20T13:42:45.045172",
     "exception": false,
     "start_time": "2021-02-20T13:42:43.749702",
     "status": "completed"
    },
    "scrolled": true,
    "tags": []
   },
   "outputs": [],
   "source": [
    "#plot(rlassoEffects(DX, log(inuidur1), index = 1))"
   ]
  },
  {
   "cell_type": "code",
   "execution_count": 31,
   "metadata": {},
   "outputs": [],
   "source": [
    "# getting data\n",
    "S = as.data.frame(DX)\n",
    "save( S, file = \"../data/rlasso_ira_reg_g1.RData\")"
   ]
  },
  {
   "cell_type": "markdown",
   "metadata": {
    "papermill": {
     "duration": 0.030965,
     "end_time": "2021-02-20T13:42:45.107753",
     "exception": false,
     "start_time": "2021-02-20T13:42:45.076788",
     "status": "completed"
    },
    "tags": []
   },
   "source": [
    "### Results"
   ]
  },
  {
   "cell_type": "code",
   "execution_count": 32,
   "metadata": {
    "execution": {
     "iopub.execute_input": "2021-02-20T13:42:45.214919Z",
     "iopub.status.busy": "2021-02-20T13:42:45.213709Z",
     "iopub.status.idle": "2021-02-20T13:42:45.304637Z",
     "shell.execute_reply": "2021-02-20T13:42:45.303410Z"
    },
    "papermill": {
     "duration": 0.113372,
     "end_time": "2021-02-20T13:42:45.304786",
     "exception": false,
     "start_time": "2021-02-20T13:42:45.191414",
     "status": "completed"
    },
    "tags": []
   },
   "outputs": [
    {
     "data": {
      "text/html": [
       "<table>\n",
       "<thead><tr><th></th><th scope=col>CL</th><th scope=col>CRA</th><th scope=col>IRA</th><th scope=col>IRA w Lasso</th></tr></thead>\n",
       "<tbody>\n",
       "\t<tr><th scope=row>estimate</th><td>-0.07882533</td><td>-0.07120664</td><td>-0.06990440</td><td>-0.07457328</td></tr>\n",
       "\t<tr><th scope=row>standard error</th><td> 0.03250889</td><td> 0.03204403</td><td> 0.03207638</td><td> 0.03208892</td></tr>\n",
       "</tbody>\n",
       "</table>\n"
      ],
      "text/latex": [
       "\\begin{tabular}{r|llll}\n",
       "  & CL & CRA & IRA & IRA w Lasso\\\\\n",
       "\\hline\n",
       "\testimate & -0.07882533 & -0.07120664 & -0.06990440 & -0.07457328\\\\\n",
       "\tstandard error &  0.03250889 &  0.03204403 &  0.03207638 &  0.03208892\\\\\n",
       "\\end{tabular}\n"
      ],
      "text/markdown": [
       "\n",
       "| <!--/--> | CL | CRA | IRA | IRA w Lasso |\n",
       "|---|---|---|---|---|\n",
       "| estimate | -0.07882533 | -0.07120664 | -0.06990440 | -0.07457328 |\n",
       "| standard error |  0.03250889 |  0.03204403 |  0.03207638 |  0.03208892 |\n",
       "\n"
      ],
      "text/plain": [
       "               CL          CRA         IRA         IRA w Lasso\n",
       "estimate       -0.07882533 -0.07120664 -0.06990440 -0.07457328\n",
       "standard error  0.03250889  0.03204403  0.03207638  0.03208892"
      ]
     },
     "metadata": {},
     "output_type": "display_data"
    },
    {
     "name": "stdout",
     "output_type": "stream",
     "text": [
      "% latex table generated in R 3.6.1 by xtable 1.8-4 package\n",
      "% Fri Sep 24 16:34:29 2021\n",
      "\\begin{table}[ht]\n",
      "\\centering\n",
      "\\begin{tabular}{rrrrr}\n",
      "  \\hline\n",
      " & CL & CRA & IRA & IRA w Lasso \\\\ \n",
      "  \\hline\n",
      "estimate & -0.07883 & -0.07121 & -0.06990 & -0.07457 \\\\ \n",
      "  standard error & 0.03251 & 0.03204 & 0.03208 & 0.03209 \\\\ \n",
      "   \\hline\n",
      "\\end{tabular}\n",
      "\\end{table}\n"
     ]
    }
   ],
   "source": [
    "library(xtable)\n",
    "table<- matrix(0, 2, 4)\n",
    "table[1,1]<-  ols.cl[2,1]\n",
    "table[1,2]<-  ols.cra[2,1]\n",
    "table[1,3]<-  ols.ira[2,1]\n",
    "table[1,4]<-  rlasso.ira[[1]][1]\n",
    "\n",
    "table[2,1]<-  ols.cl[2,2]\n",
    "table[2,2]<-  ols.cra[2,2]\n",
    "table[2,3]<-  ols.ira[2,2]\n",
    "table[2,4]<-  rlasso.ira[[1]][2]\n",
    "\n",
    "\n",
    "colnames(table)<- c(\"CL\",\"CRA\",\"IRA\", \"IRA w Lasso\")\n",
    "rownames(table)<- c(\"estimate\", \"standard error\")\n",
    "tab<- xtable(table, digits=5)\n",
    "tab\n",
    "\n",
    "print(tab, type=\"latex\", digits=5)"
   ]
  },
  {
   "cell_type": "markdown",
   "metadata": {
    "papermill": {
     "duration": 0.019862,
     "end_time": "2021-02-20T13:42:45.344887",
     "exception": false,
     "start_time": "2021-02-20T13:42:45.325025",
     "status": "completed"
    },
    "tags": []
   },
   "source": [
    "Treatment group 2 experiences an average decrease of about $7.3\\%$ in the length of unemployment spell (unirdui 1).\n",
    "\n",
    "\n",
    "Observe that regression estimators delivers estimates that are slighly more efficient (lower standard errors) than the simple 2 mean estimator, but essentially all methods have very similar standard errors. We also see the regression estimators offer slightly lower estimates -- these difference occur perhaps to due minor imbalance in the treatment allocation, which the regression estimators try to correct. \n",
    "\n",
    "**Thanks to IRA, we can see that there exist some statiscally detectable heterogeneity. We will analyze the following effects: T2*female, T2*black, T2*agelt35 and T2*factor(dep)1.**"
   ]
  },
  {
   "cell_type": "markdown",
   "metadata": {
    "papermill": {
     "duration": 0.019862,
     "end_time": "2021-02-20T13:42:45.344887",
     "exception": false,
     "start_time": "2021-02-20T13:42:45.325025",
     "status": "completed"
    },
    "tags": []
   },
   "source": [
    "### Plot the coefficients of a set of variables of number 3"
   ]
  },
  {
   "cell_type": "code",
   "execution_count": 33,
   "metadata": {},
   "outputs": [
    {
     "name": "stderr",
     "output_type": "stream",
     "text": [
      "Loading required package: broom\n"
     ]
    },
    {
     "data": {
      "text/html": [
       "<table>\n",
       "<thead><tr><th scope=col>term</th><th scope=col>estimate</th><th scope=col>std.error</th><th scope=col>statistic</th><th scope=col>p.value</th></tr></thead>\n",
       "<tbody>\n",
       "\t<tr><td>(Intercept)  </td><td> 2.05569765  </td><td>0.02071377   </td><td>99.24303478  </td><td>0.000000e+00 </td></tr>\n",
       "\t<tr><td>T2TRUE       </td><td>-0.06990440  </td><td>0.03207638   </td><td>-2.17931062  </td><td>2.935029e-02 </td></tr>\n",
       "\t<tr><td>Xfemale      </td><td>-0.66628233  </td><td>0.40802338   </td><td>-1.63295136  </td><td>1.025357e-01 </td></tr>\n",
       "\t<tr><td>Xblack       </td><td>-0.86348620  </td><td>0.29694353   </td><td>-2.90791384  </td><td>3.652836e-03 </td></tr>\n",
       "\t<tr><td>Xothrace     </td><td>-3.81768810  </td><td>0.93661926   </td><td>-4.07602991  </td><td>4.644776e-05 </td></tr>\n",
       "\t<tr><td>Xfactor(dep)1</td><td> 0.03592643  </td><td>0.64768162   </td><td> 0.05546927  </td><td>9.557666e-01 </td></tr>\n",
       "</tbody>\n",
       "</table>\n"
      ],
      "text/latex": [
       "\\begin{tabular}{r|lllll}\n",
       " term & estimate & std.error & statistic & p.value\\\\\n",
       "\\hline\n",
       "\t (Intercept)   &  2.05569765   & 0.02071377    & 99.24303478   & 0.000000e+00 \\\\\n",
       "\t T2TRUE        & -0.06990440   & 0.03207638    & -2.17931062   & 2.935029e-02 \\\\\n",
       "\t Xfemale       & -0.66628233   & 0.40802338    & -1.63295136   & 1.025357e-01 \\\\\n",
       "\t Xblack        & -0.86348620   & 0.29694353    & -2.90791384   & 3.652836e-03 \\\\\n",
       "\t Xothrace      & -3.81768810   & 0.93661926    & -4.07602991   & 4.644776e-05 \\\\\n",
       "\t Xfactor(dep)1 &  0.03592643   & 0.64768162    &  0.05546927   & 9.557666e-01 \\\\\n",
       "\\end{tabular}\n"
      ],
      "text/markdown": [
       "\n",
       "| term | estimate | std.error | statistic | p.value |\n",
       "|---|---|---|---|---|\n",
       "| (Intercept)   |  2.05569765   | 0.02071377    | 99.24303478   | 0.000000e+00  |\n",
       "| T2TRUE        | -0.06990440   | 0.03207638    | -2.17931062   | 2.935029e-02  |\n",
       "| Xfemale       | -0.66628233   | 0.40802338    | -1.63295136   | 1.025357e-01  |\n",
       "| Xblack        | -0.86348620   | 0.29694353    | -2.90791384   | 3.652836e-03  |\n",
       "| Xothrace      | -3.81768810   | 0.93661926    | -4.07602991   | 4.644776e-05  |\n",
       "| Xfactor(dep)1 |  0.03592643   | 0.64768162    |  0.05546927   | 9.557666e-01  |\n",
       "\n"
      ],
      "text/plain": [
       "  term          estimate    std.error  statistic   p.value     \n",
       "1 (Intercept)    2.05569765 0.02071377 99.24303478 0.000000e+00\n",
       "2 T2TRUE        -0.06990440 0.03207638 -2.17931062 2.935029e-02\n",
       "3 Xfemale       -0.66628233 0.40802338 -1.63295136 1.025357e-01\n",
       "4 Xblack        -0.86348620 0.29694353 -2.90791384 3.652836e-03\n",
       "5 Xothrace      -3.81768810 0.93661926 -4.07602991 4.644776e-05\n",
       "6 Xfactor(dep)1  0.03592643 0.64768162  0.05546927 9.557666e-01"
      ]
     },
     "metadata": {},
     "output_type": "display_data"
    }
   ],
   "source": [
    "#save the coefficients\n",
    "require(broom)    \n",
    "coef_ira <- tidy(ols.ira)\n",
    "\n",
    "head(coef_ira)"
   ]
  },
  {
   "cell_type": "code",
   "execution_count": 34,
   "metadata": {},
   "outputs": [
    {
     "data": {
      "text/html": [
       "<table>\n",
       "<thead><tr><th></th><th scope=col>T2female</th><th scope=col>T2black</th><th scope=col>T2agelt35</th><th scope=col>T2factor(dep)1</th></tr></thead>\n",
       "<tbody>\n",
       "\t<tr><th scope=row>estimate</th><td>-0.6597505</td><td>0.4525570 </td><td>1.1233199 </td><td>0.7636025 </td></tr>\n",
       "\t<tr><th scope=row>standard error</th><td> 0.5498974</td><td>0.5103188 </td><td>0.6374193 </td><td>0.7854484 </td></tr>\n",
       "</tbody>\n",
       "</table>\n"
      ],
      "text/latex": [
       "\\begin{tabular}{r|llll}\n",
       "  & T2female & T2black & T2agelt35 & T2factor(dep)1\\\\\n",
       "\\hline\n",
       "\testimate & -0.6597505 & 0.4525570  & 1.1233199  & 0.7636025 \\\\\n",
       "\tstandard error &  0.5498974 & 0.5103188  & 0.6374193  & 0.7854484 \\\\\n",
       "\\end{tabular}\n"
      ],
      "text/markdown": [
       "\n",
       "| <!--/--> | T2female | T2black | T2agelt35 | T2factor(dep)1 |\n",
       "|---|---|---|---|---|\n",
       "| estimate | -0.6597505 | 0.4525570  | 1.1233199  | 0.7636025  |\n",
       "| standard error |  0.5498974 | 0.5103188  | 0.6374193  | 0.7854484  |\n",
       "\n"
      ],
      "text/plain": [
       "               T2female   T2black   T2agelt35 T2factor(dep)1\n",
       "estimate       -0.6597505 0.4525570 1.1233199 0.7636025     \n",
       "standard error  0.5498974 0.5103188 0.6374193 0.7854484     "
      ]
     },
     "metadata": {},
     "output_type": "display_data"
    },
    {
     "name": "stdout",
     "output_type": "stream",
     "text": [
      "% latex table generated in R 3.6.1 by xtable 1.8-4 package\n",
      "% Fri Sep 24 16:34:30 2021\n",
      "\\begin{table}[ht]\n",
      "\\centering\n",
      "\\begin{tabular}{rrrrr}\n",
      "  \\hline\n",
      " & T2female & T2black & T2agelt35 & T2factor(dep)1 \\\\ \n",
      "  \\hline\n",
      "estimate & -0.6598 & 0.4526 & 1.1233 & 0.7636 \\\\ \n",
      "  standard error & 0.5499 & 0.5103 & 0.6374 & 0.7854 \\\\ \n",
      "   \\hline\n",
      "\\end{tabular}\n",
      "\\end{table}\n"
     ]
    }
   ],
   "source": [
    "#extract the ones we are interested: T2TRUE:Xfemale, T2TRUE:Xblack, T2TRUE:Xagelt35, T2TRUE:Xfactor(dep)1\n",
    "\n",
    "tablo<- matrix(0, 2, 4)\n",
    "\n",
    "tablo[1,1]<-  as.double(coef_ira[(coef_ira$term==\"T2TRUE:Xfemale\"), 2])\n",
    "tablo[1,2]<-  as.double(coef_ira[(coef_ira$term==\"T2TRUE:Xblack\"), 2])\n",
    "tablo[1,3]<-  as.double(coef_ira[(coef_ira$term==\"T2TRUE:Xagelt35\"),2])\n",
    "tablo[1,4]<-  as.double(coef_ira[(coef_ira$term==\"T2TRUE:Xfactor(dep)1\"),2])\n",
    "\n",
    "tablo[2,1]<- as.double(coef_ira[(coef_ira$term==\"T2TRUE:Xfemale\"), 3])\n",
    "tablo[2,2]<- as.double(coef_ira[(coef_ira$term==\"T2TRUE:Xblack\"), 3])\n",
    "tablo[2,3]<- as.double(coef_ira[(coef_ira$term==\"T2TRUE:Xagelt35\"),3])\n",
    "tablo[2,4]<- as.double(coef_ira[(coef_ira$term==\"T2TRUE:Xfactor(dep)1\"),3])\n",
    "\n",
    "colnames(tablo)<- c( \"T2female\", \"T2black\",\"T2agelt35\", \"T2factor(dep)1\")\n",
    "rownames(tablo)<- c(\"estimate\", \"standard error\")\n",
    "tabo<- xtable(tablo, digits=4)\n",
    "tabo\n",
    "\n",
    "print(tabo, type=\"latex\", digits=4)\n",
    "\n",
    "#summarize the values in a table"
   ]
  },
  {
   "cell_type": "code",
   "execution_count": 35,
   "metadata": {},
   "outputs": [
    {
     "data": {
      "text/html": [
       "<ol class=list-inline>\n",
       "\t<li>-0.659750468111017</li>\n",
       "\t<li>0.452556992356223</li>\n",
       "\t<li>1.12331992649115</li>\n",
       "\t<li>0.763602453067438</li>\n",
       "</ol>\n"
      ],
      "text/latex": [
       "\\begin{enumerate*}\n",
       "\\item -0.659750468111017\n",
       "\\item 0.452556992356223\n",
       "\\item 1.12331992649115\n",
       "\\item 0.763602453067438\n",
       "\\end{enumerate*}\n"
      ],
      "text/markdown": [
       "1. -0.659750468111017\n",
       "2. 0.452556992356223\n",
       "3. 1.12331992649115\n",
       "4. 0.763602453067438\n",
       "\n",
       "\n"
      ],
      "text/plain": [
       "[1] -0.6597505  0.4525570  1.1233199  0.7636025"
      ]
     },
     "metadata": {},
     "output_type": "display_data"
    },
    {
     "data": {
      "text/html": [
       "<ol class=list-inline>\n",
       "\t<li>0.54989736986261</li>\n",
       "\t<li>0.510318845720282</li>\n",
       "\t<li>0.637419250950415</li>\n",
       "\t<li>0.637419250950415</li>\n",
       "</ol>\n"
      ],
      "text/latex": [
       "\\begin{enumerate*}\n",
       "\\item 0.54989736986261\n",
       "\\item 0.510318845720282\n",
       "\\item 0.637419250950415\n",
       "\\item 0.637419250950415\n",
       "\\end{enumerate*}\n"
      ],
      "text/markdown": [
       "1. 0.54989736986261\n",
       "2. 0.510318845720282\n",
       "3. 0.637419250950415\n",
       "4. 0.637419250950415\n",
       "\n",
       "\n"
      ],
      "text/plain": [
       "[1] 0.5498974 0.5103188 0.6374193 0.6374193"
      ]
     },
     "metadata": {},
     "output_type": "display_data"
    }
   ],
   "source": [
    "coef.vect.o <- c(as.double(coef_ira[(coef_ira$term==\"T2TRUE:Xfemale\"), 2]), as.double(coef_ira[(coef_ira$term==\"T2TRUE:Xblack\"), 2]), as.double(coef_ira[(coef_ira$term==\"T2TRUE:Xagelt35\"),2]), as.double(coef_ira[(coef_ira$term==\"T2TRUE:Xfactor(dep)1\"),2]))\n",
    "coef.vect.o\n",
    "\n",
    "sd.vect.o <- c(as.double(coef_ira[(coef_ira$term==\"T2TRUE:Xfemale\"), 3]), as.double(coef_ira[(coef_ira$term==\"T2TRUE:Xblack\"), 3]), as.double(coef_ira[(coef_ira$term==\"T2TRUE:Xagelt35\"),3]), as.double(coef_ira[(coef_ira$term==\"T2TRUE:Xagelt35\"),3]))\n",
    "sd.vect.o"
   ]
  },
  {
   "cell_type": "code",
   "execution_count": 36,
   "metadata": {},
   "outputs": [
    {
     "name": "stderr",
     "output_type": "stream",
     "text": [
      "Loading required package: MASS\n",
      "Loading required package: Matrix\n",
      "Loading required package: lme4\n",
      "\n",
      "arm (Version 1.10-1, built: 2018-4-12)\n",
      "\n",
      "Working directory is C:/Users/Stephy/Documents/GitHub/ECO224/Labs/replication_3\n",
      "\n",
      "\n",
      "Attaching package: 'arm'\n",
      "\n",
      "The following object is masked from 'package:xtable':\n",
      "\n",
      "    display\n",
      "\n"
     ]
    },
    {
     "data": {
      "image/png": "[encoded data removed]",
      "text/plain": [
       "Plot with title \"IRA\""
      ]
     },
     "metadata": {},
     "output_type": "display_data"
    }
   ],
   "source": [
    "library(arm)\n",
    "longnames <- c(\"T2female\", \"T2black\",\"T2agelt35\", \"T2factor(dep)1\")\n",
    "coefplot(coef.vect.o, sd.vect.o, varnames=longnames, main=\"IRA\")"
   ]
  },
  {
   "cell_type": "markdown",
   "metadata": {},
   "source": [
    "As seen in the graph, the table show us that all 4 heteregonuos effects are not statiscally significant at 5%. Graphically, we can see that 0 does belong to the IC. However, it is worth noting that T2*agelt35 isstatiscally significant at 10%. \n",
    "\n",
    "Overall, this means that there is not enough evidence that there was a special effect for certain groups of the treated. More specifically, that there is not an special effect for the female individual, the black individuals, the individuals with less than 35 years old, and the individual with 1 dependents."
   ]
  },
  {
   "cell_type": "markdown",
   "metadata": {},
   "source": [
    "## Extra: Plot the coefficients of a set of variables of number 4 (lasso)"
   ]
  },
  {
   "cell_type": "markdown",
   "metadata": {},
   "source": [
    "First, we need to recollect the coefficients of T2*female, T2*black, T2*agelt35 and T2*factor(dep)1. For this, we need the names of the variables used:"
   ]
  },
  {
   "cell_type": "code",
   "execution_count": 37,
   "metadata": {
    "scrolled": true
   },
   "outputs": [
    {
     "data": {
      "text/html": [
       "<ol class=list-inline>\n",
       "\t<li>'T2'</li>\n",
       "\t<li>'Xfemale'</li>\n",
       "\t<li>'Xblack'</li>\n",
       "\t<li>'Xothrace'</li>\n",
       "\t<li>'Xfactor(dep)1'</li>\n",
       "\t<li>'Xfactor(dep)2'</li>\n",
       "\t<li>'Xq2'</li>\n",
       "\t<li>'Xq3'</li>\n",
       "\t<li>'Xq4'</li>\n",
       "\t<li>'Xq5'</li>\n",
       "\t<li>'Xq6'</li>\n",
       "\t<li>'Xagelt35'</li>\n",
       "\t<li>'Xagegt54'</li>\n",
       "\t<li>'Xdurable'</li>\n",
       "\t<li>'Xlusd'</li>\n",
       "\t<li>'Xhusd'</li>\n",
       "\t<li>'Xfemale:black'</li>\n",
       "\t<li>'Xfemale:othrace'</li>\n",
       "\t<li>'Xfemale:factor(dep)1'</li>\n",
       "\t<li>'Xfemale:factor(dep)2'</li>\n",
       "\t<li>'Xfemale:q2'</li>\n",
       "\t<li>'Xfemale:q3'</li>\n",
       "\t<li>'Xfemale:q4'</li>\n",
       "\t<li>'Xfemale:q5'</li>\n",
       "\t<li>'Xfemale:q6'</li>\n",
       "\t<li>'Xfemale:agelt35'</li>\n",
       "\t<li>'Xfemale:agegt54'</li>\n",
       "\t<li>'Xfemale:durable'</li>\n",
       "\t<li>'Xfemale:lusd'</li>\n",
       "\t<li>'Xfemale:husd'</li>\n",
       "\t<li>'Xblack:othrace'</li>\n",
       "\t<li>'Xblack:factor(dep)1'</li>\n",
       "\t<li>'Xblack:factor(dep)2'</li>\n",
       "\t<li>'Xblack:q2'</li>\n",
       "\t<li>'Xblack:q3'</li>\n",
       "\t<li>'Xblack:q4'</li>\n",
       "\t<li>'Xblack:q5'</li>\n",
       "\t<li>'Xblack:q6'</li>\n",
       "\t<li>'Xblack:agelt35'</li>\n",
       "\t<li>'Xblack:agegt54'</li>\n",
       "\t<li>'Xblack:durable'</li>\n",
       "\t<li>'Xblack:lusd'</li>\n",
       "\t<li>'Xblack:husd'</li>\n",
       "\t<li>'Xothrace:factor(dep)1'</li>\n",
       "\t<li>'Xothrace:factor(dep)2'</li>\n",
       "\t<li>'Xothrace:q2'</li>\n",
       "\t<li>'Xothrace:q3'</li>\n",
       "\t<li>'Xothrace:q4'</li>\n",
       "\t<li>'Xothrace:q5'</li>\n",
       "\t<li>'Xothrace:q6'</li>\n",
       "\t<li>'Xothrace:agelt35'</li>\n",
       "\t<li>'Xothrace:agegt54'</li>\n",
       "\t<li>'Xothrace:durable'</li>\n",
       "\t<li>'Xothrace:lusd'</li>\n",
       "\t<li>'Xothrace:husd'</li>\n",
       "\t<li>'Xfactor(dep)1:q2'</li>\n",
       "\t<li>'Xfactor(dep)2:q2'</li>\n",
       "\t<li>'Xfactor(dep)1:q3'</li>\n",
       "\t<li>'Xfactor(dep)2:q3'</li>\n",
       "\t<li>'Xfactor(dep)1:q4'</li>\n",
       "\t<li>'Xfactor(dep)2:q4'</li>\n",
       "\t<li>'Xfactor(dep)1:q5'</li>\n",
       "\t<li>'Xfactor(dep)2:q5'</li>\n",
       "\t<li>'Xfactor(dep)1:q6'</li>\n",
       "\t<li>'Xfactor(dep)2:q6'</li>\n",
       "\t<li>'Xfactor(dep)1:agelt35'</li>\n",
       "\t<li>'Xfactor(dep)2:agelt35'</li>\n",
       "\t<li>'Xfactor(dep)1:agegt54'</li>\n",
       "\t<li>'Xfactor(dep)2:agegt54'</li>\n",
       "\t<li>'Xfactor(dep)1:durable'</li>\n",
       "\t<li>'Xfactor(dep)2:durable'</li>\n",
       "\t<li>'Xfactor(dep)1:lusd'</li>\n",
       "\t<li>'Xfactor(dep)2:lusd'</li>\n",
       "\t<li>'Xfactor(dep)1:husd'</li>\n",
       "\t<li>'Xfactor(dep)2:husd'</li>\n",
       "\t<li>'Xq2:q3'</li>\n",
       "\t<li>'Xq2:q4'</li>\n",
       "\t<li>'Xq2:q5'</li>\n",
       "\t<li>'Xq2:q6'</li>\n",
       "\t<li>'Xq2:agelt35'</li>\n",
       "\t<li>'Xq2:agegt54'</li>\n",
       "\t<li>'Xq2:durable'</li>\n",
       "\t<li>'Xq2:lusd'</li>\n",
       "\t<li>'Xq2:husd'</li>\n",
       "\t<li>'Xq3:q4'</li>\n",
       "\t<li>'Xq3:q5'</li>\n",
       "\t<li>'Xq3:q6'</li>\n",
       "\t<li>'Xq3:agelt35'</li>\n",
       "\t<li>'Xq3:agegt54'</li>\n",
       "\t<li>'Xq3:durable'</li>\n",
       "\t<li>'Xq3:lusd'</li>\n",
       "\t<li>'Xq3:husd'</li>\n",
       "\t<li>'Xq4:q5'</li>\n",
       "\t<li>'Xq4:q6'</li>\n",
       "\t<li>'Xq4:agelt35'</li>\n",
       "\t<li>'Xq4:agegt54'</li>\n",
       "\t<li>'Xq4:durable'</li>\n",
       "\t<li>'Xq4:lusd'</li>\n",
       "\t<li>'Xq4:husd'</li>\n",
       "\t<li>'Xq5:q6'</li>\n",
       "\t<li>'Xq5:agelt35'</li>\n",
       "\t<li>'Xq5:agegt54'</li>\n",
       "\t<li>'Xq5:durable'</li>\n",
       "\t<li>'Xq5:lusd'</li>\n",
       "\t<li>'Xq5:husd'</li>\n",
       "\t<li>'Xq6:agelt35'</li>\n",
       "\t<li>'Xq6:agegt54'</li>\n",
       "\t<li>'Xq6:durable'</li>\n",
       "\t<li>'Xq6:lusd'</li>\n",
       "\t<li>'Xq6:husd'</li>\n",
       "\t<li>'Xagelt35:agegt54'</li>\n",
       "\t<li>'Xagelt35:durable'</li>\n",
       "\t<li>'Xagelt35:lusd'</li>\n",
       "\t<li>'Xagelt35:husd'</li>\n",
       "\t<li>'Xagegt54:durable'</li>\n",
       "\t<li>'Xagegt54:lusd'</li>\n",
       "\t<li>'Xagegt54:husd'</li>\n",
       "\t<li>'Xdurable:lusd'</li>\n",
       "\t<li>'Xdurable:husd'</li>\n",
       "\t<li>'Xlusd:husd'</li>\n",
       "\t<li>'T2:Xfemale'</li>\n",
       "\t<li>'T2:Xblack'</li>\n",
       "\t<li>'T2:Xothrace'</li>\n",
       "\t<li>'T2:Xfactor(dep)1'</li>\n",
       "\t<li>'T2:Xfactor(dep)2'</li>\n",
       "\t<li>'T2:Xq2'</li>\n",
       "\t<li>'T2:Xq3'</li>\n",
       "\t<li>'T2:Xq4'</li>\n",
       "\t<li>'T2:Xq5'</li>\n",
       "\t<li>'T2:Xq6'</li>\n",
       "\t<li>'T2:Xagelt35'</li>\n",
       "\t<li>'T2:Xagegt54'</li>\n",
       "\t<li>'T2:Xdurable'</li>\n",
       "\t<li>'T2:Xlusd'</li>\n",
       "\t<li>'T2:Xhusd'</li>\n",
       "\t<li>'T2:Xfemale:black'</li>\n",
       "\t<li>'T2:Xfemale:othrace'</li>\n",
       "\t<li>'T2:Xfemale:factor(dep)1'</li>\n",
       "\t<li>'T2:Xfemale:factor(dep)2'</li>\n",
       "\t<li>'T2:Xfemale:q2'</li>\n",
       "\t<li>'T2:Xfemale:q3'</li>\n",
       "\t<li>'T2:Xfemale:q4'</li>\n",
       "\t<li>'T2:Xfemale:q5'</li>\n",
       "\t<li>'T2:Xfemale:q6'</li>\n",
       "\t<li>'T2:Xfemale:agelt35'</li>\n",
       "\t<li>'T2:Xfemale:agegt54'</li>\n",
       "\t<li>'T2:Xfemale:durable'</li>\n",
       "\t<li>'T2:Xfemale:lusd'</li>\n",
       "\t<li>'T2:Xfemale:husd'</li>\n",
       "\t<li>'T2:Xblack:othrace'</li>\n",
       "\t<li>'T2:Xblack:factor(dep)1'</li>\n",
       "\t<li>'T2:Xblack:factor(dep)2'</li>\n",
       "\t<li>'T2:Xblack:q2'</li>\n",
       "\t<li>'T2:Xblack:q3'</li>\n",
       "\t<li>'T2:Xblack:q4'</li>\n",
       "\t<li>'T2:Xblack:q5'</li>\n",
       "\t<li>'T2:Xblack:q6'</li>\n",
       "\t<li>'T2:Xblack:agelt35'</li>\n",
       "\t<li>'T2:Xblack:agegt54'</li>\n",
       "\t<li>'T2:Xblack:durable'</li>\n",
       "\t<li>'T2:Xblack:lusd'</li>\n",
       "\t<li>'T2:Xblack:husd'</li>\n",
       "\t<li>'T2:Xothrace:factor(dep)1'</li>\n",
       "\t<li>'T2:Xothrace:factor(dep)2'</li>\n",
       "\t<li>'T2:Xothrace:q2'</li>\n",
       "\t<li>'T2:Xothrace:q3'</li>\n",
       "\t<li>'T2:Xothrace:q4'</li>\n",
       "\t<li>'T2:Xothrace:q5'</li>\n",
       "\t<li>'T2:Xothrace:q6'</li>\n",
       "\t<li>'T2:Xothrace:agelt35'</li>\n",
       "\t<li>'T2:Xothrace:agegt54'</li>\n",
       "\t<li>'T2:Xothrace:durable'</li>\n",
       "\t<li>'T2:Xothrace:lusd'</li>\n",
       "\t<li>'T2:Xothrace:husd'</li>\n",
       "\t<li>'T2:Xfactor(dep)1:q2'</li>\n",
       "\t<li>'T2:Xfactor(dep)2:q2'</li>\n",
       "\t<li>'T2:Xfactor(dep)1:q3'</li>\n",
       "\t<li>'T2:Xfactor(dep)2:q3'</li>\n",
       "\t<li>'T2:Xfactor(dep)1:q4'</li>\n",
       "\t<li>'T2:Xfactor(dep)2:q4'</li>\n",
       "\t<li>'T2:Xfactor(dep)1:q5'</li>\n",
       "\t<li>'T2:Xfactor(dep)2:q5'</li>\n",
       "\t<li>'T2:Xfactor(dep)1:q6'</li>\n",
       "\t<li>'T2:Xfactor(dep)2:q6'</li>\n",
       "\t<li>'T2:Xfactor(dep)1:agelt35'</li>\n",
       "\t<li>'T2:Xfactor(dep)2:agelt35'</li>\n",
       "\t<li>'T2:Xfactor(dep)1:agegt54'</li>\n",
       "\t<li>'T2:Xfactor(dep)2:agegt54'</li>\n",
       "\t<li>'T2:Xfactor(dep)1:durable'</li>\n",
       "\t<li>'T2:Xfactor(dep)2:durable'</li>\n",
       "\t<li>'T2:Xfactor(dep)1:lusd'</li>\n",
       "\t<li>'T2:Xfactor(dep)2:lusd'</li>\n",
       "\t<li>'T2:Xfactor(dep)1:husd'</li>\n",
       "\t<li>'T2:Xfactor(dep)2:husd'</li>\n",
       "\t<li>'T2:Xq2:q3'</li>\n",
       "\t<li>'T2:Xq2:q4'</li>\n",
       "\t<li>'T2:Xq2:q5'</li>\n",
       "\t<li>'T2:Xq2:q6'</li>\n",
       "\t<li>'T2:Xq2:agelt35'</li>\n",
       "\t<li>'T2:Xq2:agegt54'</li>\n",
       "\t<li>'T2:Xq2:durable'</li>\n",
       "\t<li>'T2:Xq2:lusd'</li>\n",
       "\t<li>'T2:Xq2:husd'</li>\n",
       "\t<li>'T2:Xq3:q4'</li>\n",
       "\t<li>'T2:Xq3:q5'</li>\n",
       "\t<li>'T2:Xq3:q6'</li>\n",
       "\t<li>'T2:Xq3:agelt35'</li>\n",
       "\t<li>'T2:Xq3:agegt54'</li>\n",
       "\t<li>'T2:Xq3:durable'</li>\n",
       "\t<li>'T2:Xq3:lusd'</li>\n",
       "\t<li>'T2:Xq3:husd'</li>\n",
       "\t<li>'T2:Xq4:q5'</li>\n",
       "\t<li>'T2:Xq4:q6'</li>\n",
       "\t<li>'T2:Xq4:agelt35'</li>\n",
       "\t<li>'T2:Xq4:agegt54'</li>\n",
       "\t<li>'T2:Xq4:durable'</li>\n",
       "\t<li>'T2:Xq4:lusd'</li>\n",
       "\t<li>'T2:Xq4:husd'</li>\n",
       "\t<li>'T2:Xq5:q6'</li>\n",
       "\t<li>'T2:Xq5:agelt35'</li>\n",
       "\t<li>'T2:Xq5:agegt54'</li>\n",
       "\t<li>'T2:Xq5:durable'</li>\n",
       "\t<li>'T2:Xq5:lusd'</li>\n",
       "\t<li>'T2:Xq5:husd'</li>\n",
       "\t<li>'T2:Xq6:agelt35'</li>\n",
       "\t<li>'T2:Xq6:agegt54'</li>\n",
       "\t<li>'T2:Xq6:durable'</li>\n",
       "\t<li>'T2:Xq6:lusd'</li>\n",
       "\t<li>'T2:Xq6:husd'</li>\n",
       "\t<li>'T2:Xagelt35:agegt54'</li>\n",
       "\t<li>'T2:Xagelt35:durable'</li>\n",
       "\t<li>'T2:Xagelt35:lusd'</li>\n",
       "\t<li>'T2:Xagelt35:husd'</li>\n",
       "\t<li>'T2:Xagegt54:durable'</li>\n",
       "\t<li>'T2:Xagegt54:lusd'</li>\n",
       "\t<li>'T2:Xagegt54:husd'</li>\n",
       "\t<li>'T2:Xdurable:lusd'</li>\n",
       "\t<li>'T2:Xdurable:husd'</li>\n",
       "\t<li>'T2:Xlusd:husd'</li>\n",
       "</ol>\n"
      ],
      "text/latex": [
       "\\begin{enumerate*}\n",
       "\\item 'T2'\n",
       "\\item 'Xfemale'\n",
       "\\item 'Xblack'\n",
       "\\item 'Xothrace'\n",
       "\\item 'Xfactor(dep)1'\n",
       "\\item 'Xfactor(dep)2'\n",
       "\\item 'Xq2'\n",
       "\\item 'Xq3'\n",
       "\\item 'Xq4'\n",
       "\\item 'Xq5'\n",
       "\\item 'Xq6'\n",
       "\\item 'Xagelt35'\n",
       "\\item 'Xagegt54'\n",
       "\\item 'Xdurable'\n",
       "\\item 'Xlusd'\n",
       "\\item 'Xhusd'\n",
       "\\item 'Xfemale:black'\n",
       "\\item 'Xfemale:othrace'\n",
       "\\item 'Xfemale:factor(dep)1'\n",
       "\\item 'Xfemale:factor(dep)2'\n",
       "\\item 'Xfemale:q2'\n",
       "\\item 'Xfemale:q3'\n",
       "\\item 'Xfemale:q4'\n",
       "\\item 'Xfemale:q5'\n",
       "\\item 'Xfemale:q6'\n",
       "\\item 'Xfemale:agelt35'\n",
       "\\item 'Xfemale:agegt54'\n",
       "\\item 'Xfemale:durable'\n",
       "\\item 'Xfemale:lusd'\n",
       "\\item 'Xfemale:husd'\n",
       "\\item 'Xblack:othrace'\n",
       "\\item 'Xblack:factor(dep)1'\n",
       "\\item 'Xblack:factor(dep)2'\n",
       "\\item 'Xblack:q2'\n",
       "\\item 'Xblack:q3'\n",
       "\\item 'Xblack:q4'\n",
       "\\item 'Xblack:q5'\n",
       "\\item 'Xblack:q6'\n",
       "\\item 'Xblack:agelt35'\n",
       "\\item 'Xblack:agegt54'\n",
       "\\item 'Xblack:durable'\n",
       "\\item 'Xblack:lusd'\n",
       "\\item 'Xblack:husd'\n",
       "\\item 'Xothrace:factor(dep)1'\n",
       "\\item 'Xothrace:factor(dep)2'\n",
       "\\item 'Xothrace:q2'\n",
       "\\item 'Xothrace:q3'\n",
       "\\item 'Xothrace:q4'\n",
       "\\item 'Xothrace:q5'\n",
       "\\item 'Xothrace:q6'\n",
       "\\item 'Xothrace:agelt35'\n",
       "\\item 'Xothrace:agegt54'\n",
       "\\item 'Xothrace:durable'\n",
       "\\item 'Xothrace:lusd'\n",
       "\\item 'Xothrace:husd'\n",
       "\\item 'Xfactor(dep)1:q2'\n",
       "\\item 'Xfactor(dep)2:q2'\n",
       "\\item 'Xfactor(dep)1:q3'\n",
       "\\item 'Xfactor(dep)2:q3'\n",
       "\\item 'Xfactor(dep)1:q4'\n",
       "\\item 'Xfactor(dep)2:q4'\n",
       "\\item 'Xfactor(dep)1:q5'\n",
       "\\item 'Xfactor(dep)2:q5'\n",
       "\\item 'Xfactor(dep)1:q6'\n",
       "\\item 'Xfactor(dep)2:q6'\n",
       "\\item 'Xfactor(dep)1:agelt35'\n",
       "\\item 'Xfactor(dep)2:agelt35'\n",
       "\\item 'Xfactor(dep)1:agegt54'\n",
       "\\item 'Xfactor(dep)2:agegt54'\n",
       "\\item 'Xfactor(dep)1:durable'\n",
       "\\item 'Xfactor(dep)2:durable'\n",
       "\\item 'Xfactor(dep)1:lusd'\n",
       "\\item 'Xfactor(dep)2:lusd'\n",
       "\\item 'Xfactor(dep)1:husd'\n",
       "\\item 'Xfactor(dep)2:husd'\n",
       "\\item 'Xq2:q3'\n",
       "\\item 'Xq2:q4'\n",
       "\\item 'Xq2:q5'\n",
       "\\item 'Xq2:q6'\n",
       "\\item 'Xq2:agelt35'\n",
       "\\item 'Xq2:agegt54'\n",
       "\\item 'Xq2:durable'\n",
       "\\item 'Xq2:lusd'\n",
       "\\item 'Xq2:husd'\n",
       "\\item 'Xq3:q4'\n",
       "\\item 'Xq3:q5'\n",
       "\\item 'Xq3:q6'\n",
       "\\item 'Xq3:agelt35'\n",
       "\\item 'Xq3:agegt54'\n",
       "\\item 'Xq3:durable'\n",
       "\\item 'Xq3:lusd'\n",
       "\\item 'Xq3:husd'\n",
       "\\item 'Xq4:q5'\n",
       "\\item 'Xq4:q6'\n",
       "\\item 'Xq4:agelt35'\n",
       "\\item 'Xq4:agegt54'\n",
       "\\item 'Xq4:durable'\n",
       "\\item 'Xq4:lusd'\n",
       "\\item 'Xq4:husd'\n",
       "\\item 'Xq5:q6'\n",
       "\\item 'Xq5:agelt35'\n",
       "\\item 'Xq5:agegt54'\n",
       "\\item 'Xq5:durable'\n",
       "\\item 'Xq5:lusd'\n",
       "\\item 'Xq5:husd'\n",
       "\\item 'Xq6:agelt35'\n",
       "\\item 'Xq6:agegt54'\n",
       "\\item 'Xq6:durable'\n",
       "\\item 'Xq6:lusd'\n",
       "\\item 'Xq6:husd'\n",
       "\\item 'Xagelt35:agegt54'\n",
       "\\item 'Xagelt35:durable'\n",
       "\\item 'Xagelt35:lusd'\n",
       "\\item 'Xagelt35:husd'\n",
       "\\item 'Xagegt54:durable'\n",
       "\\item 'Xagegt54:lusd'\n",
       "\\item 'Xagegt54:husd'\n",
       "\\item 'Xdurable:lusd'\n",
       "\\item 'Xdurable:husd'\n",
       "\\item 'Xlusd:husd'\n",
       "\\item 'T2:Xfemale'\n",
       "\\item 'T2:Xblack'\n",
       "\\item 'T2:Xothrace'\n",
       "\\item 'T2:Xfactor(dep)1'\n",
       "\\item 'T2:Xfactor(dep)2'\n",
       "\\item 'T2:Xq2'\n",
       "\\item 'T2:Xq3'\n",
       "\\item 'T2:Xq4'\n",
       "\\item 'T2:Xq5'\n",
       "\\item 'T2:Xq6'\n",
       "\\item 'T2:Xagelt35'\n",
       "\\item 'T2:Xagegt54'\n",
       "\\item 'T2:Xdurable'\n",
       "\\item 'T2:Xlusd'\n",
       "\\item 'T2:Xhusd'\n",
       "\\item 'T2:Xfemale:black'\n",
       "\\item 'T2:Xfemale:othrace'\n",
       "\\item 'T2:Xfemale:factor(dep)1'\n",
       "\\item 'T2:Xfemale:factor(dep)2'\n",
       "\\item 'T2:Xfemale:q2'\n",
       "\\item 'T2:Xfemale:q3'\n",
       "\\item 'T2:Xfemale:q4'\n",
       "\\item 'T2:Xfemale:q5'\n",
       "\\item 'T2:Xfemale:q6'\n",
       "\\item 'T2:Xfemale:agelt35'\n",
       "\\item 'T2:Xfemale:agegt54'\n",
       "\\item 'T2:Xfemale:durable'\n",
       "\\item 'T2:Xfemale:lusd'\n",
       "\\item 'T2:Xfemale:husd'\n",
       "\\item 'T2:Xblack:othrace'\n",
       "\\item 'T2:Xblack:factor(dep)1'\n",
       "\\item 'T2:Xblack:factor(dep)2'\n",
       "\\item 'T2:Xblack:q2'\n",
       "\\item 'T2:Xblack:q3'\n",
       "\\item 'T2:Xblack:q4'\n",
       "\\item 'T2:Xblack:q5'\n",
       "\\item 'T2:Xblack:q6'\n",
       "\\item 'T2:Xblack:agelt35'\n",
       "\\item 'T2:Xblack:agegt54'\n",
       "\\item 'T2:Xblack:durable'\n",
       "\\item 'T2:Xblack:lusd'\n",
       "\\item 'T2:Xblack:husd'\n",
       "\\item 'T2:Xothrace:factor(dep)1'\n",
       "\\item 'T2:Xothrace:factor(dep)2'\n",
       "\\item 'T2:Xothrace:q2'\n",
       "\\item 'T2:Xothrace:q3'\n",
       "\\item 'T2:Xothrace:q4'\n",
       "\\item 'T2:Xothrace:q5'\n",
       "\\item 'T2:Xothrace:q6'\n",
       "\\item 'T2:Xothrace:agelt35'\n",
       "\\item 'T2:Xothrace:agegt54'\n",
       "\\item 'T2:Xothrace:durable'\n",
       "\\item 'T2:Xothrace:lusd'\n",
       "\\item 'T2:Xothrace:husd'\n",
       "\\item 'T2:Xfactor(dep)1:q2'\n",
       "\\item 'T2:Xfactor(dep)2:q2'\n",
       "\\item 'T2:Xfactor(dep)1:q3'\n",
       "\\item 'T2:Xfactor(dep)2:q3'\n",
       "\\item 'T2:Xfactor(dep)1:q4'\n",
       "\\item 'T2:Xfactor(dep)2:q4'\n",
       "\\item 'T2:Xfactor(dep)1:q5'\n",
       "\\item 'T2:Xfactor(dep)2:q5'\n",
       "\\item 'T2:Xfactor(dep)1:q6'\n",
       "\\item 'T2:Xfactor(dep)2:q6'\n",
       "\\item 'T2:Xfactor(dep)1:agelt35'\n",
       "\\item 'T2:Xfactor(dep)2:agelt35'\n",
       "\\item 'T2:Xfactor(dep)1:agegt54'\n",
       "\\item 'T2:Xfactor(dep)2:agegt54'\n",
       "\\item 'T2:Xfactor(dep)1:durable'\n",
       "\\item 'T2:Xfactor(dep)2:durable'\n",
       "\\item 'T2:Xfactor(dep)1:lusd'\n",
       "\\item 'T2:Xfactor(dep)2:lusd'\n",
       "\\item 'T2:Xfactor(dep)1:husd'\n",
       "\\item 'T2:Xfactor(dep)2:husd'\n",
       "\\item 'T2:Xq2:q3'\n",
       "\\item 'T2:Xq2:q4'\n",
       "\\item 'T2:Xq2:q5'\n",
       "\\item 'T2:Xq2:q6'\n",
       "\\item 'T2:Xq2:agelt35'\n",
       "\\item 'T2:Xq2:agegt54'\n",
       "\\item 'T2:Xq2:durable'\n",
       "\\item 'T2:Xq2:lusd'\n",
       "\\item 'T2:Xq2:husd'\n",
       "\\item 'T2:Xq3:q4'\n",
       "\\item 'T2:Xq3:q5'\n",
       "\\item 'T2:Xq3:q6'\n",
       "\\item 'T2:Xq3:agelt35'\n",
       "\\item 'T2:Xq3:agegt54'\n",
       "\\item 'T2:Xq3:durable'\n",
       "\\item 'T2:Xq3:lusd'\n",
       "\\item 'T2:Xq3:husd'\n",
       "\\item 'T2:Xq4:q5'\n",
       "\\item 'T2:Xq4:q6'\n",
       "\\item 'T2:Xq4:agelt35'\n",
       "\\item 'T2:Xq4:agegt54'\n",
       "\\item 'T2:Xq4:durable'\n",
       "\\item 'T2:Xq4:lusd'\n",
       "\\item 'T2:Xq4:husd'\n",
       "\\item 'T2:Xq5:q6'\n",
       "\\item 'T2:Xq5:agelt35'\n",
       "\\item 'T2:Xq5:agegt54'\n",
       "\\item 'T2:Xq5:durable'\n",
       "\\item 'T2:Xq5:lusd'\n",
       "\\item 'T2:Xq5:husd'\n",
       "\\item 'T2:Xq6:agelt35'\n",
       "\\item 'T2:Xq6:agegt54'\n",
       "\\item 'T2:Xq6:durable'\n",
       "\\item 'T2:Xq6:lusd'\n",
       "\\item 'T2:Xq6:husd'\n",
       "\\item 'T2:Xagelt35:agegt54'\n",
       "\\item 'T2:Xagelt35:durable'\n",
       "\\item 'T2:Xagelt35:lusd'\n",
       "\\item 'T2:Xagelt35:husd'\n",
       "\\item 'T2:Xagegt54:durable'\n",
       "\\item 'T2:Xagegt54:lusd'\n",
       "\\item 'T2:Xagegt54:husd'\n",
       "\\item 'T2:Xdurable:lusd'\n",
       "\\item 'T2:Xdurable:husd'\n",
       "\\item 'T2:Xlusd:husd'\n",
       "\\end{enumerate*}\n"
      ],
      "text/markdown": [
       "1. 'T2'\n",
       "2. 'Xfemale'\n",
       "3. 'Xblack'\n",
       "4. 'Xothrace'\n",
       "5. 'Xfactor(dep)1'\n",
       "6. 'Xfactor(dep)2'\n",
       "7. 'Xq2'\n",
       "8. 'Xq3'\n",
       "9. 'Xq4'\n",
       "10. 'Xq5'\n",
       "11. 'Xq6'\n",
       "12. 'Xagelt35'\n",
       "13. 'Xagegt54'\n",
       "14. 'Xdurable'\n",
       "15. 'Xlusd'\n",
       "16. 'Xhusd'\n",
       "17. 'Xfemale:black'\n",
       "18. 'Xfemale:othrace'\n",
       "19. 'Xfemale:factor(dep)1'\n",
       "20. 'Xfemale:factor(dep)2'\n",
       "21. 'Xfemale:q2'\n",
       "22. 'Xfemale:q3'\n",
       "23. 'Xfemale:q4'\n",
       "24. 'Xfemale:q5'\n",
       "25. 'Xfemale:q6'\n",
       "26. 'Xfemale:agelt35'\n",
       "27. 'Xfemale:agegt54'\n",
       "28. 'Xfemale:durable'\n",
       "29. 'Xfemale:lusd'\n",
       "30. 'Xfemale:husd'\n",
       "31. 'Xblack:othrace'\n",
       "32. 'Xblack:factor(dep)1'\n",
       "33. 'Xblack:factor(dep)2'\n",
       "34. 'Xblack:q2'\n",
       "35. 'Xblack:q3'\n",
       "36. 'Xblack:q4'\n",
       "37. 'Xblack:q5'\n",
       "38. 'Xblack:q6'\n",
       "39. 'Xblack:agelt35'\n",
       "40. 'Xblack:agegt54'\n",
       "41. 'Xblack:durable'\n",
       "42. 'Xblack:lusd'\n",
       "43. 'Xblack:husd'\n",
       "44. 'Xothrace:factor(dep)1'\n",
       "45. 'Xothrace:factor(dep)2'\n",
       "46. 'Xothrace:q2'\n",
       "47. 'Xothrace:q3'\n",
       "48. 'Xothrace:q4'\n",
       "49. 'Xothrace:q5'\n",
       "50. 'Xothrace:q6'\n",
       "51. 'Xothrace:agelt35'\n",
       "52. 'Xothrace:agegt54'\n",
       "53. 'Xothrace:durable'\n",
       "54. 'Xothrace:lusd'\n",
       "55. 'Xothrace:husd'\n",
       "56. 'Xfactor(dep)1:q2'\n",
       "57. 'Xfactor(dep)2:q2'\n",
       "58. 'Xfactor(dep)1:q3'\n",
       "59. 'Xfactor(dep)2:q3'\n",
       "60. 'Xfactor(dep)1:q4'\n",
       "61. 'Xfactor(dep)2:q4'\n",
       "62. 'Xfactor(dep)1:q5'\n",
       "63. 'Xfactor(dep)2:q5'\n",
       "64. 'Xfactor(dep)1:q6'\n",
       "65. 'Xfactor(dep)2:q6'\n",
       "66. 'Xfactor(dep)1:agelt35'\n",
       "67. 'Xfactor(dep)2:agelt35'\n",
       "68. 'Xfactor(dep)1:agegt54'\n",
       "69. 'Xfactor(dep)2:agegt54'\n",
       "70. 'Xfactor(dep)1:durable'\n",
       "71. 'Xfactor(dep)2:durable'\n",
       "72. 'Xfactor(dep)1:lusd'\n",
       "73. 'Xfactor(dep)2:lusd'\n",
       "74. 'Xfactor(dep)1:husd'\n",
       "75. 'Xfactor(dep)2:husd'\n",
       "76. 'Xq2:q3'\n",
       "77. 'Xq2:q4'\n",
       "78. 'Xq2:q5'\n",
       "79. 'Xq2:q6'\n",
       "80. 'Xq2:agelt35'\n",
       "81. 'Xq2:agegt54'\n",
       "82. 'Xq2:durable'\n",
       "83. 'Xq2:lusd'\n",
       "84. 'Xq2:husd'\n",
       "85. 'Xq3:q4'\n",
       "86. 'Xq3:q5'\n",
       "87. 'Xq3:q6'\n",
       "88. 'Xq3:agelt35'\n",
       "89. 'Xq3:agegt54'\n",
       "90. 'Xq3:durable'\n",
       "91. 'Xq3:lusd'\n",
       "92. 'Xq3:husd'\n",
       "93. 'Xq4:q5'\n",
       "94. 'Xq4:q6'\n",
       "95. 'Xq4:agelt35'\n",
       "96. 'Xq4:agegt54'\n",
       "97. 'Xq4:durable'\n",
       "98. 'Xq4:lusd'\n",
       "99. 'Xq4:husd'\n",
       "100. 'Xq5:q6'\n",
       "101. 'Xq5:agelt35'\n",
       "102. 'Xq5:agegt54'\n",
       "103. 'Xq5:durable'\n",
       "104. 'Xq5:lusd'\n",
       "105. 'Xq5:husd'\n",
       "106. 'Xq6:agelt35'\n",
       "107. 'Xq6:agegt54'\n",
       "108. 'Xq6:durable'\n",
       "109. 'Xq6:lusd'\n",
       "110. 'Xq6:husd'\n",
       "111. 'Xagelt35:agegt54'\n",
       "112. 'Xagelt35:durable'\n",
       "113. 'Xagelt35:lusd'\n",
       "114. 'Xagelt35:husd'\n",
       "115. 'Xagegt54:durable'\n",
       "116. 'Xagegt54:lusd'\n",
       "117. 'Xagegt54:husd'\n",
       "118. 'Xdurable:lusd'\n",
       "119. 'Xdurable:husd'\n",
       "120. 'Xlusd:husd'\n",
       "121. 'T2:Xfemale'\n",
       "122. 'T2:Xblack'\n",
       "123. 'T2:Xothrace'\n",
       "124. 'T2:Xfactor(dep)1'\n",
       "125. 'T2:Xfactor(dep)2'\n",
       "126. 'T2:Xq2'\n",
       "127. 'T2:Xq3'\n",
       "128. 'T2:Xq4'\n",
       "129. 'T2:Xq5'\n",
       "130. 'T2:Xq6'\n",
       "131. 'T2:Xagelt35'\n",
       "132. 'T2:Xagegt54'\n",
       "133. 'T2:Xdurable'\n",
       "134. 'T2:Xlusd'\n",
       "135. 'T2:Xhusd'\n",
       "136. 'T2:Xfemale:black'\n",
       "137. 'T2:Xfemale:othrace'\n",
       "138. 'T2:Xfemale:factor(dep)1'\n",
       "139. 'T2:Xfemale:factor(dep)2'\n",
       "140. 'T2:Xfemale:q2'\n",
       "141. 'T2:Xfemale:q3'\n",
       "142. 'T2:Xfemale:q4'\n",
       "143. 'T2:Xfemale:q5'\n",
       "144. 'T2:Xfemale:q6'\n",
       "145. 'T2:Xfemale:agelt35'\n",
       "146. 'T2:Xfemale:agegt54'\n",
       "147. 'T2:Xfemale:durable'\n",
       "148. 'T2:Xfemale:lusd'\n",
       "149. 'T2:Xfemale:husd'\n",
       "150. 'T2:Xblack:othrace'\n",
       "151. 'T2:Xblack:factor(dep)1'\n",
       "152. 'T2:Xblack:factor(dep)2'\n",
       "153. 'T2:Xblack:q2'\n",
       "154. 'T2:Xblack:q3'\n",
       "155. 'T2:Xblack:q4'\n",
       "156. 'T2:Xblack:q5'\n",
       "157. 'T2:Xblack:q6'\n",
       "158. 'T2:Xblack:agelt35'\n",
       "159. 'T2:Xblack:agegt54'\n",
       "160. 'T2:Xblack:durable'\n",
       "161. 'T2:Xblack:lusd'\n",
       "162. 'T2:Xblack:husd'\n",
       "163. 'T2:Xothrace:factor(dep)1'\n",
       "164. 'T2:Xothrace:factor(dep)2'\n",
       "165. 'T2:Xothrace:q2'\n",
       "166. 'T2:Xothrace:q3'\n",
       "167. 'T2:Xothrace:q4'\n",
       "168. 'T2:Xothrace:q5'\n",
       "169. 'T2:Xothrace:q6'\n",
       "170. 'T2:Xothrace:agelt35'\n",
       "171. 'T2:Xothrace:agegt54'\n",
       "172. 'T2:Xothrace:durable'\n",
       "173. 'T2:Xothrace:lusd'\n",
       "174. 'T2:Xothrace:husd'\n",
       "175. 'T2:Xfactor(dep)1:q2'\n",
       "176. 'T2:Xfactor(dep)2:q2'\n",
       "177. 'T2:Xfactor(dep)1:q3'\n",
       "178. 'T2:Xfactor(dep)2:q3'\n",
       "179. 'T2:Xfactor(dep)1:q4'\n",
       "180. 'T2:Xfactor(dep)2:q4'\n",
       "181. 'T2:Xfactor(dep)1:q5'\n",
       "182. 'T2:Xfactor(dep)2:q5'\n",
       "183. 'T2:Xfactor(dep)1:q6'\n",
       "184. 'T2:Xfactor(dep)2:q6'\n",
       "185. 'T2:Xfactor(dep)1:agelt35'\n",
       "186. 'T2:Xfactor(dep)2:agelt35'\n",
       "187. 'T2:Xfactor(dep)1:agegt54'\n",
       "188. 'T2:Xfactor(dep)2:agegt54'\n",
       "189. 'T2:Xfactor(dep)1:durable'\n",
       "190. 'T2:Xfactor(dep)2:durable'\n",
       "191. 'T2:Xfactor(dep)1:lusd'\n",
       "192. 'T2:Xfactor(dep)2:lusd'\n",
       "193. 'T2:Xfactor(dep)1:husd'\n",
       "194. 'T2:Xfactor(dep)2:husd'\n",
       "195. 'T2:Xq2:q3'\n",
       "196. 'T2:Xq2:q4'\n",
       "197. 'T2:Xq2:q5'\n",
       "198. 'T2:Xq2:q6'\n",
       "199. 'T2:Xq2:agelt35'\n",
       "200. 'T2:Xq2:agegt54'\n",
       "201. 'T2:Xq2:durable'\n",
       "202. 'T2:Xq2:lusd'\n",
       "203. 'T2:Xq2:husd'\n",
       "204. 'T2:Xq3:q4'\n",
       "205. 'T2:Xq3:q5'\n",
       "206. 'T2:Xq3:q6'\n",
       "207. 'T2:Xq3:agelt35'\n",
       "208. 'T2:Xq3:agegt54'\n",
       "209. 'T2:Xq3:durable'\n",
       "210. 'T2:Xq3:lusd'\n",
       "211. 'T2:Xq3:husd'\n",
       "212. 'T2:Xq4:q5'\n",
       "213. 'T2:Xq4:q6'\n",
       "214. 'T2:Xq4:agelt35'\n",
       "215. 'T2:Xq4:agegt54'\n",
       "216. 'T2:Xq4:durable'\n",
       "217. 'T2:Xq4:lusd'\n",
       "218. 'T2:Xq4:husd'\n",
       "219. 'T2:Xq5:q6'\n",
       "220. 'T2:Xq5:agelt35'\n",
       "221. 'T2:Xq5:agegt54'\n",
       "222. 'T2:Xq5:durable'\n",
       "223. 'T2:Xq5:lusd'\n",
       "224. 'T2:Xq5:husd'\n",
       "225. 'T2:Xq6:agelt35'\n",
       "226. 'T2:Xq6:agegt54'\n",
       "227. 'T2:Xq6:durable'\n",
       "228. 'T2:Xq6:lusd'\n",
       "229. 'T2:Xq6:husd'\n",
       "230. 'T2:Xagelt35:agegt54'\n",
       "231. 'T2:Xagelt35:durable'\n",
       "232. 'T2:Xagelt35:lusd'\n",
       "233. 'T2:Xagelt35:husd'\n",
       "234. 'T2:Xagegt54:durable'\n",
       "235. 'T2:Xagegt54:lusd'\n",
       "236. 'T2:Xagegt54:husd'\n",
       "237. 'T2:Xdurable:lusd'\n",
       "238. 'T2:Xdurable:husd'\n",
       "239. 'T2:Xlusd:husd'\n",
       "\n",
       "\n"
      ],
      "text/plain": [
       "  [1] \"T2\"                       \"Xfemale\"                 \n",
       "  [3] \"Xblack\"                   \"Xothrace\"                \n",
       "  [5] \"Xfactor(dep)1\"            \"Xfactor(dep)2\"           \n",
       "  [7] \"Xq2\"                      \"Xq3\"                     \n",
       "  [9] \"Xq4\"                      \"Xq5\"                     \n",
       " [11] \"Xq6\"                      \"Xagelt35\"                \n",
       " [13] \"Xagegt54\"                 \"Xdurable\"                \n",
       " [15] \"Xlusd\"                    \"Xhusd\"                   \n",
       " [17] \"Xfemale:black\"            \"Xfemale:othrace\"         \n",
       " [19] \"Xfemale:factor(dep)1\"     \"Xfemale:factor(dep)2\"    \n",
       " [21] \"Xfemale:q2\"               \"Xfemale:q3\"              \n",
       " [23] \"Xfemale:q4\"               \"Xfemale:q5\"              \n",
       " [25] \"Xfemale:q6\"               \"Xfemale:agelt35\"         \n",
       " [27] \"Xfemale:agegt54\"          \"Xfemale:durable\"         \n",
       " [29] \"Xfemale:lusd\"             \"Xfemale:husd\"            \n",
       " [31] \"Xblack:othrace\"           \"Xblack:factor(dep)1\"     \n",
       " [33] \"Xblack:factor(dep)2\"      \"Xblack:q2\"               \n",
       " [35] \"Xblack:q3\"                \"Xblack:q4\"               \n",
       " [37] \"Xblack:q5\"                \"Xblack:q6\"               \n",
       " [39] \"Xblack:agelt35\"           \"Xblack:agegt54\"          \n",
       " [41] \"Xblack:durable\"           \"Xblack:lusd\"             \n",
       " [43] \"Xblack:husd\"              \"Xothrace:factor(dep)1\"   \n",
       " [45] \"Xothrace:factor(dep)2\"    \"Xothrace:q2\"             \n",
       " [47] \"Xothrace:q3\"              \"Xothrace:q4\"             \n",
       " [49] \"Xothrace:q5\"              \"Xothrace:q6\"             \n",
       " [51] \"Xothrace:agelt35\"         \"Xothrace:agegt54\"        \n",
       " [53] \"Xothrace:durable\"         \"Xothrace:lusd\"           \n",
       " [55] \"Xothrace:husd\"            \"Xfactor(dep)1:q2\"        \n",
       " [57] \"Xfactor(dep)2:q2\"         \"Xfactor(dep)1:q3\"        \n",
       " [59] \"Xfactor(dep)2:q3\"         \"Xfactor(dep)1:q4\"        \n",
       " [61] \"Xfactor(dep)2:q4\"         \"Xfactor(dep)1:q5\"        \n",
       " [63] \"Xfactor(dep)2:q5\"         \"Xfactor(dep)1:q6\"        \n",
       " [65] \"Xfactor(dep)2:q6\"         \"Xfactor(dep)1:agelt35\"   \n",
       " [67] \"Xfactor(dep)2:agelt35\"    \"Xfactor(dep)1:agegt54\"   \n",
       " [69] \"Xfactor(dep)2:agegt54\"    \"Xfactor(dep)1:durable\"   \n",
       " [71] \"Xfactor(dep)2:durable\"    \"Xfactor(dep)1:lusd\"      \n",
       " [73] \"Xfactor(dep)2:lusd\"       \"Xfactor(dep)1:husd\"      \n",
       " [75] \"Xfactor(dep)2:husd\"       \"Xq2:q3\"                  \n",
       " [77] \"Xq2:q4\"                   \"Xq2:q5\"                  \n",
       " [79] \"Xq2:q6\"                   \"Xq2:agelt35\"             \n",
       " [81] \"Xq2:agegt54\"              \"Xq2:durable\"             \n",
       " [83] \"Xq2:lusd\"                 \"Xq2:husd\"                \n",
       " [85] \"Xq3:q4\"                   \"Xq3:q5\"                  \n",
       " [87] \"Xq3:q6\"                   \"Xq3:agelt35\"             \n",
       " [89] \"Xq3:agegt54\"              \"Xq3:durable\"             \n",
       " [91] \"Xq3:lusd\"                 \"Xq3:husd\"                \n",
       " [93] \"Xq4:q5\"                   \"Xq4:q6\"                  \n",
       " [95] \"Xq4:agelt35\"              \"Xq4:agegt54\"             \n",
       " [97] \"Xq4:durable\"              \"Xq4:lusd\"                \n",
       " [99] \"Xq4:husd\"                 \"Xq5:q6\"                  \n",
       "[101] \"Xq5:agelt35\"              \"Xq5:agegt54\"             \n",
       "[103] \"Xq5:durable\"              \"Xq5:lusd\"                \n",
       "[105] \"Xq5:husd\"                 \"Xq6:agelt35\"             \n",
       "[107] \"Xq6:agegt54\"              \"Xq6:durable\"             \n",
       "[109] \"Xq6:lusd\"                 \"Xq6:husd\"                \n",
       "[111] \"Xagelt35:agegt54\"         \"Xagelt35:durable\"        \n",
       "[113] \"Xagelt35:lusd\"            \"Xagelt35:husd\"           \n",
       "[115] \"Xagegt54:durable\"         \"Xagegt54:lusd\"           \n",
       "[117] \"Xagegt54:husd\"            \"Xdurable:lusd\"           \n",
       "[119] \"Xdurable:husd\"            \"Xlusd:husd\"              \n",
       "[121] \"T2:Xfemale\"               \"T2:Xblack\"               \n",
       "[123] \"T2:Xothrace\"              \"T2:Xfactor(dep)1\"        \n",
       "[125] \"T2:Xfactor(dep)2\"         \"T2:Xq2\"                  \n",
       "[127] \"T2:Xq3\"                   \"T2:Xq4\"                  \n",
       "[129] \"T2:Xq5\"                   \"T2:Xq6\"                  \n",
       "[131] \"T2:Xagelt35\"              \"T2:Xagegt54\"             \n",
       "[133] \"T2:Xdurable\"              \"T2:Xlusd\"                \n",
       "[135] \"T2:Xhusd\"                 \"T2:Xfemale:black\"        \n",
       "[137] \"T2:Xfemale:othrace\"       \"T2:Xfemale:factor(dep)1\" \n",
       "[139] \"T2:Xfemale:factor(dep)2\"  \"T2:Xfemale:q2\"           \n",
       "[141] \"T2:Xfemale:q3\"            \"T2:Xfemale:q4\"           \n",
       "[143] \"T2:Xfemale:q5\"            \"T2:Xfemale:q6\"           \n",
       "[145] \"T2:Xfemale:agelt35\"       \"T2:Xfemale:agegt54\"      \n",
       "[147] \"T2:Xfemale:durable\"       \"T2:Xfemale:lusd\"         \n",
       "[149] \"T2:Xfemale:husd\"          \"T2:Xblack:othrace\"       \n",
       "[151] \"T2:Xblack:factor(dep)1\"   \"T2:Xblack:factor(dep)2\"  \n",
       "[153] \"T2:Xblack:q2\"             \"T2:Xblack:q3\"            \n",
       "[155] \"T2:Xblack:q4\"             \"T2:Xblack:q5\"            \n",
       "[157] \"T2:Xblack:q6\"             \"T2:Xblack:agelt35\"       \n",
       "[159] \"T2:Xblack:agegt54\"        \"T2:Xblack:durable\"       \n",
       "[161] \"T2:Xblack:lusd\"           \"T2:Xblack:husd\"          \n",
       "[163] \"T2:Xothrace:factor(dep)1\" \"T2:Xothrace:factor(dep)2\"\n",
       "[165] \"T2:Xothrace:q2\"           \"T2:Xothrace:q3\"          \n",
       "[167] \"T2:Xothrace:q4\"           \"T2:Xothrace:q5\"          \n",
       "[169] \"T2:Xothrace:q6\"           \"T2:Xothrace:agelt35\"     \n",
       "[171] \"T2:Xothrace:agegt54\"      \"T2:Xothrace:durable\"     \n",
       "[173] \"T2:Xothrace:lusd\"         \"T2:Xothrace:husd\"        \n",
       "[175] \"T2:Xfactor(dep)1:q2\"      \"T2:Xfactor(dep)2:q2\"     \n",
       "[177] \"T2:Xfactor(dep)1:q3\"      \"T2:Xfactor(dep)2:q3\"     \n",
       "[179] \"T2:Xfactor(dep)1:q4\"      \"T2:Xfactor(dep)2:q4\"     \n",
       "[181] \"T2:Xfactor(dep)1:q5\"      \"T2:Xfactor(dep)2:q5\"     \n",
       "[183] \"T2:Xfactor(dep)1:q6\"      \"T2:Xfactor(dep)2:q6\"     \n",
       "[185] \"T2:Xfactor(dep)1:agelt35\" \"T2:Xfactor(dep)2:agelt35\"\n",
       "[187] \"T2:Xfactor(dep)1:agegt54\" \"T2:Xfactor(dep)2:agegt54\"\n",
       "[189] \"T2:Xfactor(dep)1:durable\" \"T2:Xfactor(dep)2:durable\"\n",
       "[191] \"T2:Xfactor(dep)1:lusd\"    \"T2:Xfactor(dep)2:lusd\"   \n",
       "[193] \"T2:Xfactor(dep)1:husd\"    \"T2:Xfactor(dep)2:husd\"   \n",
       "[195] \"T2:Xq2:q3\"                \"T2:Xq2:q4\"               \n",
       "[197] \"T2:Xq2:q5\"                \"T2:Xq2:q6\"               \n",
       "[199] \"T2:Xq2:agelt35\"           \"T2:Xq2:agegt54\"          \n",
       "[201] \"T2:Xq2:durable\"           \"T2:Xq2:lusd\"             \n",
       "[203] \"T2:Xq2:husd\"              \"T2:Xq3:q4\"               \n",
       "[205] \"T2:Xq3:q5\"                \"T2:Xq3:q6\"               \n",
       "[207] \"T2:Xq3:agelt35\"           \"T2:Xq3:agegt54\"          \n",
       "[209] \"T2:Xq3:durable\"           \"T2:Xq3:lusd\"             \n",
       "[211] \"T2:Xq3:husd\"              \"T2:Xq4:q5\"               \n",
       "[213] \"T2:Xq4:q6\"                \"T2:Xq4:agelt35\"          \n",
       "[215] \"T2:Xq4:agegt54\"           \"T2:Xq4:durable\"          \n",
       "[217] \"T2:Xq4:lusd\"              \"T2:Xq4:husd\"             \n",
       "[219] \"T2:Xq5:q6\"                \"T2:Xq5:agelt35\"          \n",
       "[221] \"T2:Xq5:agegt54\"           \"T2:Xq5:durable\"          \n",
       "[223] \"T2:Xq5:lusd\"              \"T2:Xq5:husd\"             \n",
       "[225] \"T2:Xq6:agelt35\"           \"T2:Xq6:agegt54\"          \n",
       "[227] \"T2:Xq6:durable\"           \"T2:Xq6:lusd\"             \n",
       "[229] \"T2:Xq6:husd\"              \"T2:Xagelt35:agegt54\"     \n",
       "[231] \"T2:Xagelt35:durable\"      \"T2:Xagelt35:lusd\"        \n",
       "[233] \"T2:Xagelt35:husd\"         \"T2:Xagegt54:durable\"     \n",
       "[235] \"T2:Xagegt54:lusd\"         \"T2:Xagegt54:husd\"        \n",
       "[237] \"T2:Xdurable:lusd\"         \"T2:Xdurable:husd\"        \n",
       "[239] \"T2:Xlusd:husd\"           "
      ]
     },
     "metadata": {},
     "output_type": "display_data"
    }
   ],
   "source": [
    "colnames(DX)"
   ]
  },
  {
   "cell_type": "code",
   "execution_count": 38,
   "metadata": {},
   "outputs": [
    {
     "data": {
      "text/html": [
       "<table>\n",
       "<thead><tr><th scope=col>T2</th><th scope=col>Xfemale</th><th scope=col>Xblack</th><th scope=col>Xothrace</th><th scope=col>Xfactor(dep)1</th><th scope=col>Xfactor(dep)2</th><th scope=col>Xq2</th><th scope=col>Xq3</th><th scope=col>Xq4</th><th scope=col>Xq5</th><th scope=col>...</th><th scope=col>T2:Xagelt35:agegt54</th><th scope=col>T2:Xagelt35:durable</th><th scope=col>T2:Xagelt35:lusd</th><th scope=col>T2:Xagelt35:husd</th><th scope=col>T2:Xagegt54:durable</th><th scope=col>T2:Xagegt54:lusd</th><th scope=col>T2:Xagegt54:husd</th><th scope=col>T2:Xdurable:lusd</th><th scope=col>T2:Xdurable:husd</th><th scope=col>T2:Xlusd:husd</th></tr></thead>\n",
       "<tbody>\n",
       "\t<tr><td>-0.4199239  </td><td>-0.4007264  </td><td>-0.118817   </td><td>-0.005188516</td><td>-0.1165687  </td><td> 0.839329   </td><td>-0.2001038  </td><td>-0.2355586  </td><td>-0.2232791  </td><td> 0.7367693  </td><td>...         </td><td>0           </td><td> 0.03086608 </td><td> 0.05563156 </td><td> 0.05120138 </td><td> 0.007916241</td><td> 0.0136537  </td><td> 0.01162017 </td><td> 0.02309509 </td><td> 0.01220118 </td><td>0           </td></tr>\n",
       "\t<tr><td> 0.5800761  </td><td>-0.4007264  </td><td>-0.118817   </td><td>-0.005188516</td><td>-0.1165687  </td><td>-0.160671   </td><td>-0.2001038  </td><td> 0.7644414  </td><td>-0.2232791  </td><td>-0.2632307  </td><td>...         </td><td>0           </td><td>-0.04263790 </td><td> 0.50322755 </td><td>-0.07072875 </td><td>-0.010935367</td><td>-0.0188610  </td><td>-0.01605192 </td><td>-0.03190318 </td><td>-0.01685451 </td><td>0           </td></tr>\n",
       "\t<tr><td>-0.4199239  </td><td>-0.4007264  </td><td>-0.118817   </td><td>-0.005188516</td><td>-0.1165687  </td><td>-0.160671   </td><td>-0.2001038  </td><td>-0.2355586  </td><td>-0.2232791  </td><td> 0.7367693  </td><td>...         </td><td>0           </td><td> 0.03086608 </td><td> 0.05563156 </td><td> 0.05120138 </td><td> 0.007916241</td><td> 0.0136537  </td><td> 0.01162017 </td><td> 0.02309509 </td><td> 0.01220118 </td><td>0           </td></tr>\n",
       "\t<tr><td>-0.4199239  </td><td>-0.4007264  </td><td>-0.118817   </td><td>-0.005188516</td><td>-0.1165687  </td><td>-0.160671   </td><td>-0.2001038  </td><td>-0.2355586  </td><td> 0.7767209  </td><td>-0.2632307  </td><td>...         </td><td>0           </td><td> 0.03086608 </td><td> 0.05563156 </td><td> 0.05120138 </td><td> 0.007916241</td><td> 0.0136537  </td><td> 0.01162017 </td><td> 0.02309509 </td><td> 0.01220118 </td><td>0           </td></tr>\n",
       "\t<tr><td> 0.5800761  </td><td> 0.5992736  </td><td>-0.118817   </td><td>-0.005188516</td><td>-0.1165687  </td><td>-0.160671   </td><td>-0.2001038  </td><td>-0.2355586  </td><td> 0.7767209  </td><td>-0.2632307  </td><td>...         </td><td>0           </td><td>-0.04263790 </td><td>-0.07684855 </td><td>-0.07072875 </td><td>-0.010935367</td><td>-0.0188610  </td><td>-0.01605192 </td><td>-0.03190318 </td><td>-0.01685451 </td><td>0           </td></tr>\n",
       "\t<tr><td>-0.4199239  </td><td>-0.4007264  </td><td>-0.118817   </td><td>-0.005188516</td><td> 0.8834313  </td><td>-0.160671   </td><td>-0.2001038  </td><td>-0.2355586  </td><td>-0.2232791  </td><td> 0.7367693  </td><td>...         </td><td>0           </td><td> 0.03086608 </td><td> 0.05563156 </td><td> 0.05120138 </td><td>-0.412007661</td><td>-0.4062702  </td><td> 0.01162017 </td><td>-0.39682881 </td><td> 0.01220118 </td><td>0           </td></tr>\n",
       "</tbody>\n",
       "</table>\n"
      ],
      "text/latex": [
       "\\begin{tabular}{r|lllllllllllllllllllllllllllllllllllllllllllllllllllllllllllllllllllllllllllllllllllllllllllllllllllllllllllllllllllllllllllllllllllllllllllllllllllllllllllllllllllllllllllllllllllllllllllllllllllllllllllllllllllllllllllllllllllllllllllllll}\n",
       " T2 & Xfemale & Xblack & Xothrace & Xfactor(dep)1 & Xfactor(dep)2 & Xq2 & Xq3 & Xq4 & Xq5 & ... & T2:Xagelt35:agegt54 & T2:Xagelt35:durable & T2:Xagelt35:lusd & T2:Xagelt35:husd & T2:Xagegt54:durable & T2:Xagegt54:lusd & T2:Xagegt54:husd & T2:Xdurable:lusd & T2:Xdurable:husd & T2:Xlusd:husd\\\\\n",
       "\\hline\n",
       "\t -0.4199239   & -0.4007264   & -0.118817    & -0.005188516 & -0.1165687   &  0.839329    & -0.2001038   & -0.2355586   & -0.2232791   &  0.7367693   & ...          & 0            &  0.03086608  &  0.05563156  &  0.05120138  &  0.007916241 &  0.0136537   &  0.01162017  &  0.02309509  &  0.01220118  & 0           \\\\\n",
       "\t  0.5800761   & -0.4007264   & -0.118817    & -0.005188516 & -0.1165687   & -0.160671    & -0.2001038   &  0.7644414   & -0.2232791   & -0.2632307   & ...          & 0            & -0.04263790  &  0.50322755  & -0.07072875  & -0.010935367 & -0.0188610   & -0.01605192  & -0.03190318  & -0.01685451  & 0           \\\\\n",
       "\t -0.4199239   & -0.4007264   & -0.118817    & -0.005188516 & -0.1165687   & -0.160671    & -0.2001038   & -0.2355586   & -0.2232791   &  0.7367693   & ...          & 0            &  0.03086608  &  0.05563156  &  0.05120138  &  0.007916241 &  0.0136537   &  0.01162017  &  0.02309509  &  0.01220118  & 0           \\\\\n",
       "\t -0.4199239   & -0.4007264   & -0.118817    & -0.005188516 & -0.1165687   & -0.160671    & -0.2001038   & -0.2355586   &  0.7767209   & -0.2632307   & ...          & 0            &  0.03086608  &  0.05563156  &  0.05120138  &  0.007916241 &  0.0136537   &  0.01162017  &  0.02309509  &  0.01220118  & 0           \\\\\n",
       "\t  0.5800761   &  0.5992736   & -0.118817    & -0.005188516 & -0.1165687   & -0.160671    & -0.2001038   & -0.2355586   &  0.7767209   & -0.2632307   & ...          & 0            & -0.04263790  & -0.07684855  & -0.07072875  & -0.010935367 & -0.0188610   & -0.01605192  & -0.03190318  & -0.01685451  & 0           \\\\\n",
       "\t -0.4199239   & -0.4007264   & -0.118817    & -0.005188516 &  0.8834313   & -0.160671    & -0.2001038   & -0.2355586   & -0.2232791   &  0.7367693   & ...          & 0            &  0.03086608  &  0.05563156  &  0.05120138  & -0.412007661 & -0.4062702   &  0.01162017  & -0.39682881  &  0.01220118  & 0           \\\\\n",
       "\\end{tabular}\n"
      ],
      "text/markdown": [
       "\n",
       "| T2 | Xfemale | Xblack | Xothrace | Xfactor(dep)1 | Xfactor(dep)2 | Xq2 | Xq3 | Xq4 | Xq5 | ... | T2:Xagelt35:agegt54 | T2:Xagelt35:durable | T2:Xagelt35:lusd | T2:Xagelt35:husd | T2:Xagegt54:durable | T2:Xagegt54:lusd | T2:Xagegt54:husd | T2:Xdurable:lusd | T2:Xdurable:husd | T2:Xlusd:husd |\n",
       "|---|---|---|---|---|---|---|---|---|---|---|---|---|---|---|---|---|---|---|---|---|\n",
       "| -0.4199239   | -0.4007264   | -0.118817    | -0.005188516 | -0.1165687   |  0.839329    | -0.2001038   | -0.2355586   | -0.2232791   |  0.7367693   | ...          | 0            |  0.03086608  |  0.05563156  |  0.05120138  |  0.007916241 |  0.0136537   |  0.01162017  |  0.02309509  |  0.01220118  | 0            |\n",
       "|  0.5800761   | -0.4007264   | -0.118817    | -0.005188516 | -0.1165687   | -0.160671    | -0.2001038   |  0.7644414   | -0.2232791   | -0.2632307   | ...          | 0            | -0.04263790  |  0.50322755  | -0.07072875  | -0.010935367 | -0.0188610   | -0.01605192  | -0.03190318  | -0.01685451  | 0            |\n",
       "| -0.4199239   | -0.4007264   | -0.118817    | -0.005188516 | -0.1165687   | -0.160671    | -0.2001038   | -0.2355586   | -0.2232791   |  0.7367693   | ...          | 0            |  0.03086608  |  0.05563156  |  0.05120138  |  0.007916241 |  0.0136537   |  0.01162017  |  0.02309509  |  0.01220118  | 0            |\n",
       "| -0.4199239   | -0.4007264   | -0.118817    | -0.005188516 | -0.1165687   | -0.160671    | -0.2001038   | -0.2355586   |  0.7767209   | -0.2632307   | ...          | 0            |  0.03086608  |  0.05563156  |  0.05120138  |  0.007916241 |  0.0136537   |  0.01162017  |  0.02309509  |  0.01220118  | 0            |\n",
       "|  0.5800761   |  0.5992736   | -0.118817    | -0.005188516 | -0.1165687   | -0.160671    | -0.2001038   | -0.2355586   |  0.7767209   | -0.2632307   | ...          | 0            | -0.04263790  | -0.07684855  | -0.07072875  | -0.010935367 | -0.0188610   | -0.01605192  | -0.03190318  | -0.01685451  | 0            |\n",
       "| -0.4199239   | -0.4007264   | -0.118817    | -0.005188516 |  0.8834313   | -0.160671    | -0.2001038   | -0.2355586   | -0.2232791   |  0.7367693   | ...          | 0            |  0.03086608  |  0.05563156  |  0.05120138  | -0.412007661 | -0.4062702   |  0.01162017  | -0.39682881  |  0.01220118  | 0            |\n",
       "\n"
      ],
      "text/plain": [
       "  T2         Xfemale    Xblack    Xothrace     Xfactor(dep)1 Xfactor(dep)2\n",
       "1 -0.4199239 -0.4007264 -0.118817 -0.005188516 -0.1165687     0.839329    \n",
       "2  0.5800761 -0.4007264 -0.118817 -0.005188516 -0.1165687    -0.160671    \n",
       "3 -0.4199239 -0.4007264 -0.118817 -0.005188516 -0.1165687    -0.160671    \n",
       "4 -0.4199239 -0.4007264 -0.118817 -0.005188516 -0.1165687    -0.160671    \n",
       "5  0.5800761  0.5992736 -0.118817 -0.005188516 -0.1165687    -0.160671    \n",
       "6 -0.4199239 -0.4007264 -0.118817 -0.005188516  0.8834313    -0.160671    \n",
       "  Xq2        Xq3        Xq4        Xq5        ... T2:Xagelt35:agegt54\n",
       "1 -0.2001038 -0.2355586 -0.2232791  0.7367693 ... 0                  \n",
       "2 -0.2001038  0.7644414 -0.2232791 -0.2632307 ... 0                  \n",
       "3 -0.2001038 -0.2355586 -0.2232791  0.7367693 ... 0                  \n",
       "4 -0.2001038 -0.2355586  0.7767209 -0.2632307 ... 0                  \n",
       "5 -0.2001038 -0.2355586  0.7767209 -0.2632307 ... 0                  \n",
       "6 -0.2001038 -0.2355586 -0.2232791  0.7367693 ... 0                  \n",
       "  T2:Xagelt35:durable T2:Xagelt35:lusd T2:Xagelt35:husd T2:Xagegt54:durable\n",
       "1  0.03086608          0.05563156       0.05120138       0.007916241       \n",
       "2 -0.04263790          0.50322755      -0.07072875      -0.010935367       \n",
       "3  0.03086608          0.05563156       0.05120138       0.007916241       \n",
       "4  0.03086608          0.05563156       0.05120138       0.007916241       \n",
       "5 -0.04263790         -0.07684855      -0.07072875      -0.010935367       \n",
       "6  0.03086608          0.05563156       0.05120138      -0.412007661       \n",
       "  T2:Xagegt54:lusd T2:Xagegt54:husd T2:Xdurable:lusd T2:Xdurable:husd\n",
       "1  0.0136537        0.01162017       0.02309509       0.01220118     \n",
       "2 -0.0188610       -0.01605192      -0.03190318      -0.01685451     \n",
       "3  0.0136537        0.01162017       0.02309509       0.01220118     \n",
       "4  0.0136537        0.01162017       0.02309509       0.01220118     \n",
       "5 -0.0188610       -0.01605192      -0.03190318      -0.01685451     \n",
       "6 -0.4062702        0.01162017      -0.39682881       0.01220118     \n",
       "  T2:Xlusd:husd\n",
       "1 0            \n",
       "2 0            \n",
       "3 0            \n",
       "4 0            \n",
       "5 0            \n",
       "6 0            "
      ]
     },
     "metadata": {},
     "output_type": "display_data"
    }
   ],
   "source": [
    "library(arm)\n",
    "head(DX)"
   ]
  },
  {
   "cell_type": "code",
   "execution_count": 39,
   "metadata": {},
   "outputs": [
    {
     "name": "stdout",
     "output_type": "stream",
     "text": [
      "[1] \"Estimates and significance testing of the effect of target variables\"\n",
      "           Estimate. Std. Error t value Pr(>|t|)\n",
      "T2:Xfemale   -0.8026     0.4909  -1.635    0.102\n",
      "\n",
      "\n",
      "[1] \"Estimates and significance testing of the effect of target variables\"\n",
      "           Estimate. Std. Error t value Pr(>|t|)  \n",
      "T2:Xblack -1.391e+14  8.203e+13  -1.696   0.0899 .\n",
      "---\n",
      "Signif. codes:  0 '***' 0.001 '**' 0.01 '*' 0.05 '.' 0.1 ' ' 1\n",
      "\n",
      "\n",
      "[1] \"Estimates and significance testing of the effect of target variables\"\n",
      "            Estimate. Std. Error t value Pr(>|t|)\n",
      "T2:Xagelt35    0.9110     0.5982   1.523    0.128\n",
      "\n",
      "\n",
      "[1] \"Estimates and significance testing of the effect of target variables\"\n",
      "                 Estimate. Std. Error t value Pr(>|t|)\n",
      "T2:Xfactor(dep)1  0.007285   0.730830    0.01    0.992\n",
      "\n",
      "\n"
     ]
    }
   ],
   "source": [
    "#for T2female\n",
    "fem <-rlassoEffects(DX, log(inuidur1), index =\"T2:Xfemale\")\n",
    "rlasso_ira_tfem= summary(fem)\n",
    "print(rlasso_ira_tfem)\n",
    "\n",
    "\n",
    "#for T2black\n",
    "bla <- rlassoEffects(DX, log(inuidur1), index =\"T2:Xblack\")\n",
    "rlasso_ira_tb= summary(bla)\n",
    "print(rlasso_ira_tb)\n",
    "\n",
    "#for T2agelt35\n",
    "age35 <-rlassoEffects(DX, log(inuidur1), index =\"T2:Xagelt35\")\n",
    "rlasso_ira_ta= summary(age35)\n",
    "print(rlasso_ira_ta)\n",
    "\n",
    "#for T2factor(dep)1\n",
    "factor <-rlassoEffects(DX, log(inuidur1), index =\"T2:Xfactor(dep)1\")\n",
    "rlasso_ira_tf= summary(factor)\n",
    "print(rlasso_ira_tf)"
   ]
  },
  {
   "cell_type": "code",
   "execution_count": 40,
   "metadata": {},
   "outputs": [
    {
     "data": {
      "text/html": [
       "<table>\n",
       "<thead><tr><th></th><th scope=col>T2female</th><th scope=col>T2black</th><th scope=col>T2agelt35</th><th scope=col>T2factor(dep)1</th></tr></thead>\n",
       "<tbody>\n",
       "\t<tr><th scope=row>estimate</th><td>-0.8025515   </td><td>-1.391270e+14</td><td>0.9110139    </td><td>0.007285266  </td></tr>\n",
       "\t<tr><th scope=row>standard error</th><td> 0.4909270   </td><td> 8.203092e+13</td><td>0.5982264    </td><td>0.730829748  </td></tr>\n",
       "</tbody>\n",
       "</table>\n"
      ],
      "text/latex": [
       "\\begin{tabular}{r|llll}\n",
       "  & T2female & T2black & T2agelt35 & T2factor(dep)1\\\\\n",
       "\\hline\n",
       "\testimate & -0.8025515    & -1.391270e+14 & 0.9110139     & 0.007285266  \\\\\n",
       "\tstandard error &  0.4909270    &  8.203092e+13 & 0.5982264     & 0.730829748  \\\\\n",
       "\\end{tabular}\n"
      ],
      "text/markdown": [
       "\n",
       "| <!--/--> | T2female | T2black | T2agelt35 | T2factor(dep)1 |\n",
       "|---|---|---|---|---|\n",
       "| estimate | -0.8025515    | -1.391270e+14 | 0.9110139     | 0.007285266   |\n",
       "| standard error |  0.4909270    |  8.203092e+13 | 0.5982264     | 0.730829748   |\n",
       "\n"
      ],
      "text/plain": [
       "               T2female   T2black       T2agelt35 T2factor(dep)1\n",
       "estimate       -0.8025515 -1.391270e+14 0.9110139 0.007285266   \n",
       "standard error  0.4909270  8.203092e+13 0.5982264 0.730829748   "
      ]
     },
     "metadata": {},
     "output_type": "display_data"
    },
    {
     "name": "stdout",
     "output_type": "stream",
     "text": [
      "% latex table generated in R 3.6.1 by xtable 1.8-4 package\n",
      "% Fri Sep 24 16:34:42 2021\n",
      "\\begin{table}[ht]\n",
      "\\centering\n",
      "\\begin{tabular}{rrrrr}\n",
      "  \\hline\n",
      " & T2female & T2black & T2agelt35 & T2factor(dep)1 \\\\ \n",
      "  \\hline\n",
      "estimate & -0.8026 & -139127042798185.7500 & 0.9110 & 0.0073 \\\\ \n",
      "  standard error & 0.4909 & 82030920804308.4688 & 0.5982 & 0.7308 \\\\ \n",
      "   \\hline\n",
      "\\end{tabular}\n",
      "\\end{table}\n"
     ]
    }
   ],
   "source": [
    "table<- matrix(0, 2, 4)\n",
    "table[1,1]<-  rlasso_ira_tfem[[1]][1]\n",
    "table[1,2]<-  rlasso_ira_tb[[1]][1]\n",
    "table[1,3]<-  rlasso_ira_ta[[1]][1]\n",
    "table[1,4]<-  rlasso_ira_tf[[1]][1]\n",
    "\n",
    "table[2,1]<-  rlasso_ira_tfem[[1]][2]\n",
    "table[2,2]<-  rlasso_ira_tb[[1]][2]\n",
    "table[2,3]<-  rlasso_ira_ta[[1]][2]\n",
    "table[2,4]<-  rlasso_ira_tf[[1]][2]\n",
    "\n",
    "colnames(table)<- c( \"T2female\", \"T2black\",\"T2agelt35\", \"T2factor(dep)1\")\n",
    "rownames(table)<- c(\"estimate\", \"standard error\")\n",
    "tab<- xtable(table, digits=4)\n",
    "tab\n",
    "\n",
    "print(tab, type=\"latex\", digits=4)"
   ]
  },
  {
   "cell_type": "markdown",
   "metadata": {},
   "source": [
    "We see that the coefficient for T2black is too big, as well as its standard error. We explore more about this variable:"
   ]
  },
  {
   "cell_type": "code",
   "execution_count": 41,
   "metadata": {
    "scrolled": false
   },
   "outputs": [],
   "source": [
    "#summary(DX)"
   ]
  },
  {
   "cell_type": "markdown",
   "metadata": {},
   "source": [
    "**T2TRUE:Xblack has a mean of -0.001468. This means that the number of observations that refer to a black person who has received the treatment is very small. That's why the estimated coefficient has a weird value**."
   ]
  },
  {
   "cell_type": "code",
   "execution_count": 42,
   "metadata": {},
   "outputs": [
    {
     "data": {
      "text/html": [
       "<ol class=list-inline>\n",
       "\t<li>-0.802551467382264</li>\n",
       "\t<li>0.91101385358571</li>\n",
       "\t<li>0.00728526646362385</li>\n",
       "</ol>\n"
      ],
      "text/latex": [
       "\\begin{enumerate*}\n",
       "\\item -0.802551467382264\n",
       "\\item 0.91101385358571\n",
       "\\item 0.00728526646362385\n",
       "\\end{enumerate*}\n"
      ],
      "text/markdown": [
       "1. -0.802551467382264\n",
       "2. 0.91101385358571\n",
       "3. 0.00728526646362385\n",
       "\n",
       "\n"
      ],
      "text/plain": [
       "[1] -0.802551467  0.911013854  0.007285266"
      ]
     },
     "metadata": {},
     "output_type": "display_data"
    },
    {
     "data": {
      "text/html": [
       "<ol class=list-inline>\n",
       "\t<li>0.490927029142081</li>\n",
       "\t<li>0.598226362462651</li>\n",
       "\t<li>0.73082974783034</li>\n",
       "</ol>\n"
      ],
      "text/latex": [
       "\\begin{enumerate*}\n",
       "\\item 0.490927029142081\n",
       "\\item 0.598226362462651\n",
       "\\item 0.73082974783034\n",
       "\\end{enumerate*}\n"
      ],
      "text/markdown": [
       "1. 0.490927029142081\n",
       "2. 0.598226362462651\n",
       "3. 0.73082974783034\n",
       "\n",
       "\n"
      ],
      "text/plain": [
       "[1] 0.4909270 0.5982264 0.7308297"
      ]
     },
     "metadata": {},
     "output_type": "display_data"
    }
   ],
   "source": [
    "coef.vect <- c(rlasso_ira_tfem[[1]][1],  rlasso_ira_ta[[1]][1], rlasso_ira_tf[[1]][1])\n",
    "coef.vect\n",
    "\n",
    "sd.vect <- c(rlasso_ira_tfem[[1]][2], rlasso_ira_ta[[1]][2], rlasso_ira_tf[[1]][2])\n",
    "sd.vect"
   ]
  },
  {
   "cell_type": "code",
   "execution_count": 43,
   "metadata": {
    "scrolled": true
   },
   "outputs": [
    {
     "data": {
      "image/png": "[encoded data removed]",
      "text/plain": [
       "Plot with title \"IRA w Lasso Estimates\""
      ]
     },
     "metadata": {},
     "output_type": "display_data"
    }
   ],
   "source": [
    "longnames <- c(\"T2female\", \"T2agelt35\", \"T2factor(dep)1\")\n",
    "coefplot (coef.vect, sd.vect, varnames=longnames, main=\"IRA w Lasso Estimates\")\n"
   ]
  },
  {
   "cell_type": "markdown",
   "metadata": {},
   "source": [
    "We can see that using Lasso the values of the estimated coefficients are closer to 0 than the ones using OLS. Also, we can see that the coefficiente for T2black has a large negative value (due to the number of observations, we guess). "
   ]
  }
 ],
 "metadata": {
  "hide_input": false,
  "kernelspec": {
   "display_name": "R",
   "language": "R",
   "name": "ir"
  },
  "language_info": {
   "codemirror_mode": "r",
   "file_extension": ".r",
   "mimetype": "text/x-r-source",
   "name": "R",
   "pygments_lexer": "r",
   "version": "3.6.1"
  },
  "papermill": {
   "default_parameters": {},
   "duration": 7.178818,
   "end_time": "2021-02-20T13:42:45.473549",
   "environment_variables": {},
   "exception": null,
   "input_path": "__notebook__.ipynb",
   "output_path": "__notebook__.ipynb",
   "parameters": {},
   "start_time": "2021-02-20T13:42:38.294731",
   "version": "2.2.2"
  }
 },
 "nbformat": 4,
 "nbformat_minor": 4
}
