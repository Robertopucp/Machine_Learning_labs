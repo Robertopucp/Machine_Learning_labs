{
 "cells": [
  {
   "cell_type": "markdown",
   "metadata": {
    "papermill": {
     "duration": 0.013538,
     "end_time": "2021-02-20T13:42:41.189745",
     "exception": false,
     "start_time": "2021-02-20T13:42:41.176207",
     "status": "completed"
    },
    "tags": []
   },
   "source": [
    "## GROUP 2 \n",
    "\n",
    "#### *Members:* \n",
    "\n",
    "1. Diego Alonso Gómez (20171738)\n",
    "2. Alex Raul Pacheco (......)"
   ]
  },
  {
   "cell_type": "markdown",
   "metadata": {},
   "source": [
    "# *QUESTION 1*\n"
   ]
  },
  {
   "cell_type": "markdown",
   "metadata": {},
   "source": [
    "### *Parte A*"
   ]
  },
  {
   "cell_type": "markdown",
   "metadata": {},
   "source": [
    "Multicollinearity generally occurs when there are high correlations between two or more predictor variables. In other words, one predictor variable can be used to predict the other. This creates redundant information, skewing the results in a regression model. Examples of correlated predictor variables (also called multicollinear predictors) are: a person’s height and weight, age and sales price of a car, or years of education and annual income. This problem can become a serious one when perfect multicollinearity occurs: it happens when an independent variable is a linear combination of two other independent variables.\n",
    "\n",
    "For example:\n",
    "\n",
    "$$ Investment_i = \\beta_0+\\beta_1GPD +\\beta_2GovermentSpending +\\beta_3Consumption+\\beta_4Savings\\epsilon_i$$\n",
    "\n",
    "- Perfect multicollinearity will occur if we can express: $Savings = GPD − GovermentSpending - Consumption$\n",
    "- In this case, $\\beta_4$ will not be able to measure the effect of increasing the balance by keeping the export and import constant given their linear relationship.\n",
    "\n",
    "- The main consequence is that we will not be able to find the following expression: $\\beta_{OLS} = (X'X)^{−1}X'y$ ; that because $rango(X)<K ⇒ |X'X| = 0 ⇒ \\not\\exists (X'X)^{-1}$ where K in the number of variables."
   ]
  },
  {
   "cell_type": "markdown",
   "metadata": {},
   "source": [
    "### *Parte B*"
   ]
  },
  {
   "cell_type": "code",
   "execution_count": 36,
   "metadata": {},
   "outputs": [],
   "source": [
    "gen_exact_collin_data = function(num_samples = 10) {\n",
    "  x1 = rnorm(n = num_samples, mean = 80, sd = 10)\n",
    "  x2 = rnorm(n = num_samples, mean = 70, sd = 5)\n",
    "  x3 = rnorm(n = num_samples, mean = 50, sd = 5)\n",
    "  x4 = rnorm(n = num_samples, mean = 40, sd = 15)\n",
    "  x5 = rnorm(n = num_samples, mean = 40, sd = 15)\n",
    "  x6 = rnorm(n = num_samples, mean = 90, sd = 25)\n",
    "  x7 = rnorm(n = num_samples, mean = 80, sd = 10)\n",
    "  x8 = rnorm(n = num_samples, mean = 30, sd = 5)\n",
    "  x9 = rnorm(n = num_samples, mean = 45, sd = 10)  \n",
    "  y = 3 + 2*x1 + 3*x2 + 5*x3 + 4*x4 +rnorm(n = num_samples, mean = 0, sd = 1)\n",
    "  data.frame(x1, x2, x3, x4, x5, x6, x7, x8, x9, y)\n",
    "}"
   ]
  },
  {
   "cell_type": "code",
   "execution_count": 37,
   "metadata": {},
   "outputs": [
    {
     "data": {
      "text/html": [
       "<style>\n",
       ".list-inline {list-style: none; margin:0; padding: 0}\n",
       ".list-inline>li {display: inline-block}\n",
       ".list-inline>li:not(:last-child)::after {content: \"\\00b7\"; padding: 0 .5ex}\n",
       "</style>\n",
       "<ol class=list-inline><li>10</li><li>10</li></ol>\n"
      ],
      "text/latex": [
       "\\begin{enumerate*}\n",
       "\\item 10\n",
       "\\item 10\n",
       "\\end{enumerate*}\n"
      ],
      "text/markdown": [
       "1. 10\n",
       "2. 10\n",
       "\n",
       "\n"
      ],
      "text/plain": [
       "[1] 10 10"
      ]
     },
     "metadata": {},
     "output_type": "display_data"
    }
   ],
   "source": [
    "set.seed(89)\n",
    "exact_collin_data = gen_exact_collin_data()\n",
    "dim(exact_collin_data)"
   ]
  },
  {
   "cell_type": "code",
   "execution_count": 38,
   "metadata": {},
   "outputs": [
    {
     "data": {
      "text/html": [
       "<table class=\"dataframe\">\n",
       "<caption>A data.frame: 6 × 10</caption>\n",
       "<thead>\n",
       "\t<tr><th></th><th scope=col>x1</th><th scope=col>x2</th><th scope=col>x3</th><th scope=col>x4</th><th scope=col>x5</th><th scope=col>x6</th><th scope=col>x7</th><th scope=col>x8</th><th scope=col>x9</th><th scope=col>y</th></tr>\n",
       "\t<tr><th></th><th scope=col>&lt;dbl&gt;</th><th scope=col>&lt;dbl&gt;</th><th scope=col>&lt;dbl&gt;</th><th scope=col>&lt;dbl&gt;</th><th scope=col>&lt;dbl&gt;</th><th scope=col>&lt;dbl&gt;</th><th scope=col>&lt;dbl&gt;</th><th scope=col>&lt;dbl&gt;</th><th scope=col>&lt;dbl&gt;</th><th scope=col>&lt;dbl&gt;</th></tr>\n",
       "</thead>\n",
       "<tbody>\n",
       "\t<tr><th scope=row>1</th><td>65.48398</td><td>70.48211</td><td>56.88620</td><td>12.12618</td><td>27.03509</td><td> 78.85772</td><td>70.73151</td><td>31.34095</td><td>29.63396</td><td>679.1827</td></tr>\n",
       "\t<tr><th scope=row>2</th><td>87.08100</td><td>65.19052</td><td>46.98707</td><td>11.31277</td><td>22.49027</td><td>102.18523</td><td>87.69954</td><td>21.54192</td><td>37.25546</td><td>651.8983</td></tr>\n",
       "\t<tr><th scope=row>3</th><td>95.93097</td><td>68.42119</td><td>53.28274</td><td>44.51899</td><td>37.47390</td><td> 63.68323</td><td>82.90495</td><td>25.51366</td><td>36.97835</td><td>845.2957</td></tr>\n",
       "\t<tr><th scope=row>4</th><td>71.62404</td><td>69.95045</td><td>49.21460</td><td>38.60374</td><td>54.28510</td><td>116.42138</td><td>81.01467</td><td>26.32215</td><td>21.75862</td><td>757.0803</td></tr>\n",
       "\t<tr><th scope=row>5</th><td>99.29470</td><td>74.42423</td><td>53.95678</td><td>27.13324</td><td>35.59235</td><td> 58.64393</td><td>91.94221</td><td>34.86319</td><td>57.11855</td><td>803.7194</td></tr>\n",
       "\t<tr><th scope=row>6</th><td>67.68930</td><td>73.52623</td><td>44.67050</td><td>32.48536</td><td>63.34984</td><td>114.01597</td><td>61.42266</td><td>19.32580</td><td>41.73535</td><td>711.2844</td></tr>\n",
       "</tbody>\n",
       "</table>\n"
      ],
      "text/latex": [
       "A data.frame: 6 × 10\n",
       "\\begin{tabular}{r|llllllllll}\n",
       "  & x1 & x2 & x3 & x4 & x5 & x6 & x7 & x8 & x9 & y\\\\\n",
       "  & <dbl> & <dbl> & <dbl> & <dbl> & <dbl> & <dbl> & <dbl> & <dbl> & <dbl> & <dbl>\\\\\n",
       "\\hline\n",
       "\t1 & 65.48398 & 70.48211 & 56.88620 & 12.12618 & 27.03509 &  78.85772 & 70.73151 & 31.34095 & 29.63396 & 679.1827\\\\\n",
       "\t2 & 87.08100 & 65.19052 & 46.98707 & 11.31277 & 22.49027 & 102.18523 & 87.69954 & 21.54192 & 37.25546 & 651.8983\\\\\n",
       "\t3 & 95.93097 & 68.42119 & 53.28274 & 44.51899 & 37.47390 &  63.68323 & 82.90495 & 25.51366 & 36.97835 & 845.2957\\\\\n",
       "\t4 & 71.62404 & 69.95045 & 49.21460 & 38.60374 & 54.28510 & 116.42138 & 81.01467 & 26.32215 & 21.75862 & 757.0803\\\\\n",
       "\t5 & 99.29470 & 74.42423 & 53.95678 & 27.13324 & 35.59235 &  58.64393 & 91.94221 & 34.86319 & 57.11855 & 803.7194\\\\\n",
       "\t6 & 67.68930 & 73.52623 & 44.67050 & 32.48536 & 63.34984 & 114.01597 & 61.42266 & 19.32580 & 41.73535 & 711.2844\\\\\n",
       "\\end{tabular}\n"
      ],
      "text/markdown": [
       "\n",
       "A data.frame: 6 × 10\n",
       "\n",
       "| <!--/--> | x1 &lt;dbl&gt; | x2 &lt;dbl&gt; | x3 &lt;dbl&gt; | x4 &lt;dbl&gt; | x5 &lt;dbl&gt; | x6 &lt;dbl&gt; | x7 &lt;dbl&gt; | x8 &lt;dbl&gt; | x9 &lt;dbl&gt; | y &lt;dbl&gt; |\n",
       "|---|---|---|---|---|---|---|---|---|---|---|\n",
       "| 1 | 65.48398 | 70.48211 | 56.88620 | 12.12618 | 27.03509 |  78.85772 | 70.73151 | 31.34095 | 29.63396 | 679.1827 |\n",
       "| 2 | 87.08100 | 65.19052 | 46.98707 | 11.31277 | 22.49027 | 102.18523 | 87.69954 | 21.54192 | 37.25546 | 651.8983 |\n",
       "| 3 | 95.93097 | 68.42119 | 53.28274 | 44.51899 | 37.47390 |  63.68323 | 82.90495 | 25.51366 | 36.97835 | 845.2957 |\n",
       "| 4 | 71.62404 | 69.95045 | 49.21460 | 38.60374 | 54.28510 | 116.42138 | 81.01467 | 26.32215 | 21.75862 | 757.0803 |\n",
       "| 5 | 99.29470 | 74.42423 | 53.95678 | 27.13324 | 35.59235 |  58.64393 | 91.94221 | 34.86319 | 57.11855 | 803.7194 |\n",
       "| 6 | 67.68930 | 73.52623 | 44.67050 | 32.48536 | 63.34984 | 114.01597 | 61.42266 | 19.32580 | 41.73535 | 711.2844 |\n",
       "\n"
      ],
      "text/plain": [
       "  x1       x2       x3       x4       x5       x6        x7       x8      \n",
       "1 65.48398 70.48211 56.88620 12.12618 27.03509  78.85772 70.73151 31.34095\n",
       "2 87.08100 65.19052 46.98707 11.31277 22.49027 102.18523 87.69954 21.54192\n",
       "3 95.93097 68.42119 53.28274 44.51899 37.47390  63.68323 82.90495 25.51366\n",
       "4 71.62404 69.95045 49.21460 38.60374 54.28510 116.42138 81.01467 26.32215\n",
       "5 99.29470 74.42423 53.95678 27.13324 35.59235  58.64393 91.94221 34.86319\n",
       "6 67.68930 73.52623 44.67050 32.48536 63.34984 114.01597 61.42266 19.32580\n",
       "  x9       y       \n",
       "1 29.63396 679.1827\n",
       "2 37.25546 651.8983\n",
       "3 36.97835 845.2957\n",
       "4 21.75862 757.0803\n",
       "5 57.11855 803.7194\n",
       "6 41.73535 711.2844"
      ]
     },
     "metadata": {},
     "output_type": "display_data"
    }
   ],
   "source": [
    "head(exact_collin_data)"
   ]
  },
  {
   "cell_type": "code",
   "execution_count": 39,
   "metadata": {},
   "outputs": [],
   "source": [
    "X <- matrix(exact_collin_data)"
   ]
  },
  {
   "cell_type": "code",
   "execution_count": 40,
   "metadata": {},
   "outputs": [],
   "source": [
    "X <- exact_collin_data[, -which(names(exact_collin_data) == \"y\")] "
   ]
  },
  {
   "cell_type": "code",
   "execution_count": 41,
   "metadata": {},
   "outputs": [
    {
     "data": {
      "text/html": [
       "<table class=\"dataframe\">\n",
       "<caption>A data.frame: 6 × 9</caption>\n",
       "<thead>\n",
       "\t<tr><th></th><th scope=col>x1</th><th scope=col>x2</th><th scope=col>x3</th><th scope=col>x4</th><th scope=col>x5</th><th scope=col>x6</th><th scope=col>x7</th><th scope=col>x8</th><th scope=col>x9</th></tr>\n",
       "\t<tr><th></th><th scope=col>&lt;dbl&gt;</th><th scope=col>&lt;dbl&gt;</th><th scope=col>&lt;dbl&gt;</th><th scope=col>&lt;dbl&gt;</th><th scope=col>&lt;dbl&gt;</th><th scope=col>&lt;dbl&gt;</th><th scope=col>&lt;dbl&gt;</th><th scope=col>&lt;dbl&gt;</th><th scope=col>&lt;dbl&gt;</th></tr>\n",
       "</thead>\n",
       "<tbody>\n",
       "\t<tr><th scope=row>1</th><td>65.48398</td><td>70.48211</td><td>56.88620</td><td>12.12618</td><td>27.03509</td><td> 78.85772</td><td>70.73151</td><td>31.34095</td><td>29.63396</td></tr>\n",
       "\t<tr><th scope=row>2</th><td>87.08100</td><td>65.19052</td><td>46.98707</td><td>11.31277</td><td>22.49027</td><td>102.18523</td><td>87.69954</td><td>21.54192</td><td>37.25546</td></tr>\n",
       "\t<tr><th scope=row>3</th><td>95.93097</td><td>68.42119</td><td>53.28274</td><td>44.51899</td><td>37.47390</td><td> 63.68323</td><td>82.90495</td><td>25.51366</td><td>36.97835</td></tr>\n",
       "\t<tr><th scope=row>4</th><td>71.62404</td><td>69.95045</td><td>49.21460</td><td>38.60374</td><td>54.28510</td><td>116.42138</td><td>81.01467</td><td>26.32215</td><td>21.75862</td></tr>\n",
       "\t<tr><th scope=row>5</th><td>99.29470</td><td>74.42423</td><td>53.95678</td><td>27.13324</td><td>35.59235</td><td> 58.64393</td><td>91.94221</td><td>34.86319</td><td>57.11855</td></tr>\n",
       "\t<tr><th scope=row>6</th><td>67.68930</td><td>73.52623</td><td>44.67050</td><td>32.48536</td><td>63.34984</td><td>114.01597</td><td>61.42266</td><td>19.32580</td><td>41.73535</td></tr>\n",
       "</tbody>\n",
       "</table>\n"
      ],
      "text/latex": [
       "A data.frame: 6 × 9\n",
       "\\begin{tabular}{r|lllllllll}\n",
       "  & x1 & x2 & x3 & x4 & x5 & x6 & x7 & x8 & x9\\\\\n",
       "  & <dbl> & <dbl> & <dbl> & <dbl> & <dbl> & <dbl> & <dbl> & <dbl> & <dbl>\\\\\n",
       "\\hline\n",
       "\t1 & 65.48398 & 70.48211 & 56.88620 & 12.12618 & 27.03509 &  78.85772 & 70.73151 & 31.34095 & 29.63396\\\\\n",
       "\t2 & 87.08100 & 65.19052 & 46.98707 & 11.31277 & 22.49027 & 102.18523 & 87.69954 & 21.54192 & 37.25546\\\\\n",
       "\t3 & 95.93097 & 68.42119 & 53.28274 & 44.51899 & 37.47390 &  63.68323 & 82.90495 & 25.51366 & 36.97835\\\\\n",
       "\t4 & 71.62404 & 69.95045 & 49.21460 & 38.60374 & 54.28510 & 116.42138 & 81.01467 & 26.32215 & 21.75862\\\\\n",
       "\t5 & 99.29470 & 74.42423 & 53.95678 & 27.13324 & 35.59235 &  58.64393 & 91.94221 & 34.86319 & 57.11855\\\\\n",
       "\t6 & 67.68930 & 73.52623 & 44.67050 & 32.48536 & 63.34984 & 114.01597 & 61.42266 & 19.32580 & 41.73535\\\\\n",
       "\\end{tabular}\n"
      ],
      "text/markdown": [
       "\n",
       "A data.frame: 6 × 9\n",
       "\n",
       "| <!--/--> | x1 &lt;dbl&gt; | x2 &lt;dbl&gt; | x3 &lt;dbl&gt; | x4 &lt;dbl&gt; | x5 &lt;dbl&gt; | x6 &lt;dbl&gt; | x7 &lt;dbl&gt; | x8 &lt;dbl&gt; | x9 &lt;dbl&gt; |\n",
       "|---|---|---|---|---|---|---|---|---|---|\n",
       "| 1 | 65.48398 | 70.48211 | 56.88620 | 12.12618 | 27.03509 |  78.85772 | 70.73151 | 31.34095 | 29.63396 |\n",
       "| 2 | 87.08100 | 65.19052 | 46.98707 | 11.31277 | 22.49027 | 102.18523 | 87.69954 | 21.54192 | 37.25546 |\n",
       "| 3 | 95.93097 | 68.42119 | 53.28274 | 44.51899 | 37.47390 |  63.68323 | 82.90495 | 25.51366 | 36.97835 |\n",
       "| 4 | 71.62404 | 69.95045 | 49.21460 | 38.60374 | 54.28510 | 116.42138 | 81.01467 | 26.32215 | 21.75862 |\n",
       "| 5 | 99.29470 | 74.42423 | 53.95678 | 27.13324 | 35.59235 |  58.64393 | 91.94221 | 34.86319 | 57.11855 |\n",
       "| 6 | 67.68930 | 73.52623 | 44.67050 | 32.48536 | 63.34984 | 114.01597 | 61.42266 | 19.32580 | 41.73535 |\n",
       "\n"
      ],
      "text/plain": [
       "  x1       x2       x3       x4       x5       x6        x7       x8      \n",
       "1 65.48398 70.48211 56.88620 12.12618 27.03509  78.85772 70.73151 31.34095\n",
       "2 87.08100 65.19052 46.98707 11.31277 22.49027 102.18523 87.69954 21.54192\n",
       "3 95.93097 68.42119 53.28274 44.51899 37.47390  63.68323 82.90495 25.51366\n",
       "4 71.62404 69.95045 49.21460 38.60374 54.28510 116.42138 81.01467 26.32215\n",
       "5 99.29470 74.42423 53.95678 27.13324 35.59235  58.64393 91.94221 34.86319\n",
       "6 67.68930 73.52623 44.67050 32.48536 63.34984 114.01597 61.42266 19.32580\n",
       "  x9      \n",
       "1 29.63396\n",
       "2 37.25546\n",
       "3 36.97835\n",
       "4 21.75862\n",
       "5 57.11855\n",
       "6 41.73535"
      ]
     },
     "metadata": {},
     "output_type": "display_data"
    }
   ],
   "source": [
    "head(X)"
   ]
  },
  {
   "cell_type": "code",
   "execution_count": 42,
   "metadata": {},
   "outputs": [
    {
     "ename": "ERROR",
     "evalue": "Error in solve.default(X): 'a' (10 x 9) debe ser cuadrada\n",
     "output_type": "error",
     "traceback": [
      "Error in solve.default(X): 'a' (10 x 9) debe ser cuadrada\nTraceback:\n",
      "1. solve(X)",
      "2. solve.default(X)"
     ]
    }
   ],
   "source": [
    "Inv_X <- solve(X)\n",
    "Inv_X"
   ]
  },
  {
   "cell_type": "markdown",
   "metadata": {},
   "source": [
    "R shows us an error message because vector 10 of X is a linear combination of vector 1,2 and 3. This, obviously, will show us that X is a singular matrix, that is, that it has a 0 determinant, so it is not invertible. However, as we can see in the image, python can show us the inverse matrix of X even if it has the same characteristics as X en R and this is because the difference in packages betwen R and python. This last one has statical packages that can aproximate a inverse matrix even with these been singular matrixs.  "
   ]
  },
  {
   "cell_type": "markdown",
   "metadata": {},
   "source": [
    "# *QUESTION 2*"
   ]
  },
  {
   "cell_type": "markdown",
   "metadata": {},
   "source": [
    "##### 1. Replicate the results of the script analyzing_rct_reemployment_experiment both in Python and R. Follow the next instructions:\n",
    "\n",
    "- Focus on the Treatment group 2\n",
    "- Plot two histograms for treatment and control group to see the distribution of the outcome variable inuidur1\n",
    "- Run all specifications:\n",
    "    * classical 2-sample approach, no adjustment (CL)\n",
    "    * classical linear regression adjustment (CRA)\n",
    "    * interactive regression adjustment (IRA)\n",
    "    * interactive regression adjustment (IRA) using Lasso. I already fixed the problems in the Python code so please check again the Python script for the solution. For this now I used another package called hdmpy, you can see how to install it in this link. If you don´t want to use this package (which will give you the exact results as it is in R) just use the lasso from scikit-learn."
   ]
  },
  {
   "cell_type": "markdown",
   "metadata": {},
   "source": [
    "# Analyzing RCT data with Precision Adjustment"
   ]
  },
  {
   "cell_type": "markdown",
   "metadata": {
    "papermill": {
     "duration": 0.011347,
     "end_time": "2021-02-20T13:42:41.213041",
     "exception": false,
     "start_time": "2021-02-20T13:42:41.201694",
     "status": "completed"
    },
    "tags": []
   },
   "source": [
    "## Data\n",
    "\n",
    "In this lab, our group will analyze the Pennsylvania re-employment bonus experiment, which was previously studied in \"Sequential testing of duration data: the case of the Pennsylvania ‘reemployment bonus’ experiment\" (Bilias, 2000). These type of experiments were conducted in 1980s by the U.S. Department of Labor to test the incentive effects of alternative compensation schemes for unemployment insurance (UI). In these experiments, UI claimants were randomly assigned either to a control group or one of five treatment groups. Actually, there are six treatment groups in the experiments. Here we focus on treatment group 4, but feel free to explore other treatment groups. In the control group the current rules of the UI applied. Individuals in the treatment groups were offered a cash bonus if they found a job within some pre-specified period of time (qualification period), provided that the job was retained for a specified duration. The treatments differed in the level of the bonus, the length of the qualification period, and whether the bonus was declining over time in the qualification period; see http://qed.econ.queensu.ca/jae/2000-v15.6/bilias/readme.b.txt for further details on data. \n",
    "  "
   ]
  },
  {
   "cell_type": "markdown",
   "metadata": {},
   "source": [
    "## Focus on the Treatment group 2"
   ]
  },
  {
   "cell_type": "code",
   "execution_count": 43,
   "metadata": {
    "execution": {
     "iopub.execute_input": "2021-02-20T13:42:41.267823Z",
     "iopub.status.busy": "2021-02-20T13:42:41.265606Z",
     "iopub.status.idle": "2021-02-20T13:42:41.503621Z",
     "shell.execute_reply": "2021-02-20T13:42:41.502578Z"
    },
    "papermill": {
     "duration": 0.279482,
     "end_time": "2021-02-20T13:42:41.503829",
     "exception": false,
     "start_time": "2021-02-20T13:42:41.224347",
     "status": "completed"
    },
    "tags": []
   },
   "outputs": [],
   "source": [
    "## loading the data\n",
    "Data <- as.data.frame(read.table(\"../data/penn_jae.dat\", header=T ))\n",
    "n <- dim(Data)[1]\n",
    "p_1 <- dim(Data)[2]\n",
    "Data<- subset(Data, tg==2 | tg==0)\n",
    "attach(Data)"
   ]
  },
  {
   "cell_type": "code",
   "execution_count": 44,
   "metadata": {
    "execution": {
     "iopub.execute_input": "2021-02-20T13:42:41.560613Z",
     "iopub.status.busy": "2021-02-20T13:42:41.531063Z",
     "iopub.status.idle": "2021-02-20T13:42:41.580817Z",
     "shell.execute_reply": "2021-02-20T13:42:41.579312Z"
    },
    "papermill": {
     "duration": 0.065266,
     "end_time": "2021-02-20T13:42:41.580972",
     "exception": false,
     "start_time": "2021-02-20T13:42:41.515706",
     "status": "completed"
    },
    "tags": []
   },
   "outputs": [
    {
     "data": {
      "text/plain": [
       "   Mode   FALSE    TRUE \n",
       "logical    3354    2428 "
      ]
     },
     "metadata": {},
     "output_type": "display_data"
    }
   ],
   "source": [
    "T2<- (tg==2)\n",
    "summary(T2)"
   ]
  },
  {
   "cell_type": "code",
   "execution_count": 45,
   "metadata": {},
   "outputs": [
    {
     "data": {
      "text/html": [
       "<style>\n",
       ".list-inline {list-style: none; margin:0; padding: 0}\n",
       ".list-inline>li {display: inline-block}\n",
       ".list-inline>li:not(:last-child)::after {content: \"\\00b7\"; padding: 0 .5ex}\n",
       "</style>\n",
       "<ol class=list-inline><li>'abdt'</li><li>'tg'</li><li>'inuidur1'</li><li>'inuidur2'</li><li>'female'</li><li>'black'</li><li>'hispanic'</li><li>'othrace'</li><li>'dep'</li><li>'q1'</li><li>'q2'</li><li>'q3'</li><li>'q4'</li><li>'q5'</li><li>'q6'</li><li>'recall'</li><li>'agelt35'</li><li>'agegt54'</li><li>'durable'</li><li>'nondurable'</li><li>'lusd'</li><li>'husd'</li><li>'muld'</li></ol>\n"
      ],
      "text/latex": [
       "\\begin{enumerate*}\n",
       "\\item 'abdt'\n",
       "\\item 'tg'\n",
       "\\item 'inuidur1'\n",
       "\\item 'inuidur2'\n",
       "\\item 'female'\n",
       "\\item 'black'\n",
       "\\item 'hispanic'\n",
       "\\item 'othrace'\n",
       "\\item 'dep'\n",
       "\\item 'q1'\n",
       "\\item 'q2'\n",
       "\\item 'q3'\n",
       "\\item 'q4'\n",
       "\\item 'q5'\n",
       "\\item 'q6'\n",
       "\\item 'recall'\n",
       "\\item 'agelt35'\n",
       "\\item 'agegt54'\n",
       "\\item 'durable'\n",
       "\\item 'nondurable'\n",
       "\\item 'lusd'\n",
       "\\item 'husd'\n",
       "\\item 'muld'\n",
       "\\end{enumerate*}\n"
      ],
      "text/markdown": [
       "1. 'abdt'\n",
       "2. 'tg'\n",
       "3. 'inuidur1'\n",
       "4. 'inuidur2'\n",
       "5. 'female'\n",
       "6. 'black'\n",
       "7. 'hispanic'\n",
       "8. 'othrace'\n",
       "9. 'dep'\n",
       "10. 'q1'\n",
       "11. 'q2'\n",
       "12. 'q3'\n",
       "13. 'q4'\n",
       "14. 'q5'\n",
       "15. 'q6'\n",
       "16. 'recall'\n",
       "17. 'agelt35'\n",
       "18. 'agegt54'\n",
       "19. 'durable'\n",
       "20. 'nondurable'\n",
       "21. 'lusd'\n",
       "22. 'husd'\n",
       "23. 'muld'\n",
       "\n",
       "\n"
      ],
      "text/plain": [
       " [1] \"abdt\"       \"tg\"         \"inuidur1\"   \"inuidur2\"   \"female\"    \n",
       " [6] \"black\"      \"hispanic\"   \"othrace\"    \"dep\"        \"q1\"        \n",
       "[11] \"q2\"         \"q3\"         \"q4\"         \"q5\"         \"q6\"        \n",
       "[16] \"recall\"     \"agelt35\"    \"agegt54\"    \"durable\"    \"nondurable\"\n",
       "[21] \"lusd\"       \"husd\"       \"muld\"      "
      ]
     },
     "metadata": {},
     "output_type": "display_data"
    }
   ],
   "source": [
    "names(Data)"
   ]
  },
  {
   "cell_type": "markdown",
   "metadata": {},
   "source": [
    "##  Plot two histograms for treatment and control group to see the distribution of the outcome variable inuidur1"
   ]
  },
  {
   "cell_type": "code",
   "execution_count": 46,
   "metadata": {},
   "outputs": [
    {
     "data": {
      "image/png": "[encoded data removed]",
      "text/plain": [
       "Plot with title \"Treatment Group and Control Group Histogram\""
      ]
     },
     "metadata": {
      "image/png": {
       "height": 420,
       "width": 420
      }
     },
     "output_type": "display_data"
    }
   ],
   "source": [
    "c1 <- rgb(0, 0, 1, 0.3) \n",
    "c2 <- rgb(1, 1, 0, 0.3)\n",
    "\n",
    "hist(Data$inuidur2[Data$tg==2],ylim=c(0,650),xlim=c(0,60),xlab=\"First spell of unemployment Length (in weeks)\"\n",
    "     ,ylab=\"Records Count\",col=c1,cex.main = 1.1,breaks=80, \n",
    "     main = \"Treatment Group and Control Group Histogram\")\n",
    "hist(Data$inuidur2[Data$tg==0],breaks=80,add=T,col=c2)\n",
    "grid(nx = NA, ny = NULL, lty = 2, col = \"gray\", lwd = 1)\n",
    "legend(\"topright\",\n",
    "       inset = 0.05,\n",
    "       legend = c(\"Treatment group\", \" Control group\"),\n",
    "       lty = c(1, 1),\n",
    "       col = c(c1, c2),\n",
    "       lwd = 2)"
   ]
  },
  {
   "cell_type": "code",
   "execution_count": 47,
   "metadata": {},
   "outputs": [
    {
     "data": {
      "image/png": "[encoded data removed]",
      "text/plain": [
       "Plot with title \"Treatment group Histogram\""
      ]
     },
     "metadata": {
      "image/png": {
       "height": 420,
       "width": 420
      }
     },
     "output_type": "display_data"
    }
   ],
   "source": [
    "hist(Data$inuidur2[Data$tg==2],ylim=c(0,500),xlim=c(0,60),xlab=\"Length (in weeks) of the first spell of unemployment\"\n",
    "     ,ylab=\"Records Count\",col=c1,cex.main = 1.1,breaks=80, main = \"Treatment group Histogram\")\n",
    "grid(nx = NA, ny = NULL, lty = 2, col = \"gray\", lwd = 1)"
   ]
  },
  {
   "cell_type": "code",
   "execution_count": 48,
   "metadata": {},
   "outputs": [
    {
     "data": {
      "image/png": "[encoded data removed]",
      "text/plain": [
       "Plot with title \"Control group Histogram\""
      ]
     },
     "metadata": {
      "image/png": {
       "height": 420,
       "width": 420
      }
     },
     "output_type": "display_data"
    }
   ],
   "source": [
    "hist(Data$inuidur2[Data$tg==0],ylim=c(0,650),xlim=c(0,60),xlab=\"First spell of unemployment Lenght (in weeks)\"\n",
    "     ,ylab=\"Records Counts\",col=c2,cex.main = 1.1,breaks=80, main = \"Control group Histogram\")\n",
    "grid(nx = NA, ny = NULL, lty = 2, col = \"gray\", lwd = 1)"
   ]
  },
  {
   "cell_type": "markdown",
   "metadata": {
    "papermill": {
     "duration": 0.012846,
     "end_time": "2021-02-20T13:42:41.672662",
     "exception": false,
     "start_time": "2021-02-20T13:42:41.659816",
     "status": "completed"
    },
    "tags": []
   },
   "source": [
    "### Model \n",
    "To evaluate treatments' impact on unemployment duration, we consider the linear regression model:\n",
    "\n",
    "$$\n",
    "Y =  D \\beta_1 + W'\\beta_2 + \\varepsilon, \\quad E \\varepsilon (D,W')' = 0,\n",
    "$$\n",
    "\n",
    "where $Y$ is  the  log of duration of unemployment, $D$ is a treatment  indicators,  and $W$ is a set of controls including age group dummies, gender, race, number of dependents, quarter of the experiment, location within the state, existence of recall expectations, and type of occupation.   Here $\\beta_1$ is the ATE, if the RCT assumptions hold rigorously.\n",
    "\n",
    "\n",
    "We also consider interactive regression model:\n",
    "\n",
    "$$\n",
    "Y =  D \\alpha_1 + D W' \\alpha_2 + W'\\beta_2 + \\varepsilon, \\quad E \\varepsilon (D,W', DW')' = 0,\n",
    "$$\n",
    "where $W$'s are demeaned (apart from the intercept), so that $\\alpha_1$ is the ATE, if the RCT assumptions hold rigorously."
   ]
  },
  {
   "cell_type": "markdown",
   "metadata": {
    "papermill": {
     "duration": 0.012735,
     "end_time": "2021-02-20T13:42:41.698676",
     "exception": false,
     "start_time": "2021-02-20T13:42:41.685941",
     "status": "completed"
    },
    "tags": []
   },
   "source": [
    "Under RCT, the projection coefficient $\\beta_1$ has\n",
    "the interpretation of the causal effect of the treatment on\n",
    "the average outcome. We thus refer to $\\beta_1$ as the average\n",
    "treatment effect (ATE). Note that the covariates, here are\n",
    "independent of the treatment $D$, so we can identify $\\beta_1$ by\n",
    "just linear regression of $Y$ on $D$, without adding covariates.\n",
    "However we do add covariates in an effort to improve the\n",
    "precision of our estimates of the average treatment effect."
   ]
  },
  {
   "cell_type": "markdown",
   "metadata": {
    "papermill": {
     "duration": 0.012728,
     "end_time": "2021-02-20T13:42:41.724182",
     "exception": false,
     "start_time": "2021-02-20T13:42:41.711454",
     "status": "completed"
    },
    "tags": []
   },
   "source": [
    "### Analysis\n",
    "\n",
    "We consider \n",
    "\n",
    "*  classical 2-sample approach, no adjustment (CL)\n",
    "*  classical linear regression adjustment (CRA)\n",
    "*  interactive regression adjusment (IRA)\n",
    "\n",
    "and carry out robust inference using the *estimatr* R packages. "
   ]
  },
  {
   "cell_type": "markdown",
   "metadata": {
    "papermill": {
     "duration": 0.01276,
     "end_time": "2021-02-20T13:42:41.749736",
     "exception": false,
     "start_time": "2021-02-20T13:42:41.736976",
     "status": "completed"
    },
    "tags": []
   },
   "source": [
    "# 1° *Carry out covariate balance check*"
   ]
  },
  {
   "cell_type": "code",
   "execution_count": 49,
   "metadata": {
    "execution": {
     "iopub.execute_input": "2021-02-20T13:42:41.808584Z",
     "iopub.status.busy": "2021-02-20T13:42:41.806963Z",
     "iopub.status.idle": "2021-02-20T13:42:42.217752Z",
     "shell.execute_reply": "2021-02-20T13:42:42.215514Z"
    },
    "papermill": {
     "duration": 0.428084,
     "end_time": "2021-02-20T13:42:42.217973",
     "exception": false,
     "start_time": "2021-02-20T13:42:41.789889",
     "status": "completed"
    },
    "tags": []
   },
   "outputs": [
    {
     "name": "stderr",
     "output_type": "stream",
     "text": [
      "Loading required package: zoo\n",
      "\n",
      "\n",
      "Attaching package: 'zoo'\n",
      "\n",
      "\n",
      "The following objects are masked from 'package:base':\n",
      "\n",
      "    as.Date, as.Date.numeric\n",
      "\n",
      "\n"
     ]
    },
    {
     "data": {
      "text/plain": [
       "\n",
       "t test of coefficients:\n",
       "\n",
       "                       Estimate Std. Error t value  Pr(>|t|)    \n",
       "(Intercept)           0.5171342  0.1568823  3.2963 0.0009856 ***\n",
       "female                0.0056240  0.1324597  0.0425 0.9661352    \n",
       "black                -0.0307771  0.0847262 -0.3633 0.7164293    \n",
       "othrace              -0.4278818  0.3005502 -1.4237 0.1545993    \n",
       "factor(dep)1          0.1576567  0.1851798  0.8514 0.3945992    \n",
       "factor(dep)2         -0.1927958  0.1508926 -1.2777 0.2014067    \n",
       "q2                   -0.1092161  0.1583768 -0.6896 0.4904762    \n",
       "q3                   -0.1075663  0.1579864 -0.6809 0.4959890    \n",
       "q4                   -0.0621302  0.1581168 -0.3929 0.6943797    \n",
       "q5                   -0.0498684  0.1575034 -0.3166 0.7515450    \n",
       "q6                   -0.2176336  0.1558290 -1.3966 0.1625831    \n",
       "agelt35              -0.0643464  0.1326376 -0.4851 0.6276032    \n",
       "agegt54               0.0259251  0.2395371  0.1082 0.9138171    \n",
       "durable              -0.1256397  0.1763853 -0.7123 0.4763064    \n",
       "lusd                  0.0860694  0.0690513  1.2465 0.2126486    \n",
       "husd                 -0.0181543  0.0761231 -0.2385 0.8115132    \n",
       "female:black          0.0026783  0.0438397  0.0611 0.9512880    \n",
       "female:othrace        0.1015133  0.2062044  0.4923 0.6225301    \n",
       "female:factor(dep)1  -0.0178540  0.0448463 -0.3981 0.6905601    \n",
       "female:factor(dep)2   0.0219424  0.0397124  0.5525 0.5806048    \n",
       "female:q2            -0.0994751  0.1321625 -0.7527 0.4516778    \n",
       "female:q3            -0.0143909  0.1318197 -0.1092 0.9130705    \n",
       "female:q4            -0.0166871  0.1315462 -0.1269 0.8990607    \n",
       "female:q5            -0.0586323  0.1310954 -0.4472 0.6547126    \n",
       "female:q6             0.0549625  0.1396608  0.3935 0.6939334    \n",
       "female:agelt35        0.0333185  0.0295704  1.1268 0.2598944    \n",
       "female:agegt54       -0.0109911  0.0500743 -0.2195 0.8262722    \n",
       "female:durable       -0.0585915  0.0437316 -1.3398 0.1803639    \n",
       "female:lusd           0.0051154  0.0333352  0.1535 0.8780465    \n",
       "female:husd           0.0186705  0.0367009  0.5087 0.6109674    \n",
       "black:factor(dep)1   -0.0138871  0.0675124 -0.2057 0.8370347    \n",
       "black:factor(dep)2   -0.0230275  0.0622780 -0.3698 0.7115795    \n",
       "black:q2              0.1310560  0.0910134  1.4400 0.1499327    \n",
       "black:q3              0.0356778  0.0875644  0.4074 0.6836956    \n",
       "black:q4             -0.1094835  0.0892166 -1.2272 0.2198114    \n",
       "black:q5             -0.0107546  0.0866019 -0.1242 0.9011738    \n",
       "black:agelt35         0.0295378  0.0448494  0.6586 0.5101795    \n",
       "black:agegt54        -0.0574814  0.0820450 -0.7006 0.4835761    \n",
       "black:durable        -0.0122293  0.0694472 -0.1761 0.8602255    \n",
       "black:lusd            0.0105912  0.0551036  0.1922 0.8475884    \n",
       "black:husd            0.1309267  0.1808848  0.7238 0.4692108    \n",
       "othrace:factor(dep)1  0.5856787  0.2226353  2.6307 0.0085448 ** \n",
       "othrace:factor(dep)2 -0.1436491  0.3315486 -0.4333 0.6648372    \n",
       "othrace:q2           -0.4009126  0.3451284 -1.1616 0.2454333    \n",
       "othrace:q3            0.6008526  0.2361499  2.5444 0.0109738 *  \n",
       "othrace:q4            0.2964049  0.2870002  1.0328 0.3017560    \n",
       "othrace:q5            0.2727293  0.1923161  1.4181 0.1562076    \n",
       "othrace:agelt35       0.0077601  0.2082436  0.0373 0.9702755    \n",
       "othrace:agegt54       0.2411511  0.3193219  0.7552 0.4501618    \n",
       "othrace:durable      -0.1463647  0.2138674 -0.6844 0.4937685    \n",
       "othrace:lusd          0.0924759  0.2070878  0.4466 0.6552140    \n",
       "othrace:husd         -0.8586692  0.3178289 -2.7017 0.0069197 ** \n",
       "factor(dep)1:q2      -0.0778714  0.1856444 -0.4195 0.6748920    \n",
       "factor(dep)2:q2       0.1434300  0.1499260  0.9567 0.3387736    \n",
       "factor(dep)1:q3      -0.1493913  0.1848276 -0.8083 0.4189669    \n",
       "factor(dep)2:q3       0.1686729  0.1499105  1.1252 0.2605697    \n",
       "factor(dep)1:q4      -0.1594688  0.1838128 -0.8676 0.3856714    \n",
       "factor(dep)2:q4       0.1210031  0.1503997  0.8045 0.4211168    \n",
       "factor(dep)1:q5      -0.1176792  0.1832795 -0.6421 0.5208502    \n",
       "factor(dep)2:q5       0.1389782  0.1487634  0.9342 0.3502285    \n",
       "factor(dep)1:q6      -0.1531103  0.1949430 -0.7854 0.4322458    \n",
       "factor(dep)2:q6       0.1619139  0.1593360  1.0162 0.3095874    \n",
       "factor(dep)1:agelt35 -0.0036069  0.0467653 -0.0771 0.9385253    \n",
       "factor(dep)2:agelt35  0.0615367  0.0371449  1.6567 0.0976424 .  \n",
       "factor(dep)1:agegt54 -0.0883148  0.0649947 -1.3588 0.1742643    \n",
       "factor(dep)2:agegt54 -0.0784522  0.1509474 -0.5197 0.6032706    \n",
       "factor(dep)1:durable  0.0088069  0.0577750  0.1524 0.8788500    \n",
       "factor(dep)2:durable -0.0923628  0.0509130 -1.8141 0.0697103 .  \n",
       "factor(dep)1:lusd     0.0358529  0.0504978  0.7100 0.4777404    \n",
       "factor(dep)2:lusd     0.0706587  0.0459827  1.5366 0.1244382    \n",
       "factor(dep)1:husd    -0.0180593  0.0542162 -0.3331 0.7390723    \n",
       "factor(dep)2:husd     0.0065759  0.0476358  0.1380 0.8902087    \n",
       "q2:agelt35            0.0305875  0.1325911  0.2307 0.8175636    \n",
       "q2:agegt54            0.0590330  0.2393334  0.2467 0.8051835    \n",
       "q2:durable            0.1371323  0.1750979  0.7832 0.4335568    \n",
       "q2:lusd              -0.0530912  0.0720069 -0.7373 0.4609656    \n",
       "q2:husd               0.0859891  0.0776931  1.1068 0.2684364    \n",
       "q3:agelt35            0.0303266  0.1323929  0.2291 0.8188267    \n",
       "q3:agegt54            0.0250950  0.2378238  0.1055 0.9159676    \n",
       "q3:durable            0.1904666  0.1749626  1.0886 0.2763706    \n",
       "q3:lusd              -0.0706455  0.0705820 -1.0009 0.3169179    \n",
       "q3:husd               0.0444347  0.0773385  0.5745 0.5656194    \n",
       "q4:agelt35            0.0722676  0.1322839  0.5463 0.5848765    \n",
       "q4:agegt54           -0.0192713  0.2369080 -0.0813 0.9351705    \n",
       "q4:durable            0.1228723  0.1757888  0.6990 0.4845949    \n",
       "q4:lusd              -0.1132011  0.0712124 -1.5896 0.1119751    \n",
       "q4:husd               0.0103329  0.0772952  0.1337 0.8936596    \n",
       "q5:agelt35            0.0464703  0.1315468  0.3533 0.7239064    \n",
       "q5:agegt54           -0.1165307  0.2361590 -0.4934 0.6217196    \n",
       "q5:durable            0.1024633  0.1734395  0.5908 0.5546963    \n",
       "q5:lusd              -0.0357169  0.0702997 -0.5081 0.6114269    \n",
       "q5:husd               0.0269861  0.0756590  0.3567 0.7213443    \n",
       "q6:agelt35            0.1099339  0.1397160  0.7868 0.4314094    \n",
       "q6:agegt54           -0.0173502  0.2478564 -0.0700 0.9441953    \n",
       "q6:durable            0.2161095  0.1833399  1.1787 0.2385522    \n",
       "agelt35:durable       0.0323100  0.0403347  0.8010 0.4231383    \n",
       "agelt35:lusd         -0.0091978  0.0346701 -0.2653 0.7907913    \n",
       "agelt35:husd         -0.0249924  0.0389720 -0.6413 0.5213594    \n",
       "agegt54:durable      -0.0154688  0.0654590 -0.2363 0.8131985    \n",
       "agegt54:lusd          0.0286866  0.0569181  0.5040 0.6142822    \n",
       "agegt54:husd         -0.0423210  0.0610019 -0.6938 0.4878572    \n",
       "durable:lusd         -0.0385741  0.0428073 -0.9011 0.3675670    \n",
       "durable:husd          0.0093281  0.0525225  0.1776 0.8590417    \n",
       "---\n",
       "Signif. codes:  0 '***' 0.001 '**' 0.01 '*' 0.05 '.' 0.1 ' ' 1\n"
      ]
     },
     "metadata": {},
     "output_type": "display_data"
    }
   ],
   "source": [
    "m <- lm(T2~(female+black+othrace+factor(dep)+q2+q3+q4+q5+q6+agelt35+agegt54+durable+lusd+husd)^2)\n",
    "library(lmtest)\n",
    "library(sandwich)\n",
    "coeftest(m, vcov = vcovHC(m, type=\"HC1\"))"
   ]
  },
  {
   "cell_type": "markdown",
   "metadata": {
    "papermill": {
     "duration": 0.02549,
     "end_time": "2021-02-20T13:42:42.269256",
     "exception": false,
     "start_time": "2021-02-20T13:42:42.243766",
     "status": "completed"
    },
    "tags": []
   },
   "source": [
    "We see that that even though this is a randomized experiment, balance conditions are failed."
   ]
  },
  {
   "cell_type": "markdown",
   "metadata": {
    "papermill": {
     "duration": 0.021046,
     "end_time": "2021-02-20T13:42:42.315674",
     "exception": false,
     "start_time": "2021-02-20T13:42:42.294628",
     "status": "completed"
    },
    "tags": []
   },
   "source": [
    "# Model Specification"
   ]
  },
  {
   "cell_type": "code",
   "execution_count": 50,
   "metadata": {
    "execution": {
     "iopub.execute_input": "2021-02-20T13:42:42.351202Z",
     "iopub.status.busy": "2021-02-20T13:42:42.350620Z",
     "iopub.status.idle": "2021-02-20T13:42:42.680257Z",
     "shell.execute_reply": "2021-02-20T13:42:42.677739Z"
    },
    "papermill": {
     "duration": 0.350081,
     "end_time": "2021-02-20T13:42:42.680497",
     "exception": false,
     "start_time": "2021-02-20T13:42:42.330416",
     "status": "completed"
    },
    "tags": []
   },
   "outputs": [],
   "source": [
    "# Classical 2-sample approach, no adjustment (CL)\n",
    "formula_cl <- log(inuidur1)~T2\n",
    "\n",
    "# classical linear regression adjustment\n",
    "formula_cra <- log(inuidur1)~T2+ (female+black+othrace+factor(dep)+q2+q3+q4+q5+q6+agelt35+agegt54+durable+lusd+husd)^2\n",
    "# Omitted dummies: q1, nondurable, muld\n",
    "ols.cl <- lm(formula_cl)\n",
    "ols.cra <- lm(formula_cra)\n",
    "\n",
    "ols.cl = coeftest(ols.cl, vcov = vcovHC(ols.cl, type=\"HC1\"))\n",
    "ols.cra = coeftest(ols.cra, vcov = vcovHC(ols.cra, type=\"HC1\"))\n"
   ]
  },
  {
   "cell_type": "markdown",
   "metadata": {},
   "source": [
    "### *1° Forma: interactive regression adjustment (IRA)*"
   ]
  },
  {
   "cell_type": "code",
   "execution_count": 51,
   "metadata": {},
   "outputs": [
    {
     "data": {
      "text/plain": [
       "\n",
       "Call:\n",
       "lm(formula = formula_cl)\n",
       "\n",
       "Residuals:\n",
       "    Min      1Q  Median      3Q     Max \n",
       "-2.0568 -0.9582  0.3411  1.2001  1.9732 \n",
       "\n",
       "Coefficients:\n",
       "            Estimate Std. Error t value Pr(>|t|)    \n",
       "(Intercept)  2.05683    0.02104  97.779   <2e-16 ***\n",
       "T2TRUE      -0.07883    0.03246  -2.428   0.0152 *  \n",
       "---\n",
       "Signif. codes:  0 '***' 0.001 '**' 0.01 '*' 0.05 '.' 0.1 ' ' 1\n",
       "\n",
       "Residual standard error: 1.218 on 5780 degrees of freedom\n",
       "Multiple R-squared:  0.001019,\tAdjusted R-squared:  0.0008463 \n",
       "F-statistic: 5.897 on 1 and 5780 DF,  p-value: 0.0152\n"
      ]
     },
     "metadata": {},
     "output_type": "display_data"
    }
   ],
   "source": [
    "summary(lm(formula_cl)) "
   ]
  },
  {
   "cell_type": "markdown",
   "metadata": {},
   "source": [
    "### *2° Forma: interactive regression adjustment (IRA)*"
   ]
  },
  {
   "cell_type": "code",
   "execution_count": 52,
   "metadata": {},
   "outputs": [
    {
     "data": {
      "text/plain": [
       "\n",
       "Call:\n",
       "lm(formula = formula_cra)\n",
       "\n",
       "Residuals:\n",
       "    Min      1Q  Median      3Q     Max \n",
       "-2.7486 -0.9882  0.3007  1.0086  2.2507 \n",
       "\n",
       "Coefficients: (17 not defined because of singularities)\n",
       "                      Estimate Std. Error t value Pr(>|t|)    \n",
       "(Intercept)           2.447183   0.381276   6.418 1.49e-10 ***\n",
       "T2TRUE               -0.071207   0.032089  -2.219 0.026522 *  \n",
       "female               -0.942805   0.313809  -3.004 0.002673 ** \n",
       "black                -0.665426   0.212970  -3.125 0.001790 ** \n",
       "othrace              -1.549455   0.990390  -1.564 0.117758    \n",
       "factor(dep)1          0.279850   0.450985   0.621 0.534933    \n",
       "factor(dep)2          0.167816   0.393591   0.426 0.669852    \n",
       "q2                    0.027123   0.384918   0.070 0.943827    \n",
       "q3                   -0.354237   0.383939  -0.923 0.356235    \n",
       "q4                   -0.338024   0.384104  -0.880 0.378878    \n",
       "q5                   -0.177717   0.382676  -0.464 0.642375    \n",
       "q6                   -0.445604   0.381386  -1.168 0.242702    \n",
       "agelt35              -0.326482   0.325993  -1.001 0.316629    \n",
       "agegt54              -0.155150   0.580490  -0.267 0.789267    \n",
       "durable              -1.015154   0.459364  -2.210 0.027151 *  \n",
       "lusd                 -0.119372   0.166695  -0.716 0.473953    \n",
       "husd                  0.070297   0.189191   0.372 0.710230    \n",
       "female:black         -0.284003   0.107086  -2.652 0.008021 ** \n",
       "female:othrace        0.421165   0.559526   0.753 0.451651    \n",
       "female:factor(dep)1  -0.085211   0.109520  -0.778 0.436579    \n",
       "female:factor(dep)2   0.019166   0.096837   0.198 0.843112    \n",
       "female:q2             0.757948   0.313262   2.420 0.015572 *  \n",
       "female:q3             1.113204   0.312167   3.566 0.000365 ***\n",
       "female:q4             1.047627   0.311538   3.363 0.000777 ***\n",
       "female:q5             0.939172   0.310469   3.025 0.002497 ** \n",
       "female:q6             1.094338   0.333146   3.285 0.001027 ** \n",
       "female:agelt35        0.089704   0.071575   1.253 0.210150    \n",
       "female:agegt54        0.105230   0.122274   0.861 0.389491    \n",
       "female:durable        0.147931   0.105868   1.397 0.162374    \n",
       "female:lusd           0.104047   0.080257   1.296 0.194883    \n",
       "female:husd           0.040542   0.088527   0.458 0.646993    \n",
       "black:othrace               NA         NA      NA       NA    \n",
       "black:factor(dep)1    0.255053   0.165235   1.544 0.122745    \n",
       "black:factor(dep)2   -0.002669   0.152958  -0.017 0.986080    \n",
       "black:q2              0.157896   0.226093   0.698 0.484974    \n",
       "black:q3              0.313697   0.217760   1.441 0.149764    \n",
       "black:q4              0.407057   0.223674   1.820 0.068832 .  \n",
       "black:q5              0.477969   0.215542   2.218 0.026627 *  \n",
       "black:q6                    NA         NA      NA       NA    \n",
       "black:agelt35        -0.032788   0.108448  -0.302 0.762401    \n",
       "black:agegt54         0.240415   0.212592   1.131 0.258156    \n",
       "black:durable         0.160468   0.165980   0.967 0.333689    \n",
       "black:lusd            0.097675   0.130924   0.746 0.455674    \n",
       "black:husd            0.522659   0.467317   1.118 0.263433    \n",
       "othrace:factor(dep)1  1.166153   0.865381   1.348 0.177853    \n",
       "othrace:factor(dep)2 -0.768728   0.794048  -0.968 0.333029    \n",
       "othrace:q2            1.510806   1.083043   1.395 0.163081    \n",
       "othrace:q3            0.291582   0.935080   0.312 0.755184    \n",
       "othrace:q4            0.942259   0.875354   1.076 0.281780    \n",
       "othrace:q5            0.963346   0.748570   1.287 0.198176    \n",
       "othrace:q6                  NA         NA      NA       NA    \n",
       "othrace:agelt35      -0.190244   0.569908  -0.334 0.738532    \n",
       "othrace:agegt54      -1.531986   1.559790  -0.982 0.326056    \n",
       "othrace:durable       1.903723   0.611306   3.114 0.001854 ** \n",
       "othrace:lusd         -0.128802   0.527527  -0.244 0.807114    \n",
       "othrace:husd          0.613116   2.022513   0.303 0.761790    \n",
       "factor(dep)1:q2      -0.057830   0.451605  -0.128 0.898111    \n",
       "factor(dep)2:q2      -0.086835   0.391316  -0.222 0.824395    \n",
       "factor(dep)1:q3      -0.144824   0.450298  -0.322 0.747753    \n",
       "factor(dep)2:q3      -0.066436   0.391020  -0.170 0.865091    \n",
       "factor(dep)1:q4      -0.232282   0.447770  -0.519 0.603953    \n",
       "factor(dep)2:q4      -0.018917   0.391736  -0.048 0.961486    \n",
       "factor(dep)1:q5      -0.136685   0.445910  -0.307 0.759213    \n",
       "factor(dep)2:q5      -0.347411   0.388885  -0.893 0.371707    \n",
       "factor(dep)1:q6      -0.075443   0.482195  -0.156 0.875678    \n",
       "factor(dep)2:q6       0.167027   0.413200   0.404 0.686060    \n",
       "factor(dep)1:agelt35  0.029556   0.112766   0.262 0.793253    \n",
       "factor(dep)2:agelt35  0.060436   0.090442   0.668 0.504015    \n",
       "factor(dep)1:agegt54 -0.065378   0.160696  -0.407 0.684138    \n",
       "factor(dep)2:agegt54  0.238940   0.403636   0.592 0.553894    \n",
       "factor(dep)1:durable  0.249024   0.138554   1.797 0.072340 .  \n",
       "factor(dep)2:durable  0.115533   0.126428   0.914 0.360848    \n",
       "factor(dep)1:lusd    -0.189132   0.122303  -1.546 0.122057    \n",
       "factor(dep)2:lusd     0.009969   0.110882   0.090 0.928362    \n",
       "factor(dep)1:husd     0.021047   0.131764   0.160 0.873100    \n",
       "factor(dep)2:husd     0.064393   0.115391   0.558 0.576839    \n",
       "q2:q3                       NA         NA      NA       NA    \n",
       "q2:q4                       NA         NA      NA       NA    \n",
       "q2:q5                       NA         NA      NA       NA    \n",
       "q2:q6                       NA         NA      NA       NA    \n",
       "q2:agelt35            0.107496   0.326187   0.330 0.741750    \n",
       "q2:agegt54            0.208927   0.580299   0.360 0.718836    \n",
       "q2:durable            0.436942   0.458919   0.952 0.341082    \n",
       "q2:lusd              -0.045234   0.174125  -0.260 0.795043    \n",
       "q2:husd              -0.222372   0.192416  -1.156 0.247859    \n",
       "q3:q4                       NA         NA      NA       NA    \n",
       "q3:q5                       NA         NA      NA       NA    \n",
       "q3:q6                       NA         NA      NA       NA    \n",
       "q3:agelt35            0.180452   0.325556   0.554 0.579404    \n",
       "q3:agegt54            0.555657   0.576242   0.964 0.334949    \n",
       "q3:durable            0.839594   0.458360   1.832 0.067043 .  \n",
       "q3:lusd              -0.015961   0.170508  -0.094 0.925422    \n",
       "q3:husd              -0.113092   0.190995  -0.592 0.553792    \n",
       "q4:q5                       NA         NA      NA       NA    \n",
       "q4:q6                       NA         NA      NA       NA    \n",
       "q4:agelt35            0.118293   0.325247   0.364 0.716094    \n",
       "q4:agegt54            0.374202   0.574951   0.651 0.515175    \n",
       "q4:durable            0.743395   0.460696   1.614 0.106662    \n",
       "q4:lusd              -0.022210   0.172166  -0.129 0.897360    \n",
       "q4:husd              -0.184769   0.190461  -0.970 0.332032    \n",
       "q5:q6                       NA         NA      NA       NA    \n",
       "q5:agelt35           -0.034799   0.323584  -0.108 0.914362    \n",
       "q5:agegt54            0.217339   0.573003   0.379 0.704480    \n",
       "q5:durable            0.855398   0.455658   1.877 0.060531 .  \n",
       "q5:lusd              -0.184294   0.169663  -1.086 0.277421    \n",
       "q5:husd              -0.274158   0.186713  -1.468 0.142068    \n",
       "q6:agelt35            0.182201   0.344629   0.529 0.597043    \n",
       "q6:agegt54            0.663947   0.605895   1.096 0.273207    \n",
       "q6:durable            1.146687   0.479034   2.394 0.016709 *  \n",
       "q6:lusd                     NA         NA      NA       NA    \n",
       "q6:husd                     NA         NA      NA       NA    \n",
       "agelt35:agegt54             NA         NA      NA       NA    \n",
       "agelt35:durable       0.013041   0.098158   0.133 0.894307    \n",
       "agelt35:lusd         -0.056135   0.083226  -0.674 0.500028    \n",
       "agelt35:husd          0.017472   0.093927   0.186 0.852440    \n",
       "agegt54:durable      -0.013392   0.155332  -0.086 0.931300    \n",
       "agegt54:lusd         -0.023604   0.136090  -0.173 0.862311    \n",
       "agegt54:husd         -0.273914   0.148271  -1.847 0.064742 .  \n",
       "durable:lusd          0.291614   0.103224   2.825 0.004743 ** \n",
       "durable:husd          0.302734   0.126367   2.396 0.016623 *  \n",
       "lusd:husd                   NA         NA      NA       NA    \n",
       "---\n",
       "Signif. codes:  0 '***' 0.001 '**' 0.01 '*' 0.05 '.' 0.1 ' ' 1\n",
       "\n",
       "Residual standard error: 1.195 on 5678 degrees of freedom\n",
       "Multiple R-squared:  0.05614,\tAdjusted R-squared:  0.03901 \n",
       "F-statistic: 3.279 on 103 and 5678 DF,  p-value: < 2.2e-16\n"
      ]
     },
     "metadata": {},
     "output_type": "display_data"
    }
   ],
   "source": [
    "summary(lm(formula_cra)) "
   ]
  },
  {
   "cell_type": "markdown",
   "metadata": {},
   "source": [
    "### *3° Forma: interactive regression adjustment (IRA)*"
   ]
  },
  {
   "cell_type": "code",
   "execution_count": 53,
   "metadata": {
    "execution": {
     "iopub.execute_input": "2021-02-20T13:42:42.787957Z",
     "iopub.status.busy": "2021-02-20T13:42:42.787434Z",
     "iopub.status.idle": "2021-02-20T13:42:43.662431Z",
     "shell.execute_reply": "2021-02-20T13:42:43.659030Z"
    },
    "papermill": {
     "duration": 0.898452,
     "end_time": "2021-02-20T13:42:43.662684",
     "exception": false,
     "start_time": "2021-02-20T13:42:42.764232",
     "status": "completed"
    },
    "tags": []
   },
   "outputs": [
    {
     "data": {
      "text/html": [
       "<style>\n",
       ".list-inline {list-style: none; margin:0; padding: 0}\n",
       ".list-inline>li {display: inline-block}\n",
       ".list-inline>li:not(:last-child)::after {content: \"\\00b7\"; padding: 0 .5ex}\n",
       "</style>\n",
       "<ol class=list-inline><li>5782</li><li>119</li></ol>\n"
      ],
      "text/latex": [
       "\\begin{enumerate*}\n",
       "\\item 5782\n",
       "\\item 119\n",
       "\\end{enumerate*}\n"
      ],
      "text/markdown": [
       "1. 5782\n",
       "2. 119\n",
       "\n",
       "\n"
      ],
      "text/plain": [
       "[1] 5782  119"
      ]
     },
     "metadata": {},
     "output_type": "display_data"
    },
    {
     "name": "stdout",
     "output_type": "stream",
     "text": [
      "\n",
      "t test of coefficients:\n",
      "\n",
      "                               Estimate Std. Error t value  Pr(>|t|)    \n",
      "(Intercept)                   2.0556976  0.0207138 99.2430 < 2.2e-16 ***\n",
      "T2TRUE                       -0.0699044  0.0320764 -2.1793 0.0293503 *  \n",
      "Xfemale                      -0.6662823  0.4080234 -1.6330 0.1025357    \n",
      "Xblack                       -0.8634862  0.2969435 -2.9079 0.0036528 ** \n",
      "Xothrace                     -3.8176881  0.9366193 -4.0760 4.645e-05 ***\n",
      "Xfactor(dep)1                 0.0359264  0.6476816  0.0555 0.9557666    \n",
      "Xfactor(dep)2                 0.2117556  0.4512231  0.4693 0.6388790    \n",
      "Xq2                          -0.2546436  0.4553391 -0.5592 0.5760207    \n",
      "Xq3                          -0.6212326  0.4549639 -1.3655 0.1721653    \n",
      "Xq4                          -0.4799269  0.4561206 -1.0522 0.2927566    \n",
      "Xq5                          -0.3718675  0.4538882 -0.8193 0.4126542    \n",
      "Xq6                          -0.6770474  0.4521499 -1.4974 0.1343469    \n",
      "Xagelt35                     -0.6777054  0.4093673 -1.6555 0.0978805 .  \n",
      "Xagegt54                     -0.3041092  0.7006092 -0.4341 0.6642588    \n",
      "Xdurable                     -0.8380082  0.5963489 -1.4052 0.1600082    \n",
      "Xlusd                        -0.0994890  0.2279257 -0.4365 0.6624926    \n",
      "Xhusd                        -0.0626419  0.2349114 -0.2667 0.7897393    \n",
      "Xfemale:black                -0.2154799  0.1505114 -1.4317 0.1522994    \n",
      "Xfemale:othrace               0.5994387  0.5625667  1.0655 0.2866767    \n",
      "Xfemale:factor(dep)1         -0.1734245  0.1418828 -1.2223 0.2216430    \n",
      "Xfemale:factor(dep)2          0.2166417  0.1263365  1.7148 0.0864376 .  \n",
      "Xfemale:q2                    0.3918886  0.4066775  0.9636 0.3352708    \n",
      "Xfemale:q3                    0.6850391  0.4063439  1.6859 0.0918786 .  \n",
      "Xfemale:q4                    0.7213679  0.4061508  1.7761 0.0757695 .  \n",
      "Xfemale:q5                    0.5657763  0.4047829  1.3977 0.1622504    \n",
      "Xfemale:q6                    0.9081697  0.4304200  2.1100 0.0349061 *  \n",
      "Xfemale:agelt35               0.1700754  0.0950652  1.7890 0.0736628 .  \n",
      "Xfemale:agegt54               0.2357510  0.1601252  1.4723 0.1409985    \n",
      "Xfemale:durable               0.0974132  0.1376173  0.7079 0.4790645    \n",
      "Xfemale:lusd                  0.0720077  0.1065205  0.6760 0.4990695    \n",
      "Xfemale:husd                  0.0609671  0.1164456  0.5236 0.6006003    \n",
      "Xblack:factor(dep)1           0.1090114  0.2284814  0.4771 0.6333006    \n",
      "Xblack:factor(dep)2          -0.2006964  0.2284549 -0.8785 0.3797132    \n",
      "Xblack:q2                     0.4266974  0.3206741  1.3306 0.1833664    \n",
      "Xblack:q3                     0.3299448  0.3029904  1.0890 0.2762180    \n",
      "Xblack:q4                     0.5443145  0.3105213  1.7529 0.0796731 .  \n",
      "Xblack:q5                     0.6596567  0.3000532  2.1985 0.0279568 *  \n",
      "Xblack:agelt35                0.0829816  0.1583380  0.5241 0.6002448    \n",
      "Xblack:agegt54                0.4229716  0.2547482  1.6604 0.0968999 .  \n",
      "Xblack:durable                0.4681489  0.2274260  2.0585 0.0395917 *  \n",
      "Xblack:lusd                   0.3086087  0.1843460  1.6741 0.0941723 .  \n",
      "Xblack:husd                   0.5498228  0.6596114  0.8336 0.4045671    \n",
      "Xothrace:factor(dep)1         2.5201927  1.8549913  1.3586 0.1743280    \n",
      "Xothrace:factor(dep)2         1.1888567  0.5731618  2.0742 0.0381058 *  \n",
      "Xothrace:q2                   2.0825791  0.6083699  3.4232 0.0006233 ***\n",
      "Xothrace:q3                   0.9373310  0.6602083  1.4198 0.1557363    \n",
      "Xothrace:q4                   3.8597060  0.8805067  4.3835 1.189e-05 ***\n",
      "Xothrace:q5                   0.9711789  0.5525530  1.7576 0.0788668 .  \n",
      "Xothrace:agelt35              2.2479921  0.9154188  2.4557 0.0140914 *  \n",
      "Xothrace:agegt54             -4.1489603  0.4818685 -8.6102 < 2.2e-16 ***\n",
      "Xothrace:durable              1.7505609  0.3704944  4.7249 2.358e-06 ***\n",
      "Xothrace:lusd                -0.6944472  0.4952271 -1.4023 0.1608872    \n",
      "Xothrace:husd                 4.7889261  0.8179777  5.8546 5.054e-09 ***\n",
      "Xfactor(dep)1:q2              0.2338980  0.6415478  0.3646 0.7154358    \n",
      "Xfactor(dep)2:q2             -0.2176777  0.4481681 -0.4857 0.6271950    \n",
      "Xfactor(dep)1:q3              0.1543408  0.6437163  0.2398 0.8105211    \n",
      "Xfactor(dep)2:q3             -0.2544863  0.4501910 -0.5653 0.5719025    \n",
      "Xfactor(dep)1:q4             -0.0239012  0.6423016 -0.0372 0.9703174    \n",
      "Xfactor(dep)2:q4             -0.1619010  0.4510902 -0.3589 0.7196756    \n",
      "Xfactor(dep)1:q5              0.1395606  0.6382824  0.2187 0.8269306    \n",
      "Xfactor(dep)2:q5             -0.5626408  0.4488622 -1.2535 0.2100829    \n",
      "Xfactor(dep)1:q6              0.4833394  0.6803127  0.7105 0.4774445    \n",
      "Xfactor(dep)2:q6             -0.0048033  0.4773043 -0.0101 0.9919711    \n",
      "Xfactor(dep)1:agelt35         0.0507982  0.1492874  0.3403 0.7336654    \n",
      "Xfactor(dep)2:agelt35         0.1192418  0.1162344  1.0259 0.3049958    \n",
      "Xfactor(dep)1:agegt54         0.0366384  0.2054287  0.1784 0.8584540    \n",
      "Xfactor(dep)2:agegt54         0.2231138  0.4207401  0.5303 0.5959327    \n",
      "Xfactor(dep)1:durable         0.3397110  0.1841554  1.8447 0.0651345 .  \n",
      "Xfactor(dep)2:durable         0.1146589  0.1531899  0.7485 0.4542048    \n",
      "Xfactor(dep)1:lusd           -0.2603558  0.1618053 -1.6091 0.1076579    \n",
      "Xfactor(dep)2:lusd            0.1150924  0.1398792  0.8228 0.4106577    \n",
      "Xfactor(dep)1:husd           -0.0427975  0.1657611 -0.2582 0.7962714    \n",
      "Xfactor(dep)2:husd            0.0180150  0.1511058  0.1192 0.9051045    \n",
      "Xq2:agelt35                   0.5007384  0.4096962  1.2222 0.2216766    \n",
      "Xq2:agegt54                   0.4321562  0.6979014  0.6192 0.5357951    \n",
      "Xq2:durable                   0.2615077  0.5932161  0.4408 0.6593528    \n",
      "Xq2:lusd                     -0.0675213  0.2308924 -0.2924 0.7699640    \n",
      "Xq2:husd                     -0.1818392  0.2336888 -0.7781 0.4365280    \n",
      "Xq3:agelt35                   0.5137183  0.4098065  1.2536 0.2100534    \n",
      "Xq3:agegt54                   0.7245598  0.6955337  1.0417 0.2975811    \n",
      "Xq3:durable                   0.7223769  0.5918087  1.2206 0.2222794    \n",
      "Xq3:lusd                     -0.0013615  0.2301270 -0.0059 0.9952798    \n",
      "Xq3:husd                      0.0989285  0.2316105  0.4271 0.6692989    \n",
      "Xq4:agelt35                   0.4048006  0.4097478  0.9879 0.3232316    \n",
      "Xq4:agegt54                   0.2469008  0.6936661  0.3559 0.7219019    \n",
      "Xq4:durable                   0.5937668  0.5979290  0.9930 0.3207340    \n",
      "Xq4:lusd                     -0.1685841  0.2323628 -0.7255 0.4681629    \n",
      "Xq4:husd                     -0.1450618  0.2348279 -0.6177 0.5367741    \n",
      "Xq5:agelt35                   0.2160041  0.4081014  0.5293 0.5966252    \n",
      "Xq5:agegt54                   0.0996302  0.6916342  0.1441 0.8854658    \n",
      "Xq5:durable                   0.8536110  0.5903036  1.4461 0.1482182    \n",
      "Xq5:lusd                     -0.2592947  0.2340000 -1.1081 0.2678676    \n",
      "Xq5:husd                     -0.1735647  0.2316012 -0.7494 0.4536405    \n",
      "Xq6:agelt35                   0.3823616  0.4342403  0.8805 0.3786101    \n",
      "Xq6:agegt54                   0.8362035  0.7277854  1.1490 0.2506177    \n",
      "Xq6:durable                   1.0289246  0.6182369  1.6643 0.0961109 .  \n",
      "Xagelt35:durable             -0.0026919  0.1255663 -0.0214 0.9828970    \n",
      "Xagelt35:lusd                -0.0573760  0.1093093 -0.5249 0.5996765    \n",
      "Xagelt35:husd                 0.0545333  0.1255950  0.4342 0.6641603    \n",
      "Xagegt54:durable             -0.1239369  0.2073592 -0.5977 0.5500699    \n",
      "Xagegt54:lusd                 0.0912453  0.1756844  0.5194 0.6035228    \n",
      "Xagegt54:husd                -0.3145573  0.1892620 -1.6620 0.0965649 .  \n",
      "Xdurable:lusd                 0.2633733  0.1377873  1.9114 0.0559982 .  \n",
      "Xdurable:husd                 0.3137941  0.1581735  1.9839 0.0473203 *  \n",
      "T2TRUE:Xfemale               -0.6597505  0.5498974 -1.1998 0.2302796    \n",
      "T2TRUE:Xblack                 0.4525570  0.5103188  0.8868 0.3752182    \n",
      "T2TRUE:Xothrace               2.2114703  1.1019213  2.0069 0.0448061 *  \n",
      "T2TRUE:Xfactor(dep)1          0.7636025  0.7854484  0.9722 0.3309998    \n",
      "T2TRUE:Xfactor(dep)2         -0.0511656  0.7787378 -0.0657 0.9476164    \n",
      "T2TRUE:Xq2                    0.8969455  0.7369231  1.2171 0.2235988    \n",
      "T2TRUE:Xq3                    0.8962389  0.7356679  1.2183 0.2231746    \n",
      "T2TRUE:Xq4                    0.5889998  0.7360986  0.8002 0.4236497    \n",
      "T2TRUE:Xq5                    0.7173442  0.7348525  0.9762 0.3290204    \n",
      "T2TRUE:Xq6                    0.7812489  0.7433947  1.0509 0.2933405    \n",
      "T2TRUE:Xagelt35               1.1233199  0.6374193  1.7623 0.0780744 .  \n",
      "T2TRUE:Xagegt54               0.4142771  0.8713838  0.4754 0.6345031    \n",
      "T2TRUE:Xdurable               0.0698550  0.8506225  0.0821 0.9345525    \n",
      "T2TRUE:Xlusd                 -0.0864022  0.3607507 -0.2395 0.8107216    \n",
      "T2TRUE:Xhusd                  0.2845565  0.3988946  0.7134 0.4756512    \n",
      "T2TRUE:Xfemale:black         -0.2036471  0.2434209 -0.8366 0.4028505    \n",
      "T2TRUE:Xfemale:othrace       -0.9119496  0.5800698 -1.5721 0.1159753    \n",
      "T2TRUE:Xfemale:factor(dep)1   0.1813213  0.2195306  0.8260 0.4088676    \n",
      "T2TRUE:Xfemale:factor(dep)2  -0.4690337  0.1987659 -2.3597 0.0183225 *  \n",
      "T2TRUE:Xfemale:q2             0.8485381  0.5490759  1.5454 0.1223079    \n",
      "T2TRUE:Xfemale:q3             1.0429018  0.5461093  1.9097 0.0562238 .  \n",
      "T2TRUE:Xfemale:q4             0.7824923  0.5455513  1.4343 0.1515385    \n",
      "T2TRUE:Xfemale:q5             0.8993802  0.5448366  1.6507 0.0988492 .  \n",
      "T2TRUE:Xfemale:q6             0.4085802  0.6037867  0.6767 0.4986267    \n",
      "T2TRUE:Xfemale:agelt35       -0.1861481  0.1458569 -1.2762 0.2019247    \n",
      "T2TRUE:Xfemale:agegt54       -0.3821490  0.2443204 -1.5641 0.1178436    \n",
      "T2TRUE:Xfemale:durable        0.1103768  0.2146252  0.5143 0.6070787    \n",
      "T2TRUE:Xfemale:lusd           0.1060964  0.1631061  0.6505 0.5154122    \n",
      "T2TRUE:Xfemale:husd          -0.0426056  0.1785080 -0.2387 0.8113657    \n",
      "T2TRUE:Xblack:factor(dep)1    0.3636326  0.3503546  1.0379 0.2993622    \n",
      "T2TRUE:Xblack:factor(dep)2    0.4284152  0.3383550  1.2662 0.2055049    \n",
      "T2TRUE:Xblack:q2             -0.5878223  0.5288254 -1.1116 0.2663743    \n",
      "T2TRUE:Xblack:q3             -0.0624725  0.5099293 -0.1225 0.9024978    \n",
      "T2TRUE:Xblack:q4             -0.4010428  0.5365391 -0.7475 0.4548159    \n",
      "T2TRUE:Xblack:q5             -0.4358990  0.5091812 -0.8561 0.3919912    \n",
      "T2TRUE:Xblack:agelt35        -0.2159315  0.2417908 -0.8931 0.3718684    \n",
      "T2TRUE:Xblack:agegt54        -0.2617225  0.4866710 -0.5378 0.5907496    \n",
      "T2TRUE:Xblack:durable        -0.8365016  0.3504939 -2.3866 0.0170364 *  \n",
      "T2TRUE:Xblack:lusd           -0.4264666  0.2797101 -1.5247 0.1273972    \n",
      "T2TRUE:Xblack:husd           -0.1958402  0.8911158 -0.2198 0.8260586    \n",
      "T2TRUE:Xothrace:factor(dep)1  0.4788267  1.8947966  0.2527 0.8005046    \n",
      "T2TRUE:Xothrace:factor(dep)2 -4.4513573  0.7816787 -5.6946 1.300e-08 ***\n",
      "T2TRUE:Xothrace:q3           -0.7826362  0.9146199 -0.8557 0.3922029    \n",
      "T2TRUE:Xothrace:q4           -2.4173200  1.1442098 -2.1127 0.0346747 *  \n",
      "T2TRUE:Xothrace:q5            0.7621242  0.7958190  0.9577 0.3382757    \n",
      "T2TRUE:Xothrace:agelt35      -3.8313400  0.9536672 -4.0175 5.960e-05 ***\n",
      "T2TRUE:Xothrace:durable       1.5658689  0.4621869  3.3880 0.0007090 ***\n",
      "T2TRUE:Xothrace:lusd          2.0930436  0.5135607  4.0756 4.654e-05 ***\n",
      "T2TRUE:Xfactor(dep)1:q2      -0.8317599  0.7784232 -1.0685 0.2853327    \n",
      "T2TRUE:Xfactor(dep)2:q2       0.2248592  0.7780400  0.2890 0.7725866    \n",
      "T2TRUE:Xfactor(dep)1:q3      -0.8572816  0.7801263 -1.0989 0.2718587    \n",
      "T2TRUE:Xfactor(dep)2:q3       0.3587274  0.7752186  0.4627 0.6435662    \n",
      "T2TRUE:Xfactor(dep)1:q4      -0.6286109  0.7764648 -0.8096 0.4182158    \n",
      "T2TRUE:Xfactor(dep)2:q4       0.2390021  0.7743617  0.3086 0.7576038    \n",
      "T2TRUE:Xfactor(dep)1:q5      -0.8384601  0.7751714 -1.0816 0.2794571    \n",
      "T2TRUE:Xfactor(dep)2:q5       0.4285344  0.7744398  0.5533 0.5800476    \n",
      "T2TRUE:Xfactor(dep)1:q6      -1.5381912  0.8933469 -1.7218 0.0851558 .  \n",
      "T2TRUE:Xfactor(dep)2:q6       0.2846591  0.8180721  0.3480 0.7278808    \n",
      "T2TRUE:Xfactor(dep)1:agelt35 -0.0778347  0.2244666 -0.3468 0.7287894    \n",
      "T2TRUE:Xfactor(dep)2:agelt35 -0.1017136  0.1803295 -0.5640 0.5727475    \n",
      "T2TRUE:Xfactor(dep)1:agegt54 -0.2824587  0.3235870 -0.8729 0.3827557    \n",
      "T2TRUE:Xfactor(dep)2:agegt54  0.3793047  0.5714519  0.6638 0.5068738    \n",
      "T2TRUE:Xfactor(dep)1:durable -0.2185591  0.2804612 -0.7793 0.4358451    \n",
      "T2TRUE:Xfactor(dep)2:durable -0.0950789  0.2599196 -0.3658 0.7145274    \n",
      "T2TRUE:Xfactor(dep)1:lusd     0.2161153  0.2432651  0.8884 0.3743671    \n",
      "T2TRUE:Xfactor(dep)2:lusd    -0.2070793  0.2219038 -0.9332 0.3507603    \n",
      "T2TRUE:Xfactor(dep)1:husd     0.1232418  0.2679611  0.4599 0.6455885    \n",
      "T2TRUE:Xfactor(dep)2:husd     0.1579798  0.2302758  0.6860 0.4927126    \n",
      "T2TRUE:Xq2:agelt35           -1.2407550  0.6357096 -1.9518 0.0510162 .  \n",
      "T2TRUE:Xq2:agegt54           -0.6019870  0.8705629 -0.6915 0.4892853    \n",
      "T2TRUE:Xq2:durable           -0.0777795  0.8549362 -0.0910 0.9275141    \n",
      "T2TRUE:Xq2:lusd               0.0508269  0.3672375  0.1384 0.8899267    \n",
      "T2TRUE:Xq2:husd              -0.0920285  0.3948698 -0.2331 0.8157231    \n",
      "T2TRUE:Xq3:agelt35           -1.1277892  0.6355092 -1.7746 0.0760147 .  \n",
      "T2TRUE:Xq3:agegt54           -0.5411478  0.8621311 -0.6277 0.5302352    \n",
      "T2TRUE:Xq3:durable           -0.1956176  0.8552255 -0.2287 0.8190854    \n",
      "T2TRUE:Xq3:lusd              -0.0739597  0.3608164 -0.2050 0.8375961    \n",
      "T2TRUE:Xq3:husd              -0.5532059  0.3911619 -1.4143 0.1573404    \n",
      "T2TRUE:Xq4:agelt35           -0.9925752  0.6341814 -1.5651 0.1176096    \n",
      "T2TRUE:Xq4:agegt54            0.2121763  0.8521836  0.2490 0.8033857    \n",
      "T2TRUE:Xq4:durable           -0.1187895  0.8619131 -0.1378 0.8903871    \n",
      "T2TRUE:Xq4:lusd               0.3041551  0.3661447  0.8307 0.4061807    \n",
      "T2TRUE:Xq4:husd              -0.0828034  0.3925595 -0.2109 0.8329480    \n",
      "T2TRUE:Xq5:agelt35           -0.9263119  0.6327188 -1.4640 0.1432453    \n",
      "T2TRUE:Xq5:agegt54            0.2187993  0.8619978  0.2538 0.7996377    \n",
      "T2TRUE:Xq5:durable           -0.4450627  0.8517335 -0.5225 0.6013169    \n",
      "T2TRUE:Xq5:lusd               0.0895975  0.3643448  0.2459 0.8057578    \n",
      "T2TRUE:Xq5:husd              -0.2456140  0.3905347 -0.6289 0.5294291    \n",
      "T2TRUE:Xq6:agelt35           -0.7320475  0.6840109 -1.0702 0.2845631    \n",
      "T2TRUE:Xq6:agegt54           -0.4355109  0.9347111 -0.4659 0.6412830    \n",
      "T2TRUE:Xq6:durable           -0.1469333  0.9049913 -0.1624 0.8710292    \n",
      "T2TRUE:Xagelt35:durable       0.0216203  0.2005310  0.1078 0.9141460    \n",
      "T2TRUE:Xagelt35:lusd          0.0680462  0.1695485  0.4013 0.6881870    \n",
      "T2TRUE:Xagelt35:husd         -0.0587002  0.1856361 -0.3162 0.7518542    \n",
      "T2TRUE:Xagegt54:durable       0.1732194  0.3177062  0.5452 0.5856247    \n",
      "T2TRUE:Xagegt54:lusd         -0.1245325  0.2667627 -0.4668 0.6406406    \n",
      "T2TRUE:Xagegt54:husd          0.2898645  0.2960548  0.9791 0.3275776    \n",
      "T2TRUE:Xdurable:lusd          0.1281108  0.2116361  0.6053 0.5449810    \n",
      "T2TRUE:Xdurable:husd          0.0133109  0.2552493  0.0521 0.9584121    \n",
      "---\n",
      "Signif. codes:  0 '***' 0.001 '**' 0.01 '*' 0.05 '.' 0.1 ' ' 1\n",
      "\n"
     ]
    }
   ],
   "source": [
    "\n",
    "#interactive regression model;\n",
    "\n",
    "X = model.matrix (~ (female+black+othrace+factor(dep)+q2+q3+q4+q5+q6+agelt35+agegt54+durable+lusd+husd)^2)[,-1]\n",
    "dim(X)\n",
    "demean<- function(x){ x - mean(x)}\n",
    "X = apply(X, 2, demean)\n",
    "\n",
    "ols.ira = lm(log(inuidur1) ~ T2*X) \n",
    "ols.ira= coeftest(ols.ira, vcov = vcovHC(ols.ira, type=\"HC1\"))\n",
    "print(ols.ira)\n",
    "\n",
    "\n"
   ]
  },
  {
   "cell_type": "code",
   "execution_count": 54,
   "metadata": {},
   "outputs": [
    {
     "data": {
      "text/plain": [
       "\n",
       "Call:\n",
       "lm(formula = log(inuidur1) ~ T2 * X)\n",
       "\n",
       "Residuals:\n",
       "    Min      1Q  Median      3Q     Max \n",
       "-2.7359 -0.9551  0.2982  0.9769  2.4639 \n",
       "\n",
       "Coefficients: (37 not defined because of singularities)\n",
       "                              Estimate Std. Error t value Pr(>|t|)    \n",
       "(Intercept)                   2.055698   0.020776  98.947  < 2e-16 ***\n",
       "T2TRUE                       -0.069904   0.032316  -2.163  0.03057 *  \n",
       "Xfemale                      -0.666282   0.444834  -1.498  0.13424    \n",
       "Xblack                       -0.863486   0.269929  -3.199  0.00139 ** \n",
       "Xothrace                     -3.817688   1.722167  -2.217  0.02668 *  \n",
       "Xfactor(dep)1                 0.035926   0.685311   0.052  0.95819    \n",
       "Xfactor(dep)2                 0.211756   0.497004   0.426  0.67008    \n",
       "Xq2                          -0.254644   0.527073  -0.483  0.62902    \n",
       "Xq3                          -0.621233   0.525592  -1.182  0.23727    \n",
       "Xq4                          -0.479927   0.526303  -0.912  0.36187    \n",
       "Xq5                          -0.371867   0.523897  -0.710  0.47785    \n",
       "Xq6                          -0.677047   0.520877  -1.300  0.19372    \n",
       "Xagelt35                     -0.677705   0.434501  -1.560  0.11888    \n",
       "Xagegt54                     -0.304109   0.814183  -0.374  0.70878    \n",
       "Xdurable                     -0.838008   0.588158  -1.425  0.15427    \n",
       "Xlusd                        -0.099489   0.221452  -0.449  0.65326    \n",
       "Xhusd                        -0.062642   0.237675  -0.264  0.79213    \n",
       "Xfemale:black                -0.215480   0.138576  -1.555  0.12001    \n",
       "Xfemale:othrace               0.599439   0.893071   0.671  0.50211    \n",
       "Xfemale:factor(dep)1         -0.173424   0.145710  -1.190  0.23402    \n",
       "Xfemale:factor(dep)2          0.216642   0.127979   1.693  0.09055 .  \n",
       "Xfemale:q2                    0.391889   0.443770   0.883  0.37723    \n",
       "Xfemale:q3                    0.685039   0.442900   1.547  0.12199    \n",
       "Xfemale:q4                    0.721368   0.442151   1.631  0.10284    \n",
       "Xfemale:q5                    0.565776   0.440620   1.284  0.19918    \n",
       "Xfemale:q6                    0.908170   0.466527   1.947  0.05163 .  \n",
       "Xfemale:agelt35               0.170075   0.094167   1.806  0.07095 .  \n",
       "Xfemale:agegt54               0.235751   0.160738   1.467  0.14252    \n",
       "Xfemale:durable               0.097413   0.138333   0.704  0.48134    \n",
       "Xfemale:lusd                  0.072008   0.106641   0.675  0.49955    \n",
       "Xfemale:husd                  0.060967   0.117213   0.520  0.60299    \n",
       "Xblack:othrace                      NA         NA      NA       NA    \n",
       "Xblack:factor(dep)1           0.109011   0.218985   0.498  0.61864    \n",
       "Xblack:factor(dep)2          -0.200696   0.202173  -0.993  0.32090    \n",
       "Xblack:q2                     0.426697   0.296472   1.439  0.15014    \n",
       "Xblack:q3                     0.329945   0.278618   1.184  0.23638    \n",
       "Xblack:q4                     0.544315   0.282093   1.930  0.05371 .  \n",
       "Xblack:q5                     0.659657   0.274076   2.407  0.01612 *  \n",
       "Xblack:q6                           NA         NA      NA       NA    \n",
       "Xblack:agelt35                0.082982   0.142485   0.582  0.56033    \n",
       "Xblack:agegt54                0.422972   0.266958   1.584  0.11316    \n",
       "Xblack:durable                0.468149   0.217178   2.156  0.03116 *  \n",
       "Xblack:lusd                   0.308609   0.176823   1.745  0.08099 .  \n",
       "Xblack:husd                   0.549823   0.715408   0.769  0.44220    \n",
       "Xothrace:factor(dep)1         2.520193   2.722404   0.926  0.35463    \n",
       "Xothrace:factor(dep)2         1.188857   1.471465   0.808  0.41916    \n",
       "Xothrace:q2                   2.082579   1.527163   1.364  0.17272    \n",
       "Xothrace:q3                   0.937331   1.476654   0.635  0.52561    \n",
       "Xothrace:q4                   3.859706   1.696314   2.275  0.02292 *  \n",
       "Xothrace:q5                   0.971179   0.928038   1.046  0.29538    \n",
       "Xothrace:q6                         NA         NA      NA       NA    \n",
       "Xothrace:agelt35              2.247992   1.401295   1.604  0.10872    \n",
       "Xothrace:agegt54             -4.148960   3.615773  -1.147  0.25124    \n",
       "Xothrace:durable              1.750561   0.852010   2.055  0.03996 *  \n",
       "Xothrace:lusd                -0.694447   0.858530  -0.809  0.41862    \n",
       "Xothrace:husd                 4.788926   4.150362   1.154  0.24861    \n",
       "Xfactor(dep)1:q2              0.233898   0.685032   0.341  0.73278    \n",
       "Xfactor(dep)2:q2             -0.217678   0.494466  -0.440  0.65979    \n",
       "Xfactor(dep)1:q3              0.154341   0.680520   0.227  0.82059    \n",
       "Xfactor(dep)2:q3             -0.254486   0.494740  -0.514  0.60700    \n",
       "Xfactor(dep)1:q4             -0.023901   0.678931  -0.035  0.97192    \n",
       "Xfactor(dep)2:q4             -0.161901   0.496306  -0.326  0.74428    \n",
       "Xfactor(dep)1:q5              0.139561   0.677354   0.206  0.83677    \n",
       "Xfactor(dep)2:q5             -0.562641   0.491355  -1.145  0.25223    \n",
       "Xfactor(dep)1:q6              0.483339   0.714081   0.677  0.49852    \n",
       "Xfactor(dep)2:q6             -0.004803   0.522816  -0.009  0.99267    \n",
       "Xfactor(dep)1:agelt35         0.050798   0.152110   0.334  0.73842    \n",
       "Xfactor(dep)2:agelt35         0.119242   0.118484   1.006  0.31427    \n",
       "Xfactor(dep)1:agegt54         0.036638   0.214087   0.171  0.86412    \n",
       "Xfactor(dep)2:agegt54         0.223114   0.494097   0.452  0.65160    \n",
       "Xfactor(dep)1:durable         0.339711   0.190885   1.780  0.07519 .  \n",
       "Xfactor(dep)2:durable         0.114659   0.162269   0.707  0.47985    \n",
       "Xfactor(dep)1:lusd           -0.260356   0.166322  -1.565  0.11755    \n",
       "Xfactor(dep)2:lusd            0.115092   0.150741   0.764  0.44519    \n",
       "Xfactor(dep)1:husd           -0.042798   0.174180  -0.246  0.80592    \n",
       "Xfactor(dep)2:husd            0.018015   0.151264   0.119  0.90520    \n",
       "Xq2:q3                              NA         NA      NA       NA    \n",
       "Xq2:q4                              NA         NA      NA       NA    \n",
       "Xq2:q5                              NA         NA      NA       NA    \n",
       "Xq2:q6                              NA         NA      NA       NA    \n",
       "Xq2:agelt35                   0.500738   0.434547   1.152  0.24924    \n",
       "Xq2:agegt54                   0.432156   0.816502   0.529  0.59663    \n",
       "Xq2:durable                   0.261508   0.584298   0.448  0.65449    \n",
       "Xq2:lusd                     -0.067521   0.231088  -0.292  0.77015    \n",
       "Xq2:husd                     -0.181839   0.243266  -0.747  0.45480    \n",
       "Xq3:q4                              NA         NA      NA       NA    \n",
       "Xq3:q5                              NA         NA      NA       NA    \n",
       "Xq3:q6                              NA         NA      NA       NA    \n",
       "Xq3:agelt35                   0.513718   0.433570   1.185  0.23612    \n",
       "Xq3:agegt54                   0.724560   0.811104   0.893  0.37173    \n",
       "Xq3:durable                   0.722377   0.584795   1.235  0.21678    \n",
       "Xq3:lusd                     -0.001361   0.227374  -0.006  0.99522    \n",
       "Xq3:husd                      0.098929   0.241166   0.410  0.68167    \n",
       "Xq4:q5                              NA         NA      NA       NA    \n",
       "Xq4:q6                              NA         NA      NA       NA    \n",
       "Xq4:agelt35                   0.404801   0.433297   0.934  0.35022    \n",
       "Xq4:agegt54                   0.246901   0.807244   0.306  0.75973    \n",
       "Xq4:durable                   0.593767   0.586362   1.013  0.31128    \n",
       "Xq4:lusd                     -0.168584   0.229723  -0.734  0.46307    \n",
       "Xq4:husd                     -0.145062   0.241249  -0.601  0.54767    \n",
       "Xq5:q6                              NA         NA      NA       NA    \n",
       "Xq5:agelt35                   0.216004   0.431047   0.501  0.61631    \n",
       "Xq5:agegt54                   0.099630   0.805366   0.124  0.90155    \n",
       "Xq5:durable                   0.853611   0.579825   1.472  0.14103    \n",
       "Xq5:lusd                     -0.259295   0.228260  -1.136  0.25602    \n",
       "Xq5:husd                     -0.173565   0.235326  -0.738  0.46082    \n",
       "Xq6:agelt35                   0.382362   0.455913   0.839  0.40169    \n",
       "Xq6:agegt54                   0.836203   0.841322   0.994  0.32031    \n",
       "Xq6:durable                   1.028925   0.612552   1.680  0.09306 .  \n",
       "Xq6:lusd                            NA         NA      NA       NA    \n",
       "Xq6:husd                            NA         NA      NA       NA    \n",
       "Xagelt35:agegt54                    NA         NA      NA       NA    \n",
       "Xagelt35:durable             -0.002692   0.128498  -0.021  0.98329    \n",
       "Xagelt35:lusd                -0.057376   0.111050  -0.517  0.60541    \n",
       "Xagelt35:husd                 0.054533   0.124720   0.437  0.66195    \n",
       "Xagegt54:durable             -0.123937   0.207976  -0.596  0.55125    \n",
       "Xagegt54:lusd                 0.091245   0.184810   0.494  0.62152    \n",
       "Xagegt54:husd                -0.314557   0.193294  -1.627  0.10372    \n",
       "Xdurable:lusd                 0.263373   0.136593   1.928  0.05389 .  \n",
       "Xdurable:husd                 0.313794   0.167482   1.874  0.06104 .  \n",
       "Xlusd:husd                          NA         NA      NA       NA    \n",
       "T2TRUE:Xfemale               -0.659750   0.647114  -1.020  0.30800    \n",
       "T2TRUE:Xblack                 0.452557   0.448955   1.008  0.31349    \n",
       "T2TRUE:Xothrace               2.211470   3.642784   0.607  0.54382    \n",
       "T2TRUE:Xfactor(dep)1          0.763602   0.957630   0.797  0.42526    \n",
       "T2TRUE:Xfactor(dep)2         -0.051166   0.880088  -0.058  0.95364    \n",
       "T2TRUE:Xq2                    0.896945   0.806079   1.113  0.26587    \n",
       "T2TRUE:Xq3                    0.896239   0.804257   1.114  0.26517    \n",
       "T2TRUE:Xq4                    0.589000   0.804284   0.732  0.46400    \n",
       "T2TRUE:Xq5                    0.717344   0.801771   0.895  0.37099    \n",
       "T2TRUE:Xq6                    0.781249   0.803285   0.973  0.33081    \n",
       "T2TRUE:Xagelt35               1.123320   0.709830   1.583  0.11359    \n",
       "T2TRUE:Xagegt54               0.414277   1.182324   0.350  0.72606    \n",
       "T2TRUE:Xdurable               0.069855   1.050577   0.066  0.94699    \n",
       "T2TRUE:Xlusd                 -0.086402   0.343295  -0.252  0.80129    \n",
       "T2TRUE:Xhusd                  0.284557   0.400083   0.711  0.47696    \n",
       "T2TRUE:Xfemale:black         -0.203647   0.220702  -0.923  0.35619    \n",
       "T2TRUE:Xfemale:othrace       -0.911950   1.498317  -0.609  0.54278    \n",
       "T2TRUE:Xfemale:factor(dep)1   0.181321   0.224681   0.807  0.41969    \n",
       "T2TRUE:Xfemale:factor(dep)2  -0.469034   0.199183  -2.355  0.01857 *  \n",
       "T2TRUE:Xfemale:q2             0.848538   0.646409   1.313  0.18934    \n",
       "T2TRUE:Xfemale:q3             1.042902   0.644040   1.619  0.10544    \n",
       "T2TRUE:Xfemale:q4             0.782492   0.642750   1.217  0.22350    \n",
       "T2TRUE:Xfemale:q5             0.899380   0.640704   1.404  0.16045    \n",
       "T2TRUE:Xfemale:q6             0.408580   0.689640   0.592  0.55357    \n",
       "T2TRUE:Xfemale:agelt35       -0.186148   0.146180  -1.273  0.20292    \n",
       "T2TRUE:Xfemale:agegt54       -0.382149   0.251131  -1.522  0.12814    \n",
       "T2TRUE:Xfemale:durable        0.110377   0.219045   0.504  0.61435    \n",
       "T2TRUE:Xfemale:lusd           0.106096   0.163361   0.649  0.51607    \n",
       "T2TRUE:Xfemale:husd          -0.042606   0.180566  -0.236  0.81348    \n",
       "T2TRUE:Xblack:othrace               NA         NA      NA       NA    \n",
       "T2TRUE:Xblack:factor(dep)1    0.363633   0.339443   1.071  0.28410    \n",
       "T2TRUE:Xblack:factor(dep)2    0.428415   0.314948   1.360  0.17380    \n",
       "T2TRUE:Xblack:q2             -0.587822   0.472763  -1.243  0.21378    \n",
       "T2TRUE:Xblack:q3             -0.062473   0.457956  -0.136  0.89150    \n",
       "T2TRUE:Xblack:q4             -0.401043   0.472026  -0.850  0.39557    \n",
       "T2TRUE:Xblack:q5             -0.435899   0.452267  -0.964  0.33518    \n",
       "T2TRUE:Xblack:q6                    NA         NA      NA       NA    \n",
       "T2TRUE:Xblack:agelt35        -0.215932   0.221757  -0.974  0.33023    \n",
       "T2TRUE:Xblack:agegt54        -0.261722   0.460113  -0.569  0.56950    \n",
       "T2TRUE:Xblack:durable        -0.836502   0.341169  -2.452  0.01424 *  \n",
       "T2TRUE:Xblack:lusd           -0.426467   0.266428  -1.601  0.10950    \n",
       "T2TRUE:Xblack:husd           -0.195840   0.958563  -0.204  0.83812    \n",
       "T2TRUE:Xothrace:factor(dep)1  0.478827   4.356363   0.110  0.91248    \n",
       "T2TRUE:Xothrace:factor(dep)2 -4.451357   3.319205  -1.341  0.17995    \n",
       "T2TRUE:Xothrace:q2                  NA         NA      NA       NA    \n",
       "T2TRUE:Xothrace:q3           -0.782636   4.437184  -0.176  0.86000    \n",
       "T2TRUE:Xothrace:q4           -2.417320   5.524019  -0.438  0.66169    \n",
       "T2TRUE:Xothrace:q5            0.762124   3.118711   0.244  0.80695    \n",
       "T2TRUE:Xothrace:q6                  NA         NA      NA       NA    \n",
       "T2TRUE:Xothrace:agelt35      -3.831340   2.783219  -1.377  0.16870    \n",
       "T2TRUE:Xothrace:agegt54             NA         NA      NA       NA    \n",
       "T2TRUE:Xothrace:durable       1.565869   2.254509   0.695  0.48737    \n",
       "T2TRUE:Xothrace:lusd          2.093044   1.477514   1.417  0.15666    \n",
       "T2TRUE:Xothrace:husd                NA         NA      NA       NA    \n",
       "T2TRUE:Xfactor(dep)1:q2      -0.831760   0.957932  -0.868  0.38527    \n",
       "T2TRUE:Xfactor(dep)2:q2       0.224859   0.875565   0.257  0.79733    \n",
       "T2TRUE:Xfactor(dep)1:q3      -0.857282   0.957207  -0.896  0.37050    \n",
       "T2TRUE:Xfactor(dep)2:q3       0.358727   0.873975   0.410  0.68149    \n",
       "T2TRUE:Xfactor(dep)1:q4      -0.628611   0.952102  -0.660  0.50913    \n",
       "T2TRUE:Xfactor(dep)2:q4       0.239002   0.873791   0.274  0.78446    \n",
       "T2TRUE:Xfactor(dep)1:q5      -0.838460   0.948138  -0.884  0.37656    \n",
       "T2TRUE:Xfactor(dep)2:q5       0.428534   0.870881   0.492  0.62269    \n",
       "T2TRUE:Xfactor(dep)1:q6      -1.538191   1.033233  -1.489  0.13662    \n",
       "T2TRUE:Xfactor(dep)2:q6       0.284659   0.919274   0.310  0.75683    \n",
       "T2TRUE:Xfactor(dep)1:agelt35 -0.077835   0.229597  -0.339  0.73462    \n",
       "T2TRUE:Xfactor(dep)2:agelt35 -0.101714   0.185697  -0.548  0.58389    \n",
       "T2TRUE:Xfactor(dep)1:agegt54 -0.282459   0.334002  -0.846  0.39777    \n",
       "T2TRUE:Xfactor(dep)2:agegt54  0.379305   0.881800   0.430  0.66710    \n",
       "T2TRUE:Xfactor(dep)1:durable -0.218559   0.285470  -0.766  0.44394    \n",
       "T2TRUE:Xfactor(dep)2:durable -0.095079   0.265845  -0.358  0.72062    \n",
       "T2TRUE:Xfactor(dep)1:lusd     0.216115   0.249168   0.867  0.38579    \n",
       "T2TRUE:Xfactor(dep)2:lusd    -0.207079   0.225611  -0.918  0.35873    \n",
       "T2TRUE:Xfactor(dep)1:husd     0.123242   0.270460   0.456  0.64864    \n",
       "T2TRUE:Xfactor(dep)2:husd     0.157980   0.237624   0.665  0.50619    \n",
       "T2TRUE:Xq2:q3                       NA         NA      NA       NA    \n",
       "T2TRUE:Xq2:q4                       NA         NA      NA       NA    \n",
       "T2TRUE:Xq2:q5                       NA         NA      NA       NA    \n",
       "T2TRUE:Xq2:q6                       NA         NA      NA       NA    \n",
       "T2TRUE:Xq2:agelt35           -1.240755   0.710429  -1.746  0.08078 .  \n",
       "T2TRUE:Xq2:agegt54           -0.601987   1.181350  -0.510  0.61037    \n",
       "T2TRUE:Xq2:durable           -0.077780   1.055913  -0.074  0.94128    \n",
       "T2TRUE:Xq2:lusd               0.050827   0.358423   0.142  0.88724    \n",
       "T2TRUE:Xq2:husd              -0.092029   0.404784  -0.227  0.82016    \n",
       "T2TRUE:Xq3:q4                       NA         NA      NA       NA    \n",
       "T2TRUE:Xq3:q5                       NA         NA      NA       NA    \n",
       "T2TRUE:Xq3:q6                       NA         NA      NA       NA    \n",
       "T2TRUE:Xq3:agelt35           -1.127789   0.709418  -1.590  0.11195    \n",
       "T2TRUE:Xq3:agegt54           -0.541148   1.173266  -0.461  0.64465    \n",
       "T2TRUE:Xq3:durable           -0.195618   1.054864  -0.185  0.85289    \n",
       "T2TRUE:Xq3:lusd              -0.073960   0.350505  -0.211  0.83289    \n",
       "T2TRUE:Xq3:husd              -0.553206   0.401107  -1.379  0.16789    \n",
       "T2TRUE:Xq4:q5                       NA         NA      NA       NA    \n",
       "T2TRUE:Xq4:q6                       NA         NA      NA       NA    \n",
       "T2TRUE:Xq4:agelt35           -0.992575   0.708608  -1.401  0.16135    \n",
       "T2TRUE:Xq4:agegt54            0.212176   1.172073   0.181  0.85635    \n",
       "T2TRUE:Xq4:durable           -0.118790   1.059588  -0.112  0.91074    \n",
       "T2TRUE:Xq4:lusd               0.304155   0.353986   0.859  0.39025    \n",
       "T2TRUE:Xq4:husd              -0.082803   0.399881  -0.207  0.83596    \n",
       "T2TRUE:Xq5:q6                       NA         NA      NA       NA    \n",
       "T2TRUE:Xq5:agelt35           -0.926312   0.705490  -1.313  0.18923    \n",
       "T2TRUE:Xq5:agegt54            0.218799   1.168784   0.187  0.85151    \n",
       "T2TRUE:Xq5:durable           -0.445063   1.050400  -0.424  0.67180    \n",
       "T2TRUE:Xq5:lusd               0.089598   0.348866   0.257  0.79732    \n",
       "T2TRUE:Xq5:husd              -0.245614   0.393409  -0.624  0.53244    \n",
       "T2TRUE:Xq6:agelt35           -0.732047   0.749200  -0.977  0.32856    \n",
       "T2TRUE:Xq6:agegt54           -0.435511   1.243032  -0.350  0.72608    \n",
       "T2TRUE:Xq6:durable           -0.146933   1.095787  -0.134  0.89334    \n",
       "T2TRUE:Xq6:lusd                     NA         NA      NA       NA    \n",
       "T2TRUE:Xq6:husd                     NA         NA      NA       NA    \n",
       "T2TRUE:Xagelt35:agegt54             NA         NA      NA       NA    \n",
       "T2TRUE:Xagelt35:durable       0.021620   0.201660   0.107  0.91462    \n",
       "T2TRUE:Xagelt35:lusd          0.068046   0.169679   0.401  0.68841    \n",
       "T2TRUE:Xagelt35:husd         -0.058700   0.191265  -0.307  0.75893    \n",
       "T2TRUE:Xagegt54:durable       0.173219   0.319512   0.542  0.58775    \n",
       "T2TRUE:Xagegt54:lusd         -0.124532   0.278617  -0.447  0.65492    \n",
       "T2TRUE:Xagegt54:husd          0.289864   0.306649   0.945  0.34456    \n",
       "T2TRUE:Xdurable:lusd          0.128111   0.211309   0.606  0.54436    \n",
       "T2TRUE:Xdurable:husd          0.013311   0.257952   0.052  0.95885    \n",
       "T2TRUE:Xlusd:husd                   NA         NA      NA       NA    \n",
       "---\n",
       "Signif. codes:  0 '***' 0.001 '**' 0.01 '*' 0.05 '.' 0.1 ' ' 1\n",
       "\n",
       "Residual standard error: 1.195 on 5579 degrees of freedom\n",
       "Multiple R-squared:  0.0728,\tAdjusted R-squared:  0.03923 \n",
       "F-statistic: 2.168 on 202 and 5579 DF,  p-value: < 2.2e-16\n"
      ]
     },
     "metadata": {},
     "output_type": "display_data"
    }
   ],
   "source": [
    "summary(lm(log(inuidur1) ~ T2*X) )"
   ]
  },
  {
   "cell_type": "markdown",
   "metadata": {
    "papermill": {
     "duration": 0.030243,
     "end_time": "2021-02-20T13:42:43.724231",
     "exception": false,
     "start_time": "2021-02-20T13:42:43.693988",
     "status": "completed"
    },
    "tags": []
   },
   "source": [
    "### *4° Interactive regression adjustment (IRA) using Lasso*"
   ]
  },
  {
   "cell_type": "code",
   "execution_count": 55,
   "metadata": {},
   "outputs": [
    {
     "name": "stderr",
     "output_type": "stream",
     "text": [
      "Installing package into 'C:/Users/Diego/Documents/R/win-library/4.1'\n",
      "(as 'lib' is unspecified)\n",
      "\n"
     ]
    },
    {
     "name": "stdout",
     "output_type": "stream",
     "text": [
      "package 'hdm' successfully unpacked and MD5 sums checked\n",
      "\n",
      "The downloaded binary packages are in\n",
      "\tC:\\Users\\Diego\\AppData\\Local\\Temp\\Rtmp6rsQ85\\downloaded_packages\n"
     ]
    }
   ],
   "source": [
    "#install.packages(\"hdm\")"
   ]
  },
  {
   "cell_type": "code",
   "execution_count": 56,
   "metadata": {
    "execution": {
     "iopub.execute_input": "2021-02-20T13:42:43.774524Z",
     "iopub.status.busy": "2021-02-20T13:42:43.773643Z",
     "iopub.status.idle": "2021-02-20T13:42:45.044886Z",
     "shell.execute_reply": "2021-02-20T13:42:45.043005Z"
    },
    "papermill": {
     "duration": 1.29547,
     "end_time": "2021-02-20T13:42:45.045172",
     "exception": false,
     "start_time": "2021-02-20T13:42:43.749702",
     "status": "completed"
    },
    "tags": []
   },
   "outputs": [
    {
     "name": "stdout",
     "output_type": "stream",
     "text": [
      "[1] \"Estimates and significance testing of the effect of target variables\"\n",
      "   Estimate. Std. Error t value Pr(>|t|)  \n",
      "T2  -0.07457    0.03209  -2.324   0.0201 *\n",
      "---\n",
      "Signif. codes:  0 '***' 0.001 '**' 0.01 '*' 0.05 '.' 0.1 ' ' 1\n",
      "\n",
      "\n"
     ]
    }
   ],
   "source": [
    "library(hdm)\n",
    "\n",
    "T2 = demean(T2)\n",
    "\n",
    "DX = model.matrix(~T2*X)[,-1]\n",
    "\n",
    "rlasso.ira = summary(rlassoEffects(DX, log(inuidur1), index = 1))\n",
    "\n",
    "\n",
    "print(rlasso.ira)\n",
    "\n"
   ]
  },
  {
   "cell_type": "markdown",
   "metadata": {
    "papermill": {
     "duration": 0.030965,
     "end_time": "2021-02-20T13:42:45.107753",
     "exception": false,
     "start_time": "2021-02-20T13:42:45.076788",
     "status": "completed"
    },
    "tags": []
   },
   "source": [
    "### Results"
   ]
  },
  {
   "cell_type": "code",
   "execution_count": 57,
   "metadata": {
    "execution": {
     "iopub.execute_input": "2021-02-20T13:42:45.149961Z",
     "iopub.status.busy": "2021-02-20T13:42:45.149392Z",
     "iopub.status.idle": "2021-02-20T13:42:45.171719Z",
     "shell.execute_reply": "2021-02-20T13:42:45.170654Z"
    },
    "papermill": {
     "duration": 0.045792,
     "end_time": "2021-02-20T13:42:45.171860",
     "exception": false,
     "start_time": "2021-02-20T13:42:45.126068",
     "status": "completed"
    },
    "tags": []
   },
   "outputs": [
    {
     "name": "stdout",
     "output_type": "stream",
     "text": [
      " 'coeftest' num [1:203, 1:4] 2.0557 -0.0699 -0.6663 -0.8635 -3.8177 ...\n",
      " - attr(*, \"dimnames\")=List of 2\n",
      "  ..$ : chr [1:203] \"(Intercept)\" \"T2TRUE\" \"Xfemale\" \"Xblack\" ...\n",
      "  ..$ : chr [1:4] \"Estimate\" \"Std. Error\" \"t value\" \"Pr(>|t|)\"\n",
      " - attr(*, \"method\")= chr \"t test of coefficients\"\n",
      " - attr(*, \"df\")= int 5579\n",
      " - attr(*, \"nobs\")= int 5782\n",
      " - attr(*, \"logLik\")=Class 'logLik' : -9129 (df=204)\n"
     ]
    },
    {
     "data": {
      "text/html": [
       "-0.0699043981216372"
      ],
      "text/latex": [
       "-0.0699043981216372"
      ],
      "text/markdown": [
       "-0.0699043981216372"
      ],
      "text/plain": [
       "[1] -0.0699044"
      ]
     },
     "metadata": {},
     "output_type": "display_data"
    }
   ],
   "source": [
    "str(ols.ira)\n",
    "ols.ira[2,1]"
   ]
  },
  {
   "cell_type": "code",
   "execution_count": 63,
   "metadata": {
    "execution": {
     "iopub.execute_input": "2021-02-20T13:42:45.214919Z",
     "iopub.status.busy": "2021-02-20T13:42:45.213709Z",
     "iopub.status.idle": "2021-02-20T13:42:45.304637Z",
     "shell.execute_reply": "2021-02-20T13:42:45.303410Z"
    },
    "papermill": {
     "duration": 0.113372,
     "end_time": "2021-02-20T13:42:45.304786",
     "exception": false,
     "start_time": "2021-02-20T13:42:45.191414",
     "status": "completed"
    },
    "tags": []
   },
   "outputs": [
    {
     "data": {
      "text/html": [
       "<table class=\"dataframe\">\n",
       "<caption>A xtable: 2 × 4</caption>\n",
       "<thead>\n",
       "\t<tr><th></th><th scope=col>CL</th><th scope=col>CRA</th><th scope=col>IRA</th><th scope=col>IRA w Lasso</th></tr>\n",
       "\t<tr><th></th><th scope=col>&lt;dbl&gt;</th><th scope=col>&lt;dbl&gt;</th><th scope=col>&lt;dbl&gt;</th><th scope=col>&lt;dbl&gt;</th></tr>\n",
       "</thead>\n",
       "<tbody>\n",
       "\t<tr><th scope=row>estimate</th><td>-0.07882533</td><td>-0.07120664</td><td>-0.06990440</td><td>-0.07457328</td></tr>\n",
       "\t<tr><th scope=row>standard error</th><td> 0.03250889</td><td> 0.03204403</td><td> 0.03207638</td><td> 0.03208892</td></tr>\n",
       "</tbody>\n",
       "</table>\n"
      ],
      "text/latex": [
       "A xtable: 2 × 4\n",
       "\\begin{tabular}{r|llll}\n",
       "  & CL & CRA & IRA & IRA w Lasso\\\\\n",
       "  & <dbl> & <dbl> & <dbl> & <dbl>\\\\\n",
       "\\hline\n",
       "\testimate & -0.07882533 & -0.07120664 & -0.06990440 & -0.07457328\\\\\n",
       "\tstandard error &  0.03250889 &  0.03204403 &  0.03207638 &  0.03208892\\\\\n",
       "\\end{tabular}\n"
      ],
      "text/markdown": [
       "\n",
       "A xtable: 2 × 4\n",
       "\n",
       "| <!--/--> | CL &lt;dbl&gt; | CRA &lt;dbl&gt; | IRA &lt;dbl&gt; | IRA w Lasso &lt;dbl&gt; |\n",
       "|---|---|---|---|---|\n",
       "| estimate | -0.07882533 | -0.07120664 | -0.06990440 | -0.07457328 |\n",
       "| standard error |  0.03250889 |  0.03204403 |  0.03207638 |  0.03208892 |\n",
       "\n"
      ],
      "text/plain": [
       "               CL          CRA         IRA         IRA w Lasso\n",
       "estimate       -0.07882533 -0.07120664 -0.06990440 -0.07457328\n",
       "standard error  0.03250889  0.03204403  0.03207638  0.03208892"
      ]
     },
     "metadata": {},
     "output_type": "display_data"
    }
   ],
   "source": [
    "library(xtable)\n",
    "table<- matrix(0, 2, 4)\n",
    "table[1,1]<-  ols.cl[2,1]\n",
    "table[1,2]<-  ols.cra[2,1]\n",
    "table[1,3]<-  ols.ira[2,1]\n",
    "table[1,4]<-  rlasso.ira[[1]][1]\n",
    "\n",
    "table[2,1]<-  ols.cl[2,2]\n",
    "table[2,2]<-  ols.cra[2,2]\n",
    "table[2,3]<-  ols.ira[2,2]\n",
    "table[2,4]<-  rlasso.ira[[1]][2]\n",
    "\n",
    "\n",
    "colnames(table)<- c(\"CL\",\"CRA\",\"IRA\", \"IRA w Lasso\")\n",
    "rownames(table)<- c(\"estimate\", \"standard error\")\n",
    "tab<- xtable(table, digits=5)\n",
    "tab"
   ]
  },
  {
   "cell_type": "markdown",
   "metadata": {
    "papermill": {
     "duration": 0.019862,
     "end_time": "2021-02-20T13:42:45.344887",
     "exception": false,
     "start_time": "2021-02-20T13:42:45.325025",
     "status": "completed"
    },
    "tags": []
   },
   "source": [
    "Treatment group 4 experiences an average decrease of about $7.8\\%$ in the length of unemployment spell.\n",
    "\n",
    "\n",
    "Observe that regression estimators delivers estimates that are slighly more efficient (lower standard errors) than the simple 2 mean estimator, but essentially all methods have very similar standard errors. From IRA results we also see that there is not any statistically detectable heterogeneity.  We also see the regression estimators offer slightly lower estimates -- these difference occur perhaps to due minor imbalance in the treatment allocation, which the regression estimators try to correct.\n",
    "\n",
    "\n"
   ]
  },
  {
   "cell_type": "markdown",
   "metadata": {},
   "source": [
    "# -----------------------------------------------------"
   ]
  },
  {
   "cell_type": "markdown",
   "metadata": {},
   "source": [
    "# Using the 3. interactive regression adjustment (IRA) plot the coefficients of the next variables"
   ]
  },
  {
   "cell_type": "code",
   "execution_count": 61,
   "metadata": {},
   "outputs": [
    {
     "data": {
      "text/html": [
       "<table class=\"dataframe\">\n",
       "<caption>A tibble: 6 × 5</caption>\n",
       "<thead>\n",
       "\t<tr><th scope=col>term</th><th scope=col>estimate</th><th scope=col>std.error</th><th scope=col>statistic</th><th scope=col>p.value</th></tr>\n",
       "\t<tr><th scope=col>&lt;chr&gt;</th><th scope=col>&lt;dbl&gt;</th><th scope=col>&lt;dbl&gt;</th><th scope=col>&lt;dbl&gt;</th><th scope=col>&lt;dbl&gt;</th></tr>\n",
       "</thead>\n",
       "<tbody>\n",
       "\t<tr><td>(Intercept)  </td><td> 2.05569765</td><td>0.02071377</td><td>99.24303478</td><td>0.000000e+00</td></tr>\n",
       "\t<tr><td>T2TRUE       </td><td>-0.06990440</td><td>0.03207638</td><td>-2.17931062</td><td>2.935029e-02</td></tr>\n",
       "\t<tr><td>Xfemale      </td><td>-0.66628233</td><td>0.40802338</td><td>-1.63295136</td><td>1.025357e-01</td></tr>\n",
       "\t<tr><td>Xblack       </td><td>-0.86348620</td><td>0.29694353</td><td>-2.90791384</td><td>3.652836e-03</td></tr>\n",
       "\t<tr><td>Xothrace     </td><td>-3.81768810</td><td>0.93661926</td><td>-4.07602991</td><td>4.644776e-05</td></tr>\n",
       "\t<tr><td>Xfactor(dep)1</td><td> 0.03592643</td><td>0.64768162</td><td> 0.05546927</td><td>9.557666e-01</td></tr>\n",
       "</tbody>\n",
       "</table>\n"
      ],
      "text/latex": [
       "A tibble: 6 × 5\n",
       "\\begin{tabular}{lllll}\n",
       " term & estimate & std.error & statistic & p.value\\\\\n",
       " <chr> & <dbl> & <dbl> & <dbl> & <dbl>\\\\\n",
       "\\hline\n",
       "\t (Intercept)   &  2.05569765 & 0.02071377 & 99.24303478 & 0.000000e+00\\\\\n",
       "\t T2TRUE        & -0.06990440 & 0.03207638 & -2.17931062 & 2.935029e-02\\\\\n",
       "\t Xfemale       & -0.66628233 & 0.40802338 & -1.63295136 & 1.025357e-01\\\\\n",
       "\t Xblack        & -0.86348620 & 0.29694353 & -2.90791384 & 3.652836e-03\\\\\n",
       "\t Xothrace      & -3.81768810 & 0.93661926 & -4.07602991 & 4.644776e-05\\\\\n",
       "\t Xfactor(dep)1 &  0.03592643 & 0.64768162 &  0.05546927 & 9.557666e-01\\\\\n",
       "\\end{tabular}\n"
      ],
      "text/markdown": [
       "\n",
       "A tibble: 6 × 5\n",
       "\n",
       "| term &lt;chr&gt; | estimate &lt;dbl&gt; | std.error &lt;dbl&gt; | statistic &lt;dbl&gt; | p.value &lt;dbl&gt; |\n",
       "|---|---|---|---|---|\n",
       "| (Intercept)   |  2.05569765 | 0.02071377 | 99.24303478 | 0.000000e+00 |\n",
       "| T2TRUE        | -0.06990440 | 0.03207638 | -2.17931062 | 2.935029e-02 |\n",
       "| Xfemale       | -0.66628233 | 0.40802338 | -1.63295136 | 1.025357e-01 |\n",
       "| Xblack        | -0.86348620 | 0.29694353 | -2.90791384 | 3.652836e-03 |\n",
       "| Xothrace      | -3.81768810 | 0.93661926 | -4.07602991 | 4.644776e-05 |\n",
       "| Xfactor(dep)1 |  0.03592643 | 0.64768162 |  0.05546927 | 9.557666e-01 |\n",
       "\n"
      ],
      "text/plain": [
       "  term          estimate    std.error  statistic   p.value     \n",
       "1 (Intercept)    2.05569765 0.02071377 99.24303478 0.000000e+00\n",
       "2 T2TRUE        -0.06990440 0.03207638 -2.17931062 2.935029e-02\n",
       "3 Xfemale       -0.66628233 0.40802338 -1.63295136 1.025357e-01\n",
       "4 Xblack        -0.86348620 0.29694353 -2.90791384 3.652836e-03\n",
       "5 Xothrace      -3.81768810 0.93661926 -4.07602991 4.644776e-05\n",
       "6 Xfactor(dep)1  0.03592643 0.64768162  0.05546927 9.557666e-01"
      ]
     },
     "metadata": {},
     "output_type": "display_data"
    }
   ],
   "source": [
    "#save the coefficients\n",
    "require(broom)    \n",
    "coef_ira <- tidy(ols.ira)\n",
    "\n",
    "head(coef_ira)"
   ]
  },
  {
   "cell_type": "code",
   "execution_count": 64,
   "metadata": {},
   "outputs": [
    {
     "data": {
      "text/html": [
       "<table class=\"dataframe\">\n",
       "<caption>A xtable: 2 × 4</caption>\n",
       "<thead>\n",
       "\t<tr><th></th><th scope=col>T2female</th><th scope=col>T2black</th><th scope=col>T2agelt35</th><th scope=col>T2factor(dep)1</th></tr>\n",
       "\t<tr><th></th><th scope=col>&lt;dbl&gt;</th><th scope=col>&lt;dbl&gt;</th><th scope=col>&lt;dbl&gt;</th><th scope=col>&lt;dbl&gt;</th></tr>\n",
       "</thead>\n",
       "<tbody>\n",
       "\t<tr><th scope=row>estimate</th><td>-0.6597505</td><td>0.4525570</td><td>1.1233199</td><td>0.7636025</td></tr>\n",
       "\t<tr><th scope=row>standard error</th><td> 0.5498974</td><td>0.5103188</td><td>0.6374193</td><td>0.7854484</td></tr>\n",
       "</tbody>\n",
       "</table>\n"
      ],
      "text/latex": [
       "A xtable: 2 × 4\n",
       "\\begin{tabular}{r|llll}\n",
       "  & T2female & T2black & T2agelt35 & T2factor(dep)1\\\\\n",
       "  & <dbl> & <dbl> & <dbl> & <dbl>\\\\\n",
       "\\hline\n",
       "\testimate & -0.6597505 & 0.4525570 & 1.1233199 & 0.7636025\\\\\n",
       "\tstandard error &  0.5498974 & 0.5103188 & 0.6374193 & 0.7854484\\\\\n",
       "\\end{tabular}\n"
      ],
      "text/markdown": [
       "\n",
       "A xtable: 2 × 4\n",
       "\n",
       "| <!--/--> | T2female &lt;dbl&gt; | T2black &lt;dbl&gt; | T2agelt35 &lt;dbl&gt; | T2factor(dep)1 &lt;dbl&gt; |\n",
       "|---|---|---|---|---|\n",
       "| estimate | -0.6597505 | 0.4525570 | 1.1233199 | 0.7636025 |\n",
       "| standard error |  0.5498974 | 0.5103188 | 0.6374193 | 0.7854484 |\n",
       "\n"
      ],
      "text/plain": [
       "               T2female   T2black   T2agelt35 T2factor(dep)1\n",
       "estimate       -0.6597505 0.4525570 1.1233199 0.7636025     \n",
       "standard error  0.5498974 0.5103188 0.6374193 0.7854484     "
      ]
     },
     "metadata": {},
     "output_type": "display_data"
    }
   ],
   "source": [
    "#extract the ones we are interested: T2TRUE:Xfemale, T2TRUE:Xblack, T2TRUE:Xagelt35, T2TRUE:Xfactor(dep)1\n",
    "\n",
    "tablo<- matrix(0, 2, 4)\n",
    "\n",
    "tablo[1,1]<-  as.double(coef_ira[(coef_ira$term==\"T2TRUE:Xfemale\"), 2])\n",
    "tablo[1,2]<-  as.double(coef_ira[(coef_ira$term==\"T2TRUE:Xblack\"), 2])\n",
    "tablo[1,3]<-  as.double(coef_ira[(coef_ira$term==\"T2TRUE:Xagelt35\"),2])\n",
    "tablo[1,4]<-  as.double(coef_ira[(coef_ira$term==\"T2TRUE:Xfactor(dep)1\"),2])\n",
    "\n",
    "tablo[2,1]<- as.double(coef_ira[(coef_ira$term==\"T2TRUE:Xfemale\"), 3])\n",
    "tablo[2,2]<- as.double(coef_ira[(coef_ira$term==\"T2TRUE:Xblack\"), 3])\n",
    "tablo[2,3]<- as.double(coef_ira[(coef_ira$term==\"T2TRUE:Xagelt35\"),3])\n",
    "tablo[2,4]<- as.double(coef_ira[(coef_ira$term==\"T2TRUE:Xfactor(dep)1\"),3])\n",
    "\n",
    "colnames(tablo)<- c( \"T2female\", \"T2black\",\"T2agelt35\", \"T2factor(dep)1\")\n",
    "rownames(tablo)<- c(\"estimate\", \"standard error\")\n",
    "tabo<- xtable(tablo, digits=4)\n",
    "tabo\n",
    "\n",
    "#summarize the values in a table"
   ]
  },
  {
   "cell_type": "code",
   "execution_count": 121,
   "metadata": {},
   "outputs": [
    {
     "data": {
      "text/html": [
       "<table class=\"dataframe\">\n",
       "<caption>A matrix: 2 × 4 of type dbl</caption>\n",
       "<thead>\n",
       "\t<tr><th></th><th scope=col>CL</th><th scope=col>CRA</th><th scope=col>IRA</th><th scope=col>IRA w Lasso</th></tr>\n",
       "</thead>\n",
       "<tbody>\n",
       "\t<tr><th scope=row>estimate</th><td>-0.07882533</td><td>-0.07120664</td><td>-0.06990440</td><td>-0.07457328</td></tr>\n",
       "\t<tr><th scope=row>standard error</th><td> 0.03250889</td><td> 0.03204403</td><td> 0.03207638</td><td> 0.03208892</td></tr>\n",
       "</tbody>\n",
       "</table>\n"
      ],
      "text/latex": [
       "A matrix: 2 × 4 of type dbl\n",
       "\\begin{tabular}{r|llll}\n",
       "  & CL & CRA & IRA & IRA w Lasso\\\\\n",
       "\\hline\n",
       "\testimate & -0.07882533 & -0.07120664 & -0.06990440 & -0.07457328\\\\\n",
       "\tstandard error &  0.03250889 &  0.03204403 &  0.03207638 &  0.03208892\\\\\n",
       "\\end{tabular}\n"
      ],
      "text/markdown": [
       "\n",
       "A matrix: 2 × 4 of type dbl\n",
       "\n",
       "| <!--/--> | CL | CRA | IRA | IRA w Lasso |\n",
       "|---|---|---|---|---|\n",
       "| estimate | -0.07882533 | -0.07120664 | -0.06990440 | -0.07457328 |\n",
       "| standard error |  0.03250889 |  0.03204403 |  0.03207638 |  0.03208892 |\n",
       "\n"
      ],
      "text/plain": [
       "               CL          CRA         IRA         IRA w Lasso\n",
       "estimate       -0.07882533 -0.07120664 -0.06990440 -0.07457328\n",
       "standard error  0.03250889  0.03204403  0.03207638  0.03208892"
      ]
     },
     "metadata": {},
     "output_type": "display_data"
    }
   ],
   "source": [
    "library(xtable)\n",
    "table<- matrix(0, 2, 4)\n",
    "table[1,1]<-  ols.cl[2,1]\n",
    "table[1,2]<-  ols.cra[2,1]\n",
    "table[1,3]<-  ols.ira[2,1]\n",
    "table[1,4]<-  rlasso.ira[[1]][1]\n",
    "table[2,1]<-  ols.cl[2,2]\n",
    "table[2,2]<-  ols.cra[2,2]\n",
    "table[2,3]<-  ols.ira[2,2]\n",
    "table[2,4]<-  rlasso.ira[[1]][2]\n",
    "colnames(table)<- c(\"CL\",\"CRA\",\"IRA\", \"IRA w Lasso\")\n",
    "rownames(table)<- c(\"estimate\", \"standard error\")\n",
    "table"
   ]
  },
  {
   "cell_type": "markdown",
   "metadata": {},
   "source": [
    "## To Plot coefficients:"
   ]
  },
  {
   "cell_type": "markdown",
   "metadata": {},
   "source": [
    "In this section, we interpret the effect of certain two-way interactions with the treatment over the period of unemployment."
   ]
  },
  {
   "cell_type": "code",
   "execution_count": 123,
   "metadata": {},
   "outputs": [
    {
     "name": "stderr",
     "output_type": "stream",
     "text": [
      "Warning message:\n",
      "\"package 'coefplot' is in use and will not be installed\"\n",
      "Warning message:\n",
      "\"It is deprecated to specify `guide = FALSE` to remove a guide. Please use `guide = \"none\"` instead.\"\n",
      "Warning message:\n",
      "\"It is deprecated to specify `guide = FALSE` to remove a guide. Please use `guide = \"none\"` instead.\"\n",
      "Warning message:\n",
      "\"It is deprecated to specify `guide = FALSE` to remove a guide. Please use `guide = \"none\"` instead.\"\n"
     ]
    },
    {
     "data": {
      "image/png": "[encoded data removed]",
      "text/plain": [
       "plot without title"
      ]
     },
     "metadata": {
      "image/png": {
       "height": 420,
       "width": 420
      }
     },
     "output_type": "display_data"
    }
   ],
   "source": [
    "install.packages(\"coefplot\")\n",
    "library(coefplot)\n",
    "ols.ira_reg = lm(log(inuidur1) ~ T2*X)\n",
    "coefplot(ols.ira_reg, coefficients = c('T2:Xfemale' ,'T2:Xblack','T2:Xagelt35','T2:Xfactor(dep)1'), y=\"Estimator\", horizontal=TRUE , color = \"black\" ,  \n",
    "         title = \"Two-way interactions on Unemployment Spell Effect (in percentages)\") + theme_bw() + scale_y_discrete(labels=c(\"T2:Female\", \"T2:Black\", \"T2:Agelt35\", \"T2:factor1\"))\n"
   ]
  },
  {
   "cell_type": "markdown",
   "metadata": {},
   "source": [
    "As seen in the graph, the table show us that all 4 heteregonuos effects are not statiscally significant at 5%. Graphically, we can see that 0 does belong to the IC. However, it is worth noting that T2*factor1 is statiscally significant at 10%. "
   ]
  }
 ],
 "metadata": {
  "kernelspec": {
   "display_name": "R",
   "language": "R",
   "name": "ir"
  },
  "language_info": {
   "codemirror_mode": "r",
   "file_extension": ".r",
   "mimetype": "text/x-r-source",
   "name": "R",
   "pygments_lexer": "r",
   "version": "4.1.1"
  },
  "papermill": {
   "default_parameters": {},
   "duration": 7.178818,
   "end_time": "2021-02-20T13:42:45.473549",
   "environment_variables": {},
   "exception": null,
   "input_path": "__notebook__.ipynb",
   "output_path": "__notebook__.ipynb",
   "parameters": {},
   "start_time": "2021-02-20T13:42:38.294731",
   "version": "2.2.2"
  }
 },
 "nbformat": 4,
 "nbformat_minor": 4
}
