{
 "cells": [
  {
   "cell_type": "markdown",
   "metadata": {},
   "source": [
    "## Create Matriz X"
   ]
  },
  {
   "cell_type": "code",
   "execution_count": 87,
   "metadata": {},
   "outputs": [],
   "source": [
    "set.seed(123)        # set MC seed\n",
    "n = 10"
   ]
  },
  {
   "cell_type": "code",
   "execution_count": 88,
   "metadata": {},
   "outputs": [],
   "source": [
    "V1 = rnorm(10)\n",
    "V2 = rnorm(10)\n",
    "V3 = rnorm(10)\n",
    "V4 = rnorm(10)\n",
    "V5 = rnorm(10)\n",
    "V6 = rnorm(10)\n",
    "V7 = rnorm(10)\n",
    "V8 = rnorm(10)\n",
    "V9 = rnorm(10)"
   ]
  },
  {
   "cell_type": "code",
   "execution_count": 89,
   "metadata": {},
   "outputs": [
    {
     "data": {
      "text/html": [
       "<style>\n",
       ".list-inline {list-style: none; margin:0; padding: 0}\n",
       ".list-inline>li {display: inline-block}\n",
       ".list-inline>li:not(:last-child)::after {content: \"\\00b7\"; padding: 0 .5ex}\n",
       "</style>\n",
       "<ol class=list-inline><li>-0.404217555099596</li><li>-0.0883385770842113</li><li>0.933475316435937</li><li>-0.547700121921445</li><li>-1.05159266744239</li><li>1.81528481294395</li><li>1.79655372871297</li><li>-3.07830527339966</li><li>-1.12363388734179</li><li>0.335361543242035</li></ol>\n"
      ],
      "text/latex": [
       "\\begin{enumerate*}\n",
       "\\item -0.404217555099596\n",
       "\\item -0.0883385770842113\n",
       "\\item 0.933475316435937\n",
       "\\item -0.547700121921445\n",
       "\\item -1.05159266744239\n",
       "\\item 1.81528481294395\n",
       "\\item 1.79655372871297\n",
       "\\item -3.07830527339966\n",
       "\\item -1.12363388734179\n",
       "\\item 0.335361543242035\n",
       "\\end{enumerate*}\n"
      ],
      "text/markdown": [
       "1. -0.404217555099596\n",
       "2. -0.0883385770842113\n",
       "3. 0.933475316435937\n",
       "4. -0.547700121921445\n",
       "5. -1.05159266744239\n",
       "6. 1.81528481294395\n",
       "7. 1.79655372871297\n",
       "8. -3.07830527339966\n",
       "9. -1.12363388734179\n",
       "10. 0.335361543242035\n",
       "\n",
       "\n"
      ],
      "text/plain": [
       " [1] -0.40421756 -0.08833858  0.93347532 -0.54770012 -1.05159267  1.81528481\n",
       " [7]  1.79655373 -3.07830527 -1.12363389  0.33536154"
      ]
     },
     "metadata": {},
     "output_type": "display_data"
    }
   ],
   "source": [
    "V10 = V1+V2+V3\n",
    "V10"
   ]
  },
  {
   "cell_type": "code",
   "execution_count": 90,
   "metadata": {
    "scrolled": true
   },
   "outputs": [
    {
     "data": {
      "text/html": [
       "<table class=\"dataframe\">\n",
       "<caption>A matrix: 6 × 10 of type dbl</caption>\n",
       "<tbody>\n",
       "\t<tr><td>-0.56047565</td><td> 1.2240818</td><td>-1.0678237</td><td> 0.4264642</td><td>-0.6947070</td><td> 0.25331851</td><td> 0.3796395</td><td>-0.4910312</td><td> 0.005764186</td><td>-0.40421756</td></tr>\n",
       "\t<tr><td>-0.23017749</td><td> 0.3598138</td><td>-0.2179749</td><td>-0.2950715</td><td>-0.2079173</td><td>-0.02854676</td><td>-0.5023235</td><td>-2.3091689</td><td> 0.385280401</td><td>-0.08833858</td></tr>\n",
       "\t<tr><td> 1.55870831</td><td> 0.4007715</td><td>-1.0260044</td><td> 0.8951257</td><td>-1.2653964</td><td>-0.04287046</td><td>-0.3332074</td><td> 1.0057385</td><td>-0.370660032</td><td> 0.93347532</td></tr>\n",
       "\t<tr><td> 0.07050839</td><td> 0.1106827</td><td>-0.7288912</td><td> 0.8781335</td><td> 2.1689560</td><td> 1.36860228</td><td>-1.0185754</td><td>-0.7092008</td><td> 0.644376549</td><td>-0.54770012</td></tr>\n",
       "\t<tr><td> 0.12928774</td><td>-0.5558411</td><td>-0.6250393</td><td> 0.8215811</td><td> 1.2079620</td><td>-0.22577099</td><td>-1.0717912</td><td>-0.6880086</td><td>-0.220486562</td><td>-1.05159267</td></tr>\n",
       "\t<tr><td> 1.71506499</td><td> 1.7869131</td><td>-1.6866933</td><td> 0.6886403</td><td>-1.1231086</td><td> 1.51647060</td><td> 0.3035286</td><td> 1.0255714</td><td> 0.331781964</td><td> 1.81528481</td></tr>\n",
       "</tbody>\n",
       "</table>\n"
      ],
      "text/latex": [
       "A matrix: 6 × 10 of type dbl\n",
       "\\begin{tabular}{llllllllll}\n",
       "\t -0.56047565 &  1.2240818 & -1.0678237 &  0.4264642 & -0.6947070 &  0.25331851 &  0.3796395 & -0.4910312 &  0.005764186 & -0.40421756\\\\\n",
       "\t -0.23017749 &  0.3598138 & -0.2179749 & -0.2950715 & -0.2079173 & -0.02854676 & -0.5023235 & -2.3091689 &  0.385280401 & -0.08833858\\\\\n",
       "\t  1.55870831 &  0.4007715 & -1.0260044 &  0.8951257 & -1.2653964 & -0.04287046 & -0.3332074 &  1.0057385 & -0.370660032 &  0.93347532\\\\\n",
       "\t  0.07050839 &  0.1106827 & -0.7288912 &  0.8781335 &  2.1689560 &  1.36860228 & -1.0185754 & -0.7092008 &  0.644376549 & -0.54770012\\\\\n",
       "\t  0.12928774 & -0.5558411 & -0.6250393 &  0.8215811 &  1.2079620 & -0.22577099 & -1.0717912 & -0.6880086 & -0.220486562 & -1.05159267\\\\\n",
       "\t  1.71506499 &  1.7869131 & -1.6866933 &  0.6886403 & -1.1231086 &  1.51647060 &  0.3035286 &  1.0255714 &  0.331781964 &  1.81528481\\\\\n",
       "\\end{tabular}\n"
      ],
      "text/markdown": [
       "\n",
       "A matrix: 6 × 10 of type dbl\n",
       "\n",
       "| -0.56047565 |  1.2240818 | -1.0678237 |  0.4264642 | -0.6947070 |  0.25331851 |  0.3796395 | -0.4910312 |  0.005764186 | -0.40421756 |\n",
       "| -0.23017749 |  0.3598138 | -0.2179749 | -0.2950715 | -0.2079173 | -0.02854676 | -0.5023235 | -2.3091689 |  0.385280401 | -0.08833858 |\n",
       "|  1.55870831 |  0.4007715 | -1.0260044 |  0.8951257 | -1.2653964 | -0.04287046 | -0.3332074 |  1.0057385 | -0.370660032 |  0.93347532 |\n",
       "|  0.07050839 |  0.1106827 | -0.7288912 |  0.8781335 |  2.1689560 |  1.36860228 | -1.0185754 | -0.7092008 |  0.644376549 | -0.54770012 |\n",
       "|  0.12928774 | -0.5558411 | -0.6250393 |  0.8215811 |  1.2079620 | -0.22577099 | -1.0717912 | -0.6880086 | -0.220486562 | -1.05159267 |\n",
       "|  1.71506499 |  1.7869131 | -1.6866933 |  0.6886403 | -1.1231086 |  1.51647060 |  0.3035286 |  1.0255714 |  0.331781964 |  1.81528481 |\n",
       "\n"
      ],
      "text/plain": [
       "     [,1]        [,2]       [,3]       [,4]       [,5]       [,6]       \n",
       "[1,] -0.56047565  1.2240818 -1.0678237  0.4264642 -0.6947070  0.25331851\n",
       "[2,] -0.23017749  0.3598138 -0.2179749 -0.2950715 -0.2079173 -0.02854676\n",
       "[3,]  1.55870831  0.4007715 -1.0260044  0.8951257 -1.2653964 -0.04287046\n",
       "[4,]  0.07050839  0.1106827 -0.7288912  0.8781335  2.1689560  1.36860228\n",
       "[5,]  0.12928774 -0.5558411 -0.6250393  0.8215811  1.2079620 -0.22577099\n",
       "[6,]  1.71506499  1.7869131 -1.6866933  0.6886403 -1.1231086  1.51647060\n",
       "     [,7]       [,8]       [,9]         [,10]      \n",
       "[1,]  0.3796395 -0.4910312  0.005764186 -0.40421756\n",
       "[2,] -0.5023235 -2.3091689  0.385280401 -0.08833858\n",
       "[3,] -0.3332074  1.0057385 -0.370660032  0.93347532\n",
       "[4,] -1.0185754 -0.7092008  0.644376549 -0.54770012\n",
       "[5,] -1.0717912 -0.6880086 -0.220486562 -1.05159267\n",
       "[6,]  0.3035286  1.0255714  0.331781964  1.81528481"
      ]
     },
     "metadata": {},
     "output_type": "display_data"
    }
   ],
   "source": [
    "X <- matrix( c(V1,V2,V3,V4,V5,V6,V7,V8,V9,V10), nrow=10, ncol = 10, byrow=FALSE)\n",
    "head(X)"
   ]
  },
  {
   "cell_type": "code",
   "execution_count": 91,
   "metadata": {},
   "outputs": [
    {
     "ename": "ERROR",
     "evalue": "Error in solve.default(X): system is computationally singular: reciprocal condition number = 4.21242e-18\n",
     "output_type": "error",
     "traceback": [
      "Error in solve.default(X): system is computationally singular: reciprocal condition number = 4.21242e-18\nTraceback:\n",
      "1. solve(X)",
      "2. solve.default(X)"
     ]
    }
   ],
   "source": [
    "solve( X )"
   ]
  },
  {
   "cell_type": "markdown",
   "metadata": {
    "papermill": {
     "duration": 0.013538,
     "end_time": "2021-02-20T13:42:41.189745",
     "exception": false,
     "start_time": "2021-02-20T13:42:41.176207",
     "status": "completed"
    },
    "tags": []
   },
   "source": [
    "# Analyzing RCT data with Precision Adjustment"
   ]
  },
  {
   "cell_type": "code",
   "execution_count": 92,
   "metadata": {
    "execution": {
     "iopub.execute_input": "2021-02-20T13:42:41.267823Z",
     "iopub.status.busy": "2021-02-20T13:42:41.265606Z",
     "iopub.status.idle": "2021-02-20T13:42:41.503621Z",
     "shell.execute_reply": "2021-02-20T13:42:41.502578Z"
    },
    "papermill": {
     "duration": 0.279482,
     "end_time": "2021-02-20T13:42:41.503829",
     "exception": false,
     "start_time": "2021-02-20T13:42:41.224347",
     "status": "completed"
    },
    "tags": []
   },
   "outputs": [
    {
     "data": {
      "text/html": [
       "<style>\n",
       ".list-inline {list-style: none; margin:0; padding: 0}\n",
       ".list-inline>li {display: inline-block}\n",
       ".list-inline>li:not(:last-child)::after {content: \"\\00b7\"; padding: 0 .5ex}\n",
       "</style>\n",
       "<ol class=list-inline><li>13913</li><li>23</li></ol>\n"
      ],
      "text/latex": [
       "\\begin{enumerate*}\n",
       "\\item 13913\n",
       "\\item 23\n",
       "\\end{enumerate*}\n"
      ],
      "text/markdown": [
       "1. 13913\n",
       "2. 23\n",
       "\n",
       "\n"
      ],
      "text/plain": [
       "[1] 13913    23"
      ]
     },
     "metadata": {},
     "output_type": "display_data"
    }
   ],
   "source": [
    "## loading the data\n",
    "Penn <- as.data.frame(read.table(\"../data/penn_jae.dat\", header=T ))\n",
    "n <- dim(Penn)[1] #obs\n",
    "p_1 <- dim(Penn)[2] #vars\n",
    "dim(Penn)"
   ]
  },
  {
   "cell_type": "code",
   "execution_count": 93,
   "metadata": {
    "execution": {
     "iopub.execute_input": "2021-02-20T13:42:41.267823Z",
     "iopub.status.busy": "2021-02-20T13:42:41.265606Z",
     "iopub.status.idle": "2021-02-20T13:42:41.503621Z",
     "shell.execute_reply": "2021-02-20T13:42:41.502578Z"
    },
    "papermill": {
     "duration": 0.279482,
     "end_time": "2021-02-20T13:42:41.503829",
     "exception": false,
     "start_time": "2021-02-20T13:42:41.224347",
     "status": "completed"
    },
    "tags": []
   },
   "outputs": [
    {
     "name": "stderr",
     "output_type": "stream",
     "text": [
      "The following objects are masked from Penn (pos = 18):\n",
      "\n",
      "    abdt, agegt54, agelt35, black, dep, durable, female, hispanic,\n",
      "    husd, inuidur1, inuidur2, lusd, muld, nondurable, othrace, q1, q2,\n",
      "    q3, q4, q5, q6, recall, tg\n",
      "\n",
      "\n"
     ]
    }
   ],
   "source": [
    "Penn<- subset(Penn, tg==2 | tg==0)\n",
    "attach(Penn)"
   ]
  },
  {
   "cell_type": "code",
   "execution_count": 94,
   "metadata": {
    "execution": {
     "iopub.execute_input": "2021-02-20T13:42:41.560613Z",
     "iopub.status.busy": "2021-02-20T13:42:41.531063Z",
     "iopub.status.idle": "2021-02-20T13:42:41.580817Z",
     "shell.execute_reply": "2021-02-20T13:42:41.579312Z"
    },
    "papermill": {
     "duration": 0.065266,
     "end_time": "2021-02-20T13:42:41.580972",
     "exception": false,
     "start_time": "2021-02-20T13:42:41.515706",
     "status": "completed"
    },
    "tags": []
   },
   "outputs": [
    {
     "data": {
      "text/plain": [
       "   Mode   FALSE    TRUE \n",
       "logical    3354    2428 "
      ]
     },
     "metadata": {},
     "output_type": "display_data"
    }
   ],
   "source": [
    "T2<- (tg==2)\n",
    "summary(T2) # summary of the treatment 2: has more values of controls (3354) tha treatment (2428)"
   ]
  },
  {
   "cell_type": "code",
   "execution_count": 95,
   "metadata": {
    "execution": {
     "iopub.execute_input": "2021-02-20T13:42:41.611073Z",
     "iopub.status.busy": "2021-02-20T13:42:41.609253Z",
     "iopub.status.idle": "2021-02-20T13:42:41.646504Z",
     "shell.execute_reply": "2021-02-20T13:42:41.645094Z"
    },
    "papermill": {
     "duration": 0.053285,
     "end_time": "2021-02-20T13:42:41.646704",
     "exception": false,
     "start_time": "2021-02-20T13:42:41.593419",
     "status": "completed"
    },
    "scrolled": true,
    "tags": []
   },
   "outputs": [
    {
     "data": {
      "text/html": [
       "<table class=\"dataframe\">\n",
       "<caption>A data.frame: 6 × 23</caption>\n",
       "<thead>\n",
       "\t<tr><th></th><th scope=col>abdt</th><th scope=col>tg</th><th scope=col>inuidur1</th><th scope=col>inuidur2</th><th scope=col>female</th><th scope=col>black</th><th scope=col>hispanic</th><th scope=col>othrace</th><th scope=col>dep</th><th scope=col>q1</th><th scope=col>...</th><th scope=col>q5</th><th scope=col>q6</th><th scope=col>recall</th><th scope=col>agelt35</th><th scope=col>agegt54</th><th scope=col>durable</th><th scope=col>nondurable</th><th scope=col>lusd</th><th scope=col>husd</th><th scope=col>muld</th></tr>\n",
       "\t<tr><th></th><th scope=col>&lt;int&gt;</th><th scope=col>&lt;int&gt;</th><th scope=col>&lt;int&gt;</th><th scope=col>&lt;int&gt;</th><th scope=col>&lt;int&gt;</th><th scope=col>&lt;int&gt;</th><th scope=col>&lt;int&gt;</th><th scope=col>&lt;int&gt;</th><th scope=col>&lt;int&gt;</th><th scope=col>&lt;int&gt;</th><th scope=col>...</th><th scope=col>&lt;int&gt;</th><th scope=col>&lt;int&gt;</th><th scope=col>&lt;int&gt;</th><th scope=col>&lt;int&gt;</th><th scope=col>&lt;int&gt;</th><th scope=col>&lt;int&gt;</th><th scope=col>&lt;int&gt;</th><th scope=col>&lt;int&gt;</th><th scope=col>&lt;int&gt;</th><th scope=col>&lt;int&gt;</th></tr>\n",
       "</thead>\n",
       "<tbody>\n",
       "\t<tr><th scope=row>1</th><td>10824</td><td>0</td><td>18</td><td>18</td><td>0</td><td>0</td><td>0</td><td>0</td><td>2</td><td>0</td><td>...</td><td>1</td><td>0</td><td>0</td><td>0</td><td>0</td><td>0</td><td>0</td><td>0</td><td>1</td><td>0</td></tr>\n",
       "\t<tr><th scope=row>2</th><td>10635</td><td>2</td><td> 7</td><td> 3</td><td>0</td><td>0</td><td>0</td><td>0</td><td>0</td><td>0</td><td>...</td><td>0</td><td>0</td><td>0</td><td>1</td><td>0</td><td>0</td><td>0</td><td>1</td><td>0</td><td>0</td></tr>\n",
       "\t<tr><th scope=row>4</th><td>10824</td><td>0</td><td> 1</td><td> 1</td><td>0</td><td>0</td><td>0</td><td>0</td><td>0</td><td>0</td><td>...</td><td>1</td><td>0</td><td>0</td><td>0</td><td>0</td><td>0</td><td>0</td><td>1</td><td>0</td><td>0</td></tr>\n",
       "\t<tr><th scope=row>5</th><td>10747</td><td>0</td><td>27</td><td>27</td><td>0</td><td>0</td><td>0</td><td>0</td><td>0</td><td>0</td><td>...</td><td>0</td><td>0</td><td>0</td><td>0</td><td>0</td><td>0</td><td>0</td><td>1</td><td>0</td><td>0</td></tr>\n",
       "\t<tr><th scope=row>10</th><td>10754</td><td>2</td><td>20</td><td>20</td><td>1</td><td>0</td><td>0</td><td>0</td><td>0</td><td>0</td><td>...</td><td>0</td><td>0</td><td>0</td><td>0</td><td>0</td><td>0</td><td>0</td><td>0</td><td>0</td><td>1</td></tr>\n",
       "\t<tr><th scope=row>13</th><td>10831</td><td>0</td><td>27</td><td>27</td><td>0</td><td>0</td><td>0</td><td>0</td><td>1</td><td>0</td><td>...</td><td>1</td><td>0</td><td>0</td><td>0</td><td>1</td><td>1</td><td>0</td><td>1</td><td>0</td><td>0</td></tr>\n",
       "</tbody>\n",
       "</table>\n"
      ],
      "text/latex": [
       "A data.frame: 6 × 23\n",
       "\\begin{tabular}{r|lllllllllllllllllllll}\n",
       "  & abdt & tg & inuidur1 & inuidur2 & female & black & hispanic & othrace & dep & q1 & ... & q5 & q6 & recall & agelt35 & agegt54 & durable & nondurable & lusd & husd & muld\\\\\n",
       "  & <int> & <int> & <int> & <int> & <int> & <int> & <int> & <int> & <int> & <int> & ... & <int> & <int> & <int> & <int> & <int> & <int> & <int> & <int> & <int> & <int>\\\\\n",
       "\\hline\n",
       "\t1 & 10824 & 0 & 18 & 18 & 0 & 0 & 0 & 0 & 2 & 0 & ... & 1 & 0 & 0 & 0 & 0 & 0 & 0 & 0 & 1 & 0\\\\\n",
       "\t2 & 10635 & 2 &  7 &  3 & 0 & 0 & 0 & 0 & 0 & 0 & ... & 0 & 0 & 0 & 1 & 0 & 0 & 0 & 1 & 0 & 0\\\\\n",
       "\t4 & 10824 & 0 &  1 &  1 & 0 & 0 & 0 & 0 & 0 & 0 & ... & 1 & 0 & 0 & 0 & 0 & 0 & 0 & 1 & 0 & 0\\\\\n",
       "\t5 & 10747 & 0 & 27 & 27 & 0 & 0 & 0 & 0 & 0 & 0 & ... & 0 & 0 & 0 & 0 & 0 & 0 & 0 & 1 & 0 & 0\\\\\n",
       "\t10 & 10754 & 2 & 20 & 20 & 1 & 0 & 0 & 0 & 0 & 0 & ... & 0 & 0 & 0 & 0 & 0 & 0 & 0 & 0 & 0 & 1\\\\\n",
       "\t13 & 10831 & 0 & 27 & 27 & 0 & 0 & 0 & 0 & 1 & 0 & ... & 1 & 0 & 0 & 0 & 1 & 1 & 0 & 1 & 0 & 0\\\\\n",
       "\\end{tabular}\n"
      ],
      "text/markdown": [
       "\n",
       "A data.frame: 6 × 23\n",
       "\n",
       "| <!--/--> | abdt &lt;int&gt; | tg &lt;int&gt; | inuidur1 &lt;int&gt; | inuidur2 &lt;int&gt; | female &lt;int&gt; | black &lt;int&gt; | hispanic &lt;int&gt; | othrace &lt;int&gt; | dep &lt;int&gt; | q1 &lt;int&gt; | ... ... | q5 &lt;int&gt; | q6 &lt;int&gt; | recall &lt;int&gt; | agelt35 &lt;int&gt; | agegt54 &lt;int&gt; | durable &lt;int&gt; | nondurable &lt;int&gt; | lusd &lt;int&gt; | husd &lt;int&gt; | muld &lt;int&gt; |\n",
       "|---|---|---|---|---|---|---|---|---|---|---|---|---|---|---|---|---|---|---|---|---|---|\n",
       "| 1 | 10824 | 0 | 18 | 18 | 0 | 0 | 0 | 0 | 2 | 0 | ... | 1 | 0 | 0 | 0 | 0 | 0 | 0 | 0 | 1 | 0 |\n",
       "| 2 | 10635 | 2 |  7 |  3 | 0 | 0 | 0 | 0 | 0 | 0 | ... | 0 | 0 | 0 | 1 | 0 | 0 | 0 | 1 | 0 | 0 |\n",
       "| 4 | 10824 | 0 |  1 |  1 | 0 | 0 | 0 | 0 | 0 | 0 | ... | 1 | 0 | 0 | 0 | 0 | 0 | 0 | 1 | 0 | 0 |\n",
       "| 5 | 10747 | 0 | 27 | 27 | 0 | 0 | 0 | 0 | 0 | 0 | ... | 0 | 0 | 0 | 0 | 0 | 0 | 0 | 1 | 0 | 0 |\n",
       "| 10 | 10754 | 2 | 20 | 20 | 1 | 0 | 0 | 0 | 0 | 0 | ... | 0 | 0 | 0 | 0 | 0 | 0 | 0 | 0 | 0 | 1 |\n",
       "| 13 | 10831 | 0 | 27 | 27 | 0 | 0 | 0 | 0 | 1 | 0 | ... | 1 | 0 | 0 | 0 | 1 | 1 | 0 | 1 | 0 | 0 |\n",
       "\n"
      ],
      "text/plain": [
       "   abdt  tg inuidur1 inuidur2 female black hispanic othrace dep q1 ... q5 q6\n",
       "1  10824 0  18       18       0      0     0        0       2   0  ... 1  0 \n",
       "2  10635 2   7        3       0      0     0        0       0   0  ... 0  0 \n",
       "4  10824 0   1        1       0      0     0        0       0   0  ... 1  0 \n",
       "5  10747 0  27       27       0      0     0        0       0   0  ... 0  0 \n",
       "10 10754 2  20       20       1      0     0        0       0   0  ... 0  0 \n",
       "13 10831 0  27       27       0      0     0        0       1   0  ... 1  0 \n",
       "   recall agelt35 agegt54 durable nondurable lusd husd muld\n",
       "1  0      0       0       0       0          0    1    0   \n",
       "2  0      1       0       0       0          1    0    0   \n",
       "4  0      0       0       0       0          1    0    0   \n",
       "5  0      0       0       0       0          1    0    0   \n",
       "10 0      0       0       0       0          0    0    1   \n",
       "13 0      0       1       1       0          1    0    0   "
      ]
     },
     "metadata": {},
     "output_type": "display_data"
    }
   ],
   "source": [
    "head(Penn)"
   ]
  },
  {
   "cell_type": "markdown",
   "metadata": {},
   "source": [
    "### Plot two histograms for treatment and control group to see the distribution of the outcome variable inuidur1"
   ]
  },
  {
   "cell_type": "markdown",
   "metadata": {},
   "source": [
    "We prefered to plot one graph that contained both histograms."
   ]
  },
  {
   "cell_type": "code",
   "execution_count": 96,
   "metadata": {},
   "outputs": [
    {
     "data": {
      "text/html": [
       "<table class=\"dataframe\">\n",
       "<caption>A data.frame: 6 × 23</caption>\n",
       "<thead>\n",
       "\t<tr><th></th><th scope=col>abdt</th><th scope=col>tg</th><th scope=col>inuidur1</th><th scope=col>inuidur2</th><th scope=col>female</th><th scope=col>black</th><th scope=col>hispanic</th><th scope=col>othrace</th><th scope=col>dep</th><th scope=col>q1</th><th scope=col>...</th><th scope=col>q5</th><th scope=col>q6</th><th scope=col>recall</th><th scope=col>agelt35</th><th scope=col>agegt54</th><th scope=col>durable</th><th scope=col>nondurable</th><th scope=col>lusd</th><th scope=col>husd</th><th scope=col>muld</th></tr>\n",
       "\t<tr><th></th><th scope=col>&lt;int&gt;</th><th scope=col>&lt;int&gt;</th><th scope=col>&lt;int&gt;</th><th scope=col>&lt;int&gt;</th><th scope=col>&lt;int&gt;</th><th scope=col>&lt;int&gt;</th><th scope=col>&lt;int&gt;</th><th scope=col>&lt;int&gt;</th><th scope=col>&lt;int&gt;</th><th scope=col>&lt;int&gt;</th><th scope=col>...</th><th scope=col>&lt;int&gt;</th><th scope=col>&lt;int&gt;</th><th scope=col>&lt;int&gt;</th><th scope=col>&lt;int&gt;</th><th scope=col>&lt;int&gt;</th><th scope=col>&lt;int&gt;</th><th scope=col>&lt;int&gt;</th><th scope=col>&lt;int&gt;</th><th scope=col>&lt;int&gt;</th><th scope=col>&lt;int&gt;</th></tr>\n",
       "</thead>\n",
       "<tbody>\n",
       "\t<tr><th scope=row>1</th><td>10824</td><td>0</td><td>18</td><td>18</td><td>0</td><td>0</td><td>0</td><td>0</td><td>2</td><td>0</td><td>...</td><td>1</td><td>0</td><td>0</td><td>0</td><td>0</td><td>0</td><td>0</td><td>0</td><td>1</td><td>0</td></tr>\n",
       "\t<tr><th scope=row>4</th><td>10824</td><td>0</td><td> 1</td><td> 1</td><td>0</td><td>0</td><td>0</td><td>0</td><td>0</td><td>0</td><td>...</td><td>1</td><td>0</td><td>0</td><td>0</td><td>0</td><td>0</td><td>0</td><td>1</td><td>0</td><td>0</td></tr>\n",
       "\t<tr><th scope=row>5</th><td>10747</td><td>0</td><td>27</td><td>27</td><td>0</td><td>0</td><td>0</td><td>0</td><td>0</td><td>0</td><td>...</td><td>0</td><td>0</td><td>0</td><td>0</td><td>0</td><td>0</td><td>0</td><td>1</td><td>0</td><td>0</td></tr>\n",
       "\t<tr><th scope=row>13</th><td>10831</td><td>0</td><td>27</td><td>27</td><td>0</td><td>0</td><td>0</td><td>0</td><td>1</td><td>0</td><td>...</td><td>1</td><td>0</td><td>0</td><td>0</td><td>1</td><td>1</td><td>0</td><td>1</td><td>0</td><td>0</td></tr>\n",
       "\t<tr><th scope=row>14</th><td>10845</td><td>0</td><td>27</td><td>27</td><td>1</td><td>0</td><td>0</td><td>0</td><td>0</td><td>0</td><td>...</td><td>1</td><td>0</td><td>0</td><td>0</td><td>1</td><td>0</td><td>0</td><td>1</td><td>0</td><td>0</td></tr>\n",
       "\t<tr><th scope=row>15</th><td>10831</td><td>0</td><td> 9</td><td> 9</td><td>1</td><td>0</td><td>0</td><td>0</td><td>1</td><td>0</td><td>...</td><td>1</td><td>0</td><td>0</td><td>0</td><td>1</td><td>0</td><td>0</td><td>1</td><td>0</td><td>0</td></tr>\n",
       "</tbody>\n",
       "</table>\n"
      ],
      "text/latex": [
       "A data.frame: 6 × 23\n",
       "\\begin{tabular}{r|lllllllllllllllllllll}\n",
       "  & abdt & tg & inuidur1 & inuidur2 & female & black & hispanic & othrace & dep & q1 & ... & q5 & q6 & recall & agelt35 & agegt54 & durable & nondurable & lusd & husd & muld\\\\\n",
       "  & <int> & <int> & <int> & <int> & <int> & <int> & <int> & <int> & <int> & <int> & ... & <int> & <int> & <int> & <int> & <int> & <int> & <int> & <int> & <int> & <int>\\\\\n",
       "\\hline\n",
       "\t1 & 10824 & 0 & 18 & 18 & 0 & 0 & 0 & 0 & 2 & 0 & ... & 1 & 0 & 0 & 0 & 0 & 0 & 0 & 0 & 1 & 0\\\\\n",
       "\t4 & 10824 & 0 &  1 &  1 & 0 & 0 & 0 & 0 & 0 & 0 & ... & 1 & 0 & 0 & 0 & 0 & 0 & 0 & 1 & 0 & 0\\\\\n",
       "\t5 & 10747 & 0 & 27 & 27 & 0 & 0 & 0 & 0 & 0 & 0 & ... & 0 & 0 & 0 & 0 & 0 & 0 & 0 & 1 & 0 & 0\\\\\n",
       "\t13 & 10831 & 0 & 27 & 27 & 0 & 0 & 0 & 0 & 1 & 0 & ... & 1 & 0 & 0 & 0 & 1 & 1 & 0 & 1 & 0 & 0\\\\\n",
       "\t14 & 10845 & 0 & 27 & 27 & 1 & 0 & 0 & 0 & 0 & 0 & ... & 1 & 0 & 0 & 0 & 1 & 0 & 0 & 1 & 0 & 0\\\\\n",
       "\t15 & 10831 & 0 &  9 &  9 & 1 & 0 & 0 & 0 & 1 & 0 & ... & 1 & 0 & 0 & 0 & 1 & 0 & 0 & 1 & 0 & 0\\\\\n",
       "\\end{tabular}\n"
      ],
      "text/markdown": [
       "\n",
       "A data.frame: 6 × 23\n",
       "\n",
       "| <!--/--> | abdt &lt;int&gt; | tg &lt;int&gt; | inuidur1 &lt;int&gt; | inuidur2 &lt;int&gt; | female &lt;int&gt; | black &lt;int&gt; | hispanic &lt;int&gt; | othrace &lt;int&gt; | dep &lt;int&gt; | q1 &lt;int&gt; | ... ... | q5 &lt;int&gt; | q6 &lt;int&gt; | recall &lt;int&gt; | agelt35 &lt;int&gt; | agegt54 &lt;int&gt; | durable &lt;int&gt; | nondurable &lt;int&gt; | lusd &lt;int&gt; | husd &lt;int&gt; | muld &lt;int&gt; |\n",
       "|---|---|---|---|---|---|---|---|---|---|---|---|---|---|---|---|---|---|---|---|---|---|\n",
       "| 1 | 10824 | 0 | 18 | 18 | 0 | 0 | 0 | 0 | 2 | 0 | ... | 1 | 0 | 0 | 0 | 0 | 0 | 0 | 0 | 1 | 0 |\n",
       "| 4 | 10824 | 0 |  1 |  1 | 0 | 0 | 0 | 0 | 0 | 0 | ... | 1 | 0 | 0 | 0 | 0 | 0 | 0 | 1 | 0 | 0 |\n",
       "| 5 | 10747 | 0 | 27 | 27 | 0 | 0 | 0 | 0 | 0 | 0 | ... | 0 | 0 | 0 | 0 | 0 | 0 | 0 | 1 | 0 | 0 |\n",
       "| 13 | 10831 | 0 | 27 | 27 | 0 | 0 | 0 | 0 | 1 | 0 | ... | 1 | 0 | 0 | 0 | 1 | 1 | 0 | 1 | 0 | 0 |\n",
       "| 14 | 10845 | 0 | 27 | 27 | 1 | 0 | 0 | 0 | 0 | 0 | ... | 1 | 0 | 0 | 0 | 1 | 0 | 0 | 1 | 0 | 0 |\n",
       "| 15 | 10831 | 0 |  9 |  9 | 1 | 0 | 0 | 0 | 1 | 0 | ... | 1 | 0 | 0 | 0 | 1 | 0 | 0 | 1 | 0 | 0 |\n",
       "\n"
      ],
      "text/plain": [
       "   abdt  tg inuidur1 inuidur2 female black hispanic othrace dep q1 ... q5 q6\n",
       "1  10824 0  18       18       0      0     0        0       2   0  ... 1  0 \n",
       "4  10824 0   1        1       0      0     0        0       0   0  ... 1  0 \n",
       "5  10747 0  27       27       0      0     0        0       0   0  ... 0  0 \n",
       "13 10831 0  27       27       0      0     0        0       1   0  ... 1  0 \n",
       "14 10845 0  27       27       1      0     0        0       0   0  ... 1  0 \n",
       "15 10831 0   9        9       1      0     0        0       1   0  ... 1  0 \n",
       "   recall agelt35 agegt54 durable nondurable lusd husd muld\n",
       "1  0      0       0       0       0          0    1    0   \n",
       "4  0      0       0       0       0          1    0    0   \n",
       "5  0      0       0       0       0          1    0    0   \n",
       "13 0      0       1       1       0          1    0    0   \n",
       "14 0      0       1       0       0          1    0    0   \n",
       "15 0      0       1       0       0          1    0    0   "
      ]
     },
     "metadata": {},
     "output_type": "display_data"
    }
   ],
   "source": [
    "pen_cont = Penn[Penn$tg==0,]\n",
    "pen_tr = Penn[Penn$tg==2,]\n",
    "head(pen_cont)"
   ]
  },
  {
   "cell_type": "code",
   "execution_count": 97,
   "metadata": {},
   "outputs": [
    {
     "name": "stderr",
     "output_type": "stream",
     "text": [
      "`stat_bin()` using `bins = 30`. Pick better value with `binwidth`.\n",
      "\n"
     ]
    },
    {
     "data": {
      "image/png": "[encoded data removed]",
      "text/plain": [
       "plot without title"
      ]
     },
     "metadata": {
      "image/png": {
       "height": 500,
       "width": 750
      }
     },
     "output_type": "display_data"
    }
   ],
   "source": [
    "library(ggplot2)\n",
    "ggplot(NULL, aes(inuidur1)) +geom_histogram(data=pen_cont, fill=\"red\", binwidth=)"
   ]
  },
  {
   "cell_type": "code",
   "execution_count": 98,
   "metadata": {},
   "outputs": [
    {
     "name": "stderr",
     "output_type": "stream",
     "text": [
      "`stat_bin()` using `bins = 30`. Pick better value with `binwidth`.\n",
      "\n"
     ]
    },
    {
     "data": {
      "image/png": "[encoded data removed]",
      "text/plain": [
       "plot without title"
      ]
     },
     "metadata": {
      "image/png": {
       "height": 500,
       "width": 750
      }
     },
     "output_type": "display_data"
    }
   ],
   "source": [
    "ggplot(NULL, aes(inuidur1)) + geom_histogram(data=pen_tr, fill=\"blue\")"
   ]
  },
  {
   "cell_type": "markdown",
   "metadata": {},
   "source": [
    "The distribution of the treatment and control group is very similar, thought the control group normally has a number of weeks of the first spell of unemployment smaller than the treatment group (probably because it has more observations than the treatment group)."
   ]
  },
  {
   "cell_type": "markdown",
   "metadata": {
    "papermill": {
     "duration": 0.012846,
     "end_time": "2021-02-20T13:42:41.672662",
     "exception": false,
     "start_time": "2021-02-20T13:42:41.659816",
     "status": "completed"
    },
    "tags": []
   },
   "source": [
    "### Model \n",
    "To evaluate the impact of the **treatment two** on unemployment duration, we consider the linear regression model:\n",
    "\n",
    "$$\n",
    "Y =  D \\beta_1 + W'\\beta_2 + \\varepsilon, \\quad E \\varepsilon (D,W')' = 0,\n",
    "$$\n",
    "\n",
    "where $Y$ is  the  log of duration of unemployment (inudir1) , $D$ is a treatment  indicator (2),  and $W$ is a set of controls including age group dummies, gender, race, number of dependents, quarter of the experiment, location within the state, existence of recall expectations, and type of occupation.   Here $\\beta_1$ is the ATE, if the RCT assumptions hold rigorously.\n",
    "\n",
    "\n",
    "We also consider interactive regression model:\n",
    "\n",
    "$$\n",
    "Y =  D \\alpha_1 + D W' \\alpha_2 + W'\\beta_2 + \\varepsilon, \\quad E \\varepsilon (D,W', DW')' = 0,\n",
    "$$\n",
    "where $W$'s are demeaned (apart from the intercept), so that $\\alpha_1$ is the ATE, if the RCT assumptions hold rigorously."
   ]
  },
  {
   "cell_type": "markdown",
   "metadata": {
    "papermill": {
     "duration": 0.012735,
     "end_time": "2021-02-20T13:42:41.698676",
     "exception": false,
     "start_time": "2021-02-20T13:42:41.685941",
     "status": "completed"
    },
    "tags": []
   },
   "source": [
    "Under RCT, the projection coefficient $\\beta_1$ has\n",
    "the interpretation of the causal effect of the treatment on\n",
    "the average outcome. We thus refer to $\\beta_1$ as the average\n",
    "treatment effect (ATE). \n",
    "\n",
    "Note that the covariates, here are\n",
    "independent of the treatment $D$, so we can identify $\\beta_1$ by\n",
    "just linear regression of $Y$ on $D$, without adding covariates. This is proven in the balance check. \n",
    "\n",
    "However we do add covariates in an effort to improve the\n",
    "precision of our estimates of the average treatment effect."
   ]
  },
  {
   "cell_type": "markdown",
   "metadata": {
    "papermill": {
     "duration": 0.012728,
     "end_time": "2021-02-20T13:42:41.724182",
     "exception": false,
     "start_time": "2021-02-20T13:42:41.711454",
     "status": "completed"
    },
    "tags": []
   },
   "source": [
    "### Analysis\n",
    "\n",
    "We consider \n",
    "\n",
    "*  classical 2-sample approach, no adjustment (CL)\n",
    "*  classical linear regression adjustment (CRA)\n",
    "*  interactive regression adjusment (IRA) \n",
    "*  interactive regression adjusment using Lasso\n",
    "\n",
    "and carry out robust inference using the *estimatr* R packages. *Also, we will plot the coefficients of the next variables*:\n",
    "\n",
    "* T2*female\n",
    "* T2*black\n",
    "* T2*agelt35\n",
    "* T2*factor(dep)1"
   ]
  },
  {
   "cell_type": "markdown",
   "metadata": {
    "papermill": {
     "duration": 0.01276,
     "end_time": "2021-02-20T13:42:41.749736",
     "exception": false,
     "start_time": "2021-02-20T13:42:41.736976",
     "status": "completed"
    },
    "tags": []
   },
   "source": [
    "# Carry out covariate balance check"
   ]
  },
  {
   "cell_type": "code",
   "execution_count": 99,
   "metadata": {
    "execution": {
     "iopub.execute_input": "2021-02-20T13:42:41.808584Z",
     "iopub.status.busy": "2021-02-20T13:42:41.806963Z",
     "iopub.status.idle": "2021-02-20T13:42:42.217752Z",
     "shell.execute_reply": "2021-02-20T13:42:42.215514Z"
    },
    "papermill": {
     "duration": 0.428084,
     "end_time": "2021-02-20T13:42:42.217973",
     "exception": false,
     "start_time": "2021-02-20T13:42:41.789889",
     "status": "completed"
    },
    "tags": []
   },
   "outputs": [
    {
     "data": {
      "text/plain": [
       "\n",
       "t test of coefficients:\n",
       "\n",
       "                       Estimate Std. Error t value  Pr(>|t|)    \n",
       "(Intercept)           0.5171342  0.1568823  3.2963 0.0009856 ***\n",
       "female                0.0056240  0.1324597  0.0425 0.9661352    \n",
       "black                -0.0307771  0.0847262 -0.3633 0.7164293    \n",
       "othrace              -0.4278818  0.3005502 -1.4237 0.1545993    \n",
       "factor(dep)1          0.1576567  0.1851798  0.8514 0.3945992    \n",
       "factor(dep)2         -0.1927958  0.1508926 -1.2777 0.2014067    \n",
       "q2                   -0.1092161  0.1583768 -0.6896 0.4904762    \n",
       "q3                   -0.1075663  0.1579864 -0.6809 0.4959890    \n",
       "q4                   -0.0621302  0.1581168 -0.3929 0.6943797    \n",
       "q5                   -0.0498684  0.1575034 -0.3166 0.7515450    \n",
       "q6                   -0.2176336  0.1558290 -1.3966 0.1625831    \n",
       "agelt35              -0.0643464  0.1326376 -0.4851 0.6276032    \n",
       "agegt54               0.0259251  0.2395371  0.1082 0.9138171    \n",
       "durable              -0.1256397  0.1763853 -0.7123 0.4763064    \n",
       "lusd                  0.0860694  0.0690513  1.2465 0.2126486    \n",
       "husd                 -0.0181543  0.0761231 -0.2385 0.8115132    \n",
       "female:black          0.0026783  0.0438397  0.0611 0.9512880    \n",
       "female:othrace        0.1015133  0.2062044  0.4923 0.6225301    \n",
       "female:factor(dep)1  -0.0178540  0.0448463 -0.3981 0.6905601    \n",
       "female:factor(dep)2   0.0219424  0.0397124  0.5525 0.5806048    \n",
       "female:q2            -0.0994751  0.1321625 -0.7527 0.4516778    \n",
       "female:q3            -0.0143909  0.1318197 -0.1092 0.9130705    \n",
       "female:q4            -0.0166871  0.1315462 -0.1269 0.8990607    \n",
       "female:q5            -0.0586323  0.1310954 -0.4472 0.6547126    \n",
       "female:q6             0.0549625  0.1396608  0.3935 0.6939334    \n",
       "female:agelt35        0.0333185  0.0295704  1.1268 0.2598944    \n",
       "female:agegt54       -0.0109911  0.0500743 -0.2195 0.8262722    \n",
       "female:durable       -0.0585915  0.0437316 -1.3398 0.1803639    \n",
       "female:lusd           0.0051154  0.0333352  0.1535 0.8780465    \n",
       "female:husd           0.0186705  0.0367009  0.5087 0.6109674    \n",
       "black:factor(dep)1   -0.0138871  0.0675124 -0.2057 0.8370347    \n",
       "black:factor(dep)2   -0.0230275  0.0622780 -0.3698 0.7115795    \n",
       "black:q2              0.1310560  0.0910134  1.4400 0.1499327    \n",
       "black:q3              0.0356778  0.0875644  0.4074 0.6836956    \n",
       "black:q4             -0.1094835  0.0892166 -1.2272 0.2198114    \n",
       "black:q5             -0.0107546  0.0866019 -0.1242 0.9011738    \n",
       "black:agelt35         0.0295378  0.0448494  0.6586 0.5101795    \n",
       "black:agegt54        -0.0574814  0.0820450 -0.7006 0.4835761    \n",
       "black:durable        -0.0122293  0.0694472 -0.1761 0.8602255    \n",
       "black:lusd            0.0105912  0.0551036  0.1922 0.8475884    \n",
       "black:husd            0.1309267  0.1808848  0.7238 0.4692108    \n",
       "othrace:factor(dep)1  0.5856787  0.2226353  2.6307 0.0085448 ** \n",
       "othrace:factor(dep)2 -0.1436491  0.3315486 -0.4333 0.6648372    \n",
       "othrace:q2           -0.4009126  0.3451284 -1.1616 0.2454333    \n",
       "othrace:q3            0.6008526  0.2361499  2.5444 0.0109738 *  \n",
       "othrace:q4            0.2964049  0.2870002  1.0328 0.3017560    \n",
       "othrace:q5            0.2727293  0.1923161  1.4181 0.1562076    \n",
       "othrace:agelt35       0.0077601  0.2082436  0.0373 0.9702755    \n",
       "othrace:agegt54       0.2411511  0.3193219  0.7552 0.4501618    \n",
       "othrace:durable      -0.1463647  0.2138674 -0.6844 0.4937685    \n",
       "othrace:lusd          0.0924759  0.2070878  0.4466 0.6552140    \n",
       "othrace:husd         -0.8586692  0.3178289 -2.7017 0.0069197 ** \n",
       "factor(dep)1:q2      -0.0778714  0.1856444 -0.4195 0.6748920    \n",
       "factor(dep)2:q2       0.1434300  0.1499260  0.9567 0.3387736    \n",
       "factor(dep)1:q3      -0.1493913  0.1848276 -0.8083 0.4189669    \n",
       "factor(dep)2:q3       0.1686729  0.1499105  1.1252 0.2605697    \n",
       "factor(dep)1:q4      -0.1594688  0.1838128 -0.8676 0.3856714    \n",
       "factor(dep)2:q4       0.1210031  0.1503997  0.8045 0.4211168    \n",
       "factor(dep)1:q5      -0.1176792  0.1832795 -0.6421 0.5208502    \n",
       "factor(dep)2:q5       0.1389782  0.1487634  0.9342 0.3502285    \n",
       "factor(dep)1:q6      -0.1531103  0.1949430 -0.7854 0.4322458    \n",
       "factor(dep)2:q6       0.1619139  0.1593360  1.0162 0.3095874    \n",
       "factor(dep)1:agelt35 -0.0036069  0.0467653 -0.0771 0.9385253    \n",
       "factor(dep)2:agelt35  0.0615367  0.0371449  1.6567 0.0976424 .  \n",
       "factor(dep)1:agegt54 -0.0883148  0.0649947 -1.3588 0.1742643    \n",
       "factor(dep)2:agegt54 -0.0784522  0.1509474 -0.5197 0.6032706    \n",
       "factor(dep)1:durable  0.0088069  0.0577750  0.1524 0.8788500    \n",
       "factor(dep)2:durable -0.0923628  0.0509130 -1.8141 0.0697103 .  \n",
       "factor(dep)1:lusd     0.0358529  0.0504978  0.7100 0.4777404    \n",
       "factor(dep)2:lusd     0.0706587  0.0459827  1.5366 0.1244382    \n",
       "factor(dep)1:husd    -0.0180593  0.0542162 -0.3331 0.7390723    \n",
       "factor(dep)2:husd     0.0065759  0.0476358  0.1380 0.8902087    \n",
       "q2:agelt35            0.0305875  0.1325911  0.2307 0.8175636    \n",
       "q2:agegt54            0.0590330  0.2393334  0.2467 0.8051835    \n",
       "q2:durable            0.1371323  0.1750979  0.7832 0.4335568    \n",
       "q2:lusd              -0.0530912  0.0720069 -0.7373 0.4609656    \n",
       "q2:husd               0.0859891  0.0776931  1.1068 0.2684364    \n",
       "q3:agelt35            0.0303266  0.1323929  0.2291 0.8188267    \n",
       "q3:agegt54            0.0250950  0.2378238  0.1055 0.9159676    \n",
       "q3:durable            0.1904666  0.1749626  1.0886 0.2763706    \n",
       "q3:lusd              -0.0706455  0.0705820 -1.0009 0.3169179    \n",
       "q3:husd               0.0444347  0.0773385  0.5745 0.5656194    \n",
       "q4:agelt35            0.0722676  0.1322839  0.5463 0.5848765    \n",
       "q4:agegt54           -0.0192713  0.2369080 -0.0813 0.9351705    \n",
       "q4:durable            0.1228723  0.1757888  0.6990 0.4845949    \n",
       "q4:lusd              -0.1132011  0.0712124 -1.5896 0.1119751    \n",
       "q4:husd               0.0103329  0.0772952  0.1337 0.8936596    \n",
       "q5:agelt35            0.0464703  0.1315468  0.3533 0.7239064    \n",
       "q5:agegt54           -0.1165307  0.2361590 -0.4934 0.6217196    \n",
       "q5:durable            0.1024633  0.1734395  0.5908 0.5546963    \n",
       "q5:lusd              -0.0357169  0.0702997 -0.5081 0.6114269    \n",
       "q5:husd               0.0269861  0.0756590  0.3567 0.7213443    \n",
       "q6:agelt35            0.1099339  0.1397160  0.7868 0.4314094    \n",
       "q6:agegt54           -0.0173502  0.2478564 -0.0700 0.9441953    \n",
       "q6:durable            0.2161095  0.1833399  1.1787 0.2385522    \n",
       "agelt35:durable       0.0323100  0.0403347  0.8010 0.4231383    \n",
       "agelt35:lusd         -0.0091978  0.0346701 -0.2653 0.7907913    \n",
       "agelt35:husd         -0.0249924  0.0389720 -0.6413 0.5213594    \n",
       "agegt54:durable      -0.0154688  0.0654590 -0.2363 0.8131985    \n",
       "agegt54:lusd          0.0286866  0.0569181  0.5040 0.6142822    \n",
       "agegt54:husd         -0.0423210  0.0610019 -0.6938 0.4878572    \n",
       "durable:lusd         -0.0385741  0.0428073 -0.9011 0.3675670    \n",
       "durable:husd          0.0093281  0.0525225  0.1776 0.8590417    \n",
       "---\n",
       "Signif. codes:  0 '***' 0.001 '**' 0.01 '*' 0.05 '.' 0.1 ' ' 1\n"
      ]
     },
     "metadata": {},
     "output_type": "display_data"
    }
   ],
   "source": [
    "library(lmtest)\n",
    "library(sandwich)\n",
    "m <- lm(T2~(female+black+othrace+factor(dep)+q2+q3+q4+q5+q6+agelt35+agegt54+durable+lusd+husd)^2)\n",
    "coeftest(m, vcov = vcovHC(m, type=\"HC1\"))"
   ]
  },
  {
   "cell_type": "code",
   "execution_count": 100,
   "metadata": {},
   "outputs": [
    {
     "data": {
      "text/html": [
       "<table class=\"dataframe\">\n",
       "<caption>A data.frame: 6 × 120</caption>\n",
       "<thead>\n",
       "\t<tr><th></th><th scope=col>(Intercept)</th><th scope=col>female</th><th scope=col>black</th><th scope=col>othrace</th><th scope=col>factor(dep)1</th><th scope=col>factor(dep)2</th><th scope=col>q2</th><th scope=col>q3</th><th scope=col>q4</th><th scope=col>q5</th><th scope=col>...</th><th scope=col>agelt35:agegt54</th><th scope=col>agelt35:durable</th><th scope=col>agelt35:lusd</th><th scope=col>agelt35:husd</th><th scope=col>agegt54:durable</th><th scope=col>agegt54:lusd</th><th scope=col>agegt54:husd</th><th scope=col>durable:lusd</th><th scope=col>durable:husd</th><th scope=col>lusd:husd</th></tr>\n",
       "\t<tr><th></th><th scope=col>&lt;dbl&gt;</th><th scope=col>&lt;dbl&gt;</th><th scope=col>&lt;dbl&gt;</th><th scope=col>&lt;dbl&gt;</th><th scope=col>&lt;dbl&gt;</th><th scope=col>&lt;dbl&gt;</th><th scope=col>&lt;dbl&gt;</th><th scope=col>&lt;dbl&gt;</th><th scope=col>&lt;dbl&gt;</th><th scope=col>&lt;dbl&gt;</th><th scope=col>...</th><th scope=col>&lt;dbl&gt;</th><th scope=col>&lt;dbl&gt;</th><th scope=col>&lt;dbl&gt;</th><th scope=col>&lt;dbl&gt;</th><th scope=col>&lt;dbl&gt;</th><th scope=col>&lt;dbl&gt;</th><th scope=col>&lt;dbl&gt;</th><th scope=col>&lt;dbl&gt;</th><th scope=col>&lt;dbl&gt;</th><th scope=col>&lt;dbl&gt;</th></tr>\n",
       "</thead>\n",
       "<tbody>\n",
       "\t<tr><th scope=row>1</th><td>1</td><td>0</td><td>0</td><td>0</td><td>0</td><td>1</td><td>0</td><td>0</td><td>0</td><td>1</td><td>...</td><td>0</td><td>0</td><td>0</td><td>0</td><td>0</td><td>0</td><td>0</td><td>0</td><td>0</td><td>0</td></tr>\n",
       "\t<tr><th scope=row>2</th><td>1</td><td>0</td><td>0</td><td>0</td><td>0</td><td>0</td><td>0</td><td>1</td><td>0</td><td>0</td><td>...</td><td>0</td><td>0</td><td>1</td><td>0</td><td>0</td><td>0</td><td>0</td><td>0</td><td>0</td><td>0</td></tr>\n",
       "\t<tr><th scope=row>3</th><td>1</td><td>0</td><td>0</td><td>0</td><td>0</td><td>0</td><td>0</td><td>0</td><td>0</td><td>1</td><td>...</td><td>0</td><td>0</td><td>0</td><td>0</td><td>0</td><td>0</td><td>0</td><td>0</td><td>0</td><td>0</td></tr>\n",
       "\t<tr><th scope=row>4</th><td>1</td><td>0</td><td>0</td><td>0</td><td>0</td><td>0</td><td>0</td><td>0</td><td>1</td><td>0</td><td>...</td><td>0</td><td>0</td><td>0</td><td>0</td><td>0</td><td>0</td><td>0</td><td>0</td><td>0</td><td>0</td></tr>\n",
       "\t<tr><th scope=row>5</th><td>1</td><td>1</td><td>0</td><td>0</td><td>0</td><td>0</td><td>0</td><td>0</td><td>1</td><td>0</td><td>...</td><td>0</td><td>0</td><td>0</td><td>0</td><td>0</td><td>0</td><td>0</td><td>0</td><td>0</td><td>0</td></tr>\n",
       "\t<tr><th scope=row>6</th><td>1</td><td>0</td><td>0</td><td>0</td><td>1</td><td>0</td><td>0</td><td>0</td><td>0</td><td>1</td><td>...</td><td>0</td><td>0</td><td>0</td><td>0</td><td>1</td><td>1</td><td>0</td><td>1</td><td>0</td><td>0</td></tr>\n",
       "</tbody>\n",
       "</table>\n"
      ],
      "text/latex": [
       "A data.frame: 6 × 120\n",
       "\\begin{tabular}{r|lllllllllllllllllllll}\n",
       "  & (Intercept) & female & black & othrace & factor(dep)1 & factor(dep)2 & q2 & q3 & q4 & q5 & ... & agelt35:agegt54 & agelt35:durable & agelt35:lusd & agelt35:husd & agegt54:durable & agegt54:lusd & agegt54:husd & durable:lusd & durable:husd & lusd:husd\\\\\n",
       "  & <dbl> & <dbl> & <dbl> & <dbl> & <dbl> & <dbl> & <dbl> & <dbl> & <dbl> & <dbl> & ... & <dbl> & <dbl> & <dbl> & <dbl> & <dbl> & <dbl> & <dbl> & <dbl> & <dbl> & <dbl>\\\\\n",
       "\\hline\n",
       "\t1 & 1 & 0 & 0 & 0 & 0 & 1 & 0 & 0 & 0 & 1 & ... & 0 & 0 & 0 & 0 & 0 & 0 & 0 & 0 & 0 & 0\\\\\n",
       "\t2 & 1 & 0 & 0 & 0 & 0 & 0 & 0 & 1 & 0 & 0 & ... & 0 & 0 & 1 & 0 & 0 & 0 & 0 & 0 & 0 & 0\\\\\n",
       "\t3 & 1 & 0 & 0 & 0 & 0 & 0 & 0 & 0 & 0 & 1 & ... & 0 & 0 & 0 & 0 & 0 & 0 & 0 & 0 & 0 & 0\\\\\n",
       "\t4 & 1 & 0 & 0 & 0 & 0 & 0 & 0 & 0 & 1 & 0 & ... & 0 & 0 & 0 & 0 & 0 & 0 & 0 & 0 & 0 & 0\\\\\n",
       "\t5 & 1 & 1 & 0 & 0 & 0 & 0 & 0 & 0 & 1 & 0 & ... & 0 & 0 & 0 & 0 & 0 & 0 & 0 & 0 & 0 & 0\\\\\n",
       "\t6 & 1 & 0 & 0 & 0 & 1 & 0 & 0 & 0 & 0 & 1 & ... & 0 & 0 & 0 & 0 & 1 & 1 & 0 & 1 & 0 & 0\\\\\n",
       "\\end{tabular}\n"
      ],
      "text/markdown": [
       "\n",
       "A data.frame: 6 × 120\n",
       "\n",
       "| <!--/--> | (Intercept) &lt;dbl&gt; | female &lt;dbl&gt; | black &lt;dbl&gt; | othrace &lt;dbl&gt; | factor(dep)1 &lt;dbl&gt; | factor(dep)2 &lt;dbl&gt; | q2 &lt;dbl&gt; | q3 &lt;dbl&gt; | q4 &lt;dbl&gt; | q5 &lt;dbl&gt; | ... ... | agelt35:agegt54 &lt;dbl&gt; | agelt35:durable &lt;dbl&gt; | agelt35:lusd &lt;dbl&gt; | agelt35:husd &lt;dbl&gt; | agegt54:durable &lt;dbl&gt; | agegt54:lusd &lt;dbl&gt; | agegt54:husd &lt;dbl&gt; | durable:lusd &lt;dbl&gt; | durable:husd &lt;dbl&gt; | lusd:husd &lt;dbl&gt; |\n",
       "|---|---|---|---|---|---|---|---|---|---|---|---|---|---|---|---|---|---|---|---|---|---|\n",
       "| 1 | 1 | 0 | 0 | 0 | 0 | 1 | 0 | 0 | 0 | 1 | ... | 0 | 0 | 0 | 0 | 0 | 0 | 0 | 0 | 0 | 0 |\n",
       "| 2 | 1 | 0 | 0 | 0 | 0 | 0 | 0 | 1 | 0 | 0 | ... | 0 | 0 | 1 | 0 | 0 | 0 | 0 | 0 | 0 | 0 |\n",
       "| 3 | 1 | 0 | 0 | 0 | 0 | 0 | 0 | 0 | 0 | 1 | ... | 0 | 0 | 0 | 0 | 0 | 0 | 0 | 0 | 0 | 0 |\n",
       "| 4 | 1 | 0 | 0 | 0 | 0 | 0 | 0 | 0 | 1 | 0 | ... | 0 | 0 | 0 | 0 | 0 | 0 | 0 | 0 | 0 | 0 |\n",
       "| 5 | 1 | 1 | 0 | 0 | 0 | 0 | 0 | 0 | 1 | 0 | ... | 0 | 0 | 0 | 0 | 0 | 0 | 0 | 0 | 0 | 0 |\n",
       "| 6 | 1 | 0 | 0 | 0 | 1 | 0 | 0 | 0 | 0 | 1 | ... | 0 | 0 | 0 | 0 | 1 | 1 | 0 | 1 | 0 | 0 |\n",
       "\n"
      ],
      "text/plain": [
       "  (Intercept) female black othrace factor(dep)1 factor(dep)2 q2 q3 q4 q5 ...\n",
       "1 1           0      0     0       0            1            0  0  0  1  ...\n",
       "2 1           0      0     0       0            0            0  1  0  0  ...\n",
       "3 1           0      0     0       0            0            0  0  0  1  ...\n",
       "4 1           0      0     0       0            0            0  0  1  0  ...\n",
       "5 1           1      0     0       0            0            0  0  1  0  ...\n",
       "6 1           0      0     0       1            0            0  0  0  1  ...\n",
       "  agelt35:agegt54 agelt35:durable agelt35:lusd agelt35:husd agegt54:durable\n",
       "1 0               0               0            0            0              \n",
       "2 0               0               1            0            0              \n",
       "3 0               0               0            0            0              \n",
       "4 0               0               0            0            0              \n",
       "5 0               0               0            0            0              \n",
       "6 0               0               0            0            1              \n",
       "  agegt54:lusd agegt54:husd durable:lusd durable:husd lusd:husd\n",
       "1 0            0            0            0            0        \n",
       "2 0            0            0            0            0        \n",
       "3 0            0            0            0            0        \n",
       "4 0            0            0            0            0        \n",
       "5 0            0            0            0            0        \n",
       "6 1            0            1            0            0        "
      ]
     },
     "metadata": {},
     "output_type": "display_data"
    },
    {
     "data": {
      "text/html": [
       "120"
      ],
      "text/latex": [
       "120"
      ],
      "text/markdown": [
       "120"
      ],
      "text/plain": [
       "[1] 120"
      ]
     },
     "metadata": {},
     "output_type": "display_data"
    }
   ],
   "source": [
    "# get same dataframe\n",
    "X <- as.data.frame( model.matrix(m) )\n",
    "head(X) # the matrix used in the regression\n",
    "length(X)"
   ]
  },
  {
   "cell_type": "code",
   "execution_count": 101,
   "metadata": {},
   "outputs": [
    {
     "data": {
      "text/html": [
       "<table class=\"dataframe\">\n",
       "<caption>A data.frame: 6 × 103</caption>\n",
       "<thead>\n",
       "\t<tr><th></th><th scope=col>(Intercept)</th><th scope=col>female</th><th scope=col>black</th><th scope=col>othrace</th><th scope=col>factor(dep)1</th><th scope=col>factor(dep)2</th><th scope=col>q2</th><th scope=col>q3</th><th scope=col>q4</th><th scope=col>q5</th><th scope=col>...</th><th scope=col>q6:agegt54</th><th scope=col>q6:durable</th><th scope=col>agelt35:durable</th><th scope=col>agelt35:lusd</th><th scope=col>agelt35:husd</th><th scope=col>agegt54:durable</th><th scope=col>agegt54:lusd</th><th scope=col>agegt54:husd</th><th scope=col>durable:lusd</th><th scope=col>durable:husd</th></tr>\n",
       "\t<tr><th></th><th scope=col>&lt;dbl&gt;</th><th scope=col>&lt;dbl&gt;</th><th scope=col>&lt;dbl&gt;</th><th scope=col>&lt;dbl&gt;</th><th scope=col>&lt;dbl&gt;</th><th scope=col>&lt;dbl&gt;</th><th scope=col>&lt;dbl&gt;</th><th scope=col>&lt;dbl&gt;</th><th scope=col>&lt;dbl&gt;</th><th scope=col>&lt;dbl&gt;</th><th scope=col>...</th><th scope=col>&lt;dbl&gt;</th><th scope=col>&lt;dbl&gt;</th><th scope=col>&lt;dbl&gt;</th><th scope=col>&lt;dbl&gt;</th><th scope=col>&lt;dbl&gt;</th><th scope=col>&lt;dbl&gt;</th><th scope=col>&lt;dbl&gt;</th><th scope=col>&lt;dbl&gt;</th><th scope=col>&lt;dbl&gt;</th><th scope=col>&lt;dbl&gt;</th></tr>\n",
       "</thead>\n",
       "<tbody>\n",
       "\t<tr><th scope=row>1</th><td>1</td><td>0</td><td>0</td><td>0</td><td>0</td><td>1</td><td>0</td><td>0</td><td>0</td><td>1</td><td>...</td><td>0</td><td>0</td><td>0</td><td>0</td><td>0</td><td>0</td><td>0</td><td>0</td><td>0</td><td>0</td></tr>\n",
       "\t<tr><th scope=row>2</th><td>1</td><td>0</td><td>0</td><td>0</td><td>0</td><td>0</td><td>0</td><td>1</td><td>0</td><td>0</td><td>...</td><td>0</td><td>0</td><td>0</td><td>1</td><td>0</td><td>0</td><td>0</td><td>0</td><td>0</td><td>0</td></tr>\n",
       "\t<tr><th scope=row>3</th><td>1</td><td>0</td><td>0</td><td>0</td><td>0</td><td>0</td><td>0</td><td>0</td><td>0</td><td>1</td><td>...</td><td>0</td><td>0</td><td>0</td><td>0</td><td>0</td><td>0</td><td>0</td><td>0</td><td>0</td><td>0</td></tr>\n",
       "\t<tr><th scope=row>4</th><td>1</td><td>0</td><td>0</td><td>0</td><td>0</td><td>0</td><td>0</td><td>0</td><td>1</td><td>0</td><td>...</td><td>0</td><td>0</td><td>0</td><td>0</td><td>0</td><td>0</td><td>0</td><td>0</td><td>0</td><td>0</td></tr>\n",
       "\t<tr><th scope=row>5</th><td>1</td><td>1</td><td>0</td><td>0</td><td>0</td><td>0</td><td>0</td><td>0</td><td>1</td><td>0</td><td>...</td><td>0</td><td>0</td><td>0</td><td>0</td><td>0</td><td>0</td><td>0</td><td>0</td><td>0</td><td>0</td></tr>\n",
       "\t<tr><th scope=row>6</th><td>1</td><td>0</td><td>0</td><td>0</td><td>1</td><td>0</td><td>0</td><td>0</td><td>0</td><td>1</td><td>...</td><td>0</td><td>0</td><td>0</td><td>0</td><td>0</td><td>1</td><td>1</td><td>0</td><td>1</td><td>0</td></tr>\n",
       "</tbody>\n",
       "</table>\n"
      ],
      "text/latex": [
       "A data.frame: 6 × 103\n",
       "\\begin{tabular}{r|lllllllllllllllllllll}\n",
       "  & (Intercept) & female & black & othrace & factor(dep)1 & factor(dep)2 & q2 & q3 & q4 & q5 & ... & q6:agegt54 & q6:durable & agelt35:durable & agelt35:lusd & agelt35:husd & agegt54:durable & agegt54:lusd & agegt54:husd & durable:lusd & durable:husd\\\\\n",
       "  & <dbl> & <dbl> & <dbl> & <dbl> & <dbl> & <dbl> & <dbl> & <dbl> & <dbl> & <dbl> & ... & <dbl> & <dbl> & <dbl> & <dbl> & <dbl> & <dbl> & <dbl> & <dbl> & <dbl> & <dbl>\\\\\n",
       "\\hline\n",
       "\t1 & 1 & 0 & 0 & 0 & 0 & 1 & 0 & 0 & 0 & 1 & ... & 0 & 0 & 0 & 0 & 0 & 0 & 0 & 0 & 0 & 0\\\\\n",
       "\t2 & 1 & 0 & 0 & 0 & 0 & 0 & 0 & 1 & 0 & 0 & ... & 0 & 0 & 0 & 1 & 0 & 0 & 0 & 0 & 0 & 0\\\\\n",
       "\t3 & 1 & 0 & 0 & 0 & 0 & 0 & 0 & 0 & 0 & 1 & ... & 0 & 0 & 0 & 0 & 0 & 0 & 0 & 0 & 0 & 0\\\\\n",
       "\t4 & 1 & 0 & 0 & 0 & 0 & 0 & 0 & 0 & 1 & 0 & ... & 0 & 0 & 0 & 0 & 0 & 0 & 0 & 0 & 0 & 0\\\\\n",
       "\t5 & 1 & 1 & 0 & 0 & 0 & 0 & 0 & 0 & 1 & 0 & ... & 0 & 0 & 0 & 0 & 0 & 0 & 0 & 0 & 0 & 0\\\\\n",
       "\t6 & 1 & 0 & 0 & 0 & 1 & 0 & 0 & 0 & 0 & 1 & ... & 0 & 0 & 0 & 0 & 0 & 1 & 1 & 0 & 1 & 0\\\\\n",
       "\\end{tabular}\n"
      ],
      "text/markdown": [
       "\n",
       "A data.frame: 6 × 103\n",
       "\n",
       "| <!--/--> | (Intercept) &lt;dbl&gt; | female &lt;dbl&gt; | black &lt;dbl&gt; | othrace &lt;dbl&gt; | factor(dep)1 &lt;dbl&gt; | factor(dep)2 &lt;dbl&gt; | q2 &lt;dbl&gt; | q3 &lt;dbl&gt; | q4 &lt;dbl&gt; | q5 &lt;dbl&gt; | ... ... | q6:agegt54 &lt;dbl&gt; | q6:durable &lt;dbl&gt; | agelt35:durable &lt;dbl&gt; | agelt35:lusd &lt;dbl&gt; | agelt35:husd &lt;dbl&gt; | agegt54:durable &lt;dbl&gt; | agegt54:lusd &lt;dbl&gt; | agegt54:husd &lt;dbl&gt; | durable:lusd &lt;dbl&gt; | durable:husd &lt;dbl&gt; |\n",
       "|---|---|---|---|---|---|---|---|---|---|---|---|---|---|---|---|---|---|---|---|---|---|\n",
       "| 1 | 1 | 0 | 0 | 0 | 0 | 1 | 0 | 0 | 0 | 1 | ... | 0 | 0 | 0 | 0 | 0 | 0 | 0 | 0 | 0 | 0 |\n",
       "| 2 | 1 | 0 | 0 | 0 | 0 | 0 | 0 | 1 | 0 | 0 | ... | 0 | 0 | 0 | 1 | 0 | 0 | 0 | 0 | 0 | 0 |\n",
       "| 3 | 1 | 0 | 0 | 0 | 0 | 0 | 0 | 0 | 0 | 1 | ... | 0 | 0 | 0 | 0 | 0 | 0 | 0 | 0 | 0 | 0 |\n",
       "| 4 | 1 | 0 | 0 | 0 | 0 | 0 | 0 | 0 | 1 | 0 | ... | 0 | 0 | 0 | 0 | 0 | 0 | 0 | 0 | 0 | 0 |\n",
       "| 5 | 1 | 1 | 0 | 0 | 0 | 0 | 0 | 0 | 1 | 0 | ... | 0 | 0 | 0 | 0 | 0 | 0 | 0 | 0 | 0 | 0 |\n",
       "| 6 | 1 | 0 | 0 | 0 | 1 | 0 | 0 | 0 | 0 | 1 | ... | 0 | 0 | 0 | 0 | 0 | 1 | 1 | 0 | 1 | 0 |\n",
       "\n"
      ],
      "text/plain": [
       "  (Intercept) female black othrace factor(dep)1 factor(dep)2 q2 q3 q4 q5 ...\n",
       "1 1           0      0     0       0            1            0  0  0  1  ...\n",
       "2 1           0      0     0       0            0            0  1  0  0  ...\n",
       "3 1           0      0     0       0            0            0  0  0  1  ...\n",
       "4 1           0      0     0       0            0            0  0  1  0  ...\n",
       "5 1           1      0     0       0            0            0  0  1  0  ...\n",
       "6 1           0      0     0       1            0            0  0  0  1  ...\n",
       "  q6:agegt54 q6:durable agelt35:durable agelt35:lusd agelt35:husd\n",
       "1 0          0          0               0            0           \n",
       "2 0          0          0               1            0           \n",
       "3 0          0          0               0            0           \n",
       "4 0          0          0               0            0           \n",
       "5 0          0          0               0            0           \n",
       "6 0          0          0               0            0           \n",
       "  agegt54:durable agegt54:lusd agegt54:husd durable:lusd durable:husd\n",
       "1 0               0            0            0            0           \n",
       "2 0               0            0            0            0           \n",
       "3 0               0            0            0            0           \n",
       "4 0               0            0            0            0           \n",
       "5 0               0            0            0            0           \n",
       "6 1               1            0            1            0           "
      ]
     },
     "metadata": {},
     "output_type": "display_data"
    }
   ],
   "source": [
    "no_col <- attributes(m$coefficients)$names[is.na(m$coefficients)] #save the name of variables \n",
    "X1  <- X[, -which(names( X ) %in% no_col ) ] #save in a data frame this variables\n",
    "head(X1)"
   ]
  },
  {
   "cell_type": "code",
   "execution_count": 102,
   "metadata": {},
   "outputs": [],
   "source": [
    "save( X1, file = \"../data/lab3_sol.RData\")"
   ]
  },
  {
   "cell_type": "markdown",
   "metadata": {
    "papermill": {
     "duration": 0.021046,
     "end_time": "2021-02-20T13:42:42.315674",
     "exception": false,
     "start_time": "2021-02-20T13:42:42.294628",
     "status": "completed"
    },
    "tags": []
   },
   "source": [
    "# Model Specification"
   ]
  },
  {
   "cell_type": "markdown",
   "metadata": {},
   "source": [
    "### No adjustment (2-sample approach) & classical linear regression adjustment (CRA)"
   ]
  },
  {
   "cell_type": "code",
   "execution_count": 103,
   "metadata": {
    "execution": {
     "iopub.execute_input": "2021-02-20T13:42:42.351202Z",
     "iopub.status.busy": "2021-02-20T13:42:42.350620Z",
     "iopub.status.idle": "2021-02-20T13:42:42.680257Z",
     "shell.execute_reply": "2021-02-20T13:42:42.677739Z"
    },
    "papermill": {
     "duration": 0.350081,
     "end_time": "2021-02-20T13:42:42.680497",
     "exception": false,
     "start_time": "2021-02-20T13:42:42.330416",
     "status": "completed"
    },
    "tags": []
   },
   "outputs": [],
   "source": [
    "formula_cl <- log(inuidur1)~T2\n",
    "\n",
    "# adding controls\n",
    "formula_cra <- log(inuidur1)~T2+ (female+black+othrace+factor(dep)+q2+q3+q4+q5+q6+agelt35+agegt54+durable+lusd+husd)^2\n",
    "# Omitted dummies: q1, nondurable, muld\n",
    "\n",
    "#No adjustment (2-sample approach): like comparing the means of the control and the treatment group\n",
    "ols.cl_reg <- lm(formula_cl)\n",
    "\n",
    "# (CRA)\n",
    "ols.cra_reg <- lm(formula_cra)\n",
    "\n",
    "ols.cl = coeftest(ols.cl_reg, vcov = vcovHC(ols.cl_reg, type=\"HC1\"))\n",
    "ols.cra = coeftest(ols.cra_reg, vcov = vcovHC(ols.cra_reg, type=\"HC1\"))"
   ]
  },
  {
   "cell_type": "code",
   "execution_count": 120,
   "metadata": {},
   "outputs": [
    {
     "data": {
      "text/plain": [
       "\n",
       "t test of coefficients:\n",
       "\n",
       "             Estimate Std. Error t value Pr(>|t|)    \n",
       "(Intercept)  2.056830   0.020954 98.1580  < 2e-16 ***\n",
       "T2TRUE      -0.078825   0.032509 -2.4247  0.01535 *  \n",
       "---\n",
       "Signif. codes:  0 '***' 0.001 '**' 0.01 '*' 0.05 '.' 0.1 ' ' 1\n"
      ]
     },
     "metadata": {},
     "output_type": "display_data"
    }
   ],
   "source": [
    "ols.cl"
   ]
  },
  {
   "cell_type": "code",
   "execution_count": 104,
   "metadata": {
    "execution": {
     "iopub.execute_input": "2021-02-20T13:42:42.351202Z",
     "iopub.status.busy": "2021-02-20T13:42:42.350620Z",
     "iopub.status.idle": "2021-02-20T13:42:42.680257Z",
     "shell.execute_reply": "2021-02-20T13:42:42.677739Z"
    },
    "papermill": {
     "duration": 0.350081,
     "end_time": "2021-02-20T13:42:42.680497",
     "exception": false,
     "start_time": "2021-02-20T13:42:42.330416",
     "status": "completed"
    },
    "tags": []
   },
   "outputs": [
    {
     "name": "stdout",
     "output_type": "stream",
     "text": [
      "\n",
      "t test of coefficients:\n",
      "\n",
      "             Estimate Std. Error t value Pr(>|t|)    \n",
      "(Intercept)  2.056830   0.020954 98.1580  < 2e-16 ***\n",
      "T2TRUE      -0.078825   0.032509 -2.4247  0.01535 *  \n",
      "---\n",
      "Signif. codes:  0 '***' 0.001 '**' 0.01 '*' 0.05 '.' 0.1 ' ' 1\n",
      "\n",
      "\n",
      "t test of coefficients:\n",
      "\n",
      "                       Estimate Std. Error t value  Pr(>|t|)    \n",
      "(Intercept)           2.4471832  0.3580899  6.8340 9.123e-12 ***\n",
      "T2TRUE               -0.0712066  0.0320440 -2.2222 0.0263124 *  \n",
      "female               -0.9428048  0.2827961 -3.3339 0.0008620 ***\n",
      "black                -0.6654258  0.2430567 -2.7377 0.0062056 ** \n",
      "othrace              -1.5494550  0.7312071 -2.1190 0.0341306 *  \n",
      "factor(dep)1          0.2798498  0.3783316  0.7397 0.4595160    \n",
      "factor(dep)2          0.1678164  0.3678718  0.4562 0.6482768    \n",
      "q2                    0.0271228  0.3606226  0.0752 0.9400495    \n",
      "q3                   -0.3542370  0.3601780 -0.9835 0.3254005    \n",
      "q4                   -0.3380244  0.3606994 -0.9371 0.3487284    \n",
      "q5                   -0.1777168  0.3598757 -0.4938 0.6214465    \n",
      "q6                   -0.4456044  0.3612792 -1.2334 0.2174749    \n",
      "agelt35              -0.3264815  0.3108711 -1.0502 0.2936639    \n",
      "agegt54              -0.1551504  0.4796700 -0.3235 0.7463646    \n",
      "durable              -1.0151542  0.4449002 -2.2818 0.0225405 *  \n",
      "lusd                 -0.1193717  0.1744506 -0.6843 0.4938310    \n",
      "husd                  0.0702968  0.1877772  0.3744 0.7081482    \n",
      "female:black         -0.2840034  0.1181815 -2.4031 0.0162880 *  \n",
      "female:othrace        0.4211653  0.4881117  0.8628 0.3882586    \n",
      "female:factor(dep)1  -0.0852110  0.1097575 -0.7764 0.4375706    \n",
      "female:factor(dep)2   0.0191663  0.0960257  0.1996 0.8418042    \n",
      "female:q2             0.7579484  0.2816463  2.6911 0.0071418 ** \n",
      "female:q3             1.1132040  0.2804776  3.9690 7.308e-05 ***\n",
      "female:q4             1.0476270  0.2803218  3.7372 0.0001879 ***\n",
      "female:q5             0.9391723  0.2797468  3.3572 0.0007925 ***\n",
      "female:q6             1.0943376  0.3051864  3.5858 0.0003389 ***\n",
      "female:agelt35        0.0897041  0.0717530  1.2502 0.2112858    \n",
      "female:agegt54        0.1052300  0.1192511  0.8824 0.3775848    \n",
      "female:durable        0.1479312  0.1045882  1.4144 0.1572946    \n",
      "female:lusd           0.1040466  0.0803795  1.2944 0.1955654    \n",
      "female:husd           0.0405424  0.0871027  0.4655 0.6416233    \n",
      "black:factor(dep)1    0.2550534  0.1776949  1.4353 0.1512441    \n",
      "black:factor(dep)2   -0.0026687  0.1685717 -0.0158 0.9873694    \n",
      "black:q2              0.1578965  0.2541864  0.6212 0.5345037    \n",
      "black:q3              0.3136968  0.2421894  1.2953 0.1952852    \n",
      "black:q4              0.4070568  0.2531613  1.6079 0.1079138    \n",
      "black:q5              0.4779693  0.2423807  1.9720 0.0486606 *  \n",
      "black:agelt35        -0.0327885  0.1199314 -0.2734 0.7845605    \n",
      "black:agegt54         0.2404150  0.2150911  1.1177 0.2637272    \n",
      "black:durable         0.1604680  0.1818229  0.8826 0.3775165    \n",
      "black:lusd            0.0976747  0.1397249  0.6991 0.4845494    \n",
      "black:husd            0.5226586  0.4705587  1.1107 0.2667363    \n",
      "othrace:factor(dep)1  1.1661534  0.5688725  2.0499 0.0404163 *  \n",
      "othrace:factor(dep)2 -0.7687279  0.6882470 -1.1169 0.2640689    \n",
      "othrace:q2            1.5108063  0.7553314  2.0002 0.0455273 *  \n",
      "othrace:q3            0.2915823  0.4010420  0.7271 0.4672180    \n",
      "othrace:q4            0.9422587  0.5216038  1.8065 0.0708987 .  \n",
      "othrace:q5            0.9633463  0.4508887  2.1366 0.0326772 *  \n",
      "othrace:agelt35      -0.1902437  0.5742114 -0.3313 0.7404203    \n",
      "othrace:agegt54      -1.5319860  0.7774149 -1.9706 0.0488163 *  \n",
      "othrace:durable       1.9037227  0.2984229  6.3793 1.920e-10 ***\n",
      "othrace:lusd         -0.1288020  0.3847564 -0.3348 0.7378166    \n",
      "othrace:husd          0.6131158  0.6322611  0.9697 0.3322277    \n",
      "factor(dep)1:q2      -0.0578297  0.3766295 -0.1535 0.8779737    \n",
      "factor(dep)2:q2      -0.0868354  0.3663258 -0.2370 0.8126310    \n",
      "factor(dep)1:q3      -0.1448244  0.3766926 -0.3845 0.7006496    \n",
      "factor(dep)2:q3      -0.0664361  0.3661251 -0.1815 0.8560150    \n",
      "factor(dep)1:q4      -0.2322822  0.3758156 -0.6181 0.5365507    \n",
      "factor(dep)2:q4      -0.0189174  0.3664236 -0.0516 0.9588277    \n",
      "factor(dep)1:q5      -0.1366847  0.3745611 -0.3649 0.7151851    \n",
      "factor(dep)2:q5      -0.3474112  0.3658274 -0.9497 0.3423260    \n",
      "factor(dep)1:q6      -0.0754430  0.4237563 -0.1780 0.8587026    \n",
      "factor(dep)2:q6       0.1670275  0.3862462  0.4324 0.6654396    \n",
      "factor(dep)1:agelt35  0.0295559  0.1110959  0.2660 0.7902184    \n",
      "factor(dep)2:agelt35  0.0604359  0.0884161  0.6835 0.4942940    \n",
      "factor(dep)1:agegt54 -0.0653782  0.1579819 -0.4138 0.6790114    \n",
      "factor(dep)2:agegt54  0.2389402  0.3502460  0.6822 0.4951360    \n",
      "factor(dep)1:durable  0.2490245  0.1390534  1.7909 0.0733699 .  \n",
      "factor(dep)2:durable  0.1155334  0.1210212  0.9547 0.3397934    \n",
      "factor(dep)1:lusd    -0.1891318  0.1198463 -1.5781 0.1145937    \n",
      "factor(dep)2:lusd     0.0099694  0.1080574  0.0923 0.9264947    \n",
      "factor(dep)1:husd     0.0210466  0.1300914  0.1618 0.8714822    \n",
      "factor(dep)2:husd     0.0643927  0.1120225  0.5748 0.5654361    \n",
      "q2:agelt35            0.1074960  0.3106163  0.3461 0.7293005    \n",
      "q2:agegt54            0.2089269  0.4790236  0.4362 0.6627433    \n",
      "q2:durable            0.4369419  0.4446247  0.9827 0.3257868    \n",
      "q2:lusd              -0.0452343  0.1775655 -0.2547 0.7989278    \n",
      "q2:husd              -0.2223717  0.1866781 -1.1912 0.2336234    \n",
      "q3:agelt35            0.1804517  0.3105857  0.5810 0.5612606    \n",
      "q3:agegt54            0.5556566  0.4753225  1.1690 0.2424487    \n",
      "q3:durable            0.8395937  0.4443589  1.8894 0.0588825 .  \n",
      "q3:lusd              -0.0159614  0.1750847 -0.0912 0.9273658    \n",
      "q3:husd              -0.1130923  0.1853528 -0.6101 0.5417894    \n",
      "q4:agelt35            0.1182933  0.3104549  0.3810 0.7031937    \n",
      "q4:agegt54            0.3742015  0.4730138  0.7911 0.4289183    \n",
      "q4:durable            0.7433954  0.4469877  1.6631 0.0963430 .  \n",
      "q4:lusd              -0.0222100  0.1777450 -0.1250 0.9005644    \n",
      "q4:husd              -0.1847688  0.1860619 -0.9931 0.3207276    \n",
      "q5:agelt35           -0.0347993  0.3094880 -0.1124 0.9104773    \n",
      "q5:agegt54            0.2173394  0.4741739  0.4584 0.6467158    \n",
      "q5:durable            0.8553983  0.4436236  1.9282 0.0538791 .  \n",
      "q5:lusd              -0.1842941  0.1767158 -1.0429 0.2970464    \n",
      "q5:husd              -0.2741579  0.1844937 -1.4860 0.1373343    \n",
      "q6:agelt35            0.1822011  0.3330819  0.5470 0.5843893    \n",
      "q6:agegt54            0.6639470  0.5038773  1.3177 0.1876654    \n",
      "q6:durable            1.1466872  0.4656818  2.4624 0.0138312 *  \n",
      "agelt35:durable       0.0130415  0.0974530  0.1338 0.8935470    \n",
      "agelt35:lusd         -0.0561347  0.0826337 -0.6793 0.4969628    \n",
      "agelt35:husd          0.0174718  0.0917544  0.1904 0.8489878    \n",
      "agegt54:durable      -0.0133916  0.1551439 -0.0863 0.9312172    \n",
      "agegt54:lusd         -0.0236037  0.1297822 -0.1819 0.8556901    \n",
      "agegt54:husd         -0.2739141  0.1437349 -1.9057 0.0567409 .  \n",
      "durable:lusd          0.2916144  0.1033609  2.8213 0.0047992 ** \n",
      "durable:husd          0.3027337  0.1242434  2.4366 0.0148558 *  \n",
      "---\n",
      "Signif. codes:  0 '***' 0.001 '**' 0.01 '*' 0.05 '.' 0.1 ' ' 1\n",
      "\n"
     ]
    }
   ],
   "source": [
    "# (2-sample approach):\n",
    "print(ols.cl)\n",
    "# (CRA)\n",
    "print(ols.cra)"
   ]
  },
  {
   "cell_type": "code",
   "execution_count": 105,
   "metadata": {},
   "outputs": [],
   "source": [
    "# get same dataframe for ols.cl\n",
    "X <- as.data.frame( model.matrix(ols.cl_reg) )\n",
    "\n",
    "no_col <- attributes(ols.cl_reg$coefficients)$names[is.na(ols.cl_reg$coefficients)]\n",
    "\n",
    "X1  <- X[, -which(names( X ) %in% no_col ) ]\n",
    "\n",
    "save( X1, file = \"../data/ols_cl_reg_sol.RData\")\n",
    "\n",
    "# get same dataframe for ols.cra\n",
    "X <- as.data.frame( model.matrix(ols.cra_reg) )\n",
    "\n",
    "no_col <- attributes(ols.cra_reg$coefficients)$names[is.na(ols.cra_reg$coefficients)]\n",
    "\n",
    "X1  <- X[, -which(names( X ) %in% no_col ) ]\n",
    "\n",
    "save( X1, file = \"../data/ols_cra_reg_sol.RData\")\n"
   ]
  },
  {
   "cell_type": "markdown",
   "metadata": {
    "papermill": {
     "duration": 0.02768,
     "end_time": "2021-02-20T13:42:42.735966",
     "exception": false,
     "start_time": "2021-02-20T13:42:42.708286",
     "status": "completed"
    },
    "tags": []
   },
   "source": [
    "The interactive specificaiton corresponds to the approach introduced in Lin (2013)."
   ]
  },
  {
   "cell_type": "markdown",
   "metadata": {},
   "source": [
    "### Interactive regression model"
   ]
  },
  {
   "cell_type": "code",
   "execution_count": 121,
   "metadata": {
    "execution": {
     "iopub.execute_input": "2021-02-20T13:42:42.787957Z",
     "iopub.status.busy": "2021-02-20T13:42:42.787434Z",
     "iopub.status.idle": "2021-02-20T13:42:43.662431Z",
     "shell.execute_reply": "2021-02-20T13:42:43.659030Z"
    },
    "papermill": {
     "duration": 0.898452,
     "end_time": "2021-02-20T13:42:43.662684",
     "exception": false,
     "start_time": "2021-02-20T13:42:42.764232",
     "status": "completed"
    },
    "tags": []
   },
   "outputs": [
    {
     "data": {
      "text/html": [
       "<style>\n",
       ".list-inline {list-style: none; margin:0; padding: 0}\n",
       ".list-inline>li {display: inline-block}\n",
       ".list-inline>li:not(:last-child)::after {content: \"\\00b7\"; padding: 0 .5ex}\n",
       "</style>\n",
       "<ol class=list-inline><li>5782</li><li>119</li></ol>\n"
      ],
      "text/latex": [
       "\\begin{enumerate*}\n",
       "\\item 5782\n",
       "\\item 119\n",
       "\\end{enumerate*}\n"
      ],
      "text/markdown": [
       "1. 5782\n",
       "2. 119\n",
       "\n",
       "\n"
      ],
      "text/plain": [
       "[1] 5782  119"
      ]
     },
     "metadata": {},
     "output_type": "display_data"
    }
   ],
   "source": [
    "X = model.matrix (~ (female+black+othrace+factor(dep)+q2+q3+q4+q5+q6+agelt35+agegt54+durable+lusd+husd)^2)[,-1]\n",
    "dim(X) # we have 119 variables"
   ]
  },
  {
   "cell_type": "code",
   "execution_count": 122,
   "metadata": {
    "execution": {
     "iopub.execute_input": "2021-02-20T13:42:42.787957Z",
     "iopub.status.busy": "2021-02-20T13:42:42.787434Z",
     "iopub.status.idle": "2021-02-20T13:42:43.662431Z",
     "shell.execute_reply": "2021-02-20T13:42:43.659030Z"
    },
    "papermill": {
     "duration": 0.898452,
     "end_time": "2021-02-20T13:42:43.662684",
     "exception": false,
     "start_time": "2021-02-20T13:42:42.764232",
     "status": "completed"
    },
    "tags": []
   },
   "outputs": [
    {
     "data": {
      "text/html": [
       "<table class=\"dataframe\">\n",
       "<caption>A matrix: 6 × 119 of type dbl</caption>\n",
       "<thead>\n",
       "\t<tr><th></th><th scope=col>female</th><th scope=col>black</th><th scope=col>othrace</th><th scope=col>factor(dep)1</th><th scope=col>factor(dep)2</th><th scope=col>q2</th><th scope=col>q3</th><th scope=col>q4</th><th scope=col>q5</th><th scope=col>q6</th><th scope=col>...</th><th scope=col>agelt35:agegt54</th><th scope=col>agelt35:durable</th><th scope=col>agelt35:lusd</th><th scope=col>agelt35:husd</th><th scope=col>agegt54:durable</th><th scope=col>agegt54:lusd</th><th scope=col>agegt54:husd</th><th scope=col>durable:lusd</th><th scope=col>durable:husd</th><th scope=col>lusd:husd</th></tr>\n",
       "</thead>\n",
       "<tbody>\n",
       "\t<tr><th scope=row>1</th><td>-0.4007264</td><td>-0.118817</td><td>-0.005188516</td><td>-0.1165687</td><td> 0.839329</td><td>-0.2001038</td><td>-0.2355586</td><td>-0.2232791</td><td> 0.7367693</td><td>-0.06520235</td><td>...</td><td>0</td><td>-0.07350398</td><td>-0.1324801</td><td>-0.1219301</td><td>-0.01885161</td><td>-0.0325147</td><td>-0.02767209</td><td>-0.05499827</td><td>-0.02905569</td><td>0</td></tr>\n",
       "\t<tr><th scope=row>2</th><td>-0.4007264</td><td>-0.118817</td><td>-0.005188516</td><td>-0.1165687</td><td>-0.160671</td><td>-0.2001038</td><td> 0.7644414</td><td>-0.2232791</td><td>-0.2632307</td><td>-0.06520235</td><td>...</td><td>0</td><td>-0.07350398</td><td> 0.8675199</td><td>-0.1219301</td><td>-0.01885161</td><td>-0.0325147</td><td>-0.02767209</td><td>-0.05499827</td><td>-0.02905569</td><td>0</td></tr>\n",
       "\t<tr><th scope=row>3</th><td>-0.4007264</td><td>-0.118817</td><td>-0.005188516</td><td>-0.1165687</td><td>-0.160671</td><td>-0.2001038</td><td>-0.2355586</td><td>-0.2232791</td><td> 0.7367693</td><td>-0.06520235</td><td>...</td><td>0</td><td>-0.07350398</td><td>-0.1324801</td><td>-0.1219301</td><td>-0.01885161</td><td>-0.0325147</td><td>-0.02767209</td><td>-0.05499827</td><td>-0.02905569</td><td>0</td></tr>\n",
       "\t<tr><th scope=row>4</th><td>-0.4007264</td><td>-0.118817</td><td>-0.005188516</td><td>-0.1165687</td><td>-0.160671</td><td>-0.2001038</td><td>-0.2355586</td><td> 0.7767209</td><td>-0.2632307</td><td>-0.06520235</td><td>...</td><td>0</td><td>-0.07350398</td><td>-0.1324801</td><td>-0.1219301</td><td>-0.01885161</td><td>-0.0325147</td><td>-0.02767209</td><td>-0.05499827</td><td>-0.02905569</td><td>0</td></tr>\n",
       "\t<tr><th scope=row>5</th><td> 0.5992736</td><td>-0.118817</td><td>-0.005188516</td><td>-0.1165687</td><td>-0.160671</td><td>-0.2001038</td><td>-0.2355586</td><td> 0.7767209</td><td>-0.2632307</td><td>-0.06520235</td><td>...</td><td>0</td><td>-0.07350398</td><td>-0.1324801</td><td>-0.1219301</td><td>-0.01885161</td><td>-0.0325147</td><td>-0.02767209</td><td>-0.05499827</td><td>-0.02905569</td><td>0</td></tr>\n",
       "\t<tr><th scope=row>6</th><td>-0.4007264</td><td>-0.118817</td><td>-0.005188516</td><td> 0.8834313</td><td>-0.160671</td><td>-0.2001038</td><td>-0.2355586</td><td>-0.2232791</td><td> 0.7367693</td><td>-0.06520235</td><td>...</td><td>0</td><td>-0.07350398</td><td>-0.1324801</td><td>-0.1219301</td><td> 0.98114839</td><td> 0.9674853</td><td>-0.02767209</td><td> 0.94500173</td><td>-0.02905569</td><td>0</td></tr>\n",
       "</tbody>\n",
       "</table>\n"
      ],
      "text/latex": [
       "A matrix: 6 × 119 of type dbl\n",
       "\\begin{tabular}{r|lllllllllllllllllllll}\n",
       "  & female & black & othrace & factor(dep)1 & factor(dep)2 & q2 & q3 & q4 & q5 & q6 & ... & agelt35:agegt54 & agelt35:durable & agelt35:lusd & agelt35:husd & agegt54:durable & agegt54:lusd & agegt54:husd & durable:lusd & durable:husd & lusd:husd\\\\\n",
       "\\hline\n",
       "\t1 & -0.4007264 & -0.118817 & -0.005188516 & -0.1165687 &  0.839329 & -0.2001038 & -0.2355586 & -0.2232791 &  0.7367693 & -0.06520235 & ... & 0 & -0.07350398 & -0.1324801 & -0.1219301 & -0.01885161 & -0.0325147 & -0.02767209 & -0.05499827 & -0.02905569 & 0\\\\\n",
       "\t2 & -0.4007264 & -0.118817 & -0.005188516 & -0.1165687 & -0.160671 & -0.2001038 &  0.7644414 & -0.2232791 & -0.2632307 & -0.06520235 & ... & 0 & -0.07350398 &  0.8675199 & -0.1219301 & -0.01885161 & -0.0325147 & -0.02767209 & -0.05499827 & -0.02905569 & 0\\\\\n",
       "\t3 & -0.4007264 & -0.118817 & -0.005188516 & -0.1165687 & -0.160671 & -0.2001038 & -0.2355586 & -0.2232791 &  0.7367693 & -0.06520235 & ... & 0 & -0.07350398 & -0.1324801 & -0.1219301 & -0.01885161 & -0.0325147 & -0.02767209 & -0.05499827 & -0.02905569 & 0\\\\\n",
       "\t4 & -0.4007264 & -0.118817 & -0.005188516 & -0.1165687 & -0.160671 & -0.2001038 & -0.2355586 &  0.7767209 & -0.2632307 & -0.06520235 & ... & 0 & -0.07350398 & -0.1324801 & -0.1219301 & -0.01885161 & -0.0325147 & -0.02767209 & -0.05499827 & -0.02905569 & 0\\\\\n",
       "\t5 &  0.5992736 & -0.118817 & -0.005188516 & -0.1165687 & -0.160671 & -0.2001038 & -0.2355586 &  0.7767209 & -0.2632307 & -0.06520235 & ... & 0 & -0.07350398 & -0.1324801 & -0.1219301 & -0.01885161 & -0.0325147 & -0.02767209 & -0.05499827 & -0.02905569 & 0\\\\\n",
       "\t6 & -0.4007264 & -0.118817 & -0.005188516 &  0.8834313 & -0.160671 & -0.2001038 & -0.2355586 & -0.2232791 &  0.7367693 & -0.06520235 & ... & 0 & -0.07350398 & -0.1324801 & -0.1219301 &  0.98114839 &  0.9674853 & -0.02767209 &  0.94500173 & -0.02905569 & 0\\\\\n",
       "\\end{tabular}\n"
      ],
      "text/markdown": [
       "\n",
       "A matrix: 6 × 119 of type dbl\n",
       "\n",
       "| <!--/--> | female | black | othrace | factor(dep)1 | factor(dep)2 | q2 | q3 | q4 | q5 | q6 | ... | agelt35:agegt54 | agelt35:durable | agelt35:lusd | agelt35:husd | agegt54:durable | agegt54:lusd | agegt54:husd | durable:lusd | durable:husd | lusd:husd |\n",
       "|---|---|---|---|---|---|---|---|---|---|---|---|---|---|---|---|---|---|---|---|---|---|\n",
       "| 1 | -0.4007264 | -0.118817 | -0.005188516 | -0.1165687 |  0.839329 | -0.2001038 | -0.2355586 | -0.2232791 |  0.7367693 | -0.06520235 | ... | 0 | -0.07350398 | -0.1324801 | -0.1219301 | -0.01885161 | -0.0325147 | -0.02767209 | -0.05499827 | -0.02905569 | 0 |\n",
       "| 2 | -0.4007264 | -0.118817 | -0.005188516 | -0.1165687 | -0.160671 | -0.2001038 |  0.7644414 | -0.2232791 | -0.2632307 | -0.06520235 | ... | 0 | -0.07350398 |  0.8675199 | -0.1219301 | -0.01885161 | -0.0325147 | -0.02767209 | -0.05499827 | -0.02905569 | 0 |\n",
       "| 3 | -0.4007264 | -0.118817 | -0.005188516 | -0.1165687 | -0.160671 | -0.2001038 | -0.2355586 | -0.2232791 |  0.7367693 | -0.06520235 | ... | 0 | -0.07350398 | -0.1324801 | -0.1219301 | -0.01885161 | -0.0325147 | -0.02767209 | -0.05499827 | -0.02905569 | 0 |\n",
       "| 4 | -0.4007264 | -0.118817 | -0.005188516 | -0.1165687 | -0.160671 | -0.2001038 | -0.2355586 |  0.7767209 | -0.2632307 | -0.06520235 | ... | 0 | -0.07350398 | -0.1324801 | -0.1219301 | -0.01885161 | -0.0325147 | -0.02767209 | -0.05499827 | -0.02905569 | 0 |\n",
       "| 5 |  0.5992736 | -0.118817 | -0.005188516 | -0.1165687 | -0.160671 | -0.2001038 | -0.2355586 |  0.7767209 | -0.2632307 | -0.06520235 | ... | 0 | -0.07350398 | -0.1324801 | -0.1219301 | -0.01885161 | -0.0325147 | -0.02767209 | -0.05499827 | -0.02905569 | 0 |\n",
       "| 6 | -0.4007264 | -0.118817 | -0.005188516 |  0.8834313 | -0.160671 | -0.2001038 | -0.2355586 | -0.2232791 |  0.7367693 | -0.06520235 | ... | 0 | -0.07350398 | -0.1324801 | -0.1219301 |  0.98114839 |  0.9674853 | -0.02767209 |  0.94500173 | -0.02905569 | 0 |\n",
       "\n"
      ],
      "text/plain": [
       "  female     black     othrace      factor(dep)1 factor(dep)2 q2        \n",
       "1 -0.4007264 -0.118817 -0.005188516 -0.1165687    0.839329    -0.2001038\n",
       "2 -0.4007264 -0.118817 -0.005188516 -0.1165687   -0.160671    -0.2001038\n",
       "3 -0.4007264 -0.118817 -0.005188516 -0.1165687   -0.160671    -0.2001038\n",
       "4 -0.4007264 -0.118817 -0.005188516 -0.1165687   -0.160671    -0.2001038\n",
       "5  0.5992736 -0.118817 -0.005188516 -0.1165687   -0.160671    -0.2001038\n",
       "6 -0.4007264 -0.118817 -0.005188516  0.8834313   -0.160671    -0.2001038\n",
       "  q3         q4         q5         q6          ... agelt35:agegt54\n",
       "1 -0.2355586 -0.2232791  0.7367693 -0.06520235 ... 0              \n",
       "2  0.7644414 -0.2232791 -0.2632307 -0.06520235 ... 0              \n",
       "3 -0.2355586 -0.2232791  0.7367693 -0.06520235 ... 0              \n",
       "4 -0.2355586  0.7767209 -0.2632307 -0.06520235 ... 0              \n",
       "5 -0.2355586  0.7767209 -0.2632307 -0.06520235 ... 0              \n",
       "6 -0.2355586 -0.2232791  0.7367693 -0.06520235 ... 0              \n",
       "  agelt35:durable agelt35:lusd agelt35:husd agegt54:durable agegt54:lusd\n",
       "1 -0.07350398     -0.1324801   -0.1219301   -0.01885161     -0.0325147  \n",
       "2 -0.07350398      0.8675199   -0.1219301   -0.01885161     -0.0325147  \n",
       "3 -0.07350398     -0.1324801   -0.1219301   -0.01885161     -0.0325147  \n",
       "4 -0.07350398     -0.1324801   -0.1219301   -0.01885161     -0.0325147  \n",
       "5 -0.07350398     -0.1324801   -0.1219301   -0.01885161     -0.0325147  \n",
       "6 -0.07350398     -0.1324801   -0.1219301    0.98114839      0.9674853  \n",
       "  agegt54:husd durable:lusd durable:husd lusd:husd\n",
       "1 -0.02767209  -0.05499827  -0.02905569  0        \n",
       "2 -0.02767209  -0.05499827  -0.02905569  0        \n",
       "3 -0.02767209  -0.05499827  -0.02905569  0        \n",
       "4 -0.02767209  -0.05499827  -0.02905569  0        \n",
       "5 -0.02767209  -0.05499827  -0.02905569  0        \n",
       "6 -0.02767209   0.94500173  -0.02905569  0        "
      ]
     },
     "metadata": {},
     "output_type": "display_data"
    }
   ],
   "source": [
    "demean<- function(x){ x - mean(x)} #create a function that demeans the variables \n",
    "X = apply(X, 2, demean) # apply it to the data base\n",
    "head(X)"
   ]
  },
  {
   "cell_type": "code",
   "execution_count": 123,
   "metadata": {
    "execution": {
     "iopub.execute_input": "2021-02-20T13:42:42.787957Z",
     "iopub.status.busy": "2021-02-20T13:42:42.787434Z",
     "iopub.status.idle": "2021-02-20T13:42:43.662431Z",
     "shell.execute_reply": "2021-02-20T13:42:43.659030Z"
    },
    "papermill": {
     "duration": 0.898452,
     "end_time": "2021-02-20T13:42:43.662684",
     "exception": false,
     "start_time": "2021-02-20T13:42:42.764232",
     "status": "completed"
    },
    "tags": []
   },
   "outputs": [
    {
     "name": "stdout",
     "output_type": "stream",
     "text": [
      "\n",
      "t test of coefficients:\n",
      "\n",
      "                           Estimate Std. Error  t value  Pr(>|t|)    \n",
      "(Intercept)               2.0263431  0.0158116 128.1556 < 2.2e-16 ***\n",
      "T2                       -0.0699044  0.0320764  -2.1793 0.0293503 *  \n",
      "Xfemale                  -0.9433273  0.2828151  -3.3355 0.0008570 ***\n",
      "Xblack                   -0.6734467  0.2450385  -2.7483 0.0060092 ** \n",
      "Xothrace                 -2.8890389  0.5954889  -4.8515 1.258e-06 ***\n",
      "Xfactor(dep)1             0.3565813  0.4194870   0.8500 0.3953385    \n",
      "Xfactor(dep)2             0.1902699  0.3735550   0.5093 0.6105277    \n",
      "Xq2                       0.1220052  0.3591173   0.3397 0.7340679    \n",
      "Xq3                      -0.2448805  0.3585870  -0.6829 0.4946958    \n",
      "Xq4                      -0.2325918  0.3589780  -0.6479 0.5170583    \n",
      "Xq5                      -0.0706375  0.3580735  -0.1973 0.8436227    \n",
      "Xq6                      -0.3489823  0.3608200  -0.9672 0.3334899    \n",
      "Xagelt35                 -0.2059965  0.3138224  -0.6564 0.5115867    \n",
      "Xagegt54                 -0.1301443  0.4609826  -0.2823 0.7777091    \n",
      "Xdurable                 -0.8086744  0.4295867  -1.8824 0.0598273 .  \n",
      "Xlusd                    -0.1357714  0.1768290  -0.7678 0.4426317    \n",
      "Xhusd                     0.0568502  0.1920828   0.2960 0.7672663    \n",
      "Xfemale:black            -0.3009962  0.1186449  -2.5370 0.0112093 *  \n",
      "Xfemale:othrace           0.2164892  0.3316910   0.6527 0.5139872    \n",
      "Xfemale:factor(dep)1     -0.0972833  0.1082694  -0.8985 0.3689419    \n",
      "Xfemale:factor(dep)2      0.0196833  0.0975850   0.2017 0.8401557    \n",
      "Xfemale:q2                0.7482100  0.2822226   2.6511 0.0080449 ** \n",
      "Xfemale:q3                1.1229785  0.2811285   3.9945 6.565e-05 ***\n",
      "Xfemale:q4                1.0499551  0.2808927   3.7379 0.0001874 ***\n",
      "Xfemale:q5                0.9434475  0.2803313   3.3655 0.0007693 ***\n",
      "Xfemale:q6                1.0797423  0.3065205   3.5226 0.0004308 ***\n",
      "Xfemale:agelt35           0.0919074  0.0721025   1.2747 0.2024770    \n",
      "Xfemale:agegt54           0.0752775  0.1209638   0.6223 0.5337609    \n",
      "Xfemale:durable           0.1437630  0.1056210   1.3611 0.1735301    \n",
      "Xfemale:lusd              0.1165601  0.0806744   1.4448 0.1485641    \n",
      "Xfemale:husd              0.0430760  0.0882642   0.4880 0.6255440    \n",
      "Xblack:factor(dep)1       0.2617094  0.1732210   1.5108 0.1308856    \n",
      "Xblack:factor(dep)2      -0.0207946  0.1689565  -0.1231 0.9020507    \n",
      "Xblack:q2                 0.1798568  0.2564805   0.7012 0.4831767    \n",
      "Xblack:q3                 0.3037111  0.2460788   1.2342 0.2171794    \n",
      "Xblack:q4                 0.3759071  0.2573034   1.4609 0.1440858    \n",
      "Xblack:q5                 0.4766123  0.2452278   1.9435 0.0520001 .  \n",
      "Xblack:agelt35           -0.0076932  0.1196840  -0.0643 0.9487499    \n",
      "Xblack:agegt54            0.3130680  0.2283819   1.3708 0.1704896    \n",
      "Xblack:durable            0.1168819  0.1730481   0.6754 0.4994308    \n",
      "Xblack:lusd               0.1295252  0.1387035   0.9338 0.3504332    \n",
      "Xblack:husd               0.4675848  0.4579372   1.0211 0.3072667    \n",
      "Xothrace:factor(dep)1     2.7212635  1.0881976   2.5007 0.0124230 *  \n",
      "Xothrace:factor(dep)2    -0.6803747  0.4004466  -1.6990 0.0893675 .  \n",
      "Xothrace:q2               2.0825791  0.6083699   3.4232 0.0006233 ***\n",
      "Xothrace:q3               0.6086833  0.4661724   1.3057 0.1917069    \n",
      "Xothrace:q4               2.8446155  0.5958412   4.7741 1.851e-06 ***\n",
      "Xothrace:q5               1.2912130  0.4007186   3.2222 0.0012792 ** \n",
      "Xothrace:agelt35          0.6391209  0.5427527   1.1776 0.2390245    \n",
      "Xothrace:agegt54         -4.1489603  0.4818685  -8.6102 < 2.2e-16 ***\n",
      "Xothrace:durable          2.4081067  0.2442372   9.8597 < 2.2e-16 ***\n",
      "Xothrace:lusd             0.1844718  0.2928908   0.6298 0.5288306    \n",
      "Xothrace:husd             4.7889261  0.8179777   5.8546 5.054e-09 ***\n",
      "Xfactor(dep)1:q2         -0.1153778  0.4156508  -0.2776 0.7813424    \n",
      "Xfactor(dep)2:q2         -0.1232540  0.3727086  -0.3307 0.7408851    \n",
      "Xfactor(dep)1:q3         -0.2056523  0.4167493  -0.4935 0.6217017    \n",
      "Xfactor(dep)2:q3         -0.1038481  0.3720618  -0.2791 0.7801667    \n",
      "Xfactor(dep)1:q4         -0.2878700  0.4151910  -0.6933 0.4881229    \n",
      "Xfactor(dep)2:q4         -0.0615383  0.3719215  -0.1655 0.8685876    \n",
      "Xfactor(dep)1:q5         -0.2125289  0.4137698  -0.5136 0.6075238    \n",
      "Xfactor(dep)2:q5         -0.3826890  0.3715183  -1.0301 0.3030229    \n",
      "Xfactor(dep)1:q6         -0.1625838  0.4635200  -0.3508 0.7257824    \n",
      "Xfactor(dep)2:q6          0.1147319  0.3930614   0.2919 0.7703792    \n",
      "Xfactor(dep)1:agelt35     0.0181135  0.1115975   0.1623 0.8710667    \n",
      "Xfactor(dep)2:agelt35     0.0765298  0.0888704   0.8611 0.3891984    \n",
      "Xfactor(dep)1:agegt54    -0.0819728  0.1588158  -0.5162 0.6057701    \n",
      "Xfactor(dep)2:agegt54     0.3823929  0.2931456   1.3044 0.1921350    \n",
      "Xfactor(dep)1:durable     0.2479328  0.1389302   1.7846 0.0743829 .  \n",
      "Xfactor(dep)2:durable     0.0747330  0.1251849   0.5970 0.5505442    \n",
      "Xfactor(dep)1:lusd       -0.1696038  0.1209468  -1.4023 0.1608811    \n",
      "Xfactor(dep)2:lusd        0.0281349  0.1087041   0.2588 0.7957832    \n",
      "Xfactor(dep)1:husd        0.0089547  0.1306214   0.0686 0.9453468    \n",
      "Xfactor(dep)2:husd        0.0843545  0.1140496   0.7396 0.4595558    \n",
      "Xq2:agelt35              -0.0202843  0.3132791  -0.0647 0.9483767    \n",
      "Xq2:agegt54               0.1793674  0.4600503   0.3899 0.6966353    \n",
      "Xq2:durable               0.2288462  0.4304013   0.5317 0.5949519    \n",
      "Xq2:lusd                 -0.0461779  0.1797754  -0.2569 0.7972931    \n",
      "Xq2:husd                 -0.2204842  0.1903699  -1.1582 0.2468367    \n",
      "Xq3:agelt35               0.0401326  0.3132305   0.1281 0.8980548    \n",
      "Xq3:agegt54               0.4973189  0.4566636   1.0890 0.2761892    \n",
      "Xq3:durable               0.6402323  0.4301923   1.4882 0.1367423    \n",
      "Xq3:lusd                 -0.0324189  0.1773086  -0.1828 0.8549310    \n",
      "Xq3:husd                 -0.1333759  0.1886051  -0.7072 0.4794903    \n",
      "Xq4:agelt35              -0.0120054  0.3127433  -0.0384 0.9693801    \n",
      "Xq4:agegt54               0.3359987  0.4529007   0.7419 0.4581903    \n",
      "Xq4:durable               0.5438843  0.4338854   1.2535 0.2100688    \n",
      "Xq4:lusd                 -0.0408621  0.1796858  -0.2274 0.8201144    \n",
      "Xq4:husd                 -0.1798329  0.1897508  -0.9477 0.3433068    \n",
      "Xq5:agelt35              -0.1729764  0.3118750  -0.5546 0.5791674    \n",
      "Xq5:agegt54               0.1915093  0.4556697   0.4203 0.6742965    \n",
      "Xq5:durable               0.6667185  0.4286367   1.5554 0.1198981    \n",
      "Xq5:lusd                 -0.2216706  0.1793806  -1.2358 0.2166015    \n",
      "Xq5:husd                 -0.2767039  0.1883739  -1.4689 0.1419142    \n",
      "Xq6:agelt35               0.0749574  0.3357105   0.2233 0.8233259    \n",
      "Xq6:agegt54               0.6533220  0.4887640   1.3367 0.1813810    \n",
      "Xq6:durable               0.9672238  0.4534686   2.1329 0.0329727 *  \n",
      "Xagelt35:durable          0.0063870  0.0980615   0.0651 0.9480708    \n",
      "Xagelt35:lusd            -0.0288018  0.0835623  -0.3447 0.7303522    \n",
      "Xagelt35:husd             0.0298837  0.0927520   0.3222 0.7473215    \n",
      "Xagegt54:durable         -0.0511979  0.1571148  -0.3259 0.7445403    \n",
      "Xagegt54:lusd             0.0389511  0.1322557   0.2945 0.7683763    \n",
      "Xagegt54:husd            -0.1928363  0.1455756  -1.3246 0.1853424    \n",
      "Xdurable:lusd             0.3171701  0.1045878   3.0326 0.0024359 ** \n",
      "Xdurable:husd             0.3193837  0.1244810   2.5657 0.0103220 *  \n",
      "T2:Xfemale               -0.6597505  0.5498974  -1.1998 0.2302796    \n",
      "T2:Xblack                 0.4525570  0.5103188   0.8868 0.3752182    \n",
      "T2:Xothrace               2.2114703  1.1019213   2.0069 0.0448061 *  \n",
      "T2:Xfactor(dep)1          0.7636025  0.7854484   0.9722 0.3309998    \n",
      "T2:Xfactor(dep)2         -0.0511656  0.7787378  -0.0657 0.9476164    \n",
      "T2:Xq2                    0.8969455  0.7369231   1.2171 0.2235988    \n",
      "T2:Xq3                    0.8962389  0.7356679   1.2183 0.2231746    \n",
      "T2:Xq4                    0.5889998  0.7360986   0.8002 0.4236497    \n",
      "T2:Xq5                    0.7173442  0.7348525   0.9762 0.3290204    \n",
      "T2:Xq6                    0.7812489  0.7433947   1.0509 0.2933405    \n",
      "T2:Xagelt35               1.1233199  0.6374193   1.7623 0.0780744 .  \n",
      "T2:Xagegt54               0.4142771  0.8713838   0.4754 0.6345031    \n",
      "T2:Xdurable               0.0698550  0.8506225   0.0821 0.9345525    \n",
      "T2:Xlusd                 -0.0864022  0.3607507  -0.2395 0.8107216    \n",
      "T2:Xhusd                  0.2845565  0.3988946   0.7134 0.4756512    \n",
      "T2:Xfemale:black         -0.2036471  0.2434209  -0.8366 0.4028505    \n",
      "T2:Xfemale:othrace       -0.9119496  0.5800698  -1.5721 0.1159753    \n",
      "T2:Xfemale:factor(dep)1   0.1813213  0.2195306   0.8260 0.4088676    \n",
      "T2:Xfemale:factor(dep)2  -0.4690337  0.1987659  -2.3597 0.0183225 *  \n",
      "T2:Xfemale:q2             0.8485381  0.5490759   1.5454 0.1223079    \n",
      "T2:Xfemale:q3             1.0429018  0.5461093   1.9097 0.0562238 .  \n",
      "T2:Xfemale:q4             0.7824923  0.5455513   1.4343 0.1515385    \n",
      "T2:Xfemale:q5             0.8993802  0.5448366   1.6507 0.0988492 .  \n",
      "T2:Xfemale:q6             0.4085802  0.6037867   0.6767 0.4986267    \n",
      "T2:Xfemale:agelt35       -0.1861481  0.1458569  -1.2762 0.2019247    \n",
      "T2:Xfemale:agegt54       -0.3821490  0.2443204  -1.5641 0.1178436    \n",
      "T2:Xfemale:durable        0.1103768  0.2146252   0.5143 0.6070787    \n",
      "T2:Xfemale:lusd           0.1060964  0.1631061   0.6505 0.5154122    \n",
      "T2:Xfemale:husd          -0.0426056  0.1785080  -0.2387 0.8113657    \n",
      "T2:Xblack:factor(dep)1    0.3636326  0.3503546   1.0379 0.2993622    \n",
      "T2:Xblack:factor(dep)2    0.4284152  0.3383550   1.2662 0.2055049    \n",
      "T2:Xblack:q2             -0.5878223  0.5288254  -1.1116 0.2663743    \n",
      "T2:Xblack:q3             -0.0624725  0.5099293  -0.1225 0.9024978    \n",
      "T2:Xblack:q4             -0.4010428  0.5365391  -0.7475 0.4548159    \n",
      "T2:Xblack:q5             -0.4358990  0.5091812  -0.8561 0.3919912    \n",
      "T2:Xblack:agelt35        -0.2159315  0.2417908  -0.8931 0.3718684    \n",
      "T2:Xblack:agegt54        -0.2617225  0.4866710  -0.5378 0.5907496    \n",
      "T2:Xblack:durable        -0.8365016  0.3504939  -2.3866 0.0170364 *  \n",
      "T2:Xblack:lusd           -0.4264666  0.2797101  -1.5247 0.1273972    \n",
      "T2:Xblack:husd           -0.1958402  0.8911158  -0.2198 0.8260586    \n",
      "T2:Xothrace:factor(dep)1  0.4788267  1.8947966   0.2527 0.8005046    \n",
      "T2:Xothrace:factor(dep)2 -4.4513573  0.7816787  -5.6946 1.300e-08 ***\n",
      "T2:Xothrace:q3           -0.7826362  0.9146199  -0.8557 0.3922029    \n",
      "T2:Xothrace:q4           -2.4173200  1.1442098  -2.1127 0.0346747 *  \n",
      "T2:Xothrace:q5            0.7621242  0.7958190   0.9577 0.3382757    \n",
      "T2:Xothrace:agelt35      -3.8313400  0.9536672  -4.0175 5.960e-05 ***\n",
      "T2:Xothrace:durable       1.5658689  0.4621869   3.3880 0.0007090 ***\n",
      "T2:Xothrace:lusd          2.0930436  0.5135607   4.0756 4.654e-05 ***\n",
      "T2:Xfactor(dep)1:q2      -0.8317599  0.7784232  -1.0685 0.2853327    \n",
      "T2:Xfactor(dep)2:q2       0.2248592  0.7780400   0.2890 0.7725866    \n",
      "T2:Xfactor(dep)1:q3      -0.8572816  0.7801263  -1.0989 0.2718587    \n",
      "T2:Xfactor(dep)2:q3       0.3587274  0.7752186   0.4627 0.6435662    \n",
      "T2:Xfactor(dep)1:q4      -0.6286109  0.7764648  -0.8096 0.4182158    \n",
      "T2:Xfactor(dep)2:q4       0.2390021  0.7743617   0.3086 0.7576038    \n",
      "T2:Xfactor(dep)1:q5      -0.8384601  0.7751714  -1.0816 0.2794571    \n",
      "T2:Xfactor(dep)2:q5       0.4285344  0.7744398   0.5533 0.5800476    \n",
      "T2:Xfactor(dep)1:q6      -1.5381912  0.8933469  -1.7218 0.0851558 .  \n",
      "T2:Xfactor(dep)2:q6       0.2846591  0.8180721   0.3480 0.7278808    \n",
      "T2:Xfactor(dep)1:agelt35 -0.0778347  0.2244666  -0.3468 0.7287894    \n",
      "T2:Xfactor(dep)2:agelt35 -0.1017136  0.1803295  -0.5640 0.5727475    \n",
      "T2:Xfactor(dep)1:agegt54 -0.2824587  0.3235870  -0.8729 0.3827557    \n",
      "T2:Xfactor(dep)2:agegt54  0.3793047  0.5714519   0.6638 0.5068738    \n",
      "T2:Xfactor(dep)1:durable -0.2185591  0.2804612  -0.7793 0.4358451    \n",
      "T2:Xfactor(dep)2:durable -0.0950789  0.2599196  -0.3658 0.7145274    \n",
      "T2:Xfactor(dep)1:lusd     0.2161153  0.2432651   0.8884 0.3743671    \n",
      "T2:Xfactor(dep)2:lusd    -0.2070793  0.2219038  -0.9332 0.3507603    \n",
      "T2:Xfactor(dep)1:husd     0.1232418  0.2679611   0.4599 0.6455885    \n",
      "T2:Xfactor(dep)2:husd     0.1579798  0.2302758   0.6860 0.4927126    \n",
      "T2:Xq2:agelt35           -1.2407550  0.6357096  -1.9518 0.0510162 .  \n",
      "T2:Xq2:agegt54           -0.6019870  0.8705629  -0.6915 0.4892853    \n",
      "T2:Xq2:durable           -0.0777795  0.8549362  -0.0910 0.9275141    \n",
      "T2:Xq2:lusd               0.0508269  0.3672375   0.1384 0.8899267    \n",
      "T2:Xq2:husd              -0.0920285  0.3948698  -0.2331 0.8157231    \n",
      "T2:Xq3:agelt35           -1.1277892  0.6355092  -1.7746 0.0760147 .  \n",
      "T2:Xq3:agegt54           -0.5411478  0.8621311  -0.6277 0.5302352    \n",
      "T2:Xq3:durable           -0.1956176  0.8552255  -0.2287 0.8190854    \n",
      "T2:Xq3:lusd              -0.0739597  0.3608164  -0.2050 0.8375961    \n",
      "T2:Xq3:husd              -0.5532059  0.3911619  -1.4143 0.1573404    \n",
      "T2:Xq4:agelt35           -0.9925752  0.6341814  -1.5651 0.1176096    \n",
      "T2:Xq4:agegt54            0.2121763  0.8521836   0.2490 0.8033857    \n",
      "T2:Xq4:durable           -0.1187895  0.8619131  -0.1378 0.8903871    \n",
      "T2:Xq4:lusd               0.3041551  0.3661447   0.8307 0.4061807    \n",
      "T2:Xq4:husd              -0.0828034  0.3925595  -0.2109 0.8329480    \n",
      "T2:Xq5:agelt35           -0.9263119  0.6327188  -1.4640 0.1432453    \n",
      "T2:Xq5:agegt54            0.2187993  0.8619978   0.2538 0.7996377    \n",
      "T2:Xq5:durable           -0.4450627  0.8517335  -0.5225 0.6013169    \n",
      "T2:Xq5:lusd               0.0895975  0.3643448   0.2459 0.8057578    \n",
      "T2:Xq5:husd              -0.2456140  0.3905347  -0.6289 0.5294291    \n",
      "T2:Xq6:agelt35           -0.7320475  0.6840109  -1.0702 0.2845631    \n",
      "T2:Xq6:agegt54           -0.4355109  0.9347111  -0.4659 0.6412830    \n",
      "T2:Xq6:durable           -0.1469333  0.9049913  -0.1624 0.8710292    \n",
      "T2:Xagelt35:durable       0.0216203  0.2005310   0.1078 0.9141460    \n",
      "T2:Xagelt35:lusd          0.0680462  0.1695485   0.4013 0.6881870    \n",
      "T2:Xagelt35:husd         -0.0587002  0.1856361  -0.3162 0.7518542    \n",
      "T2:Xagegt54:durable       0.1732194  0.3177062   0.5452 0.5856247    \n",
      "T2:Xagegt54:lusd         -0.1245325  0.2667627  -0.4668 0.6406406    \n",
      "T2:Xagegt54:husd          0.2898645  0.2960548   0.9791 0.3275776    \n",
      "T2:Xdurable:lusd          0.1281108  0.2116361   0.6053 0.5449810    \n",
      "T2:Xdurable:husd          0.0133109  0.2552493   0.0521 0.9584121    \n",
      "---\n",
      "Signif. codes:  0 '***' 0.001 '**' 0.01 '*' 0.05 '.' 0.1 ' ' 1\n",
      "\n"
     ]
    }
   ],
   "source": [
    "ols.ira_reg = lm(log(inuidur1) ~ T2*X) #interactions of all the variables with the treatment\n",
    "ols.ira= coeftest(ols.ira_reg, vcov = vcovHC(ols.ira_reg, type=\"HC1\")) # correct the EE \n",
    "print(ols.ira)"
   ]
  },
  {
   "cell_type": "code",
   "execution_count": 109,
   "metadata": {},
   "outputs": [
    {
     "data": {
      "text/html": [
       "<table class=\"dataframe\">\n",
       "<caption>A data.frame: 6 × 240</caption>\n",
       "<thead>\n",
       "\t<tr><th></th><th scope=col>(Intercept)</th><th scope=col>T2TRUE</th><th scope=col>Xfemale</th><th scope=col>Xblack</th><th scope=col>Xothrace</th><th scope=col>Xfactor(dep)1</th><th scope=col>Xfactor(dep)2</th><th scope=col>Xq2</th><th scope=col>Xq3</th><th scope=col>Xq4</th><th scope=col>...</th><th scope=col>T2TRUE:Xagelt35:agegt54</th><th scope=col>T2TRUE:Xagelt35:durable</th><th scope=col>T2TRUE:Xagelt35:lusd</th><th scope=col>T2TRUE:Xagelt35:husd</th><th scope=col>T2TRUE:Xagegt54:durable</th><th scope=col>T2TRUE:Xagegt54:lusd</th><th scope=col>T2TRUE:Xagegt54:husd</th><th scope=col>T2TRUE:Xdurable:lusd</th><th scope=col>T2TRUE:Xdurable:husd</th><th scope=col>T2TRUE:Xlusd:husd</th></tr>\n",
       "\t<tr><th></th><th scope=col>&lt;dbl&gt;</th><th scope=col>&lt;dbl&gt;</th><th scope=col>&lt;dbl&gt;</th><th scope=col>&lt;dbl&gt;</th><th scope=col>&lt;dbl&gt;</th><th scope=col>&lt;dbl&gt;</th><th scope=col>&lt;dbl&gt;</th><th scope=col>&lt;dbl&gt;</th><th scope=col>&lt;dbl&gt;</th><th scope=col>&lt;dbl&gt;</th><th scope=col>...</th><th scope=col>&lt;dbl&gt;</th><th scope=col>&lt;dbl&gt;</th><th scope=col>&lt;dbl&gt;</th><th scope=col>&lt;dbl&gt;</th><th scope=col>&lt;dbl&gt;</th><th scope=col>&lt;dbl&gt;</th><th scope=col>&lt;dbl&gt;</th><th scope=col>&lt;dbl&gt;</th><th scope=col>&lt;dbl&gt;</th><th scope=col>&lt;dbl&gt;</th></tr>\n",
       "</thead>\n",
       "<tbody>\n",
       "\t<tr><th scope=row>1</th><td>1</td><td>0</td><td>-0.4007264</td><td>-0.118817</td><td>-0.005188516</td><td>-0.1165687</td><td> 0.839329</td><td>-0.2001038</td><td>-0.2355586</td><td>-0.2232791</td><td>...</td><td>0</td><td> 0.00000000</td><td> 0.0000000</td><td> 0.0000000</td><td> 0.00000000</td><td> 0.0000000</td><td> 0.00000000</td><td> 0.00000000</td><td> 0.00000000</td><td>0</td></tr>\n",
       "\t<tr><th scope=row>2</th><td>1</td><td>1</td><td>-0.4007264</td><td>-0.118817</td><td>-0.005188516</td><td>-0.1165687</td><td>-0.160671</td><td>-0.2001038</td><td> 0.7644414</td><td>-0.2232791</td><td>...</td><td>0</td><td>-0.07350398</td><td> 0.8675199</td><td>-0.1219301</td><td>-0.01885161</td><td>-0.0325147</td><td>-0.02767209</td><td>-0.05499827</td><td>-0.02905569</td><td>0</td></tr>\n",
       "\t<tr><th scope=row>3</th><td>1</td><td>0</td><td>-0.4007264</td><td>-0.118817</td><td>-0.005188516</td><td>-0.1165687</td><td>-0.160671</td><td>-0.2001038</td><td>-0.2355586</td><td>-0.2232791</td><td>...</td><td>0</td><td> 0.00000000</td><td> 0.0000000</td><td> 0.0000000</td><td> 0.00000000</td><td> 0.0000000</td><td> 0.00000000</td><td> 0.00000000</td><td> 0.00000000</td><td>0</td></tr>\n",
       "\t<tr><th scope=row>4</th><td>1</td><td>0</td><td>-0.4007264</td><td>-0.118817</td><td>-0.005188516</td><td>-0.1165687</td><td>-0.160671</td><td>-0.2001038</td><td>-0.2355586</td><td> 0.7767209</td><td>...</td><td>0</td><td> 0.00000000</td><td> 0.0000000</td><td> 0.0000000</td><td> 0.00000000</td><td> 0.0000000</td><td> 0.00000000</td><td> 0.00000000</td><td> 0.00000000</td><td>0</td></tr>\n",
       "\t<tr><th scope=row>5</th><td>1</td><td>1</td><td> 0.5992736</td><td>-0.118817</td><td>-0.005188516</td><td>-0.1165687</td><td>-0.160671</td><td>-0.2001038</td><td>-0.2355586</td><td> 0.7767209</td><td>...</td><td>0</td><td>-0.07350398</td><td>-0.1324801</td><td>-0.1219301</td><td>-0.01885161</td><td>-0.0325147</td><td>-0.02767209</td><td>-0.05499827</td><td>-0.02905569</td><td>0</td></tr>\n",
       "\t<tr><th scope=row>6</th><td>1</td><td>0</td><td>-0.4007264</td><td>-0.118817</td><td>-0.005188516</td><td> 0.8834313</td><td>-0.160671</td><td>-0.2001038</td><td>-0.2355586</td><td>-0.2232791</td><td>...</td><td>0</td><td> 0.00000000</td><td> 0.0000000</td><td> 0.0000000</td><td> 0.00000000</td><td> 0.0000000</td><td> 0.00000000</td><td> 0.00000000</td><td> 0.00000000</td><td>0</td></tr>\n",
       "</tbody>\n",
       "</table>\n"
      ],
      "text/latex": [
       "A data.frame: 6 × 240\n",
       "\\begin{tabular}{r|lllllllllllllllllllll}\n",
       "  & (Intercept) & T2TRUE & Xfemale & Xblack & Xothrace & Xfactor(dep)1 & Xfactor(dep)2 & Xq2 & Xq3 & Xq4 & ... & T2TRUE:Xagelt35:agegt54 & T2TRUE:Xagelt35:durable & T2TRUE:Xagelt35:lusd & T2TRUE:Xagelt35:husd & T2TRUE:Xagegt54:durable & T2TRUE:Xagegt54:lusd & T2TRUE:Xagegt54:husd & T2TRUE:Xdurable:lusd & T2TRUE:Xdurable:husd & T2TRUE:Xlusd:husd\\\\\n",
       "  & <dbl> & <dbl> & <dbl> & <dbl> & <dbl> & <dbl> & <dbl> & <dbl> & <dbl> & <dbl> & ... & <dbl> & <dbl> & <dbl> & <dbl> & <dbl> & <dbl> & <dbl> & <dbl> & <dbl> & <dbl>\\\\\n",
       "\\hline\n",
       "\t1 & 1 & 0 & -0.4007264 & -0.118817 & -0.005188516 & -0.1165687 &  0.839329 & -0.2001038 & -0.2355586 & -0.2232791 & ... & 0 &  0.00000000 &  0.0000000 &  0.0000000 &  0.00000000 &  0.0000000 &  0.00000000 &  0.00000000 &  0.00000000 & 0\\\\\n",
       "\t2 & 1 & 1 & -0.4007264 & -0.118817 & -0.005188516 & -0.1165687 & -0.160671 & -0.2001038 &  0.7644414 & -0.2232791 & ... & 0 & -0.07350398 &  0.8675199 & -0.1219301 & -0.01885161 & -0.0325147 & -0.02767209 & -0.05499827 & -0.02905569 & 0\\\\\n",
       "\t3 & 1 & 0 & -0.4007264 & -0.118817 & -0.005188516 & -0.1165687 & -0.160671 & -0.2001038 & -0.2355586 & -0.2232791 & ... & 0 &  0.00000000 &  0.0000000 &  0.0000000 &  0.00000000 &  0.0000000 &  0.00000000 &  0.00000000 &  0.00000000 & 0\\\\\n",
       "\t4 & 1 & 0 & -0.4007264 & -0.118817 & -0.005188516 & -0.1165687 & -0.160671 & -0.2001038 & -0.2355586 &  0.7767209 & ... & 0 &  0.00000000 &  0.0000000 &  0.0000000 &  0.00000000 &  0.0000000 &  0.00000000 &  0.00000000 &  0.00000000 & 0\\\\\n",
       "\t5 & 1 & 1 &  0.5992736 & -0.118817 & -0.005188516 & -0.1165687 & -0.160671 & -0.2001038 & -0.2355586 &  0.7767209 & ... & 0 & -0.07350398 & -0.1324801 & -0.1219301 & -0.01885161 & -0.0325147 & -0.02767209 & -0.05499827 & -0.02905569 & 0\\\\\n",
       "\t6 & 1 & 0 & -0.4007264 & -0.118817 & -0.005188516 &  0.8834313 & -0.160671 & -0.2001038 & -0.2355586 & -0.2232791 & ... & 0 &  0.00000000 &  0.0000000 &  0.0000000 &  0.00000000 &  0.0000000 &  0.00000000 &  0.00000000 &  0.00000000 & 0\\\\\n",
       "\\end{tabular}\n"
      ],
      "text/markdown": [
       "\n",
       "A data.frame: 6 × 240\n",
       "\n",
       "| <!--/--> | (Intercept) &lt;dbl&gt; | T2TRUE &lt;dbl&gt; | Xfemale &lt;dbl&gt; | Xblack &lt;dbl&gt; | Xothrace &lt;dbl&gt; | Xfactor(dep)1 &lt;dbl&gt; | Xfactor(dep)2 &lt;dbl&gt; | Xq2 &lt;dbl&gt; | Xq3 &lt;dbl&gt; | Xq4 &lt;dbl&gt; | ... ... | T2TRUE:Xagelt35:agegt54 &lt;dbl&gt; | T2TRUE:Xagelt35:durable &lt;dbl&gt; | T2TRUE:Xagelt35:lusd &lt;dbl&gt; | T2TRUE:Xagelt35:husd &lt;dbl&gt; | T2TRUE:Xagegt54:durable &lt;dbl&gt; | T2TRUE:Xagegt54:lusd &lt;dbl&gt; | T2TRUE:Xagegt54:husd &lt;dbl&gt; | T2TRUE:Xdurable:lusd &lt;dbl&gt; | T2TRUE:Xdurable:husd &lt;dbl&gt; | T2TRUE:Xlusd:husd &lt;dbl&gt; |\n",
       "|---|---|---|---|---|---|---|---|---|---|---|---|---|---|---|---|---|---|---|---|---|---|\n",
       "| 1 | 1 | 0 | -0.4007264 | -0.118817 | -0.005188516 | -0.1165687 |  0.839329 | -0.2001038 | -0.2355586 | -0.2232791 | ... | 0 |  0.00000000 |  0.0000000 |  0.0000000 |  0.00000000 |  0.0000000 |  0.00000000 |  0.00000000 |  0.00000000 | 0 |\n",
       "| 2 | 1 | 1 | -0.4007264 | -0.118817 | -0.005188516 | -0.1165687 | -0.160671 | -0.2001038 |  0.7644414 | -0.2232791 | ... | 0 | -0.07350398 |  0.8675199 | -0.1219301 | -0.01885161 | -0.0325147 | -0.02767209 | -0.05499827 | -0.02905569 | 0 |\n",
       "| 3 | 1 | 0 | -0.4007264 | -0.118817 | -0.005188516 | -0.1165687 | -0.160671 | -0.2001038 | -0.2355586 | -0.2232791 | ... | 0 |  0.00000000 |  0.0000000 |  0.0000000 |  0.00000000 |  0.0000000 |  0.00000000 |  0.00000000 |  0.00000000 | 0 |\n",
       "| 4 | 1 | 0 | -0.4007264 | -0.118817 | -0.005188516 | -0.1165687 | -0.160671 | -0.2001038 | -0.2355586 |  0.7767209 | ... | 0 |  0.00000000 |  0.0000000 |  0.0000000 |  0.00000000 |  0.0000000 |  0.00000000 |  0.00000000 |  0.00000000 | 0 |\n",
       "| 5 | 1 | 1 |  0.5992736 | -0.118817 | -0.005188516 | -0.1165687 | -0.160671 | -0.2001038 | -0.2355586 |  0.7767209 | ... | 0 | -0.07350398 | -0.1324801 | -0.1219301 | -0.01885161 | -0.0325147 | -0.02767209 | -0.05499827 | -0.02905569 | 0 |\n",
       "| 6 | 1 | 0 | -0.4007264 | -0.118817 | -0.005188516 |  0.8834313 | -0.160671 | -0.2001038 | -0.2355586 | -0.2232791 | ... | 0 |  0.00000000 |  0.0000000 |  0.0000000 |  0.00000000 |  0.0000000 |  0.00000000 |  0.00000000 |  0.00000000 | 0 |\n",
       "\n"
      ],
      "text/plain": [
       "  (Intercept) T2TRUE Xfemale    Xblack    Xothrace     Xfactor(dep)1\n",
       "1 1           0      -0.4007264 -0.118817 -0.005188516 -0.1165687   \n",
       "2 1           1      -0.4007264 -0.118817 -0.005188516 -0.1165687   \n",
       "3 1           0      -0.4007264 -0.118817 -0.005188516 -0.1165687   \n",
       "4 1           0      -0.4007264 -0.118817 -0.005188516 -0.1165687   \n",
       "5 1           1       0.5992736 -0.118817 -0.005188516 -0.1165687   \n",
       "6 1           0      -0.4007264 -0.118817 -0.005188516  0.8834313   \n",
       "  Xfactor(dep)2 Xq2        Xq3        Xq4        ... T2TRUE:Xagelt35:agegt54\n",
       "1  0.839329     -0.2001038 -0.2355586 -0.2232791 ... 0                      \n",
       "2 -0.160671     -0.2001038  0.7644414 -0.2232791 ... 0                      \n",
       "3 -0.160671     -0.2001038 -0.2355586 -0.2232791 ... 0                      \n",
       "4 -0.160671     -0.2001038 -0.2355586  0.7767209 ... 0                      \n",
       "5 -0.160671     -0.2001038 -0.2355586  0.7767209 ... 0                      \n",
       "6 -0.160671     -0.2001038 -0.2355586 -0.2232791 ... 0                      \n",
       "  T2TRUE:Xagelt35:durable T2TRUE:Xagelt35:lusd T2TRUE:Xagelt35:husd\n",
       "1  0.00000000              0.0000000            0.0000000          \n",
       "2 -0.07350398              0.8675199           -0.1219301          \n",
       "3  0.00000000              0.0000000            0.0000000          \n",
       "4  0.00000000              0.0000000            0.0000000          \n",
       "5 -0.07350398             -0.1324801           -0.1219301          \n",
       "6  0.00000000              0.0000000            0.0000000          \n",
       "  T2TRUE:Xagegt54:durable T2TRUE:Xagegt54:lusd T2TRUE:Xagegt54:husd\n",
       "1  0.00000000              0.0000000            0.00000000         \n",
       "2 -0.01885161             -0.0325147           -0.02767209         \n",
       "3  0.00000000              0.0000000            0.00000000         \n",
       "4  0.00000000              0.0000000            0.00000000         \n",
       "5 -0.01885161             -0.0325147           -0.02767209         \n",
       "6  0.00000000              0.0000000            0.00000000         \n",
       "  T2TRUE:Xdurable:lusd T2TRUE:Xdurable:husd T2TRUE:Xlusd:husd\n",
       "1  0.00000000           0.00000000          0                \n",
       "2 -0.05499827          -0.02905569          0                \n",
       "3  0.00000000           0.00000000          0                \n",
       "4  0.00000000           0.00000000          0                \n",
       "5 -0.05499827          -0.02905569          0                \n",
       "6  0.00000000           0.00000000          0                "
      ]
     },
     "metadata": {},
     "output_type": "display_data"
    }
   ],
   "source": [
    "# get same dataframe for ols.ira\n",
    "S <- as.data.frame( model.matrix(ols.ira_reg) )\n",
    "head(S) "
   ]
  },
  {
   "cell_type": "code",
   "execution_count": 110,
   "metadata": {},
   "outputs": [],
   "source": [
    "no_col <- attributes(ols.ira_reg$coefficients)$names[is.na(ols.ira_reg$coefficients)]\n",
    "\n",
    "S1  <- S[, -which(names( S ) %in% no_col ) ]\n",
    "\n",
    "save( S1, file = \"../data/ols_ira_reg_sol.RData\")\n"
   ]
  },
  {
   "cell_type": "markdown",
   "metadata": {
    "papermill": {
     "duration": 0.030243,
     "end_time": "2021-02-20T13:42:43.724231",
     "exception": false,
     "start_time": "2021-02-20T13:42:43.693988",
     "status": "completed"
    },
    "tags": []
   },
   "source": [
    "### Interactive regression adjusment using Lasso"
   ]
  },
  {
   "cell_type": "code",
   "execution_count": 111,
   "metadata": {
    "execution": {
     "iopub.execute_input": "2021-02-20T13:42:43.774524Z",
     "iopub.status.busy": "2021-02-20T13:42:43.773643Z",
     "iopub.status.idle": "2021-02-20T13:42:45.044886Z",
     "shell.execute_reply": "2021-02-20T13:42:45.043005Z"
    },
    "papermill": {
     "duration": 1.29547,
     "end_time": "2021-02-20T13:42:45.045172",
     "exception": false,
     "start_time": "2021-02-20T13:42:43.749702",
     "status": "completed"
    },
    "tags": []
   },
   "outputs": [
    {
     "data": {
      "text/html": [
       "<table class=\"dataframe\">\n",
       "<caption>A matrix: 6 × 239 of type dbl</caption>\n",
       "<thead>\n",
       "\t<tr><th></th><th scope=col>T2</th><th scope=col>Xfemale</th><th scope=col>Xblack</th><th scope=col>Xothrace</th><th scope=col>Xfactor(dep)1</th><th scope=col>Xfactor(dep)2</th><th scope=col>Xq2</th><th scope=col>Xq3</th><th scope=col>Xq4</th><th scope=col>Xq5</th><th scope=col>...</th><th scope=col>T2:Xagelt35:agegt54</th><th scope=col>T2:Xagelt35:durable</th><th scope=col>T2:Xagelt35:lusd</th><th scope=col>T2:Xagelt35:husd</th><th scope=col>T2:Xagegt54:durable</th><th scope=col>T2:Xagegt54:lusd</th><th scope=col>T2:Xagegt54:husd</th><th scope=col>T2:Xdurable:lusd</th><th scope=col>T2:Xdurable:husd</th><th scope=col>T2:Xlusd:husd</th></tr>\n",
       "</thead>\n",
       "<tbody>\n",
       "\t<tr><th scope=row>1</th><td>-0.4199239</td><td>-0.4007264</td><td>-0.118817</td><td>-0.005188516</td><td>-0.1165687</td><td> 0.839329</td><td>-0.2001038</td><td>-0.2355586</td><td>-0.2232791</td><td> 0.7367693</td><td>...</td><td>0</td><td> 0.03086608</td><td> 0.05563156</td><td> 0.05120138</td><td> 0.007916241</td><td> 0.0136537</td><td> 0.01162017</td><td> 0.02309509</td><td> 0.01220118</td><td>0</td></tr>\n",
       "\t<tr><th scope=row>2</th><td> 0.5800761</td><td>-0.4007264</td><td>-0.118817</td><td>-0.005188516</td><td>-0.1165687</td><td>-0.160671</td><td>-0.2001038</td><td> 0.7644414</td><td>-0.2232791</td><td>-0.2632307</td><td>...</td><td>0</td><td>-0.04263790</td><td> 0.50322755</td><td>-0.07072875</td><td>-0.010935367</td><td>-0.0188610</td><td>-0.01605192</td><td>-0.03190318</td><td>-0.01685451</td><td>0</td></tr>\n",
       "\t<tr><th scope=row>3</th><td>-0.4199239</td><td>-0.4007264</td><td>-0.118817</td><td>-0.005188516</td><td>-0.1165687</td><td>-0.160671</td><td>-0.2001038</td><td>-0.2355586</td><td>-0.2232791</td><td> 0.7367693</td><td>...</td><td>0</td><td> 0.03086608</td><td> 0.05563156</td><td> 0.05120138</td><td> 0.007916241</td><td> 0.0136537</td><td> 0.01162017</td><td> 0.02309509</td><td> 0.01220118</td><td>0</td></tr>\n",
       "\t<tr><th scope=row>4</th><td>-0.4199239</td><td>-0.4007264</td><td>-0.118817</td><td>-0.005188516</td><td>-0.1165687</td><td>-0.160671</td><td>-0.2001038</td><td>-0.2355586</td><td> 0.7767209</td><td>-0.2632307</td><td>...</td><td>0</td><td> 0.03086608</td><td> 0.05563156</td><td> 0.05120138</td><td> 0.007916241</td><td> 0.0136537</td><td> 0.01162017</td><td> 0.02309509</td><td> 0.01220118</td><td>0</td></tr>\n",
       "\t<tr><th scope=row>5</th><td> 0.5800761</td><td> 0.5992736</td><td>-0.118817</td><td>-0.005188516</td><td>-0.1165687</td><td>-0.160671</td><td>-0.2001038</td><td>-0.2355586</td><td> 0.7767209</td><td>-0.2632307</td><td>...</td><td>0</td><td>-0.04263790</td><td>-0.07684855</td><td>-0.07072875</td><td>-0.010935367</td><td>-0.0188610</td><td>-0.01605192</td><td>-0.03190318</td><td>-0.01685451</td><td>0</td></tr>\n",
       "\t<tr><th scope=row>6</th><td>-0.4199239</td><td>-0.4007264</td><td>-0.118817</td><td>-0.005188516</td><td> 0.8834313</td><td>-0.160671</td><td>-0.2001038</td><td>-0.2355586</td><td>-0.2232791</td><td> 0.7367693</td><td>...</td><td>0</td><td> 0.03086608</td><td> 0.05563156</td><td> 0.05120138</td><td>-0.412007661</td><td>-0.4062702</td><td> 0.01162017</td><td>-0.39682881</td><td> 0.01220118</td><td>0</td></tr>\n",
       "</tbody>\n",
       "</table>\n"
      ],
      "text/latex": [
       "A matrix: 6 × 239 of type dbl\n",
       "\\begin{tabular}{r|lllllllllllllllllllll}\n",
       "  & T2 & Xfemale & Xblack & Xothrace & Xfactor(dep)1 & Xfactor(dep)2 & Xq2 & Xq3 & Xq4 & Xq5 & ... & T2:Xagelt35:agegt54 & T2:Xagelt35:durable & T2:Xagelt35:lusd & T2:Xagelt35:husd & T2:Xagegt54:durable & T2:Xagegt54:lusd & T2:Xagegt54:husd & T2:Xdurable:lusd & T2:Xdurable:husd & T2:Xlusd:husd\\\\\n",
       "\\hline\n",
       "\t1 & -0.4199239 & -0.4007264 & -0.118817 & -0.005188516 & -0.1165687 &  0.839329 & -0.2001038 & -0.2355586 & -0.2232791 &  0.7367693 & ... & 0 &  0.03086608 &  0.05563156 &  0.05120138 &  0.007916241 &  0.0136537 &  0.01162017 &  0.02309509 &  0.01220118 & 0\\\\\n",
       "\t2 &  0.5800761 & -0.4007264 & -0.118817 & -0.005188516 & -0.1165687 & -0.160671 & -0.2001038 &  0.7644414 & -0.2232791 & -0.2632307 & ... & 0 & -0.04263790 &  0.50322755 & -0.07072875 & -0.010935367 & -0.0188610 & -0.01605192 & -0.03190318 & -0.01685451 & 0\\\\\n",
       "\t3 & -0.4199239 & -0.4007264 & -0.118817 & -0.005188516 & -0.1165687 & -0.160671 & -0.2001038 & -0.2355586 & -0.2232791 &  0.7367693 & ... & 0 &  0.03086608 &  0.05563156 &  0.05120138 &  0.007916241 &  0.0136537 &  0.01162017 &  0.02309509 &  0.01220118 & 0\\\\\n",
       "\t4 & -0.4199239 & -0.4007264 & -0.118817 & -0.005188516 & -0.1165687 & -0.160671 & -0.2001038 & -0.2355586 &  0.7767209 & -0.2632307 & ... & 0 &  0.03086608 &  0.05563156 &  0.05120138 &  0.007916241 &  0.0136537 &  0.01162017 &  0.02309509 &  0.01220118 & 0\\\\\n",
       "\t5 &  0.5800761 &  0.5992736 & -0.118817 & -0.005188516 & -0.1165687 & -0.160671 & -0.2001038 & -0.2355586 &  0.7767209 & -0.2632307 & ... & 0 & -0.04263790 & -0.07684855 & -0.07072875 & -0.010935367 & -0.0188610 & -0.01605192 & -0.03190318 & -0.01685451 & 0\\\\\n",
       "\t6 & -0.4199239 & -0.4007264 & -0.118817 & -0.005188516 &  0.8834313 & -0.160671 & -0.2001038 & -0.2355586 & -0.2232791 &  0.7367693 & ... & 0 &  0.03086608 &  0.05563156 &  0.05120138 & -0.412007661 & -0.4062702 &  0.01162017 & -0.39682881 &  0.01220118 & 0\\\\\n",
       "\\end{tabular}\n"
      ],
      "text/markdown": [
       "\n",
       "A matrix: 6 × 239 of type dbl\n",
       "\n",
       "| <!--/--> | T2 | Xfemale | Xblack | Xothrace | Xfactor(dep)1 | Xfactor(dep)2 | Xq2 | Xq3 | Xq4 | Xq5 | ... | T2:Xagelt35:agegt54 | T2:Xagelt35:durable | T2:Xagelt35:lusd | T2:Xagelt35:husd | T2:Xagegt54:durable | T2:Xagegt54:lusd | T2:Xagegt54:husd | T2:Xdurable:lusd | T2:Xdurable:husd | T2:Xlusd:husd |\n",
       "|---|---|---|---|---|---|---|---|---|---|---|---|---|---|---|---|---|---|---|---|---|---|\n",
       "| 1 | -0.4199239 | -0.4007264 | -0.118817 | -0.005188516 | -0.1165687 |  0.839329 | -0.2001038 | -0.2355586 | -0.2232791 |  0.7367693 | ... | 0 |  0.03086608 |  0.05563156 |  0.05120138 |  0.007916241 |  0.0136537 |  0.01162017 |  0.02309509 |  0.01220118 | 0 |\n",
       "| 2 |  0.5800761 | -0.4007264 | -0.118817 | -0.005188516 | -0.1165687 | -0.160671 | -0.2001038 |  0.7644414 | -0.2232791 | -0.2632307 | ... | 0 | -0.04263790 |  0.50322755 | -0.07072875 | -0.010935367 | -0.0188610 | -0.01605192 | -0.03190318 | -0.01685451 | 0 |\n",
       "| 3 | -0.4199239 | -0.4007264 | -0.118817 | -0.005188516 | -0.1165687 | -0.160671 | -0.2001038 | -0.2355586 | -0.2232791 |  0.7367693 | ... | 0 |  0.03086608 |  0.05563156 |  0.05120138 |  0.007916241 |  0.0136537 |  0.01162017 |  0.02309509 |  0.01220118 | 0 |\n",
       "| 4 | -0.4199239 | -0.4007264 | -0.118817 | -0.005188516 | -0.1165687 | -0.160671 | -0.2001038 | -0.2355586 |  0.7767209 | -0.2632307 | ... | 0 |  0.03086608 |  0.05563156 |  0.05120138 |  0.007916241 |  0.0136537 |  0.01162017 |  0.02309509 |  0.01220118 | 0 |\n",
       "| 5 |  0.5800761 |  0.5992736 | -0.118817 | -0.005188516 | -0.1165687 | -0.160671 | -0.2001038 | -0.2355586 |  0.7767209 | -0.2632307 | ... | 0 | -0.04263790 | -0.07684855 | -0.07072875 | -0.010935367 | -0.0188610 | -0.01605192 | -0.03190318 | -0.01685451 | 0 |\n",
       "| 6 | -0.4199239 | -0.4007264 | -0.118817 | -0.005188516 |  0.8834313 | -0.160671 | -0.2001038 | -0.2355586 | -0.2232791 |  0.7367693 | ... | 0 |  0.03086608 |  0.05563156 |  0.05120138 | -0.412007661 | -0.4062702 |  0.01162017 | -0.39682881 |  0.01220118 | 0 |\n",
       "\n"
      ],
      "text/plain": [
       "  T2         Xfemale    Xblack    Xothrace     Xfactor(dep)1 Xfactor(dep)2\n",
       "1 -0.4199239 -0.4007264 -0.118817 -0.005188516 -0.1165687     0.839329    \n",
       "2  0.5800761 -0.4007264 -0.118817 -0.005188516 -0.1165687    -0.160671    \n",
       "3 -0.4199239 -0.4007264 -0.118817 -0.005188516 -0.1165687    -0.160671    \n",
       "4 -0.4199239 -0.4007264 -0.118817 -0.005188516 -0.1165687    -0.160671    \n",
       "5  0.5800761  0.5992736 -0.118817 -0.005188516 -0.1165687    -0.160671    \n",
       "6 -0.4199239 -0.4007264 -0.118817 -0.005188516  0.8834313    -0.160671    \n",
       "  Xq2        Xq3        Xq4        Xq5        ... T2:Xagelt35:agegt54\n",
       "1 -0.2001038 -0.2355586 -0.2232791  0.7367693 ... 0                  \n",
       "2 -0.2001038  0.7644414 -0.2232791 -0.2632307 ... 0                  \n",
       "3 -0.2001038 -0.2355586 -0.2232791  0.7367693 ... 0                  \n",
       "4 -0.2001038 -0.2355586  0.7767209 -0.2632307 ... 0                  \n",
       "5 -0.2001038 -0.2355586  0.7767209 -0.2632307 ... 0                  \n",
       "6 -0.2001038 -0.2355586 -0.2232791  0.7367693 ... 0                  \n",
       "  T2:Xagelt35:durable T2:Xagelt35:lusd T2:Xagelt35:husd T2:Xagegt54:durable\n",
       "1  0.03086608          0.05563156       0.05120138       0.007916241       \n",
       "2 -0.04263790          0.50322755      -0.07072875      -0.010935367       \n",
       "3  0.03086608          0.05563156       0.05120138       0.007916241       \n",
       "4  0.03086608          0.05563156       0.05120138       0.007916241       \n",
       "5 -0.04263790         -0.07684855      -0.07072875      -0.010935367       \n",
       "6  0.03086608          0.05563156       0.05120138      -0.412007661       \n",
       "  T2:Xagegt54:lusd T2:Xagegt54:husd T2:Xdurable:lusd T2:Xdurable:husd\n",
       "1  0.0136537        0.01162017       0.02309509       0.01220118     \n",
       "2 -0.0188610       -0.01605192      -0.03190318      -0.01685451     \n",
       "3  0.0136537        0.01162017       0.02309509       0.01220118     \n",
       "4  0.0136537        0.01162017       0.02309509       0.01220118     \n",
       "5 -0.0188610       -0.01605192      -0.03190318      -0.01685451     \n",
       "6 -0.4062702        0.01162017      -0.39682881       0.01220118     \n",
       "  T2:Xlusd:husd\n",
       "1 0            \n",
       "2 0            \n",
       "3 0            \n",
       "4 0            \n",
       "5 0            \n",
       "6 0            "
      ]
     },
     "metadata": {},
     "output_type": "display_data"
    }
   ],
   "source": [
    "library(hdm)\n",
    "T2 = demean(T2)\n",
    "DX = model.matrix(~T2*X)[,-1]\n",
    "head(DX)"
   ]
  },
  {
   "cell_type": "code",
   "execution_count": 112,
   "metadata": {
    "execution": {
     "iopub.execute_input": "2021-02-20T13:42:43.774524Z",
     "iopub.status.busy": "2021-02-20T13:42:43.773643Z",
     "iopub.status.idle": "2021-02-20T13:42:45.044886Z",
     "shell.execute_reply": "2021-02-20T13:42:45.043005Z"
    },
    "papermill": {
     "duration": 1.29547,
     "end_time": "2021-02-20T13:42:45.045172",
     "exception": false,
     "start_time": "2021-02-20T13:42:43.749702",
     "status": "completed"
    },
    "tags": []
   },
   "outputs": [
    {
     "name": "stdout",
     "output_type": "stream",
     "text": [
      "[1] \"Estimates and significance testing of the effect of target variables\"\n",
      "   Estimate. Std. Error t value Pr(>|t|)  \n",
      "T2  -0.07457    0.03209  -2.324   0.0201 *\n",
      "---\n",
      "Signif. codes:  0 '***' 0.001 '**' 0.01 '*' 0.05 '.' 0.1 ' ' 1\n",
      "\n",
      "\n"
     ]
    }
   ],
   "source": [
    "rlasso.ira = summary(rlassoEffects(DX, log(inuidur1), index = 1))\n",
    "print(rlasso.ira)"
   ]
  },
  {
   "cell_type": "markdown",
   "metadata": {},
   "source": [
    "Plotting the coefficient of the treatment effect:"
   ]
  },
  {
   "cell_type": "code",
   "execution_count": 124,
   "metadata": {},
   "outputs": [],
   "source": [
    "# getting data\n",
    "S = as.data.frame(DX)\n",
    "save( S, file = \"../data/rlasso_ira_reg_sol.RData\")"
   ]
  },
  {
   "cell_type": "markdown",
   "metadata": {
    "papermill": {
     "duration": 0.030965,
     "end_time": "2021-02-20T13:42:45.107753",
     "exception": false,
     "start_time": "2021-02-20T13:42:45.076788",
     "status": "completed"
    },
    "tags": []
   },
   "source": [
    "### Results"
   ]
  },
  {
   "cell_type": "code",
   "execution_count": 114,
   "metadata": {
    "execution": {
     "iopub.execute_input": "2021-02-20T13:42:45.214919Z",
     "iopub.status.busy": "2021-02-20T13:42:45.213709Z",
     "iopub.status.idle": "2021-02-20T13:42:45.304637Z",
     "shell.execute_reply": "2021-02-20T13:42:45.303410Z"
    },
    "papermill": {
     "duration": 0.113372,
     "end_time": "2021-02-20T13:42:45.304786",
     "exception": false,
     "start_time": "2021-02-20T13:42:45.191414",
     "status": "completed"
    },
    "tags": []
   },
   "outputs": [
    {
     "name": "stderr",
     "output_type": "stream",
     "text": [
      "Warning message:\n",
      "\"package 'xtable' was built under R version 4.1.0\"\n"
     ]
    },
    {
     "data": {
      "text/html": [
       "<table class=\"dataframe\">\n",
       "<caption>A xtable: 2 × 4</caption>\n",
       "<thead>\n",
       "\t<tr><th></th><th scope=col>CL</th><th scope=col>CRA</th><th scope=col>IRA</th><th scope=col>IRA w Lasso</th></tr>\n",
       "\t<tr><th></th><th scope=col>&lt;dbl&gt;</th><th scope=col>&lt;dbl&gt;</th><th scope=col>&lt;dbl&gt;</th><th scope=col>&lt;dbl&gt;</th></tr>\n",
       "</thead>\n",
       "<tbody>\n",
       "\t<tr><th scope=row>estimate</th><td>-0.07882533</td><td>-0.07120664</td><td>-0.06990440</td><td>-0.07457328</td></tr>\n",
       "\t<tr><th scope=row>standard error</th><td> 0.03250889</td><td> 0.03204403</td><td> 0.03207638</td><td> 0.03208892</td></tr>\n",
       "</tbody>\n",
       "</table>\n"
      ],
      "text/latex": [
       "A xtable: 2 × 4\n",
       "\\begin{tabular}{r|llll}\n",
       "  & CL & CRA & IRA & IRA w Lasso\\\\\n",
       "  & <dbl> & <dbl> & <dbl> & <dbl>\\\\\n",
       "\\hline\n",
       "\testimate & -0.07882533 & -0.07120664 & -0.06990440 & -0.07457328\\\\\n",
       "\tstandard error &  0.03250889 &  0.03204403 &  0.03207638 &  0.03208892\\\\\n",
       "\\end{tabular}\n"
      ],
      "text/markdown": [
       "\n",
       "A xtable: 2 × 4\n",
       "\n",
       "| <!--/--> | CL &lt;dbl&gt; | CRA &lt;dbl&gt; | IRA &lt;dbl&gt; | IRA w Lasso &lt;dbl&gt; |\n",
       "|---|---|---|---|---|\n",
       "| estimate | -0.07882533 | -0.07120664 | -0.06990440 | -0.07457328 |\n",
       "| standard error |  0.03250889 |  0.03204403 |  0.03207638 |  0.03208892 |\n",
       "\n"
      ],
      "text/plain": [
       "               CL          CRA         IRA         IRA w Lasso\n",
       "estimate       -0.07882533 -0.07120664 -0.06990440 -0.07457328\n",
       "standard error  0.03250889  0.03204403  0.03207638  0.03208892"
      ]
     },
     "metadata": {},
     "output_type": "display_data"
    },
    {
     "name": "stdout",
     "output_type": "stream",
     "text": [
      "% latex table generated in R 4.0.4 by xtable 1.8-4 package\n",
      "% Sun Oct 10 15:03:59 2021\n",
      "\\begin{table}[ht]\n",
      "\\centering\n",
      "\\begin{tabular}{rrrrr}\n",
      "  \\hline\n",
      " & CL & CRA & IRA & IRA w Lasso \\\\ \n",
      "  \\hline\n",
      "estimate & -0.07883 & -0.07121 & -0.06990 & -0.07457 \\\\ \n",
      "  standard error & 0.03251 & 0.03204 & 0.03208 & 0.03209 \\\\ \n",
      "   \\hline\n",
      "\\end{tabular}\n",
      "\\end{table}\n"
     ]
    }
   ],
   "source": [
    "library(xtable)\n",
    "table<- matrix(0, 2, 4)\n",
    "table[1,1]<-  ols.cl[2,1]\n",
    "table[1,2]<-  ols.cra[2,1]\n",
    "table[1,3]<-  ols.ira[2,1]\n",
    "table[1,4]<-  rlasso.ira[[1]][1]\n",
    "\n",
    "table[2,1]<-  ols.cl[2,2]\n",
    "table[2,2]<-  ols.cra[2,2]\n",
    "table[2,3]<-  ols.ira[2,2]\n",
    "table[2,4]<-  rlasso.ira[[1]][2]\n",
    "\n",
    "\n",
    "colnames(table)<- c(\"CL\",\"CRA\",\"IRA\", \"IRA w Lasso\")\n",
    "rownames(table)<- c(\"estimate\", \"standard error\")\n",
    "tab<- xtable(table, digits=5)\n",
    "tab\n",
    "\n",
    "print(tab, type=\"latex\", digits=5)"
   ]
  },
  {
   "cell_type": "markdown",
   "metadata": {
    "papermill": {
     "duration": 0.019862,
     "end_time": "2021-02-20T13:42:45.344887",
     "exception": false,
     "start_time": "2021-02-20T13:42:45.325025",
     "status": "completed"
    },
    "tags": []
   },
   "source": [
    "### Plot the coefficients of a set of variables of number 3"
   ]
  },
  {
   "cell_type": "code",
   "execution_count": 115,
   "metadata": {},
   "outputs": [
    {
     "name": "stderr",
     "output_type": "stream",
     "text": [
      "Warning message:\n",
      "\"package 'dotwhisker' is in use and will not be installed\"\n",
      "Warning message:\n",
      "\"package 'tidyverse' is in use and will not be installed\"\n"
     ]
    }
   ],
   "source": [
    "install.packages( \"dotwhisker\" )\n",
    "\n",
    "install.packages(\"tidyverse\")"
   ]
  },
  {
   "cell_type": "code",
   "execution_count": 116,
   "metadata": {},
   "outputs": [
    {
     "name": "stderr",
     "output_type": "stream",
     "text": [
      "Warning message:\n",
      "\"package 'broom' is in use and will not be installed\"\n"
     ]
    }
   ],
   "source": [
    "install.packages('broom')"
   ]
  },
  {
   "cell_type": "code",
   "execution_count": 117,
   "metadata": {
    "scrolled": true
   },
   "outputs": [],
   "source": [
    "library(dotwhisker)\n",
    "library(dplyr)\n",
    "library(tidyr)\n",
    "library(broom)"
   ]
  },
  {
   "cell_type": "code",
   "execution_count": 118,
   "metadata": {
    "scrolled": true
   },
   "outputs": [],
   "source": [
    "coef_ira <- tidy(ols.ira) %>% filter(term %in% c( \"T2TRUE:Xfemale\" , \"T2TRUE:Xblack\" , \"T2TRUE:Xagelt35\" , \"T2TRUE:Xfactor(dep)1\" ) ) %>% mutate(model = \"Model IRA\") "
   ]
  },
  {
   "cell_type": "code",
   "execution_count": 119,
   "metadata": {},
   "outputs": [
    {
     "data": {
      "image/png": "[encoded data removed]",
      "text/plain": [
       "plot without title"
      ]
     },
     "metadata": {
      "image/png": {
       "height": 500,
       "width": 750
      }
     },
     "output_type": "display_data"
    }
   ],
   "source": [
    "options(repr.plot.width=3, repr.plot.height=2 ,  repr.plot.res = 500)\n",
    "dwplot(coef_ira , \n",
    "       vline = geom_vline(\n",
    "           xintercept = 0,\n",
    "           colour = \"grey60\",\n",
    "           linetype = 2\n",
    "       ),\n",
    "       vars_order = c( \"T2TRUE:Xfemale\" , \"T2TRUE:Xblack\" , \"T2TRUE:Xagelt35\" , \"T2TRUE:Xfactor(dep)1\" )\n",
    "       ) %>% # plot line at zero _behind_coefs\n",
    "    relabel_predictors(\n",
    "        c(\n",
    "            \"T2TRUE:Xfemale\" = \"T2*female\",\n",
    "            \"T2TRUE:Xblack\" = \"T2*black\",\n",
    "            \"T2TRUE:Xagelt35\" = \"T2*agelt35\",\n",
    "            \"T2TRUE:Xfactor(dep)1\" = \"T2*factor(dep)1\"\n",
    "        )\n",
    "    ) +\n",
    "    theme_bw(base_size = 4) + \n",
    "    # Setting `base_size` for fit the theme\n",
    "    # No need to set `base_size` in most usage\n",
    "    xlab(\"Coefficient Estimate\") + ylab(\"\") +\n",
    "    geom_vline(xintercept = 0,\n",
    "               colour = \"grey60\",\n",
    "               linetype = 2) +\n",
    "    ggtitle(\"Interactive regression adjustment (IRA) \") +\n",
    "    theme(\n",
    "        plot.title = element_text(face = \"bold\"),\n",
    "        legend.position = c(0.007, 0.01),\n",
    "        legend.justification = c(0, 0),\n",
    "        legend.background = element_rect(colour = \"grey80\"),\n",
    "        legend.title = element_blank()\n",
    "    )"
   ]
  }
 ],
 "metadata": {
  "hide_input": false,
  "kernelspec": {
   "display_name": "R",
   "language": "R",
   "name": "ir"
  },
  "language_info": {
   "codemirror_mode": "r",
   "file_extension": ".r",
   "mimetype": "text/x-r-source",
   "name": "R",
   "pygments_lexer": "r",
   "version": "4.0.4"
  }
 },
 "nbformat": 4,
 "nbformat_minor": 4
}
