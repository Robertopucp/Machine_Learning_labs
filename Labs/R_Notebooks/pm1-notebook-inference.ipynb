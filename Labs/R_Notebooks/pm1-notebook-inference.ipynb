{
 "cells": [
  {
   "cell_type": "markdown",
   "metadata": {
    "papermill": {
     "duration": 0.020568,
     "end_time": "2021-02-21T17:17:47.770707",
     "exception": false,
     "start_time": "2021-02-21T17:17:47.750139",
     "status": "completed"
    },
    "tags": []
   },
   "source": [
    "This notebook contains an example for teaching."
   ]
  },
  {
   "cell_type": "markdown",
   "metadata": {
    "papermill": {
     "duration": 0.018579,
     "end_time": "2021-02-21T17:17:47.809138",
     "exception": false,
     "start_time": "2021-02-21T17:17:47.790559",
     "status": "completed"
    },
    "tags": []
   },
   "source": [
    "# An inferential problem: The Gender Wage Gap"
   ]
  },
  {
   "cell_type": "markdown",
   "metadata": {
    "papermill": {
     "duration": 0.019386,
     "end_time": "2021-02-21T17:17:47.847419",
     "exception": false,
     "start_time": "2021-02-21T17:17:47.828033",
     "status": "completed"
    },
    "tags": []
   },
   "source": [
    "In the previous lab, we already analyzed data from the March Supplement of the U.S. Current Population Survey (2015) and answered the question how to use job-relevant characteristics, such as education and experience, to best predict wages. Now, we focus on the following inference question:\n",
    "\n",
    "What is the difference in predicted wages between men and women with the same job-relevant characteristics?\n",
    "\n",
    "Thus, we analyze if there is a difference in the payment of men and women (*gender wage gap*). The gender wage gap may partly reflect *discrimination* against women in the labor market or may partly reflect a *selection effect*, namely that women are relatively more likely to take on occupations that pay somewhat less (for example, school teaching)."
   ]
  },
  {
   "cell_type": "markdown",
   "metadata": {
    "papermill": {
     "duration": 0.018623,
     "end_time": "2021-02-21T17:17:47.884840",
     "exception": false,
     "start_time": "2021-02-21T17:17:47.866217",
     "status": "completed"
    },
    "tags": []
   },
   "source": [
    "To investigate the gender wage gap, we consider the following log-linear regression model\n",
    "\n",
    "\\begin{align}\n",
    "\\log(Y) &= \\beta'X + \\epsilon\\\\\n",
    "&= \\beta_1 D  + \\beta_2' W + \\epsilon,\n",
    "\\end{align}\n",
    "\n",
    "where $D$ is the indicator of being female ($1$ if female and $0$ otherwise) and the\n",
    "$W$'s are controls explaining variation in wages. Considering transformed wages by the logarithm, we are analyzing the relative difference in the payment of men and women."
   ]
  },
  {
   "cell_type": "markdown",
   "metadata": {
    "papermill": {
     "duration": 0.018169,
     "end_time": "2021-02-21T17:17:47.921363",
     "exception": false,
     "start_time": "2021-02-21T17:17:47.903194",
     "status": "completed"
    },
    "tags": []
   },
   "source": [
    "## Data analysis"
   ]
  },
  {
   "cell_type": "markdown",
   "metadata": {
    "papermill": {
     "duration": 0.018446,
     "end_time": "2021-02-21T17:17:47.958377",
     "exception": false,
     "start_time": "2021-02-21T17:17:47.939931",
     "status": "completed"
    },
    "tags": []
   },
   "source": [
    "We consider the same subsample of the U.S. Current Population Survey (2015) as in the previous lab. Let us load the data set."
   ]
  },
  {
   "cell_type": "code",
   "execution_count": 13,
   "metadata": {
    "execution": {
     "iopub.execute_input": "2021-02-21T17:17:48.027996Z",
     "iopub.status.busy": "2021-02-21T17:17:48.025377Z",
     "iopub.status.idle": "2021-02-21T17:17:48.193706Z",
     "shell.execute_reply": "2021-02-21T17:17:48.192123Z"
    },
    "papermill": {
     "duration": 0.217167,
     "end_time": "2021-02-21T17:17:48.193957",
     "exception": false,
     "start_time": "2021-02-21T17:17:47.976790",
     "status": "completed"
    },
    "tags": []
   },
   "outputs": [
    {
     "name": "stderr",
     "output_type": "stream",
     "text": [
      "The following objects are masked from data (pos = 3):\n",
      "\n",
      "    ad, clg, exp1, exp2, exp3, exp4, hsg, ind, ind2, lwage, mw, ne,\n",
      "    occ, occ2, scl, sex, shs, so, wage, we\n",
      "\n",
      "\n",
      "The following objects are masked from data (pos = 4):\n",
      "\n",
      "    ad, clg, exp1, exp2, exp3, exp4, hsg, ind, ind2, lwage, mw, ne,\n",
      "    occ, occ2, scl, sex, shs, so, wage, we\n",
      "\n",
      "\n",
      "The following objects are masked from data (pos = 5):\n",
      "\n",
      "    ad, clg, exp1, exp2, exp3, exp4, hsg, ind, ind2, lwage, mw, ne,\n",
      "    occ, occ2, scl, sex, shs, so, wage, we\n",
      "\n",
      "\n",
      "The following objects are masked from data (pos = 6):\n",
      "\n",
      "    ad, clg, exp1, exp2, exp3, exp4, hsg, ind, ind2, lwage, mw, ne,\n",
      "    occ, occ2, scl, sex, shs, so, wage, we\n",
      "\n",
      "\n"
     ]
    },
    {
     "data": {
      "text/html": [
       "<ol class=list-inline>\n",
       "\t<li>5150</li>\n",
       "\t<li>20</li>\n",
       "</ol>\n"
      ],
      "text/latex": [
       "\\begin{enumerate*}\n",
       "\\item 5150\n",
       "\\item 20\n",
       "\\end{enumerate*}\n"
      ],
      "text/markdown": [
       "1. 5150\n",
       "2. 20\n",
       "\n",
       "\n"
      ],
      "text/plain": [
       "[1] 5150   20"
      ]
     },
     "metadata": {},
     "output_type": "display_data"
    }
   ],
   "source": [
    "load(\"../data/wage2015_subsample_inference.Rdata\")\n",
    "attach(data) \n",
    "\n",
    "dim(data) "
   ]
  },
  {
   "cell_type": "code",
   "execution_count": 8,
   "metadata": {},
   "outputs": [
    {
     "data": {
      "text/html": [
       "<style>\n",
       ".list-inline {list-style: none; margin:0; padding: 0}\n",
       ".list-inline>li {display: inline-block}\n",
       ".list-inline>li:not(:last-child)::after {content: \"\\00b7\"; padding: 0 .5ex}\n",
       "</style>\n",
       "<ol class=list-inline><li>5150</li><li>20</li></ol>\n"
      ],
      "text/latex": [
       "\\begin{enumerate*}\n",
       "\\item 5150\n",
       "\\item 20\n",
       "\\end{enumerate*}\n"
      ],
      "text/markdown": [
       "1. 5150\n",
       "2. 20\n",
       "\n",
       "\n"
      ],
      "text/plain": [
       "[1] 5150   20"
      ]
     },
     "metadata": {},
     "output_type": "display_data"
    },
    {
     "data": {
      "text/html": [
       "<table class=\"dataframe\">\n",
       "<caption>A data.frame: 5150 × 20</caption>\n",
       "<thead>\n",
       "\t<tr><th></th><th scope=col>wage</th><th scope=col>lwage</th><th scope=col>sex</th><th scope=col>shs</th><th scope=col>hsg</th><th scope=col>scl</th><th scope=col>clg</th><th scope=col>ad</th><th scope=col>mw</th><th scope=col>so</th><th scope=col>we</th><th scope=col>ne</th><th scope=col>exp1</th><th scope=col>exp2</th><th scope=col>exp3</th><th scope=col>exp4</th><th scope=col>occ</th><th scope=col>occ2</th><th scope=col>ind</th><th scope=col>ind2</th></tr>\n",
       "\t<tr><th></th><th scope=col>&lt;dbl&gt;</th><th scope=col>&lt;dbl&gt;</th><th scope=col>&lt;dbl&gt;</th><th scope=col>&lt;dbl&gt;</th><th scope=col>&lt;dbl&gt;</th><th scope=col>&lt;dbl&gt;</th><th scope=col>&lt;dbl&gt;</th><th scope=col>&lt;dbl&gt;</th><th scope=col>&lt;dbl&gt;</th><th scope=col>&lt;dbl&gt;</th><th scope=col>&lt;dbl&gt;</th><th scope=col>&lt;dbl&gt;</th><th scope=col>&lt;dbl&gt;</th><th scope=col>&lt;dbl&gt;</th><th scope=col>&lt;dbl&gt;</th><th scope=col>&lt;dbl&gt;</th><th scope=col>&lt;fct&gt;</th><th scope=col>&lt;fct&gt;</th><th scope=col>&lt;fct&gt;</th><th scope=col>&lt;fct&gt;</th></tr>\n",
       "</thead>\n",
       "<tbody>\n",
       "\t<tr><th scope=row>10</th><td> 9.615385</td><td>2.263364</td><td>1</td><td>0</td><td>0</td><td>0</td><td>1</td><td>0</td><td>0</td><td>0</td><td>0</td><td>1</td><td> 7.0</td><td> 0.4900</td><td> 0.343000</td><td>  0.24010000</td><td>3600</td><td>11</td><td>8370</td><td>18</td></tr>\n",
       "\t<tr><th scope=row>12</th><td>48.076923</td><td>3.872802</td><td>0</td><td>0</td><td>0</td><td>0</td><td>1</td><td>0</td><td>0</td><td>0</td><td>0</td><td>1</td><td>31.0</td><td> 9.6100</td><td>29.791000</td><td> 92.35210000</td><td>3050</td><td>10</td><td>5070</td><td>9 </td></tr>\n",
       "\t<tr><th scope=row>15</th><td>11.057692</td><td>2.403126</td><td>0</td><td>0</td><td>1</td><td>0</td><td>0</td><td>0</td><td>0</td><td>0</td><td>0</td><td>1</td><td>18.0</td><td> 3.2400</td><td> 5.832000</td><td> 10.49760000</td><td>6260</td><td>19</td><td>770 </td><td>4 </td></tr>\n",
       "\t<tr><th scope=row>18</th><td>13.942308</td><td>2.634928</td><td>1</td><td>0</td><td>0</td><td>0</td><td>0</td><td>1</td><td>0</td><td>0</td><td>0</td><td>1</td><td>25.0</td><td> 6.2500</td><td>15.625000</td><td> 39.06250000</td><td>420 </td><td>1 </td><td>6990</td><td>12</td></tr>\n",
       "\t<tr><th scope=row>19</th><td>28.846154</td><td>3.361977</td><td>1</td><td>0</td><td>0</td><td>0</td><td>1</td><td>0</td><td>0</td><td>0</td><td>0</td><td>1</td><td>22.0</td><td> 4.8400</td><td>10.648000</td><td> 23.42560000</td><td>2015</td><td>6 </td><td>9470</td><td>22</td></tr>\n",
       "\t<tr><th scope=row>30</th><td>11.730769</td><td>2.462215</td><td>1</td><td>0</td><td>0</td><td>0</td><td>1</td><td>0</td><td>0</td><td>0</td><td>0</td><td>1</td><td> 1.0</td><td> 0.0100</td><td> 0.001000</td><td>  0.00010000</td><td>1650</td><td>5 </td><td>7460</td><td>14</td></tr>\n",
       "\t<tr><th scope=row>43</th><td>19.230769</td><td>2.956512</td><td>1</td><td>0</td><td>1</td><td>0</td><td>0</td><td>0</td><td>0</td><td>0</td><td>0</td><td>1</td><td>42.0</td><td>17.6400</td><td>74.088000</td><td>311.16960000</td><td>5120</td><td>17</td><td>7280</td><td>14</td></tr>\n",
       "\t<tr><th scope=row>44</th><td>19.230769</td><td>2.956512</td><td>0</td><td>0</td><td>1</td><td>0</td><td>0</td><td>0</td><td>0</td><td>0</td><td>0</td><td>1</td><td>37.0</td><td>13.6900</td><td>50.653000</td><td>187.41610000</td><td>5240</td><td>17</td><td>5680</td><td>9 </td></tr>\n",
       "\t<tr><th scope=row>47</th><td>12.000000</td><td>2.484907</td><td>1</td><td>0</td><td>1</td><td>0</td><td>0</td><td>0</td><td>0</td><td>0</td><td>0</td><td>1</td><td>31.0</td><td> 9.6100</td><td>29.791000</td><td> 92.35210000</td><td>4040</td><td>13</td><td>8590</td><td>19</td></tr>\n",
       "\t<tr><th scope=row>71</th><td>19.230769</td><td>2.956512</td><td>1</td><td>0</td><td>0</td><td>0</td><td>1</td><td>0</td><td>0</td><td>0</td><td>0</td><td>1</td><td> 4.0</td><td> 0.1600</td><td> 0.064000</td><td>  0.02560000</td><td>3255</td><td>10</td><td>8190</td><td>18</td></tr>\n",
       "\t<tr><th scope=row>73</th><td>17.307692</td><td>2.851151</td><td>1</td><td>0</td><td>1</td><td>0</td><td>0</td><td>0</td><td>0</td><td>0</td><td>0</td><td>1</td><td> 7.0</td><td> 0.4900</td><td> 0.343000</td><td>  0.24010000</td><td>4020</td><td>13</td><td>8270</td><td>18</td></tr>\n",
       "\t<tr><th scope=row>77</th><td>12.019231</td><td>2.486508</td><td>0</td><td>0</td><td>1</td><td>0</td><td>0</td><td>0</td><td>0</td><td>0</td><td>0</td><td>1</td><td>30.0</td><td> 9.0000</td><td>27.000000</td><td> 81.00000000</td><td>4220</td><td>14</td><td>8270</td><td>18</td></tr>\n",
       "\t<tr><th scope=row>84</th><td>12.019231</td><td>2.486508</td><td>1</td><td>0</td><td>0</td><td>1</td><td>0</td><td>0</td><td>0</td><td>0</td><td>0</td><td>1</td><td> 5.5</td><td> 0.3025</td><td> 0.166375</td><td>  0.09150625</td><td>3600</td><td>11</td><td>8270</td><td>18</td></tr>\n",
       "\t<tr><th scope=row>89</th><td>13.461538</td><td>2.599837</td><td>1</td><td>0</td><td>0</td><td>1</td><td>0</td><td>0</td><td>0</td><td>0</td><td>0</td><td>1</td><td>20.5</td><td> 4.2025</td><td> 8.615125</td><td> 17.66100625</td><td>3645</td><td>11</td><td>8190</td><td>18</td></tr>\n",
       "\t<tr><th scope=row>96</th><td>16.346154</td><td>2.793993</td><td>1</td><td>0</td><td>0</td><td>0</td><td>1</td><td>0</td><td>0</td><td>0</td><td>0</td><td>1</td><td>25.0</td><td> 6.2500</td><td>15.625000</td><td> 39.06250000</td><td>110 </td><td>1 </td><td>7870</td><td>17</td></tr>\n",
       "\t<tr><th scope=row>113</th><td>27.884615</td><td>3.328075</td><td>0</td><td>0</td><td>1</td><td>0</td><td>0</td><td>0</td><td>0</td><td>0</td><td>0</td><td>1</td><td>16.0</td><td> 2.5600</td><td> 4.096000</td><td>  6.55360000</td><td>6355</td><td>19</td><td>770 </td><td>4 </td></tr>\n",
       "\t<tr><th scope=row>115</th><td>21.600000</td><td>3.072693</td><td>0</td><td>0</td><td>1</td><td>0</td><td>0</td><td>0</td><td>0</td><td>0</td><td>0</td><td>1</td><td>27.0</td><td> 7.2900</td><td>19.683000</td><td> 53.14410000</td><td>6320</td><td>19</td><td>770 </td><td>4 </td></tr>\n",
       "\t<tr><th scope=row>119</th><td> 8.653846</td><td>2.158004</td><td>0</td><td>0</td><td>0</td><td>1</td><td>0</td><td>0</td><td>0</td><td>0</td><td>0</td><td>1</td><td> 3.5</td><td> 0.1225</td><td> 0.042875</td><td>  0.01500625</td><td>7410</td><td>20</td><td>570 </td><td>3 </td></tr>\n",
       "\t<tr><th scope=row>128</th><td>19.230769</td><td>2.956512</td><td>0</td><td>0</td><td>1</td><td>0</td><td>0</td><td>0</td><td>0</td><td>0</td><td>0</td><td>1</td><td> 6.0</td><td> 0.3600</td><td> 0.216000</td><td>  0.12960000</td><td>7000</td><td>20</td><td>4690</td><td>9 </td></tr>\n",
       "\t<tr><th scope=row>129</th><td>13.186813</td><td>2.579217</td><td>0</td><td>0</td><td>1</td><td>0</td><td>0</td><td>0</td><td>0</td><td>0</td><td>0</td><td>1</td><td> 8.0</td><td> 0.6400</td><td> 0.512000</td><td>  0.40960000</td><td>4000</td><td>13</td><td>8680</td><td>20</td></tr>\n",
       "\t<tr><th scope=row>135</th><td>10.683761</td><td>2.368725</td><td>1</td><td>0</td><td>0</td><td>1</td><td>0</td><td>0</td><td>0</td><td>0</td><td>0</td><td>1</td><td> 6.5</td><td> 0.4225</td><td> 0.274625</td><td>  0.17850625</td><td>4300</td><td>15</td><td>8590</td><td>19</td></tr>\n",
       "\t<tr><th scope=row>144</th><td>11.538462</td><td>2.445686</td><td>1</td><td>0</td><td>0</td><td>1</td><td>0</td><td>0</td><td>0</td><td>0</td><td>0</td><td>1</td><td> 8.5</td><td> 0.7225</td><td> 0.614125</td><td>  0.52200625</td><td>3600</td><td>11</td><td>8190</td><td>18</td></tr>\n",
       "\t<tr><th scope=row>145</th><td>17.788462</td><td>2.878550</td><td>1</td><td>0</td><td>0</td><td>0</td><td>0</td><td>1</td><td>0</td><td>0</td><td>0</td><td>1</td><td>11.0</td><td> 1.2100</td><td> 1.331000</td><td>  1.46410000</td><td>2310</td><td>8 </td><td>7860</td><td>17</td></tr>\n",
       "\t<tr><th scope=row>149</th><td>19.230769</td><td>2.956512</td><td>0</td><td>0</td><td>0</td><td>0</td><td>1</td><td>0</td><td>0</td><td>0</td><td>0</td><td>1</td><td>11.0</td><td> 1.2100</td><td> 1.331000</td><td>  1.46410000</td><td>6200</td><td>19</td><td>770 </td><td>4 </td></tr>\n",
       "\t<tr><th scope=row>152</th><td>16.304348</td><td>2.791432</td><td>1</td><td>0</td><td>0</td><td>1</td><td>0</td><td>0</td><td>0</td><td>0</td><td>0</td><td>1</td><td>24.5</td><td> 6.0025</td><td>14.706125</td><td> 36.03000625</td><td>20  </td><td>1 </td><td>5480</td><td>9 </td></tr>\n",
       "\t<tr><th scope=row>157</th><td>19.230769</td><td>2.956512</td><td>0</td><td>0</td><td>1</td><td>0</td><td>0</td><td>0</td><td>0</td><td>0</td><td>0</td><td>1</td><td> 8.0</td><td> 0.6400</td><td> 0.512000</td><td>  0.40960000</td><td>4800</td><td>16</td><td>7390</td><td>14</td></tr>\n",
       "\t<tr><th scope=row>158</th><td>14.423077</td><td>2.668829</td><td>1</td><td>0</td><td>1</td><td>0</td><td>0</td><td>0</td><td>0</td><td>0</td><td>0</td><td>1</td><td> 5.0</td><td> 0.2500</td><td> 0.125000</td><td>  0.06250000</td><td>430 </td><td>1 </td><td>7390</td><td>14</td></tr>\n",
       "\t<tr><th scope=row>160</th><td>12.000000</td><td>2.484907</td><td>0</td><td>0</td><td>0</td><td>1</td><td>0</td><td>0</td><td>0</td><td>0</td><td>0</td><td>1</td><td> 4.5</td><td> 0.2025</td><td> 0.091125</td><td>  0.04100625</td><td>6330</td><td>19</td><td>770 </td><td>4 </td></tr>\n",
       "\t<tr><th scope=row>164</th><td>16.826923</td><td>2.822980</td><td>0</td><td>0</td><td>0</td><td>0</td><td>1</td><td>0</td><td>0</td><td>0</td><td>0</td><td>1</td><td> 8.0</td><td> 0.6400</td><td> 0.512000</td><td>  0.40960000</td><td>5400</td><td>17</td><td>4870</td><td>9 </td></tr>\n",
       "\t<tr><th scope=row>176</th><td>19.670330</td><td>2.979111</td><td>0</td><td>0</td><td>0</td><td>0</td><td>1</td><td>0</td><td>0</td><td>0</td><td>0</td><td>1</td><td>26.0</td><td> 6.7600</td><td>17.576000</td><td> 45.69760000</td><td>6230</td><td>19</td><td>6570</td><td>11</td></tr>\n",
       "\t<tr><th scope=row>⋮</th><td>⋮</td><td>⋮</td><td>⋮</td><td>⋮</td><td>⋮</td><td>⋮</td><td>⋮</td><td>⋮</td><td>⋮</td><td>⋮</td><td>⋮</td><td>⋮</td><td>⋮</td><td>⋮</td><td>⋮</td><td>⋮</td><td>⋮</td><td>⋮</td><td>⋮</td><td>⋮</td></tr>\n",
       "\t<tr><th scope=row>32537</th><td>13.986014</td><td>2.638058</td><td>1</td><td>0</td><td>0</td><td>0</td><td>0</td><td>1</td><td>0</td><td>0</td><td>1</td><td>0</td><td> 7.0</td><td> 0.4900</td><td> 0.343000</td><td>  0.2401000</td><td>3820</td><td>12</td><td>9590</td><td>22</td></tr>\n",
       "\t<tr><th scope=row>32538</th><td>15.865385</td><td>2.764140</td><td>0</td><td>0</td><td>0</td><td>0</td><td>0</td><td>1</td><td>0</td><td>0</td><td>1</td><td>0</td><td> 2.0</td><td> 0.0400</td><td> 0.008000</td><td>  0.0016000</td><td>2200</td><td>8 </td><td>7870</td><td>17</td></tr>\n",
       "\t<tr><th scope=row>32539</th><td>38.461538</td><td>3.649659</td><td>1</td><td>0</td><td>0</td><td>1</td><td>0</td><td>0</td><td>0</td><td>0</td><td>1</td><td>0</td><td> 7.5</td><td> 0.5625</td><td> 0.421875</td><td>  0.3164062</td><td>220 </td><td>1 </td><td>770 </td><td>4 </td></tr>\n",
       "\t<tr><th scope=row>32540</th><td>28.846154</td><td>3.361977</td><td>0</td><td>0</td><td>0</td><td>0</td><td>1</td><td>0</td><td>0</td><td>0</td><td>1</td><td>0</td><td> 5.0</td><td> 0.2500</td><td> 0.125000</td><td>  0.0625000</td><td>1360</td><td>4 </td><td>770 </td><td>4 </td></tr>\n",
       "\t<tr><th scope=row>32548</th><td>24.475524</td><td>3.197674</td><td>1</td><td>0</td><td>0</td><td>0</td><td>0</td><td>1</td><td>0</td><td>0</td><td>1</td><td>0</td><td>24.0</td><td> 5.7600</td><td>13.824000</td><td> 33.1776000</td><td>2310</td><td>8 </td><td>7860</td><td>17</td></tr>\n",
       "\t<tr><th scope=row>32551</th><td>27.884615</td><td>3.328075</td><td>0</td><td>0</td><td>0</td><td>1</td><td>0</td><td>0</td><td>0</td><td>0</td><td>1</td><td>0</td><td>28.5</td><td> 8.1225</td><td>23.149125</td><td> 65.9750063</td><td>8140</td><td>21</td><td>770 </td><td>4 </td></tr>\n",
       "\t<tr><th scope=row>32559</th><td> 8.653846</td><td>2.158004</td><td>1</td><td>0</td><td>1</td><td>0</td><td>0</td><td>0</td><td>0</td><td>0</td><td>1</td><td>0</td><td>25.0</td><td> 6.2500</td><td>15.625000</td><td> 39.0625000</td><td>3930</td><td>12</td><td>7680</td><td>16</td></tr>\n",
       "\t<tr><th scope=row>32560</th><td>12.019231</td><td>2.486508</td><td>0</td><td>0</td><td>1</td><td>0</td><td>0</td><td>0</td><td>0</td><td>0</td><td>1</td><td>0</td><td>19.0</td><td> 3.6100</td><td> 6.859000</td><td> 13.0321000</td><td>2750</td><td>9 </td><td>8560</td><td>19</td></tr>\n",
       "\t<tr><th scope=row>32561</th><td>38.461538</td><td>3.649659</td><td>0</td><td>0</td><td>0</td><td>0</td><td>1</td><td>0</td><td>0</td><td>0</td><td>1</td><td>0</td><td> 8.0</td><td> 0.6400</td><td> 0.512000</td><td>  0.4096000</td><td>710 </td><td>2 </td><td>6870</td><td>12</td></tr>\n",
       "\t<tr><th scope=row>32564</th><td>12.500000</td><td>2.525729</td><td>1</td><td>0</td><td>1</td><td>0</td><td>0</td><td>0</td><td>0</td><td>0</td><td>1</td><td>0</td><td>12.0</td><td> 1.4400</td><td> 1.728000</td><td>  2.0736000</td><td>4010</td><td>13</td><td>8680</td><td>20</td></tr>\n",
       "\t<tr><th scope=row>32565</th><td>35.256410</td><td>3.562647</td><td>0</td><td>0</td><td>0</td><td>0</td><td>0</td><td>1</td><td>0</td><td>0</td><td>1</td><td>0</td><td> 6.0</td><td> 0.3600</td><td> 0.216000</td><td>  0.1296000</td><td>2320</td><td>8 </td><td>7860</td><td>17</td></tr>\n",
       "\t<tr><th scope=row>32567</th><td>48.076923</td><td>3.872802</td><td>1</td><td>0</td><td>0</td><td>0</td><td>1</td><td>0</td><td>0</td><td>0</td><td>1</td><td>0</td><td>25.0</td><td> 6.2500</td><td>15.625000</td><td> 39.0625000</td><td>3255</td><td>10</td><td>8170</td><td>18</td></tr>\n",
       "\t<tr><th scope=row>32571</th><td> 9.615385</td><td>2.263364</td><td>0</td><td>0</td><td>1</td><td>0</td><td>0</td><td>0</td><td>0</td><td>0</td><td>1</td><td>0</td><td>20.0</td><td> 4.0000</td><td> 8.000000</td><td> 16.0000000</td><td>4110</td><td>13</td><td>8680</td><td>20</td></tr>\n",
       "\t<tr><th scope=row>32572</th><td>12.019231</td><td>2.486508</td><td>0</td><td>0</td><td>1</td><td>0</td><td>0</td><td>0</td><td>0</td><td>0</td><td>1</td><td>0</td><td>17.0</td><td> 2.8900</td><td> 4.913000</td><td>  8.3521000</td><td>9620</td><td>22</td><td>6290</td><td>10</td></tr>\n",
       "\t<tr><th scope=row>32579</th><td>12.019231</td><td>2.486508</td><td>0</td><td>0</td><td>0</td><td>1</td><td>0</td><td>0</td><td>0</td><td>0</td><td>1</td><td>0</td><td>31.5</td><td> 9.9225</td><td>31.255875</td><td> 98.4560063</td><td>5510</td><td>17</td><td>6380</td><td>10</td></tr>\n",
       "\t<tr><th scope=row>32580</th><td>12.980769</td><td>2.563469</td><td>0</td><td>0</td><td>1</td><td>0</td><td>0</td><td>0</td><td>0</td><td>0</td><td>1</td><td>0</td><td>15.0</td><td> 2.2500</td><td> 3.375000</td><td>  5.0625000</td><td>2010</td><td>6 </td><td>9370</td><td>22</td></tr>\n",
       "\t<tr><th scope=row>32581</th><td>26.442308</td><td>3.274965</td><td>1</td><td>0</td><td>0</td><td>0</td><td>1</td><td>0</td><td>0</td><td>0</td><td>1</td><td>0</td><td>34.0</td><td>11.5600</td><td>39.304000</td><td>133.6336000</td><td>2310</td><td>8 </td><td>7860</td><td>17</td></tr>\n",
       "\t<tr><th scope=row>32590</th><td>13.461538</td><td>2.599837</td><td>1</td><td>0</td><td>1</td><td>0</td><td>0</td><td>0</td><td>0</td><td>0</td><td>1</td><td>0</td><td> 8.0</td><td> 0.6400</td><td> 0.512000</td><td>  0.4096000</td><td>4720</td><td>16</td><td>8590</td><td>19</td></tr>\n",
       "\t<tr><th scope=row>32591</th><td>19.711538</td><td>2.981204</td><td>1</td><td>0</td><td>0</td><td>0</td><td>0</td><td>1</td><td>0</td><td>0</td><td>1</td><td>0</td><td> 8.0</td><td> 0.6400</td><td> 0.512000</td><td>  0.4096000</td><td>2000</td><td>6 </td><td>8090</td><td>18</td></tr>\n",
       "\t<tr><th scope=row>32593</th><td>21.153846</td><td>3.051822</td><td>0</td><td>0</td><td>0</td><td>0</td><td>1</td><td>0</td><td>0</td><td>0</td><td>1</td><td>0</td><td>28.0</td><td> 7.8400</td><td>21.952000</td><td> 61.4656000</td><td>40  </td><td>1 </td><td>9170</td><td>21</td></tr>\n",
       "\t<tr><th scope=row>32596</th><td>45.546559</td><td>3.818735</td><td>1</td><td>0</td><td>0</td><td>0</td><td>1</td><td>0</td><td>0</td><td>0</td><td>1</td><td>0</td><td> 5.0</td><td> 0.2500</td><td> 0.125000</td><td>  0.0625000</td><td>3255</td><td>10</td><td>8190</td><td>18</td></tr>\n",
       "\t<tr><th scope=row>32599</th><td>22.596154</td><td>3.117780</td><td>0</td><td>0</td><td>1</td><td>0</td><td>0</td><td>0</td><td>0</td><td>0</td><td>1</td><td>0</td><td>15.0</td><td> 2.2500</td><td> 3.375000</td><td>  5.0625000</td><td>9620</td><td>22</td><td>5390</td><td>9 </td></tr>\n",
       "\t<tr><th scope=row>32603</th><td>16.826923</td><td>2.822980</td><td>0</td><td>0</td><td>1</td><td>0</td><td>0</td><td>0</td><td>0</td><td>0</td><td>1</td><td>0</td><td>11.0</td><td> 1.2100</td><td> 1.331000</td><td>  1.4641000</td><td>7150</td><td>20</td><td>8770</td><td>21</td></tr>\n",
       "\t<tr><th scope=row>32606</th><td>24.038462</td><td>3.179655</td><td>1</td><td>0</td><td>0</td><td>0</td><td>1</td><td>0</td><td>0</td><td>0</td><td>1</td><td>0</td><td>17.0</td><td> 2.8900</td><td> 4.913000</td><td>  8.3521000</td><td>2550</td><td>8 </td><td>9480</td><td>22</td></tr>\n",
       "\t<tr><th scope=row>32619</th><td>13.846154</td><td>2.628007</td><td>0</td><td>0</td><td>0</td><td>0</td><td>1</td><td>0</td><td>0</td><td>0</td><td>1</td><td>0</td><td>10.0</td><td> 1.0000</td><td> 1.000000</td><td>  1.0000000</td><td>800 </td><td>2 </td><td>770 </td><td>4 </td></tr>\n",
       "\t<tr><th scope=row>32620</th><td>14.769231</td><td>2.692546</td><td>0</td><td>0</td><td>0</td><td>0</td><td>1</td><td>0</td><td>0</td><td>0</td><td>1</td><td>0</td><td> 9.0</td><td> 0.8100</td><td> 0.729000</td><td>  0.6561000</td><td>4700</td><td>16</td><td>4970</td><td>9 </td></tr>\n",
       "\t<tr><th scope=row>32624</th><td>23.076923</td><td>3.138833</td><td>1</td><td>0</td><td>0</td><td>1</td><td>0</td><td>0</td><td>0</td><td>0</td><td>1</td><td>0</td><td>12.0</td><td> 1.4400</td><td> 1.728000</td><td>  2.0736000</td><td>4110</td><td>13</td><td>8680</td><td>20</td></tr>\n",
       "\t<tr><th scope=row>32626</th><td>38.461538</td><td>3.649659</td><td>0</td><td>0</td><td>0</td><td>0</td><td>0</td><td>1</td><td>0</td><td>0</td><td>1</td><td>0</td><td>11.0</td><td> 1.2100</td><td> 1.331000</td><td>  1.4641000</td><td>1550</td><td>4 </td><td>3680</td><td>6 </td></tr>\n",
       "\t<tr><th scope=row>32631</th><td>32.967033</td><td>3.495508</td><td>0</td><td>0</td><td>1</td><td>0</td><td>0</td><td>0</td><td>0</td><td>0</td><td>1</td><td>0</td><td>10.0</td><td> 1.0000</td><td> 1.000000</td><td>  1.0000000</td><td>2920</td><td>9 </td><td>6570</td><td>11</td></tr>\n",
       "\t<tr><th scope=row>32643</th><td>17.307692</td><td>2.851151</td><td>0</td><td>0</td><td>0</td><td>0</td><td>0</td><td>1</td><td>0</td><td>0</td><td>1</td><td>0</td><td>14.0</td><td> 1.9600</td><td> 2.744000</td><td>  3.8416000</td><td>1610</td><td>5 </td><td>7460</td><td>14</td></tr>\n",
       "</tbody>\n",
       "</table>\n"
      ],
      "text/latex": [
       "A data.frame: 5150 × 20\n",
       "\\begin{tabular}{r|llllllllllllllllllll}\n",
       "  & wage & lwage & sex & shs & hsg & scl & clg & ad & mw & so & we & ne & exp1 & exp2 & exp3 & exp4 & occ & occ2 & ind & ind2\\\\\n",
       "  & <dbl> & <dbl> & <dbl> & <dbl> & <dbl> & <dbl> & <dbl> & <dbl> & <dbl> & <dbl> & <dbl> & <dbl> & <dbl> & <dbl> & <dbl> & <dbl> & <fct> & <fct> & <fct> & <fct>\\\\\n",
       "\\hline\n",
       "\t10 &  9.615385 & 2.263364 & 1 & 0 & 0 & 0 & 1 & 0 & 0 & 0 & 0 & 1 &  7.0 &  0.4900 &  0.343000 &   0.24010000 & 3600 & 11 & 8370 & 18\\\\\n",
       "\t12 & 48.076923 & 3.872802 & 0 & 0 & 0 & 0 & 1 & 0 & 0 & 0 & 0 & 1 & 31.0 &  9.6100 & 29.791000 &  92.35210000 & 3050 & 10 & 5070 & 9 \\\\\n",
       "\t15 & 11.057692 & 2.403126 & 0 & 0 & 1 & 0 & 0 & 0 & 0 & 0 & 0 & 1 & 18.0 &  3.2400 &  5.832000 &  10.49760000 & 6260 & 19 & 770  & 4 \\\\\n",
       "\t18 & 13.942308 & 2.634928 & 1 & 0 & 0 & 0 & 0 & 1 & 0 & 0 & 0 & 1 & 25.0 &  6.2500 & 15.625000 &  39.06250000 & 420  & 1  & 6990 & 12\\\\\n",
       "\t19 & 28.846154 & 3.361977 & 1 & 0 & 0 & 0 & 1 & 0 & 0 & 0 & 0 & 1 & 22.0 &  4.8400 & 10.648000 &  23.42560000 & 2015 & 6  & 9470 & 22\\\\\n",
       "\t30 & 11.730769 & 2.462215 & 1 & 0 & 0 & 0 & 1 & 0 & 0 & 0 & 0 & 1 &  1.0 &  0.0100 &  0.001000 &   0.00010000 & 1650 & 5  & 7460 & 14\\\\\n",
       "\t43 & 19.230769 & 2.956512 & 1 & 0 & 1 & 0 & 0 & 0 & 0 & 0 & 0 & 1 & 42.0 & 17.6400 & 74.088000 & 311.16960000 & 5120 & 17 & 7280 & 14\\\\\n",
       "\t44 & 19.230769 & 2.956512 & 0 & 0 & 1 & 0 & 0 & 0 & 0 & 0 & 0 & 1 & 37.0 & 13.6900 & 50.653000 & 187.41610000 & 5240 & 17 & 5680 & 9 \\\\\n",
       "\t47 & 12.000000 & 2.484907 & 1 & 0 & 1 & 0 & 0 & 0 & 0 & 0 & 0 & 1 & 31.0 &  9.6100 & 29.791000 &  92.35210000 & 4040 & 13 & 8590 & 19\\\\\n",
       "\t71 & 19.230769 & 2.956512 & 1 & 0 & 0 & 0 & 1 & 0 & 0 & 0 & 0 & 1 &  4.0 &  0.1600 &  0.064000 &   0.02560000 & 3255 & 10 & 8190 & 18\\\\\n",
       "\t73 & 17.307692 & 2.851151 & 1 & 0 & 1 & 0 & 0 & 0 & 0 & 0 & 0 & 1 &  7.0 &  0.4900 &  0.343000 &   0.24010000 & 4020 & 13 & 8270 & 18\\\\\n",
       "\t77 & 12.019231 & 2.486508 & 0 & 0 & 1 & 0 & 0 & 0 & 0 & 0 & 0 & 1 & 30.0 &  9.0000 & 27.000000 &  81.00000000 & 4220 & 14 & 8270 & 18\\\\\n",
       "\t84 & 12.019231 & 2.486508 & 1 & 0 & 0 & 1 & 0 & 0 & 0 & 0 & 0 & 1 &  5.5 &  0.3025 &  0.166375 &   0.09150625 & 3600 & 11 & 8270 & 18\\\\\n",
       "\t89 & 13.461538 & 2.599837 & 1 & 0 & 0 & 1 & 0 & 0 & 0 & 0 & 0 & 1 & 20.5 &  4.2025 &  8.615125 &  17.66100625 & 3645 & 11 & 8190 & 18\\\\\n",
       "\t96 & 16.346154 & 2.793993 & 1 & 0 & 0 & 0 & 1 & 0 & 0 & 0 & 0 & 1 & 25.0 &  6.2500 & 15.625000 &  39.06250000 & 110  & 1  & 7870 & 17\\\\\n",
       "\t113 & 27.884615 & 3.328075 & 0 & 0 & 1 & 0 & 0 & 0 & 0 & 0 & 0 & 1 & 16.0 &  2.5600 &  4.096000 &   6.55360000 & 6355 & 19 & 770  & 4 \\\\\n",
       "\t115 & 21.600000 & 3.072693 & 0 & 0 & 1 & 0 & 0 & 0 & 0 & 0 & 0 & 1 & 27.0 &  7.2900 & 19.683000 &  53.14410000 & 6320 & 19 & 770  & 4 \\\\\n",
       "\t119 &  8.653846 & 2.158004 & 0 & 0 & 0 & 1 & 0 & 0 & 0 & 0 & 0 & 1 &  3.5 &  0.1225 &  0.042875 &   0.01500625 & 7410 & 20 & 570  & 3 \\\\\n",
       "\t128 & 19.230769 & 2.956512 & 0 & 0 & 1 & 0 & 0 & 0 & 0 & 0 & 0 & 1 &  6.0 &  0.3600 &  0.216000 &   0.12960000 & 7000 & 20 & 4690 & 9 \\\\\n",
       "\t129 & 13.186813 & 2.579217 & 0 & 0 & 1 & 0 & 0 & 0 & 0 & 0 & 0 & 1 &  8.0 &  0.6400 &  0.512000 &   0.40960000 & 4000 & 13 & 8680 & 20\\\\\n",
       "\t135 & 10.683761 & 2.368725 & 1 & 0 & 0 & 1 & 0 & 0 & 0 & 0 & 0 & 1 &  6.5 &  0.4225 &  0.274625 &   0.17850625 & 4300 & 15 & 8590 & 19\\\\\n",
       "\t144 & 11.538462 & 2.445686 & 1 & 0 & 0 & 1 & 0 & 0 & 0 & 0 & 0 & 1 &  8.5 &  0.7225 &  0.614125 &   0.52200625 & 3600 & 11 & 8190 & 18\\\\\n",
       "\t145 & 17.788462 & 2.878550 & 1 & 0 & 0 & 0 & 0 & 1 & 0 & 0 & 0 & 1 & 11.0 &  1.2100 &  1.331000 &   1.46410000 & 2310 & 8  & 7860 & 17\\\\\n",
       "\t149 & 19.230769 & 2.956512 & 0 & 0 & 0 & 0 & 1 & 0 & 0 & 0 & 0 & 1 & 11.0 &  1.2100 &  1.331000 &   1.46410000 & 6200 & 19 & 770  & 4 \\\\\n",
       "\t152 & 16.304348 & 2.791432 & 1 & 0 & 0 & 1 & 0 & 0 & 0 & 0 & 0 & 1 & 24.5 &  6.0025 & 14.706125 &  36.03000625 & 20   & 1  & 5480 & 9 \\\\\n",
       "\t157 & 19.230769 & 2.956512 & 0 & 0 & 1 & 0 & 0 & 0 & 0 & 0 & 0 & 1 &  8.0 &  0.6400 &  0.512000 &   0.40960000 & 4800 & 16 & 7390 & 14\\\\\n",
       "\t158 & 14.423077 & 2.668829 & 1 & 0 & 1 & 0 & 0 & 0 & 0 & 0 & 0 & 1 &  5.0 &  0.2500 &  0.125000 &   0.06250000 & 430  & 1  & 7390 & 14\\\\\n",
       "\t160 & 12.000000 & 2.484907 & 0 & 0 & 0 & 1 & 0 & 0 & 0 & 0 & 0 & 1 &  4.5 &  0.2025 &  0.091125 &   0.04100625 & 6330 & 19 & 770  & 4 \\\\\n",
       "\t164 & 16.826923 & 2.822980 & 0 & 0 & 0 & 0 & 1 & 0 & 0 & 0 & 0 & 1 &  8.0 &  0.6400 &  0.512000 &   0.40960000 & 5400 & 17 & 4870 & 9 \\\\\n",
       "\t176 & 19.670330 & 2.979111 & 0 & 0 & 0 & 0 & 1 & 0 & 0 & 0 & 0 & 1 & 26.0 &  6.7600 & 17.576000 &  45.69760000 & 6230 & 19 & 6570 & 11\\\\\n",
       "\t⋮ & ⋮ & ⋮ & ⋮ & ⋮ & ⋮ & ⋮ & ⋮ & ⋮ & ⋮ & ⋮ & ⋮ & ⋮ & ⋮ & ⋮ & ⋮ & ⋮ & ⋮ & ⋮ & ⋮ & ⋮\\\\\n",
       "\t32537 & 13.986014 & 2.638058 & 1 & 0 & 0 & 0 & 0 & 1 & 0 & 0 & 1 & 0 &  7.0 &  0.4900 &  0.343000 &   0.2401000 & 3820 & 12 & 9590 & 22\\\\\n",
       "\t32538 & 15.865385 & 2.764140 & 0 & 0 & 0 & 0 & 0 & 1 & 0 & 0 & 1 & 0 &  2.0 &  0.0400 &  0.008000 &   0.0016000 & 2200 & 8  & 7870 & 17\\\\\n",
       "\t32539 & 38.461538 & 3.649659 & 1 & 0 & 0 & 1 & 0 & 0 & 0 & 0 & 1 & 0 &  7.5 &  0.5625 &  0.421875 &   0.3164062 & 220  & 1  & 770  & 4 \\\\\n",
       "\t32540 & 28.846154 & 3.361977 & 0 & 0 & 0 & 0 & 1 & 0 & 0 & 0 & 1 & 0 &  5.0 &  0.2500 &  0.125000 &   0.0625000 & 1360 & 4  & 770  & 4 \\\\\n",
       "\t32548 & 24.475524 & 3.197674 & 1 & 0 & 0 & 0 & 0 & 1 & 0 & 0 & 1 & 0 & 24.0 &  5.7600 & 13.824000 &  33.1776000 & 2310 & 8  & 7860 & 17\\\\\n",
       "\t32551 & 27.884615 & 3.328075 & 0 & 0 & 0 & 1 & 0 & 0 & 0 & 0 & 1 & 0 & 28.5 &  8.1225 & 23.149125 &  65.9750063 & 8140 & 21 & 770  & 4 \\\\\n",
       "\t32559 &  8.653846 & 2.158004 & 1 & 0 & 1 & 0 & 0 & 0 & 0 & 0 & 1 & 0 & 25.0 &  6.2500 & 15.625000 &  39.0625000 & 3930 & 12 & 7680 & 16\\\\\n",
       "\t32560 & 12.019231 & 2.486508 & 0 & 0 & 1 & 0 & 0 & 0 & 0 & 0 & 1 & 0 & 19.0 &  3.6100 &  6.859000 &  13.0321000 & 2750 & 9  & 8560 & 19\\\\\n",
       "\t32561 & 38.461538 & 3.649659 & 0 & 0 & 0 & 0 & 1 & 0 & 0 & 0 & 1 & 0 &  8.0 &  0.6400 &  0.512000 &   0.4096000 & 710  & 2  & 6870 & 12\\\\\n",
       "\t32564 & 12.500000 & 2.525729 & 1 & 0 & 1 & 0 & 0 & 0 & 0 & 0 & 1 & 0 & 12.0 &  1.4400 &  1.728000 &   2.0736000 & 4010 & 13 & 8680 & 20\\\\\n",
       "\t32565 & 35.256410 & 3.562647 & 0 & 0 & 0 & 0 & 0 & 1 & 0 & 0 & 1 & 0 &  6.0 &  0.3600 &  0.216000 &   0.1296000 & 2320 & 8  & 7860 & 17\\\\\n",
       "\t32567 & 48.076923 & 3.872802 & 1 & 0 & 0 & 0 & 1 & 0 & 0 & 0 & 1 & 0 & 25.0 &  6.2500 & 15.625000 &  39.0625000 & 3255 & 10 & 8170 & 18\\\\\n",
       "\t32571 &  9.615385 & 2.263364 & 0 & 0 & 1 & 0 & 0 & 0 & 0 & 0 & 1 & 0 & 20.0 &  4.0000 &  8.000000 &  16.0000000 & 4110 & 13 & 8680 & 20\\\\\n",
       "\t32572 & 12.019231 & 2.486508 & 0 & 0 & 1 & 0 & 0 & 0 & 0 & 0 & 1 & 0 & 17.0 &  2.8900 &  4.913000 &   8.3521000 & 9620 & 22 & 6290 & 10\\\\\n",
       "\t32579 & 12.019231 & 2.486508 & 0 & 0 & 0 & 1 & 0 & 0 & 0 & 0 & 1 & 0 & 31.5 &  9.9225 & 31.255875 &  98.4560063 & 5510 & 17 & 6380 & 10\\\\\n",
       "\t32580 & 12.980769 & 2.563469 & 0 & 0 & 1 & 0 & 0 & 0 & 0 & 0 & 1 & 0 & 15.0 &  2.2500 &  3.375000 &   5.0625000 & 2010 & 6  & 9370 & 22\\\\\n",
       "\t32581 & 26.442308 & 3.274965 & 1 & 0 & 0 & 0 & 1 & 0 & 0 & 0 & 1 & 0 & 34.0 & 11.5600 & 39.304000 & 133.6336000 & 2310 & 8  & 7860 & 17\\\\\n",
       "\t32590 & 13.461538 & 2.599837 & 1 & 0 & 1 & 0 & 0 & 0 & 0 & 0 & 1 & 0 &  8.0 &  0.6400 &  0.512000 &   0.4096000 & 4720 & 16 & 8590 & 19\\\\\n",
       "\t32591 & 19.711538 & 2.981204 & 1 & 0 & 0 & 0 & 0 & 1 & 0 & 0 & 1 & 0 &  8.0 &  0.6400 &  0.512000 &   0.4096000 & 2000 & 6  & 8090 & 18\\\\\n",
       "\t32593 & 21.153846 & 3.051822 & 0 & 0 & 0 & 0 & 1 & 0 & 0 & 0 & 1 & 0 & 28.0 &  7.8400 & 21.952000 &  61.4656000 & 40   & 1  & 9170 & 21\\\\\n",
       "\t32596 & 45.546559 & 3.818735 & 1 & 0 & 0 & 0 & 1 & 0 & 0 & 0 & 1 & 0 &  5.0 &  0.2500 &  0.125000 &   0.0625000 & 3255 & 10 & 8190 & 18\\\\\n",
       "\t32599 & 22.596154 & 3.117780 & 0 & 0 & 1 & 0 & 0 & 0 & 0 & 0 & 1 & 0 & 15.0 &  2.2500 &  3.375000 &   5.0625000 & 9620 & 22 & 5390 & 9 \\\\\n",
       "\t32603 & 16.826923 & 2.822980 & 0 & 0 & 1 & 0 & 0 & 0 & 0 & 0 & 1 & 0 & 11.0 &  1.2100 &  1.331000 &   1.4641000 & 7150 & 20 & 8770 & 21\\\\\n",
       "\t32606 & 24.038462 & 3.179655 & 1 & 0 & 0 & 0 & 1 & 0 & 0 & 0 & 1 & 0 & 17.0 &  2.8900 &  4.913000 &   8.3521000 & 2550 & 8  & 9480 & 22\\\\\n",
       "\t32619 & 13.846154 & 2.628007 & 0 & 0 & 0 & 0 & 1 & 0 & 0 & 0 & 1 & 0 & 10.0 &  1.0000 &  1.000000 &   1.0000000 & 800  & 2  & 770  & 4 \\\\\n",
       "\t32620 & 14.769231 & 2.692546 & 0 & 0 & 0 & 0 & 1 & 0 & 0 & 0 & 1 & 0 &  9.0 &  0.8100 &  0.729000 &   0.6561000 & 4700 & 16 & 4970 & 9 \\\\\n",
       "\t32624 & 23.076923 & 3.138833 & 1 & 0 & 0 & 1 & 0 & 0 & 0 & 0 & 1 & 0 & 12.0 &  1.4400 &  1.728000 &   2.0736000 & 4110 & 13 & 8680 & 20\\\\\n",
       "\t32626 & 38.461538 & 3.649659 & 0 & 0 & 0 & 0 & 0 & 1 & 0 & 0 & 1 & 0 & 11.0 &  1.2100 &  1.331000 &   1.4641000 & 1550 & 4  & 3680 & 6 \\\\\n",
       "\t32631 & 32.967033 & 3.495508 & 0 & 0 & 1 & 0 & 0 & 0 & 0 & 0 & 1 & 0 & 10.0 &  1.0000 &  1.000000 &   1.0000000 & 2920 & 9  & 6570 & 11\\\\\n",
       "\t32643 & 17.307692 & 2.851151 & 0 & 0 & 0 & 0 & 0 & 1 & 0 & 0 & 1 & 0 & 14.0 &  1.9600 &  2.744000 &   3.8416000 & 1610 & 5  & 7460 & 14\\\\\n",
       "\\end{tabular}\n"
      ],
      "text/markdown": [
       "\n",
       "A data.frame: 5150 × 20\n",
       "\n",
       "| <!--/--> | wage &lt;dbl&gt; | lwage &lt;dbl&gt; | sex &lt;dbl&gt; | shs &lt;dbl&gt; | hsg &lt;dbl&gt; | scl &lt;dbl&gt; | clg &lt;dbl&gt; | ad &lt;dbl&gt; | mw &lt;dbl&gt; | so &lt;dbl&gt; | we &lt;dbl&gt; | ne &lt;dbl&gt; | exp1 &lt;dbl&gt; | exp2 &lt;dbl&gt; | exp3 &lt;dbl&gt; | exp4 &lt;dbl&gt; | occ &lt;fct&gt; | occ2 &lt;fct&gt; | ind &lt;fct&gt; | ind2 &lt;fct&gt; |\n",
       "|---|---|---|---|---|---|---|---|---|---|---|---|---|---|---|---|---|---|---|---|---|\n",
       "| 10 |  9.615385 | 2.263364 | 1 | 0 | 0 | 0 | 1 | 0 | 0 | 0 | 0 | 1 |  7.0 |  0.4900 |  0.343000 |   0.24010000 | 3600 | 11 | 8370 | 18 |\n",
       "| 12 | 48.076923 | 3.872802 | 0 | 0 | 0 | 0 | 1 | 0 | 0 | 0 | 0 | 1 | 31.0 |  9.6100 | 29.791000 |  92.35210000 | 3050 | 10 | 5070 | 9  |\n",
       "| 15 | 11.057692 | 2.403126 | 0 | 0 | 1 | 0 | 0 | 0 | 0 | 0 | 0 | 1 | 18.0 |  3.2400 |  5.832000 |  10.49760000 | 6260 | 19 | 770  | 4  |\n",
       "| 18 | 13.942308 | 2.634928 | 1 | 0 | 0 | 0 | 0 | 1 | 0 | 0 | 0 | 1 | 25.0 |  6.2500 | 15.625000 |  39.06250000 | 420  | 1  | 6990 | 12 |\n",
       "| 19 | 28.846154 | 3.361977 | 1 | 0 | 0 | 0 | 1 | 0 | 0 | 0 | 0 | 1 | 22.0 |  4.8400 | 10.648000 |  23.42560000 | 2015 | 6  | 9470 | 22 |\n",
       "| 30 | 11.730769 | 2.462215 | 1 | 0 | 0 | 0 | 1 | 0 | 0 | 0 | 0 | 1 |  1.0 |  0.0100 |  0.001000 |   0.00010000 | 1650 | 5  | 7460 | 14 |\n",
       "| 43 | 19.230769 | 2.956512 | 1 | 0 | 1 | 0 | 0 | 0 | 0 | 0 | 0 | 1 | 42.0 | 17.6400 | 74.088000 | 311.16960000 | 5120 | 17 | 7280 | 14 |\n",
       "| 44 | 19.230769 | 2.956512 | 0 | 0 | 1 | 0 | 0 | 0 | 0 | 0 | 0 | 1 | 37.0 | 13.6900 | 50.653000 | 187.41610000 | 5240 | 17 | 5680 | 9  |\n",
       "| 47 | 12.000000 | 2.484907 | 1 | 0 | 1 | 0 | 0 | 0 | 0 | 0 | 0 | 1 | 31.0 |  9.6100 | 29.791000 |  92.35210000 | 4040 | 13 | 8590 | 19 |\n",
       "| 71 | 19.230769 | 2.956512 | 1 | 0 | 0 | 0 | 1 | 0 | 0 | 0 | 0 | 1 |  4.0 |  0.1600 |  0.064000 |   0.02560000 | 3255 | 10 | 8190 | 18 |\n",
       "| 73 | 17.307692 | 2.851151 | 1 | 0 | 1 | 0 | 0 | 0 | 0 | 0 | 0 | 1 |  7.0 |  0.4900 |  0.343000 |   0.24010000 | 4020 | 13 | 8270 | 18 |\n",
       "| 77 | 12.019231 | 2.486508 | 0 | 0 | 1 | 0 | 0 | 0 | 0 | 0 | 0 | 1 | 30.0 |  9.0000 | 27.000000 |  81.00000000 | 4220 | 14 | 8270 | 18 |\n",
       "| 84 | 12.019231 | 2.486508 | 1 | 0 | 0 | 1 | 0 | 0 | 0 | 0 | 0 | 1 |  5.5 |  0.3025 |  0.166375 |   0.09150625 | 3600 | 11 | 8270 | 18 |\n",
       "| 89 | 13.461538 | 2.599837 | 1 | 0 | 0 | 1 | 0 | 0 | 0 | 0 | 0 | 1 | 20.5 |  4.2025 |  8.615125 |  17.66100625 | 3645 | 11 | 8190 | 18 |\n",
       "| 96 | 16.346154 | 2.793993 | 1 | 0 | 0 | 0 | 1 | 0 | 0 | 0 | 0 | 1 | 25.0 |  6.2500 | 15.625000 |  39.06250000 | 110  | 1  | 7870 | 17 |\n",
       "| 113 | 27.884615 | 3.328075 | 0 | 0 | 1 | 0 | 0 | 0 | 0 | 0 | 0 | 1 | 16.0 |  2.5600 |  4.096000 |   6.55360000 | 6355 | 19 | 770  | 4  |\n",
       "| 115 | 21.600000 | 3.072693 | 0 | 0 | 1 | 0 | 0 | 0 | 0 | 0 | 0 | 1 | 27.0 |  7.2900 | 19.683000 |  53.14410000 | 6320 | 19 | 770  | 4  |\n",
       "| 119 |  8.653846 | 2.158004 | 0 | 0 | 0 | 1 | 0 | 0 | 0 | 0 | 0 | 1 |  3.5 |  0.1225 |  0.042875 |   0.01500625 | 7410 | 20 | 570  | 3  |\n",
       "| 128 | 19.230769 | 2.956512 | 0 | 0 | 1 | 0 | 0 | 0 | 0 | 0 | 0 | 1 |  6.0 |  0.3600 |  0.216000 |   0.12960000 | 7000 | 20 | 4690 | 9  |\n",
       "| 129 | 13.186813 | 2.579217 | 0 | 0 | 1 | 0 | 0 | 0 | 0 | 0 | 0 | 1 |  8.0 |  0.6400 |  0.512000 |   0.40960000 | 4000 | 13 | 8680 | 20 |\n",
       "| 135 | 10.683761 | 2.368725 | 1 | 0 | 0 | 1 | 0 | 0 | 0 | 0 | 0 | 1 |  6.5 |  0.4225 |  0.274625 |   0.17850625 | 4300 | 15 | 8590 | 19 |\n",
       "| 144 | 11.538462 | 2.445686 | 1 | 0 | 0 | 1 | 0 | 0 | 0 | 0 | 0 | 1 |  8.5 |  0.7225 |  0.614125 |   0.52200625 | 3600 | 11 | 8190 | 18 |\n",
       "| 145 | 17.788462 | 2.878550 | 1 | 0 | 0 | 0 | 0 | 1 | 0 | 0 | 0 | 1 | 11.0 |  1.2100 |  1.331000 |   1.46410000 | 2310 | 8  | 7860 | 17 |\n",
       "| 149 | 19.230769 | 2.956512 | 0 | 0 | 0 | 0 | 1 | 0 | 0 | 0 | 0 | 1 | 11.0 |  1.2100 |  1.331000 |   1.46410000 | 6200 | 19 | 770  | 4  |\n",
       "| 152 | 16.304348 | 2.791432 | 1 | 0 | 0 | 1 | 0 | 0 | 0 | 0 | 0 | 1 | 24.5 |  6.0025 | 14.706125 |  36.03000625 | 20   | 1  | 5480 | 9  |\n",
       "| 157 | 19.230769 | 2.956512 | 0 | 0 | 1 | 0 | 0 | 0 | 0 | 0 | 0 | 1 |  8.0 |  0.6400 |  0.512000 |   0.40960000 | 4800 | 16 | 7390 | 14 |\n",
       "| 158 | 14.423077 | 2.668829 | 1 | 0 | 1 | 0 | 0 | 0 | 0 | 0 | 0 | 1 |  5.0 |  0.2500 |  0.125000 |   0.06250000 | 430  | 1  | 7390 | 14 |\n",
       "| 160 | 12.000000 | 2.484907 | 0 | 0 | 0 | 1 | 0 | 0 | 0 | 0 | 0 | 1 |  4.5 |  0.2025 |  0.091125 |   0.04100625 | 6330 | 19 | 770  | 4  |\n",
       "| 164 | 16.826923 | 2.822980 | 0 | 0 | 0 | 0 | 1 | 0 | 0 | 0 | 0 | 1 |  8.0 |  0.6400 |  0.512000 |   0.40960000 | 5400 | 17 | 4870 | 9  |\n",
       "| 176 | 19.670330 | 2.979111 | 0 | 0 | 0 | 0 | 1 | 0 | 0 | 0 | 0 | 1 | 26.0 |  6.7600 | 17.576000 |  45.69760000 | 6230 | 19 | 6570 | 11 |\n",
       "| ⋮ | ⋮ | ⋮ | ⋮ | ⋮ | ⋮ | ⋮ | ⋮ | ⋮ | ⋮ | ⋮ | ⋮ | ⋮ | ⋮ | ⋮ | ⋮ | ⋮ | ⋮ | ⋮ | ⋮ | ⋮ |\n",
       "| 32537 | 13.986014 | 2.638058 | 1 | 0 | 0 | 0 | 0 | 1 | 0 | 0 | 1 | 0 |  7.0 |  0.4900 |  0.343000 |   0.2401000 | 3820 | 12 | 9590 | 22 |\n",
       "| 32538 | 15.865385 | 2.764140 | 0 | 0 | 0 | 0 | 0 | 1 | 0 | 0 | 1 | 0 |  2.0 |  0.0400 |  0.008000 |   0.0016000 | 2200 | 8  | 7870 | 17 |\n",
       "| 32539 | 38.461538 | 3.649659 | 1 | 0 | 0 | 1 | 0 | 0 | 0 | 0 | 1 | 0 |  7.5 |  0.5625 |  0.421875 |   0.3164062 | 220  | 1  | 770  | 4  |\n",
       "| 32540 | 28.846154 | 3.361977 | 0 | 0 | 0 | 0 | 1 | 0 | 0 | 0 | 1 | 0 |  5.0 |  0.2500 |  0.125000 |   0.0625000 | 1360 | 4  | 770  | 4  |\n",
       "| 32548 | 24.475524 | 3.197674 | 1 | 0 | 0 | 0 | 0 | 1 | 0 | 0 | 1 | 0 | 24.0 |  5.7600 | 13.824000 |  33.1776000 | 2310 | 8  | 7860 | 17 |\n",
       "| 32551 | 27.884615 | 3.328075 | 0 | 0 | 0 | 1 | 0 | 0 | 0 | 0 | 1 | 0 | 28.5 |  8.1225 | 23.149125 |  65.9750063 | 8140 | 21 | 770  | 4  |\n",
       "| 32559 |  8.653846 | 2.158004 | 1 | 0 | 1 | 0 | 0 | 0 | 0 | 0 | 1 | 0 | 25.0 |  6.2500 | 15.625000 |  39.0625000 | 3930 | 12 | 7680 | 16 |\n",
       "| 32560 | 12.019231 | 2.486508 | 0 | 0 | 1 | 0 | 0 | 0 | 0 | 0 | 1 | 0 | 19.0 |  3.6100 |  6.859000 |  13.0321000 | 2750 | 9  | 8560 | 19 |\n",
       "| 32561 | 38.461538 | 3.649659 | 0 | 0 | 0 | 0 | 1 | 0 | 0 | 0 | 1 | 0 |  8.0 |  0.6400 |  0.512000 |   0.4096000 | 710  | 2  | 6870 | 12 |\n",
       "| 32564 | 12.500000 | 2.525729 | 1 | 0 | 1 | 0 | 0 | 0 | 0 | 0 | 1 | 0 | 12.0 |  1.4400 |  1.728000 |   2.0736000 | 4010 | 13 | 8680 | 20 |\n",
       "| 32565 | 35.256410 | 3.562647 | 0 | 0 | 0 | 0 | 0 | 1 | 0 | 0 | 1 | 0 |  6.0 |  0.3600 |  0.216000 |   0.1296000 | 2320 | 8  | 7860 | 17 |\n",
       "| 32567 | 48.076923 | 3.872802 | 1 | 0 | 0 | 0 | 1 | 0 | 0 | 0 | 1 | 0 | 25.0 |  6.2500 | 15.625000 |  39.0625000 | 3255 | 10 | 8170 | 18 |\n",
       "| 32571 |  9.615385 | 2.263364 | 0 | 0 | 1 | 0 | 0 | 0 | 0 | 0 | 1 | 0 | 20.0 |  4.0000 |  8.000000 |  16.0000000 | 4110 | 13 | 8680 | 20 |\n",
       "| 32572 | 12.019231 | 2.486508 | 0 | 0 | 1 | 0 | 0 | 0 | 0 | 0 | 1 | 0 | 17.0 |  2.8900 |  4.913000 |   8.3521000 | 9620 | 22 | 6290 | 10 |\n",
       "| 32579 | 12.019231 | 2.486508 | 0 | 0 | 0 | 1 | 0 | 0 | 0 | 0 | 1 | 0 | 31.5 |  9.9225 | 31.255875 |  98.4560063 | 5510 | 17 | 6380 | 10 |\n",
       "| 32580 | 12.980769 | 2.563469 | 0 | 0 | 1 | 0 | 0 | 0 | 0 | 0 | 1 | 0 | 15.0 |  2.2500 |  3.375000 |   5.0625000 | 2010 | 6  | 9370 | 22 |\n",
       "| 32581 | 26.442308 | 3.274965 | 1 | 0 | 0 | 0 | 1 | 0 | 0 | 0 | 1 | 0 | 34.0 | 11.5600 | 39.304000 | 133.6336000 | 2310 | 8  | 7860 | 17 |\n",
       "| 32590 | 13.461538 | 2.599837 | 1 | 0 | 1 | 0 | 0 | 0 | 0 | 0 | 1 | 0 |  8.0 |  0.6400 |  0.512000 |   0.4096000 | 4720 | 16 | 8590 | 19 |\n",
       "| 32591 | 19.711538 | 2.981204 | 1 | 0 | 0 | 0 | 0 | 1 | 0 | 0 | 1 | 0 |  8.0 |  0.6400 |  0.512000 |   0.4096000 | 2000 | 6  | 8090 | 18 |\n",
       "| 32593 | 21.153846 | 3.051822 | 0 | 0 | 0 | 0 | 1 | 0 | 0 | 0 | 1 | 0 | 28.0 |  7.8400 | 21.952000 |  61.4656000 | 40   | 1  | 9170 | 21 |\n",
       "| 32596 | 45.546559 | 3.818735 | 1 | 0 | 0 | 0 | 1 | 0 | 0 | 0 | 1 | 0 |  5.0 |  0.2500 |  0.125000 |   0.0625000 | 3255 | 10 | 8190 | 18 |\n",
       "| 32599 | 22.596154 | 3.117780 | 0 | 0 | 1 | 0 | 0 | 0 | 0 | 0 | 1 | 0 | 15.0 |  2.2500 |  3.375000 |   5.0625000 | 9620 | 22 | 5390 | 9  |\n",
       "| 32603 | 16.826923 | 2.822980 | 0 | 0 | 1 | 0 | 0 | 0 | 0 | 0 | 1 | 0 | 11.0 |  1.2100 |  1.331000 |   1.4641000 | 7150 | 20 | 8770 | 21 |\n",
       "| 32606 | 24.038462 | 3.179655 | 1 | 0 | 0 | 0 | 1 | 0 | 0 | 0 | 1 | 0 | 17.0 |  2.8900 |  4.913000 |   8.3521000 | 2550 | 8  | 9480 | 22 |\n",
       "| 32619 | 13.846154 | 2.628007 | 0 | 0 | 0 | 0 | 1 | 0 | 0 | 0 | 1 | 0 | 10.0 |  1.0000 |  1.000000 |   1.0000000 | 800  | 2  | 770  | 4  |\n",
       "| 32620 | 14.769231 | 2.692546 | 0 | 0 | 0 | 0 | 1 | 0 | 0 | 0 | 1 | 0 |  9.0 |  0.8100 |  0.729000 |   0.6561000 | 4700 | 16 | 4970 | 9  |\n",
       "| 32624 | 23.076923 | 3.138833 | 1 | 0 | 0 | 1 | 0 | 0 | 0 | 0 | 1 | 0 | 12.0 |  1.4400 |  1.728000 |   2.0736000 | 4110 | 13 | 8680 | 20 |\n",
       "| 32626 | 38.461538 | 3.649659 | 0 | 0 | 0 | 0 | 0 | 1 | 0 | 0 | 1 | 0 | 11.0 |  1.2100 |  1.331000 |   1.4641000 | 1550 | 4  | 3680 | 6  |\n",
       "| 32631 | 32.967033 | 3.495508 | 0 | 0 | 1 | 0 | 0 | 0 | 0 | 0 | 1 | 0 | 10.0 |  1.0000 |  1.000000 |   1.0000000 | 2920 | 9  | 6570 | 11 |\n",
       "| 32643 | 17.307692 | 2.851151 | 0 | 0 | 0 | 0 | 0 | 1 | 0 | 0 | 1 | 0 | 14.0 |  1.9600 |  2.744000 |   3.8416000 | 1610 | 5  | 7460 | 14 |\n",
       "\n"
      ],
      "text/plain": [
       "      wage      lwage    sex shs hsg scl clg ad mw so we ne exp1 exp2   \n",
       "10     9.615385 2.263364 1   0   0   0   1   0  0  0  0  1   7.0  0.4900\n",
       "12    48.076923 3.872802 0   0   0   0   1   0  0  0  0  1  31.0  9.6100\n",
       "15    11.057692 2.403126 0   0   1   0   0   0  0  0  0  1  18.0  3.2400\n",
       "18    13.942308 2.634928 1   0   0   0   0   1  0  0  0  1  25.0  6.2500\n",
       "19    28.846154 3.361977 1   0   0   0   1   0  0  0  0  1  22.0  4.8400\n",
       "30    11.730769 2.462215 1   0   0   0   1   0  0  0  0  1   1.0  0.0100\n",
       "43    19.230769 2.956512 1   0   1   0   0   0  0  0  0  1  42.0 17.6400\n",
       "44    19.230769 2.956512 0   0   1   0   0   0  0  0  0  1  37.0 13.6900\n",
       "47    12.000000 2.484907 1   0   1   0   0   0  0  0  0  1  31.0  9.6100\n",
       "71    19.230769 2.956512 1   0   0   0   1   0  0  0  0  1   4.0  0.1600\n",
       "73    17.307692 2.851151 1   0   1   0   0   0  0  0  0  1   7.0  0.4900\n",
       "77    12.019231 2.486508 0   0   1   0   0   0  0  0  0  1  30.0  9.0000\n",
       "84    12.019231 2.486508 1   0   0   1   0   0  0  0  0  1   5.5  0.3025\n",
       "89    13.461538 2.599837 1   0   0   1   0   0  0  0  0  1  20.5  4.2025\n",
       "96    16.346154 2.793993 1   0   0   0   1   0  0  0  0  1  25.0  6.2500\n",
       "113   27.884615 3.328075 0   0   1   0   0   0  0  0  0  1  16.0  2.5600\n",
       "115   21.600000 3.072693 0   0   1   0   0   0  0  0  0  1  27.0  7.2900\n",
       "119    8.653846 2.158004 0   0   0   1   0   0  0  0  0  1   3.5  0.1225\n",
       "128   19.230769 2.956512 0   0   1   0   0   0  0  0  0  1   6.0  0.3600\n",
       "129   13.186813 2.579217 0   0   1   0   0   0  0  0  0  1   8.0  0.6400\n",
       "135   10.683761 2.368725 1   0   0   1   0   0  0  0  0  1   6.5  0.4225\n",
       "144   11.538462 2.445686 1   0   0   1   0   0  0  0  0  1   8.5  0.7225\n",
       "145   17.788462 2.878550 1   0   0   0   0   1  0  0  0  1  11.0  1.2100\n",
       "149   19.230769 2.956512 0   0   0   0   1   0  0  0  0  1  11.0  1.2100\n",
       "152   16.304348 2.791432 1   0   0   1   0   0  0  0  0  1  24.5  6.0025\n",
       "157   19.230769 2.956512 0   0   1   0   0   0  0  0  0  1   8.0  0.6400\n",
       "158   14.423077 2.668829 1   0   1   0   0   0  0  0  0  1   5.0  0.2500\n",
       "160   12.000000 2.484907 0   0   0   1   0   0  0  0  0  1   4.5  0.2025\n",
       "164   16.826923 2.822980 0   0   0   0   1   0  0  0  0  1   8.0  0.6400\n",
       "176   19.670330 2.979111 0   0   0   0   1   0  0  0  0  1  26.0  6.7600\n",
       "⋮     ⋮         ⋮        ⋮   ⋮   ⋮   ⋮   ⋮   ⋮  ⋮  ⋮  ⋮  ⋮  ⋮    ⋮      \n",
       "32537 13.986014 2.638058 1   0   0   0   0   1  0  0  1  0   7.0  0.4900\n",
       "32538 15.865385 2.764140 0   0   0   0   0   1  0  0  1  0   2.0  0.0400\n",
       "32539 38.461538 3.649659 1   0   0   1   0   0  0  0  1  0   7.5  0.5625\n",
       "32540 28.846154 3.361977 0   0   0   0   1   0  0  0  1  0   5.0  0.2500\n",
       "32548 24.475524 3.197674 1   0   0   0   0   1  0  0  1  0  24.0  5.7600\n",
       "32551 27.884615 3.328075 0   0   0   1   0   0  0  0  1  0  28.5  8.1225\n",
       "32559  8.653846 2.158004 1   0   1   0   0   0  0  0  1  0  25.0  6.2500\n",
       "32560 12.019231 2.486508 0   0   1   0   0   0  0  0  1  0  19.0  3.6100\n",
       "32561 38.461538 3.649659 0   0   0   0   1   0  0  0  1  0   8.0  0.6400\n",
       "32564 12.500000 2.525729 1   0   1   0   0   0  0  0  1  0  12.0  1.4400\n",
       "32565 35.256410 3.562647 0   0   0   0   0   1  0  0  1  0   6.0  0.3600\n",
       "32567 48.076923 3.872802 1   0   0   0   1   0  0  0  1  0  25.0  6.2500\n",
       "32571  9.615385 2.263364 0   0   1   0   0   0  0  0  1  0  20.0  4.0000\n",
       "32572 12.019231 2.486508 0   0   1   0   0   0  0  0  1  0  17.0  2.8900\n",
       "32579 12.019231 2.486508 0   0   0   1   0   0  0  0  1  0  31.5  9.9225\n",
       "32580 12.980769 2.563469 0   0   1   0   0   0  0  0  1  0  15.0  2.2500\n",
       "32581 26.442308 3.274965 1   0   0   0   1   0  0  0  1  0  34.0 11.5600\n",
       "32590 13.461538 2.599837 1   0   1   0   0   0  0  0  1  0   8.0  0.6400\n",
       "32591 19.711538 2.981204 1   0   0   0   0   1  0  0  1  0   8.0  0.6400\n",
       "32593 21.153846 3.051822 0   0   0   0   1   0  0  0  1  0  28.0  7.8400\n",
       "32596 45.546559 3.818735 1   0   0   0   1   0  0  0  1  0   5.0  0.2500\n",
       "32599 22.596154 3.117780 0   0   1   0   0   0  0  0  1  0  15.0  2.2500\n",
       "32603 16.826923 2.822980 0   0   1   0   0   0  0  0  1  0  11.0  1.2100\n",
       "32606 24.038462 3.179655 1   0   0   0   1   0  0  0  1  0  17.0  2.8900\n",
       "32619 13.846154 2.628007 0   0   0   0   1   0  0  0  1  0  10.0  1.0000\n",
       "32620 14.769231 2.692546 0   0   0   0   1   0  0  0  1  0   9.0  0.8100\n",
       "32624 23.076923 3.138833 1   0   0   1   0   0  0  0  1  0  12.0  1.4400\n",
       "32626 38.461538 3.649659 0   0   0   0   0   1  0  0  1  0  11.0  1.2100\n",
       "32631 32.967033 3.495508 0   0   1   0   0   0  0  0  1  0  10.0  1.0000\n",
       "32643 17.307692 2.851151 0   0   0   0   0   1  0  0  1  0  14.0  1.9600\n",
       "      exp3      exp4         occ  occ2 ind  ind2\n",
       "10     0.343000   0.24010000 3600 11   8370 18  \n",
       "12    29.791000  92.35210000 3050 10   5070 9   \n",
       "15     5.832000  10.49760000 6260 19   770  4   \n",
       "18    15.625000  39.06250000 420  1    6990 12  \n",
       "19    10.648000  23.42560000 2015 6    9470 22  \n",
       "30     0.001000   0.00010000 1650 5    7460 14  \n",
       "43    74.088000 311.16960000 5120 17   7280 14  \n",
       "44    50.653000 187.41610000 5240 17   5680 9   \n",
       "47    29.791000  92.35210000 4040 13   8590 19  \n",
       "71     0.064000   0.02560000 3255 10   8190 18  \n",
       "73     0.343000   0.24010000 4020 13   8270 18  \n",
       "77    27.000000  81.00000000 4220 14   8270 18  \n",
       "84     0.166375   0.09150625 3600 11   8270 18  \n",
       "89     8.615125  17.66100625 3645 11   8190 18  \n",
       "96    15.625000  39.06250000 110  1    7870 17  \n",
       "113    4.096000   6.55360000 6355 19   770  4   \n",
       "115   19.683000  53.14410000 6320 19   770  4   \n",
       "119    0.042875   0.01500625 7410 20   570  3   \n",
       "128    0.216000   0.12960000 7000 20   4690 9   \n",
       "129    0.512000   0.40960000 4000 13   8680 20  \n",
       "135    0.274625   0.17850625 4300 15   8590 19  \n",
       "144    0.614125   0.52200625 3600 11   8190 18  \n",
       "145    1.331000   1.46410000 2310 8    7860 17  \n",
       "149    1.331000   1.46410000 6200 19   770  4   \n",
       "152   14.706125  36.03000625 20   1    5480 9   \n",
       "157    0.512000   0.40960000 4800 16   7390 14  \n",
       "158    0.125000   0.06250000 430  1    7390 14  \n",
       "160    0.091125   0.04100625 6330 19   770  4   \n",
       "164    0.512000   0.40960000 5400 17   4870 9   \n",
       "176   17.576000  45.69760000 6230 19   6570 11  \n",
       "⋮     ⋮         ⋮            ⋮    ⋮    ⋮    ⋮   \n",
       "32537  0.343000   0.2401000  3820 12   9590 22  \n",
       "32538  0.008000   0.0016000  2200 8    7870 17  \n",
       "32539  0.421875   0.3164062  220  1    770  4   \n",
       "32540  0.125000   0.0625000  1360 4    770  4   \n",
       "32548 13.824000  33.1776000  2310 8    7860 17  \n",
       "32551 23.149125  65.9750063  8140 21   770  4   \n",
       "32559 15.625000  39.0625000  3930 12   7680 16  \n",
       "32560  6.859000  13.0321000  2750 9    8560 19  \n",
       "32561  0.512000   0.4096000  710  2    6870 12  \n",
       "32564  1.728000   2.0736000  4010 13   8680 20  \n",
       "32565  0.216000   0.1296000  2320 8    7860 17  \n",
       "32567 15.625000  39.0625000  3255 10   8170 18  \n",
       "32571  8.000000  16.0000000  4110 13   8680 20  \n",
       "32572  4.913000   8.3521000  9620 22   6290 10  \n",
       "32579 31.255875  98.4560063  5510 17   6380 10  \n",
       "32580  3.375000   5.0625000  2010 6    9370 22  \n",
       "32581 39.304000 133.6336000  2310 8    7860 17  \n",
       "32590  0.512000   0.4096000  4720 16   8590 19  \n",
       "32591  0.512000   0.4096000  2000 6    8090 18  \n",
       "32593 21.952000  61.4656000  40   1    9170 21  \n",
       "32596  0.125000   0.0625000  3255 10   8190 18  \n",
       "32599  3.375000   5.0625000  9620 22   5390 9   \n",
       "32603  1.331000   1.4641000  7150 20   8770 21  \n",
       "32606  4.913000   8.3521000  2550 8    9480 22  \n",
       "32619  1.000000   1.0000000  800  2    770  4   \n",
       "32620  0.729000   0.6561000  4700 16   4970 9   \n",
       "32624  1.728000   2.0736000  4110 13   8680 20  \n",
       "32626  1.331000   1.4641000  1550 4    3680 6   \n",
       "32631  1.000000   1.0000000  2920 9    6570 11  \n",
       "32643  2.744000   3.8416000  1610 5    7460 14  "
      ]
     },
     "metadata": {},
     "output_type": "display_data"
    }
   ],
   "source": [
    "dim(data)\n",
    "data"
   ]
  },
  {
   "cell_type": "markdown",
   "metadata": {
    "papermill": {
     "duration": 0.020145,
     "end_time": "2021-02-21T17:17:48.235598",
     "exception": false,
     "start_time": "2021-02-21T17:17:48.215453",
     "status": "completed"
    },
    "tags": []
   },
   "source": [
    "To start our (causal) analysis, we compare the sample means given gender:"
   ]
  },
  {
   "cell_type": "code",

    }
   ],
   "source": [
    "library(xtable)\n",
    "\n",
    "Z <- data[which(colnames(data) %in% c(\"lwage\",\"sex\",\"shs\",\"hsg\",\"scl\",\"clg\",\"ad\",\"ne\",\"mw\",\"so\",\"we\",\"exp1\"))]\n",
    "Z"
   ]
  },
  {
   "cell_type": "code",

   "metadata": {
    "execution": {
     "iopub.execute_input": "2021-02-21T17:17:48.309038Z",
     "iopub.status.busy": "2021-02-21T17:17:48.279446Z",
     "iopub.status.idle": "2021-02-21T17:17:48.385996Z",
     "shell.execute_reply": "2021-02-21T17:17:48.384619Z"
    },
    "papermill": {
     "duration": 0.130992,
     "end_time": "2021-02-21T17:17:48.386138",
     "exception": false,
     "start_time": "2021-02-21T17:17:48.255146",
     "status": "completed"
    },
    "tags": []
   },
   "outputs": [
    {

    }
   ],
   "source": [
    "library(xtable)\n",
    "\n",
    "Z <- data[which(colnames(data) %in% c(\"lwage\",\"sex\",\"shs\",\"hsg\",\"scl\",\"clg\",\"ad\",\"ne\",\"mw\",\"so\",\"we\",\"exp1\"))]\n",
    "\n",
    "data_female <- data[data$sex==1,]\n",
    "Z_female <- data_female[which(colnames(data) %in% c(\"lwage\",\"sex\",\"shs\",\"hsg\",\"scl\",\"clg\",\"ad\",\"ne\",\"mw\",\"so\",\"we\",\"exp1\"))]\n",
    "\n",
    "\n",
    "data_male <- data[data$sex==0,]\n",
    "Z_male <- data_male[which(colnames(data) %in% c(\"lwage\",\"sex\",\"shs\",\"hsg\",\"scl\",\"clg\",\"ad\",\"ne\",\"mw\",\"so\",\"we\",\"exp1\"))]\n",
    "\n",
    "table <- matrix(0, 12, 3) \n",
    "table[1:12,1]   <- as.numeric(lapply(Z,mean)) \n",
    "table[1:12,2]   <- as.numeric(lapply(Z_male,mean))\n",
    "table[1:12,3]   <- as.numeric(lapply(Z_female,mean))\n",
    "rownames(table) <- c(\"Log Wage\",\"Sex\",\"Less then High School\",\"High School Graduate\",\"Some College\",\"Gollage Graduate\",\"Advanced Degree\", \"Northeast\",\"Midwest\",\"South\",\"West\",\"Experience\") #renombre nombre de las columnas de la tabla\n",
    "colnames(table) <- c(\"All\",\"Men\",\"Women\")\n",
    "tab<- xtable(table, digits = 4)\n",
    "tab"
   ]
  },
  {
   "cell_type": "code",

   "metadata": {
    "execution": {
     "iopub.execute_input": "2021-02-21T17:17:48.431654Z",
     "iopub.status.busy": "2021-02-21T17:17:48.430537Z",
     "iopub.status.idle": "2021-02-21T17:17:48.450210Z",
     "shell.execute_reply": "2021-02-21T17:17:48.448493Z"
    },
    "papermill": {
     "duration": 0.044113,
     "end_time": "2021-02-21T17:17:48.450550",
     "exception": false,
     "start_time": "2021-02-21T17:17:48.406437",
     "status": "completed"
    },
    "tags": []
   },
   "outputs": [
    {

     ]
    }
   ],
   "source": [
    "print(tab,type=\"html\") # set type=\"latex\" for printing table in LaTeX"
   ]
  },
  {
   "cell_type": "markdown",
   "metadata": {
    "papermill": {
     "duration": 0.020063,
     "end_time": "2021-02-21T17:17:48.491517",
     "exception": false,
     "start_time": "2021-02-21T17:17:48.471454",
     "status": "completed"
    },
    "tags": []
   },
   "source": [
    "<!-- html table generated in R 3.6.3 by xtable 1.8-4 package -->\n",
    "<!-- Mon Jan 18 10:41:44 2021 -->\n",
    "<table border=1>\n",
    "<tr> <th>  </th> <th> All </th> <th> Men </th> <th> Women </th>  </tr>\n",
    "  <tr> <td align=\"right\"> Log Wage </td> <td align=\"right\"> 2.9708 </td> <td align=\"right\"> 2.9878 </td> <td align=\"right\"> 2.9495 </td> </tr>\n",
    "  <tr> <td align=\"right\"> Sex </td> <td align=\"right\"> 0.4445 </td> <td align=\"right\"> 0.0000 </td> <td align=\"right\"> 1.0000 </td> </tr>\n",
    "  <tr> <td align=\"right\"> Less then High School </td> <td align=\"right\"> 0.0233 </td> <td align=\"right\"> 0.0318 </td> <td align=\"right\"> 0.0127 </td> </tr>\n",
    "  <tr> <td align=\"right\"> High School Graduate </td> <td align=\"right\"> 0.2439 </td> <td align=\"right\"> 0.2943 </td> <td align=\"right\"> 0.1809 </td> </tr>\n",
    "  <tr> <td align=\"right\"> Some College </td> <td align=\"right\"> 0.2781 </td> <td align=\"right\"> 0.2733 </td> <td align=\"right\"> 0.2840 </td> </tr>\n",
    "  <tr> <td align=\"right\"> Gollage Graduate </td> <td align=\"right\"> 0.3177 </td> <td align=\"right\"> 0.2940 </td> <td align=\"right\"> 0.3473 </td> </tr>\n",
    "  <tr> <td align=\"right\"> Advanced Degree </td> <td align=\"right\"> 0.1371 </td> <td align=\"right\"> 0.1066 </td> <td align=\"right\"> 0.1752 </td> </tr>\n",
    "  <tr> <td align=\"right\"> Northeast </td> <td align=\"right\"> 0.2596 </td> <td align=\"right\"> 0.2590 </td> <td align=\"right\"> 0.2604 </td> </tr>\n",
    "  <tr> <td align=\"right\"> Midwest </td> <td align=\"right\"> 0.2965 </td> <td align=\"right\"> 0.2981 </td> <td align=\"right\"> 0.2945 </td> </tr>\n",
    "  <tr> <td align=\"right\"> South </td> <td align=\"right\"> 0.2161 </td> <td align=\"right\"> 0.2209 </td> <td align=\"right\"> 0.2101 </td> </tr>\n",
    "  <tr> <td align=\"right\"> West </td> <td align=\"right\"> 0.2278 </td> <td align=\"right\"> 0.2220 </td> <td align=\"right\"> 0.2350 </td> </tr>\n",
    "  <tr> <td align=\"right\"> Experience </td> <td align=\"right\"> 13.7606 </td> <td align=\"right\"> 13.7840 </td> <td align=\"right\"> 13.7313 </td> </tr>\n",
    "   </table>"
   ]
  },
  {
   "cell_type": "markdown",
   "metadata": {
    "papermill": {
     "duration": 0.020634,
     "end_time": "2021-02-21T17:17:48.532828",
     "exception": false,
     "start_time": "2021-02-21T17:17:48.512194",
     "status": "completed"
    },
    "tags": []
   },
   "source": [
    "In particular, the table above shows that the difference in average *logwage* between men and women is equal to $0,038$"
   ]
  },
  {
   "cell_type": "code",
   "execution_count": 9,
   "metadata": {
    "execution": {
     "iopub.execute_input": "2021-02-21T17:17:48.578674Z",
     "iopub.status.busy": "2021-02-21T17:17:48.577061Z",
     "iopub.status.idle": "2021-02-21T17:17:48.591063Z",
     "shell.execute_reply": "2021-02-21T17:17:48.589749Z"
    },
    "papermill": {
     "duration": 0.037974,
     "end_time": "2021-02-21T17:17:48.591228",
     "exception": false,
     "start_time": "2021-02-21T17:17:48.553254",
     "status": "completed"
    },
    "tags": []
   },
   "outputs": [
    {
     "data": {
      "text/html": [
       "-0.0383447336744154"
      ],
      "text/latex": [
       "-0.0383447336744154"
      ],
      "text/markdown": [
       "-0.0383447336744154"
      ],
      "text/plain": [
       "[1] -0.03834473"
      ]
     },
     "metadata": {},
     "output_type": "display_data"
    }
   ],
   "source": [
    "mean(data_female$lwage)-mean(data_male$lwage)"
   ]
  },
  {
   "cell_type": "markdown",
   "metadata": {
    "papermill": {
     "duration": 0.022161,
     "end_time": "2021-02-21T17:17:48.635417",
     "exception": false,
     "start_time": "2021-02-21T17:17:48.613256",
     "status": "completed"
    },
    "tags": []
   },
   "source": [
    "Thus, the unconditional gender wage gap is about $3,8$\\% for the group of never married workers (women get paid less on average in our sample). We also observe that never married working women are relatively more educated than working men and have lower working experience."
   ]
  },
  {
   "cell_type": "markdown",
   "metadata": {
    "papermill": {
     "duration": 0.02073,
     "end_time": "2021-02-21T17:17:48.677447",
     "exception": false,
     "start_time": "2021-02-21T17:17:48.656717",
     "status": "completed"
    },
    "tags": []
   },
   "source": [
    "This unconditional (predictive) effect of gender equals the coefficient $\\beta$ in the univariate ols regression of $Y$ on $D$:\n",
    "\n",
    "\\begin{align}\n",
    "\\log(Y) &=\\beta D + \\epsilon.\n",
    "\\end{align}"
   ]
  },
  {
   "cell_type": "markdown",
   "metadata": {
    "papermill": {
     "duration": 0.020929,
     "end_time": "2021-02-21T17:17:48.718630",
     "exception": false,
     "start_time": "2021-02-21T17:17:48.697701",
     "status": "completed"
    },
    "tags": []
   },
   "source": [
    "We verify this by running an ols regression in R."
   ]
  },
  {
   "cell_type": "code",

   "metadata": {
    "execution": {
     "iopub.execute_input": "2021-02-21T17:17:48.766832Z",
     "iopub.status.busy": "2021-02-21T17:17:48.765704Z",
     "iopub.status.idle": "2021-02-21T17:17:48.946342Z",
     "shell.execute_reply": "2021-02-21T17:17:48.944941Z"
    },
    "papermill": {
     "duration": 0.205828,
     "end_time": "2021-02-21T17:17:48.946508",
     "exception": false,
     "start_time": "2021-02-21T17:17:48.740680",
     "status": "completed"
    },
    "tags": []
   },
   "outputs": [
    {
     "ename": "ERROR",

      "1. library(sandwich)"
     ]
    }
   ],
   "source": [
    "library(sandwich)\n",
    "nocontrol.fit <- lm(lwage ~ sex) \n",
    "nocontrol.est <- summary(nocontrol.fit)$coef[\"sex\",1]\n",
    "HCV.coefs <- vcovHC(nocontrol.fit, type = 'HC'); \n",
    "nocontrol.se <- sqrt(diag(HCV.coefs))[2] # Estimated std errors\n",
    "\n",
    "# print unconditional effect of gender and the corresponding standard error\n",
    "cat (\"The estimated gender coefficient is\",nocontrol.est,\" and the corresponding robust standard error is\",nocontrol.se) \n"
   ]
  },
  {
   "cell_type": "markdown",
   "metadata": {
    "papermill": {
     "duration": 0.02196,
     "end_time": "2021-02-21T17:17:48.991015",
     "exception": false,
     "start_time": "2021-02-21T17:17:48.969055",
     "status": "completed"
    },
    "tags": []
   },
   "source": [
    "Note that the standard error is computed with the *R* package *sandwich* to be robust to heteroskedasticity. \n"
   ]
  },
  {
   "cell_type": "markdown",
   "metadata": {
    "papermill": {
     "duration": 0.021605,
     "end_time": "2021-02-21T17:17:49.034485",
     "exception": false,
     "start_time": "2021-02-21T17:17:49.012880",
     "status": "completed"
    },
    "tags": []
   },
   "source": [
    "Next, we run an ols regression of $Y$ on $(D,W)$ to control for the effect of covariates summarized in $W$:\n",
    "\n",
    "\\begin{align}\n",
    "\\log(Y) &=\\beta_1 D  + \\beta_2' W + \\epsilon.\n",
    "\\end{align}\n",
    "\n",
    "Here, we are considering the flexible model from the previous lab. Hence, $W$ controls for experience, education, region, and occupation and industry indicators plus transformations and two-way interactions."
   ]
  },
  {
   "cell_type": "markdown",
   "metadata": {
    "papermill": {
     "duration": 0.021109,
     "end_time": "2021-02-21T17:17:49.076809",
     "exception": false,
     "start_time": "2021-02-21T17:17:49.055700",
     "status": "completed"
    },
    "tags": []
   },
   "source": [
    "Let us run the ols regression with controls."
   ]
  },
  {
   "cell_type": "code",
   "execution_count": 6,
   "metadata": {
    "execution": {
     "iopub.execute_input": "2021-02-21T17:17:49.124867Z",
     "iopub.status.busy": "2021-02-21T17:17:49.123217Z",
     "iopub.status.idle": "2021-02-21T17:17:49.792247Z",
     "shell.execute_reply": "2021-02-21T17:17:49.790841Z"
    },
    "papermill": {
     "duration": 0.694579,
     "end_time": "2021-02-21T17:17:49.792415",
     "exception": false,
     "start_time": "2021-02-21T17:17:49.097836",
     "status": "completed"
    },
    "tags": []
   },
   "outputs": [
    {
     "data": {
      "text/plain": [
       "\n",
       "Call:\n",
       "lm(formula = flex, data = data)\n",
       "\n",
       "Residuals:\n",
       "    Min      1Q  Median      3Q     Max \n",
       "-1.9384 -0.2782 -0.0041  0.2733  3.4934 \n",
       "\n",
       "Coefficients:\n",
       "              Estimate Std. Error t value Pr(>|t|)    \n",
       "(Intercept)  3.8602606  0.4286188   9.006  < 2e-16 ***\n",
       "sex         -0.0695532  0.0152180  -4.570 4.99e-06 ***\n",
       "exp1        -0.0677247  0.1519756  -0.446 0.655885    \n",
       "exp2         1.6362944  1.6909253   0.968 0.333246    \n",
       "exp3        -0.9154735  0.6880249  -1.331 0.183388    \n",
       "exp4         0.1429357  0.0907569   1.575 0.115337    \n",
       "shs         -0.1233089  0.9068325  -0.136 0.891845    \n",
       "hsg         -0.5289024  0.1977559  -2.675 0.007508 ** \n",
       "scl         -0.2920581  0.1260155  -2.318 0.020510 *  \n",
       "clg         -0.0411641  0.0703862  -0.585 0.558688    \n",
       "occ22        0.1613397  0.1297243   1.244 0.213665    \n",
       "occ23        0.2101514  0.1686774   1.246 0.212869    \n",
       "occ24        0.0708570  0.1837167   0.386 0.699746    \n",
       "occ25       -0.3960076  0.1885398  -2.100 0.035745 *  \n",
       "occ26       -0.2310611  0.1869662  -1.236 0.216576    \n",
       "occ27        0.3147249  0.1941519   1.621 0.105077    \n",
       "occ28       -0.1875417  0.1692988  -1.108 0.268022    \n",
       "occ29       -0.3390270  0.1672301  -2.027 0.042685 *  \n",
       "occ210       0.0209545  0.1564982   0.134 0.893490    \n",
       "occ211      -0.6424177  0.3090899  -2.078 0.037723 *  \n",
       "occ212      -0.0674774  0.2520486  -0.268 0.788929    \n",
       "occ213      -0.2329781  0.2315379  -1.006 0.314359    \n",
       "occ214       0.2562009  0.3226729   0.794 0.427236    \n",
       "occ215      -0.1938585  0.2595082  -0.747 0.455086    \n",
       "occ216      -0.0551256  0.1470658  -0.375 0.707798    \n",
       "occ217      -0.4156093  0.1361144  -3.053 0.002275 ** \n",
       "occ218      -0.4822168  1.0443540  -0.462 0.644290    \n",
       "occ219      -0.2579412  0.3325215  -0.776 0.437956    \n",
       "occ220      -0.3010203  0.2341022  -1.286 0.198556    \n",
       "occ221      -0.4271811  0.2206486  -1.936 0.052922 .  \n",
       "occ222      -0.8694527  0.2975222  -2.922 0.003490 ** \n",
       "ind23       -1.2473654  0.6454941  -1.932 0.053365 .  \n",
       "ind24       -0.0948281  0.4636021  -0.205 0.837935    \n",
       "ind25       -0.5293860  0.4345990  -1.218 0.223244    \n",
       "ind26       -0.6221688  0.4347226  -1.431 0.152441    \n",
       "ind27       -0.5047497  0.5024770  -1.005 0.315176    \n",
       "ind28       -0.7295442  0.4674008  -1.561 0.118623    \n",
       "ind29       -0.8025334  0.4252462  -1.887 0.059190 .  \n",
       "ind210      -0.5805840  0.4808776  -1.207 0.227358    \n",
       "ind211      -0.9852350  0.4481566  -2.198 0.027966 *  \n",
       "ind212      -0.7375777  0.4243260  -1.738 0.082232 .  \n",
       "ind213      -1.0183283  0.4826544  -2.110 0.034922 *  \n",
       "ind214      -0.5860174  0.4159033  -1.409 0.158892    \n",
       "ind215      -0.3801359  0.5908517  -0.643 0.520014    \n",
       "ind216      -0.5703905  0.4386579  -1.300 0.193556    \n",
       "ind217      -0.8201843  0.4259846  -1.925 0.054239 .  \n",
       "ind218      -0.7613604  0.4238287  -1.796 0.072495 .  \n",
       "ind219      -0.8812815  0.4565671  -1.930 0.053635 .  \n",
       "ind220      -0.9099021  0.4484198  -2.029 0.042499 *  \n",
       "ind221      -0.7586534  0.4405801  -1.722 0.085143 .  \n",
       "ind222      -0.4040775  0.4328735  -0.933 0.350620    \n",
       "mw           0.1106834  0.0814463   1.359 0.174218    \n",
       "so           0.0224244  0.0743855   0.301 0.763075    \n",
       "we          -0.0215659  0.0841591  -0.256 0.797767    \n",
       "exp1:shs    -0.1919981  0.1955408  -0.982 0.326206    \n",
       "exp1:hsg    -0.0173433  0.0572279  -0.303 0.761859    \n",
       "exp1:scl    -0.0664505  0.0433730  -1.532 0.125570    \n",
       "exp1:clg    -0.0550346  0.0310279  -1.774 0.076172 .  \n",
       "exp1:occ22  -0.0736239  0.0501108  -1.469 0.141837    \n",
       "exp1:occ23  -0.0714859  0.0637688  -1.121 0.262336    \n",
       "exp1:occ24  -0.0723997  0.0747715  -0.968 0.332953    \n",
       "exp1:occ25   0.0946732  0.0794005   1.192 0.233182    \n",
       "exp1:occ26  -0.0348928  0.0712136  -0.490 0.624175    \n",
       "exp1:occ27  -0.2279338  0.0784860  -2.904 0.003699 ** \n",
       "exp1:occ28  -0.0727459  0.0645883  -1.126 0.260094    \n",
       "exp1:occ29   0.0274143  0.0669517   0.409 0.682217    \n",
       "exp1:occ210  0.0075628  0.0581715   0.130 0.896564    \n",
       "exp1:occ211  0.1014221  0.1005094   1.009 0.312986    \n",
       "exp1:occ212 -0.0862744  0.0874768  -0.986 0.324057    \n",
       "exp1:occ213  0.0067149  0.0761825   0.088 0.929768    \n",
       "exp1:occ214 -0.1369153  0.0974458  -1.405 0.160073    \n",
       "exp1:occ215 -0.0400425  0.0898931  -0.445 0.656017    \n",
       "exp1:occ216 -0.0539314  0.0520926  -1.035 0.300580    \n",
       "exp1:occ217  0.0147277  0.0467903   0.315 0.752958    \n",
       "exp1:occ218  0.1074099  0.4718440   0.228 0.819937    \n",
       "exp1:occ219  0.0047165  0.1060745   0.044 0.964536    \n",
       "exp1:occ220  0.0243156  0.0743274   0.327 0.743575    \n",
       "exp1:occ221  0.0791776  0.0696947   1.136 0.255985    \n",
       "exp1:occ222  0.1093246  0.0880828   1.241 0.214607    \n",
       "exp1:ind23   0.4758891  0.2227484   2.136 0.032693 *  \n",
       "exp1:ind24   0.0147304  0.1571102   0.094 0.925305    \n",
       "exp1:ind25   0.1256987  0.1531626   0.821 0.411864    \n",
       "exp1:ind26   0.1540275  0.1524289   1.010 0.312312    \n",
       "exp1:ind27   0.1029245  0.1786939   0.576 0.564654    \n",
       "exp1:ind28   0.2357669  0.1689203   1.396 0.162859    \n",
       "exp1:ind29   0.1359079  0.1489486   0.912 0.361578    \n",
       "exp1:ind210  0.1512578  0.1644341   0.920 0.357687    \n",
       "exp1:ind211  0.3174885  0.1590023   1.997 0.045907 *  \n",
       "exp1:ind212  0.2591089  0.1510588   1.715 0.086356 .  \n",
       "exp1:ind213  0.3396094  0.1669241   2.035 0.041954 *  \n",
       "exp1:ind214  0.1441411  0.1477994   0.975 0.329485    \n",
       "exp1:ind215 -0.0568181  0.2349853  -0.242 0.808950    \n",
       "exp1:ind216  0.0847295  0.1550425   0.546 0.584753    \n",
       "exp1:ind217  0.1728867  0.1513280   1.142 0.253317    \n",
       "exp1:ind218  0.1565399  0.1494171   1.048 0.294842    \n",
       "exp1:ind219  0.1516103  0.1620851   0.935 0.349641    \n",
       "exp1:ind220  0.1326629  0.1566883   0.847 0.397222    \n",
       "exp1:ind221  0.2190905  0.1555052   1.409 0.158930    \n",
       "exp1:ind222  0.1145814  0.1523427   0.752 0.452010    \n",
       "exp1:mw     -0.0279931  0.0296572  -0.944 0.345274    \n",
       "exp1:so     -0.0099678  0.0266868  -0.374 0.708786    \n",
       "exp1:we      0.0063077  0.0301417   0.209 0.834248    \n",
       "exp2:shs     1.9005060  1.4502480   1.310 0.190098    \n",
       "exp2:hsg     0.1171642  0.5509729   0.213 0.831609    \n",
       "exp2:scl     0.6217923  0.4629986   1.343 0.179344    \n",
       "exp2:clg     0.4096746  0.3802171   1.077 0.281321    \n",
       "exp2:occ22   0.6632173  0.5523220   1.201 0.229895    \n",
       "exp2:occ23   0.6415456  0.7102783   0.903 0.366448    \n",
       "exp2:occ24   0.9748422  0.8655351   1.126 0.260099    \n",
       "exp2:occ25  -0.9778823  0.9737990  -1.004 0.315335    \n",
       "exp2:occ26   0.1050860  0.8002267   0.131 0.895527    \n",
       "exp2:occ27   3.1407119  0.9389423   3.345 0.000829 ***\n",
       "exp2:occ28   0.6710877  0.7192077   0.933 0.350818    \n",
       "exp2:occ29   0.0231977  0.7629142   0.030 0.975744    \n",
       "exp2:occ210 -0.2692292  0.6405270  -0.420 0.674267    \n",
       "exp2:occ211 -1.0816539  1.0057575  -1.075 0.282221    \n",
       "exp2:occ212  0.8323737  0.9341245   0.891 0.372933    \n",
       "exp2:occ213 -0.2209813  0.7728463  -0.286 0.774942    \n",
       "exp2:occ214  0.7511163  0.9272548   0.810 0.417955    \n",
       "exp2:occ215 -0.0326858  0.9409116  -0.035 0.972290    \n",
       "exp2:occ216  0.3635814  0.5509550   0.660 0.509342    \n",
       "exp2:occ217 -0.2659285  0.4861131  -0.547 0.584369    \n",
       "exp2:occ218 -2.5608762  5.1700911  -0.495 0.620393    \n",
       "exp2:occ219 -0.1291756  1.0616901  -0.122 0.903165    \n",
       "exp2:occ220 -0.3323297  0.7229071  -0.460 0.645743    \n",
       "exp2:occ221 -0.9099997  0.6854114  -1.328 0.184349    \n",
       "exp2:occ222 -0.8550536  0.8279414  -1.033 0.301773    \n",
       "exp2:ind23  -5.9368948  2.4067939  -2.467 0.013670 *  \n",
       "exp2:ind24  -1.1053411  1.7101982  -0.646 0.518100    \n",
       "exp2:ind25  -2.0149181  1.6919190  -1.191 0.233748    \n",
       "exp2:ind26  -2.2277748  1.6816902  -1.325 0.185325    \n",
       "exp2:ind27  -1.4648099  2.0137888  -0.727 0.467022    \n",
       "exp2:ind28  -2.9479949  1.8595425  -1.585 0.112955    \n",
       "exp2:ind29  -1.7796219  1.6471248  -1.080 0.279999    \n",
       "exp2:ind210 -2.1973300  1.7738638  -1.239 0.215507    \n",
       "exp2:ind211 -3.8776807  1.7637372  -2.199 0.027956 *  \n",
       "exp2:ind212 -3.1690425  1.6819362  -1.884 0.059602 .  \n",
       "exp2:ind213 -3.9651983  1.8130709  -2.187 0.028789 *  \n",
       "exp2:ind214 -2.0783289  1.6490355  -1.260 0.207610    \n",
       "exp2:ind215  0.1911692  2.6075396   0.073 0.941559    \n",
       "exp2:ind216 -1.3265850  1.7185648  -0.772 0.440202    \n",
       "exp2:ind217 -2.2002873  1.6837183  -1.307 0.191341    \n",
       "exp2:ind218 -2.2006232  1.6566630  -1.328 0.184125    \n",
       "exp2:ind219 -1.9308536  1.7876673  -1.080 0.280152    \n",
       "exp2:ind220 -1.9467267  1.7244008  -1.129 0.258983    \n",
       "exp2:ind221 -3.1127363  1.7237908  -1.806 0.071019 .  \n",
       "exp2:ind222 -1.8578340  1.6849542  -1.103 0.270254    \n",
       "exp2:mw      0.2005611  0.3172911   0.632 0.527348    \n",
       "exp2:so      0.0544354  0.2815662   0.193 0.846708    \n",
       "exp2:we      0.0012717  0.3207873   0.004 0.996837    \n",
       "exp3:shs    -0.6721239  0.4426627  -1.518 0.128987    \n",
       "exp3:hsg    -0.0179937  0.2083176  -0.086 0.931171    \n",
       "exp3:scl    -0.1997877  0.1855189  -1.077 0.281572    \n",
       "exp3:clg    -0.1025230  0.1643648  -0.624 0.532819    \n",
       "exp3:occ22  -0.2039403  0.2211386  -0.922 0.356455    \n",
       "exp3:occ23  -0.2369620  0.2870372  -0.826 0.409103    \n",
       "exp3:occ24  -0.4366958  0.3520168  -1.241 0.214830    \n",
       "exp3:occ25   0.3885298  0.4118861   0.943 0.345577    \n",
       "exp3:occ26   0.0484737  0.3293525   0.147 0.882997    \n",
       "exp3:occ27  -1.3949288  0.4050109  -3.444 0.000578 ***\n",
       "exp3:occ28  -0.2053899  0.2895727  -0.709 0.478181    \n",
       "exp3:occ29  -0.0909660  0.3143348  -0.289 0.772293    \n",
       "exp3:occ210  0.1854753  0.2575565   0.720 0.471477    \n",
       "exp3:occ211  0.3931553  0.3817758   1.030 0.303152    \n",
       "exp3:occ212 -0.2202559  0.3660206  -0.602 0.547363    \n",
       "exp3:occ213  0.0950356  0.2904370   0.327 0.743519    \n",
       "exp3:occ214 -0.1443933  0.3341622  -0.432 0.665684    \n",
       "exp3:occ215  0.1477077  0.3645191   0.405 0.685339    \n",
       "exp3:occ216 -0.0378548  0.2151288  -0.176 0.860330    \n",
       "exp3:occ217  0.1510497  0.1878081   0.804 0.421276    \n",
       "exp3:occ218  1.4084443  1.8852467   0.747 0.455047    \n",
       "exp3:occ219  0.0923425  0.4042308   0.228 0.819314    \n",
       "exp3:occ220  0.1806994  0.2652079   0.681 0.495682    \n",
       "exp3:occ221  0.3779083  0.2553031   1.480 0.138875    \n",
       "exp3:occ222  0.2855058  0.2984206   0.957 0.338754    \n",
       "exp3:ind23   2.6665808  0.9807497   2.719 0.006573 ** \n",
       "exp3:ind24   0.7298431  0.6879811   1.061 0.288811    \n",
       "exp3:ind25   0.9942250  0.6842435   1.453 0.146280    \n",
       "exp3:ind26   1.0641428  0.6800948   1.565 0.117718    \n",
       "exp3:ind27   0.7089089  0.8337963   0.850 0.395245    \n",
       "exp3:ind28   1.2340948  0.7483474   1.649 0.099193 .  \n",
       "exp3:ind29   0.8287315  0.6675904   1.241 0.214526    \n",
       "exp3:ind210  1.0448162  0.7066717   1.479 0.139337    \n",
       "exp3:ind211  1.6877578  0.7162155   2.356 0.018487 *  \n",
       "exp3:ind212  1.3734455  0.6835570   2.009 0.044564 *  \n",
       "exp3:ind213  1.6376669  0.7259301   2.256 0.024117 *  \n",
       "exp3:ind214  1.0162910  0.6714525   1.514 0.130199    \n",
       "exp3:ind215  0.1879483  1.0299675   0.182 0.855214    \n",
       "exp3:ind216  0.6889680  0.6968028   0.989 0.322831    \n",
       "exp3:ind217  1.0085540  0.6836992   1.475 0.140238    \n",
       "exp3:ind218  1.0605598  0.6725232   1.577 0.114863    \n",
       "exp3:ind219  0.8959865  0.7225602   1.240 0.215029    \n",
       "exp3:ind220  0.9768944  0.6955822   1.404 0.160255    \n",
       "exp3:ind221  1.4415215  0.6996480   2.060 0.039418 *  \n",
       "exp3:ind222  0.9687884  0.6828498   1.419 0.156037    \n",
       "exp3:mw     -0.0625771  0.1241291  -0.504 0.614194    \n",
       "exp3:so     -0.0115842  0.1084217  -0.107 0.914917    \n",
       "exp3:we     -0.0124875  0.1251376  -0.100 0.920515    \n",
       "exp4:shs     0.0777418  0.0475427   1.635 0.102071    \n",
       "exp4:hsg     0.0004913  0.0265964   0.018 0.985264    \n",
       "exp4:scl     0.0210760  0.0245289   0.859 0.390256    \n",
       "exp4:clg     0.0078695  0.0227528   0.346 0.729457    \n",
       "exp4:occ22   0.0176389  0.0289257   0.610 0.542021    \n",
       "exp4:occ23   0.0303057  0.0376552   0.805 0.420962    \n",
       "exp4:occ24   0.0584146  0.0457704   1.276 0.201927    \n",
       "exp4:occ25  -0.0515181  0.0549489  -0.938 0.348514    \n",
       "exp4:occ26  -0.0170182  0.0440847  -0.386 0.699488    \n",
       "exp4:occ27   0.1905353  0.0558757   3.410 0.000655 ***\n",
       "exp4:occ28   0.0196522  0.0379084   0.518 0.604195    \n",
       "exp4:occ29   0.0190014  0.0421099   0.451 0.651841    \n",
       "exp4:occ210 -0.0333347  0.0338825  -0.984 0.325246    \n",
       "exp4:occ211 -0.0465914  0.0479018  -0.973 0.330778    \n",
       "exp4:occ212  0.0110212  0.0470536   0.234 0.814820    \n",
       "exp4:occ213 -0.0136895  0.0358988  -0.381 0.702970    \n",
       "exp4:occ214  0.0055582  0.0400331   0.139 0.889581    \n",
       "exp4:occ215 -0.0327444  0.0462379  -0.708 0.478872    \n",
       "exp4:occ216 -0.0089706  0.0275729  -0.325 0.744937    \n",
       "exp4:occ217 -0.0256735  0.0239306  -1.073 0.283400    \n",
       "exp4:occ218 -0.2121372  0.2204003  -0.963 0.335841    \n",
       "exp4:occ219 -0.0169398  0.0513428  -0.330 0.741463    \n",
       "exp4:occ220 -0.0296125  0.0323353  -0.916 0.359819    \n",
       "exp4:occ221 -0.0524577  0.0317251  -1.654 0.098291 .  \n",
       "exp4:occ222 -0.0350646  0.0360687  -0.972 0.331018    \n",
       "exp4:ind23  -0.3851791  0.1329065  -2.898 0.003771 ** \n",
       "exp4:ind24  -0.1209478  0.0899580  -1.344 0.178852    \n",
       "exp4:ind25  -0.1441045  0.0897994  -1.605 0.108616    \n",
       "exp4:ind26  -0.1526110  0.0892689  -1.710 0.087410 .  \n",
       "exp4:ind27  -0.1001993  0.1119398  -0.895 0.370768    \n",
       "exp4:ind28  -0.1609664  0.0979780  -1.643 0.100471    \n",
       "exp4:ind29  -0.1178080  0.0877821  -1.342 0.179642    \n",
       "exp4:ind210 -0.1482842  0.0918416  -1.615 0.106469    \n",
       "exp4:ind211 -0.2322961  0.0944506  -2.459 0.013949 *  \n",
       "exp4:ind212 -0.1872911  0.0899985  -2.081 0.037481 *  \n",
       "exp4:ind213 -0.2155617  0.0946011  -2.279 0.022731 *  \n",
       "exp4:ind214 -0.1483524  0.0884992  -1.676 0.093740 .  \n",
       "exp4:ind215 -0.0532195  0.1313815  -0.405 0.685439    \n",
       "exp4:ind216 -0.1044336  0.0916252  -1.140 0.254429    \n",
       "exp4:ind217 -0.1427349  0.0899315  -1.587 0.112543    \n",
       "exp4:ind218 -0.1546248  0.0885883  -1.745 0.080973 .  \n",
       "exp4:ind219 -0.1269592  0.0948784  -1.338 0.180918    \n",
       "exp4:ind220 -0.1468554  0.0911188  -1.612 0.107094    \n",
       "exp4:ind221 -0.2032619  0.0920972  -2.207 0.027358 *  \n",
       "exp4:ind222 -0.1480951  0.0897937  -1.649 0.099154 .  \n",
       "exp4:mw      0.0062439  0.0158699   0.393 0.694007    \n",
       "exp4:so      0.0003145  0.0136275   0.023 0.981591    \n",
       "exp4:we      0.0017685  0.0159602   0.111 0.911776    \n",
       "---\n",
       "Signif. codes:  0 '***' 0.001 '**' 0.01 '*' 0.05 '.' 0.1 ' ' 1\n",
       "\n",
       "Residual standard error: 0.4708 on 4904 degrees of freedom\n",
       "Multiple R-squared:  0.3511,\tAdjusted R-squared:  0.3187 \n",
       "F-statistic: 10.83 on 245 and 4904 DF,  p-value: < 2.2e-16\n"
      ]
     },
     "metadata": {},
     "output_type": "display_data"
    },
    {
     "name": "stdout",
     "output_type": "stream",
     "text": [
      "Coefficient for OLS with controls -0.0695532"
     ]
    }
   ],
   "source": [
    "# Ols regression with controls\n",
    "\n",
    "flex <- lwage ~ sex + (exp1+exp2+exp3+exp4)*(shs+hsg+scl+clg+occ2+ind2+mw+so+we)\n",
    "\n",
    "#   Note that ()*() operation in formula objects in R creates a formula of the sort:\n",
    "#  (exp1+exp2+exp3+exp4)+ (shs+hsg+scl+clg+occ2+ind2+mw+so+we) +  (exp1+exp2+exp3+exp4)*(shs+hsg+scl+clg+occ2+ind2+mw+so+we)\n",
    "#  This is not intuitive at all, but that's what it does.\n",
    "\n",
    "control.fit <- lm(flex, data=data)\n",
    "control.est <- summary(control.fit)$coef[2,1] #acceso a sontro.fit a travez de summary \n",
    "\n",
    "summary(control.fit)\n",
    "\n",
    "cat(\"Coefficient for OLS with controls\", control.est)\n",
    "\n",
    "HCV.coefs <- vcovHC(control.fit, type = 'HC'); #HC=matriz de heterocedasticidad\n",
    "control.se <- sqrt(diag(HCV.coefs))[2] # Estimated std errors"
   ]
  },
  {
   "cell_type": "markdown",
   "metadata": {
    "papermill": {
     "duration": 0.040523,
     "end_time": "2021-02-21T17:17:49.873210",
     "exception": false,
     "start_time": "2021-02-21T17:17:49.832687",
     "status": "completed"
    },
    "tags": []
   },
   "source": [
    "The estimated regression coefficient $\\beta_1\\approx-0.0696$ measures how our linear prediction of wage changes if we set the gender variable $D$ from 0 to 1, holding the controls $W$ fixed.\n",
    "We can call this the *predictive effect* (PE), as it measures the impact of a variable on the prediction we make. Overall, we see that the unconditional wage gap of size $4$\\% for women increases to about $7$\\% after controlling for worker characteristics.  \n",
    "\n"
   ]
  },
  {
   "cell_type": "markdown",
   "metadata": {
    "papermill": {
     "duration": 0.023222,
     "end_time": "2021-02-21T17:17:49.931749",
     "exception": false,
     "start_time": "2021-02-21T17:17:49.908527",
     "status": "completed"
    },
    "tags": []
   },
   "source": [
    "Next, we are using the Frisch-Waugh-Lovell theorem from the lecture partialling-out the linear effect of the controls via ols."
   ]
  },
  {
   "cell_type": "code",
   "execution_count": 7,
   "metadata": {
    "execution": {
     "iopub.execute_input": "2021-02-21T17:17:49.985297Z",
     "iopub.status.busy": "2021-02-21T17:17:49.983529Z",
     "iopub.status.idle": "2021-02-21T17:17:50.409345Z",
     "shell.execute_reply": "2021-02-21T17:17:50.407916Z"
    },
    "papermill": {
     "duration": 0.454504,
     "end_time": "2021-02-21T17:17:50.409522",
     "exception": false,
     "start_time": "2021-02-21T17:17:49.955018",
     "status": "completed"
    },
    "tags": []
   },
   "outputs": [
    {
     "name": "stdout",
     "output_type": "stream",
     "text": [
      "Coefficient for D via partialling-out -0.0695532"
     ]
    },
    {
     "data": {
      "text/html": [
       "<style>\n",
       ".dl-inline {width: auto; margin:0; padding: 0}\n",
       ".dl-inline>dt, .dl-inline>dd {float: none; width: auto; display: inline-block}\n",
       ".dl-inline>dt::after {content: \":\\0020\"; padding-right: .5ex}\n",
       ".dl-inline>dt:not(:first-of-type) {padding-left: .5ex}\n",
       "</style><dl class=dl-inline><dt>2.5 %</dt><dd>-0.0986714235748636</dd><dt>97.5 %</dt><dd>-0.0404349830188294</dd></dl>\n"
      ],
      "text/latex": [
       "\\begin{description*}\n",
       "\\item[2.5 \\textbackslash{}\\%] -0.0986714235748636\n",
       "\\item[97.5 \\textbackslash{}\\%] -0.0404349830188294\n",
       "\\end{description*}\n"
      ],
      "text/markdown": [
       "2.5 %\n",
       ":   -0.098671423574863697.5 %\n",
       ":   -0.0404349830188294\n",
       "\n"
      ],
      "text/plain": [
       "      2.5 %      97.5 % \n",
       "-0.09867142 -0.04043498 "
      ]
     },
     "metadata": {},
     "output_type": "display_data"
    }
   ],
   "source": [
    "# Partialling-Out using ols\n",
    "\n",
    "# models\n",
    "flex.y <- lwage ~  (exp1+exp2+exp3+exp4)*(shs+hsg+scl+clg+occ2+ind2+mw+so+we) # model for Y\n",
    "flex.d <- sex ~ (exp1+exp2+exp3+exp4)*(shs+hsg+scl+clg+occ2+ind2+mw+so+we) # model for D\n",
    "\n",
    "# partialling-out the linear effect of W from Y\n",
    "t.Y <- lm(flex.y, data=data)$res \n",
    "# partialling-out the linear effect of W from D\n",
    "t.D <- lm(flex.d, data=data)$res\n",
    "\n",
    "# regression of Y on D after partialling-out the effect of W\n",
    "partial.fit <- lm(t.Y~t.D)\n",
    "partial.est <- summary(partial.fit)$coef[2,1] #$coef accede al coeficiente y guardalo\n",
    "\n",
    "cat(\"Coefficient for D via partialling-out\", partial.est)\n",
    "\n",
    "# standard error\n",
    "HCV.coefs <- vcovHC(partial.fit, type = 'HC')\n",
    "partial.se <- sqrt(diag(HCV.coefs))[2]\n",
    "\n",
    "# confidence interval\n",
    "confint(partial.fit)[2,]"
   ]
  },
  {
   "cell_type": "markdown",
   "metadata": {
    "papermill": {
     "duration": 0.023907,
     "end_time": "2021-02-21T17:17:50.458203",
     "exception": false,
     "start_time": "2021-02-21T17:17:50.434296",
     "status": "completed"
    },
    "tags": []
   },
   "source": [
    "Again, the estimated coefficient measures the linear predictive effect (PE) of $D$ on $Y$ after taking out the linear effect of $W$ on both of these variables. This coefficient equals the estimated coefficient from the ols regression with controls."
   ]
  },
  {
   "cell_type": "markdown",
   "metadata": {
    "papermill": {
     "duration": 0.024507,
     "end_time": "2021-02-21T17:17:50.507023",
     "exception": false,
     "start_time": "2021-02-21T17:17:50.482516",
     "status": "completed"
    },
    "tags": []
   },
   "source": [
    "We know that the partialling-out approach works well when the dimension of $W$ is low\n",
    "in relation to the sample size $n$. When the dimension of $W$ is relatively high, we need to use variable selection\n",
    "or penalization for regularization purposes. \n",
    "\n",
    "In the following, we illustrate the partialling-out approach using lasso instead of ols. "
   ]
  },
  {
   "cell_type": "code",
   "execution_count": 8,
   "metadata": {
    "execution": {
     "iopub.execute_input": "2021-02-21T17:17:50.561840Z",
     "iopub.status.busy": "2021-02-21T17:17:50.560145Z",
     "iopub.status.idle": "2021-02-21T17:17:54.256853Z",
     "shell.execute_reply": "2021-02-21T17:17:54.253326Z"
    },
    "papermill": {
     "duration": 3.725295,
     "end_time": "2021-02-21T17:17:54.257078",
     "exception": false,
     "start_time": "2021-02-21T17:17:50.531783",
     "status": "completed"
    },
    "tags": []
   },
   "outputs": [
    {
     "name": "stdout",
     "output_type": "stream",
     "text": [
      "Coefficient for D via partialling-out using lasso -0.07193551"
     ]
    }
   ],
   "source": [
    "# Partialling-Out using lasso\n",
    "\n",
    "library(hdm)\n",
    "\n",
    "# models\n",
    "flex.y <- lwage ~  (exp1+exp2+exp3+exp4)*(shs+hsg+scl+clg+occ2+ind2+mw+so+we) # model for Y\n",
    "flex.d <- sex ~ (exp1+exp2+exp3+exp4)*(shs+hsg+scl+clg+occ2+ind2+mw+so+we) # model for D\n",
    "\n",
    "# partialling-out the linear effect of W from Y\n",
    "t.Y <- rlasso(flex.y, data=data)$res\n",
    "# partialling-out the linear effect of W from D\n",
    "t.D <- rlasso(flex.d, data=data)$res\n",
    "\n",
    "# regression of Y on D after partialling-out the effect of W\n",
    "partial.lasso.fit <- lm(t.Y~t.D)\n",
    "partial.lasso.est <- summary(partial.lasso.fit)$coef[2,1]\n",
    "\n",
    "cat(\"Coefficient for D via partialling-out using lasso\", partial.lasso.est)\n",
    "\n",
    "# standard error\n",
    "HCV.coefs <- vcovHC(partial.lasso.fit, type = 'HC')\n",
    "partial.lasso.se <- sqrt(diag(HCV.coefs))[2]"
   ]
  },
  {
   "cell_type": "markdown",
   "metadata": {
    "papermill": {
     "duration": 0.024318,
     "end_time": "2021-02-21T17:17:54.320082",
     "exception": false,
     "start_time": "2021-02-21T17:17:54.295764",
     "status": "completed"
    },
    "tags": []
   },
   "source": [
    "Using lasso for partialling-out here provides similar results as using ols."
   ]
  },
  {
   "cell_type": "markdown",
   "metadata": {
    "papermill": {
     "duration": 0.024337,
     "end_time": "2021-02-21T17:17:54.368605",
     "exception": false,
     "start_time": "2021-02-21T17:17:54.344268",
     "status": "completed"
    },
    "tags": []
   },
   "source": [
    "Next, we summarize the results."
   ]
  },
  {
   "cell_type": "code",
   "execution_count": 9,
   "metadata": {
    "execution": {
     "iopub.execute_input": "2021-02-21T17:17:54.423027Z",
     "iopub.status.busy": "2021-02-21T17:17:54.422073Z",
     "iopub.status.idle": "2021-02-21T17:17:54.458426Z",
     "shell.execute_reply": "2021-02-21T17:17:54.456968Z"
    },
    "papermill": {
     "duration": 0.064967,
     "end_time": "2021-02-21T17:17:54.458569",
     "exception": false,
     "start_time": "2021-02-21T17:17:54.393602",
     "status": "completed"
    },
    "tags": []
   },
   "outputs": [
    {
     "data": {
      "text/html": [
       "<table class=\"dataframe\">\n",
       "<caption>A xtable: 4 × 2</caption>\n",
       "<thead>\n",
       "\t<tr><th></th><th scope=col>Estimate</th><th scope=col>Std. Error</th></tr>\n",
       "\t<tr><th></th><th scope=col>&lt;dbl&gt;</th><th scope=col>&lt;dbl&gt;</th></tr>\n",
       "</thead>\n",
       "<tbody>\n",
       "\t<tr><th scope=row>Without controls</th><td>-0.03834473</td><td>0.01590194</td></tr>\n",
       "\t<tr><th scope=row>full reg</th><td>-0.06955320</td><td>0.01500047</td></tr>\n",
       "\t<tr><th scope=row>partial reg</th><td>-0.06955320</td><td>0.01500047</td></tr>\n",
       "\t<tr><th scope=row>partial reg via lasso</th><td>-0.07193551</td><td>0.01539102</td></tr>\n",
       "</tbody>\n",
       "</table>\n"
      ],
      "text/latex": [
       "A xtable: 4 × 2\n",
       "\\begin{tabular}{r|ll}\n",
       "  & Estimate & Std. Error\\\\\n",
       "  & <dbl> & <dbl>\\\\\n",
       "\\hline\n",
       "\tWithout controls & -0.03834473 & 0.01590194\\\\\n",
       "\tfull reg & -0.06955320 & 0.01500047\\\\\n",
       "\tpartial reg & -0.06955320 & 0.01500047\\\\\n",
       "\tpartial reg via lasso & -0.07193551 & 0.01539102\\\\\n",
       "\\end{tabular}\n"
      ],
      "text/markdown": [
       "\n",
       "A xtable: 4 × 2\n",
       "\n",
       "| <!--/--> | Estimate &lt;dbl&gt; | Std. Error &lt;dbl&gt; |\n",
       "|---|---|---|\n",
       "| Without controls | -0.03834473 | 0.01590194 |\n",
       "| full reg | -0.06955320 | 0.01500047 |\n",
       "| partial reg | -0.06955320 | 0.01500047 |\n",
       "| partial reg via lasso | -0.07193551 | 0.01539102 |\n",
       "\n"
      ],
      "text/plain": [
       "                      Estimate    Std. Error\n",
       "Without controls      -0.03834473 0.01590194\n",
       "full reg              -0.06955320 0.01500047\n",
       "partial reg           -0.06955320 0.01500047\n",
       "partial reg via lasso -0.07193551 0.01539102"
      ]
     },
     "metadata": {},
     "output_type": "display_data"
    }
   ],
   "source": [
    "table<- matrix(0, 4, 2)\n",
    "table[1,1]<- nocontrol.est  \n",
    "table[1,2]<- nocontrol.se   \n",
    "table[2,1]<- control.est\n",
    "table[2,2]<- control.se    \n",
    "table[3,1]<- partial.est  \n",
    "table[3,2]<- partial.se  \n",
    "table[4,1]<-  partial.lasso.est\n",
    "table[4,2]<- partial.lasso.se \n",
    "colnames(table)<- c(\"Estimate\",\"Std. Error\")\n",
    "rownames(table)<- c(\"Without controls\", \"full reg\", \"partial reg\", \"partial reg via lasso\")\t\n",
    "tab<- xtable(table, digits=c(3, 3, 4))\n",
    "tab"
   ]
  },
  {
   "cell_type": "code",
   "execution_count": 10,
   "metadata": {
    "execution": {
     "iopub.execute_input": "2021-02-21T17:17:54.513692Z",
     "iopub.status.busy": "2021-02-21T17:17:54.511988Z",
     "iopub.status.idle": "2021-02-21T17:17:54.528106Z",
     "shell.execute_reply": "2021-02-21T17:17:54.526677Z"
    },
    "papermill": {
     "duration": 0.044599,
     "end_time": "2021-02-21T17:17:54.528256",
     "exception": false,
     "start_time": "2021-02-21T17:17:54.483657",
     "status": "completed"
    },
    "tags": []
   },
   "outputs": [
    {
     "name": "stdout",
     "output_type": "stream",
     "text": [
      "<!-- html table generated in R 3.6.3 by xtable 1.8-4 package -->\n",
      "<!-- Sun Feb 21 17:17:54 2021 -->\n",
      "<table border=1>\n",
      "<tr> <th>  </th> <th> Estimate </th> <th> Std. Error </th>  </tr>\n",
      "  <tr> <td align=\"right\"> Without controls </td> <td align=\"right\"> -0.038 </td> <td align=\"right\"> 0.0159 </td> </tr>\n",
      "  <tr> <td align=\"right\"> full reg </td> <td align=\"right\"> -0.070 </td> <td align=\"right\"> 0.0150 </td> </tr>\n",
      "  <tr> <td align=\"right\"> partial reg </td> <td align=\"right\"> -0.070 </td> <td align=\"right\"> 0.0150 </td> </tr>\n",
      "  <tr> <td align=\"right\"> partial reg via lasso </td> <td align=\"right\"> -0.072 </td> <td align=\"right\"> 0.0154 </td> </tr>\n",
      "   </table>\n"
     ]
    }
   ],
   "source": [
    "print(tab, type=\"html\")"
   ]
  },
  {
   "cell_type": "markdown",
   "metadata": {
    "papermill": {
     "duration": 0.025712,
     "end_time": "2021-02-21T17:17:54.579623",
     "exception": false,
     "start_time": "2021-02-21T17:17:54.553911",
     "status": "completed"
    },
    "tags": []
   },
   "source": [
    "<!-- html table generated in R 3.6.3 by xtable 1.8-4 package -->\n",
    "<!-- Mon Jan 18 11:56:24 2021 -->\n",
    "<table border=1>\n",
    "<tr> <th>  </th> <th> Estimate </th> <th> Std. Error </th>  </tr>\n",
    "  <tr> <td align=\"right\"> Without controls </td> <td align=\"right\"> -0.038 </td> <td align=\"right\"> 0.0159 </td> </tr>\n",
    "  <tr> <td align=\"right\"> full reg </td> <td align=\"right\"> -0.070 </td> <td align=\"right\"> 0.0150 </td> </tr>\n",
    "  <tr> <td align=\"right\"> partial reg </td> <td align=\"right\"> -0.070 </td> <td align=\"right\"> 0.0150 </td> </tr>\n",
    "  <tr> <td align=\"right\"> partial reg via lasso </td> <td align=\"right\"> -0.072 </td> <td align=\"right\"> 0.0154 </td> </tr>\n",
    "   </table>\n"
   ]
  },
  {
   "cell_type": "markdown",
   "metadata": {
    "papermill": {
     "duration": 0.025264,
     "end_time": "2021-02-21T17:17:54.631146",
     "exception": false,
     "start_time": "2021-02-21T17:17:54.605882",
     "status": "completed"
    },
    "tags": []
   },
   "source": [
    "It it worth to notice that controlling for worker characteristics increases the gender wage gap from less that 4\\% to 7\\%. The controls we used in our analysis include 5 educational attainment indicators (less than high school graduates, high school graduates, some college, college graduate, and advanced degree), 4 region indicators (midwest, south, west, and northeast);  a quartic term (first, second, third, and fourth power) in experience and 22 occupation and 23 industry indicators.\n",
    "\n",
    "Keep in mind that the predictive effect (PE) does not only measures discrimination (causal effect of being female), it also may reflect\n",
    "selection effects of unobserved differences in covariates between men and women in our sample.\n"
   ]
  },
  {
   "cell_type": "markdown",
   "metadata": {
    "papermill": {
     "duration": 0.025752,
     "end_time": "2021-02-21T17:17:54.682415",
     "exception": false,
     "start_time": "2021-02-21T17:17:54.656663",
     "status": "completed"
    },
    "tags": []
   },
   "source": [
    "Next we try \"extra\" flexible model, where we take interactions of all controls, giving us about 1000 controls."
   ]
  },
  {
   "cell_type": "code",
   "execution_count": 11,
   "metadata": {
    "execution": {
     "iopub.execute_input": "2021-02-21T17:17:54.739845Z",
     "iopub.status.busy": "2021-02-21T17:17:54.738234Z",
     "iopub.status.idle": "2021-02-21T17:18:01.410371Z",
     "shell.execute_reply": "2021-02-21T17:18:01.408677Z"
    },
    "papermill": {
     "duration": 6.702636,
     "end_time": "2021-02-21T17:18:01.410656",
     "exception": false,
     "start_time": "2021-02-21T17:17:54.708020",
     "status": "completed"
    },
    "tags": []
   },
   "outputs": [
    {
     "name": "stdout",
     "output_type": "stream",
     "text": [
      "Number of Extra-Flex Controls 979 \n",
      "Coefficient for OLS with extra flex controls -0.06127046"
     ]
    }
   ],
   "source": [
    "\n",
    "extraflex <- lwage ~ sex + (exp1+exp2+exp3+exp4+shs+hsg+scl+clg+occ2+ind2+mw+so+we)^2\n",
    "\n",
    "control.fit <- lm(extraflex, data=data)\n",
    "#summary(control.fit)\n",
    "control.est <- summary(control.fit)$coef[2,1]\n",
    "\n",
    "\n",
    "cat(\"Number of Extra-Flex Controls\", length(control.fit$coef)-1, \"\\n\")\n",
    "\n",
    "\n",
    "cat(\"Coefficient for OLS with extra flex controls\", control.est)\n",
    "\n",
    "\n",
    "#summary(control.fit)\n",
    "\n",
    "\n",
    "\n",
    "HCV.coefs <- vcovHC(control.fit, type = 'HC');\n",
    "\n",
    "n= length(wage); p =length(control.fit$coef);\n",
    "\n",
    "control.se <- sqrt(diag(HCV.coefs))[2]*sqrt(n/(n-p)) # Estimated std errors\n",
    "\n",
    "# crude adjustment for the effect of dimensionality on OLS standard errors, motivated by Cattaneo, Jannson, and Newey (2018)\n",
    "\n",
    "# for really correct way of doing this, we need to implement Cattaneo, Jannson, and Newey (2018)'s procedure."
   ]
  },
  {
   "cell_type": "code",
   "execution_count": 12,
   "metadata": {
    "execution": {
     "iopub.execute_input": "2021-02-21T17:18:01.511913Z",
     "iopub.status.busy": "2021-02-21T17:18:01.509795Z",
     "iopub.status.idle": "2021-02-21T17:18:37.487612Z",
     "shell.execute_reply": "2021-02-21T17:18:37.487973Z"
    },
    "papermill": {
     "duration": 36.030011,
     "end_time": "2021-02-21T17:18:37.488187",
     "exception": false,
     "start_time": "2021-02-21T17:18:01.458176",
     "status": "completed"
    },
    "tags": []
   },
   "outputs": [
    {
     "name": "stdout",
     "output_type": "stream",
     "text": [
      "Coefficient for D via partialling-out using lasso -0.07159928"
     ]
    }
   ],
   "source": [
    "library(hdm)\n",
    "\n",
    "# models\n",
    "extraflex.y <- lwage ~  (exp1+exp2+exp3+exp4+shs+hsg+scl+clg+occ2+ind2+mw+so+we)^2 # model for Y\n",
    "extraflex.d <- sex ~ (exp1+exp2+exp3+exp4+shs+hsg+scl+clg+occ2+ind2+mw+so+we)^2 # model for D\n",
    "\n",
    "# partialling-out the linear effect of W from Y\n",
    "t.Y <- rlasso(extraflex.y, data=data)$res\n",
    "# partialling-out the linear effect of W from D\n",
    "t.D <- rlasso(extraflex.d, data=data)$res\n",
    "\n",
    "# regression of Y on D after partialling-out the effect of W\n",
    "partial.lasso.fit <- lm(t.Y~t.D)\n",
    "partial.lasso.est <- summary(partial.lasso.fit)$coef[2,1]\n",
    "\n",
    "cat(\"Coefficient for D via partialling-out using lasso\", partial.lasso.est)\n",
    "\n",
    "# standard error\n",
    "HCV.coefs <- vcovHC(partial.lasso.fit, type = 'HC')\n",
    "partial.lasso.se <- sqrt(diag(HCV.coefs))[2]"
   ]
  },
  {
   "cell_type": "code",
   "execution_count": 13,
   "metadata": {
    "execution": {
     "iopub.execute_input": "2021-02-21T17:18:37.550321Z",
     "iopub.status.busy": "2021-02-21T17:18:37.549160Z",
     "iopub.status.idle": "2021-02-21T17:18:37.584465Z",
     "shell.execute_reply": "2021-02-21T17:18:37.583359Z"
    },
    "papermill": {
     "duration": 0.0678,
     "end_time": "2021-02-21T17:18:37.584711",
     "exception": false,
     "start_time": "2021-02-21T17:18:37.516911",
     "status": "completed"
    },
    "tags": []
   },
   "outputs": [
    {
     "data": {
      "text/html": [
       "<table class=\"dataframe\">\n",
       "<caption>A xtable: 2 × 2</caption>\n",
       "<thead>\n",
       "\t<tr><th></th><th scope=col>Estimate</th><th scope=col>Std. Error</th></tr>\n",
       "\t<tr><th></th><th scope=col>&lt;dbl&gt;</th><th scope=col>&lt;dbl&gt;</th></tr>\n",
       "</thead>\n",
       "<tbody>\n",
       "\t<tr><th scope=row>full reg</th><td>-0.06127046</td><td>0.01689962</td></tr>\n",
       "\t<tr><th scope=row>partial reg via lasso</th><td>-0.07159928</td><td>0.01526396</td></tr>\n",
       "</tbody>\n",
       "</table>\n"
      ],
      "text/latex": [
       "A xtable: 2 × 2\n",
       "\\begin{tabular}{r|ll}\n",
       "  & Estimate & Std. Error\\\\\n",
       "  & <dbl> & <dbl>\\\\\n",
       "\\hline\n",
       "\tfull reg & -0.06127046 & 0.01689962\\\\\n",
       "\tpartial reg via lasso & -0.07159928 & 0.01526396\\\\\n",
       "\\end{tabular}\n"
      ],
      "text/markdown": [
       "\n",
       "A xtable: 2 × 2\n",
       "\n",
       "| <!--/--> | Estimate &lt;dbl&gt; | Std. Error &lt;dbl&gt; |\n",
       "|---|---|---|\n",
       "| full reg | -0.06127046 | 0.01689962 |\n",
       "| partial reg via lasso | -0.07159928 | 0.01526396 |\n",
       "\n"
      ],
      "text/plain": [
       "                      Estimate    Std. Error\n",
       "full reg              -0.06127046 0.01689962\n",
       "partial reg via lasso -0.07159928 0.01526396"
      ]
     },
     "metadata": {},
     "output_type": "display_data"
    },
    {
     "name": "stdout",
     "output_type": "stream",
     "text": [
      "% latex table generated in R 3.6.3 by xtable 1.8-4 package\n",
      "% Sun Feb 21 17:18:37 2021\n",
      "\\begin{table}[ht]\n",
      "\\centering\n",
      "\\begin{tabular}{rrr}\n",
      "  \\hline\n",
      " & Estimate & Std. Error \\\\ \n",
      "  \\hline\n",
      "full reg & -0.061 & 0.0169 \\\\ \n",
      "  partial reg via lasso & -0.072 & 0.0153 \\\\ \n",
      "   \\hline\n",
      "\\end{tabular}\n",
      "\\end{table}\n"
     ]
    }
   ],
   "source": [
    "table<- matrix(0, 2, 2)\n",
    "table[1,1]<- control.est\n",
    "table[1,2]<- control.se    \n",
    "table[2,1]<-  partial.lasso.est\n",
    "table[2,2]<- partial.lasso.se \n",
    "colnames(table)<- c(\"Estimate\",\"Std. Error\")\n",
    "rownames(table)<- c(\"full reg\",\"partial reg via lasso\")\t\n",
    "tab<- xtable(table, digits=c(3, 3, 4))\n",
    "tab\n",
    "\n",
    "print(tab, type=\"latex\")"
   ]
  },
  {
   "cell_type": "markdown",
   "metadata": {
    "papermill": {
     "duration": 0.028526,
     "end_time": "2021-02-21T17:18:37.643002",
     "exception": false,
     "start_time": "2021-02-21T17:18:37.614476",
     "status": "completed"
    },
    "tags": []
   },
   "source": [
    "In this case p/n = 20%, that is $p/n$ is no longer small and we start seeing the differences between\n",
    "unregularized partialling out and regularized partialling out with lasso (double lasso).  The results based on \n",
    "double lasso have rigorous guarantees in this non-small p/n regime under approximate sparsity. The results based on OLS still\n",
    "have guarantees in p/n< 1 regime under assumptions laid out in Cattaneo, Newey, and Jansson (2018), without approximate\n",
    "sparsity, although other regularity conditions are needed.\n"
   ]
  },
  {
   "cell_type": "markdown",
   "metadata": {
    "papermill": {
     "duration": 0.028689,
     "end_time": "2021-02-21T17:18:37.699906",
     "exception": false,
     "start_time": "2021-02-21T17:18:37.671217",
     "status": "completed"
    },
    "tags": []
   },
   "source": [
    "\n"
   ]
  }
 ],
 "metadata": {
  "kernelspec": {
   "display_name": "R",
   "language": "R",
   "name": "ir"
  },
  "language_info": {
   "codemirror_mode": "r",
   "file_extension": ".r",
   "mimetype": "text/x-r-source",
   "name": "R",
   "pygments_lexer": "r",

  },
  "papermill": {
   "default_parameters": {},
   "duration": 53.035585,
   "end_time": "2021-02-21T17:18:37.837719",
   "environment_variables": {},
   "exception": null,
   "input_path": "__notebook__.ipynb",
   "output_path": "__notebook__.ipynb",
   "parameters": {},
   "start_time": "2021-02-21T17:17:44.802134",
   "version": "2.2.2"
  }
 },
 "nbformat": 4,
 "nbformat_minor": 4
}
