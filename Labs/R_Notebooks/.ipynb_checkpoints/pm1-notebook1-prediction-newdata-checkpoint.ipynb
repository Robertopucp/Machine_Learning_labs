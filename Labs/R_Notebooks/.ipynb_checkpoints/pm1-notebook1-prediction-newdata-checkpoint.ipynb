{
 "cells": [
  {
   "cell_type": "markdown",
   "metadata": {
    "papermill": {
     "duration": 0.021109,
     "end_time": "2021-02-18T19:28:30.070970",
     "exception": false,
     "start_time": "2021-02-18T19:28:30.049861",
     "status": "completed"
    },
    "tags": []
   },
   "source": [
    "This notebook contains an example for teaching."
   ]
  },
  {
   "cell_type": "markdown",
   "metadata": {
    "papermill": {
     "duration": 0.019635,
     "end_time": "2021-02-18T19:28:30.110372",
     "exception": false,
     "start_time": "2021-02-18T19:28:30.090737",
     "status": "completed"
    },
    "tags": []
   },
   "source": [
    "## Introduction"
   ]
  },
  {
   "cell_type": "markdown",
   "metadata": {
    "papermill": {
     "duration": 0.019506,
     "end_time": "2021-02-18T19:28:30.149474",
     "exception": false,
     "start_time": "2021-02-18T19:28:30.129968",
     "status": "completed"
    },
    "tags": []
   },
   "source": [
    "In labor economics an important question is what determines the wage of workers. This is a causal question,\n",
    "but we could begin to investigate from a predictive perspective.\n",
    "\n",
    "In the following wage example, $Y$ is the hourly wage of a worker and $X$ is a vector of worker's characteristics, e.g., education, experience, gender. Two main questions here are:\n",
    "\n",
    "\n",
    "* How to use job-relevant characteristics, such as education and experience, to best predict wages?\n",
    "\n",
    "* What is the difference in predicted wages between men and women with the same job-relevant characteristics?\n",
    "\n",
    "In this lab, we focus on the prediction question first."
   ]
  },
  {
   "cell_type": "markdown",
   "metadata": {
    "papermill": {
     "duration": 0.019453,
     "end_time": "2021-02-18T19:28:30.188193",
     "exception": false,
     "start_time": "2021-02-18T19:28:30.168740",
     "status": "completed"
    },
    "tags": []
   },
   "source": [
    "## Data\n"
   ]
  },
  {
   "cell_type": "markdown",
   "metadata": {
    "papermill": {
     "duration": 0.019763,
     "end_time": "2021-02-18T19:28:30.227671",
     "exception": false,
     "start_time": "2021-02-18T19:28:30.207908",
     "status": "completed"
    },
    "tags": []
   },
   "source": [
    "The data set we consider is from the March Supplement of the U.S. Current Population Survey, year 2015.  We select white non-hispanic individuals, aged 25 to 64 years, and working more than 35 hours per week during at least 50 weeks of the year. We exclude self-employed workers; individuals living in group quarters; individuals in the military, agricultural or private household sectors;  individuals with inconsistent reports on earnings and employment status; individuals with allocated or missing information in any of the variables used in the analysis; and individuals with hourly wage below $3$. \n",
    "\n",
    "The variable of interest $Y$ is the hourly wage rate constructed as the ratio of the annual earnings to the total number of hours worked, which is constructed in turn as the product of number of weeks worked and the usual number of hours worked per week. In our analysis, we also focus on single (never married) workers. The final sample is of size $n=5150$."
   ]
  },
  {
   "cell_type": "markdown",
   "metadata": {
    "papermill": {
     "duration": 0.019808,
     "end_time": "2021-02-18T19:28:30.267083",
     "exception": false,
     "start_time": "2021-02-18T19:28:30.247275",
     "status": "completed"
    },
    "tags": []
   },
   "source": [
    "## Data analysis"
   ]
  },
  {
   "cell_type": "markdown",
   "metadata": {
    "papermill": {
     "duration": 0.01983,
     "end_time": "2021-02-18T19:28:30.307189",
     "exception": false,
     "start_time": "2021-02-18T19:28:30.287359",
     "status": "completed"
    },
    "tags": []
   },
   "source": [
    "We start by loading the data set."
   ]
  },
  {
   "cell_type": "code",
   "execution_count": 154,
   "metadata": {
    "execution": {
     "iopub.execute_input": "2021-02-18T19:28:30.379027Z",
     "iopub.status.busy": "2021-02-18T19:28:30.377044Z",
     "iopub.status.idle": "2021-02-18T19:28:30.530766Z",
     "shell.execute_reply": "2021-02-18T19:28:30.529551Z"
    },
    "papermill": {
     "duration": 0.203333,
     "end_time": "2021-02-18T19:28:30.530976",
     "exception": false,
     "start_time": "2021-02-18T19:28:30.327643",
     "status": "completed"
    },
    "tags": []
   },
   "outputs": [
    {
     "data": {
      "text/html": [
       "<style>\n",
       ".list-inline {list-style: none; margin:0; padding: 0}\n",
       ".list-inline>li {display: inline-block}\n",
       ".list-inline>li:not(:last-child)::after {content: \"\\00b7\"; padding: 0 .5ex}\n",
       "</style>\n",
       "<ol class=list-inline><li>5150</li><li>20</li></ol>\n"
      ],
      "text/latex": [
       "\\begin{enumerate*}\n",
       "\\item 5150\n",
       "\\item 20\n",
       "\\end{enumerate*}\n"
      ],
      "text/markdown": [
       "1. 5150\n",
       "2. 20\n",
       "\n",
       "\n"
      ],
      "text/plain": [
       "[1] 5150   20"
      ]
     },
     "metadata": {},
     "output_type": "display_data"
    }
   ],
   "source": [
    "load(\"wage2015_subsample_inference.Rdata\")\n",
    "dim(data)"
   ]
  },
  {
   "cell_type": "markdown",
   "metadata": {
    "papermill": {
     "duration": 0.020252,
     "end_time": "2021-02-18T19:28:30.572283",
     "exception": false,
     "start_time": "2021-02-18T19:28:30.552031",
     "status": "completed"
    },
    "tags": []
   },
   "source": [
    "Let's have a look at the structure of the data."
   ]
  },
  {
   "cell_type": "code",
   "execution_count": 155,
   "metadata": {
    "execution": {
     "iopub.execute_input": "2021-02-18T19:28:30.645548Z",
     "iopub.status.busy": "2021-02-18T19:28:30.617027Z",
     "iopub.status.idle": "2021-02-18T19:28:30.673965Z",
     "shell.execute_reply": "2021-02-18T19:28:30.672544Z"
    },
    "papermill": {
     "duration": 0.081196,
     "end_time": "2021-02-18T19:28:30.674153",
     "exception": false,
     "start_time": "2021-02-18T19:28:30.592957",
     "status": "completed"
    },
    "tags": []
   },
   "outputs": [
    {
     "name": "stdout",
     "output_type": "stream",
     "text": [
      "'data.frame':\t5150 obs. of  20 variables:\n",
      " $ wage : num  9.62 48.08 11.06 13.94 28.85 ...\n",
      " $ lwage: num  2.26 3.87 2.4 2.63 3.36 ...\n",
      " $ sex  : num  1 0 0 1 1 1 1 0 1 1 ...\n",
      " $ shs  : num  0 0 0 0 0 0 0 0 0 0 ...\n",
      " $ hsg  : num  0 0 1 0 0 0 1 1 1 0 ...\n",
      " $ scl  : num  0 0 0 0 0 0 0 0 0 0 ...\n",
      " $ clg  : num  1 1 0 0 1 1 0 0 0 1 ...\n",
      " $ ad   : num  0 0 0 1 0 0 0 0 0 0 ...\n",
      " $ mw   : num  0 0 0 0 0 0 0 0 0 0 ...\n",
      " $ so   : num  0 0 0 0 0 0 0 0 0 0 ...\n",
      " $ we   : num  0 0 0 0 0 0 0 0 0 0 ...\n",
      " $ ne   : num  1 1 1 1 1 1 1 1 1 1 ...\n",
      " $ exp1 : num  7 31 18 25 22 1 42 37 31 4 ...\n",
      " $ exp2 : num  0.49 9.61 3.24 6.25 4.84 ...\n",
      " $ exp3 : num  0.343 29.791 5.832 15.625 10.648 ...\n",
      " $ exp4 : num  0.24 92.35 10.5 39.06 23.43 ...\n",
      " $ occ  : Factor w/ 369 levels \"10\",\"20\",\"40\",..: 159 136 269 23 99 86 226 232 184 146 ...\n",
      " $ occ2 : Factor w/ 22 levels \"1\",\"2\",\"3\",\"4\",..: 11 10 19 1 6 5 17 17 13 10 ...\n",
      " $ ind  : Factor w/ 236 levels \"370\",\"380\",\"390\",..: 204 117 12 165 231 176 171 135 210 201 ...\n",
      " $ ind2 : Factor w/ 21 levels \"2\",\"3\",\"4\",\"5\",..: 17 8 3 11 21 13 13 8 18 17 ...\n"
     ]
    }
   ],
   "source": [
    "str(data)"
   ]
  },
  {
   "cell_type": "markdown",
   "metadata": {
    "papermill": {
     "duration": 0.020964,
     "end_time": "2021-02-18T19:28:30.716250",
     "exception": false,
     "start_time": "2021-02-18T19:28:30.695286",
     "status": "completed"
    },
    "tags": []
   },
   "source": [
    "We are constructing the output variable $Y$ and the matrix $Z$ which includes the characteristics of workers that are given in the data."
   ]
  },
  {
   "cell_type": "code",
   "execution_count": 156,
   "metadata": {
    "execution": {
     "iopub.execute_input": "2021-02-18T19:28:30.768255Z",
     "iopub.status.busy": "2021-02-18T19:28:30.766636Z",
     "iopub.status.idle": "2021-02-18T19:28:30.791641Z",
     "shell.execute_reply": "2021-02-18T19:28:30.790356Z"
    },
    "papermill": {
     "duration": 0.054288,
     "end_time": "2021-02-18T19:28:30.791792",
     "exception": false,
     "start_time": "2021-02-18T19:28:30.737504",
     "status": "completed"
    },
    "tags": []
   },
   "outputs": [
    {
     "name": "stdout",
     "output_type": "stream",
     "text": [
      "Number of observation: 5150 \n",
      "Number of raw regressors: 18"
     ]
    }
   ],
   "source": [
    "Y <- log(data$wage)\n",
    "n <- length(Y)\n",
    "Z <- data[-which(colnames(data) %in% c(\"wage\",\"lwage\"))]\n",
    "p <- dim(Z)[2]\n",
    "\n",
    "cat(\"Number of observation:\", n, '\\n')\n",
    "cat( \"Number of raw regressors:\", p)"
   ]
  },
  {
   "cell_type": "markdown",
   "metadata": {
    "papermill": {
     "duration": 0.023423,
     "end_time": "2021-02-18T19:28:30.838653",
     "exception": false,
     "start_time": "2021-02-18T19:28:30.815230",
     "status": "completed"
    },
    "tags": []
   },
   "source": [
    "For the outcome variable *wage* and a subset of the raw regressors, we calculate the empirical mean to get familiar with the data."
   ]
  },
  {
   "cell_type": "code",
   "execution_count": 157,
   "metadata": {
    "execution": {
     "iopub.execute_input": "2021-02-18T19:28:30.888961Z",
     "iopub.status.busy": "2021-02-18T19:28:30.887455Z",
     "iopub.status.idle": "2021-02-18T19:28:30.944048Z",
     "shell.execute_reply": "2021-02-18T19:28:30.942461Z"
    },
    "papermill": {
     "duration": 0.082765,
     "end_time": "2021-02-18T19:28:30.944279",
     "exception": false,
     "start_time": "2021-02-18T19:28:30.861514",
     "status": "completed"
    },
    "tags": []
   },
   "outputs": [
    {
     "data": {
      "text/html": [
       "<table class=\"dataframe\">\n",
       "<caption>A xtable: 12 × 1</caption>\n",
       "<thead>\n",
       "\t<tr><th></th><th scope=col>Sample mean</th></tr>\n",
       "\t<tr><th></th><th scope=col>&lt;dbl&gt;</th></tr>\n",
       "</thead>\n",
       "<tbody>\n",
       "\t<tr><th scope=row>Log Wage</th><td> 2.97078670</td></tr>\n",
       "\t<tr><th scope=row>Sex</th><td> 0.44446602</td></tr>\n",
       "\t<tr><th scope=row>Some High School</th><td> 0.02330097</td></tr>\n",
       "\t<tr><th scope=row>High School Graduate</th><td> 0.24388350</td></tr>\n",
       "\t<tr><th scope=row>Some College</th><td> 0.27805825</td></tr>\n",
       "\t<tr><th scope=row>College Graduate</th><td> 0.31766990</td></tr>\n",
       "\t<tr><th scope=row>Advanced Degree</th><td> 0.13708738</td></tr>\n",
       "\t<tr><th scope=row>Midwest</th><td> 0.25961165</td></tr>\n",
       "\t<tr><th scope=row>South</th><td> 0.29650485</td></tr>\n",
       "\t<tr><th scope=row>West</th><td> 0.21611650</td></tr>\n",
       "\t<tr><th scope=row>Northeast</th><td> 0.22776699</td></tr>\n",
       "\t<tr><th scope=row>Experience</th><td>13.76058252</td></tr>\n",
       "</tbody>\n",
       "</table>\n"
      ],
      "text/latex": [
       "A xtable: 12 × 1\n",
       "\\begin{tabular}{r|l}\n",
       "  & Sample mean\\\\\n",
       "  & <dbl>\\\\\n",
       "\\hline\n",
       "\tLog Wage &  2.97078670\\\\\n",
       "\tSex &  0.44446602\\\\\n",
       "\tSome High School &  0.02330097\\\\\n",
       "\tHigh School Graduate &  0.24388350\\\\\n",
       "\tSome College &  0.27805825\\\\\n",
       "\tCollege Graduate &  0.31766990\\\\\n",
       "\tAdvanced Degree &  0.13708738\\\\\n",
       "\tMidwest &  0.25961165\\\\\n",
       "\tSouth &  0.29650485\\\\\n",
       "\tWest &  0.21611650\\\\\n",
       "\tNortheast &  0.22776699\\\\\n",
       "\tExperience & 13.76058252\\\\\n",
       "\\end{tabular}\n"
      ],
      "text/markdown": [
       "\n",
       "A xtable: 12 × 1\n",
       "\n",
       "| <!--/--> | Sample mean &lt;dbl&gt; |\n",
       "|---|---|\n",
       "| Log Wage |  2.97078670 |\n",
       "| Sex |  0.44446602 |\n",
       "| Some High School |  0.02330097 |\n",
       "| High School Graduate |  0.24388350 |\n",
       "| Some College |  0.27805825 |\n",
       "| College Graduate |  0.31766990 |\n",
       "| Advanced Degree |  0.13708738 |\n",
       "| Midwest |  0.25961165 |\n",
       "| South |  0.29650485 |\n",
       "| West |  0.21611650 |\n",
       "| Northeast |  0.22776699 |\n",
       "| Experience | 13.76058252 |\n",
       "\n"
      ],
      "text/plain": [
       "                     Sample mean\n",
       "Log Wage              2.97078670\n",
       "Sex                   0.44446602\n",
       "Some High School      0.02330097\n",
       "High School Graduate  0.24388350\n",
       "Some College          0.27805825\n",
       "College Graduate      0.31766990\n",
       "Advanced Degree       0.13708738\n",
       "Midwest               0.25961165\n",
       "South                 0.29650485\n",
       "West                  0.21611650\n",
       "Northeast             0.22776699\n",
       "Experience           13.76058252"
      ]
     },
     "metadata": {},
     "output_type": "display_data"
    }
   ],
   "source": [
    "library(xtable)\n",
    "Z_subset <- data[which(colnames(data) %in% c(\"lwage\",\"sex\",\"shs\",\"hsg\",\"scl\",\"clg\",\"ad\",\"mw\",\"so\",\"we\",\"ne\",\"exp1\"))]\n",
    "table <- matrix(0, 12, 1)\n",
    "table[1:12,1]   <- as.numeric(lapply(Z_subset,mean))\n",
    "rownames(table) <- c(\"Log Wage\",\"Sex\",\"Some High School\",\"High School Graduate\",\"Some College\",\"College Graduate\", \"Advanced Degree\",\"Midwest\",\"South\",\"West\",\"Northeast\",\"Experience\")\n",
    "colnames(table) <- c(\"Sample mean\")\n",
    "tab<- xtable(table, digits = 2)\n",
    "tab"
   ]
  },
  {
   "cell_type": "markdown",
   "metadata": {
    "papermill": {
     "duration": 0.022899,
     "end_time": "2021-02-18T19:28:30.992023",
     "exception": false,
     "start_time": "2021-02-18T19:28:30.969124",
     "status": "completed"
    },
    "tags": []
   },
   "source": [
    "E.g., the share of female workers in our sample is ~44% ($sex=1$ if female)."
   ]
  },
  {
   "cell_type": "markdown",
   "metadata": {
    "papermill": {
     "duration": 0.022996,
     "end_time": "2021-02-18T19:28:31.038176",
     "exception": false,
     "start_time": "2021-02-18T19:28:31.015180",
     "status": "completed"
    },
    "tags": []
   },
   "source": [
    "Alternatively, we can also print the table as latex."
   ]
  },
  {
   "cell_type": "code",
   "execution_count": 158,
   "metadata": {
    "execution": {
     "iopub.execute_input": "2021-02-18T19:28:31.089264Z",
     "iopub.status.busy": "2021-02-18T19:28:31.087626Z",
     "iopub.status.idle": "2021-02-18T19:28:31.107384Z",
     "shell.execute_reply": "2021-02-18T19:28:31.105746Z"
    },
    "papermill": {
     "duration": 0.046315,
     "end_time": "2021-02-18T19:28:31.107521",
     "exception": false,
     "start_time": "2021-02-18T19:28:31.061206",
     "status": "completed"
    },
    "tags": []
   },
   "outputs": [
    {
     "name": "stdout",
     "output_type": "stream",
     "text": [
      "% latex table generated in R 4.0.4 by xtable 1.8-4 package\n",
      "% Sun Mar 07 23:11:00 2021\n",
      "\\begin{table}[ht]\n",
      "\\centering\n",
      "\\begin{tabular}{rr}\n",
      "  \\hline\n",
      " & Sample mean \\\\ \n",
      "  \\hline\n",
      "Log Wage & 2.97 \\\\ \n",
      "  Sex & 0.44 \\\\ \n",
      "  Some High School & 0.02 \\\\ \n",
      "  High School Graduate & 0.24 \\\\ \n",
      "  Some College & 0.28 \\\\ \n",
      "  College Graduate & 0.32 \\\\ \n",
      "  Advanced Degree & 0.14 \\\\ \n",
      "  Midwest & 0.26 \\\\ \n",
      "  South & 0.30 \\\\ \n",
      "  West & 0.22 \\\\ \n",
      "  Northeast & 0.23 \\\\ \n",
      "  Experience & 13.76 \\\\ \n",
      "   \\hline\n",
      "\\end{tabular}\n",
      "\\end{table}\n"
     ]
    }
   ],
   "source": [
    "print(tab, type=\"latex\")"
   ]
  },
  {
   "cell_type": "markdown",
   "metadata": {
    "papermill": {
     "duration": 0.022601,
     "end_time": "2021-02-18T19:28:31.153542",
     "exception": false,
     "start_time": "2021-02-18T19:28:31.130941",
     "status": "completed"
    },
    "tags": []
   },
   "source": [
    "## Prediction Question"
   ]
  },
  {
   "cell_type": "markdown",
   "metadata": {
    "papermill": {
     "duration": 0.022653,
     "end_time": "2021-02-18T19:28:31.199257",
     "exception": false,
     "start_time": "2021-02-18T19:28:31.176604",
     "status": "completed"
    },
    "tags": []
   },
   "source": [
    "Now, we will construct a prediction rule for hourly wage $Y$, which depends linearly on job-relevant characteristics $X$:\n",
    "\n",
    "\\begin{equation}\\label{decompose}\n",
    "Y = \\beta'X+ \\epsilon.\n",
    "\\end{equation}"
   ]
  },
  {
   "cell_type": "markdown",
   "metadata": {
    "papermill": {
     "duration": 0.022687,
     "end_time": "2021-02-18T19:28:31.244814",
     "exception": false,
     "start_time": "2021-02-18T19:28:31.222127",
     "status": "completed"
    },
    "tags": []
   },
   "source": [
    "Our goals are\n",
    "\n",
    "* Predict wages  using various characteristics of workers.\n",
    "\n",
    "* Assess the predictive performance using the (adjusted) sample MSE, the (adjusted) sample $R^2$ and the out-of-sample MSE and $R^2$.\n",
    "\n",
    "\n",
    "We employ two different specifications for prediction:\n",
    "\n",
    "\n",
    "1. Basic Model:   $X$ consists of a set of raw regressors (e.g. gender, experience, education indicators,  occupation and industry indicators, regional indicators).\n",
    "\n",
    "\n",
    "2. Flexible Model:  $X$ consists of all raw regressors from the basic model plus occupation and industry indicators, transformations (e.g., ${exp}^2$ and ${exp}^3$) and additional two-way interactions of polynomial in experience with other regressors. An example of a regressor created through a two-way interaction is *experience* times the indicator of having a *college degree*.\n",
    "\n",
    "Using the **Flexible Model**, enables us to approximate the real relationship by a\n",
    " more complex regression model and therefore to reduce the bias. The **Flexible Model** increases the range of potential shapes of the estimated regression function. In general, flexible models often deliver good prediction accuracy but give models which are harder to interpret."
   ]
  },
  {
   "cell_type": "markdown",
   "metadata": {
    "papermill": {
     "duration": 0.022935,
     "end_time": "2021-02-18T19:28:31.290982",
     "exception": false,
     "start_time": "2021-02-18T19:28:31.268047",
     "status": "completed"
    },
    "tags": []
   },
   "source": [
    "Now, let us fit both models to our data by running ordinary least squares (ols):"
   ]
  },
  {
   "cell_type": "code",
   "execution_count": 159,
   "metadata": {
    "execution": {
     "iopub.execute_input": "2021-02-18T19:28:31.342746Z",
     "iopub.status.busy": "2021-02-18T19:28:31.341092Z",
     "iopub.status.idle": "2021-02-18T19:28:31.384766Z",
     "shell.execute_reply": "2021-02-18T19:28:31.383207Z"
    },
    "papermill": {
     "duration": 0.070584,
     "end_time": "2021-02-18T19:28:31.384945",
     "exception": false,
     "start_time": "2021-02-18T19:28:31.314361",
     "status": "completed"
    },
    "tags": []
   },
   "outputs": [
    {
     "data": {
      "text/plain": [
       "\n",
       "Call:\n",
       "lm(formula = basic, data = data)\n",
       "\n",
       "Coefficients:\n",
       "(Intercept)          sex         exp1          shs          hsg          scl  \n",
       "   3.722235    -0.072857     0.008568    -0.592798    -0.504337    -0.411994  \n",
       "        clg           mw           so           we        occ22        occ23  \n",
       "  -0.182216    -0.027541    -0.034454     0.017249    -0.076472    -0.034678  \n",
       "      occ24        occ25        occ26        occ27        occ28        occ29  \n",
       "  -0.096202    -0.187915    -0.414933    -0.045987    -0.377847    -0.215752  \n",
       "     occ210       occ211       occ212       occ213       occ214       occ215  \n",
       "  -0.010623    -0.455834    -0.307589    -0.361440    -0.499495    -0.464482  \n",
       "     occ216       occ217       occ218       occ219       occ220       occ221  \n",
       "  -0.233715    -0.412588    -0.340418    -0.241480    -0.212628    -0.288413  \n",
       "     occ222        ind23        ind24        ind25        ind26        ind27  \n",
       "  -0.422394    -0.116836    -0.244493    -0.273533    -0.249368    -0.139588  \n",
       "      ind28        ind29       ind210       ind211       ind212       ind213  \n",
       "  -0.242948    -0.387485    -0.193851    -0.169063    -0.077436    -0.172604  \n",
       "     ind214       ind215       ind216       ind217       ind218       ind219  \n",
       "  -0.187005    -0.325364    -0.315399    -0.304405    -0.335386    -0.374121  \n",
       "     ind220       ind221       ind222  \n",
       "  -0.551932    -0.316679    -0.118971  \n"
      ]
     },
     "metadata": {},
     "output_type": "display_data"
    },
    {
     "name": "stdout",
     "output_type": "stream",
     "text": [
      "Number of regressors in the basic model: 51 \n"
     ]
    }
   ],
   "source": [
    "# 1. basic model\n",
    "basic <- lwage~ (sex + exp1 + shs + hsg+ scl + clg + mw + so + we +occ2+ind2)\n",
    "regbasic <- lm(basic, data=data)\n",
    "regbasic # estimated coefficients\n",
    "cat( \"Number of regressors in the basic model:\",length(regbasic$coef), '\\n') # number of regressors in the Basic Model\n"
   ]
  },
  {
   "cell_type": "markdown",
   "metadata": {
    "papermill": {
     "duration": 0.023845,
     "end_time": "2021-02-18T19:28:31.433272",
     "exception": false,
     "start_time": "2021-02-18T19:28:31.409427",
     "status": "completed"
    },
    "tags": []
   },
   "source": [
    "##### Note that the basic model consists of $51$ regressors."
   ]
  },
  {
   "cell_type": "code",
   "execution_count": 160,
   "metadata": {
    "execution": {
     "iopub.execute_input": "2021-02-18T19:28:31.486360Z",
     "iopub.status.busy": "2021-02-18T19:28:31.484753Z",
     "iopub.status.idle": "2021-02-18T19:28:31.666629Z",
     "shell.execute_reply": "2021-02-18T19:28:31.665355Z"
    },
    "papermill": {
     "duration": 0.209505,
     "end_time": "2021-02-18T19:28:31.666828",
     "exception": false,
     "start_time": "2021-02-18T19:28:31.457323",
     "status": "completed"
    },
    "tags": []
   },
   "outputs": [
    {
     "data": {
      "text/plain": [
       "\n",
       "Call:\n",
       "lm(formula = flex, data = data)\n",
       "\n",
       "Coefficients:\n",
       "(Intercept)          sex          shs          hsg          scl          clg  \n",
       "  3.8602606   -0.0695532   -0.1233089   -0.5289024   -0.2920581   -0.0411641  \n",
       "      occ22        occ23        occ24        occ25        occ26        occ27  \n",
       "  0.1613397    0.2101514    0.0708570   -0.3960076   -0.2310611    0.3147249  \n",
       "      occ28        occ29       occ210       occ211       occ212       occ213  \n",
       " -0.1875417   -0.3390270    0.0209545   -0.6424177   -0.0674774   -0.2329781  \n",
       "     occ214       occ215       occ216       occ217       occ218       occ219  \n",
       "  0.2562009   -0.1938585   -0.0551256   -0.4156093   -0.4822168   -0.2579412  \n",
       "     occ220       occ221       occ222        ind23        ind24        ind25  \n",
       " -0.3010203   -0.4271811   -0.8694527   -1.2473654   -0.0948281   -0.5293860  \n",
       "      ind26        ind27        ind28        ind29       ind210       ind211  \n",
       " -0.6221688   -0.5047497   -0.7295442   -0.8025334   -0.5805840   -0.9852350  \n",
       "     ind212       ind213       ind214       ind215       ind216       ind217  \n",
       " -0.7375777   -1.0183283   -0.5860174   -0.3801359   -0.5703905   -0.8201843  \n",
       "     ind218       ind219       ind220       ind221       ind222           mw  \n",
       " -0.7613604   -0.8812815   -0.9099021   -0.7586534   -0.4040775    0.1106834  \n",
       "         so           we         exp1         exp2         exp3         exp4  \n",
       "  0.0224244   -0.0215659   -0.0677247    1.6362944   -0.9154735    0.1429357  \n",
       "   shs:exp1     hsg:exp1     scl:exp1     clg:exp1   occ22:exp1   occ23:exp1  \n",
       " -0.1919981   -0.0173433   -0.0664505   -0.0550346   -0.0736239   -0.0714859  \n",
       " occ24:exp1   occ25:exp1   occ26:exp1   occ27:exp1   occ28:exp1   occ29:exp1  \n",
       " -0.0723997    0.0946732   -0.0348928   -0.2279338   -0.0727459    0.0274143  \n",
       "occ210:exp1  occ211:exp1  occ212:exp1  occ213:exp1  occ214:exp1  occ215:exp1  \n",
       "  0.0075628    0.1014221   -0.0862744    0.0067149   -0.1369153   -0.0400425  \n",
       "occ216:exp1  occ217:exp1  occ218:exp1  occ219:exp1  occ220:exp1  occ221:exp1  \n",
       " -0.0539314    0.0147277    0.1074099    0.0047165    0.0243156    0.0791776  \n",
       "occ222:exp1   ind23:exp1   ind24:exp1   ind25:exp1   ind26:exp1   ind27:exp1  \n",
       "  0.1093246    0.4758891    0.0147304    0.1256987    0.1540275    0.1029245  \n",
       " ind28:exp1   ind29:exp1  ind210:exp1  ind211:exp1  ind212:exp1  ind213:exp1  \n",
       "  0.2357669    0.1359079    0.1512578    0.3174885    0.2591089    0.3396094  \n",
       "ind214:exp1  ind215:exp1  ind216:exp1  ind217:exp1  ind218:exp1  ind219:exp1  \n",
       "  0.1441411   -0.0568181    0.0847295    0.1728867    0.1565399    0.1516103  \n",
       "ind220:exp1  ind221:exp1  ind222:exp1      mw:exp1      so:exp1      we:exp1  \n",
       "  0.1326629    0.2190905    0.1145814   -0.0279931   -0.0099678    0.0063077  \n",
       "   shs:exp2     hsg:exp2     scl:exp2     clg:exp2   occ22:exp2   occ23:exp2  \n",
       "  1.9005060    0.1171642    0.6217923    0.4096746    0.6632173    0.6415456  \n",
       " occ24:exp2   occ25:exp2   occ26:exp2   occ27:exp2   occ28:exp2   occ29:exp2  \n",
       "  0.9748422   -0.9778823    0.1050860    3.1407119    0.6710877    0.0231977  \n",
       "occ210:exp2  occ211:exp2  occ212:exp2  occ213:exp2  occ214:exp2  occ215:exp2  \n",
       " -0.2692292   -1.0816539    0.8323737   -0.2209813    0.7511163   -0.0326858  \n",
       "occ216:exp2  occ217:exp2  occ218:exp2  occ219:exp2  occ220:exp2  occ221:exp2  \n",
       "  0.3635814   -0.2659285   -2.5608762   -0.1291756   -0.3323297   -0.9099997  \n",
       "occ222:exp2   ind23:exp2   ind24:exp2   ind25:exp2   ind26:exp2   ind27:exp2  \n",
       " -0.8550536   -5.9368948   -1.1053411   -2.0149181   -2.2277748   -1.4648099  \n",
       " ind28:exp2   ind29:exp2  ind210:exp2  ind211:exp2  ind212:exp2  ind213:exp2  \n",
       " -2.9479949   -1.7796219   -2.1973300   -3.8776807   -3.1690425   -3.9651983  \n",
       "ind214:exp2  ind215:exp2  ind216:exp2  ind217:exp2  ind218:exp2  ind219:exp2  \n",
       " -2.0783289    0.1911692   -1.3265850   -2.2002873   -2.2006232   -1.9308536  \n",
       "ind220:exp2  ind221:exp2  ind222:exp2      mw:exp2      so:exp2      we:exp2  \n",
       " -1.9467267   -3.1127363   -1.8578340    0.2005611    0.0544354    0.0012717  \n",
       "   shs:exp3     hsg:exp3     scl:exp3     clg:exp3   occ22:exp3   occ23:exp3  \n",
       " -0.6721239   -0.0179937   -0.1997877   -0.1025230   -0.2039403   -0.2369620  \n",
       " occ24:exp3   occ25:exp3   occ26:exp3   occ27:exp3   occ28:exp3   occ29:exp3  \n",
       " -0.4366958    0.3885298    0.0484737   -1.3949288   -0.2053899   -0.0909660  \n",
       "occ210:exp3  occ211:exp3  occ212:exp3  occ213:exp3  occ214:exp3  occ215:exp3  \n",
       "  0.1854753    0.3931553   -0.2202559    0.0950356   -0.1443933    0.1477077  \n",
       "occ216:exp3  occ217:exp3  occ218:exp3  occ219:exp3  occ220:exp3  occ221:exp3  \n",
       " -0.0378548    0.1510497    1.4084443    0.0923425    0.1806994    0.3779083  \n",
       "occ222:exp3   ind23:exp3   ind24:exp3   ind25:exp3   ind26:exp3   ind27:exp3  \n",
       "  0.2855058    2.6665808    0.7298431    0.9942250    1.0641428    0.7089089  \n",
       " ind28:exp3   ind29:exp3  ind210:exp3  ind211:exp3  ind212:exp3  ind213:exp3  \n",
       "  1.2340948    0.8287315    1.0448162    1.6877578    1.3734455    1.6376669  \n",
       "ind214:exp3  ind215:exp3  ind216:exp3  ind217:exp3  ind218:exp3  ind219:exp3  \n",
       "  1.0162910    0.1879483    0.6889680    1.0085540    1.0605598    0.8959865  \n",
       "ind220:exp3  ind221:exp3  ind222:exp3      mw:exp3      so:exp3      we:exp3  \n",
       "  0.9768944    1.4415215    0.9687884   -0.0625771   -0.0115842   -0.0124875  \n",
       "   shs:exp4     hsg:exp4     scl:exp4     clg:exp4   occ22:exp4   occ23:exp4  \n",
       "  0.0777418    0.0004913    0.0210760    0.0078695    0.0176389    0.0303057  \n",
       " occ24:exp4   occ25:exp4   occ26:exp4   occ27:exp4   occ28:exp4   occ29:exp4  \n",
       "  0.0584146   -0.0515181   -0.0170182    0.1905353    0.0196522    0.0190014  \n",
       "occ210:exp4  occ211:exp4  occ212:exp4  occ213:exp4  occ214:exp4  occ215:exp4  \n",
       " -0.0333347   -0.0465914    0.0110212   -0.0136895    0.0055582   -0.0327444  \n",
       "occ216:exp4  occ217:exp4  occ218:exp4  occ219:exp4  occ220:exp4  occ221:exp4  \n",
       " -0.0089706   -0.0256735   -0.2121372   -0.0169398   -0.0296125   -0.0524577  \n",
       "occ222:exp4   ind23:exp4   ind24:exp4   ind25:exp4   ind26:exp4   ind27:exp4  \n",
       " -0.0350646   -0.3851791   -0.1209478   -0.1441045   -0.1526110   -0.1001993  \n",
       " ind28:exp4   ind29:exp4  ind210:exp4  ind211:exp4  ind212:exp4  ind213:exp4  \n",
       " -0.1609664   -0.1178080   -0.1482842   -0.2322961   -0.1872911   -0.2155617  \n",
       "ind214:exp4  ind215:exp4  ind216:exp4  ind217:exp4  ind218:exp4  ind219:exp4  \n",
       " -0.1483524   -0.0532195   -0.1044336   -0.1427349   -0.1546248   -0.1269592  \n",
       "ind220:exp4  ind221:exp4  ind222:exp4      mw:exp4      so:exp4      we:exp4  \n",
       " -0.1468554   -0.2032619   -0.1480951    0.0062439    0.0003145    0.0017685  \n"
      ]
     },
     "metadata": {},
     "output_type": "display_data"
    },
    {
     "name": "stdout",
     "output_type": "stream",
     "text": [
      "Number of regressors in the flexible model: 246"
     ]
    }
   ],
   "source": [
    "# 2. flexible model\n",
    "flex <- lwage ~ sex + shs+hsg+scl+clg+occ2+ind2+mw+so+we + (exp1+exp2+exp3+exp4)*(shs+hsg+scl+clg+occ2+ind2+mw+so+we)\n",
    "regflex <- lm(flex, data=data)\n",
    "regflex # estimated coefficients\n",
    "cat( \"Number of regressors in the flexible model:\",length(regflex$coef)) # number of regressors in the Flexible Model"
   ]
  },
  {
   "cell_type": "markdown",
   "metadata": {
    "papermill": {
     "duration": 0.024845,
     "end_time": "2021-02-18T19:28:31.717639",
     "exception": false,
     "start_time": "2021-02-18T19:28:31.692794",
     "status": "completed"
    },
    "tags": []
   },
   "source": [
    "Note that the flexible model consists of $246$ regressors."
   ]
  },
  {
   "cell_type": "markdown",
   "metadata": {
    "papermill": {
     "duration": 0.024777,
     "end_time": "2021-02-18T19:28:31.767579",
     "exception": false,
     "start_time": "2021-02-18T19:28:31.742802",
     "status": "completed"
    },
    "tags": []
   },
   "source": [
    "Try Lasso next"
   ]
  },
  {
   "cell_type": "code",
   "execution_count": 161,
   "metadata": {
    "execution": {
     "iopub.execute_input": "2021-02-18T19:28:31.823423Z",
     "iopub.status.busy": "2021-02-18T19:28:31.821776Z",
     "iopub.status.idle": "2021-02-18T19:28:38.628776Z",
     "shell.execute_reply": "2021-02-18T19:28:38.626937Z"
    },
    "papermill": {
     "duration": 6.836494,
     "end_time": "2021-02-18T19:28:38.629013",
     "exception": false,
     "start_time": "2021-02-18T19:28:31.792519",
     "status": "completed"
    },
    "tags": []
   },
   "outputs": [
    {
     "name": "stdout",
     "output_type": "stream",
     "text": [
      "\n",
      "Call:\n",
      "rlasso.formula(formula = flex, data = data)\n",
      "\n",
      "Post-Lasso Estimation:  TRUE \n",
      "\n",
      "Total number of variables: 245\n",
      "Number of selected variables: 24 \n",
      "\n",
      "Residuals: \n",
      "     Min       1Q   Median       3Q      Max \n",
      "-2.03159 -0.29132 -0.01137  0.28472  3.63651 \n",
      "\n",
      "            Estimate\n",
      "(Intercept)    3.137\n",
      "sex            0.000\n",
      "shs           -0.480\n",
      "hsg           -0.404\n",
      "scl           -0.306\n",
      "clg            0.000\n",
      "occ22          0.041\n",
      "occ23          0.109\n",
      "occ24          0.000\n",
      "occ25          0.000\n",
      "occ26         -0.327\n",
      "occ27          0.000\n",
      "occ28         -0.257\n",
      "occ29          0.000\n",
      "occ210         0.038\n",
      "occ211        -0.398\n",
      "occ212         0.000\n",
      "occ213        -0.131\n",
      "occ214        -0.189\n",
      "occ215        -0.387\n",
      "occ216         0.000\n",
      "occ217        -0.280\n",
      "occ218         0.000\n",
      "occ219         0.000\n",
      "occ220         0.000\n",
      "occ221         0.000\n",
      "occ222        -0.209\n",
      "ind23          0.000\n",
      "ind24          0.000\n",
      "ind25          0.000\n",
      "ind26          0.000\n",
      "ind27          0.000\n",
      "ind28          0.000\n",
      "ind29         -0.169\n",
      "ind210         0.000\n",
      "ind211         0.000\n",
      "ind212         0.193\n",
      "ind213         0.000\n",
      "ind214         0.076\n",
      "ind215         0.000\n",
      "ind216         0.000\n",
      "ind217         0.000\n",
      "ind218         0.000\n",
      "ind219         0.000\n",
      "ind220        -0.225\n",
      "ind221         0.000\n",
      "ind222         0.140\n",
      "mw             0.000\n",
      "so             0.000\n",
      "we             0.000\n",
      "exp1           0.009\n",
      "exp2           0.000\n",
      "exp3           0.000\n",
      "exp4           0.000\n",
      "shs:exp1       0.000\n",
      "hsg:exp1       0.000\n",
      "scl:exp1       0.000\n",
      "clg:exp1       0.000\n",
      "occ22:exp1     0.000\n",
      "occ23:exp1     0.000\n",
      "occ24:exp1     0.000\n",
      "occ25:exp1     0.000\n",
      "occ26:exp1     0.000\n",
      "occ27:exp1     0.000\n",
      "occ28:exp1     0.000\n",
      "occ29:exp1     0.000\n",
      "occ210:exp1    0.003\n",
      "occ211:exp1    0.000\n",
      "occ212:exp1    0.000\n",
      "occ213:exp1   -0.011\n",
      "occ214:exp1   -0.009\n",
      "occ215:exp1    0.000\n",
      "occ216:exp1    0.000\n",
      "occ217:exp1    0.000\n",
      "occ218:exp1    0.000\n",
      "occ219:exp1    0.000\n",
      "occ220:exp1    0.000\n",
      "occ221:exp1    0.000\n",
      "occ222:exp1    0.000\n",
      "ind23:exp1     0.000\n",
      "ind24:exp1     0.000\n",
      "ind25:exp1     0.000\n",
      "ind26:exp1     0.000\n",
      "ind27:exp1     0.000\n",
      "ind28:exp1     0.000\n",
      "ind29:exp1     0.000\n",
      "ind210:exp1    0.000\n",
      "ind211:exp1    0.000\n",
      "ind212:exp1    0.000\n",
      "ind213:exp1    0.000\n",
      "ind214:exp1    0.004\n",
      "ind215:exp1    0.000\n",
      "ind216:exp1    0.000\n",
      "ind217:exp1    0.000\n",
      "ind218:exp1    0.000\n",
      "ind219:exp1    0.000\n",
      "ind220:exp1    0.000\n",
      "ind221:exp1    0.000\n",
      "ind222:exp1    0.000\n",
      "mw:exp1        0.000\n",
      "so:exp1        0.000\n",
      "we:exp1        0.000\n",
      "shs:exp2       0.000\n",
      "hsg:exp2       0.000\n",
      "scl:exp2       0.000\n",
      "clg:exp2       0.000\n",
      "occ22:exp2     0.000\n",
      "occ23:exp2     0.000\n",
      "occ24:exp2     0.000\n",
      "occ25:exp2     0.000\n",
      "occ26:exp2     0.000\n",
      "occ27:exp2     0.000\n",
      "occ28:exp2     0.000\n",
      "occ29:exp2     0.000\n",
      "occ210:exp2    0.000\n",
      "occ211:exp2    0.000\n",
      "occ212:exp2    0.000\n",
      "occ213:exp2    0.000\n",
      "occ214:exp2    0.000\n",
      "occ215:exp2    0.000\n",
      "occ216:exp2    0.000\n",
      "occ217:exp2    0.000\n",
      "occ218:exp2    0.000\n",
      "occ219:exp2    0.000\n",
      "occ220:exp2    0.000\n",
      "occ221:exp2    0.000\n",
      "occ222:exp2    0.000\n",
      "ind23:exp2     0.000\n",
      "ind24:exp2     0.000\n",
      "ind25:exp2     0.000\n",
      "ind26:exp2     0.000\n",
      "ind27:exp2     0.000\n",
      "ind28:exp2     0.000\n",
      "ind29:exp2     0.000\n",
      "ind210:exp2    0.000\n",
      "ind211:exp2    0.000\n",
      "ind212:exp2    0.000\n",
      "ind213:exp2    0.000\n",
      "ind214:exp2    0.000\n",
      "ind215:exp2    0.000\n",
      "ind216:exp2    0.000\n",
      "ind217:exp2    0.000\n",
      "ind218:exp2    0.000\n",
      "ind219:exp2    0.000\n",
      "ind220:exp2    0.000\n",
      "ind221:exp2    0.000\n",
      "ind222:exp2    0.000\n",
      "mw:exp2        0.000\n",
      "so:exp2        0.000\n",
      "we:exp2        0.000\n",
      "shs:exp3       0.000\n",
      "hsg:exp3       0.000\n",
      "scl:exp3       0.000\n",
      "clg:exp3       0.000\n",
      "occ22:exp3     0.000\n",
      "occ23:exp3     0.000\n",
      "occ24:exp3     0.000\n",
      "occ25:exp3     0.000\n",
      "occ26:exp3     0.000\n",
      "occ27:exp3     0.000\n",
      "occ28:exp3     0.000\n",
      "occ29:exp3     0.000\n",
      "occ210:exp3    0.000\n",
      "occ211:exp3    0.000\n",
      "occ212:exp3    0.000\n",
      "occ213:exp3    0.000\n",
      "occ214:exp3    0.000\n",
      "occ215:exp3    0.000\n",
      "occ216:exp3    0.000\n",
      "occ217:exp3    0.000\n",
      "occ218:exp3    0.000\n",
      "occ219:exp3    0.000\n",
      "occ220:exp3    0.000\n",
      "occ221:exp3    0.000\n",
      "occ222:exp3    0.000\n",
      "ind23:exp3     0.000\n",
      "ind24:exp3     0.000\n",
      "ind25:exp3     0.000\n",
      "ind26:exp3     0.000\n",
      "ind27:exp3     0.000\n",
      "ind28:exp3     0.000\n",
      "ind29:exp3     0.000\n",
      "ind210:exp3    0.000\n",
      "ind211:exp3    0.000\n",
      "ind212:exp3    0.000\n",
      "ind213:exp3    0.000\n",
      "ind214:exp3    0.000\n",
      "ind215:exp3    0.000\n",
      "ind216:exp3    0.000\n",
      "ind217:exp3    0.000\n",
      "ind218:exp3    0.000\n",
      "ind219:exp3    0.000\n",
      "ind220:exp3    0.000\n",
      "ind221:exp3    0.000\n",
      "ind222:exp3    0.000\n",
      "mw:exp3        0.000\n",
      "so:exp3        0.000\n",
      "we:exp3        0.000\n",
      "shs:exp4       0.000\n",
      "hsg:exp4       0.000\n",
      "scl:exp4       0.000\n",
      "clg:exp4       0.000\n",
      "occ22:exp4     0.000\n",
      "occ23:exp4     0.000\n",
      "occ24:exp4     0.000\n",
      "occ25:exp4     0.000\n",
      "occ26:exp4     0.000\n",
      "occ27:exp4     0.000\n",
      "occ28:exp4     0.000\n",
      "occ29:exp4     0.000\n",
      "occ210:exp4    0.000\n",
      "occ211:exp4    0.000\n",
      "occ212:exp4    0.000\n",
      "occ213:exp4    0.000\n",
      "occ214:exp4    0.000\n",
      "occ215:exp4    0.000\n",
      "occ216:exp4    0.000\n",
      "occ217:exp4    0.000\n",
      "occ218:exp4    0.000\n",
      "occ219:exp4    0.000\n",
      "occ220:exp4    0.000\n",
      "occ221:exp4    0.000\n",
      "occ222:exp4    0.000\n",
      "ind23:exp4     0.000\n",
      "ind24:exp4     0.000\n",
      "ind25:exp4     0.000\n",
      "ind26:exp4     0.000\n",
      "ind27:exp4     0.000\n",
      "ind28:exp4     0.000\n",
      "ind29:exp4     0.000\n",
      "ind210:exp4    0.000\n",
      "ind211:exp4    0.000\n",
      "ind212:exp4    0.000\n",
      "ind213:exp4    0.000\n",
      "ind214:exp4    0.000\n",
      "ind215:exp4    0.000\n",
      "ind216:exp4    0.000\n",
      "ind217:exp4    0.000\n",
      "ind218:exp4    0.000\n",
      "ind219:exp4    0.000\n",
      "ind220:exp4    0.000\n",
      "ind221:exp4    0.000\n",
      "ind222:exp4    0.000\n",
      "mw:exp4        0.000\n",
      "so:exp4        0.000\n",
      "we:exp4        0.000\n",
      "\n",
      "Residual standard error: 0.4847\n",
      "Multiple R-squared:  0.2779\n",
      "Adjusted R-squared:  0.2745\n",
      "Joint significance test:\n",
      " the sup score statistic for joint significance test is 89.09 with a p-value of 0.008\n"
     ]
    }
   ],
   "source": [
    "library(hdm)\n",
    "flex <- lwage ~ sex + shs+hsg+scl+clg+occ2+ind2+mw+so+we + (exp1+exp2+exp3+exp4)*(shs+hsg+scl+clg+occ2+ind2+mw+so+we)\n",
    "lassoreg<- rlasso(flex, data=data)\n",
    "\n",
    "sumlasso<- summary(lassoreg)\n"
   ]
  },
  {
   "cell_type": "markdown",
   "metadata": {
    "papermill": {
     "duration": 0.025742,
     "end_time": "2021-02-18T19:28:38.682013",
     "exception": false,
     "start_time": "2021-02-18T19:28:38.656271",
     "status": "completed"
    },
    "tags": []
   },
   "source": [
    "Now, we can evaluate the performance of both models based on the (adjusted) $R^2_{sample}$ and the (adjusted) $MSE_{sample}$:"
   ]
  },
  {
   "cell_type": "code",
   "execution_count": 126,
   "metadata": {
    "execution": {
     "iopub.execute_input": "2021-02-18T19:28:38.739063Z",
     "iopub.status.busy": "2021-02-18T19:28:38.737817Z",
     "iopub.status.idle": "2021-02-18T19:28:38.874632Z",
     "shell.execute_reply": "2021-02-18T19:28:38.872438Z"
    },
    "papermill": {
     "duration": 0.167022,
     "end_time": "2021-02-18T19:28:38.874828",
     "exception": false,
     "start_time": "2021-02-18T19:28:38.707806",
     "status": "completed"
    },
    "tags": []
   },
   "outputs": [
    {
     "name": "stdout",
     "output_type": "stream",
     "text": [
      "R-squared for the basic model:  0.3100465 \n",
      "adjusted R-squared for the basic model:  0.3032809 \n",
      "R-squared for the flexible model:  0.3511099 \n",
      "adjusted R-squared for the flexible model:  0.3186919 \n",
      "R-squared for the lasso with flexible model:  0.2778653 \n",
      "adjusted R-squared for the flexible model:  0.2744836 \n"
     ]
    }
   ],
   "source": [
    "# Assess the predictive performance\n",
    "\n",
    "sumbasic <- summary(regbasic)\n",
    "sumflex <- summary(regflex)\n",
    "\n",
    "#  R-squared \n",
    "R2.1 <- sumbasic$r.squared\n",
    "cat(\"R-squared for the basic model: \", R2.1, \"\\n\")\n",
    "R2.adj1 <- sumbasic$adj.r.squared\n",
    "cat(\"adjusted R-squared for the basic model: \", R2.adj1, \"\\n\")\n",
    "\n",
    "R2.2 <- sumflex$r.squared\n",
    "cat(\"R-squared for the flexible model: \", R2.2, \"\\n\")\n",
    "R2.adj2 <- sumflex$adj.r.squared\n",
    "cat(\"adjusted R-squared for the flexible model: \", R2.adj2, \"\\n\")\n",
    "\n",
    "R2.L <- sumlasso$r.squared\n",
    "cat(\"R-squared for the lasso with flexible model: \", R2.L, \"\\n\")\n",
    "R2.adjL <- sumlasso$adj.r.squared\n",
    "cat(\"adjusted R-squared for the flexible model: \", R2.adjL, \"\\n\")"
   ]
  },
  {
   "cell_type": "code",
   "execution_count": 127,
   "metadata": {
    "execution": {
     "iopub.execute_input": "2021-02-18T19:28:38.739063Z",
     "iopub.status.busy": "2021-02-18T19:28:38.737817Z",
     "iopub.status.idle": "2021-02-18T19:28:38.874632Z",
     "shell.execute_reply": "2021-02-18T19:28:38.872438Z"
    },
    "papermill": {
     "duration": 0.167022,
     "end_time": "2021-02-18T19:28:38.874828",
     "exception": false,
     "start_time": "2021-02-18T19:28:38.707806",
     "status": "completed"
    },
    "tags": []
   },
   "outputs": [
    {
     "name": "stdout",
     "output_type": "stream",
     "text": [
      "MSE for the basic model:  0.2244251 \n",
      "adjusted MSE for the basic model:  0.2266697 \n",
      "MSE for the flexible model:  0.2110681 \n",
      "adjusted MSE for the flexible model:  0.221656 \n",
      "MSE for the lasso flexible model:  0.2348928 \n",
      "adjusted MSE for the lasso flexible model:  0.2466758 \n"
     ]
    }
   ],
   "source": [
    "# calculating the MSE\n",
    "MSE1 <- mean(sumbasic$res^2)\n",
    "cat(\"MSE for the basic model: \", MSE1, \"\\n\")\n",
    "p1 <- sumbasic$df[1] # number of regressors\n",
    "MSE.adj1 <- (n/(n-p1))*MSE1\n",
    "cat(\"adjusted MSE for the basic model: \", MSE.adj1, \"\\n\")\n",
    "\n",
    "MSE2 <-mean(sumflex$res^2)\n",
    "cat(\"MSE for the flexible model: \", MSE2, \"\\n\")\n",
    "p2 <- sumflex$df[1]\n",
    "MSE.adj2 <- (n/(n-p2))*MSE2\n",
    "cat(\"adjusted MSE for the flexible model: \", MSE.adj2, \"\\n\")\n",
    "\n",
    "\n",
    "MSEL <-mean(sumlasso$res^2)\n",
    "cat(\"MSE for the lasso flexible model: \", MSEL, \"\\n\")\n",
    "pL <- length(sumlasso$coef)\n",
    "MSE.adjL <- (n/(n-pL))*MSEL\n",
    "cat(\"adjusted MSE for the lasso flexible model: \", MSE.adjL, \"\\n\")"
   ]
  },
  {
   "cell_type": "code",
   "execution_count": 108,
   "metadata": {
    "execution": {
     "iopub.execute_input": "2021-02-18T19:28:38.948511Z",
     "iopub.status.busy": "2021-02-18T19:28:38.947929Z",
     "iopub.status.idle": "2021-02-18T19:28:38.984194Z",
     "shell.execute_reply": "2021-02-18T19:28:38.982978Z"
    },
    "papermill": {
     "duration": 0.070975,
     "end_time": "2021-02-18T19:28:38.984340",
     "exception": false,
     "start_time": "2021-02-18T19:28:38.913365",
     "status": "completed"
    },
    "tags": []
   },
   "outputs": [
    {
     "name": "stdout",
     "output_type": "stream",
     "text": [
      "% latex table generated in R 4.0.4 by xtable 1.8-4 package\n",
      "% Sun Mar 07 18:00:16 2021\n",
      "\\begin{table}[ht]\n",
      "\\centering\n",
      "\\begin{tabular}{rrrrrr}\n",
      "  \\hline\n",
      " & p & \\$R\\verb|^|2\\_\\{sample\\}\\$ & \\$MSE\\_\\{sample\\}\\$ & \\$R\\verb|^|2\\_\\{adjusted\\}\\$ & \\$MSE\\_\\{adjusted\\}\\$ \\\\ \n",
      "  \\hline\n",
      "basic reg & 51 & 0.31 & 0.22 & 0.30 & 0.23 \\\\ \n",
      "  flexible reg & 246 & 0.35 & 0.21 & 0.32 & 0.22 \\\\ \n",
      "  lasso flex & 246 & 0.28 & 0.23 & 0.27 & 0.25 \\\\ \n",
      "   \\hline\n",
      "\\end{tabular}\n",
      "\\end{table}\n"
     ]
    },
    {
     "data": {
      "text/html": [
       "<table class=\"dataframe\">\n",
       "<caption>A xtable: 3 × 5</caption>\n",
       "<thead>\n",
       "\t<tr><th></th><th scope=col>p</th><th scope=col>$R^2_{sample}$</th><th scope=col>$MSE_{sample}$</th><th scope=col>$R^2_{adjusted}$</th><th scope=col>$MSE_{adjusted}$</th></tr>\n",
       "\t<tr><th></th><th scope=col>&lt;dbl&gt;</th><th scope=col>&lt;dbl&gt;</th><th scope=col>&lt;dbl&gt;</th><th scope=col>&lt;dbl&gt;</th><th scope=col>&lt;dbl&gt;</th></tr>\n",
       "</thead>\n",
       "<tbody>\n",
       "\t<tr><th scope=row>basic reg</th><td> 51</td><td>0.3100465</td><td>0.2244251</td><td>0.3032809</td><td>0.2266697</td></tr>\n",
       "\t<tr><th scope=row>flexible reg</th><td>246</td><td>0.3511099</td><td>0.2110681</td><td>0.3186919</td><td>0.2216560</td></tr>\n",
       "\t<tr><th scope=row>lasso flex</th><td>246</td><td>0.2778653</td><td>0.2348928</td><td>0.2744836</td><td>0.2466758</td></tr>\n",
       "</tbody>\n",
       "</table>\n"
      ],
      "text/latex": [
       "A xtable: 3 × 5\n",
       "\\begin{tabular}{r|lllll}\n",
       "  & p & \\$R\\textasciicircum{}2\\_\\{sample\\}\\$ & \\$MSE\\_\\{sample\\}\\$ & \\$R\\textasciicircum{}2\\_\\{adjusted\\}\\$ & \\$MSE\\_\\{adjusted\\}\\$\\\\\n",
       "  & <dbl> & <dbl> & <dbl> & <dbl> & <dbl>\\\\\n",
       "\\hline\n",
       "\tbasic reg &  51 & 0.3100465 & 0.2244251 & 0.3032809 & 0.2266697\\\\\n",
       "\tflexible reg & 246 & 0.3511099 & 0.2110681 & 0.3186919 & 0.2216560\\\\\n",
       "\tlasso flex & 246 & 0.2778653 & 0.2348928 & 0.2744836 & 0.2466758\\\\\n",
       "\\end{tabular}\n"
      ],
      "text/markdown": [
       "\n",
       "A xtable: 3 × 5\n",
       "\n",
       "| <!--/--> | p &lt;dbl&gt; | $R^2_{sample}$ &lt;dbl&gt; | $MSE_{sample}$ &lt;dbl&gt; | $R^2_{adjusted}$ &lt;dbl&gt; | $MSE_{adjusted}$ &lt;dbl&gt; |\n",
       "|---|---|---|---|---|---|\n",
       "| basic reg |  51 | 0.3100465 | 0.2244251 | 0.3032809 | 0.2266697 |\n",
       "| flexible reg | 246 | 0.3511099 | 0.2110681 | 0.3186919 | 0.2216560 |\n",
       "| lasso flex | 246 | 0.2778653 | 0.2348928 | 0.2744836 | 0.2466758 |\n",
       "\n"
      ],
      "text/plain": [
       "             p   $R^2_{sample}$ $MSE_{sample}$ $R^2_{adjusted}$\n",
       "basic reg     51 0.3100465      0.2244251      0.3032809       \n",
       "flexible reg 246 0.3511099      0.2110681      0.3186919       \n",
       "lasso flex   246 0.2778653      0.2348928      0.2744836       \n",
       "             $MSE_{adjusted}$\n",
       "basic reg    0.2266697       \n",
       "flexible reg 0.2216560       \n",
       "lasso flex   0.2466758       "
      ]
     },
     "metadata": {},
     "output_type": "display_data"
    }
   ],
   "source": [
    "library(xtable)\n",
    "table <- matrix(0, 3, 5)\n",
    "table[1,1:5]   <- c(p1,R2.1,MSE1,R2.adj1,MSE.adj1)\n",
    "table[2,1:5]   <- c(p2,R2.2,MSE2,R2.adj2,MSE.adj2)\n",
    "table[3,1:5]   <- c(pL,R2.L,MSEL,R2.adjL,MSE.adjL)\n",
    "colnames(table)<- c(\"p\",\"$R^2_{sample}$\",\"$MSE_{sample}$\",\"$R^2_{adjusted}$\", \"$MSE_{adjusted}$\")\n",
    "rownames(table)<- c(\"basic reg\",\"flexible reg\", \"lasso flex\")\n",
    "tab<- xtable(table, digits =c(0,0,2,2,2,2))\n",
    "print(tab,type=\"latex\") # type=\"latex\" for printing table in LaTeX\n",
    "tab"
   ]
  },
  {
   "cell_type": "markdown",
   "metadata": {
    "papermill": {
     "duration": 0.03068,
     "end_time": "2021-02-18T19:28:39.045901",
     "exception": false,
     "start_time": "2021-02-18T19:28:39.015221",
     "status": "completed"
    },
    "tags": []
   },
   "source": [
    "Considering all measures above, the flexible model performs slightly better than the basic model. \n",
    "\n",
    "One procedure to circumvent this issue is to use **data splitting** that is described and applied in the following."
   ]
  },
  {
   "cell_type": "markdown",
   "metadata": {
    "papermill": {
     "duration": 0.03052,
     "end_time": "2021-02-18T19:28:39.107361",
     "exception": false,
     "start_time": "2021-02-18T19:28:39.076841",
     "status": "completed"
    },
    "tags": []
   },
   "source": [
    "## Data Splitting\n",
    "\n",
    "Measure the prediction quality of the two models via data splitting:\n",
    "\n",
    "- Randomly split the data into one training sample and one testing sample. Here we just use a simple method (stratified splitting is a more sophiscticated version of splitting that we can consider).\n",
    "- Use the training sample for estimating the parameters of the Basic Model and the Flexible Model.\n",
    "- Use the testing sample for evaluation. Predict the $\\mathtt{wage}$  of every observation in the testing sample based on the estimated parameters in the training sample.\n",
    "- Calculate the Mean Squared Prediction Error $MSE_{test}$ based on the testing sample for both prediction models. "
   ]
  },
  {
   "cell_type": "code",
   "execution_count": 130,
   "metadata": {
    "execution": {
     "iopub.execute_input": "2021-02-18T19:28:39.173592Z",
     "iopub.status.busy": "2021-02-18T19:28:39.172416Z",
     "iopub.status.idle": "2021-02-18T19:28:39.191475Z",
     "shell.execute_reply": "2021-02-18T19:28:39.190390Z"
    },
    "papermill": {
     "duration": 0.053799,
     "end_time": "2021-02-18T19:28:39.191630",
     "exception": false,
     "start_time": "2021-02-18T19:28:39.137831",
     "status": "completed"
    },
    "tags": []
   },
   "outputs": [
    {
     "data": {
      "text/html": [
       "<style>\n",
       ".list-inline {list-style: none; margin:0; padding: 0}\n",
       ".list-inline>li {display: inline-block}\n",
       ".list-inline>li:not(:last-child)::after {content: \"\\00b7\"; padding: 0 .5ex}\n",
       "</style>\n",
       "<ol class=list-inline><li>4120</li><li>20</li></ol>\n"
      ],
      "text/latex": [
       "\\begin{enumerate*}\n",
       "\\item 4120\n",
       "\\item 20\n",
       "\\end{enumerate*}\n"
      ],
      "text/markdown": [
       "1. 4120\n",
       "2. 20\n",
       "\n",
       "\n"
      ],
      "text/plain": [
       "[1] 4120   20"
      ]
     },
     "metadata": {},
     "output_type": "display_data"
    }
   ],
   "source": [
    "#splitting the data\n",
    "\n",
    "set.seed(1) # to make the results replicable (generating random numbers)\n",
    "random_2 <- sample(1:n, floor(n*4/5))\n",
    "# draw (4/5)*n random numbers from 1 to n without replacing them\n",
    "train <- data[random,] # training sample\n",
    "test <- data[-random,] # testing sample\n",
    "dim(train)"
   ]
  },
  {
   "cell_type": "code",
   "execution_count": 131,
   "metadata": {
    "execution": {
     "iopub.execute_input": "2021-02-18T19:28:39.261214Z",
     "iopub.status.busy": "2021-02-18T19:28:39.260257Z",
     "iopub.status.idle": "2021-02-18T19:28:39.309792Z",
     "shell.execute_reply": "2021-02-18T19:28:39.306592Z"
    },
    "papermill": {
     "duration": 0.087305,
     "end_time": "2021-02-18T19:28:39.310008",
     "exception": false,
     "start_time": "2021-02-18T19:28:39.222703",
     "status": "completed"
    },
    "tags": []
   },
   "outputs": [
    {
     "data": {
      "text/plain": [
       "\n",
       "Call:\n",
       "lm(formula = basic, data = train)\n",
       "\n",
       "Coefficients:\n",
       "(Intercept)          sex         exp1          shs          hsg          scl  \n",
       "   3.641716    -0.059065     0.008635    -0.570657    -0.508393    -0.405932  \n",
       "        clg           mw           so           we        occ22        occ23  \n",
       "  -0.178154    -0.044486    -0.051111     0.004004    -0.083481    -0.036320  \n",
       "      occ24        occ25        occ26        occ27        occ28        occ29  \n",
       "  -0.091457    -0.126383    -0.416548    -0.046615    -0.385957    -0.220534  \n",
       "     occ210       occ211       occ212       occ213       occ214       occ215  \n",
       "  -0.030423    -0.460487    -0.317680    -0.375180    -0.465495    -0.494731  \n",
       "     occ216       occ217       occ218       occ219       occ220       occ221  \n",
       "  -0.212026    -0.413355    -0.329054    -0.263839    -0.241109    -0.293004  \n",
       "     occ222        ind23        ind24        ind25        ind26        ind27  \n",
       "  -0.410747    -0.075902    -0.121251    -0.206172    -0.151398    -0.081742  \n",
       "      ind28        ind29       ind210       ind211       ind212       ind213  \n",
       "  -0.186304    -0.304987    -0.126226    -0.090402     0.028445    -0.116162  \n",
       "     ind214       ind215       ind216       ind217       ind218       ind219  \n",
       "  -0.105521    -0.227273    -0.223604    -0.208887    -0.256808    -0.266724  \n",
       "     ind220       ind221       ind222  \n",
       "  -0.459034    -0.226775    -0.047166  \n"
      ]
     },
     "metadata": {},
     "output_type": "display_data"
    }
   ],
   "source": [
    "# basic model\n",
    "# estimating the parameters in the training sample\n",
    "regbasic <- lm(basic, data=train)\n",
    "regbasic"
   ]
  },
  {
   "cell_type": "code",
   "execution_count": 132,
   "metadata": {
    "execution": {
     "iopub.execute_input": "2021-02-18T19:28:39.261214Z",
     "iopub.status.busy": "2021-02-18T19:28:39.260257Z",
     "iopub.status.idle": "2021-02-18T19:28:39.309792Z",
     "shell.execute_reply": "2021-02-18T19:28:39.306592Z"
    },
    "papermill": {
     "duration": 0.087305,
     "end_time": "2021-02-18T19:28:39.310008",
     "exception": false,
     "start_time": "2021-02-18T19:28:39.222703",
     "status": "completed"
    },
    "tags": []
   },
   "outputs": [
    {
     "data": {
      "text/html": [
       "<style>\n",
       ".dl-inline {width: auto; margin:0; padding: 0}\n",
       ".dl-inline>dt, .dl-inline>dd {float: none; width: auto; display: inline-block}\n",
       ".dl-inline>dt::after {content: \":\\0020\"; padding-right: .5ex}\n",
       ".dl-inline>dt:not(:first-of-type) {padding-left: .5ex}\n",
       "</style><dl class=dl-inline><dt>12</dt><dd>3.39585070698602</dd><dt>44</dt><dd>2.7344925556513</dd><dt>71</dt><dd>3.15180727292462</dd><dt>84</dt><dd>2.50691907664625</dd><dt>129</dt><dd>2.36819193420861</dd><dt>149</dt><dd>3.17346125773013</dd><dt>191</dt><dd>3.06563745921648</dd><dt>221</dt><dd>3.04375675658789</dd><dt>248</dt><dd>2.69997528095643</dd><dt>264</dt><dd>2.39863473613851</dd><dt>281</dt><dd>3.0800340586945</dd><dt>368</dt><dd>2.54242437728292</dd><dt>464</dt><dd>2.70073331954766</dd><dt>467</dt><dd>2.97389107101993</dd><dt>496</dt><dd>2.94024635679999</dd><dt>540</dt><dd>2.79640393275789</dd><dt>546</dt><dd>2.79380626007363</dd><dt>576</dt><dd>2.90730770582315</dd><dt>629</dt><dd>3.21376775825249</dd><dt>687</dt><dd>3.22237847199775</dd><dt>705</dt><dd>2.75887886905541</dd><dt>765</dt><dd>2.77232827618144</dd><dt>769</dt><dd>2.75385479365015</dd><dt>809</dt><dd>3.00536932883207</dd><dt>938</dt><dd>2.50260134761314</dd><dt>945</dt><dd>2.94136558363304</dd><dt>952</dt><dd>3.16644929027699</dd><dt>960</dt><dd>2.84677806808237</dd><dt>1003</dt><dd>3.07097243161486</dd><dt>1057</dt><dd>2.62904814793314</dd><dt>1059</dt><dd>3.03643059934994</dd><dt>1065</dt><dd>2.8813199003473</dd><dt>1075</dt><dd>3.41426745761456</dd><dt>1076</dt><dd>3.50489803376816</dd><dt>1079</dt><dd>2.28322076571997</dd><dt>1101</dt><dd>2.5641782620279</dd><dt>1105</dt><dd>2.73742461645496</dd><dt>1143</dt><dd>2.76170285166449</dd><dt>1161</dt><dd>3.60669093353185</dd><dt>1195</dt><dd>2.55630095181798</dd><dt>1224</dt><dd>2.86114382203023</dd><dt>1271</dt><dd>2.74936916129792</dd><dt>1299</dt><dd>2.80981736776154</dd><dt>1342</dt><dd>3.68084534831879</dd><dt>1387</dt><dd>3.4459957823743</dd><dt>1407</dt><dd>2.62113213983648</dd><dt>1508</dt><dd>2.82692388020893</dd><dt>1568</dt><dd>2.87750834432339</dd><dt>1593</dt><dd>3.01167599617109</dd><dt>1646</dt><dd>2.77570170451002</dd><dt>1669</dt><dd>2.92332602523003</dd><dt>1693</dt><dd>2.81101088328043</dd><dt>1711</dt><dd>2.8441947963414</dd><dt>1715</dt><dd>3.03746342326868</dd><dt>1748</dt><dd>3.03827349081739</dd><dt>1749</dt><dd>2.89836772082112</dd><dt>1751</dt><dd>2.91395601898197</dd><dt>1763</dt><dd>3.44780432809108</dd><dt>1782</dt><dd>2.98780698437009</dd><dt>1862</dt><dd>3.30891687137667</dd><dt>1889</dt><dd>3.44815933082708</dd><dt>1896</dt><dd>3.03242313886163</dd><dt>1915</dt><dd>2.63936586830184</dd><dt>1916</dt><dd>2.71074275584076</dd><dt>1917</dt><dd>3.388703897068</dd><dt>1930</dt><dd>3.6394543714289</dd><dt>1933</dt><dd>3.56032304410345</dd><dt>1939</dt><dd>3.26137867808536</dd><dt>1945</dt><dd>2.99175701189675</dd><dt>1946</dt><dd>3.47676408034417</dd><dt>1964</dt><dd>2.57440427442184</dd><dt>1978</dt><dd>3.40910186113872</dd><dt>1999</dt><dd>2.81536395301164</dd><dt>2020</dt><dd>2.80490939419123</dd><dt>2055</dt><dd>2.79634873185866</dd><dt>2122</dt><dd>3.05271722671156</dd><dt>2132</dt><dd>2.76039892984999</dd><dt>2135</dt><dd>2.83451205311503</dd><dt>2194</dt><dd>3.06674001387456</dd><dt>2215</dt><dd>3.06674001387456</dd><dt>2224</dt><dd>2.99673952463007</dd><dt>2278</dt><dd>3.49759126655976</dd><dt>2315</dt><dd>3.20858766000276</dd><dt>2330</dt><dd>3.17204866810439</dd><dt>2333</dt><dd>3.13727531483003</dd><dt>2362</dt><dd>2.9771116684959</dd><dt>2381</dt><dd>2.91121937150928</dd><dt>2465</dt><dd>2.93676069745185</dd><dt>2488</dt><dd>3.10735144918209</dd><dt>2490</dt><dd>2.51519987158722</dd><dt>2500</dt><dd>2.88447291590483</dd><dt>2502</dt><dd>2.83400478947189</dd><dt>2555</dt><dd>3.12064080671111</dd><dt>2566</dt><dd>3.24878926553091</dd><dt>2592</dt><dd>3.19073217386259</dd><dt>2593</dt><dd>2.99683586560423</dd><dt>2604</dt><dd>3.36274612325023</dd><dt>2635</dt><dd>3.36489810767737</dd><dt>2660</dt><dd>3.19541638464987</dd><dt>2746</dt><dd>2.85022824455237</dd><dt>2851</dt><dd>3.15580328347522</dd><dt>2879</dt><dd>2.61813257045527</dd><dt>2919</dt><dd>2.60042200087084</dd><dt>2972</dt><dd>3.53624926693584</dd><dt>2990</dt><dd>2.48649514495625</dd><dt>3005</dt><dd>2.96509120926864</dd><dt>3020</dt><dd>2.78408133691108</dd><dt>3021</dt><dd>2.65948679516079</dd><dt>3103</dt><dd>3.18365955548928</dd><dt>3117</dt><dd>3.12696259241708</dd><dt>3195</dt><dd>3.537607269002</dd><dt>3269</dt><dd>3.37536616277469</dd><dt>3313</dt><dd>2.80004523901579</dd><dt>3357</dt><dd>3.10870339729733</dd><dt>3383</dt><dd>2.70720051322315</dd><dt>3428</dt><dd>3.03019189179868</dd><dt>3501</dt><dd>3.53080440796686</dd><dt>3531</dt><dd>3.05604050264191</dd><dt>3575</dt><dd>3.4753806681705</dd><dt>3605</dt><dd>2.86812447835123</dd><dt>3630</dt><dd>2.8021905519517</dd><dt>3634</dt><dd>2.78582294735318</dd><dt>3641</dt><dd>2.97877639311747</dd><dt>3738</dt><dd>2.88598867449888</dd><dt>3803</dt><dd>3.31269037708578</dd><dt>3810</dt><dd>3.0537015154824</dd><dt>3819</dt><dd>3.26203922335392</dd><dt>3824</dt><dd>2.79217168171179</dd><dt>3853</dt><dd>2.92957711000927</dd><dt>3855</dt><dd>2.83756092726253</dd><dt>3858</dt><dd>3.45303056405493</dd><dt>3867</dt><dd>2.63722330003006</dd><dt>3975</dt><dd>3.29541946095331</dd><dt>3996</dt><dd>3.28319454043699</dd><dt>4008</dt><dd>3.19003440618494</dd><dt>4012</dt><dd>3.25544119679085</dd><dt>4015</dt><dd>3.51313691193797</dd><dt>4021</dt><dd>2.90929431941543</dd><dt>4027</dt><dd>3.79182042935725</dd><dt>4034</dt><dd>3.37175517137572</dd><dt>4042</dt><dd>3.4872549349293</dd><dt>4046</dt><dd>3.38239898718776</dd><dt>4056</dt><dd>3.14674927352558</dd><dt>4057</dt><dd>3.34179577745317</dd><dt>4068</dt><dd>3.13025478994691</dd><dt>4078</dt><dd>3.08372872999526</dd><dt>4088</dt><dd>3.13661001333483</dd><dt>4095</dt><dd>3.3731621896475</dd><dt>4108</dt><dd>3.35078847943383</dd><dt>4109</dt><dd>3.3421530213676</dd><dt>4110</dt><dd>3.04934337079538</dd><dt>4111</dt><dd>3.70165166105207</dd><dt>4119</dt><dd>2.85283025440763</dd><dt>4161</dt><dd>3.05045056312598</dd><dt>4180</dt><dd>2.6618203768142</dd><dt>4189</dt><dd>2.65525337226063</dd><dt>4190</dt><dd>3.1270255948578</dd><dt>4311</dt><dd>3.16779965564571</dd><dt>4318</dt><dd>2.66054816633139</dd><dt>4416</dt><dd>3.43653997124475</dd><dt>4476</dt><dd>2.91567788870163</dd><dt>4492</dt><dd>3.44046524584631</dd><dt>4495</dt><dd>2.55405034361106</dd><dt>4585</dt><dd>3.35161334359383</dd><dt>4627</dt><dd>3.12164850933274</dd><dt>4658</dt><dd>2.70288278419004</dd><dt>4668</dt><dd>2.57690844619238</dd><dt>4735</dt><dd>2.95656710345271</dd><dt>4752</dt><dd>2.58688181035895</dd><dt>4801</dt><dd>3.18548275203197</dd><dt>4805</dt><dd>3.28824067877244</dd><dt>4806</dt><dd>3.56215564113454</dd><dt>4837</dt><dd>3.51791240002027</dd><dt>4862</dt><dd>3.42635561760277</dd><dt>4865</dt><dd>3.17440803175486</dd><dt>4869</dt><dd>2.70943645637101</dd><dt>4873</dt><dd>2.97351630110266</dd><dt>4981</dt><dd>2.98879526335738</dd><dt>5013</dt><dd>2.47320084317706</dd><dt>5021</dt><dd>2.69269793670053</dd><dt>5026</dt><dd>3.18716759980971</dd><dt>5034</dt><dd>3.09608251720216</dd><dt>5043</dt><dd>3.25867157841197</dd><dt>5069</dt><dd>2.8241267042796</dd><dt>5087</dt><dd>3.08147812178835</dd><dt>5115</dt><dd>2.7525231427514</dd><dt>5117</dt><dd>2.59618857797068</dd><dt>5145</dt><dd>3.17300923177439</dd><dt>5177</dt><dd>2.6580395928053</dd><dt>5187</dt><dd>2.89704619811511</dd><dt>5207</dt><dd>2.96535482862374</dd><dt>5210</dt><dd>2.73209824516545</dd><dt>5232</dt><dd>3.49837158988205</dd><dt>5288</dt><dd>3.17016369515354</dd><dt>5343</dt><dd>2.91118101952359</dd><dt>5345</dt><dd>3.30891687137667</dd><dt>5347</dt><dd>3.20362002132201</dd><dt>5348</dt><dd>2.9983609816102</dd><dt>5444</dt><dd>2.65525337226063</dd><dt>5455</dt><dd>2.80675379330875</dd><dt>5487</dt><dd>...</dd><dt>5548</dt><dd>3.50221871413061</dd><dt>5617</dt><dd>3.45738671456059</dd><dt>5654</dt><dd>2.7121849979699</dd><dt>5667</dt><dd>3.12617326951564</dd><dt>5699</dt><dd>2.81086815878425</dd><dt>5766</dt><dd>2.52521872773143</dd><dt>5779</dt><dd>2.58627643756367</dd><dt>5793</dt><dd>3.30120171434642</dd><dt>5798</dt><dd>3.36358543053571</dd><dt>5830</dt><dd>3.06408510702242</dd><dt>5889</dt><dd>2.68432050450891</dd><dt>5892</dt><dd>2.81939876426444</dd><dt>5902</dt><dd>3.33103605825052</dd><dt>5919</dt><dd>2.76649411074161</dd><dt>5946</dt><dd>3.12613125204205</dd><dt>6002</dt><dd>2.92304722086974</dd><dt>6005</dt><dd>2.70656334712229</dd><dt>6034</dt><dd>3.13954533741788</dd><dt>6096</dt><dd>3.22342648630136</dd><dt>6132</dt><dd>2.7783214484782</dd><dt>6152</dt><dd>3.30409539343737</dd><dt>6210</dt><dd>2.64872651233172</dd><dt>6236</dt><dd>2.76701155358591</dd><dt>6256</dt><dd>3.22715587331628</dd><dt>6281</dt><dd>2.82152374762069</dd><dt>6293</dt><dd>3.21415130648969</dd><dt>6310</dt><dd>3.04086062738858</dd><dt>6425</dt><dd>3.04830799984743</dd><dt>6431</dt><dd>3.38577790064086</dd><dt>6434</dt><dd>3.24807985240439</dd><dt>6457</dt><dd>3.42979935802364</dd><dt>6465</dt><dd>3.16741706906339</dd><dt>6478</dt><dd>2.69034719786445</dd><dt>6538</dt><dd>2.98509392450297</dd><dt>6539</dt><dd>2.99210227172484</dd><dt>6544</dt><dd>2.6130613179623</dd><dt>6575</dt><dd>2.68996323424512</dd><dt>6606</dt><dd>2.77572844292931</dd><dt>6668</dt><dd>3.54244911717057</dd><dt>6682</dt><dd>2.71650272700302</dd><dt>6695</dt><dd>2.93471763971401</dd><dt>6739</dt><dd>2.92970309976055</dd><dt>6800</dt><dd>2.67367531520887</dd><dt>6829</dt><dd>2.63305200695837</dd><dt>6841</dt><dd>3.18028219884251</dd><dt>6844</dt><dd>2.96812280129942</dd><dt>6886</dt><dd>3.26277680952089</dd><dt>6890</dt><dd>2.79944421185984</dd><dt>6929</dt><dd>2.46555609815453</dd><dt>6938</dt><dd>2.81574985570324</dd><dt>6971</dt><dd>3.00831149416615</dd><dt>6978</dt><dd>2.73124362799069</dd><dt>7019</dt><dd>2.97121047721703</dd><dt>7020</dt><dd>3.26157587234516</dd><dt>7062</dt><dd>2.94969507479421</dd><dt>7089</dt><dd>3.29405187571342</dd><dt>7158</dt><dd>2.94143695915831</dd><dt>7212</dt><dd>2.60986695103368</dd><dt>7221</dt><dd>2.8066279502459</dd><dt>7300</dt><dd>3.08212698111699</dd><dt>7313</dt><dd>2.72391569453192</dd><dt>7340</dt><dd>2.86654576989002</dd><dt>7347</dt><dd>2.63736973599148</dd><dt>7381</dt><dd>3.23507351969157</dd><dt>7389</dt><dd>3.03755527593388</dd><dt>7458</dt><dd>2.71998295907807</dd><dt>7508</dt><dd>3.41310572016395</dd><dt>7516</dt><dd>2.69941589862462</dd><dt>7560</dt><dd>2.92146863418065</dd><dt>7576</dt><dd>2.7330385297379</dd><dt>7609</dt><dd>2.71650272700302</dd><dt>7633</dt><dd>3.22639294908417</dd><dt>7646</dt><dd>2.95492067087473</dd><dt>7686</dt><dd>2.79541363997479</dd><dt>7710</dt><dd>2.95009635413385</dd><dt>7746</dt><dd>3.02090781669126</dd><dt>7773</dt><dd>3.47880399167558</dd><dt>7783</dt><dd>2.85909217618352</dd><dt>7793</dt><dd>2.50329249898533</dd><dt>7808</dt><dd>2.66789268935209</dd><dt>7859</dt><dd>3.02635267566024</dd><dt>7900</dt><dd>3.19354550544106</dd><dt>7917</dt><dd>2.90002888726886</dd><dt>7929</dt><dd>2.86645879286064</dd><dt>7977</dt><dd>2.62395624292283</dd><dt>8010</dt><dd>3.19473603288783</dd><dt>8055</dt><dd>2.80228064548452</dd><dt>8143</dt><dd>3.64831209904582</dd><dt>8145</dt><dd>3.18986836028226</dd><dt>8157</dt><dd>2.8520889336396</dd><dt>8195</dt><dd>3.07272056508865</dd><dt>8196</dt><dd>3.40196563934081</dd><dt>8208</dt><dd>3.39711935387181</dd><dt>8213</dt><dd>3.39774681793903</dd><dt>8214</dt><dd>3.69348466541026</dd><dt>8226</dt><dd>3.40676272086687</dd><dt>8231</dt><dd>2.72268866918704</dd><dt>8254</dt><dd>3.58298123143481</dd><dt>8263</dt><dd>2.78213659164537</dd><dt>8266</dt><dd>3.26679355339949</dd><dt>8317</dt><dd>3.00264167375383</dd><dt>8319</dt><dd>2.57703147612882</dd><dt>8326</dt><dd>2.90142351005656</dd><dt>8333</dt><dd>2.3358375636459</dd><dt>8336</dt><dd>2.65347008221696</dd><dt>8338</dt><dd>2.38536767903128</dd><dt>8346</dt><dd>2.52582823110005</dd><dt>8407</dt><dd>2.90875821408056</dd><dt>8511</dt><dd>3.36438836019529</dd><dt>8523</dt><dd>3.22823497725597</dd><dt>8560</dt><dd>2.86696978375947</dd><dt>8574</dt><dd>3.09333980774967</dd><dt>8578</dt><dd>3.13842465297717</dd><dt>8648</dt><dd>2.92806934907374</dd><dt>8676</dt><dd>3.2179216512885</dd><dt>8727</dt><dd>2.73711074644708</dd><dt>8792</dt><dd>3.11981645718707</dd><dt>8800</dt><dd>3.05798483854977</dd><dt>8850</dt><dd>3.44078124813549</dd><dt>8912</dt><dd>2.46304214186934</dd><dt>8968</dt><dd>3.41519853454835</dd><dt>8997</dt><dd>3.12134271438879</dd><dt>9010</dt><dd>3.07816542405763</dd><dt>9082</dt><dd>3.30512968405183</dd><dt>9123</dt><dd>3.27242597803184</dd><dt>9152</dt><dd>3.11017049898907</dd><dt>9161</dt><dd>2.8938844217051</dd><dt>9209</dt><dd>3.21846903552281</dd><dt>9210</dt><dd>3.15878161099716</dd><dt>9219</dt><dd>2.7875400826708</dd><dt>9226</dt><dd>3.32852029327449</dd><dt>9285</dt><dd>3.11950752855879</dd><dt>9317</dt><dd>3.38663480206254</dd><dt>9319</dt><dd>3.02225696869738</dd><dt>9348</dt><dd>2.44443247332123</dd><dt>9350</dt><dd>2.66894706857731</dd><dt>9360</dt><dd>3.14076001943219</dd><dt>9384</dt><dd>2.8159468500553</dd><dt>9396</dt><dd>3.47783884537646</dd><dt>9398</dt><dd>2.73705698559113</dd><dt>9496</dt><dd>2.90666689221417</dd><dt>9514</dt><dd>3.41359013558233</dd><dt>9529</dt><dd>3.37726085440806</dd><dt>9601</dt><dd>2.96271787928549</dd><dt>9616</dt><dd>3.52812508832931</dd><dt>9636</dt><dd>2.86606014419756</dd><dt>9638</dt><dd>2.73939882202715</dd><dt>9688</dt><dd>2.7795881269499</dd><dt>9733</dt><dd>3.2170957298546</dd><dt>9735</dt><dd>2.64096180027678</dd><dt>9815</dt><dd>3.08599169141782</dd><dt>9823</dt><dd>3.39272504859921</dd><dt>9844</dt><dd>3.20704540766926</dd><dt>9934</dt><dd>2.78917566643299</dd><dt>9980</dt><dd>2.96105018292611</dd><dt>10001</dt><dd>3.26333580589434</dd><dt>10034</dt><dd>3.20762388034724</dd><dt>10096</dt><dd>2.87503621069097</dd><dt>10108</dt><dd>3.2367690632385</dd><dt>10197</dt><dd>3.61717826619617</dd><dt>10210</dt><dd>3.54206031288465</dd><dt>10217</dt><dd>3.29583385752845</dd><dt>10220</dt><dd>3.38967707779057</dd><dt>10233</dt><dd>3.17794637153115</dd><dt>10276</dt><dd>3.55021727488514</dd><dt>10287</dt><dd>2.8364276652477</dd><dt>10350</dt><dd>3.40373906114232</dd><dt>10351</dt><dd>3.19899684935246</dd><dt>10386</dt><dd>3.30542987926468</dd><dt>10412</dt><dd>3.1063812296457</dd><dt>10552</dt><dd>3.06387441826965</dd><dt>10630</dt><dd>2.84722638837218</dd><dt>10709</dt><dd>3.3426006103097</dd><dt>10715</dt><dd>3.21059435939455</dd><dt>10727</dt><dd>3.27922330985313</dd><dt>10782</dt><dd>2.68076157031848</dd><dt>10800</dt><dd>3.40640897448489</dd><dt>10886</dt><dd>2.78816329880717</dd><dt>10903</dt><dd>2.50533904688828</dd><dt>10909</dt><dd>3.08536702152787</dd><dt>10917</dt><dd>3.02744583340983</dd><dt>10921</dt><dd>3.0467799307224</dd><dt>10980</dt><dd>2.6848150832173</dd><dt>11026</dt><dd>2.95030839356736</dd><dt>11078</dt><dd>3.40404825069288</dd><dt>11091</dt><dd>2.97984593528326</dd><dt>11204</dt><dd>3.0754024596535</dd><dt>11279</dt><dd>3.56647696155033</dd><dt>11402</dt><dd>3.1671545686373</dd><dt>11406</dt><dd>2.79541363997479</dd><dt>11435</dt><dd>2.85153216439262</dd><dt>11454</dt><dd>2.9435996091181</dd><dt>11474</dt><dd>2.75241507427951</dd><dt>11487</dt><dd>3.18407335033001</dd><dt>11503</dt><dd>3.48161210642103</dd><dt>11507</dt><dd>2.34767283120882</dd><dt>11598</dt><dd>2.47582129002862</dd><dt>11605</dt><dd>2.98238184297051</dd><dt>11610</dt><dd>2.55112510193013</dd><dt>11683</dt><dd>3.49785525181646</dd></dl>\n"
      ],
      "text/latex": [
       "\\begin{description*}\n",
       "\\item[12] 3.39585070698602\n",
       "\\item[44] 2.7344925556513\n",
       "\\item[71] 3.15180727292462\n",
       "\\item[84] 2.50691907664625\n",
       "\\item[129] 2.36819193420861\n",
       "\\item[149] 3.17346125773013\n",
       "\\item[191] 3.06563745921648\n",
       "\\item[221] 3.04375675658789\n",
       "\\item[248] 2.69997528095643\n",
       "\\item[264] 2.39863473613851\n",
       "\\item[281] 3.0800340586945\n",
       "\\item[368] 2.54242437728292\n",
       "\\item[464] 2.70073331954766\n",
       "\\item[467] 2.97389107101993\n",
       "\\item[496] 2.94024635679999\n",
       "\\item[540] 2.79640393275789\n",
       "\\item[546] 2.79380626007363\n",
       "\\item[576] 2.90730770582315\n",
       "\\item[629] 3.21376775825249\n",
       "\\item[687] 3.22237847199775\n",
       "\\item[705] 2.75887886905541\n",
       "\\item[765] 2.77232827618144\n",
       "\\item[769] 2.75385479365015\n",
       "\\item[809] 3.00536932883207\n",
       "\\item[938] 2.50260134761314\n",
       "\\item[945] 2.94136558363304\n",
       "\\item[952] 3.16644929027699\n",
       "\\item[960] 2.84677806808237\n",
       "\\item[1003] 3.07097243161486\n",
       "\\item[1057] 2.62904814793314\n",
       "\\item[1059] 3.03643059934994\n",
       "\\item[1065] 2.8813199003473\n",
       "\\item[1075] 3.41426745761456\n",
       "\\item[1076] 3.50489803376816\n",
       "\\item[1079] 2.28322076571997\n",
       "\\item[1101] 2.5641782620279\n",
       "\\item[1105] 2.73742461645496\n",
       "\\item[1143] 2.76170285166449\n",
       "\\item[1161] 3.60669093353185\n",
       "\\item[1195] 2.55630095181798\n",
       "\\item[1224] 2.86114382203023\n",
       "\\item[1271] 2.74936916129792\n",
       "\\item[1299] 2.80981736776154\n",
       "\\item[1342] 3.68084534831879\n",
       "\\item[1387] 3.4459957823743\n",
       "\\item[1407] 2.62113213983648\n",
       "\\item[1508] 2.82692388020893\n",
       "\\item[1568] 2.87750834432339\n",
       "\\item[1593] 3.01167599617109\n",
       "\\item[1646] 2.77570170451002\n",
       "\\item[1669] 2.92332602523003\n",
       "\\item[1693] 2.81101088328043\n",
       "\\item[1711] 2.8441947963414\n",
       "\\item[1715] 3.03746342326868\n",
       "\\item[1748] 3.03827349081739\n",
       "\\item[1749] 2.89836772082112\n",
       "\\item[1751] 2.91395601898197\n",
       "\\item[1763] 3.44780432809108\n",
       "\\item[1782] 2.98780698437009\n",
       "\\item[1862] 3.30891687137667\n",
       "\\item[1889] 3.44815933082708\n",
       "\\item[1896] 3.03242313886163\n",
       "\\item[1915] 2.63936586830184\n",
       "\\item[1916] 2.71074275584076\n",
       "\\item[1917] 3.388703897068\n",
       "\\item[1930] 3.6394543714289\n",
       "\\item[1933] 3.56032304410345\n",
       "\\item[1939] 3.26137867808536\n",
       "\\item[1945] 2.99175701189675\n",
       "\\item[1946] 3.47676408034417\n",
       "\\item[1964] 2.57440427442184\n",
       "\\item[1978] 3.40910186113872\n",
       "\\item[1999] 2.81536395301164\n",
       "\\item[2020] 2.80490939419123\n",
       "\\item[2055] 2.79634873185866\n",
       "\\item[2122] 3.05271722671156\n",
       "\\item[2132] 2.76039892984999\n",
       "\\item[2135] 2.83451205311503\n",
       "\\item[2194] 3.06674001387456\n",
       "\\item[2215] 3.06674001387456\n",
       "\\item[2224] 2.99673952463007\n",
       "\\item[2278] 3.49759126655976\n",
       "\\item[2315] 3.20858766000276\n",
       "\\item[2330] 3.17204866810439\n",
       "\\item[2333] 3.13727531483003\n",
       "\\item[2362] 2.9771116684959\n",
       "\\item[2381] 2.91121937150928\n",
       "\\item[2465] 2.93676069745185\n",
       "\\item[2488] 3.10735144918209\n",
       "\\item[2490] 2.51519987158722\n",
       "\\item[2500] 2.88447291590483\n",
       "\\item[2502] 2.83400478947189\n",
       "\\item[2555] 3.12064080671111\n",
       "\\item[2566] 3.24878926553091\n",
       "\\item[2592] 3.19073217386259\n",
       "\\item[2593] 2.99683586560423\n",
       "\\item[2604] 3.36274612325023\n",
       "\\item[2635] 3.36489810767737\n",
       "\\item[2660] 3.19541638464987\n",
       "\\item[2746] 2.85022824455237\n",
       "\\item[2851] 3.15580328347522\n",
       "\\item[2879] 2.61813257045527\n",
       "\\item[2919] 2.60042200087084\n",
       "\\item[2972] 3.53624926693584\n",
       "\\item[2990] 2.48649514495625\n",
       "\\item[3005] 2.96509120926864\n",
       "\\item[3020] 2.78408133691108\n",
       "\\item[3021] 2.65948679516079\n",
       "\\item[3103] 3.18365955548928\n",
       "\\item[3117] 3.12696259241708\n",
       "\\item[3195] 3.537607269002\n",
       "\\item[3269] 3.37536616277469\n",
       "\\item[3313] 2.80004523901579\n",
       "\\item[3357] 3.10870339729733\n",
       "\\item[3383] 2.70720051322315\n",
       "\\item[3428] 3.03019189179868\n",
       "\\item[3501] 3.53080440796686\n",
       "\\item[3531] 3.05604050264191\n",
       "\\item[3575] 3.4753806681705\n",
       "\\item[3605] 2.86812447835123\n",
       "\\item[3630] 2.8021905519517\n",
       "\\item[3634] 2.78582294735318\n",
       "\\item[3641] 2.97877639311747\n",
       "\\item[3738] 2.88598867449888\n",
       "\\item[3803] 3.31269037708578\n",
       "\\item[3810] 3.0537015154824\n",
       "\\item[3819] 3.26203922335392\n",
       "\\item[3824] 2.79217168171179\n",
       "\\item[3853] 2.92957711000927\n",
       "\\item[3855] 2.83756092726253\n",
       "\\item[3858] 3.45303056405493\n",
       "\\item[3867] 2.63722330003006\n",
       "\\item[3975] 3.29541946095331\n",
       "\\item[3996] 3.28319454043699\n",
       "\\item[4008] 3.19003440618494\n",
       "\\item[4012] 3.25544119679085\n",
       "\\item[4015] 3.51313691193797\n",
       "\\item[4021] 2.90929431941543\n",
       "\\item[4027] 3.79182042935725\n",
       "\\item[4034] 3.37175517137572\n",
       "\\item[4042] 3.4872549349293\n",
       "\\item[4046] 3.38239898718776\n",
       "\\item[4056] 3.14674927352558\n",
       "\\item[4057] 3.34179577745317\n",
       "\\item[4068] 3.13025478994691\n",
       "\\item[4078] 3.08372872999526\n",
       "\\item[4088] 3.13661001333483\n",
       "\\item[4095] 3.3731621896475\n",
       "\\item[4108] 3.35078847943383\n",
       "\\item[4109] 3.3421530213676\n",
       "\\item[4110] 3.04934337079538\n",
       "\\item[4111] 3.70165166105207\n",
       "\\item[4119] 2.85283025440763\n",
       "\\item[4161] 3.05045056312598\n",
       "\\item[4180] 2.6618203768142\n",
       "\\item[4189] 2.65525337226063\n",
       "\\item[4190] 3.1270255948578\n",
       "\\item[4311] 3.16779965564571\n",
       "\\item[4318] 2.66054816633139\n",
       "\\item[4416] 3.43653997124475\n",
       "\\item[4476] 2.91567788870163\n",
       "\\item[4492] 3.44046524584631\n",
       "\\item[4495] 2.55405034361106\n",
       "\\item[4585] 3.35161334359383\n",
       "\\item[4627] 3.12164850933274\n",
       "\\item[4658] 2.70288278419004\n",
       "\\item[4668] 2.57690844619238\n",
       "\\item[4735] 2.95656710345271\n",
       "\\item[4752] 2.58688181035895\n",
       "\\item[4801] 3.18548275203197\n",
       "\\item[4805] 3.28824067877244\n",
       "\\item[4806] 3.56215564113454\n",
       "\\item[4837] 3.51791240002027\n",
       "\\item[4862] 3.42635561760277\n",
       "\\item[4865] 3.17440803175486\n",
       "\\item[4869] 2.70943645637101\n",
       "\\item[4873] 2.97351630110266\n",
       "\\item[4981] 2.98879526335738\n",
       "\\item[5013] 2.47320084317706\n",
       "\\item[5021] 2.69269793670053\n",
       "\\item[5026] 3.18716759980971\n",
       "\\item[5034] 3.09608251720216\n",
       "\\item[5043] 3.25867157841197\n",
       "\\item[5069] 2.8241267042796\n",
       "\\item[5087] 3.08147812178835\n",
       "\\item[5115] 2.7525231427514\n",
       "\\item[5117] 2.59618857797068\n",
       "\\item[5145] 3.17300923177439\n",
       "\\item[5177] 2.6580395928053\n",
       "\\item[5187] 2.89704619811511\n",
       "\\item[5207] 2.96535482862374\n",
       "\\item[5210] 2.73209824516545\n",
       "\\item[5232] 3.49837158988205\n",
       "\\item[5288] 3.17016369515354\n",
       "\\item[5343] 2.91118101952359\n",
       "\\item[5345] 3.30891687137667\n",
       "\\item[5347] 3.20362002132201\n",
       "\\item[5348] 2.9983609816102\n",
       "\\item[5444] 2.65525337226063\n",
       "\\item[5455] 2.80675379330875\n",
       "\\item[5487] ...\n",
       "\\item[5548] 3.50221871413061\n",
       "\\item[5617] 3.45738671456059\n",
       "\\item[5654] 2.7121849979699\n",
       "\\item[5667] 3.12617326951564\n",
       "\\item[5699] 2.81086815878425\n",
       "\\item[5766] 2.52521872773143\n",
       "\\item[5779] 2.58627643756367\n",
       "\\item[5793] 3.30120171434642\n",
       "\\item[5798] 3.36358543053571\n",
       "\\item[5830] 3.06408510702242\n",
       "\\item[5889] 2.68432050450891\n",
       "\\item[5892] 2.81939876426444\n",
       "\\item[5902] 3.33103605825052\n",
       "\\item[5919] 2.76649411074161\n",
       "\\item[5946] 3.12613125204205\n",
       "\\item[6002] 2.92304722086974\n",
       "\\item[6005] 2.70656334712229\n",
       "\\item[6034] 3.13954533741788\n",
       "\\item[6096] 3.22342648630136\n",
       "\\item[6132] 2.7783214484782\n",
       "\\item[6152] 3.30409539343737\n",
       "\\item[6210] 2.64872651233172\n",
       "\\item[6236] 2.76701155358591\n",
       "\\item[6256] 3.22715587331628\n",
       "\\item[6281] 2.82152374762069\n",
       "\\item[6293] 3.21415130648969\n",
       "\\item[6310] 3.04086062738858\n",
       "\\item[6425] 3.04830799984743\n",
       "\\item[6431] 3.38577790064086\n",
       "\\item[6434] 3.24807985240439\n",
       "\\item[6457] 3.42979935802364\n",
       "\\item[6465] 3.16741706906339\n",
       "\\item[6478] 2.69034719786445\n",
       "\\item[6538] 2.98509392450297\n",
       "\\item[6539] 2.99210227172484\n",
       "\\item[6544] 2.6130613179623\n",
       "\\item[6575] 2.68996323424512\n",
       "\\item[6606] 2.77572844292931\n",
       "\\item[6668] 3.54244911717057\n",
       "\\item[6682] 2.71650272700302\n",
       "\\item[6695] 2.93471763971401\n",
       "\\item[6739] 2.92970309976055\n",
       "\\item[6800] 2.67367531520887\n",
       "\\item[6829] 2.63305200695837\n",
       "\\item[6841] 3.18028219884251\n",
       "\\item[6844] 2.96812280129942\n",
       "\\item[6886] 3.26277680952089\n",
       "\\item[6890] 2.79944421185984\n",
       "\\item[6929] 2.46555609815453\n",
       "\\item[6938] 2.81574985570324\n",
       "\\item[6971] 3.00831149416615\n",
       "\\item[6978] 2.73124362799069\n",
       "\\item[7019] 2.97121047721703\n",
       "\\item[7020] 3.26157587234516\n",
       "\\item[7062] 2.94969507479421\n",
       "\\item[7089] 3.29405187571342\n",
       "\\item[7158] 2.94143695915831\n",
       "\\item[7212] 2.60986695103368\n",
       "\\item[7221] 2.8066279502459\n",
       "\\item[7300] 3.08212698111699\n",
       "\\item[7313] 2.72391569453192\n",
       "\\item[7340] 2.86654576989002\n",
       "\\item[7347] 2.63736973599148\n",
       "\\item[7381] 3.23507351969157\n",
       "\\item[7389] 3.03755527593388\n",
       "\\item[7458] 2.71998295907807\n",
       "\\item[7508] 3.41310572016395\n",
       "\\item[7516] 2.69941589862462\n",
       "\\item[7560] 2.92146863418065\n",
       "\\item[7576] 2.7330385297379\n",
       "\\item[7609] 2.71650272700302\n",
       "\\item[7633] 3.22639294908417\n",
       "\\item[7646] 2.95492067087473\n",
       "\\item[7686] 2.79541363997479\n",
       "\\item[7710] 2.95009635413385\n",
       "\\item[7746] 3.02090781669126\n",
       "\\item[7773] 3.47880399167558\n",
       "\\item[7783] 2.85909217618352\n",
       "\\item[7793] 2.50329249898533\n",
       "\\item[7808] 2.66789268935209\n",
       "\\item[7859] 3.02635267566024\n",
       "\\item[7900] 3.19354550544106\n",
       "\\item[7917] 2.90002888726886\n",
       "\\item[7929] 2.86645879286064\n",
       "\\item[7977] 2.62395624292283\n",
       "\\item[8010] 3.19473603288783\n",
       "\\item[8055] 2.80228064548452\n",
       "\\item[8143] 3.64831209904582\n",
       "\\item[8145] 3.18986836028226\n",
       "\\item[8157] 2.8520889336396\n",
       "\\item[8195] 3.07272056508865\n",
       "\\item[8196] 3.40196563934081\n",
       "\\item[8208] 3.39711935387181\n",
       "\\item[8213] 3.39774681793903\n",
       "\\item[8214] 3.69348466541026\n",
       "\\item[8226] 3.40676272086687\n",
       "\\item[8231] 2.72268866918704\n",
       "\\item[8254] 3.58298123143481\n",
       "\\item[8263] 2.78213659164537\n",
       "\\item[8266] 3.26679355339949\n",
       "\\item[8317] 3.00264167375383\n",
       "\\item[8319] 2.57703147612882\n",
       "\\item[8326] 2.90142351005656\n",
       "\\item[8333] 2.3358375636459\n",
       "\\item[8336] 2.65347008221696\n",
       "\\item[8338] 2.38536767903128\n",
       "\\item[8346] 2.52582823110005\n",
       "\\item[8407] 2.90875821408056\n",
       "\\item[8511] 3.36438836019529\n",
       "\\item[8523] 3.22823497725597\n",
       "\\item[8560] 2.86696978375947\n",
       "\\item[8574] 3.09333980774967\n",
       "\\item[8578] 3.13842465297717\n",
       "\\item[8648] 2.92806934907374\n",
       "\\item[8676] 3.2179216512885\n",
       "\\item[8727] 2.73711074644708\n",
       "\\item[8792] 3.11981645718707\n",
       "\\item[8800] 3.05798483854977\n",
       "\\item[8850] 3.44078124813549\n",
       "\\item[8912] 2.46304214186934\n",
       "\\item[8968] 3.41519853454835\n",
       "\\item[8997] 3.12134271438879\n",
       "\\item[9010] 3.07816542405763\n",
       "\\item[9082] 3.30512968405183\n",
       "\\item[9123] 3.27242597803184\n",
       "\\item[9152] 3.11017049898907\n",
       "\\item[9161] 2.8938844217051\n",
       "\\item[9209] 3.21846903552281\n",
       "\\item[9210] 3.15878161099716\n",
       "\\item[9219] 2.7875400826708\n",
       "\\item[9226] 3.32852029327449\n",
       "\\item[9285] 3.11950752855879\n",
       "\\item[9317] 3.38663480206254\n",
       "\\item[9319] 3.02225696869738\n",
       "\\item[9348] 2.44443247332123\n",
       "\\item[9350] 2.66894706857731\n",
       "\\item[9360] 3.14076001943219\n",
       "\\item[9384] 2.8159468500553\n",
       "\\item[9396] 3.47783884537646\n",
       "\\item[9398] 2.73705698559113\n",
       "\\item[9496] 2.90666689221417\n",
       "\\item[9514] 3.41359013558233\n",
       "\\item[9529] 3.37726085440806\n",
       "\\item[9601] 2.96271787928549\n",
       "\\item[9616] 3.52812508832931\n",
       "\\item[9636] 2.86606014419756\n",
       "\\item[9638] 2.73939882202715\n",
       "\\item[9688] 2.7795881269499\n",
       "\\item[9733] 3.2170957298546\n",
       "\\item[9735] 2.64096180027678\n",
       "\\item[9815] 3.08599169141782\n",
       "\\item[9823] 3.39272504859921\n",
       "\\item[9844] 3.20704540766926\n",
       "\\item[9934] 2.78917566643299\n",
       "\\item[9980] 2.96105018292611\n",
       "\\item[10001] 3.26333580589434\n",
       "\\item[10034] 3.20762388034724\n",
       "\\item[10096] 2.87503621069097\n",
       "\\item[10108] 3.2367690632385\n",
       "\\item[10197] 3.61717826619617\n",
       "\\item[10210] 3.54206031288465\n",
       "\\item[10217] 3.29583385752845\n",
       "\\item[10220] 3.38967707779057\n",
       "\\item[10233] 3.17794637153115\n",
       "\\item[10276] 3.55021727488514\n",
       "\\item[10287] 2.8364276652477\n",
       "\\item[10350] 3.40373906114232\n",
       "\\item[10351] 3.19899684935246\n",
       "\\item[10386] 3.30542987926468\n",
       "\\item[10412] 3.1063812296457\n",
       "\\item[10552] 3.06387441826965\n",
       "\\item[10630] 2.84722638837218\n",
       "\\item[10709] 3.3426006103097\n",
       "\\item[10715] 3.21059435939455\n",
       "\\item[10727] 3.27922330985313\n",
       "\\item[10782] 2.68076157031848\n",
       "\\item[10800] 3.40640897448489\n",
       "\\item[10886] 2.78816329880717\n",
       "\\item[10903] 2.50533904688828\n",
       "\\item[10909] 3.08536702152787\n",
       "\\item[10917] 3.02744583340983\n",
       "\\item[10921] 3.0467799307224\n",
       "\\item[10980] 2.6848150832173\n",
       "\\item[11026] 2.95030839356736\n",
       "\\item[11078] 3.40404825069288\n",
       "\\item[11091] 2.97984593528326\n",
       "\\item[11204] 3.0754024596535\n",
       "\\item[11279] 3.56647696155033\n",
       "\\item[11402] 3.1671545686373\n",
       "\\item[11406] 2.79541363997479\n",
       "\\item[11435] 2.85153216439262\n",
       "\\item[11454] 2.9435996091181\n",
       "\\item[11474] 2.75241507427951\n",
       "\\item[11487] 3.18407335033001\n",
       "\\item[11503] 3.48161210642103\n",
       "\\item[11507] 2.34767283120882\n",
       "\\item[11598] 2.47582129002862\n",
       "\\item[11605] 2.98238184297051\n",
       "\\item[11610] 2.55112510193013\n",
       "\\item[11683] 3.49785525181646\n",
       "\\end{description*}\n"
      ],
      "text/markdown": [
       "12\n",
       ":   3.3958507069860244\n",
       ":   2.734492555651371\n",
       ":   3.1518072729246284\n",
       ":   2.50691907664625129\n",
       ":   2.36819193420861149\n",
       ":   3.17346125773013191\n",
       ":   3.06563745921648221\n",
       ":   3.04375675658789248\n",
       ":   2.69997528095643264\n",
       ":   2.39863473613851281\n",
       ":   3.0800340586945368\n",
       ":   2.54242437728292464\n",
       ":   2.70073331954766467\n",
       ":   2.97389107101993496\n",
       ":   2.94024635679999540\n",
       ":   2.79640393275789546\n",
       ":   2.79380626007363576\n",
       ":   2.90730770582315629\n",
       ":   3.21376775825249687\n",
       ":   3.22237847199775705\n",
       ":   2.75887886905541765\n",
       ":   2.77232827618144769\n",
       ":   2.75385479365015809\n",
       ":   3.00536932883207938\n",
       ":   2.50260134761314945\n",
       ":   2.94136558363304952\n",
       ":   3.16644929027699960\n",
       ":   2.846778068082371003\n",
       ":   3.070972431614861057\n",
       ":   2.629048147933141059\n",
       ":   3.036430599349941065\n",
       ":   2.88131990034731075\n",
       ":   3.414267457614561076\n",
       ":   3.504898033768161079\n",
       ":   2.283220765719971101\n",
       ":   2.56417826202791105\n",
       ":   2.737424616454961143\n",
       ":   2.761702851664491161\n",
       ":   3.606690933531851195\n",
       ":   2.556300951817981224\n",
       ":   2.861143822030231271\n",
       ":   2.749369161297921299\n",
       ":   2.809817367761541342\n",
       ":   3.680845348318791387\n",
       ":   3.44599578237431407\n",
       ":   2.621132139836481508\n",
       ":   2.826923880208931568\n",
       ":   2.877508344323391593\n",
       ":   3.011675996171091646\n",
       ":   2.775701704510021669\n",
       ":   2.923326025230031693\n",
       ":   2.811010883280431711\n",
       ":   2.84419479634141715\n",
       ":   3.037463423268681748\n",
       ":   3.038273490817391749\n",
       ":   2.898367720821121751\n",
       ":   2.913956018981971763\n",
       ":   3.447804328091081782\n",
       ":   2.987806984370091862\n",
       ":   3.308916871376671889\n",
       ":   3.448159330827081896\n",
       ":   3.032423138861631915\n",
       ":   2.639365868301841916\n",
       ":   2.710742755840761917\n",
       ":   3.3887038970681930\n",
       ":   3.63945437142891933\n",
       ":   3.560323044103451939\n",
       ":   3.261378678085361945\n",
       ":   2.991757011896751946\n",
       ":   3.476764080344171964\n",
       ":   2.574404274421841978\n",
       ":   3.409101861138721999\n",
       ":   2.815363953011642020\n",
       ":   2.804909394191232055\n",
       ":   2.796348731858662122\n",
       ":   3.052717226711562132\n",
       ":   2.760398929849992135\n",
       ":   2.834512053115032194\n",
       ":   3.066740013874562215\n",
       ":   3.066740013874562224\n",
       ":   2.996739524630072278\n",
       ":   3.497591266559762315\n",
       ":   3.208587660002762330\n",
       ":   3.172048668104392333\n",
       ":   3.137275314830032362\n",
       ":   2.97711166849592381\n",
       ":   2.911219371509282465\n",
       ":   2.936760697451852488\n",
       ":   3.107351449182092490\n",
       ":   2.515199871587222500\n",
       ":   2.884472915904832502\n",
       ":   2.834004789471892555\n",
       ":   3.120640806711112566\n",
       ":   3.248789265530912592\n",
       ":   3.190732173862592593\n",
       ":   2.996835865604232604\n",
       ":   3.362746123250232635\n",
       ":   3.364898107677372660\n",
       ":   3.195416384649872746\n",
       ":   2.850228244552372851\n",
       ":   3.155803283475222879\n",
       ":   2.618132570455272919\n",
       ":   2.600422000870842972\n",
       ":   3.536249266935842990\n",
       ":   2.486495144956253005\n",
       ":   2.965091209268643020\n",
       ":   2.784081336911083021\n",
       ":   2.659486795160793103\n",
       ":   3.183659555489283117\n",
       ":   3.126962592417083195\n",
       ":   3.5376072690023269\n",
       ":   3.375366162774693313\n",
       ":   2.800045239015793357\n",
       ":   3.108703397297333383\n",
       ":   2.707200513223153428\n",
       ":   3.030191891798683501\n",
       ":   3.530804407966863531\n",
       ":   3.056040502641913575\n",
       ":   3.47538066817053605\n",
       ":   2.868124478351233630\n",
       ":   2.80219055195173634\n",
       ":   2.785822947353183641\n",
       ":   2.978776393117473738\n",
       ":   2.885988674498883803\n",
       ":   3.312690377085783810\n",
       ":   3.05370151548243819\n",
       ":   3.262039223353923824\n",
       ":   2.792171681711793853\n",
       ":   2.929577110009273855\n",
       ":   2.837560927262533858\n",
       ":   3.453030564054933867\n",
       ":   2.637223300030063975\n",
       ":   3.295419460953313996\n",
       ":   3.283194540436994008\n",
       ":   3.190034406184944012\n",
       ":   3.255441196790854015\n",
       ":   3.513136911937974021\n",
       ":   2.909294319415434027\n",
       ":   3.791820429357254034\n",
       ":   3.371755171375724042\n",
       ":   3.48725493492934046\n",
       ":   3.382398987187764056\n",
       ":   3.146749273525584057\n",
       ":   3.341795777453174068\n",
       ":   3.130254789946914078\n",
       ":   3.083728729995264088\n",
       ":   3.136610013334834095\n",
       ":   3.37316218964754108\n",
       ":   3.350788479433834109\n",
       ":   3.34215302136764110\n",
       ":   3.049343370795384111\n",
       ":   3.701651661052074119\n",
       ":   2.852830254407634161\n",
       ":   3.050450563125984180\n",
       ":   2.66182037681424189\n",
       ":   2.655253372260634190\n",
       ":   3.12702559485784311\n",
       ":   3.167799655645714318\n",
       ":   2.660548166331394416\n",
       ":   3.436539971244754476\n",
       ":   2.915677888701634492\n",
       ":   3.440465245846314495\n",
       ":   2.554050343611064585\n",
       ":   3.351613343593834627\n",
       ":   3.121648509332744658\n",
       ":   2.702882784190044668\n",
       ":   2.576908446192384735\n",
       ":   2.956567103452714752\n",
       ":   2.586881810358954801\n",
       ":   3.185482752031974805\n",
       ":   3.288240678772444806\n",
       ":   3.562155641134544837\n",
       ":   3.517912400020274862\n",
       ":   3.426355617602774865\n",
       ":   3.174408031754864869\n",
       ":   2.709436456371014873\n",
       ":   2.973516301102664981\n",
       ":   2.988795263357385013\n",
       ":   2.473200843177065021\n",
       ":   2.692697936700535026\n",
       ":   3.187167599809715034\n",
       ":   3.096082517202165043\n",
       ":   3.258671578411975069\n",
       ":   2.82412670427965087\n",
       ":   3.081478121788355115\n",
       ":   2.75252314275145117\n",
       ":   2.596188577970685145\n",
       ":   3.173009231774395177\n",
       ":   2.65803959280535187\n",
       ":   2.897046198115115207\n",
       ":   2.965354828623745210\n",
       ":   2.732098245165455232\n",
       ":   3.498371589882055288\n",
       ":   3.170163695153545343\n",
       ":   2.911181019523595345\n",
       ":   3.308916871376675347\n",
       ":   3.203620021322015348\n",
       ":   2.99836098161025444\n",
       ":   2.655253372260635455\n",
       ":   2.806753793308755487\n",
       ":   ...5548\n",
       ":   3.502218714130615617\n",
       ":   3.457386714560595654\n",
       ":   2.71218499796995667\n",
       ":   3.126173269515645699\n",
       ":   2.810868158784255766\n",
       ":   2.525218727731435779\n",
       ":   2.586276437563675793\n",
       ":   3.301201714346425798\n",
       ":   3.363585430535715830\n",
       ":   3.064085107022425889\n",
       ":   2.684320504508915892\n",
       ":   2.819398764264445902\n",
       ":   3.331036058250525919\n",
       ":   2.766494110741615946\n",
       ":   3.126131252042056002\n",
       ":   2.923047220869746005\n",
       ":   2.706563347122296034\n",
       ":   3.139545337417886096\n",
       ":   3.223426486301366132\n",
       ":   2.77832144847826152\n",
       ":   3.304095393437376210\n",
       ":   2.648726512331726236\n",
       ":   2.767011553585916256\n",
       ":   3.227155873316286281\n",
       ":   2.821523747620696293\n",
       ":   3.214151306489696310\n",
       ":   3.040860627388586425\n",
       ":   3.048307999847436431\n",
       ":   3.385777900640866434\n",
       ":   3.248079852404396457\n",
       ":   3.429799358023646465\n",
       ":   3.167417069063396478\n",
       ":   2.690347197864456538\n",
       ":   2.985093924502976539\n",
       ":   2.992102271724846544\n",
       ":   2.61306131796236575\n",
       ":   2.689963234245126606\n",
       ":   2.775728442929316668\n",
       ":   3.542449117170576682\n",
       ":   2.716502727003026695\n",
       ":   2.934717639714016739\n",
       ":   2.929703099760556800\n",
       ":   2.673675315208876829\n",
       ":   2.633052006958376841\n",
       ":   3.180282198842516844\n",
       ":   2.968122801299426886\n",
       ":   3.262776809520896890\n",
       ":   2.799444211859846929\n",
       ":   2.465556098154536938\n",
       ":   2.815749855703246971\n",
       ":   3.008311494166156978\n",
       ":   2.731243627990697019\n",
       ":   2.971210477217037020\n",
       ":   3.261575872345167062\n",
       ":   2.949695074794217089\n",
       ":   3.294051875713427158\n",
       ":   2.941436959158317212\n",
       ":   2.609866951033687221\n",
       ":   2.80662795024597300\n",
       ":   3.082126981116997313\n",
       ":   2.723915694531927340\n",
       ":   2.866545769890027347\n",
       ":   2.637369735991487381\n",
       ":   3.235073519691577389\n",
       ":   3.037555275933887458\n",
       ":   2.719982959078077508\n",
       ":   3.413105720163957516\n",
       ":   2.699415898624627560\n",
       ":   2.921468634180657576\n",
       ":   2.73303852973797609\n",
       ":   2.716502727003027633\n",
       ":   3.226392949084177646\n",
       ":   2.954920670874737686\n",
       ":   2.795413639974797710\n",
       ":   2.950096354133857746\n",
       ":   3.020907816691267773\n",
       ":   3.478803991675587783\n",
       ":   2.859092176183527793\n",
       ":   2.503292498985337808\n",
       ":   2.667892689352097859\n",
       ":   3.026352675660247900\n",
       ":   3.193545505441067917\n",
       ":   2.900028887268867929\n",
       ":   2.866458792860647977\n",
       ":   2.623956242922838010\n",
       ":   3.194736032887838055\n",
       ":   2.802280645484528143\n",
       ":   3.648312099045828145\n",
       ":   3.189868360282268157\n",
       ":   2.85208893363968195\n",
       ":   3.072720565088658196\n",
       ":   3.401965639340818208\n",
       ":   3.397119353871818213\n",
       ":   3.397746817939038214\n",
       ":   3.693484665410268226\n",
       ":   3.406762720866878231\n",
       ":   2.722688669187048254\n",
       ":   3.582981231434818263\n",
       ":   2.782136591645378266\n",
       ":   3.266793553399498317\n",
       ":   3.002641673753838319\n",
       ":   2.577031476128828326\n",
       ":   2.901423510056568333\n",
       ":   2.33583756364598336\n",
       ":   2.653470082216968338\n",
       ":   2.385367679031288346\n",
       ":   2.525828231100058407\n",
       ":   2.908758214080568511\n",
       ":   3.364388360195298523\n",
       ":   3.228234977255978560\n",
       ":   2.866969783759478574\n",
       ":   3.093339807749678578\n",
       ":   3.138424652977178648\n",
       ":   2.928069349073748676\n",
       ":   3.21792165128858727\n",
       ":   2.737110746447088792\n",
       ":   3.119816457187078800\n",
       ":   3.057984838549778850\n",
       ":   3.440781248135498912\n",
       ":   2.463042141869348968\n",
       ":   3.415198534548358997\n",
       ":   3.121342714388799010\n",
       ":   3.078165424057639082\n",
       ":   3.305129684051839123\n",
       ":   3.272425978031849152\n",
       ":   3.110170498989079161\n",
       ":   2.89388442170519209\n",
       ":   3.218469035522819210\n",
       ":   3.158781610997169219\n",
       ":   2.78754008267089226\n",
       ":   3.328520293274499285\n",
       ":   3.119507528558799317\n",
       ":   3.386634802062549319\n",
       ":   3.022256968697389348\n",
       ":   2.444432473321239350\n",
       ":   2.668947068577319360\n",
       ":   3.140760019432199384\n",
       ":   2.81594685005539396\n",
       ":   3.477838845376469398\n",
       ":   2.737056985591139496\n",
       ":   2.906666892214179514\n",
       ":   3.413590135582339529\n",
       ":   3.377260854408069601\n",
       ":   2.962717879285499616\n",
       ":   3.528125088329319636\n",
       ":   2.866060144197569638\n",
       ":   2.739398822027159688\n",
       ":   2.77958812694999733\n",
       ":   3.21709572985469735\n",
       ":   2.640961800276789815\n",
       ":   3.085991691417829823\n",
       ":   3.392725048599219844\n",
       ":   3.207045407669269934\n",
       ":   2.789175666432999980\n",
       ":   2.9610501829261110001\n",
       ":   3.2633358058943410034\n",
       ":   3.2076238803472410096\n",
       ":   2.8750362106909710108\n",
       ":   3.236769063238510197\n",
       ":   3.6171782661961710210\n",
       ":   3.5420603128846510217\n",
       ":   3.2958338575284510220\n",
       ":   3.3896770777905710233\n",
       ":   3.1779463715311510276\n",
       ":   3.5502172748851410287\n",
       ":   2.836427665247710350\n",
       ":   3.4037390611423210351\n",
       ":   3.1989968493524610386\n",
       ":   3.3054298792646810412\n",
       ":   3.106381229645710552\n",
       ":   3.0638744182696510630\n",
       ":   2.8472263883721810709\n",
       ":   3.342600610309710715\n",
       ":   3.2105943593945510727\n",
       ":   3.2792233098531310782\n",
       ":   2.6807615703184810800\n",
       ":   3.4064089744848910886\n",
       ":   2.7881632988071710903\n",
       ":   2.5053390468882810909\n",
       ":   3.0853670215278710917\n",
       ":   3.0274458334098310921\n",
       ":   3.046779930722410980\n",
       ":   2.684815083217311026\n",
       ":   2.9503083935673611078\n",
       ":   3.4040482506928811091\n",
       ":   2.9798459352832611204\n",
       ":   3.075402459653511279\n",
       ":   3.5664769615503311402\n",
       ":   3.167154568637311406\n",
       ":   2.7954136399747911435\n",
       ":   2.8515321643926211454\n",
       ":   2.943599609118111474\n",
       ":   2.7524150742795111487\n",
       ":   3.1840733503300111503\n",
       ":   3.4816121064210311507\n",
       ":   2.3476728312088211598\n",
       ":   2.4758212900286211605\n",
       ":   2.9823818429705111610\n",
       ":   2.5511251019301311683\n",
       ":   3.49785525181646\n",
       "\n"
      ],
      "text/plain": [
       "      12       44       71       84      129      149      191      221 \n",
       "3.395851 2.734493 3.151807 2.506919 2.368192 3.173461 3.065637 3.043757 \n",
       "     248      264      281      368      464      467      496      540 \n",
       "2.699975 2.398635 3.080034 2.542424 2.700733 2.973891 2.940246 2.796404 \n",
       "     546      576      629      687      705      765      769      809 \n",
       "2.793806 2.907308 3.213768 3.222378 2.758879 2.772328 2.753855 3.005369 \n",
       "     938      945      952      960     1003     1057     1059     1065 \n",
       "2.502601 2.941366 3.166449 2.846778 3.070972 2.629048 3.036431 2.881320 \n",
       "    1075     1076     1079     1101     1105     1143     1161     1195 \n",
       "3.414267 3.504898 2.283221 2.564178 2.737425 2.761703 3.606691 2.556301 \n",
       "    1224     1271     1299     1342     1387     1407     1508     1568 \n",
       "2.861144 2.749369 2.809817 3.680845 3.445996 2.621132 2.826924 2.877508 \n",
       "    1593     1646     1669     1693     1711     1715     1748     1749 \n",
       "3.011676 2.775702 2.923326 2.811011 2.844195 3.037463 3.038273 2.898368 \n",
       "    1751     1763     1782     1862     1889     1896     1915     1916 \n",
       "2.913956 3.447804 2.987807 3.308917 3.448159 3.032423 2.639366 2.710743 \n",
       "    1917     1930     1933     1939     1945     1946     1964     1978 \n",
       "3.388704 3.639454 3.560323 3.261379 2.991757 3.476764 2.574404 3.409102 \n",
       "    1999     2020     2055     2122     2132     2135     2194     2215 \n",
       "2.815364 2.804909 2.796349 3.052717 2.760399 2.834512 3.066740 3.066740 \n",
       "    2224     2278     2315     2330     2333     2362     2381     2465 \n",
       "2.996740 3.497591 3.208588 3.172049 3.137275 2.977112 2.911219 2.936761 \n",
       "    2488     2490     2500     2502     2555     2566     2592     2593 \n",
       "3.107351 2.515200 2.884473 2.834005 3.120641 3.248789 3.190732 2.996836 \n",
       "    2604     2635     2660     2746     2851     2879     2919     2972 \n",
       "3.362746 3.364898 3.195416 2.850228 3.155803 2.618133 2.600422 3.536249 \n",
       "    2990     3005     3020     3021     3103     3117     3195     3269 \n",
       "2.486495 2.965091 2.784081 2.659487 3.183660 3.126963 3.537607 3.375366 \n",
       "    3313     3357     3383     3428     3501     3531     3575     3605 \n",
       "2.800045 3.108703 2.707201 3.030192 3.530804 3.056041 3.475381 2.868124 \n",
       "    3630     3634     3641     3738     3803     3810     3819     3824 \n",
       "2.802191 2.785823 2.978776 2.885989 3.312690 3.053702 3.262039 2.792172 \n",
       "    3853     3855     3858     3867     3975     3996     4008     4012 \n",
       "2.929577 2.837561 3.453031 2.637223 3.295419 3.283195 3.190034 3.255441 \n",
       "    4015     4021     4027     4034     4042     4046     4056     4057 \n",
       "3.513137 2.909294 3.791820 3.371755 3.487255 3.382399 3.146749 3.341796 \n",
       "    4068     4078     4088     4095     4108     4109     4110     4111 \n",
       "3.130255 3.083729 3.136610 3.373162 3.350788 3.342153 3.049343 3.701652 \n",
       "    4119     4161     4180     4189     4190     4311     4318     4416 \n",
       "2.852830 3.050451 2.661820 2.655253 3.127026 3.167800 2.660548 3.436540 \n",
       "    4476     4492     4495     4585     4627     4658     4668     4735 \n",
       "2.915678 3.440465 2.554050 3.351613 3.121649 2.702883 2.576908 2.956567 \n",
       "    4752     4801     4805     4806     4837     4862     4865     4869 \n",
       "2.586882 3.185483 3.288241 3.562156 3.517912 3.426356 3.174408 2.709436 \n",
       "    4873     4981     5013     5021     5026     5034     5043     5069 \n",
       "2.973516 2.988795 2.473201 2.692698 3.187168 3.096083 3.258672 2.824127 \n",
       "    5087     5115     5117     5145     5177     5187     5207     5210 \n",
       "3.081478 2.752523 2.596189 3.173009 2.658040 2.897046 2.965355 2.732098 \n",
       "    5232     5288     5343     5345     5347     5348     5444     5455 \n",
       "3.498372 3.170164 2.911181 3.308917 3.203620 2.998361 2.655253 2.806754 \n",
       "    5487     5548     5617     5654     5667     5699     5766     5779 \n",
       "3.177714 2.600207 2.648163 2.536779 3.101771 3.257564 2.673927 3.191729 \n",
       "    5793     5798     5830     5889     5892     5902     5919     5946 \n",
       "3.111683 2.895035 2.890652 2.694029 3.010846 3.283855 2.762490 3.055507 \n",
       "    6002     6005     6034     6096     6132     6152     6210     6236 \n",
       "3.169177 3.295419 2.537143 2.886118 2.765682 3.264142 2.632311 2.698241 \n",
       "    6256     6281     6293     6310     6425     6431     6434     6457 \n",
       "2.791589 2.867499 2.682244 2.712499 2.813238 3.020245 2.523731 3.154739 \n",
       "    6465     6478     6538     6539     6544     6575     6606     6668 \n",
       "2.389111 3.040710 2.684084 2.731215 2.828932 2.867409 2.676274 3.154494 \n",
       "    6682     6695     6739     6800     6829     6841     6844     6886 \n",
       "2.778237 2.808591 2.555936 3.097376 3.314938 2.790101 2.238735 3.018277 \n",
       "    6890     6929     6938     6971     6978     7019     7020     7062 \n",
       "3.155272 2.556840 3.428714 2.846166 3.235418 2.742063 2.772506 2.615001 \n",
       "    7089     7158     7212     7221     7300     7313     7340     7347 \n",
       "3.221539 2.731686 2.423232 2.611822 2.891218 2.688873 2.853702 2.904171 \n",
       "    7381     7389     7458     7508     7516     7560     7576     7609 \n",
       "2.891335 2.551294 2.834250 2.462321 2.593496 2.901132 2.919222 3.151498 \n",
       "    7633     7646     7686     7710     7746     7773     7783     7793 \n",
       "2.860321 2.264641 3.184857 3.467215 2.457641 3.128485 3.373293 3.196914 \n",
       "    7808     7859     7900     7917     7929     7977     8010     8055 \n",
       "2.564555 2.457774 2.776710 3.185064 2.783985 2.626024 2.649542 2.811661 \n",
       "    8143     8145     8157     8195     8196     8208     8213     8214 \n",
       "3.040923 3.409586 3.270035 3.141863 3.133301 3.039365 2.923953 2.895535 \n",
       "    8226     8231     8254     8263     8266     8317     8319     8326 \n",
       "3.576747 2.896649 2.782438 3.055945 3.270551 3.179643 3.313609 3.620846 \n",
       "    8333     8336     8338     8346     8407     8511     8523     8560 \n",
       "3.480284 2.632379 2.926105 3.273351 3.462364 3.248004 3.006084 2.999161 \n",
       "    8574     8578     8648     8676     8727     8792     8800     8850 \n",
       "2.785021 2.748091 2.861330 2.950619 2.878199 2.792013 2.642290 2.860954 \n",
       "    8912     8968     8997     9010     9082     9123     9152     9161 \n",
       "2.632838 2.886228 2.997329 2.681401 2.439120 2.790073 2.970414 3.518632 \n",
       "    9209     9210     9219     9226     9285     9317     9319     9348 \n",
       "3.029675 3.164715 2.532392 3.090050 3.263125 3.090179 3.335531 3.517874 \n",
       "    9350     9360     9384     9396     9398     9496     9514     9529 \n",
       "2.747039 2.747103 3.196415 3.048000 3.025001 3.219398 2.934031 3.517669 \n",
       "    9601     9616     9636     9638     9688     9733     9735     9815 \n",
       "2.478605 3.308452 2.493620 3.135583 2.871998 2.622413 2.555936 3.197328 \n",
       "    9823     9844     9934     9980    10001    10034    10096    10108 \n",
       "2.923922 2.886228 2.710209 2.642857 3.286879 3.176896 3.320412 3.150498 \n",
       "   10197    10210    10217    10220    10233    10276    10287    10350 \n",
       "3.414480 2.442025 3.415007 3.020489 3.090124 2.626143 2.862338 3.305753 \n",
       "   10351    10386    10412    10552    10630    10709    10715    10727 \n",
       "2.585180 2.657856 3.019542 3.026912 2.790073 2.782602 3.008182 3.083998 \n",
       "   10782    10800    10886    10903    10909    10917    10921    10980 \n",
       "2.469040 3.257361 3.180766 2.523731 2.860268 2.449059 3.425870 3.257464 \n",
       "   11026    11078    11091    11204    11279    11402    11406    11435 \n",
       "3.406395 3.019779 2.981300 2.713518 3.184448 2.729435 2.811661 2.570225 \n",
       "   11454    11474    11487    11503    11507    11598    11605    11610 \n",
       "2.743368 2.514423 2.273232 2.660127 2.806852 2.678122 2.719207 2.782849 \n",
       "   11683    11729    11795    11806    11839    11846    11896    11924 \n",
       "3.112563 2.746924 2.844411 2.994090 3.140131 2.800299 2.602132 2.988201 \n",
       "   11930    11958    12083    12086    12089    12101    12143    12146 \n",
       "2.351741 3.017568 2.263834 3.083077 3.274528 2.704883 2.599324 2.809138 \n",
       "   12150    12208    12271    12287    12288    12365    12419    12429 \n",
       "3.287253 3.353175 2.790101 2.466267 2.946758 3.106844 2.790383 3.425624 \n",
       "   12433    12475    12539    12578    12607    12711    12733    12752 \n",
       "2.420893 2.832867 2.476729 2.878963 2.695290 2.901157 2.330046 2.573646 \n",
       "   12774    12786    12833    12871    12876    12886    12957    12976 \n",
       "2.662935 2.599986 2.904128 3.055031 2.641126 2.807372 3.040229 2.755559 \n",
       "   13016    13017    13022    13029    13046    13052    13057    13077 \n",
       "3.417180 3.476312 3.568416 2.837878 2.755559 3.102465 3.113267 3.114496 \n",
       "   13092    13105    13112    13122    13220    13221    13243    13310 \n",
       "3.050248 2.845574 3.155015 3.332366 2.430184 2.276895 2.925396 2.747174 \n",
       "   13356    13358    13359    13366    13474    13510    13548    13568 \n",
       "3.093096 2.618345 2.623750 2.479811 3.021040 2.539788 2.430929 2.764956 \n",
       "   13573    13584    13590    13600    13601    13616    13659    13708 \n",
       "2.534431 2.645527 3.011021 2.962510 2.492657 2.730789 2.650109 2.868645 \n",
       "   13718    13782    13837    13896    13913    13917    13932    13933 \n",
       "3.061893 2.792621 2.772830 3.346548 2.598853 3.381887 2.471366 2.724714 \n",
       "   13978    14018    14050    14072    14098    14162    14176    14198 \n",
       "2.600259 2.880745 3.664472 3.033902 3.191092 2.865511 2.952953 2.860268 \n",
       "   14258    14259    14294    14295    14326    14367    14376    14399 \n",
       "2.875225 2.469983 3.249871 2.713518 2.594471 2.810564 2.783779 3.182974 \n",
       "   14412    14465    14499    14512    14592    14644    14654    14683 \n",
       "3.190560 2.980949 3.505541 3.690583 2.542768 2.817335 2.304618 2.807372 \n",
       "   14725    14741    14828    14829    14886    14940    14946    14954 \n",
       "2.969227 2.985458 2.697326 2.466737 3.145866 2.356618 3.282041 3.008760 \n",
       "   15015    15101    15104    15114    15287    15289    15324    15355 \n",
       "2.568758 2.769849 2.555234 3.244725 2.799118 3.220308 3.556590 3.276802 \n",
       "   15366    15469    15481    15590    15594    15628    15681    15735 \n",
       "2.723132 2.638708 2.705936 3.100770 2.381933 2.935394 3.216137 3.239776 \n",
       "   15749    15750    15754    15758    15760    15765    15777    15785 \n",
       "3.384704 3.516188 3.514095 3.520652 3.212966 3.608636 3.437759 3.152509 \n",
       "   15786    15791    15805    15815    15821    15827    15830    15880 \n",
       "3.481646 3.255376 2.700494 3.265136 3.348101 3.517139 3.187060 3.110830 \n",
       "   15891    15902    15934    15941    15952    15961    15965    15971 \n",
       "3.193349 3.714094 3.169789 3.232084 3.315654 3.356737 3.562094 3.122832 \n",
       "   15989    16035    16042    16053    16054    16056    16071    16091 \n",
       "3.299678 3.221284 3.014416 3.464375 3.473961 2.927407 3.159375 3.555265 \n",
       "   16097    16111    16173    16258    16267    16293    16328    16405 \n",
       "3.351173 3.480937 2.595507 2.787767 2.793084 2.646590 2.607116 2.906384 \n",
       "   16454    16502    16515    16516    16526    16590    16592    16632 \n",
       "3.358797 2.575218 2.770689 2.647454 2.977852 2.779557 2.878467 3.526109 \n",
       "   16649    16650    16665    16672    16673    16676    16699    16757 \n",
       "2.773134 2.863806 3.199719 3.331058 3.464375 3.401603 2.882098 3.551680 \n",
       "   16822    16844    16853    16886    16914    16952    16963    16971 \n",
       "3.474671 2.735219 3.099418 3.248663 3.107956 2.815627 2.601526 3.448631 \n",
       "   17039    17069    17081    17091    17132    17135    17152    17157 \n",
       "2.416265 2.552472 2.732800 2.799740 3.195670 2.955886 2.783477 2.800747 \n",
       "   17190    17208    17222    17230    17257    17293    17294    17402 \n",
       "2.647563 3.069653 2.777815 2.848641 2.793262 2.861168 2.686719 2.417203 \n",
       "   17455    17494    17505    17529    17544    17678    17847    17875 \n",
       "2.834641 2.486331 2.749697 2.858687 2.984336 3.244309 3.037455 3.041415 \n",
       "   17878    17879    17959    17997    18001    18039    18066    18125 \n",
       "2.646071 2.947250 2.751080 3.070538 3.205364 2.514498 2.847078 2.989497 \n",
       "   18158    18164    18323    18401    18433    18460    18469    18470 \n",
       "2.697404 3.046861 2.724165 3.527250 2.932882 2.664725 3.131272 3.113342 \n",
       "   18564    18565    18618    18694    18748    18753    18767    18858 \n",
       "3.091645 3.000447 3.342855 2.587929 2.839579 2.747013 3.050876 2.740299 \n",
       "   18960    18984    19009    19076    19089    19090    19091    19094 \n",
       "2.873387 3.467569 2.767178 3.504871 3.191277 3.139801 2.822440 3.502355 \n",
       "   19121    19122    19173    19192    19195    19208    19223    19434 \n",
       "3.303374 3.374685 3.339694 2.567525 2.330253 2.800747 2.740299 2.885277 \n",
       "   19478    19492    19556    19594    19616    19726    19730    19733 \n",
       "3.445357 2.951892 2.795562 3.032479 3.056944 3.074790 2.941744 3.173019 \n",
       "   19757    19801    19827    19847    19858    19869    19875    19906 \n",
       "2.972071 3.380165 2.860108 2.424384 2.441589 2.232110 2.599261 2.692920 \n",
       "   19994    19995    20008    20015    20031    20049    20056    20083 \n",
       "2.831725 2.407047 2.657506 3.148543 2.896903 2.791363 2.905944 2.664401 \n",
       "   20107    20111    20127    20163    20200    20241    20258    20267 \n",
       "2.795667 2.490694 3.146094 2.563411 2.396161 2.596753 3.466035 3.678169 \n",
       "   20385    20427    20443    20520    20605    20679    20767    20806 \n",
       "2.386165 2.836262 2.631594 2.804303 3.008397 2.924797 3.008649 2.891907 \n",
       "   20837    20875    20898    20903    20905    20912    20925    20937 \n",
       "3.077707 2.797785 3.133210 2.929868 2.744293 2.625647 3.369021 2.727499 \n",
       "   21080    21085    21165    21176    21265    21266    21269    21284 \n",
       "3.022307 2.580516 2.879550 2.826243 3.207662 3.283998 3.108848 2.691858 \n",
       "   21304    21333    21337    21365    21398    21418    21542    21559 \n",
       "3.163137 2.232110 2.567706 3.346551 2.729273 2.655225 2.785654 3.094746 \n",
       "   21626    21690    21779    21830    21900    21922    21987    22009 \n",
       "3.058768 2.980862 2.905345 2.805037 3.083569 2.423860 2.597930 3.401739 \n",
       "   22150    22269    22336    22345    22377    22399    22414    22423 \n",
       "2.308446 3.085418 3.036176 3.196270 2.620568 3.057593 2.677924 3.119933 \n",
       "   22471    22714    22972    22973    22979    23002    23007    23053 \n",
       "2.969788 3.721346 3.126603 2.939269 2.775603 2.741388 3.094053 2.841212 \n",
       "   23144    23176    23192    23302    23320    23338    23391    23441 \n",
       "2.867323 3.091255 3.399768 2.678750 2.563752 2.767178 2.642704 2.824370 \n",
       "   23468    23493    23517    23528    23531    23548    23553    23591 \n",
       "3.232750 2.670633 2.681284 2.775603 2.549311 3.300897 2.907745 3.688897 \n",
       "   23681    23701    23780    23840    23848    23857    24022    24023 \n",
       "2.925199 2.675506 2.624561 2.624397 2.807388 3.014823 3.073608 2.755584 \n",
       "   24030    24058    24059    24124    24135    24352    24418    24421 \n",
       "2.389318 2.967909 3.114712 2.469926 3.150024 2.977259 2.671498 3.131272 \n",
       "   24453    24463    24470    24471    24478    24498    24527    24576 \n",
       "2.857084 3.142006 3.009469 2.621414 3.155093 2.657787 3.065349 3.150426 \n",
       "   24593    24601    24687    24714    24741    24804    24816    24911 \n",
       "3.050876 2.601124 2.942821 2.752929 2.629750 2.903934 2.921344 2.745706 \n",
       "   24922    24924    24947    25024    25066    25070    25085    25103 \n",
       "2.980886 3.186868 2.833660 2.902548 2.755649 2.949469 3.376068 2.726612 \n",
       "   25127    25141    25148    25275    25356    25392    25408    25432 \n",
       "2.413455 2.930122 2.540796 2.796418 2.794290 3.413211 2.820307 2.669043 \n",
       "   25519    25570    25571    25597    25611    25621    25652    25711 \n",
       "2.710115 2.796976 2.723939 2.670310 2.295860 3.000743 2.380831 3.001285 \n",
       "   25728    25735    25737    25766    25804    25849    25888    25890 \n",
       "2.820115 3.014233 3.069530 3.387951 2.851479 3.644922 2.684099 2.367786 \n",
       "   25947    25990    26078    26081    26084    26086    26120    26168 \n",
       "2.988004 2.760290 2.731489 2.380831 2.993922 2.462162 3.502219 3.457387 \n",
       "   26314    26331    26476    26528    26602    26612    26613    26644 \n",
       "2.712185 3.126173 2.810868 2.525219 2.586276 3.301202 3.363585 3.064085 \n",
       "   26696    26755    26801    26811    26861    26902    26916    26919 \n",
       "2.684321 2.819399 3.331036 2.766494 3.126131 2.923047 2.706563 3.139545 \n",
       "   26956    27110    27148    27246    27395    27403    27415    27420 \n",
       "3.223426 2.778321 3.304095 2.648727 2.767012 3.227156 2.821524 3.214151 \n",
       "   27531    27541    27555    27578    27579    27598    27600    27606 \n",
       "3.040861 3.048308 3.385778 3.248080 3.429799 3.167417 2.690347 2.985094 \n",
       "   27611    27698    27699    27757    27764    27787    27791    27870 \n",
       "2.992102 2.613061 2.689963 2.775728 3.542449 2.716503 2.934718 2.929703 \n",
       "   27925    27928    27945    28038    28119    28156    28157    28191 \n",
       "2.673675 2.633052 3.180282 2.968123 3.262777 2.799444 2.465556 2.815750 \n",
       "   28237    28242    28251    28254    28360    28363    28379    28394 \n",
       "3.008311 2.731244 2.971210 3.261576 2.949695 3.294052 2.941437 2.609867 \n",
       "   28422    28496    28572    28621    28765    28770    28776    28807 \n",
       "2.806628 3.082127 2.723916 2.866546 2.637370 3.235074 3.037555 2.719983 \n",
       "   28886    28961    28969    28980    28997    29004    29014    29093 \n",
       "3.413106 2.699416 2.921469 2.733039 2.716503 3.226393 2.954921 2.795414 \n",
       "   29101    29118    29159    29164    29169    29225    29275    29288 \n",
       "2.950096 3.020908 3.478804 2.859092 2.503292 2.667893 3.026353 3.193546 \n",
       "   29294    29387    29431    29480    29508    29521    29540    29554 \n",
       "2.900029 2.866459 2.623956 3.194736 2.802281 3.648312 3.189868 2.852089 \n",
       "   29557    29562    29569    29584    29593    29633    29634    29639 \n",
       "3.072721 3.401966 3.397119 3.397747 3.693485 3.406763 2.722689 3.582981 \n",
       "   29652    29687    29715    29748    29830    29868    29871    29916 \n",
       "2.782137 3.266794 3.002642 2.577031 2.901424 2.335838 2.653470 2.385368 \n",
       "   29920    29958    30006    30128    30194    30197    30263    30290 \n",
       "2.525828 2.908758 3.364388 3.228235 2.866970 3.093340 3.138425 2.928069 \n",
       "   30369    30427    30477    30478    30491    30539    30583    30591 \n",
       "3.217922 2.737111 3.119816 3.057985 3.440781 2.463042 3.415199 3.121343 \n",
       "   30606    30613    30624    30632    30649    30694    30727    30737 \n",
       "3.078165 3.305130 3.272426 3.110170 2.893884 3.218469 3.158782 2.787540 \n",
       "   30747    30753    30756    30777    30783    30817    30870    30892 \n",
       "3.328520 3.119508 3.386635 3.022257 2.444432 2.668947 3.140760 2.815947 \n",
       "   30898    30984    31002    31003    31038    31069    31132    31147 \n",
       "3.477839 2.737057 2.906667 3.413590 3.377261 2.962718 3.528125 2.866060 \n",
       "   31183    31184    31191    31222    31254    31324    31363    31391 \n",
       "2.739399 2.779588 3.217096 2.640962 3.085992 3.392725 3.207045 2.789176 \n",
       "   31396    31426    31431    31433    31504    31525    31615    31667 \n",
       "2.961050 3.263336 3.207624 2.875036 3.236769 3.617178 3.542060 3.295834 \n",
       "   31668    31689    31758    31768    31863    31867    31868    31897 \n",
       "3.389677 3.177946 3.550217 2.836428 3.403739 3.198997 3.305430 3.106381 \n",
       "   31899    31902    31956    31969    31975    31982    31997    32042 \n",
       "3.063874 2.847226 3.342601 3.210594 3.279223 2.680762 3.406409 2.788163 \n",
       "   32045    32074    32087    32095    32143    32152    32212    32229 \n",
       "2.505339 3.085367 3.027446 3.046780 2.684815 2.950308 3.404048 2.979846 \n",
       "   32256    32314    32357    32369    32458    32502    32504    32517 \n",
       "3.075402 3.566477 3.167155 2.795414 2.851532 2.943600 2.752415 3.184073 \n",
       "   32561    32564    32571    32591    32599    32626 \n",
       "3.481612 2.347673 2.475821 2.982382 2.551125 3.497855 "
      ]
     },
     "metadata": {},
     "output_type": "display_data"
    }
   ],
   "source": [
    "# calculating the out-of-sample MSE\n",
    "trainregbasic <- predict(regbasic, newdata=test)\n",
    "trainregbasic"
   ]
  },
  {
   "cell_type": "code",
   "execution_count": 133,
   "metadata": {
    "execution": {
     "iopub.execute_input": "2021-02-18T19:28:39.261214Z",
     "iopub.status.busy": "2021-02-18T19:28:39.260257Z",
     "iopub.status.idle": "2021-02-18T19:28:39.309792Z",
     "shell.execute_reply": "2021-02-18T19:28:39.306592Z"
    },
    "papermill": {
     "duration": 0.087305,
     "end_time": "2021-02-18T19:28:39.310008",
     "exception": false,
     "start_time": "2021-02-18T19:28:39.222703",
     "status": "completed"
    },
    "tags": []
   },
   "outputs": [
    {
     "name": "stdout",
     "output_type": "stream",
     "text": [
      "Test MSE for the basic model:  0.1971044  Test R2 for the basic model:  0.3279559"
     ]
    }
   ],
   "source": [
    "y.test <- log(test$wage)\n",
    "MSE.test1 <- sum((y.test-trainregbasic)^2)/length(y.test)\n",
    "R2.test1<- 1- MSE.test1/var(y.test)\n",
    "\n",
    "cat(\"Test MSE for the basic model: \", MSE.test1, \" \")\n",
    "\n",
    "cat(\"Test R2 for the basic model: \", R2.test1)"
   ]
  },
  {
   "cell_type": "markdown",
   "metadata": {
    "papermill": {
     "duration": 0.048538,
     "end_time": "2021-02-18T19:28:39.413804",
     "exception": false,
     "start_time": "2021-02-18T19:28:39.365266",
     "status": "completed"
    },
    "tags": []
   },
   "source": [
    "In the basic model, the $MSE_{test}$ is quite closed to the $MSE_{sample}$."
   ]
  },
  {
   "cell_type": "code",
   "execution_count": 143,
   "metadata": {
    "execution": {
     "iopub.execute_input": "2021-02-18T19:28:39.481857Z",
     "iopub.status.busy": "2021-02-18T19:28:39.480606Z",
     "iopub.status.idle": "2021-02-18T19:28:39.623819Z",
     "shell.execute_reply": "2021-02-18T19:28:39.621785Z"
    },
    "papermill": {
     "duration": 0.17873,
     "end_time": "2021-02-18T19:28:39.624018",
     "exception": false,
     "start_time": "2021-02-18T19:28:39.445288",
     "status": "completed"
    },
    "tags": []
   },
   "outputs": [
    {
     "name": "stdout",
     "output_type": "stream",
     "text": [
      "Test MSE for the flexible model:  0.2064107  Test R2 for the flexible model:  0.2962252"
     ]
    }
   ],
   "source": [
    "# flexible model\n",
    "# estimating the parameters\n",
    "#options(warn=-1)\n",
    "regflex <- lm(flex, data=train)\n",
    "\n",
    "# calculating the out-of-sample MSE\n",
    "trainregflex<- predict(regflex, newdata=test)\n",
    "y.test <- log(test$wage)\n",
    "MSE.test2 <- sum((y.test-trainregflex)^2)/length(y.test)\n",
    "R2.test2<- 1- MSE.test2/var(y.test)\n",
    "\n",
    "cat(\"Test MSE for the flexible model: \", MSE.test2, \" \")\n",
    "\n",
    "cat(\"Test R2 for the flexible model: \", R2.test2)"
   ]
  },
  {
   "cell_type": "code",
   "execution_count": 148,
   "metadata": {},
   "outputs": [
    {
     "data": {
      "text/html": [
       "1030"
      ],
      "text/latex": [
       "1030"
      ],
      "text/markdown": [
       "1030"
      ],
      "text/plain": [
       "[1] 1030"
      ]
     },
     "metadata": {},
     "output_type": "display_data"
    }
   ],
   "source": [
    "length(y.test)"
   ]
  },
  {
   "cell_type": "markdown",
   "metadata": {
    "papermill": {
     "duration": 0.050246,
     "end_time": "2021-02-18T19:28:39.732065",
     "exception": false,
     "start_time": "2021-02-18T19:28:39.681819",
     "status": "completed"
    },
    "tags": []
   },
   "source": [
    "In the flexible model, the discrepancy between the $MSE_{test}$ and the $MSE_{sample}$ is not large."
   ]
  },
  {
   "cell_type": "markdown",
   "metadata": {
    "papermill": {
     "duration": 0.032619,
     "end_time": "2021-02-18T19:28:39.797362",
     "exception": false,
     "start_time": "2021-02-18T19:28:39.764743",
     "status": "completed"
    },
    "tags": []
   },
   "source": [
    "It is worth to notice that the $MSE_{test}$ vary across different data splits. Hence, it is a good idea average the out-of-sample MSE over different data splits to get valid results.\n",
    "\n",
    "Nevertheless, we observe that, based on the out-of-sample $MSE$, the basic model using ols regression performs is about as well (or slightly better) than the flexible model. \n",
    "\n",
    "\n",
    "Next, let us use lasso regression in the flexible model instead of ols regression. Lasso (*least absolute shrinkage and selection operator*) is a penalized regression method that can be used to reduce the complexity of a regression model when the number of regressors $p$ is relatively large in relation to $n$. \n",
    "\n",
    "Note that the out-of-sample $MSE$ on the test sample can be computed for any other black-box prediction method as well. Thus, let us finally compare the performance of lasso regression in the flexible model to ols regression."
   ]
  },
  {
   "cell_type": "code",
   "execution_count": 115,
   "metadata": {
    "execution": {
     "iopub.execute_input": "2021-02-18T19:28:39.867955Z",
     "iopub.status.busy": "2021-02-18T19:28:39.866685Z",
     "iopub.status.idle": "2021-02-18T19:28:41.859918Z",
     "shell.execute_reply": "2021-02-18T19:28:41.858252Z"
    },
    "papermill": {
     "duration": 2.030191,
     "end_time": "2021-02-18T19:28:41.860172",
     "exception": false,
     "start_time": "2021-02-18T19:28:39.829981",
     "status": "completed"
    },
    "tags": []
   },
   "outputs": [
    {
     "name": "stdout",
     "output_type": "stream",
     "text": [
      "Test MSE for the lasso on flexible model:  0.212698  Test R2 for the lasso flexible model:  0.2747882"
     ]
    }
   ],
   "source": [
    "# flexible model using lasso\n",
    "\n",
    "# estimating the parameters\n",
    "library(hdm)\n",
    "reglasso <- rlasso(flex, data=train, post=FALSE)\n",
    "\n",
    "# calculating the out-of-sample MSE\n",
    "trainreglasso<- predict(reglasso, newdata=test)\n",
    "MSE.lasso <- sum((y.test-trainreglasso)^2)/length(y.test)\n",
    "R2.lasso<- 1- MSE.lasso/var(y.test)\n",
    "\n",
    "\n",
    "cat(\"Test MSE for the lasso on flexible model: \", MSE.lasso, \" \")\n",
    "\n",
    "cat(\"Test R2 for the lasso flexible model: \", R2.lasso)"
   ]
  },
  {
   "cell_type": "markdown",
   "metadata": {
    "papermill": {
     "duration": 0.052309,
     "end_time": "2021-02-18T19:28:41.975337",
     "exception": false,
     "start_time": "2021-02-18T19:28:41.923028",
     "status": "completed"
    },
    "tags": []
   },
   "source": [
    "Finally, let us summarize the results:"
   ]
  },
  {
   "cell_type": "code",
   "execution_count": 149,
   "metadata": {
    "execution": {
     "iopub.execute_input": "2021-02-18T19:28:42.046887Z",
     "iopub.status.busy": "2021-02-18T19:28:42.045718Z",
     "iopub.status.idle": "2021-02-18T19:28:42.079375Z",
     "shell.execute_reply": "2021-02-18T19:28:42.078267Z"
    },
    "papermill": {
     "duration": 0.070703,
     "end_time": "2021-02-18T19:28:42.079561",
     "exception": false,
     "start_time": "2021-02-18T19:28:42.008858",
     "status": "completed"
    },
    "tags": []
   },
   "outputs": [
    {
     "data": {
      "text/html": [
       "<table class=\"dataframe\">\n",
       "<caption>A xtable: 3 × 2</caption>\n",
       "<thead>\n",
       "\t<tr><th></th><th scope=col>$MSE_{test}$</th><th scope=col>$R^2_{test}$</th></tr>\n",
       "\t<tr><th></th><th scope=col>&lt;dbl&gt;</th><th scope=col>&lt;dbl&gt;</th></tr>\n",
       "</thead>\n",
       "<tbody>\n",
       "\t<tr><th scope=row>basic reg</th><td>0.1971044</td><td>0.3279559</td></tr>\n",
       "\t<tr><th scope=row>flexible reg</th><td>0.2064107</td><td>0.2962252</td></tr>\n",
       "\t<tr><th scope=row>lasso regression</th><td>0.2126980</td><td>0.2747882</td></tr>\n",
       "</tbody>\n",
       "</table>\n"
      ],
      "text/latex": [
       "A xtable: 3 × 2\n",
       "\\begin{tabular}{r|ll}\n",
       "  & \\$MSE\\_\\{test\\}\\$ & \\$R\\textasciicircum{}2\\_\\{test\\}\\$\\\\\n",
       "  & <dbl> & <dbl>\\\\\n",
       "\\hline\n",
       "\tbasic reg & 0.1971044 & 0.3279559\\\\\n",
       "\tflexible reg & 0.2064107 & 0.2962252\\\\\n",
       "\tlasso regression & 0.2126980 & 0.2747882\\\\\n",
       "\\end{tabular}\n"
      ],
      "text/markdown": [
       "\n",
       "A xtable: 3 × 2\n",
       "\n",
       "| <!--/--> | $MSE_{test}$ &lt;dbl&gt; | $R^2_{test}$ &lt;dbl&gt; |\n",
       "|---|---|---|\n",
       "| basic reg | 0.1971044 | 0.3279559 |\n",
       "| flexible reg | 0.2064107 | 0.2962252 |\n",
       "| lasso regression | 0.2126980 | 0.2747882 |\n",
       "\n"
      ],
      "text/plain": [
       "                 $MSE_{test}$ $R^2_{test}$\n",
       "basic reg        0.1971044    0.3279559   \n",
       "flexible reg     0.2064107    0.2962252   \n",
       "lasso regression 0.2126980    0.2747882   "
      ]
     },
     "metadata": {},
     "output_type": "display_data"
    }
   ],
   "source": [
    "table2 <- matrix(0, 3,2)\n",
    "table2[1,1]   <- MSE.test1\n",
    "table2[2,1]   <- MSE.test2\n",
    "table2[3,1]   <- MSE.lasso\n",
    "table2[1,2]   <- R2.test1\n",
    "table2[2,2]   <- R2.test2\n",
    "table2[3,2]   <- R2.lasso\n",
    "\n",
    "rownames(table2)<- c(\"basic reg\",\"flexible reg\",\"lasso regression\")\n",
    "colnames(table2)<- c(\"$MSE_{test}$\", \"$R^2_{test}$\")\n",
    "tab2 <- xtable(table2, digits =3)\n",
    "tab2"
   ]
  },
  {
   "cell_type": "code",
   "execution_count": 151,
   "metadata": {
    "execution": {
     "iopub.execute_input": "2021-02-18T19:28:42.152462Z",
     "iopub.status.busy": "2021-02-18T19:28:42.151344Z",
     "iopub.status.idle": "2021-02-18T19:28:42.165928Z",
     "shell.execute_reply": "2021-02-18T19:28:42.164837Z"
    },
    "papermill": {
     "duration": 0.052181,
     "end_time": "2021-02-18T19:28:42.166072",
     "exception": false,
     "start_time": "2021-02-18T19:28:42.113891",
     "status": "completed"
    },
    "tags": []
   },
   "outputs": [
    {
     "name": "stdout",
     "output_type": "stream",
     "text": [
      "% latex table generated in R 4.0.4 by xtable 1.8-4 package\n",
      "% Sun Mar 07 23:04:23 2021\n",
      "\\begin{table}[ht]\n",
      "\\centering\n",
      "\\begin{tabular}{rrr}\n",
      "  \\hline\n",
      " & \\$MSE\\_\\{test\\}\\$ & \\$R\\verb|^|2\\_\\{test\\}\\$ \\\\ \n",
      "  \\hline\n",
      "basic reg & 0.197 & 0.328 \\\\ \n",
      "  flexible reg & 0.206 & 0.296 \\\\ \n",
      "  lasso regression & 0.213 & 0.275 \\\\ \n",
      "   \\hline\n",
      "\\end{tabular}\n",
      "\\end{table}\n"
     ]
    }
   ],
   "source": [
    "print(tab2,type=\"latex\") # type=\"latex\" for printing table in LaTeX"
   ]
  },
  {
   "cell_type": "code",
   "execution_count": null,
   "metadata": {},
   "outputs": [],
   "source": []
  },
  {
   "cell_type": "code",
   "execution_count": null,
   "metadata": {},
   "outputs": [],
   "source": []
  }
 ],
 "metadata": {
  "kernelspec": {
   "display_name": "R",
   "language": "R",
   "name": "ir"
  },
  "language_info": {
   "codemirror_mode": "r",
   "file_extension": ".r",
   "mimetype": "text/x-r-source",
   "name": "R",
   "pygments_lexer": "r",
   "version": "4.0.4"
  },
  "papermill": {
   "default_parameters": {},
   "duration": 15.121246,
   "end_time": "2021-02-18T19:28:42.309027",
   "environment_variables": {},
   "exception": null,
   "input_path": "__notebook__.ipynb",
   "output_path": "__notebook__.ipynb",
   "parameters": {},
   "start_time": "2021-02-18T19:28:27.187781",
   "version": "2.2.2"
  }
 },
 "nbformat": 4,
 "nbformat_minor": 4
}
