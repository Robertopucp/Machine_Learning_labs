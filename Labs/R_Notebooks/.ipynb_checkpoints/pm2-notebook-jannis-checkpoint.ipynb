{
 "cells": [
  {
   "cell_type": "markdown",
   "metadata": {
    "papermill": {
     "duration": 0.022263,
     "end_time": "2021-01-20T08:46:44.289888",
     "exception": false,
     "start_time": "2021-01-20T08:46:44.267625",
     "status": "completed"
    },
    "tags": []
   },
   "source": [
    "This notebook contains an example for teaching."
   ]
  },
  {
   "cell_type": "markdown",
   "metadata": {
    "papermill": {
     "duration": 0.02114,
     "end_time": "2021-01-20T08:46:44.333044",
     "exception": false,
     "start_time": "2021-01-20T08:46:44.311904",
     "status": "completed"
    },
    "tags": []
   },
   "source": [
    "# Testing the Convergence Hypothesis"
   ]
  },
  {
   "cell_type": "markdown",
   "metadata": {
    "papermill": {
     "duration": 0.020943,
     "end_time": "2021-01-20T08:46:44.375077",
     "exception": false,
     "start_time": "2021-01-20T08:46:44.354134",
     "status": "completed"
    },
    "tags": []
   },
   "source": [
    "## Introduction"
   ]
  },
  {
   "cell_type": "markdown",
   "metadata": {
    "papermill": {
     "duration": 0.020999,
     "end_time": "2021-01-20T08:46:44.417216",
     "exception": false,
     "start_time": "2021-01-20T08:46:44.396217",
     "status": "completed"
    },
    "tags": []
   },
   "source": [
    "We provide an additional empirical example of partialling-out with Lasso to estimate the regression coefficient $\\beta_1$ in the high-dimensional linear regression model:\n",
    "  $$\n",
    "  Y = \\beta_1 D +  \\beta_2'W + \\epsilon.\n",
    "  $$\n",
    "  \n",
    "Specifically, we are interested in how the rates  at which economies of different countries grow ($Y$) are related to the initial wealth levels in each country ($D$) controlling for country's institutional, educational, and other similar characteristics ($W$).\n",
    "  \n",
    "The relationship is captured by $\\beta_1$, the *speed of convergence/divergence*, which measures the speed at which poor countries catch up $(\\beta_1< 0)$ or fall behind $(\\beta_1> 0)$ rich countries, after controlling for $W$. Our inference question here is: do poor countries grow faster than rich countries, controlling for educational and other characteristics? In other words, is the speed of convergence negative: $ \\beta_1 <0?$ This is the Convergence Hypothesis predicted by the Solow Growth Model. This is a structural economic model. Under some strong assumptions, that we won't state here, the predictive exercise we are doing here can be given causal interpretation.\n"
   ]
  },
  {
   "cell_type": "markdown",
   "metadata": {
    "papermill": {
     "duration": 0.021587,
     "end_time": "2021-01-20T08:46:44.459779",
     "exception": false,
     "start_time": "2021-01-20T08:46:44.438192",
     "status": "completed"
    },
    "tags": []
   },
   "source": [
    "The outcome $Y$ is the realized annual growth rate of a country's wealth  (Gross Domestic Product per capita). The target regressor ($D$) is the initial level of the country's wealth. The target parameter $\\beta_1$ is the speed of convergence, which measures the speed at which poor countries catch up with rich countries. The controls ($W$) include measures of education levels, quality of institutions, trade openness, and political stability in the country."
   ]
  },
  {
   "cell_type": "markdown",
   "metadata": {
    "papermill": {
     "duration": 0.021064,
     "end_time": "2021-01-20T08:46:44.502289",
     "exception": false,
     "start_time": "2021-01-20T08:46:44.481225",
     "status": "completed"
    },
    "tags": []
   },
   "source": [
    "## Data analysis\n"
   ]
  },
  {
   "cell_type": "markdown",
   "metadata": {
    "papermill": {
     "duration": 0.021269,
     "end_time": "2021-01-20T08:46:44.545701",
     "exception": false,
     "start_time": "2021-01-20T08:46:44.524432",
     "status": "completed"
    },
    "tags": []
   },
   "source": [
    "We consider the data set GrowthData which is included in the package *hdm*. First, let us load the data set to get familiar with the data."
   ]
  },
  {
   "cell_type": "code",
   "execution_count": 1,
   "metadata": {},
   "outputs": [],
   "source": [
    "library(hdm)\n",
    "library(xtable)"
   ]
  },
  {
   "cell_type": "code",
   "execution_count": 2,
   "metadata": {},
   "outputs": [],
   "source": [
    "# Export data to read in python\n",
    "GrowthData <- GrowthData\n",
    "save(GrowthData, file = \"C:/Users/MSI-NB/Documents/GitHub/14.38_Causal_ML/data/GrowthData.RData\")"
   ]
  },
  {
   "cell_type": "code",
   "execution_count": 3,
   "metadata": {
    "execution": {
     "iopub.execute_input": "2021-01-20T08:46:44.640789Z",
     "iopub.status.busy": "2021-01-20T08:46:44.638074Z",
     "iopub.status.idle": "2021-01-20T08:46:44.895364Z",
     "shell.execute_reply": "2021-01-20T08:46:44.894062Z"
    },
    "papermill": {
     "duration": 0.328039,
     "end_time": "2021-01-20T08:46:44.895665",
     "exception": false,
     "start_time": "2021-01-20T08:46:44.567626",
     "status": "completed"
    },
    "tags": []
   },
   "outputs": [
    {
     "data": {
      "text/html": [
       "<style>\n",
       ".list-inline {list-style: none; margin:0; padding: 0}\n",
       ".list-inline>li {display: inline-block}\n",
       ".list-inline>li:not(:last-child)::after {content: \"\\00b7\"; padding: 0 .5ex}\n",
       "</style>\n",
       "<ol class=list-inline><li>'Outcome'</li><li>'intercept'</li><li>'gdpsh465'</li><li>'bmp1l'</li><li>'freeop'</li><li>'freetar'</li><li>'h65'</li><li>'hm65'</li><li>'hf65'</li><li>'p65'</li><li>'pm65'</li><li>'pf65'</li><li>'s65'</li><li>'sm65'</li><li>'sf65'</li><li>'fert65'</li><li>'mort65'</li><li>'lifee065'</li><li>'gpop1'</li><li>'fert1'</li><li>'mort1'</li><li>'invsh41'</li><li>'geetot1'</li><li>'geerec1'</li><li>'gde1'</li><li>'govwb1'</li><li>'govsh41'</li><li>'gvxdxe41'</li><li>'high65'</li><li>'highm65'</li><li>'highf65'</li><li>'highc65'</li><li>'highcm65'</li><li>'highcf65'</li><li>'human65'</li><li>'humanm65'</li><li>'humanf65'</li><li>'hyr65'</li><li>'hyrm65'</li><li>'hyrf65'</li><li>'no65'</li><li>'nom65'</li><li>'nof65'</li><li>'pinstab1'</li><li>'pop65'</li><li>'worker65'</li><li>'pop1565'</li><li>'pop6565'</li><li>'sec65'</li><li>'secm65'</li><li>'secf65'</li><li>'secc65'</li><li>'seccm65'</li><li>'seccf65'</li><li>'syr65'</li><li>'syrm65'</li><li>'syrf65'</li><li>'teapri65'</li><li>'teasec65'</li><li>'ex1'</li><li>'im1'</li><li>'xr65'</li><li>'tot1'</li></ol>\n"
      ],
      "text/latex": [
       "\\begin{enumerate*}\n",
       "\\item 'Outcome'\n",
       "\\item 'intercept'\n",
       "\\item 'gdpsh465'\n",
       "\\item 'bmp1l'\n",
       "\\item 'freeop'\n",
       "\\item 'freetar'\n",
       "\\item 'h65'\n",
       "\\item 'hm65'\n",
       "\\item 'hf65'\n",
       "\\item 'p65'\n",
       "\\item 'pm65'\n",
       "\\item 'pf65'\n",
       "\\item 's65'\n",
       "\\item 'sm65'\n",
       "\\item 'sf65'\n",
       "\\item 'fert65'\n",
       "\\item 'mort65'\n",
       "\\item 'lifee065'\n",
       "\\item 'gpop1'\n",
       "\\item 'fert1'\n",
       "\\item 'mort1'\n",
       "\\item 'invsh41'\n",
       "\\item 'geetot1'\n",
       "\\item 'geerec1'\n",
       "\\item 'gde1'\n",
       "\\item 'govwb1'\n",
       "\\item 'govsh41'\n",
       "\\item 'gvxdxe41'\n",
       "\\item 'high65'\n",
       "\\item 'highm65'\n",
       "\\item 'highf65'\n",
       "\\item 'highc65'\n",
       "\\item 'highcm65'\n",
       "\\item 'highcf65'\n",
       "\\item 'human65'\n",
       "\\item 'humanm65'\n",
       "\\item 'humanf65'\n",
       "\\item 'hyr65'\n",
       "\\item 'hyrm65'\n",
       "\\item 'hyrf65'\n",
       "\\item 'no65'\n",
       "\\item 'nom65'\n",
       "\\item 'nof65'\n",
       "\\item 'pinstab1'\n",
       "\\item 'pop65'\n",
       "\\item 'worker65'\n",
       "\\item 'pop1565'\n",
       "\\item 'pop6565'\n",
       "\\item 'sec65'\n",
       "\\item 'secm65'\n",
       "\\item 'secf65'\n",
       "\\item 'secc65'\n",
       "\\item 'seccm65'\n",
       "\\item 'seccf65'\n",
       "\\item 'syr65'\n",
       "\\item 'syrm65'\n",
       "\\item 'syrf65'\n",
       "\\item 'teapri65'\n",
       "\\item 'teasec65'\n",
       "\\item 'ex1'\n",
       "\\item 'im1'\n",
       "\\item 'xr65'\n",
       "\\item 'tot1'\n",
       "\\end{enumerate*}\n"
      ],
      "text/markdown": [
       "1. 'Outcome'\n",
       "2. 'intercept'\n",
       "3. 'gdpsh465'\n",
       "4. 'bmp1l'\n",
       "5. 'freeop'\n",
       "6. 'freetar'\n",
       "7. 'h65'\n",
       "8. 'hm65'\n",
       "9. 'hf65'\n",
       "10. 'p65'\n",
       "11. 'pm65'\n",
       "12. 'pf65'\n",
       "13. 's65'\n",
       "14. 'sm65'\n",
       "15. 'sf65'\n",
       "16. 'fert65'\n",
       "17. 'mort65'\n",
       "18. 'lifee065'\n",
       "19. 'gpop1'\n",
       "20. 'fert1'\n",
       "21. 'mort1'\n",
       "22. 'invsh41'\n",
       "23. 'geetot1'\n",
       "24. 'geerec1'\n",
       "25. 'gde1'\n",
       "26. 'govwb1'\n",
       "27. 'govsh41'\n",
       "28. 'gvxdxe41'\n",
       "29. 'high65'\n",
       "30. 'highm65'\n",
       "31. 'highf65'\n",
       "32. 'highc65'\n",
       "33. 'highcm65'\n",
       "34. 'highcf65'\n",
       "35. 'human65'\n",
       "36. 'humanm65'\n",
       "37. 'humanf65'\n",
       "38. 'hyr65'\n",
       "39. 'hyrm65'\n",
       "40. 'hyrf65'\n",
       "41. 'no65'\n",
       "42. 'nom65'\n",
       "43. 'nof65'\n",
       "44. 'pinstab1'\n",
       "45. 'pop65'\n",
       "46. 'worker65'\n",
       "47. 'pop1565'\n",
       "48. 'pop6565'\n",
       "49. 'sec65'\n",
       "50. 'secm65'\n",
       "51. 'secf65'\n",
       "52. 'secc65'\n",
       "53. 'seccm65'\n",
       "54. 'seccf65'\n",
       "55. 'syr65'\n",
       "56. 'syrm65'\n",
       "57. 'syrf65'\n",
       "58. 'teapri65'\n",
       "59. 'teasec65'\n",
       "60. 'ex1'\n",
       "61. 'im1'\n",
       "62. 'xr65'\n",
       "63. 'tot1'\n",
       "\n",
       "\n"
      ],
      "text/plain": [
       " [1] \"Outcome\"   \"intercept\" \"gdpsh465\"  \"bmp1l\"     \"freeop\"    \"freetar\"  \n",
       " [7] \"h65\"       \"hm65\"      \"hf65\"      \"p65\"       \"pm65\"      \"pf65\"     \n",
       "[13] \"s65\"       \"sm65\"      \"sf65\"      \"fert65\"    \"mort65\"    \"lifee065\" \n",
       "[19] \"gpop1\"     \"fert1\"     \"mort1\"     \"invsh41\"   \"geetot1\"   \"geerec1\"  \n",
       "[25] \"gde1\"      \"govwb1\"    \"govsh41\"   \"gvxdxe41\"  \"high65\"    \"highm65\"  \n",
       "[31] \"highf65\"   \"highc65\"   \"highcm65\"  \"highcf65\"  \"human65\"   \"humanm65\" \n",
       "[37] \"humanf65\"  \"hyr65\"     \"hyrm65\"    \"hyrf65\"    \"no65\"      \"nom65\"    \n",
       "[43] \"nof65\"     \"pinstab1\"  \"pop65\"     \"worker65\"  \"pop1565\"   \"pop6565\"  \n",
       "[49] \"sec65\"     \"secm65\"    \"secf65\"    \"secc65\"    \"seccm65\"   \"seccf65\"  \n",
       "[55] \"syr65\"     \"syrm65\"    \"syrf65\"    \"teapri65\"  \"teasec65\"  \"ex1\"      \n",
       "[61] \"im1\"       \"xr65\"      \"tot1\"     "
      ]
     },
     "metadata": {},
     "output_type": "display_data"
    }
   ],
   "source": [
    "library(hdm)\n",
    "growth <- GrowthData\n",
    "attach(growth)\n",
    "names(growth)"
   ]
  },
  {
   "cell_type": "code",
   "execution_count": 4,
   "metadata": {
    "execution": {
     "iopub.execute_input": "2021-01-20T08:46:44.640789Z",
     "iopub.status.busy": "2021-01-20T08:46:44.638074Z",
     "iopub.status.idle": "2021-01-20T08:46:44.895364Z",
     "shell.execute_reply": "2021-01-20T08:46:44.894062Z"
    },
    "papermill": {
     "duration": 0.328039,
     "end_time": "2021-01-20T08:46:44.895665",
     "exception": false,
     "start_time": "2021-01-20T08:46:44.567626",
     "status": "completed"
    },
    "tags": []
   },
   "outputs": [
    {
     "name": "stderr",
     "output_type": "stream",
     "text": [
      "Warning message in readChar(con, 5L, useBytes = TRUE):\n",
      "\"cannot open compressed file 'stuff.RData', probable reason 'No such file or directory'\"\n"
     ]
    },
    {
     "ename": "ERROR",
     "evalue": "Error in readChar(con, 5L, useBytes = TRUE): cannot open the connection\n",
     "output_type": "error",
     "traceback": [
      "Error in readChar(con, 5L, useBytes = TRUE): cannot open the connection\nTraceback:\n",
      "1. load(\"stuff.RData\")",
      "2. readChar(con, 5L, useBytes = TRUE)"
     ]
    }
   ],
   "source": [
    "load(\"stuff.RData\")"
   ]
  },
  {
   "cell_type": "markdown",
   "metadata": {
    "papermill": {
     "duration": 0.022542,
     "end_time": "2021-01-20T08:46:44.941354",
     "exception": false,
     "start_time": "2021-01-20T08:46:44.918812",
     "status": "completed"
    },
    "tags": []
   },
   "source": [
    "We determine the dimension of our data set."
   ]
  },
  {
   "cell_type": "code",
   "execution_count": 5,
   "metadata": {
    "execution": {
     "iopub.execute_input": "2021-01-20T08:46:45.041191Z",
     "iopub.status.busy": "2021-01-20T08:46:44.993028Z",
     "iopub.status.idle": "2021-01-20T08:46:45.059804Z",
     "shell.execute_reply": "2021-01-20T08:46:45.057901Z"
    },
    "papermill": {
     "duration": 0.095528,
     "end_time": "2021-01-20T08:46:45.059972",
     "exception": false,
     "start_time": "2021-01-20T08:46:44.964444",
     "status": "completed"
    },
    "tags": []
   },
   "outputs": [
    {
     "data": {
      "text/html": [
       "<style>\n",
       ".list-inline {list-style: none; margin:0; padding: 0}\n",
       ".list-inline>li {display: inline-block}\n",
       ".list-inline>li:not(:last-child)::after {content: \"\\00b7\"; padding: 0 .5ex}\n",
       "</style>\n",
       "<ol class=list-inline><li>90</li><li>63</li></ol>\n"
      ],
      "text/latex": [
       "\\begin{enumerate*}\n",
       "\\item 90\n",
       "\\item 63\n",
       "\\end{enumerate*}\n"
      ],
      "text/markdown": [
       "1. 90\n",
       "2. 63\n",
       "\n",
       "\n"
      ],
      "text/plain": [
       "[1] 90 63"
      ]
     },
     "metadata": {},
     "output_type": "display_data"
    }
   ],
   "source": [
    "dim(growth)"
   ]
  },
  {
   "cell_type": "markdown",
   "metadata": {
    "papermill": {
     "duration": 0.025013,
     "end_time": "2021-01-20T08:46:45.109042",
     "exception": false,
     "start_time": "2021-01-20T08:46:45.084029",
     "status": "completed"
    },
    "tags": []
   },
   "source": [
    "The sample contains $90$ countries and $63$ controls. Thus $p \\approx 60$, $n=90$ and $p/n$ is not small. We expect the least squares method to provide a poor estimate of $\\beta_1$.  We expect the method based on partialling-out with Lasso to provide a high quality estimate of $\\beta_1$."
   ]
  },
  {
   "cell_type": "markdown",
   "metadata": {
    "papermill": {
     "duration": 0.024124,
     "end_time": "2021-01-20T08:46:45.157510",
     "exception": false,
     "start_time": "2021-01-20T08:46:45.133386",
     "status": "completed"
    },
    "tags": []
   },
   "source": [
    "To check this hypothesis, we analyze the relation between the output variable $Y$ and the other country's characteristics by running a linear regression in the first step."
   ]
  },
  {
   "cell_type": "code",
   "execution_count": 6,
   "metadata": {
    "execution": {
     "iopub.execute_input": "2021-01-20T08:46:45.217667Z",
     "iopub.status.busy": "2021-01-20T08:46:45.215601Z",
     "iopub.status.idle": "2021-01-20T08:46:45.249261Z",
     "shell.execute_reply": "2021-01-20T08:46:45.247904Z"
    },
    "papermill": {
     "duration": 0.06791,
     "end_time": "2021-01-20T08:46:45.249423",
     "exception": false,
     "start_time": "2021-01-20T08:46:45.181513",
     "status": "completed"
    },
    "tags": []
   },
   "outputs": [],
   "source": [
    "reg.ols <- lm(Outcome~.-1,data=growth)"
   ]
  },
  {
   "cell_type": "markdown",
   "metadata": {
    "papermill": {
     "duration": 0.023954,
     "end_time": "2021-01-20T08:46:45.297880",
     "exception": false,
     "start_time": "2021-01-20T08:46:45.273926",
     "status": "completed"
    },
    "tags": []
   },
   "source": [
    "We determine the regression coefficient $\\beta_1$ of the target regressor *gdpsh465* ($D$), its 95% confidence interval and the standard error."
   ]
  },
  {
   "cell_type": "code",
   "execution_count": 7,
   "metadata": {
    "execution": {
     "iopub.execute_input": "2021-01-20T08:46:45.355205Z",
     "iopub.status.busy": "2021-01-20T08:46:45.352979Z",
     "iopub.status.idle": "2021-01-20T08:46:45.411296Z",
     "shell.execute_reply": "2021-01-20T08:46:45.409288Z"
    },
    "papermill": {
     "duration": 0.087755,
     "end_time": "2021-01-20T08:46:45.411431",
     "exception": false,
     "start_time": "2021-01-20T08:46:45.323676",
     "status": "completed"
    },
    "tags": []
   },
   "outputs": [],
   "source": [
    "est_ols <- summary(reg.ols)$coef[\"gdpsh465\",1]\n",
    "# output: estimated regression coefficient corresponding to the target regressor\n",
    "\n",
    "std_ols <- summary(reg.ols)$coef[\"gdpsh465\",2]\n",
    "# output: std. error\n",
    "\n",
    "ci_ols <- confint(reg.ols)[2,]\n",
    "# output: 95% confidence interval\n",
    "\n",
    "results_ols <- as.data.frame(cbind(est_ols,std_ols,ci_ols[1],ci_ols[2]))\n",
    "colnames(results_ols) <-c(\"estimator\",\"standard error\", \"lower bound CI\", \"upper bound CI\")\n",
    "rownames(results_ols) <-c(\"OLS\")"
   ]
  },
  {
   "cell_type": "code",
   "execution_count": 8,
   "metadata": {
    "execution": {
     "iopub.execute_input": "2021-01-20T08:46:45.461026Z",
     "iopub.status.busy": "2021-01-20T08:46:45.458711Z",
     "iopub.status.idle": "2021-01-20T08:46:45.540308Z",
     "shell.execute_reply": "2021-01-20T08:46:45.539451Z"
    },
    "papermill": {
     "duration": 0.107818,
     "end_time": "2021-01-20T08:46:45.540473",
     "exception": false,
     "start_time": "2021-01-20T08:46:45.432655",
     "status": "completed"
    },
    "tags": []
   },
   "outputs": [
    {
     "name": "stdout",
     "output_type": "stream",
     "text": [
      "<!-- html table generated in R 4.0.4 by xtable 1.8-4 package -->\n",
      "<!-- Sun Oct 03 10:29:03 2021 -->\n",
      "<table border=1>\n",
      "<tr> <th>  </th> <th> estimator </th> <th> standard error </th> <th> lower bound CI </th> <th> upper bound CI </th>  </tr>\n",
      "  <tr> <td align=\"right\"> OLS </td> <td align=\"right\"> -0.009 </td> <td align=\"right\"> 0.030 </td> <td align=\"right\"> -0.071 </td> <td align=\"right\"> 0.052 </td> </tr>\n",
      "   </table>\n"
     ]
    }
   ],
   "source": [
    "library(xtable)\n",
    "table <- matrix(0, 1, 4)\n",
    "table[1,1:4]   <- c(est_ols,std_ols,ci_ols[1],ci_ols[2])\n",
    "colnames(table) <-c(\"estimator\",\"standard error\", \"lower bound CI\", \"upper bound CI\")\n",
    "rownames(table) <-c(\"OLS\")\n",
    "tab<- xtable(table, digits = 3)\n",
    "print(tab,type=\"html\") # set type=\"latex\" for printing table in LaTeX"
   ]
  },
  {
   "cell_type": "markdown",
   "metadata": {
    "papermill": {
     "duration": 0.024477,
     "end_time": "2021-01-20T08:46:45.590014",
     "exception": false,
     "start_time": "2021-01-20T08:46:45.565537",
     "status": "completed"
    },
    "tags": []
   },
   "source": [
    "<!-- html table generated in R 3.6.3 by xtable 1.8-4 package -->\n",
    "<!-- Tue Jan 19 10:23:32 2021 -->\n",
    "<table border=1>\n",
    "<tr> <th>  </th> <th> estimator </th> <th> standard error </th> <th> lower bound CI </th> <th> upper bound CI </th>  </tr>\n",
    "  <tr> <td align=\"right\"> OLS </td> <td align=\"right\"> -0.009 </td> <td align=\"right\"> 0.030 </td> <td align=\"right\"> -0.071 </td> <td align=\"right\"> 0.052 </td> </tr>\n",
    "   </table>"
   ]
  },
  {
   "cell_type": "markdown",
   "metadata": {
    "papermill": {
     "duration": 0.025116,
     "end_time": "2021-01-20T08:46:45.640216",
     "exception": false,
     "start_time": "2021-01-20T08:46:45.615100",
     "status": "completed"
    },
    "tags": []
   },
   "source": [
    "Least squares provides a rather noisy estimate (high standard error) of the\n",
    "speed of convergence, and does not allow us to answer the question\n",
    "about the convergence hypothesis since the confidence interval includes zero."
   ]
  },
  {
   "cell_type": "markdown",
   "metadata": {
    "papermill": {
     "duration": 0.024882,
     "end_time": "2021-01-20T08:46:45.690232",
     "exception": false,
     "start_time": "2021-01-20T08:46:45.665350",
     "status": "completed"
    },
    "tags": []
   },
   "source": [
    "In contrast, we can use the partialling-out approach based on lasso regression (\"Double Lasso\")."
   ]
  },
  {
   "cell_type": "code",
   "execution_count": 9,
   "metadata": {
    "execution": {
     "iopub.execute_input": "2021-01-20T08:46:45.744759Z",
     "iopub.status.busy": "2021-01-20T08:46:45.742631Z",
     "iopub.status.idle": "2021-01-20T08:46:46.314594Z",
     "shell.execute_reply": "2021-01-20T08:46:46.312522Z"
    },
    "papermill": {
     "duration": 0.599855,
     "end_time": "2021-01-20T08:46:46.314727",
     "exception": false,
     "start_time": "2021-01-20T08:46:45.714872",
     "status": "completed"
    },
    "tags": []
   },
   "outputs": [
    {
     "data": {
      "text/html": [
       "<style>\n",
       ".list-inline {list-style: none; margin:0; padding: 0}\n",
       ".list-inline>li {display: inline-block}\n",
       ".list-inline>li:not(:last-child)::after {content: \"\\00b7\"; padding: 0 .5ex}\n",
       "</style>\n",
       "<ol class=list-inline><li>90</li><li>60</li></ol>\n"
      ],
      "text/latex": [
       "\\begin{enumerate*}\n",
       "\\item 90\n",
       "\\item 60\n",
       "\\end{enumerate*}\n"
      ],
      "text/markdown": [
       "1. 90\n",
       "2. 60\n",
       "\n",
       "\n"
      ],
      "text/plain": [
       "[1] 90 60"
      ]
     },
     "metadata": {},
     "output_type": "display_data"
    }
   ],
   "source": [
    "Y <- growth[, 1, drop = F] # output variable\n",
    "W <- as.matrix(growth)[, -c(1, 2,3)] # controls\n",
    "D <- growth[, 3, drop = F] # target regressor\n",
    "dim(W)"
   ]
  },
  {
   "cell_type": "code",
   "execution_count": 10,
   "metadata": {
    "execution": {
     "iopub.execute_input": "2021-01-20T08:46:45.744759Z",
     "iopub.status.busy": "2021-01-20T08:46:45.742631Z",
     "iopub.status.idle": "2021-01-20T08:46:46.314594Z",
     "shell.execute_reply": "2021-01-20T08:46:46.312522Z"
    },
    "papermill": {
     "duration": 0.599855,
     "end_time": "2021-01-20T08:46:46.314727",
     "exception": false,
     "start_time": "2021-01-20T08:46:45.714872",
     "status": "completed"
    },
    "tags": []
   },
   "outputs": [],
   "source": [
    "r.Y <- rlasso(x=W,y=Y)$res # creates the \"residual\" output variable\n",
    "r.D <- rlasso(x=W,y=D)$res # creates the \"residual\" target regressor\n",
    "partial.lasso <- lm(r.Y ~ r.D)\n",
    "est_lasso <- partial.lasso$coef[2]\n",
    "std_lasso <- summary(partial.lasso)$coef[2,2]\n",
    "ci_lasso <- confint(partial.lasso)[2,]"
   ]
  },
  {
   "cell_type": "code",
   "execution_count": 11,
   "metadata": {
    "execution": {
     "iopub.execute_input": "2021-01-20T08:46:45.744759Z",
     "iopub.status.busy": "2021-01-20T08:46:45.742631Z",
     "iopub.status.idle": "2021-01-20T08:46:46.314594Z",
     "shell.execute_reply": "2021-01-20T08:46:46.312522Z"
    },
    "papermill": {
     "duration": 0.599855,
     "end_time": "2021-01-20T08:46:46.314727",
     "exception": false,
     "start_time": "2021-01-20T08:46:45.714872",
     "status": "completed"
    },
    "tags": []
   },
   "outputs": [
    {
     "name": "stdout",
     "output_type": "stream",
     "text": [
      "<!-- html table generated in R 4.0.4 by xtable 1.8-4 package -->\n",
      "<!-- Sun Oct 03 10:29:04 2021 -->\n",
      "<table border=1>\n",
      "<tr> <th>  </th> <th> estimator </th> <th> standard error </th> <th> lower bound CI </th> <th> upper bound CI </th>  </tr>\n",
      "  <tr> <td align=\"right\"> Double Lasso </td> <td align=\"right\"> -0.050 </td> <td align=\"right\"> 0.014 </td> <td align=\"right\"> -0.078 </td> <td align=\"right\"> -0.022 </td> </tr>\n",
      "   </table>\n"
     ]
    }
   ],
   "source": [
    "library(xtable)\n",
    "table <- matrix(0, 1, 4)\n",
    "table[1,1:4]   <- c(est_lasso,std_lasso,ci_lasso[1],ci_lasso[2])\n",
    "colnames(table) <-c(\"estimator\",\"standard error\", \"lower bound CI\", \"upper bound CI\")\n",
    "rownames(table) <-c(\"Double Lasso\")\n",
    "tab<- xtable(table, digits = 3)\n",
    "print(tab,type=\"html\") # set type=\"latex\" for printing table in LaTeX\n"
   ]
  },
  {
   "cell_type": "markdown",
   "metadata": {
    "papermill": {
     "duration": 0.016774,
     "end_time": "2021-01-20T08:46:46.348908",
     "exception": false,
     "start_time": "2021-01-20T08:46:46.332134",
     "status": "completed"
    },
    "tags": []
   },
   "source": [
    "<!-- html table generated in R 3.6.3 by xtable 1.8-4 package -->\n",
    "<!-- Tue Jan 19 10:23:51 2021 -->\n",
    "<table border=1>\n",
    "<tr> <th>  </th> <th> estimator </th> <th> standard error </th> <th> lower bound CI </th> <th> upper bound CI </th>  </tr>\n",
    "  <tr> <td align=\"right\"> Double Lasso </td> <td align=\"right\"> -0.050 </td> <td align=\"right\"> 0.014 </td> <td align=\"right\"> -0.078 </td> <td align=\"right\"> -0.022 </td> </tr>\n",
    "   </table>\n"
   ]
  },
  {
   "cell_type": "markdown",
   "metadata": {
    "papermill": {
     "duration": 0.016916,
     "end_time": "2021-01-20T08:46:46.383126",
     "exception": false,
     "start_time": "2021-01-20T08:46:46.366210",
     "status": "completed"
    },
    "tags": []
   },
   "source": [
    "Lasso provides a more precise estimate (lower standard error). The Lasso based\n",
    "point estimate is  about $5\\%$ and the $95\\%$ confidence interval for the\n",
    "(annual) rate of convergence is $7.8\\%$ to $2.2\\%$. This empirical\n",
    "evidence does support the convergence hypothesis."
   ]
  },
  {
   "cell_type": "markdown",
   "metadata": {
    "papermill": {
     "duration": 0.016876,
     "end_time": "2021-01-20T08:46:46.417524",
     "exception": false,
     "start_time": "2021-01-20T08:46:46.400648",
     "status": "completed"
    },
    "tags": []
   },
   "source": [
    "Note: Alternatively, one could also use the *rlassoEffect* funtion from the *hdm* package that directly applies the partialling-out approach."
   ]
  },
  {
   "cell_type": "code",
   "execution_count": 12,
   "metadata": {
    "execution": {
     "iopub.execute_input": "2021-01-20T08:46:46.458976Z",
     "iopub.status.busy": "2021-01-20T08:46:46.456952Z",
     "iopub.status.idle": "2021-01-20T08:46:46.909228Z",
     "shell.execute_reply": "2021-01-20T08:46:46.907014Z"
    },
    "papermill": {
     "duration": 0.474975,
     "end_time": "2021-01-20T08:46:46.909392",
     "exception": false,
     "start_time": "2021-01-20T08:46:46.434417",
     "status": "completed"
    },
    "tags": []
   },
   "outputs": [
    {
     "data": {
      "text/plain": [
       "\n",
       "Call:\n",
       "rlassoEffect(x = W, y = Y, d = D, method = \"partialling out\")\n",
       "\n",
       "Coefficients:\n",
       "[1]  -0.04981\n"
      ]
     },
     "metadata": {},
     "output_type": "display_data"
    }
   ],
   "source": [
    "lasso.effect = rlassoEffect(x = W, y = Y, d = D, method = \"partialling out\")\n",
    "lasso.effect"
   ]
  },
  {
   "cell_type": "markdown",
   "metadata": {
    "papermill": {
     "duration": 0.026639,
     "end_time": "2021-01-20T08:46:46.963077",
     "exception": false,
     "start_time": "2021-01-20T08:46:46.936438",
     "status": "completed"
    },
    "tags": []
   },
   "source": [
    "## Summary\n"
   ]
  },
  {
   "cell_type": "markdown",
   "metadata": {
    "papermill": {
     "duration": 0.026742,
     "end_time": "2021-01-20T08:46:47.016856",
     "exception": false,
     "start_time": "2021-01-20T08:46:46.990114",
     "status": "completed"
    },
    "tags": []
   },
   "source": [
    "Finally, let us have a look at the results."
   ]
  },
  {
   "cell_type": "code",
   "execution_count": 13,
   "metadata": {
    "execution": {
     "iopub.execute_input": "2021-01-20T08:46:47.076243Z",
     "iopub.status.busy": "2021-01-20T08:46:47.074724Z",
     "iopub.status.idle": "2021-01-20T08:46:47.102018Z",
     "shell.execute_reply": "2021-01-20T08:46:47.100929Z"
    },
    "papermill": {
     "duration": 0.05828,
     "end_time": "2021-01-20T08:46:47.102228",
     "exception": false,
     "start_time": "2021-01-20T08:46:47.043948",
     "status": "completed"
    },
    "tags": []
   },
   "outputs": [
    {
     "name": "stdout",
     "output_type": "stream",
     "text": [
      "<!-- html table generated in R 4.0.4 by xtable 1.8-4 package -->\n",
      "<!-- Sun Oct 03 10:29:08 2021 -->\n",
      "<table border=1>\n",
      "<tr> <th>  </th> <th> estimator </th> <th> standard error </th> <th> lower bound CI </th> <th> upper bound CI </th>  </tr>\n",
      "  <tr> <td align=\"right\"> OLS </td> <td align=\"right\"> -0.009 </td> <td align=\"right\"> 0.030 </td> <td align=\"right\"> -0.071 </td> <td align=\"right\"> 0.052 </td> </tr>\n",
      "  <tr> <td align=\"right\"> Double Lasso </td> <td align=\"right\"> -0.050 </td> <td align=\"right\"> 0.014 </td> <td align=\"right\"> -0.078 </td> <td align=\"right\"> -0.022 </td> </tr>\n",
      "   </table>\n"
     ]
    },
    {
     "data": {
      "text/html": [
       "<table class=\"dataframe\">\n",
       "<caption>A matrix: 2 × 4 of type dbl</caption>\n",
       "<thead>\n",
       "\t<tr><th></th><th scope=col>estimator</th><th scope=col>standard error</th><th scope=col>lower bound CI</th><th scope=col>upper bound CI</th></tr>\n",
       "</thead>\n",
       "<tbody>\n",
       "\t<tr><th scope=row>OLS</th><td>-0.009377989</td><td>0.02988773</td><td>-0.07060022</td><td> 0.05184424</td></tr>\n",
       "\t<tr><th scope=row>Double Lasso</th><td>-0.049811465</td><td>0.01393636</td><td>-0.07750705</td><td>-0.02211588</td></tr>\n",
       "</tbody>\n",
       "</table>\n"
      ],
      "text/latex": [
       "A matrix: 2 × 4 of type dbl\n",
       "\\begin{tabular}{r|llll}\n",
       "  & estimator & standard error & lower bound CI & upper bound CI\\\\\n",
       "\\hline\n",
       "\tOLS & -0.009377989 & 0.02988773 & -0.07060022 &  0.05184424\\\\\n",
       "\tDouble Lasso & -0.049811465 & 0.01393636 & -0.07750705 & -0.02211588\\\\\n",
       "\\end{tabular}\n"
      ],
      "text/markdown": [
       "\n",
       "A matrix: 2 × 4 of type dbl\n",
       "\n",
       "| <!--/--> | estimator | standard error | lower bound CI | upper bound CI |\n",
       "|---|---|---|---|---|\n",
       "| OLS | -0.009377989 | 0.02988773 | -0.07060022 |  0.05184424 |\n",
       "| Double Lasso | -0.049811465 | 0.01393636 | -0.07750705 | -0.02211588 |\n",
       "\n"
      ],
      "text/plain": [
       "             estimator    standard error lower bound CI upper bound CI\n",
       "OLS          -0.009377989 0.02988773     -0.07060022     0.05184424   \n",
       "Double Lasso -0.049811465 0.01393636     -0.07750705    -0.02211588   "
      ]
     },
     "metadata": {},
     "output_type": "display_data"
    }
   ],
   "source": [
    "library(xtable)\n",
    "table <- matrix(0, 2, 4)\n",
    "table[1,1:4]   <- c(est_ols,std_ols,ci_ols[1],ci_ols[2])\n",
    "table[2,1:4]   <- c(est_lasso,std_lasso,ci_lasso[1],ci_lasso[2])\n",
    "colnames(table) <-c(\"estimator\",\"standard error\", \"lower bound CI\", \"upper bound CI\")\n",
    "rownames(table) <-c(\"OLS\",\"Double Lasso\")\n",
    "tab<- xtable(table, digits = 3)\n",
    "print(tab,type=\"html\") # set type=\"latex\" for printing table in LaTeX\n",
    "table"
   ]
  },
  {
   "cell_type": "markdown",
   "metadata": {
    "papermill": {
     "duration": 0.028298,
     "end_time": "2021-01-20T08:46:47.157901",
     "exception": false,
     "start_time": "2021-01-20T08:46:47.129603",
     "status": "completed"
    },
    "tags": []
   },
   "source": [
    "The least square method provides a rather noisy estimate of the speed of convergence. We can not answer the question if poor countries grow faster than rich countries. The least square method does not work when the ratio $p/n$ is large.\n",
    "\n",
    "In sharp contrast, partialling-out via Lasso provides a more precise estimate. The Lasso based point estimate is $-5\\%$ and the $95\\%$ confidence interval for the (annual) rate of convergence $[-7.8\\%,-2.2\\%]$ only includes negative numbers. This empirical evidence does support the convergence hypothesis.\n"
   ]
  },
  {
   "cell_type": "markdown",
   "metadata": {
    "papermill": {
     "duration": 0.027536,
     "end_time": "2021-01-20T08:46:47.213105",
     "exception": false,
     "start_time": "2021-01-20T08:46:47.185569",
     "status": "completed"
    },
    "tags": []
   },
   "source": [
    "<!-- html table generated in R 3.6.3 by xtable 1.8-4 package -->\n",
    "<!-- Tue Jan 19 10:28:15 2021 -->\n",
    "<table border=1>\n",
    "<tr> <th>  </th> <th> estimator </th> <th> standard error </th> <th> lower bound CI </th> <th> upper bound CI </th>  </tr>\n",
    "  <tr> <td align=\"right\"> OLS </td> <td align=\"right\"> -0.009 </td> <td align=\"right\"> 0.030 </td> <td align=\"right\"> -0.071 </td> <td align=\"right\"> 0.052 </td> </tr>\n",
    "  <tr> <td align=\"right\"> Double Lasso </td> <td align=\"right\"> -0.050 </td> <td align=\"right\"> 0.014 </td> <td align=\"right\"> -0.078 </td> <td align=\"right\"> -0.022 </td> </tr>\n",
    "   </table>\n"
   ]
  },
  {
   "cell_type": "code",
   "execution_count": null,
   "metadata": {},
   "outputs": [],
   "source": []
  },
  {
   "cell_type": "code",
   "execution_count": null,
   "metadata": {},
   "outputs": [],
   "source": []
  },
  {
   "cell_type": "code",
   "execution_count": null,
   "metadata": {},
   "outputs": [],
   "source": []
  }
 ],
 "metadata": {
  "kernelspec": {
   "display_name": "R",
   "language": "R",
   "name": "ir"
  },
  "language_info": {
   "codemirror_mode": "r",
   "file_extension": ".r",
   "mimetype": "text/x-r-source",
   "name": "R",
   "pygments_lexer": "r",
   "version": "4.0.4"
  },
  "papermill": {
   "default_parameters": {},
   "duration": 8.007784,
   "end_time": "2021-01-20T08:46:48.312746",
   "environment_variables": {},
   "exception": null,
   "input_path": "__notebook__.ipynb",
   "output_path": "__notebook__.ipynb",
   "parameters": {},
   "start_time": "2021-01-20T08:46:40.304962",
   "version": "2.2.2"
  }
 },
 "nbformat": 4,
 "nbformat_minor": 4
}
