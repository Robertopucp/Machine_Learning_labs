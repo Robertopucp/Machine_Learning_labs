{
 "cells": [
  {
   "cell_type": "markdown",
   "metadata": {
    "papermill": {
     "duration": 0.018414,
     "end_time": "2021-02-13T17:30:13.212232",
     "exception": false,
     "start_time": "2021-02-13T17:30:13.193818",
     "status": "completed"
    },
    "tags": []
   },
   "source": [
    "This notebook contains an example for teaching."
   ]
  },
  {
   "cell_type": "markdown",
   "metadata": {
    "papermill": {
     "duration": 0.016442,
     "end_time": "2021-02-13T17:30:13.246048",
     "exception": false,
     "start_time": "2021-02-13T17:30:13.229606",
     "status": "completed"
    },
    "tags": []
   },
   "source": [
    "# A Case Study: The Effect of Gun Ownership on Gun-Homicide Rates"
   ]
  },
  {
   "cell_type": "markdown",
   "metadata": {
    "papermill": {
     "duration": 0.017996,
     "end_time": "2021-02-13T17:30:13.281738",
     "exception": false,
     "start_time": "2021-02-13T17:30:13.263742",
     "status": "completed"
    },
    "tags": []
   },
   "source": [
    "We consider the problem of estimating the effect of gun\n",
    "ownership on the homicide rate. For this purpose, we estimate the following partially\n",
    "linear model\n",
    "\n",
    "$$\n",
    " Y_{j,t} = \\beta D_{j,(t-1)} + g(Z_{j,t}) + \\epsilon_{j,t}.\n",
    "$$"
   ]
  },
  {
   "cell_type": "markdown",
   "metadata": {
    "papermill": {
     "duration": 0.016649,
     "end_time": "2021-02-13T17:30:13.315270",
     "exception": false,
     "start_time": "2021-02-13T17:30:13.298621",
     "status": "completed"
    },
    "tags": []
   },
   "source": [
    "## Data"
   ]
  },
  {
   "cell_type": "markdown",
   "metadata": {
    "papermill": {
     "duration": 0.018756,
     "end_time": "2021-02-13T17:30:13.351290",
     "exception": false,
     "start_time": "2021-02-13T17:30:13.332534",
     "status": "completed"
    },
    "tags": []
   },
   "source": [
    "$Y_{j,t}$ is log homicide rate in county $j$ at time $t$, $D_{j, t-1}$ is log  fraction of suicides committed with a firearm in county $j$ at time $t-1$, which we use as a proxy for gun ownership,  and  $Z_{j,t}$ is a set of demographic and economic characteristics of county $j$ at time $t$. The parameter $\\beta$ is the effect of gun ownership on the\n",
    "homicide rates, controlling for county-level demographic and economic characteristics. \n",
    "\n",
    "The sample covers 195 large United States counties between the years 1980 through 1999, giving us 3900 observations."
   ]
  },
  {
   "cell_type": "code",
   "execution_count": 2,
   "metadata": {
    "execution": {
     "iopub.execute_input": "2021-02-13T17:30:13.420018Z",
     "iopub.status.busy": "2021-02-13T17:30:13.417784Z",
     "iopub.status.idle": "2021-02-13T17:30:14.397557Z",
     "shell.execute_reply": "2021-02-13T17:30:14.396020Z"
    },
    "papermill": {
     "duration": 1.027605,
     "end_time": "2021-02-13T17:30:14.397806",
     "exception": false,
     "start_time": "2021-02-13T17:30:13.370201",
     "status": "completed"
    },
    "tags": []
   },
   "outputs": [
    {
     "data": {
      "text/html": [
       "415"
      ],
      "text/latex": [
       "415"
      ],
      "text/markdown": [
       "415"
      ],
      "text/plain": [
       "[1] 415"
      ]
     },
     "metadata": {},
     "output_type": "display_data"
    }
   ],
   "source": [
    "data <- read.csv(\"../data/gun_clean.csv\") \n",
    "dim(data)[2]"
   ]
  },
  {
   "cell_type": "markdown",
   "metadata": {
    "papermill": {
     "duration": 0.017216,
     "end_time": "2021-02-13T17:30:14.432656",
     "exception": false,
     "start_time": "2021-02-13T17:30:14.415440",
     "status": "completed"
    },
    "tags": []
   },
   "source": [
    "### Preprocessing"
   ]
  },
  {
   "cell_type": "markdown",
   "metadata": {
    "papermill": {
     "duration": 0.017212,
     "end_time": "2021-02-13T17:30:14.467075",
     "exception": false,
     "start_time": "2021-02-13T17:30:14.449863",
     "status": "completed"
    },
    "tags": []
   },
   "source": [
    "To account for heterogeneity across counties and time trends in  all variables, we remove from them county-specific and time-specific effects in the following preprocessing."
   ]
  },
  {
   "cell_type": "code",
   "execution_count": 5,
   "metadata": {
    "execution": {
     "iopub.execute_input": "2021-02-13T17:30:14.549368Z",
     "iopub.status.busy": "2021-02-13T17:30:14.504714Z",
     "iopub.status.idle": "2021-02-13T17:30:38.894116Z",
     "shell.execute_reply": "2021-02-13T17:30:38.893545Z"
    },
    "papermill": {
     "duration": 24.410531,
     "end_time": "2021-02-13T17:30:38.894264",
     "exception": false,
     "start_time": "2021-02-13T17:30:14.483733",
     "status": "completed"
    },
    "tags": []
   },
   "outputs": [],
   "source": [
    "#################################  Find Variable Names from Dataset ########################\n",
    "\n",
    "varlist <- function (df=NULL,type=c(\"numeric\",\"factor\",\"character\"), pattern=\"\", exclude=NULL) {\n",
    "  vars <- character(0)\n",
    "  if (any(type %in% \"numeric\")) {\n",
    "    vars <- c(vars,names(df)[sapply(df,is.numeric)])\n",
    "  }\n",
    "  if (any(type %in% \"factor\")) {\n",
    "    vars <- c(vars,names(df)[sapply(df,is.factor)])\n",
    "  }  \n",
    "  if (any(type %in% \"character\")) {\n",
    "    vars <- c(vars,names(df)[sapply(df,is.character)])\n",
    "  }  \n",
    "  vars[(!vars %in% exclude) & grepl(vars,pattern=pattern)]\n",
    "}\n",
    "\n",
    "################################# Create Variables ###############################\n",
    "\n",
    "\n",
    "# Dummy Variables for Year and County Fixed Effects\n",
    "fixed  <- grep(\"X_Jfips\", names(data), value=TRUE, fixed=TRUE)\n",
    "year   <- varlist(data, pattern=\"X_Tyear\")\n",
    "\n",
    "# Census Control Variables\n",
    "census     <- NULL\n",
    "census_var <- c(\"^AGE\", \"^BN\", \"^BP\", \"^BZ\", \"^ED\", \"^EL\",\"^HI\", \"^HS\", \"^INC\", \"^LF\", \"^LN\", \"^PI\", \"^PO\", \"^PP\", \"^PV\", \"^SPR\", \"^VS\")\n",
    "\n",
    "for(i in 1:length(census_var)){\n",
    "  \n",
    "  census  <- append(census, varlist(data, pattern=census_var[i]))\n",
    "  \n",
    "}\n",
    "\n",
    "################################ Variables ##################################\n",
    "# Treatment Variable\n",
    "d     <- \"logfssl\"\n",
    "\n",
    "# Outcome Variable\n",
    "y     <- \"logghomr\"\n",
    "\n",
    "# Other Control Variables\n",
    "X1    <- c(\"logrobr\", \"logburg\", \"burg_missing\", \"robrate_missing\")\n",
    "X2    <- c(\"newblack\", \"newfhh\", \"newmove\", \"newdens\", \"newmal\")\n",
    "\n",
    "#################################  Partial out Fixed Effects ########################\n",
    "\n",
    "# New Dataset for Partiled-out Variables\n",
    "rdata    <- as.data.frame(data$CountyCode) \n",
    "colnames(rdata) <- \"CountyCode\"\n",
    "\n",
    "# Variables to be Partialled-out\n",
    "varlist <- c(y, d,X1, X2, census)\n",
    "\n",
    "\n",
    "# Partial out Variables in varlist from year and county fixed effect\n",
    "for(i in 1:length(varlist)){\n",
    "  form <- as.formula(paste(varlist[i], \"~\", paste(paste(year,collapse=\"+\"),  paste(fixed,collapse=\"+\"), sep=\"+\")))\n",
    "  rdata[, varlist[i]] <- lm(form, data)$residuals\n",
    "}"
   ]
  },
  {
   "cell_type": "markdown",
   "metadata": {
    "papermill": {
     "duration": 0.016789,
     "end_time": "2021-02-13T17:30:38.928857",
     "exception": false,
     "start_time": "2021-02-13T17:30:38.912068",
     "status": "completed"
    },
    "tags": []
   },
   "source": [
    "Now, we can construct the treatment variable, the outcome variable and the matrix $Z$ that includes the control variables."
   ]
  },
  {
   "cell_type": "code",
   "execution_count": 69,
   "metadata": {
    "execution": {
     "iopub.execute_input": "2021-02-13T17:30:38.968895Z",
     "iopub.status.busy": "2021-02-13T17:30:38.967511Z",
     "iopub.status.idle": "2021-02-13T17:30:38.988737Z",
     "shell.execute_reply": "2021-02-13T17:30:38.987198Z"
    },
    "papermill": {
     "duration": 0.042922,
     "end_time": "2021-02-13T17:30:38.988875",
     "exception": false,
     "start_time": "2021-02-13T17:30:38.945953",
     "status": "completed"
    },
    "tags": []
   },
   "outputs": [],
   "source": [
    "# Treatment Variable\n",
    "D     <- rdata[which(colnames(rdata) == d)]\n",
    "\n",
    "# Outcome Variable\n",
    "Y     <- rdata[which(colnames(rdata) == y)]\n",
    "\n",
    "# Construct matrix Z\n",
    "\n",
    "Z <- rdata[which(colnames(rdata) %in% c(X1,X2,census))]"
   ]
  },
  {
   "cell_type": "markdown",
   "metadata": {
    "papermill": {
     "duration": 0.01807,
     "end_time": "2021-02-13T17:30:39.025018",
     "exception": false,
     "start_time": "2021-02-13T17:30:39.006948",
     "status": "completed"
    },
    "tags": []
   },
   "source": [
    "We have in total 195 control variables. The control variables $Z_{j,t}$ are from the U.S. Census Bureau and  contain demographic and economic characteristics of the counties such as  the age distribution, the income distribution, crime rates, federal spending, home ownership rates, house prices, educational attainment, voting paterns, employment statistics, and migration rates. "
   ]
  },
  {
   "cell_type": "code",
   "execution_count": 72,
   "metadata": {
    "execution": {
     "iopub.execute_input": "2021-02-13T17:30:39.065511Z",
     "iopub.status.busy": "2021-02-13T17:30:39.064293Z",
     "iopub.status.idle": "2021-02-13T17:30:39.078277Z",
     "shell.execute_reply": "2021-02-13T17:30:39.077071Z"
    },
    "papermill": {
     "duration": 0.035747,
     "end_time": "2021-02-13T17:30:39.078439",
     "exception": false,
     "start_time": "2021-02-13T17:30:39.042692",
     "status": "completed"
    },
    "tags": []
   },
   "outputs": [],
   "source": [
    "clu <- rdata[which(colnames(rdata) == \"CountyCode\")] #for clustering the standard errors\n",
    "data <- data.frame(cbind(Y, D, Z,as.matrix(clu)))"
   ]
  },
  {
   "cell_type": "code",
   "execution_count": 74,
   "metadata": {},
   "outputs": [],
   "source": [
    "# To use in Python\n",
    "save(data, file = \"../data/gun_clean.RData\")"
   ]
  },
  {
   "cell_type": "code",
   "execution_count": 76,
   "metadata": {
    "execution": {
     "iopub.execute_input": "2021-02-13T17:30:39.119837Z",
     "iopub.status.busy": "2021-02-13T17:30:39.119341Z",
     "iopub.status.idle": "2021-02-13T17:30:40.222653Z",
     "shell.execute_reply": "2021-02-13T17:30:40.221044Z"
    },
    "papermill": {
     "duration": 1.126576,
     "end_time": "2021-02-13T17:30:40.222803",
     "exception": false,
     "start_time": "2021-02-13T17:30:39.096227",
     "status": "completed"
    },
    "scrolled": true,
    "tags": []
   },
   "outputs": [],
   "source": [
    "library(lfe)"
   ]
  },
  {
   "cell_type": "markdown",
   "metadata": {
    "papermill": {
     "duration": 0.01855,
     "end_time": "2021-02-13T17:30:40.260049",
     "exception": false,
     "start_time": "2021-02-13T17:30:40.241499",
     "status": "completed"
    },
    "tags": []
   },
   "source": [
    "## The effect of gun ownership"
   ]
  },
  {
   "cell_type": "markdown",
   "metadata": {
    "papermill": {
     "duration": 0.018478,
     "end_time": "2021-02-13T17:30:40.297035",
     "exception": false,
     "start_time": "2021-02-13T17:30:40.278557",
     "status": "completed"
    },
    "tags": []
   },
   "source": [
    "### OLS"
   ]
  },
  {
   "cell_type": "markdown",
   "metadata": {
    "papermill": {
     "duration": 0.018386,
     "end_time": "2021-02-13T17:30:40.333613",
     "exception": false,
     "start_time": "2021-02-13T17:30:40.315227",
     "status": "completed"
    },
    "tags": []
   },
   "source": [
    "After preprocessing the data, we first look at simple regression of $Y_{j,t}$ on $D_{j,t-1}$ without controls as a baseline model."
   ]
  },
  {
   "cell_type": "code",
   "execution_count": 77,
   "metadata": {
    "execution": {
     "iopub.execute_input": "2021-02-13T17:30:40.378059Z",
     "iopub.status.busy": "2021-02-13T17:30:40.375375Z",
     "iopub.status.idle": "2021-02-13T17:30:40.488189Z",
     "shell.execute_reply": "2021-02-13T17:30:40.485758Z"
    },
    "papermill": {
     "duration": 0.136101,
     "end_time": "2021-02-13T17:30:40.488367",
     "exception": false,
     "start_time": "2021-02-13T17:30:40.352266",
     "status": "completed"
    },
    "scrolled": true,
    "tags": []
   },
   "outputs": [
    {
     "data": {
      "text/html": [
       "<style>\n",
       ".dl-inline {width: auto; margin:0; padding: 0}\n",
       ".dl-inline>dt, .dl-inline>dd {float: none; width: auto; display: inline-block}\n",
       ".dl-inline>dt::after {content: \":\\0020\"; padding-right: .5ex}\n",
       ".dl-inline>dt:not(:first-of-type) {padding-left: .5ex}\n",
       "</style><dl class=dl-inline><dt>2.5 %</dt><dd>0.155238182025439</dd><dt>97.5 %</dt><dd>0.40937075124097</dd></dl>\n"
      ],
      "text/latex": [
       "\\begin{description*}\n",
       "\\item[2.5 \\textbackslash{}\\%] 0.155238182025439\n",
       "\\item[97.5 \\textbackslash{}\\%] 0.40937075124097\n",
       "\\end{description*}\n"
      ],
      "text/markdown": [
       "2.5 %\n",
       ":   0.15523818202543997.5 %\n",
       ":   0.40937075124097\n",
       "\n"
      ],
      "text/plain": [
       "    2.5 %    97.5 % \n",
       "0.1552382 0.4093708 "
      ]
     },
     "metadata": {},
     "output_type": "display_data"
    },
    {
     "data": {
      "text/html": [
       "<style>\n",
       ".dl-inline {width: auto; margin:0; padding: 0}\n",
       ".dl-inline>dt, .dl-inline>dd {float: none; width: auto; display: inline-block}\n",
       ".dl-inline>dt::after {content: \":\\0020\"; padding-right: .5ex}\n",
       ".dl-inline>dt:not(:first-of-type) {padding-left: .5ex}\n",
       "</style><dl class=dl-inline><dt>Estimate</dt><dd>0.282304466633205</dd><dt>Cluster s.e.</dt><dd>0.0648107978379264</dd><dt>t value</dt><dd>4.35582458557552</dd><dt>Pr(&gt;|t|)</dt><dd>1.35976701238427e-05</dd></dl>\n"
      ],
      "text/latex": [
       "\\begin{description*}\n",
       "\\item[Estimate] 0.282304466633205\n",
       "\\item[Cluster s.e.] 0.0648107978379264\n",
       "\\item[t value] 4.35582458557552\n",
       "\\item[Pr(>\\textbackslash{}textbar\\{\\}t\\textbackslash{}textbar\\{\\})] 1.35976701238427e-05\n",
       "\\end{description*}\n"
      ],
      "text/markdown": [
       "Estimate\n",
       ":   0.282304466633205Cluster s.e.\n",
       ":   0.0648107978379264t value\n",
       ":   4.35582458557552Pr(&amp;gt;|t|)\n",
       ":   1.35976701238427e-05\n",
       "\n"
      ],
      "text/plain": [
       "    Estimate Cluster s.e.      t value     Pr(>|t|) \n",
       "2.823045e-01 6.481080e-02 4.355825e+00 1.359767e-05 "
      ]
     },
     "metadata": {},
     "output_type": "display_data"
    }
   ],
   "source": [
    "#baseline_formula <- as.formula(paste(y, \"~\", d ))\n",
    "#baseline.ols <- lm(baseline_formula,data=rdata)\n",
    "\n",
    "baseline.ols <- felm(logghomr ~ logfssl |0|0| CountyCode,data=data) # ols with clustered standard errors\n",
    "est_baseline <- summary(baseline.ols)$coef[2,]\n",
    "confint(baseline.ols)[2,]\n",
    "est_baseline"
   ]
  },
  {
   "cell_type": "code",
   "execution_count": 78,
   "metadata": {},
   "outputs": [
    {
     "data": {
      "text/plain": [
       "\n",
       "Call:\n",
       "   felm(formula = logghomr ~ logfssl | 0 | 0 | CountyCode, data = data) \n",
       "\n",
       "Residuals:\n",
       "    Min      1Q  Median      3Q     Max \n",
       "-4.0162 -0.2253  0.0189  0.2561  1.5753 \n",
       "\n",
       "Coefficients:\n",
       "             Estimate Cluster s.e. t value Pr(>|t|)    \n",
       "(Intercept) 5.189e-18    2.895e-16   0.018    0.986    \n",
       "logfssl     2.823e-01    6.481e-02   4.356 1.36e-05 ***\n",
       "---\n",
       "Signif. codes:  0 '***' 0.001 '**' 0.01 '*' 0.05 '.' 0.1 ' ' 1\n",
       "\n",
       "Residual standard error: 0.4199 on 3898 degrees of freedom\n",
       "Multiple R-squared(full model): 0.006193   Adjusted R-squared: 0.005938 \n",
       "Multiple R-squared(proj model): 0.006193   Adjusted R-squared: 0.005938 \n",
       "F-statistic(full model, *iid*):24.29 on 1 and 3898 DF, p-value: 8.623e-07 \n",
       "F-statistic(proj model): 18.97 on 1 and 194 DF, p-value: 2.146e-05 \n",
       "\n"
      ]
     },
     "metadata": {},
     "output_type": "display_data"
    }
   ],
   "source": [
    "summary(baseline.ols)"
   ]
  },
  {
   "cell_type": "code",
   "execution_count": 79,
   "metadata": {},
   "outputs": [
    {
     "data": {
      "text/html": [
       "<style>\n",
       ".dl-inline {width: auto; margin:0; padding: 0}\n",
       ".dl-inline>dt, .dl-inline>dd {float: none; width: auto; display: inline-block}\n",
       ".dl-inline>dt::after {content: \":\\0020\"; padding-right: .5ex}\n",
       ".dl-inline>dt:not(:first-of-type) {padding-left: .5ex}\n",
       "</style><dl class=dl-inline><dt>2.5 %</dt><dd>0.155238182025439</dd><dt>97.5 %</dt><dd>0.40937075124097</dd></dl>\n"
      ],
      "text/latex": [
       "\\begin{description*}\n",
       "\\item[2.5 \\textbackslash{}\\%] 0.155238182025439\n",
       "\\item[97.5 \\textbackslash{}\\%] 0.40937075124097\n",
       "\\end{description*}\n"
      ],
      "text/markdown": [
       "2.5 %\n",
       ":   0.15523818202543997.5 %\n",
       ":   0.40937075124097\n",
       "\n"
      ],
      "text/plain": [
       "    2.5 %    97.5 % \n",
       "0.1552382 0.4093708 "
      ]
     },
     "metadata": {},
     "output_type": "display_data"
    }
   ],
   "source": [
    "confint(baseline.ols)[2,]"
   ]
  },
  {
   "cell_type": "markdown",
   "metadata": {
    "papermill": {
     "duration": 0.019514,
     "end_time": "2021-02-13T17:30:40.528479",
     "exception": false,
     "start_time": "2021-02-13T17:30:40.508965",
     "status": "completed"
    },
    "tags": []
   },
   "source": [
    "The point estimate is $0.282$ with the confidence interval ranging from 0.155 to 0.41. This\n",
    "suggests that increases in gun ownership rates are related to gun homicide rates - if gun ownership increases by 1% relative\n",
    "to a trend then the predicted gun homicide rate goes up by 0.28%, without controlling for counties' characteristics.\n",
    "\n",
    "Since our goal is to estimate the effect of gun ownership after controlling for a rich set county characteristics we next include the controls. First, we estimate the model by ols and then by an array of the modern regression methods using the double machine learning approach."
   ]
  },
  {
   "cell_type": "code",
   "execution_count": 81,
   "metadata": {
    "execution": {
     "iopub.execute_input": "2021-02-13T17:30:40.575465Z",
     "iopub.status.busy": "2021-02-13T17:30:40.573798Z",
     "iopub.status.idle": "2021-02-13T17:30:40.777165Z",
     "shell.execute_reply": "2021-02-13T17:30:40.774926Z"
    },
    "papermill": {
     "duration": 0.229579,
     "end_time": "2021-02-13T17:30:40.777425",
     "exception": false,
     "start_time": "2021-02-13T17:30:40.547846",
     "status": "completed"
    },
    "tags": []
   },
   "outputs": [
    {
     "data": {
      "text/plain": [
       "logghomr ~ logfssl + logrobr + logburg + burg_missing + robrate_missing + \n",
       "    newblack + newfhh + newmove + newdens + newmal + AGE010D + \n",
       "    AGE050D + AGE110D + AGE170D + AGE180D + AGE270D + AGE310D + \n",
       "    AGE320D + AGE350D + AGE380D + AGE410D + AGE470D + AGE570D + \n",
       "    AGE640D + AGE670D + AGE760D + BNK010D + BNK050D + BPS030D + \n",
       "    BPS130D + BPS230D + BPS020D + BPS120D + BPS220D + BPS820D + \n",
       "    BZA010D + BZA110D + BZA210D + EDU100D + EDU200D + EDU600D + \n",
       "    EDU610D + EDU620D + EDU630D + EDU635D + EDU640D + EDU650D + \n",
       "    EDU680D + EDU685D + ELE010D + ELE020D + ELE025D + ELE030D + \n",
       "    ELE035D + ELE060D + ELE065D + ELE210D + ELE220D + HIS010D + \n",
       "    HIS020D + HIS030D + HIS040D + HIS110D + HIS120D + HIS130D + \n",
       "    HIS140D + HIS200D + HIS300D + HIS500D + HIS700D + HSD010D + \n",
       "    HSD020D + HSD030D + HSD110D + HSD120D + HSD130D + HSD140D + \n",
       "    HSD150D + HSD170D + HSD200D + HSD210D + HSD230D + HSD300D + \n",
       "    HSD310D + HSG030D + HSG195D + HSG200D + HSG220D + HSG440D + \n",
       "    HSG445D + HSG460D + HSG680D + HSG700D + HSD410D + HSD500D + \n",
       "    HSD510D + HSD520D + HSD530D + HSD540D + HSD550D + HSD560D + \n",
       "    HSD570D + HSD580D + HSD590D + HSD610D + HSD620D + HSD710D + \n",
       "    HSD720D + HSD730D + HSD740D + HSD750D + HSD760D + HSD770D + \n",
       "    HSD780D + HSG040D + HSG045D + HSG050D + HSG182D + HSG210D + \n",
       "    HSG230D + HSG240D + HSG250D + HSG310D + HSG315D + HSG320D + \n",
       "    HSG325D + HSG335D + HSG350D + HSG370D + HSG375D + HSG380D + \n",
       "    HSG450D + HSG490D + HSG500D + HSG510D + HSG520D + HSG530D + \n",
       "    HSG540D + HSG550D + HSG560D + HSG570D + HSG650D + HSG690D + \n",
       "    HSG710D + HSG730D + INC110D + INC650D + INC670D + INC680D + \n",
       "    INC690D + INC700D + INC710D + INC720D + INC730D + INC760D + \n",
       "    INC790D + LFE020D + LFE023D + LFE030D + LFE080D + LFE090D + \n",
       "    LFE210D + LFE220D + LND110D + PIN020D + POP110D + POP210D + \n",
       "    POP240D + POP440D + POP450D + POP470D + POP480D + POP540D + \n",
       "    POP550D + POP570D + POP580D + POP700D + POP710D + POP720D + \n",
       "    POP740D + PPQ010D + PPQ100D + PPQ110D + PPQ120D + PVY020D + \n",
       "    PVY120D + PVY210D + PVY310D + PVY420D + PVY520D + SPR030D + \n",
       "    SPR130D + SPR230D + SPR330D + SPR440D + VST020D | 0 | 0 | \n",
       "    CountyCode"
      ]
     },
     "metadata": {},
     "output_type": "display_data"
    }
   ],
   "source": [
    "control_formula <- as.formula(paste(\"logghomr\", \"~\", paste(\"logfssl\",paste(colnames(Z),collapse=\"+\"),\n",
    "                                                          sep=\"+\"),\"|0|0| CountyCode\"))\n",
    "control_formula"
   ]
  },
  {
   "cell_type": "code",
   "execution_count": 82,
   "metadata": {
    "execution": {
     "iopub.execute_input": "2021-02-13T17:30:40.575465Z",
     "iopub.status.busy": "2021-02-13T17:30:40.573798Z",
     "iopub.status.idle": "2021-02-13T17:30:40.777165Z",
     "shell.execute_reply": "2021-02-13T17:30:40.774926Z"
    },
    "papermill": {
     "duration": 0.229579,
     "end_time": "2021-02-13T17:30:40.777425",
     "exception": false,
     "start_time": "2021-02-13T17:30:40.547846",
     "status": "completed"
    },
    "tags": []
   },
   "outputs": [
    {
     "name": "stderr",
     "output_type": "stream",
     "text": [
      "Warning message in chol.default(mat, pivot = TRUE, tol = tol):\n",
      "\"the matrix is either rank-deficient or indefinite\"\n",
      "Warning message in chol.default(mat, pivot = TRUE, tol = tol):\n",
      "\"the matrix is either rank-deficient or indefinite\"\n"
     ]
    },
    {
     "data": {
      "text/html": [
       "<style>\n",
       ".dl-inline {width: auto; margin:0; padding: 0}\n",
       ".dl-inline>dt, .dl-inline>dd {float: none; width: auto; display: inline-block}\n",
       ".dl-inline>dt::after {content: \":\\0020\"; padding-right: .5ex}\n",
       ".dl-inline>dt:not(:first-of-type) {padding-left: .5ex}\n",
       "</style><dl class=dl-inline><dt>2.5 %</dt><dd>0.087815935618714</dd><dt>97.5 %</dt><dd>0.293473517537939</dd></dl>\n"
      ],
      "text/latex": [
       "\\begin{description*}\n",
       "\\item[2.5 \\textbackslash{}\\%] 0.087815935618714\n",
       "\\item[97.5 \\textbackslash{}\\%] 0.293473517537939\n",
       "\\end{description*}\n"
      ],
      "text/markdown": [
       "2.5 %\n",
       ":   0.08781593561871497.5 %\n",
       ":   0.293473517537939\n",
       "\n"
      ],
      "text/plain": [
       "     2.5 %     97.5 % \n",
       "0.08781594 0.29347352 "
      ]
     },
     "metadata": {},
     "output_type": "display_data"
    },
    {
     "data": {
      "text/html": [
       "<style>\n",
       ".dl-inline {width: auto; margin:0; padding: 0}\n",
       ".dl-inline>dt, .dl-inline>dd {float: none; width: auto; display: inline-block}\n",
       ".dl-inline>dt::after {content: \":\\0020\"; padding-right: .5ex}\n",
       ".dl-inline>dt:not(:first-of-type) {padding-left: .5ex}\n",
       "</style><dl class=dl-inline><dt>Estimate</dt><dd>0.190644726578327</dd><dt>Cluster s.e.</dt><dd>0.0524475581590951</dd><dt>t value</dt><dd>3.63495905757943</dd><dt>Pr(&gt;|t|)</dt><dd>0.000281786721253425</dd></dl>\n"
      ],
      "text/latex": [
       "\\begin{description*}\n",
       "\\item[Estimate] 0.190644726578327\n",
       "\\item[Cluster s.e.] 0.0524475581590951\n",
       "\\item[t value] 3.63495905757943\n",
       "\\item[Pr(>\\textbackslash{}textbar\\{\\}t\\textbackslash{}textbar\\{\\})] 0.000281786721253425\n",
       "\\end{description*}\n"
      ],
      "text/markdown": [
       "Estimate\n",
       ":   0.190644726578327Cluster s.e.\n",
       ":   0.0524475581590951t value\n",
       ":   3.63495905757943Pr(&amp;gt;|t|)\n",
       ":   0.000281786721253425\n",
       "\n"
      ],
      "text/plain": [
       "    Estimate Cluster s.e.      t value     Pr(>|t|) \n",
       "0.1906447266 0.0524475582 3.6349590576 0.0002817867 "
      ]
     },
     "metadata": {},
     "output_type": "display_data"
    }
   ],
   "source": [
    "control.ols <- felm(control_formula,data=data)\n",
    "est_ols <- summary(control.ols)$coef[2,]\n",
    "confint(control.ols)[2,]\n",
    "est_ols"
   ]
  },
  {
   "cell_type": "code",
   "execution_count": 83,
   "metadata": {
    "scrolled": true
   },
   "outputs": [
    {
     "name": "stderr",
     "output_type": "stream",
     "text": [
      "Warning message in chol.default(mat, pivot = TRUE, tol = tol):\n",
      "\"the matrix is either rank-deficient or indefinite\"\n"
     ]
    },
    {
     "data": {
      "text/html": [
       "<table class=\"dataframe\">\n",
       "<caption>A matrix: 197 × 4 of type dbl</caption>\n",
       "<thead>\n",
       "\t<tr><th></th><th scope=col>Estimate</th><th scope=col>Cluster s.e.</th><th scope=col>t value</th><th scope=col>Pr(&gt;|t|)</th></tr>\n",
       "</thead>\n",
       "<tbody>\n",
       "\t<tr><th scope=row>(Intercept)</th><td> 1.675988e-15</td><td>1.659040e-15</td><td> 1.0102155</td><td>0.3124577934</td></tr>\n",
       "\t<tr><th scope=row>logfssl</th><td> 1.906447e-01</td><td>5.244756e-02</td><td> 3.6349591</td><td>0.0002817867</td></tr>\n",
       "\t<tr><th scope=row>logrobr</th><td> 1.890471e-01</td><td>5.385086e-02</td><td> 3.5105680</td><td>0.0004524588</td></tr>\n",
       "\t<tr><th scope=row>logburg</th><td> 2.192630e-01</td><td>6.282510e-02</td><td> 3.4900546</td><td>0.0004885304</td></tr>\n",
       "\t<tr><th scope=row>burg_missing</th><td> 1.529614e+00</td><td>4.443831e-01</td><td> 3.4421076</td><td>0.0005835660</td></tr>\n",
       "\t<tr><th scope=row>robrate_missing</th><td> 1.133081e+00</td><td>3.047595e-01</td><td> 3.7179522</td><td>0.0002038034</td></tr>\n",
       "\t<tr><th scope=row>newblack</th><td> 2.434718e+01</td><td>4.480200e+01</td><td> 0.5434397</td><td>0.5868597027</td></tr>\n",
       "\t<tr><th scope=row>newfhh</th><td>-6.875928e+01</td><td>1.146440e+02</td><td>-0.5997632</td><td>0.5487006184</td></tr>\n",
       "\t<tr><th scope=row>newmove</th><td> 4.211082e+01</td><td>2.869630e+01</td><td> 1.4674649</td><td>0.1423341971</td></tr>\n",
       "\t<tr><th scope=row>newdens</th><td>          NaN</td><td>0.000000e+00</td><td>       NaN</td><td>         NaN</td></tr>\n",
       "\t<tr><th scope=row>newmal</th><td> 6.116798e-01</td><td>2.747573e-01</td><td> 2.2262549</td><td>0.0260568012</td></tr>\n",
       "\t<tr><th scope=row>AGE010D</th><td>          NaN</td><td>0.000000e+00</td><td>       NaN</td><td>         NaN</td></tr>\n",
       "\t<tr><th scope=row>AGE050D</th><td> 1.042682e+01</td><td>6.123894e+00</td><td> 1.7026455</td><td>0.0887179971</td></tr>\n",
       "\t<tr><th scope=row>AGE110D</th><td>-6.459149e+00</td><td>4.079379e+00</td><td>-1.5833657</td><td>0.1134231550</td></tr>\n",
       "\t<tr><th scope=row>AGE170D</th><td>-6.446777e+00</td><td>4.865130e+00</td><td>-1.3250986</td><td>0.1852198433</td></tr>\n",
       "\t<tr><th scope=row>AGE180D</th><td>-1.153232e+01</td><td>1.387809e+01</td><td>-0.8309731</td><td>0.4060421653</td></tr>\n",
       "\t<tr><th scope=row>AGE270D</th><td> 3.565629e+01</td><td>1.975098e+01</td><td> 1.8052917</td><td>0.0711098841</td></tr>\n",
       "\t<tr><th scope=row>AGE310D</th><td> 1.938343e+01</td><td>2.660572e+01</td><td> 0.7285436</td><td>0.4663267705</td></tr>\n",
       "\t<tr><th scope=row>AGE320D</th><td> 1.588112e+00</td><td>1.533212e+00</td><td> 1.0358074</td><td>0.3003593274</td></tr>\n",
       "\t<tr><th scope=row>AGE350D</th><td>-9.330175e+00</td><td>1.308344e+01</td><td>-0.7131288</td><td>0.4758107752</td></tr>\n",
       "\t<tr><th scope=row>AGE380D</th><td> 2.713707e+01</td><td>2.716928e+01</td><td> 0.9988143</td><td>0.3179496313</td></tr>\n",
       "\t<tr><th scope=row>AGE410D</th><td>-9.263883e+00</td><td>1.254796e+01</td><td>-0.7382778</td><td>0.4603922507</td></tr>\n",
       "\t<tr><th scope=row>AGE470D</th><td> 5.171539e+00</td><td>2.509152e+00</td><td> 2.0610704</td><td>0.0393656944</td></tr>\n",
       "\t<tr><th scope=row>AGE570D</th><td> 3.818025e+00</td><td>1.956870e+00</td><td> 1.9510873</td><td>0.0511216497</td></tr>\n",
       "\t<tr><th scope=row>AGE640D</th><td> 1.965092e+00</td><td>1.301353e+00</td><td> 1.5100375</td><td>0.1311188123</td></tr>\n",
       "\t<tr><th scope=row>AGE670D</th><td>-1.729271e+00</td><td>1.281977e+00</td><td>-1.3489093</td><td>0.1774482404</td></tr>\n",
       "\t<tr><th scope=row>AGE760D</th><td> 8.113869e-01</td><td>3.211334e+00</td><td> 0.2526635</td><td>0.8005421838</td></tr>\n",
       "\t<tr><th scope=row>BNK010D</th><td>-7.570156e-02</td><td>8.044091e-02</td><td>-0.9410828</td><td>0.3467235766</td></tr>\n",
       "\t<tr><th scope=row>BNK050D</th><td> 1.852136e-02</td><td>6.938743e-02</td><td> 0.2669267</td><td>0.7895403658</td></tr>\n",
       "\t<tr><th scope=row>BPS030D</th><td>-6.704976e-02</td><td>1.089697e-01</td><td>-0.6153063</td><td>0.5383901048</td></tr>\n",
       "\t<tr><th scope=row>...</th><td>...</td><td>...</td><td>...</td><td>...</td></tr>\n",
       "\t<tr><th scope=row>POP210D</th><td> -0.97209645</td><td> 0.7998094</td><td>-1.21541015</td><td>0.224286848</td></tr>\n",
       "\t<tr><th scope=row>POP240D</th><td>-28.69339007</td><td>44.6041742</td><td>-0.64328935</td><td>0.520076029</td></tr>\n",
       "\t<tr><th scope=row>POP440D</th><td> -3.88112370</td><td> 2.2646538</td><td>-1.71378237</td><td>0.086652034</td></tr>\n",
       "\t<tr><th scope=row>POP450D</th><td> 11.63617966</td><td> 7.3858170</td><td> 1.57547630</td><td>0.115231602</td></tr>\n",
       "\t<tr><th scope=row>POP470D</th><td> -3.53764116</td><td> 1.2980421</td><td>-2.72536703</td><td>0.006453076</td></tr>\n",
       "\t<tr><th scope=row>POP480D</th><td> -1.77257985</td><td> 1.3831761</td><td>-1.28152871</td><td>0.200087916</td></tr>\n",
       "\t<tr><th scope=row>POP540D</th><td> -1.48084629</td><td> 2.1780103</td><td>-0.67990786</td><td>0.496605124</td></tr>\n",
       "\t<tr><th scope=row>POP550D</th><td>-28.19151761</td><td> 9.8025783</td><td>-2.87592884</td><td>0.004051311</td></tr>\n",
       "\t<tr><th scope=row>POP570D</th><td>  0.16646361</td><td> 1.8156766</td><td> 0.09168131</td><td>0.926956183</td></tr>\n",
       "\t<tr><th scope=row>POP580D</th><td>  2.25065499</td><td> 1.8055245</td><td> 1.24653803</td><td>0.212645443</td></tr>\n",
       "\t<tr><th scope=row>POP700D</th><td> 44.31693658</td><td>32.9945036</td><td> 1.34316119</td><td>0.179301745</td></tr>\n",
       "\t<tr><th scope=row>POP710D</th><td>-13.12781956</td><td> 8.5494594</td><td>-1.53551458</td><td>0.124742543</td></tr>\n",
       "\t<tr><th scope=row>POP720D</th><td>  0.89198580</td><td> 0.8173148</td><td> 1.09136132</td><td>0.275184625</td></tr>\n",
       "\t<tr><th scope=row>POP740D</th><td>  0.40686412</td><td> 0.4012353</td><td> 1.01402872</td><td>0.310635014</td></tr>\n",
       "\t<tr><th scope=row>PPQ010D</th><td> -0.31433106</td><td> 0.4125242</td><td>-0.76196997</td><td>0.446126247</td></tr>\n",
       "\t<tr><th scope=row>PPQ100D</th><td>  0.49054324</td><td> 0.2543427</td><td> 1.92867065</td><td>0.053847782</td></tr>\n",
       "\t<tr><th scope=row>PPQ110D</th><td>         NaN</td><td> 0.0000000</td><td>        NaN</td><td>        NaN</td></tr>\n",
       "\t<tr><th scope=row>PPQ120D</th><td>         NaN</td><td> 0.0000000</td><td>        NaN</td><td>        NaN</td></tr>\n",
       "\t<tr><th scope=row>PVY020D</th><td> -1.14717088</td><td> 2.6420324</td><td>-0.43420016</td><td>0.664168287</td></tr>\n",
       "\t<tr><th scope=row>PVY120D</th><td>  2.03161358</td><td> 1.9353901</td><td> 1.04971787</td><td>0.293916055</td></tr>\n",
       "\t<tr><th scope=row>PVY210D</th><td>  0.30728204</td><td> 0.4854728</td><td> 0.63295424</td><td>0.526802444</td></tr>\n",
       "\t<tr><th scope=row>PVY310D</th><td> -0.42834313</td><td> 0.7508571</td><td>-0.57047226</td><td>0.568391896</td></tr>\n",
       "\t<tr><th scope=row>PVY420D</th><td>  0.61149837</td><td> 1.7874181</td><td> 0.34211267</td><td>0.732285434</td></tr>\n",
       "\t<tr><th scope=row>PVY520D</th><td> -0.32686293</td><td> 0.8053323</td><td>-0.40587336</td><td>0.684859006</td></tr>\n",
       "\t<tr><th scope=row>SPR030D</th><td> -0.50017289</td><td> 0.4806889</td><td>-1.04053346</td><td>0.298159768</td></tr>\n",
       "\t<tr><th scope=row>SPR130D</th><td> -1.65749967</td><td> 0.8607775</td><td>-1.92558437</td><td>0.054232451</td></tr>\n",
       "\t<tr><th scope=row>SPR230D</th><td>  1.44840169</td><td> 0.8382389</td><td> 1.72791032</td><td>0.084087316</td></tr>\n",
       "\t<tr><th scope=row>SPR330D</th><td> -0.03365234</td><td> 0.4012711</td><td>-0.08386435</td><td>0.933168796</td></tr>\n",
       "\t<tr><th scope=row>SPR440D</th><td> -0.43182707</td><td> 0.2718852</td><td>-1.58826958</td><td>0.112310400</td></tr>\n",
       "\t<tr><th scope=row>VST020D</th><td>  0.53220207</td><td> 0.2990330</td><td> 1.77974346</td><td>0.075199591</td></tr>\n",
       "</tbody>\n",
       "</table>\n"
      ],
      "text/latex": [
       "A matrix: 197 × 4 of type dbl\n",
       "\\begin{tabular}{r|llll}\n",
       "  & Estimate & Cluster s.e. & t value & Pr(>\\textbar{}t\\textbar{})\\\\\n",
       "\\hline\n",
       "\t(Intercept) &  1.675988e-15 & 1.659040e-15 &  1.0102155 & 0.3124577934\\\\\n",
       "\tlogfssl &  1.906447e-01 & 5.244756e-02 &  3.6349591 & 0.0002817867\\\\\n",
       "\tlogrobr &  1.890471e-01 & 5.385086e-02 &  3.5105680 & 0.0004524588\\\\\n",
       "\tlogburg &  2.192630e-01 & 6.282510e-02 &  3.4900546 & 0.0004885304\\\\\n",
       "\tburg\\_missing &  1.529614e+00 & 4.443831e-01 &  3.4421076 & 0.0005835660\\\\\n",
       "\trobrate\\_missing &  1.133081e+00 & 3.047595e-01 &  3.7179522 & 0.0002038034\\\\\n",
       "\tnewblack &  2.434718e+01 & 4.480200e+01 &  0.5434397 & 0.5868597027\\\\\n",
       "\tnewfhh & -6.875928e+01 & 1.146440e+02 & -0.5997632 & 0.5487006184\\\\\n",
       "\tnewmove &  4.211082e+01 & 2.869630e+01 &  1.4674649 & 0.1423341971\\\\\n",
       "\tnewdens &           NaN & 0.000000e+00 &        NaN &          NaN\\\\\n",
       "\tnewmal &  6.116798e-01 & 2.747573e-01 &  2.2262549 & 0.0260568012\\\\\n",
       "\tAGE010D &           NaN & 0.000000e+00 &        NaN &          NaN\\\\\n",
       "\tAGE050D &  1.042682e+01 & 6.123894e+00 &  1.7026455 & 0.0887179971\\\\\n",
       "\tAGE110D & -6.459149e+00 & 4.079379e+00 & -1.5833657 & 0.1134231550\\\\\n",
       "\tAGE170D & -6.446777e+00 & 4.865130e+00 & -1.3250986 & 0.1852198433\\\\\n",
       "\tAGE180D & -1.153232e+01 & 1.387809e+01 & -0.8309731 & 0.4060421653\\\\\n",
       "\tAGE270D &  3.565629e+01 & 1.975098e+01 &  1.8052917 & 0.0711098841\\\\\n",
       "\tAGE310D &  1.938343e+01 & 2.660572e+01 &  0.7285436 & 0.4663267705\\\\\n",
       "\tAGE320D &  1.588112e+00 & 1.533212e+00 &  1.0358074 & 0.3003593274\\\\\n",
       "\tAGE350D & -9.330175e+00 & 1.308344e+01 & -0.7131288 & 0.4758107752\\\\\n",
       "\tAGE380D &  2.713707e+01 & 2.716928e+01 &  0.9988143 & 0.3179496313\\\\\n",
       "\tAGE410D & -9.263883e+00 & 1.254796e+01 & -0.7382778 & 0.4603922507\\\\\n",
       "\tAGE470D &  5.171539e+00 & 2.509152e+00 &  2.0610704 & 0.0393656944\\\\\n",
       "\tAGE570D &  3.818025e+00 & 1.956870e+00 &  1.9510873 & 0.0511216497\\\\\n",
       "\tAGE640D &  1.965092e+00 & 1.301353e+00 &  1.5100375 & 0.1311188123\\\\\n",
       "\tAGE670D & -1.729271e+00 & 1.281977e+00 & -1.3489093 & 0.1774482404\\\\\n",
       "\tAGE760D &  8.113869e-01 & 3.211334e+00 &  0.2526635 & 0.8005421838\\\\\n",
       "\tBNK010D & -7.570156e-02 & 8.044091e-02 & -0.9410828 & 0.3467235766\\\\\n",
       "\tBNK050D &  1.852136e-02 & 6.938743e-02 &  0.2669267 & 0.7895403658\\\\\n",
       "\tBPS030D & -6.704976e-02 & 1.089697e-01 & -0.6153063 & 0.5383901048\\\\\n",
       "\t... & ... & ... & ... & ...\\\\\n",
       "\tPOP210D &  -0.97209645 &  0.7998094 & -1.21541015 & 0.224286848\\\\\n",
       "\tPOP240D & -28.69339007 & 44.6041742 & -0.64328935 & 0.520076029\\\\\n",
       "\tPOP440D &  -3.88112370 &  2.2646538 & -1.71378237 & 0.086652034\\\\\n",
       "\tPOP450D &  11.63617966 &  7.3858170 &  1.57547630 & 0.115231602\\\\\n",
       "\tPOP470D &  -3.53764116 &  1.2980421 & -2.72536703 & 0.006453076\\\\\n",
       "\tPOP480D &  -1.77257985 &  1.3831761 & -1.28152871 & 0.200087916\\\\\n",
       "\tPOP540D &  -1.48084629 &  2.1780103 & -0.67990786 & 0.496605124\\\\\n",
       "\tPOP550D & -28.19151761 &  9.8025783 & -2.87592884 & 0.004051311\\\\\n",
       "\tPOP570D &   0.16646361 &  1.8156766 &  0.09168131 & 0.926956183\\\\\n",
       "\tPOP580D &   2.25065499 &  1.8055245 &  1.24653803 & 0.212645443\\\\\n",
       "\tPOP700D &  44.31693658 & 32.9945036 &  1.34316119 & 0.179301745\\\\\n",
       "\tPOP710D & -13.12781956 &  8.5494594 & -1.53551458 & 0.124742543\\\\\n",
       "\tPOP720D &   0.89198580 &  0.8173148 &  1.09136132 & 0.275184625\\\\\n",
       "\tPOP740D &   0.40686412 &  0.4012353 &  1.01402872 & 0.310635014\\\\\n",
       "\tPPQ010D &  -0.31433106 &  0.4125242 & -0.76196997 & 0.446126247\\\\\n",
       "\tPPQ100D &   0.49054324 &  0.2543427 &  1.92867065 & 0.053847782\\\\\n",
       "\tPPQ110D &          NaN &  0.0000000 &         NaN &         NaN\\\\\n",
       "\tPPQ120D &          NaN &  0.0000000 &         NaN &         NaN\\\\\n",
       "\tPVY020D &  -1.14717088 &  2.6420324 & -0.43420016 & 0.664168287\\\\\n",
       "\tPVY120D &   2.03161358 &  1.9353901 &  1.04971787 & 0.293916055\\\\\n",
       "\tPVY210D &   0.30728204 &  0.4854728 &  0.63295424 & 0.526802444\\\\\n",
       "\tPVY310D &  -0.42834313 &  0.7508571 & -0.57047226 & 0.568391896\\\\\n",
       "\tPVY420D &   0.61149837 &  1.7874181 &  0.34211267 & 0.732285434\\\\\n",
       "\tPVY520D &  -0.32686293 &  0.8053323 & -0.40587336 & 0.684859006\\\\\n",
       "\tSPR030D &  -0.50017289 &  0.4806889 & -1.04053346 & 0.298159768\\\\\n",
       "\tSPR130D &  -1.65749967 &  0.8607775 & -1.92558437 & 0.054232451\\\\\n",
       "\tSPR230D &   1.44840169 &  0.8382389 &  1.72791032 & 0.084087316\\\\\n",
       "\tSPR330D &  -0.03365234 &  0.4012711 & -0.08386435 & 0.933168796\\\\\n",
       "\tSPR440D &  -0.43182707 &  0.2718852 & -1.58826958 & 0.112310400\\\\\n",
       "\tVST020D &   0.53220207 &  0.2990330 &  1.77974346 & 0.075199591\\\\\n",
       "\\end{tabular}\n"
      ],
      "text/markdown": [
       "\n",
       "A matrix: 197 × 4 of type dbl\n",
       "\n",
       "| <!--/--> | Estimate | Cluster s.e. | t value | Pr(&gt;|t|) |\n",
       "|---|---|---|---|---|\n",
       "| (Intercept) |  1.675988e-15 | 1.659040e-15 |  1.0102155 | 0.3124577934 |\n",
       "| logfssl |  1.906447e-01 | 5.244756e-02 |  3.6349591 | 0.0002817867 |\n",
       "| logrobr |  1.890471e-01 | 5.385086e-02 |  3.5105680 | 0.0004524588 |\n",
       "| logburg |  2.192630e-01 | 6.282510e-02 |  3.4900546 | 0.0004885304 |\n",
       "| burg_missing |  1.529614e+00 | 4.443831e-01 |  3.4421076 | 0.0005835660 |\n",
       "| robrate_missing |  1.133081e+00 | 3.047595e-01 |  3.7179522 | 0.0002038034 |\n",
       "| newblack |  2.434718e+01 | 4.480200e+01 |  0.5434397 | 0.5868597027 |\n",
       "| newfhh | -6.875928e+01 | 1.146440e+02 | -0.5997632 | 0.5487006184 |\n",
       "| newmove |  4.211082e+01 | 2.869630e+01 |  1.4674649 | 0.1423341971 |\n",
       "| newdens |           NaN | 0.000000e+00 |        NaN |          NaN |\n",
       "| newmal |  6.116798e-01 | 2.747573e-01 |  2.2262549 | 0.0260568012 |\n",
       "| AGE010D |           NaN | 0.000000e+00 |        NaN |          NaN |\n",
       "| AGE050D |  1.042682e+01 | 6.123894e+00 |  1.7026455 | 0.0887179971 |\n",
       "| AGE110D | -6.459149e+00 | 4.079379e+00 | -1.5833657 | 0.1134231550 |\n",
       "| AGE170D | -6.446777e+00 | 4.865130e+00 | -1.3250986 | 0.1852198433 |\n",
       "| AGE180D | -1.153232e+01 | 1.387809e+01 | -0.8309731 | 0.4060421653 |\n",
       "| AGE270D |  3.565629e+01 | 1.975098e+01 |  1.8052917 | 0.0711098841 |\n",
       "| AGE310D |  1.938343e+01 | 2.660572e+01 |  0.7285436 | 0.4663267705 |\n",
       "| AGE320D |  1.588112e+00 | 1.533212e+00 |  1.0358074 | 0.3003593274 |\n",
       "| AGE350D | -9.330175e+00 | 1.308344e+01 | -0.7131288 | 0.4758107752 |\n",
       "| AGE380D |  2.713707e+01 | 2.716928e+01 |  0.9988143 | 0.3179496313 |\n",
       "| AGE410D | -9.263883e+00 | 1.254796e+01 | -0.7382778 | 0.4603922507 |\n",
       "| AGE470D |  5.171539e+00 | 2.509152e+00 |  2.0610704 | 0.0393656944 |\n",
       "| AGE570D |  3.818025e+00 | 1.956870e+00 |  1.9510873 | 0.0511216497 |\n",
       "| AGE640D |  1.965092e+00 | 1.301353e+00 |  1.5100375 | 0.1311188123 |\n",
       "| AGE670D | -1.729271e+00 | 1.281977e+00 | -1.3489093 | 0.1774482404 |\n",
       "| AGE760D |  8.113869e-01 | 3.211334e+00 |  0.2526635 | 0.8005421838 |\n",
       "| BNK010D | -7.570156e-02 | 8.044091e-02 | -0.9410828 | 0.3467235766 |\n",
       "| BNK050D |  1.852136e-02 | 6.938743e-02 |  0.2669267 | 0.7895403658 |\n",
       "| BPS030D | -6.704976e-02 | 1.089697e-01 | -0.6153063 | 0.5383901048 |\n",
       "| ... | ... | ... | ... | ... |\n",
       "| POP210D |  -0.97209645 |  0.7998094 | -1.21541015 | 0.224286848 |\n",
       "| POP240D | -28.69339007 | 44.6041742 | -0.64328935 | 0.520076029 |\n",
       "| POP440D |  -3.88112370 |  2.2646538 | -1.71378237 | 0.086652034 |\n",
       "| POP450D |  11.63617966 |  7.3858170 |  1.57547630 | 0.115231602 |\n",
       "| POP470D |  -3.53764116 |  1.2980421 | -2.72536703 | 0.006453076 |\n",
       "| POP480D |  -1.77257985 |  1.3831761 | -1.28152871 | 0.200087916 |\n",
       "| POP540D |  -1.48084629 |  2.1780103 | -0.67990786 | 0.496605124 |\n",
       "| POP550D | -28.19151761 |  9.8025783 | -2.87592884 | 0.004051311 |\n",
       "| POP570D |   0.16646361 |  1.8156766 |  0.09168131 | 0.926956183 |\n",
       "| POP580D |   2.25065499 |  1.8055245 |  1.24653803 | 0.212645443 |\n",
       "| POP700D |  44.31693658 | 32.9945036 |  1.34316119 | 0.179301745 |\n",
       "| POP710D | -13.12781956 |  8.5494594 | -1.53551458 | 0.124742543 |\n",
       "| POP720D |   0.89198580 |  0.8173148 |  1.09136132 | 0.275184625 |\n",
       "| POP740D |   0.40686412 |  0.4012353 |  1.01402872 | 0.310635014 |\n",
       "| PPQ010D |  -0.31433106 |  0.4125242 | -0.76196997 | 0.446126247 |\n",
       "| PPQ100D |   0.49054324 |  0.2543427 |  1.92867065 | 0.053847782 |\n",
       "| PPQ110D |          NaN |  0.0000000 |         NaN |         NaN |\n",
       "| PPQ120D |          NaN |  0.0000000 |         NaN |         NaN |\n",
       "| PVY020D |  -1.14717088 |  2.6420324 | -0.43420016 | 0.664168287 |\n",
       "| PVY120D |   2.03161358 |  1.9353901 |  1.04971787 | 0.293916055 |\n",
       "| PVY210D |   0.30728204 |  0.4854728 |  0.63295424 | 0.526802444 |\n",
       "| PVY310D |  -0.42834313 |  0.7508571 | -0.57047226 | 0.568391896 |\n",
       "| PVY420D |   0.61149837 |  1.7874181 |  0.34211267 | 0.732285434 |\n",
       "| PVY520D |  -0.32686293 |  0.8053323 | -0.40587336 | 0.684859006 |\n",
       "| SPR030D |  -0.50017289 |  0.4806889 | -1.04053346 | 0.298159768 |\n",
       "| SPR130D |  -1.65749967 |  0.8607775 | -1.92558437 | 0.054232451 |\n",
       "| SPR230D |   1.44840169 |  0.8382389 |  1.72791032 | 0.084087316 |\n",
       "| SPR330D |  -0.03365234 |  0.4012711 | -0.08386435 | 0.933168796 |\n",
       "| SPR440D |  -0.43182707 |  0.2718852 | -1.58826958 | 0.112310400 |\n",
       "| VST020D |   0.53220207 |  0.2990330 |  1.77974346 | 0.075199591 |\n",
       "\n"
      ],
      "text/plain": [
       "                Estimate      Cluster s.e. t value     Pr(>|t|)    \n",
       "(Intercept)      1.675988e-15 1.659040e-15  1.0102155  0.3124577934\n",
       "logfssl          1.906447e-01 5.244756e-02  3.6349591  0.0002817867\n",
       "logrobr          1.890471e-01 5.385086e-02  3.5105680  0.0004524588\n",
       "logburg          2.192630e-01 6.282510e-02  3.4900546  0.0004885304\n",
       "burg_missing     1.529614e+00 4.443831e-01  3.4421076  0.0005835660\n",
       "robrate_missing  1.133081e+00 3.047595e-01  3.7179522  0.0002038034\n",
       "newblack         2.434718e+01 4.480200e+01  0.5434397  0.5868597027\n",
       "newfhh          -6.875928e+01 1.146440e+02 -0.5997632  0.5487006184\n",
       "newmove          4.211082e+01 2.869630e+01  1.4674649  0.1423341971\n",
       "newdens                   NaN 0.000000e+00        NaN           NaN\n",
       "newmal           6.116798e-01 2.747573e-01  2.2262549  0.0260568012\n",
       "AGE010D                   NaN 0.000000e+00        NaN           NaN\n",
       "AGE050D          1.042682e+01 6.123894e+00  1.7026455  0.0887179971\n",
       "AGE110D         -6.459149e+00 4.079379e+00 -1.5833657  0.1134231550\n",
       "AGE170D         -6.446777e+00 4.865130e+00 -1.3250986  0.1852198433\n",
       "AGE180D         -1.153232e+01 1.387809e+01 -0.8309731  0.4060421653\n",
       "AGE270D          3.565629e+01 1.975098e+01  1.8052917  0.0711098841\n",
       "AGE310D          1.938343e+01 2.660572e+01  0.7285436  0.4663267705\n",
       "AGE320D          1.588112e+00 1.533212e+00  1.0358074  0.3003593274\n",
       "AGE350D         -9.330175e+00 1.308344e+01 -0.7131288  0.4758107752\n",
       "AGE380D          2.713707e+01 2.716928e+01  0.9988143  0.3179496313\n",
       "AGE410D         -9.263883e+00 1.254796e+01 -0.7382778  0.4603922507\n",
       "AGE470D          5.171539e+00 2.509152e+00  2.0610704  0.0393656944\n",
       "AGE570D          3.818025e+00 1.956870e+00  1.9510873  0.0511216497\n",
       "AGE640D          1.965092e+00 1.301353e+00  1.5100375  0.1311188123\n",
       "AGE670D         -1.729271e+00 1.281977e+00 -1.3489093  0.1774482404\n",
       "AGE760D          8.113869e-01 3.211334e+00  0.2526635  0.8005421838\n",
       "BNK010D         -7.570156e-02 8.044091e-02 -0.9410828  0.3467235766\n",
       "BNK050D          1.852136e-02 6.938743e-02  0.2669267  0.7895403658\n",
       "BPS030D         -6.704976e-02 1.089697e-01 -0.6153063  0.5383901048\n",
       "...             ...           ...          ...         ...         \n",
       "POP210D          -0.97209645   0.7998094   -1.21541015 0.224286848 \n",
       "POP240D         -28.69339007  44.6041742   -0.64328935 0.520076029 \n",
       "POP440D          -3.88112370   2.2646538   -1.71378237 0.086652034 \n",
       "POP450D          11.63617966   7.3858170    1.57547630 0.115231602 \n",
       "POP470D          -3.53764116   1.2980421   -2.72536703 0.006453076 \n",
       "POP480D          -1.77257985   1.3831761   -1.28152871 0.200087916 \n",
       "POP540D          -1.48084629   2.1780103   -0.67990786 0.496605124 \n",
       "POP550D         -28.19151761   9.8025783   -2.87592884 0.004051311 \n",
       "POP570D           0.16646361   1.8156766    0.09168131 0.926956183 \n",
       "POP580D           2.25065499   1.8055245    1.24653803 0.212645443 \n",
       "POP700D          44.31693658  32.9945036    1.34316119 0.179301745 \n",
       "POP710D         -13.12781956   8.5494594   -1.53551458 0.124742543 \n",
       "POP720D           0.89198580   0.8173148    1.09136132 0.275184625 \n",
       "POP740D           0.40686412   0.4012353    1.01402872 0.310635014 \n",
       "PPQ010D          -0.31433106   0.4125242   -0.76196997 0.446126247 \n",
       "PPQ100D           0.49054324   0.2543427    1.92867065 0.053847782 \n",
       "PPQ110D                  NaN   0.0000000           NaN         NaN \n",
       "PPQ120D                  NaN   0.0000000           NaN         NaN \n",
       "PVY020D          -1.14717088   2.6420324   -0.43420016 0.664168287 \n",
       "PVY120D           2.03161358   1.9353901    1.04971787 0.293916055 \n",
       "PVY210D           0.30728204   0.4854728    0.63295424 0.526802444 \n",
       "PVY310D          -0.42834313   0.7508571   -0.57047226 0.568391896 \n",
       "PVY420D           0.61149837   1.7874181    0.34211267 0.732285434 \n",
       "PVY520D          -0.32686293   0.8053323   -0.40587336 0.684859006 \n",
       "SPR030D          -0.50017289   0.4806889   -1.04053346 0.298159768 \n",
       "SPR130D          -1.65749967   0.8607775   -1.92558437 0.054232451 \n",
       "SPR230D           1.44840169   0.8382389    1.72791032 0.084087316 \n",
       "SPR330D          -0.03365234   0.4012711   -0.08386435 0.933168796 \n",
       "SPR440D          -0.43182707   0.2718852   -1.58826958 0.112310400 \n",
       "VST020D           0.53220207   0.2990330    1.77974346 0.075199591 "
      ]
     },
     "metadata": {},
     "output_type": "display_data"
    }
   ],
   "source": [
    "summary(control.ols)$coef"
   ]
  },
  {
   "cell_type": "markdown",
   "metadata": {
    "papermill": {
     "duration": 0.039309,
     "end_time": "2021-02-13T17:30:40.858783",
     "exception": false,
     "start_time": "2021-02-13T17:30:40.819474",
     "status": "completed"
    },
    "tags": []
   },
   "source": [
    "After controlling for a rich set of characteristics, the point estimate of gun ownership reduces to $0.19$."
   ]
  },
  {
   "cell_type": "markdown",
   "metadata": {
    "papermill": {
     "duration": 0.022083,
     "end_time": "2021-02-13T17:30:40.902070",
     "exception": false,
     "start_time": "2021-02-13T17:30:40.879987",
     "status": "completed"
    },
    "tags": []
   },
   "source": [
    "# DML algorithm\n",
    "\n",
    "Here we perform inference of the predictive coefficient $\\beta$ in our partially linear statistical model, \n",
    "\n",
    "$$\n",
    "Y = D\\beta + g(Z) + \\epsilon, \\quad E (\\epsilon | D, Z) = 0,\n",
    "$$\n",
    "\n",
    "using the **double machine learning** approach. \n",
    "\n",
    "For $\\tilde Y = Y- E(Y|Z)$ and $\\tilde D= D- E(D|Z)$, we can write\n",
    "$$\n",
    "\\tilde Y = \\alpha \\tilde D + \\epsilon, \\quad E (\\epsilon |\\tilde D) =0.\n",
    "$$\n",
    "\n",
    "Using cross-fitting, we employ modern regression methods\n",
    "to build estimators $\\hat \\ell(Z)$ and $\\hat m(Z)$ of $\\ell(Z):=E(Y|Z)$ and $m(Z):=E(D|Z)$ to obtain the estimates of the residualized quantities:\n",
    "\n",
    "$$\n",
    "\\tilde Y_i = Y_i  - \\hat \\ell (Z_i),   \\quad \\tilde D_i = D_i - \\hat m(Z_i), \\quad \\text{ for each } i = 1,\\dots,n.\n",
    "$$\n",
    "\n",
    "Finally, using ordinary least squares of $\\tilde Y_i$ on $\\tilde D_i$, we obtain the \n",
    "estimate of $\\beta$."
   ]
  },
  {
   "cell_type": "markdown",
   "metadata": {
    "papermill": {
     "duration": 0.021101,
     "end_time": "2021-02-13T17:30:40.944373",
     "exception": false,
     "start_time": "2021-02-13T17:30:40.923272",
     "status": "completed"
    },
    "tags": []
   },
   "source": [
    "The following algorithm comsumes $Y, D, Z$, and a machine learning method for learning the residuals $\\tilde Y$ and $\\tilde D$, where the residuals are obtained by cross-validation (cross-fitting). Then, it prints the estimated coefficient $\\beta$ and the corresponding standard error from the final OLS regression."
   ]
  },
  {
   "cell_type": "code",
   "execution_count": 86,
   "metadata": {},
   "outputs": [
    {
     "data": {
      "text/html": [
       "<style>\n",
       ".list-inline {list-style: none; margin:0; padding: 0}\n",
       ".list-inline>li {display: inline-block}\n",
       ".list-inline>li:not(:last-child)::after {content: \"\\00b7\"; padding: 0 .5ex}\n",
       "</style>\n",
       "<ol class=list-inline><li>1</li><li>2</li><li>3</li><li>4</li><li>5</li><li>6</li><li>7</li><li>8</li><li>9</li><li>10</li><li>11</li><li>12</li><li>13</li><li>14</li><li>15</li><li>16</li><li>17</li><li>18</li><li>19</li><li>20</li></ol>\n"
      ],
      "text/latex": [
       "\\begin{enumerate*}\n",
       "\\item 1\n",
       "\\item 2\n",
       "\\item 3\n",
       "\\item 4\n",
       "\\item 5\n",
       "\\item 6\n",
       "\\item 7\n",
       "\\item 8\n",
       "\\item 9\n",
       "\\item 10\n",
       "\\item 11\n",
       "\\item 12\n",
       "\\item 13\n",
       "\\item 14\n",
       "\\item 15\n",
       "\\item 16\n",
       "\\item 17\n",
       "\\item 18\n",
       "\\item 19\n",
       "\\item 20\n",
       "\\end{enumerate*}\n"
      ],
      "text/markdown": [
       "1. 1\n",
       "2. 2\n",
       "3. 3\n",
       "4. 4\n",
       "5. 5\n",
       "6. 6\n",
       "7. 7\n",
       "8. 8\n",
       "9. 9\n",
       "10. 10\n",
       "11. 11\n",
       "12. 12\n",
       "13. 13\n",
       "14. 14\n",
       "15. 15\n",
       "16. 16\n",
       "17. 17\n",
       "18. 18\n",
       "19. 19\n",
       "20. 20\n",
       "\n",
       "\n"
      ],
      "text/plain": [
       " [1]  1  2  3  4  5  6  7  8  9 10 11 12 13 14 15 16 17 18 19 20"
      ]
     },
     "metadata": {},
     "output_type": "display_data"
    }
   ],
   "source": [
    "I_1 <- c(1,2,3,4,5,6,7,8,9,10)\n",
    "I_2 <- c(11,12,13,14,15,16,17,18,19,20)\n",
    "I = c(I_1, I_2)\n",
    "I"
   ]
  },
  {
   "cell_type": "code",
   "execution_count": 87,
   "metadata": {
    "execution": {
     "iopub.execute_input": "2021-02-13T17:30:41.049917Z",
     "iopub.status.busy": "2021-02-13T17:30:41.048343Z",
     "iopub.status.idle": "2021-02-13T17:30:41.060452Z",
     "shell.execute_reply": "2021-02-13T17:30:41.059555Z"
    },
    "papermill": {
     "duration": 0.095479,
     "end_time": "2021-02-13T17:30:41.060587",
     "exception": false,
     "start_time": "2021-02-13T17:30:40.965108",
     "status": "completed"
    },
    "tags": []
   },
   "outputs": [],
   "source": [
    "DML2.for.PLM <- function(z, d, y, dreg, yreg, nfold=2, clu) {\n",
    "  nobs <- nrow(z) #number of observations\n",
    "  foldid <- rep.int(1:nfold,times = ceiling(nobs/nfold))[sample.int(nobs)] #define folds indices\n",
    "  I <- split(1:nobs, foldid)  #split observation indices into folds  \n",
    "  ytil <- dtil <- rep(NA, nobs)\n",
    "  cat(\"fold: \")\n",
    "  for(b in 1:length(I)){\n",
    "    dfit <- dreg(z[-I[[b]],], d[-I[[b]]]) #take a fold out\n",
    "    yfit <- yreg(z[-I[[b]],], y[-I[[b]]]) # take a foldt out\n",
    "    dhat <- predict(dfit, z[I[[b]],], type=\"response\") #predict the left-out fold \n",
    "    yhat <- predict(yfit, z[I[[b]],], type=\"response\") #predict the left-out fold  \n",
    "    dtil[I[[b]]] <- (d[I[[b]]] - dhat) #record residual for the left-out fold\n",
    "    ytil[I[[b]]] <- (y[I[[b]]] - yhat) #record residial for the left-out fold\n",
    "    cat(b,\" \")\n",
    "        }\n",
    "  #rfit <- lm(ytil ~ dtil)    #estimate the main parameter by regressing one residual on the other\n",
    "  data <- data.frame(cbind(ytil, dtil, as.matrix(clu)))\n",
    "  rfit <- felm(ytil ~ dtil|0|0|CountyCode,data=data) \n",
    "  coef.est <- coef(rfit)[2]  #extract coefficient\n",
    "  #HC <- vcovHC(rfit)\n",
    "  se    <- summary(rfit,robust=T)$coefficients[2,2] #record robust standard error by County\n",
    "  cat(sprintf(\"\\ncoef (se) = %g (%g)\\n\", coef.est , se))  #printing output\n",
    "  return( list(coef.est =coef.est , se=se, dtil=dtil, ytil=ytil, rfit=rfit) ) #save output and residuals \n",
    "}"
   ]
  },
  {
   "cell_type": "markdown",
   "metadata": {
    "papermill": {
     "duration": 0.020604,
     "end_time": "2021-02-13T17:30:41.102146",
     "exception": false,
     "start_time": "2021-02-13T17:30:41.081542",
     "status": "completed"
    },
    "tags": []
   },
   "source": [
    "Now, we apply the Double Machine Learning (DML) approach with different machine learning methods. First, we load the relevant libraries."
   ]
  },
  {
   "cell_type": "code",
   "execution_count": 88,
   "metadata": {
    "execution": {
     "iopub.execute_input": "2021-02-13T17:30:41.148547Z",
     "iopub.status.busy": "2021-02-13T17:30:41.147436Z",
     "iopub.status.idle": "2021-02-13T17:30:41.609900Z",
     "shell.execute_reply": "2021-02-13T17:30:41.609227Z"
    },
    "papermill": {
     "duration": 0.486944,
     "end_time": "2021-02-13T17:30:41.610047",
     "exception": false,
     "start_time": "2021-02-13T17:30:41.123103",
     "status": "completed"
    },
    "tags": []
   },
   "outputs": [],
   "source": [
    "library(hdm)\n",
    "library(glmnet)\n",
    "library(sandwich)\n",
    "library(randomForest)"
   ]
  },
  {
   "cell_type": "markdown",
   "metadata": {
    "papermill": {
     "duration": 0.022531,
     "end_time": "2021-02-13T17:30:41.655799",
     "exception": false,
     "start_time": "2021-02-13T17:30:41.633268",
     "status": "completed"
    },
    "tags": []
   },
   "source": [
    "Let us, construct the input matrices."
   ]
  },
  {
   "cell_type": "code",
   "execution_count": 89,
   "metadata": {
    "execution": {
     "iopub.execute_input": "2021-02-13T17:30:41.706539Z",
     "iopub.status.busy": "2021-02-13T17:30:41.705289Z",
     "iopub.status.idle": "2021-02-13T17:30:41.750368Z",
     "shell.execute_reply": "2021-02-13T17:30:41.749361Z"
    },
    "papermill": {
     "duration": 0.071827,
     "end_time": "2021-02-13T17:30:41.750537",
     "exception": false,
     "start_time": "2021-02-13T17:30:41.678710",
     "status": "completed"
    },
    "tags": []
   },
   "outputs": [
    {
     "data": {
      "text/html": [
       "<table class=\"dataframe\">\n",
       "<caption>A data.frame: 6 × 3</caption>\n",
       "<thead>\n",
       "\t<tr><th></th><th scope=col>logghomr</th><th scope=col>logfssl</th><th scope=col>CountyCode</th></tr>\n",
       "\t<tr><th></th><th scope=col>&lt;dbl&gt;</th><th scope=col>&lt;dbl&gt;</th><th scope=col>&lt;dbl&gt;</th></tr>\n",
       "</thead>\n",
       "<tbody>\n",
       "\t<tr><th scope=row>1</th><td>-0.13477752</td><td> 0.096127077</td><td>1073</td></tr>\n",
       "\t<tr><th scope=row>2</th><td>-0.23962152</td><td> 0.080809373</td><td>1073</td></tr>\n",
       "\t<tr><th scope=row>3</th><td>-0.07867716</td><td> 0.057339916</td><td>1073</td></tr>\n",
       "\t<tr><th scope=row>4</th><td>-0.33146546</td><td> 0.081694483</td><td>1073</td></tr>\n",
       "\t<tr><th scope=row>5</th><td>-0.31663980</td><td> 0.025365514</td><td>1073</td></tr>\n",
       "\t<tr><th scope=row>6</th><td> 0.10513190</td><td>-0.006777264</td><td>1073</td></tr>\n",
       "</tbody>\n",
       "</table>\n"
      ],
      "text/latex": [
       "A data.frame: 6 × 3\n",
       "\\begin{tabular}{r|lll}\n",
       "  & logghomr & logfssl & CountyCode\\\\\n",
       "  & <dbl> & <dbl> & <dbl>\\\\\n",
       "\\hline\n",
       "\t1 & -0.13477752 &  0.096127077 & 1073\\\\\n",
       "\t2 & -0.23962152 &  0.080809373 & 1073\\\\\n",
       "\t3 & -0.07867716 &  0.057339916 & 1073\\\\\n",
       "\t4 & -0.33146546 &  0.081694483 & 1073\\\\\n",
       "\t5 & -0.31663980 &  0.025365514 & 1073\\\\\n",
       "\t6 &  0.10513190 & -0.006777264 & 1073\\\\\n",
       "\\end{tabular}\n"
      ],
      "text/markdown": [
       "\n",
       "A data.frame: 6 × 3\n",
       "\n",
       "| <!--/--> | logghomr &lt;dbl&gt; | logfssl &lt;dbl&gt; | CountyCode &lt;dbl&gt; |\n",
       "|---|---|---|---|\n",
       "| 1 | -0.13477752 |  0.096127077 | 1073 |\n",
       "| 2 | -0.23962152 |  0.080809373 | 1073 |\n",
       "| 3 | -0.07867716 |  0.057339916 | 1073 |\n",
       "| 4 | -0.33146546 |  0.081694483 | 1073 |\n",
       "| 5 | -0.31663980 |  0.025365514 | 1073 |\n",
       "| 6 |  0.10513190 | -0.006777264 | 1073 |\n",
       "\n"
      ],
      "text/plain": [
       "  logghomr    logfssl      CountyCode\n",
       "1 -0.13477752  0.096127077 1073      \n",
       "2 -0.23962152  0.080809373 1073      \n",
       "3 -0.07867716  0.057339916 1073      \n",
       "4 -0.33146546  0.081694483 1073      \n",
       "5 -0.31663980  0.025365514 1073      \n",
       "6  0.10513190 -0.006777264 1073      "
      ]
     },
     "metadata": {},
     "output_type": "display_data"
    }
   ],
   "source": [
    "y <- as.matrix(Y)\n",
    "d <- as.matrix(D)\n",
    "z <- as.matrix(Z)\n",
    "clu <- rdata[which(colnames(rdata) == \"CountyCode\")]\n",
    "head(data.frame(cbind(y,d,as.matrix(clu))))"
   ]
  },
  {
   "cell_type": "markdown",
   "metadata": {
    "papermill": {
     "duration": 0.022813,
     "end_time": "2021-02-13T17:30:41.796577",
     "exception": false,
     "start_time": "2021-02-13T17:30:41.773764",
     "status": "completed"
    },
    "tags": []
   },
   "source": [
    "In the following, we apply the DML approach with the differnt versions of lasso.\n"
   ]
  },
  {
   "cell_type": "markdown",
   "metadata": {
    "papermill": {
     "duration": 0.02306,
     "end_time": "2021-02-13T17:30:41.843131",
     "exception": false,
     "start_time": "2021-02-13T17:30:41.820071",
     "status": "completed"
    },
    "tags": []
   },
   "source": [
    "## Lasso"
   ]
  },
  {
   "cell_type": "code",
   "execution_count": 91,
   "metadata": {
    "execution": {
     "iopub.execute_input": "2021-02-13T17:30:41.892634Z",
     "iopub.status.busy": "2021-02-13T17:30:41.891453Z",
     "iopub.status.idle": "2021-02-13T17:31:07.362797Z",
     "shell.execute_reply": "2021-02-13T17:31:07.360728Z"
    },
    "papermill": {
     "duration": 25.497739,
     "end_time": "2021-02-13T17:31:07.363059",
     "exception": false,
     "start_time": "2021-02-13T17:30:41.865320",
     "status": "completed"
    },
    "tags": []
   },
   "outputs": [],
   "source": [
    "#DML with Lasso:\n",
    "set.seed(123)\n",
    "dreg <- function(z,d){ rlasso(z,d, post=FALSE) } #ML method= lasso from hdm \n",
    "yreg <- function(z,y){ rlasso(z,y, post=FALSE) } #ML method = lasso from hdm"
   ]
  },
  {
   "cell_type": "code",
   "execution_count": 92,
   "metadata": {
    "execution": {
     "iopub.execute_input": "2021-02-13T17:30:41.892634Z",
     "iopub.status.busy": "2021-02-13T17:30:41.891453Z",
     "iopub.status.idle": "2021-02-13T17:31:07.362797Z",
     "shell.execute_reply": "2021-02-13T17:31:07.360728Z"
    },
    "papermill": {
     "duration": 25.497739,
     "end_time": "2021-02-13T17:31:07.363059",
     "exception": false,
     "start_time": "2021-02-13T17:30:41.865320",
     "status": "completed"
    },
    "tags": []
   },
   "outputs": [
    {
     "name": "stdout",
     "output_type": "stream",
     "text": [
      "fold: 1  2  3  4  5  6  7  8  9  10  \n",
      "coef (se) = 0.222959 (0.0570325)\n"
     ]
    }
   ],
   "source": [
    "DML2.lasso = DML2.for.PLM(z, d, y, dreg, yreg, nfold=10, clu)"
   ]
  },
  {
   "cell_type": "code",
   "execution_count": 93,
   "metadata": {
    "execution": {
     "iopub.execute_input": "2021-02-13T17:31:07.450047Z",
     "iopub.status.busy": "2021-02-13T17:31:07.449335Z",
     "iopub.status.idle": "2021-02-13T17:31:33.296006Z",
     "shell.execute_reply": "2021-02-13T17:31:33.294119Z"
    },
    "papermill": {
     "duration": 25.88845,
     "end_time": "2021-02-13T17:31:33.296252",
     "exception": false,
     "start_time": "2021-02-13T17:31:07.407802",
     "status": "completed"
    },
    "tags": []
   },
   "outputs": [
    {
     "name": "stdout",
     "output_type": "stream",
     "text": [
      "fold: 1  2  3  4  5  6  7  8  9  10  \n",
      "coef (se) = 0.226934 (0.0561918)\n"
     ]
    }
   ],
   "source": [
    "#DML with Post-Lasso:\n",
    "dreg <- function(z,d){ rlasso(z,d, post=T) } #ML method= lasso from hdm \n",
    "yreg <- function(z,y){ rlasso(z,y, post=T) } #ML method = lasso from hdm\n",
    "DML2.post = DML2.for.PLM(z, d, y, dreg, yreg, nfold=10, clu)"
   ]
  },
  {
   "cell_type": "code",
   "execution_count": 94,
   "metadata": {
    "execution": {
     "iopub.execute_input": "2021-02-13T17:31:33.387359Z",
     "iopub.status.busy": "2021-02-13T17:31:33.386570Z",
     "iopub.status.idle": "2021-02-13T17:35:07.561791Z",
     "shell.execute_reply": "2021-02-13T17:35:07.562608Z"
    },
    "papermill": {
     "duration": 214.221131,
     "end_time": "2021-02-13T17:35:07.562866",
     "exception": false,
     "start_time": "2021-02-13T17:31:33.341735",
     "status": "completed"
    },
    "tags": []
   },
   "outputs": [
    {
     "name": "stdout",
     "output_type": "stream",
     "text": [
      "fold: 1  2  3  4  5  \n",
      "coef (se) = 0.194926 (0.0569378)\n",
      "fold: 1  2  3  4  5  \n",
      "coef (se) = 0.208474 (0.0600804)\n",
      "fold: 1  2  3  4  5  \n",
      "coef (se) = 0.200234 (0.0598422)\n"
     ]
    }
   ],
   "source": [
    "#DML with cross-validated Lasso:\n",
    "dreg <- function(z,d){ cv.glmnet(z,d,family=\"gaussian\", alpha=1) } #ML method = lasso from glmnet \n",
    "yreg <- function(z,y){ cv.glmnet(z,y,family=\"gaussian\", alpha=1) }  #ML method = lasso from glmnet \n",
    "DML2.lasso.cv = DML2.for.PLM(z, d, y, dreg, yreg, nfold=5, clu)\n",
    "\n",
    "dreg <- function(z,d){ cv.glmnet(z,d,family=\"gaussian\", alpha=0.5) } #ML method = elastic net from glmnet \n",
    "yreg <- function(z,y){ cv.glmnet(z,y,family=\"gaussian\", alpha=0.5) }  #ML method = elastic net from glmnet \n",
    "DML2.elnet = DML2.for.PLM(z, d, y, dreg, yreg, nfold=5, clu)\n",
    "\n",
    "dreg <- function(z,d){ cv.glmnet(z,d,family=\"gaussian\", alpha=0) } #ML method = ridge from glmnet \n",
    "yreg <- function(z,y){ cv.glmnet(z,y,family=\"gaussian\", alpha=0) }  #ML method = ridge from glmnet \n",
    "DML2.ridge = DML2.for.PLM(z, d, y, dreg, yreg, nfold=5, clu)"
   ]
  },
  {
   "cell_type": "markdown",
   "metadata": {
    "papermill": {
     "duration": 0.025906,
     "end_time": "2021-02-13T17:35:07.615290",
     "exception": false,
     "start_time": "2021-02-13T17:35:07.589384",
     "status": "completed"
    },
    "tags": []
   },
   "source": [
    "Here we also compute DML with OLS used as the ML method"
   ]
  },
  {
   "cell_type": "code",
   "execution_count": 95,
   "metadata": {
    "execution": {
     "iopub.execute_input": "2021-02-13T17:35:07.679348Z",
     "iopub.status.busy": "2021-02-13T17:35:07.678603Z",
     "iopub.status.idle": "2021-02-13T17:35:14.164446Z",
     "shell.execute_reply": "2021-02-13T17:35:14.163551Z"
    },
    "papermill": {
     "duration": 6.523989,
     "end_time": "2021-02-13T17:35:14.164734",
     "exception": false,
     "start_time": "2021-02-13T17:35:07.640745",
     "status": "completed"
    },
    "tags": []
   },
   "outputs": [
    {
     "name": "stdout",
     "output_type": "stream",
     "text": [
      "fold: 1  2  3  4  5  6  7  8  9  10  \n",
      "coef (se) = 0.203079 (0.051136)\n"
     ]
    }
   ],
   "source": [
    "dreg <- function(z,d){  glmnet(z,d,family=\"gaussian\", lambda=0) } #ML method = ols from glmnet \n",
    "yreg <- function(z,y){  glmnet(z,y,family=\"gaussian\", lambda=0) }  #ML method = ols from glmnet \n",
    "DML2.ols = DML2.for.PLM(z, d, y, dreg, yreg, nfold=10, clu)"
   ]
  },
  {
   "cell_type": "markdown",
   "metadata": {
    "papermill": {
     "duration": 0.024512,
     "end_time": "2021-02-13T17:35:14.215612",
     "exception": false,
     "start_time": "2021-02-13T17:35:14.191100",
     "status": "completed"
    },
    "tags": []
   },
   "source": [
    "Next, we also apply Random Forest for comparison purposes."
   ]
  },
  {
   "cell_type": "markdown",
   "metadata": {
    "papermill": {
     "duration": 0.025256,
     "end_time": "2021-02-13T17:35:14.266042",
     "exception": false,
     "start_time": "2021-02-13T17:35:14.240786",
     "status": "completed"
    },
    "tags": []
   },
   "source": [
    "### Random Forest\n"
   ]
  },
  {
   "cell_type": "code",
   "execution_count": 66,
   "metadata": {
    "execution": {
     "iopub.execute_input": "2021-02-13T17:35:14.320437Z",
     "iopub.status.busy": "2021-02-13T17:35:14.319294Z",
     "iopub.status.idle": "2021-02-13T17:40:48.550498Z",
     "shell.execute_reply": "2021-02-13T17:40:48.551323Z"
    },
    "papermill": {
     "duration": 334.261061,
     "end_time": "2021-02-13T17:40:48.551591",
     "exception": false,
     "start_time": "2021-02-13T17:35:14.290530",
     "status": "completed"
    },
    "scrolled": false,
    "tags": []
   },
   "outputs": [
    {
     "name": "stdout",
     "output_type": "stream",
     "text": [
      "fold: 1  2  \n",
      "coef (se) = 0.153017 (0.0605311)\n"
     ]
    }
   ],
   "source": [
    "#DML with Random Forest:\n",
    "dreg <- function(z,d){ randomForest(z, d) } #ML method=Forest \n",
    "yreg <- function(z,y){ randomForest(z, y) } #ML method=Forest\n",
    "set.seed(1)\n",
    "DML2.RF = DML2.for.PLM(z, d, y, dreg, yreg, nfold=2, clu) # set to 2 due to computation time"
   ]
  },
  {
   "cell_type": "code",
   "execution_count": 91,
   "metadata": {},
   "outputs": [
    {
     "data": {
      "text/html": [
       "65"
      ],
      "text/latex": [
       "65"
      ],
      "text/markdown": [
       "65"
      ],
      "text/plain": [
       "[1] 65"
      ]
     },
     "metadata": {},
     "output_type": "display_data"
    }
   ],
   "source": [
    "if (!is.null(d) && !is.factor(d))\n",
    "             max(floor(ncol(z)/3), 1) else floor(sqrt(ncol(z)))"
   ]
  },
  {
   "cell_type": "code",
   "execution_count": 92,
   "metadata": {},
   "outputs": [
    {
     "data": {
      "text/html": [
       "5"
      ],
      "text/latex": [
       "5"
      ],
      "text/markdown": [
       "5"
      ],
      "text/plain": [
       "[1] 5"
      ]
     },
     "metadata": {},
     "output_type": "display_data"
    }
   ],
   "source": [
    "if (!is.null(d) && !is.factor(d)) 5 else 1"
   ]
  },
  {
   "cell_type": "markdown",
   "metadata": {
    "papermill": {
     "duration": 0.024871,
     "end_time": "2021-02-13T17:40:48.605021",
     "exception": false,
     "start_time": "2021-02-13T17:40:48.580150",
     "status": "completed"
    },
    "tags": []
   },
   "source": [
    "We conclude that the gun ownership rates are related to gun homicide rates - if gun ownership increases by 1% relative\n",
    "to a trend then the predicted gun homicide rate goes up by about 0.20% controlling for counties' characteristics."
   ]
  },
  {
   "cell_type": "markdown",
   "metadata": {
    "papermill": {
     "duration": 0.027238,
     "end_time": "2021-02-13T17:40:48.657096",
     "exception": false,
     "start_time": "2021-02-13T17:40:48.629858",
     "status": "completed"
    },
    "tags": []
   },
   "source": [
    "Finally, let's see which method is actually better. We compute RMSE for predicting D and Y, and see which\n",
    "of the methods works better.\n"
   ]
  },
  {
   "cell_type": "code",
   "execution_count": 96,
   "metadata": {
    "execution": {
     "iopub.execute_input": "2021-02-13T17:40:48.735660Z",
     "iopub.status.busy": "2021-02-13T17:40:48.733563Z",
     "iopub.status.idle": "2021-02-13T17:40:48.775290Z",
     "shell.execute_reply": "2021-02-13T17:40:48.773348Z"
    },
    "papermill": {
     "duration": 0.087953,
     "end_time": "2021-02-13T17:40:48.775469",
     "exception": false,
     "start_time": "2021-02-13T17:40:48.687516",
     "status": "completed"
    },
    "tags": []
   },
   "outputs": [
    {
     "name": "stdout",
     "output_type": "stream",
     "text": [
      "               OLS       Lasso  Post-Lasso    CV Lasso    CV Ridge    CV Elnet\n",
      "RMSE D 0.000407561 3.25471e-05 1.32656e-04 0.000376929 7.24337e-04 9.66559e-04\n",
      "RMSE Y 0.000134575 3.35791e-05 6.89649e-05 0.000044933 8.41741e-05 5.80479e-19\n",
      "               RF\n",
      "RMSE D 0.01086246\n",
      "RMSE Y 0.00152755\n"
     ]
    }
   ],
   "source": [
    "mods<- list(DML2.ols, DML2.lasso, DML2.post, DML2.lasso.cv, DML2.ridge, DML2.elnet, DML2.RF)\n",
    "\n",
    "RMSE.mdl<- function(mdl) {\n",
    "RMSEY <- sqrt(mean(mdl$ytil)^2) \n",
    "RMSED <- sqrt(mean(mdl$dtil)^2) \n",
    "return( list(RMSEY=RMSEY, RMSED=RMSED))\n",
    "}\n",
    "\n",
    "#RMSE.mdl(DML2.lasso)\n",
    "\n",
    "#DML2.lasso$ytil\n",
    "\n",
    "Res<- lapply(mods, RMSE.mdl)\n",
    "\n",
    "\n",
    "prRes.Y<- c( Res[[1]]$RMSEY,Res[[2]]$RMSEY, Res[[3]]$RMSEY, Res[[4]]$RMSEY, Res[[5]]$RMSEY,  Res[[6]]$RMSEY, Res[[7]]$RMSEY)\n",
    "prRes.D<- c( Res[[1]]$RMSED,Res[[2]]$RMSED, Res[[3]]$RMSED, Res[[4]]$RMSED, Res[[5]]$RMSED, Res[[6]]$RMSED, Res[[7]]$RMSED)\n",
    "\n",
    "prRes<- rbind(prRes.Y, prRes.D); \n",
    "rownames(prRes)<- c(\"RMSE D\", \"RMSE Y\");\n",
    "colnames(prRes)<- c(\"OLS\", \"Lasso\", \"Post-Lasso\", \"CV Lasso\", \"CV Ridge\", \"CV Elnet\", \"RF\")\n",
    "print(prRes,digit=6)"
   ]
  },
  {
   "cell_type": "markdown",
   "metadata": {
    "papermill": {
     "duration": 0.027155,
     "end_time": "2021-02-13T17:40:48.832101",
     "exception": false,
     "start_time": "2021-02-13T17:40:48.804946",
     "status": "completed"
    },
    "tags": []
   },
   "source": [
    "It looks like the best method for predicting D is Lasso, and the best method for predicting Y is CV Ridge.\n"
   ]
  },
  {
   "cell_type": "code",
   "execution_count": 97,
   "metadata": {
    "execution": {
     "iopub.execute_input": "2021-02-13T17:40:48.887079Z",
     "iopub.status.busy": "2021-02-13T17:40:48.885820Z",
     "iopub.status.idle": "2021-02-13T17:41:18.806979Z",
     "shell.execute_reply": "2021-02-13T17:41:18.805624Z"
    },
    "papermill": {
     "duration": 29.950099,
     "end_time": "2021-02-13T17:41:18.807192",
     "exception": false,
     "start_time": "2021-02-13T17:40:48.857093",
     "status": "completed"
    },
    "tags": []
   },
   "outputs": [
    {
     "name": "stdout",
     "output_type": "stream",
     "text": [
      "fold: 1  2  3  4  5  6  7  8  9  10  \n",
      "coef (se) = 0.222066 (0.0565614)\n"
     ]
    }
   ],
   "source": [
    "dreg <- function(z,d){ rlasso(z,d, post=T) } #ML method= lasso from hdm \n",
    "yreg <- function(z,y){ cv.glmnet(z,y,family=\"gaussian\", alpha=0) }  #ML method = ridge from glmnet \n",
    "DML2.best= DML2.for.PLM(z, d, y, dreg, yreg, nfold=10, clu)"
   ]
  },
  {
   "cell_type": "markdown",
   "metadata": {
    "papermill": {
     "duration": 0.034891,
     "end_time": "2021-02-13T17:41:18.892429",
     "exception": false,
     "start_time": "2021-02-13T17:41:18.857538",
     "status": "completed"
    },
    "tags": []
   },
   "source": [
    "Let's organize the results in a table."
   ]
  },
  {
   "cell_type": "code",
   "execution_count": 84,
   "metadata": {},
   "outputs": [
    {
     "data": {
      "text/html": [
       "<style>\n",
       ".dl-inline {width: auto; margin:0; padding: 0}\n",
       ".dl-inline>dt, .dl-inline>dd {float: none; width: auto; display: inline-block}\n",
       ".dl-inline>dt::after {content: \":\\0020\"; padding-right: .5ex}\n",
       ".dl-inline>dt:not(:first-of-type) {padding-left: .5ex}\n",
       "</style><dl class=dl-inline><dt>Estimate</dt><dd>0.282304466633205</dd><dt>Cluster s.e.</dt><dd>0.0648107978379264</dd><dt>t value</dt><dd>4.35582458557552</dd><dt>Pr(&gt;|t|)</dt><dd>1.35976701238427e-05</dd></dl>\n"
      ],
      "text/latex": [
       "\\begin{description*}\n",
       "\\item[Estimate] 0.282304466633205\n",
       "\\item[Cluster s.e.] 0.0648107978379264\n",
       "\\item[t value] 4.35582458557552\n",
       "\\item[Pr(>\\textbackslash{}textbar\\{\\}t\\textbackslash{}textbar\\{\\})] 1.35976701238427e-05\n",
       "\\end{description*}\n"
      ],
      "text/markdown": [
       "Estimate\n",
       ":   0.282304466633205Cluster s.e.\n",
       ":   0.0648107978379264t value\n",
       ":   4.35582458557552Pr(&amp;gt;|t|)\n",
       ":   1.35976701238427e-05\n",
       "\n"
      ],
      "text/plain": [
       "    Estimate Cluster s.e.      t value     Pr(>|t|) \n",
       "2.823045e-01 6.481080e-02 4.355825e+00 1.359767e-05 "
      ]
     },
     "metadata": {},
     "output_type": "display_data"
    }
   ],
   "source": [
    "est_baseline"
   ]
  },
  {
   "cell_type": "code",
   "execution_count": 18,
   "metadata": {
    "execution": {
     "iopub.execute_input": "2021-02-13T17:41:18.948154Z",
     "iopub.status.busy": "2021-02-13T17:41:18.946908Z",
     "iopub.status.idle": "2021-02-13T17:41:19.006359Z",
     "shell.execute_reply": "2021-02-13T17:41:19.005308Z"
    },
    "papermill": {
     "duration": 0.088669,
     "end_time": "2021-02-13T17:41:19.006521",
     "exception": false,
     "start_time": "2021-02-13T17:41:18.917852",
     "status": "completed"
    },
    "tags": []
   },
   "outputs": [
    {
     "data": {
      "text/html": [
       "<table class=\"dataframe\">\n",
       "<caption>A matrix: 9 × 2 of type dbl</caption>\n",
       "<thead>\n",
       "\t<tr><th></th><th scope=col>Estimate</th><th scope=col>Standard Error</th></tr>\n",
       "</thead>\n",
       "<tbody>\n",
       "\t<tr><th scope=row>Baseline OLS</th><td>0.2823045</td><td>0.06481080</td></tr>\n",
       "\t<tr><th scope=row>Least Squares with controls</th><td>0.1906447</td><td>0.05244756</td></tr>\n",
       "\t<tr><th scope=row>Lasso</th><td>0.2228074</td><td>0.05702673</td></tr>\n",
       "\t<tr><th scope=row>Post-Lasso</th><td>0.2269338</td><td>0.05619181</td></tr>\n",
       "\t<tr><th scope=row>CV Lasso</th><td>0.2004742</td><td>0.05764115</td></tr>\n",
       "\t<tr><th scope=row>CV Elnet</th><td>0.2061170</td><td>0.05746222</td></tr>\n",
       "\t<tr><th scope=row>CV Ridge</th><td>0.2013789</td><td>0.05790663</td></tr>\n",
       "\t<tr><th scope=row>Random Forest</th><td>0.1921739</td><td>0.05814101</td></tr>\n",
       "\t<tr><th scope=row>Best</th><td>0.2190048</td><td>0.05721956</td></tr>\n",
       "</tbody>\n",
       "</table>\n"
      ],
      "text/latex": [
       "A matrix: 9 × 2 of type dbl\n",
       "\\begin{tabular}{r|ll}\n",
       "  & Estimate & Standard Error\\\\\n",
       "\\hline\n",
       "\tBaseline OLS & 0.2823045 & 0.06481080\\\\\n",
       "\tLeast Squares with controls & 0.1906447 & 0.05244756\\\\\n",
       "\tLasso & 0.2228074 & 0.05702673\\\\\n",
       "\tPost-Lasso & 0.2269338 & 0.05619181\\\\\n",
       "\tCV Lasso & 0.2004742 & 0.05764115\\\\\n",
       "\tCV Elnet & 0.2061170 & 0.05746222\\\\\n",
       "\tCV Ridge & 0.2013789 & 0.05790663\\\\\n",
       "\tRandom Forest & 0.1921739 & 0.05814101\\\\\n",
       "\tBest & 0.2190048 & 0.05721956\\\\\n",
       "\\end{tabular}\n"
      ],
      "text/markdown": [
       "\n",
       "A matrix: 9 × 2 of type dbl\n",
       "\n",
       "| <!--/--> | Estimate | Standard Error |\n",
       "|---|---|---|\n",
       "| Baseline OLS | 0.2823045 | 0.06481080 |\n",
       "| Least Squares with controls | 0.1906447 | 0.05244756 |\n",
       "| Lasso | 0.2228074 | 0.05702673 |\n",
       "| Post-Lasso | 0.2269338 | 0.05619181 |\n",
       "| CV Lasso | 0.2004742 | 0.05764115 |\n",
       "| CV Elnet | 0.2061170 | 0.05746222 |\n",
       "| CV Ridge | 0.2013789 | 0.05790663 |\n",
       "| Random Forest | 0.1921739 | 0.05814101 |\n",
       "| Best | 0.2190048 | 0.05721956 |\n",
       "\n"
      ],
      "text/plain": [
       "                            Estimate  Standard Error\n",
       "Baseline OLS                0.2823045 0.06481080    \n",
       "Least Squares with controls 0.1906447 0.05244756    \n",
       "Lasso                       0.2228074 0.05702673    \n",
       "Post-Lasso                  0.2269338 0.05619181    \n",
       "CV Lasso                    0.2004742 0.05764115    \n",
       "CV Elnet                    0.2061170 0.05746222    \n",
       "CV Ridge                    0.2013789 0.05790663    \n",
       "Random Forest               0.1921739 0.05814101    \n",
       "Best                        0.2190048 0.05721956    "
      ]
     },
     "metadata": {},
     "output_type": "display_data"
    }
   ],
   "source": [
    "library(xtable)\n",
    "\n",
    "table <- matrix(0,9,2)\n",
    "table[1,1] <- as.numeric(est_baseline[1])\n",
    "table[2,1] <- as.numeric(est_ols[1])\n",
    "table[3,1]   <- as.numeric(DML2.lasso$coef.est)\n",
    "table[4,1]   <- as.numeric(DML2.post$coef.est)\n",
    "table[5,1]  <-as.numeric(DML2.lasso.cv$coef.est)\n",
    "table[6,1] <-as.numeric(DML2.elnet$coef.est)\n",
    "table[7,1] <-as.numeric(DML2.ridge$coef.est)\n",
    "table[8,1] <-as.numeric(DML2.RF$coef.est)\n",
    "table[9,1] <-as.numeric(DML2.best$coef.est)\n",
    "table[1,2] <- as.numeric(est_baseline[2])\n",
    "table[2,2] <- as.numeric(est_ols[2])\n",
    "table[3,2]   <- as.numeric(DML2.lasso$se)\n",
    "table[4,2]   <- as.numeric(DML2.post$se)\n",
    "table[5,2]  <-as.numeric(DML2.lasso.cv$se)\n",
    "table[6,2] <-as.numeric(DML2.elnet$se)\n",
    "table[7,2] <-as.numeric(DML2.ridge$se)\n",
    "table[8,2] <-as.numeric(DML2.RF$se)\n",
    "table[9,2] <-as.numeric(DML2.best$se)\n",
    "\n",
    "\n",
    "\n",
    "\n",
    "################################# Print Results #################################\n",
    "\n",
    "colnames(table) <- c(\"Estimate\",\"Standard Error\")\n",
    "rownames(table) <- c(\"Baseline OLS\", \"Least Squares with controls\", \"Lasso\", \"Post-Lasso\", \"CV Lasso\",\"CV Elnet\", \"CV Ridge\", \"Random Forest\", \n",
    "                     \"Best\")\n",
    "\n",
    "table"
   ]
  },
  {
   "cell_type": "code",
   "execution_count": 19,
   "metadata": {
    "execution": {
     "iopub.execute_input": "2021-02-13T17:41:19.063047Z",
     "iopub.status.busy": "2021-02-13T17:41:19.062074Z",
     "iopub.status.idle": "2021-02-13T17:41:19.075566Z",
     "shell.execute_reply": "2021-02-13T17:41:19.074278Z"
    },
    "papermill": {
     "duration": 0.043017,
     "end_time": "2021-02-13T17:41:19.075707",
     "exception": false,
     "start_time": "2021-02-13T17:41:19.032690",
     "status": "completed"
    },
    "tags": []
   },
   "outputs": [
    {
     "name": "stdout",
     "output_type": "stream",
     "text": [
      "                            Estimate Standard Error\n",
      "Baseline OLS                   0.282         0.0648\n",
      "Least Squares with controls    0.191         0.0524\n",
      "Lasso                          0.223         0.0570\n",
      "Post-Lasso                     0.227         0.0562\n",
      "CV Lasso                       0.200         0.0576\n",
      "CV Elnet                       0.206         0.0575\n",
      "CV Ridge                       0.201         0.0579\n",
      "Random Forest                  0.192         0.0581\n",
      "Best                           0.219         0.0572\n"
     ]
    }
   ],
   "source": [
    "print(table, digit=3)\n"
   ]
  },
  {
   "cell_type": "code",
   "execution_count": 20,
   "metadata": {
    "execution": {
     "iopub.execute_input": "2021-02-13T17:41:19.135002Z",
     "iopub.status.busy": "2021-02-13T17:41:19.134319Z",
     "iopub.status.idle": "2021-02-13T17:41:19.154458Z",
     "shell.execute_reply": "2021-02-13T17:41:19.152712Z"
    },
    "papermill": {
     "duration": 0.052331,
     "end_time": "2021-02-13T17:41:19.154690",
     "exception": false,
     "start_time": "2021-02-13T17:41:19.102359",
     "status": "completed"
    },
    "tags": []
   },
   "outputs": [
    {
     "name": "stdout",
     "output_type": "stream",
     "text": [
      "% latex table generated in R 3.6.3 by xtable 1.8-4 package\n",
      "% Sat Feb 13 17:41:19 2021\n",
      "\\begin{table}[ht]\n",
      "\\centering\n",
      "\\begin{tabular}{rrr}\n",
      "  \\hline\n",
      " & Estimate & Standard Error \\\\ \n",
      "  \\hline\n",
      "Baseline OLS & 0.282 & 0.065 \\\\ \n",
      "  Least Squares with controls & 0.191 & 0.052 \\\\ \n",
      "  Lasso & 0.223 & 0.057 \\\\ \n",
      "  Post-Lasso & 0.227 & 0.056 \\\\ \n",
      "  CV Lasso & 0.200 & 0.058 \\\\ \n",
      "  CV Elnet & 0.206 & 0.057 \\\\ \n",
      "  CV Ridge & 0.201 & 0.058 \\\\ \n",
      "  Random Forest & 0.192 & 0.058 \\\\ \n",
      "  Best & 0.219 & 0.057 \\\\ \n",
      "   \\hline\n",
      "\\end{tabular}\n",
      "\\end{table}\n"
     ]
    }
   ],
   "source": [
    "tab<- xtable(table, digits=3)\n",
    "print(tab, type=\"latex\")"
   ]
  }
 ],
 "metadata": {
  "hide_input": false,
  "kernelspec": {
   "display_name": "R",
   "language": "R",
   "name": "ir"
  },
  "language_info": {
   "codemirror_mode": "r",
   "file_extension": ".r",
   "mimetype": "text/x-r-source",
   "name": "R",
   "pygments_lexer": "r",
   "version": "4.0.4"
  },
  "papermill": {
   "default_parameters": {},
   "duration": 669.535702,
   "end_time": "2021-02-13T17:41:19.292106",
   "environment_variables": {},
   "exception": null,
   "input_path": "__notebook__.ipynb",
   "output_path": "__notebook__.ipynb",
   "parameters": {},
   "start_time": "2021-02-13T17:30:09.756404",
   "version": "2.2.2"
  }
 },
 "nbformat": 4,
 "nbformat_minor": 4
}
