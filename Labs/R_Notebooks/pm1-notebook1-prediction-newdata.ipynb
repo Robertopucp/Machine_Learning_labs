{
 "cells": [
  {
   "cell_type": "markdown",
   "metadata": {
    "papermill": {
     "duration": 0.021109,
     "end_time": "2021-02-18T19:28:30.070970",
     "exception": false,
     "start_time": "2021-02-18T19:28:30.049861",
     "status": "completed"
    },
    "tags": []
   },
   "source": [
    "This notebook contains an example for teaching."
   ]
  },
  {
   "cell_type": "markdown",
   "metadata": {
    "papermill": {
     "duration": 0.019635,
     "end_time": "2021-02-18T19:28:30.110372",
     "exception": false,
     "start_time": "2021-02-18T19:28:30.090737",
     "status": "completed"
    },
    "tags": []
   },
   "source": [
    "## Introduction"
   ]
  },
  {
   "cell_type": "markdown",
   "metadata": {
    "papermill": {
     "duration": 0.019506,
     "end_time": "2021-02-18T19:28:30.149474",
     "exception": false,
     "start_time": "2021-02-18T19:28:30.129968",
     "status": "completed"
    },
    "tags": []
   },
   "source": [
    "In labor economics an important question is what determines the wage of workers. This is a causal question,\n",
    "but we could begin to investigate from a predictive perspective.\n",
    "\n",
    "In the following wage example, $Y$ is the hourly wage of a worker and $X$ is a vector of worker's characteristics, e.g., education, experience, gender. Two main questions here are:\n",
    "\n",
    "\n",
    "* How to use job-relevant characteristics, such as education and experience, to best predict wages?\n",
    "\n",
    "* What is the difference in predicted wages between men and women with the same job-relevant characteristics?\n",
    "\n",
    "In this lab, we focus on the prediction question first."
   ]
  },
  {
   "cell_type": "markdown",
   "metadata": {
    "papermill": {
     "duration": 0.019453,
     "end_time": "2021-02-18T19:28:30.188193",
     "exception": false,
     "start_time": "2021-02-18T19:28:30.168740",
     "status": "completed"
    },
    "tags": []
   },
   "source": [
    "## Data\n"
   ]
  },
  {
   "cell_type": "markdown",
   "metadata": {
    "papermill": {
     "duration": 0.019763,
     "end_time": "2021-02-18T19:28:30.227671",
     "exception": false,
     "start_time": "2021-02-18T19:28:30.207908",
     "status": "completed"
    },
    "tags": []
   },
   "source": [
    "The data set we consider is from the March Supplement of the U.S. Current Population Survey, year 2015.  We select white non-hispanic individuals, aged 25 to 64 years, and working more than 35 hours per week during at least 50 weeks of the year. We exclude self-employed workers; individuals living in group quarters; individuals in the military, agricultural or private household sectors;  individuals with inconsistent reports on earnings and employment status; individuals with allocated or missing information in any of the variables used in the analysis; and individuals with hourly wage below $3$. \n",
    "\n",
    "The variable of interest $Y$ is the hourly wage rate constructed as the ratio of the annual earnings to the total number of hours worked, which is constructed in turn as the product of number of weeks worked and the usual number of hours worked per week. In our analysis, we also focus on single (never married) workers. The final sample is of size $n=5150$."
   ]
  },
  {
   "cell_type": "markdown",
   "metadata": {
    "papermill": {
     "duration": 0.019808,
     "end_time": "2021-02-18T19:28:30.267083",
     "exception": false,
     "start_time": "2021-02-18T19:28:30.247275",
     "status": "completed"
    },
    "tags": []
   },
   "source": [
    "## Data analysis"
   ]
  },
  {
   "cell_type": "markdown",
   "metadata": {
    "papermill": {
     "duration": 0.01983,
     "end_time": "2021-02-18T19:28:30.307189",
     "exception": false,
     "start_time": "2021-02-18T19:28:30.287359",
     "status": "completed"
    },
    "tags": []
   },
   "source": [
    "We start by loading the data set."
   ]
  },
  {
   "cell_type": "code",
   "execution_count": 1,
   "metadata": {
    "execution": {
     "iopub.execute_input": "2021-02-18T19:28:30.379027Z",
     "iopub.status.busy": "2021-02-18T19:28:30.377044Z",
     "iopub.status.idle": "2021-02-18T19:28:30.530766Z",
     "shell.execute_reply": "2021-02-18T19:28:30.529551Z"
    },
    "papermill": {
     "duration": 0.203333,
     "end_time": "2021-02-18T19:28:30.530976",
     "exception": false,
     "start_time": "2021-02-18T19:28:30.327643",
     "status": "completed"
    },
    "tags": []
   },
   "outputs": [
    {
     "data": {
      "text/html": [
       "<style>\n",
       ".list-inline {list-style: none; margin:0; padding: 0}\n",
       ".list-inline>li {display: inline-block}\n",
       ".list-inline>li:not(:last-child)::after {content: \"\\00b7\"; padding: 0 .5ex}\n",
       "</style>\n",
       "<ol class=list-inline><li>5150</li><li>20</li></ol>\n"
      ],
      "text/latex": [
       "\\begin{enumerate*}\n",
       "\\item 5150\n",
       "\\item 20\n",
       "\\end{enumerate*}\n"
      ],
      "text/markdown": [
       "1. 5150\n",
       "2. 20\n",
       "\n",
       "\n"
      ],
      "text/plain": [
       "[1] 5150   20"
      ]
     },
     "metadata": {},
     "output_type": "display_data"
    }
   ],
   "source": [
    "load(\"../data/wage2015_subsample_inference.Rdata\")\n",
    "dim(data)"
   ]
  },
  {
   "cell_type": "markdown",
   "metadata": {
    "papermill": {
     "duration": 0.020252,
     "end_time": "2021-02-18T19:28:30.572283",
     "exception": false,
     "start_time": "2021-02-18T19:28:30.552031",
     "status": "completed"
    },
    "tags": []
   },
   "source": [
    "Let's have a look at the structure of the data."
   ]
  },
  {
   "cell_type": "code",
   "execution_count": 2,
   "metadata": {
    "execution": {
     "iopub.execute_input": "2021-02-18T19:28:30.645548Z",
     "iopub.status.busy": "2021-02-18T19:28:30.617027Z",
     "iopub.status.idle": "2021-02-18T19:28:30.673965Z",
     "shell.execute_reply": "2021-02-18T19:28:30.672544Z"
    },
    "papermill": {
     "duration": 0.081196,
     "end_time": "2021-02-18T19:28:30.674153",
     "exception": false,
     "start_time": "2021-02-18T19:28:30.592957",
     "status": "completed"
    },
    "tags": []
   },
   "outputs": [
    {
     "name": "stdout",
     "output_type": "stream",
     "text": [
      "'data.frame':\t5150 obs. of  20 variables:\n",
      " $ wage : num  9.62 48.08 11.06 13.94 28.85 ...\n",
      " $ lwage: num  2.26 3.87 2.4 2.63 3.36 ...\n",
      " $ sex  : num  1 0 0 1 1 1 1 0 1 1 ...\n",
      " $ shs  : num  0 0 0 0 0 0 0 0 0 0 ...\n",
      " $ hsg  : num  0 0 1 0 0 0 1 1 1 0 ...\n",
      " $ scl  : num  0 0 0 0 0 0 0 0 0 0 ...\n",
      " $ clg  : num  1 1 0 0 1 1 0 0 0 1 ...\n",
      " $ ad   : num  0 0 0 1 0 0 0 0 0 0 ...\n",
      " $ mw   : num  0 0 0 0 0 0 0 0 0 0 ...\n",
      " $ so   : num  0 0 0 0 0 0 0 0 0 0 ...\n",
      " $ we   : num  0 0 0 0 0 0 0 0 0 0 ...\n",
      " $ ne   : num  1 1 1 1 1 1 1 1 1 1 ...\n",
      " $ exp1 : num  7 31 18 25 22 1 42 37 31 4 ...\n",
      " $ exp2 : num  0.49 9.61 3.24 6.25 4.84 ...\n",
      " $ exp3 : num  0.343 29.791 5.832 15.625 10.648 ...\n",
      " $ exp4 : num  0.24 92.35 10.5 39.06 23.43 ...\n",
      " $ occ  : Factor w/ 369 levels \"10\",\"20\",\"40\",..: 159 136 269 23 99 86 226 232 184 146 ...\n",
      " $ occ2 : Factor w/ 22 levels \"1\",\"2\",\"3\",\"4\",..: 11 10 19 1 6 5 17 17 13 10 ...\n",
      " $ ind  : Factor w/ 236 levels \"370\",\"380\",\"390\",..: 204 117 12 165 231 176 171 135 210 201 ...\n",
      " $ ind2 : Factor w/ 21 levels \"2\",\"3\",\"4\",\"5\",..: 17 8 3 11 21 13 13 8 18 17 ...\n"
     ]
    }
   ],
   "source": [
    "str(data)"
   ]
  },
  {
   "cell_type": "markdown",
   "metadata": {
    "papermill": {
     "duration": 0.020964,
     "end_time": "2021-02-18T19:28:30.716250",
     "exception": false,
     "start_time": "2021-02-18T19:28:30.695286",
     "status": "completed"
    },
    "tags": []
   },
   "source": [
    "We are constructing the output variable $Y$ and the matrix $Z$ which includes the characteristics of workers that are given in the data."
   ]
  },
  {
   "cell_type": "code",
   "execution_count": 3,
   "metadata": {
    "execution": {
     "iopub.execute_input": "2021-02-18T19:28:30.768255Z",
     "iopub.status.busy": "2021-02-18T19:28:30.766636Z",
     "iopub.status.idle": "2021-02-18T19:28:30.791641Z",
     "shell.execute_reply": "2021-02-18T19:28:30.790356Z"
    },
    "papermill": {
     "duration": 0.054288,
     "end_time": "2021-02-18T19:28:30.791792",
     "exception": false,
     "start_time": "2021-02-18T19:28:30.737504",
     "status": "completed"
    },
    "tags": []
   },
   "outputs": [
    {
     "name": "stdout",
     "output_type": "stream",
     "text": [
      "Number of observation: 5150 \n",
      "Number of raw regressors: 18"
     ]
    }
   ],
   "source": [
    "Y <- log(data$wage)\n",
    "n <- length(Y)\n",
    "Z <- data[-which(colnames(data) %in% c(\"wage\",\"lwage\"))]\n",
    "p <- dim(Z)[2]\n",
    "\n",
    "cat(\"Number of observation:\", n, '\\n')\n",
    "cat( \"Number of raw regressors:\", p)"
   ]
  },
  {
   "cell_type": "markdown",
   "metadata": {
    "papermill": {
     "duration": 0.023423,
     "end_time": "2021-02-18T19:28:30.838653",
     "exception": false,
     "start_time": "2021-02-18T19:28:30.815230",
     "status": "completed"
    },
    "tags": []
   },
   "source": [
    "For the outcome variable *wage* and a subset of the raw regressors, we calculate the empirical mean to get familiar with the data."
   ]
  },
  {
   "cell_type": "code",
   "execution_count": 21,
   "metadata": {},
   "outputs": [
    {
     "ename": "ERROR",
     "evalue": "Error in library(xtable): there is no package called ‘xtable’\n",
     "output_type": "error",
     "traceback": [
      "Error in library(xtable): there is no package called ‘xtable’\nTraceback:\n",
      "1. library(xtable)"
     ]
    }
   ],
   "source": [
    "library(xtable)\n",
    "options(xtable.floating = FALSE)\n",
    "options(xtable.timestamp = \"\")"
   ]
  },
  {
   "cell_type": "code",
   "execution_count": 4,
   "metadata": {
    "execution": {
     "iopub.execute_input": "2021-02-18T19:28:30.888961Z",
     "iopub.status.busy": "2021-02-18T19:28:30.887455Z",
     "iopub.status.idle": "2021-02-18T19:28:30.944048Z",
     "shell.execute_reply": "2021-02-18T19:28:30.942461Z"
    },
    "papermill": {
     "duration": 0.082765,
     "end_time": "2021-02-18T19:28:30.944279",
     "exception": false,
     "start_time": "2021-02-18T19:28:30.861514",
     "status": "completed"
    },
    "tags": []
   },
   "outputs": [
    {
     "ename": "ERROR",
     "evalue": "Error in library(xtable): there is no package called ‘xtable’\n",
     "output_type": "error",
     "traceback": [
      "Error in library(xtable): there is no package called ‘xtable’\nTraceback:\n",
      "1. library(xtable)"
     ]
    }
   ],
   "source": [
    "library(xtable)\n",
    "Z_subset <- data[which(colnames(data) %in% c(\"lwage\",\"sex\",\"shs\",\"hsg\",\"scl\",\"clg\",\"ad\",\"mw\",\"so\",\"we\",\"ne\",\"exp1\"))]\n",
    "table <- matrix(0, 12, 1)\n",
    "table[1:12,1]   <- as.numeric(lapply(Z_subset,mean))\n",
    "rownames(table) <- c(\"Log Wage\",\"Sex\",\"Some High School\",\"High School Graduate\",\"Some College\",\"College Graduate\", \"Advanced Degree\",\"Midwest\",\"South\",\"West\",\"Northeast\",\"Experience\")\n",
    "colnames(table) <- c(\"Sample mean\")\n",
    "tab<- xtable(table, digits = 2)\n",
    "tab"
   ]
  },
  {
   "cell_type": "markdown",
   "metadata": {
    "papermill": {
     "duration": 0.022899,
     "end_time": "2021-02-18T19:28:30.992023",
     "exception": false,
     "start_time": "2021-02-18T19:28:30.969124",
     "status": "completed"
    },
    "tags": []
   },
   "source": [
    "E.g., the share of female workers in our sample is ~44% ($sex=1$ if female)."
   ]
  },
  {
   "cell_type": "markdown",
   "metadata": {
    "papermill": {
     "duration": 0.022996,
     "end_time": "2021-02-18T19:28:31.038176",
     "exception": false,
     "start_time": "2021-02-18T19:28:31.015180",
     "status": "completed"
    },
    "tags": []
   },
   "source": [
    "Alternatively, we can also print the table as latex."
   ]
  },
  {
   "cell_type": "code",
   "execution_count": 5,
   "metadata": {
    "execution": {
     "iopub.execute_input": "2021-02-18T19:28:31.089264Z",
     "iopub.status.busy": "2021-02-18T19:28:31.087626Z",
     "iopub.status.idle": "2021-02-18T19:28:31.107384Z",
     "shell.execute_reply": "2021-02-18T19:28:31.105746Z"
    },
    "papermill": {
     "duration": 0.046315,
     "end_time": "2021-02-18T19:28:31.107521",
     "exception": false,
     "start_time": "2021-02-18T19:28:31.061206",
     "status": "completed"
    },
    "tags": []
   },
   "outputs": [
    {
     "ename": "ERROR",
     "evalue": "Error in print(tab, type = \"latex\"): object 'tab' not found\n",
     "output_type": "error",
     "traceback": [
      "Error in print(tab, type = \"latex\"): object 'tab' not found\nTraceback:\n",
      "1. print(tab, type = \"latex\")"
     ]
    }
   ],
   "source": [
    "print(tab, type=\"latex\")"
   ]
  },
  {
   "cell_type": "markdown",
   "metadata": {
    "papermill": {
     "duration": 0.022601,
     "end_time": "2021-02-18T19:28:31.153542",
     "exception": false,
     "start_time": "2021-02-18T19:28:31.130941",
     "status": "completed"
    },
    "tags": []
   },
   "source": [
    "## Prediction Question"
   ]
  },
  {
   "cell_type": "markdown",
   "metadata": {
    "papermill": {
     "duration": 0.022653,
     "end_time": "2021-02-18T19:28:31.199257",
     "exception": false,
     "start_time": "2021-02-18T19:28:31.176604",
     "status": "completed"
    },
    "tags": []
   },
   "source": [
    "Now, we will construct a prediction rule for hourly wage $Y$, which depends linearly on job-relevant characteristics $X$:\n",
    "\n",
    "\\begin{equation}\\label{decompose}\n",
    "Y = \\beta'X+ \\epsilon.\n",
    "\\end{equation}"
   ]
  },
  {
   "cell_type": "markdown",
   "metadata": {
    "papermill": {
     "duration": 0.022687,
     "end_time": "2021-02-18T19:28:31.244814",
     "exception": false,
     "start_time": "2021-02-18T19:28:31.222127",
     "status": "completed"
    },
    "tags": []
   },
   "source": [
    "Our goals are\n",
    "\n",
    "* Predict wages  using various characteristics of workers.\n",
    "\n",
    "* Assess the predictive performance using the (adjusted) sample MSE, the (adjusted) sample $R^2$ and the out-of-sample MSE and $R^2$.\n",
    "\n",
    "\n",
    "We employ two different specifications for prediction:\n",
    "\n",
    "\n",
    "1. Basic Model:   $X$ consists of a set of raw regressors (e.g. gender, experience, education indicators,  occupation and industry indicators, regional indicators).\n",
    "\n",
    "\n",
    "2. Flexible Model:  $X$ consists of all raw regressors from the basic model plus occupation and industry indicators, transformations (e.g., ${exp}^2$ and ${exp}^3$) and additional two-way interactions of polynomial in experience with other regressors. An example of a regressor created through a two-way interaction is *experience* times the indicator of having a *college degree*.\n",
    "\n",
    "Using the **Flexible Model**, enables us to approximate the real relationship by a\n",
    " more complex regression model and therefore to reduce the bias. The **Flexible Model** increases the range of potential shapes of the estimated regression function. In general, flexible models often deliver good prediction accuracy but give models which are harder to interpret."
   ]
  },
  {
   "cell_type": "markdown",
   "metadata": {
    "papermill": {
     "duration": 0.022935,
     "end_time": "2021-02-18T19:28:31.290982",
     "exception": false,
     "start_time": "2021-02-18T19:28:31.268047",
     "status": "completed"
    },
    "tags": []
   },
   "source": [
    "Now, let us fit both models to our data by running ordinary least squares (ols):"
   ]
  },
  {
   "cell_type": "code",
   "execution_count": 6,
   "metadata": {
    "execution": {
     "iopub.execute_input": "2021-02-18T19:28:31.342746Z",
     "iopub.status.busy": "2021-02-18T19:28:31.341092Z",
     "iopub.status.idle": "2021-02-18T19:28:31.384766Z",
     "shell.execute_reply": "2021-02-18T19:28:31.383207Z"
    },
    "papermill": {
     "duration": 0.070584,
     "end_time": "2021-02-18T19:28:31.384945",
     "exception": false,
     "start_time": "2021-02-18T19:28:31.314361",
     "status": "completed"
    },
    "tags": []
   },
   "outputs": [
    {
     "data": {
      "text/plain": [
       "\n",
       "Call:\n",
       "lm(formula = basic, data = data)\n",
       "\n",
       "Coefficients:\n",
       "(Intercept)          sex         exp1          shs          hsg          scl  \n",
       "   3.722235    -0.072857     0.008568    -0.592798    -0.504337    -0.411994  \n",
       "        clg           mw           so           we        occ22        occ23  \n",
       "  -0.182216    -0.027541    -0.034454     0.017249    -0.076472    -0.034678  \n",
       "      occ24        occ25        occ26        occ27        occ28        occ29  \n",
       "  -0.096202    -0.187915    -0.414933    -0.045987    -0.377847    -0.215752  \n",
       "     occ210       occ211       occ212       occ213       occ214       occ215  \n",
       "  -0.010623    -0.455834    -0.307589    -0.361440    -0.499495    -0.464482  \n",
       "     occ216       occ217       occ218       occ219       occ220       occ221  \n",
       "  -0.233715    -0.412588    -0.340418    -0.241480    -0.212628    -0.288413  \n",
       "     occ222        ind23        ind24        ind25        ind26        ind27  \n",
       "  -0.422394    -0.116836    -0.244493    -0.273533    -0.249368    -0.139588  \n",
       "      ind28        ind29       ind210       ind211       ind212       ind213  \n",
       "  -0.242948    -0.387485    -0.193851    -0.169063    -0.077436    -0.172604  \n",
       "     ind214       ind215       ind216       ind217       ind218       ind219  \n",
       "  -0.187005    -0.325364    -0.315399    -0.304405    -0.335386    -0.374121  \n",
       "     ind220       ind221       ind222  \n",
       "  -0.551932    -0.316679    -0.118971  \n"
      ]
     },
     "metadata": {},
     "output_type": "display_data"
    },
    {
     "name": "stdout",
     "output_type": "stream",
     "text": [
      "Number of regressors in the basic model: 51 \n"
     ]
    }
   ],
   "source": [
    "# 1. basic model\n",
    "basic <- lwage~ (sex + exp1 + shs + hsg+ scl + clg + mw + so + we +occ2+ind2)\n",
    "regbasic <- lm(basic, data=data)\n",
    "regbasic # estimated coefficients\n",
    "cat( \"Number of regressors in the basic model:\",length(regbasic$coef), '\\n') # number of regressors in the Basic Model\n"
   ]
  },
  {
   "cell_type": "markdown",
   "metadata": {
    "papermill": {
     "duration": 0.023845,
     "end_time": "2021-02-18T19:28:31.433272",
     "exception": false,
     "start_time": "2021-02-18T19:28:31.409427",
     "status": "completed"
    },
    "tags": []
   },
   "source": [
    "##### Note that the basic model consists of $51$ regressors."
   ]
  },
  {
   "cell_type": "code",
   "execution_count": 7,
   "metadata": {
    "execution": {
     "iopub.execute_input": "2021-02-18T19:28:31.486360Z",
     "iopub.status.busy": "2021-02-18T19:28:31.484753Z",
     "iopub.status.idle": "2021-02-18T19:28:31.666629Z",
     "shell.execute_reply": "2021-02-18T19:28:31.665355Z"
    },
    "papermill": {
     "duration": 0.209505,
     "end_time": "2021-02-18T19:28:31.666828",
     "exception": false,
     "start_time": "2021-02-18T19:28:31.457323",
     "status": "completed"
    },
    "tags": []
   },
   "outputs": [
    {
     "data": {
      "text/plain": [
       "\n",
       "Call:\n",
       "lm(formula = flex, data = data)\n",
       "\n",
       "Coefficients:\n",
       "(Intercept)          sex          shs          hsg          scl          clg  \n",
       "  3.8602606   -0.0695532   -0.1233089   -0.5289024   -0.2920581   -0.0411641  \n",
       "      occ22        occ23        occ24        occ25        occ26        occ27  \n",
       "  0.1613397    0.2101514    0.0708570   -0.3960076   -0.2310611    0.3147249  \n",
       "      occ28        occ29       occ210       occ211       occ212       occ213  \n",
       " -0.1875417   -0.3390270    0.0209545   -0.6424177   -0.0674774   -0.2329781  \n",
       "     occ214       occ215       occ216       occ217       occ218       occ219  \n",
       "  0.2562009   -0.1938585   -0.0551256   -0.4156093   -0.4822168   -0.2579412  \n",
       "     occ220       occ221       occ222        ind23        ind24        ind25  \n",
       " -0.3010203   -0.4271811   -0.8694527   -1.2473654   -0.0948281   -0.5293860  \n",
       "      ind26        ind27        ind28        ind29       ind210       ind211  \n",
       " -0.6221688   -0.5047497   -0.7295442   -0.8025334   -0.5805840   -0.9852350  \n",
       "     ind212       ind213       ind214       ind215       ind216       ind217  \n",
       " -0.7375777   -1.0183283   -0.5860174   -0.3801359   -0.5703905   -0.8201843  \n",
       "     ind218       ind219       ind220       ind221       ind222           mw  \n",
       " -0.7613604   -0.8812815   -0.9099021   -0.7586534   -0.4040775    0.1106834  \n",
       "         so           we         exp1         exp2         exp3         exp4  \n",
       "  0.0224244   -0.0215659   -0.0677247    1.6362944   -0.9154735    0.1429357  \n",
       "   shs:exp1     hsg:exp1     scl:exp1     clg:exp1   occ22:exp1   occ23:exp1  \n",
       " -0.1919981   -0.0173433   -0.0664505   -0.0550346   -0.0736239   -0.0714859  \n",
       " occ24:exp1   occ25:exp1   occ26:exp1   occ27:exp1   occ28:exp1   occ29:exp1  \n",
       " -0.0723997    0.0946732   -0.0348928   -0.2279338   -0.0727459    0.0274143  \n",
       "occ210:exp1  occ211:exp1  occ212:exp1  occ213:exp1  occ214:exp1  occ215:exp1  \n",
       "  0.0075628    0.1014221   -0.0862744    0.0067149   -0.1369153   -0.0400425  \n",
       "occ216:exp1  occ217:exp1  occ218:exp1  occ219:exp1  occ220:exp1  occ221:exp1  \n",
       " -0.0539314    0.0147277    0.1074099    0.0047165    0.0243156    0.0791776  \n",
       "occ222:exp1   ind23:exp1   ind24:exp1   ind25:exp1   ind26:exp1   ind27:exp1  \n",
       "  0.1093246    0.4758891    0.0147304    0.1256987    0.1540275    0.1029245  \n",
       " ind28:exp1   ind29:exp1  ind210:exp1  ind211:exp1  ind212:exp1  ind213:exp1  \n",
       "  0.2357669    0.1359079    0.1512578    0.3174885    0.2591089    0.3396094  \n",
       "ind214:exp1  ind215:exp1  ind216:exp1  ind217:exp1  ind218:exp1  ind219:exp1  \n",
       "  0.1441411   -0.0568181    0.0847295    0.1728867    0.1565399    0.1516103  \n",
       "ind220:exp1  ind221:exp1  ind222:exp1      mw:exp1      so:exp1      we:exp1  \n",
       "  0.1326629    0.2190905    0.1145814   -0.0279931   -0.0099678    0.0063077  \n",
       "   shs:exp2     hsg:exp2     scl:exp2     clg:exp2   occ22:exp2   occ23:exp2  \n",
       "  1.9005060    0.1171642    0.6217923    0.4096746    0.6632173    0.6415456  \n",
       " occ24:exp2   occ25:exp2   occ26:exp2   occ27:exp2   occ28:exp2   occ29:exp2  \n",
       "  0.9748422   -0.9778823    0.1050860    3.1407119    0.6710877    0.0231977  \n",
       "occ210:exp2  occ211:exp2  occ212:exp2  occ213:exp2  occ214:exp2  occ215:exp2  \n",
       " -0.2692292   -1.0816539    0.8323737   -0.2209813    0.7511163   -0.0326858  \n",
       "occ216:exp2  occ217:exp2  occ218:exp2  occ219:exp2  occ220:exp2  occ221:exp2  \n",
       "  0.3635814   -0.2659285   -2.5608762   -0.1291756   -0.3323297   -0.9099997  \n",
       "occ222:exp2   ind23:exp2   ind24:exp2   ind25:exp2   ind26:exp2   ind27:exp2  \n",
       " -0.8550536   -5.9368948   -1.1053411   -2.0149181   -2.2277748   -1.4648099  \n",
       " ind28:exp2   ind29:exp2  ind210:exp2  ind211:exp2  ind212:exp2  ind213:exp2  \n",
       " -2.9479949   -1.7796219   -2.1973300   -3.8776807   -3.1690425   -3.9651983  \n",
       "ind214:exp2  ind215:exp2  ind216:exp2  ind217:exp2  ind218:exp2  ind219:exp2  \n",
       " -2.0783289    0.1911692   -1.3265850   -2.2002873   -2.2006232   -1.9308536  \n",
       "ind220:exp2  ind221:exp2  ind222:exp2      mw:exp2      so:exp2      we:exp2  \n",
       " -1.9467267   -3.1127363   -1.8578340    0.2005611    0.0544354    0.0012717  \n",
       "   shs:exp3     hsg:exp3     scl:exp3     clg:exp3   occ22:exp3   occ23:exp3  \n",
       " -0.6721239   -0.0179937   -0.1997877   -0.1025230   -0.2039403   -0.2369620  \n",
       " occ24:exp3   occ25:exp3   occ26:exp3   occ27:exp3   occ28:exp3   occ29:exp3  \n",
       " -0.4366958    0.3885298    0.0484737   -1.3949288   -0.2053899   -0.0909660  \n",
       "occ210:exp3  occ211:exp3  occ212:exp3  occ213:exp3  occ214:exp3  occ215:exp3  \n",
       "  0.1854753    0.3931553   -0.2202559    0.0950356   -0.1443933    0.1477077  \n",
       "occ216:exp3  occ217:exp3  occ218:exp3  occ219:exp3  occ220:exp3  occ221:exp3  \n",
       " -0.0378548    0.1510497    1.4084443    0.0923425    0.1806994    0.3779083  \n",
       "occ222:exp3   ind23:exp3   ind24:exp3   ind25:exp3   ind26:exp3   ind27:exp3  \n",
       "  0.2855058    2.6665808    0.7298431    0.9942250    1.0641428    0.7089089  \n",
       " ind28:exp3   ind29:exp3  ind210:exp3  ind211:exp3  ind212:exp3  ind213:exp3  \n",
       "  1.2340948    0.8287315    1.0448162    1.6877578    1.3734455    1.6376669  \n",
       "ind214:exp3  ind215:exp3  ind216:exp3  ind217:exp3  ind218:exp3  ind219:exp3  \n",
       "  1.0162910    0.1879483    0.6889680    1.0085540    1.0605598    0.8959865  \n",
       "ind220:exp3  ind221:exp3  ind222:exp3      mw:exp3      so:exp3      we:exp3  \n",
       "  0.9768944    1.4415215    0.9687884   -0.0625771   -0.0115842   -0.0124875  \n",
       "   shs:exp4     hsg:exp4     scl:exp4     clg:exp4   occ22:exp4   occ23:exp4  \n",
       "  0.0777418    0.0004913    0.0210760    0.0078695    0.0176389    0.0303057  \n",
       " occ24:exp4   occ25:exp4   occ26:exp4   occ27:exp4   occ28:exp4   occ29:exp4  \n",
       "  0.0584146   -0.0515181   -0.0170182    0.1905353    0.0196522    0.0190014  \n",
       "occ210:exp4  occ211:exp4  occ212:exp4  occ213:exp4  occ214:exp4  occ215:exp4  \n",
       " -0.0333347   -0.0465914    0.0110212   -0.0136895    0.0055582   -0.0327444  \n",
       "occ216:exp4  occ217:exp4  occ218:exp4  occ219:exp4  occ220:exp4  occ221:exp4  \n",
       " -0.0089706   -0.0256735   -0.2121372   -0.0169398   -0.0296125   -0.0524577  \n",
       "occ222:exp4   ind23:exp4   ind24:exp4   ind25:exp4   ind26:exp4   ind27:exp4  \n",
       " -0.0350646   -0.3851791   -0.1209478   -0.1441045   -0.1526110   -0.1001993  \n",
       " ind28:exp4   ind29:exp4  ind210:exp4  ind211:exp4  ind212:exp4  ind213:exp4  \n",
       " -0.1609664   -0.1178080   -0.1482842   -0.2322961   -0.1872911   -0.2155617  \n",
       "ind214:exp4  ind215:exp4  ind216:exp4  ind217:exp4  ind218:exp4  ind219:exp4  \n",
       " -0.1483524   -0.0532195   -0.1044336   -0.1427349   -0.1546248   -0.1269592  \n",
       "ind220:exp4  ind221:exp4  ind222:exp4      mw:exp4      so:exp4      we:exp4  \n",
       " -0.1468554   -0.2032619   -0.1480951    0.0062439    0.0003145    0.0017685  \n"
      ]
     },
     "metadata": {},
     "output_type": "display_data"
    },
    {
     "name": "stdout",
     "output_type": "stream",
     "text": [
      "Number of regressors in the flexible model: 246"
     ]
    }
   ],
   "source": [
    "# 2. flexible model\n",
    "flex <- lwage ~ sex + shs+hsg+scl+clg+occ2+ind2+mw+so+we + (exp1+exp2+exp3+exp4)*(shs+hsg+scl+clg+occ2+ind2+mw+so+we)\n",
    "regflex <- lm(flex, data=data)\n",
    "regflex # estimated coefficients\n",
    "cat( \"Number of regressors in the flexible model:\",length(regflex$coef)) # number of regressors in the Flexible Model"
   ]
  },
  {
   "cell_type": "markdown",
   "metadata": {
    "papermill": {
     "duration": 0.024845,
     "end_time": "2021-02-18T19:28:31.717639",
     "exception": false,
     "start_time": "2021-02-18T19:28:31.692794",
     "status": "completed"
    },
    "tags": []
   },
   "source": [
    "Note that the flexible model consists of $246$ regressors."
   ]
  },
  {
   "cell_type": "markdown",
   "metadata": {
    "papermill": {
     "duration": 0.024777,
     "end_time": "2021-02-18T19:28:31.767579",
     "exception": false,
     "start_time": "2021-02-18T19:28:31.742802",
     "status": "completed"
    },
    "tags": []
   },
   "source": [
    "Try Lasso next"
   ]
  },
  {
   "cell_type": "code",
   "execution_count": 8,
   "metadata": {
    "execution": {
     "iopub.execute_input": "2021-02-18T19:28:31.823423Z",
     "iopub.status.busy": "2021-02-18T19:28:31.821776Z",
     "iopub.status.idle": "2021-02-18T19:28:38.628776Z",
     "shell.execute_reply": "2021-02-18T19:28:38.626937Z"
    },
    "papermill": {
     "duration": 6.836494,
     "end_time": "2021-02-18T19:28:38.629013",
     "exception": false,
     "start_time": "2021-02-18T19:28:31.792519",
     "status": "completed"
    },
    "tags": []
   },
   "outputs": [
    {
     "ename": "ERROR",
     "evalue": "Error in library(hdm): there is no package called ‘hdm’\n",
     "output_type": "error",
     "traceback": [
      "Error in library(hdm): there is no package called ‘hdm’\nTraceback:\n",
      "1. library(hdm)"
     ]
    }
   ],
   "source": [
    "library(hdm)\n",
    "flex <- lwage ~ sex + shs+hsg+scl+clg+occ2+ind2+mw+so+we + (exp1+exp2+exp3+exp4)*(shs+hsg+scl+clg+occ2+ind2+mw+so+we)\n",
    "lassoreg<- rlasso(flex, data=data)\n",
    "\n",
    "sumlasso<- summary(lassoreg)\n"
   ]
  },
  {
   "cell_type": "markdown",
   "metadata": {
    "papermill": {
     "duration": 0.025742,
     "end_time": "2021-02-18T19:28:38.682013",
     "exception": false,
     "start_time": "2021-02-18T19:28:38.656271",
     "status": "completed"
    },
    "tags": []
   },
   "source": [
    "Now, we can evaluate the performance of both models based on the (adjusted) $R^2_{sample}$ and the (adjusted) $MSE_{sample}$:"
   ]
  },
  {
   "cell_type": "code",
   "execution_count": 9,
   "metadata": {
    "execution": {
     "iopub.execute_input": "2021-02-18T19:28:38.739063Z",
     "iopub.status.busy": "2021-02-18T19:28:38.737817Z",
     "iopub.status.idle": "2021-02-18T19:28:38.874632Z",
     "shell.execute_reply": "2021-02-18T19:28:38.872438Z"
    },
    "papermill": {
     "duration": 0.167022,
     "end_time": "2021-02-18T19:28:38.874828",
     "exception": false,
     "start_time": "2021-02-18T19:28:38.707806",
     "status": "completed"
    },
    "tags": []
   },
   "outputs": [
    {
     "name": "stdout",
     "output_type": "stream",
     "text": [
      "R-squared for the basic model:  0.3100465 \n",
      "adjusted R-squared for the basic model:  0.3032809 \n",
      "R-squared for the flexible model:  0.3511099 \n",
      "adjusted R-squared for the flexible model:  0.3186919 \n"
     ]
    },
    {
     "ename": "ERROR",
     "evalue": "Error in eval(expr, envir, enclos): object 'sumlasso' not found\n",
     "output_type": "error",
     "traceback": [
      "Error in eval(expr, envir, enclos): object 'sumlasso' not found\nTraceback:\n"
     ]
    }
   ],
   "source": [
    "# Assess the predictive performance\n",
    "\n",
    "sumbasic <- summary(regbasic)\n",
    "sumflex <- summary(regflex)\n",
    "\n",
    "#  R-squared \n",
    "R2.1 <- sumbasic$r.squared\n",
    "cat(\"R-squared for the basic model: \", R2.1, \"\\n\")\n",
    "R2.adj1 <- sumbasic$adj.r.squared\n",
    "cat(\"adjusted R-squared for the basic model: \", R2.adj1, \"\\n\")\n",
    "\n",
    "R2.2 <- sumflex$r.squared\n",
    "cat(\"R-squared for the flexible model: \", R2.2, \"\\n\")\n",
    "R2.adj2 <- sumflex$adj.r.squared\n",
    "cat(\"adjusted R-squared for the flexible model: \", R2.adj2, \"\\n\")\n",
    "\n",
    "R2.L <- sumlasso$r.squared\n",
    "cat(\"R-squared for the lasso with flexible model: \", R2.L, \"\\n\")\n",
    "R2.adjL <- sumlasso$adj.r.squared\n",
    "cat(\"adjusted R-squared for the flexible model: \", R2.adjL, \"\\n\")"
   ]
  },
  {
   "cell_type": "code",
   "execution_count": 10,
   "metadata": {
    "execution": {
     "iopub.execute_input": "2021-02-18T19:28:38.739063Z",
     "iopub.status.busy": "2021-02-18T19:28:38.737817Z",
     "iopub.status.idle": "2021-02-18T19:28:38.874632Z",
     "shell.execute_reply": "2021-02-18T19:28:38.872438Z"
    },
    "papermill": {
     "duration": 0.167022,
     "end_time": "2021-02-18T19:28:38.874828",
     "exception": false,
     "start_time": "2021-02-18T19:28:38.707806",
     "status": "completed"
    },
    "tags": []
   },
   "outputs": [
    {
     "name": "stdout",
     "output_type": "stream",
     "text": [
      "MSE for the basic model:  0.2244251 \n",
      "adjusted MSE for the basic model:  0.2266697 \n",
      "MSE for the flexible model:  0.2110681 \n",
      "adjusted MSE for the flexible model:  0.221656 \n"
     ]
    },
    {
     "ename": "ERROR",
     "evalue": "Error in mean(sumlasso$res^2): object 'sumlasso' not found\n",
     "output_type": "error",
     "traceback": [
      "Error in mean(sumlasso$res^2): object 'sumlasso' not found\nTraceback:\n",
      "1. mean(sumlasso$res^2)"
     ]
    }
   ],
   "source": [
    "# calculating the MSE\n",
    "MSE1 <- mean(sumbasic$res^2)\n",
    "cat(\"MSE for the basic model: \", MSE1, \"\\n\")\n",
    "p1 <- sumbasic$df[1] # number of regressors\n",
    "MSE.adj1 <- (n/(n-p1))*MSE1\n",
    "cat(\"adjusted MSE for the basic model: \", MSE.adj1, \"\\n\")\n",
    "\n",
    "MSE2 <-mean(sumflex$res^2)\n",
    "cat(\"MSE for the flexible model: \", MSE2, \"\\n\")\n",
    "p2 <- sumflex$df[1]\n",
    "MSE.adj2 <- (n/(n-p2))*MSE2\n",
    "cat(\"adjusted MSE for the flexible model: \", MSE.adj2, \"\\n\")\n",
    "\n",
    "\n",
    "MSEL <-mean(sumlasso$res^2)\n",
    "cat(\"MSE for the lasso flexible model: \", MSEL, \"\\n\")\n",
    "pL <- length(sumlasso$coef)\n",
    "MSE.adjL <- (n/(n-pL))*MSEL\n",
    "cat(\"adjusted MSE for the lasso flexible model: \", MSE.adjL, \"\\n\")"
   ]
  },
  {
   "cell_type": "code",
   "execution_count": 11,
   "metadata": {
    "execution": {
     "iopub.execute_input": "2021-02-18T19:28:38.948511Z",
     "iopub.status.busy": "2021-02-18T19:28:38.947929Z",
     "iopub.status.idle": "2021-02-18T19:28:38.984194Z",
     "shell.execute_reply": "2021-02-18T19:28:38.982978Z"
    },
    "papermill": {
     "duration": 0.070975,
     "end_time": "2021-02-18T19:28:38.984340",
     "exception": false,
     "start_time": "2021-02-18T19:28:38.913365",
     "status": "completed"
    },
    "tags": []
   },
   "outputs": [
    {
     "ename": "ERROR",
     "evalue": "Error in library(xtable): there is no package called ‘xtable’\n",
     "output_type": "error",
     "traceback": [
      "Error in library(xtable): there is no package called ‘xtable’\nTraceback:\n",
      "1. library(xtable)"
     ]
    }
   ],
   "source": [
    "library(xtable)\n",
    "table <- matrix(0, 3, 5)\n",
    "table[1,1:5]   <- c(p1,R2.1,MSE1,R2.adj1,MSE.adj1)\n",
    "table[2,1:5]   <- c(p2,R2.2,MSE2,R2.adj2,MSE.adj2)\n",
    "table[3,1:5]   <- c(pL,R2.L,MSEL,R2.adjL,MSE.adjL)\n",
    "colnames(table)<- c(\"p\",\"$R^2_{sample}$\",\"$MSE_{sample}$\",\"$R^2_{adjusted}$\", \"$MSE_{adjusted}$\")\n",
    "rownames(table)<- c(\"basic reg\",\"flexible reg\", \"lasso flex\")\n",
    "tab<- xtable(table, digits =c(0,0,2,2,2,2))\n",
    "print(tab,type=\"latex\") # type=\"latex\" for printing table in LaTeX\n",
    "tab"
   ]
  },
  {
   "cell_type": "markdown",
   "metadata": {
    "papermill": {
     "duration": 0.03068,
     "end_time": "2021-02-18T19:28:39.045901",
     "exception": false,
     "start_time": "2021-02-18T19:28:39.015221",
     "status": "completed"
    },
    "tags": []
   },
   "source": [
    "Considering all measures above, the flexible model performs slightly better than the basic model. \n",
    "\n",
    "One procedure to circumvent this issue is to use **data splitting** that is described and applied in the following."
   ]
  },
  {
   "cell_type": "markdown",
   "metadata": {
    "papermill": {
     "duration": 0.03052,
     "end_time": "2021-02-18T19:28:39.107361",
     "exception": false,
     "start_time": "2021-02-18T19:28:39.076841",
     "status": "completed"
    },
    "tags": []
   },
   "source": [
    "## Data Splitting\n",
    "\n",
    "Measure the prediction quality of the two models via data splitting:\n",
    "\n",
    "- Randomly split the data into one training sample and one testing sample. Here we just use a simple method (stratified splitting is a more sophiscticated version of splitting that we can consider).\n",
    "- Use the training sample for estimating the parameters of the Basic Model and the Flexible Model.\n",
    "- Use the testing sample for evaluation. Predict the $\\mathtt{wage}$  of every observation in the testing sample based on the estimated parameters in the training sample.\n",
    "- Calculate the Mean Squared Prediction Error $MSE_{test}$ based on the testing sample for both prediction models. "
   ]
  },
  {
   "cell_type": "code",
   "execution_count": 12,
   "metadata": {
    "execution": {
     "iopub.execute_input": "2021-02-18T19:28:39.173592Z",
     "iopub.status.busy": "2021-02-18T19:28:39.172416Z",
     "iopub.status.idle": "2021-02-18T19:28:39.191475Z",
     "shell.execute_reply": "2021-02-18T19:28:39.190390Z"
    },
    "papermill": {
     "duration": 0.053799,
     "end_time": "2021-02-18T19:28:39.191630",
     "exception": false,
     "start_time": "2021-02-18T19:28:39.137831",
     "status": "completed"
    },
    "tags": []
   },
   "outputs": [
    {
     "ename": "ERROR",
     "evalue": "Error in `[.data.frame`(data, random, ): object 'random' not found\n",
     "output_type": "error",
     "traceback": [
      "Error in `[.data.frame`(data, random, ): object 'random' not found\nTraceback:\n",
      "1. data[random, ]",
      "2. `[.data.frame`(data, random, )"
     ]
    }
   ],
   "source": [
    "#splitting the data\n",
    "\n",
    "set.seed(1) # to make the results replicable (generating random numbers)\n",
    "random_2 <- sample(1:n, floor(n*4/5))\n",
    "# draw (4/5)*n random numbers from 1 to n without replacing them\n",
    "train <- data[random,] # training sample\n",
    "test <- data[-random,] # testing sample\n",
    "dim(train)"
   ]
  },
  {
   "cell_type": "code",
   "execution_count": 13,
   "metadata": {
    "execution": {
     "iopub.execute_input": "2021-02-18T19:28:39.261214Z",
     "iopub.status.busy": "2021-02-18T19:28:39.260257Z",
     "iopub.status.idle": "2021-02-18T19:28:39.309792Z",
     "shell.execute_reply": "2021-02-18T19:28:39.306592Z"
    },
    "papermill": {
     "duration": 0.087305,
     "end_time": "2021-02-18T19:28:39.310008",
     "exception": false,
     "start_time": "2021-02-18T19:28:39.222703",
     "status": "completed"
    },
    "tags": []
   },
   "outputs": [
    {
     "ename": "ERROR",
     "evalue": "Error in is.data.frame(data): object 'train' not found\n",
     "output_type": "error",
     "traceback": [
      "Error in is.data.frame(data): object 'train' not found\nTraceback:\n",
      "1. lm(basic, data = train)",
      "2. eval(mf, parent.frame())",
      "3. eval(mf, parent.frame())",
      "4. stats::model.frame(formula = basic, data = train, drop.unused.levels = TRUE)",
      "5. model.frame.default(formula = basic, data = train, drop.unused.levels = TRUE)",
      "6. is.data.frame(data)"
     ]
    }
   ],
   "source": [
    "# basic model\n",
    "# estimating the parameters in the training sample\n",
    "regbasic <- lm(basic, data=train)\n",
    "regbasic"
   ]
  },
  {
   "cell_type": "code",
   "execution_count": 14,
   "metadata": {
    "execution": {
     "iopub.execute_input": "2021-02-18T19:28:39.261214Z",
     "iopub.status.busy": "2021-02-18T19:28:39.260257Z",
     "iopub.status.idle": "2021-02-18T19:28:39.309792Z",
     "shell.execute_reply": "2021-02-18T19:28:39.306592Z"
    },
    "papermill": {
     "duration": 0.087305,
     "end_time": "2021-02-18T19:28:39.310008",
     "exception": false,
     "start_time": "2021-02-18T19:28:39.222703",
     "status": "completed"
    },
    "tags": []
   },
   "outputs": [
    {
     "ename": "ERROR",
     "evalue": "Error in predict.lm(regbasic, newdata = test): object 'test' not found\n",
     "output_type": "error",
     "traceback": [
      "Error in predict.lm(regbasic, newdata = test): object 'test' not found\nTraceback:\n",
      "1. predict(regbasic, newdata = test)",
      "2. predict.lm(regbasic, newdata = test)"
     ]
    }
   ],
   "source": [
    "# calculating the out-of-sample MSE\n",
    "trainregbasic <- predict(regbasic, newdata=test)\n",
    "trainregbasic"
   ]
  },
  {
   "cell_type": "code",
   "execution_count": 15,
   "metadata": {
    "execution": {
     "iopub.execute_input": "2021-02-18T19:28:39.261214Z",
     "iopub.status.busy": "2021-02-18T19:28:39.260257Z",
     "iopub.status.idle": "2021-02-18T19:28:39.309792Z",
     "shell.execute_reply": "2021-02-18T19:28:39.306592Z"
    },
    "papermill": {
     "duration": 0.087305,
     "end_time": "2021-02-18T19:28:39.310008",
     "exception": false,
     "start_time": "2021-02-18T19:28:39.222703",
     "status": "completed"
    },
    "tags": []
   },
   "outputs": [
    {
     "ename": "ERROR",
     "evalue": "Error in eval(expr, envir, enclos): object 'test' not found\n",
     "output_type": "error",
     "traceback": [
      "Error in eval(expr, envir, enclos): object 'test' not found\nTraceback:\n"
     ]
    }
   ],
   "source": [
    "y.test <- log(test$wage)\n",
    "MSE.test1 <- sum((y.test-trainregbasic)^2)/length(y.test)\n",
    "R2.test1<- 1- MSE.test1/var(y.test)\n",
    "\n",
    "cat(\"Test MSE for the basic model: \", MSE.test1, \" \")\n",
    "\n",
    "cat(\"Test R2 for the basic model: \", R2.test1)"
   ]
  },
  {
   "cell_type": "markdown",
   "metadata": {
    "papermill": {
     "duration": 0.048538,
     "end_time": "2021-02-18T19:28:39.413804",
     "exception": false,
     "start_time": "2021-02-18T19:28:39.365266",
     "status": "completed"
    },
    "tags": []
   },
   "source": [
    "In the basic model, the $MSE_{test}$ is quite closed to the $MSE_{sample}$."
   ]
  },
  {
   "cell_type": "code",
   "execution_count": 16,
   "metadata": {
    "execution": {
     "iopub.execute_input": "2021-02-18T19:28:39.481857Z",
     "iopub.status.busy": "2021-02-18T19:28:39.480606Z",
     "iopub.status.idle": "2021-02-18T19:28:39.623819Z",
     "shell.execute_reply": "2021-02-18T19:28:39.621785Z"
    },
    "papermill": {
     "duration": 0.17873,
     "end_time": "2021-02-18T19:28:39.624018",
     "exception": false,
     "start_time": "2021-02-18T19:28:39.445288",
     "status": "completed"
    },
    "tags": []
   },
   "outputs": [
    {
     "ename": "ERROR",
     "evalue": "Error in is.data.frame(data): object 'train' not found\n",
     "output_type": "error",
     "traceback": [
      "Error in is.data.frame(data): object 'train' not found\nTraceback:\n",
      "1. lm(flex, data = train)",
      "2. eval(mf, parent.frame())",
      "3. eval(mf, parent.frame())",
      "4. stats::model.frame(formula = flex, data = train, drop.unused.levels = TRUE)",
      "5. model.frame.default(formula = flex, data = train, drop.unused.levels = TRUE)",
      "6. is.data.frame(data)"
     ]
    }
   ],
   "source": [
    "# flexible model\n",
    "# estimating the parameters\n",
    "#options(warn=-1)\n",
    "regflex <- lm(flex, data=train)\n",
    "\n",
    "# calculating the out-of-sample MSE\n",
    "trainregflex<- predict(regflex, newdata=test)\n",
    "y.test <- log(test$wage)\n",
    "MSE.test2 <- sum((y.test-trainregflex)^2)/length(y.test)\n",
    "R2.test2<- 1- MSE.test2/var(y.test)\n",
    "\n",
    "cat(\"Test MSE for the flexible model: \", MSE.test2, \" \")\n",
    "\n",
    "cat(\"Test R2 for the flexible model: \", R2.test2)"
   ]
  },
  {
   "cell_type": "code",
   "execution_count": 17,
   "metadata": {},
   "outputs": [
    {
     "ename": "ERROR",
     "evalue": "Error in eval(expr, envir, enclos): object 'y.test' not found\n",
     "output_type": "error",
     "traceback": [
      "Error in eval(expr, envir, enclos): object 'y.test' not found\nTraceback:\n"
     ]
    }
   ],
   "source": [
    "length(y.test)"
   ]
  },
  {
   "cell_type": "markdown",
   "metadata": {
    "papermill": {
     "duration": 0.050246,
     "end_time": "2021-02-18T19:28:39.732065",
     "exception": false,
     "start_time": "2021-02-18T19:28:39.681819",
     "status": "completed"
    },
    "tags": []
   },
   "source": [
    "In the flexible model, the discrepancy between the $MSE_{test}$ and the $MSE_{sample}$ is not large."
   ]
  },
  {
   "cell_type": "markdown",
   "metadata": {
    "papermill": {
     "duration": 0.032619,
     "end_time": "2021-02-18T19:28:39.797362",
     "exception": false,
     "start_time": "2021-02-18T19:28:39.764743",
     "status": "completed"
    },
    "tags": []
   },
   "source": [
    "It is worth to notice that the $MSE_{test}$ vary across different data splits. Hence, it is a good idea average the out-of-sample MSE over different data splits to get valid results.\n",
    "\n",
    "Nevertheless, we observe that, based on the out-of-sample $MSE$, the basic model using ols regression performs is about as well (or slightly better) than the flexible model. \n",
    "\n",
    "\n",
    "Next, let us use lasso regression in the flexible model instead of ols regression. Lasso (*least absolute shrinkage and selection operator*) is a penalized regression method that can be used to reduce the complexity of a regression model when the number of regressors $p$ is relatively large in relation to $n$. \n",
    "\n",
    "Note that the out-of-sample $MSE$ on the test sample can be computed for any other black-box prediction method as well. Thus, let us finally compare the performance of lasso regression in the flexible model to ols regression."
   ]
  },
  {
   "cell_type": "code",
   "execution_count": 18,
   "metadata": {
    "execution": {
     "iopub.execute_input": "2021-02-18T19:28:39.867955Z",
     "iopub.status.busy": "2021-02-18T19:28:39.866685Z",
     "iopub.status.idle": "2021-02-18T19:28:41.859918Z",
     "shell.execute_reply": "2021-02-18T19:28:41.858252Z"
    },
    "papermill": {
     "duration": 2.030191,
     "end_time": "2021-02-18T19:28:41.860172",
     "exception": false,
     "start_time": "2021-02-18T19:28:39.829981",
     "status": "completed"
    },
    "tags": []
   },
   "outputs": [
    {
     "ename": "ERROR",
     "evalue": "Error in library(hdm): there is no package called ‘hdm’\n",
     "output_type": "error",
     "traceback": [
      "Error in library(hdm): there is no package called ‘hdm’\nTraceback:\n",
      "1. library(hdm)"
     ]
    }
   ],
   "source": [
    "# flexible model using lasso\n",
    "\n",
    "# estimating the parameters\n",
    "library(hdm)\n",
    "reglasso <- rlasso(flex, data=train, post=FALSE)\n",
    "\n",
    "# calculating the out-of-sample MSE\n",
    "trainreglasso<- predict(reglasso, newdata=test)\n",
    "MSE.lasso <- sum((y.test-trainreglasso)^2)/length(y.test)\n",
    "R2.lasso<- 1- MSE.lasso/var(y.test)\n",
    "\n",
    "\n",
    "cat(\"Test MSE for the lasso on flexible model: \", MSE.lasso, \" \")\n",
    "\n",
    "cat(\"Test R2 for the lasso flexible model: \", R2.lasso)"
   ]
  },
  {
   "cell_type": "markdown",
   "metadata": {
    "papermill": {
     "duration": 0.052309,
     "end_time": "2021-02-18T19:28:41.975337",
     "exception": false,
     "start_time": "2021-02-18T19:28:41.923028",
     "status": "completed"
    },
    "tags": []
   },
   "source": [
    "Finally, let us summarize the results:"
   ]
  },
  {
   "cell_type": "code",
   "execution_count": 19,
   "metadata": {
    "execution": {
     "iopub.execute_input": "2021-02-18T19:28:42.046887Z",
     "iopub.status.busy": "2021-02-18T19:28:42.045718Z",
     "iopub.status.idle": "2021-02-18T19:28:42.079375Z",
     "shell.execute_reply": "2021-02-18T19:28:42.078267Z"
    },
    "papermill": {
     "duration": 0.070703,
     "end_time": "2021-02-18T19:28:42.079561",
     "exception": false,
     "start_time": "2021-02-18T19:28:42.008858",
     "status": "completed"
    },
    "tags": []
   },
   "outputs": [
    {
     "ename": "ERROR",
     "evalue": "Error in eval(expr, envir, enclos): object 'MSE.test1' not found\n",
     "output_type": "error",
     "traceback": [
      "Error in eval(expr, envir, enclos): object 'MSE.test1' not found\nTraceback:\n"
     ]
    }
   ],
   "source": [
    "table2 <- matrix(0, 3,2)\n",
    "table2[1,1]   <- MSE.test1\n",
    "table2[2,1]   <- MSE.test2\n",
    "table2[3,1]   <- MSE.lasso\n",
    "table2[1,2]   <- R2.test1\n",
    "table2[2,2]   <- R2.test2\n",
    "table2[3,2]   <- R2.lasso\n",
    "\n",
    "rownames(table2)<- c(\"basic reg\",\"flexible reg\",\"lasso regression\")\n",
    "colnames(table2)<- c(\"$MSE_{test}$\", \"$R^2_{test}$\")\n",
    "tab2 <- xtable(table2, digits =3)\n",
    "tab2"
   ]
  },
  {
   "cell_type": "code",
   "execution_count": 20,
   "metadata": {
    "execution": {
     "iopub.execute_input": "2021-02-18T19:28:42.152462Z",
     "iopub.status.busy": "2021-02-18T19:28:42.151344Z",
     "iopub.status.idle": "2021-02-18T19:28:42.165928Z",
     "shell.execute_reply": "2021-02-18T19:28:42.164837Z"
    },
    "papermill": {
     "duration": 0.052181,
     "end_time": "2021-02-18T19:28:42.166072",
     "exception": false,
     "start_time": "2021-02-18T19:28:42.113891",
     "status": "completed"
    },
    "tags": []
   },
   "outputs": [
    {
     "ename": "ERROR",
     "evalue": "Error in print(tab2, type = \"latex\"): object 'tab2' not found\n",
     "output_type": "error",
     "traceback": [
      "Error in print(tab2, type = \"latex\"): object 'tab2' not found\nTraceback:\n",
      "1. print(tab2, type = \"latex\")"
     ]
    }
   ],
   "source": [
    "print(tab2,type=\"latex\") # type=\"latex\" for printing table in LaTeX"
   ]
  },
  {
   "cell_type": "code",
   "execution_count": null,
   "metadata": {},
   "outputs": [],
   "source": []
  },
  {
   "cell_type": "code",
   "execution_count": null,
   "metadata": {},
   "outputs": [],
   "source": []
  }
 ],
 "metadata": {
  "kernelspec": {
   "display_name": "R",
   "language": "R",
   "name": "ir"
  },
  "language_info": {
   "codemirror_mode": "r",
   "file_extension": ".r",
   "mimetype": "text/x-r-source",
   "name": "R",
   "pygments_lexer": "r",
   "version": "4.0.4"
  },
  "papermill": {
   "default_parameters": {},
   "duration": 15.121246,
   "end_time": "2021-02-18T19:28:42.309027",
   "environment_variables": {},
   "exception": null,
   "input_path": "__notebook__.ipynb",
   "output_path": "__notebook__.ipynb",
   "parameters": {},
   "start_time": "2021-02-18T19:28:27.187781",
   "version": "2.2.2"
  }
 },
 "nbformat": 4,
 "nbformat_minor": 4
}
