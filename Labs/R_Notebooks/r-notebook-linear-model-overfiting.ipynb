{
 "cells": [
  {
   "cell_type": "markdown",
   "metadata": {
    "_execution_state": "idle",
    "_uuid": "051d70d956493feee0c6d64651c6a088724dca2a",
    "papermill": {
     "duration": 0.005457,
     "end_time": "2021-02-10T13:42:51.332609",
     "exception": false,
     "start_time": "2021-02-10T13:42:51.327152",
     "status": "completed"
    },
    "tags": []
   },
   "source": [
    "# Simple Exercise on Overfitting\n"
   ]
  },
  {
   "cell_type": "markdown",
   "metadata": {
    "papermill": {
     "duration": 0.004206,
     "end_time": "2021-02-10T13:42:51.341392",
     "exception": false,
     "start_time": "2021-02-10T13:42:51.337186",
     "status": "completed"
    },
    "tags": []
   },
   "source": [
    "First set p=n"
   ]
  },
  {
   "cell_type": "code",
   "execution_count": 3,
   "metadata": {
    "execution": {
     "iopub.execute_input": "2021-02-10T13:42:51.382009Z",
     "iopub.status.busy": "2021-02-10T13:42:51.379976Z",
     "iopub.status.idle": "2021-02-10T13:42:52.344009Z",
     "shell.execute_reply": "2021-02-10T13:42:52.341683Z"
    },
    "papermill": {
     "duration": 0.998738,
     "end_time": "2021-02-10T13:42:52.344388",
     "exception": false,
     "start_time": "2021-02-10T13:42:51.345650",
     "status": "completed"
    },
    "tags": []
   },
   "outputs": [
    {
     "name": "stdout",
     "output_type": "stream",
     "text": [
      "[1] \"p/n is\"\n",
      "[1] 1\n",
      "[1] \"R2 is\"\n",
      "[1] 1\n",
      "[1] \"Adjusted R2 is\"\n",
      "[1] NaN\n"
     ]
    }
   ],
   "source": [
    "\n",
    "set.seed(123)\n",
    "n = 1000\n",
    "\n",
    "p = n\n",
    "X<- matrix(rnorm(n*p), n, p)\n",
    "Y<- rnorm(n)\n",
    "\n",
    "print(\"p/n is\")\n",
    "print(p/n)\n",
    "print(\"R2 is\")\n",
    "print(summary(lm(Y~X))$r.squared)\n",
    "print(\"Adjusted R2 is\")\n",
    "print(summary(lm(Y~X))$adj.r.squared)\n"
   ]
  },
  {
   "cell_type": "markdown",
   "metadata": {
    "papermill": {
     "duration": 0.01172,
     "end_time": "2021-02-10T13:42:52.368270",
     "exception": false,
     "start_time": "2021-02-10T13:42:52.356550",
     "status": "completed"
    },
    "tags": []
   },
   "source": [
    "Second, set p=n/2."
   ]
  },
  {
   "cell_type": "code",
   "execution_count": 4,
   "metadata": {
    "execution": {
     "iopub.execute_input": "2021-02-10T13:42:52.445550Z",
     "iopub.status.busy": "2021-02-10T13:42:52.396529Z",
     "iopub.status.idle": "2021-02-10T13:42:52.825084Z",
     "shell.execute_reply": "2021-02-10T13:42:52.823312Z"
    },
    "papermill": {
     "duration": 0.44549,
     "end_time": "2021-02-10T13:42:52.825350",
     "exception": false,
     "start_time": "2021-02-10T13:42:52.379860",
     "status": "completed"
    },
    "tags": []
   },
   "outputs": [
    {
     "name": "stdout",
     "output_type": "stream",
     "text": [
      "[1] \"p/n is\"\n",
      "[1] 0.5\n",
      "[1] \"R2 is\"\n",
      "[1] 0.4922339\n",
      "[1] \"Adjusted R2 is\"\n",
      "[1] -0.01654975\n"
     ]
    }
   ],
   "source": [
    "\n",
    "set.seed(123)\n",
    "n = 1000\n",
    "\n",
    "p = n/2\n",
    "X<- matrix(rnorm(n*p), n, p)\n",
    "Y<- rnorm(n)\n",
    "\n",
    "print(\"p/n is\")\n",
    "print(p/n)\n",
    "print(\"R2 is\")\n",
    "print(summary(lm(Y~X))$r.squared)\n",
    "print(\"Adjusted R2 is\")\n",
    "print(summary(lm(Y~X))$adj.r.squared)\n"
   ]
  },
  {
   "cell_type": "markdown",
   "metadata": {
    "papermill": {
     "duration": 0.014033,
     "end_time": "2021-02-10T13:42:52.853906",
     "exception": false,
     "start_time": "2021-02-10T13:42:52.839873",
     "status": "completed"
    },
    "tags": []
   },
   "source": [
    "Third, set p/n =.05"
   ]
  },
  {
   "cell_type": "code",
   "execution_count": 5,
   "metadata": {
    "execution": {
     "iopub.execute_input": "2021-02-10T13:42:52.890299Z",
     "iopub.status.busy": "2021-02-10T13:42:52.887839Z",
     "iopub.status.idle": "2021-02-10T13:42:52.971619Z",
     "shell.execute_reply": "2021-02-10T13:42:52.970095Z"
    },
    "papermill": {
     "duration": 0.103451,
     "end_time": "2021-02-10T13:42:52.971828",
     "exception": false,
     "start_time": "2021-02-10T13:42:52.868377",
     "status": "completed"
    },
    "tags": []
   },
   "outputs": [
    {
     "name": "stdout",
     "output_type": "stream",
     "text": [
      "[1] \"p/n is\"\n",
      "[1] 0.05\n",
      "[1] \"R2 is\"\n",
      "[1] 0.04295907\n",
      "[1] \"Adjusted R2 is\"\n",
      "[1] -0.00746458\n"
     ]
    }
   ],
   "source": [
    "\n",
    "set.seed(123)\n",
    "n = 1000\n",
    "\n",
    "p = .05*n\n",
    "X<- matrix(rnorm(n*p), n, p)\n",
    "Y<- rnorm(n)\n",
    "\n",
    "print(\"p/n is\")\n",
    "print(p/n)\n",
    "print(\"R2 is\")\n",
    "print(summary(lm(Y~X))$r.squared)\n",
    "print(\"Adjusted R2 is\")\n",
    "print(summary(lm(Y~X))$adj.r.squared)\n",
    "\n"
   ]
  },
  {
   "cell_type": "code",
   "execution_count": null,
   "metadata": {},
   "outputs": [],
   "source": []
  }
 ],
 "metadata": {
  "kernelspec": {
   "display_name": "R",
   "language": "R",
   "name": "ir"
  },
  "language_info": {
   "codemirror_mode": "r",
   "file_extension": ".r",
   "mimetype": "text/x-r-source",
   "name": "R",
   "pygments_lexer": "r",
   "version": "3.6.1"
  },
  "papermill": {
   "default_parameters": {},
   "duration": 4.940504,
   "end_time": "2021-02-10T13:42:53.102123",
   "environment_variables": {},
   "exception": null,
   "input_path": "__notebook__.ipynb",
   "output_path": "__notebook__.ipynb",
   "parameters": {},
   "start_time": "2021-02-10T13:42:48.161619",
   "version": "2.2.2"
  }
 },
 "nbformat": 4,
 "nbformat_minor": 4
}
